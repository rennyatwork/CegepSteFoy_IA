{
 "cells": [
  {
   "cell_type": "code",
   "execution_count": 2,
   "metadata": {},
   "outputs": [],
   "source": [
    "# -*- coding: utf-8 -*-\n",
    "\"\"\"\n",
    "Created on Sat Apr  3 09:14:44 2021\n",
    "\n",
    "@author: pmarc\n",
    "\"\"\"\n",
    "\n",
    "import numpy as np\n",
    "import pandas as pd\n",
    "import matplotlib.pyplot as plt\n",
    "from sklearn.neighbors import KernelDensity\n",
    "\n",
    "donnee = pd.read_csv('../Fichiers/DonneesFumeursv0r2.csv')\n",
    "stats=donnee.describe()\n",
    "dimensions=donnee.shape\n",
    "nomsvariables = pd.DataFrame(donnee.columns)\n",
    "\n"
   ]
  },
  {
   "cell_type": "code",
   "execution_count": 3,
   "metadata": {},
   "outputs": [],
   "source": [
    "\n",
    "\n",
    "\"Théorème de Bayes\"\n",
    "\n",
    "\n",
    "Travailleurs_fumeurs=donnee[(donnee[\"Fumeur?\"] == 'Oui')] \n",
    "Travailleurs_dans_quarantaine = donnee[((donnee[\"Âge\"] <= 49) & (donnee[\"Âge\"] >= 40))]\n",
    "Fumeurs_dans_quarantaine=donnee[((donnee[\"Fumeur?\"] == 'Oui') & (donnee[\"Âge\"] <= 49) & (donnee[\"Âge\"] >= 40))]\n",
    "\n",
    "P_fumeurs = Travailleurs_fumeurs.shape[0]/donnee.shape[0]\n",
    "P_quarantaine = Travailleurs_dans_quarantaine.shape[0]/donnee.shape[0]\n",
    "Prob_quarantaine_étant_fumeur = Fumeurs_dans_quarantaine.shape[0]/Travailleurs_fumeurs.shape[0]\n",
    "\n",
    "\n",
    "Prob_fumeur_étant_quarantaine = Prob_quarantaine_étant_fumeur*P_fumeurs/P_quarantaine\n",
    "\n",
    "Prob_fumeur_étant_quarantaine_theo = Fumeurs_dans_quarantaine.shape[0]/Travailleurs_dans_quarantaine.shape[0]\n",
    "\n",
    "\n",
    "\n"
   ]
  },
  {
   "cell_type": "code",
   "execution_count": 7,
   "metadata": {},
   "outputs": [
    {
     "data": {
      "text/plain": [
       "2"
      ]
     },
     "execution_count": 7,
     "metadata": {},
     "output_type": "execute_result"
    }
   ],
   "source": [
    "len(Travailleurs_fumeurs.shape)"
   ]
  }
 ],
 "metadata": {
  "kernelspec": {
   "display_name": "Python 3.8.10 64-bit",
   "language": "python",
   "name": "python3"
  },
  "language_info": {
   "codemirror_mode": {
    "name": "ipython",
    "version": 3
   },
   "file_extension": ".py",
   "mimetype": "text/x-python",
   "name": "python",
   "nbconvert_exporter": "python",
   "pygments_lexer": "ipython3",
   "version": "3.11.0"
  },
  "orig_nbformat": 4,
  "vscode": {
   "interpreter": {
    "hash": "31f2aee4e71d21fbe5cf8b01ff0e069b9275f58929596ceb00d14d90e3e16cd6"
   }
  }
 },
 "nbformat": 4,
 "nbformat_minor": 2
}
