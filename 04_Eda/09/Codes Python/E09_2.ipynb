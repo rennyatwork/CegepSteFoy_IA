{
 "cells": [
  {
   "cell_type": "code",
   "execution_count": 1,
   "metadata": {},
   "outputs": [],
   "source": [
    "import numpy as np\n",
    "import pandas as pd\n",
    "import matplotlib.pyplot as plt\n",
    "from sklearn.neighbors import KernelDensity"
   ]
  },
  {
   "cell_type": "code",
   "execution_count": 2,
   "metadata": {},
   "outputs": [
    {
     "name": "stdout",
     "output_type": "stream",
     "text": [
      "Using matplotlib backend: GTK3Agg\n"
     ]
    }
   ],
   "source": [
    "%matplotlib"
   ]
  },
  {
   "cell_type": "code",
   "execution_count": 3,
   "metadata": {},
   "outputs": [
    {
     "data": {
      "text/html": [
       "<div>\n",
       "<style scoped>\n",
       "    .dataframe tbody tr th:only-of-type {\n",
       "        vertical-align: middle;\n",
       "    }\n",
       "\n",
       "    .dataframe tbody tr th {\n",
       "        vertical-align: top;\n",
       "    }\n",
       "\n",
       "    .dataframe thead th {\n",
       "        text-align: right;\n",
       "    }\n",
       "</style>\n",
       "<table border=\"1\" class=\"dataframe\">\n",
       "  <thead>\n",
       "    <tr style=\"text-align: right;\">\n",
       "      <th></th>\n",
       "      <th>Âge</th>\n",
       "      <th>Cigarettes par jour (week-end)</th>\n",
       "      <th>Cigarettes par jour (semaine)</th>\n",
       "    </tr>\n",
       "  </thead>\n",
       "  <tbody>\n",
       "    <tr>\n",
       "      <th>count</th>\n",
       "      <td>1691.000000</td>\n",
       "      <td>1691.000000</td>\n",
       "      <td>1691.000000</td>\n",
       "    </tr>\n",
       "    <tr>\n",
       "      <th>mean</th>\n",
       "      <td>49.836192</td>\n",
       "      <td>4.085748</td>\n",
       "      <td>3.423418</td>\n",
       "    </tr>\n",
       "    <tr>\n",
       "      <th>std</th>\n",
       "      <td>18.736851</td>\n",
       "      <td>8.643517</td>\n",
       "      <td>7.568341</td>\n",
       "    </tr>\n",
       "    <tr>\n",
       "      <th>min</th>\n",
       "      <td>16.000000</td>\n",
       "      <td>0.000000</td>\n",
       "      <td>0.000000</td>\n",
       "    </tr>\n",
       "    <tr>\n",
       "      <th>25%</th>\n",
       "      <td>34.000000</td>\n",
       "      <td>0.000000</td>\n",
       "      <td>0.000000</td>\n",
       "    </tr>\n",
       "    <tr>\n",
       "      <th>50%</th>\n",
       "      <td>48.000000</td>\n",
       "      <td>0.000000</td>\n",
       "      <td>0.000000</td>\n",
       "    </tr>\n",
       "    <tr>\n",
       "      <th>75%</th>\n",
       "      <td>65.500000</td>\n",
       "      <td>0.000000</td>\n",
       "      <td>0.000000</td>\n",
       "    </tr>\n",
       "    <tr>\n",
       "      <th>max</th>\n",
       "      <td>97.000000</td>\n",
       "      <td>60.000000</td>\n",
       "      <td>55.000000</td>\n",
       "    </tr>\n",
       "  </tbody>\n",
       "</table>\n",
       "</div>"
      ],
      "text/plain": [
       "               Âge  Cigarettes par jour (week-end)  \\\n",
       "count  1691.000000                     1691.000000   \n",
       "mean     49.836192                        4.085748   \n",
       "std      18.736851                        8.643517   \n",
       "min      16.000000                        0.000000   \n",
       "25%      34.000000                        0.000000   \n",
       "50%      48.000000                        0.000000   \n",
       "75%      65.500000                        0.000000   \n",
       "max      97.000000                       60.000000   \n",
       "\n",
       "       Cigarettes par jour (semaine)  \n",
       "count                    1691.000000  \n",
       "mean                        3.423418  \n",
       "std                         7.568341  \n",
       "min                         0.000000  \n",
       "25%                         0.000000  \n",
       "50%                         0.000000  \n",
       "75%                         0.000000  \n",
       "max                        55.000000  "
      ]
     },
     "execution_count": 3,
     "metadata": {},
     "output_type": "execute_result"
    }
   ],
   "source": [
    "donnee = pd.read_csv('../Fichiers/DonneesFumeursv0r2.csv')\n",
    "stats=donnee.describe()\n",
    "dimensions=donnee.shape\n",
    "nomsvariables = pd.DataFrame(donnee.columns)\n",
    "stats"
   ]
  },
  {
   "cell_type": "code",
   "execution_count": 4,
   "metadata": {},
   "outputs": [
    {
     "data": {
      "text/plain": [
       "Genre                                0\n",
       "Âge                                  0\n",
       "Statut                               0\n",
       "Revenus                            126\n",
       "Fumeur?                              0\n",
       "Cigarettes par jour (week-end)       0\n",
       "Cigarettes par jour (semaine)        0\n",
       "Type                              1270\n",
       "dtype: int64"
      ]
     },
     "execution_count": 4,
     "metadata": {},
     "output_type": "execute_result"
    }
   ],
   "source": [
    "donnee.isnull().sum()"
   ]
  },
  {
   "cell_type": "code",
   "execution_count": 5,
   "metadata": {},
   "outputs": [
    {
     "data": {
      "text/plain": [
       "126"
      ]
     },
     "execution_count": 5,
     "metadata": {},
     "output_type": "execute_result"
    }
   ],
   "source": [
    "len(donnee[donnee.Revenus.isnull()])"
   ]
  },
  {
   "cell_type": "code",
   "execution_count": 6,
   "metadata": {},
   "outputs": [
    {
     "data": {
      "text/plain": [
       "Genre                                0\n",
       "Âge                                  0\n",
       "Statut                               0\n",
       "Revenus                            126\n",
       "Fumeur?                              0\n",
       "Cigarettes par jour (week-end)       0\n",
       "Cigarettes par jour (semaine)        0\n",
       "Type                              1270\n",
       "dtype: int64"
      ]
     },
     "execution_count": 6,
     "metadata": {},
     "output_type": "execute_result"
    }
   ],
   "source": [
    "donnee.isna().sum()"
   ]
  },
  {
   "cell_type": "code",
   "execution_count": 7,
   "metadata": {},
   "outputs": [],
   "source": [
    "dfSansNa = donnee.drop('Type', axis=1)"
   ]
  },
  {
   "cell_type": "code",
   "execution_count": 8,
   "metadata": {},
   "outputs": [
    {
     "data": {
      "text/plain": [
       "Genre                               0\n",
       "Âge                                 0\n",
       "Statut                              0\n",
       "Revenus                           126\n",
       "Fumeur?                             0\n",
       "Cigarettes par jour (week-end)      0\n",
       "Cigarettes par jour (semaine)       0\n",
       "dtype: int64"
      ]
     },
     "execution_count": 8,
     "metadata": {},
     "output_type": "execute_result"
    }
   ],
   "source": [
    "dfSansNa.isnull().sum()"
   ]
  },
  {
   "cell_type": "code",
   "execution_count": 9,
   "metadata": {},
   "outputs": [],
   "source": [
    "dfSansNa.dropna(inplace=True)"
   ]
  },
  {
   "cell_type": "code",
   "execution_count": 10,
   "metadata": {},
   "outputs": [
    {
     "data": {
      "text/html": [
       "<div>\n",
       "<style scoped>\n",
       "    .dataframe tbody tr th:only-of-type {\n",
       "        vertical-align: middle;\n",
       "    }\n",
       "\n",
       "    .dataframe tbody tr th {\n",
       "        vertical-align: top;\n",
       "    }\n",
       "\n",
       "    .dataframe thead th {\n",
       "        text-align: right;\n",
       "    }\n",
       "</style>\n",
       "<table border=\"1\" class=\"dataframe\">\n",
       "  <thead>\n",
       "    <tr style=\"text-align: right;\">\n",
       "      <th></th>\n",
       "      <th>Âge</th>\n",
       "      <th>Cigarettes par jour (week-end)</th>\n",
       "      <th>Cigarettes par jour (semaine)</th>\n",
       "    </tr>\n",
       "  </thead>\n",
       "  <tbody>\n",
       "    <tr>\n",
       "      <th>count</th>\n",
       "      <td>1565.000000</td>\n",
       "      <td>1565.000000</td>\n",
       "      <td>1565.000000</td>\n",
       "    </tr>\n",
       "    <tr>\n",
       "      <th>mean</th>\n",
       "      <td>49.609585</td>\n",
       "      <td>4.192332</td>\n",
       "      <td>3.494569</td>\n",
       "    </tr>\n",
       "    <tr>\n",
       "      <th>std</th>\n",
       "      <td>18.444783</td>\n",
       "      <td>8.756989</td>\n",
       "      <td>7.669116</td>\n",
       "    </tr>\n",
       "    <tr>\n",
       "      <th>min</th>\n",
       "      <td>16.000000</td>\n",
       "      <td>0.000000</td>\n",
       "      <td>0.000000</td>\n",
       "    </tr>\n",
       "    <tr>\n",
       "      <th>25%</th>\n",
       "      <td>34.000000</td>\n",
       "      <td>0.000000</td>\n",
       "      <td>0.000000</td>\n",
       "    </tr>\n",
       "    <tr>\n",
       "      <th>50%</th>\n",
       "      <td>47.000000</td>\n",
       "      <td>0.000000</td>\n",
       "      <td>0.000000</td>\n",
       "    </tr>\n",
       "    <tr>\n",
       "      <th>75%</th>\n",
       "      <td>65.000000</td>\n",
       "      <td>1.000000</td>\n",
       "      <td>0.000000</td>\n",
       "    </tr>\n",
       "    <tr>\n",
       "      <th>max</th>\n",
       "      <td>97.000000</td>\n",
       "      <td>60.000000</td>\n",
       "      <td>55.000000</td>\n",
       "    </tr>\n",
       "  </tbody>\n",
       "</table>\n",
       "</div>"
      ],
      "text/plain": [
       "               Âge  Cigarettes par jour (week-end)  \\\n",
       "count  1565.000000                     1565.000000   \n",
       "mean     49.609585                        4.192332   \n",
       "std      18.444783                        8.756989   \n",
       "min      16.000000                        0.000000   \n",
       "25%      34.000000                        0.000000   \n",
       "50%      47.000000                        0.000000   \n",
       "75%      65.000000                        1.000000   \n",
       "max      97.000000                       60.000000   \n",
       "\n",
       "       Cigarettes par jour (semaine)  \n",
       "count                    1565.000000  \n",
       "mean                        3.494569  \n",
       "std                         7.669116  \n",
       "min                         0.000000  \n",
       "25%                         0.000000  \n",
       "50%                         0.000000  \n",
       "75%                         0.000000  \n",
       "max                        55.000000  "
      ]
     },
     "execution_count": 10,
     "metadata": {},
     "output_type": "execute_result"
    }
   ],
   "source": [
    "dfSansNa.describe()"
   ]
  },
  {
   "cell_type": "markdown",
   "metadata": {},
   "source": [
    "\"Génération des histogrammes et fonction de densité\""
   ]
  },
  {
   "cell_type": "code",
   "execution_count": 11,
   "metadata": {},
   "outputs": [
    {
     "data": {
      "text/plain": [
       "Text(0.5, 0, 'Âge')"
      ]
     },
     "execution_count": 11,
     "metadata": {},
     "output_type": "execute_result"
    }
   ],
   "source": [
    "ax=donnee[\"Âge\"].plot.hist(density=False, bins = 10, color = 'blue', edgecolor = 'black')\n",
    "ax.set_xlabel(\"Âge\")\n"
   ]
  },
  {
   "cell_type": "code",
   "execution_count": 12,
   "metadata": {},
   "outputs": [
    {
     "data": {
      "text/plain": [
       "Text(38.347222222222214, 0.5, 'Probabilités')"
      ]
     },
     "execution_count": 12,
     "metadata": {},
     "output_type": "execute_result"
    }
   ],
   "source": [
    "\n",
    "ax=donnee[\"Âge\"].plot.hist(density=True, bins = 10, color = 'blue', edgecolor = 'black')\n",
    "ax.set_xlabel(\"Âge\")\n",
    "ax.set_ylabel(\"Probabilités\")"
   ]
  },
  {
   "cell_type": "code",
   "execution_count": 13,
   "metadata": {},
   "outputs": [],
   "source": [
    "## d = num de segmentos da linha\n",
    "d=50\n",
    "grille_x = np.linspace(donnee[\"Âge\"].min()-10, donnee[\"Âge\"].max()+10, d)\n",
    "dx=(donnee[\"Âge\"].max()+10-(donnee[\"Âge\"].min()-10))/(d-1)\n",
    "Age_valeurs=donnee[\"Âge\"].values.reshape(-1, 1)\n",
    "## bandwith: qto maior, mais imprecisa é a linha\n",
    "kde = KernelDensity(kernel='gaussian', bandwidth=10).fit(Age_valeurs)\n",
    "\n",
    "TEST=kde.score_samples(grille_x.reshape(-1, 1))\n",
    "pdf = np.exp(kde.score_samples(grille_x.reshape(-1, 1)))"
   ]
  },
  {
   "cell_type": "code",
   "execution_count": 14,
   "metadata": {},
   "outputs": [
    {
     "data": {
      "text/plain": [
       "Text(0, 0.5, 'Fonction de densité f(x)')"
      ]
     },
     "execution_count": 14,
     "metadata": {},
     "output_type": "execute_result"
    }
   ],
   "source": [
    "fig, ax = plt.subplots()\n",
    "ax=donnee[\"Âge\"].plot.hist(density=True, bins = 10, color = 'blue', edgecolor = 'black')\n",
    "ax.set_xlabel(\"Âge\")\n",
    "ax.plot(grille_x, pdf, linewidth=3, color = 'red')\n",
    "ax.set_ylabel(\"Fonction de densité f(x)\")\n",
    "\n",
    "#print((pdf*dx).sum())"
   ]
  },
  {
   "cell_type": "markdown",
   "metadata": {},
   "source": [
    "Cumulativa"
   ]
  },
  {
   "cell_type": "code",
   "execution_count": 15,
   "metadata": {},
   "outputs": [
    {
     "data": {
      "text/plain": [
       "Text(0, 0.5, 'Fonction cumulative F(x)')"
      ]
     },
     "execution_count": 15,
     "metadata": {},
     "output_type": "execute_result"
    }
   ],
   "source": [
    "fig, ax = plt.subplots()\n",
    "donnee[\"Âge\"].hist(cumulative=True, density=1, bins=10)\n",
    "cdf = np.cumsum(pdf*dx)\n",
    "ax.plot(grille_x, cdf, linewidth=3, color = 'red')\n",
    "ax.set_xlabel(\"Âge\")\n",
    "ax.set_ylabel(\"Fonction cumulative F(x)\")"
   ]
  },
  {
   "cell_type": "code",
   "execution_count": 16,
   "metadata": {},
   "outputs": [],
   "source": [
    "grille_x_pd=pd.DataFrame(grille_x)\n",
    "grille_x_pd.columns=[\"Âges\"]\n",
    "pdf_pd=pd.DataFrame(pdf)\n",
    "pdf_pd.columns=[\"PDF\"]\n",
    "cdf_pd=pd.DataFrame(cdf)\n",
    "cdf_pd.columns=[\"CDF\"]\n",
    "DistAge=pd.concat([grille_x_pd,pdf_pd,cdf_pd],axis=1)"
   ]
  },
  {
   "cell_type": "code",
   "execution_count": 17,
   "metadata": {},
   "outputs": [],
   "source": [
    "Prob_moins_40=DistAge[\"PDF\"][DistAge[\"Âges\"]<=40].sum()*dx"
   ]
  },
  {
   "cell_type": "markdown",
   "metadata": {},
   "source": [
    "Seaborn"
   ]
  },
  {
   "cell_type": "code",
   "execution_count": 18,
   "metadata": {},
   "outputs": [
    {
     "name": "stdout",
     "output_type": "stream",
     "text": [
      "Using matplotlib backend: GTK3Agg\n"
     ]
    }
   ],
   "source": [
    "import seaborn as sns\n",
    "%matplotlib"
   ]
  },
  {
   "cell_type": "code",
   "execution_count": 19,
   "metadata": {},
   "outputs": [
    {
     "data": {
      "text/plain": [
       "<AxesSubplot:xlabel='Âge', ylabel='Density'>"
      ]
     },
     "execution_count": 19,
     "metadata": {},
     "output_type": "execute_result"
    }
   ],
   "source": [
    "sns.kdeplot(donnee[\"Âge\"], fill=True, bw_adjust=True)"
   ]
  },
  {
   "cell_type": "code",
   "execution_count": 20,
   "metadata": {},
   "outputs": [],
   "source": [
    "import scipy.stats as sts\n",
    "import statsmodels.api as stm"
   ]
  },
  {
   "cell_type": "code",
   "execution_count": 23,
   "metadata": {},
   "outputs": [
    {
     "data": {
      "image/png": "[encoded data removed]",
      "text/plain": [
       "<Figure size 640x480 with 1 Axes>"
      ]
     },
     "execution_count": 23,
     "metadata": {},
     "output_type": "execute_result"
    }
   ],
   "source": [
    "stm.qqplot(dfSansNa['Âge'], line='45')"
   ]
  },
  {
   "cell_type": "markdown",
   "metadata": {},
   "source": [
    "1000 échantillons, chacun contenant 100 observations"
   ]
  },
  {
   "cell_type": "code",
   "execution_count": null,
   "metadata": {},
   "outputs": [],
   "source": [
    "import random"
   ]
  },
  {
   "cell_type": "code",
   "execution_count": 25,
   "metadata": {},
   "outputs": [
    {
     "data": {
      "text/plain": [
       "Text(0, 0.5, 'Probabilités')"
      ]
     },
     "execution_count": 25,
     "metadata": {},
     "output_type": "execute_result"
    }
   ],
   "source": [
    "\n",
    "\n",
    "\n",
    "L=100000\n",
    "k=100\n",
    "Moyennes = []\n",
    "\n",
    "Agevar=donnee[\"Âge\"]\n",
    "for i in range(L):\n",
    "    Age_echantillon=random.choices(Agevar,weights=None, k=k)\n",
    "    Moyennes.append(np.mean(Age_echantillon))\n",
    "\n",
    "Moyennes_Ages=pd.DataFrame(Moyennes)\n",
    "\n",
    "ax=Moyennes_Ages.plot.hist(density=True, bins = 100, color = 'blue', edgecolor = 'black')\n",
    "ax.set_xlabel(\"Âges moyens (xbarre)\")\n",
    "ax.set_ylabel(\"Probabilités\")"
   ]
  },
  {
   "cell_type": "code",
   "execution_count": 30,
   "metadata": {},
   "outputs": [
    {
     "data": {
      "text/plain": [
       "((array([-4.34602155, -4.14724578, -4.03913009, ...,  4.03913009,\n",
       "          4.14724578,  4.34602155]),\n",
       "  array([40.78, 41.53, 41.98, ..., 57.7 , 57.79, 58.66])),\n",
       " (1.8758610895939851, 49.8357533, 0.9999773515112762))"
      ]
     },
     "execution_count": 30,
     "metadata": {},
     "output_type": "execute_result"
    }
   ],
   "source": [
    "sts.probplot(Moyennes_Ages[0].values, dist=sts.norm, plot=plt.figure().add_subplot(111))"
   ]
  },
  {
   "cell_type": "code",
   "execution_count": 31,
   "metadata": {},
   "outputs": [
    {
     "data": {
      "text/plain": [
       "((array([-3.32454955, -3.06873687, -2.92656165, ...,  2.92656165,\n",
       "          3.06873687,  3.32454955]),\n",
       "  array([16, 16, 16, ..., 93, 95, 97])),\n",
       " (18.19613525443093, 49.60958466453675, 0.9849851875256816))"
      ]
     },
     "execution_count": 31,
     "metadata": {},
     "output_type": "execute_result"
    }
   ],
   "source": [
    "sts.probplot(dfSansNa['Âge'].values, dist=sts.norm, plot=plt.figure().add_subplot(111))"
   ]
  }
 ],
 "metadata": {
  "kernelspec": {
   "display_name": "Python 3.8.10 64-bit",
   "language": "python",
   "name": "python3"
  },
  "language_info": {
   "codemirror_mode": {
    "name": "ipython",
    "version": 3
   },
   "file_extension": ".py",
   "mimetype": "text/x-python",
   "name": "python",
   "nbconvert_exporter": "python",
   "pygments_lexer": "ipython3",
   "version": "3.8.10"
  },
  "orig_nbformat": 4,
  "vscode": {
   "interpreter": {
    "hash": "31f2aee4e71d21fbe5cf8b01ff0e069b9275f58929596ceb00d14d90e3e16cd6"
   }
  }
 },
 "nbformat": 4,
 "nbformat_minor": 2
}
