{
 "cells": [
  {
   "cell_type": "code",
   "execution_count": 1,
   "metadata": {},
   "outputs": [],
   "source": [
    "import numpy as np\n",
    "import pandas as pd\n",
    "import matplotlib.pyplot as plt\n",
    "import scipy.stats as sts\n",
    "import statsmodels.api as stm\n",
    "import statsmodels.stats.weightstats as ws\n",
    "import math\n",
    "import seaborn as sns\n",
    "import os"
   ]
  },
  {
   "cell_type": "code",
   "execution_count": 2,
   "metadata": {},
   "outputs": [
    {
     "name": "stdout",
     "output_type": "stream",
     "text": [
      "Using matplotlib backend: GTK3Agg\n"
     ]
    }
   ],
   "source": [
    "%matplotlib"
   ]
  },
  {
   "cell_type": "code",
   "execution_count": 3,
   "metadata": {},
   "outputs": [
    {
     "data": {
      "text/plain": [
       "'/home/hadoop/Git_Ia/CegepSteFoy_IA/04_Eda/TP02'"
      ]
     },
     "execution_count": 3,
     "metadata": {},
     "output_type": "execute_result"
    }
   ],
   "source": [
    "os.getcwd()"
   ]
  },
  {
   "cell_type": "code",
   "execution_count": 4,
   "metadata": {},
   "outputs": [
    {
     "name": "stdout",
     "output_type": "stream",
     "text": [
      "/home/hadoop/Git_Ia/CegepSteFoy_IA/04_Eda/TP02\n"
     ]
    },
    {
     "data": {
      "text/plain": [
       "str"
      ]
     },
     "execution_count": 4,
     "metadata": {},
     "output_type": "execute_result"
    }
   ],
   "source": [
    "print (os.getcwd())\n",
    "currDir = os.getcwd()\n",
    "fullPath = currDir + \"/CabaneASucrev0r3.csv\"\n",
    "type(currDir)"
   ]
  },
  {
   "cell_type": "code",
   "execution_count": 5,
   "metadata": {},
   "outputs": [
    {
     "data": {
      "text/html": [
       "<div>\n",
       "<style scoped>\n",
       "    .dataframe tbody tr th:only-of-type {\n",
       "        vertical-align: middle;\n",
       "    }\n",
       "\n",
       "    .dataframe tbody tr th {\n",
       "        vertical-align: top;\n",
       "    }\n",
       "\n",
       "    .dataframe thead th {\n",
       "        text-align: right;\n",
       "    }\n",
       "</style>\n",
       "<table border=\"1\" class=\"dataframe\">\n",
       "  <thead>\n",
       "    <tr style=\"text-align: right;\">\n",
       "      <th></th>\n",
       "      <th>Année</th>\n",
       "      <th>Jour Calendrier Saison</th>\n",
       "      <th>Temp max.(°C)</th>\n",
       "      <th>Temp min.(°C)</th>\n",
       "      <th>Temp moy.(°C)</th>\n",
       "      <th>Diff Temp (°C)</th>\n",
       "      <th>Précip. tot. (mm)</th>\n",
       "      <th>Précip. Tot. Hiver (mm)</th>\n",
       "      <th>Nombre épisodes gel/dégel</th>\n",
       "      <th>Production moyenne par entaille (L)</th>\n",
       "      <th>...</th>\n",
       "      <th>Pixel6_B</th>\n",
       "      <th>Pixel7_R</th>\n",
       "      <th>Pixel7_G</th>\n",
       "      <th>Pixel7_B</th>\n",
       "      <th>Pixel8_R</th>\n",
       "      <th>Pixel8_G</th>\n",
       "      <th>Pixel8_B</th>\n",
       "      <th>Pixel9_R</th>\n",
       "      <th>Pixel9_G</th>\n",
       "      <th>Pixel9_B</th>\n",
       "    </tr>\n",
       "  </thead>\n",
       "  <tbody>\n",
       "    <tr>\n",
       "      <th>count</th>\n",
       "      <td>1875.000000</td>\n",
       "      <td>1875.000000</td>\n",
       "      <td>1873.00000</td>\n",
       "      <td>1875.000000</td>\n",
       "      <td>1873.000000</td>\n",
       "      <td>1875.000000</td>\n",
       "      <td>1872.000000</td>\n",
       "      <td>1875.000000</td>\n",
       "      <td>1875.000000</td>\n",
       "      <td>1875.000000</td>\n",
       "      <td>...</td>\n",
       "      <td>1875.000000</td>\n",
       "      <td>1875.000000</td>\n",
       "      <td>1875.000000</td>\n",
       "      <td>1875.000000</td>\n",
       "      <td>1875.000000</td>\n",
       "      <td>1875.000000</td>\n",
       "      <td>1875.000000</td>\n",
       "      <td>1875.000000</td>\n",
       "      <td>1875.000000</td>\n",
       "      <td>1875.000000</td>\n",
       "    </tr>\n",
       "    <tr>\n",
       "      <th>mean</th>\n",
       "      <td>2010.000000</td>\n",
       "      <td>45.144000</td>\n",
       "      <td>1.51543</td>\n",
       "      <td>-8.633867</td>\n",
       "      <td>-3.557768</td>\n",
       "      <td>10.147680</td>\n",
       "      <td>2.738568</td>\n",
       "      <td>610.334347</td>\n",
       "      <td>20.633067</td>\n",
       "      <td>26.523733</td>\n",
       "      <td>...</td>\n",
       "      <td>33.771435</td>\n",
       "      <td>157.936992</td>\n",
       "      <td>71.317269</td>\n",
       "      <td>32.709104</td>\n",
       "      <td>156.869221</td>\n",
       "      <td>70.605899</td>\n",
       "      <td>33.460053</td>\n",
       "      <td>157.787557</td>\n",
       "      <td>70.609437</td>\n",
       "      <td>32.820418</td>\n",
       "    </tr>\n",
       "    <tr>\n",
       "      <th>std</th>\n",
       "      <td>6.059559</td>\n",
       "      <td>25.781811</td>\n",
       "      <td>7.63530</td>\n",
       "      <td>8.695859</td>\n",
       "      <td>7.843854</td>\n",
       "      <td>4.770659</td>\n",
       "      <td>5.574896</td>\n",
       "      <td>126.965290</td>\n",
       "      <td>5.251394</td>\n",
       "      <td>10.234991</td>\n",
       "      <td>...</td>\n",
       "      <td>26.416038</td>\n",
       "      <td>85.971146</td>\n",
       "      <td>52.296358</td>\n",
       "      <td>26.692262</td>\n",
       "      <td>85.231625</td>\n",
       "      <td>52.970868</td>\n",
       "      <td>27.297388</td>\n",
       "      <td>85.760582</td>\n",
       "      <td>53.761268</td>\n",
       "      <td>27.040843</td>\n",
       "    </tr>\n",
       "    <tr>\n",
       "      <th>min</th>\n",
       "      <td>2000.000000</td>\n",
       "      <td>1.000000</td>\n",
       "      <td>-22.60000</td>\n",
       "      <td>-34.800000</td>\n",
       "      <td>-25.700000</td>\n",
       "      <td>0.900000</td>\n",
       "      <td>0.000000</td>\n",
       "      <td>313.200000</td>\n",
       "      <td>14.000000</td>\n",
       "      <td>11.567238</td>\n",
       "      <td>...</td>\n",
       "      <td>0.000000</td>\n",
       "      <td>0.000000</td>\n",
       "      <td>0.000000</td>\n",
       "      <td>0.000000</td>\n",
       "      <td>0.000000</td>\n",
       "      <td>0.000000</td>\n",
       "      <td>0.000000</td>\n",
       "      <td>0.000000</td>\n",
       "      <td>0.000000</td>\n",
       "      <td>0.000000</td>\n",
       "    </tr>\n",
       "    <tr>\n",
       "      <th>25%</th>\n",
       "      <td>2005.000000</td>\n",
       "      <td>23.000000</td>\n",
       "      <td>-3.60000</td>\n",
       "      <td>-15.100000</td>\n",
       "      <td>-9.300000</td>\n",
       "      <td>6.700000</td>\n",
       "      <td>0.000000</td>\n",
       "      <td>536.400000</td>\n",
       "      <td>16.000000</td>\n",
       "      <td>17.280176</td>\n",
       "      <td>...</td>\n",
       "      <td>8.345000</td>\n",
       "      <td>111.895000</td>\n",
       "      <td>32.555000</td>\n",
       "      <td>4.865000</td>\n",
       "      <td>111.960000</td>\n",
       "      <td>31.290000</td>\n",
       "      <td>5.545000</td>\n",
       "      <td>109.940000</td>\n",
       "      <td>28.830373</td>\n",
       "      <td>4.326591</td>\n",
       "    </tr>\n",
       "    <tr>\n",
       "      <th>50%</th>\n",
       "      <td>2010.000000</td>\n",
       "      <td>45.000000</td>\n",
       "      <td>1.70000</td>\n",
       "      <td>-6.700000</td>\n",
       "      <td>-2.500000</td>\n",
       "      <td>9.600000</td>\n",
       "      <td>0.000000</td>\n",
       "      <td>620.300000</td>\n",
       "      <td>20.000000</td>\n",
       "      <td>26.462002</td>\n",
       "      <td>...</td>\n",
       "      <td>32.970000</td>\n",
       "      <td>183.190000</td>\n",
       "      <td>71.920000</td>\n",
       "      <td>31.110000</td>\n",
       "      <td>180.810000</td>\n",
       "      <td>69.960000</td>\n",
       "      <td>31.410000</td>\n",
       "      <td>183.020000</td>\n",
       "      <td>70.558732</td>\n",
       "      <td>31.111611</td>\n",
       "    </tr>\n",
       "    <tr>\n",
       "      <th>75%</th>\n",
       "      <td>2015.000000</td>\n",
       "      <td>67.000000</td>\n",
       "      <td>6.40000</td>\n",
       "      <td>-1.450000</td>\n",
       "      <td>2.400000</td>\n",
       "      <td>13.100000</td>\n",
       "      <td>2.600000</td>\n",
       "      <td>685.100000</td>\n",
       "      <td>25.000000</td>\n",
       "      <td>34.315361</td>\n",
       "      <td>...</td>\n",
       "      <td>55.820000</td>\n",
       "      <td>227.420000</td>\n",
       "      <td>102.465000</td>\n",
       "      <td>54.910000</td>\n",
       "      <td>224.955000</td>\n",
       "      <td>103.015000</td>\n",
       "      <td>56.400000</td>\n",
       "      <td>225.820000</td>\n",
       "      <td>104.848430</td>\n",
       "      <td>55.027608</td>\n",
       "    </tr>\n",
       "    <tr>\n",
       "      <th>max</th>\n",
       "      <td>2020.000000</td>\n",
       "      <td>90.000000</td>\n",
       "      <td>27.50000</td>\n",
       "      <td>10.000000</td>\n",
       "      <td>18.800000</td>\n",
       "      <td>31.000000</td>\n",
       "      <td>41.600000</td>\n",
       "      <td>811.700000</td>\n",
       "      <td>30.000000</td>\n",
       "      <td>46.784424</td>\n",
       "      <td>...</td>\n",
       "      <td>108.800000</td>\n",
       "      <td>255.000000</td>\n",
       "      <td>255.000000</td>\n",
       "      <td>125.400000</td>\n",
       "      <td>255.000000</td>\n",
       "      <td>255.000000</td>\n",
       "      <td>117.940000</td>\n",
       "      <td>255.000000</td>\n",
       "      <td>255.000000</td>\n",
       "      <td>132.121595</td>\n",
       "    </tr>\n",
       "  </tbody>\n",
       "</table>\n",
       "<p>8 rows × 48 columns</p>\n",
       "</div>"
      ],
      "text/plain": [
       "             Année  Jour Calendrier Saison  Temp max.(°C)  Temp min.(°C)  \\\n",
       "count  1875.000000             1875.000000     1873.00000    1875.000000   \n",
       "mean   2010.000000               45.144000        1.51543      -8.633867   \n",
       "std       6.059559               25.781811        7.63530       8.695859   \n",
       "min    2000.000000                1.000000      -22.60000     -34.800000   \n",
       "25%    2005.000000               23.000000       -3.60000     -15.100000   \n",
       "50%    2010.000000               45.000000        1.70000      -6.700000   \n",
       "75%    2015.000000               67.000000        6.40000      -1.450000   \n",
       "max    2020.000000               90.000000       27.50000      10.000000   \n",
       "\n",
       "       Temp moy.(°C)  Diff Temp (°C)  Précip. tot. (mm)  \\\n",
       "count    1873.000000     1875.000000        1872.000000   \n",
       "mean       -3.557768       10.147680           2.738568   \n",
       "std         7.843854        4.770659           5.574896   \n",
       "min       -25.700000        0.900000           0.000000   \n",
       "25%        -9.300000        6.700000           0.000000   \n",
       "50%        -2.500000        9.600000           0.000000   \n",
       "75%         2.400000       13.100000           2.600000   \n",
       "max        18.800000       31.000000          41.600000   \n",
       "\n",
       "       Précip. Tot. Hiver (mm)  Nombre épisodes gel/dégel  \\\n",
       "count              1875.000000                1875.000000   \n",
       "mean                610.334347                  20.633067   \n",
       "std                 126.965290                   5.251394   \n",
       "min                 313.200000                  14.000000   \n",
       "25%                 536.400000                  16.000000   \n",
       "50%                 620.300000                  20.000000   \n",
       "75%                 685.100000                  25.000000   \n",
       "max                 811.700000                  30.000000   \n",
       "\n",
       "       Production moyenne par entaille (L)  ...     Pixel6_B     Pixel7_R  \\\n",
       "count                          1875.000000  ...  1875.000000  1875.000000   \n",
       "mean                             26.523733  ...    33.771435   157.936992   \n",
       "std                              10.234991  ...    26.416038    85.971146   \n",
       "min                              11.567238  ...     0.000000     0.000000   \n",
       "25%                              17.280176  ...     8.345000   111.895000   \n",
       "50%                              26.462002  ...    32.970000   183.190000   \n",
       "75%                              34.315361  ...    55.820000   227.420000   \n",
       "max                              46.784424  ...   108.800000   255.000000   \n",
       "\n",
       "          Pixel7_G     Pixel7_B     Pixel8_R     Pixel8_G     Pixel8_B  \\\n",
       "count  1875.000000  1875.000000  1875.000000  1875.000000  1875.000000   \n",
       "mean     71.317269    32.709104   156.869221    70.605899    33.460053   \n",
       "std      52.296358    26.692262    85.231625    52.970868    27.297388   \n",
       "min       0.000000     0.000000     0.000000     0.000000     0.000000   \n",
       "25%      32.555000     4.865000   111.960000    31.290000     5.545000   \n",
       "50%      71.920000    31.110000   180.810000    69.960000    31.410000   \n",
       "75%     102.465000    54.910000   224.955000   103.015000    56.400000   \n",
       "max     255.000000   125.400000   255.000000   255.000000   117.940000   \n",
       "\n",
       "          Pixel9_R     Pixel9_G     Pixel9_B  \n",
       "count  1875.000000  1875.000000  1875.000000  \n",
       "mean    157.787557    70.609437    32.820418  \n",
       "std      85.760582    53.761268    27.040843  \n",
       "min       0.000000     0.000000     0.000000  \n",
       "25%     109.940000    28.830373     4.326591  \n",
       "50%     183.020000    70.558732    31.111611  \n",
       "75%     225.820000   104.848430    55.027608  \n",
       "max     255.000000   255.000000   132.121595  \n",
       "\n",
       "[8 rows x 48 columns]"
      ]
     },
     "execution_count": 5,
     "metadata": {},
     "output_type": "execute_result"
    }
   ],
   "source": [
    "donnee = pd.read_csv(fullPath)\n",
    "stats=donnee.describe()\n",
    "dimensions=donnee.shape\n",
    "stats"
   ]
  },
  {
   "cell_type": "code",
   "execution_count": 6,
   "metadata": {},
   "outputs": [
    {
     "data": {
      "text/plain": [
       "Date                                   0\n",
       "Année                                  0\n",
       "Jour Calendrier Saison                 0\n",
       "Temp max.(°C)                          2\n",
       "Temp min.(°C)                          0\n",
       "Temp moy.(°C)                          2\n",
       "Diff Temp (°C)                         0\n",
       "Précip. tot. (mm)                      3\n",
       "Précip. Tot. Hiver (mm)                0\n",
       "Nombre épisodes gel/dégel              0\n",
       "Production moyenne par entaille (L)    0\n",
       "Débit sève (L/j)                       0\n",
       "Sucre sève (%)                         0\n",
       "Alimentation osmoseur (L/j)            0\n",
       "Osmoseur (heures opération/j)          0\n",
       "Pression osmoseur (bar)                0\n",
       "Sucre sortie osmoseur (%)              0\n",
       "Température Bouilloire (0C)            0\n",
       "Temps bouilloire (h)                   0\n",
       "Sucre du sirop obtenu (%)              0\n",
       "Quantité de sirop obtenue (L)          0\n",
       "Transmittance produit (%)              0\n",
       "Pixel1_R                               0\n",
       "Pixel1_G                               0\n",
       "Pixel1_B                               0\n",
       "Pixel2_R                               0\n",
       "Pixel2_G                               0\n",
       "Pixel2_B                               0\n",
       "Pixel3_R                               0\n",
       "Pixel3_G                               0\n",
       "Pixel3_B                               0\n",
       "Pixel4_R                               0\n",
       "Pixel4_G                               0\n",
       "Pixel4_B                               0\n",
       "Pixel5_R                               0\n",
       "Pixel5_G                               0\n",
       "Pixel5_B                               0\n",
       "Pixel6_R                               0\n",
       "Pixel6_G                               0\n",
       "Pixel6_B                               0\n",
       "Pixel7_R                               0\n",
       "Pixel7_G                               0\n",
       "Pixel7_B                               0\n",
       "Pixel8_R                               0\n",
       "Pixel8_G                               0\n",
       "Pixel8_B                               0\n",
       "Pixel9_R                               0\n",
       "Pixel9_G                               0\n",
       "Pixel9_B                               0\n",
       "Classe Sirop                           0\n",
       "dtype: int64"
      ]
     },
     "execution_count": 6,
     "metadata": {},
     "output_type": "execute_result"
    }
   ],
   "source": [
    "donnee.isnull().sum()"
   ]
  },
  {
   "cell_type": "markdown",
   "metadata": {},
   "source": [
    "Heureusement, très peu de nulls.\n",
    "\n",
    "Quels sont les enregistrements contenant des nulls?\n"
   ]
  },
  {
   "cell_type": "code",
   "execution_count": 7,
   "metadata": {},
   "outputs": [
    {
     "data": {
      "text/html": [
       "<div>\n",
       "<style scoped>\n",
       "    .dataframe tbody tr th:only-of-type {\n",
       "        vertical-align: middle;\n",
       "    }\n",
       "\n",
       "    .dataframe tbody tr th {\n",
       "        vertical-align: top;\n",
       "    }\n",
       "\n",
       "    .dataframe thead th {\n",
       "        text-align: right;\n",
       "    }\n",
       "</style>\n",
       "<table border=\"1\" class=\"dataframe\">\n",
       "  <thead>\n",
       "    <tr style=\"text-align: right;\">\n",
       "      <th></th>\n",
       "      <th>Date</th>\n",
       "      <th>Année</th>\n",
       "      <th>Jour Calendrier Saison</th>\n",
       "      <th>Temp max.(°C)</th>\n",
       "      <th>Temp min.(°C)</th>\n",
       "      <th>Temp moy.(°C)</th>\n",
       "      <th>Diff Temp (°C)</th>\n",
       "      <th>Précip. tot. (mm)</th>\n",
       "      <th>Précip. Tot. Hiver (mm)</th>\n",
       "      <th>Nombre épisodes gel/dégel</th>\n",
       "      <th>...</th>\n",
       "      <th>Pixel7_R</th>\n",
       "      <th>Pixel7_G</th>\n",
       "      <th>Pixel7_B</th>\n",
       "      <th>Pixel8_R</th>\n",
       "      <th>Pixel8_G</th>\n",
       "      <th>Pixel8_B</th>\n",
       "      <th>Pixel9_R</th>\n",
       "      <th>Pixel9_G</th>\n",
       "      <th>Pixel9_B</th>\n",
       "      <th>Classe Sirop</th>\n",
       "    </tr>\n",
       "  </thead>\n",
       "  <tbody>\n",
       "    <tr>\n",
       "      <th>1519</th>\n",
       "      <td>2017-02-02</td>\n",
       "      <td>2017</td>\n",
       "      <td>2</td>\n",
       "      <td>NaN</td>\n",
       "      <td>-17.4</td>\n",
       "      <td>NaN</td>\n",
       "      <td>17.4</td>\n",
       "      <td>NaN</td>\n",
       "      <td>770.6</td>\n",
       "      <td>20</td>\n",
       "      <td>...</td>\n",
       "      <td>224.35</td>\n",
       "      <td>173.08</td>\n",
       "      <td>30.45</td>\n",
       "      <td>255.00</td>\n",
       "      <td>127.83</td>\n",
       "      <td>77.18</td>\n",
       "      <td>255.00</td>\n",
       "      <td>127.017170</td>\n",
       "      <td>10.139073</td>\n",
       "      <td>Ambré</td>\n",
       "    </tr>\n",
       "    <tr>\n",
       "      <th>1524</th>\n",
       "      <td>2017-02-07</td>\n",
       "      <td>2017</td>\n",
       "      <td>7</td>\n",
       "      <td>NaN</td>\n",
       "      <td>-25.1</td>\n",
       "      <td>NaN</td>\n",
       "      <td>25.1</td>\n",
       "      <td>NaN</td>\n",
       "      <td>770.6</td>\n",
       "      <td>20</td>\n",
       "      <td>...</td>\n",
       "      <td>255.00</td>\n",
       "      <td>131.77</td>\n",
       "      <td>3.27</td>\n",
       "      <td>225.25</td>\n",
       "      <td>123.51</td>\n",
       "      <td>61.07</td>\n",
       "      <td>194.07</td>\n",
       "      <td>70.795317</td>\n",
       "      <td>71.603721</td>\n",
       "      <td>Foncé</td>\n",
       "    </tr>\n",
       "    <tr>\n",
       "      <th>1632</th>\n",
       "      <td>2018-02-26</td>\n",
       "      <td>2018</td>\n",
       "      <td>26</td>\n",
       "      <td>3.2</td>\n",
       "      <td>-7.4</td>\n",
       "      <td>-2.1</td>\n",
       "      <td>10.6</td>\n",
       "      <td>NaN</td>\n",
       "      <td>811.7</td>\n",
       "      <td>16</td>\n",
       "      <td>...</td>\n",
       "      <td>213.40</td>\n",
       "      <td>111.76</td>\n",
       "      <td>3.39</td>\n",
       "      <td>212.26</td>\n",
       "      <td>98.49</td>\n",
       "      <td>35.60</td>\n",
       "      <td>193.85</td>\n",
       "      <td>127.018875</td>\n",
       "      <td>37.339503</td>\n",
       "      <td>Foncé</td>\n",
       "    </tr>\n",
       "  </tbody>\n",
       "</table>\n",
       "<p>3 rows × 50 columns</p>\n",
       "</div>"
      ],
      "text/plain": [
       "            Date  Année  Jour Calendrier Saison  Temp max.(°C)  Temp min.(°C)  \\\n",
       "1519  2017-02-02   2017                       2            NaN          -17.4   \n",
       "1524  2017-02-07   2017                       7            NaN          -25.1   \n",
       "1632  2018-02-26   2018                      26            3.2           -7.4   \n",
       "\n",
       "      Temp moy.(°C)  Diff Temp (°C)  Précip. tot. (mm)  \\\n",
       "1519            NaN            17.4                NaN   \n",
       "1524            NaN            25.1                NaN   \n",
       "1632           -2.1            10.6                NaN   \n",
       "\n",
       "      Précip. Tot. Hiver (mm)  Nombre épisodes gel/dégel  ...  Pixel7_R  \\\n",
       "1519                    770.6                         20  ...    224.35   \n",
       "1524                    770.6                         20  ...    255.00   \n",
       "1632                    811.7                         16  ...    213.40   \n",
       "\n",
       "      Pixel7_G  Pixel7_B  Pixel8_R  Pixel8_G  Pixel8_B  Pixel9_R    Pixel9_G  \\\n",
       "1519    173.08     30.45    255.00    127.83     77.18    255.00  127.017170   \n",
       "1524    131.77      3.27    225.25    123.51     61.07    194.07   70.795317   \n",
       "1632    111.76      3.39    212.26     98.49     35.60    193.85  127.018875   \n",
       "\n",
       "       Pixel9_B  Classe Sirop  \n",
       "1519  10.139073         Ambré  \n",
       "1524  71.603721         Foncé  \n",
       "1632  37.339503         Foncé  \n",
       "\n",
       "[3 rows x 50 columns]"
      ]
     },
     "execution_count": 7,
     "metadata": {},
     "output_type": "execute_result"
    }
   ],
   "source": [
    "donnee[(donnee['Temp max.(°C)'].isna()==True) | (donnee['Précip. tot. (mm)'].isna()==True)] "
   ]
  },
  {
   "cell_type": "markdown",
   "metadata": {},
   "source": [
    "Fill na"
   ]
  },
  {
   "cell_type": "code",
   "execution_count": 8,
   "metadata": {},
   "outputs": [
    {
     "data": {
      "text/plain": [
       "Date                                   0\n",
       "Année                                  0\n",
       "Jour Calendrier Saison                 0\n",
       "Temp max.(°C)                          0\n",
       "Temp min.(°C)                          0\n",
       "Temp moy.(°C)                          0\n",
       "Diff Temp (°C)                         0\n",
       "Précip. tot. (mm)                      0\n",
       "Précip. Tot. Hiver (mm)                0\n",
       "Nombre épisodes gel/dégel              0\n",
       "Production moyenne par entaille (L)    0\n",
       "Débit sève (L/j)                       0\n",
       "Sucre sève (%)                         0\n",
       "Alimentation osmoseur (L/j)            0\n",
       "Osmoseur (heures opération/j)          0\n",
       "Pression osmoseur (bar)                0\n",
       "Sucre sortie osmoseur (%)              0\n",
       "Température Bouilloire (0C)            0\n",
       "Temps bouilloire (h)                   0\n",
       "Sucre du sirop obtenu (%)              0\n",
       "Quantité de sirop obtenue (L)          0\n",
       "Transmittance produit (%)              0\n",
       "Pixel1_R                               0\n",
       "Pixel1_G                               0\n",
       "Pixel1_B                               0\n",
       "Pixel2_R                               0\n",
       "Pixel2_G                               0\n",
       "Pixel2_B                               0\n",
       "Pixel3_R                               0\n",
       "Pixel3_G                               0\n",
       "Pixel3_B                               0\n",
       "Pixel4_R                               0\n",
       "Pixel4_G                               0\n",
       "Pixel4_B                               0\n",
       "Pixel5_R                               0\n",
       "Pixel5_G                               0\n",
       "Pixel5_B                               0\n",
       "Pixel6_R                               0\n",
       "Pixel6_G                               0\n",
       "Pixel6_B                               0\n",
       "Pixel7_R                               0\n",
       "Pixel7_G                               0\n",
       "Pixel7_B                               0\n",
       "Pixel8_R                               0\n",
       "Pixel8_G                               0\n",
       "Pixel8_B                               0\n",
       "Pixel9_R                               0\n",
       "Pixel9_G                               0\n",
       "Pixel9_B                               0\n",
       "Classe Sirop                           0\n",
       "dtype: int64"
      ]
     },
     "execution_count": 8,
     "metadata": {},
     "output_type": "execute_result"
    }
   ],
   "source": [
    "donnee.fillna(method='bfill', inplace=True)\n",
    "donnee.isnull().sum()"
   ]
  },
  {
   "cell_type": "code",
   "execution_count": 9,
   "metadata": {},
   "outputs": [
    {
     "data": {
      "text/plain": [
       "Index(['Date', 'Année', 'Jour Calendrier Saison', 'Temp max.(°C)',\n",
       "       'Temp min.(°C)', 'Temp moy.(°C)', 'Diff Temp (°C)', 'Précip. tot. (mm)',\n",
       "       'Précip. Tot. Hiver (mm)', 'Nombre épisodes gel/dégel',\n",
       "       'Production moyenne par entaille (L)', 'Débit sève (L/j)',\n",
       "       'Sucre sève (%)', 'Alimentation osmoseur (L/j)',\n",
       "       'Osmoseur (heures opération/j)', 'Pression osmoseur (bar)',\n",
       "       'Sucre sortie osmoseur (%)', 'Température Bouilloire (0C)',\n",
       "       'Temps bouilloire (h)', 'Sucre du sirop obtenu (%)',\n",
       "       'Quantité de sirop obtenue (L)', 'Transmittance produit (%)',\n",
       "       'Pixel1_R', 'Pixel1_G', 'Pixel1_B', 'Pixel2_R', 'Pixel2_G', 'Pixel2_B',\n",
       "       'Pixel3_R', 'Pixel3_G', 'Pixel3_B', 'Pixel4_R', 'Pixel4_G', 'Pixel4_B',\n",
       "       'Pixel5_R', 'Pixel5_G', 'Pixel5_B', 'Pixel6_R', 'Pixel6_G', 'Pixel6_B',\n",
       "       'Pixel7_R', 'Pixel7_G', 'Pixel7_B', 'Pixel8_R', 'Pixel8_G', 'Pixel8_B',\n",
       "       'Pixel9_R', 'Pixel9_G', 'Pixel9_B', 'Classe Sirop'],\n",
       "      dtype='object')"
      ]
     },
     "execution_count": 9,
     "metadata": {},
     "output_type": "execute_result"
    }
   ],
   "source": [
    "donnee.columns"
   ]
  },
  {
   "cell_type": "markdown",
   "metadata": {},
   "source": [
    "Supprimer les colonnes pixel"
   ]
  },
  {
   "cell_type": "code",
   "execution_count": 10,
   "metadata": {},
   "outputs": [
    {
     "data": {
      "text/plain": [
       "Index(['Date', 'Année', 'Jour Calendrier Saison', 'Temp max.(°C)',\n",
       "       'Temp min.(°C)', 'Temp moy.(°C)', 'Diff Temp (°C)', 'Précip. tot. (mm)',\n",
       "       'Précip. Tot. Hiver (mm)', 'Nombre épisodes gel/dégel',\n",
       "       'Production moyenne par entaille (L)', 'Débit sève (L/j)',\n",
       "       'Sucre sève (%)', 'Alimentation osmoseur (L/j)',\n",
       "       'Osmoseur (heures opération/j)', 'Pression osmoseur (bar)',\n",
       "       'Sucre sortie osmoseur (%)', 'Température Bouilloire (0C)',\n",
       "       'Temps bouilloire (h)', 'Sucre du sirop obtenu (%)',\n",
       "       'Quantité de sirop obtenue (L)', 'Transmittance produit (%)',\n",
       "       'Classe Sirop'],\n",
       "      dtype='object')"
      ]
     },
     "execution_count": 10,
     "metadata": {},
     "output_type": "execute_result"
    }
   ],
   "source": [
    "donnee.filter(like='Pixel').columns\n",
    "dfSansPixel = donnee.drop(donnee.filter(like='Pixel').columns, axis=1)\n",
    "dfSansPixel.columns"
   ]
  },
  {
   "cell_type": "code",
   "execution_count": 11,
   "metadata": {},
   "outputs": [
    {
     "data": {
      "text/plain": [
       "Date                                    object\n",
       "Année                                    int64\n",
       "Jour Calendrier Saison                   int64\n",
       "Temp max.(°C)                          float64\n",
       "Temp min.(°C)                          float64\n",
       "Temp moy.(°C)                          float64\n",
       "Diff Temp (°C)                         float64\n",
       "Précip. tot. (mm)                      float64\n",
       "Précip. Tot. Hiver (mm)                float64\n",
       "Nombre épisodes gel/dégel                int64\n",
       "Production moyenne par entaille (L)    float64\n",
       "Débit sève (L/j)                       float64\n",
       "Sucre sève (%)                         float64\n",
       "Alimentation osmoseur (L/j)            float64\n",
       "Osmoseur (heures opération/j)          float64\n",
       "Pression osmoseur (bar)                float64\n",
       "Sucre sortie osmoseur (%)              float64\n",
       "Température Bouilloire (0C)            float64\n",
       "Temps bouilloire (h)                   float64\n",
       "Sucre du sirop obtenu (%)                int64\n",
       "Quantité de sirop obtenue (L)          float64\n",
       "Transmittance produit (%)              float64\n",
       "Classe Sirop                            object\n",
       "dtype: object"
      ]
     },
     "execution_count": 11,
     "metadata": {},
     "output_type": "execute_result"
    }
   ],
   "source": [
    "dfSansPixel.dtypes"
   ]
  },
  {
   "cell_type": "code",
   "execution_count": 12,
   "metadata": {},
   "outputs": [],
   "source": [
    "### liste de variables (colonnes) dépendantes\n",
    "col_debit_seve = dfSansPixel['Débit sève (L/j)']\n",
    "col_sucre_dans_seve = dfSansPixel['Sucre sève (%)']\n",
    "col_pct_transmittance = dfSansPixel['Transmittance produit (%)']\n",
    "col_productivite_seve_par_saison = dfSansPixel['Production moyenne par entaille (L)']\n",
    "list_cols_dependennt_vars = [col_debit_seve, col_sucre_dans_seve, col_pct_transmittance, col_productivite_seve_par_saison]"
   ]
  },
  {
   "cell_type": "code",
   "execution_count": 13,
   "metadata": {},
   "outputs": [
    {
     "data": {
      "text/plain": [
       "Année                                    int64\n",
       "Jour Calendrier Saison                   int64\n",
       "Temp max.(°C)                          float64\n",
       "Temp min.(°C)                          float64\n",
       "Temp moy.(°C)                          float64\n",
       "Diff Temp (°C)                         float64\n",
       "Précip. tot. (mm)                      float64\n",
       "Précip. Tot. Hiver (mm)                float64\n",
       "Nombre épisodes gel/dégel                int64\n",
       "Production moyenne par entaille (L)    float64\n",
       "Débit sève (L/j)                       float64\n",
       "Sucre sève (%)                         float64\n",
       "Alimentation osmoseur (L/j)            float64\n",
       "Osmoseur (heures opération/j)          float64\n",
       "Pression osmoseur (bar)                float64\n",
       "Sucre sortie osmoseur (%)              float64\n",
       "Température Bouilloire (0C)            float64\n",
       "Temps bouilloire (h)                   float64\n",
       "Sucre du sirop obtenu (%)                int64\n",
       "Quantité de sirop obtenue (L)          float64\n",
       "Transmittance produit (%)              float64\n",
       "CategClasseSirop                          int8\n",
       "dtype: object"
      ]
     },
     "execution_count": 13,
     "metadata": {},
     "output_type": "execute_result"
    }
   ],
   "source": [
    "## convertir Classe Sirop en numérique - https://www.youtube.com/watch?v=wH_ezgftiy0&t=136s\n",
    "dfSansPixel['CategClasseSirop'] = dfSansPixel['Classe Sirop'].astype('category').cat.codes\n",
    "dfNumerique = dfSansPixel.select_dtypes(exclude='object').copy()\n",
    "dfNumerique.dtypes"
   ]
  },
  {
   "cell_type": "markdown",
   "metadata": {},
   "source": [
    "### Multiple Linear Regression\n",
    "\n",
    "\n",
    "https://www.geeksforgeeks.org/ml-multiple-linear-regression-using-python/\n",
    "\n",
    "Assumption of Regression Model : \n",
    "\n",
    "- Linearity: The relationship between dependent and independent variables should be linear.\n",
    "- Homoscedasticity: Constant variance of the errors should be maintained.\n",
    "- Multivariate normality: Multiple Regression assumes that the residuals are normally distributed.\n",
    "- Lack of Multicollinearity: It is assumed that there is little or no multicollinearity in"
   ]
  },
  {
   "cell_type": "code",
   "execution_count": 14,
   "metadata": {},
   "outputs": [
    {
     "data": {
      "text/html": [
       "<div>\n",
       "<style scoped>\n",
       "    .dataframe tbody tr th:only-of-type {\n",
       "        vertical-align: middle;\n",
       "    }\n",
       "\n",
       "    .dataframe tbody tr th {\n",
       "        vertical-align: top;\n",
       "    }\n",
       "\n",
       "    .dataframe thead th {\n",
       "        text-align: right;\n",
       "    }\n",
       "</style>\n",
       "<table border=\"1\" class=\"dataframe\">\n",
       "  <thead>\n",
       "    <tr style=\"text-align: right;\">\n",
       "      <th></th>\n",
       "      <th>Année</th>\n",
       "      <th>Jour Calendrier Saison</th>\n",
       "      <th>Temp max.(°C)</th>\n",
       "      <th>Temp min.(°C)</th>\n",
       "      <th>Temp moy.(°C)</th>\n",
       "      <th>Diff Temp (°C)</th>\n",
       "      <th>Précip. tot. (mm)</th>\n",
       "      <th>Précip. Tot. Hiver (mm)</th>\n",
       "      <th>Nombre épisodes gel/dégel</th>\n",
       "      <th>Production moyenne par entaille (L)</th>\n",
       "      <th>...</th>\n",
       "      <th>Alimentation osmoseur (L/j)</th>\n",
       "      <th>Osmoseur (heures opération/j)</th>\n",
       "      <th>Pression osmoseur (bar)</th>\n",
       "      <th>Sucre sortie osmoseur (%)</th>\n",
       "      <th>Température Bouilloire (0C)</th>\n",
       "      <th>Temps bouilloire (h)</th>\n",
       "      <th>Sucre du sirop obtenu (%)</th>\n",
       "      <th>Quantité de sirop obtenue (L)</th>\n",
       "      <th>Transmittance produit (%)</th>\n",
       "      <th>CategClasseSirop</th>\n",
       "    </tr>\n",
       "  </thead>\n",
       "  <tbody>\n",
       "    <tr>\n",
       "      <th>count</th>\n",
       "      <td>1875.000000</td>\n",
       "      <td>1875.000000</td>\n",
       "      <td>1875.000000</td>\n",
       "      <td>1875.000000</td>\n",
       "      <td>1875.000000</td>\n",
       "      <td>1875.000000</td>\n",
       "      <td>1875.000000</td>\n",
       "      <td>1875.000000</td>\n",
       "      <td>1875.000000</td>\n",
       "      <td>1875.000000</td>\n",
       "      <td>...</td>\n",
       "      <td>1875.000000</td>\n",
       "      <td>1875.000000</td>\n",
       "      <td>1875.000000</td>\n",
       "      <td>1875.000000</td>\n",
       "      <td>1875.000000</td>\n",
       "      <td>1875.000000</td>\n",
       "      <td>1875.000000</td>\n",
       "      <td>1875.000000</td>\n",
       "      <td>1875.000000</td>\n",
       "      <td>1875.000000</td>\n",
       "    </tr>\n",
       "    <tr>\n",
       "      <th>mean</th>\n",
       "      <td>2010.000000</td>\n",
       "      <td>45.144000</td>\n",
       "      <td>1.507733</td>\n",
       "      <td>-8.633867</td>\n",
       "      <td>-3.565813</td>\n",
       "      <td>10.147680</td>\n",
       "      <td>2.738347</td>\n",
       "      <td>610.334347</td>\n",
       "      <td>20.633067</td>\n",
       "      <td>26.523733</td>\n",
       "      <td>...</td>\n",
       "      <td>1038.447262</td>\n",
       "      <td>2.336891</td>\n",
       "      <td>34.058421</td>\n",
       "      <td>6.837088</td>\n",
       "      <td>88.515555</td>\n",
       "      <td>2.019547</td>\n",
       "      <td>57.016533</td>\n",
       "      <td>74.689611</td>\n",
       "      <td>37.075563</td>\n",
       "      <td>2.121067</td>\n",
       "    </tr>\n",
       "    <tr>\n",
       "      <th>std</th>\n",
       "      <td>6.059559</td>\n",
       "      <td>25.781811</td>\n",
       "      <td>7.636093</td>\n",
       "      <td>8.695859</td>\n",
       "      <td>7.844030</td>\n",
       "      <td>4.770659</td>\n",
       "      <td>5.572377</td>\n",
       "      <td>126.965290</td>\n",
       "      <td>5.251394</td>\n",
       "      <td>10.234991</td>\n",
       "      <td>...</td>\n",
       "      <td>1745.361854</td>\n",
       "      <td>3.928002</td>\n",
       "      <td>14.394987</td>\n",
       "      <td>3.418384</td>\n",
       "      <td>37.097081</td>\n",
       "      <td>1.719075</td>\n",
       "      <td>23.913916</td>\n",
       "      <td>126.713112</td>\n",
       "      <td>18.920109</td>\n",
       "      <td>1.247306</td>\n",
       "    </tr>\n",
       "    <tr>\n",
       "      <th>min</th>\n",
       "      <td>2000.000000</td>\n",
       "      <td>1.000000</td>\n",
       "      <td>-22.600000</td>\n",
       "      <td>-34.800000</td>\n",
       "      <td>-25.700000</td>\n",
       "      <td>0.900000</td>\n",
       "      <td>0.000000</td>\n",
       "      <td>313.200000</td>\n",
       "      <td>14.000000</td>\n",
       "      <td>11.567238</td>\n",
       "      <td>...</td>\n",
       "      <td>0.000000</td>\n",
       "      <td>0.000000</td>\n",
       "      <td>0.000000</td>\n",
       "      <td>0.000000</td>\n",
       "      <td>0.000000</td>\n",
       "      <td>0.000000</td>\n",
       "      <td>0.000000</td>\n",
       "      <td>0.000000</td>\n",
       "      <td>0.000000</td>\n",
       "      <td>0.000000</td>\n",
       "    </tr>\n",
       "    <tr>\n",
       "      <th>25%</th>\n",
       "      <td>2005.000000</td>\n",
       "      <td>23.000000</td>\n",
       "      <td>-3.600000</td>\n",
       "      <td>-15.100000</td>\n",
       "      <td>-9.300000</td>\n",
       "      <td>6.700000</td>\n",
       "      <td>0.000000</td>\n",
       "      <td>536.400000</td>\n",
       "      <td>16.000000</td>\n",
       "      <td>17.280176</td>\n",
       "      <td>...</td>\n",
       "      <td>121.000000</td>\n",
       "      <td>0.270000</td>\n",
       "      <td>37.720000</td>\n",
       "      <td>5.720000</td>\n",
       "      <td>103.823261</td>\n",
       "      <td>1.530000</td>\n",
       "      <td>66.000000</td>\n",
       "      <td>7.865000</td>\n",
       "      <td>29.810000</td>\n",
       "      <td>1.000000</td>\n",
       "    </tr>\n",
       "    <tr>\n",
       "      <th>50%</th>\n",
       "      <td>2010.000000</td>\n",
       "      <td>45.000000</td>\n",
       "      <td>1.700000</td>\n",
       "      <td>-6.700000</td>\n",
       "      <td>-2.500000</td>\n",
       "      <td>9.600000</td>\n",
       "      <td>0.000000</td>\n",
       "      <td>620.300000</td>\n",
       "      <td>20.000000</td>\n",
       "      <td>26.462002</td>\n",
       "      <td>...</td>\n",
       "      <td>276.000000</td>\n",
       "      <td>0.620000</td>\n",
       "      <td>39.600000</td>\n",
       "      <td>7.600000</td>\n",
       "      <td>104.031253</td>\n",
       "      <td>1.620000</td>\n",
       "      <td>67.000000</td>\n",
       "      <td>19.200000</td>\n",
       "      <td>40.700000</td>\n",
       "      <td>3.000000</td>\n",
       "    </tr>\n",
       "    <tr>\n",
       "      <th>75%</th>\n",
       "      <td>2015.000000</td>\n",
       "      <td>67.000000</td>\n",
       "      <td>6.400000</td>\n",
       "      <td>-1.450000</td>\n",
       "      <td>2.400000</td>\n",
       "      <td>13.100000</td>\n",
       "      <td>2.600000</td>\n",
       "      <td>685.100000</td>\n",
       "      <td>25.000000</td>\n",
       "      <td>34.315361</td>\n",
       "      <td>...</td>\n",
       "      <td>669.000000</td>\n",
       "      <td>1.505000</td>\n",
       "      <td>41.120000</td>\n",
       "      <td>9.120000</td>\n",
       "      <td>104.209536</td>\n",
       "      <td>1.690000</td>\n",
       "      <td>68.000000</td>\n",
       "      <td>44.900000</td>\n",
       "      <td>49.600000</td>\n",
       "      <td>3.000000</td>\n",
       "    </tr>\n",
       "    <tr>\n",
       "      <th>max</th>\n",
       "      <td>2020.000000</td>\n",
       "      <td>90.000000</td>\n",
       "      <td>27.500000</td>\n",
       "      <td>10.000000</td>\n",
       "      <td>18.800000</td>\n",
       "      <td>31.000000</td>\n",
       "      <td>41.600000</td>\n",
       "      <td>811.700000</td>\n",
       "      <td>30.000000</td>\n",
       "      <td>46.784424</td>\n",
       "      <td>...</td>\n",
       "      <td>10664.616000</td>\n",
       "      <td>24.000000</td>\n",
       "      <td>46.590000</td>\n",
       "      <td>14.590000</td>\n",
       "      <td>104.694042</td>\n",
       "      <td>11.480000</td>\n",
       "      <td>70.000000</td>\n",
       "      <td>681.990000</td>\n",
       "      <td>82.520000</td>\n",
       "      <td>4.000000</td>\n",
       "    </tr>\n",
       "  </tbody>\n",
       "</table>\n",
       "<p>8 rows × 22 columns</p>\n",
       "</div>"
      ],
      "text/plain": [
       "             Année  Jour Calendrier Saison  Temp max.(°C)  Temp min.(°C)  \\\n",
       "count  1875.000000             1875.000000    1875.000000    1875.000000   \n",
       "mean   2010.000000               45.144000       1.507733      -8.633867   \n",
       "std       6.059559               25.781811       7.636093       8.695859   \n",
       "min    2000.000000                1.000000     -22.600000     -34.800000   \n",
       "25%    2005.000000               23.000000      -3.600000     -15.100000   \n",
       "50%    2010.000000               45.000000       1.700000      -6.700000   \n",
       "75%    2015.000000               67.000000       6.400000      -1.450000   \n",
       "max    2020.000000               90.000000      27.500000      10.000000   \n",
       "\n",
       "       Temp moy.(°C)  Diff Temp (°C)  Précip. tot. (mm)  \\\n",
       "count    1875.000000     1875.000000        1875.000000   \n",
       "mean       -3.565813       10.147680           2.738347   \n",
       "std         7.844030        4.770659           5.572377   \n",
       "min       -25.700000        0.900000           0.000000   \n",
       "25%        -9.300000        6.700000           0.000000   \n",
       "50%        -2.500000        9.600000           0.000000   \n",
       "75%         2.400000       13.100000           2.600000   \n",
       "max        18.800000       31.000000          41.600000   \n",
       "\n",
       "       Précip. Tot. Hiver (mm)  Nombre épisodes gel/dégel  \\\n",
       "count              1875.000000                1875.000000   \n",
       "mean                610.334347                  20.633067   \n",
       "std                 126.965290                   5.251394   \n",
       "min                 313.200000                  14.000000   \n",
       "25%                 536.400000                  16.000000   \n",
       "50%                 620.300000                  20.000000   \n",
       "75%                 685.100000                  25.000000   \n",
       "max                 811.700000                  30.000000   \n",
       "\n",
       "       Production moyenne par entaille (L)  ...  Alimentation osmoseur (L/j)  \\\n",
       "count                          1875.000000  ...                  1875.000000   \n",
       "mean                             26.523733  ...                  1038.447262   \n",
       "std                              10.234991  ...                  1745.361854   \n",
       "min                              11.567238  ...                     0.000000   \n",
       "25%                              17.280176  ...                   121.000000   \n",
       "50%                              26.462002  ...                   276.000000   \n",
       "75%                              34.315361  ...                   669.000000   \n",
       "max                              46.784424  ...                 10664.616000   \n",
       "\n",
       "       Osmoseur (heures opération/j)  Pression osmoseur (bar)  \\\n",
       "count                    1875.000000              1875.000000   \n",
       "mean                        2.336891                34.058421   \n",
       "std                         3.928002                14.394987   \n",
       "min                         0.000000                 0.000000   \n",
       "25%                         0.270000                37.720000   \n",
       "50%                         0.620000                39.600000   \n",
       "75%                         1.505000                41.120000   \n",
       "max                        24.000000                46.590000   \n",
       "\n",
       "       Sucre sortie osmoseur (%)  Température Bouilloire (0C)  \\\n",
       "count                1875.000000                  1875.000000   \n",
       "mean                    6.837088                    88.515555   \n",
       "std                     3.418384                    37.097081   \n",
       "min                     0.000000                     0.000000   \n",
       "25%                     5.720000                   103.823261   \n",
       "50%                     7.600000                   104.031253   \n",
       "75%                     9.120000                   104.209536   \n",
       "max                    14.590000                   104.694042   \n",
       "\n",
       "       Temps bouilloire (h)  Sucre du sirop obtenu (%)  \\\n",
       "count           1875.000000                1875.000000   \n",
       "mean               2.019547                  57.016533   \n",
       "std                1.719075                  23.913916   \n",
       "min                0.000000                   0.000000   \n",
       "25%                1.530000                  66.000000   \n",
       "50%                1.620000                  67.000000   \n",
       "75%                1.690000                  68.000000   \n",
       "max               11.480000                  70.000000   \n",
       "\n",
       "       Quantité de sirop obtenue (L)  Transmittance produit (%)  \\\n",
       "count                    1875.000000                1875.000000   \n",
       "mean                       74.689611                  37.075563   \n",
       "std                       126.713112                  18.920109   \n",
       "min                         0.000000                   0.000000   \n",
       "25%                         7.865000                  29.810000   \n",
       "50%                        19.200000                  40.700000   \n",
       "75%                        44.900000                  49.600000   \n",
       "max                       681.990000                  82.520000   \n",
       "\n",
       "       CategClasseSirop  \n",
       "count       1875.000000  \n",
       "mean           2.121067  \n",
       "std            1.247306  \n",
       "min            0.000000  \n",
       "25%            1.000000  \n",
       "50%            3.000000  \n",
       "75%            3.000000  \n",
       "max            4.000000  \n",
       "\n",
       "[8 rows x 22 columns]"
      ]
     },
     "execution_count": 14,
     "metadata": {},
     "output_type": "execute_result"
    }
   ],
   "source": [
    "stats = dfNumerique.describe()\n",
    "stats"
   ]
  },
  {
   "cell_type": "code",
   "execution_count": 17,
   "metadata": {},
   "outputs": [
    {
     "data": {
      "text/plain": [
       "Année                                  0\n",
       "Jour Calendrier Saison                 0\n",
       "Temp max.(°C)                          0\n",
       "Temp min.(°C)                          0\n",
       "Temp moy.(°C)                          0\n",
       "Diff Temp (°C)                         0\n",
       "Précip. tot. (mm)                      0\n",
       "Précip. Tot. Hiver (mm)                0\n",
       "Nombre épisodes gel/dégel              0\n",
       "Production moyenne par entaille (L)    0\n",
       "Débit sève (L/j)                       0\n",
       "Sucre sève (%)                         0\n",
       "Alimentation osmoseur (L/j)            0\n",
       "Osmoseur (heures opération/j)          0\n",
       "Pression osmoseur (bar)                0\n",
       "Sucre sortie osmoseur (%)              0\n",
       "Température Bouilloire (0C)            0\n",
       "Temps bouilloire (h)                   0\n",
       "Sucre du sirop obtenu (%)              0\n",
       "Quantité de sirop obtenue (L)          0\n",
       "Transmittance produit (%)              0\n",
       "CategClasseSirop                       0\n",
       "dtype: int64"
      ]
     },
     "execution_count": 17,
     "metadata": {},
     "output_type": "execute_result"
    }
   ],
   "source": [
    "#dfNumerique[dfNumerique['CategClasseSirop']==0 | dfNumerique['Pression osmoseur (bar)']==0].count()\n",
    "dfNumerique[dfNumerique['Pression osmoseur (bar)']==0].count()"
   ]
  },
  {
   "cell_type": "code",
   "execution_count": 16,
   "metadata": {},
   "outputs": [],
   "source": [
    "dfNumerique = dfNumerique.loc[dfNumerique['Pression osmoseur (bar)'] >0]"
   ]
  },
  {
   "cell_type": "code",
   "execution_count": 16,
   "metadata": {},
   "outputs": [],
   "source": [
    "## sns tips\n",
    "#sns.pairplot(dfNumerique)"
   ]
  },
  {
   "cell_type": "code",
   "execution_count": 17,
   "metadata": {},
   "outputs": [],
   "source": [
    "## pour chaque var dépendant, une régression\n",
    "#for col_y in list_cols_dependennt_vars:\n",
    "#    sns.pairplot(dfNumerique, y_vars=col_y.name, kind='reg')"
   ]
  },
  {
   "cell_type": "code",
   "execution_count": 18,
   "metadata": {},
   "outputs": [
    {
     "data": {
      "text/plain": [
       "<AxesSubplot:>"
      ]
     },
     "execution_count": 18,
     "metadata": {},
     "output_type": "execute_result"
    }
   ],
   "source": [
    "corr = dfNumerique.corr()\n",
    "sns.heatmap(corr, cbar=True, cmap=\"Blues\", center=0, annot=True, fmt=\".1f\")\n",
    "\n",
    "## le résultat est une matric 22x22 pas facile à visualiser"
   ]
  },
  {
   "cell_type": "code",
   "execution_count": 24,
   "metadata": {},
   "outputs": [
    {
     "data": {
      "text/plain": [
       "<AxesSubplot:>"
      ]
     },
     "execution_count": 24,
     "metadata": {},
     "output_type": "execute_result"
    }
   ],
   "source": [
    "## On voit qu'il y a certaines correlations parfaites\n",
    "## ex: (temp moyen, temp max), (temp moyen, temp min), (moyenne entaille, episode gel/degel)\n",
    "## (pression osmoseur bar, boullioire 0c), (pression osmoseur bar, quantité sirop obtenu %)\n",
    "## (osmoseur heures opération, alimentation osmoseur (L/j))\n",
    "## (Sucre sortie osmoseur (%), pression osmoseur)\n",
    "## (alimentation osmoseur, (L/j), temps boulloire) -> 0.89\n",
    "## (débit sève, heures opération/j)\n",
    "## Enlevons quelques unes de ces variables et revoyons la correlation\n",
    "list_col_redondantes = ['Temp min.(°C)', 'Temp max.(°C)', 'Température Bouilloire (0C)'\n",
    "                       , 'Quantité de sirop obtenue (L)', 'Sucre du sirop obtenu (%)'\n",
    "                       , 'Osmoseur (heures opération/j)', 'Sucre sortie osmoseur (%)'\n",
    "                       , 'Temps bouilloire (h)'\n",
    "                       ]\n",
    "\n",
    "## On repète l'opération antérieur avec moins de colonnes\n",
    "dfNumerique = dfNumerique.loc[:, ~dfNumerique.columns.isin(list_col_redondantes)]\n",
    "\n",
    "corr = dfNumerique.corr()\n",
    "\n",
    "## heatmap sans correlations parfaites ou presque parfaite:\n",
    "sns.heatmap(corr, cbar=True, cmap=\"Blues\", center=0, annot=True, fmt=\".2f\")"
   ]
  },
  {
   "cell_type": "markdown",
   "metadata": {},
   "source": [
    "### At this point, we have strong relationships:\n",
    "- Débit sève (L/j) --> Alimentation osmoseur (L/j) [0.97]\n",
    "- Sucre sève (%) --> Pression osmoseur (bar) [0.9]\n",
    "- Transmittance produit (%) --> Pression osmoseur (bar)[0.81], Sucre sortie osmoseur (%) [0.68]\n",
    "- Production moyenne par entaille (L) --> Nombre épisodes gel/dégel [0.95]"
   ]
  },
  {
   "cell_type": "code",
   "execution_count": 23,
   "metadata": {},
   "outputs": [
    {
     "data": {
      "text/plain": [
       "<seaborn.axisgrid.FacetGrid at 0x7ff0c246e100>"
      ]
     },
     "execution_count": 23,
     "metadata": {},
     "output_type": "execute_result"
    }
   ],
   "source": [
    "## Transmitance\n",
    "### pression_osmoseur_vs_transmittance\n",
    "sns.lmplot(x='Pression osmoseur (bar)', y = 'Transmittance produit (%)', data = dfNumerique)"
   ]
  },
  {
   "cell_type": "code",
   "execution_count": null,
   "metadata": {},
   "outputs": [],
   "source": [
    "## Le graphique ression_osmoseur_vs_transmittance montre une concentration\n",
    "## dans x près de 40. Regardons s'il y a des outliers:\n",
    "sns.boxplot(x='Pression osmoseur (bar)',data = dfNumerique)"
   ]
  },
  {
   "cell_type": "code",
   "execution_count": 20,
   "metadata": {},
   "outputs": [
    {
     "data": {
      "text/plain": [
       "count    1875.000000\n",
       "mean       34.058421\n",
       "std        14.394987\n",
       "min         0.000000\n",
       "25%        37.720000\n",
       "50%        39.600000\n",
       "75%        41.120000\n",
       "max        46.590000\n",
       "Name: Pression osmoseur (bar), dtype: float64"
      ]
     },
     "execution_count": 20,
     "metadata": {},
     "output_type": "execute_result"
    }
   ],
   "source": [
    "## effectivement, le boxplot nous montre la présence des outliers\n",
    "stats = dfNumerique['Pression osmoseur (bar)'].describe()\n",
    "stats"
   ]
  },
  {
   "cell_type": "code",
   "execution_count": 22,
   "metadata": {},
   "outputs": [
    {
     "data": {
      "text/plain": [
       "<AxesSubplot:xlabel='Pression osmoseur (bar)', ylabel='Count'>"
      ]
     },
     "execution_count": 22,
     "metadata": {},
     "output_type": "execute_result"
    }
   ],
   "source": [
    "### regardons combien de 0:\n",
    "sns.histplot(x='Pression osmoseur (bar)',data = dfNumerique)"
   ]
  },
  {
   "cell_type": "code",
   "execution_count": 16,
   "metadata": {},
   "outputs": [
    {
     "data": {
      "text/plain": [
       "<seaborn.axisgrid.PairGrid at 0x7f767c289d90>"
      ]
     },
     "execution_count": 16,
     "metadata": {},
     "output_type": "execute_result"
    }
   ],
   "source": [
    "#sns.pairplot(dfNumerique)"
   ]
  },
  {
   "cell_type": "code",
   "execution_count": 32,
   "metadata": {},
   "outputs": [
    {
     "data": {
      "text/plain": [
       "<AxesSubplot:>"
      ]
     },
     "execution_count": 32,
     "metadata": {},
     "output_type": "execute_result"
    }
   ],
   "source": [
    "## correlation seulement entre les variables indépendantes\n",
    "\n",
    "dfDependantVars= dfNumerique.loc[:, ~dfNumerique.columns.isin([col.name for col in list_cols_dependennt_vars])]\n",
    "type(dfDependantVars)\n",
    "\n",
    "corr2 = dfDependantVars.corr()\n",
    "sns.heatmap(corr2, cbar=True, annot=True, cmap=\"Blues\", fmt=\".02f\", center=0)"
   ]
  },
  {
   "cell_type": "markdown",
   "metadata": {},
   "source": [
    "Multiple Linear Regression - https://www.youtube.com/watch?v=J_LnPL3Qg70\n"
   ]
  },
  {
   "cell_type": "code",
   "execution_count": 16,
   "metadata": {},
   "outputs": [],
   "source": [
    "from sklearn import linear_model\n",
    "reg = linear_model.LinearRegression()\n",
    "\n",
    "## https://www.statology.org/pandas-exclude-column/\n",
    "#select all columns except 'rebounds' and 'assists'\n",
    "#df.loc[:, ~df.columns.isin(['rebounds', 'assists'])]\n",
    "list_reg = []\n",
    "for col in list_cols_dependennt_vars:\n",
    " #   print(col.name)\n",
    "    #result = reg.fit(dfNumerique[:, ~dfNumerique.columns.isin([col.name for col in list_cols_dependennt_vars])], dfNumerique[col.name])\n",
    "    result = reg.fit(dfNumerique.loc[:, ~dfNumerique.columns.isin([col.name for col in list_cols_dependennt_vars])], dfNumerique[col.name])\n",
    "    list_reg.append(result)\n",
    "\n",
    "\n",
    "#dfNumerique['Année'].name\n",
    "#list_cols_dependennt_vars[0].name\n",
    "#[col.name for col in list_cols_dependennt_vars]\n",
    "#reg.fit(dfNumerique.loc[:, ~dfNumerique.columns.isin([col.name for col in list_cols_dependennt_vars])], dfNumerique['Débit sève (L/j)'])\n",
    "#type(dfNumerique.loc[:, ~dfNumerique.columns.isin([col.name for col in list_cols_dependennt_vars])])\n",
    "#dfNumeriqueIndepVar = dfNumerique[:, ~dfNumerique.columns.isin([col.name for col in list_cols_dependennt_vars])]"
   ]
  },
  {
   "cell_type": "code",
   "execution_count": 24,
   "metadata": {},
   "outputs": [
    {
     "name": "stdout",
     "output_type": "stream",
     "text": [
      "coefs:  [ 0.14 -0.01 -0.78 -0.04  0.84  0.35 -0.01  0.01  1.86  0.   -1.58  5.49\n",
      " -5.48 -1.97  0.4   0.43 -0.01 -0.02]\n",
      "intercept:  -297.53227305336515\n"
     ]
    }
   ],
   "source": [
    "print(\"coefs: \", list_reg[0].coef_.round(2))\n",
    "print(\"intercept: \", list_reg[0].intercept_)"
   ]
  },
  {
   "cell_type": "markdown",
   "metadata": {},
   "source": [
    "fonction vérif distr normale"
   ]
  },
  {
   "cell_type": "code",
   "execution_count": 17,
   "metadata": {},
   "outputs": [],
   "source": [
    "def print_dist_norm(pCol, pXlabel, pYlabel=\"Fonction de densité f(x)\", pNbRuns=1000):\n",
    "    grille_x = np.linspace(pCol.min(), pCol.max(), pNbRuns)\n",
    "    dx=(pCol.max()-(pCol.min()))/(pNbRuns-1)\n",
    "    mu, sigma = sts.norm.fit(pCol.values)\n",
    "    param=sts.norm.fit(pCol.values)\n",
    "    pdf = sts.norm.pdf(grille_x, mu, sigma)\n",
    "    ax=pCol.plot.hist(density=True, bins = 10, color = 'blue', edgecolor = 'black')\n",
    "    ax.set_xlabel(pXlabel)\n",
    "    ax.plot(grille_x, pdf, linewidth=3, color = 'red')\n",
    "    ax.set_ylabel(pYlabel)"
   ]
  }
 ],
 "metadata": {
  "kernelspec": {
   "display_name": "Python 3",
   "language": "python",
   "name": "python3"
  },
  "language_info": {
   "codemirror_mode": {
    "name": "ipython",
    "version": 3
   },
   "file_extension": ".py",
   "mimetype": "text/x-python",
   "name": "python",
   "nbconvert_exporter": "python",
   "pygments_lexer": "ipython3",
   "version": "3.8.10"
  },
  "vscode": {
   "interpreter": {
    "hash": "31f2aee4e71d21fbe5cf8b01ff0e069b9275f58929596ceb00d14d90e3e16cd6"
   }
  }
 },
 "nbformat": 4,
 "nbformat_minor": 4
}
