{
 "cells": [
  {
   "cell_type": "code",
   "execution_count": 3,
   "metadata": {},
   "outputs": [],
   "source": [
    "import numpy as np\n",
    "import pandas as pd\n",
    "import matplotlib.pyplot as plt\n",
    "import scipy.stats as sts\n",
    "import statsmodels.api as stm\n",
    "import statsmodels.stats.weightstats as ws\n",
    "import sklearn.linear_model as sk_lin_mod\n",
    "import math\n",
    "import seaborn as sns\n",
    "import os\n",
    "from statsmodels.stats.outliers_influence import variance_inflation_factor as vif\n",
    "os.environ['KMP_DUPLICATE_LIB_OK'] = 'True'"
   ]
  },
  {
   "cell_type": "code",
   "execution_count": 4,
   "metadata": {},
   "outputs": [],
   "source": [
    "#import sys\n",
    "#!{sys.executable} -m pip install --upgrade ipykernel\n",
    "#!{sys.executable} -m pip install --upgrade pandas\n",
    "#!{sys.executable} -m pip install --upgrade  sickit-learn "
   ]
  },
  {
   "cell_type": "code",
   "execution_count": 5,
   "metadata": {},
   "outputs": [
    {
     "name": "stdout",
     "output_type": "stream",
     "text": [
      "Using matplotlib backend: <object object at 0x7f161cb794e0>\n"
     ]
    }
   ],
   "source": [
    "import PyQt5 #works\n",
    "from PyQt5 import QtCore, QtGui, QtWidgets #works for pyqt5\n",
    "%matplotlib "
   ]
  },
  {
   "cell_type": "code",
   "execution_count": 6,
   "metadata": {},
   "outputs": [
    {
     "data": {
      "text/plain": [
       "'/home/hadoop/Git_Ia/CegepSteFoy_IA/04_Eda/TP02'"
      ]
     },
     "execution_count": 6,
     "metadata": {},
     "output_type": "execute_result"
    }
   ],
   "source": [
    "os.getcwd()"
   ]
  },
  {
   "cell_type": "code",
   "execution_count": 7,
   "metadata": {},
   "outputs": [
    {
     "name": "stdout",
     "output_type": "stream",
     "text": [
      "/home/hadoop/Git_Ia/CegepSteFoy_IA/04_Eda/TP02\n"
     ]
    },
    {
     "data": {
      "text/plain": [
       "str"
      ]
     },
     "execution_count": 7,
     "metadata": {},
     "output_type": "execute_result"
    }
   ],
   "source": [
    "print (os.getcwd())\n",
    "currDir = os.getcwd()\n",
    "fullPath = currDir + \"/CabaneASucrev0r3.csv\"\n",
    "type(currDir)"
   ]
  },
  {
   "cell_type": "code",
   "execution_count": 8,
   "metadata": {},
   "outputs": [
    {
     "data": {
      "text/html": [
       "<div>\n",
       "<style scoped>\n",
       "    .dataframe tbody tr th:only-of-type {\n",
       "        vertical-align: middle;\n",
       "    }\n",
       "\n",
       "    .dataframe tbody tr th {\n",
       "        vertical-align: top;\n",
       "    }\n",
       "\n",
       "    .dataframe thead th {\n",
       "        text-align: right;\n",
       "    }\n",
       "</style>\n",
       "<table border=\"1\" class=\"dataframe\">\n",
       "  <thead>\n",
       "    <tr style=\"text-align: right;\">\n",
       "      <th></th>\n",
       "      <th>Année</th>\n",
       "      <th>Jour Calendrier Saison</th>\n",
       "      <th>Temp max.(°C)</th>\n",
       "      <th>Temp min.(°C)</th>\n",
       "      <th>Temp moy.(°C)</th>\n",
       "      <th>Diff Temp (°C)</th>\n",
       "      <th>Précip. tot. (mm)</th>\n",
       "      <th>Précip. Tot. Hiver (mm)</th>\n",
       "      <th>Nombre épisodes gel/dégel</th>\n",
       "      <th>Production moyenne par entaille (L)</th>\n",
       "      <th>...</th>\n",
       "      <th>Pixel6_B</th>\n",
       "      <th>Pixel7_R</th>\n",
       "      <th>Pixel7_G</th>\n",
       "      <th>Pixel7_B</th>\n",
       "      <th>Pixel8_R</th>\n",
       "      <th>Pixel8_G</th>\n",
       "      <th>Pixel8_B</th>\n",
       "      <th>Pixel9_R</th>\n",
       "      <th>Pixel9_G</th>\n",
       "      <th>Pixel9_B</th>\n",
       "    </tr>\n",
       "  </thead>\n",
       "  <tbody>\n",
       "    <tr>\n",
       "      <th>count</th>\n",
       "      <td>1875.000000</td>\n",
       "      <td>1875.000000</td>\n",
       "      <td>1873.00000</td>\n",
       "      <td>1875.000000</td>\n",
       "      <td>1873.000000</td>\n",
       "      <td>1875.000000</td>\n",
       "      <td>1872.000000</td>\n",
       "      <td>1875.000000</td>\n",
       "      <td>1875.000000</td>\n",
       "      <td>1875.000000</td>\n",
       "      <td>...</td>\n",
       "      <td>1875.000000</td>\n",
       "      <td>1875.000000</td>\n",
       "      <td>1875.000000</td>\n",
       "      <td>1875.000000</td>\n",
       "      <td>1875.000000</td>\n",
       "      <td>1875.000000</td>\n",
       "      <td>1875.000000</td>\n",
       "      <td>1875.000000</td>\n",
       "      <td>1875.000000</td>\n",
       "      <td>1875.000000</td>\n",
       "    </tr>\n",
       "    <tr>\n",
       "      <th>mean</th>\n",
       "      <td>2010.000000</td>\n",
       "      <td>45.144000</td>\n",
       "      <td>1.51543</td>\n",
       "      <td>-8.633867</td>\n",
       "      <td>-3.557768</td>\n",
       "      <td>10.147680</td>\n",
       "      <td>2.738568</td>\n",
       "      <td>610.334347</td>\n",
       "      <td>20.633067</td>\n",
       "      <td>26.523733</td>\n",
       "      <td>...</td>\n",
       "      <td>33.771435</td>\n",
       "      <td>157.936992</td>\n",
       "      <td>71.317269</td>\n",
       "      <td>32.709104</td>\n",
       "      <td>156.869221</td>\n",
       "      <td>70.605899</td>\n",
       "      <td>33.460053</td>\n",
       "      <td>157.787557</td>\n",
       "      <td>70.609437</td>\n",
       "      <td>32.820418</td>\n",
       "    </tr>\n",
       "    <tr>\n",
       "      <th>std</th>\n",
       "      <td>6.059559</td>\n",
       "      <td>25.781811</td>\n",
       "      <td>7.63530</td>\n",
       "      <td>8.695859</td>\n",
       "      <td>7.843854</td>\n",
       "      <td>4.770659</td>\n",
       "      <td>5.574896</td>\n",
       "      <td>126.965290</td>\n",
       "      <td>5.251394</td>\n",
       "      <td>10.234991</td>\n",
       "      <td>...</td>\n",
       "      <td>26.416038</td>\n",
       "      <td>85.971146</td>\n",
       "      <td>52.296358</td>\n",
       "      <td>26.692262</td>\n",
       "      <td>85.231625</td>\n",
       "      <td>52.970868</td>\n",
       "      <td>27.297388</td>\n",
       "      <td>85.760582</td>\n",
       "      <td>53.761268</td>\n",
       "      <td>27.040843</td>\n",
       "    </tr>\n",
       "    <tr>\n",
       "      <th>min</th>\n",
       "      <td>2000.000000</td>\n",
       "      <td>1.000000</td>\n",
       "      <td>-22.60000</td>\n",
       "      <td>-34.800000</td>\n",
       "      <td>-25.700000</td>\n",
       "      <td>0.900000</td>\n",
       "      <td>0.000000</td>\n",
       "      <td>313.200000</td>\n",
       "      <td>14.000000</td>\n",
       "      <td>11.567238</td>\n",
       "      <td>...</td>\n",
       "      <td>0.000000</td>\n",
       "      <td>0.000000</td>\n",
       "      <td>0.000000</td>\n",
       "      <td>0.000000</td>\n",
       "      <td>0.000000</td>\n",
       "      <td>0.000000</td>\n",
       "      <td>0.000000</td>\n",
       "      <td>0.000000</td>\n",
       "      <td>0.000000</td>\n",
       "      <td>0.000000</td>\n",
       "    </tr>\n",
       "    <tr>\n",
       "      <th>25%</th>\n",
       "      <td>2005.000000</td>\n",
       "      <td>23.000000</td>\n",
       "      <td>-3.60000</td>\n",
       "      <td>-15.100000</td>\n",
       "      <td>-9.300000</td>\n",
       "      <td>6.700000</td>\n",
       "      <td>0.000000</td>\n",
       "      <td>536.400000</td>\n",
       "      <td>16.000000</td>\n",
       "      <td>17.280176</td>\n",
       "      <td>...</td>\n",
       "      <td>8.345000</td>\n",
       "      <td>111.895000</td>\n",
       "      <td>32.555000</td>\n",
       "      <td>4.865000</td>\n",
       "      <td>111.960000</td>\n",
       "      <td>31.290000</td>\n",
       "      <td>5.545000</td>\n",
       "      <td>109.940000</td>\n",
       "      <td>28.830373</td>\n",
       "      <td>4.326591</td>\n",
       "    </tr>\n",
       "    <tr>\n",
       "      <th>50%</th>\n",
       "      <td>2010.000000</td>\n",
       "      <td>45.000000</td>\n",
       "      <td>1.70000</td>\n",
       "      <td>-6.700000</td>\n",
       "      <td>-2.500000</td>\n",
       "      <td>9.600000</td>\n",
       "      <td>0.000000</td>\n",
       "      <td>620.300000</td>\n",
       "      <td>20.000000</td>\n",
       "      <td>26.462002</td>\n",
       "      <td>...</td>\n",
       "      <td>32.970000</td>\n",
       "      <td>183.190000</td>\n",
       "      <td>71.920000</td>\n",
       "      <td>31.110000</td>\n",
       "      <td>180.810000</td>\n",
       "      <td>69.960000</td>\n",
       "      <td>31.410000</td>\n",
       "      <td>183.020000</td>\n",
       "      <td>70.558732</td>\n",
       "      <td>31.111611</td>\n",
       "    </tr>\n",
       "    <tr>\n",
       "      <th>75%</th>\n",
       "      <td>2015.000000</td>\n",
       "      <td>67.000000</td>\n",
       "      <td>6.40000</td>\n",
       "      <td>-1.450000</td>\n",
       "      <td>2.400000</td>\n",
       "      <td>13.100000</td>\n",
       "      <td>2.600000</td>\n",
       "      <td>685.100000</td>\n",
       "      <td>25.000000</td>\n",
       "      <td>34.315361</td>\n",
       "      <td>...</td>\n",
       "      <td>55.820000</td>\n",
       "      <td>227.420000</td>\n",
       "      <td>102.465000</td>\n",
       "      <td>54.910000</td>\n",
       "      <td>224.955000</td>\n",
       "      <td>103.015000</td>\n",
       "      <td>56.400000</td>\n",
       "      <td>225.820000</td>\n",
       "      <td>104.848430</td>\n",
       "      <td>55.027608</td>\n",
       "    </tr>\n",
       "    <tr>\n",
       "      <th>max</th>\n",
       "      <td>2020.000000</td>\n",
       "      <td>90.000000</td>\n",
       "      <td>27.50000</td>\n",
       "      <td>10.000000</td>\n",
       "      <td>18.800000</td>\n",
       "      <td>31.000000</td>\n",
       "      <td>41.600000</td>\n",
       "      <td>811.700000</td>\n",
       "      <td>30.000000</td>\n",
       "      <td>46.784424</td>\n",
       "      <td>...</td>\n",
       "      <td>108.800000</td>\n",
       "      <td>255.000000</td>\n",
       "      <td>255.000000</td>\n",
       "      <td>125.400000</td>\n",
       "      <td>255.000000</td>\n",
       "      <td>255.000000</td>\n",
       "      <td>117.940000</td>\n",
       "      <td>255.000000</td>\n",
       "      <td>255.000000</td>\n",
       "      <td>132.121595</td>\n",
       "    </tr>\n",
       "  </tbody>\n",
       "</table>\n",
       "<p>8 rows × 48 columns</p>\n",
       "</div>"
      ],
      "text/plain": [
       "             Année  Jour Calendrier Saison  Temp max.(°C)  Temp min.(°C)  \\\n",
       "count  1875.000000             1875.000000     1873.00000    1875.000000   \n",
       "mean   2010.000000               45.144000        1.51543      -8.633867   \n",
       "std       6.059559               25.781811        7.63530       8.695859   \n",
       "min    2000.000000                1.000000      -22.60000     -34.800000   \n",
       "25%    2005.000000               23.000000       -3.60000     -15.100000   \n",
       "50%    2010.000000               45.000000        1.70000      -6.700000   \n",
       "75%    2015.000000               67.000000        6.40000      -1.450000   \n",
       "max    2020.000000               90.000000       27.50000      10.000000   \n",
       "\n",
       "       Temp moy.(°C)  Diff Temp (°C)  Précip. tot. (mm)  \\\n",
       "count    1873.000000     1875.000000        1872.000000   \n",
       "mean       -3.557768       10.147680           2.738568   \n",
       "std         7.843854        4.770659           5.574896   \n",
       "min       -25.700000        0.900000           0.000000   \n",
       "25%        -9.300000        6.700000           0.000000   \n",
       "50%        -2.500000        9.600000           0.000000   \n",
       "75%         2.400000       13.100000           2.600000   \n",
       "max        18.800000       31.000000          41.600000   \n",
       "\n",
       "       Précip. Tot. Hiver (mm)  Nombre épisodes gel/dégel  \\\n",
       "count              1875.000000                1875.000000   \n",
       "mean                610.334347                  20.633067   \n",
       "std                 126.965290                   5.251394   \n",
       "min                 313.200000                  14.000000   \n",
       "25%                 536.400000                  16.000000   \n",
       "50%                 620.300000                  20.000000   \n",
       "75%                 685.100000                  25.000000   \n",
       "max                 811.700000                  30.000000   \n",
       "\n",
       "       Production moyenne par entaille (L)  ...     Pixel6_B     Pixel7_R  \\\n",
       "count                          1875.000000  ...  1875.000000  1875.000000   \n",
       "mean                             26.523733  ...    33.771435   157.936992   \n",
       "std                              10.234991  ...    26.416038    85.971146   \n",
       "min                              11.567238  ...     0.000000     0.000000   \n",
       "25%                              17.280176  ...     8.345000   111.895000   \n",
       "50%                              26.462002  ...    32.970000   183.190000   \n",
       "75%                              34.315361  ...    55.820000   227.420000   \n",
       "max                              46.784424  ...   108.800000   255.000000   \n",
       "\n",
       "          Pixel7_G     Pixel7_B     Pixel8_R     Pixel8_G     Pixel8_B  \\\n",
       "count  1875.000000  1875.000000  1875.000000  1875.000000  1875.000000   \n",
       "mean     71.317269    32.709104   156.869221    70.605899    33.460053   \n",
       "std      52.296358    26.692262    85.231625    52.970868    27.297388   \n",
       "min       0.000000     0.000000     0.000000     0.000000     0.000000   \n",
       "25%      32.555000     4.865000   111.960000    31.290000     5.545000   \n",
       "50%      71.920000    31.110000   180.810000    69.960000    31.410000   \n",
       "75%     102.465000    54.910000   224.955000   103.015000    56.400000   \n",
       "max     255.000000   125.400000   255.000000   255.000000   117.940000   \n",
       "\n",
       "          Pixel9_R     Pixel9_G     Pixel9_B  \n",
       "count  1875.000000  1875.000000  1875.000000  \n",
       "mean    157.787557    70.609437    32.820418  \n",
       "std      85.760582    53.761268    27.040843  \n",
       "min       0.000000     0.000000     0.000000  \n",
       "25%     109.940000    28.830373     4.326591  \n",
       "50%     183.020000    70.558732    31.111611  \n",
       "75%     225.820000   104.848430    55.027608  \n",
       "max     255.000000   255.000000   132.121595  \n",
       "\n",
       "[8 rows x 48 columns]"
      ]
     },
     "execution_count": 8,
     "metadata": {},
     "output_type": "execute_result"
    }
   ],
   "source": [
    "donnee = pd.read_csv(fullPath)\n",
    "stats=donnee.describe()\n",
    "dimensions=donnee.shape\n",
    "stats"
   ]
  },
  {
   "cell_type": "code",
   "execution_count": 9,
   "metadata": {},
   "outputs": [
    {
     "data": {
      "text/plain": [
       "Date                                   0\n",
       "Année                                  0\n",
       "Jour Calendrier Saison                 0\n",
       "Temp max.(°C)                          2\n",
       "Temp min.(°C)                          0\n",
       "Temp moy.(°C)                          2\n",
       "Diff Temp (°C)                         0\n",
       "Précip. tot. (mm)                      3\n",
       "Précip. Tot. Hiver (mm)                0\n",
       "Nombre épisodes gel/dégel              0\n",
       "Production moyenne par entaille (L)    0\n",
       "Débit sève (L/j)                       0\n",
       "Sucre sève (%)                         0\n",
       "Alimentation osmoseur (L/j)            0\n",
       "Osmoseur (heures opération/j)          0\n",
       "Pression osmoseur (bar)                0\n",
       "Sucre sortie osmoseur (%)              0\n",
       "Température Bouilloire (0C)            0\n",
       "Temps bouilloire (h)                   0\n",
       "Sucre du sirop obtenu (%)              0\n",
       "Quantité de sirop obtenue (L)          0\n",
       "Transmittance produit (%)              0\n",
       "Pixel1_R                               0\n",
       "Pixel1_G                               0\n",
       "Pixel1_B                               0\n",
       "Pixel2_R                               0\n",
       "Pixel2_G                               0\n",
       "Pixel2_B                               0\n",
       "Pixel3_R                               0\n",
       "Pixel3_G                               0\n",
       "Pixel3_B                               0\n",
       "Pixel4_R                               0\n",
       "Pixel4_G                               0\n",
       "Pixel4_B                               0\n",
       "Pixel5_R                               0\n",
       "Pixel5_G                               0\n",
       "Pixel5_B                               0\n",
       "Pixel6_R                               0\n",
       "Pixel6_G                               0\n",
       "Pixel6_B                               0\n",
       "Pixel7_R                               0\n",
       "Pixel7_G                               0\n",
       "Pixel7_B                               0\n",
       "Pixel8_R                               0\n",
       "Pixel8_G                               0\n",
       "Pixel8_B                               0\n",
       "Pixel9_R                               0\n",
       "Pixel9_G                               0\n",
       "Pixel9_B                               0\n",
       "Classe Sirop                           0\n",
       "dtype: int64"
      ]
     },
     "execution_count": 9,
     "metadata": {},
     "output_type": "execute_result"
    }
   ],
   "source": [
    "donnee.isnull().sum()"
   ]
  },
  {
   "cell_type": "markdown",
   "metadata": {},
   "source": [
    "Heureusement, très peu de nulls.\n",
    "\n",
    "Quels sont les enregistrements contenant des nulls?\n"
   ]
  },
  {
   "cell_type": "code",
   "execution_count": 10,
   "metadata": {},
   "outputs": [
    {
     "data": {
      "text/html": [
       "<div>\n",
       "<style scoped>\n",
       "    .dataframe tbody tr th:only-of-type {\n",
       "        vertical-align: middle;\n",
       "    }\n",
       "\n",
       "    .dataframe tbody tr th {\n",
       "        vertical-align: top;\n",
       "    }\n",
       "\n",
       "    .dataframe thead th {\n",
       "        text-align: right;\n",
       "    }\n",
       "</style>\n",
       "<table border=\"1\" class=\"dataframe\">\n",
       "  <thead>\n",
       "    <tr style=\"text-align: right;\">\n",
       "      <th></th>\n",
       "      <th>Date</th>\n",
       "      <th>Année</th>\n",
       "      <th>Jour Calendrier Saison</th>\n",
       "      <th>Temp max.(°C)</th>\n",
       "      <th>Temp min.(°C)</th>\n",
       "      <th>Temp moy.(°C)</th>\n",
       "      <th>Diff Temp (°C)</th>\n",
       "      <th>Précip. tot. (mm)</th>\n",
       "      <th>Précip. Tot. Hiver (mm)</th>\n",
       "      <th>Nombre épisodes gel/dégel</th>\n",
       "      <th>...</th>\n",
       "      <th>Pixel7_R</th>\n",
       "      <th>Pixel7_G</th>\n",
       "      <th>Pixel7_B</th>\n",
       "      <th>Pixel8_R</th>\n",
       "      <th>Pixel8_G</th>\n",
       "      <th>Pixel8_B</th>\n",
       "      <th>Pixel9_R</th>\n",
       "      <th>Pixel9_G</th>\n",
       "      <th>Pixel9_B</th>\n",
       "      <th>Classe Sirop</th>\n",
       "    </tr>\n",
       "  </thead>\n",
       "  <tbody>\n",
       "    <tr>\n",
       "      <th>1519</th>\n",
       "      <td>2017-02-02</td>\n",
       "      <td>2017</td>\n",
       "      <td>2</td>\n",
       "      <td>NaN</td>\n",
       "      <td>-17.4</td>\n",
       "      <td>NaN</td>\n",
       "      <td>17.4</td>\n",
       "      <td>NaN</td>\n",
       "      <td>770.6</td>\n",
       "      <td>20</td>\n",
       "      <td>...</td>\n",
       "      <td>224.35</td>\n",
       "      <td>173.08</td>\n",
       "      <td>30.45</td>\n",
       "      <td>255.00</td>\n",
       "      <td>127.83</td>\n",
       "      <td>77.18</td>\n",
       "      <td>255.00</td>\n",
       "      <td>127.017170</td>\n",
       "      <td>10.139073</td>\n",
       "      <td>Ambré</td>\n",
       "    </tr>\n",
       "    <tr>\n",
       "      <th>1524</th>\n",
       "      <td>2017-02-07</td>\n",
       "      <td>2017</td>\n",
       "      <td>7</td>\n",
       "      <td>NaN</td>\n",
       "      <td>-25.1</td>\n",
       "      <td>NaN</td>\n",
       "      <td>25.1</td>\n",
       "      <td>NaN</td>\n",
       "      <td>770.6</td>\n",
       "      <td>20</td>\n",
       "      <td>...</td>\n",
       "      <td>255.00</td>\n",
       "      <td>131.77</td>\n",
       "      <td>3.27</td>\n",
       "      <td>225.25</td>\n",
       "      <td>123.51</td>\n",
       "      <td>61.07</td>\n",
       "      <td>194.07</td>\n",
       "      <td>70.795317</td>\n",
       "      <td>71.603721</td>\n",
       "      <td>Foncé</td>\n",
       "    </tr>\n",
       "    <tr>\n",
       "      <th>1632</th>\n",
       "      <td>2018-02-26</td>\n",
       "      <td>2018</td>\n",
       "      <td>26</td>\n",
       "      <td>3.2</td>\n",
       "      <td>-7.4</td>\n",
       "      <td>-2.1</td>\n",
       "      <td>10.6</td>\n",
       "      <td>NaN</td>\n",
       "      <td>811.7</td>\n",
       "      <td>16</td>\n",
       "      <td>...</td>\n",
       "      <td>213.40</td>\n",
       "      <td>111.76</td>\n",
       "      <td>3.39</td>\n",
       "      <td>212.26</td>\n",
       "      <td>98.49</td>\n",
       "      <td>35.60</td>\n",
       "      <td>193.85</td>\n",
       "      <td>127.018875</td>\n",
       "      <td>37.339503</td>\n",
       "      <td>Foncé</td>\n",
       "    </tr>\n",
       "  </tbody>\n",
       "</table>\n",
       "<p>3 rows × 50 columns</p>\n",
       "</div>"
      ],
      "text/plain": [
       "            Date  Année  Jour Calendrier Saison  Temp max.(°C)  Temp min.(°C)  \\\n",
       "1519  2017-02-02   2017                       2            NaN          -17.4   \n",
       "1524  2017-02-07   2017                       7            NaN          -25.1   \n",
       "1632  2018-02-26   2018                      26            3.2           -7.4   \n",
       "\n",
       "      Temp moy.(°C)  Diff Temp (°C)  Précip. tot. (mm)  \\\n",
       "1519            NaN            17.4                NaN   \n",
       "1524            NaN            25.1                NaN   \n",
       "1632           -2.1            10.6                NaN   \n",
       "\n",
       "      Précip. Tot. Hiver (mm)  Nombre épisodes gel/dégel  ...  Pixel7_R  \\\n",
       "1519                    770.6                         20  ...    224.35   \n",
       "1524                    770.6                         20  ...    255.00   \n",
       "1632                    811.7                         16  ...    213.40   \n",
       "\n",
       "      Pixel7_G  Pixel7_B  Pixel8_R  Pixel8_G  Pixel8_B  Pixel9_R    Pixel9_G  \\\n",
       "1519    173.08     30.45    255.00    127.83     77.18    255.00  127.017170   \n",
       "1524    131.77      3.27    225.25    123.51     61.07    194.07   70.795317   \n",
       "1632    111.76      3.39    212.26     98.49     35.60    193.85  127.018875   \n",
       "\n",
       "       Pixel9_B  Classe Sirop  \n",
       "1519  10.139073         Ambré  \n",
       "1524  71.603721         Foncé  \n",
       "1632  37.339503         Foncé  \n",
       "\n",
       "[3 rows x 50 columns]"
      ]
     },
     "execution_count": 10,
     "metadata": {},
     "output_type": "execute_result"
    }
   ],
   "source": [
    "donnee[(donnee['Temp max.(°C)'].isna()==True) | (donnee['Précip. tot. (mm)'].isna()==True)] "
   ]
  },
  {
   "cell_type": "markdown",
   "metadata": {},
   "source": [
    "Fill na"
   ]
  },
  {
   "cell_type": "code",
   "execution_count": 11,
   "metadata": {},
   "outputs": [
    {
     "data": {
      "text/plain": [
       "Date                                   0\n",
       "Année                                  0\n",
       "Jour Calendrier Saison                 0\n",
       "Temp max.(°C)                          0\n",
       "Temp min.(°C)                          0\n",
       "Temp moy.(°C)                          0\n",
       "Diff Temp (°C)                         0\n",
       "Précip. tot. (mm)                      0\n",
       "Précip. Tot. Hiver (mm)                0\n",
       "Nombre épisodes gel/dégel              0\n",
       "Production moyenne par entaille (L)    0\n",
       "Débit sève (L/j)                       0\n",
       "Sucre sève (%)                         0\n",
       "Alimentation osmoseur (L/j)            0\n",
       "Osmoseur (heures opération/j)          0\n",
       "Pression osmoseur (bar)                0\n",
       "Sucre sortie osmoseur (%)              0\n",
       "Température Bouilloire (0C)            0\n",
       "Temps bouilloire (h)                   0\n",
       "Sucre du sirop obtenu (%)              0\n",
       "Quantité de sirop obtenue (L)          0\n",
       "Transmittance produit (%)              0\n",
       "Pixel1_R                               0\n",
       "Pixel1_G                               0\n",
       "Pixel1_B                               0\n",
       "Pixel2_R                               0\n",
       "Pixel2_G                               0\n",
       "Pixel2_B                               0\n",
       "Pixel3_R                               0\n",
       "Pixel3_G                               0\n",
       "Pixel3_B                               0\n",
       "Pixel4_R                               0\n",
       "Pixel4_G                               0\n",
       "Pixel4_B                               0\n",
       "Pixel5_R                               0\n",
       "Pixel5_G                               0\n",
       "Pixel5_B                               0\n",
       "Pixel6_R                               0\n",
       "Pixel6_G                               0\n",
       "Pixel6_B                               0\n",
       "Pixel7_R                               0\n",
       "Pixel7_G                               0\n",
       "Pixel7_B                               0\n",
       "Pixel8_R                               0\n",
       "Pixel8_G                               0\n",
       "Pixel8_B                               0\n",
       "Pixel9_R                               0\n",
       "Pixel9_G                               0\n",
       "Pixel9_B                               0\n",
       "Classe Sirop                           0\n",
       "dtype: int64"
      ]
     },
     "execution_count": 11,
     "metadata": {},
     "output_type": "execute_result"
    }
   ],
   "source": [
    "donnee.fillna(method='bfill', inplace=True)\n",
    "donnee.isnull().sum()"
   ]
  },
  {
   "cell_type": "code",
   "execution_count": 12,
   "metadata": {},
   "outputs": [
    {
     "data": {
      "text/plain": [
       "Index(['Date', 'Année', 'Jour Calendrier Saison', 'Temp max.(°C)',\n",
       "       'Temp min.(°C)', 'Temp moy.(°C)', 'Diff Temp (°C)', 'Précip. tot. (mm)',\n",
       "       'Précip. Tot. Hiver (mm)', 'Nombre épisodes gel/dégel',\n",
       "       'Production moyenne par entaille (L)', 'Débit sève (L/j)',\n",
       "       'Sucre sève (%)', 'Alimentation osmoseur (L/j)',\n",
       "       'Osmoseur (heures opération/j)', 'Pression osmoseur (bar)',\n",
       "       'Sucre sortie osmoseur (%)', 'Température Bouilloire (0C)',\n",
       "       'Temps bouilloire (h)', 'Sucre du sirop obtenu (%)',\n",
       "       'Quantité de sirop obtenue (L)', 'Transmittance produit (%)',\n",
       "       'Pixel1_R', 'Pixel1_G', 'Pixel1_B', 'Pixel2_R', 'Pixel2_G', 'Pixel2_B',\n",
       "       'Pixel3_R', 'Pixel3_G', 'Pixel3_B', 'Pixel4_R', 'Pixel4_G', 'Pixel4_B',\n",
       "       'Pixel5_R', 'Pixel5_G', 'Pixel5_B', 'Pixel6_R', 'Pixel6_G', 'Pixel6_B',\n",
       "       'Pixel7_R', 'Pixel7_G', 'Pixel7_B', 'Pixel8_R', 'Pixel8_G', 'Pixel8_B',\n",
       "       'Pixel9_R', 'Pixel9_G', 'Pixel9_B', 'Classe Sirop'],\n",
       "      dtype='object')"
      ]
     },
     "execution_count": 12,
     "metadata": {},
     "output_type": "execute_result"
    }
   ],
   "source": [
    "donnee.columns"
   ]
  },
  {
   "cell_type": "markdown",
   "metadata": {},
   "source": [
    "Supprimer les colonnes pixel"
   ]
  },
  {
   "cell_type": "code",
   "execution_count": 13,
   "metadata": {},
   "outputs": [
    {
     "data": {
      "text/plain": [
       "Index(['Date', 'Année', 'Jour Calendrier Saison', 'Temp max.(°C)',\n",
       "       'Temp min.(°C)', 'Temp moy.(°C)', 'Diff Temp (°C)', 'Précip. tot. (mm)',\n",
       "       'Précip. Tot. Hiver (mm)', 'Nombre épisodes gel/dégel',\n",
       "       'Production moyenne par entaille (L)', 'Débit sève (L/j)',\n",
       "       'Sucre sève (%)', 'Alimentation osmoseur (L/j)',\n",
       "       'Osmoseur (heures opération/j)', 'Pression osmoseur (bar)',\n",
       "       'Sucre sortie osmoseur (%)', 'Température Bouilloire (0C)',\n",
       "       'Temps bouilloire (h)', 'Sucre du sirop obtenu (%)',\n",
       "       'Quantité de sirop obtenue (L)', 'Transmittance produit (%)',\n",
       "       'Classe Sirop'],\n",
       "      dtype='object')"
      ]
     },
     "execution_count": 13,
     "metadata": {},
     "output_type": "execute_result"
    }
   ],
   "source": [
    "donnee.filter(like='Pixel').columns\n",
    "dfSansPixel = donnee.drop(donnee.filter(like='Pixel').columns, axis=1)\n",
    "dfSansPixel.columns"
   ]
  },
  {
   "cell_type": "code",
   "execution_count": 14,
   "metadata": {},
   "outputs": [
    {
     "data": {
      "text/plain": [
       "Date                                    object\n",
       "Année                                    int64\n",
       "Jour Calendrier Saison                   int64\n",
       "Temp max.(°C)                          float64\n",
       "Temp min.(°C)                          float64\n",
       "Temp moy.(°C)                          float64\n",
       "Diff Temp (°C)                         float64\n",
       "Précip. tot. (mm)                      float64\n",
       "Précip. Tot. Hiver (mm)                float64\n",
       "Nombre épisodes gel/dégel                int64\n",
       "Production moyenne par entaille (L)    float64\n",
       "Débit sève (L/j)                       float64\n",
       "Sucre sève (%)                         float64\n",
       "Alimentation osmoseur (L/j)            float64\n",
       "Osmoseur (heures opération/j)          float64\n",
       "Pression osmoseur (bar)                float64\n",
       "Sucre sortie osmoseur (%)              float64\n",
       "Température Bouilloire (0C)            float64\n",
       "Temps bouilloire (h)                   float64\n",
       "Sucre du sirop obtenu (%)                int64\n",
       "Quantité de sirop obtenue (L)          float64\n",
       "Transmittance produit (%)              float64\n",
       "Classe Sirop                            object\n",
       "dtype: object"
      ]
     },
     "execution_count": 14,
     "metadata": {},
     "output_type": "execute_result"
    }
   ],
   "source": [
    "dfSansPixel.dtypes"
   ]
  },
  {
   "cell_type": "code",
   "execution_count": 15,
   "metadata": {},
   "outputs": [],
   "source": [
    "### liste de variables (colonnes) dépendantes\n",
    "list_cols_dependennt_vars = []\n",
    "col_debit_seve = dfSansPixel['Débit sève (L/j)'].name\n",
    "col_sucre_dans_seve = dfSansPixel['Sucre sève (%)'].name\n",
    "col_pct_transmittance = dfSansPixel['Transmittance produit (%)'].name\n",
    "col_productivite_seve_par_saison = dfSansPixel['Production moyenne par entaille (L)'].name\n",
    "list_cols_dependennt_vars = [col_debit_seve, col_sucre_dans_seve, col_pct_transmittance, col_productivite_seve_par_saison]"
   ]
  },
  {
   "cell_type": "code",
   "execution_count": 16,
   "metadata": {},
   "outputs": [
    {
     "data": {
      "text/plain": [
       "Année                                    int64\n",
       "Jour Calendrier Saison                   int64\n",
       "Temp max.(°C)                          float64\n",
       "Temp min.(°C)                          float64\n",
       "Temp moy.(°C)                          float64\n",
       "Diff Temp (°C)                         float64\n",
       "Précip. tot. (mm)                      float64\n",
       "Précip. Tot. Hiver (mm)                float64\n",
       "Nombre épisodes gel/dégel                int64\n",
       "Production moyenne par entaille (L)    float64\n",
       "Débit sève (L/j)                       float64\n",
       "Sucre sève (%)                         float64\n",
       "Alimentation osmoseur (L/j)            float64\n",
       "Osmoseur (heures opération/j)          float64\n",
       "Pression osmoseur (bar)                float64\n",
       "Sucre sortie osmoseur (%)              float64\n",
       "Température Bouilloire (0C)            float64\n",
       "Temps bouilloire (h)                   float64\n",
       "Sucre du sirop obtenu (%)                int64\n",
       "Quantité de sirop obtenue (L)          float64\n",
       "Transmittance produit (%)              float64\n",
       "CategClasseSirop                          int8\n",
       "dtype: object"
      ]
     },
     "execution_count": 16,
     "metadata": {},
     "output_type": "execute_result"
    }
   ],
   "source": [
    "## convertir Classe Sirop en numérique - https://www.youtube.com/watch?v=wH_ezgftiy0&t=136s\n",
    "dfSansPixel['CategClasseSirop'] = dfSansPixel['Classe Sirop'].astype('category').cat.codes\n",
    "dfNumerique = dfSansPixel.select_dtypes(exclude='object').copy()\n",
    "dfNumerique.dtypes"
   ]
  },
  {
   "cell_type": "markdown",
   "metadata": {},
   "source": [
    "### Multiple Linear Regression\n",
    "\n",
    "\n",
    "https://www.geeksforgeeks.org/ml-multiple-linear-regression-using-python/\n",
    "\n",
    "Assumption of Regression Model : \n",
    "\n",
    "- Linearity: The relationship between dependent and independent variables should be linear.\n",
    "- Homoscedasticity: Constant variance of the errors should be maintained.\n",
    "- Multivariate normality: Multiple Regression assumes that the residuals are normally distributed.\n",
    "- Lack of Multicollinearity: It is assumed that there is little or no multicollinearity in"
   ]
  },
  {
   "cell_type": "code",
   "execution_count": 17,
   "metadata": {},
   "outputs": [
    {
     "data": {
      "text/html": [
       "<div>\n",
       "<style scoped>\n",
       "    .dataframe tbody tr th:only-of-type {\n",
       "        vertical-align: middle;\n",
       "    }\n",
       "\n",
       "    .dataframe tbody tr th {\n",
       "        vertical-align: top;\n",
       "    }\n",
       "\n",
       "    .dataframe thead th {\n",
       "        text-align: right;\n",
       "    }\n",
       "</style>\n",
       "<table border=\"1\" class=\"dataframe\">\n",
       "  <thead>\n",
       "    <tr style=\"text-align: right;\">\n",
       "      <th></th>\n",
       "      <th>Année</th>\n",
       "      <th>Jour Calendrier Saison</th>\n",
       "      <th>Temp max.(°C)</th>\n",
       "      <th>Temp min.(°C)</th>\n",
       "      <th>Temp moy.(°C)</th>\n",
       "      <th>Diff Temp (°C)</th>\n",
       "      <th>Précip. tot. (mm)</th>\n",
       "      <th>Précip. Tot. Hiver (mm)</th>\n",
       "      <th>Nombre épisodes gel/dégel</th>\n",
       "      <th>Production moyenne par entaille (L)</th>\n",
       "      <th>...</th>\n",
       "      <th>Alimentation osmoseur (L/j)</th>\n",
       "      <th>Osmoseur (heures opération/j)</th>\n",
       "      <th>Pression osmoseur (bar)</th>\n",
       "      <th>Sucre sortie osmoseur (%)</th>\n",
       "      <th>Température Bouilloire (0C)</th>\n",
       "      <th>Temps bouilloire (h)</th>\n",
       "      <th>Sucre du sirop obtenu (%)</th>\n",
       "      <th>Quantité de sirop obtenue (L)</th>\n",
       "      <th>Transmittance produit (%)</th>\n",
       "      <th>CategClasseSirop</th>\n",
       "    </tr>\n",
       "  </thead>\n",
       "  <tbody>\n",
       "    <tr>\n",
       "      <th>count</th>\n",
       "      <td>1875.000000</td>\n",
       "      <td>1875.000000</td>\n",
       "      <td>1875.000000</td>\n",
       "      <td>1875.000000</td>\n",
       "      <td>1875.000000</td>\n",
       "      <td>1875.000000</td>\n",
       "      <td>1875.000000</td>\n",
       "      <td>1875.000000</td>\n",
       "      <td>1875.000000</td>\n",
       "      <td>1875.000000</td>\n",
       "      <td>...</td>\n",
       "      <td>1875.000000</td>\n",
       "      <td>1875.000000</td>\n",
       "      <td>1875.000000</td>\n",
       "      <td>1875.000000</td>\n",
       "      <td>1875.000000</td>\n",
       "      <td>1875.000000</td>\n",
       "      <td>1875.000000</td>\n",
       "      <td>1875.000000</td>\n",
       "      <td>1875.000000</td>\n",
       "      <td>1875.000000</td>\n",
       "    </tr>\n",
       "    <tr>\n",
       "      <th>mean</th>\n",
       "      <td>2010.000000</td>\n",
       "      <td>45.144000</td>\n",
       "      <td>1.507733</td>\n",
       "      <td>-8.633867</td>\n",
       "      <td>-3.565813</td>\n",
       "      <td>10.147680</td>\n",
       "      <td>2.738347</td>\n",
       "      <td>610.334347</td>\n",
       "      <td>20.633067</td>\n",
       "      <td>26.523733</td>\n",
       "      <td>...</td>\n",
       "      <td>1038.447262</td>\n",
       "      <td>2.336891</td>\n",
       "      <td>34.058421</td>\n",
       "      <td>6.837088</td>\n",
       "      <td>88.515555</td>\n",
       "      <td>2.019547</td>\n",
       "      <td>57.016533</td>\n",
       "      <td>74.689611</td>\n",
       "      <td>37.075563</td>\n",
       "      <td>2.121067</td>\n",
       "    </tr>\n",
       "    <tr>\n",
       "      <th>std</th>\n",
       "      <td>6.059559</td>\n",
       "      <td>25.781811</td>\n",
       "      <td>7.636093</td>\n",
       "      <td>8.695859</td>\n",
       "      <td>7.844030</td>\n",
       "      <td>4.770659</td>\n",
       "      <td>5.572377</td>\n",
       "      <td>126.965290</td>\n",
       "      <td>5.251394</td>\n",
       "      <td>10.234991</td>\n",
       "      <td>...</td>\n",
       "      <td>1745.361854</td>\n",
       "      <td>3.928002</td>\n",
       "      <td>14.394987</td>\n",
       "      <td>3.418384</td>\n",
       "      <td>37.097081</td>\n",
       "      <td>1.719075</td>\n",
       "      <td>23.913916</td>\n",
       "      <td>126.713112</td>\n",
       "      <td>18.920109</td>\n",
       "      <td>1.247306</td>\n",
       "    </tr>\n",
       "    <tr>\n",
       "      <th>min</th>\n",
       "      <td>2000.000000</td>\n",
       "      <td>1.000000</td>\n",
       "      <td>-22.600000</td>\n",
       "      <td>-34.800000</td>\n",
       "      <td>-25.700000</td>\n",
       "      <td>0.900000</td>\n",
       "      <td>0.000000</td>\n",
       "      <td>313.200000</td>\n",
       "      <td>14.000000</td>\n",
       "      <td>11.567238</td>\n",
       "      <td>...</td>\n",
       "      <td>0.000000</td>\n",
       "      <td>0.000000</td>\n",
       "      <td>0.000000</td>\n",
       "      <td>0.000000</td>\n",
       "      <td>0.000000</td>\n",
       "      <td>0.000000</td>\n",
       "      <td>0.000000</td>\n",
       "      <td>0.000000</td>\n",
       "      <td>0.000000</td>\n",
       "      <td>0.000000</td>\n",
       "    </tr>\n",
       "    <tr>\n",
       "      <th>25%</th>\n",
       "      <td>2005.000000</td>\n",
       "      <td>23.000000</td>\n",
       "      <td>-3.600000</td>\n",
       "      <td>-15.100000</td>\n",
       "      <td>-9.300000</td>\n",
       "      <td>6.700000</td>\n",
       "      <td>0.000000</td>\n",
       "      <td>536.400000</td>\n",
       "      <td>16.000000</td>\n",
       "      <td>17.280176</td>\n",
       "      <td>...</td>\n",
       "      <td>121.000000</td>\n",
       "      <td>0.270000</td>\n",
       "      <td>37.720000</td>\n",
       "      <td>5.720000</td>\n",
       "      <td>103.823261</td>\n",
       "      <td>1.530000</td>\n",
       "      <td>66.000000</td>\n",
       "      <td>7.865000</td>\n",
       "      <td>29.810000</td>\n",
       "      <td>1.000000</td>\n",
       "    </tr>\n",
       "    <tr>\n",
       "      <th>50%</th>\n",
       "      <td>2010.000000</td>\n",
       "      <td>45.000000</td>\n",
       "      <td>1.700000</td>\n",
       "      <td>-6.700000</td>\n",
       "      <td>-2.500000</td>\n",
       "      <td>9.600000</td>\n",
       "      <td>0.000000</td>\n",
       "      <td>620.300000</td>\n",
       "      <td>20.000000</td>\n",
       "      <td>26.462002</td>\n",
       "      <td>...</td>\n",
       "      <td>276.000000</td>\n",
       "      <td>0.620000</td>\n",
       "      <td>39.600000</td>\n",
       "      <td>7.600000</td>\n",
       "      <td>104.031253</td>\n",
       "      <td>1.620000</td>\n",
       "      <td>67.000000</td>\n",
       "      <td>19.200000</td>\n",
       "      <td>40.700000</td>\n",
       "      <td>3.000000</td>\n",
       "    </tr>\n",
       "    <tr>\n",
       "      <th>75%</th>\n",
       "      <td>2015.000000</td>\n",
       "      <td>67.000000</td>\n",
       "      <td>6.400000</td>\n",
       "      <td>-1.450000</td>\n",
       "      <td>2.400000</td>\n",
       "      <td>13.100000</td>\n",
       "      <td>2.600000</td>\n",
       "      <td>685.100000</td>\n",
       "      <td>25.000000</td>\n",
       "      <td>34.315361</td>\n",
       "      <td>...</td>\n",
       "      <td>669.000000</td>\n",
       "      <td>1.505000</td>\n",
       "      <td>41.120000</td>\n",
       "      <td>9.120000</td>\n",
       "      <td>104.209536</td>\n",
       "      <td>1.690000</td>\n",
       "      <td>68.000000</td>\n",
       "      <td>44.900000</td>\n",
       "      <td>49.600000</td>\n",
       "      <td>3.000000</td>\n",
       "    </tr>\n",
       "    <tr>\n",
       "      <th>max</th>\n",
       "      <td>2020.000000</td>\n",
       "      <td>90.000000</td>\n",
       "      <td>27.500000</td>\n",
       "      <td>10.000000</td>\n",
       "      <td>18.800000</td>\n",
       "      <td>31.000000</td>\n",
       "      <td>41.600000</td>\n",
       "      <td>811.700000</td>\n",
       "      <td>30.000000</td>\n",
       "      <td>46.784424</td>\n",
       "      <td>...</td>\n",
       "      <td>10664.616000</td>\n",
       "      <td>24.000000</td>\n",
       "      <td>46.590000</td>\n",
       "      <td>14.590000</td>\n",
       "      <td>104.694042</td>\n",
       "      <td>11.480000</td>\n",
       "      <td>70.000000</td>\n",
       "      <td>681.990000</td>\n",
       "      <td>82.520000</td>\n",
       "      <td>4.000000</td>\n",
       "    </tr>\n",
       "  </tbody>\n",
       "</table>\n",
       "<p>8 rows × 22 columns</p>\n",
       "</div>"
      ],
      "text/plain": [
       "             Année  Jour Calendrier Saison  Temp max.(°C)  Temp min.(°C)  \\\n",
       "count  1875.000000             1875.000000    1875.000000    1875.000000   \n",
       "mean   2010.000000               45.144000       1.507733      -8.633867   \n",
       "std       6.059559               25.781811       7.636093       8.695859   \n",
       "min    2000.000000                1.000000     -22.600000     -34.800000   \n",
       "25%    2005.000000               23.000000      -3.600000     -15.100000   \n",
       "50%    2010.000000               45.000000       1.700000      -6.700000   \n",
       "75%    2015.000000               67.000000       6.400000      -1.450000   \n",
       "max    2020.000000               90.000000      27.500000      10.000000   \n",
       "\n",
       "       Temp moy.(°C)  Diff Temp (°C)  Précip. tot. (mm)  \\\n",
       "count    1875.000000     1875.000000        1875.000000   \n",
       "mean       -3.565813       10.147680           2.738347   \n",
       "std         7.844030        4.770659           5.572377   \n",
       "min       -25.700000        0.900000           0.000000   \n",
       "25%        -9.300000        6.700000           0.000000   \n",
       "50%        -2.500000        9.600000           0.000000   \n",
       "75%         2.400000       13.100000           2.600000   \n",
       "max        18.800000       31.000000          41.600000   \n",
       "\n",
       "       Précip. Tot. Hiver (mm)  Nombre épisodes gel/dégel  \\\n",
       "count              1875.000000                1875.000000   \n",
       "mean                610.334347                  20.633067   \n",
       "std                 126.965290                   5.251394   \n",
       "min                 313.200000                  14.000000   \n",
       "25%                 536.400000                  16.000000   \n",
       "50%                 620.300000                  20.000000   \n",
       "75%                 685.100000                  25.000000   \n",
       "max                 811.700000                  30.000000   \n",
       "\n",
       "       Production moyenne par entaille (L)  ...  Alimentation osmoseur (L/j)  \\\n",
       "count                          1875.000000  ...                  1875.000000   \n",
       "mean                             26.523733  ...                  1038.447262   \n",
       "std                              10.234991  ...                  1745.361854   \n",
       "min                              11.567238  ...                     0.000000   \n",
       "25%                              17.280176  ...                   121.000000   \n",
       "50%                              26.462002  ...                   276.000000   \n",
       "75%                              34.315361  ...                   669.000000   \n",
       "max                              46.784424  ...                 10664.616000   \n",
       "\n",
       "       Osmoseur (heures opération/j)  Pression osmoseur (bar)  \\\n",
       "count                    1875.000000              1875.000000   \n",
       "mean                        2.336891                34.058421   \n",
       "std                         3.928002                14.394987   \n",
       "min                         0.000000                 0.000000   \n",
       "25%                         0.270000                37.720000   \n",
       "50%                         0.620000                39.600000   \n",
       "75%                         1.505000                41.120000   \n",
       "max                        24.000000                46.590000   \n",
       "\n",
       "       Sucre sortie osmoseur (%)  Température Bouilloire (0C)  \\\n",
       "count                1875.000000                  1875.000000   \n",
       "mean                    6.837088                    88.515555   \n",
       "std                     3.418384                    37.097081   \n",
       "min                     0.000000                     0.000000   \n",
       "25%                     5.720000                   103.823261   \n",
       "50%                     7.600000                   104.031253   \n",
       "75%                     9.120000                   104.209536   \n",
       "max                    14.590000                   104.694042   \n",
       "\n",
       "       Temps bouilloire (h)  Sucre du sirop obtenu (%)  \\\n",
       "count           1875.000000                1875.000000   \n",
       "mean               2.019547                  57.016533   \n",
       "std                1.719075                  23.913916   \n",
       "min                0.000000                   0.000000   \n",
       "25%                1.530000                  66.000000   \n",
       "50%                1.620000                  67.000000   \n",
       "75%                1.690000                  68.000000   \n",
       "max               11.480000                  70.000000   \n",
       "\n",
       "       Quantité de sirop obtenue (L)  Transmittance produit (%)  \\\n",
       "count                    1875.000000                1875.000000   \n",
       "mean                       74.689611                  37.075563   \n",
       "std                       126.713112                  18.920109   \n",
       "min                         0.000000                   0.000000   \n",
       "25%                         7.865000                  29.810000   \n",
       "50%                        19.200000                  40.700000   \n",
       "75%                        44.900000                  49.600000   \n",
       "max                       681.990000                  82.520000   \n",
       "\n",
       "       CategClasseSirop  \n",
       "count       1875.000000  \n",
       "mean           2.121067  \n",
       "std            1.247306  \n",
       "min            0.000000  \n",
       "25%            1.000000  \n",
       "50%            3.000000  \n",
       "75%            3.000000  \n",
       "max            4.000000  \n",
       "\n",
       "[8 rows x 22 columns]"
      ]
     },
     "execution_count": 17,
     "metadata": {},
     "output_type": "execute_result"
    }
   ],
   "source": [
    "stats = dfNumerique.describe()\n",
    "stats"
   ]
  },
  {
   "cell_type": "code",
   "execution_count": 18,
   "metadata": {},
   "outputs": [
    {
     "data": {
      "text/plain": [
       "Année                                  280\n",
       "Jour Calendrier Saison                 280\n",
       "Temp max.(°C)                          280\n",
       "Temp min.(°C)                          280\n",
       "Temp moy.(°C)                          280\n",
       "Diff Temp (°C)                         280\n",
       "Précip. tot. (mm)                      280\n",
       "Précip. Tot. Hiver (mm)                280\n",
       "Nombre épisodes gel/dégel              280\n",
       "Production moyenne par entaille (L)    280\n",
       "Débit sève (L/j)                       280\n",
       "Sucre sève (%)                         280\n",
       "Alimentation osmoseur (L/j)            280\n",
       "Osmoseur (heures opération/j)          280\n",
       "Pression osmoseur (bar)                280\n",
       "Sucre sortie osmoseur (%)              280\n",
       "Température Bouilloire (0C)            280\n",
       "Temps bouilloire (h)                   280\n",
       "Sucre du sirop obtenu (%)              280\n",
       "Quantité de sirop obtenue (L)          280\n",
       "Transmittance produit (%)              280\n",
       "CategClasseSirop                       280\n",
       "dtype: int64"
      ]
     },
     "execution_count": 18,
     "metadata": {},
     "output_type": "execute_result"
    }
   ],
   "source": [
    "#dfNumerique[dfNumerique['CategClasseSirop']==0 | dfNumerique['Pression osmoseur (bar)']==0].count()\n",
    "dfNumerique[dfNumerique['Pression osmoseur (bar)']==0].count()"
   ]
  },
  {
   "cell_type": "code",
   "execution_count": 19,
   "metadata": {},
   "outputs": [],
   "source": [
    "dfNumerique = dfNumerique.loc[dfNumerique['Pression osmoseur (bar)'] >0]"
   ]
  },
  {
   "cell_type": "code",
   "execution_count": 22,
   "metadata": {},
   "outputs": [],
   "source": [
    "corr = dfNumerique.corr()\n",
    "#sns.heatmap(corr, cbar=True, cmap=\"Blues\", center=0, annot=True, fmt=\".1f\")\n",
    "\n",
    "## le résultat est une matric 22x22 pas facile à visualiser"
   ]
  },
  {
   "cell_type": "code",
   "execution_count": 82,
   "metadata": {},
   "outputs": [
    {
     "data": {
      "text/plain": [
       "Année                                  1.000000\n",
       "Précip. Tot. Hiver (mm)                0.770270\n",
       "Production moyenne par entaille (L)    0.292406\n",
       "Diff Temp (°C)                         0.143382\n",
       "Nombre épisodes gel/dégel              0.120394\n",
       "Précip. tot. (mm)                      0.068946\n",
       "Temps bouilloire (h)                   0.051315\n",
       "Débit sève (L/j)                       0.047838\n",
       "Quantité de sirop obtenue (L)          0.041213\n",
       "Alimentation osmoseur (L/j)            0.039093\n",
       "Osmoseur (heures opération/j)          0.039085\n",
       "Transmittance produit (%)              0.031924\n",
       "Température Bouilloire (0C)            0.029629\n",
       "Sucre du sirop obtenu (%)              0.027543\n",
       "Sucre sortie osmoseur (%)             -0.008857\n",
       "Pression osmoseur (bar)               -0.008857\n",
       "CategClasseSirop                      -0.017023\n",
       "Jour Calendrier Saison                -0.069027\n",
       "Temp max.(°C)                         -0.076255\n",
       "Sucre sève (%)                        -0.116668\n",
       "Temp moy.(°C)                         -0.120846\n",
       "Temp min.(°C)                         -0.151222\n",
       "Name: Année, dtype: float64"
      ]
     },
     "execution_count": 82,
     "metadata": {},
     "output_type": "execute_result"
    }
   ],
   "source": [
    "corr['Année'].sort_values(ascending=False)"
   ]
  },
  {
   "cell_type": "code",
   "execution_count": 81,
   "metadata": {},
   "outputs": [
    {
     "data": {
      "text/plain": [
       "484"
      ]
     },
     "execution_count": 81,
     "metadata": {},
     "output_type": "execute_result"
    }
   ],
   "source": [
    "sorted_pairs = corr.unstack().sort_values(kind=\"quicksort\", ascending=False).dropna()\n",
    "len(sorted_pairs)"
   ]
  },
  {
   "cell_type": "code",
   "execution_count": 125,
   "metadata": {},
   "outputs": [],
   "source": [
    "x = sorted_pairs.where((sorted_pairs <1.0) & (sorted_pairs >0) ).dropna()\n",
    "list_corr = sorted_pairs.tolist()\n",
    "lst = [l for l in list_corr if (l < 1) & (l> 0) & (not(math.isnan(l)))]"
   ]
  },
  {
   "cell_type": "code",
   "execution_count": 26,
   "metadata": {},
   "outputs": [
    {
     "data": {
      "text/plain": [
       "pandas.core.series.Series"
      ]
     },
     "execution_count": 26,
     "metadata": {},
     "output_type": "execute_result"
    }
   ],
   "source": [
    "type(corr.unstack())"
   ]
  },
  {
   "cell_type": "code",
   "execution_count": 27,
   "metadata": {},
   "outputs": [],
   "source": [
    "#sns.heatmap(corr, cbar=True, center=0, annot=True, fmt=\"0.2f\", cmap=\"Blues\")"
   ]
  },
  {
   "cell_type": "markdown",
   "metadata": {},
   "source": [
    "### apply model and check. Then, cut out variables"
   ]
  },
  {
   "cell_type": "code",
   "execution_count": 28,
   "metadata": {},
   "outputs": [
    {
     "data": {
      "text/plain": [
       "22"
      ]
     },
     "execution_count": 28,
     "metadata": {},
     "output_type": "execute_result"
    }
   ],
   "source": [
    "## seulement les variables X\n",
    "dfNumerique_X_cols = dfNumerique.loc[:, ~dfNumerique.columns.isin(list_cols_dependennt_vars)].copy()\n",
    "\n",
    "## seulement les variables Y\n",
    "dfNumerique_Y_cols = dfNumerique.loc[:, dfNumerique.columns.isin(list_cols_dependennt_vars)].copy()\n",
    "\n",
    "len(dfNumerique.columns)"
   ]
  },
  {
   "cell_type": "code",
   "execution_count": 29,
   "metadata": {},
   "outputs": [],
   "source": [
    "### vif\n",
    "## https://www.kdnuggets.com/2019/07/check-quality-regression-model-python.html\n",
    "from statsmodels.stats.outliers_influence import variance_inflation_factor as vif"
   ]
  },
  {
   "cell_type": "code",
   "execution_count": 30,
   "metadata": {},
   "outputs": [],
   "source": [
    "### https://www.geeksforgeeks.org/detecting-multicollinearity-with-vif-python/\n",
    "\n",
    "# VIF dataframe\n",
    "vif_data = pd.DataFrame()\n",
    "vif_data[\"feature\"] = dfNumerique_X_cols.columns\n"
   ]
  },
  {
   "cell_type": "code",
   "execution_count": 31,
   "metadata": {},
   "outputs": [
    {
     "data": {
      "text/plain": [
       "18"
      ]
     },
     "execution_count": 31,
     "metadata": {},
     "output_type": "execute_result"
    }
   ],
   "source": [
    "len(dfNumerique_X_cols.columns)"
   ]
  },
  {
   "cell_type": "code",
   "execution_count": 32,
   "metadata": {},
   "outputs": [
    {
     "data": {
      "text/plain": [
       "18"
      ]
     },
     "execution_count": 32,
     "metadata": {},
     "output_type": "execute_result"
    }
   ],
   "source": [
    "len([vif(dfNumerique_X_cols.values, i)for i in range(len(dfNumerique_X_cols.columns))])"
   ]
  },
  {
   "cell_type": "code",
   "execution_count": 33,
   "metadata": {},
   "outputs": [
    {
     "data": {
      "text/html": [
       "<div>\n",
       "<style scoped>\n",
       "    .dataframe tbody tr th:only-of-type {\n",
       "        vertical-align: middle;\n",
       "    }\n",
       "\n",
       "    .dataframe tbody tr th {\n",
       "        vertical-align: top;\n",
       "    }\n",
       "\n",
       "    .dataframe thead th {\n",
       "        text-align: right;\n",
       "    }\n",
       "</style>\n",
       "<table border=\"1\" class=\"dataframe\">\n",
       "  <thead>\n",
       "    <tr style=\"text-align: right;\">\n",
       "      <th></th>\n",
       "      <th>feature</th>\n",
       "      <th>VIF</th>\n",
       "    </tr>\n",
       "  </thead>\n",
       "  <tbody>\n",
       "    <tr>\n",
       "      <th>11</th>\n",
       "      <td>Pression osmoseur (bar)</td>\n",
       "      <td>1.629840e+07</td>\n",
       "    </tr>\n",
       "    <tr>\n",
       "      <th>9</th>\n",
       "      <td>Alimentation osmoseur (L/j)</td>\n",
       "      <td>2.044157e+06</td>\n",
       "    </tr>\n",
       "    <tr>\n",
       "      <th>10</th>\n",
       "      <td>Osmoseur (heures opération/j)</td>\n",
       "      <td>2.043838e+06</td>\n",
       "    </tr>\n",
       "    <tr>\n",
       "      <th>12</th>\n",
       "      <td>Sucre sortie osmoseur (%)</td>\n",
       "      <td>6.964214e+05</td>\n",
       "    </tr>\n",
       "    <tr>\n",
       "      <th>4</th>\n",
       "      <td>Temp moy.(°C)</td>\n",
       "      <td>3.432822e+03</td>\n",
       "    </tr>\n",
       "    <tr>\n",
       "      <th>3</th>\n",
       "      <td>Temp min.(°C)</td>\n",
       "      <td>2.345469e+03</td>\n",
       "    </tr>\n",
       "    <tr>\n",
       "      <th>2</th>\n",
       "      <td>Temp max.(°C)</td>\n",
       "      <td>1.519696e+03</td>\n",
       "    </tr>\n",
       "    <tr>\n",
       "      <th>5</th>\n",
       "      <td>Diff Temp (°C)</td>\n",
       "      <td>3.580033e+02</td>\n",
       "    </tr>\n",
       "    <tr>\n",
       "      <th>16</th>\n",
       "      <td>Quantité de sirop obtenue (L)</td>\n",
       "      <td>5.217874e+01</td>\n",
       "    </tr>\n",
       "    <tr>\n",
       "      <th>13</th>\n",
       "      <td>Température Bouilloire (0C)</td>\n",
       "      <td>5.075661e+01</td>\n",
       "    </tr>\n",
       "    <tr>\n",
       "      <th>15</th>\n",
       "      <td>Sucre du sirop obtenu (%)</td>\n",
       "      <td>5.068031e+01</td>\n",
       "    </tr>\n",
       "    <tr>\n",
       "      <th>14</th>\n",
       "      <td>Temps bouilloire (h)</td>\n",
       "      <td>2.317438e+01</td>\n",
       "    </tr>\n",
       "    <tr>\n",
       "      <th>7</th>\n",
       "      <td>Précip. Tot. Hiver (mm)</td>\n",
       "      <td>2.860497e+00</td>\n",
       "    </tr>\n",
       "    <tr>\n",
       "      <th>0</th>\n",
       "      <td>Année</td>\n",
       "      <td>2.803114e+00</td>\n",
       "    </tr>\n",
       "    <tr>\n",
       "      <th>1</th>\n",
       "      <td>Jour Calendrier Saison</td>\n",
       "      <td>2.414470e+00</td>\n",
       "    </tr>\n",
       "    <tr>\n",
       "      <th>8</th>\n",
       "      <td>Nombre épisodes gel/dégel</td>\n",
       "      <td>1.447611e+00</td>\n",
       "    </tr>\n",
       "    <tr>\n",
       "      <th>17</th>\n",
       "      <td>CategClasseSirop</td>\n",
       "      <td>1.281434e+00</td>\n",
       "    </tr>\n",
       "    <tr>\n",
       "      <th>6</th>\n",
       "      <td>Précip. tot. (mm)</td>\n",
       "      <td>1.251522e+00</td>\n",
       "    </tr>\n",
       "  </tbody>\n",
       "</table>\n",
       "</div>"
      ],
      "text/plain": [
       "                          feature           VIF\n",
       "11        Pression osmoseur (bar)  1.629840e+07\n",
       "9     Alimentation osmoseur (L/j)  2.044157e+06\n",
       "10  Osmoseur (heures opération/j)  2.043838e+06\n",
       "12      Sucre sortie osmoseur (%)  6.964214e+05\n",
       "4                   Temp moy.(°C)  3.432822e+03\n",
       "3                   Temp min.(°C)  2.345469e+03\n",
       "2                   Temp max.(°C)  1.519696e+03\n",
       "5                  Diff Temp (°C)  3.580033e+02\n",
       "16  Quantité de sirop obtenue (L)  5.217874e+01\n",
       "13    Température Bouilloire (0C)  5.075661e+01\n",
       "15      Sucre du sirop obtenu (%)  5.068031e+01\n",
       "14           Temps bouilloire (h)  2.317438e+01\n",
       "7         Précip. Tot. Hiver (mm)  2.860497e+00\n",
       "0                           Année  2.803114e+00\n",
       "1          Jour Calendrier Saison  2.414470e+00\n",
       "8       Nombre épisodes gel/dégel  1.447611e+00\n",
       "17               CategClasseSirop  1.281434e+00\n",
       "6               Précip. tot. (mm)  1.251522e+00"
      ]
     },
     "execution_count": 33,
     "metadata": {},
     "output_type": "execute_result"
    }
   ],
   "source": [
    "\n",
    "# calculating VIF for each feature\n",
    "\n",
    "vif_data[\"VIF\"] = [vif(dfNumerique_X_cols.values, i)\n",
    "                          for i in range(len(dfNumerique_X_cols.columns))]\n",
    "\n",
    "vif_data.sort_values(by=\"VIF\", axis=0, kind=\"quicksort\",  ascending=False)\n"
   ]
  },
  {
   "cell_type": "code",
   "execution_count": 34,
   "metadata": {},
   "outputs": [
    {
     "data": {
      "text/plain": [
       "12"
      ]
     },
     "execution_count": 34,
     "metadata": {},
     "output_type": "execute_result"
    }
   ],
   "source": [
    "dfVifPlusGrand10 = vif_data[vif_data[\"VIF\"] >10]\n",
    "len(dfVifPlusGrand10)"
   ]
  },
  {
   "cell_type": "code",
   "execution_count": 35,
   "metadata": {},
   "outputs": [],
   "source": [
    "#type(dfVifPlusGrand10.columns.values.tolist())\n",
    "#type(list_cols_dependennt_vars)"
   ]
  },
  {
   "cell_type": "code",
   "execution_count": 36,
   "metadata": {},
   "outputs": [
    {
     "data": {
      "text/plain": [
       "6"
      ]
     },
     "execution_count": 36,
     "metadata": {},
     "output_type": "execute_result"
    }
   ],
   "source": [
    "### dfNumerique_X sans les vif >10\n",
    "dfNumerique_X_cols_vif =[]\n",
    "dfNumerique_X_cols_vif = dfNumerique_X_cols.loc[:, ~dfNumerique_X_cols.columns.isin(dfVifPlusGrand10[\"feature\"].values)].copy()\n",
    "#for x in (dfVifPlusGrand10[\"feature\"].values):\n",
    "#    print(\"col: \", x)\n",
    "len(dfNumerique_X_cols_vif.columns)"
   ]
  },
  {
   "cell_type": "code",
   "execution_count": 37,
   "metadata": {},
   "outputs": [
    {
     "data": {
      "text/html": [
       "<div>\n",
       "<style scoped>\n",
       "    .dataframe tbody tr th:only-of-type {\n",
       "        vertical-align: middle;\n",
       "    }\n",
       "\n",
       "    .dataframe tbody tr th {\n",
       "        vertical-align: top;\n",
       "    }\n",
       "\n",
       "    .dataframe thead th {\n",
       "        text-align: right;\n",
       "    }\n",
       "</style>\n",
       "<table border=\"1\" class=\"dataframe\">\n",
       "  <thead>\n",
       "    <tr style=\"text-align: right;\">\n",
       "      <th></th>\n",
       "      <th>Production moyenne par entaille (L)</th>\n",
       "      <th>Débit sève (L/j)</th>\n",
       "      <th>Sucre sève (%)</th>\n",
       "      <th>Transmittance produit (%)</th>\n",
       "    </tr>\n",
       "  </thead>\n",
       "  <tbody>\n",
       "    <tr>\n",
       "      <th>23</th>\n",
       "      <td>34.315361</td>\n",
       "      <td>9319.2</td>\n",
       "      <td>3.10</td>\n",
       "      <td>52.55</td>\n",
       "    </tr>\n",
       "    <tr>\n",
       "      <th>24</th>\n",
       "      <td>34.315361</td>\n",
       "      <td>455.4</td>\n",
       "      <td>3.13</td>\n",
       "      <td>47.29</td>\n",
       "    </tr>\n",
       "    <tr>\n",
       "      <th>25</th>\n",
       "      <td>34.315361</td>\n",
       "      <td>10166.4</td>\n",
       "      <td>2.93</td>\n",
       "      <td>37.86</td>\n",
       "    </tr>\n",
       "    <tr>\n",
       "      <th>26</th>\n",
       "      <td>34.315361</td>\n",
       "      <td>1037.8</td>\n",
       "      <td>2.99</td>\n",
       "      <td>47.76</td>\n",
       "    </tr>\n",
       "    <tr>\n",
       "      <th>27</th>\n",
       "      <td>34.315361</td>\n",
       "      <td>646.0</td>\n",
       "      <td>2.64</td>\n",
       "      <td>49.37</td>\n",
       "    </tr>\n",
       "  </tbody>\n",
       "</table>\n",
       "</div>"
      ],
      "text/plain": [
       "    Production moyenne par entaille (L)  Débit sève (L/j)  Sucre sève (%)  \\\n",
       "23                            34.315361            9319.2            3.10   \n",
       "24                            34.315361             455.4            3.13   \n",
       "25                            34.315361           10166.4            2.93   \n",
       "26                            34.315361            1037.8            2.99   \n",
       "27                            34.315361             646.0            2.64   \n",
       "\n",
       "    Transmittance produit (%)  \n",
       "23                      52.55  \n",
       "24                      47.29  \n",
       "25                      37.86  \n",
       "26                      47.76  \n",
       "27                      49.37  "
      ]
     },
     "execution_count": 37,
     "metadata": {},
     "output_type": "execute_result"
    }
   ],
   "source": [
    "#type(dfNumerique_Y_cols)\n",
    "dfNumerique_Y_cols.head()"
   ]
  },
  {
   "cell_type": "code",
   "execution_count": 38,
   "metadata": {},
   "outputs": [
    {
     "data": {
      "text/plain": [
       "23      34.315361\n",
       "24      34.315361\n",
       "25      34.315361\n",
       "26      34.315361\n",
       "27      34.315361\n",
       "          ...    \n",
       "1870    46.784424\n",
       "1871    46.784424\n",
       "1872    46.784424\n",
       "1873    46.784424\n",
       "1874    46.784424\n",
       "Name: Production moyenne par entaille (L), Length: 1595, dtype: float64"
      ]
     },
     "execution_count": 38,
     "metadata": {},
     "output_type": "execute_result"
    }
   ],
   "source": [
    "dfNumerique_Y_cols.columns.values[0]\n",
    "dfNumerique_Y_cols['Production moyenne par entaille (L)']\n",
    "#dfNumerique_Y_cols[y]"
   ]
  },
  {
   "cell_type": "code",
   "execution_count": 39,
   "metadata": {},
   "outputs": [],
   "source": [
    "from sklearn import linear_model\n",
    "reg = linear_model.LinearRegression()\n",
    "list_reg = []\n",
    "for col in list_cols_dependennt_vars:\n",
    " #   print(col.name)\n",
    "    #result = reg.fit(dfNumerique[:, ~dfNumerique.columns.isin([col.name for col in list_cols_dependennt_vars])], dfNumerique[col.name])\n",
    "    result = reg.fit(dfNumerique.loc[:, ~dfNumerique.columns.isin([col for col in list_cols_dependennt_vars])], dfNumerique[col])\n",
    "    list_reg.append(result)\n",
    "    "
   ]
  },
  {
   "cell_type": "code",
   "execution_count": 40,
   "metadata": {},
   "outputs": [
    {
     "name": "stdout",
     "output_type": "stream",
     "text": [
      "coefs:  [ 0.15 -0.   -0.81 -0.01  0.83  0.38 -0.01  0.01  1.87  0.   -1.96  0.01\n",
      "  0.01 -1.85  0.53  0.4  -0.01 -0.01]\n",
      "intercept:  -145.63724239478893\n"
     ]
    }
   ],
   "source": [
    "print(\"coefs: \", list_reg[0].coef_.round(2))\n",
    "print(\"intercept: \", list_reg[0].intercept_)\n"
   ]
  },
  {
   "cell_type": "markdown",
   "metadata": {},
   "source": []
  },
  {
   "cell_type": "code",
   "execution_count": 41,
   "metadata": {},
   "outputs": [
    {
     "data": {
      "text/plain": [
       "Index(['Année', 'Jour Calendrier Saison', 'Précip. tot. (mm)',\n",
       "       'Précip. Tot. Hiver (mm)', 'Nombre épisodes gel/dégel',\n",
       "       'CategClasseSirop'],\n",
       "      dtype='object')"
      ]
     },
     "execution_count": 41,
     "metadata": {},
     "output_type": "execute_result"
    }
   ],
   "source": [
    "dfNumerique_X_cols_vif.columns"
   ]
  },
  {
   "cell_type": "code",
   "execution_count": 42,
   "metadata": {},
   "outputs": [
    {
     "name": "stdout",
     "output_type": "stream",
     "text": [
      "=========\n",
      "var depend:  Production moyenne par entaille (L)\n",
      "                                     OLS Regression Results                                    \n",
      "===============================================================================================\n",
      "Dep. Variable:     Production moyenne par entaille (L)   R-squared:                       0.947\n",
      "Model:                                             OLS   Adj. R-squared:                  0.947\n",
      "Method:                                  Least Squares   F-statistic:                     4701.\n",
      "Date:                                 Tue, 22 Nov 2022   Prob (F-statistic):               0.00\n",
      "Time:                                         21:05:04   Log-Likelihood:                -3607.3\n",
      "No. Observations:                                 1595   AIC:                             7229.\n",
      "Df Residuals:                                     1588   BIC:                             7266.\n",
      "Df Model:                                            6                                         \n",
      "Covariance Type:                             nonrobust                                         \n",
      "=============================================================================================\n",
      "                                coef    std err          t      P>|t|      [0.025      0.975]\n",
      "---------------------------------------------------------------------------------------------\n",
      "const                      -306.7952     32.046     -9.574      0.000    -369.652    -243.938\n",
      "Année                         0.1438      0.016      8.892      0.000       0.112       0.175\n",
      "Jour Calendrier Saison        0.0006      0.003      0.246      0.806      -0.004       0.006\n",
      "Précip. tot. (mm)         -1.722e-05      0.010     -0.002      0.999      -0.020       0.020\n",
      "Précip. Tot. Hiver (mm)       0.0095      0.001     12.323      0.000       0.008       0.011\n",
      "Nombre épisodes gel/dégel     1.8710      0.012    154.960      0.000       1.847       1.895\n",
      "CategClasseSirop             -0.0267      0.064     -0.416      0.677      -0.153       0.099\n",
      "==============================================================================\n",
      "Omnibus:                       92.803   Durbin-Watson:                   0.040\n",
      "Prob(Omnibus):                  0.000   Jarque-Bera (JB):               41.555\n",
      "Skew:                          -0.178   Prob(JB):                     9.47e-10\n",
      "Kurtosis:                       2.294   Cond. No.                     1.16e+06\n",
      "==============================================================================\n",
      "\n",
      "Notes:\n",
      "[1] Standard Errors assume that the covariance matrix of the errors is correctly specified.\n",
      "[2] The condition number is large, 1.16e+06. This might indicate that there are\n",
      "strong multicollinearity or other numerical problems.\n",
      "=========\n",
      "var depend:  Débit sève (L/j)\n",
      "                            OLS Regression Results                            \n",
      "==============================================================================\n",
      "Dep. Variable:       Débit sève (L/j)   R-squared:                       0.167\n",
      "Model:                            OLS   Adj. R-squared:                  0.164\n",
      "Method:                 Least Squares   F-statistic:                     53.05\n",
      "Date:                Tue, 22 Nov 2022   Prob (F-statistic):           8.93e-60\n",
      "Time:                        21:05:04   Log-Likelihood:                -15495.\n",
      "No. Observations:                1595   AIC:                         3.100e+04\n",
      "Df Residuals:                    1588   BIC:                         3.104e+04\n",
      "Df Model:                           6                                         \n",
      "Covariance Type:            nonrobust                                         \n",
      "=============================================================================================\n",
      "                                coef    std err          t      P>|t|      [0.025      0.975]\n",
      "---------------------------------------------------------------------------------------------\n",
      "const                     -5.662e+04   5.53e+04     -1.024      0.306   -1.65e+05    5.19e+04\n",
      "Année                        26.0370     27.902      0.933      0.351     -28.692      80.765\n",
      "Jour Calendrier Saison       55.0361      4.419     12.453      0.000      46.368      63.705\n",
      "Précip. tot. (mm)          -116.0577     17.211     -6.743      0.000    -149.816     -82.300\n",
      "Précip. Tot. Hiver (mm)       0.6771      1.328      0.510      0.610      -1.928       3.283\n",
      "Nombre épisodes gel/dégel   206.0351     20.837      9.888      0.000     165.165     246.905\n",
      "CategClasseSirop             74.1248    110.746      0.669      0.503    -143.098     291.348\n",
      "==============================================================================\n",
      "Omnibus:                      367.129   Durbin-Watson:                   1.433\n",
      "Prob(Omnibus):                  0.000   Jarque-Bera (JB):              715.612\n",
      "Skew:                           1.367   Prob(JB):                    4.04e-156\n",
      "Kurtosis:                       4.815   Cond. No.                     1.16e+06\n",
      "==============================================================================\n",
      "\n",
      "Notes:\n",
      "[1] Standard Errors assume that the covariance matrix of the errors is correctly specified.\n",
      "[2] The condition number is large, 1.16e+06. This might indicate that there are\n",
      "strong multicollinearity or other numerical problems.\n",
      "=========\n",
      "var depend:  Sucre sève (%)\n",
      "                            OLS Regression Results                            \n",
      "==============================================================================\n",
      "Dep. Variable:         Sucre sève (%)   R-squared:                       0.958\n",
      "Model:                            OLS   Adj. R-squared:                  0.958\n",
      "Method:                 Least Squares   F-statistic:                     6061.\n",
      "Date:                Tue, 22 Nov 2022   Prob (F-statistic):               0.00\n",
      "Time:                        21:05:04   Log-Likelihood:                 1662.3\n",
      "No. Observations:                1595   AIC:                            -3311.\n",
      "Df Residuals:                    1588   BIC:                            -3273.\n",
      "Df Model:                           6                                         \n",
      "Covariance Type:            nonrobust                                         \n",
      "=============================================================================================\n",
      "                                coef    std err          t      P>|t|      [0.025      0.975]\n",
      "---------------------------------------------------------------------------------------------\n",
      "const                         1.9327      1.177      1.641      0.101      -0.377       4.242\n",
      "Année                     -1.273e-05      0.001     -0.021      0.983      -0.001       0.001\n",
      "Jour Calendrier Saison       -0.0001   9.41e-05     -1.400      0.162      -0.000    5.28e-05\n",
      "Précip. tot. (mm)            -0.0496      0.000   -135.463      0.000      -0.050      -0.049\n",
      "Précip. Tot. Hiver (mm)      -0.0006   2.83e-05    -21.664      0.000      -0.001      -0.001\n",
      "Nombre épisodes gel/dégel     0.0500      0.000    112.660      0.000       0.049       0.051\n",
      "CategClasseSirop              0.0003      0.002      0.131      0.896      -0.004       0.005\n",
      "==============================================================================\n",
      "Omnibus:                      622.004   Durbin-Watson:                   2.057\n",
      "Prob(Omnibus):                  0.000   Jarque-Bera (JB):               82.092\n",
      "Skew:                           0.074   Prob(JB):                     1.49e-18\n",
      "Kurtosis:                       1.899   Cond. No.                     1.16e+06\n",
      "==============================================================================\n",
      "\n",
      "Notes:\n",
      "[1] Standard Errors assume that the covariance matrix of the errors is correctly specified.\n",
      "[2] The condition number is large, 1.16e+06. This might indicate that there are\n",
      "strong multicollinearity or other numerical problems.\n",
      "=========\n",
      "var depend:  Transmittance produit (%)\n",
      "                                OLS Regression Results                               \n",
      "=====================================================================================\n",
      "Dep. Variable:     Transmittance produit (%)   R-squared:                       0.669\n",
      "Model:                                   OLS   Adj. R-squared:                  0.668\n",
      "Method:                        Least Squares   F-statistic:                     534.4\n",
      "Date:                       Tue, 22 Nov 2022   Prob (F-statistic):               0.00\n",
      "Time:                               21:05:04   Log-Likelihood:                -5305.2\n",
      "No. Observations:                       1595   AIC:                         1.062e+04\n",
      "Df Residuals:                           1588   BIC:                         1.066e+04\n",
      "Df Model:                                  6                                         \n",
      "Covariance Type:                   nonrobust                                         \n",
      "=============================================================================================\n",
      "                                coef    std err          t      P>|t|      [0.025      0.975]\n",
      "---------------------------------------------------------------------------------------------\n",
      "const                       -38.3611     92.916     -0.413      0.680    -220.613     143.890\n",
      "Année                         0.0544      0.047      1.161      0.246      -0.038       0.146\n",
      "Jour Calendrier Saison       -0.0576      0.007     -7.754      0.000      -0.072      -0.043\n",
      "Précip. tot. (mm)             0.0078      0.029      0.268      0.789      -0.049       0.064\n",
      "Précip. Tot. Hiver (mm)      -0.0023      0.002     -1.041      0.298      -0.007       0.002\n",
      "Nombre épisodes gel/dégel     0.0344      0.035      0.982      0.326      -0.034       0.103\n",
      "CategClasseSirop             -9.5635      0.186    -51.396      0.000      -9.928      -9.199\n",
      "==============================================================================\n",
      "Omnibus:                       85.646   Durbin-Watson:                   2.098\n",
      "Prob(Omnibus):                  0.000   Jarque-Bera (JB):              137.173\n",
      "Skew:                           0.435   Prob(JB):                     1.63e-30\n",
      "Kurtosis:                       4.143   Cond. No.                     1.16e+06\n",
      "==============================================================================\n",
      "\n",
      "Notes:\n",
      "[1] Standard Errors assume that the covariance matrix of the errors is correctly specified.\n",
      "[2] The condition number is large, 1.16e+06. This might indicate that there are\n",
      "strong multicollinearity or other numerical problems.\n"
     ]
    }
   ],
   "source": [
    "## Add constant\n",
    "dfNumerique_X_cols_vif = stm.add_constant(dfNumerique_X_cols_vif)\n",
    "lst_models = []\n",
    "for y in (dfNumerique_Y_cols.columns.values):\n",
    "    \n",
    "    col_y = dfNumerique_Y_cols[y]\n",
    "    \n",
    "    model = stm.OLS(col_y, dfNumerique_X_cols_vif).fit()\n",
    "    print(\"=========\")\n",
    "    print(\"var depend: \", y)\n",
    "    \n",
    "    #lst_models.append(model)\n",
    "    print(model.summary())\n",
    "    "
   ]
  },
  {
   "cell_type": "markdown",
   "metadata": {},
   "source": [
    "\\#####\n",
    "======= Summaries ===========\n",
    "\\#####\n"
   ]
  },
  {
   "cell_type": "code",
   "execution_count": 161,
   "metadata": {},
   "outputs": [],
   "source": [
    "### Fonction qui imprime le sommaire du modèle\n",
    "def print_model_summary(pDfColsX, pDfColsY):\n",
    "    ## Add constant\n",
    "    pDfColsX = stm.add_constant(pDfColsX)\n",
    "    lst_models = []\n",
    "    for y in (pDfColsY.columns.values):\n",
    "    \n",
    "        col_y = dfNumerique_Y_cols[y]\n",
    "    \n",
    "        model = stm.OLS(col_y, pDfColsX).fit()\n",
    "        print(\"=========\")\n",
    "        print(\"var depend: \", y)\n",
    "    \n",
    "        #lst_models.append(model)\n",
    "        print(model.summary())\n",
    "        #sns.distplot(model.resid, fit=sts.norm)"
   ]
  },
  {
   "cell_type": "code",
   "execution_count": 162,
   "metadata": {},
   "outputs": [
    {
     "name": "stdout",
     "output_type": "stream",
     "text": [
      "---- Sommaire dfNumerique ----\n",
      "=========\n",
      "var depend:  Production moyenne par entaille (L)\n"
     ]
    },
    {
     "name": "stderr",
     "output_type": "stream",
     "text": [
      "/tmp/ipykernel_34368/1255098127.py:16: UserWarning: \n",
      "\n",
      "`distplot` is a deprecated function and will be removed in seaborn v0.14.0.\n",
      "\n",
      "Please adapt your code to use either `displot` (a figure-level function with\n",
      "similar flexibility) or `histplot` (an axes-level function for histograms).\n",
      "\n",
      "For a guide to updating your code to use the new functions, please see\n",
      "https://gist.github.com/mwaskom/de44147ed2974457ad6372750bbe5751\n",
      "\n",
      "  sns.distplot(model.resid, fit=sts.norm)\n"
     ]
    },
    {
     "name": "stdout",
     "output_type": "stream",
     "text": [
      "=========\n",
      "var depend:  Débit sève (L/j)\n"
     ]
    },
    {
     "name": "stderr",
     "output_type": "stream",
     "text": [
      "/tmp/ipykernel_34368/1255098127.py:16: UserWarning: \n",
      "\n",
      "`distplot` is a deprecated function and will be removed in seaborn v0.14.0.\n",
      "\n",
      "Please adapt your code to use either `displot` (a figure-level function with\n",
      "similar flexibility) or `histplot` (an axes-level function for histograms).\n",
      "\n",
      "For a guide to updating your code to use the new functions, please see\n",
      "https://gist.github.com/mwaskom/de44147ed2974457ad6372750bbe5751\n",
      "\n",
      "  sns.distplot(model.resid, fit=sts.norm)\n"
     ]
    },
    {
     "name": "stdout",
     "output_type": "stream",
     "text": [
      "=========\n",
      "var depend:  Sucre sève (%)\n",
      "=========\n",
      "var depend:  Transmittance produit (%)\n"
     ]
    },
    {
     "name": "stderr",
     "output_type": "stream",
     "text": [
      "/tmp/ipykernel_34368/1255098127.py:16: UserWarning: \n",
      "\n",
      "`distplot` is a deprecated function and will be removed in seaborn v0.14.0.\n",
      "\n",
      "Please adapt your code to use either `displot` (a figure-level function with\n",
      "similar flexibility) or `histplot` (an axes-level function for histograms).\n",
      "\n",
      "For a guide to updating your code to use the new functions, please see\n",
      "https://gist.github.com/mwaskom/de44147ed2974457ad6372750bbe5751\n",
      "\n",
      "  sns.distplot(model.resid, fit=sts.norm)\n",
      "/tmp/ipykernel_34368/1255098127.py:16: UserWarning: \n",
      "\n",
      "`distplot` is a deprecated function and will be removed in seaborn v0.14.0.\n",
      "\n",
      "Please adapt your code to use either `displot` (a figure-level function with\n",
      "similar flexibility) or `histplot` (an axes-level function for histograms).\n",
      "\n",
      "For a guide to updating your code to use the new functions, please see\n",
      "https://gist.github.com/mwaskom/de44147ed2974457ad6372750bbe5751\n",
      "\n",
      "  sns.distplot(model.resid, fit=sts.norm)\n"
     ]
    }
   ],
   "source": [
    "print(\"---- Sommaire dfNumerique ----\")\n",
    "print_model_summary(dfNumerique_X_cols, dfNumerique_Y_cols)"
   ]
  },
  {
   "cell_type": "code",
   "execution_count": 156,
   "metadata": {},
   "outputs": [
    {
     "name": "stdout",
     "output_type": "stream",
     "text": [
      "---- Sommaire dfNumerique ----\n",
      "=========\n",
      "var depend:  Production moyenne par entaille (L)\n",
      "                                     OLS Regression Results                                    \n",
      "===============================================================================================\n",
      "Dep. Variable:     Production moyenne par entaille (L)   R-squared:                       0.947\n",
      "Model:                                             OLS   Adj. R-squared:                  0.947\n",
      "Method:                                  Least Squares   F-statistic:                     4701.\n",
      "Date:                                 Wed, 23 Nov 2022   Prob (F-statistic):               0.00\n",
      "Time:                                         16:50:23   Log-Likelihood:                -3607.3\n",
      "No. Observations:                                 1595   AIC:                             7229.\n",
      "Df Residuals:                                     1588   BIC:                             7266.\n",
      "Df Model:                                            6                                         \n",
      "Covariance Type:                             nonrobust                                         \n",
      "=============================================================================================\n",
      "                                coef    std err          t      P>|t|      [0.025      0.975]\n",
      "---------------------------------------------------------------------------------------------\n",
      "const                      -306.7952     32.046     -9.574      0.000    -369.652    -243.938\n",
      "Année                         0.1438      0.016      8.892      0.000       0.112       0.175\n",
      "Jour Calendrier Saison        0.0006      0.003      0.246      0.806      -0.004       0.006\n",
      "Précip. tot. (mm)         -1.722e-05      0.010     -0.002      0.999      -0.020       0.020\n",
      "Précip. Tot. Hiver (mm)       0.0095      0.001     12.323      0.000       0.008       0.011\n",
      "Nombre épisodes gel/dégel     1.8710      0.012    154.960      0.000       1.847       1.895\n",
      "CategClasseSirop             -0.0267      0.064     -0.416      0.677      -0.153       0.099\n",
      "==============================================================================\n",
      "Omnibus:                       92.803   Durbin-Watson:                   0.040\n",
      "Prob(Omnibus):                  0.000   Jarque-Bera (JB):               41.555\n",
      "Skew:                          -0.178   Prob(JB):                     9.47e-10\n",
      "Kurtosis:                       2.294   Cond. No.                     1.16e+06\n",
      "==============================================================================\n",
      "\n",
      "Notes:\n",
      "[1] Standard Errors assume that the covariance matrix of the errors is correctly specified.\n",
      "[2] The condition number is large, 1.16e+06. This might indicate that there are\n",
      "strong multicollinearity or other numerical problems.\n",
      "=========\n",
      "var depend:  Débit sève (L/j)\n",
      "                            OLS Regression Results                            \n",
      "==============================================================================\n",
      "Dep. Variable:       Débit sève (L/j)   R-squared:                       0.167\n",
      "Model:                            OLS   Adj. R-squared:                  0.164\n",
      "Method:                 Least Squares   F-statistic:                     53.05\n",
      "Date:                Wed, 23 Nov 2022   Prob (F-statistic):           8.93e-60\n",
      "Time:                        16:50:23   Log-Likelihood:                -15495.\n",
      "No. Observations:                1595   AIC:                         3.100e+04\n",
      "Df Residuals:                    1588   BIC:                         3.104e+04\n",
      "Df Model:                           6                                         \n",
      "Covariance Type:            nonrobust                                         \n",
      "=============================================================================================\n",
      "                                coef    std err          t      P>|t|      [0.025      0.975]\n",
      "---------------------------------------------------------------------------------------------\n",
      "const                     -5.662e+04   5.53e+04     -1.024      0.306   -1.65e+05    5.19e+04\n",
      "Année                        26.0370     27.902      0.933      0.351     -28.692      80.765\n",
      "Jour Calendrier Saison       55.0361      4.419     12.453      0.000      46.368      63.705\n",
      "Précip. tot. (mm)          -116.0577     17.211     -6.743      0.000    -149.816     -82.300\n",
      "Précip. Tot. Hiver (mm)       0.6771      1.328      0.510      0.610      -1.928       3.283\n",
      "Nombre épisodes gel/dégel   206.0351     20.837      9.888      0.000     165.165     246.905\n",
      "CategClasseSirop             74.1248    110.746      0.669      0.503    -143.098     291.348\n",
      "==============================================================================\n",
      "Omnibus:                      367.129   Durbin-Watson:                   1.433\n",
      "Prob(Omnibus):                  0.000   Jarque-Bera (JB):              715.612\n",
      "Skew:                           1.367   Prob(JB):                    4.04e-156\n",
      "Kurtosis:                       4.815   Cond. No.                     1.16e+06\n",
      "==============================================================================\n",
      "\n",
      "Notes:\n",
      "[1] Standard Errors assume that the covariance matrix of the errors is correctly specified.\n",
      "[2] The condition number is large, 1.16e+06. This might indicate that there are\n",
      "strong multicollinearity or other numerical problems.\n",
      "=========\n",
      "var depend:  Sucre sève (%)\n",
      "                            OLS Regression Results                            \n",
      "==============================================================================\n",
      "Dep. Variable:         Sucre sève (%)   R-squared:                       0.958\n",
      "Model:                            OLS   Adj. R-squared:                  0.958\n",
      "Method:                 Least Squares   F-statistic:                     6061.\n",
      "Date:                Wed, 23 Nov 2022   Prob (F-statistic):               0.00\n",
      "Time:                        16:50:23   Log-Likelihood:                 1662.3\n",
      "No. Observations:                1595   AIC:                            -3311.\n",
      "Df Residuals:                    1588   BIC:                            -3273.\n",
      "Df Model:                           6                                         \n",
      "Covariance Type:            nonrobust                                         \n",
      "=============================================================================================\n",
      "                                coef    std err          t      P>|t|      [0.025      0.975]\n",
      "---------------------------------------------------------------------------------------------\n",
      "const                         1.9327      1.177      1.641      0.101      -0.377       4.242\n",
      "Année                     -1.273e-05      0.001     -0.021      0.983      -0.001       0.001\n",
      "Jour Calendrier Saison       -0.0001   9.41e-05     -1.400      0.162      -0.000    5.28e-05\n",
      "Précip. tot. (mm)            -0.0496      0.000   -135.463      0.000      -0.050      -0.049\n",
      "Précip. Tot. Hiver (mm)      -0.0006   2.83e-05    -21.664      0.000      -0.001      -0.001\n",
      "Nombre épisodes gel/dégel     0.0500      0.000    112.660      0.000       0.049       0.051\n",
      "CategClasseSirop              0.0003      0.002      0.131      0.896      -0.004       0.005\n",
      "==============================================================================\n",
      "Omnibus:                      622.004   Durbin-Watson:                   2.057\n",
      "Prob(Omnibus):                  0.000   Jarque-Bera (JB):               82.092\n",
      "Skew:                           0.074   Prob(JB):                     1.49e-18\n",
      "Kurtosis:                       1.899   Cond. No.                     1.16e+06\n",
      "==============================================================================\n",
      "\n",
      "Notes:\n",
      "[1] Standard Errors assume that the covariance matrix of the errors is correctly specified.\n",
      "[2] The condition number is large, 1.16e+06. This might indicate that there are\n",
      "strong multicollinearity or other numerical problems.\n",
      "=========\n",
      "var depend:  Transmittance produit (%)\n",
      "                                OLS Regression Results                               \n",
      "=====================================================================================\n",
      "Dep. Variable:     Transmittance produit (%)   R-squared:                       0.669\n",
      "Model:                                   OLS   Adj. R-squared:                  0.668\n",
      "Method:                        Least Squares   F-statistic:                     534.4\n",
      "Date:                       Wed, 23 Nov 2022   Prob (F-statistic):               0.00\n",
      "Time:                               16:50:23   Log-Likelihood:                -5305.2\n",
      "No. Observations:                       1595   AIC:                         1.062e+04\n",
      "Df Residuals:                           1588   BIC:                         1.066e+04\n",
      "Df Model:                                  6                                         \n",
      "Covariance Type:                   nonrobust                                         \n",
      "=============================================================================================\n",
      "                                coef    std err          t      P>|t|      [0.025      0.975]\n",
      "---------------------------------------------------------------------------------------------\n",
      "const                       -38.3611     92.916     -0.413      0.680    -220.613     143.890\n",
      "Année                         0.0544      0.047      1.161      0.246      -0.038       0.146\n",
      "Jour Calendrier Saison       -0.0576      0.007     -7.754      0.000      -0.072      -0.043\n",
      "Précip. tot. (mm)             0.0078      0.029      0.268      0.789      -0.049       0.064\n",
      "Précip. Tot. Hiver (mm)      -0.0023      0.002     -1.041      0.298      -0.007       0.002\n",
      "Nombre épisodes gel/dégel     0.0344      0.035      0.982      0.326      -0.034       0.103\n",
      "CategClasseSirop             -9.5635      0.186    -51.396      0.000      -9.928      -9.199\n",
      "==============================================================================\n",
      "Omnibus:                       85.646   Durbin-Watson:                   2.098\n",
      "Prob(Omnibus):                  0.000   Jarque-Bera (JB):              137.173\n",
      "Skew:                           0.435   Prob(JB):                     1.63e-30\n",
      "Kurtosis:                       4.143   Cond. No.                     1.16e+06\n",
      "==============================================================================\n",
      "\n",
      "Notes:\n",
      "[1] Standard Errors assume that the covariance matrix of the errors is correctly specified.\n",
      "[2] The condition number is large, 1.16e+06. This might indicate that there are\n",
      "strong multicollinearity or other numerical problems.\n"
     ]
    }
   ],
   "source": [
    "print(\"---- Sommaire dfNumerique ----\")\n",
    "print_model_summary(dfNumerique_X_cols_vif, dfNumerique_Y_cols)"
   ]
  },
  {
   "cell_type": "markdown",
   "metadata": {},
   "source": [
    "#######"
   ]
  },
  {
   "cell_type": "markdown",
   "metadata": {},
   "source": [
    "=============== Evaluating model ===========\n",
    "\n",
    "https://www.youtube.com/watch?v=VCVhwjbI6h8\n",
    "\n",
    "========"
   ]
  },
  {
   "cell_type": "code",
   "execution_count": 43,
   "metadata": {},
   "outputs": [],
   "source": [
    "### https://www.youtube.com/watch?v=VCVhwjbI6h8\n",
    "from sklearn.model_selection import train_test_split\n",
    "from sklearn.linear_model import LinearRegression\n",
    "from sklearn.metrics import r2_score\n",
    "from sklearn.metrics import mean_squared_error\n",
    "from sklearn.preprocessing import MinMaxScaler"
   ]
  },
  {
   "cell_type": "code",
   "execution_count": 44,
   "metadata": {},
   "outputs": [],
   "source": [
    "def analyze_model(pColsY, pDfDependentVars):\n",
    "    for y in (pColsY.columns.values):    \n",
    "        col_y = pColsY[y]\n",
    "        X_train, X_test, y_train, y_test = \\\n",
    "        train_test_split(pDfDependentVars, col_y, test_size=0.25, random_state=0)\n",
    "\n",
    "\n",
    "        ## transforming data    \n",
    "        scaler = MinMaxScaler()\n",
    "        X_train = scaler.fit_transform(X_train)\n",
    "        X_test = scaler.fit_transform(X_test)\n",
    "\n",
    "\n",
    "        ## Fitting Multiple Linear Regression to the training set\n",
    "        regressor =  LinearRegression()\n",
    "        regressor.fit(X_train, y_train)\n",
    "\n",
    "        y_pred = regressor.predict(X_test)\n",
    "        mse = math.sqrt(mean_squared_error(y_test, y_pred))\n",
    "        r2 = r2_score(y_test, y_pred)\n",
    "    \n",
    "        ##adj_r2 = 1-(1-r2)*(n-1)/(n-p-1)\n",
    "        ## Where n is the sample size and p is the number of independent variables.\n",
    "\n",
    "        #print (\"len(X_test): \", len(X_test))\n",
    "        #print (\"len(y_test): \", len(y_test))\n",
    "    \n",
    "        ### ajd_r2\n",
    "        ## https://stackoverflow.com/questions/51038820/how-to-calculated-the-adjusted-r2-value-using-scikit\n",
    "        ## https://www.dummies.com/article/business-careers-money/business/accounting/calculation-analysis/how-to-calculate-the-adjusted-coefficient-of-determination-146054/\n",
    "        #print (\"n: \", n)\n",
    "        #print (\"p: \", p)\n",
    "        #print (\"adj_r2 = 1-(1-r2)*(n-1)/(n-p-1)\")\n",
    "\n",
    "        n = len(X_test)\n",
    "        p = len(pDfDependentVars.columns)\n",
    "        adj_r2 = 1-(1-r2)*(n-1)/(n-p-1)\n",
    "    \n",
    "        print(\"--------\")\n",
    "        \n",
    "        print(\"[col_y]: \", col_y.name)\n",
    "        print(\"[mse]: \", mse)\n",
    "        #print(\"[r2] - A value of 1 indicates that the response variable can be perfectly explained by the predictor variables.\")\n",
    "        print(\"[r2]: \", r2)\n",
    "        print(\"[adj_r2]: \", adj_r2)"
   ]
  },
  {
   "cell_type": "code",
   "execution_count": 45,
   "metadata": {},
   "outputs": [
    {
     "name": "stdout",
     "output_type": "stream",
     "text": [
      "--------\n",
      "[col_y]:  Production moyenne par entaille (L)\n",
      "[mse]:  2.3338647984342007\n",
      "[r2]:  0.9493483993021926\n",
      "[adj_r2]:  0.9484415931515925\n",
      "--------\n",
      "[col_y]:  Débit sève (L/j)\n",
      "[mse]:  4051.8334472706574\n",
      "[r2]:  0.13653673333867755\n",
      "[adj_r2]:  0.12107831168489425\n",
      "--------\n",
      "[col_y]:  Sucre sève (%)\n",
      "[mse]:  0.11516037767437366\n",
      "[r2]:  0.9150137318779624\n",
      "[adj_r2]:  0.9134922385867751\n",
      "--------\n",
      "[col_y]:  Transmittance produit (%)\n",
      "[mse]:  6.280707001354532\n",
      "[r2]:  0.7209299435331823\n",
      "[adj_r2]:  0.7159338044148505\n"
     ]
    }
   ],
   "source": [
    "analyze_model(dfNumerique_Y_cols, dfNumerique_X_cols_vif)"
   ]
  },
  {
   "cell_type": "code",
   "execution_count": 46,
   "metadata": {},
   "outputs": [
    {
     "name": "stdout",
     "output_type": "stream",
     "text": [
      "--------\n",
      "[col_y]:  Production moyenne par entaille (L)\n",
      "[mse]:  2.320893732653464\n",
      "[r2]:  0.9499098538521753\n",
      "[adj_r2]:  0.9475371627188574\n",
      "--------\n",
      "[col_y]:  Débit sève (L/j)\n",
      "[mse]:  568.6079364224969\n",
      "[r2]:  0.9829953956901142\n",
      "[adj_r2]:  0.9821899144333301\n",
      "--------\n",
      "[col_y]:  Sucre sève (%)\n",
      "[mse]:  0.11458580180280097\n",
      "[r2]:  0.9158596693843469\n",
      "[adj_r2]:  0.911874074776237\n",
      "--------\n",
      "[col_y]:  Transmittance produit (%)\n",
      "[mse]:  5.961843703660997\n",
      "[r2]:  0.7485466966395034\n",
      "[adj_r2]:  0.7366357506908483\n"
     ]
    }
   ],
   "source": [
    "analyze_model(dfNumerique_Y_cols, dfNumerique_X_cols)"
   ]
  },
  {
   "cell_type": "markdown",
   "metadata": {},
   "source": [
    "##### feature selection ####\n",
    "\n",
    "https://machinelearningmastery.com/feature-selection-for-regression-data/\n"
   ]
  },
  {
   "cell_type": "code",
   "execution_count": 63,
   "metadata": {},
   "outputs": [],
   "source": [
    "# example of correlation feature selection for numerical data\n",
    "# compare different numbers of features selected using mutual information\n",
    "from sklearn.datasets import make_regression\n",
    "from sklearn.model_selection import RepeatedKFold\n",
    "from sklearn.feature_selection import SelectKBest\n",
    "from sklearn.feature_selection import mutual_info_regression\n",
    "from sklearn.linear_model import LinearRegression\n",
    "from sklearn.pipeline import Pipeline\n",
    "\n",
    "from sklearn.model_selection import GridSearchCV"
   ]
  },
  {
   "cell_type": "code",
   "execution_count": 74,
   "metadata": {},
   "outputs": [],
   "source": [
    "\n",
    "# define dataset\n",
    "X = dfNumerique_X_cols.copy()\n",
    "\n",
    "y = dfNumerique['Débit sève (L/j)']\n",
    "\n",
    "# define the evaluation method\n",
    "cv = RepeatedKFold(n_splits=10, n_repeats=3, random_state=1)\n",
    "\n",
    "\n",
    "# define the pipeline to evaluate\n",
    "model = LinearRegression()\n",
    "fs = SelectKBest(score_func=mutual_info_regression)\n",
    "pipeline = Pipeline(steps=[('sel',fs), ('lr', model)])\n",
    "\n",
    "# define the grid\n",
    "grid = dict()\n",
    "grid['sel__k'] = [i for i in range(X.shape[1]-20, X.shape[1]+1)]\n",
    "\n"
   ]
  },
  {
   "cell_type": "code",
   "execution_count": 77,
   "metadata": {},
   "outputs": [
    {
     "name": "stderr",
     "output_type": "stream",
     "text": [
      "/home/hadoop/.local/lib/python3.11/site-packages/sklearn/feature_selection/_base.py:96: UserWarning: No features were selected: either the data is too noisy or the selection test too strict.\n",
      "  warnings.warn(\n",
      "/home/hadoop/.local/lib/python3.11/site-packages/sklearn/feature_selection/_base.py:96: UserWarning: No features were selected: either the data is too noisy or the selection test too strict.\n",
      "  warnings.warn(\n",
      "/home/hadoop/.local/lib/python3.11/site-packages/sklearn/feature_selection/_base.py:96: UserWarning: No features were selected: either the data is too noisy or the selection test too strict.\n",
      "  warnings.warn(\n",
      "/home/hadoop/.local/lib/python3.11/site-packages/sklearn/feature_selection/_base.py:96: UserWarning: No features were selected: either the data is too noisy or the selection test too strict.\n",
      "  warnings.warn(\n",
      "/home/hadoop/.local/lib/python3.11/site-packages/sklearn/feature_selection/_base.py:96: UserWarning: No features were selected: either the data is too noisy or the selection test too strict.\n",
      "  warnings.warn(\n",
      "/home/hadoop/.local/lib/python3.11/site-packages/sklearn/feature_selection/_base.py:96: UserWarning: No features were selected: either the data is too noisy or the selection test too strict.\n",
      "  warnings.warn(\n",
      "/home/hadoop/.local/lib/python3.11/site-packages/sklearn/feature_selection/_base.py:96: UserWarning: No features were selected: either the data is too noisy or the selection test too strict.\n",
      "  warnings.warn(\n",
      "/home/hadoop/.local/lib/python3.11/site-packages/sklearn/feature_selection/_base.py:96: UserWarning: No features were selected: either the data is too noisy or the selection test too strict.\n",
      "  warnings.warn(\n",
      "/home/hadoop/.local/lib/python3.11/site-packages/sklearn/feature_selection/_base.py:96: UserWarning: No features were selected: either the data is too noisy or the selection test too strict.\n",
      "  warnings.warn(\n",
      "/home/hadoop/.local/lib/python3.11/site-packages/sklearn/feature_selection/_base.py:96: UserWarning: No features were selected: either the data is too noisy or the selection test too strict.\n",
      "  warnings.warn(\n",
      "/home/hadoop/.local/lib/python3.11/site-packages/sklearn/feature_selection/_base.py:96: UserWarning: No features were selected: either the data is too noisy or the selection test too strict.\n",
      "  warnings.warn(\n",
      "/home/hadoop/.local/lib/python3.11/site-packages/sklearn/feature_selection/_base.py:96: UserWarning: No features were selected: either the data is too noisy or the selection test too strict.\n",
      "  warnings.warn(\n",
      "/home/hadoop/.local/lib/python3.11/site-packages/sklearn/feature_selection/_base.py:96: UserWarning: No features were selected: either the data is too noisy or the selection test too strict.\n",
      "  warnings.warn(\n",
      "/home/hadoop/.local/lib/python3.11/site-packages/sklearn/feature_selection/_base.py:96: UserWarning: No features were selected: either the data is too noisy or the selection test too strict.\n",
      "  warnings.warn(\n",
      "/home/hadoop/.local/lib/python3.11/site-packages/sklearn/feature_selection/_base.py:96: UserWarning: No features were selected: either the data is too noisy or the selection test too strict.\n",
      "  warnings.warn(\n",
      "/home/hadoop/.local/lib/python3.11/site-packages/sklearn/feature_selection/_base.py:96: UserWarning: No features were selected: either the data is too noisy or the selection test too strict.\n",
      "  warnings.warn(\n",
      "/home/hadoop/.local/lib/python3.11/site-packages/sklearn/feature_selection/_base.py:96: UserWarning: No features were selected: either the data is too noisy or the selection test too strict.\n",
      "  warnings.warn(\n",
      "/home/hadoop/.local/lib/python3.11/site-packages/sklearn/feature_selection/_base.py:96: UserWarning: No features were selected: either the data is too noisy or the selection test too strict.\n",
      "  warnings.warn(\n",
      "/home/hadoop/.local/lib/python3.11/site-packages/sklearn/feature_selection/_base.py:96: UserWarning: No features were selected: either the data is too noisy or the selection test too strict.\n",
      "  warnings.warn(\n",
      "/home/hadoop/.local/lib/python3.11/site-packages/sklearn/feature_selection/_base.py:96: UserWarning: No features were selected: either the data is too noisy or the selection test too strict.\n",
      "  warnings.warn(\n",
      "/home/hadoop/.local/lib/python3.11/site-packages/sklearn/feature_selection/_base.py:96: UserWarning: No features were selected: either the data is too noisy or the selection test too strict.\n",
      "  warnings.warn(\n",
      "/home/hadoop/.local/lib/python3.11/site-packages/sklearn/feature_selection/_base.py:96: UserWarning: No features were selected: either the data is too noisy or the selection test too strict.\n",
      "  warnings.warn(\n",
      "/home/hadoop/.local/lib/python3.11/site-packages/sklearn/feature_selection/_base.py:96: UserWarning: No features were selected: either the data is too noisy or the selection test too strict.\n",
      "  warnings.warn(\n",
      "/home/hadoop/.local/lib/python3.11/site-packages/sklearn/feature_selection/_base.py:96: UserWarning: No features were selected: either the data is too noisy or the selection test too strict.\n",
      "  warnings.warn(\n",
      "/home/hadoop/.local/lib/python3.11/site-packages/sklearn/feature_selection/_base.py:96: UserWarning: No features were selected: either the data is too noisy or the selection test too strict.\n",
      "  warnings.warn(\n",
      "/home/hadoop/.local/lib/python3.11/site-packages/sklearn/feature_selection/_base.py:96: UserWarning: No features were selected: either the data is too noisy or the selection test too strict.\n",
      "  warnings.warn(\n",
      "/home/hadoop/.local/lib/python3.11/site-packages/sklearn/feature_selection/_base.py:96: UserWarning: No features were selected: either the data is too noisy or the selection test too strict.\n",
      "  warnings.warn(\n",
      "/home/hadoop/.local/lib/python3.11/site-packages/sklearn/feature_selection/_base.py:96: UserWarning: No features were selected: either the data is too noisy or the selection test too strict.\n",
      "  warnings.warn(\n",
      "/home/hadoop/.local/lib/python3.11/site-packages/sklearn/feature_selection/_base.py:96: UserWarning: No features were selected: either the data is too noisy or the selection test too strict.\n",
      "  warnings.warn(\n",
      "/home/hadoop/.local/lib/python3.11/site-packages/sklearn/feature_selection/_base.py:96: UserWarning: No features were selected: either the data is too noisy or the selection test too strict.\n",
      "  warnings.warn(\n"
     ]
    },
    {
     "ename": "KeyboardInterrupt",
     "evalue": "",
     "output_type": "error",
     "traceback": [
      "\u001b[0;31m---------------------------------------------------------------------------\u001b[0m",
      "\u001b[0;31mKeyboardInterrupt\u001b[0m                         Traceback (most recent call last)",
      "Cell \u001b[0;32mIn [77], line 4\u001b[0m\n\u001b[1;32m      2\u001b[0m search \u001b[39m=\u001b[39m GridSearchCV(pipeline, grid, scoring\u001b[39m=\u001b[39m\u001b[39m'\u001b[39m\u001b[39mneg_mean_absolute_error\u001b[39m\u001b[39m'\u001b[39m, n_jobs\u001b[39m=\u001b[39m\u001b[39m-\u001b[39m\u001b[39m1\u001b[39m, cv\u001b[39m=\u001b[39mcv)\n\u001b[1;32m      3\u001b[0m \u001b[39m# perform the search\u001b[39;00m\n\u001b[0;32m----> 4\u001b[0m results \u001b[39m=\u001b[39m search\u001b[39m.\u001b[39;49mfit(X, y)\n",
      "File \u001b[0;32m~/.local/lib/python3.11/site-packages/sklearn/model_selection/_search.py:875\u001b[0m, in \u001b[0;36mBaseSearchCV.fit\u001b[0;34m(self, X, y, groups, **fit_params)\u001b[0m\n\u001b[1;32m    869\u001b[0m     results \u001b[39m=\u001b[39m \u001b[39mself\u001b[39m\u001b[39m.\u001b[39m_format_results(\n\u001b[1;32m    870\u001b[0m         all_candidate_params, n_splits, all_out, all_more_results\n\u001b[1;32m    871\u001b[0m     )\n\u001b[1;32m    873\u001b[0m     \u001b[39mreturn\u001b[39;00m results\n\u001b[0;32m--> 875\u001b[0m \u001b[39mself\u001b[39;49m\u001b[39m.\u001b[39;49m_run_search(evaluate_candidates)\n\u001b[1;32m    877\u001b[0m \u001b[39m# multimetric is determined here because in the case of a callable\u001b[39;00m\n\u001b[1;32m    878\u001b[0m \u001b[39m# self.scoring the return type is only known after calling\u001b[39;00m\n\u001b[1;32m    879\u001b[0m first_test_score \u001b[39m=\u001b[39m all_out[\u001b[39m0\u001b[39m][\u001b[39m\"\u001b[39m\u001b[39mtest_scores\u001b[39m\u001b[39m\"\u001b[39m]\n",
      "File \u001b[0;32m~/.local/lib/python3.11/site-packages/sklearn/model_selection/_search.py:1379\u001b[0m, in \u001b[0;36mGridSearchCV._run_search\u001b[0;34m(self, evaluate_candidates)\u001b[0m\n\u001b[1;32m   1377\u001b[0m \u001b[39mdef\u001b[39;00m \u001b[39m_run_search\u001b[39m(\u001b[39mself\u001b[39m, evaluate_candidates):\n\u001b[1;32m   1378\u001b[0m     \u001b[39m\"\"\"Search all candidates in param_grid\"\"\"\u001b[39;00m\n\u001b[0;32m-> 1379\u001b[0m     evaluate_candidates(ParameterGrid(\u001b[39mself\u001b[39;49m\u001b[39m.\u001b[39;49mparam_grid))\n",
      "File \u001b[0;32m~/.local/lib/python3.11/site-packages/sklearn/model_selection/_search.py:822\u001b[0m, in \u001b[0;36mBaseSearchCV.fit.<locals>.evaluate_candidates\u001b[0;34m(candidate_params, cv, more_results)\u001b[0m\n\u001b[1;32m    814\u001b[0m \u001b[39mif\u001b[39;00m \u001b[39mself\u001b[39m\u001b[39m.\u001b[39mverbose \u001b[39m>\u001b[39m \u001b[39m0\u001b[39m:\n\u001b[1;32m    815\u001b[0m     \u001b[39mprint\u001b[39m(\n\u001b[1;32m    816\u001b[0m         \u001b[39m\"\u001b[39m\u001b[39mFitting \u001b[39m\u001b[39m{0}\u001b[39;00m\u001b[39m folds for each of \u001b[39m\u001b[39m{1}\u001b[39;00m\u001b[39m candidates,\u001b[39m\u001b[39m\"\u001b[39m\n\u001b[1;32m    817\u001b[0m         \u001b[39m\"\u001b[39m\u001b[39m totalling \u001b[39m\u001b[39m{2}\u001b[39;00m\u001b[39m fits\u001b[39m\u001b[39m\"\u001b[39m\u001b[39m.\u001b[39mformat(\n\u001b[1;32m    818\u001b[0m             n_splits, n_candidates, n_candidates \u001b[39m*\u001b[39m n_splits\n\u001b[1;32m    819\u001b[0m         )\n\u001b[1;32m    820\u001b[0m     )\n\u001b[0;32m--> 822\u001b[0m out \u001b[39m=\u001b[39m parallel(\n\u001b[1;32m    823\u001b[0m     delayed(_fit_and_score)(\n\u001b[1;32m    824\u001b[0m         clone(base_estimator),\n\u001b[1;32m    825\u001b[0m         X,\n\u001b[1;32m    826\u001b[0m         y,\n\u001b[1;32m    827\u001b[0m         train\u001b[39m=\u001b[39;49mtrain,\n\u001b[1;32m    828\u001b[0m         test\u001b[39m=\u001b[39;49mtest,\n\u001b[1;32m    829\u001b[0m         parameters\u001b[39m=\u001b[39;49mparameters,\n\u001b[1;32m    830\u001b[0m         split_progress\u001b[39m=\u001b[39;49m(split_idx, n_splits),\n\u001b[1;32m    831\u001b[0m         candidate_progress\u001b[39m=\u001b[39;49m(cand_idx, n_candidates),\n\u001b[1;32m    832\u001b[0m         \u001b[39m*\u001b[39;49m\u001b[39m*\u001b[39;49mfit_and_score_kwargs,\n\u001b[1;32m    833\u001b[0m     )\n\u001b[1;32m    834\u001b[0m     \u001b[39mfor\u001b[39;49;00m (cand_idx, parameters), (split_idx, (train, test)) \u001b[39min\u001b[39;49;00m product(\n\u001b[1;32m    835\u001b[0m         \u001b[39menumerate\u001b[39;49m(candidate_params), \u001b[39menumerate\u001b[39;49m(cv\u001b[39m.\u001b[39;49msplit(X, y, groups))\n\u001b[1;32m    836\u001b[0m     )\n\u001b[1;32m    837\u001b[0m )\n\u001b[1;32m    839\u001b[0m \u001b[39mif\u001b[39;00m \u001b[39mlen\u001b[39m(out) \u001b[39m<\u001b[39m \u001b[39m1\u001b[39m:\n\u001b[1;32m    840\u001b[0m     \u001b[39mraise\u001b[39;00m \u001b[39mValueError\u001b[39;00m(\n\u001b[1;32m    841\u001b[0m         \u001b[39m\"\u001b[39m\u001b[39mNo fits were performed. \u001b[39m\u001b[39m\"\u001b[39m\n\u001b[1;32m    842\u001b[0m         \u001b[39m\"\u001b[39m\u001b[39mWas the CV iterator empty? \u001b[39m\u001b[39m\"\u001b[39m\n\u001b[1;32m    843\u001b[0m         \u001b[39m\"\u001b[39m\u001b[39mWere there no candidates?\u001b[39m\u001b[39m\"\u001b[39m\n\u001b[1;32m    844\u001b[0m     )\n",
      "File \u001b[0;32m~/.local/lib/python3.11/site-packages/joblib/parallel.py:1098\u001b[0m, in \u001b[0;36mParallel.__call__\u001b[0;34m(self, iterable)\u001b[0m\n\u001b[1;32m   1095\u001b[0m     \u001b[39mself\u001b[39m\u001b[39m.\u001b[39m_iterating \u001b[39m=\u001b[39m \u001b[39mFalse\u001b[39;00m\n\u001b[1;32m   1097\u001b[0m \u001b[39mwith\u001b[39;00m \u001b[39mself\u001b[39m\u001b[39m.\u001b[39m_backend\u001b[39m.\u001b[39mretrieval_context():\n\u001b[0;32m-> 1098\u001b[0m     \u001b[39mself\u001b[39;49m\u001b[39m.\u001b[39;49mretrieve()\n\u001b[1;32m   1099\u001b[0m \u001b[39m# Make sure that we get a last message telling us we are done\u001b[39;00m\n\u001b[1;32m   1100\u001b[0m elapsed_time \u001b[39m=\u001b[39m time\u001b[39m.\u001b[39mtime() \u001b[39m-\u001b[39m \u001b[39mself\u001b[39m\u001b[39m.\u001b[39m_start_time\n",
      "File \u001b[0;32m~/.local/lib/python3.11/site-packages/joblib/parallel.py:975\u001b[0m, in \u001b[0;36mParallel.retrieve\u001b[0;34m(self)\u001b[0m\n\u001b[1;32m    973\u001b[0m \u001b[39mtry\u001b[39;00m:\n\u001b[1;32m    974\u001b[0m     \u001b[39mif\u001b[39;00m \u001b[39mgetattr\u001b[39m(\u001b[39mself\u001b[39m\u001b[39m.\u001b[39m_backend, \u001b[39m'\u001b[39m\u001b[39msupports_timeout\u001b[39m\u001b[39m'\u001b[39m, \u001b[39mFalse\u001b[39;00m):\n\u001b[0;32m--> 975\u001b[0m         \u001b[39mself\u001b[39m\u001b[39m.\u001b[39m_output\u001b[39m.\u001b[39mextend(job\u001b[39m.\u001b[39;49mget(timeout\u001b[39m=\u001b[39;49m\u001b[39mself\u001b[39;49m\u001b[39m.\u001b[39;49mtimeout))\n\u001b[1;32m    976\u001b[0m     \u001b[39melse\u001b[39;00m:\n\u001b[1;32m    977\u001b[0m         \u001b[39mself\u001b[39m\u001b[39m.\u001b[39m_output\u001b[39m.\u001b[39mextend(job\u001b[39m.\u001b[39mget())\n",
      "File \u001b[0;32m~/.local/lib/python3.11/site-packages/joblib/_parallel_backends.py:567\u001b[0m, in \u001b[0;36mLokyBackend.wrap_future_result\u001b[0;34m(future, timeout)\u001b[0m\n\u001b[1;32m    564\u001b[0m \u001b[39m\"\"\"Wrapper for Future.result to implement the same behaviour as\u001b[39;00m\n\u001b[1;32m    565\u001b[0m \u001b[39mAsyncResults.get from multiprocessing.\"\"\"\u001b[39;00m\n\u001b[1;32m    566\u001b[0m \u001b[39mtry\u001b[39;00m:\n\u001b[0;32m--> 567\u001b[0m     \u001b[39mreturn\u001b[39;00m future\u001b[39m.\u001b[39;49mresult(timeout\u001b[39m=\u001b[39;49mtimeout)\n\u001b[1;32m    568\u001b[0m \u001b[39mexcept\u001b[39;00m CfTimeoutError \u001b[39mas\u001b[39;00m e:\n\u001b[1;32m    569\u001b[0m     \u001b[39mraise\u001b[39;00m \u001b[39mTimeoutError\u001b[39;00m \u001b[39mfrom\u001b[39;00m \u001b[39me\u001b[39;00m\n",
      "File \u001b[0;32m/usr/lib/python3.11/concurrent/futures/_base.py:451\u001b[0m, in \u001b[0;36mFuture.result\u001b[0;34m(self, timeout)\u001b[0m\n\u001b[1;32m    448\u001b[0m \u001b[39melif\u001b[39;00m \u001b[39mself\u001b[39m\u001b[39m.\u001b[39m_state \u001b[39m==\u001b[39m FINISHED:\n\u001b[1;32m    449\u001b[0m     \u001b[39mreturn\u001b[39;00m \u001b[39mself\u001b[39m\u001b[39m.\u001b[39m__get_result()\n\u001b[0;32m--> 451\u001b[0m \u001b[39mself\u001b[39;49m\u001b[39m.\u001b[39;49m_condition\u001b[39m.\u001b[39;49mwait(timeout)\n\u001b[1;32m    453\u001b[0m \u001b[39mif\u001b[39;00m \u001b[39mself\u001b[39m\u001b[39m.\u001b[39m_state \u001b[39min\u001b[39;00m [CANCELLED, CANCELLED_AND_NOTIFIED]:\n\u001b[1;32m    454\u001b[0m     \u001b[39mraise\u001b[39;00m CancelledError()\n",
      "File \u001b[0;32m/usr/lib/python3.11/threading.py:320\u001b[0m, in \u001b[0;36mCondition.wait\u001b[0;34m(self, timeout)\u001b[0m\n\u001b[1;32m    318\u001b[0m \u001b[39mtry\u001b[39;00m:    \u001b[39m# restore state no matter what (e.g., KeyboardInterrupt)\u001b[39;00m\n\u001b[1;32m    319\u001b[0m     \u001b[39mif\u001b[39;00m timeout \u001b[39mis\u001b[39;00m \u001b[39mNone\u001b[39;00m:\n\u001b[0;32m--> 320\u001b[0m         waiter\u001b[39m.\u001b[39;49macquire()\n\u001b[1;32m    321\u001b[0m         gotit \u001b[39m=\u001b[39m \u001b[39mTrue\u001b[39;00m\n\u001b[1;32m    322\u001b[0m     \u001b[39melse\u001b[39;00m:\n",
      "\u001b[0;31mKeyboardInterrupt\u001b[0m: "
     ]
    }
   ],
   "source": [
    "\n",
    "# define the grid search\n",
    "search = GridSearchCV(pipeline, grid, scoring='neg_mean_absolute_error', n_jobs=-1, cv=cv)\n",
    "# perform the search\n",
    "results = search.fit(X, y)\n"
   ]
  },
  {
   "cell_type": "code",
   "execution_count": null,
   "metadata": {},
   "outputs": [],
   "source": [
    "\n",
    "# summarize best\n",
    "print('Best MAE: %.3f' % results.best_score_)\n",
    "print('Best Config: %s' % results.best_params_)\n",
    "# summarize all\n",
    "means = results.cv_results_['mean_test_score']\n",
    "params = results.cv_results_['params']\n",
    "for mean, param in zip(means, params):\n",
    "    print(\">%.3f with: %r\" % (mean, param))"
   ]
  },
  {
   "cell_type": "code",
   "execution_count": 226,
   "metadata": {},
   "outputs": [
    {
     "name": "stdout",
     "output_type": "stream",
     "text": [
      "--------\n",
      "[col_y]:  Production moyenne par entaille (L)\n",
      "[mse]:  2.3338647984342007\n",
      "[r2]:  0.9493483993021926\n",
      "[adj_r2]:  0.9484415931515925\n",
      "--------\n",
      "[col_y]:  Débit sève (L/j)\n",
      "[mse]:  4051.8334472706574\n",
      "[r2]:  0.13653673333867755\n",
      "[adj_r2]:  0.12107831168489425\n",
      "--------\n",
      "[col_y]:  Sucre sève (%)\n",
      "[mse]:  0.11516037767437366\n",
      "[r2]:  0.9150137318779624\n",
      "[adj_r2]:  0.9134922385867751\n",
      "--------\n",
      "[col_y]:  Transmittance produit (%)\n",
      "[mse]:  6.280707001354532\n",
      "[r2]:  0.7209299435331823\n",
      "[adj_r2]:  0.7159338044148505\n"
     ]
    }
   ],
   "source": [
    "for y in (dfNumerique_Y_cols.columns.values):    \n",
    "    col_y = dfNumerique_Y_cols[y]\n",
    "    X_train, X_test, y_train, y_test = \\\n",
    "    train_test_split(dfNumerique_X_cols_vif, col_y, test_size=0.25, random_state=0)\n",
    "\n",
    "\n",
    "    ## transforming data    \n",
    "    scaler = MinMaxScaler()\n",
    "    X_train = scaler.fit_transform(X_train)\n",
    "    X_test = scaler.fit_transform(X_test)\n",
    "\n",
    "\n",
    "    ## Fitting Multiple Linear Regression to the training set\n",
    "    regressor =  LinearRegression()\n",
    "    regressor.fit(X_train, y_train)\n",
    "\n",
    "    y_pred = regressor.predict(X_test)\n",
    "    mse = math.sqrt(mean_squared_error(y_test, y_pred))\n",
    "    r2 = r2_score(y_test, y_pred)\n",
    "    \n",
    "    ##adj_r2 = 1-(1-r2)*(n-1)/(n-p-1)\n",
    "    ## Where n is the sample size and p is the number of independent variables.\n",
    "\n",
    "    #print (\"len(X_test): \", len(X_test))\n",
    "    #print (\"len(y_test): \", len(y_test))\n",
    "    \n",
    "    ### ajd_r2\n",
    "    ## https://stackoverflow.com/questions/51038820/how-to-calculated-the-adjusted-r2-value-using-scikit\n",
    "    ## https://www.dummies.com/article/business-careers-money/business/accounting/calculation-analysis/how-to-calculate-the-adjusted-coefficient-of-determination-146054/\n",
    "    #print (\"n: \", n)\n",
    "    #print (\"p: \", p)\n",
    "    #print (\"adj_r2 = 1-(1-r2)*(n-1)/(n-p-1)\")\n",
    "\n",
    "    n = len(X_test)\n",
    "    p = len(dfNumerique_X_cols_vif.columns)\n",
    "    adj_r2 = 1-(1-r2)*(n-1)/(n-p-1)\n",
    "    \n",
    "    print(\"--------\")\n",
    "        \n",
    "    print(\"[col_y]: \", col_y.name)\n",
    "    print(\"[mse]: \", mse)\n",
    "    #print(\"[r2] - A value of 1 indicates that the response variable can be perfectly explained by the predictor variables.\")\n",
    "    print(\"[r2]: \", r2)\n",
    "    print(\"[adj_r2]: \", adj_r2)\n"
   ]
  },
  {
   "cell_type": "code",
   "execution_count": 207,
   "metadata": {},
   "outputs": [],
   "source": [
    "### https://www.youtube.com/watch?v=VCVhwjbI6h8\n",
    "from sklearn.model_selection import train_test_split\n",
    "# X_train, X_test, y_train, y_test = train_test_split(dfNumerique_X_cols_vif, dfNumerique_Y_cols, test_size=0.25, random_state=0)\n",
    "X_train, X_test, y_train, y_test = train_test_split(dfNumerique_X_cols_vif, dfNumerique_Y_cols['Production moyenne par entaille (L)'], test_size=0.25, random_state=0)"
   ]
  },
  {
   "cell_type": "code",
   "execution_count": 208,
   "metadata": {},
   "outputs": [],
   "source": [
    "## transforming data\n",
    "from sklearn.preprocessing import MinMaxScaler\n",
    "scaler = MinMaxScaler()\n",
    "X_train = scaler.fit_transform(X_train)\n",
    "X_test = scaler.fit_transform(X_test)\n"
   ]
  },
  {
   "cell_type": "code",
   "execution_count": 209,
   "metadata": {},
   "outputs": [
    {
     "data": {
      "text/html": [
       "<style>#sk-container-id-4 {color: black;background-color: white;}#sk-container-id-4 pre{padding: 0;}#sk-container-id-4 div.sk-toggleable {background-color: white;}#sk-container-id-4 label.sk-toggleable__label {cursor: pointer;display: block;width: 100%;margin-bottom: 0;padding: 0.3em;box-sizing: border-box;text-align: center;}#sk-container-id-4 label.sk-toggleable__label-arrow:before {content: \"▸\";float: left;margin-right: 0.25em;color: #696969;}#sk-container-id-4 label.sk-toggleable__label-arrow:hover:before {color: black;}#sk-container-id-4 div.sk-estimator:hover label.sk-toggleable__label-arrow:before {color: black;}#sk-container-id-4 div.sk-toggleable__content {max-height: 0;max-width: 0;overflow: hidden;text-align: left;background-color: #f0f8ff;}#sk-container-id-4 div.sk-toggleable__content pre {margin: 0.2em;color: black;border-radius: 0.25em;background-color: #f0f8ff;}#sk-container-id-4 input.sk-toggleable__control:checked~div.sk-toggleable__content {max-height: 200px;max-width: 100%;overflow: auto;}#sk-container-id-4 input.sk-toggleable__control:checked~label.sk-toggleable__label-arrow:before {content: \"▾\";}#sk-container-id-4 div.sk-estimator input.sk-toggleable__control:checked~label.sk-toggleable__label {background-color: #d4ebff;}#sk-container-id-4 div.sk-label input.sk-toggleable__control:checked~label.sk-toggleable__label {background-color: #d4ebff;}#sk-container-id-4 input.sk-hidden--visually {border: 0;clip: rect(1px 1px 1px 1px);clip: rect(1px, 1px, 1px, 1px);height: 1px;margin: -1px;overflow: hidden;padding: 0;position: absolute;width: 1px;}#sk-container-id-4 div.sk-estimator {font-family: monospace;background-color: #f0f8ff;border: 1px dotted black;border-radius: 0.25em;box-sizing: border-box;margin-bottom: 0.5em;}#sk-container-id-4 div.sk-estimator:hover {background-color: #d4ebff;}#sk-container-id-4 div.sk-parallel-item::after {content: \"\";width: 100%;border-bottom: 1px solid gray;flex-grow: 1;}#sk-container-id-4 div.sk-label:hover label.sk-toggleable__label {background-color: #d4ebff;}#sk-container-id-4 div.sk-serial::before {content: \"\";position: absolute;border-left: 1px solid gray;box-sizing: border-box;top: 0;bottom: 0;left: 50%;z-index: 0;}#sk-container-id-4 div.sk-serial {display: flex;flex-direction: column;align-items: center;background-color: white;padding-right: 0.2em;padding-left: 0.2em;position: relative;}#sk-container-id-4 div.sk-item {position: relative;z-index: 1;}#sk-container-id-4 div.sk-parallel {display: flex;align-items: stretch;justify-content: center;background-color: white;position: relative;}#sk-container-id-4 div.sk-item::before, #sk-container-id-4 div.sk-parallel-item::before {content: \"\";position: absolute;border-left: 1px solid gray;box-sizing: border-box;top: 0;bottom: 0;left: 50%;z-index: -1;}#sk-container-id-4 div.sk-parallel-item {display: flex;flex-direction: column;z-index: 1;position: relative;background-color: white;}#sk-container-id-4 div.sk-parallel-item:first-child::after {align-self: flex-end;width: 50%;}#sk-container-id-4 div.sk-parallel-item:last-child::after {align-self: flex-start;width: 50%;}#sk-container-id-4 div.sk-parallel-item:only-child::after {width: 0;}#sk-container-id-4 div.sk-dashed-wrapped {border: 1px dashed gray;margin: 0 0.4em 0.5em 0.4em;box-sizing: border-box;padding-bottom: 0.4em;background-color: white;}#sk-container-id-4 div.sk-label label {font-family: monospace;font-weight: bold;display: inline-block;line-height: 1.2em;}#sk-container-id-4 div.sk-label-container {text-align: center;}#sk-container-id-4 div.sk-container {/* jupyter's `normalize.less` sets `[hidden] { display: none; }` but bootstrap.min.css set `[hidden] { display: none !important; }` so we also need the `!important` here to be able to override the default hidden behavior on the sphinx rendered scikit-learn.org. See: https://github.com/scikit-learn/scikit-learn/issues/21755 */display: inline-block !important;position: relative;}#sk-container-id-4 div.sk-text-repr-fallback {display: none;}</style><div id=\"sk-container-id-4\" class=\"sk-top-container\"><div class=\"sk-text-repr-fallback\"><pre>LinearRegression()</pre><b>In a Jupyter environment, please rerun this cell to show the HTML representation or trust the notebook. <br />On GitHub, the HTML representation is unable to render, please try loading this page with nbviewer.org.</b></div><div class=\"sk-container\" hidden><div class=\"sk-item\"><div class=\"sk-estimator sk-toggleable\"><input class=\"sk-toggleable__control sk-hidden--visually\" id=\"sk-estimator-id-4\" type=\"checkbox\" checked><label for=\"sk-estimator-id-4\" class=\"sk-toggleable__label sk-toggleable__label-arrow\">LinearRegression</label><div class=\"sk-toggleable__content\"><pre>LinearRegression()</pre></div></div></div></div></div>"
      ],
      "text/plain": [
       "LinearRegression()"
      ]
     },
     "execution_count": 209,
     "metadata": {},
     "output_type": "execute_result"
    }
   ],
   "source": [
    "## Fitting Multiple Linear Regression to the training set\n",
    "from sklearn.linear_model import LinearRegression\n",
    "from sklearn.metrics import r2_score\n",
    "from sklearn.metrics import mean_squared_error\n",
    "\n",
    "regressor =  LinearRegression()\n",
    "regressor.fit(X_train, y_train)\n"
   ]
  },
  {
   "cell_type": "code",
   "execution_count": 210,
   "metadata": {},
   "outputs": [],
   "source": [
    "y_pred = regressor.predict(X_test)\n",
    "math.sqrt(mean_squared_error(y_test, y_pred))\n",
    "r2_score(y_test, y_pred)"
   ]
  },
  {
   "cell_type": "code",
   "execution_count": 178,
   "metadata": {},
   "outputs": [
    {
     "name": "stdout",
     "output_type": "stream",
     "text": [
      "==== SUMMARY ====\n",
      "==== SUMMARY ====\n",
      "==== SUMMARY ====\n",
      "==== SUMMARY ====\n"
     ]
    }
   ],
   "source": [
    "for m in lst_models:\n",
    "    print(\"==== SUMMARY ====\")\n",
    "    m.summary()\n"
   ]
  },
  {
   "cell_type": "code",
   "execution_count": 145,
   "metadata": {},
   "outputs": [
    {
     "data": {
      "text/html": [
       "<div>\n",
       "<style scoped>\n",
       "    .dataframe tbody tr th:only-of-type {\n",
       "        vertical-align: middle;\n",
       "    }\n",
       "\n",
       "    .dataframe tbody tr th {\n",
       "        vertical-align: top;\n",
       "    }\n",
       "\n",
       "    .dataframe thead th {\n",
       "        text-align: right;\n",
       "    }\n",
       "</style>\n",
       "<table border=\"1\" class=\"dataframe\">\n",
       "  <thead>\n",
       "    <tr style=\"text-align: right;\">\n",
       "      <th></th>\n",
       "      <th>const</th>\n",
       "      <th>Année</th>\n",
       "      <th>Jour Calendrier Saison</th>\n",
       "      <th>Précip. tot. (mm)</th>\n",
       "      <th>Précip. Tot. Hiver (mm)</th>\n",
       "      <th>Nombre épisodes gel/dégel</th>\n",
       "      <th>CategClasseSirop</th>\n",
       "    </tr>\n",
       "  </thead>\n",
       "  <tbody>\n",
       "    <tr>\n",
       "      <th>23</th>\n",
       "      <td>1.0</td>\n",
       "      <td>2000</td>\n",
       "      <td>24</td>\n",
       "      <td>0.0</td>\n",
       "      <td>313.2</td>\n",
       "      <td>27</td>\n",
       "      <td>1</td>\n",
       "    </tr>\n",
       "    <tr>\n",
       "      <th>24</th>\n",
       "      <td>1.0</td>\n",
       "      <td>2000</td>\n",
       "      <td>25</td>\n",
       "      <td>0.0</td>\n",
       "      <td>313.2</td>\n",
       "      <td>27</td>\n",
       "      <td>3</td>\n",
       "    </tr>\n",
       "    <tr>\n",
       "      <th>25</th>\n",
       "      <td>1.0</td>\n",
       "      <td>2000</td>\n",
       "      <td>26</td>\n",
       "      <td>0.0</td>\n",
       "      <td>313.2</td>\n",
       "      <td>27</td>\n",
       "      <td>3</td>\n",
       "    </tr>\n",
       "    <tr>\n",
       "      <th>26</th>\n",
       "      <td>1.0</td>\n",
       "      <td>2000</td>\n",
       "      <td>27</td>\n",
       "      <td>1.4</td>\n",
       "      <td>313.2</td>\n",
       "      <td>27</td>\n",
       "      <td>3</td>\n",
       "    </tr>\n",
       "    <tr>\n",
       "      <th>27</th>\n",
       "      <td>1.0</td>\n",
       "      <td>2000</td>\n",
       "      <td>28</td>\n",
       "      <td>11.2</td>\n",
       "      <td>313.2</td>\n",
       "      <td>27</td>\n",
       "      <td>3</td>\n",
       "    </tr>\n",
       "  </tbody>\n",
       "</table>\n",
       "</div>"
      ],
      "text/plain": [
       "    const  Année  Jour Calendrier Saison  Précip. tot. (mm)  \\\n",
       "23    1.0   2000                      24                0.0   \n",
       "24    1.0   2000                      25                0.0   \n",
       "25    1.0   2000                      26                0.0   \n",
       "26    1.0   2000                      27                1.4   \n",
       "27    1.0   2000                      28               11.2   \n",
       "\n",
       "    Précip. Tot. Hiver (mm)  Nombre épisodes gel/dégel  CategClasseSirop  \n",
       "23                    313.2                         27                 1  \n",
       "24                    313.2                         27                 3  \n",
       "25                    313.2                         27                 3  \n",
       "26                    313.2                         27                 3  \n",
       "27                    313.2                         27                 3  "
      ]
     },
     "execution_count": 145,
     "metadata": {},
     "output_type": "execute_result"
    }
   ],
   "source": [
    "#dfNumerique_X_cols_vif.head()"
   ]
  },
  {
   "cell_type": "code",
   "execution_count": 140,
   "metadata": {},
   "outputs": [
    {
     "name": "stdout",
     "output_type": "stream",
     "text": [
      "type(Y) <class 'pandas.core.series.Series'>\n",
      "type(X) <class 'pandas.core.frame.DataFrame'>\n",
      "len(Y):  45\n",
      "len(X):  45\n"
     ]
    }
   ],
   "source": [
    "duncan_prestige = stm.datasets.get_rdataset(\"Duncan\", \"carData\")\n",
    "Y = duncan_prestige.data['income']\n",
    "X = duncan_prestige.data['education']\n",
    "X = stm.add_constant(X)\n",
    "print(\"type(Y)\", type(Y))\n",
    "print(\"type(X)\", type(X))\n",
    "print(\"len(Y): \", len(Y))\n",
    "print(\"len(X): \", len(X))"
   ]
  },
  {
   "cell_type": "code",
   "execution_count": 147,
   "metadata": {},
   "outputs": [
    {
     "data": {
      "text/html": [
       "<div>\n",
       "<style scoped>\n",
       "    .dataframe tbody tr th:only-of-type {\n",
       "        vertical-align: middle;\n",
       "    }\n",
       "\n",
       "    .dataframe tbody tr th {\n",
       "        vertical-align: top;\n",
       "    }\n",
       "\n",
       "    .dataframe thead th {\n",
       "        text-align: right;\n",
       "    }\n",
       "</style>\n",
       "<table border=\"1\" class=\"dataframe\">\n",
       "  <thead>\n",
       "    <tr style=\"text-align: right;\">\n",
       "      <th></th>\n",
       "      <th>const</th>\n",
       "      <th>education</th>\n",
       "    </tr>\n",
       "  </thead>\n",
       "  <tbody>\n",
       "    <tr>\n",
       "      <th>accountant</th>\n",
       "      <td>1.0</td>\n",
       "      <td>86</td>\n",
       "    </tr>\n",
       "    <tr>\n",
       "      <th>pilot</th>\n",
       "      <td>1.0</td>\n",
       "      <td>76</td>\n",
       "    </tr>\n",
       "    <tr>\n",
       "      <th>architect</th>\n",
       "      <td>1.0</td>\n",
       "      <td>92</td>\n",
       "    </tr>\n",
       "    <tr>\n",
       "      <th>author</th>\n",
       "      <td>1.0</td>\n",
       "      <td>90</td>\n",
       "    </tr>\n",
       "    <tr>\n",
       "      <th>chemist</th>\n",
       "      <td>1.0</td>\n",
       "      <td>86</td>\n",
       "    </tr>\n",
       "  </tbody>\n",
       "</table>\n",
       "</div>"
      ],
      "text/plain": [
       "            const  education\n",
       "accountant    1.0         86\n",
       "pilot         1.0         76\n",
       "architect     1.0         92\n",
       "author        1.0         90\n",
       "chemist       1.0         86"
      ]
     },
     "execution_count": 147,
     "metadata": {},
     "output_type": "execute_result"
    }
   ],
   "source": [
    "#print(Y.shape)\n",
    "X.head()\n",
    "#Y.head()"
   ]
  },
  {
   "cell_type": "code",
   "execution_count": 135,
   "metadata": {},
   "outputs": [
    {
     "data": {
      "text/plain": [
       "const        10.603498\n",
       "education     0.594859\n",
       "dtype: float64"
      ]
     },
     "execution_count": 135,
     "metadata": {},
     "output_type": "execute_result"
    }
   ],
   "source": [
    "\n",
    "model = stm.OLS(Y,X)\n",
    "results = model.fit()\n",
    "results.params"
   ]
  },
  {
   "cell_type": "markdown",
   "metadata": {},
   "source": [
    "###### "
   ]
  },
  {
   "cell_type": "code",
   "execution_count": 59,
   "metadata": {},
   "outputs": [
    {
     "data": {
      "text/plain": [
       "<AxesSubplot: >"
      ]
     },
     "execution_count": 59,
     "metadata": {},
     "output_type": "execute_result"
    }
   ],
   "source": [
    "## On voit qu'il y a certaines correlations parfaites\n",
    "## ex: (temp moyen, temp max), (temp moyen, temp min), (moyenne entaille, episode gel/degel)\n",
    "## (pression osmoseur bar, boullioire 0c), (pression osmoseur bar, quantité sirop obtenu %)\n",
    "## (osmoseur heures opération, alimentation osmoseur (L/j))\n",
    "## (Sucre sortie osmoseur (%), pression osmoseur)\n",
    "## (alimentation osmoseur, (L/j), temps boulloire) -> 0.89\n",
    "## (débit sève, heures opération/j)\n",
    "## Enlevons quelques unes de ces variables et revoyons la correlation\n",
    "list_col_redondantes = ['Temp min.(°C)', 'Temp max.(°C)', 'Température Bouilloire (0C)'\n",
    "                       , 'Quantité de sirop obtenue (L)', 'Sucre du sirop obtenu (%)'\n",
    "                       , 'Osmoseur (heures opération/j)', 'Sucre sortie osmoseur (%)'\n",
    "                       , 'Temps bouilloire (h)'\n",
    "                       ]\n",
    "\n",
    "## On repète l'opération antérieur avec moins de colonnes\n",
    "dfNumerique = dfNumerique.loc[:, ~dfNumerique.columns.isin(list_col_redondantes)]\n",
    "\n",
    "corr = dfNumerique.corr()\n",
    "\n",
    "## heatmap sans correlations parfaites ou presque parfaite:\n",
    "sns.heatmap(corr, cbar=True, cmap=\"Blues\", center=0, annot=True, fmt=\".2f\")"
   ]
  },
  {
   "cell_type": "code",
   "execution_count": 60,
   "metadata": {},
   "outputs": [
    {
     "name": "stdout",
     "output_type": "stream",
     "text": [
      "===========================\n",
      " y =  Débit sève (L/j)\n",
      "Alimentation osmoseur (L/j)    0.966506\n",
      "Name: Débit sève (L/j), dtype: float64\n",
      "===========================\n",
      " y =  Sucre sève (%)\n",
      "Pression osmoseur (bar)      0.903895\n",
      "Transmittance produit (%)    0.760474\n",
      "CategClasseSirop             0.639687\n",
      "Name: Sucre sève (%), dtype: float64\n",
      "===========================\n",
      " y =  Transmittance produit (%)\n",
      "Pression osmoseur (bar)    0.813070\n",
      "Sucre sève (%)             0.760474\n",
      "Name: Transmittance produit (%), dtype: float64\n",
      "===========================\n",
      " y =  Production moyenne par entaille (L)\n",
      "Nombre épisodes gel/dégel    0.952072\n",
      "Name: Production moyenne par entaille (L), dtype: float64\n"
     ]
    }
   ],
   "source": [
    "### pandas.series condition https://www.youtube.com/watch?v=BgfvF6mu20c\n",
    "### pour chaque var Y, imprimer les variables les plus correlées\n",
    "### on applique la condition \n",
    "for col in list_cols_dependennt_vars:\n",
    "    print(\"===========================\")\n",
    "    print(\" y = \", col.name)\n",
    "    cond_correl_plus_grand_50 = ((corr[col.name] > 0.5) & (corr[col.name] <1)) \n",
    "    print(corr[col.name][cond_correl_plus_grand_50].sort_values(ascending=False))\n",
    "    \n",
    "#list_cols_dependennt_vars"
   ]
  },
  {
   "cell_type": "code",
   "execution_count": null,
   "metadata": {},
   "outputs": [],
   "source": [
    "sns.pairplot(dfNumerique)"
   ]
  },
  {
   "cell_type": "markdown",
   "metadata": {},
   "source": [
    "### At this point, we have strong relationships:\n",
    "- Débit sève (L/j) --> Alimentation osmoseur (L/j) [0.97]\n",
    "- Sucre sève (%) --> Pression osmoseur (bar) [0.9]\n",
    "- Transmittance produit (%) --> Pression osmoseur (bar)[0.81], Sucre sortie osmoseur (%) [0.68]\n",
    "- Production moyenne par entaille (L) --> Nombre épisodes gel/dégel [0.95]"
   ]
  },
  {
   "cell_type": "code",
   "execution_count": 32,
   "metadata": {},
   "outputs": [
    {
     "data": {
      "text/plain": [
       "<seaborn.axisgrid.FacetGrid at 0x7fa9bc2a5970>"
      ]
     },
     "execution_count": 32,
     "metadata": {},
     "output_type": "execute_result"
    }
   ],
   "source": [
    "## Transmitance\n",
    "### pression_osmoseur_vs_transmittance\n",
    "sns.lmplot(x='Pression osmoseur (bar)', y = 'Transmittance produit (%)', data = dfNumerique)"
   ]
  },
  {
   "cell_type": "code",
   "execution_count": null,
   "metadata": {},
   "outputs": [],
   "source": [
    "## Le graphique ression_osmoseur_vs_transmittance montre une concentration\n",
    "## dans x près de 40. Regardons s'il y a des outliers:\n",
    "sns.boxplot(x='Pression osmoseur (bar)',data = dfNumerique)"
   ]
  },
  {
   "cell_type": "code",
   "execution_count": null,
   "metadata": {},
   "outputs": [],
   "source": [
    "## effectivement, le boxplot nous montre la présence des outliers\n",
    "stats = dfNumerique['Pression osmoseur (bar)'].describe()\n",
    "stats"
   ]
  },
  {
   "cell_type": "code",
   "execution_count": null,
   "metadata": {},
   "outputs": [],
   "source": [
    "sns.lmplot(x='Alimentation osmoseur (L/j)' , y='Débit sève (L/j)', data=dfNumerique)"
   ]
  },
  {
   "cell_type": "code",
   "execution_count": null,
   "metadata": {},
   "outputs": [],
   "source": []
  },
  {
   "cell_type": "code",
   "execution_count": null,
   "metadata": {},
   "outputs": [],
   "source": []
  },
  {
   "cell_type": "code",
   "execution_count": null,
   "metadata": {},
   "outputs": [],
   "source": [
    "### regardons combien de 0:\n",
    "sns.histplot(x='Pression osmoseur (bar)',data = dfNumerique)"
   ]
  },
  {
   "cell_type": "code",
   "execution_count": null,
   "metadata": {},
   "outputs": [],
   "source": [
    "#sns.pairplot(dfNumerique)"
   ]
  },
  {
   "cell_type": "code",
   "execution_count": null,
   "metadata": {},
   "outputs": [],
   "source": [
    "## correlation seulement entre les variables indépendantes\n",
    "\n",
    "dfDependantVars= dfNumerique.loc[:, ~dfNumerique.columns.isin([col.name for col in list_cols_dependennt_vars])]\n",
    "type(dfDependantVars)\n",
    "\n",
    "corr2 = dfDependantVars.corr()\n",
    "sns.heatmap(corr2, cbar=True, annot=True, cmap=\"Blues\", fmt=\".02f\", center=0)"
   ]
  },
  {
   "cell_type": "markdown",
   "metadata": {},
   "source": [
    "Multiple Linear Regression - https://www.youtube.com/watch?v=J_LnPL3Qg70\n"
   ]
  },
  {
   "cell_type": "code",
   "execution_count": 137,
   "metadata": {},
   "outputs": [
    {
     "ename": "AttributeError",
     "evalue": "'str' object has no attribute 'name'",
     "output_type": "error",
     "traceback": [
      "\u001b[0;31m---------------------------------------------------------------------------\u001b[0m",
      "\u001b[0;31mAttributeError\u001b[0m                            Traceback (most recent call last)",
      "Cell \u001b[0;32mIn [137], line 11\u001b[0m\n\u001b[1;32m      7\u001b[0m list_reg \u001b[39m=\u001b[39m []\n\u001b[1;32m      8\u001b[0m \u001b[39mfor\u001b[39;00m col \u001b[39min\u001b[39;00m list_cols_dependennt_vars:\n\u001b[1;32m      9\u001b[0m  \u001b[39m#   print(col.name)\u001b[39;00m\n\u001b[1;32m     10\u001b[0m     \u001b[39m#result = reg.fit(dfNumerique[:, ~dfNumerique.columns.isin([col.name for col in list_cols_dependennt_vars])], dfNumerique[col.name])\u001b[39;00m\n\u001b[0;32m---> 11\u001b[0m     result \u001b[39m=\u001b[39m reg\u001b[39m.\u001b[39mfit(dfNumerique\u001b[39m.\u001b[39mloc[:, \u001b[39m~\u001b[39mdfNumerique\u001b[39m.\u001b[39mcolumns\u001b[39m.\u001b[39misin([col\u001b[39m.\u001b[39;49mname \u001b[39mfor\u001b[39;49;00m col \u001b[39min\u001b[39;49;00m list_cols_dependennt_vars])], dfNumerique[col\u001b[39m.\u001b[39mname])\n\u001b[1;32m     12\u001b[0m     list_reg\u001b[39m.\u001b[39mappend(result)\n\u001b[1;32m     15\u001b[0m \u001b[39m#dfNumerique['Année'].name\u001b[39;00m\n\u001b[1;32m     16\u001b[0m \u001b[39m#list_cols_dependennt_vars[0].name\u001b[39;00m\n\u001b[1;32m     17\u001b[0m \u001b[39m#[col.name for col in list_cols_dependennt_vars]\u001b[39;00m\n\u001b[1;32m     18\u001b[0m \u001b[39m#reg.fit(dfNumerique.loc[:, ~dfNumerique.columns.isin([col.name for col in list_cols_dependennt_vars])], dfNumerique['Débit sève (L/j)'])\u001b[39;00m\n\u001b[1;32m     19\u001b[0m \u001b[39m#type(dfNumerique.loc[:, ~dfNumerique.columns.isin([col.name for col in list_cols_dependennt_vars])])\u001b[39;00m\n\u001b[1;32m     20\u001b[0m \u001b[39m#dfNumeriqueIndepVar = dfNumerique[:, ~dfNumerique.columns.isin([col.name for col in list_cols_dependennt_vars])]\u001b[39;00m\n",
      "Cell \u001b[0;32mIn [137], line 11\u001b[0m, in \u001b[0;36m<listcomp>\u001b[0;34m(.0)\u001b[0m\n\u001b[1;32m      7\u001b[0m list_reg \u001b[39m=\u001b[39m []\n\u001b[1;32m      8\u001b[0m \u001b[39mfor\u001b[39;00m col \u001b[39min\u001b[39;00m list_cols_dependennt_vars:\n\u001b[1;32m      9\u001b[0m  \u001b[39m#   print(col.name)\u001b[39;00m\n\u001b[1;32m     10\u001b[0m     \u001b[39m#result = reg.fit(dfNumerique[:, ~dfNumerique.columns.isin([col.name for col in list_cols_dependennt_vars])], dfNumerique[col.name])\u001b[39;00m\n\u001b[0;32m---> 11\u001b[0m     result \u001b[39m=\u001b[39m reg\u001b[39m.\u001b[39mfit(dfNumerique\u001b[39m.\u001b[39mloc[:, \u001b[39m~\u001b[39mdfNumerique\u001b[39m.\u001b[39mcolumns\u001b[39m.\u001b[39misin([col\u001b[39m.\u001b[39;49mname \u001b[39mfor\u001b[39;00m col \u001b[39min\u001b[39;00m list_cols_dependennt_vars])], dfNumerique[col\u001b[39m.\u001b[39mname])\n\u001b[1;32m     12\u001b[0m     list_reg\u001b[39m.\u001b[39mappend(result)\n\u001b[1;32m     15\u001b[0m \u001b[39m#dfNumerique['Année'].name\u001b[39;00m\n\u001b[1;32m     16\u001b[0m \u001b[39m#list_cols_dependennt_vars[0].name\u001b[39;00m\n\u001b[1;32m     17\u001b[0m \u001b[39m#[col.name for col in list_cols_dependennt_vars]\u001b[39;00m\n\u001b[1;32m     18\u001b[0m \u001b[39m#reg.fit(dfNumerique.loc[:, ~dfNumerique.columns.isin([col.name for col in list_cols_dependennt_vars])], dfNumerique['Débit sève (L/j)'])\u001b[39;00m\n\u001b[1;32m     19\u001b[0m \u001b[39m#type(dfNumerique.loc[:, ~dfNumerique.columns.isin([col.name for col in list_cols_dependennt_vars])])\u001b[39;00m\n\u001b[1;32m     20\u001b[0m \u001b[39m#dfNumeriqueIndepVar = dfNumerique[:, ~dfNumerique.columns.isin([col.name for col in list_cols_dependennt_vars])]\u001b[39;00m\n",
      "\u001b[0;31mAttributeError\u001b[0m: 'str' object has no attribute 'name'"
     ]
    }
   ],
   "source": [
    "from sklearn import linear_model\n",
    "reg = linear_model.LinearRegression()\n",
    "\n",
    "## https://www.statology.org/pandas-exclude-column/\n",
    "#select all columns except 'rebounds' and 'assists'\n",
    "#df.loc[:, ~df.columns.isin(['rebounds', 'assists'])]\n",
    "list_reg = []\n",
    "for col in list_cols_dependennt_vars:\n",
    " #   print(col.name)\n",
    "    #result = reg.fit(dfNumerique[:, ~dfNumerique.columns.isin([col.name for col in list_cols_dependennt_vars])], dfNumerique[col.name])\n",
    "    result = reg.fit(dfNumerique.loc[:, ~dfNumerique.columns.isin([col.name for col in list_cols_dependennt_vars])], dfNumerique[col.name])\n",
    "    list_reg.append(result)\n",
    "\n",
    "\n",
    "#dfNumerique['Année'].name\n",
    "#list_cols_dependennt_vars[0].name\n",
    "#[col.name for col in list_cols_dependennt_vars]\n",
    "#reg.fit(dfNumerique.loc[:, ~dfNumerique.columns.isin([col.name for col in list_cols_dependennt_vars])], dfNumerique['Débit sève (L/j)'])\n",
    "#type(dfNumerique.loc[:, ~dfNumerique.columns.isin([col.name for col in list_cols_dependennt_vars])])\n",
    "#dfNumeriqueIndepVar = dfNumerique[:, ~dfNumerique.columns.isin([col.name for col in list_cols_dependennt_vars])]"
   ]
  },
  {
   "cell_type": "code",
   "execution_count": null,
   "metadata": {},
   "outputs": [],
   "source": [
    "print(\"coefs: \", list_reg[0].coef_.round(2))\n",
    "print(\"intercept: \", list_reg[0].intercept_)"
   ]
  },
  {
   "cell_type": "markdown",
   "metadata": {},
   "source": [
    "fonction vérif distr normale"
   ]
  },
  {
   "cell_type": "code",
   "execution_count": null,
   "metadata": {},
   "outputs": [],
   "source": [
    "def print_dist_norm(pCol, pXlabel, pYlabel=\"Fonction de densité f(x)\", pNbRuns=1000):\n",
    "    grille_x = np.linspace(pCol.min(), pCol.max(), pNbRuns)\n",
    "    dx=(pCol.max()-(pCol.min()))/(pNbRuns-1)\n",
    "    mu, sigma = sts.norm.fit(pCol.values)\n",
    "    param=sts.norm.fit(pCol.values)\n",
    "    pdf = sts.norm.pdf(grille_x, mu, sigma)\n",
    "    ax=pCol.plot.hist(density=True, bins = 10, color = 'blue', edgecolor = 'black')\n",
    "    ax.set_xlabel(pXlabel)\n",
    "    ax.plot(grille_x, pdf, linewidth=3, color = 'red')\n",
    "    ax.set_ylabel(pYlabel)"
   ]
  }
 ],
 "metadata": {
  "kernelspec": {
   "display_name": "Python 3 (ipykernel)",
   "language": "python",
   "name": "python3"
  },
  "language_info": {
   "codemirror_mode": {
    "name": "ipython",
    "version": 3
   },
   "file_extension": ".py",
   "mimetype": "text/x-python",
   "name": "python",
   "nbconvert_exporter": "python",
   "pygments_lexer": "ipython3",
   "version": "3.11.0"
  },
  "vscode": {
   "interpreter": {
    "hash": "ca3ed784184f1b3bb7c3539bfb45e71710cd27667424f92c2d5bb4df9c107c23"
   }
  }
 },
 "nbformat": 4,
 "nbformat_minor": 4
}
