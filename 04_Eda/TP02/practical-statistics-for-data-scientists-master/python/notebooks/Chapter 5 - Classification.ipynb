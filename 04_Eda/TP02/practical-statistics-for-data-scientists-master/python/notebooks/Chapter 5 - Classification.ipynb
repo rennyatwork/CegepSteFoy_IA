{
 "cells": [
  {
   "cell_type": "markdown",
   "metadata": {},
   "source": [
    "# Practical Statistics for Data Scientists (Python)\n",
    "# Chapter 5. Classification\n",
    "> (c) 2019 Peter C. Bruce, Andrew Bruce, Peter Gedeck"
   ]
  },
  {
   "cell_type": "markdown",
   "metadata": {},
   "source": [
    "Import required Python packages."
   ]
  },
  {
   "cell_type": "code",
   "execution_count": 1,
   "metadata": {
    "execution": {
     "iopub.execute_input": "2022-04-26T19:56:14.194696Z",
     "iopub.status.busy": "2022-04-26T19:56:14.194382Z",
     "iopub.status.idle": "2022-04-26T19:56:15.799722Z",
     "shell.execute_reply": "2022-04-26T19:56:15.798716Z"
    }
   },
   "outputs": [
    {
     "name": "stdout",
     "output_type": "stream",
     "text": [
      "no display found. Using non-interactive Agg backend\n"
     ]
    }
   ],
   "source": [
    "from pathlib import Path\n",
    "import pandas as pd\n",
    "import numpy as np\n",
    "\n",
    "from sklearn.naive_bayes import MultinomialNB\n",
    "from sklearn.discriminant_analysis import LinearDiscriminantAnalysis\n",
    "from sklearn.linear_model import LogisticRegression #, LogisticRegressionCV\n",
    "from sklearn.tree import DecisionTreeClassifier\n",
    "from sklearn.metrics import confusion_matrix, precision_recall_fscore_support\n",
    "from sklearn.metrics import roc_curve, accuracy_score, roc_auc_score\n",
    "\n",
    "import statsmodels.api as sm\n",
    "\n",
    "from imblearn.over_sampling import SMOTE, ADASYN, BorderlineSMOTE\n",
    "from pygam import LinearGAM, s, f, l\n",
    "\n",
    "\n",
    "from dmba import classificationSummary\n",
    "\n",
    "import seaborn as sns\n",
    "import matplotlib.pyplot as plt\n",
    "\n",
    "%matplotlib inline"
   ]
  },
  {
   "cell_type": "code",
   "execution_count": 2,
   "metadata": {
    "execution": {
     "iopub.execute_input": "2022-04-26T19:56:15.803360Z",
     "iopub.status.busy": "2022-04-26T19:56:15.803149Z",
     "iopub.status.idle": "2022-04-26T19:56:16.169820Z",
     "shell.execute_reply": "2022-04-26T19:56:16.169119Z"
    }
   },
   "outputs": [],
   "source": [
    "try:\n",
    "    import common\n",
    "    DATA = common.dataDirectory()\n",
    "except ImportError:\n",
    "    DATA = Path().resolve() / 'data'"
   ]
  },
  {
   "cell_type": "markdown",
   "metadata": {},
   "source": [
    "Define paths to data sets. If you don't keep your data in the same directory as the code, adapt the path names."
   ]
  },
  {
   "cell_type": "code",
   "execution_count": 3,
   "metadata": {
    "execution": {
     "iopub.execute_input": "2022-04-26T19:56:16.173097Z",
     "iopub.status.busy": "2022-04-26T19:56:16.172908Z",
     "iopub.status.idle": "2022-04-26T19:56:16.177543Z",
     "shell.execute_reply": "2022-04-26T19:56:16.176079Z"
    }
   },
   "outputs": [],
   "source": [
    "LOAN3000_CSV = DATA / 'loan3000.csv'\n",
    "LOAN_DATA_CSV = DATA / 'loan_data.csv.gz'\n",
    "FULL_TRAIN_SET_CSV = DATA / 'full_train_set.csv.gz'"
   ]
  },
  {
   "cell_type": "markdown",
   "metadata": {},
   "source": [
    "# Naive Bayes\n",
    "## The Naive Solution"
   ]
  },
  {
   "cell_type": "code",
   "execution_count": 4,
   "metadata": {
    "execution": {
     "iopub.execute_input": "2022-04-26T19:56:16.181332Z",
     "iopub.status.busy": "2022-04-26T19:56:16.181157Z",
     "iopub.status.idle": "2022-04-26T19:56:16.431952Z",
     "shell.execute_reply": "2022-04-26T19:56:16.430978Z"
    }
   },
   "outputs": [
    {
     "name": "stdout",
     "output_type": "stream",
     "text": [
      "predicted class:  default\n",
      "predicted probabilities\n",
      "    default  paid off\n",
      "0  0.653699  0.346301\n"
     ]
    }
   ],
   "source": [
    "loan_data = pd.read_csv(LOAN_DATA_CSV)\n",
    "\n",
    "# convert to categorical\n",
    "loan_data.outcome = loan_data.outcome.astype('category')\n",
    "loan_data.outcome.cat.reorder_categories(['paid off', 'default'])\n",
    "loan_data.purpose_ = loan_data.purpose_.astype('category')\n",
    "loan_data.home_ = loan_data.home_.astype('category')\n",
    "loan_data.emp_len_ = loan_data.emp_len_.astype('category')\n",
    "\n",
    "predictors = ['purpose_', 'home_', 'emp_len_']\n",
    "outcome = 'outcome'\n",
    "X = pd.get_dummies(loan_data[predictors], prefix='', prefix_sep='')\n",
    "y = loan_data[outcome]\n",
    "\n",
    "naive_model = MultinomialNB(alpha=0.01, fit_prior=True)\n",
    "naive_model = MultinomialNB(alpha=1e-10, fit_prior=False)\n",
    "naive_model.fit(X, y)\n",
    "\n",
    "new_loan = X.loc[146:146, :]\n",
    "print('predicted class: ', naive_model.predict(new_loan)[0])\n",
    "\n",
    "probabilities = pd.DataFrame(naive_model.predict_proba(new_loan),\n",
    "                             columns=naive_model.classes_)\n",
    "print('predicted probabilities',)\n",
    "print(probabilities)"
   ]
  },
  {
   "cell_type": "markdown",
   "metadata": {},
   "source": [
    "### Example not in book"
   ]
  },
  {
   "cell_type": "markdown",
   "metadata": {},
   "source": [
    "Numerical variables are not supported in scikit-learn. The example would need to demonstrate binning a variable and display the probability distribution of the bins.\n",
    "```\n",
    "## example not in book\n",
    "less_naive <- NaiveBayes(outcome ~ borrower_score + payment_inc_ratio + \n",
    "                           purpose_ + home_ + emp_len_, data = loan_data)\n",
    "less_naive$table[1:2]\n",
    "\n",
    "png(filename=file.path(PSDS_PATH, 'figures', 'psds_naive_bayes.png'),  width = 4, height=3, units='in', res=300)\n",
    "\n",
    "stats <- less_naive$table[[1]]\n",
    "ggplot(data.frame(borrower_score=c(0,1)), aes(borrower_score)) +\n",
    "  stat_function(fun = dnorm, color='blue', linetype=1, \n",
    "                arg=list(mean=stats[1, 1], sd=stats[1, 2])) +\n",
    "  stat_function(fun = dnorm, color='red', linetype=2, \n",
    "                arg=list(mean=stats[2, 1], sd=stats[2, 2])) +\n",
    "  labs(y='probability')\n",
    "dev.off()\n",
    "```"
   ]
  },
  {
   "cell_type": "markdown",
   "metadata": {},
   "source": [
    "# Discriminant Analysis\n",
    "## A Simple Example"
   ]
  },
  {
   "cell_type": "code",
   "execution_count": 5,
   "metadata": {
    "execution": {
     "iopub.execute_input": "2022-04-26T19:56:16.435118Z",
     "iopub.status.busy": "2022-04-26T19:56:16.434917Z",
     "iopub.status.idle": "2022-04-26T19:56:16.454130Z",
     "shell.execute_reply": "2022-04-26T19:56:16.453281Z"
    }
   },
   "outputs": [
    {
     "name": "stdout",
     "output_type": "stream",
     "text": [
      "                          0\n",
      "borrower_score     7.175839\n",
      "payment_inc_ratio -0.099676\n"
     ]
    }
   ],
   "source": [
    "loan3000 = pd.read_csv(LOAN3000_CSV)\n",
    "loan3000.outcome = loan3000.outcome.astype('category')\n",
    "\n",
    "predictors = ['borrower_score', 'payment_inc_ratio']\n",
    "outcome = 'outcome'\n",
    "\n",
    "X = loan3000[predictors]\n",
    "y = loan3000[outcome]\n",
    "\n",
    "loan_lda = LinearDiscriminantAnalysis()\n",
    "loan_lda.fit(X, y)\n",
    "print(pd.DataFrame(loan_lda.scalings_, index=X.columns))"
   ]
  },
  {
   "cell_type": "code",
   "execution_count": 6,
   "metadata": {
    "execution": {
     "iopub.execute_input": "2022-04-26T19:56:16.457102Z",
     "iopub.status.busy": "2022-04-26T19:56:16.456899Z",
     "iopub.status.idle": "2022-04-26T19:56:16.465568Z",
     "shell.execute_reply": "2022-04-26T19:56:16.464796Z"
    }
   },
   "outputs": [
    {
     "name": "stdout",
     "output_type": "stream",
     "text": [
      "    default  paid off\n",
      "0  0.553544  0.446456\n",
      "1  0.558953  0.441047\n",
      "2  0.272696  0.727304\n",
      "3  0.506254  0.493746\n",
      "4  0.609952  0.390048\n"
     ]
    }
   ],
   "source": [
    "pred = pd.DataFrame(loan_lda.predict_proba(loan3000[predictors]),\n",
    "                    columns=loan_lda.classes_)\n",
    "print(pred.head())"
   ]
  },
  {
   "cell_type": "markdown",
   "metadata": {},
   "source": [
    "### Figure 5.1"
   ]
  },
  {
   "cell_type": "code",
   "execution_count": 7,
   "metadata": {
    "execution": {
     "iopub.execute_input": "2022-04-26T19:56:16.468298Z",
     "iopub.status.busy": "2022-04-26T19:56:16.468090Z",
     "iopub.status.idle": "2022-04-26T19:56:16.744368Z",
     "shell.execute_reply": "2022-04-26T19:56:16.743532Z"
    }
   },
   "outputs": [
    {
     "data": {
      "image/png": "[encoded data removed]",
      "text/plain": [
       "<Figure size 288x288 with 1 Axes>"
      ]
     },
     "metadata": {
      "needs_background": "light"
     },
     "output_type": "display_data"
    }
   ],
   "source": [
    "# Use scalings and center of means to determine decision boundary\n",
    "center = np.mean(loan_lda.means_, axis=0)\n",
    "slope = - loan_lda.scalings_[0] / loan_lda.scalings_[1]\n",
    "intercept = center[1] - center[0] * slope\n",
    "\n",
    "# payment_inc_ratio for borrower_score of 0 and 20\n",
    "x_0 = (0 - intercept) / slope\n",
    "x_20 = (20 - intercept) / slope\n",
    "\n",
    "lda_df = pd.concat([loan3000, pred['default']], axis=1)\n",
    "lda_df.head()\n",
    "\n",
    "fig, ax = plt.subplots(figsize=(4, 4))\n",
    "g = sns.scatterplot(x='borrower_score', y='payment_inc_ratio',\n",
    "                    hue='default', data=lda_df, \n",
    "                    palette=sns.diverging_palette(240, 10, n=9, as_cmap=True),\n",
    "                    ax=ax, legend=False)\n",
    "\n",
    "ax.set_ylim(0, 20)\n",
    "ax.set_xlim(0.15, 0.8)\n",
    "ax.plot((x_0, x_20), (0, 20), linewidth=3)\n",
    "ax.plot(*loan_lda.means_.transpose())\n",
    "\n",
    "plt.tight_layout()\n",
    "plt.show()"
   ]
  },
  {
   "cell_type": "markdown",
   "metadata": {},
   "source": [
    "# Logistic regression\n",
    "## Logistic Response Function and Logit"
   ]
  },
  {
   "cell_type": "code",
   "execution_count": 8,
   "metadata": {
    "execution": {
     "iopub.execute_input": "2022-04-26T19:56:16.747624Z",
     "iopub.status.busy": "2022-04-26T19:56:16.747355Z",
     "iopub.status.idle": "2022-04-26T19:56:17.031969Z",
     "shell.execute_reply": "2022-04-26T19:56:17.031129Z"
    }
   },
   "outputs": [
    {
     "data": {
      "image/png": "[encoded data removed]",
      "text/plain": [
       "<Figure size 216x216 with 1 Axes>"
      ]
     },
     "metadata": {
      "needs_background": "light"
     },
     "output_type": "display_data"
    }
   ],
   "source": [
    "p = np.arange(0.01, 1, 0.01)\n",
    "df = pd.DataFrame({\n",
    "    'p': p,\n",
    "    'logit': np.log(p / (1 - p)),\n",
    "    'odds': p / (1 - p),\n",
    "})\n",
    "\n",
    "fig, ax = plt.subplots(figsize=(3, 3))\n",
    "ax.axhline(0, color='grey', linestyle='--')\n",
    "ax.axvline(0.5, color='grey', linestyle='--')\n",
    "ax.plot(df['p'], df['logit'])\n",
    "ax.set_xlabel('Probability')\n",
    "ax.set_ylabel('logit(p)')\n",
    "\n",
    "plt.tight_layout()\n",
    "plt.show()"
   ]
  },
  {
   "cell_type": "markdown",
   "metadata": {},
   "source": [
    "## Logistic Regression and the GLM\n",
    "The package _scikit-learn_ has a specialised class for `LogisticRegression`. _Statsmodels_ has a more general method based on generalized linear model (GLM)."
   ]
  },
  {
   "cell_type": "code",
   "execution_count": 9,
   "metadata": {
    "execution": {
     "iopub.execute_input": "2022-04-26T19:56:17.037884Z",
     "iopub.status.busy": "2022-04-26T19:56:17.036980Z",
     "iopub.status.idle": "2022-04-26T19:56:17.160300Z",
     "shell.execute_reply": "2022-04-26T19:56:17.159611Z"
    }
   },
   "outputs": [
    {
     "name": "stdout",
     "output_type": "stream",
     "text": [
      "intercept  -1.6380882883923482\n",
      "classes ['default' 'paid off']\n"
     ]
    },
    {
     "data": {
      "text/html": [
       "<div>\n",
       "<style scoped>\n",
       "    .dataframe tbody tr th:only-of-type {\n",
       "        vertical-align: middle;\n",
       "    }\n",
       "\n",
       "    .dataframe tbody tr th {\n",
       "        vertical-align: top;\n",
       "    }\n",
       "\n",
       "    .dataframe thead th {\n",
       "        text-align: right;\n",
       "    }\n",
       "</style>\n",
       "<table border=\"1\" class=\"dataframe\">\n",
       "  <thead>\n",
       "    <tr style=\"text-align: right;\">\n",
       "      <th></th>\n",
       "      <th>coeff</th>\n",
       "    </tr>\n",
       "  </thead>\n",
       "  <tbody>\n",
       "    <tr>\n",
       "      <th>payment_inc_ratio</th>\n",
       "      <td>-0.079728</td>\n",
       "    </tr>\n",
       "    <tr>\n",
       "      <th>borrower_score</th>\n",
       "      <td>4.611037</td>\n",
       "    </tr>\n",
       "    <tr>\n",
       "      <th>debt_consolidation</th>\n",
       "      <td>-0.249342</td>\n",
       "    </tr>\n",
       "    <tr>\n",
       "      <th>home_improvement</th>\n",
       "      <td>-0.407614</td>\n",
       "    </tr>\n",
       "    <tr>\n",
       "      <th>major_purchase</th>\n",
       "      <td>-0.229376</td>\n",
       "    </tr>\n",
       "    <tr>\n",
       "      <th>medical</th>\n",
       "      <td>-0.510087</td>\n",
       "    </tr>\n",
       "    <tr>\n",
       "      <th>other</th>\n",
       "      <td>-0.620534</td>\n",
       "    </tr>\n",
       "    <tr>\n",
       "      <th>small_business</th>\n",
       "      <td>-1.215662</td>\n",
       "    </tr>\n",
       "    <tr>\n",
       "      <th>OWN</th>\n",
       "      <td>-0.048453</td>\n",
       "    </tr>\n",
       "    <tr>\n",
       "      <th>RENT</th>\n",
       "      <td>-0.157355</td>\n",
       "    </tr>\n",
       "    <tr>\n",
       "      <th>&gt; 1 Year</th>\n",
       "      <td>0.357463</td>\n",
       "    </tr>\n",
       "  </tbody>\n",
       "</table>\n",
       "</div>"
      ],
      "text/plain": [
       "                       coeff\n",
       "payment_inc_ratio  -0.079728\n",
       "borrower_score      4.611037\n",
       "debt_consolidation -0.249342\n",
       "home_improvement   -0.407614\n",
       "major_purchase     -0.229376\n",
       "medical            -0.510087\n",
       "other              -0.620534\n",
       "small_business     -1.215662\n",
       "OWN                -0.048453\n",
       "RENT               -0.157355\n",
       " > 1 Year           0.357463"
      ]
     },
     "execution_count": 9,
     "metadata": {},
     "output_type": "execute_result"
    }
   ],
   "source": [
    "predictors = ['payment_inc_ratio', 'purpose_', 'home_', 'emp_len_', \n",
    "              'borrower_score']\n",
    "outcome = 'outcome'\n",
    "X = pd.get_dummies(loan_data[predictors], prefix='', prefix_sep='', \n",
    "                   drop_first=True)\n",
    "y = loan_data[outcome] # .cat.categories\n",
    "\n",
    "logit_reg = LogisticRegression(penalty='l2', C=1e42, solver='liblinear')\n",
    "logit_reg.fit(X, y)\n",
    "\n",
    "print('intercept ', logit_reg.intercept_[0])\n",
    "print('classes', logit_reg.classes_)\n",
    "pd.DataFrame({'coeff': logit_reg.coef_[0]}, \n",
    "             index=X.columns)"
   ]
  },
  {
   "cell_type": "markdown",
   "metadata": {},
   "source": [
    "Note that the intercept and coefficients are reversed compared to the R model."
   ]
  },
  {
   "cell_type": "code",
   "execution_count": 10,
   "metadata": {
    "execution": {
     "iopub.execute_input": "2022-04-26T19:56:17.163690Z",
     "iopub.status.busy": "2022-04-26T19:56:17.163015Z",
     "iopub.status.idle": "2022-04-26T19:56:17.169389Z",
     "shell.execute_reply": "2022-04-26T19:56:17.168700Z"
    }
   },
   "outputs": [
    {
     "name": "stdout",
     "output_type": "stream",
     "text": [
      "Index(['credit_card', 'debt_consolidation', 'home_improvement',\n",
      "       'major_purchase', 'medical', 'other', 'small_business'],\n",
      "      dtype='object')\n",
      "Index(['MORTGAGE', 'OWN', 'RENT'], dtype='object')\n",
      "Index([' < 1 Year', ' > 1 Year'], dtype='object')\n"
     ]
    }
   ],
   "source": [
    "print(loan_data['purpose_'].cat.categories)\n",
    "print(loan_data['home_'].cat.categories)\n",
    "print(loan_data['emp_len_'].cat.categories)"
   ]
  },
  {
   "cell_type": "markdown",
   "metadata": {},
   "source": [
    "_Not in book_ :\n",
    "If you have a feature or outcome variable that is ordinal, use the scikit-learn `OrdinalEncoder` to replace the categories (here, 'paid off' and 'default') with numbers. In the below code, we replace 'paid off' with 0 and 'default' with 1. This reverses the order of the predicted classes and as a consequence, the coefficients will be reversed. "
   ]
  },
  {
   "cell_type": "code",
   "execution_count": 11,
   "metadata": {
    "execution": {
     "iopub.execute_input": "2022-04-26T19:56:17.172930Z",
     "iopub.status.busy": "2022-04-26T19:56:17.172507Z",
     "iopub.status.idle": "2022-04-26T19:56:17.270480Z",
     "shell.execute_reply": "2022-04-26T19:56:17.269865Z"
    }
   },
   "outputs": [
    {
     "name": "stdout",
     "output_type": "stream",
     "text": [
      "intercept  1.6378909416318836\n",
      "classes [0. 1.]\n"
     ]
    },
    {
     "data": {
      "text/html": [
       "<div>\n",
       "<style scoped>\n",
       "    .dataframe tbody tr th:only-of-type {\n",
       "        vertical-align: middle;\n",
       "    }\n",
       "\n",
       "    .dataframe tbody tr th {\n",
       "        vertical-align: top;\n",
       "    }\n",
       "\n",
       "    .dataframe thead th {\n",
       "        text-align: right;\n",
       "    }\n",
       "</style>\n",
       "<table border=\"1\" class=\"dataframe\">\n",
       "  <thead>\n",
       "    <tr style=\"text-align: right;\">\n",
       "      <th></th>\n",
       "      <th>coeff</th>\n",
       "    </tr>\n",
       "  </thead>\n",
       "  <tbody>\n",
       "    <tr>\n",
       "      <th>payment_inc_ratio</th>\n",
       "      <td>0.079739</td>\n",
       "    </tr>\n",
       "    <tr>\n",
       "      <th>borrower_score</th>\n",
       "      <td>-4.612183</td>\n",
       "    </tr>\n",
       "    <tr>\n",
       "      <th>debt_consolidation</th>\n",
       "      <td>0.249414</td>\n",
       "    </tr>\n",
       "    <tr>\n",
       "      <th>home_improvement</th>\n",
       "      <td>0.407734</td>\n",
       "    </tr>\n",
       "    <tr>\n",
       "      <th>major_purchase</th>\n",
       "      <td>0.229710</td>\n",
       "    </tr>\n",
       "    <tr>\n",
       "      <th>medical</th>\n",
       "      <td>0.510744</td>\n",
       "    </tr>\n",
       "    <tr>\n",
       "      <th>other</th>\n",
       "      <td>0.620800</td>\n",
       "    </tr>\n",
       "    <tr>\n",
       "      <th>small_business</th>\n",
       "      <td>1.214936</td>\n",
       "    </tr>\n",
       "    <tr>\n",
       "      <th>OWN</th>\n",
       "      <td>0.048211</td>\n",
       "    </tr>\n",
       "    <tr>\n",
       "      <th>RENT</th>\n",
       "      <td>0.157288</td>\n",
       "    </tr>\n",
       "    <tr>\n",
       "      <th>&gt; 1 Year</th>\n",
       "      <td>-0.356794</td>\n",
       "    </tr>\n",
       "  </tbody>\n",
       "</table>\n",
       "</div>"
      ],
      "text/plain": [
       "                       coeff\n",
       "payment_inc_ratio   0.079739\n",
       "borrower_score     -4.612183\n",
       "debt_consolidation  0.249414\n",
       "home_improvement    0.407734\n",
       "major_purchase      0.229710\n",
       "medical             0.510744\n",
       "other               0.620800\n",
       "small_business      1.214936\n",
       "OWN                 0.048211\n",
       "RENT                0.157288\n",
       " > 1 Year          -0.356794"
      ]
     },
     "execution_count": 11,
     "metadata": {},
     "output_type": "execute_result"
    }
   ],
   "source": [
    "from sklearn.preprocessing import OrdinalEncoder\n",
    "enc = OrdinalEncoder(categories=[['paid off', 'default']])\n",
    "y_enc = enc.fit_transform(loan_data[[outcome]]).ravel()\n",
    "\n",
    "logit_reg_enc = LogisticRegression(penalty=\"l2\", C=1e42, solver='liblinear')\n",
    "logit_reg_enc.fit(X, y_enc)\n",
    "\n",
    "print('intercept ', logit_reg_enc.intercept_[0])\n",
    "print('classes', logit_reg_enc.classes_)\n",
    "pd.DataFrame({'coeff': logit_reg_enc.coef_[0]}, \n",
    "             index=X.columns)"
   ]
  },
  {
   "cell_type": "markdown",
   "metadata": {},
   "source": [
    "## Predicted Values from Logistic Regression"
   ]
  },
  {
   "cell_type": "code",
   "execution_count": 12,
   "metadata": {
    "execution": {
     "iopub.execute_input": "2022-04-26T19:56:17.273633Z",
     "iopub.status.busy": "2022-04-26T19:56:17.273409Z",
     "iopub.status.idle": "2022-04-26T19:56:17.293082Z",
     "shell.execute_reply": "2022-04-26T19:56:17.291698Z"
    }
   },
   "outputs": [
    {
     "name": "stdout",
     "output_type": "stream",
     "text": [
      "            default      paid off\n",
      "count  45342.000000  45342.000000\n",
      "mean      -0.757850     -0.760423\n",
      "std        0.378032      0.390419\n",
      "min       -2.768873     -3.538865\n",
      "25%       -0.985728     -0.977164\n",
      "50%       -0.697366     -0.688946\n",
      "75%       -0.472209     -0.467076\n",
      "max       -0.029476     -0.064787\n"
     ]
    }
   ],
   "source": [
    "pred = pd.DataFrame(logit_reg.predict_log_proba(X),\n",
    "                    columns=logit_reg.classes_)\n",
    "print(pred.describe())"
   ]
  },
  {
   "cell_type": "code",
   "execution_count": 13,
   "metadata": {
    "execution": {
     "iopub.execute_input": "2022-04-26T19:56:17.297687Z",
     "iopub.status.busy": "2022-04-26T19:56:17.296627Z",
     "iopub.status.idle": "2022-04-26T19:56:17.318641Z",
     "shell.execute_reply": "2022-04-26T19:56:17.317742Z"
    },
    "scrolled": true
   },
   "outputs": [
    {
     "name": "stdout",
     "output_type": "stream",
     "text": [
      "            default      paid off\n",
      "count  45342.000000  45342.000000\n",
      "mean       0.500001      0.499999\n",
      "std        0.167336      0.167336\n",
      "min        0.062733      0.029046\n",
      "25%        0.373167      0.376377\n",
      "50%        0.497895      0.502105\n",
      "75%        0.623623      0.626833\n",
      "max        0.970954      0.937267\n"
     ]
    }
   ],
   "source": [
    "pred = pd.DataFrame(logit_reg.predict_proba(X),\n",
    "                    columns=logit_reg.classes_)\n",
    "print(pred.describe())"
   ]
  },
  {
   "cell_type": "markdown",
   "metadata": {},
   "source": [
    "## Interpreting the Coefficients and Odds Ratios"
   ]
  },
  {
   "cell_type": "code",
   "execution_count": 14,
   "metadata": {
    "execution": {
     "iopub.execute_input": "2022-04-26T19:56:17.322842Z",
     "iopub.status.busy": "2022-04-26T19:56:17.322222Z",
     "iopub.status.idle": "2022-04-26T19:56:17.453280Z",
     "shell.execute_reply": "2022-04-26T19:56:17.452416Z"
    }
   },
   "outputs": [
    {
     "data": {
      "image/png": "[encoded data removed]",
      "text/plain": [
       "<Figure size 216x216 with 1 Axes>"
      ]
     },
     "metadata": {
      "needs_background": "light"
     },
     "output_type": "display_data"
    }
   ],
   "source": [
    "fig, ax = plt.subplots(figsize=(3, 3))\n",
    "ax.plot(df['logit'], df['odds'])\n",
    "ax.set_xlabel('log(odds ratio)')\n",
    "ax.set_ylabel('odds ratio')\n",
    "ax.set_xlim(0, 5.1)\n",
    "ax.set_ylim(-5, 105)\n",
    "\n",
    "plt.tight_layout()\n",
    "plt.show()"
   ]
  },
  {
   "cell_type": "markdown",
   "metadata": {},
   "source": [
    "## Assessing the Model\n",
    "For comparison, here the GLM model using _statsmodels_. This method requires that the outcome is mapped to numbers. "
   ]
  },
  {
   "cell_type": "code",
   "execution_count": 15,
   "metadata": {
    "execution": {
     "iopub.execute_input": "2022-04-26T19:56:17.456596Z",
     "iopub.status.busy": "2022-04-26T19:56:17.456391Z",
     "iopub.status.idle": "2022-04-26T19:56:17.566111Z",
     "shell.execute_reply": "2022-04-26T19:56:17.565125Z"
    }
   },
   "outputs": [
    {
     "name": "stdout",
     "output_type": "stream",
     "text": [
      "                 Generalized Linear Model Regression Results                  \n",
      "==============================================================================\n",
      "Dep. Variable:                      y   No. Observations:                45342\n",
      "Model:                            GLM   Df Residuals:                    45330\n",
      "Model Family:                Binomial   Df Model:                           11\n",
      "Link Function:                  Logit   Scale:                          1.0000\n",
      "Method:                          IRLS   Log-Likelihood:                -28757.\n",
      "Date:                Tue, 26 Apr 2022   Deviance:                       57515.\n",
      "Time:                        19:56:17   Pearson chi2:                 4.54e+04\n",
      "No. Iterations:                     4   Pseudo R-squ. (CS):             0.1112\n",
      "Covariance Type:            nonrobust                                         \n",
      "======================================================================================\n",
      "                         coef    std err          z      P>|z|      [0.025      0.975]\n",
      "--------------------------------------------------------------------------------------\n",
      "payment_inc_ratio      0.0797      0.002     32.058      0.000       0.075       0.085\n",
      "borrower_score        -4.6126      0.084    -55.203      0.000      -4.776      -4.449\n",
      "debt_consolidation     0.2494      0.028      9.030      0.000       0.195       0.303\n",
      "home_improvement       0.4077      0.047      8.747      0.000       0.316       0.499\n",
      "major_purchase         0.2296      0.054      4.277      0.000       0.124       0.335\n",
      "medical                0.5105      0.087      5.882      0.000       0.340       0.681\n",
      "other                  0.6207      0.039     15.738      0.000       0.543       0.698\n",
      "small_business         1.2153      0.063     19.192      0.000       1.091       1.339\n",
      "OWN                    0.0483      0.038      1.271      0.204      -0.026       0.123\n",
      "RENT                   0.1573      0.021      7.420      0.000       0.116       0.199\n",
      " > 1 Year             -0.3567      0.053     -6.779      0.000      -0.460      -0.254\n",
      "const                  1.6381      0.074     22.224      0.000       1.494       1.783\n",
      "======================================================================================\n"
     ]
    }
   ],
   "source": [
    "# use GLM (general linear model) with the binomial family to \n",
    "# fit a logistic regression\n",
    "y_numbers = [1 if yi == 'default' else 0 for yi in y]\n",
    "logit_reg_sm = sm.GLM(y_numbers, X.assign(const=1), \n",
    "                      family=sm.families.Binomial())\n",
    "logit_result = logit_reg_sm.fit()\n",
    "print(logit_result.summary())"
   ]
  },
  {
   "cell_type": "markdown",
   "metadata": {},
   "source": [
    "Use splines"
   ]
  },
  {
   "cell_type": "code",
   "execution_count": 16,
   "metadata": {
    "execution": {
     "iopub.execute_input": "2022-04-26T19:56:17.569719Z",
     "iopub.status.busy": "2022-04-26T19:56:17.569089Z",
     "iopub.status.idle": "2022-04-26T19:56:17.891474Z",
     "shell.execute_reply": "2022-04-26T19:56:17.890590Z"
    }
   },
   "outputs": [
    {
     "name": "stdout",
     "output_type": "stream",
     "text": [
      "                             Generalized Linear Model Regression Results                             \n",
      "=====================================================================================================\n",
      "Dep. Variable:     ['outcome[default]', 'outcome[paid off]']   No. Observations:                45342\n",
      "Model:                                                   GLM   Df Residuals:                    45321\n",
      "Model Family:                                       Binomial   Df Model:                           20\n",
      "Link Function:                                         Logit   Scale:                          1.0000\n",
      "Method:                                                 IRLS   Log-Likelihood:                -28731.\n",
      "Date:                                       Tue, 26 Apr 2022   Deviance:                       57462.\n",
      "Time:                                               19:56:17   Pearson chi2:                 4.54e+04\n",
      "No. Iterations:                                            6   Pseudo R-squ. (CS):             0.1122\n",
      "Covariance Type:                                   nonrobust                                         \n",
      "==================================================================================================\n",
      "                                     coef    std err          z      P>|z|      [0.025      0.975]\n",
      "--------------------------------------------------------------------------------------------------\n",
      "Intercept                          1.5756      0.331      4.765      0.000       0.928       2.224\n",
      "purpose_[T.debt_consolidation]     0.2486      0.028      8.998      0.000       0.194       0.303\n",
      "purpose_[T.home_improvement]       0.4097      0.047      8.757      0.000       0.318       0.501\n",
      "purpose_[T.major_purchase]         0.2382      0.054      4.416      0.000       0.132       0.344\n",
      "purpose_[T.medical]                0.5206      0.087      5.980      0.000       0.350       0.691\n",
      "purpose_[T.other]                  0.6284      0.040     15.781      0.000       0.550       0.706\n",
      "purpose_[T.small_business]         1.2250      0.063     19.305      0.000       1.101       1.349\n",
      "home_[T.OWN]                       0.0498      0.038      1.309      0.191      -0.025       0.124\n",
      "home_[T.RENT]                      0.1577      0.021      7.431      0.000       0.116       0.199\n",
      "emp_len_[T. > 1 Year]             -0.3526      0.053     -6.699      0.000      -0.456      -0.249\n",
      "bs(payment_inc_ratio, df=8)[0]     0.7042      0.342      2.060      0.039       0.034       1.374\n",
      "bs(payment_inc_ratio, df=8)[1]     0.6621      0.198      3.351      0.001       0.275       1.049\n",
      "bs(payment_inc_ratio, df=8)[2]     0.8118      0.245      3.309      0.001       0.331       1.293\n",
      "bs(payment_inc_ratio, df=8)[3]     1.0377      0.223      4.644      0.000       0.600       1.476\n",
      "bs(payment_inc_ratio, df=8)[4]     1.1901      0.233      5.112      0.000       0.734       1.646\n",
      "bs(payment_inc_ratio, df=8)[5]     2.8404      0.316      8.980      0.000       2.220       3.460\n",
      "bs(payment_inc_ratio, df=8)[6]    -1.3427      1.229     -1.092      0.275      -3.752       1.067\n",
      "bs(payment_inc_ratio, df=8)[7]     7.1094      6.393      1.112      0.266      -5.420      19.639\n",
      "bs(borrower_score, df=3)[0]       -2.9011      0.533     -5.448      0.000      -3.945      -1.857\n",
      "bs(borrower_score, df=3)[1]       -2.6056      0.196    -13.284      0.000      -2.990      -2.221\n",
      "bs(borrower_score, df=3)[2]       -5.7421      0.508    -11.313      0.000      -6.737      -4.747\n",
      "==================================================================================================\n"
     ]
    }
   ],
   "source": [
    "import statsmodels.formula.api as smf\n",
    "formula = ('outcome ~ bs(payment_inc_ratio, df=8) + purpose_ + ' +\n",
    "           'home_ + emp_len_ + bs(borrower_score, df=3)')\n",
    "model = smf.glm(formula=formula, data=loan_data, family=sm.families.Binomial())\n",
    "results = model.fit()\n",
    "print(results.summary())"
   ]
  },
  {
   "cell_type": "code",
   "execution_count": 17,
   "metadata": {
    "execution": {
     "iopub.execute_input": "2022-04-26T19:56:17.895385Z",
     "iopub.status.busy": "2022-04-26T19:56:17.894779Z",
     "iopub.status.idle": "2022-04-26T19:56:18.270716Z",
     "shell.execute_reply": "2022-04-26T19:56:18.269717Z"
    },
    "scrolled": false
   },
   "outputs": [
    {
     "data": {
      "image/png": "[encoded data removed]",
      "text/plain": [
       "<Figure size 360x360 with 1 Axes>"
      ]
     },
     "metadata": {
      "needs_background": "light"
     },
     "output_type": "display_data"
    }
   ],
   "source": [
    "from statsmodels.genmod.generalized_linear_model import GLMResults\n",
    "def partialResidualPlot(model, df, outcome, feature, fig, ax):\n",
    "    y_actual = [0 if s == 'default' else 1 for s in df[outcome]]\n",
    "    y_pred = model.predict(df)\n",
    "    org_params = model.params.copy()\n",
    "    zero_params = model.params.copy()\n",
    "    # set model parametes of other features to 0\n",
    "    for i, name in enumerate(zero_params.index):\n",
    "        if feature in name:\n",
    "            continue\n",
    "        zero_params[i] = 0.0\n",
    "    model.initialize(model.model, zero_params)\n",
    "    feature_prediction = model.predict(df)\n",
    "    ypartial = -np.log(1/feature_prediction - 1)\n",
    "    ypartial = ypartial - np.mean(ypartial)\n",
    "    model.initialize(model.model, org_params)\n",
    "    results = pd.DataFrame({\n",
    "        'feature': df[feature],\n",
    "        'residual': -2 * (y_actual - y_pred),\n",
    "        'ypartial': ypartial/ 2,\n",
    "    })\n",
    "    results = results.sort_values(by=['feature'])\n",
    "\n",
    "    ax.scatter(results.feature, results.residual, marker=\".\", s=72./fig.dpi)\n",
    "    ax.plot(results.feature, results.ypartial, color='black')\n",
    "    ax.set_xlabel(feature)\n",
    "    ax.set_ylabel(f'Residual + {feature} contribution')\n",
    "    return ax\n",
    "\n",
    "fig, ax = plt.subplots(figsize=(5, 5))\n",
    "partialResidualPlot(results, loan_data, 'outcome', 'payment_inc_ratio', fig, ax)\n",
    "ax.set_xlim(0, 25)\n",
    "ax.set_ylim(-2.5, 2.5)\n",
    "\n",
    "\n",
    "plt.tight_layout()\n",
    "plt.show()"
   ]
  },
  {
   "cell_type": "markdown",
   "metadata": {},
   "source": [
    "# Evaluating Classification Models\n",
    "## Confusion Matrix"
   ]
  },
  {
   "cell_type": "code",
   "execution_count": 18,
   "metadata": {
    "execution": {
     "iopub.execute_input": "2022-04-26T19:56:18.274333Z",
     "iopub.status.busy": "2022-04-26T19:56:18.274152Z",
     "iopub.status.idle": "2022-04-26T19:56:18.291371Z",
     "shell.execute_reply": "2022-04-26T19:56:18.290358Z"
    }
   },
   "outputs": [
    {
     "name": "stdout",
     "output_type": "stream",
     "text": [
      "              Yhat = default  Yhat = paid off\n",
      "Y = default            14336             8335\n",
      "Y = paid off            8148            14523\n"
     ]
    }
   ],
   "source": [
    "# Confusion matrix\n",
    "pred = logit_reg.predict(X)\n",
    "pred_y = logit_reg.predict(X) == 'default'\n",
    "true_y = y == 'default'\n",
    "true_pos = true_y & pred_y\n",
    "true_neg = ~true_y & ~pred_y\n",
    "false_pos = ~true_y & pred_y\n",
    "false_neg = true_y & ~pred_y\n",
    "\n",
    "conf_mat = pd.DataFrame([[np.sum(true_pos), np.sum(false_neg)], [np.sum(false_pos), np.sum(true_neg)]],\n",
    "                       index=['Y = default', 'Y = paid off'],\n",
    "                       columns=['Yhat = default', 'Yhat = paid off'])\n",
    "print(conf_mat)"
   ]
  },
  {
   "cell_type": "code",
   "execution_count": 19,
   "metadata": {
    "execution": {
     "iopub.execute_input": "2022-04-26T19:56:18.296845Z",
     "iopub.status.busy": "2022-04-26T19:56:18.294975Z",
     "iopub.status.idle": "2022-04-26T19:56:18.463313Z",
     "shell.execute_reply": "2022-04-26T19:56:18.462640Z"
    }
   },
   "outputs": [
    {
     "name": "stdout",
     "output_type": "stream",
     "text": [
      "[[14336  8335]\n",
      " [ 8148 14523]]\n"
     ]
    }
   ],
   "source": [
    "print(confusion_matrix(y, logit_reg.predict(X)))"
   ]
  },
  {
   "cell_type": "markdown",
   "metadata": {},
   "source": [
    "The package _dmba_ contains the function `classificationSummary` that prints confusion matrix and accuracy for a classification model. "
   ]
  },
  {
   "cell_type": "code",
   "execution_count": 20,
   "metadata": {
    "execution": {
     "iopub.execute_input": "2022-04-26T19:56:18.467518Z",
     "iopub.status.busy": "2022-04-26T19:56:18.467302Z",
     "iopub.status.idle": "2022-04-26T19:56:18.752266Z",
     "shell.execute_reply": "2022-04-26T19:56:18.751356Z"
    }
   },
   "outputs": [
    {
     "name": "stdout",
     "output_type": "stream",
     "text": [
      "Confusion Matrix (Accuracy 0.6365)\n",
      "\n",
      "         Prediction\n",
      "  Actual  default paid off\n",
      " default    14336     8335\n",
      "paid off     8148    14523\n"
     ]
    }
   ],
   "source": [
    "classificationSummary(y, logit_reg.predict(X), \n",
    "                      class_names=logit_reg.classes_)"
   ]
  },
  {
   "cell_type": "markdown",
   "metadata": {},
   "source": [
    "## Precision, Recall, and Specificity\n",
    "The _scikit-learn_ function `precision_recall_fscore_support` returns\n",
    "precision, recall, fbeta_score and support. "
   ]
  },
  {
   "cell_type": "code",
   "execution_count": 21,
   "metadata": {
    "execution": {
     "iopub.execute_input": "2022-04-26T19:56:18.755964Z",
     "iopub.status.busy": "2022-04-26T19:56:18.755747Z",
     "iopub.status.idle": "2022-04-26T19:56:18.912153Z",
     "shell.execute_reply": "2022-04-26T19:56:18.911570Z"
    }
   },
   "outputs": [
    {
     "name": "stdout",
     "output_type": "stream",
     "text": [
      "Precision 0.6376089663760897\n",
      "Recall 0.6323496978518812\n",
      "Specificity 0.6405981209474659\n"
     ]
    }
   ],
   "source": [
    "conf_mat = confusion_matrix(y, logit_reg.predict(X))\n",
    "print('Precision', conf_mat[0, 0] / sum(conf_mat[:, 0]))\n",
    "print('Recall', conf_mat[0, 0] / sum(conf_mat[0, :]))\n",
    "print('Specificity', conf_mat[1, 1] / sum(conf_mat[1, :]))"
   ]
  },
  {
   "cell_type": "code",
   "execution_count": 22,
   "metadata": {
    "execution": {
     "iopub.execute_input": "2022-04-26T19:56:18.914750Z",
     "iopub.status.busy": "2022-04-26T19:56:18.914511Z",
     "iopub.status.idle": "2022-04-26T19:56:19.213578Z",
     "shell.execute_reply": "2022-04-26T19:56:19.212679Z"
    }
   },
   "outputs": [
    {
     "data": {
      "text/plain": [
       "(array([0.63760897, 0.63535742]),\n",
       " array([0.6323497 , 0.64059812]),\n",
       " array([0.63496844, 0.63796701]),\n",
       " array([22671, 22671]))"
      ]
     },
     "execution_count": 22,
     "metadata": {},
     "output_type": "execute_result"
    }
   ],
   "source": [
    "precision_recall_fscore_support(y, logit_reg.predict(X), \n",
    "                                labels=['default', 'paid off'])"
   ]
  },
  {
   "cell_type": "markdown",
   "metadata": {},
   "source": [
    "## ROC Curve\n",
    "The function `roc_curve` in _Scikit-learn_ calculates all the information that is required for plotting a ROC curve."
   ]
  },
  {
   "cell_type": "code",
   "execution_count": 23,
   "metadata": {
    "execution": {
     "iopub.execute_input": "2022-04-26T19:56:19.216320Z",
     "iopub.status.busy": "2022-04-26T19:56:19.216088Z",
     "iopub.status.idle": "2022-04-26T19:56:19.374369Z",
     "shell.execute_reply": "2022-04-26T19:56:19.373157Z"
    }
   },
   "outputs": [
    {
     "data": {
      "image/png": "[encoded data removed]",
      "text/plain": [
       "<Figure size 288x288 with 1 Axes>"
      ]
     },
     "metadata": {
      "needs_background": "light"
     },
     "output_type": "display_data"
    }
   ],
   "source": [
    "fpr, tpr, thresholds = roc_curve(y, logit_reg.predict_proba(X)[:, 0], \n",
    "                                 pos_label='default')\n",
    "roc_df = pd.DataFrame({'recall': tpr, 'specificity': 1 - fpr})\n",
    "\n",
    "ax = roc_df.plot(x='specificity', y='recall', figsize=(4, 4), legend=False)\n",
    "ax.set_ylim(0, 1)\n",
    "ax.set_xlim(1, 0)\n",
    "ax.plot((1, 0), (0, 1))\n",
    "ax.set_xlabel('specificity')\n",
    "ax.set_ylabel('recall')\n",
    "\n",
    "\n",
    "plt.tight_layout()\n",
    "plt.show()"
   ]
  },
  {
   "cell_type": "markdown",
   "metadata": {},
   "source": [
    "## AUC\n",
    "Accuracy can easily be calculated using the _scikit-learn_ function `accuracy_score`."
   ]
  },
  {
   "cell_type": "code",
   "execution_count": 24,
   "metadata": {
    "execution": {
     "iopub.execute_input": "2022-04-26T19:56:19.377721Z",
     "iopub.status.busy": "2022-04-26T19:56:19.377392Z",
     "iopub.status.idle": "2022-04-26T19:56:19.414489Z",
     "shell.execute_reply": "2022-04-26T19:56:19.413330Z"
    }
   },
   "outputs": [
    {
     "name": "stdout",
     "output_type": "stream",
     "text": [
      "0.691710795288669\n",
      "0.6917108731135808\n"
     ]
    }
   ],
   "source": [
    "print(np.sum(roc_df.recall[:-1] * np.diff(1 - roc_df.specificity)))\n",
    "print(roc_auc_score([1 if yi == 'default' else 0 for yi in y], logit_reg.predict_proba(X)[:, 0]))"
   ]
  },
  {
   "cell_type": "code",
   "execution_count": 25,
   "metadata": {
    "execution": {
     "iopub.execute_input": "2022-04-26T19:56:19.419623Z",
     "iopub.status.busy": "2022-04-26T19:56:19.418737Z",
     "iopub.status.idle": "2022-04-26T19:56:19.569010Z",
     "shell.execute_reply": "2022-04-26T19:56:19.568191Z"
    }
   },
   "outputs": [
    {
     "data": {
      "image/png": "[encoded data removed]",
      "text/plain": [
       "<Figure size 288x288 with 1 Axes>"
      ]
     },
     "metadata": {
      "needs_background": "light"
     },
     "output_type": "display_data"
    }
   ],
   "source": [
    "fpr, tpr, thresholds = roc_curve(y, logit_reg.predict_proba(X)[:,0], \n",
    "                                 pos_label='default')\n",
    "roc_df = pd.DataFrame({'recall': tpr, 'specificity': 1 - fpr})\n",
    "\n",
    "ax = roc_df.plot(x='specificity', y='recall', figsize=(4, 4), legend=False)\n",
    "ax.set_ylim(0, 1)\n",
    "ax.set_xlim(1, 0)\n",
    "# ax.plot((1, 0), (0, 1))\n",
    "ax.set_xlabel('specificity')\n",
    "ax.set_ylabel('recall')\n",
    "ax.fill_between(roc_df.specificity, 0, roc_df.recall, alpha=0.3)\n",
    "\n",
    "\n",
    "plt.tight_layout()\n",
    "plt.show()"
   ]
  },
  {
   "cell_type": "markdown",
   "metadata": {},
   "source": [
    "# Strategies for Imbalanced Data\n",
    "## Undersampling\n",
    "> The results differ from the R version, however are equivalent to results obtained using the R code. Model based results are of similar magnitude."
   ]
  },
  {
   "cell_type": "code",
   "execution_count": 26,
   "metadata": {
    "execution": {
     "iopub.execute_input": "2022-04-26T19:56:19.572345Z",
     "iopub.status.busy": "2022-04-26T19:56:19.572125Z",
     "iopub.status.idle": "2022-04-26T19:56:19.840546Z",
     "shell.execute_reply": "2022-04-26T19:56:19.839547Z"
    }
   },
   "outputs": [
    {
     "name": "stdout",
     "output_type": "stream",
     "text": [
      "(119987, 19)\n"
     ]
    }
   ],
   "source": [
    "full_train_set = pd.read_csv(FULL_TRAIN_SET_CSV)\n",
    "print(full_train_set.shape)"
   ]
  },
  {
   "cell_type": "code",
   "execution_count": 27,
   "metadata": {
    "execution": {
     "iopub.execute_input": "2022-04-26T19:56:19.844147Z",
     "iopub.status.busy": "2022-04-26T19:56:19.843743Z",
     "iopub.status.idle": "2022-04-26T19:56:19.856631Z",
     "shell.execute_reply": "2022-04-26T19:56:19.855802Z"
    }
   },
   "outputs": [
    {
     "name": "stdout",
     "output_type": "stream",
     "text": [
      "18.894546909248504\n",
      "percentage of loans in default:  None\n"
     ]
    }
   ],
   "source": [
    "print('percentage of loans in default: ', \n",
    "print(      100 * np.mean(full_train_set.outcome == 'default')))"
   ]
  },
  {
   "cell_type": "code",
   "execution_count": 28,
   "metadata": {
    "execution": {
     "iopub.execute_input": "2022-04-26T19:56:19.859257Z",
     "iopub.status.busy": "2022-04-26T19:56:19.859062Z",
     "iopub.status.idle": "2022-04-26T19:56:20.719833Z",
     "shell.execute_reply": "2022-04-26T19:56:20.718606Z"
    }
   },
   "outputs": [
    {
     "name": "stdout",
     "output_type": "stream",
     "text": [
      "0.9759390600648404\n",
      "percentage of loans predicted to default:  None\n"
     ]
    }
   ],
   "source": [
    "predictors = ['payment_inc_ratio', 'purpose_', 'home_', 'emp_len_', \n",
    "              'dti', 'revol_bal', 'revol_util']\n",
    "outcome = 'outcome'\n",
    "X = pd.get_dummies(full_train_set[predictors], prefix='', prefix_sep='', \n",
    "                   drop_first=True)\n",
    "y = full_train_set[outcome]\n",
    "\n",
    "full_model = LogisticRegression(penalty='l2', C=1e42, solver='liblinear')\n",
    "full_model.fit(X, y)\n",
    "print('percentage of loans predicted to default: ', \n",
    "print(      100 * np.mean(full_model.predict(X) == 'default')))"
   ]
  },
  {
   "cell_type": "code",
   "execution_count": 29,
   "metadata": {
    "execution": {
     "iopub.execute_input": "2022-04-26T19:56:20.723284Z",
     "iopub.status.busy": "2022-04-26T19:56:20.722757Z",
     "iopub.status.idle": "2022-04-26T19:56:20.742561Z",
     "shell.execute_reply": "2022-04-26T19:56:20.741585Z"
    }
   },
   "outputs": [
    {
     "data": {
      "text/plain": [
       "19.360375747224595"
      ]
     },
     "execution_count": 29,
     "metadata": {},
     "output_type": "execute_result"
    }
   ],
   "source": [
    "(np.mean(full_train_set.outcome == 'default') / \n",
    " np.mean(full_model.predict(X) == 'default'))"
   ]
  },
  {
   "cell_type": "markdown",
   "metadata": {},
   "source": [
    "## Oversampling and Up/Down Weighting"
   ]
  },
  {
   "cell_type": "code",
   "execution_count": 30,
   "metadata": {
    "execution": {
     "iopub.execute_input": "2022-04-26T19:56:20.746431Z",
     "iopub.status.busy": "2022-04-26T19:56:20.745350Z",
     "iopub.status.idle": "2022-04-26T19:56:21.586120Z",
     "shell.execute_reply": "2022-04-26T19:56:21.585263Z"
    }
   },
   "outputs": [
    {
     "name": "stdout",
     "output_type": "stream",
     "text": [
      "61.79836148916132\n",
      "percentage of loans predicted to default (weighting):  None\n"
     ]
    }
   ],
   "source": [
    "default_wt = 1 / np.mean(full_train_set.outcome == 'default')\n",
    "wt = [default_wt if outcome == 'default' else 1 for outcome in full_train_set.outcome]\n",
    "\n",
    "full_model = LogisticRegression(penalty=\"l2\", C=1e42, solver='liblinear')\n",
    "full_model.fit(X, y, wt)\n",
    "print('percentage of loans predicted to default (weighting): ', \n",
    "print(      100 * np.mean(full_model.predict(X) == 'default')))"
   ]
  },
  {
   "cell_type": "markdown",
   "metadata": {},
   "source": [
    "## Data Generation\n",
    "The package _imbalanced-learn_ provides an implementation of the _SMOTE_ and similar algorithms. "
   ]
  },
  {
   "cell_type": "code",
   "execution_count": 31,
   "metadata": {
    "execution": {
     "iopub.execute_input": "2022-04-26T19:56:21.589636Z",
     "iopub.status.busy": "2022-04-26T19:56:21.589086Z",
     "iopub.status.idle": "2022-04-26T19:56:26.221456Z",
     "shell.execute_reply": "2022-04-26T19:56:26.220452Z"
    }
   },
   "outputs": [
    {
     "name": "stdout",
     "output_type": "stream",
     "text": [
      "percentage of loans in default (SMOTE resampled):  50.0\n"
     ]
    },
    {
     "name": "stdout",
     "output_type": "stream",
     "text": [
      "percentage of loans predicted to default (SMOTE):  29.503196179586123\n"
     ]
    },
    {
     "name": "stdout",
     "output_type": "stream",
     "text": [
      "percentage of loans in default (ADASYN resampled):  48.56040383751355\n"
     ]
    },
    {
     "name": "stdout",
     "output_type": "stream",
     "text": [
      "27.735504679673635\n",
      "percentage of loans predicted to default (ADASYN):  None\n"
     ]
    }
   ],
   "source": [
    "X_resampled, y_resampled = SMOTE().fit_resample(X, y)\n",
    "print('percentage of loans in default (SMOTE resampled): ', \n",
    "      100 * np.mean(y_resampled == 'default'))\n",
    "\n",
    "full_model = LogisticRegression(penalty=\"l2\", C=1e42, solver='liblinear')\n",
    "full_model.fit(X_resampled, y_resampled)\n",
    "print('percentage of loans predicted to default (SMOTE): ', \n",
    "      100 * np.mean(full_model.predict(X) == 'default'))\n",
    "\n",
    "\n",
    "X_resampled, y_resampled = ADASYN().fit_resample(X, y)\n",
    "print('percentage of loans in default (ADASYN resampled): ', \n",
    "      100 * np.mean(y_resampled == 'default'))\n",
    "\n",
    "full_model = LogisticRegression(penalty=\"l2\", C=1e42, solver='liblinear')\n",
    "full_model.fit(X_resampled, y_resampled)\n",
    "print('percentage of loans predicted to default (ADASYN): ', \n",
    "print(      100 * np.mean(full_model.predict(X) == 'default')))"
   ]
  },
  {
   "cell_type": "markdown",
   "metadata": {},
   "source": [
    "## Exploring the Predictions"
   ]
  },
  {
   "cell_type": "code",
   "execution_count": 32,
   "metadata": {
    "execution": {
     "iopub.execute_input": "2022-04-26T19:56:26.226370Z",
     "iopub.status.busy": "2022-04-26T19:56:26.225034Z",
     "iopub.status.idle": "2022-04-26T19:56:26.638161Z",
     "shell.execute_reply": "2022-04-26T19:56:26.637239Z"
    }
   },
   "outputs": [
    {
     "name": "stderr",
     "output_type": "stream",
     "text": [
      "\r",
      "  0% (0 of 11) |                         | Elapsed Time: 0:00:00 ETA:  --:--:--"
     ]
    },
    {
     "name": "stderr",
     "output_type": "stream",
     "text": [
      "\r",
      " 18% (2 of 11) |####                     | Elapsed Time: 0:00:00 ETA:  00:00:00"
     ]
    },
    {
     "name": "stderr",
     "output_type": "stream",
     "text": [
      "\r",
      " 36% (4 of 11) |#########                | Elapsed Time: 0:00:00 ETA:   0:00:00"
     ]
    },
    {
     "name": "stderr",
     "output_type": "stream",
     "text": [
      "\r",
      " 54% (6 of 11) |#############            | Elapsed Time: 0:00:00 ETA:   0:00:00"
     ]
    },
    {
     "name": "stderr",
     "output_type": "stream",
     "text": [
      "\r",
      " 72% (8 of 11) |##################       | Elapsed Time: 0:00:00 ETA:   0:00:00"
     ]
    },
    {
     "name": "stderr",
     "output_type": "stream",
     "text": [
      "\r",
      " 90% (10 of 11) |#####################   | Elapsed Time: 0:00:00 ETA:   0:00:00"
     ]
    },
    {
     "name": "stderr",
     "output_type": "stream",
     "text": [
      "\r",
      "100% (11 of 11) |########################| Elapsed Time: 0:00:00 Time:  0:00:00"
     ]
    },
    {
     "name": "stderr",
     "output_type": "stream",
     "text": [
      "\n"
     ]
    },
    {
     "name": "stdout",
     "output_type": "stream",
     "text": [
      "LinearGAM(callbacks=[Deviance(), Diffs()], fit_intercept=True, \n",
      "   max_iter=100, scale=None, terms=s(0) + s(1) + intercept, \n",
      "   tol=0.0001, verbose=False)\n"
     ]
    }
   ],
   "source": [
    "loan3000 = pd.read_csv(LOAN3000_CSV)\n",
    "\n",
    "predictors = ['borrower_score', 'payment_inc_ratio']\n",
    "outcome = 'outcome'\n",
    "\n",
    "X = loan3000[predictors]\n",
    "y = loan3000[outcome]\n",
    "\n",
    "loan_tree = DecisionTreeClassifier(random_state=1, criterion='entropy', \n",
    "                                   min_impurity_decrease=0.003)\n",
    "loan_tree.fit(X, y)\n",
    "\n",
    "loan_lda = LinearDiscriminantAnalysis()\n",
    "loan_lda.fit(X, y)\n",
    "\n",
    "logit_reg = LogisticRegression(penalty=\"l2\", solver='liblinear')\n",
    "logit_reg.fit(X, y)\n",
    "\n",
    "\n",
    "## model\n",
    "gam = LinearGAM(s(0) + s(1))\n",
    "print(gam.gridsearch(X.values, [1 if yi == 'default' else 0 for yi in y]))"
   ]
  },
  {
   "cell_type": "code",
   "execution_count": 33,
   "metadata": {
    "execution": {
     "iopub.execute_input": "2022-04-26T19:56:26.642958Z",
     "iopub.status.busy": "2022-04-26T19:56:26.642003Z",
     "iopub.status.idle": "2022-04-26T19:56:27.029777Z",
     "shell.execute_reply": "2022-04-26T19:56:27.028334Z"
    }
   },
   "outputs": [
    {
     "data": {
      "image/png": "[encoded data removed]",
      "text/plain": [
       "<Figure size 360x360 with 4 Axes>"
      ]
     },
     "metadata": {
      "needs_background": "light"
     },
     "output_type": "display_data"
    }
   ],
   "source": [
    "models = {\n",
    "    'Decision Tree': loan_tree,\n",
    "    'Linear Discriminant Analysis': loan_lda,\n",
    "    'Logistic Regression': logit_reg,\n",
    "    'Generalized Additive Model': gam,\n",
    "}\n",
    "\n",
    "fig, axes = plt.subplots(nrows=2, ncols=2, figsize=(5, 5))\n",
    "\n",
    "xvalues = np.arange(0.25, 0.73, 0.005)\n",
    "yvalues = np.arange(-0.1, 20.1, 0.1)\n",
    "xx, yy = np.meshgrid(xvalues, yvalues)\n",
    "X = pd.DataFrame({\n",
    "    'borrower_score': xx.ravel(),\n",
    "    'payment_inc_ratio': yy.ravel(),\n",
    "})\n",
    "\n",
    "boundary = {}\n",
    "\n",
    "for n, (title, model) in enumerate(models.items()):\n",
    "    ax = axes[n // 2, n % 2]\n",
    "    predict = model.predict(X)\n",
    "    if 'Generalized' in title:\n",
    "        Z = np.array([1 if z > 0.5 else 0 for z in predict])\n",
    "    else:\n",
    "        \n",
    "        Z = np.array([1 if z == 'default' else 0 for z in predict])\n",
    "    Z = Z.reshape(xx.shape)\n",
    "    boundary[title] = yvalues[np.argmax(Z > 0, axis=0)]\n",
    "    boundary[title][Z[-1,:] == 0] = yvalues[-1]\n",
    "\n",
    "    c = ax.pcolormesh(xx, yy, Z, cmap='Blues', vmin=0.1, vmax=1.3, shading='auto')\n",
    "    ax.set_title(title)\n",
    "    ax.grid(True)\n",
    "\n",
    "plt.tight_layout()\n",
    "plt.show()"
   ]
  },
  {
   "cell_type": "code",
   "execution_count": 34,
   "metadata": {
    "execution": {
     "iopub.execute_input": "2022-04-26T19:56:27.033503Z",
     "iopub.status.busy": "2022-04-26T19:56:27.033290Z",
     "iopub.status.idle": "2022-04-26T19:56:27.171134Z",
     "shell.execute_reply": "2022-04-26T19:56:27.170483Z"
    },
    "scrolled": true
   },
   "outputs": [
    {
     "data": {
      "image/png": "[encoded data removed]",
      "text/plain": [
       "<Figure size 360x288 with 1 Axes>"
      ]
     },
     "metadata": {
      "needs_background": "light"
     },
     "output_type": "display_data"
    }
   ],
   "source": [
    "boundary['borrower_score'] = xvalues\n",
    "boundaries = pd.DataFrame(boundary)\n",
    "\n",
    "fig, ax = plt.subplots(figsize=(5, 4))\n",
    "boundaries.plot(x='borrower_score', ax=ax)\n",
    "ax.set_ylabel('payment_inc_ratio')\n",
    "ax.set_ylim(0, 20)\n",
    "\n",
    "\n",
    "plt.tight_layout()\n",
    "plt.show()"
   ]
  }
 ],
 "metadata": {
  "kernelspec": {
   "display_name": "Python 3 (ipykernel)",
   "language": "python",
   "name": "python3"
  },
  "language_info": {
   "codemirror_mode": {
    "name": "ipython",
    "version": 3
   },
   "file_extension": ".py",
   "mimetype": "text/x-python",
   "name": "python",
   "nbconvert_exporter": "python",
   "pygments_lexer": "ipython3",
   "version": "3.9.10"
  }
 },
 "nbformat": 4,
 "nbformat_minor": 2
}
