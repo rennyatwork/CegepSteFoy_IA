{
 "cells": [
  {
   "cell_type": "code",
   "execution_count": null,
   "metadata": {},
   "outputs": [],
   "source": [
    "import numpy as np\n",
    "import pandas as pd\n",
    "import matplotlib.pyplot as plt\n",
    "import scipy.stats as sts\n",
    "import statsmodels.api as stm\n",
    "import statsmodels.stats.weightstats as ws\n",
    "import sklearn.linear_model as sk_lin_mod\n",
    "import math\n",
    "import seaborn as sns\n",
    "import os\n",
    "from statsmodels.stats.outliers_influence import variance_inflation_factor as vif\n",
    "os.environ['KMP_DUPLICATE_LIB_OK'] = 'True'\n",
    "from sklearn.feature_selection import RFE"
   ]
  },
  {
   "cell_type": "code",
   "execution_count": null,
   "metadata": {},
   "outputs": [],
   "source": [
    "#import sys\n",
    "#!{sys.executable} -m pip install --upgrade ipykernel\n",
    "#!{sys.executable} -m pip install --upgrade pandas\n",
    "#!{sys.executable} -m pip install --upgrade  sickit-learn \n",
    "#!{sys.executable} -m pip install featurewiz"
   ]
  },
  {
   "cell_type": "code",
   "execution_count": null,
   "metadata": {},
   "outputs": [],
   "source": [
    "import PyQt5 #works\n",
    "from PyQt5 import QtCore, QtGui, QtWidgets #works for pyqt5\n",
    "%matplotlib "
   ]
  },
  {
   "cell_type": "code",
   "execution_count": null,
   "metadata": {},
   "outputs": [],
   "source": [
    "os.getcwd()"
   ]
  },
  {
   "cell_type": "code",
   "execution_count": null,
   "metadata": {},
   "outputs": [],
   "source": [
    "print (os.getcwd())\n",
    "currDir = os.getcwd()\n",
    "fullPath = currDir + \"/CabaneASucrev0r3.csv\"\n",
    "type(currDir)"
   ]
  },
  {
   "cell_type": "code",
   "execution_count": null,
   "metadata": {},
   "outputs": [],
   "source": [
    "donnee = pd.read_csv(fullPath)\n",
    "stats=donnee.describe()\n",
    "dimensions=donnee.shape\n",
    "stats"
   ]
  },
  {
   "cell_type": "code",
   "execution_count": null,
   "metadata": {},
   "outputs": [],
   "source": [
    "donnee.isnull().sum()"
   ]
  },
  {
   "cell_type": "markdown",
   "metadata": {},
   "source": [
    "Heureusement, très peu de nulls.\n",
    "\n",
    "Quels sont les enregistrements contenant des nulls?\n"
   ]
  },
  {
   "cell_type": "code",
   "execution_count": null,
   "metadata": {},
   "outputs": [],
   "source": [
    "donnee[(donnee['Temp max.(°C)'].isna()==True) | (donnee['Précip. tot. (mm)'].isna()==True)] "
   ]
  },
  {
   "cell_type": "markdown",
   "metadata": {},
   "source": [
    "Fill na"
   ]
  },
  {
   "cell_type": "code",
   "execution_count": null,
   "metadata": {},
   "outputs": [],
   "source": [
    "donnee.fillna(method='bfill', inplace=True)\n",
    "donnee.isnull().sum()"
   ]
  },
  {
   "cell_type": "code",
   "execution_count": null,
   "metadata": {},
   "outputs": [],
   "source": [
    "donnee.columns"
   ]
  },
  {
   "cell_type": "markdown",
   "metadata": {},
   "source": [
    "Supprimer les colonnes pixel"
   ]
  },
  {
   "cell_type": "code",
   "execution_count": null,
   "metadata": {},
   "outputs": [],
   "source": [
    "donnee.filter(like='Pixel').columns\n",
    "dfSansPixel = donnee.drop(donnee.filter(like='Pixel').columns, axis=1)\n",
    "dfSansPixel.columns"
   ]
  },
  {
   "cell_type": "code",
   "execution_count": null,
   "metadata": {},
   "outputs": [],
   "source": [
    "dfSansPixel.dtypes"
   ]
  },
  {
   "cell_type": "code",
   "execution_count": null,
   "metadata": {},
   "outputs": [],
   "source": [
    "### liste de variables (colonnes) dépendantes\n",
    "list_cols_dependennt_vars = []\n",
    "col_debit_seve = dfSansPixel['Débit sève (L/j)'].name\n",
    "col_sucre_dans_seve = dfSansPixel['Sucre sève (%)'].name\n",
    "col_pct_transmittance = dfSansPixel['Transmittance produit (%)'].name\n",
    "col_productivite_seve_par_saison = dfSansPixel['Production moyenne par entaille (L)'].name\n",
    "list_cols_dependennt_vars = [col_debit_seve, col_sucre_dans_seve, col_pct_transmittance, col_productivite_seve_par_saison]"
   ]
  },
  {
   "cell_type": "code",
   "execution_count": null,
   "metadata": {},
   "outputs": [],
   "source": [
    "## convertir Classe Sirop en numérique - https://www.youtube.com/watch?v=wH_ezgftiy0&t=136s\n",
    "dfSansPixel['CategClasseSirop'] = dfSansPixel['Classe Sirop'].astype('category').cat.codes\n",
    "dfNumerique = dfSansPixel.select_dtypes(exclude='object').copy()\n",
    "dfNumerique.dtypes"
   ]
  },
  {
   "cell_type": "markdown",
   "metadata": {},
   "source": [
    "### Multiple Linear Regression\n",
    "\n",
    "\n",
    "https://www.geeksforgeeks.org/ml-multiple-linear-regression-using-python/\n",
    "\n",
    "Assumption of Regression Model : \n",
    "\n",
    "- Linearity: The relationship between dependent and independent variables should be linear.\n",
    "- Homoscedasticity: Constant variance of the errors should be maintained.\n",
    "- Multivariate normality: Multiple Regression assumes that the residuals are normally distributed.\n",
    "- Lack of Multicollinearity: It is assumed that there is little or no multicollinearity in"
   ]
  },
  {
   "cell_type": "code",
   "execution_count": null,
   "metadata": {},
   "outputs": [],
   "source": [
    "stats = dfNumerique.describe()\n",
    "stats"
   ]
  },
  {
   "cell_type": "code",
   "execution_count": null,
   "metadata": {},
   "outputs": [],
   "source": [
    "#dfNumerique[dfNumerique['CategClasseSirop']==0 | dfNumerique['Pression osmoseur (bar)']==0].count()\n",
    "dfNumerique[dfNumerique['Pression osmoseur (bar)']==0].count()"
   ]
  },
  {
   "cell_type": "code",
   "execution_count": null,
   "metadata": {},
   "outputs": [],
   "source": [
    "dfNumerique = dfNumerique.loc[dfNumerique['Pression osmoseur (bar)'] >0]"
   ]
  },
  {
   "cell_type": "code",
   "execution_count": null,
   "metadata": {},
   "outputs": [],
   "source": [
    "corr = dfNumerique.corr()\n",
    "#sns.heatmap(corr, cbar=True, cmap=\"Blues\", center=0, annot=True, fmt=\".1f\")\n",
    "\n",
    "## le résultat est une matric 22x22 pas facile à visualiser"
   ]
  },
  {
   "cell_type": "code",
   "execution_count": null,
   "metadata": {},
   "outputs": [],
   "source": [
    "#corr['Année'].sort_values(ascending=False)\n",
    "corr[(corr['Année']<1) & (corr['Année']>0.2)]['Année'].sort_values(ascending=False)"
   ]
  },
  {
   "cell_type": "code",
   "execution_count": null,
   "metadata": {},
   "outputs": [],
   "source": [
    "sorted_pairs = corr.unstack().sort_values(kind=\"quicksort\", ascending=False).dropna()\n",
    "len(sorted_pairs)"
   ]
  },
  {
   "cell_type": "code",
   "execution_count": null,
   "metadata": {},
   "outputs": [],
   "source": [
    "x = sorted_pairs.where((sorted_pairs <1.0) & (sorted_pairs >0) ).dropna()\n",
    "list_corr = sorted_pairs.tolist()\n",
    "lst = [l for l in list_corr if (l < 1) & (l> 0) & (not(math.isnan(l)))]"
   ]
  },
  {
   "cell_type": "code",
   "execution_count": null,
   "metadata": {},
   "outputs": [],
   "source": [
    "type(corr.unstack())"
   ]
  },
  {
   "cell_type": "code",
   "execution_count": null,
   "metadata": {},
   "outputs": [],
   "source": [
    "#sns.heatmap(corr, cbar=True, center=0, annot=True, fmt=\"0.2f\", cmap=\"Blues\")"
   ]
  },
  {
   "cell_type": "markdown",
   "metadata": {},
   "source": [
    "### apply model and check. Then, cut out variables"
   ]
  },
  {
   "cell_type": "code",
   "execution_count": null,
   "metadata": {},
   "outputs": [],
   "source": [
    "## seulement les variables X\n",
    "dfNumerique_X_cols = dfNumerique.loc[:, ~dfNumerique.columns.isin(list_cols_dependennt_vars)].copy()\n",
    "\n",
    "## seulement les variables Y\n",
    "dfNumerique_Y_cols = dfNumerique.loc[:, dfNumerique.columns.isin(list_cols_dependennt_vars)].copy()\n",
    "\n",
    "len(dfNumerique.columns)"
   ]
  },
  {
   "cell_type": "markdown",
   "metadata": {},
   "source": [
    "#### Evaluate model"
   ]
  },
  {
   "cell_type": "markdown",
   "metadata": {},
   "source": [
    "=============== Evaluating model ===========\n",
    "\n",
    "https://www.youtube.com/watch?v=VCVhwjbI6h8\n",
    "\n",
    "========"
   ]
  },
  {
   "cell_type": "code",
   "execution_count": null,
   "metadata": {},
   "outputs": [],
   "source": [
    "### Fonction qui imprime le sommaire du modèle\n",
    "def print_model_summary(pDfColsX, pDfColsY):\n",
    "    ## Add constant\n",
    "    pDfColsX = stm.add_constant(pDfColsX)\n",
    "    lst_models = []\n",
    "    for y in (pDfColsY.columns.values):\n",
    "    \n",
    "        col_y = dfNumerique_Y_cols[y]\n",
    "    \n",
    "        model = stm.OLS(col_y, pDfColsX).fit()\n",
    "        print(\"=========\")\n",
    "        print(\"var depend: \", y)\n",
    "    \n",
    "        #lst_models.append(model)\n",
    "        print(model.summary())\n",
    "        #sns.distplot(model.resid, fit=sts.norm)\n",
    "        #sns.histplot(model.resid, kde=True, stat=\"density\")"
   ]
  },
  {
   "cell_type": "code",
   "execution_count": null,
   "metadata": {},
   "outputs": [],
   "source": [
    "print(\"---- Sommaire dfNumerique ----\")\n",
    "print_model_summary(dfNumerique_X_cols, dfNumerique_Y_cols)"
   ]
  },
  {
   "cell_type": "code",
   "execution_count": null,
   "metadata": {},
   "outputs": [],
   "source": []
  },
  {
   "cell_type": "code",
   "execution_count": null,
   "metadata": {},
   "outputs": [],
   "source": [
    "### https://www.youtube.com/watch?v=VCVhwjbI6h8\n",
    "from sklearn.model_selection import train_test_split\n",
    "from sklearn.linear_model import LinearRegression\n",
    "from sklearn.metrics import r2_score\n",
    "from sklearn.metrics import mean_squared_error\n",
    "from sklearn.preprocessing import MinMaxScaler"
   ]
  },
  {
   "cell_type": "code",
   "execution_count": null,
   "metadata": {},
   "outputs": [],
   "source": [
    "def analyze_model(pColsY, pDfDependentVars):\n",
    "    for y in (pColsY.columns.values):    \n",
    "        col_y = pColsY[y]\n",
    "        X_train, X_test, y_train, y_test = \\\n",
    "        train_test_split(pDfDependentVars, col_y, test_size=0.25, random_state=0)\n",
    "\n",
    "\n",
    "        ## transforming data    \n",
    "        scaler = MinMaxScaler()\n",
    "        X_train = scaler.fit_transform(X_train)\n",
    "        X_test = scaler.fit_transform(X_test)\n",
    "\n",
    "\n",
    "        ## Fitting Multiple Linear Regression to the training set\n",
    "        regressor =  LinearRegression()\n",
    "        regressor.fit(X_train, y_train)\n",
    "        \n",
    "\n",
    "        y_pred = regressor.predict(X_test)\n",
    "        mse = math.sqrt(mean_squared_error(y_test, y_pred))\n",
    "        r2 = r2_score(y_test, y_pred)\n",
    "        \n",
    "        #r_sq = regressor.score(X_test, y_test)\n",
    "\n",
    "        ##adj_r2 = 1-(1-r2)*(n-1)/(n-p-1)\n",
    "        ## Where n is the sample size and p is the number of independent variables.\n",
    "\n",
    "        #print (\"len(X_test): \", len(X_test))\n",
    "        #print (\"len(y_test): \", len(y_test))\n",
    "    \n",
    "        ### ajd_r2\n",
    "        ## https://stackoverflow.com/questions/51038820/how-to-calculated-the-adjusted-r2-value-using-scikit\n",
    "        ## https://www.dummies.com/article/business-careers-money/business/accounting/calculation-analysis/how-to-calculate-the-adjusted-coefficient-of-determination-146054/\n",
    "        #print (\"n: \", n)\n",
    "        #print (\"p: \", p)\n",
    "        #print (\"adj_r2 = 1-(1-r2)*(n-1)/(n-p-1)\")\n",
    "\n",
    "        n = len(X_test)\n",
    "        p = len(pDfDependentVars.columns)\n",
    "        adj_r2 = 1-(1-r2)*(n-1)/(n-p-1)\n",
    "    \n",
    "        print(\"--------\")\n",
    "        \n",
    "        print(\"[col_y]: \", col_y.name)\n",
    "        print(\"[mse]: \", mse)\n",
    "        #print(\"[r2] - A value of 1 indicates that the response variable can be perfectly explained by the predictor variables.\")\n",
    "        print(\"[r2]: \", r2)\n",
    "        print(\"[adj_r2]: \", adj_r2)\n",
    "        print(\"[coef]: \", regressor.coef_)\n",
    "        print(\"[intercept_]: \", regressor.intercept_)\n",
    "        #print(\"[r_sq]: \", r_sq)"
   ]
  },
  {
   "cell_type": "code",
   "execution_count": null,
   "metadata": {},
   "outputs": [],
   "source": [
    "analyze_model(dfNumerique_Y_cols, dfNumerique_X_cols)"
   ]
  },
  {
   "cell_type": "markdown",
   "metadata": {},
   "source": [
    "\\---\n",
    " At this point, we have very high accuracy (r2 and adj_r2)\n",
    " can we find a smaller set of dependent vars?\n",
    "\\---"
   ]
  },
  {
   "cell_type": "code",
   "execution_count": null,
   "metadata": {},
   "outputs": [],
   "source": [
    "#-------before calc high score it says all true ----\n",
    "\n",
    "from sklearn.model_selection  import train_test_split\n",
    "from sklearn.linear_model import LinearRegression\n"
   ]
  },
  {
   "cell_type": "code",
   "execution_count": 46,
   "metadata": {},
   "outputs": [],
   "source": [
    "def get_reduced_df_X(pDfx, pY, pAccuracy=0.7):\n",
    "    print(\"------\")\n",
    "    print(\"dependent var y: \", pY.name)\n",
    "    \n",
    "    # new X df with fewer columns than pDfx\n",
    "    reducedDf = []\n",
    "\n",
    "    # column names to keep\n",
    "    dfKeeper = None\n",
    "\n",
    "    #no of features\n",
    "    nof_list=np.arange(1,len(pDfx.columns))            \n",
    "    high_score=0\n",
    "    #Variable to store the optimum features\n",
    "    nof=0           \n",
    "    score_list =[]\n",
    "    for n in range(len(nof_list)):\n",
    "        X_train, X_test, y_train, y_test = train_test_split(pDfx, pY, test_size = 0.3, random_state = 0)\n",
    "        model = LinearRegression()\n",
    "        rfe = RFE(model,n_features_to_select= nof_list[n])\n",
    "        X_train_rfe = rfe.fit_transform(X_train,y_train)\n",
    "        X_test_rfe = rfe.transform(X_test)\n",
    "        model.fit(X_train_rfe,y_train)\n",
    "        score = model.score(X_test_rfe,y_test)\n",
    "        score_list.append(score)\n",
    "        \n",
    "        print(\"n: \", n)\n",
    "        print(\"score: \", score)\n",
    "        print(\"high_score: \", high_score)\n",
    "\n",
    "        # print summaries for the selection of attributes\n",
    "        print(\"rfe.support_: \",rfe.support_)\n",
    "        print(\"rfe.ranking_: \" ,rfe.ranking_)\n",
    "        \n",
    "        #dfKeeper = pd.DataFrame(rfe.support_,index=pDfx.columns,columns=['Rank'])\n",
    "        data= {'colName': pDfx.columns, 'keep': rfe.support_ }\n",
    "        dfKeeper = pd.DataFrame(data)\n",
    "        dfKeeper = dfKeeper[dfKeeper[\"keep\"]==True]\n",
    "        if(score>high_score):\n",
    "            high_score = score\n",
    "            nof = nof_list[n]\n",
    "        if (score > pAccuracy):\n",
    "            break\n",
    "\n",
    "    \n",
    "    print(\"Optimum number of features: %d\" %nof)\n",
    "    print(\"Score with %d features: %f\" % (nof, high_score))\n",
    "    print(\"df columns to keep: \")\n",
    "    print(\"shape\")\n",
    "    print(dfNumerique_X_cols[dfKeeper[\"colName\"]].shape)\n",
    "    print(dfKeeper)\n",
    "    \n",
    "    reducedDf = dfNumerique_X_cols[dfKeeper[\"colName\"]]\n",
    "    \n",
    "    print(\"reducedDf: \", reducedDf.head())\n",
    "    #print(\"unique: \", reducedDf[dfKeeper[\"colName\"]].unique())\n",
    "    return reducedDf"
   ]
  },
  {
   "cell_type": "code",
   "execution_count": 47,
   "metadata": {},
   "outputs": [
    {
     "name": "stdout",
     "output_type": "stream",
     "text": [
      "------\n",
      "dependent var y:  Production moyenne par entaille (L)\n",
      "n:  0\n",
      "score:  0.9152801150789349\n",
      "high_score:  0\n",
      "rfe.support_:  [False False False False False False False False  True False False False\n",
      " False False False False False False]\n",
      "rfe.ranking_:  [ 5 17  3 11  2  4 15 13  1 10  9 12 14  6  8  7 16 18]\n",
      "Optimum number of features: 1\n",
      "Score with 1 features: 0.915280\n",
      "df columns to keep: \n",
      "shape\n",
      "(1595, 1)\n",
      "                     colName  keep\n",
      "8  Nombre épisodes gel/dégel  True\n",
      "reducedDf:      Nombre épisodes gel/dégel\n",
      "23                         27\n",
      "24                         27\n",
      "25                         27\n",
      "26                         27\n",
      "27                         27\n",
      "reduceDf.columns.values:  ['Nombre épisodes gel/dégel']\n",
      "unique values:  [27 22 14 16 20 21 25 17 19 23 15 30 29]\n",
      "len:  1595\n",
      "Nan:  0\n",
      "------\n",
      "dependent var y:  Débit sève (L/j)\n",
      "n:  0\n",
      "score:  0.9463987440410185\n",
      "high_score:  0\n",
      "rfe.support_:  [False False False False False False False False False False False False\n",
      " False False  True False False False]\n",
      "rfe.ranking_:  [16 17  6  9  7  8 11 18 12 14  2 10 15  4  1  5 13  3]\n",
      "Optimum number of features: 1\n",
      "Score with 1 features: 0.946399\n",
      "df columns to keep: \n",
      "shape\n",
      "(1595, 1)\n",
      "                 colName  keep\n",
      "14  Temps bouilloire (h)  True\n",
      "reducedDf:      Temps bouilloire (h)\n",
      "23                  4.27\n",
      "24                  1.63\n",
      "25                  5.11\n",
      "26                  1.65\n",
      "27                  1.67\n",
      "reduceDf.columns.values:  ['Temps bouilloire (h)']\n",
      "unique values:  [ 4.27  1.63  5.11  1.65  1.67  3.63  1.54  3.33  1.64  3.41  2.42  4.76\n",
      "  1.56  6.04  1.59  1.66  1.68  1.5   1.55  1.62  3.31  7.05  7.37  4.9\n",
      "  4.02  1.6   1.58  1.51  4.19  7.02  1.52  2.84  4.03  4.74  4.94  3.77\n",
      "  6.23  6.02  5.36  5.56  6.3   1.61  4.05  1.57  6.22  1.69  1.7   1.53\n",
      "  5.13  2.14  3.53  2.78  3.85  2.21  3.1   2.45  2.74  2.04  3.7   2.86\n",
      "  2.91  2.69  2.66  5.46  5.82  3.42  5.98  5.6   2.    3.17  2.57  2.76\n",
      "  3.8   2.83  2.93  2.67  2.68  2.9   3.86  4.95  1.74  2.96  3.78  4.45\n",
      "  2.16  2.63  3.47  3.3   3.13  4.51  5.79  2.98  6.52  7.46  3.68  3.96\n",
      "  3.14  4.29  4.46  4.01  4.16  4.61  5.74  5.44  4.38  9.65  5.61  4.44\n",
      "  4.28  3.49  2.61  4.78  3.58  4.08  7.49  7.92  4.47  6.59  2.4   4.24\n",
      "  4.31  3.5   5.95  6.8   7.28  8.01  3.39  3.45  5.71  3.94  7.51  7.75\n",
      "  5.12  5.17  5.08  8.3   9.42 10.11  4.1   3.05  1.87  2.39  2.27  1.94\n",
      "  2.23  3.92  5.86  4.18  2.07  4.48  2.06  3.26  5.39  4.17  7.69  2.58\n",
      "  1.91  4.56  6.07  4.62  2.7   4.83  2.02  2.5   3.12  2.25  3.44  5.26\n",
      "  3.71  4.49  5.23  5.15  3.25  2.31  4.92  5.06  4.4   3.91  4.11  8.37\n",
      "  5.3   4.8   5.05  9.    2.15  6.99  4.77  5.84  4.91  8.81  3.04  2.54\n",
      "  2.99  3.02  2.3   3.76  3.23  1.95  3.11  4.35  1.9   3.38  7.4   5.18\n",
      "  8.21  7.23  8.12  6.1   7.14  6.17  4.43  5.4   2.65  4.67  8.68  8.99\n",
      "  7.45  5.9   3.21  3.43  6.44  4.09  2.64  2.6   5.43  5.94  3.52  4.68\n",
      "  6.89  6.32  5.53  4.84  8.14  9.7   6.55  8.89  9.28  3.64  1.78  4.73\n",
      "  2.62  3.66  3.59  2.33  4.82  2.29  5.2   2.1   2.92  6.86  4.25  3.65\n",
      "  7.18  4.3   5.85  6.83  6.93  6.27  4.6   5.69  6.66  9.02  8.2   6.47\n",
      "  4.2   6.    6.96  7.67  8.98 11.48  5.47  3.82  6.03  6.73  1.96  5.67\n",
      "  3.81  3.01  3.87  3.95  4.79  2.24  3.19  3.84  5.38  6.57  3.32  9.84\n",
      "  6.9   6.7   3.88  4.15  6.14  4.13  2.38  5.62  8.49  8.65  9.21  5.41\n",
      "  3.93  6.97  6.5   4.59  2.55  6.37  7.8   2.56  7.89  6.48  6.53  6.67\n",
      "  9.49  8.63  5.88]\n",
      "len:  1595\n",
      "Nan:  0\n",
      "------\n",
      "dependent var y:  Sucre sève (%)\n",
      "n:  0\n",
      "score:  0.44425353039029414\n",
      "high_score:  0\n",
      "rfe.support_:  [False False False False False False False False  True False False False\n",
      " False False False False False False]\n",
      "rfe.ranking_:  [15 14  5  6  4 16  2 13  1 11 10 17 18  3  9  7 12  8]\n",
      "n:  1\n",
      "score:  0.9137605686555612\n",
      "high_score:  0.44425353039029414\n",
      "rfe.support_:  [False False False False False False  True False  True False False False\n",
      " False False False False False False]\n",
      "rfe.ranking_:  [14 13  4  5  3 15  1 12  1 10  9 16 17  2  8  6 11  7]\n",
      "Optimum number of features: 2\n",
      "Score with 2 features: 0.913761\n",
      "df columns to keep: \n",
      "shape\n",
      "(1595, 2)\n",
      "                     colName  keep\n",
      "6          Précip. tot. (mm)  True\n",
      "8  Nombre épisodes gel/dégel  True\n",
      "reducedDf:      Précip. tot. (mm)  Nombre épisodes gel/dégel\n",
      "23                0.0                         27\n",
      "24                0.0                         27\n",
      "25                0.0                         27\n",
      "26                1.4                         27\n",
      "27               11.2                         27\n",
      "reduceDf.columns.values:  ['Précip. tot. (mm)' 'Nombre épisodes gel/dégel']\n",
      "unique values:  [ 0.   1.4 11.2  4.6  0.6  0.4  7.8  3.3  9.4  3.8  2.  10.6  2.6 13.4\n",
      "  2.4 15.4 21.8  1.2  3.2  4.4  1.   3.  30.4  6.8 21.2  6.   3.5  3.7\n",
      " 16.   5.4  8.  12.  15.8  1.6  3.6  0.8 24.6  1.3  0.2  5.8 11.6  0.5\n",
      "  4.5 20.   1.8 15.6  0.3  8.2  7.7  8.4  5.   9.8 16.4 10.5  4.  30.\n",
      "  2.7 29.8 10.4  6.2  5.5  0.7  7.   0.9  6.1  3.4  1.9 14.   1.5 18.3\n",
      "  2.5  6.3  5.1 14.1 29.2  4.9 11.9  6.6  8.9 10.3  5.3  2.3  1.7 11.7\n",
      " 33.6 15.9 13.6  8.8 22.8 16.7 16.3  7.3 20.2 28.3  7.6  4.2 25.   5.9\n",
      " 12.3 13.5  3.1 14.5  5.6 12.6  3.9  1.1  2.1  2.9 12.5 15.  10.1  5.2\n",
      "  4.3  7.9 17.  23.2 17.1 11.1 13.  12.2 15.7 20.4  7.1  4.8 12.7 23.3\n",
      " 32.  14.4  4.1  9.6  7.2  8.3 11.8  9.   2.8 11.   6.4 22.9 41.6 23.9\n",
      " 12.1 16.1  2.2  9.5 28.2 16.8  9.2 10.8  6.9  5.7 29.3  8.7  8.6 36.\n",
      " 21.  10.9 17.4 11.5 10.  24.8 17.3  8.5  6.5 33.1 14.6 22.6 24.2 19.5\n",
      " 27.2 23.1  7.5  8.1 20.3 34.6 15.2 13.9 25.5 13.7  6.7 19.2 16.5  9.1\n",
      " 18.4 17.8 19.8 21.7 30.5 19.4  0.1 20.9 15.1 17.9 36.5 37.2 19.   7.4\n",
      " 25.2 18.9 11.4 37.1  4.7]\n",
      "len:  1595\n",
      "Nan:  0\n",
      "------\n",
      "dependent var y:  Transmittance produit (%)\n",
      "n:  0\n",
      "score:  0.6894251136364131\n",
      "high_score:  0\n",
      "rfe.support_:  [False False False False False False False False False False False False\n",
      " False False False False False  True]\n",
      "rfe.ranking_:  [15 11  6  8  7 10 12 18 13  9  5 16 17  2  4  3 14  1]\n",
      "n:  1\n",
      "score:  0.6898281825816803\n",
      "high_score:  0.6894251136364131\n",
      "rfe.support_:  [False False False False False False False False False False False False\n",
      " False  True False False False  True]\n",
      "rfe.ranking_:  [14 10  5  7  6  9 11 17 12  8  4 15 16  1  3  2 13  1]\n",
      "n:  2\n",
      "score:  0.6906349480002405\n",
      "high_score:  0.6898281825816803\n",
      "rfe.support_:  [False False False False False False False False False False False False\n",
      " False  True False  True False  True]\n",
      "rfe.ranking_:  [13  9  4  6  5  8 10 16 11  7  3 14 15  1  2  1 12  1]\n",
      "n:  3\n",
      "score:  0.6932120152780987\n",
      "high_score:  0.6906349480002405\n",
      "rfe.support_:  [False False False False False False False False False False False False\n",
      " False  True  True  True False  True]\n",
      "rfe.ranking_:  [12  8  3  5  4  7  9 15 10  6  2 13 14  1  1  1 11  1]\n",
      "n:  4\n",
      "score:  0.711633301220095\n",
      "high_score:  0.6932120152780987\n",
      "rfe.support_:  [False False False False False False False False False False  True False\n",
      " False  True  True  True False  True]\n",
      "rfe.ranking_:  [11  7  2  4  3  6  8 14  9  5  1 12 13  1  1  1 10  1]\n",
      "Optimum number of features: 5\n",
      "Score with 5 features: 0.711633\n",
      "df columns to keep: \n",
      "shape\n",
      "(1595, 5)\n",
      "                          colName  keep\n",
      "10  Osmoseur (heures opération/j)  True\n",
      "13    Température Bouilloire (0C)  True\n",
      "14           Temps bouilloire (h)  True\n",
      "15      Sucre du sirop obtenu (%)  True\n",
      "17               CategClasseSirop  True\n",
      "reducedDf:      Osmoseur (heures opération/j)  Température Bouilloire (0C)  \\\n",
      "23                           9.13                   103.874690   \n",
      "24                           0.40                   104.050486   \n",
      "25                           7.23                   104.206423   \n",
      "26                           0.93                   104.227470   \n",
      "27                           0.60                   103.834354   \n",
      "\n",
      "    Temps bouilloire (h)  Sucre du sirop obtenu (%)  CategClasseSirop  \n",
      "23                  4.27                         66                 1  \n",
      "24                  1.63                         67                 3  \n",
      "25                  5.11                         68                 3  \n",
      "26                  1.65                         68                 3  \n",
      "27                  1.67                         66                 3  \n",
      "reduceDf.columns.values:  ['Osmoseur (heures opération/j)' 'Température Bouilloire (0C)'\n",
      " 'Temps bouilloire (h)' 'Sucre du sirop obtenu (%)' 'CategClasseSirop']\n",
      "unique values:  [ 9.13  0.4   7.23  0.93  0.6   9.14  0.16  5.8   0.63  7.49  5.01  6.46\n",
      "  0.32 16.69  0.51  0.41  0.47  0.95  1.03  0.19  0.87  0.92  1.6   1.17\n",
      "  0.45  8.15 10.91 10.25  9.71  7.93  0.55  1.02  0.25  0.61  0.35 10.67\n",
      "  0.57 10.87  0.28  8.66  7.41  6.4   0.27  9.32  9.15  0.99 13.3  16.25\n",
      "  0.46 12.98  7.52 13.17  0.24  1.38  0.68  0.1   0.31 12.23  5.52  1.01\n",
      "  0.7   1.76  1.85  0.89 15.87  0.44  0.71  0.37  0.67  0.66  1.18  0.91\n",
      "  0.56  0.21  1.83  0.38  0.59  1.11  0.88  1.    0.58  0.65  0.98  0.2\n",
      "  0.17  0.48  0.97  4.9   8.87  8.51  0.18  0.3   0.39  0.15  0.34  6.47\n",
      "  9.43  4.61  0.12  6.62  3.29  0.14  4.35  0.49  7.88  8.88  5.77  4.06\n",
      "  4.83  9.63 12.87  0.53  0.54  1.15  9.27  9.95  0.85  8.9  13.75  4.8\n",
      "  0.72  0.36  0.07  0.29  0.43  0.13  0.23  8.5   0.09  0.62  0.76  0.73\n",
      "  0.5   0.11  7.71  5.54  3.14  6.45  1.3   3.62  5.95  4.87  4.46  1.33\n",
      "  0.52  5.58  3.69  3.8  11.19  5.72  2.94  2.53  2.41  6.14  5.98  4.03\n",
      "  5.37  7.84  6.75  4.07  3.72  1.25 13.28  1.16  0.8   0.74  0.84  1.42\n",
      "  0.9   1.43  0.75  6.   13.05  8.56  7.98 11.97 11.41  4.72  6.17  5.82\n",
      " 10.29  1.14  0.96  9.85  8.12  1.13  6.77  4.22  8.59  0.22  6.11 23.26\n",
      "  1.27  0.81  8.27  1.24  0.78  1.36  1.41  0.26  0.08  0.77  1.12  0.64\n",
      "  6.55  5.26  6.79 12.93  3.42  3.7   8.16  3.82  5.57  5.97  4.43  7.4\n",
      "  9.88 18.9  13.1   1.1   8.21 13.19  0.94  0.83  1.84  1.21  2.51  1.4\n",
      "  1.35  1.09  1.66  3.17  5.1   4.37  4.92  1.04  1.57  0.42  5.6   5.18\n",
      " 15.07 12.51 12.42 10.48 14.98  5.36  7.35  6.57 13.49 16.81  2.34  1.26\n",
      "  0.82  9.28  6.71  6.58 12.65 17.05 22.36  3.3   0.33  5.46  5.    3.51\n",
      "  3.13  6.56  7.08  5.85  0.06  0.04  5.14  6.69  0.05  5.29  7.53  8.47\n",
      "  9.21  4.95  1.39  0.86  1.5  10.6   1.07  2.84  8.17  4.82  4.6   9.09\n",
      "  2.66  9.01 15.27 11.92  1.28  5.45  8.05  1.08  3.07  5.93  9.68  1.67\n",
      " 13.13  6.34  3.26  2.43  8.67  3.1   5.28  7.87  7.86  8.04 12.95 11.88\n",
      " 11.17  2.02 20.    6.19  3.98 11.99  4.81  7.21  5.62  9.75  8.01 14.64\n",
      " 16.86  7.6   5.3   8.95  9.25 10.12  2.9  15.1   2.14 14.31 15.82 11.63\n",
      "  1.44  7.64  1.88  3.53  0.69  4.76  7.33  5.99  8.42  6.33  6.81 11.79\n",
      "  5.65  3.33  4.97  5.86  4.63  6.64  1.23  1.96 10.8   1.46 15.47 13.5\n",
      " 14.08  4.93  6.08 19.94  1.22  8.36 11.02  9.02  9.77  7.06  8.96  6.51\n",
      "  3.99  6.74  5.94 13.37 16.8   6.25 17.23  1.2   7.19  3.61  7.14 13.51\n",
      "  2.12  1.79  1.56  1.59  3.08 10.04  6.59  9.62 11.08 11.11 20.48  7.94\n",
      "  8.32  9.17  1.51  9.33 18.2  15.31 14.51 18.84 21.39  1.77  1.05  3.21\n",
      "  1.19  0.79  6.66  2.55  3.06 10.78 12.81  7.61  7.72  9.54  3.55  5.71\n",
      "  3.31  6.15  8.78  6.73  1.75 13.01  7.2   3.22  8.68  9.39  6.43  4.\n",
      "  6.42  5.08  9.24  1.06 13.94  2.08  2.01  2.15  1.47  2.93  2.13  8.43\n",
      "  5.16  5.68 12.1   1.29  1.49 24.   14.88  6.97  4.62  8.97  7.96 12.15\n",
      " 11.39 15.34  7.05  7.89 22.   13.88 13.91 11.25 12.7  11.31 15.69  1.55\n",
      "  5.78 11.55  4.09  1.32  6.89  1.63 18.46 12.12  1.65  4.32 13.92 13.47\n",
      " 12.29 13.73 14.    4.78 10.22 11.38  8.55  1.34  4.99  5.44 11.42  8.58\n",
      "  7.39  5.84  6.03  8.35 13.64  9.12  7.76  1.64  2.04  2.32  1.68 16.92\n",
      " 10.1   4.84  1.89 12.63 11.67  6.44  4.36  8.75  3.92  7.22  8.29  2.27\n",
      "  3.16  5.48  9.05 14.55 19.86  9.65  1.48  5.19  9.34 10.33 14.87  8.09\n",
      "  6.02  6.99  6.85  6.39 11.23  6.61  7.75 16.56  9.45 16.41 12.04  9.07\n",
      " 16.15 16.03 16.83 14.93 15.9 ]\n",
      "len:  1595\n",
      "Nan:  0\n"
     ]
    }
   ],
   "source": [
    "### clé = colonne dépendante, valeur = dataframe des colonnes avec haute influence\n",
    "dict_y_colsX = {}\n",
    "\n",
    "for y in (dfNumerique_Y_cols.columns.values):    \n",
    "    col_y = dfNumerique_Y_cols[y]\n",
    "    reducedDf = get_reduced_df_X(dfNumerique_X_cols, col_y)\n",
    "    print(\"reduceDf.columns.values: \",  reducedDf.columns.values)\n",
    "    print(\"unique values: \", reducedDf[reducedDf.columns.values[0]].unique())\n",
    "    print(\"len: \", len(reducedDf[reducedDf.columns.values[0]]))\n",
    "    print(\"Nan: \", reducedDf[reducedDf.columns.values[0]].isnull().sum())\n",
    "    ## call to analyze_model\n",
    "    #analyze_model(dfNumerique_Y_cols, reducedDf)\n",
    "    #analyze_model(col_y.to_frame(), reducedDf)\n",
    "    dict_y_colsX.update({col_y.name: reducedDf})"
   ]
  },
  {
   "cell_type": "code",
   "execution_count": 48,
   "metadata": {},
   "outputs": [
    {
     "name": "stdout",
     "output_type": "stream",
     "text": [
      "key:  Production moyenne par entaille (L)\n",
      "--------\n",
      "[col_y]:  Production moyenne par entaille (L)\n",
      "[mse]:  2.9550392807093666\n",
      "[r2]:  0.9187977049962585\n",
      "[adj_r2]:  0.9185931652103548\n",
      "[coef]:  [29.50407612]\n",
      "[intercept_]:  14.487714795521471\n",
      "key:  Débit sève (L/j)\n",
      "--------\n",
      "[col_y]:  Débit sève (L/j)\n",
      "[mse]:  1426.0931771441988\n",
      "[r2]:  0.8930362795070979\n",
      "[adj_r2]:  0.8927668494806673\n",
      "[coef]:  [26300.93366983]\n",
      "[intercept_]:  742.8850603880696\n",
      "key:  Sucre sève (%)\n",
      "--------\n",
      "[col_y]:  Sucre sève (%)\n",
      "[mse]:  0.14380516202509833\n",
      "[r2]:  0.8674769112284171\n",
      "[adj_r2]:  0.8668076026992677\n",
      "[coef]:  [-2.12551355  0.82989425]\n",
      "[intercept_]:  2.214203423561279\n",
      "key:  Transmittance produit (%)\n",
      "--------\n",
      "[col_y]:  Transmittance produit (%)\n",
      "[mse]:  6.299596975608175\n",
      "[r2]:  0.7192487462723509\n",
      "[adj_r2]:  0.7156768473699635\n",
      "[coef]:  [ 26.9470089   11.6793808  -30.55033989 -12.23303473 -27.35165625]\n",
      "[intercept_]:  57.441155353624815\n"
     ]
    }
   ],
   "source": [
    "### analyse le modèle de nouveau avec un dataframe réduit\n",
    "#analyze_model(dfNumerique_Y_cols, dfNumerique_X_cols)\n",
    "for key in (dict_y_colsX.keys()):\n",
    "    print(\"key: \", key)\n",
    "    dfX = dict_y_colsX.get(key)\n",
    "    dfY = dfNumerique_Y_cols[key]\n",
    "    #print(type(dfX))\n",
    "    #print(type(dfY))\n",
    "    #dfX =pd.DataFrame(dict_y_colsX[key], columns=[key])\n",
    "    #print(\"shape: \", dfX.shape)\n",
    "    #print(\"nulls: \", dfX.isnull().sum())\n",
    "    analyze_model(dfY.to_frame(), dfX)\n",
    "    "
   ]
  },
  {
   "cell_type": "code",
   "execution_count": 49,
   "metadata": {},
   "outputs": [
    {
     "name": "stdout",
     "output_type": "stream",
     "text": [
      "key:  Production moyenne par entaille (L)\n",
      "=========\n",
      "var depend:  Production moyenne par entaille (L)\n",
      "                                     OLS Regression Results                                    \n",
      "===============================================================================================\n",
      "Dep. Variable:     Production moyenne par entaille (L)   R-squared:                       0.910\n",
      "Model:                                             OLS   Adj. R-squared:                  0.909\n",
      "Method:                                  Least Squares   F-statistic:                 1.602e+04\n",
      "Date:                                 Thu, 24 Nov 2022   Prob (F-statistic):               0.00\n",
      "Time:                                         19:12:56   Log-Likelihood:                -4029.1\n",
      "No. Observations:                                 1595   AIC:                             8062.\n",
      "Df Residuals:                                     1593   BIC:                             8073.\n",
      "Df Model:                                            1                                         \n",
      "Covariance Type:                             nonrobust                                         \n",
      "=============================================================================================\n",
      "                                coef    std err          t      P>|t|      [0.025      0.975]\n",
      "---------------------------------------------------------------------------------------------\n",
      "const                       -11.8088      0.316    -37.395      0.000     -12.428     -11.189\n",
      "Nombre épisodes gel/dégel     1.8654      0.015    126.564      0.000       1.836       1.894\n",
      "==============================================================================\n",
      "Omnibus:                       34.465   Durbin-Watson:                   0.025\n",
      "Prob(Omnibus):                  0.000   Jarque-Bera (JB):               20.460\n",
      "Skew:                          -0.110   Prob(JB):                     3.61e-05\n",
      "Kurtosis:                       2.490   Cond. No.                         89.4\n",
      "==============================================================================\n",
      "\n",
      "Notes:\n",
      "[1] Standard Errors assume that the covariance matrix of the errors is correctly specified.\n",
      "key:  Débit sève (L/j)\n",
      "=========\n",
      "var depend:  Débit sève (L/j)\n",
      "                            OLS Regression Results                            \n",
      "==============================================================================\n",
      "Dep. Variable:       Débit sève (L/j)   R-squared:                       0.943\n",
      "Model:                            OLS   Adj. R-squared:                  0.943\n",
      "Method:                 Least Squares   F-statistic:                 2.623e+04\n",
      "Date:                Thu, 24 Nov 2022   Prob (F-statistic):               0.00\n",
      "Time:                        19:12:56   Log-Likelihood:                -13360.\n",
      "No. Observations:                1595   AIC:                         2.672e+04\n",
      "Df Residuals:                    1593   BIC:                         2.673e+04\n",
      "Df Model:                           1                                         \n",
      "Covariance Type:            nonrobust                                         \n",
      "========================================================================================\n",
      "                           coef    std err          t      P>|t|      [0.025      0.975]\n",
      "----------------------------------------------------------------------------------------\n",
      "const                -3188.2215     46.670    -68.314      0.000   -3279.762   -3096.681\n",
      "Temps bouilloire (h)  2628.9377     16.232    161.961      0.000    2597.099    2660.776\n",
      "==============================================================================\n",
      "Omnibus:                      278.374   Durbin-Watson:                   1.681\n",
      "Prob(Omnibus):                  0.000   Jarque-Bera (JB):             1396.289\n",
      "Skew:                           0.726   Prob(JB):                    6.30e-304\n",
      "Kurtosis:                       7.347   Cond. No.                         5.53\n",
      "==============================================================================\n",
      "\n",
      "Notes:\n",
      "[1] Standard Errors assume that the covariance matrix of the errors is correctly specified.\n",
      "key:  Sucre sève (%)\n",
      "=========\n",
      "var depend:  Sucre sève (%)\n",
      "                            OLS Regression Results                            \n",
      "==============================================================================\n",
      "Dep. Variable:         Sucre sève (%)   R-squared:                       0.925\n",
      "Model:                            OLS   Adj. R-squared:                  0.925\n",
      "Method:                 Least Squares   F-statistic:                     9764.\n",
      "Date:                Thu, 24 Nov 2022   Prob (F-statistic):               0.00\n",
      "Time:                        19:12:56   Log-Likelihood:                 1192.9\n",
      "No. Observations:                1595   AIC:                            -2380.\n",
      "Df Residuals:                    1592   BIC:                            -2364.\n",
      "Df Model:                           2                                         \n",
      "Covariance Type:            nonrobust                                         \n",
      "=============================================================================================\n",
      "                                coef    std err          t      P>|t|      [0.025      0.975]\n",
      "---------------------------------------------------------------------------------------------\n",
      "const                         1.4896      0.012    123.622      0.000       1.466       1.513\n",
      "Précip. tot. (mm)            -0.0508      0.000   -104.089      0.000      -0.052      -0.050\n",
      "Nombre épisodes gel/dégel     0.0517      0.001     92.563      0.000       0.051       0.053\n",
      "==============================================================================\n",
      "Omnibus:                       15.107   Durbin-Watson:                   1.148\n",
      "Prob(Omnibus):                  0.001   Jarque-Bera (JB):               10.823\n",
      "Skew:                           0.079   Prob(JB):                      0.00447\n",
      "Kurtosis:                       2.629   Cond. No.                         90.9\n",
      "==============================================================================\n",
      "\n",
      "Notes:\n",
      "[1] Standard Errors assume that the covariance matrix of the errors is correctly specified.\n",
      "key:  Transmittance produit (%)\n",
      "=========\n",
      "var depend:  Transmittance produit (%)\n",
      "                                OLS Regression Results                               \n",
      "=====================================================================================\n",
      "Dep. Variable:     Transmittance produit (%)   R-squared:                       0.683\n",
      "Model:                                   OLS   Adj. R-squared:                  0.682\n",
      "Method:                        Least Squares   F-statistic:                     683.8\n",
      "Date:                       Thu, 24 Nov 2022   Prob (F-statistic):               0.00\n",
      "Time:                               19:12:56   Log-Likelihood:                -5270.9\n",
      "No. Observations:                       1595   AIC:                         1.055e+04\n",
      "Df Residuals:                           1589   BIC:                         1.059e+04\n",
      "Df Model:                                  5                                         \n",
      "Covariance Type:                   nonrobust                                         \n",
      "=================================================================================================\n",
      "                                    coef    std err          t      P>|t|      [0.025      0.975]\n",
      "-------------------------------------------------------------------------------------------------\n",
      "const                          -795.2753    520.302     -1.528      0.127   -1815.826     225.276\n",
      "Osmoseur (heures opération/j)     1.1109      0.100     11.061      0.000       0.914       1.308\n",
      "Température Bouilloire (0C)       9.6813      5.734      1.688      0.092      -1.566      20.928\n",
      "Temps bouilloire (h)             -2.9453      0.257    -11.452      0.000      -3.450      -2.441\n",
      "Sucre du sirop obtenu (%)        -2.1108      1.153     -1.831      0.067      -4.372       0.150\n",
      "CategClasseSirop                 -9.2630      0.185    -49.946      0.000      -9.627      -8.899\n",
      "==============================================================================\n",
      "Omnibus:                      134.031   Durbin-Watson:                   1.981\n",
      "Prob(Omnibus):                  0.000   Jarque-Bera (JB):              278.568\n",
      "Skew:                           0.535   Prob(JB):                     3.23e-61\n",
      "Kurtosis:                       4.745   Cond. No.                     3.90e+05\n",
      "==============================================================================\n",
      "\n",
      "Notes:\n",
      "[1] Standard Errors assume that the covariance matrix of the errors is correctly specified.\n",
      "[2] The condition number is large, 3.9e+05. This might indicate that there are\n",
      "strong multicollinearity or other numerical problems.\n"
     ]
    }
   ],
   "source": [
    "### analyse le modèle de nouveau avec un dataframe réduit\n",
    "#analyze_model(dfNumerique_Y_cols, dfNumerique_X_cols)\n",
    "for key in (dict_y_colsX.keys()):\n",
    "    print(\"key: \", key)\n",
    "    dfX = dict_y_colsX.get(key)\n",
    "    dfY = dfNumerique_Y_cols[key]    \n",
    "    print_model_summary(dfX, dfY.to_frame())"
   ]
  },
  {
   "cell_type": "markdown",
   "metadata": {},
   "source": [
    "##########\\\n",
    " la var dépendante Transmittance produit (%) a un problème de multicolinearité \n",
    "##########"
   ]
  },
  {
   "cell_type": "code",
   "execution_count": null,
   "metadata": {},
   "outputs": [],
   "source": [
    "#### END Evaluate model"
   ]
  },
  {
   "cell_type": "code",
   "execution_count": null,
   "metadata": {},
   "outputs": [],
   "source": [
    "##### Vif"
   ]
  },
  {
   "cell_type": "code",
   "execution_count": 50,
   "metadata": {},
   "outputs": [],
   "source": [
    "### vif\n",
    "## https://www.kdnuggets.com/2019/07/check-quality-regression-model-python.html\n",
    "from statsmodels.stats.outliers_influence import variance_inflation_factor as vif"
   ]
  },
  {
   "cell_type": "code",
   "execution_count": 51,
   "metadata": {},
   "outputs": [],
   "source": [
    "### https://www.geeksforgeeks.org/detecting-multicollinearity-with-vif-python/\n",
    "\n",
    "# VIF dataframe\n",
    "vif_data = pd.DataFrame()\n",
    "vif_data[\"feature\"] = dfNumerique_X_cols.columns\n"
   ]
  },
  {
   "cell_type": "code",
   "execution_count": 61,
   "metadata": {},
   "outputs": [
    {
     "data": {
      "text/html": [
       "<div>\n",
       "<style scoped>\n",
       "    .dataframe tbody tr th:only-of-type {\n",
       "        vertical-align: middle;\n",
       "    }\n",
       "\n",
       "    .dataframe tbody tr th {\n",
       "        vertical-align: top;\n",
       "    }\n",
       "\n",
       "    .dataframe thead th {\n",
       "        text-align: right;\n",
       "    }\n",
       "</style>\n",
       "<table border=\"1\" class=\"dataframe\">\n",
       "  <thead>\n",
       "    <tr style=\"text-align: right;\">\n",
       "      <th></th>\n",
       "      <th>feature</th>\n",
       "      <th>VIF</th>\n",
       "    </tr>\n",
       "  </thead>\n",
       "  <tbody>\n",
       "    <tr>\n",
       "      <th>11</th>\n",
       "      <td>Pression osmoseur (bar)</td>\n",
       "      <td>1.629840e+07</td>\n",
       "    </tr>\n",
       "    <tr>\n",
       "      <th>9</th>\n",
       "      <td>Alimentation osmoseur (L/j)</td>\n",
       "      <td>2.044157e+06</td>\n",
       "    </tr>\n",
       "    <tr>\n",
       "      <th>10</th>\n",
       "      <td>Osmoseur (heures opération/j)</td>\n",
       "      <td>2.043838e+06</td>\n",
       "    </tr>\n",
       "    <tr>\n",
       "      <th>12</th>\n",
       "      <td>Sucre sortie osmoseur (%)</td>\n",
       "      <td>6.964214e+05</td>\n",
       "    </tr>\n",
       "    <tr>\n",
       "      <th>4</th>\n",
       "      <td>Temp moy.(°C)</td>\n",
       "      <td>3.432822e+03</td>\n",
       "    </tr>\n",
       "    <tr>\n",
       "      <th>3</th>\n",
       "      <td>Temp min.(°C)</td>\n",
       "      <td>2.345469e+03</td>\n",
       "    </tr>\n",
       "    <tr>\n",
       "      <th>2</th>\n",
       "      <td>Temp max.(°C)</td>\n",
       "      <td>1.519696e+03</td>\n",
       "    </tr>\n",
       "    <tr>\n",
       "      <th>5</th>\n",
       "      <td>Diff Temp (°C)</td>\n",
       "      <td>3.580033e+02</td>\n",
       "    </tr>\n",
       "    <tr>\n",
       "      <th>16</th>\n",
       "      <td>Quantité de sirop obtenue (L)</td>\n",
       "      <td>5.217874e+01</td>\n",
       "    </tr>\n",
       "    <tr>\n",
       "      <th>13</th>\n",
       "      <td>Température Bouilloire (0C)</td>\n",
       "      <td>5.075661e+01</td>\n",
       "    </tr>\n",
       "    <tr>\n",
       "      <th>15</th>\n",
       "      <td>Sucre du sirop obtenu (%)</td>\n",
       "      <td>5.068031e+01</td>\n",
       "    </tr>\n",
       "    <tr>\n",
       "      <th>14</th>\n",
       "      <td>Temps bouilloire (h)</td>\n",
       "      <td>2.317438e+01</td>\n",
       "    </tr>\n",
       "    <tr>\n",
       "      <th>7</th>\n",
       "      <td>Précip. Tot. Hiver (mm)</td>\n",
       "      <td>2.860497e+00</td>\n",
       "    </tr>\n",
       "    <tr>\n",
       "      <th>0</th>\n",
       "      <td>Année</td>\n",
       "      <td>2.803114e+00</td>\n",
       "    </tr>\n",
       "    <tr>\n",
       "      <th>1</th>\n",
       "      <td>Jour Calendrier Saison</td>\n",
       "      <td>2.414470e+00</td>\n",
       "    </tr>\n",
       "    <tr>\n",
       "      <th>8</th>\n",
       "      <td>Nombre épisodes gel/dégel</td>\n",
       "      <td>1.447611e+00</td>\n",
       "    </tr>\n",
       "    <tr>\n",
       "      <th>17</th>\n",
       "      <td>CategClasseSirop</td>\n",
       "      <td>1.281434e+00</td>\n",
       "    </tr>\n",
       "    <tr>\n",
       "      <th>6</th>\n",
       "      <td>Précip. tot. (mm)</td>\n",
       "      <td>1.251522e+00</td>\n",
       "    </tr>\n",
       "  </tbody>\n",
       "</table>\n",
       "</div>"
      ],
      "text/plain": [
       "                          feature           VIF\n",
       "11        Pression osmoseur (bar)  1.629840e+07\n",
       "9     Alimentation osmoseur (L/j)  2.044157e+06\n",
       "10  Osmoseur (heures opération/j)  2.043838e+06\n",
       "12      Sucre sortie osmoseur (%)  6.964214e+05\n",
       "4                   Temp moy.(°C)  3.432822e+03\n",
       "3                   Temp min.(°C)  2.345469e+03\n",
       "2                   Temp max.(°C)  1.519696e+03\n",
       "5                  Diff Temp (°C)  3.580033e+02\n",
       "16  Quantité de sirop obtenue (L)  5.217874e+01\n",
       "13    Température Bouilloire (0C)  5.075661e+01\n",
       "15      Sucre du sirop obtenu (%)  5.068031e+01\n",
       "14           Temps bouilloire (h)  2.317438e+01\n",
       "7         Précip. Tot. Hiver (mm)  2.860497e+00\n",
       "0                           Année  2.803114e+00\n",
       "1          Jour Calendrier Saison  2.414470e+00\n",
       "8       Nombre épisodes gel/dégel  1.447611e+00\n",
       "17               CategClasseSirop  1.281434e+00\n",
       "6               Précip. tot. (mm)  1.251522e+00"
      ]
     },
     "execution_count": 61,
     "metadata": {},
     "output_type": "execute_result"
    }
   ],
   "source": [
    "\n",
    "# calculating VIF for each feature\n",
    "\n",
    "vif_data[\"VIF\"] = [vif(dfNumerique_X_cols.values, i)\n",
    "                          for i in range(len(dfNumerique_X_cols.columns))]\n",
    "\n",
    "vif_data.sort_values(by=\"VIF\", axis=0, kind=\"quicksort\",  ascending=False)\n"
   ]
  },
  {
   "cell_type": "code",
   "execution_count": 55,
   "metadata": {},
   "outputs": [
    {
     "data": {
      "text/plain": [
       "12"
      ]
     },
     "execution_count": 55,
     "metadata": {},
     "output_type": "execute_result"
    }
   ],
   "source": [
    "dfVifPlusGrand10 = vif_data[vif_data[\"VIF\"] >10]\n",
    "len(dfVifPlusGrand10)"
   ]
  },
  {
   "cell_type": "code",
   "execution_count": 66,
   "metadata": {},
   "outputs": [
    {
     "data": {
      "text/plain": [
       "Index(['Année', 'Jour Calendrier Saison', 'Précip. tot. (mm)',\n",
       "       'Précip. Tot. Hiver (mm)', 'Nombre épisodes gel/dégel',\n",
       "       'CategClasseSirop'],\n",
       "      dtype='object')"
      ]
     },
     "execution_count": 66,
     "metadata": {},
     "output_type": "execute_result"
    }
   ],
   "source": [
    "### dfNumerique_X sans les vif >10\n",
    "dfNumerique_X_cols_vif =[]\n",
    "dfNumerique_X_cols_vif = dfNumerique_X_cols.loc[:, ~dfNumerique_X_cols.columns.isin(dfVifPlusGrand10[\"feature\"].values)].copy()\n",
    "#for x in (dfVifPlusGrand10[\"feature\"].values):\n",
    "#    print(\"col: \", x)\n",
    "dfNumerique_X_cols_vif.columns"
   ]
  },
  {
   "cell_type": "markdown",
   "metadata": {},
   "source": [
    "\\-------------------\\\n",
    "Est-ce que l'on obtien un résultat meilleur pour \n",
    "'Transmittance produit (%)' ?\\\n",
    "\\----------------\\"
   ]
  },
  {
   "cell_type": "code",
   "execution_count": 69,
   "metadata": {},
   "outputs": [
    {
     "name": "stdout",
     "output_type": "stream",
     "text": [
      "------\n",
      "dependent var y:  Transmittance produit (%)\n",
      "n:  0\n",
      "score:  0.6894251136364131\n",
      "high_score:  0\n",
      "rfe.support_:  [False False False False False  True]\n",
      "rfe.ranking_:  [4 2 3 6 5 1]\n",
      "n:  1\n",
      "score:  0.7042969991851935\n",
      "high_score:  0.6894251136364131\n",
      "rfe.support_:  [False  True False False False  True]\n",
      "rfe.ranking_:  [3 1 2 5 4 1]\n",
      "Optimum number of features: 2\n",
      "Score with 2 features: 0.704297\n",
      "df columns to keep: \n",
      "shape\n",
      "(1595, 2)\n",
      "                  colName  keep\n",
      "1  Jour Calendrier Saison  True\n",
      "5        CategClasseSirop  True\n",
      "reducedDf:      Jour Calendrier Saison  CategClasseSirop\n",
      "23                      24                 1\n",
      "24                      25                 3\n",
      "25                      26                 3\n",
      "26                      27                 3\n",
      "27                      28                 3\n",
      "=========\n",
      "var depend:  Transmittance produit (%)\n",
      "                                OLS Regression Results                               \n",
      "=====================================================================================\n",
      "Dep. Variable:     Transmittance produit (%)   R-squared:                       0.668\n",
      "Model:                                   OLS   Adj. R-squared:                  0.668\n",
      "Method:                        Least Squares   F-statistic:                     1602.\n",
      "Date:                       Thu, 24 Nov 2022   Prob (F-statistic):               0.00\n",
      "Time:                               19:35:00   Log-Likelihood:                -5307.0\n",
      "No. Observations:                       1595   AIC:                         1.062e+04\n",
      "Df Residuals:                           1592   BIC:                         1.064e+04\n",
      "Df Model:                                  2                                         \n",
      "Covariance Type:                   nonrobust                                         \n",
      "==========================================================================================\n",
      "                             coef    std err          t      P>|t|      [0.025      0.975]\n",
      "------------------------------------------------------------------------------------------\n",
      "const                     70.3492      0.532    132.189      0.000      69.305      71.393\n",
      "Jour Calendrier Saison    -0.0571      0.007     -7.765      0.000      -0.072      -0.043\n",
      "CategClasseSirop          -9.5795      0.186    -51.562      0.000      -9.944      -9.215\n",
      "==============================================================================\n",
      "Omnibus:                       83.425   Durbin-Watson:                   2.093\n",
      "Prob(Omnibus):                  0.000   Jarque-Bera (JB):              134.240\n",
      "Skew:                           0.425   Prob(JB):                     7.08e-30\n",
      "Kurtosis:                       4.139   Cond. No.                         181.\n",
      "==============================================================================\n",
      "\n",
      "Notes:\n",
      "[1] Standard Errors assume that the covariance matrix of the errors is correctly specified.\n"
     ]
    }
   ],
   "source": [
    "newDfTransmittance = get_reduced_df_X(dfNumerique_X_cols_vif, dfNumerique_Y_cols['Transmittance produit (%)'])\n",
    "print_model_summary(newDfTransmittance, dfNumerique_Y_cols['Transmittance produit (%)'].to_frame())"
   ]
  },
  {
   "cell_type": "markdown",
   "metadata": {},
   "source": [
    "\n",
    "-----------------------------"
   ]
  },
  {
   "cell_type": "code",
   "execution_count": 58,
   "metadata": {},
   "outputs": [],
   "source": [
    "from sklearn import linear_model\n",
    "reg = linear_model.LinearRegression()\n",
    "list_reg = []\n",
    "for col in list_cols_dependennt_vars:\n",
    " #   print(col.name)\n",
    "    #result = reg.fit(dfNumerique[:, ~dfNumerique.columns.isin([col.name for col in list_cols_dependennt_vars])], dfNumerique[col.name])\n",
    "    result = reg.fit(dfNumerique.loc[:, ~dfNumerique.columns.isin([col for col in list_cols_dependennt_vars])], dfNumerique[col])\n",
    "    list_reg.append(result)\n",
    "    "
   ]
  },
  {
   "cell_type": "code",
   "execution_count": 59,
   "metadata": {},
   "outputs": [
    {
     "name": "stdout",
     "output_type": "stream",
     "text": [
      "coefs:  [ 0.15 -0.   -0.81 -0.01  0.83  0.38 -0.01  0.01  1.87  0.   -1.96  0.01\n",
      "  0.01 -1.85  0.53  0.4  -0.01 -0.01]\n",
      "intercept:  -145.63724239478893\n"
     ]
    }
   ],
   "source": [
    "print(\"coefs: \", list_reg[0].coef_.round(2))\n",
    "print(\"intercept: \", list_reg[0].intercept_)\n"
   ]
  },
  {
   "cell_type": "markdown",
   "metadata": {},
   "source": []
  },
  {
   "cell_type": "code",
   "execution_count": 65,
   "metadata": {},
   "outputs": [
    {
     "data": {
      "text/plain": [
       "Index(['Année', 'Jour Calendrier Saison', 'Précip. tot. (mm)',\n",
       "       'Précip. Tot. Hiver (mm)', 'Nombre épisodes gel/dégel',\n",
       "       'CategClasseSirop'],\n",
       "      dtype='object')"
      ]
     },
     "execution_count": 65,
     "metadata": {},
     "output_type": "execute_result"
    }
   ],
   "source": [
    "dfNumerique_X_cols_vif.columns"
   ]
  },
  {
   "cell_type": "markdown",
   "metadata": {},
   "source": [
    "\\#####\n",
    "======= Summaries ===========\n",
    "\\#####\n"
   ]
  },
  {
   "cell_type": "code",
   "execution_count": null,
   "metadata": {},
   "outputs": [],
   "source": [
    "col_y = dfNumerique_Y_cols[y]\n",
    "model = stm.OLS(col_y, dfNumerique_X_cols).fit()\n",
    "dfNumerique_Y_cols['Production moyenne par entaille (L)']\n",
    "type(sts.norm)\n",
    "\n",
    "sns.histplot(model.resid, kde=True, stat=\"density\")"
   ]
  },
  {
   "cell_type": "markdown",
   "metadata": {},
   "source": [
    "#######"
   ]
  },
  {
   "cell_type": "markdown",
   "metadata": {},
   "source": [
    "##### feature selection ####\n",
    "\n",
    "https://machinelearningmastery.com/feature-selection-for-regression-data/\n"
   ]
  },
  {
   "cell_type": "code",
   "execution_count": null,
   "metadata": {},
   "outputs": [],
   "source": [
    "# example of correlation feature selection for numerical data\n",
    "# compare different numbers of features selected using mutual information\n",
    "from sklearn.datasets import make_regression\n",
    "from sklearn.model_selection import RepeatedKFold\n",
    "from sklearn.feature_selection import SelectKBest\n",
    "from sklearn.feature_selection import mutual_info_regression\n",
    "from sklearn.linear_model import LinearRegression\n",
    "from sklearn.pipeline import Pipeline\n",
    "\n",
    "from sklearn.model_selection import GridSearchCV"
   ]
  },
  {
   "cell_type": "code",
   "execution_count": null,
   "metadata": {},
   "outputs": [],
   "source": [
    "\n",
    "# define dataset\n",
    "X = dfNumerique_X_cols.copy()\n",
    "\n",
    "y = dfNumerique['Débit sève (L/j)']\n",
    "\n",
    "# define the evaluation method\n",
    "cv = RepeatedKFold(n_splits=10, n_repeats=3, random_state=1)\n",
    "\n",
    "\n",
    "# define the pipeline to evaluate\n",
    "model = LinearRegression()\n",
    "fs = SelectKBest(score_func=mutual_info_regression)\n",
    "pipeline = Pipeline(steps=[('sel',fs), ('lr', model)])\n",
    "\n",
    "# define the grid\n",
    "grid = dict()\n",
    "grid['sel__k'] = [i for i in range(X.shape[1]-20, X.shape[1]+1)]\n",
    "\n"
   ]
  },
  {
   "cell_type": "code",
   "execution_count": null,
   "metadata": {},
   "outputs": [],
   "source": [
    "\n",
    "# define the grid search\n",
    "search = GridSearchCV(pipeline, grid, scoring='neg_mean_absolute_error', n_jobs=-1, cv=cv)\n",
    "# perform the search\n",
    "results = search.fit(X, y)\n"
   ]
  },
  {
   "cell_type": "code",
   "execution_count": null,
   "metadata": {},
   "outputs": [],
   "source": [
    "\n",
    "# summarize best\n",
    "print('Best MAE: %.3f' % results.best_score_)\n",
    "print('Best Config: %s' % results.best_params_)\n",
    "# summarize all\n",
    "means = results.cv_results_['mean_test_score']\n",
    "params = results.cv_results_['params']\n",
    "for mean, param in zip(means, params):\n",
    "    print(\">%.3f with: %r\" % (mean, param))"
   ]
  },
  {
   "cell_type": "code",
   "execution_count": null,
   "metadata": {},
   "outputs": [],
   "source": [
    "### https://www.youtube.com/watch?v=VCVhwjbI6h8\n",
    "from sklearn.model_selection import train_test_split\n",
    "# X_train, X_test, y_train, y_test = train_test_split(dfNumerique_X_cols_vif, dfNumerique_Y_cols, test_size=0.25, random_state=0)\n",
    "X_train, X_test, y_train, y_test = train_test_split(dfNumerique_X_cols_vif, dfNumerique_Y_cols['Production moyenne par entaille (L)'], test_size=0.25, random_state=0)"
   ]
  },
  {
   "cell_type": "code",
   "execution_count": null,
   "metadata": {},
   "outputs": [],
   "source": [
    "## transforming data\n",
    "from sklearn.preprocessing import MinMaxScaler\n",
    "scaler = MinMaxScaler()\n",
    "X_train = scaler.fit_transform(X_train)\n",
    "X_test = scaler.fit_transform(X_test)\n"
   ]
  },
  {
   "cell_type": "code",
   "execution_count": null,
   "metadata": {},
   "outputs": [],
   "source": [
    "## Fitting Multiple Linear Regression to the training set\n",
    "from sklearn.linear_model import LinearRegression\n",
    "from sklearn.metrics import r2_score\n",
    "from sklearn.metrics import mean_squared_error\n",
    "\n",
    "regressor =  LinearRegression()\n",
    "regressor.fit(X_train, y_train)\n"
   ]
  },
  {
   "cell_type": "code",
   "execution_count": null,
   "metadata": {},
   "outputs": [],
   "source": [
    "y_pred = regressor.predict(X_test)\n",
    "math.sqrt(mean_squared_error(y_test, y_pred))\n",
    "r2_score(y_test, y_pred)"
   ]
  },
  {
   "cell_type": "code",
   "execution_count": null,
   "metadata": {},
   "outputs": [],
   "source": [
    "for m in lst_models:\n",
    "    print(\"==== SUMMARY ====\")\n",
    "    m.summary()\n"
   ]
  },
  {
   "cell_type": "code",
   "execution_count": null,
   "metadata": {},
   "outputs": [],
   "source": [
    "#dfNumerique_X_cols_vif.head()"
   ]
  },
  {
   "cell_type": "code",
   "execution_count": null,
   "metadata": {},
   "outputs": [],
   "source": [
    "duncan_prestige = stm.datasets.get_rdataset(\"Duncan\", \"carData\")\n",
    "Y = duncan_prestige.data['income']\n",
    "X = duncan_prestige.data['education']\n",
    "X = stm.add_constant(X)\n",
    "print(\"type(Y)\", type(Y))\n",
    "print(\"type(X)\", type(X))\n",
    "print(\"len(Y): \", len(Y))\n",
    "print(\"len(X): \", len(X))"
   ]
  },
  {
   "cell_type": "code",
   "execution_count": null,
   "metadata": {},
   "outputs": [],
   "source": [
    "#print(Y.shape)\n",
    "X.head()\n",
    "#Y.head()"
   ]
  },
  {
   "cell_type": "code",
   "execution_count": null,
   "metadata": {},
   "outputs": [],
   "source": [
    "\n",
    "model = stm.OLS(Y,X)\n",
    "results = model.fit()\n",
    "results.params"
   ]
  },
  {
   "cell_type": "markdown",
   "metadata": {},
   "source": [
    "###### "
   ]
  },
  {
   "cell_type": "code",
   "execution_count": null,
   "metadata": {},
   "outputs": [],
   "source": [
    "## On voit qu'il y a certaines correlations parfaites\n",
    "## ex: (temp moyen, temp max), (temp moyen, temp min), (moyenne entaille, episode gel/degel)\n",
    "## (pression osmoseur bar, boullioire 0c), (pression osmoseur bar, quantité sirop obtenu %)\n",
    "## (osmoseur heures opération, alimentation osmoseur (L/j))\n",
    "## (Sucre sortie osmoseur (%), pression osmoseur)\n",
    "## (alimentation osmoseur, (L/j), temps boulloire) -> 0.89\n",
    "## (débit sève, heures opération/j)\n",
    "## Enlevons quelques unes de ces variables et revoyons la correlation\n",
    "list_col_redondantes = ['Temp min.(°C)', 'Temp max.(°C)', 'Température Bouilloire (0C)'\n",
    "                       , 'Quantité de sirop obtenue (L)', 'Sucre du sirop obtenu (%)'\n",
    "                       , 'Osmoseur (heures opération/j)', 'Sucre sortie osmoseur (%)'\n",
    "                       , 'Temps bouilloire (h)'\n",
    "                       ]\n",
    "\n",
    "## On repète l'opération antérieur avec moins de colonnes\n",
    "dfNumerique = dfNumerique.loc[:, ~dfNumerique.columns.isin(list_col_redondantes)]\n",
    "\n",
    "corr = dfNumerique.corr()\n",
    "\n",
    "## heatmap sans correlations parfaites ou presque parfaite:\n",
    "sns.heatmap(corr, cbar=True, cmap=\"Blues\", center=0, annot=True, fmt=\".2f\")"
   ]
  },
  {
   "cell_type": "code",
   "execution_count": null,
   "metadata": {},
   "outputs": [],
   "source": [
    "### pandas.series condition https://www.youtube.com/watch?v=BgfvF6mu20c\n",
    "### pour chaque var Y, imprimer les variables les plus correlées\n",
    "### on applique la condition \n",
    "for col in list_cols_dependennt_vars:\n",
    "    print(\"===========================\")\n",
    "    print(\" y = \", col.name)\n",
    "    cond_correl_plus_grand_50 = ((corr[col.name] > 0.5) & (corr[col.name] <1)) \n",
    "    print(corr[col.name][cond_correl_plus_grand_50].sort_values(ascending=False))\n",
    "    \n",
    "#list_cols_dependennt_vars"
   ]
  },
  {
   "cell_type": "code",
   "execution_count": null,
   "metadata": {},
   "outputs": [],
   "source": [
    "sns.pairplot(dfNumerique)"
   ]
  },
  {
   "cell_type": "markdown",
   "metadata": {},
   "source": [
    "### At this point, we have strong relationships:\n",
    "- Débit sève (L/j) --> Alimentation osmoseur (L/j) [0.97]\n",
    "- Sucre sève (%) --> Pression osmoseur (bar) [0.9]\n",
    "- Transmittance produit (%) --> Pression osmoseur (bar)[0.81], Sucre sortie osmoseur (%) [0.68]\n",
    "- Production moyenne par entaille (L) --> Nombre épisodes gel/dégel [0.95]"
   ]
  },
  {
   "cell_type": "code",
   "execution_count": null,
   "metadata": {},
   "outputs": [],
   "source": [
    "## Transmitance\n",
    "### pression_osmoseur_vs_transmittance\n",
    "sns.lmplot(x='Pression osmoseur (bar)', y = 'Transmittance produit (%)', data = dfNumerique)"
   ]
  },
  {
   "cell_type": "code",
   "execution_count": null,
   "metadata": {},
   "outputs": [],
   "source": [
    "## Le graphique ression_osmoseur_vs_transmittance montre une concentration\n",
    "## dans x près de 40. Regardons s'il y a des outliers:\n",
    "sns.boxplot(x='Pression osmoseur (bar)',data = dfNumerique)"
   ]
  },
  {
   "cell_type": "code",
   "execution_count": null,
   "metadata": {},
   "outputs": [],
   "source": [
    "## effectivement, le boxplot nous montre la présence des outliers\n",
    "stats = dfNumerique['Pression osmoseur (bar)'].describe()\n",
    "stats"
   ]
  },
  {
   "cell_type": "code",
   "execution_count": null,
   "metadata": {},
   "outputs": [],
   "source": [
    "sns.lmplot(x='Alimentation osmoseur (L/j)' , y='Débit sève (L/j)', data=dfNumerique)"
   ]
  },
  {
   "cell_type": "code",
   "execution_count": null,
   "metadata": {},
   "outputs": [],
   "source": []
  },
  {
   "cell_type": "code",
   "execution_count": null,
   "metadata": {},
   "outputs": [],
   "source": []
  },
  {
   "cell_type": "code",
   "execution_count": null,
   "metadata": {},
   "outputs": [],
   "source": [
    "### regardons combien de 0:\n",
    "sns.histplot(x='Pression osmoseur (bar)',data = dfNumerique)"
   ]
  },
  {
   "cell_type": "code",
   "execution_count": null,
   "metadata": {},
   "outputs": [],
   "source": [
    "#sns.pairplot(dfNumerique)"
   ]
  },
  {
   "cell_type": "code",
   "execution_count": null,
   "metadata": {},
   "outputs": [],
   "source": [
    "## correlation seulement entre les variables indépendantes\n",
    "\n",
    "dfDependantVars= dfNumerique.loc[:, ~dfNumerique.columns.isin([col.name for col in list_cols_dependennt_vars])]\n",
    "type(dfDependantVars)\n",
    "\n",
    "corr2 = dfDependantVars.corr()\n",
    "sns.heatmap(corr2, cbar=True, annot=True, cmap=\"Blues\", fmt=\".02f\", center=0)"
   ]
  },
  {
   "cell_type": "markdown",
   "metadata": {},
   "source": [
    "Multiple Linear Regression - https://www.youtube.com/watch?v=J_LnPL3Qg70\n"
   ]
  },
  {
   "cell_type": "code",
   "execution_count": null,
   "metadata": {},
   "outputs": [],
   "source": [
    "from sklearn import linear_model\n",
    "reg = linear_model.LinearRegression()\n",
    "\n",
    "## https://www.statology.org/pandas-exclude-column/\n",
    "#select all columns except 'rebounds' and 'assists'\n",
    "#df.loc[:, ~df.columns.isin(['rebounds', 'assists'])]\n",
    "list_reg = []\n",
    "for col in list_cols_dependennt_vars:\n",
    " #   print(col.name)\n",
    "    #result = reg.fit(dfNumerique[:, ~dfNumerique.columns.isin([col.name for col in list_cols_dependennt_vars])], dfNumerique[col.name])\n",
    "    result = reg.fit(dfNumerique.loc[:, ~dfNumerique.columns.isin([col.name for col in list_cols_dependennt_vars])], dfNumerique[col.name])\n",
    "    list_reg.append(result)\n",
    "\n",
    "\n",
    "#dfNumerique['Année'].name\n",
    "#list_cols_dependennt_vars[0].name\n",
    "#[col.name for col in list_cols_dependennt_vars]\n",
    "#reg.fit(dfNumerique.loc[:, ~dfNumerique.columns.isin([col.name for col in list_cols_dependennt_vars])], dfNumerique['Débit sève (L/j)'])\n",
    "#type(dfNumerique.loc[:, ~dfNumerique.columns.isin([col.name for col in list_cols_dependennt_vars])])\n",
    "#dfNumeriqueIndepVar = dfNumerique[:, ~dfNumerique.columns.isin([col.name for col in list_cols_dependennt_vars])]"
   ]
  },
  {
   "cell_type": "code",
   "execution_count": null,
   "metadata": {},
   "outputs": [],
   "source": [
    "print(\"coefs: \", list_reg[0].coef_.round(2))\n",
    "print(\"intercept: \", list_reg[0].intercept_)"
   ]
  },
  {
   "cell_type": "markdown",
   "metadata": {},
   "source": [
    "fonction vérif distr normale"
   ]
  },
  {
   "cell_type": "code",
   "execution_count": null,
   "metadata": {},
   "outputs": [],
   "source": [
    "def print_dist_norm(pCol, pXlabel, pYlabel=\"Fonction de densité f(x)\", pNbRuns=1000):\n",
    "    grille_x = np.linspace(pCol.min(), pCol.max(), pNbRuns)\n",
    "    dx=(pCol.max()-(pCol.min()))/(pNbRuns-1)\n",
    "    mu, sigma = sts.norm.fit(pCol.values)\n",
    "    param=sts.norm.fit(pCol.values)\n",
    "    pdf = sts.norm.pdf(grille_x, mu, sigma)\n",
    "    ax=pCol.plot.hist(density=True, bins = 10, color = 'blue', edgecolor = 'black')\n",
    "    ax.set_xlabel(pXlabel)\n",
    "    ax.plot(grille_x, pdf, linewidth=3, color = 'red')\n",
    "    ax.set_ylabel(pYlabel)"
   ]
  }
 ],
 "metadata": {
  "kernelspec": {
   "display_name": "Python 3 (ipykernel)",
   "language": "python",
   "name": "python3"
  },
  "language_info": {
   "codemirror_mode": {
    "name": "ipython",
    "version": 3
   },
   "file_extension": ".py",
   "mimetype": "text/x-python",
   "name": "python",
   "nbconvert_exporter": "python",
   "pygments_lexer": "ipython3",
   "version": "3.11.0"
  },
  "vscode": {
   "interpreter": {
    "hash": "ca3ed784184f1b3bb7c3539bfb45e71710cd27667424f92c2d5bb4df9c107c23"
   }
  }
 },
 "nbformat": 4,
 "nbformat_minor": 4
}
