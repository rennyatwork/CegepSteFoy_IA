{
 "cells": [
  {
   "cell_type": "code",
   "execution_count": null,
   "id": "aeba98b8-4aae-410f-8f85-cc76eef2b539",
   "metadata": {},
   "outputs": [],
   "source": []
  }
 ],
 "metadata": {
  "kernelspec": {
   "display_name": "Python 3.11",
   "language": "python",
   "name": "python3.11"
  },
  "language_info": {
   "name": ""
  }
 },
 "nbformat": 4,
 "nbformat_minor": 5
}
