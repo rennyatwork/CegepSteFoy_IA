{
 "cells": [
  {
   "cell_type": "raw",
   "id": "1091ece9-a665-44c9-ac37-94aadf48662a",
   "metadata": {},
   "source": [
    "\\--------------------------\\\n",
    "\n",
    "\n",
    "Q3 - modèle pour évaluer la transparence\n",
    "Estimer la classe du sirop à partir des pixels\n",
    "\n",
    "\"\n",
    "Le propriétaire de l’érablière voudrait savoir s’il serait possible de développer\n",
    "un modèle de régression robuste (fiable) pour estimer directement la transparence du\n",
    "sirop (et son grade) à partir des lectures des pixels des images\n",
    "\"\n",
    "\n",
    "Suppositions: \n",
    "\n",
    "- N'ayant pas trouvé aucune colonne contenant \"transparence\", je suppose que l'on\n",
    "veut estimer son grade (doré, ambré, foncé ou très foncé). \n",
    "\n",
    "- Il s'agirait d'un problème de classification (et non de régression). On suppose qu'il \n",
    "s'agit d'une classification.\n",
    "\n",
    "\\--------------------------------\\"
   ]
  },
  {
   "cell_type": "code",
   "execution_count": 55,
   "id": "b521b3b4-4990-4df7-905c-48afca34900d",
   "metadata": {},
   "outputs": [],
   "source": [
    "import numpy as np\n",
    "import pandas as pd\n",
    "import matplotlib.pyplot as plt\n",
    "import scipy.stats as sts\n",
    "import statsmodels.api as stm\n",
    "import statsmodels.stats.weightstats as ws\n",
    "import math\n",
    "import seaborn as sns\n",
    "import os\n",
    "\n",
    "from sklearn.preprocessing import StandardScaler \n",
    "from sklearn.neighbors import KNeighborsClassifier\n",
    "from sklearn.metrics import classification_report, confusion_matrix\n",
    "\n",
    "\n",
    "# Import Gaussian Naive Bayes classifier:\n",
    "from sklearn.naive_bayes import GaussianNB\n",
    "from sklearn.metrics import accuracy_score, balanced_accuracy_score\n",
    "\n",
    "from sklearn.metrics import roc_curve, auc\n",
    "\n",
    "from statsmodels.stats.outliers_influence import variance_inflation_factor as vif\n",
    "os.environ['KMP_DUPLICATE_LIB_OK'] = 'True'\n",
    "from sklearn.feature_selection import RFE\n",
    "from statsmodels.stats.outliers_influence import OLSInfluence\n",
    "from scipy import stats\n",
    "from sklearn.model_selection  import train_test_split\n",
    "import PyQt5 #works\n",
    "from PyQt5 import QtCore, QtGui, QtWidgets #works for pyqt5\n",
    "%matplotlib qt\n"
   ]
  },
  {
   "cell_type": "code",
   "execution_count": 2,
   "id": "cfb12416-63c0-4053-aa53-be576ba6a28d",
   "metadata": {},
   "outputs": [
    {
     "name": "stdout",
     "output_type": "stream",
     "text": [
      "/home/hadoop/Git_Ia/CegepSteFoy_IA/04_Eda/TP02\n"
     ]
    },
    {
     "data": {
      "text/plain": [
       "str"
      ]
     },
     "execution_count": 2,
     "metadata": {},
     "output_type": "execute_result"
    }
   ],
   "source": [
    "print (os.getcwd())\n",
    "currDir = os.getcwd()\n",
    "fullPath = currDir + \"/CabaneASucrev0r3.csv\"\n",
    "type(currDir)"
   ]
  },
  {
   "cell_type": "code",
   "execution_count": 3,
   "id": "0e880f65-bf6e-424f-8be7-3ca0c278a4b6",
   "metadata": {},
   "outputs": [
    {
     "data": {
      "text/plain": [
       "array(['Date', 'Année', 'Jour Calendrier Saison', 'Temp max.(°C)',\n",
       "       'Temp min.(°C)', 'Temp moy.(°C)', 'Diff Temp (°C)',\n",
       "       'Précip. tot. (mm)', 'Précip. Tot. Hiver (mm)',\n",
       "       'Nombre épisodes gel/dégel', 'Production moyenne par entaille (L)',\n",
       "       'Débit sève (L/j)', 'Sucre sève (%)',\n",
       "       'Alimentation osmoseur (L/j)', 'Osmoseur (heures opération/j)',\n",
       "       'Pression osmoseur (bar)', 'Sucre sortie osmoseur (%)',\n",
       "       'Température Bouilloire (0C)', 'Temps bouilloire (h)',\n",
       "       'Sucre du sirop obtenu (%)', 'Quantité de sirop obtenue (L)',\n",
       "       'Transmittance produit (%)', 'Pixel1_R', 'Pixel1_G', 'Pixel1_B',\n",
       "       'Pixel2_R', 'Pixel2_G', 'Pixel2_B', 'Pixel3_R', 'Pixel3_G',\n",
       "       'Pixel3_B', 'Pixel4_R', 'Pixel4_G', 'Pixel4_B', 'Pixel5_R',\n",
       "       'Pixel5_G', 'Pixel5_B', 'Pixel6_R', 'Pixel6_G', 'Pixel6_B',\n",
       "       'Pixel7_R', 'Pixel7_G', 'Pixel7_B', 'Pixel8_R', 'Pixel8_G',\n",
       "       'Pixel8_B', 'Pixel9_R', 'Pixel9_G', 'Pixel9_B', 'Classe Sirop'],\n",
       "      dtype=object)"
      ]
     },
     "execution_count": 3,
     "metadata": {},
     "output_type": "execute_result"
    }
   ],
   "source": [
    "donnee = pd.read_csv(fullPath)\n",
    "stats=donnee.describe()\n",
    "dimensions=donnee.shape\n",
    "donnee.columns.values"
   ]
  },
  {
   "cell_type": "raw",
   "id": "9aee18f1-d09c-437b-bdc4-73ebfde3b870",
   "metadata": {},
   "source": [
    "\\-------------------\\\n",
    "Préparation des données\n",
    "- Traiter les null\n",
    "- Utiliser les colonnes Pixel\n",
    "- Transformer Classe Sirop en numérique\n",
    "- Supprimer la classe 0\n",
    "\n",
    "\n",
    "\\-------------------------\\"
   ]
  },
  {
   "cell_type": "code",
   "execution_count": 4,
   "id": "a35ed860-0f76-413e-bc7e-947be20e54e0",
   "metadata": {},
   "outputs": [],
   "source": [
    "## éliminer les null (fill)\n",
    "donnee.fillna(method='bfill', inplace=True)\n"
   ]
  },
  {
   "cell_type": "code",
   "execution_count": 5,
   "id": "c158ae16-208a-4101-ad71-b1964733e359",
   "metadata": {},
   "outputs": [
    {
     "data": {
      "text/plain": [
       "array(['Pixel1_R', 'Pixel1_G', 'Pixel1_B', 'Pixel2_R', 'Pixel2_G',\n",
       "       'Pixel2_B', 'Pixel3_R', 'Pixel3_G', 'Pixel3_B', 'Pixel4_R',\n",
       "       'Pixel4_G', 'Pixel4_B', 'Pixel5_R', 'Pixel5_G', 'Pixel5_B',\n",
       "       'Pixel6_R', 'Pixel6_G', 'Pixel6_B', 'Pixel7_R', 'Pixel7_G',\n",
       "       'Pixel7_B', 'Pixel8_R', 'Pixel8_G', 'Pixel8_B', 'Pixel9_R',\n",
       "       'Pixel9_G', 'Pixel9_B', 'Classe Sirop'], dtype=object)"
      ]
     },
     "execution_count": 5,
     "metadata": {},
     "output_type": "execute_result"
    }
   ],
   "source": [
    "## copier seulement les colonnes pixel\n",
    "dfPixel = donnee[donnee.filter(like='Pixel').columns].copy()\n",
    "\n",
    "dfPixel['Classe Sirop'] = donnee['Classe Sirop']\n",
    "dfPixel.columns.values"
   ]
  },
  {
   "cell_type": "code",
   "execution_count": 6,
   "id": "bb2fe392-6471-47d8-a3e6-aa14237bd543",
   "metadata": {},
   "outputs": [],
   "source": [
    "## convertir Classe Sirop en numérique - https://www.youtube.com/watch?v=wH_ezgftiy0&t=136s\n",
    "dfPixel['CategClasseSirop'] = dfPixel['Classe Sirop'].astype('category').cat.codes"
   ]
  },
  {
   "cell_type": "code",
   "execution_count": 7,
   "id": "7cc68d01-e462-4445-858d-90cd330e0772",
   "metadata": {},
   "outputs": [
    {
     "data": {
      "text/plain": [
       "array([0, 1, 3, 4, 2], dtype=int8)"
      ]
     },
     "execution_count": 7,
     "metadata": {},
     "output_type": "execute_result"
    }
   ],
   "source": [
    "dfPixel['CategClasseSirop'].unique()"
   ]
  },
  {
   "cell_type": "code",
   "execution_count": 8,
   "id": "7fa8e976-d58a-4f6a-a18b-122a09fb6a8e",
   "metadata": {},
   "outputs": [],
   "source": [
    "## supprimer la classe 0\n",
    "dfPixel = dfPixel[(dfPixel['CategClasseSirop']>0)]"
   ]
  },
  {
   "cell_type": "code",
   "execution_count": 9,
   "id": "cda4efff-e2d2-4cf5-a78f-4211b6ac2b31",
   "metadata": {},
   "outputs": [
    {
     "data": {
      "text/plain": [
       "<AxesSubplot: xlabel='Classe Sirop', ylabel='Count'>"
      ]
     },
     "execution_count": 9,
     "metadata": {},
     "output_type": "execute_result"
    }
   ],
   "source": [
    "sns.histplot(dfPixel['Classe Sirop'])"
   ]
  },
  {
   "cell_type": "code",
   "execution_count": 10,
   "id": "0d3585de-1b8c-4524-97b5-44d33f7bfa8c",
   "metadata": {},
   "outputs": [
    {
     "data": {
      "text/html": [
       "<div>\n",
       "<style scoped>\n",
       "    .dataframe tbody tr th:only-of-type {\n",
       "        vertical-align: middle;\n",
       "    }\n",
       "\n",
       "    .dataframe tbody tr th {\n",
       "        vertical-align: top;\n",
       "    }\n",
       "\n",
       "    .dataframe thead th {\n",
       "        text-align: right;\n",
       "    }\n",
       "</style>\n",
       "<table border=\"1\" class=\"dataframe\">\n",
       "  <thead>\n",
       "    <tr style=\"text-align: right;\">\n",
       "      <th></th>\n",
       "      <th>Pixel1_R</th>\n",
       "      <th>Pixel1_G</th>\n",
       "      <th>Pixel1_B</th>\n",
       "      <th>Pixel2_R</th>\n",
       "      <th>Pixel2_G</th>\n",
       "      <th>Pixel2_B</th>\n",
       "      <th>Pixel3_R</th>\n",
       "      <th>Pixel3_G</th>\n",
       "      <th>Pixel3_B</th>\n",
       "      <th>Pixel4_R</th>\n",
       "      <th>...</th>\n",
       "      <th>Pixel7_G</th>\n",
       "      <th>Pixel7_B</th>\n",
       "      <th>Pixel8_R</th>\n",
       "      <th>Pixel8_G</th>\n",
       "      <th>Pixel8_B</th>\n",
       "      <th>Pixel9_R</th>\n",
       "      <th>Pixel9_G</th>\n",
       "      <th>Pixel9_B</th>\n",
       "      <th>Classe Sirop</th>\n",
       "      <th>CategClasseSirop</th>\n",
       "    </tr>\n",
       "  </thead>\n",
       "  <tbody>\n",
       "    <tr>\n",
       "      <th>43</th>\n",
       "      <td>0.00</td>\n",
       "      <td>40.37</td>\n",
       "      <td>42.54</td>\n",
       "      <td>0.00</td>\n",
       "      <td>35.71</td>\n",
       "      <td>58.70</td>\n",
       "      <td>0.00</td>\n",
       "      <td>28.01</td>\n",
       "      <td>63.79</td>\n",
       "      <td>0.00</td>\n",
       "      <td>...</td>\n",
       "      <td>76.93</td>\n",
       "      <td>42.04</td>\n",
       "      <td>0.00</td>\n",
       "      <td>81.50</td>\n",
       "      <td>108.42</td>\n",
       "      <td>0.00</td>\n",
       "      <td>57.218731</td>\n",
       "      <td>86.109115</td>\n",
       "      <td>Très Foncé</td>\n",
       "      <td>4</td>\n",
       "    </tr>\n",
       "    <tr>\n",
       "      <th>78</th>\n",
       "      <td>24.37</td>\n",
       "      <td>82.80</td>\n",
       "      <td>94.98</td>\n",
       "      <td>5.33</td>\n",
       "      <td>54.21</td>\n",
       "      <td>62.36</td>\n",
       "      <td>15.01</td>\n",
       "      <td>14.77</td>\n",
       "      <td>38.13</td>\n",
       "      <td>33.23</td>\n",
       "      <td>...</td>\n",
       "      <td>21.84</td>\n",
       "      <td>106.02</td>\n",
       "      <td>46.91</td>\n",
       "      <td>9.80</td>\n",
       "      <td>66.44</td>\n",
       "      <td>0.00</td>\n",
       "      <td>48.756847</td>\n",
       "      <td>55.409751</td>\n",
       "      <td>Très Foncé</td>\n",
       "      <td>4</td>\n",
       "    </tr>\n",
       "    <tr>\n",
       "      <th>135</th>\n",
       "      <td>70.64</td>\n",
       "      <td>29.68</td>\n",
       "      <td>51.62</td>\n",
       "      <td>48.20</td>\n",
       "      <td>30.49</td>\n",
       "      <td>82.84</td>\n",
       "      <td>25.18</td>\n",
       "      <td>62.96</td>\n",
       "      <td>43.09</td>\n",
       "      <td>55.89</td>\n",
       "      <td>...</td>\n",
       "      <td>11.84</td>\n",
       "      <td>94.76</td>\n",
       "      <td>45.76</td>\n",
       "      <td>33.56</td>\n",
       "      <td>73.37</td>\n",
       "      <td>52.85</td>\n",
       "      <td>11.017551</td>\n",
       "      <td>93.506519</td>\n",
       "      <td>Très Foncé</td>\n",
       "      <td>4</td>\n",
       "    </tr>\n",
       "    <tr>\n",
       "      <th>217</th>\n",
       "      <td>0.00</td>\n",
       "      <td>46.01</td>\n",
       "      <td>113.77</td>\n",
       "      <td>0.00</td>\n",
       "      <td>66.36</td>\n",
       "      <td>108.71</td>\n",
       "      <td>0.00</td>\n",
       "      <td>43.95</td>\n",
       "      <td>88.86</td>\n",
       "      <td>0.00</td>\n",
       "      <td>...</td>\n",
       "      <td>86.93</td>\n",
       "      <td>56.93</td>\n",
       "      <td>0.00</td>\n",
       "      <td>52.72</td>\n",
       "      <td>104.91</td>\n",
       "      <td>0.00</td>\n",
       "      <td>81.710235</td>\n",
       "      <td>95.545879</td>\n",
       "      <td>Très Foncé</td>\n",
       "      <td>4</td>\n",
       "    </tr>\n",
       "    <tr>\n",
       "      <th>231</th>\n",
       "      <td>36.72</td>\n",
       "      <td>38.32</td>\n",
       "      <td>46.71</td>\n",
       "      <td>58.75</td>\n",
       "      <td>10.82</td>\n",
       "      <td>73.07</td>\n",
       "      <td>24.67</td>\n",
       "      <td>57.97</td>\n",
       "      <td>75.49</td>\n",
       "      <td>52.25</td>\n",
       "      <td>...</td>\n",
       "      <td>28.11</td>\n",
       "      <td>48.85</td>\n",
       "      <td>33.97</td>\n",
       "      <td>43.53</td>\n",
       "      <td>84.73</td>\n",
       "      <td>55.90</td>\n",
       "      <td>78.311758</td>\n",
       "      <td>82.872750</td>\n",
       "      <td>Très Foncé</td>\n",
       "      <td>4</td>\n",
       "    </tr>\n",
       "  </tbody>\n",
       "</table>\n",
       "<p>5 rows × 29 columns</p>\n",
       "</div>"
      ],
      "text/plain": [
       "     Pixel1_R  Pixel1_G  Pixel1_B  Pixel2_R  Pixel2_G  Pixel2_B  Pixel3_R  \\\n",
       "43       0.00     40.37     42.54      0.00     35.71     58.70      0.00   \n",
       "78      24.37     82.80     94.98      5.33     54.21     62.36     15.01   \n",
       "135     70.64     29.68     51.62     48.20     30.49     82.84     25.18   \n",
       "217      0.00     46.01    113.77      0.00     66.36    108.71      0.00   \n",
       "231     36.72     38.32     46.71     58.75     10.82     73.07     24.67   \n",
       "\n",
       "     Pixel3_G  Pixel3_B  Pixel4_R  ...  Pixel7_G  Pixel7_B  Pixel8_R  \\\n",
       "43      28.01     63.79      0.00  ...     76.93     42.04      0.00   \n",
       "78      14.77     38.13     33.23  ...     21.84    106.02     46.91   \n",
       "135     62.96     43.09     55.89  ...     11.84     94.76     45.76   \n",
       "217     43.95     88.86      0.00  ...     86.93     56.93      0.00   \n",
       "231     57.97     75.49     52.25  ...     28.11     48.85     33.97   \n",
       "\n",
       "     Pixel8_G  Pixel8_B  Pixel9_R   Pixel9_G   Pixel9_B  Classe Sirop  \\\n",
       "43      81.50    108.42      0.00  57.218731  86.109115    Très Foncé   \n",
       "78       9.80     66.44      0.00  48.756847  55.409751    Très Foncé   \n",
       "135     33.56     73.37     52.85  11.017551  93.506519    Très Foncé   \n",
       "217     52.72    104.91      0.00  81.710235  95.545879    Très Foncé   \n",
       "231     43.53     84.73     55.90  78.311758  82.872750    Très Foncé   \n",
       "\n",
       "     CategClasseSirop  \n",
       "43                  4  \n",
       "78                  4  \n",
       "135                 4  \n",
       "217                 4  \n",
       "231                 4  \n",
       "\n",
       "[5 rows x 29 columns]"
      ]
     },
     "execution_count": 10,
     "metadata": {},
     "output_type": "execute_result"
    }
   ],
   "source": [
    "dfPixel[dfPixel['CategClasseSirop']==4].head()"
   ]
  },
  {
   "cell_type": "raw",
   "id": "50be83d6-f85c-44d7-90fd-332bb0e42193",
   "metadata": {},
   "source": [
    "\\----------------------\\\n",
    "\n",
    "Séparation variables X e Y\n",
    "\n",
    "Y = CateClasseSirop\n",
    "X = Pixel\n",
    "\n",
    "\\-----------------------\\"
   ]
  },
  {
   "cell_type": "code",
   "execution_count": 11,
   "id": "73deca42-5b93-489e-88d8-02bfe23a745e",
   "metadata": {},
   "outputs": [],
   "source": [
    "nom_col_y = 'CategClasseSirop'\n",
    "dfX = dfPixel.select_dtypes(exclude='object').copy()\n",
    "dfX = dfX.drop(nom_col_y, axis=1)\n",
    "dfY = dfPixel[nom_col_y]\n",
    "#dfX.columns.values\n",
    "#dfPixel.dtypes"
   ]
  },
  {
   "cell_type": "raw",
   "id": "03bb2802-5a4e-4745-8872-2046f62c8cd2",
   "metadata": {},
   "source": [
    "\\----------------\\\n",
    "\n",
    "Classification\n",
    "\n",
    "\\----------------\\"
   ]
  },
  {
   "cell_type": "code",
   "execution_count": 47,
   "id": "4636d9c7-ab2c-41d5-b337-51e9d1c82929",
   "metadata": {},
   "outputs": [
    {
     "name": "stdout",
     "output_type": "stream",
     "text": [
      "[[ 76   0   7   0]\n",
      " [  4   1   0   0]\n",
      " [  6   0 213   1]\n",
      " [  0   0   2   9]]\n",
      "              precision    recall  f1-score   support\n",
      "\n",
      "       Ambré       0.88      0.92      0.90        83\n",
      "       Foncé       1.00      0.20      0.33         5\n",
      "  Très Foncé       0.96      0.97      0.96       220\n",
      "        Doré       0.90      0.82      0.86        11\n",
      "\n",
      "    accuracy                           0.94       319\n",
      "   macro avg       0.94      0.73      0.76       319\n",
      "weighted avg       0.94      0.94      0.93       319\n",
      "\n"
     ]
    }
   ],
   "source": [
    "#### KNN\n",
    "#### https://www.activestate.com/resources/quick-reads/how-to-classify-data-in-python/\n",
    "\n",
    "# Split dataset into random train and test subsets:\n",
    "X_train, X_test, y_train, y_test = train_test_split(dfX, dfY, test_size=0.20) \n",
    "\n",
    "# Standardize features by removing mean and scaling to unit variance:\n",
    "scaler = StandardScaler()\n",
    "scaler.fit(X_train)\n",
    "\n",
    "X_train = scaler.transform(X_train)\n",
    "X_test = scaler.transform(X_test) \n",
    "\n",
    "# Use the KNN classifier to fit data:\n",
    "classifier = KNeighborsClassifier(n_neighbors=5)\n",
    "classifier.fit(X_train, y_train) \n",
    "\n",
    "# Predict y data with classifier: \n",
    "y_predict = classifier.predict(X_test)\n",
    "\n",
    "# Print results: \n",
    "print(confusion_matrix(y_test, y_predict))\n",
    "print(classification_report(y_test, y_predict, target_names=dfPixel['Classe Sirop'].unique())) "
   ]
  },
  {
   "cell_type": "code",
   "execution_count": 35,
   "id": "3e917581-a23b-4cec-bd89-bb2f4fd83fa3",
   "metadata": {},
   "outputs": [],
   "source": [
    "#### Naive Bayes\n",
    "### https://www.activestate.com/resources/quick-reads/how-to-classify-data-in-python/\n",
    "\n",
    "# Organize data:\n",
    "label_names = dfPixel['Classe Sirop'].unique()\n",
    "labels = dfY\n",
    "feature_names = dfX.columns.values\n",
    "features = dfX"
   ]
  },
  {
   "cell_type": "code",
   "execution_count": 52,
   "id": "8b10f181-4e6a-4590-a744-7d81c934af5c",
   "metadata": {},
   "outputs": [
    {
     "name": "stdout",
     "output_type": "stream",
     "text": [
      "[3 3 1 4 1 3 4 3 3 3 1 3 3 1 3 3 3 3 2 3 3 3 3 3 3 3 3 3 1 1 1 1 1 3 4 3 4\n",
      " 3 4 1 3 1 3 3 1 2 1 1 3 1 3 3 1 3 3 1 1 3 3 3 3 3 1 3 3 1 1 1 3 1 3 3 3 1\n",
      " 3 3 1 1 1 3 1 3 3 3 4 3 1 3 1 1 3 3 3 4 3 3 1 4 3 3 2 1 3 3 1 3 3 3 2 3 3\n",
      " 3 4 3 1 3 1 3 3 3 1 3 3 1 3 3 1 1 1 4 3 3 3 3 3 3 3 3 3 1 1 1 3 3 1 3 4 3\n",
      " 3 3 1 3 3 1 3 3 3 3 4 1 1 1 1 3 3 1 3 3 3 1 3 3 3 3 3 3 4 3 3 3 3 3 3 1 3\n",
      " 3 3 3 3 1 1 1 3 3 1 3 3 3 1 3 3 3 3 3 1 3 3 3 4 1 3 3 4 1 1 3 3 3 3 3 3 1\n",
      " 1 3 1 3 3 4 3 1 1 3 3 3 1 1 3 3 4 1 3 3 1 1 1 3 1 3 1 3 1 4 3 3 3 3 3 3 3\n",
      " 3 1 3 3 3 3 3 1 1 3 3 3 1 3 3 3 3 3 1 3 3 3 1 1 3 4 3 3 3 1 3 1 1 3 1 3 3\n",
      " 1 2 3 3 3 3 3 1 1 1 3 3 3 3 3 1 1 3 1 1 3 3 3 1 4 1 3 1 1 1 1 3 3 1 3 1 3\n",
      " 3 1 3 3 3 1 3 3 1 3 1 3 1 1 1 1 3 4 3 3 3 3 1 1 1 1 3 1 3 1 1 1 3 3 3 3 3\n",
      " 3 3 3 3 1 1 3 3 3 1 3 1 1 3 3 3 1 3 3 1 1 3 4 3 1 3 4 1 3 1 3 3 4 3 1 3 3\n",
      " 4 3 3 1 4 3 3 3 1 3 3 3 1 3 4 2 1 3 1 3 3 3 3 3 1 3 1 3 1 3 1 1 4 1 3 3 3\n",
      " 3 4 3 3 3 3 3 4 3 1 3 4 1 3 3 3 3 1 3 3 3 3 1 3 3 3 3 1 3 3 1 1 1 3 3 3 3\n",
      " 1 3 3 3 1 3 3 3 3 3 3 3 3 3 3 1 1 3 3 1 3 4 1 3 4 3 1 4 3 1 3 4 1 1 3 3 1\n",
      " 3 3 3 1 3 4 3 1 1]\n",
      "0.9259962049335864\n",
      "0.9053750368405541\n"
     ]
    }
   ],
   "source": [
    "# Split dataset into random train and test subsets:\n",
    "train, test, train_labels, test_labels = train_test_split(features, labels, test_size=0.33, random_state=42)\n",
    "\n",
    "# Initialize classifier:\n",
    "gnb = GaussianNB()\n",
    "\n",
    "# Train the classifier:\n",
    "model = gnb.fit(train, train_labels)\n",
    "# Make predictions with the classifier:\n",
    "predictive_labels = gnb.predict(test)\n",
    "print(predictive_labels)\n",
    "\n",
    "# Evaluate label (subsets) accuracy:\n",
    "print(accuracy_score(test_labels, predictive_labels))\n",
    "print(balanced_accuracy_score(test_labels, predictive_labels))"
   ]
  },
  {
   "cell_type": "code",
   "execution_count": 49,
   "id": "97b4411e-56e5-48c5-9440-034dff84152e",
   "metadata": {},
   "outputs": [
    {
     "name": "stdout",
     "output_type": "stream",
     "text": [
      "sklearn.metrics._classification\n"
     ]
    }
   ],
   "source": [
    "print(accuracy_score.__module__)"
   ]
  },
  {
   "cell_type": "code",
   "execution_count": 75,
   "id": "f63429fb-2fef-440b-9f96-0c99b713a0d9",
   "metadata": {},
   "outputs": [],
   "source": [
    "## https://www.youtube.com/watch?v=8gLewErTU24\n",
    "def plot_confusion_matrix( pY_true, pY_pred):\n",
    "    #labels = unique_labels(y_test)\n",
    "    labels = dfPixel['Classe Sirop'].unique()\n",
    "    cols = [f'Predictted{label}' for label in labels]\n",
    "    rows = [f'Actual{label}' for label in labels]\n",
    "    table = pd.DataFrame(confusion_matrix(pY_true, pY_pred)\n",
    "                         , columns=cols, index=rows)\n",
    "    print(table)\n",
    "    sns.heatmap(table, annot=True, fmt=\".2f\", cmap='viridis')\n",
    "    #return table"
   ]
  },
  {
   "cell_type": "code",
   "execution_count": 78,
   "id": "6f01028d-4b6f-407a-b91a-80b938ee2e92",
   "metadata": {},
   "outputs": [
    {
     "name": "stdout",
     "output_type": "stream",
     "text": [
      "                  PredicttedAmbré  PredicttedFoncé  PredicttedTrès Foncé  \\\n",
      "ActualAmbré                    76                0                     7   \n",
      "ActualFoncé                     4                1                     0   \n",
      "ActualTrès Foncé                6                0                   213   \n",
      "ActualDoré                      0                0                     2   \n",
      "\n",
      "                  PredicttedDoré  \n",
      "ActualAmbré                    0  \n",
      "ActualFoncé                    0  \n",
      "ActualTrès Foncé               1  \n",
      "ActualDoré                     9  \n"
     ]
    }
   ],
   "source": [
    "plot_confusion_matrix(y_test, y_predict )"
   ]
  },
  {
   "cell_type": "code",
   "execution_count": null,
   "id": "599fcadb-5a48-4f48-98b5-195a3523bb72",
   "metadata": {},
   "outputs": [],
   "source": []
  }
 ],
 "metadata": {
  "kernelspec": {
   "display_name": "Python 3 (ipykernel)",
   "language": "python",
   "name": "python3"
  },
  "language_info": {
   "codemirror_mode": {
    "name": "ipython",
    "version": 3
   },
   "file_extension": ".py",
   "mimetype": "text/x-python",
   "name": "python",
   "nbconvert_exporter": "python",
   "pygments_lexer": "ipython3",
   "version": "3.11.0"
  }
 },
 "nbformat": 4,
 "nbformat_minor": 5
}
