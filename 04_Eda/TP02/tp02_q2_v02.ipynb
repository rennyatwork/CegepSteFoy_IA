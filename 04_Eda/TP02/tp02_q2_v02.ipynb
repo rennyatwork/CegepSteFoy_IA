{
 "cells": [
  {
   "cell_type": "raw",
   "id": "9e89ce13-c57e-4ec9-8724-592cd67083ae",
   "metadata": {},
   "source": [
    "\\-------------\\\n",
    "Question 2 : Variations de la transmittance et du contenu en sucre de la sève\n",
    "d’une année à l’autre\n",
    "En discutant avec le propriétaire, il vous mentionne qu’il a observé beaucoup de\n",
    "variations d’une année à l’autre, dont notamment pour le contenu en sucre de la sève et\n",
    "la transmittance du sirop. Il donne comme exemples les années 2014, 2015 et 2016.\n",
    "Q2.1 : Faites deux tests d’hypothèse (un pour le sucre de la sève, l’autre pour la\n",
    "transmittance du sirop), à savoir s’il y une différence significative entre les moyennes\n",
    "pour ces 3 années.\n",
    "Q2.2 : S’il y a une différence significative, comparez, pour chaque variable, les deux\n",
    "moyennes avec le plus d’écart (test d’hypothèse pour comparer 2 moyennes).\n",
    "--------------------\n",
    "\n",
    "Vars: 'Transmittance produit (%)' et 'Sucre sève (%)'\n",
    "\n",
    "Y-at-il une variance significative entre les années 2014-2016?\n",
    "Puisque ces années auraient été particulièrement \"différent\", on va les comparer avec les moyennes\n",
    "des autres années\n",
    "\n",
    "Obtenir la moyenne pour les année 2014 à 2016 e comparer les résultats\n",
    "\n",
    "\\---------------\\"
   ]
  },
  {
   "cell_type": "code",
   "execution_count": 33,
   "id": "66db1f18-1550-4e23-bda8-1f27d65e4ffe",
   "metadata": {},
   "outputs": [],
   "source": [
    "import pandas as pd\n",
    "import numpy as np\n",
    "import pandas as pd\n",
    "import matplotlib.pyplot as plt\n",
    "import os\n",
    "import statsmodels.api as stm\n",
    "import seaborn as sns\n",
    "%matplotlib qt5"
   ]
  },
  {
   "cell_type": "code",
   "execution_count": 34,
   "id": "c612fc50-3145-4902-80f4-fe9adef4f13a",
   "metadata": {},
   "outputs": [
    {
     "name": "stdout",
     "output_type": "stream",
     "text": [
      "/home/hadoop/Git_Ia/CegepSteFoy_IA/04_Eda/TP02\n"
     ]
    },
    {
     "data": {
      "text/plain": [
       "str"
      ]
     },
     "execution_count": 34,
     "metadata": {},
     "output_type": "execute_result"
    }
   ],
   "source": [
    "print (os.getcwd())\n",
    "currDir = os.getcwd()\n",
    "fullPath = currDir + \"/CabaneASucrev0r3.csv\"\n",
    "type(currDir)"
   ]
  },
  {
   "cell_type": "code",
   "execution_count": 35,
   "id": "8cbaf7e8-74d3-4c30-9741-7afb8b9562d4",
   "metadata": {},
   "outputs": [],
   "source": [
    "###### DataPrep\n",
    "### lire, fill les nulls\n",
    "donnee = pd.read_csv(fullPath)\n",
    "donnee.fillna(method='bfill', inplace=True)\n",
    "\n",
    "## supprimer los colonnes pixels\n",
    "dfSansPixel = donnee.drop(donnee.filter(like='Pixel').columns, axis=1)\n",
    "\n",
    "## créer un df numérique\n",
    "dfNumerique = dfSansPixel.select_dtypes(exclude='object').copy()\n",
    "dfNumerique.describe().apply(lambda x: round(x, 2))\n",
    "\n",
    "## convertir classe sirop en numérique\n",
    "colsCategSirop = pd.get_dummies(dfSansPixel['Classe Sirop'], prefix='categSirop_', drop_first=True)\n",
    "\n",
    "## concatenate side by side\n",
    "dfNumerique = pd.concat([dfNumerique, colsCategSirop], axis=1)\n",
    "\n",
    "## enelever les données où débit nul de sève\n",
    "dfNumerique = dfNumerique.loc[dfNumerique['Débit sève (L/j)'] !=0]"
   ]
  },
  {
   "cell_type": "code",
   "execution_count": 36,
   "id": "59a08407-f693-4d31-827f-e258974deb63",
   "metadata": {},
   "outputs": [],
   "source": [
    "### Séparation colonnes X et Y\n",
    "\n",
    "\n",
    "### liste de variables (colonnes) dépendantes\n",
    "list_cols_dependennt_vars = []\n",
    "col_debit_seve = dfSansPixel['Débit sève (L/j)'].name\n",
    "col_sucre_dans_seve = dfSansPixel['Sucre sève (%)'].name\n",
    "col_pct_transmittance = dfSansPixel['Transmittance produit (%)'].name\n",
    "col_productivite_seve_par_saison = dfSansPixel['Production moyenne par entaille (L)'].name\n",
    "list_cols_dependennt_vars = [col_debit_seve, col_sucre_dans_seve, col_pct_transmittance, col_productivite_seve_par_saison]\n",
    "\n",
    "\n",
    "## seulement les variables X\n",
    "dfNumerique_X_cols = dfNumerique.loc[:, ~dfNumerique.columns.isin(list_cols_dependennt_vars)].copy()\n",
    "\n",
    "lstColTemp = ['Temp max.(°C)', 'Temp min.(°C)']\n",
    "dfNumerique_X_cols = dfNumerique_X_cols.loc[:,~dfNumerique_X_cols.columns.isin(lstColTemp) ].copy()\n",
    "\n",
    "## seulement les variables Y\n",
    "dfNumerique_Y_cols = dfNumerique.loc[:, dfNumerique.columns.isin(list_cols_dependennt_vars)].copy()\n",
    "\n",
    "\n",
    "#### Après coup, on a appris que ces 2 variables causaient un prob de haute colinéarité.\n",
    "#### et si on les enlève plus tôt?\n",
    "\n",
    "lstColsExlude = ['Précip. Tot. Hiver (mm)', 'Temp moy.(°C)']\n",
    "dfNumerique_X_cols = dfNumerique_X_cols.loc[:, ~dfNumerique_X_cols.columns.isin([col for col in lstColsExlude])]\n",
    "\n"
   ]
  },
  {
   "cell_type": "code",
   "execution_count": 37,
   "id": "e649aa54-926b-49b9-8535-f9a7842b18ec",
   "metadata": {},
   "outputs": [],
   "source": [
    "### obtenir moyenne d'une colonne\n",
    "def getMeanListExclusions(pColName, pData=dfNumerique, pListeExclusion=[2014, 2015, 2016]):\n",
    "    return pData[pColName][~pData['Année'].isin(pListeExclusion)].mean()"
   ]
  },
  {
   "cell_type": "code",
   "execution_count": 38,
   "id": "d21c8538-6304-4171-a565-e88ad0b2d2e4",
   "metadata": {},
   "outputs": [],
   "source": [
    "### obtenir moyenne d'une colonne\n",
    "def getMeanListInclusions(pColName, pAnnee, pData=dfNumerique ):\n",
    "    return pData[pColName][pData['Année'] == pAnnee].mean()"
   ]
  },
  {
   "cell_type": "code",
   "execution_count": 39,
   "id": "00be5793-38bc-4e36-867c-7c5788e7d87b",
   "metadata": {},
   "outputs": [],
   "source": [
    "#moyenne_transmit_toutes_annees = dfNumerique['Transmittance produit (%)'].mean()\n",
    "moyenne_transmit_toutes_annees = getMeanListExclusions('Transmittance produit (%)')\n",
    "moyenne_sucre_toutes_annees = getMeanListExclusions('Sucre sève (%)')"
   ]
  },
  {
   "cell_type": "code",
   "execution_count": 40,
   "id": "558af675-0ed0-4972-aebe-9dd606772d68",
   "metadata": {},
   "outputs": [
    {
     "data": {
      "text/plain": [
       "43.60843108504399"
      ]
     },
     "execution_count": 40,
     "metadata": {},
     "output_type": "execute_result"
    }
   ],
   "source": [
    "moyenne_transmit_toutes_annees"
   ]
  },
  {
   "cell_type": "code",
   "execution_count": 41,
   "id": "f9fe8c91-1b3e-48f0-9c75-88adb00dbcd4",
   "metadata": {},
   "outputs": [
    {
     "data": {
      "text/plain": [
       "2.433225806451613"
      ]
     },
     "execution_count": 41,
     "metadata": {},
     "output_type": "execute_result"
    }
   ],
   "source": [
    "moyenne_sucre_toutes_annees"
   ]
  },
  {
   "cell_type": "raw",
   "id": "5648d1d7-0f36-401c-b52e-9392e433496f",
   "metadata": {},
   "source": [
    "----------------\\\n",
    "\n",
    "Quelles sont les moyennes pour les années de 2014 à 2016?\n",
    "\n",
    "----------------\\"
   ]
  },
  {
   "cell_type": "code",
   "execution_count": 42,
   "id": "75d5bf90-5977-4bbc-ba67-1cf7fa8e400f",
   "metadata": {},
   "outputs": [],
   "source": [
    "### for these dictionnaries, key = year [2014-2016]\n",
    "lstAnnees = [2014, 2015, 2016]\n",
    "dictAnneeTransmittance = {}\n",
    "dictAnneeSucre = {}\n",
    "for annee in lstAnnees:    \n",
    "    dictAnneeTransmittance.update({annee: getMeanListInclusions('Transmittance produit (%)', annee)})\n",
    "    dictAnneeSucre.update({annee: getMeanListInclusions('Sucre sève (%)', annee)})"
   ]
  },
  {
   "cell_type": "code",
   "execution_count": 43,
   "id": "cab348bc-7e9b-42ce-b788-3e5d4a77166a",
   "metadata": {},
   "outputs": [],
   "source": [
    "### Imnprime la différence entre la moyenne historique (excluant 2014-2016) versus [2014-2016]\n",
    "def compare_means(pMean1, pMean2, pAnnee, pCol):\n",
    "    diff = pMean1 - pMean2\n",
    "    print(\"-----\")\n",
    "    print(\"Différence entre moyennes pour \", pCol)\n",
    "    print(\"moyenne historique: \", pMean1)\n",
    "    print(\"moyenne \", pAnnee)\n",
    "    print(\"Différence absolue: \", abs(diff))\n",
    "    print(\"Différence %: \", abs(100*(diff/pMean1)))\n",
    "    "
   ]
  },
  {
   "cell_type": "code",
   "execution_count": 44,
   "id": "b9220098-528d-47be-b322-c2c23c560ef6",
   "metadata": {},
   "outputs": [
    {
     "name": "stdout",
     "output_type": "stream",
     "text": [
      "-----\n",
      "Différence entre moyennes pour  Transmittance produit (%)\n",
      "moyenne historique:  43.60843108504399\n",
      "moyenne  2014\n",
      "Différence absolue:  0.8062880160796055\n",
      "Différence %:  1.8489269070634629\n",
      "-----\n",
      "Différence entre moyennes pour  Transmittance produit (%)\n",
      "moyenne historique:  43.60843108504399\n",
      "moyenne  2015\n",
      "Différence absolue:  3.311315700428608\n",
      "Différence %:  7.5932924391867465\n",
      "-----\n",
      "Différence entre moyennes pour  Transmittance produit (%)\n",
      "moyenne historique:  43.60843108504399\n",
      "moyenne  2016\n",
      "Différence absolue:  0.6851244705115676\n",
      "Différence %:  1.5710825944998026\n"
     ]
    }
   ],
   "source": [
    "### Transmittance\n",
    "for key in dictAnneeTransmittance.keys():\n",
    "    compare_means(moyenne_transmit_toutes_annees, dictAnneeTransmittance.get(key), key, 'Transmittance produit (%)')"
   ]
  },
  {
   "cell_type": "code",
   "execution_count": 45,
   "id": "6211e1bf-738b-49ce-a419-f248771cd8ae",
   "metadata": {},
   "outputs": [
    {
     "name": "stdout",
     "output_type": "stream",
     "text": [
      "-----\n",
      "Différence entre moyennes pour  Sucre sève (%)\n",
      "moyenne historique:  2.433225806451613\n",
      "moyenne  2014\n",
      "Différence absolue:  0.2832258064516129\n",
      "Différence %:  11.639931061911705\n",
      "-----\n",
      "Différence entre moyennes pour  Sucre sève (%)\n",
      "moyenne historique:  2.433225806451613\n",
      "moyenne  2015\n",
      "Différence absolue:  0.34841811414392065\n",
      "Différence %:  14.319185388388625\n",
      "-----\n",
      "Différence entre moyennes pour  Sucre sève (%)\n",
      "moyenne historique:  2.433225806451613\n",
      "moyenne  2016\n",
      "Différence absolue:  0.20099641577060945\n",
      "Différence %:  8.260491699441726\n"
     ]
    }
   ],
   "source": [
    "### Transmittance\n",
    "for key in dictAnneeSucre.keys():\n",
    "    compare_means(moyenne_sucre_toutes_annees, dictAnneeSucre.get(key), key, 'Sucre sève (%)')"
   ]
  },
  {
   "cell_type": "raw",
   "id": "23cf13fb-9ab3-4109-8b37-1e05a2fdaeea",
   "metadata": {},
   "source": [
    "\\--------------------\\\n",
    "Pour chaque variable ('Sucre sève (%)' et 'Transmittance produit (%)') on a la moyenne historique\n",
    "excluant les années [2014-2016] versus chaque année entre 2014 et 2016 (les années d'exception)\n",
    "\n",
    "Est-ce que la différence entre la moyenne historique (baseline) et la moyenne de chaque année [2014-2016] est plug garnde que le hazard peut expliquer? Si oui, on rejette l'hypothèse nulle.\n",
    "(Practical Statiscs for Data Science, pg 95)\n",
    "\n",
    "Dans notre cas:\n",
    "\n",
    "- Population: dfNumerique\n",
    "- Hypothèse null: oyenne historique = moyenne [2014-2016]\n",
    "- Hypothèse alternative: moyenne historique != moyenne [2014-2016]\n",
    "\n",
    "On va se servir de la fonction suivante pour le test d'hypothèse. \n",
    "Dans la fonction stm.stats.ztest, on a utilisé le paramèter alternative='two-sided' parce que\n",
    "la variation pourrait être 'anormalement' plus grande ou plus petite.\n",
    "\\-------------------------\\"
   ]
  },
  {
   "cell_type": "code",
   "execution_count": 46,
   "id": "18f7634f-59ca-482c-8eb8-42e4740d880d",
   "metadata": {},
   "outputs": [],
   "source": [
    "## https://towardsdatascience.com/demystifying-hypothesis-testing-with-simple-python-examples-4997ad3c5294\n",
    "def print_analyse_hypothese(pColYName, pMoyenneHistoriqueY, pDict, pDf=dfNumerique, pConf=0.05):\n",
    "    ## Transmittance produit (%)\n",
    "    n =len(pDf)\n",
    "    pnull = pMoyenneHistoriqueY ##0.43732148760330574 #moyenne hystorique\n",
    "    ### Transmittance\n",
    "    print(\"==================================\")\n",
    "    print(\"var [pColYName]: \", pColYName)\n",
    "    for key in pDict.keys():\n",
    "        phat = pDict.get(key) #moyenne de l'année\n",
    "        print(\"-------------------\")\n",
    "        print(\"année = \", key)\n",
    "        print(\"n = \", n)\n",
    "        print(\"moyenne historique [pnull] = \", pnull)\n",
    "        print(\"moyenne de l'année [phat] = \", phat)\n",
    "        #sm.stats.proportions_ztest(phat * n, n, pnull, alternative='larger')\n",
    "        zstat, p_value = stm.stats.ztest(pDf[pColYName][pDf['Année']==key], value = pnull ,alternative='two-sided')        \n",
    "        #zstat, p_value = stm.stats.proportions_ztest( nobs=n, pnull,  alternative='two-sided')\n",
    "        print(\"zstat: \", zstat)\n",
    "        print(\"p_value: \", p_value)\n",
    "        print(\"h0: moyenne historique = moyenne [2014-2016]\")\n",
    "        print(\"h1: moyenne historique != moyenne [2014-2016]\")\n",
    "        if (p_value < pConf):\n",
    "            print(\"p_value < confidence --> on REJÈTE l'hypothèse null \")\n",
    "        else:\n",
    "            print(\"p_value > confidence --> on accèpete l'hypothèse null\")"
   ]
  },
  {
   "cell_type": "code",
   "execution_count": 47,
   "id": "9c35208e-6469-4091-b9c9-21ac6e7ab031",
   "metadata": {},
   "outputs": [
    {
     "name": "stdout",
     "output_type": "stream",
     "text": [
      "==================================\n",
      "var [pColYName]:  Transmittance produit (%)\n",
      "-------------------\n",
      "année =  2014\n",
      "n =  1595\n",
      "moyenne historique [pnull] =  43.60843108504399\n",
      "moyenne de l'année [phat] =  44.414719101123595\n",
      "zstat:  0.6790896790540749\n",
      "p_value:  0.4970810415765258\n",
      "h0: moyenne historique = moyenne [2014-2016]\n",
      "h1: moyenne historique != moyenne [2014-2016]\n",
      "p_value > confidence --> on accèpete l'hypothèse null\n",
      "-------------------\n",
      "année =  2015\n",
      "n =  1595\n",
      "moyenne historique [pnull] =  43.60843108504399\n",
      "moyenne de l'année [phat] =  40.29711538461538\n",
      "zstat:  -2.265067078870803\n",
      "p_value:  0.023508563484969776\n",
      "h0: moyenne historique = moyenne [2014-2016]\n",
      "h1: moyenne historique != moyenne [2014-2016]\n",
      "p_value < confidence --> on REJÈTE l'hypothèse null \n",
      "-------------------\n",
      "année =  2016\n",
      "n =  1595\n",
      "moyenne historique [pnull] =  43.60843108504399\n",
      "moyenne de l'année [phat] =  44.29355555555556\n",
      "zstat:  0.5539613071818064\n",
      "p_value:  0.5796053264135708\n",
      "h0: moyenne historique = moyenne [2014-2016]\n",
      "h1: moyenne historique != moyenne [2014-2016]\n",
      "p_value > confidence --> on accèpete l'hypothèse null\n",
      "==================================\n",
      "var [pColYName]:  Sucre sève (%)\n",
      "-------------------\n",
      "année =  2014\n",
      "n =  1595\n",
      "moyenne historique [pnull] =  2.433225806451613\n",
      "moyenne de l'année [phat] =  2.15\n",
      "zstat:  -9.40848117705088\n",
      "p_value:  5.03357600402632e-21\n",
      "h0: moyenne historique = moyenne [2014-2016]\n",
      "h1: moyenne historique != moyenne [2014-2016]\n",
      "p_value < confidence --> on REJÈTE l'hypothèse null \n",
      "-------------------\n",
      "année =  2015\n",
      "n =  1595\n",
      "moyenne historique [pnull] =  2.433225806451613\n",
      "moyenne de l'année [phat] =  2.084807692307692\n",
      "zstat:  -8.308671423623341\n",
      "p_value:  9.677949165767568e-17\n",
      "h0: moyenne historique = moyenne [2014-2016]\n",
      "h1: moyenne historique != moyenne [2014-2016]\n",
      "p_value < confidence --> on REJÈTE l'hypothèse null \n",
      "-------------------\n",
      "année =  2016\n",
      "n =  1595\n",
      "moyenne historique [pnull] =  2.433225806451613\n",
      "moyenne de l'année [phat] =  2.6342222222222222\n",
      "zstat:  4.879899666566796\n",
      "p_value:  1.0613982406594102e-06\n",
      "h0: moyenne historique = moyenne [2014-2016]\n",
      "h1: moyenne historique != moyenne [2014-2016]\n",
      "p_value < confidence --> on REJÈTE l'hypothèse null \n"
     ]
    }
   ],
   "source": [
    "### On appelle la foction avec chacune de variables pour obtenir l'analyse\n",
    "\n",
    "print_analyse_hypothese('Transmittance produit (%)', moyenne_transmit_toutes_annees, dictAnneeTransmittance)\n",
    "print_analyse_hypothese('Sucre sève (%)', moyenne_sucre_toutes_annees, dictAnneeSucre)"
   ]
  },
  {
   "cell_type": "raw",
   "id": "f2adc23f-dd76-4969-b094-5e52772eb6b6",
   "metadata": {},
   "source": [
    "##########\n",
    "RÉPONSES Q2:\n",
    "\n",
    "- Pour la variable Transmittance produit (%), l'hypothèse null et rejettée seulement dans l'année 2015\n",
    "- Pour la variable 'Sucre sève (%)' l'hypothèse nule est rejettée dans toutes les années\n",
    "\n",
    "Conclusion: \n",
    "- l'intuition du propriétaire a été confirmé pour la variable 'Sucre sève (%)' dans toutes les années entre 2014 et 2016  \n",
    "- l'intuition du propriétaire a été confirmé seulement dans l'année 2015 pour la variable 'Transmittance produit (%)'\n",
    "############"
   ]
  },
  {
   "cell_type": "code",
   "execution_count": 48,
   "id": "3f9ac9ae-4399-481f-96f9-8a7219bf8c7d",
   "metadata": {},
   "outputs": [
    {
     "data": {
      "text/plain": [
       "<AxesSubplot: xlabel='Année', ylabel='Transmittance produit (%)'>"
      ]
     },
     "execution_count": 48,
     "metadata": {},
     "output_type": "execute_result"
    }
   ],
   "source": [
    "sns.scatterplot(data = dfNumerique\n",
    "                , x = dfNumerique['Année']\n",
    "                , y = dfNumerique['Transmittance produit (%)']\n",
    "           )"
   ]
  },
  {
   "cell_type": "code",
   "execution_count": 49,
   "id": "c77e7f92-70fd-4728-a683-3cccf02f2a30",
   "metadata": {},
   "outputs": [
    {
     "data": {
      "text/plain": [
       "<seaborn.axisgrid.FacetGrid at 0x7fb4c6386350>"
      ]
     },
     "execution_count": 49,
     "metadata": {},
     "output_type": "execute_result"
    }
   ],
   "source": [
    "sns.relplot(data = dfNumerique, x=\"Année\", y=\"Transmittance produit (%)\", hue=\"Année\")"
   ]
  },
  {
   "cell_type": "code",
   "execution_count": 50,
   "id": "4ff2a79a-464a-488f-9998-33c57d5e1123",
   "metadata": {},
   "outputs": [
    {
     "data": {
      "text/plain": [
       "<AxesSubplot: xlabel='Année', ylabel='Transmittance produit (%)'>"
      ]
     },
     "execution_count": 50,
     "metadata": {},
     "output_type": "execute_result"
    }
   ],
   "source": [
    "sns.boxenplot(data = dfNumerique, x=\"Année\", y=\"Transmittance produit (%)\")"
   ]
  },
  {
   "cell_type": "code",
   "execution_count": 51,
   "id": "5b8c8f4d-6be6-4e49-9ea3-e1b7d9e344e2",
   "metadata": {},
   "outputs": [
    {
     "data": {
      "text/plain": [
       "<AxesSubplot: xlabel='Année', ylabel='Sucre sève (%)'>"
      ]
     },
     "execution_count": 51,
     "metadata": {},
     "output_type": "execute_result"
    }
   ],
   "source": [
    "sns.boxenplot(data = dfNumerique, x=\"Année\", y=\"Sucre sève (%)\")"
   ]
  },
  {
   "cell_type": "code",
   "execution_count": null,
   "id": "6859701c-1d33-436b-a281-7e89053c4324",
   "metadata": {},
   "outputs": [],
   "source": []
  }
 ],
 "metadata": {
  "kernelspec": {
   "display_name": "Python 3 (ipykernel)",
   "language": "python",
   "name": "python3"
  },
  "language_info": {
   "codemirror_mode": {
    "name": "ipython",
    "version": 3
   },
   "file_extension": ".py",
   "mimetype": "text/x-python",
   "name": "python",
   "nbconvert_exporter": "python",
   "pygments_lexer": "ipython3",
   "version": "3.11.0"
  }
 },
 "nbformat": 4,
 "nbformat_minor": 5
}
