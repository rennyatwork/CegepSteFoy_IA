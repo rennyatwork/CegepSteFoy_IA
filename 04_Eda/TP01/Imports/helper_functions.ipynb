{
 "cells": [
  {
   "cell_type": "code",
   "execution_count": null,
   "metadata": {},
   "outputs": [],
   "source": [
    "%matplotlib inline\n",
    "#%seaborn inline\n",
    "import numpy as np\n",
    "import pandas as pd\n",
    "import matplotlib.pyplot as plt\n",
    "import random\n",
    "import seaborn as sn"
   ]
  },
  {
   "cell_type": "code",
   "execution_count": 1,
   "metadata": {},
   "outputs": [],
   "source": [
    "## function to print rows containing nulls\n",
    "def helper_print_rows_null(pDf):\n",
    "    print(\"only print rows containing at least one null field\")\n",
    "    for i in(range(len(pDf.index))):\n",
    "        countNull = pDf.iloc[i].isnull().sum()\n",
    "        if (countNull >0):\n",
    "            print(\"Total Nan in row \", i+1, \":\", countNull)"
   ]
  },
  {
   "cell_type": "code",
   "execution_count": 5,
   "metadata": {},
   "outputs": [],
   "source": [
    "## plot diagrams according to oper. Default = histplot\n",
    "## pDf = dataFrame\n",
    "##\n",
    "def helper_univariate_oper(pDf, pListCols, pOper='histplot'):\n",
    "    print(\"Generating histograms for every variable in the dataframe\")    \n",
    "    i=0\n",
    "    for col in (pListCols):\n",
    "        colName  = str(col)\n",
    "        print(\"[colName]: \", colName)\n",
    "        #print(\"dir([colName]): \", dir(colName))\n",
    "        \n",
    "        plt.figure(i)\n",
    "        if(pOper.strip().lower() == 'histplot'):\n",
    "            sn.histplot(pDf[colName])\n",
    "        elif (pOper.strip().lower() == 'boxplot'):\n",
    "            sn.boxplot(pDf[colName])\n",
    "        elif (pOper.strip().lower() == 'violinplot'):\n",
    "            sn.violinplot(pDf[colName])\n",
    "        else:\n",
    "            sn.histplot(pDf[colName])\n",
    "        i+=1        "
   ]
  },
  {
   "cell_type": "code",
   "execution_count": null,
   "metadata": {},
   "outputs": [],
   "source": [
    "## funciton univariate analysis\n",
    "def helper_univariate_histogram_plot(pDf):\n",
    "    print(\"Generating histograms for every variable in the dataframe\")\n",
    "    i=0\n",
    "    for col in (pDf.columns):\n",
    "        colName  = col\n",
    "        print(\"[colName]: \", colName)\n",
    "        #print(pDf[colName])\n",
    "        plt.figure(i)\n",
    "        sn.histplot(pDf[colName])\n",
    "        i+=1\n",
    "        if(i==5):\n",
    "            break\n",
    "        #print(\"[colType]: \", str(colType))"
   ]
  },
  {
   "cell_type": "code",
   "execution_count": null,
   "metadata": {},
   "outputs": [],
   "source": [
    "## funciton univariate analysis\n",
    "## Generates plot for each column in listCols\n",
    "def helper_univariate_histogram_plot(pDf, listCols):\n",
    "    print(\"Generating histograms for every variable in the dataframe\")    \n",
    "    for col in (listCols):\n",
    "        colName  = col\n",
    "        print(\"[colName]: \", colName)\n",
    "        #print(pDf[colName])\n",
    "        plt.figure(i)\n",
    "        sn.histplot(pDf[colName])"
   ]
  },
  {
   "cell_type": "code",
   "execution_count": null,
   "metadata": {},
   "outputs": [],
   "source": [
    "dfSimul = "
   ]
  }
 ],
 "metadata": {
  "kernelspec": {
   "display_name": "Python 3",
   "language": "python",
   "name": "python3"
  },
  "language_info": {
   "codemirror_mode": {
    "name": "ipython",
    "version": 3
   },
   "file_extension": ".py",
   "mimetype": "text/x-python",
   "name": "python",
   "nbconvert_exporter": "python",
   "pygments_lexer": "ipython3",
   "version": "3.8.10"
  },
  "vscode": {
   "interpreter": {
    "hash": "31f2aee4e71d21fbe5cf8b01ff0e069b9275f58929596ceb00d14d90e3e16cd6"
   }
  }
 },
 "nbformat": 4,
 "nbformat_minor": 4
}
