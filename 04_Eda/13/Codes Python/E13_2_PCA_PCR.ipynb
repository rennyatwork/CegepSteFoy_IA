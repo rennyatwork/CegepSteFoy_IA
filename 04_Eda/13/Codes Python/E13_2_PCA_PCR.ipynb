{
 "cells": [
  {
   "cell_type": "code",
   "execution_count": 1,
   "metadata": {},
   "outputs": [
    {
     "name": "stderr",
     "output_type": "stream",
     "text": [
      "/tmp/ipykernel_174813/2332154582.py:22: FutureWarning: In a future version of pandas all arguments of DataFrame.drop except for the argument 'labels' will be keyword-only.\n",
      "  X=donnee.drop({'Espèces','Poids (g)'}, 1)\n"
     ]
    }
   ],
   "source": [
    "# -*- coding: utf-8 -*-\n",
    "\"\"\"\n",
    "Created on Tue Apr 13 22:12:54 2021\n",
    "\n",
    "@author: pmarc\n",
    "\"\"\"\n",
    "\n",
    "import numpy as np\n",
    "import pandas as pd\n",
    "import matplotlib.pyplot as plt\n",
    "from sklearn.linear_model import LinearRegression\n",
    "from sklearn import metrics as mt\n",
    "import statsmodels.api as sm\n",
    "import scipy.stats as sts\n",
    "import math\n",
    "\n",
    "donnee = pd.read_csv('../Fichiers/Poissonsv0r2.csv')\n",
    "stats=donnee.describe()\n",
    "dimensions=donnee.shape\n",
    "nomsvariables = pd.DataFrame(donnee.columns)\n",
    "\n",
    "X=donnee.drop({'Espèces','Poids (g)'}, 1)\n",
    "Y=donnee['Poids (g)']\n",
    "Yclass=donnee['Espèces']\n"
   ]
  },
  {
   "cell_type": "code",
   "execution_count": null,
   "metadata": {},
   "outputs": [],
   "source": [
    "\n",
    "\"Ronde 1\"\n",
    "modele=sm.OLS(Y,X.assign(const=1))\n",
    "resultats=modele.fit()\n",
    "Y_chap = resultats.predict(X.assign(const=1))\n",
    "resultats.summary()\n",
    "\n",
    "\"Ronde 2\"\n",
    "X2=X.drop({'Longueur 2 (cm)','Épaisseur (cm)'}, 1)\n",
    "modele=sm.OLS(Y,X2.assign(const=1))\n",
    "resultats=modele.fit()\n",
    "Y_chap = resultats.predict(X2.assign(const=1))\n",
    "resultats.summary()\n"
   ]
  },
  {
   "cell_type": "code",
   "execution_count": null,
   "metadata": {},
   "outputs": [],
   "source": [
    "\n",
    "\"%%%%%%%%%%%%%%%%%%%%%%%%%%%%%%%%%%%%%%%%%%%%%%%%%%%%%%%%%%%%%%%%%%%\"\n",
    "\"PCA\"\n",
    "\n",
    "from scipy import linalg\n",
    "X_mean=X.mean()\n",
    "X_std=X.std()\n",
    "X_cent=X-X.mean().T\n",
    "Lambdas,PT =linalg.eig(np.dot(X_cent.T,X_cent))\n",
    "P=PT.T\n",
    "VarianceCapturee=np.real(Lambdas/(Lambdas.sum()))\n",
    "\n",
    "P1=P[0,:].reshape(1,-1)\n",
    "P2=P[1,:].reshape(1,-1)\n",
    "T=np.dot(X_cent,P.T)\n",
    "T1_test=np.dot(X_cent,P1.T)\n",
    "T2_test=np.dot(X_cent,P2.T)\n",
    "T1=T[:,0]\n",
    "T2=T[:,1]\n",
    "Xest=np.dot(T,P)+X_mean.values.reshape(-1,1).T\n",
    "\n",
    "P2,E2,P_mat2 =linalg.svd(X_cent)\n",
    "P1v2=P_mat2[0,:]\n"
   ]
  },
  {
   "cell_type": "code",
   "execution_count": null,
   "metadata": {},
   "outputs": [],
   "source": [
    "\n",
    "\"Directement des fonctions\"\n",
    "\n",
    "from sklearn.decomposition import PCA\n",
    "a=2\n",
    "pca = PCA(n_components=a)\n",
    "pca.fit(X)\n",
    "VarianceCapturee=pca.explained_variance_ratio_\n",
    "X_pca_mean=pca.mean_\n",
    "T=pca.transform(X)\n",
    "P=pca.components_\n",
    "\n",
    "\n",
    "T1=np.dot((X.values-X_pca_mean),P[0,:])\n",
    "T2=np.dot((X.values-X_pca_mean),P[1,:])\n",
    "Xest=pca.inverse_transform(T)\n",
    "\n",
    "\n",
    "TPanda=pd.DataFrame(T)\n",
    "TPanda.index=X.index\n",
    "TPanda.columns=['T1','T2']\n",
    "T_resultats=pd.concat([TPanda,Yclass],axis=1)\n",
    "\n",
    "PPanda=pd.DataFrame(P.T)\n",
    "PPanda.index=X.columns\n",
    "PPanda.columns=['PC1','PC2']\n",
    "\n",
    "PPanda.plot.bar()\n",
    "\n",
    "import plotnine as p9\n",
    "graph = p9.ggplot(data=T_resultats,\n",
    "           mapping=p9.aes(x='T1', y='T2', color='Espèces'))\n",
    "print(graph + p9.geom_point())\n",
    "\n"
   ]
  },
  {
   "cell_type": "code",
   "execution_count": null,
   "metadata": {},
   "outputs": [],
   "source": [
    "\n",
    "\"PCR\"\n",
    "\n",
    "CORRMAT=TPanda.corr()\n",
    "modele=sm.OLS(Y,TPanda.assign(const=1))\n",
    "resultats=modele.fit()\n",
    "Y_chap = resultats.predict(TPanda.assign(const=1))\n",
    "resultats.summary()\n",
    "\n",
    "Betas=resultats.params\n",
    "Betasfinaux=np.dot(Betas[0:2],P).reshape(-1,1)\n",
    "BetasfinauxPanda=pd.DataFrame(Betasfinaux)\n",
    "BetasfinauxPanda.index=X.columns\n",
    "ordonnee=pd.Series(Betas[2])\n",
    "ordonnee.index=['Beta0']\n",
    "BetasfinauxPanda=pd.concat([BetasfinauxPanda,ordonnee],axis=0)\n",
    "BetasfinauxPanda.columns=['Betas']\n",
    "\n",
    "Ypix_chap=np.dot(((X-X_pca_mean).assign(const=1)).values,BetasfinauxPanda.values)\n",
    "plt.scatter(Y, Y_chap)\n",
    "plt.xlabel(\"Y\")\n",
    "plt.ylabel(\"Y_chapeau\")\n",
    "plt.show()\n",
    "Y_chap=pd.DataFrame(Ypix_chap)\n",
    "R2=np.corrcoef(Y.T,Y_chap.T)[0,1]\n",
    "\n",
    "\n",
    "#Ypix_chap.index=Ypix.index\n",
    "\n",
    "\n",
    "\n"
   ]
  }
 ],
 "metadata": {
  "kernelspec": {
   "display_name": "Python 3.11.0 64-bit",
   "language": "python",
   "name": "python3"
  },
  "language_info": {
   "codemirror_mode": {
    "name": "ipython",
    "version": 3
   },
   "file_extension": ".py",
   "mimetype": "text/x-python",
   "name": "python",
   "nbconvert_exporter": "python",
   "pygments_lexer": "ipython3",
   "version": "3.11.0"
  },
  "orig_nbformat": 4,
  "vscode": {
   "interpreter": {
    "hash": "31f2aee4e71d21fbe5cf8b01ff0e069b9275f58929596ceb00d14d90e3e16cd6"
   }
  }
 },
 "nbformat": 4,
 "nbformat_minor": 2
}
