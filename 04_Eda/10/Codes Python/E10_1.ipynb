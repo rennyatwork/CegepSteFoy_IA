{
 "cells": [
  {
   "cell_type": "code",
   "execution_count": 11,
   "metadata": {},
   "outputs": [],
   "source": [
    "import numpy as np\n",
    "import pandas as pd\n",
    "import matplotlib.pyplot as plt\n",
    "import scipy.stats as sts\n",
    "import statsmodels.api as stm\n",
    "import statsmodels.stats.weightstats as ws\n",
    "import math"
   ]
  },
  {
   "cell_type": "code",
   "execution_count": 2,
   "metadata": {},
   "outputs": [
    {
     "name": "stdout",
     "output_type": "stream",
     "text": [
      "Using matplotlib backend: GTK3Agg\n"
     ]
    }
   ],
   "source": [
    "%matplotlib"
   ]
  },
  {
   "cell_type": "markdown",
   "metadata": {},
   "source": [
    "Seaborn"
   ]
  },
  {
   "cell_type": "code",
   "execution_count": 9,
   "metadata": {},
   "outputs": [
    {
     "name": "stdout",
     "output_type": "stream",
     "text": [
      "Using matplotlib backend: GTK3Agg\n"
     ]
    }
   ],
   "source": [
    "import seaborn as sns\n",
    "%matplotlib"
   ]
  },
  {
   "cell_type": "markdown",
   "metadata": {},
   "source": [
    "Aula 10"
   ]
  },
  {
   "cell_type": "code",
   "execution_count": 20,
   "metadata": {},
   "outputs": [
    {
     "data": {
      "text/plain": [
       "Text(0, 0.5, 'Fonction de densité f(x)')"
      ]
     },
     "execution_count": 20,
     "metadata": {},
     "output_type": "execute_result"
    }
   ],
   "source": [
    "donnee = pd.read_csv('../Fichiers/PersonnesActivesv0r2.csv')\n",
    "stats=donnee.describe()\n",
    "dimensions=donnee.shape\n"
   ]
  },
  {
   "cell_type": "code",
   "execution_count": 21,
   "metadata": {},
   "outputs": [
    {
     "data": {
      "text/plain": [
       "Âge              0\n",
       "Poids (kg)       0\n",
       "Grandeur (cm)    0\n",
       "Genre            0\n",
       "dtype: int64"
      ]
     },
     "execution_count": 21,
     "metadata": {},
     "output_type": "execute_result"
    }
   ],
   "source": [
    "donnee.isnull().sum()"
   ]
  },
  {
   "cell_type": "code",
   "execution_count": 22,
   "metadata": {},
   "outputs": [
    {
     "data": {
      "text/html": [
       "<div>\n",
       "<style scoped>\n",
       "    .dataframe tbody tr th:only-of-type {\n",
       "        vertical-align: middle;\n",
       "    }\n",
       "\n",
       "    .dataframe tbody tr th {\n",
       "        vertical-align: top;\n",
       "    }\n",
       "\n",
       "    .dataframe thead th {\n",
       "        text-align: right;\n",
       "    }\n",
       "</style>\n",
       "<table border=\"1\" class=\"dataframe\">\n",
       "  <thead>\n",
       "    <tr style=\"text-align: right;\">\n",
       "      <th></th>\n",
       "      <th>Âge</th>\n",
       "      <th>Poids (kg)</th>\n",
       "      <th>Grandeur (cm)</th>\n",
       "    </tr>\n",
       "  </thead>\n",
       "  <tbody>\n",
       "    <tr>\n",
       "      <th>count</th>\n",
       "      <td>507.000000</td>\n",
       "      <td>507.000000</td>\n",
       "      <td>507.000000</td>\n",
       "    </tr>\n",
       "    <tr>\n",
       "      <th>mean</th>\n",
       "      <td>30.181460</td>\n",
       "      <td>69.147535</td>\n",
       "      <td>171.143787</td>\n",
       "    </tr>\n",
       "    <tr>\n",
       "      <th>std</th>\n",
       "      <td>9.608472</td>\n",
       "      <td>13.345762</td>\n",
       "      <td>9.407205</td>\n",
       "    </tr>\n",
       "    <tr>\n",
       "      <th>min</th>\n",
       "      <td>18.000000</td>\n",
       "      <td>42.000000</td>\n",
       "      <td>147.200000</td>\n",
       "    </tr>\n",
       "    <tr>\n",
       "      <th>25%</th>\n",
       "      <td>23.000000</td>\n",
       "      <td>58.400000</td>\n",
       "      <td>163.800000</td>\n",
       "    </tr>\n",
       "    <tr>\n",
       "      <th>50%</th>\n",
       "      <td>27.000000</td>\n",
       "      <td>68.200000</td>\n",
       "      <td>170.300000</td>\n",
       "    </tr>\n",
       "    <tr>\n",
       "      <th>75%</th>\n",
       "      <td>36.000000</td>\n",
       "      <td>78.850000</td>\n",
       "      <td>177.800000</td>\n",
       "    </tr>\n",
       "    <tr>\n",
       "      <th>max</th>\n",
       "      <td>67.000000</td>\n",
       "      <td>116.400000</td>\n",
       "      <td>198.100000</td>\n",
       "    </tr>\n",
       "  </tbody>\n",
       "</table>\n",
       "</div>"
      ],
      "text/plain": [
       "              Âge  Poids (kg)  Grandeur (cm)\n",
       "count  507.000000  507.000000     507.000000\n",
       "mean    30.181460   69.147535     171.143787\n",
       "std      9.608472   13.345762       9.407205\n",
       "min     18.000000   42.000000     147.200000\n",
       "25%     23.000000   58.400000     163.800000\n",
       "50%     27.000000   68.200000     170.300000\n",
       "75%     36.000000   78.850000     177.800000\n",
       "max     67.000000  116.400000     198.100000"
      ]
     },
     "execution_count": 22,
     "metadata": {},
     "output_type": "execute_result"
    }
   ],
   "source": [
    "stats"
   ]
  },
  {
   "cell_type": "code",
   "execution_count": null,
   "metadata": {},
   "outputs": [],
   "source": [
    "nomsvariables = pd.DataFrame(donnee.columns)\n",
    "Variable=donnee[\"Âge\"]\n",
    "ax=Variable.plot.hist(density=True, bins = 10, color = 'blue', edgecolor = 'black')\n",
    "ax.set_xlabel(\"Âge\")\n",
    "ax.set_ylabel(\"Fonction de densité f(x)\")"
   ]
  },
  {
   "cell_type": "markdown",
   "metadata": {},
   "source": [
    "\"Vérifier si les données suivent une loi normale\""
   ]
  },
  {
   "cell_type": "code",
   "execution_count": 13,
   "metadata": {},
   "outputs": [
    {
     "data": {
      "text/plain": [
       "Text(0, 0.5, 'Fonction de densité f(x)')"
      ]
     },
     "execution_count": 13,
     "metadata": {},
     "output_type": "execute_result"
    }
   ],
   "source": [
    "d=1000\n",
    "grille_x = np.linspace(Variable.min(), Variable.max(), d)\n",
    "dx=(Variable.max()-(Variable.min()))/(d-1)\n",
    "mu, sigma = sts.norm.fit(Variable.values)\n",
    "param=sts.norm.fit(Variable.values)\n",
    "pdf = sts.norm.pdf(grille_x, mu, sigma)\n",
    "ax=Variable.plot.hist(density=True, bins = 10, color = 'blue', edgecolor = 'black')\n",
    "ax.set_xlabel(\"Âge\")\n",
    "ax.plot(grille_x, pdf, linewidth=3, color = 'red')\n",
    "ax.set_ylabel(\"Fonction de densité f(x)\")"
   ]
  },
  {
   "cell_type": "markdown",
   "metadata": {},
   "source": [
    "\"Vérifier si les données suivent une loi gamma\""
   ]
  },
  {
   "cell_type": "code",
   "execution_count": 18,
   "metadata": {},
   "outputs": [],
   "source": [
    "d=1000\n",
    "grille_x = np.linspace(Variable.min(), Variable.max(), d)\n",
    "dx=(Variable.max()-(Variable.min()))/(d-1)\n",
    "shape,loc,scale=sts.gamma.fit(Variable.values,loc=0.1)\n",
    "param=sts.gamma.fit(Variable.values)\n",
    "pdf = sts.gamma.pdf(grille_x,shape,loc,scale)\n",
    "ax=Variable.plot.hist(density=True, bins = 10, color = 'blue', edgecolor = 'black')\n",
    "ax.set_xlabel(\"Âge\")\n",
    "ax.plot(grille_x, pdf, linewidth=3, color = 'red')\n",
    "ax.set_ylabel(\"Fonction de densité f(x)\")\n",
    "\n",
    "\n",
    "sts.probplot(Variable.values, dist=sts.gamma(shape,loc,scale), plot=plt.figure().add_subplot(111))\n",
    "Fit_gamma = sts.kstest(Variable.values,'gamma',param)"
   ]
  },
  {
   "cell_type": "markdown",
   "metadata": {},
   "source": [
    "\"Test d'hypothèse sur la moyenne des poids des hommes\""
   ]
  },
  {
   "cell_type": "code",
   "execution_count": 19,
   "metadata": {},
   "outputs": [],
   "source": [
    "PoidsHommes=donnee[(donnee[\"Genre\"] == \"Homme\")][\"Poids (kg)\"]\n",
    "stats_PoidsHommes=PoidsHommes.describe()\n",
    "n_H=PoidsHommes.shape[0]\n",
    "X_barre_H_Poids=PoidsHommes.mean()\n",
    "s_H_Poids=PoidsHommes.std()"
   ]
  },
  {
   "cell_type": "code",
   "execution_count": 29,
   "metadata": {},
   "outputs": [
    {
     "data": {
      "text/plain": [
       "count    247.000000\n",
       "mean      78.144534\n",
       "std       10.512890\n",
       "min       53.900000\n",
       "25%       70.950000\n",
       "50%       77.300000\n",
       "75%       85.500000\n",
       "max      116.400000\n",
       "Name: Poids (kg), dtype: float64"
      ]
     },
     "execution_count": 29,
     "metadata": {},
     "output_type": "execute_result"
    }
   ],
   "source": [
    "stats_PoidsHommes"
   ]
  },
  {
   "cell_type": "code",
   "execution_count": 31,
   "metadata": {},
   "outputs": [
    {
     "name": "stdout",
     "output_type": "stream",
     "text": [
      "247\n"
     ]
    }
   ],
   "source": [
    "print(n_H)"
   ]
  },
  {
   "cell_type": "code",
   "execution_count": 35,
   "metadata": {},
   "outputs": [
    {
     "name": "stdout",
     "output_type": "stream",
     "text": [
      "10.512889904886581\n"
     ]
    }
   ],
   "source": [
    "print(s_H_Poids)"
   ]
  },
  {
   "cell_type": "markdown",
   "metadata": {},
   "source": [
    "\"Cas 1\"\n",
    "\n"
   ]
  },
  {
   "cell_type": "code",
   "execution_count": null,
   "metadata": {},
   "outputs": [],
   "source": []
  },
  {
   "cell_type": "code",
   "execution_count": 37,
   "metadata": {},
   "outputs": [
    {
     "name": "stdout",
     "output_type": "stream",
     "text": [
      "2.0661214948530428e-18\n"
     ]
    }
   ],
   "source": [
    "mhu0H=84\n",
    "#sigmaHPoids=math.sqrt(100)\n",
    "Z0=(X_barre_H_Poids-mhu0H)/(s_H_Poids/(math.sqrt(n_H)))\n",
    "CV1 = sts.norm.isf(0.05/2)\n",
    "p_value_calc1=sts.norm.sf(abs(Z0))*2\n",
    "print(p_value_calc1)"
   ]
  },
  {
   "cell_type": "markdown",
   "metadata": {},
   "source": [
    "\"Cas 2\"\n",
    "\n"
   ]
  },
  {
   "cell_type": "code",
   "execution_count": 40,
   "metadata": {},
   "outputs": [
    {
     "name": "stdout",
     "output_type": "stream",
     "text": [
      "78.14453441295547\n",
      "Ttest_1sampResult(statistic=-1.2788773746625888, pvalue=0.20214533914983476)\n"
     ]
    }
   ],
   "source": [
    "mhu0H=79\n",
    "t0=(X_barre_H_Poids-mhu0H)/(s_H_Poids/(math.sqrt(n_H)))\n",
    "CV2 = sts.t.isf(0.05/2,n_H-1)\n",
    "\n",
    "p_value_calc2=sts.t.sf(abs(t0),df=(n_H-1))*2\n",
    "pvalue2=sts.ttest_1samp(PoidsHommes,79)\n",
    "print(X_barre_H_Poids)\n",
    "print(pvalue2)"
   ]
  },
  {
   "cell_type": "markdown",
   "metadata": {},
   "source": [
    "\"Comparaison grandeurs moyennes entre hommes et femmes\"\n",
    "\n",
    "\"Cas 3\"\n",
    "\n",
    "\n",
    "\n"
   ]
  },
  {
   "cell_type": "code",
   "execution_count": 26,
   "metadata": {},
   "outputs": [
    {
     "name": "stdout",
     "output_type": "stream",
     "text": [
      "1.5856317616633426e-99\n"
     ]
    }
   ],
   "source": [
    "GrandeursHommes=donnee[(donnee[\"Genre\"] == \"Homme\")][\"Grandeur (cm)\"]\n",
    "GrandeursFemmes=donnee[(donnee[\"Genre\"] == \"Femme\")][\"Grandeur (cm)\"]\n",
    "Stats_H=GrandeursHommes.describe()\n",
    "Stats_F=GrandeursFemmes.describe()\n",
    "\n",
    "X_barre_H_Grand=GrandeursHommes.mean()\n",
    "X_barre_F_Grand=GrandeursFemmes.mean()\n",
    "s_H_Grand=GrandeursHommes.std()\n",
    "s_F_Grand=GrandeursFemmes.std()\n",
    "n_H=GrandeursHommes.shape[0]\n",
    "n_F=GrandeursFemmes.shape[0]\n",
    "\n",
    "\n",
    "sigmaH=7.4\n",
    "sigmaF=6.2\n",
    "Z0=(X_barre_H_Grand-X_barre_F_Grand)/math.sqrt(sigmaH**2/n_H+sigmaF**2/n_F)\n",
    "CV3 = sts.norm.isf(0.05/2)\n",
    "p_value_calc3=sts.norm.sf(abs(Z0))*2\n",
    "print(p_value_calc3)\n",
    "\n",
    "#GrandeursHommesStats = stm.stats.DescrStatsW(GrandeursHommes)\n",
    "#GrandeursFemmesStats = stm.stats.DescrStatsW(GrandeursFemmes)\n",
    "    \n",
    "#pval1= stm.stats.CompareMeans(GrandeursHommesStats,GrandeursFemmesStats).ztest_ind(usevar='unequal')\n",
    "\n",
    "\n",
    "#SSE_H=sum(((GrandeursHommes.values-X_barre_H))**2)\n",
    "#SSE_F=sum(((GrandeursFemmes.values-X_barre_F))**2)\n",
    "#s_H=math.sqrt(SSE_H/(n_H-1))\n",
    "#s_F=math.sqrt(SSE_F/(n_F-1))\n",
    "#Sp=math.sqrt((SSE_H+SSE_F)/(n_H+n_F-2))\n",
    "\n",
    "\n"
   ]
  },
  {
   "cell_type": "markdown",
   "metadata": {},
   "source": [
    "\"Cas 4\"\n",
    "\n"
   ]
  },
  {
   "cell_type": "code",
   "execution_count": 27,
   "metadata": {},
   "outputs": [],
   "source": [
    "Sp=math.sqrt(((n_H-1)*s_H_Grand**2+(n_F-1)*s_F_Grand**2)/(n_H+n_F-2))\n",
    "t0=(X_barre_H_Grand-X_barre_F_Grand)/(Sp*math.sqrt(1/n_H+1/n_F))\n",
    "CV4 = sts.t.isf(0.05/2,n_H+n_F-2)\n",
    "p_value_calc4=sts.t.sf(abs(t0),df=(n_H+n_F-2))*2\n",
    "pvalue4 = sts.ttest_ind(GrandeursHommes,GrandeursFemmes)\n",
    "\n",
    "\n"
   ]
  },
  {
   "cell_type": "markdown",
   "metadata": {},
   "source": [
    "\"Cas 5\"\n",
    "\n"
   ]
  },
  {
   "cell_type": "code",
   "execution_count": 28,
   "metadata": {},
   "outputs": [],
   "source": [
    "v=(s_H_Grand**2/n_H+s_F_Grand**2/n_F)**2/((s_H_Grand**2/n_H)**2/(n_H+1)+(s_F_Grand**2/n_F)**2/(n_F+1))-2\n",
    "t0=(X_barre_H_Grand-X_barre_F_Grand)/math.sqrt(s_H_Grand**2/n_H+s_F_Grand**2/n_F)\n",
    "CV5 = sts.t.isf(0.05/2,v)\n",
    "p_value_calc5=sts.t.sf(abs(t0),df=(v))*2"
   ]
  }
 ],
 "metadata": {
  "kernelspec": {
   "display_name": "Python 3.8.10 64-bit",
   "language": "python",
   "name": "python3"
  },
  "language_info": {
   "codemirror_mode": {
    "name": "ipython",
    "version": 3
   },
   "file_extension": ".py",
   "mimetype": "text/x-python",
   "name": "python",
   "nbconvert_exporter": "python",
   "pygments_lexer": "ipython3",
   "version": "3.8.10"
  },
  "orig_nbformat": 4,
  "vscode": {
   "interpreter": {
    "hash": "31f2aee4e71d21fbe5cf8b01ff0e069b9275f58929596ceb00d14d90e3e16cd6"
   }
  }
 },
 "nbformat": 4,
 "nbformat_minor": 2
}
