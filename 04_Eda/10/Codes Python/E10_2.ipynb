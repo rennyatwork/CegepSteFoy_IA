{
 "cells": [
  {
   "cell_type": "code",
   "execution_count": 1,
   "metadata": {},
   "outputs": [],
   "source": [
    "# -*- coding: utf-8 -*-\n",
    "\"\"\"\n",
    "Created on Fri Apr  9 15:23:54 2021\n",
    "\n",
    "@author: pmarc\n",
    "\"\"\"\n",
    "\n",
    "import numpy as np\n",
    "import pandas as pd\n",
    "import matplotlib.pyplot as plt\n",
    "import scipy.stats as sts\n",
    "import statsmodels.api as stm\n",
    "import statsmodels.stats.weightstats as ws\n",
    "import math\n"
   ]
  },
  {
   "cell_type": "code",
   "execution_count": 2,
   "metadata": {},
   "outputs": [],
   "source": [
    "\n",
    "\n",
    "donnee = pd.read_csv('../Fichiers/PersonnesActivesv0r2.csv')\n",
    "stats = donnee.describe()\n",
    "dimensions = donnee.shape\n",
    "nomsvariables = pd.DataFrame(donnee.columns)\n"
   ]
  },
  {
   "cell_type": "code",
   "execution_count": 4,
   "metadata": {},
   "outputs": [],
   "source": [
    "\n",
    "\n",
    "\"Test d'hypothèse sur la moyenne des poids des hommes\"\n",
    "\n",
    "PoidsHommes = donnee[(donnee[\"Genre\"] == \"Homme\")][\"Poids (kg)\"]\n",
    "stats_PoidsHommes = PoidsHommes.describe()\n",
    "n_H = PoidsHommes.shape[0]\n",
    "X_barre_H_Poids = PoidsHommes.mean()\n",
    "s_H_Poids = PoidsHommes.std()\n"
   ]
  },
  {
   "cell_type": "code",
   "execution_count": 5,
   "metadata": {},
   "outputs": [
    {
     "name": "stdout",
     "output_type": "stream",
     "text": [
      "3.494353024120157e-20\n"
     ]
    }
   ],
   "source": [
    "\n",
    "\n",
    "\"Cas 1\"\n",
    "## hipótese nula: peso médio = 84\n",
    "\n",
    "mhu0H = 84\n",
    "sigmaHPoids = math.sqrt(100)\n",
    "Z0 = (X_barre_H_Poids-mhu0H)/(sigmaHPoids/(math.sqrt(n_H)))\n",
    "\n",
    "## CV = critical value\n",
    "CV1 = sts.norm.isf(0.05/2)\n",
    "p_value_calc1 = sts.norm.sf(abs(Z0))*2\n",
    "print(p_value_calc1)\n",
    "\n",
    "# pvalue1=sts.ttest_1samp(PoidsHommes,84)\n",
    "## p-value < 0.05 --> a diferença é significativa"
   ]
  },
  {
   "cell_type": "code",
   "execution_count": 8,
   "metadata": {},
   "outputs": [
    {
     "name": "stdout",
     "output_type": "stream",
     "text": [
      "Ttest_1sampResult(statistic=-1.2788773746625888, pvalue=0.20214533914983476)\n"
     ]
    }
   ],
   "source": [
    "\n",
    "\"Cas 2\"\n",
    "## hipótese nula: peso médio = 79\n",
    "\n",
    "mhu0H = 79\n",
    "t0 = (X_barre_H_Poids-mhu0H)/(s_H_Poids/(math.sqrt(n_H)))\n",
    "CV2 = sts.t.isf(0.05/2, n_H-1)\n",
    "\n",
    "p_value_calc2 = sts.t.sf(abs(t0), df=(n_H-1))*2\n",
    "\n",
    "## shortcut p/ obter pvalue\n",
    "pvalue2 = sts.ttest_1samp(PoidsHommes, 79)\n",
    "\n",
    "print(pvalue2)\n",
    "\n",
    "##pvalue>0.05 --> Não se pode rejeitar a hipótese nula"
   ]
  },
  {
   "cell_type": "code",
   "execution_count": 10,
   "metadata": {},
   "outputs": [
    {
     "name": "stdout",
     "output_type": "stream",
     "text": [
      "1.5856317616633426e-99\n"
     ]
    }
   ],
   "source": [
    "\n",
    "\"Comparaison grandeurs moyennes entre hommes et femmes\"\n",
    "\n",
    "\"Cas 3\"\n",
    "\n",
    "GrandeursHommes = donnee[(donnee[\"Genre\"] == \"Homme\")][\"Grandeur (cm)\"]\n",
    "GrandeursFemmes = donnee[(donnee[\"Genre\"] == \"Femme\")][\"Grandeur (cm)\"]\n",
    "Stats_H = GrandeursHommes.describe()\n",
    "Stats_F = GrandeursFemmes.describe()\n",
    "\n",
    "## média\n",
    "X_barre_H_Grand = GrandeursHommes.mean()\n",
    "X_barre_F_Grand = GrandeursFemmes.mean()\n",
    "\n",
    "## desvio padrao\n",
    "s_H_Grand = GrandeursHommes.std()\n",
    "s_F_Grand = GrandeursFemmes.std()\n",
    "\n",
    "## tamanho da populacao\n",
    "n_H = GrandeursHommes.shape[0]\n",
    "n_F = GrandeursFemmes.shape[0]\n",
    "\n",
    "\n",
    "sigmaH = 7.4\n",
    "sigmaF = 6.2\n",
    "\n",
    "Z0 = (X_barre_H_Grand-X_barre_F_Grand)/math.sqrt(sigmaH**2/n_H+sigmaF**2/n_F)\n",
    "CV3 = sts.norm.isf(0.05/2)\n",
    "p_value_calc3 = sts.norm.sf(abs(Z0))*2\n",
    "print(p_value_calc3)\n",
    "\n",
    "#GrandeursHommesStats = stm.stats.DescrStatsW(GrandeursHommes)\n",
    "#GrandeursFemmesStats = stm.stats.DescrStatsW(GrandeursFemmes)\n",
    "\n",
    "#pval1= stm.stats.CompareMeans(GrandeursHommesStats,GrandeursFemmesStats).ztest_ind(usevar='unequal')\n",
    "\n",
    "\n",
    "# SSE_H=sum(((GrandeursHommes.values-X_barre_H))**2)\n",
    "# SSE_F=sum(((GrandeursFemmes.values-X_barre_F))**2)\n",
    "# s_H=math.sqrt(SSE_H/(n_H-1))\n",
    "# s_F=math.sqrt(SSE_F/(n_F-1))\n",
    "# Sp=math.sqrt((SSE_H+SSE_F)/(n_H+n_F-2))\n",
    "\n",
    "### Existe uma diferença significativa entre as médias de tamanho de homem e mulher"
   ]
  },
  {
   "cell_type": "code",
   "execution_count": 11,
   "metadata": {},
   "outputs": [
    {
     "name": "stdout",
     "output_type": "stream",
     "text": [
      "Ttest_indResult(statistic=21.109478245457304, pvalue=2.2340956600230777e-71)\n"
     ]
    }
   ],
   "source": [
    "\n",
    "\"Cas 4\"\n",
    "## variância desconhecida, h0: assume-se q a variância é igual\n",
    "\n",
    "Sp = math.sqrt(((n_H-1)*s_H_Grand**2+(n_F-1)*s_F_Grand**2)/(n_H+n_F-2))\n",
    "t0 = (X_barre_H_Grand-X_barre_F_Grand)/(Sp*math.sqrt(1/n_H+1/n_F))\n",
    "CV4 = sts.t.isf(0.05/2, n_H+n_F-2)\n",
    "p_value_calc4 = sts.t.sf(abs(t0), df=(n_H+n_F-2))*2\n",
    "pvalue4 = sts.ttest_ind(GrandeursHommes, GrandeursFemmes)\n",
    "print(pvalue4)\n",
    "\n",
    "\n",
    "#### p-values < 0.05 ---> rejeita-se a hipótese nula, a diferença é significativa"
   ]
  },
  {
   "cell_type": "code",
   "execution_count": 12,
   "metadata": {},
   "outputs": [
    {
     "name": "stdout",
     "output_type": "stream",
     "text": [
      "7.827561484996063e-71\n"
     ]
    }
   ],
   "source": [
    "\n",
    "\n",
    "\"Cas 5\"\n",
    "\n",
    "v = (s_H_Grand**2/n_H+s_F_Grand**2/n_F)**2 / \\\n",
    "    ((s_H_Grand**2/n_H)**2/(n_H+1)+(s_F_Grand**2/n_F)**2/(n_F+1))-2\n",
    "t0 = (X_barre_H_Grand-X_barre_F_Grand) / \\\n",
    "    math.sqrt(s_H_Grand**2/n_H+s_F_Grand**2/n_F)\n",
    "CV5 = sts.t.isf(0.05/2, v)\n",
    "p_value_calc5 = sts.t.sf(abs(t0), df=(v))*2\n",
    "\n",
    "print(p_value_calc5)\n",
    "\n",
    "### ovalue < 0.05 ---> rejeita-se a hipótese nula"
   ]
  }
 ],
 "metadata": {
  "kernelspec": {
   "display_name": "Python 3.11.0 64-bit",
   "language": "python",
   "name": "python3"
  },
  "language_info": {
   "codemirror_mode": {
    "name": "ipython",
    "version": 3
   },
   "file_extension": ".py",
   "mimetype": "text/x-python",
   "name": "python",
   "nbconvert_exporter": "python",
   "pygments_lexer": "ipython3",
   "version": "3.11.0"
  },
  "orig_nbformat": 4,
  "vscode": {
   "interpreter": {
    "hash": "31f2aee4e71d21fbe5cf8b01ff0e069b9275f58929596ceb00d14d90e3e16cd6"
   }
  }
 },
 "nbformat": 4,
 "nbformat_minor": 2
}
