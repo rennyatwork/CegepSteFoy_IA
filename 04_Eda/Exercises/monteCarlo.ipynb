{
 "cells": [
  {
   "cell_type": "code",
   "execution_count": 1,
   "metadata": {},
   "outputs": [],
   "source": [
    "import numpy as np\n",
    "import pandas as pd\n",
    "import matplotlib.pyplot as plt\n",
    "import random"
   ]
  },
  {
   "cell_type": "code",
   "execution_count": 3,
   "metadata": {},
   "outputs": [
    {
     "data": {
      "text/plain": [
       "'/home/hadoop/Git_Ia/CegepSteFoy_IA/05_Eda/Exercises'"
      ]
     },
     "execution_count": 3,
     "metadata": {},
     "output_type": "execute_result"
    }
   ],
   "source": [
    "import os\n",
    "currDir=os.path.abspath(os.getcwd())\n",
    "currDir"
   ]
  },
  {
   "cell_type": "code",
   "execution_count": 10,
   "metadata": {},
   "outputs": [
    {
     "data": {
      "text/plain": [
       "PosixPath('/home/hadoop/Git_Ia/CegepSteFoy_IA')"
      ]
     },
     "execution_count": 10,
     "metadata": {},
     "output_type": "execute_result"
    }
   ],
   "source": [
    "from pathlib import Path\n",
    "# `path.parents[1]` is the same as `path.parent.parent`\n",
    "d = Path().resolve().parents[1]\n",
    "d"
   ]
  },
  {
   "cell_type": "code",
   "execution_count": 20,
   "metadata": {},
   "outputs": [
    {
     "data": {
      "text/plain": [
       "'/home/hadoop/Git_Ia/CegepSteFoy_IA/Data/Fichiers06'"
      ]
     },
     "execution_count": 20,
     "metadata": {},
     "output_type": "execute_result"
    }
   ],
   "source": [
    "pathData=str(d)+\"/Data/Fichiers06\"\n",
    "pathData"
   ]
  },
  {
   "cell_type": "code",
   "execution_count": 23,
   "metadata": {},
   "outputs": [
    {
     "name": "stdout",
     "output_type": "stream",
     "text": [
      "/home/hadoop/Git_Ia/CegepSteFoy_IA/Data/Fichiers06/ProductiviteAgricolev0r2.csv\n"
     ]
    }
   ],
   "source": [
    "print(pathData+'/ProductiviteAgricolev0r2.csv')"
   ]
  },
  {
   "cell_type": "code",
   "execution_count": 26,
   "metadata": {},
   "outputs": [],
   "source": [
    "dataPrefix = \"/home/hadoop/Git_Ia/CegepSteFoy_IA/05_Eda/Data/Fichiers06/\""
   ]
  },
  {
   "cell_type": "code",
   "execution_count": 27,
   "metadata": {},
   "outputs": [],
   "source": [
    "donnee =pd.read_csv(dataPrefix+'/ProductiviteAgricolev0r2.csv')\n",
    "stats=donnee.describe()"
   ]
  },
  {
   "cell_type": "code",
   "execution_count": 28,
   "metadata": {},
   "outputs": [],
   "source": [
    "dimensions=donnee.shape\n",
    "nomsvariables = pd.DataFrame(donnee.columns)"
   ]
  },
  {
   "cell_type": "code",
   "execution_count": 29,
   "metadata": {},
   "outputs": [],
   "source": [
    "#Les paramètres de la simulation sont définis (nombre de simulations à \n",
    "#réaliser, les paramètres non aléatoires)\n",
    "L=1000\n",
    "SuperficieMais=80\n",
    "SuperficieSoya=20"
   ]
  },
  {
   "cell_type": "code",
   "execution_count": 30,
   "metadata": {},
   "outputs": [],
   "source": [
    "#E06-3 - Données sur la productivité agricole\n",
    "#Définition des variables (6 entrées aléatoires, une sortie prédite)\n",
    "\n",
    "MaisProdvar=donnee[\"Mais (t/ha)\"]\n",
    "MaisProdPred = []\n",
    "SoyaProdvar=donnee[\"Soya (t/ha)\"]\n",
    "SoyaProdPred = []\n",
    "MaisCoutvar=donnee[\"Coût Mais ($/t)\"]\n",
    "MaisCoutPred = []\n",
    "SoyaCoutvar=donnee[\"Coût Soya ($/t)\"]\n",
    "SoyaCoutPred = []\n",
    "MaisPrixvar=donnee[\"Prix Mais ($/t)\"]\n",
    "MaisPrixPred = []\n",
    "SoyaPrixvar=donnee[\"Prix Soya ($/t)\"]\n",
    "SoyaPrixPred = []\n",
    "ProfitsPred = []"
   ]
  },
  {
   "cell_type": "code",
   "execution_count": 31,
   "metadata": {},
   "outputs": [],
   "source": [
    "#E06-3 - Données sur la productivité agricole\n",
    "#Boucle itérative (« L » itérations) pour générer des variables d’entrée, et calculer les variables de sortie\n",
    "\n",
    "for i in range(L):\n",
    "    # entrées générées aléatoirement\n",
    "    MaisProd=random.choice(MaisProdvar)\n",
    "    SoyaProd=random.choice(SoyaProdvar)\n",
    "    MaisCout=random.choice(MaisCoutvar)\n",
    "    SoyaCout=random.choice(SoyaCoutvar)\n",
    "    MaisPrix=random.choice(MaisPrixvar)\n",
    "    SoyaPrix=random.choice(SoyaPrixvar)\n",
    "    \n",
    "    #modèle\n",
    "    Profits=MaisProd*SuperficieMais*(MaisPrix-MaisCout)+SoyaProd*SuperficieSoya*(SoyaPrix-SoyaCout)\n",
    "    \n",
    "    # accumulation de valeurs (entre et sortie) dans des variables\n",
    "    MaisProdPred.append(MaisProd)\n",
    "    SoyaProdPred.append(SoyaProd)\n",
    "    MaisCoutPred.append(MaisCout)\n",
    "    SoyaCoutPred.append(SoyaCout)\n",
    "    MaisPrixPred.append(MaisPrix)\n",
    "    SoyaPrixPred.append(SoyaPrix)\n",
    "    ProfitsPred.append(Profits)"
   ]
  },
  {
   "cell_type": "code",
   "execution_count": 36,
   "metadata": {},
   "outputs": [
    {
     "data": {
      "text/plain": [
       "46800"
      ]
     },
     "execution_count": 36,
     "metadata": {},
     "output_type": "execute_result"
    }
   ],
   "source": [
    "ProfitsPred[0]"
   ]
  },
  {
   "cell_type": "code",
   "execution_count": 33,
   "metadata": {},
   "outputs": [
    {
     "ename": "ValueError",
     "evalue": "Input array must be 1 dimensional",
     "output_type": "error",
     "traceback": [
      "\u001b[0;31m---------------------------------------------------------------------------\u001b[0m",
      "\u001b[0;31mValueError\u001b[0m                                Traceback (most recent call last)",
      "\u001b[0;32m<ipython-input-33-50a8cbc4a9b5>\u001b[0m in \u001b[0;36m<module>\u001b[0;34m\u001b[0m\n\u001b[1;32m      2\u001b[0m \u001b[0;31m# Il est alors possible d’explorer la variable de\u001b[0m\u001b[0;34m\u001b[0m\u001b[0;34m\u001b[0m\u001b[0;34m\u001b[0m\u001b[0m\n\u001b[1;32m      3\u001b[0m \u001b[0;31m#sortie (Profits)\u001b[0m\u001b[0;34m\u001b[0m\u001b[0;34m\u001b[0m\u001b[0;34m\u001b[0m\u001b[0m\n\u001b[0;32m----> 4\u001b[0;31m \u001b[0mintervalles_Profits\u001b[0m \u001b[0;34m=\u001b[0m \u001b[0mpd\u001b[0m\u001b[0;34m.\u001b[0m\u001b[0mcut\u001b[0m\u001b[0;34m(\u001b[0m\u001b[0mProfitsPred\u001b[0m\u001b[0;34m[\u001b[0m\u001b[0;36m0\u001b[0m\u001b[0;34m]\u001b[0m\u001b[0;34m,\u001b[0m\u001b[0;36m10\u001b[0m\u001b[0;34m)\u001b[0m\u001b[0;34m\u001b[0m\u001b[0;34m\u001b[0m\u001b[0m\n\u001b[0m\u001b[1;32m      5\u001b[0m \u001b[0mProfitsinter\u001b[0m \u001b[0;34m=\u001b[0m \u001b[0mintervalles_Profits\u001b[0m\u001b[0;34m.\u001b[0m\u001b[0mvalue_counts\u001b[0m\u001b[0;34m(\u001b[0m\u001b[0;34m)\u001b[0m\u001b[0;34m\u001b[0m\u001b[0;34m\u001b[0m\u001b[0m\n\u001b[1;32m      6\u001b[0m \u001b[0max\u001b[0m\u001b[0;34m=\u001b[0m\u001b[0mProfitsPred\u001b[0m\u001b[0;34m.\u001b[0m\u001b[0mplot\u001b[0m\u001b[0;34m.\u001b[0m\u001b[0mhist\u001b[0m\u001b[0;34m(\u001b[0m\u001b[0mdensity\u001b[0m\u001b[0;34m=\u001b[0m\u001b[0;32mFalse\u001b[0m\u001b[0;34m,\u001b[0m \u001b[0mbins\u001b[0m \u001b[0;34m=\u001b[0m \u001b[0;36m10\u001b[0m\u001b[0;34m,\u001b[0m\u001b[0mcolor\u001b[0m \u001b[0;34m=\u001b[0m \u001b[0;34m'blue'\u001b[0m\u001b[0;34m,\u001b[0m \u001b[0medgecolor\u001b[0m \u001b[0;34m=\u001b[0m \u001b[0;34m'black'\u001b[0m\u001b[0;34m)\u001b[0m\u001b[0;34m\u001b[0m\u001b[0;34m\u001b[0m\u001b[0m\n",
      "\u001b[0;32m~/.local/lib/python3.8/site-packages/pandas/core/reshape/tile.py\u001b[0m in \u001b[0;36mcut\u001b[0;34m(x, bins, right, labels, retbins, precision, include_lowest, duplicates, ordered)\u001b[0m\n\u001b[1;32m    220\u001b[0m \u001b[0;34m\u001b[0m\u001b[0m\n\u001b[1;32m    221\u001b[0m     \u001b[0moriginal\u001b[0m \u001b[0;34m=\u001b[0m \u001b[0mx\u001b[0m\u001b[0;34m\u001b[0m\u001b[0;34m\u001b[0m\u001b[0m\n\u001b[0;32m--> 222\u001b[0;31m     \u001b[0mx\u001b[0m \u001b[0;34m=\u001b[0m \u001b[0m_preprocess_for_cut\u001b[0m\u001b[0;34m(\u001b[0m\u001b[0mx\u001b[0m\u001b[0;34m)\u001b[0m\u001b[0;34m\u001b[0m\u001b[0;34m\u001b[0m\u001b[0m\n\u001b[0m\u001b[1;32m    223\u001b[0m     \u001b[0mx\u001b[0m\u001b[0;34m,\u001b[0m \u001b[0mdtype\u001b[0m \u001b[0;34m=\u001b[0m \u001b[0m_coerce_to_type\u001b[0m\u001b[0;34m(\u001b[0m\u001b[0mx\u001b[0m\u001b[0;34m)\u001b[0m\u001b[0;34m\u001b[0m\u001b[0;34m\u001b[0m\u001b[0m\n\u001b[1;32m    224\u001b[0m \u001b[0;34m\u001b[0m\u001b[0m\n",
      "\u001b[0;32m~/.local/lib/python3.8/site-packages/pandas/core/reshape/tile.py\u001b[0m in \u001b[0;36m_preprocess_for_cut\u001b[0;34m(x)\u001b[0m\n\u001b[1;32m    576\u001b[0m         \u001b[0mx\u001b[0m \u001b[0;34m=\u001b[0m \u001b[0mnp\u001b[0m\u001b[0;34m.\u001b[0m\u001b[0masarray\u001b[0m\u001b[0;34m(\u001b[0m\u001b[0mx\u001b[0m\u001b[0;34m)\u001b[0m\u001b[0;34m\u001b[0m\u001b[0;34m\u001b[0m\u001b[0m\n\u001b[1;32m    577\u001b[0m     \u001b[0;32mif\u001b[0m \u001b[0mx\u001b[0m\u001b[0;34m.\u001b[0m\u001b[0mndim\u001b[0m \u001b[0;34m!=\u001b[0m \u001b[0;36m1\u001b[0m\u001b[0;34m:\u001b[0m\u001b[0;34m\u001b[0m\u001b[0;34m\u001b[0m\u001b[0m\n\u001b[0;32m--> 578\u001b[0;31m         \u001b[0;32mraise\u001b[0m \u001b[0mValueError\u001b[0m\u001b[0;34m(\u001b[0m\u001b[0;34m\"Input array must be 1 dimensional\"\u001b[0m\u001b[0;34m)\u001b[0m\u001b[0;34m\u001b[0m\u001b[0;34m\u001b[0m\u001b[0m\n\u001b[0m\u001b[1;32m    579\u001b[0m \u001b[0;34m\u001b[0m\u001b[0m\n\u001b[1;32m    580\u001b[0m     \u001b[0;32mreturn\u001b[0m \u001b[0mx\u001b[0m\u001b[0;34m\u001b[0m\u001b[0;34m\u001b[0m\u001b[0m\n",
      "\u001b[0;31mValueError\u001b[0m: Input array must be 1 dimensional"
     ]
    }
   ],
   "source": [
    "#E06-3 - Données sur la productivité agricole\n",
    "# Il est alors possible d’explorer la variable de\n",
    "#sortie (Profits)\n",
    "intervalles_Profits = pd.cut(ProfitsPred[0],10)\n",
    "Profitsinter = intervalles_Profits.value_counts()\n",
    "ax=ProfitsPred.plot.hist(density=False, bins = 10,color = 'blue', edgecolor = 'black')\n",
    "ax.set_xlabel(\"Profits ($/an)\")"
   ]
  },
  {
   "cell_type": "code",
   "execution_count": null,
   "metadata": {},
   "outputs": [],
   "source": [
    "StatsProfits=ProfitsPred.describe()"
   ]
  },
  {
   "cell_type": "code",
   "execution_count": null,
   "metadata": {},
   "outputs": [],
   "source": [
    "#E06-3 - Données sur la productivité agricole\n",
    "# Il est possible d’avoir la distribution de la\n",
    "#variable de profits et d’estimer la probabilité de\n",
    "#pertes (Profits négatifs)\n",
    "intervalles_Profits = pd.cut(ProfitsPred[0],10)\n",
    "ProfitsDist =intervalles_Profits.value_counts()/(ProfitsPred.shape[0])\n",
    "ProfitsDist=ProfitsDist.sort_index()\n",
    "ProbPerte=sum(i < 0 for i inProfitsPred[0])/(ProfitsPred.shape[0])"
   ]
  }
 ],
 "metadata": {
  "kernelspec": {
   "display_name": "Python 3",
   "language": "python",
   "name": "python3"
  },
  "language_info": {
   "codemirror_mode": {
    "name": "ipython",
    "version": 3
   },
   "file_extension": ".py",
   "mimetype": "text/x-python",
   "name": "python",
   "nbconvert_exporter": "python",
   "pygments_lexer": "ipython3",
   "version": "3.8.10"
  }
 },
 "nbformat": 4,
 "nbformat_minor": 4
}
