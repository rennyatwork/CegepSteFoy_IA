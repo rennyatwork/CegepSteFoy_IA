{
 "cells": [
  {
   "cell_type": "markdown",
   "metadata": {},
   "source": [
    "**420-A58-SF - Algorithmes d'apprentissage non supervisé - Hiver 2023 - Spécialisation technique en Intelligence Artificielle**<br/>\n",
    "MIT License - Copyright (c) 2023 Mikaël Swawola\n",
    "<br/>"
   ]
  },
  {
   "cell_type": "markdown",
   "metadata": {},
   "source": [
    "---\n",
    "# Tutorat - Systèmes de recommandation"
   ]
  },
  {
   "cell_type": "markdown",
   "metadata": {},
   "source": [
    "On considère la matrice d'utilité Y ci-dessous. Les notes sont données par les utilisateurs Alice, Bob et Eve sur une échelle de 1 à 5. Les produits notés sont nommés a,b,c,d,e,f,g et h."
   ]
  },
  {
   "cell_type": "markdown",
   "metadata": {},
   "source": [
    "|   | Alice  | Bob  | Eve  |\n",
    "|---|---|---|---|\n",
    "| a  | 4   |   | 2  |\n",
    "| b  | 5  | 3  |   |\n",
    "| c  |   | 4  | 1  |\n",
    "| d  | 5  | 3  | 3  |\n",
    "| e  | 1  | 1  |   |\n",
    "| f  |   | 2  | 4  |\n",
    "| g  | 3  | 1  | 5  |\n",
    "| h  | 2  |   | 3  |"
   ]
  },
  {
   "cell_type": "markdown",
   "metadata": {},
   "source": [
    "### Question 1 - À l'aide de Numpy, définir les tableaux `Y` et `R` correspondant à la matrice d'utilité ci-dessus. Afficher ces deux tableaux à l'aide la commande `print`."
   ]
  },
  {
   "cell_type": "markdown",
   "metadata": {},
   "source": [
    "### ----- Votre réponse ci-dessous -----"
   ]
  },
  {
   "cell_type": "code",
   "execution_count": 1,
   "metadata": {},
   "outputs": [],
   "source": [
    "import numpy as np\n",
    "import pandas as pd"
   ]
  },
  {
   "cell_type": "code",
   "execution_count": 40,
   "metadata": {},
   "outputs": [],
   "source": [
    "col_names = ['Alice', 'Bob', 'Eve']\n",
    "Y = np.array([\n",
    "    [4, 0, 2],\n",
    "    [5, 3, 0], \n",
    "    [0, 4, 1],\n",
    "    [5,3, 3],\n",
    "    [1, 1, 0],\n",
    "    [0, 2, 4],\n",
    "    [3, 1, 5],\n",
    "    [2, 0, 3]\n",
    "]\n",
    ")\n",
    "\n",
    "#R = np.where(np.isnan(Y), 0, 1)\n",
    "R = np.where(Y ==0, 0, 1)\n"
   ]
  },
  {
   "cell_type": "code",
   "execution_count": 41,
   "metadata": {},
   "outputs": [
    {
     "name": "stdout",
     "output_type": "stream",
     "text": [
      "[[4 0 2]\n",
      " [5 3 0]\n",
      " [0 4 1]\n",
      " [5 3 3]\n",
      " [1 1 0]\n",
      " [0 2 4]\n",
      " [3 1 5]\n",
      " [2 0 3]]\n",
      "[[1 0 1]\n",
      " [1 1 0]\n",
      " [0 1 1]\n",
      " [1 1 1]\n",
      " [1 1 0]\n",
      " [0 1 1]\n",
      " [1 1 1]\n",
      " [1 0 1]]\n"
     ]
    }
   ],
   "source": [
    "print (Y)\n",
    "print(R)\n"
   ]
  },
  {
   "cell_type": "markdown",
   "metadata": {},
   "source": [
    "### Question 2 - Initialiser les variables `n_produits` et `n_utilisateurs` correspondant respectivement au nombre de produits et au nombre d'utilisateurs."
   ]
  },
  {
   "cell_type": "markdown",
   "metadata": {},
   "source": [
    "### ----- Votre réponse ci-dessous -----"
   ]
  },
  {
   "cell_type": "code",
   "execution_count": 42,
   "metadata": {},
   "outputs": [
    {
     "name": "stdout",
     "output_type": "stream",
     "text": [
      "8\n",
      "3\n"
     ]
    }
   ],
   "source": [
    "#n_produits = len(Y)\n",
    "#n_utilisateurs = len(Y[0,])\n",
    "\n",
    "n_produits = Y.shape[0]\n",
    "n_utilisateurs = Y.shape[1]\n",
    "\n",
    "\n",
    "print(n_produits)\n",
    "print(n_utilisateurs)"
   ]
  },
  {
   "cell_type": "markdown",
   "metadata": {},
   "source": [
    "### Question 3 - Normaliser la matrice `Y` en soustrayant chaque note de la matrice d'utilité par le moyenne des notes. Nommez la matrice normalisée `Y_norm`. Afficher `Y_norm` à l'aide de la commande `print`."
   ]
  },
  {
   "cell_type": "markdown",
   "metadata": {},
   "source": [
    "### ----- Votre réponse ci-dessous -----"
   ]
  },
  {
   "cell_type": "code",
   "execution_count": 45,
   "metadata": {},
   "outputs": [
    {
     "name": "stdout",
     "output_type": "stream",
     "text": [
      "2.1666666666666665\n",
      "2.1666666666666665\n",
      "2.888888888888889\n",
      "[[ 1.11111111 -2.88888889 -0.88888889]\n",
      " [ 2.11111111  0.11111111 -2.88888889]\n",
      " [-2.88888889  1.11111111 -1.88888889]\n",
      " [ 2.11111111  0.11111111  0.11111111]\n",
      " [-1.88888889 -1.88888889 -2.88888889]\n",
      " [-2.88888889 -0.88888889  1.11111111]\n",
      " [ 0.11111111 -1.88888889  2.11111111]\n",
      " [-0.88888889 -2.88888889  0.11111111]]\n"
     ]
    }
   ],
   "source": [
    "print(np.mean(Y))\n",
    "print(np.nanmean(Y))\n",
    "\n",
    "Y_norm = Y - np.nanmean(Y)\n",
    "#print(Y_norm)\n",
    "\n",
    "# Calculate the mean value of Y excluding the 0s\n",
    "mean_value = np.mean(Y[Y != 0])\n",
    "print(mean_value)\n",
    "\n",
    "Y_norm = Y - mean_value\n",
    "print(Y_norm)"
   ]
  },
  {
   "cell_type": "markdown",
   "metadata": {},
   "source": [
    "### Question 4 - Afin d'appliquer l'algorithme de filtrage collaboratif, initialiser aléatoirement les deux matrices `X` et `theta` correspondant respectivement aux vecteurs profile des produits et aux vecteurs profile des utilisateurs. Les dimensions de ces deux matrices doivent être choisies adéquatement pour deux paramètres (n=2). Afficher les dimensions de `X` et `theta` à l'aide de la commande `print`."
   ]
  },
  {
   "cell_type": "markdown",
   "metadata": {},
   "source": [
    "### ----- Votre réponse ci-dessous -----"
   ]
  },
  {
   "cell_type": "code",
   "execution_count": 46,
   "metadata": {},
   "outputs": [
    {
     "name": "stdout",
     "output_type": "stream",
     "text": [
      "(8, 2)\n",
      "(2, 3)\n"
     ]
    }
   ],
   "source": [
    "n=2\n",
    "\n",
    "np.random.seed(2023)\n",
    "X = np.random.rand(n_produits, n)\n",
    "theta = np.random.rand(n, n_utilisateurs)\n",
    "\n",
    "print(X.shape)\n",
    "print(theta.shape)"
   ]
  },
  {
   "cell_type": "markdown",
   "metadata": {},
   "source": [
    "### Question 5 - À l'aide des fonctions disponibles dans le fichier `helpers.py`, entraînez l'algorithme de filtrage collaboratif. Choisissez une régularisation `L` égale à 1. Quelle est la valeur minimale du coût obtenue ?"
   ]
  },
  {
   "cell_type": "markdown",
   "metadata": {},
   "source": [
    "### ----- Votre réponse ci-dessous -----"
   ]
  },
  {
   "cell_type": "code",
   "execution_count": 30,
   "metadata": {},
   "outputs": [],
   "source": [
    "from helpers import cost_reg_func, grad_reg_func"
   ]
  },
  {
   "cell_type": "code",
   "execution_count": 47,
   "metadata": {},
   "outputs": [
    {
     "name": "stdout",
     "output_type": "stream",
     "text": [
      "(8, 2)\n",
      "(2, 3)\n"
     ]
    }
   ],
   "source": [
    "#parameters = np.vstack([X, theta])\n",
    "print(X.shape)\n",
    "print (theta.shape)"
   ]
  },
  {
   "cell_type": "code",
   "execution_count": 49,
   "metadata": {},
   "outputs": [
    {
     "name": "stdout",
     "output_type": "stream",
     "text": [
      "[0.3219883  0.89042245 0.58805226 0.12659609 0.14134122 0.46789559\n",
      " 0.02208966 0.72727471 0.52438734 0.54493524 0.45637326 0.50138226\n",
      " 0.39446855 0.1511723  0.36087518 0.16207701 0.33795869 0.03564821\n",
      " 0.18032328 0.56486165 0.3909914  0.20346149]\n"
     ]
    }
   ],
   "source": [
    "parameters = np.vstack([X, theta.T]).flatten()\n",
    "print(parameters) "
   ]
  },
  {
   "cell_type": "code",
   "execution_count": 50,
   "metadata": {},
   "outputs": [
    {
     "data": {
      "text/plain": [
       "83.89843375513206"
      ]
     },
     "execution_count": 50,
     "metadata": {},
     "output_type": "execute_result"
    }
   ],
   "source": [
    "L = 1\n",
    "\n",
    "parameters = np.vstack([X, theta.T]).flatten()\n",
    "cost_reg_func(parameters, *(Y, R, L, n_produits, n_utilisateurs, n))"
   ]
  },
  {
   "cell_type": "code",
   "execution_count": 51,
   "metadata": {},
   "outputs": [
    {
     "data": {
      "text/plain": [
       "array([-1.64426721,  0.40839252, -1.54200467, -1.63869389, -0.85985929,\n",
       "       -1.80071176, -3.23433324, -1.48858088,  0.14512109,  0.17872016,\n",
       "       -1.29267606, -1.17866571, -2.60725699, -1.40694425, -1.37678399,\n",
       "       -0.47963257, -6.06079812, -8.79399637, -3.45299108, -4.68128428,\n",
       "       -4.9536779 , -6.82022009])"
      ]
     },
     "execution_count": 51,
     "metadata": {},
     "output_type": "execute_result"
    }
   ],
   "source": [
    "parameters = np.vstack([X, theta.T]).flatten()\n",
    "grad_reg_func(parameters, *(Y, R, L, n_produits, n_utilisateurs, n))"
   ]
  },
  {
   "cell_type": "code",
   "execution_count": 52,
   "metadata": {},
   "outputs": [
    {
     "name": "stdout",
     "output_type": "stream",
     "text": [
      "Optimization terminated successfully.\n",
      "         Current function value: 7.467529\n",
      "         Iterations: 18\n",
      "         Function evaluations: 35\n",
      "         Gradient evaluations: 35\n"
     ]
    }
   ],
   "source": [
    "from scipy import optimize\n",
    "\n",
    "initial_parameters = np.vstack([X, theta.T]).flatten()\n",
    "\n",
    "model = optimize.fmin_cg(cost_reg_func, initial_parameters, fprime=grad_reg_func, args=(Y_norm, R, L, n_produits, n_utilisateurs, n))"
   ]
  },
  {
   "cell_type": "code",
   "execution_count": 54,
   "metadata": {},
   "outputs": [
    {
     "data": {
      "text/plain": [
       "(22,)"
      ]
     },
     "execution_count": 54,
     "metadata": {},
     "output_type": "execute_result"
    }
   ],
   "source": [
    "model.shape"
   ]
  },
  {
   "cell_type": "markdown",
   "metadata": {},
   "source": [
    "### Question 6 - À l'aide de la matrice de bas rang, calculez l'ensemble des prédictions."
   ]
  },
  {
   "cell_type": "markdown",
   "metadata": {},
   "source": [
    "### ----- Votre réponse ci-dessous -----"
   ]
  },
  {
   "cell_type": "code",
   "execution_count": 56,
   "metadata": {},
   "outputs": [
    {
     "data": {
      "text/plain": [
       "(11, 2)"
      ]
     },
     "execution_count": 56,
     "metadata": {},
     "output_type": "execute_result"
    }
   ],
   "source": [
    "model_ = model.reshape(n_produits+n_utilisateurs, n)\n",
    "model_.shape"
   ]
  },
  {
   "cell_type": "code",
   "execution_count": 57,
   "metadata": {},
   "outputs": [
    {
     "data": {
      "text/plain": [
       "array([[-0.15927126,  0.60688263],\n",
       "       [ 0.46589215,  0.80631058],\n",
       "       [-0.77332092,  0.45714033],\n",
       "       [ 0.50272835,  0.79331048],\n",
       "       [ 0.35868206, -1.11531399],\n",
       "       [ 0.49026528, -0.33163088],\n",
       "       [ 1.09887885, -0.46396796],\n",
       "       [-0.13252977, -0.37111691]])"
      ]
     },
     "execution_count": 57,
     "metadata": {},
     "output_type": "execute_result"
    }
   ],
   "source": [
    "X_trained = model_[:n_produits,:]\n",
    "X_trained"
   ]
  },
  {
   "cell_type": "code",
   "execution_count": 58,
   "metadata": {},
   "outputs": [
    {
     "data": {
      "text/plain": [
       "array([[ 0.60105223,  1.54221703],\n",
       "       [-0.93344902,  0.82693173],\n",
       "       [ 1.20611469, -0.70810217]])"
      ]
     },
     "execution_count": 58,
     "metadata": {},
     "output_type": "execute_result"
    }
   ],
   "source": [
    "theta_trained = model_[n_produits:,:]\n",
    "theta_trained"
   ]
  },
  {
   "cell_type": "code",
   "execution_count": 61,
   "metadata": {},
   "outputs": [
    {
     "name": "stdout",
     "output_type": "stream",
     "text": [
      "(8, 3)\n"
     ]
    },
    {
     "data": {
      "text/plain": [
       "array([[3.72910327, 3.53941099, 2.26705458],\n",
       "       [4.41242031, 3.12076613, 2.87985798],\n",
       "       [3.12909224, 3.98876839, 1.63247311],\n",
       "       [4.41451182, 3.07563121, 2.93349206],\n",
       "       [1.38441931, 1.63178894, 4.11125684],\n",
       "       [2.67211713, 2.15701514, 3.71503359],\n",
       "       [2.83383318, 1.47947167, 4.54279953],\n",
       "       [2.23688875, 2.70571032, 2.99183148]])"
      ]
     },
     "execution_count": 61,
     "metadata": {},
     "output_type": "execute_result"
    }
   ],
   "source": [
    "## Recommendation\n",
    "predictions = np.dot(X_trained, theta_trained.T)\n",
    "print(predictions.shape)\n",
    "predictions + mean_value"
   ]
  },
  {
   "cell_type": "markdown",
   "metadata": {},
   "source": [
    "### Question 7 - Calculez et affichez le RMSE."
   ]
  },
  {
   "cell_type": "markdown",
   "metadata": {},
   "source": [
    "### ----- Votre réponse ci-dessous -----"
   ]
  },
  {
   "cell_type": "code",
   "execution_count": 62,
   "metadata": {},
   "outputs": [
    {
     "data": {
      "text/plain": [
       "1.6333208566985353"
      ]
     },
     "execution_count": 62,
     "metadata": {},
     "output_type": "execute_result"
    }
   ],
   "source": [
    "from sklearn.metrics import mean_squared_error\n",
    "\n",
    "\n",
    "mean_squared_error(Y_norm, predictions, squared=False)"
   ]
  },
  {
   "cell_type": "markdown",
   "metadata": {},
   "source": [
    "### Question 8 - Ajoutez un nouvel utilisateur nommé David. Quelle recommandation lui sera faite pour le produit \"e\" ? Entrainez à nouveau le modèle."
   ]
  },
  {
   "cell_type": "markdown",
   "metadata": {},
   "source": [
    "### ----- Votre réponse ci-dessous -----"
   ]
  },
  {
   "cell_type": "code",
   "execution_count": null,
   "metadata": {},
   "outputs": [],
   "source": []
  },
  {
   "cell_type": "markdown",
   "metadata": {},
   "source": [
    "### Question 9 - Trouver le plus proche voisin du produit \"h\" à l'aide d'un diagramme en nuage de points. Confirmer la lectture du graphique par une méthode analytique."
   ]
  },
  {
   "cell_type": "markdown",
   "metadata": {},
   "source": [
    "### ----- Votre réponse ci-dessous -----"
   ]
  },
  {
   "cell_type": "code",
   "execution_count": null,
   "metadata": {},
   "outputs": [],
   "source": []
  }
 ],
 "metadata": {
  "kernelspec": {
   "display_name": "Python 3.10.8 64-bit",
   "language": "python",
   "name": "python3"
  },
  "language_info": {
   "codemirror_mode": {
    "name": "ipython",
    "version": 3
   },
   "file_extension": ".py",
   "mimetype": "text/x-python",
   "name": "python",
   "nbconvert_exporter": "python",
   "pygments_lexer": "ipython3",
   "version": "3.10.8"
  },
  "vscode": {
   "interpreter": {
    "hash": "8a94588eda9d64d9e9a351ab8144e55b1fabf5113b54e67dd26a8c27df0381b3"
   }
  }
 },
 "nbformat": 4,
 "nbformat_minor": 4
}
