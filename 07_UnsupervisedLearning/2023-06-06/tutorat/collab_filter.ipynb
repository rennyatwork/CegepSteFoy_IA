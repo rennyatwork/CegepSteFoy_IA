{
 "cells": [
  {
   "cell_type": "code",
   "execution_count": 57,
   "metadata": {},
   "outputs": [],
   "source": [
    "import numpy as np\n"
   ]
  },
  {
   "cell_type": "code",
   "execution_count": 58,
   "metadata": {},
   "outputs": [
    {
     "name": "stdout",
     "output_type": "stream",
     "text": [
      "2.888888888888889\n",
      "[[ 1.11111111 -2.88888889 -0.88888889]\n",
      " [ 2.11111111  0.11111111 -2.88888889]\n",
      " [-2.88888889  1.11111111 -1.88888889]\n",
      " [ 2.11111111  0.11111111  0.11111111]\n",
      " [-1.88888889 -1.88888889 -2.88888889]\n",
      " [-2.88888889 -0.88888889  1.11111111]\n",
      " [ 0.11111111 -1.88888889  2.11111111]\n",
      " [-0.88888889 -2.88888889  0.11111111]]\n"
     ]
    }
   ],
   "source": [
    "\n",
    "Y = np.array([\n",
    "    [4, 0, 2],\n",
    "    [5, 3, 0],\n",
    "    [0, 4, 1],\n",
    "    [5, 3, 3],\n",
    "    [1, 1, 0],\n",
    "    [0, 2, 4],\n",
    "    [3, 1, 5],\n",
    "    [2, 0, 3]\n",
    "])\n",
    "\n",
    "R = np.where(Y == 0, 0, 1)\n",
    "\n",
    "# Calculate the mean value of Y excluding the 0s\n",
    "mean_value = np.mean(Y[Y != 0])\n",
    "print(mean_value)\n",
    "\n",
    "Y_norm = Y - mean_value\n",
    "print(Y_norm)"
   ]
  },
  {
   "cell_type": "code",
   "execution_count": 59,
   "metadata": {},
   "outputs": [],
   "source": [
    "import numpy as np\n",
    "from scipy import optimize\n",
    "\n",
    "def grad_reg_func(params, Y, R, n_produits, n_utilisateurs, n):\n",
    "    X = params[:n_produits * n].reshape(n_produits, n)\n",
    "    Theta = params[n_produits * n:].reshape(n_utilisateurs, n)\n",
    "    \n",
    "    error = np.dot(X, Theta.T) * R - Y\n",
    "    X_grad = np.dot(error, Theta)\n",
    "    Theta_grad = np.dot(error.T, X)\n",
    "    \n",
    "    X_grad_reg = X_grad + lambda_val * X\n",
    "    Theta_grad_reg = Theta_grad + lambda_val * Theta\n",
    "    \n",
    "    grad = np.concatenate((X_grad_reg.flatten(), Theta_grad_reg.flatten()))\n",
    "    return grad\n",
    "\n",
    "def cost_reg_func(params, Y, R, n_produits, n_utilisateurs, n):\n",
    "    X = params[:n_produits * n].reshape(n_produits, n)\n",
    "    Theta = params[n_produits * n:].reshape(n_utilisateurs, n)\n",
    "    \n",
    "    error = np.dot(X, Theta.T) * R - Y\n",
    "    J = 0.5 * np.sum(error**2)\n",
    "    \n",
    "    reg_term = 0.5 * lambda_val * (np.sum(Theta**2) + np.sum(X**2))\n",
    "    J_reg = J + reg_term\n",
    "    \n",
    "    return J_reg\n",
    "\n",
    "# Set the lambda regularization parameter\n",
    "lambda_val = 0.1"
   ]
  },
  {
   "cell_type": "markdown",
   "metadata": {},
   "source": [
    "In the above code, we define the grad_reg_func and cost_reg_func functions, which represent the gradient function and cost function, respectively. These functions take the parameters params, the data matrix Y, the binary mask R, the number of products n_produits, the number of users n_utilisateurs, and the number of features n. The gradient function computes the gradients of the cost function with respect to the parameters X and Theta, while the cost function computes the regularized cost.\n",
    "\n",
    "Next, we'll perform collaborative filtering using the fmin_cg function and calculate the prediction matrix:"
   ]
  },
  {
   "cell_type": "code",
   "execution_count": 62,
   "metadata": {},
   "outputs": [
    {
     "name": "stdout",
     "output_type": "stream",
     "text": [
      "Warning: Maximum number of iterations has been exceeded.\n",
      "         Current function value: 1.935236\n",
      "         Iterations: 100\n",
      "         Function evaluations: 157\n",
      "         Gradient evaluations: 157\n",
      "Warning: Desired error not necessarily achieved due to precision loss.\n",
      "         Current function value: 45.456269\n",
      "         Iterations: 2\n",
      "         Function evaluations: 51\n",
      "         Gradient evaluations: 40\n"
     ]
    }
   ],
   "source": [
    "n_produits = Y.shape[0]\n",
    "n_utilisateurs = Y.shape[1]\n",
    "n = 2\n",
    "\n",
    "# Initialize random parameter values\n",
    "X_initial = np.random.randn(n_produits, n)\n",
    "Theta_initial = np.random.randn(n_utilisateurs, n)\n",
    "params_initial = np.concatenate((X_initial.flatten(), Theta_initial.flatten()))\n",
    "\n",
    "# Optimize using fmin_cg\n",
    "optimized_params = optimize.fmin_cg(cost_reg_func, params_initial, fprime=grad_reg_func,\n",
    "                                    args=(Y, R, n_produits, n_utilisateurs, n), maxiter=100)\n",
    "\n",
    "# y_norm\n",
    "optimized_params_2 = optimize.fmin_cg(cost_reg_func, params_initial, fprime=grad_reg_func,\n",
    "                                    args=(Y_norm, R, n_produits, n_utilisateurs, n), maxiter=10000)\n",
    "\n",
    "# Extract optimized X and Theta values from the parameters\n",
    "X_optimized = optimized_params[:n_produits * n].reshape(n_produits, n)\n",
    "Theta_optimized = optimized_params[n_produits * n:].reshape(n_utilisateurs, n)\n",
    "\n",
    "# Calculate the prediction matrix\n",
    "prediction_matrix = np.dot(X_optimized, Theta_optimized.T)"
   ]
  },
  {
   "cell_type": "markdown",
   "metadata": {},
   "source": [
    "In the code above, we first initialize random parameter values for X and Theta. Then, we use the optimize.fmin_cg function to optimize the cost function cost_reg_func using the gradient function grad_reg_func. The args parameter is used to pass additional arguments (Y, R, n_produits, n_utilisateurs, n) to the cost and gradient functions. We set maxiter to limit the maximum number of iterations for optimization.\n",
    "\n",
    "Finally, we'll calculate the RMSE error and print it:"
   ]
  },
  {
   "cell_type": "code",
   "execution_count": 63,
   "metadata": {},
   "outputs": [
    {
     "name": "stdout",
     "output_type": "stream",
     "text": [
      "RMSE error:  0.04064767316787302\n"
     ]
    }
   ],
   "source": [
    "# Calculate RMSE error\n",
    "error_matrix = (prediction_matrix - Y) * R\n",
    "squared_error = np.sum(error_matrix**2)\n",
    "mse = squared_error / np.sum(R)\n",
    "rmse = np.sqrt(mse)\n",
    "\n",
    "print(\"RMSE error: \", rmse)"
   ]
  },
  {
   "cell_type": "code",
   "execution_count": 6,
   "metadata": {},
   "outputs": [
    {
     "data": {
      "text/plain": [
       "array([[4, 0, 2],\n",
       "       [5, 3, 0],\n",
       "       [0, 4, 1],\n",
       "       [5, 3, 3],\n",
       "       [1, 1, 0],\n",
       "       [0, 2, 4],\n",
       "       [3, 1, 5],\n",
       "       [2, 0, 3]])"
      ]
     },
     "execution_count": 6,
     "metadata": {},
     "output_type": "execute_result"
    }
   ],
   "source": [
    "Y"
   ]
  },
  {
   "cell_type": "markdown",
   "metadata": {},
   "source": [
    "Let's suppose we add a new user (new column).\n",
    "What is the recommendation for this new user about the 5th product (line)?\n",
    "\n"
   ]
  },
  {
   "cell_type": "code",
   "execution_count": 16,
   "metadata": {},
   "outputs": [
    {
     "data": {
      "text/plain": [
       "array([[4.        , 0.        , 2.        , 2.88888889],\n",
       "       [5.        , 3.        , 0.        , 2.88888889],\n",
       "       [0.        , 4.        , 1.        , 2.88888889],\n",
       "       [5.        , 3.        , 3.        , 2.88888889],\n",
       "       [1.        , 1.        , 0.        , 2.88888889],\n",
       "       [0.        , 2.        , 4.        , 2.88888889],\n",
       "       [3.        , 1.        , 5.        , 2.88888889],\n",
       "       [2.        , 0.        , 3.        , 2.88888889]])"
      ]
     },
     "execution_count": 16,
     "metadata": {},
     "output_type": "execute_result"
    }
   ],
   "source": [
    "# Add the new user's ratings to the data matrix Y\n",
    "#new_user_ratings = np.array([4, 0, 3])  # Assuming the new user's ratings for the existing products\n",
    "new_user_ratings =  np.full(n_produits, mean_value)\n",
    "Y_with_new_user = np.hstack((Y, new_user_ratings.reshape(-1, 1)))\n",
    "Y_with_new_user"
   ]
  },
  {
   "cell_type": "code",
   "execution_count": 17,
   "metadata": {},
   "outputs": [
    {
     "data": {
      "text/plain": [
       "array([[ 0.49646935, -0.26418711]])"
      ]
     },
     "execution_count": 17,
     "metadata": {},
     "output_type": "execute_result"
    }
   ],
   "source": [
    "\n",
    "# Update the number of users\n",
    "n_utilisateurs = Y_with_new_user.shape[1]\n",
    "\n",
    "# Initialize random parameter values for the new user\n",
    "Theta_new_user_initial = np.random.randn(1, n)\n",
    "Theta_new_user_initial"
   ]
  },
  {
   "cell_type": "code",
   "execution_count": 23,
   "metadata": {},
   "outputs": [],
   "source": [
    "\n",
    "# Concatenate the initial parameters with the new user's parameters\n",
    "params_initial_with_new_user = np.concatenate((optimized_params, Theta_new_user_initial.flatten()))\n",
    "params_initial_with_new_user\n",
    "\n",
    "# Update the shape of R to match Y_with_new_user\n",
    "R_with_new_user = np.hstack((R, np.ones((n_produits, 1))))\n",
    "\n",
    "# Initialize random parameter values for the new user\n",
    "Theta_new_user_initial = np.random.randn(1, n)"
   ]
  },
  {
   "cell_type": "code",
   "execution_count": 21,
   "metadata": {},
   "outputs": [
    {
     "name": "stdout",
     "output_type": "stream",
     "text": [
      "(24,)\n",
      "(8, 4)\n",
      "(8, 3)\n"
     ]
    }
   ],
   "source": [
    "print(params_initial_with_new_user.shape)\n",
    "print(Y_with_new_user.shape)\n",
    "print(R.shape)"
   ]
  },
  {
   "cell_type": "code",
   "execution_count": 24,
   "metadata": {},
   "outputs": [
    {
     "name": "stdout",
     "output_type": "stream",
     "text": [
      "Optimization terminated successfully.\n",
      "         Current function value: 3.047806\n",
      "         Iterations: 60\n",
      "         Function evaluations: 104\n",
      "         Gradient evaluations: 104\n"
     ]
    },
    {
     "data": {
      "text/plain": [
       "array([ 0.47853955,  1.35066324,  0.41086709,  1.65884804, -0.15141955,\n",
       "        2.21405763,  0.68194245,  1.59457118,  1.75017871,  0.18347699,\n",
       "        1.2333551 ,  0.93133386,  1.64444594,  0.64976844,  1.0626729 ,\n",
       "        0.60395333,  0.43579182,  2.86995741,  0.18673557,  1.77032346,\n",
       "        2.66291507,  0.64842758,  1.40978096,  1.38488693])"
      ]
     },
     "execution_count": 24,
     "metadata": {},
     "output_type": "execute_result"
    }
   ],
   "source": [
    "\n",
    "# Optimize using fmin_cg with the new user's data\n",
    "optimized_params_with_new_user = optimize.fmin_cg(cost_reg_func, params_initial_with_new_user, fprime=grad_reg_func,\n",
    "                                                  args=(Y_with_new_user, R_with_new_user, n_produits, n_utilisateurs, n), maxiter=100)\n",
    "\n",
    "optimized_params_with_new_user"
   ]
  },
  {
   "cell_type": "code",
   "execution_count": 26,
   "metadata": {},
   "outputs": [
    {
     "name": "stdout",
     "output_type": "stream",
     "text": [
      "[Theta_optimized_with_new_user]: \n",
      "[[0.43579182 2.86995741]\n",
      " [0.18673557 1.77032346]\n",
      " [2.66291507 0.64842758]\n",
      " [1.40978096 1.38488693]]\n",
      "prediction recommendation 5th product for the new user: \n",
      "0.20978755055902287\n"
     ]
    }
   ],
   "source": [
    "\n",
    "# Extract optimized Theta values including the new user's parameters\n",
    "Theta_optimized_with_new_user = optimized_params_with_new_user[n_produits * n:].reshape(n_utilisateurs, n)\n",
    "print(\"[Theta_optimized_with_new_user]: \")\n",
    "print(Theta_optimized_with_new_user)\n",
    "\n",
    "# Calculate the prediction for the new user and the 5th product\n",
    "new_user_index = n_utilisateurs - 1  # Index of the new user in the Theta_optimized_with_new_user matrix\n",
    "product_index = 4  # Index of the 5th product in the Y matrix (zero-based index)\n",
    "\n",
    "prediction_new_user_5th_product = np.dot(X_optimized[product_index], Theta_optimized_with_new_user[new_user_index])\n",
    "\n",
    "print (\"prediction recommendation 5th product for the new user: \")\n",
    "print(prediction_new_user_5th_product)"
   ]
  },
  {
   "cell_type": "markdown",
   "metadata": {},
   "source": [
    "how find the nearest neighbour of the first product (first line)?\n",
    "I need a scatterplot graph and a nalytic answer\n",
    "\n",
    "ChatGPT\n",
    "To find the nearest neighbor of the first product (first line) using collaborative filtering, you can calculate the similarity between the first product and all other products. The product with the highest similarity will be considered the nearest neighbor.\n",
    "\n",
    "Here's how you can find the nearest neighbor and create a scatter plot:"
   ]
  },
  {
   "cell_type": "code",
   "execution_count": 27,
   "metadata": {},
   "outputs": [],
   "source": [
    "import numpy as np\n",
    "import matplotlib.pyplot as plt"
   ]
  },
  {
   "cell_type": "code",
   "execution_count": 28,
   "metadata": {},
   "outputs": [],
   "source": [
    "def calculate_similarity(product1, product2):\n",
    "    # Calculate the cosine similarity between two products\n",
    "    dot_product = np.dot(product1, product2)\n",
    "    norm_product1 = np.linalg.norm(product1)\n",
    "    norm_product2 = np.linalg.norm(product2)\n",
    "    similarity = dot_product / (norm_product1 * norm_product2)\n",
    "    return similarity"
   ]
  },
  {
   "cell_type": "code",
   "execution_count": 51,
   "metadata": {},
   "outputs": [
    {
     "name": "stdout",
     "output_type": "stream",
     "text": [
      "nearest neighbor: \n",
      "1\n",
      "7\n",
      "7\n",
      "[0, 1, 2, 3, 5, 6, 7]\n",
      "[0.6324555320336759, 0.9701425001453319, 0.6859943405700353, 0.8626621856275073, 0.31622776601683794, 0.47809144373375745, 0.39223227027636803]\n"
     ]
    }
   ],
   "source": [
    "# Calculate the similarity between the first product and all other products\n",
    "first_product = Y[0]\n",
    "\n",
    "idx_comparing_prod = 4\n",
    "comparing_prod = Y[idx_comparing_prod]\n",
    "\n",
    "similarities = []\n",
    "product_indices = []\n",
    "\n",
    "for i, product in enumerate(Y):\n",
    "    if i == idx_comparing_prod:\n",
    "        continue\n",
    "    similarity = calculate_similarity(comparing_prod, product)\n",
    "    similarities.append(similarity)\n",
    "    product_indices.append(i)\n",
    "\n",
    "# Find the index of the nearest neighbor\n",
    "nearest_neighbor_index = np.argmax(similarities)\n",
    "print(\"nearest neighbor: \")\n",
    "print(nearest_neighbor_index)\n",
    "print(len(product_indices))\n",
    "print(len(similarities))\n",
    "print(product_indices)\n",
    "print(similarities)"
   ]
  },
  {
   "cell_type": "code",
   "execution_count": 56,
   "metadata": {},
   "outputs": [
    {
     "data": {
      "image/png": "[encoded data removed]",
      "text/plain": [
       "<Figure size 640x480 with 1 Axes>"
      ]
     },
     "metadata": {},
     "output_type": "display_data"
    },
    {
     "name": "stdout",
     "output_type": "stream",
     "text": [
      "Nearest Neighbor of product 4: is Product:  1\n"
     ]
    }
   ],
   "source": [
    "# Scatter plot\n",
    "#x = np.arange(n_utilisateurs)\n",
    "plt.scatter(product_indices, similarities)\n",
    "plt.xlabel('Product Index')\n",
    "plt.ylabel('Similarity')\n",
    "plt.title('Similarity to Product idx ' + str(idx_comparing_prod) )\n",
    "plt.xticks(product_indices)\n",
    "plt.show()\n",
    "\n",
    "# Analytic answer\n",
    "print(\"Nearest Neighbor of product \" + str(idx_comparing_prod) +\": is Product: \", nearest_neighbor_index )"
   ]
  }
 ],
 "metadata": {
  "kernelspec": {
   "display_name": "Python 3.10.8 64-bit",
   "language": "python",
   "name": "python3"
  },
  "language_info": {
   "codemirror_mode": {
    "name": "ipython",
    "version": 3
   },
   "file_extension": ".py",
   "mimetype": "text/x-python",
   "name": "python",
   "nbconvert_exporter": "python",
   "pygments_lexer": "ipython3",
   "version": "3.10.8"
  },
  "orig_nbformat": 4,
  "vscode": {
   "interpreter": {
    "hash": "8a94588eda9d64d9e9a351ab8144e55b1fabf5113b54e67dd26a8c27df0381b3"
   }
  }
 },
 "nbformat": 4,
 "nbformat_minor": 2
}
