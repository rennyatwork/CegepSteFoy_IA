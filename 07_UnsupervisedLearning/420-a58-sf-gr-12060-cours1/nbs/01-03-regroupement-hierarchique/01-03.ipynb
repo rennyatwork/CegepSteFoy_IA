{
 "cells": [
  {
   "cell_type": "markdown",
   "metadata": {},
   "source": [
    "**420-A58-SF - Algorithmes d'apprentissage non supervisé - Hiver 2023 - Spécialisation technique en Intelligence Artificielle**<br/>\n",
    "MIT License - Copyright (c) 2023 Mikaël Swawola\n",
    "<br/>\n",
    "![Travaux Pratiques - Regroupement hiérachique](static/01-03-banner.png)\n",
    "<br/>\n",
    "**Objectif:** cette séance de travaux pratiques a pour objectif l'analyse de données génomiques (jeu de données NCI60). Les techniques mise en oeuvre seront l'ACP et le regroupement hiérarchique"
   ]
  },
  {
   "cell_type": "code",
   "execution_count": 1,
   "metadata": {},
   "outputs": [],
   "source": [
    "%reload_ext autoreload\n",
    "%autoreload 2\n",
    "%matplotlib inline"
   ]
  },
  {
   "cell_type": "code",
   "execution_count": null,
   "metadata": {},
   "outputs": [],
   "source": [
    "import numpy as np\n",
    "import pandas as pd\n",
    "\n",
    "# Le reste des modules sera importé au fur et à mesure des exercices ..."
   ]
  },
  {
   "cell_type": "code",
   "execution_count": 2,
   "metadata": {},
   "outputs": [],
   "source": [
    "import seaborn as sns; sns.set()\n",
    "import matplotlib.pyplot as plt\n",
    "# Configuration de la visualisation\n",
    "sns.set(style=\"darkgrid\")\n",
    "sns.set_context(\"notebook\", font_scale=1.5, rc={\"lines.linewidth\": 2.5})\n",
    "plt.rcParams['figure.figsize']=(12,8)"
   ]
  },
  {
   "cell_type": "markdown",
   "metadata": {},
   "source": [
    "## 1 - Lecture des données"
   ]
  },
  {
   "cell_type": "markdown",
   "metadata": {},
   "source": [
    "Les méthodes d'apprentissage non supervisé comme l'ACP et le clustering sont très populaires en analyse des données génomiques. Ces méthodes seront illustrées sur le jeu de données de biopuces NCI60, qui\n",
    "consiste en 6830 **mesures d'expression de gènes** sur 64 lignées de cellules cancéreuses."
   ]
  },
  {
   "cell_type": "markdown",
   "metadata": {},
   "source": [
    "**Exercice 1-1 - À l'aide de la librairie Pandas, lire le fichier de données `NCI60.csv`**"
   ]
  },
  {
   "cell_type": "code",
   "execution_count": 4,
   "metadata": {},
   "outputs": [],
   "source": [
    "import pandas as pd\n",
    "# Compléter cette cellule ~ 1 ligne de code\n",
    "df = pd.read_csv('../../data/NCI60.csv')"
   ]
  },
  {
   "cell_type": "markdown",
   "metadata": {},
   "source": [
    "**Exercice 1-2 - Combien d'observations et de variables compte le jeu de données ? Que constatez vous ?**"
   ]
  },
  {
   "cell_type": "code",
   "execution_count": 5,
   "metadata": {},
   "outputs": [
    {
     "data": {
      "text/plain": [
       "(64, 6831)"
      ]
     },
     "execution_count": 5,
     "metadata": {},
     "output_type": "execute_result"
    }
   ],
   "source": [
    "# Compléter cette cellule ~ 1 ligne de code\n",
    "df.shape\n",
    "\n",
    "## fat data = len(columns) > len(rows)"
   ]
  },
  {
   "cell_type": "code",
   "execution_count": 6,
   "metadata": {},
   "outputs": [
    {
     "data": {
      "text/html": [
       "<div>\n",
       "<style scoped>\n",
       "    .dataframe tbody tr th:only-of-type {\n",
       "        vertical-align: middle;\n",
       "    }\n",
       "\n",
       "    .dataframe tbody tr th {\n",
       "        vertical-align: top;\n",
       "    }\n",
       "\n",
       "    .dataframe thead th {\n",
       "        text-align: right;\n",
       "    }\n",
       "</style>\n",
       "<table border=\"1\" class=\"dataframe\">\n",
       "  <thead>\n",
       "    <tr style=\"text-align: right;\">\n",
       "      <th></th>\n",
       "      <th>Unnamed: 0</th>\n",
       "      <th>1</th>\n",
       "      <th>2</th>\n",
       "      <th>3</th>\n",
       "      <th>4</th>\n",
       "      <th>5</th>\n",
       "      <th>6</th>\n",
       "      <th>7</th>\n",
       "      <th>8</th>\n",
       "      <th>9</th>\n",
       "      <th>...</th>\n",
       "      <th>6821</th>\n",
       "      <th>6822</th>\n",
       "      <th>6823</th>\n",
       "      <th>6824</th>\n",
       "      <th>6825</th>\n",
       "      <th>6826</th>\n",
       "      <th>6827</th>\n",
       "      <th>6828</th>\n",
       "      <th>6829</th>\n",
       "      <th>6830</th>\n",
       "    </tr>\n",
       "  </thead>\n",
       "  <tbody>\n",
       "    <tr>\n",
       "      <th>0</th>\n",
       "      <td>V1</td>\n",
       "      <td>0.300000</td>\n",
       "      <td>1.180000</td>\n",
       "      <td>0.550000</td>\n",
       "      <td>1.140000</td>\n",
       "      <td>-0.265000</td>\n",
       "      <td>-7.000000e-02</td>\n",
       "      <td>0.350000</td>\n",
       "      <td>-0.315000</td>\n",
       "      <td>-0.450000</td>\n",
       "      <td>...</td>\n",
       "      <td>-0.990020</td>\n",
       "      <td>0.000000</td>\n",
       "      <td>0.030000</td>\n",
       "      <td>-0.175000</td>\n",
       "      <td>0.629981</td>\n",
       "      <td>-0.030000</td>\n",
       "      <td>0.000000</td>\n",
       "      <td>0.280000</td>\n",
       "      <td>-0.340000</td>\n",
       "      <td>-1.930000</td>\n",
       "    </tr>\n",
       "    <tr>\n",
       "      <th>1</th>\n",
       "      <td>V2</td>\n",
       "      <td>0.679961</td>\n",
       "      <td>1.289961</td>\n",
       "      <td>0.169961</td>\n",
       "      <td>0.379961</td>\n",
       "      <td>0.464961</td>\n",
       "      <td>5.799610e-01</td>\n",
       "      <td>0.699961</td>\n",
       "      <td>0.724961</td>\n",
       "      <td>-0.040039</td>\n",
       "      <td>...</td>\n",
       "      <td>-0.270058</td>\n",
       "      <td>-0.300039</td>\n",
       "      <td>-0.250039</td>\n",
       "      <td>-0.535039</td>\n",
       "      <td>0.109941</td>\n",
       "      <td>-0.860039</td>\n",
       "      <td>-1.250049</td>\n",
       "      <td>-0.770039</td>\n",
       "      <td>-0.390039</td>\n",
       "      <td>-2.000039</td>\n",
       "    </tr>\n",
       "    <tr>\n",
       "      <th>2</th>\n",
       "      <td>V3</td>\n",
       "      <td>0.940000</td>\n",
       "      <td>-0.040000</td>\n",
       "      <td>-0.170000</td>\n",
       "      <td>-0.040000</td>\n",
       "      <td>-0.605000</td>\n",
       "      <td>0.000000e+00</td>\n",
       "      <td>0.090000</td>\n",
       "      <td>0.645000</td>\n",
       "      <td>0.430000</td>\n",
       "      <td>...</td>\n",
       "      <td>0.319981</td>\n",
       "      <td>0.120000</td>\n",
       "      <td>-0.740000</td>\n",
       "      <td>-0.595000</td>\n",
       "      <td>-0.270020</td>\n",
       "      <td>-0.150000</td>\n",
       "      <td>0.000000</td>\n",
       "      <td>-0.120000</td>\n",
       "      <td>-0.410000</td>\n",
       "      <td>0.000000</td>\n",
       "    </tr>\n",
       "    <tr>\n",
       "      <th>3</th>\n",
       "      <td>V4</td>\n",
       "      <td>0.280000</td>\n",
       "      <td>-0.310000</td>\n",
       "      <td>0.680000</td>\n",
       "      <td>-0.810000</td>\n",
       "      <td>0.625000</td>\n",
       "      <td>-1.387779e-17</td>\n",
       "      <td>0.170000</td>\n",
       "      <td>0.245000</td>\n",
       "      <td>0.020000</td>\n",
       "      <td>...</td>\n",
       "      <td>-1.240020</td>\n",
       "      <td>-0.110000</td>\n",
       "      <td>-0.160000</td>\n",
       "      <td>0.095000</td>\n",
       "      <td>-0.350019</td>\n",
       "      <td>-0.300000</td>\n",
       "      <td>-1.150010</td>\n",
       "      <td>1.090000</td>\n",
       "      <td>-0.260000</td>\n",
       "      <td>-1.100000</td>\n",
       "    </tr>\n",
       "    <tr>\n",
       "      <th>4</th>\n",
       "      <td>V5</td>\n",
       "      <td>0.485000</td>\n",
       "      <td>-0.465000</td>\n",
       "      <td>0.395000</td>\n",
       "      <td>0.905000</td>\n",
       "      <td>0.200000</td>\n",
       "      <td>-5.000000e-03</td>\n",
       "      <td>0.085000</td>\n",
       "      <td>0.110000</td>\n",
       "      <td>0.235000</td>\n",
       "      <td>...</td>\n",
       "      <td>0.554980</td>\n",
       "      <td>-0.775000</td>\n",
       "      <td>-0.515000</td>\n",
       "      <td>-0.320000</td>\n",
       "      <td>0.634980</td>\n",
       "      <td>0.605000</td>\n",
       "      <td>0.000000</td>\n",
       "      <td>0.745000</td>\n",
       "      <td>0.425000</td>\n",
       "      <td>0.145000</td>\n",
       "    </tr>\n",
       "  </tbody>\n",
       "</table>\n",
       "<p>5 rows × 6831 columns</p>\n",
       "</div>"
      ],
      "text/plain": [
       "  Unnamed: 0         1         2         3         4         5             6  \\\n",
       "0         V1  0.300000  1.180000  0.550000  1.140000 -0.265000 -7.000000e-02   \n",
       "1         V2  0.679961  1.289961  0.169961  0.379961  0.464961  5.799610e-01   \n",
       "2         V3  0.940000 -0.040000 -0.170000 -0.040000 -0.605000  0.000000e+00   \n",
       "3         V4  0.280000 -0.310000  0.680000 -0.810000  0.625000 -1.387779e-17   \n",
       "4         V5  0.485000 -0.465000  0.395000  0.905000  0.200000 -5.000000e-03   \n",
       "\n",
       "          7         8         9  ...      6821      6822      6823      6824  \\\n",
       "0  0.350000 -0.315000 -0.450000  ... -0.990020  0.000000  0.030000 -0.175000   \n",
       "1  0.699961  0.724961 -0.040039  ... -0.270058 -0.300039 -0.250039 -0.535039   \n",
       "2  0.090000  0.645000  0.430000  ...  0.319981  0.120000 -0.740000 -0.595000   \n",
       "3  0.170000  0.245000  0.020000  ... -1.240020 -0.110000 -0.160000  0.095000   \n",
       "4  0.085000  0.110000  0.235000  ...  0.554980 -0.775000 -0.515000 -0.320000   \n",
       "\n",
       "       6825      6826      6827      6828      6829      6830  \n",
       "0  0.629981 -0.030000  0.000000  0.280000 -0.340000 -1.930000  \n",
       "1  0.109941 -0.860039 -1.250049 -0.770039 -0.390039 -2.000039  \n",
       "2 -0.270020 -0.150000  0.000000 -0.120000 -0.410000  0.000000  \n",
       "3 -0.350019 -0.300000 -1.150010  1.090000 -0.260000 -1.100000  \n",
       "4  0.634980  0.605000  0.000000  0.745000  0.425000  0.145000  \n",
       "\n",
       "[5 rows x 6831 columns]"
      ]
     },
     "execution_count": 6,
     "metadata": {},
     "output_type": "execute_result"
    }
   ],
   "source": [
    "df.head()"
   ]
  },
  {
   "cell_type": "markdown",
   "metadata": {},
   "source": [
    "**Exercice 1-3 - Une chance, ce jeu de données est fourni avec le type de cancer pour chaque cellule cancéreuse. Lire le fichier `NCI60-labels.csv`**"
   ]
  },
  {
   "cell_type": "code",
   "execution_count": 9,
   "metadata": {},
   "outputs": [
    {
     "data": {
      "text/html": [
       "<div>\n",
       "<style scoped>\n",
       "    .dataframe tbody tr th:only-of-type {\n",
       "        vertical-align: middle;\n",
       "    }\n",
       "\n",
       "    .dataframe tbody tr th {\n",
       "        vertical-align: top;\n",
       "    }\n",
       "\n",
       "    .dataframe thead th {\n",
       "        text-align: right;\n",
       "    }\n",
       "</style>\n",
       "<table border=\"1\" class=\"dataframe\">\n",
       "  <thead>\n",
       "    <tr style=\"text-align: right;\">\n",
       "      <th></th>\n",
       "      <th>Unnamed: 0</th>\n",
       "    </tr>\n",
       "  </thead>\n",
       "  <tbody>\n",
       "    <tr>\n",
       "      <th>count</th>\n",
       "      <td>64.000000</td>\n",
       "    </tr>\n",
       "    <tr>\n",
       "      <th>mean</th>\n",
       "      <td>32.500000</td>\n",
       "    </tr>\n",
       "    <tr>\n",
       "      <th>std</th>\n",
       "      <td>18.618987</td>\n",
       "    </tr>\n",
       "    <tr>\n",
       "      <th>min</th>\n",
       "      <td>1.000000</td>\n",
       "    </tr>\n",
       "    <tr>\n",
       "      <th>25%</th>\n",
       "      <td>16.750000</td>\n",
       "    </tr>\n",
       "    <tr>\n",
       "      <th>50%</th>\n",
       "      <td>32.500000</td>\n",
       "    </tr>\n",
       "    <tr>\n",
       "      <th>75%</th>\n",
       "      <td>48.250000</td>\n",
       "    </tr>\n",
       "    <tr>\n",
       "      <th>max</th>\n",
       "      <td>64.000000</td>\n",
       "    </tr>\n",
       "  </tbody>\n",
       "</table>\n",
       "</div>"
      ],
      "text/plain": [
       "       Unnamed: 0\n",
       "count   64.000000\n",
       "mean    32.500000\n",
       "std     18.618987\n",
       "min      1.000000\n",
       "25%     16.750000\n",
       "50%     32.500000\n",
       "75%     48.250000\n",
       "max     64.000000"
      ]
     },
     "execution_count": 9,
     "metadata": {},
     "output_type": "execute_result"
    }
   ],
   "source": [
    "# Compléter cette cellule ~ 1 ligne de code\n",
    "df2 = pd.read_csv('../../data/NCI60-labels.csv')\n",
    "df2.describe()"
   ]
  },
  {
   "cell_type": "markdown",
   "metadata": {},
   "source": [
    "**Exercice 1-4 - Selon vous, est-il nécéssaire de mettre à l'échelle (standardiser ou normaliser) le jeu de données ? Justifier votre réponse.**"
   ]
  },
  {
   "cell_type": "code",
   "execution_count": 16,
   "metadata": {},
   "outputs": [
    {
     "data": {
      "text/html": [
       "<div>\n",
       "<style scoped>\n",
       "    .dataframe tbody tr th:only-of-type {\n",
       "        vertical-align: middle;\n",
       "    }\n",
       "\n",
       "    .dataframe tbody tr th {\n",
       "        vertical-align: top;\n",
       "    }\n",
       "\n",
       "    .dataframe thead th {\n",
       "        text-align: right;\n",
       "    }\n",
       "</style>\n",
       "<table border=\"1\" class=\"dataframe\">\n",
       "  <thead>\n",
       "    <tr style=\"text-align: right;\">\n",
       "      <th></th>\n",
       "      <th>Unnamed: 0</th>\n",
       "    </tr>\n",
       "  </thead>\n",
       "  <tbody>\n",
       "    <tr>\n",
       "      <th>0</th>\n",
       "      <td>V1</td>\n",
       "    </tr>\n",
       "    <tr>\n",
       "      <th>1</th>\n",
       "      <td>V2</td>\n",
       "    </tr>\n",
       "    <tr>\n",
       "      <th>2</th>\n",
       "      <td>V3</td>\n",
       "    </tr>\n",
       "    <tr>\n",
       "      <th>3</th>\n",
       "      <td>V4</td>\n",
       "    </tr>\n",
       "    <tr>\n",
       "      <th>4</th>\n",
       "      <td>V5</td>\n",
       "    </tr>\n",
       "    <tr>\n",
       "      <th>...</th>\n",
       "      <td>...</td>\n",
       "    </tr>\n",
       "    <tr>\n",
       "      <th>59</th>\n",
       "      <td>V60</td>\n",
       "    </tr>\n",
       "    <tr>\n",
       "      <th>60</th>\n",
       "      <td>V61</td>\n",
       "    </tr>\n",
       "    <tr>\n",
       "      <th>61</th>\n",
       "      <td>V62</td>\n",
       "    </tr>\n",
       "    <tr>\n",
       "      <th>62</th>\n",
       "      <td>V63</td>\n",
       "    </tr>\n",
       "    <tr>\n",
       "      <th>63</th>\n",
       "      <td>V64</td>\n",
       "    </tr>\n",
       "  </tbody>\n",
       "</table>\n",
       "<p>64 rows × 1 columns</p>\n",
       "</div>"
      ],
      "text/plain": [
       "   Unnamed: 0\n",
       "0          V1\n",
       "1          V2\n",
       "2          V3\n",
       "3          V4\n",
       "4          V5\n",
       "..        ...\n",
       "59        V60\n",
       "60        V61\n",
       "61        V62\n",
       "62        V63\n",
       "63        V64\n",
       "\n",
       "[64 rows x 1 columns]"
      ]
     },
     "execution_count": 16,
     "metadata": {},
     "output_type": "execute_result"
    }
   ],
   "source": [
    "df.select_dtypes(include='object')"
   ]
  },
  {
   "cell_type": "code",
   "execution_count": 22,
   "metadata": {},
   "outputs": [],
   "source": [
    "# Votre réponse ici\n",
    "## Oui, l'échelle est très grande (1 à 64000)\n",
    "#### Pourtant, il faut PAS standardiser. On souhaite garder l'expression de gènes.\n",
    "#### Pour les données génétique on ne standardise pas\n",
    "from sklearn.preprocessing import StandardScaler\n",
    "\n",
    "def get_numeric_df(pDf):\n",
    "    return pd.DataFrame(pDf.select_dtypes(exclude='object'))\n"
   ]
  },
  {
   "cell_type": "code",
   "execution_count": 24,
   "metadata": {},
   "outputs": [],
   "source": [
    "## not used for this example with genetic data\n",
    "def get_scaled_df(pDf):\n",
    "    scaler = StandardScaler()\n",
    "    return pd.DataFrame( scaler.fit_transform(pDf))\n"
   ]
  },
  {
   "cell_type": "code",
   "execution_count": 25,
   "metadata": {},
   "outputs": [
    {
     "data": {
      "text/html": [
       "<div>\n",
       "<style scoped>\n",
       "    .dataframe tbody tr th:only-of-type {\n",
       "        vertical-align: middle;\n",
       "    }\n",
       "\n",
       "    .dataframe tbody tr th {\n",
       "        vertical-align: top;\n",
       "    }\n",
       "\n",
       "    .dataframe thead th {\n",
       "        text-align: right;\n",
       "    }\n",
       "</style>\n",
       "<table border=\"1\" class=\"dataframe\">\n",
       "  <thead>\n",
       "    <tr style=\"text-align: right;\">\n",
       "      <th></th>\n",
       "      <th>0</th>\n",
       "      <th>1</th>\n",
       "      <th>2</th>\n",
       "      <th>3</th>\n",
       "      <th>4</th>\n",
       "      <th>5</th>\n",
       "      <th>6</th>\n",
       "      <th>7</th>\n",
       "      <th>8</th>\n",
       "      <th>9</th>\n",
       "      <th>...</th>\n",
       "      <th>6820</th>\n",
       "      <th>6821</th>\n",
       "      <th>6822</th>\n",
       "      <th>6823</th>\n",
       "      <th>6824</th>\n",
       "      <th>6825</th>\n",
       "      <th>6826</th>\n",
       "      <th>6827</th>\n",
       "      <th>6828</th>\n",
       "      <th>6829</th>\n",
       "    </tr>\n",
       "  </thead>\n",
       "  <tbody>\n",
       "    <tr>\n",
       "      <th>count</th>\n",
       "      <td>6.400000e+01</td>\n",
       "      <td>6.400000e+01</td>\n",
       "      <td>64.000000</td>\n",
       "      <td>6.400000e+01</td>\n",
       "      <td>6.400000e+01</td>\n",
       "      <td>64.000000</td>\n",
       "      <td>6.400000e+01</td>\n",
       "      <td>6.400000e+01</td>\n",
       "      <td>6.400000e+01</td>\n",
       "      <td>6.400000e+01</td>\n",
       "      <td>...</td>\n",
       "      <td>6.400000e+01</td>\n",
       "      <td>6.400000e+01</td>\n",
       "      <td>6.400000e+01</td>\n",
       "      <td>6.400000e+01</td>\n",
       "      <td>6.400000e+01</td>\n",
       "      <td>6.400000e+01</td>\n",
       "      <td>64.000000</td>\n",
       "      <td>6.400000e+01</td>\n",
       "      <td>6.400000e+01</td>\n",
       "      <td>6.400000e+01</td>\n",
       "    </tr>\n",
       "    <tr>\n",
       "      <th>mean</th>\n",
       "      <td>2.775558e-17</td>\n",
       "      <td>-1.387779e-17</td>\n",
       "      <td>0.000000</td>\n",
       "      <td>3.122502e-17</td>\n",
       "      <td>-1.040834e-17</td>\n",
       "      <td>0.000000</td>\n",
       "      <td>2.775558e-17</td>\n",
       "      <td>2.775558e-17</td>\n",
       "      <td>1.734723e-17</td>\n",
       "      <td>-2.775558e-17</td>\n",
       "      <td>...</td>\n",
       "      <td>-2.428613e-17</td>\n",
       "      <td>2.775558e-17</td>\n",
       "      <td>-1.387779e-17</td>\n",
       "      <td>5.204170e-17</td>\n",
       "      <td>6.938894e-18</td>\n",
       "      <td>5.551115e-17</td>\n",
       "      <td>0.000000</td>\n",
       "      <td>2.775558e-17</td>\n",
       "      <td>-6.938894e-18</td>\n",
       "      <td>6.938894e-18</td>\n",
       "    </tr>\n",
       "    <tr>\n",
       "      <th>std</th>\n",
       "      <td>1.007905e+00</td>\n",
       "      <td>1.007905e+00</td>\n",
       "      <td>1.007905</td>\n",
       "      <td>1.007905e+00</td>\n",
       "      <td>1.007905e+00</td>\n",
       "      <td>1.007905</td>\n",
       "      <td>1.007905e+00</td>\n",
       "      <td>1.007905e+00</td>\n",
       "      <td>1.007905e+00</td>\n",
       "      <td>1.007905e+00</td>\n",
       "      <td>...</td>\n",
       "      <td>1.007905e+00</td>\n",
       "      <td>1.007905e+00</td>\n",
       "      <td>1.007905e+00</td>\n",
       "      <td>1.007905e+00</td>\n",
       "      <td>1.007905e+00</td>\n",
       "      <td>1.007905e+00</td>\n",
       "      <td>1.007905</td>\n",
       "      <td>1.007905e+00</td>\n",
       "      <td>1.007905e+00</td>\n",
       "      <td>1.007905e+00</td>\n",
       "    </tr>\n",
       "    <tr>\n",
       "      <th>min</th>\n",
       "      <td>-2.377270e+00</td>\n",
       "      <td>-2.877193e+00</td>\n",
       "      <td>-3.931262</td>\n",
       "      <td>-2.105826e+00</td>\n",
       "      <td>-1.768435e+00</td>\n",
       "      <td>-2.032645</td>\n",
       "      <td>-2.555051e+00</td>\n",
       "      <td>-2.029547e+00</td>\n",
       "      <td>-2.115392e+00</td>\n",
       "      <td>-2.630141e+00</td>\n",
       "      <td>...</td>\n",
       "      <td>-2.004194e+00</td>\n",
       "      <td>-1.048700e+00</td>\n",
       "      <td>-1.298802e+00</td>\n",
       "      <td>-2.569869e+00</td>\n",
       "      <td>-2.344267e+00</td>\n",
       "      <td>-1.617887e+00</td>\n",
       "      <td>-1.767830</td>\n",
       "      <td>-2.014441e+00</td>\n",
       "      <td>-1.850851e+00</td>\n",
       "      <td>-1.985687e+00</td>\n",
       "    </tr>\n",
       "    <tr>\n",
       "      <th>25%</th>\n",
       "      <td>-8.071713e-01</td>\n",
       "      <td>-5.018980e-01</td>\n",
       "      <td>-0.401395</td>\n",
       "      <td>-9.173725e-01</td>\n",
       "      <td>-5.217310e-01</td>\n",
       "      <td>-0.468724</td>\n",
       "      <td>-7.230938e-01</td>\n",
       "      <td>-5.412910e-01</td>\n",
       "      <td>-8.472563e-01</td>\n",
       "      <td>-7.803041e-01</td>\n",
       "      <td>...</td>\n",
       "      <td>-6.570984e-01</td>\n",
       "      <td>-5.165919e-01</td>\n",
       "      <td>-5.595580e-01</td>\n",
       "      <td>-5.668481e-01</td>\n",
       "      <td>-5.245635e-01</td>\n",
       "      <td>-5.274250e-01</td>\n",
       "      <td>-0.577904</td>\n",
       "      <td>-7.115609e-01</td>\n",
       "      <td>-7.206783e-01</td>\n",
       "      <td>-8.304080e-01</td>\n",
       "    </tr>\n",
       "    <tr>\n",
       "      <th>50%</th>\n",
       "      <td>4.353664e-02</td>\n",
       "      <td>3.701052e-02</td>\n",
       "      <td>0.046342</td>\n",
       "      <td>3.033881e-01</td>\n",
       "      <td>-5.421676e-02</td>\n",
       "      <td>-0.019322</td>\n",
       "      <td>-5.352873e-02</td>\n",
       "      <td>6.883255e-02</td>\n",
       "      <td>-1.832542e-03</td>\n",
       "      <td>-3.022115e-02</td>\n",
       "      <td>...</td>\n",
       "      <td>9.005226e-02</td>\n",
       "      <td>-3.585180e-01</td>\n",
       "      <td>-2.652086e-01</td>\n",
       "      <td>-1.940283e-01</td>\n",
       "      <td>-1.590203e-01</td>\n",
       "      <td>-1.675724e-01</td>\n",
       "      <td>-0.075668</td>\n",
       "      <td>1.623610e-01</td>\n",
       "      <td>-2.312333e-01</td>\n",
       "      <td>-9.583766e-02</td>\n",
       "    </tr>\n",
       "    <tr>\n",
       "      <th>75%</th>\n",
       "      <td>7.515195e-01</td>\n",
       "      <td>5.060775e-01</td>\n",
       "      <td>0.424308</td>\n",
       "      <td>9.426144e-01</td>\n",
       "      <td>3.821298e-01</td>\n",
       "      <td>0.512757</td>\n",
       "      <td>6.194484e-01</td>\n",
       "      <td>5.451041e-01</td>\n",
       "      <td>6.909453e-01</td>\n",
       "      <td>7.042364e-01</td>\n",
       "      <td>...</td>\n",
       "      <td>4.352942e-01</td>\n",
       "      <td>1.401940e-01</td>\n",
       "      <td>1.145247e-01</td>\n",
       "      <td>2.907792e-01</td>\n",
       "      <td>3.165084e-01</td>\n",
       "      <td>1.868279e-01</td>\n",
       "      <td>0.036861</td>\n",
       "      <td>5.497099e-01</td>\n",
       "      <td>5.719101e-01</td>\n",
       "      <td>7.389014e-01</td>\n",
       "    </tr>\n",
       "    <tr>\n",
       "      <th>max</th>\n",
       "      <td>2.190290e+00</td>\n",
       "      <td>3.017748e+00</td>\n",
       "      <td>2.721339</td>\n",
       "      <td>1.687994e+00</td>\n",
       "      <td>3.509280e+00</td>\n",
       "      <td>3.317043</td>\n",
       "      <td>2.502375e+00</td>\n",
       "      <td>2.226625e+00</td>\n",
       "      <td>2.323083e+00</td>\n",
       "      <td>2.310550e+00</td>\n",
       "      <td>...</td>\n",
       "      <td>3.406828e+00</td>\n",
       "      <td>4.272379e+00</td>\n",
       "      <td>4.687052e+00</td>\n",
       "      <td>4.336512e+00</td>\n",
       "      <td>4.400030e+00</td>\n",
       "      <td>4.848555e+00</td>\n",
       "      <td>4.375607</td>\n",
       "      <td>3.440368e+00</td>\n",
       "      <td>3.381761e+00</td>\n",
       "      <td>2.535260e+00</td>\n",
       "    </tr>\n",
       "  </tbody>\n",
       "</table>\n",
       "<p>8 rows × 6830 columns</p>\n",
       "</div>"
      ],
      "text/plain": [
       "               0             1          2             3             4     \\\n",
       "count  6.400000e+01  6.400000e+01  64.000000  6.400000e+01  6.400000e+01   \n",
       "mean   2.775558e-17 -1.387779e-17   0.000000  3.122502e-17 -1.040834e-17   \n",
       "std    1.007905e+00  1.007905e+00   1.007905  1.007905e+00  1.007905e+00   \n",
       "min   -2.377270e+00 -2.877193e+00  -3.931262 -2.105826e+00 -1.768435e+00   \n",
       "25%   -8.071713e-01 -5.018980e-01  -0.401395 -9.173725e-01 -5.217310e-01   \n",
       "50%    4.353664e-02  3.701052e-02   0.046342  3.033881e-01 -5.421676e-02   \n",
       "75%    7.515195e-01  5.060775e-01   0.424308  9.426144e-01  3.821298e-01   \n",
       "max    2.190290e+00  3.017748e+00   2.721339  1.687994e+00  3.509280e+00   \n",
       "\n",
       "            5             6             7             8             9     ...  \\\n",
       "count  64.000000  6.400000e+01  6.400000e+01  6.400000e+01  6.400000e+01  ...   \n",
       "mean    0.000000  2.775558e-17  2.775558e-17  1.734723e-17 -2.775558e-17  ...   \n",
       "std     1.007905  1.007905e+00  1.007905e+00  1.007905e+00  1.007905e+00  ...   \n",
       "min    -2.032645 -2.555051e+00 -2.029547e+00 -2.115392e+00 -2.630141e+00  ...   \n",
       "25%    -0.468724 -7.230938e-01 -5.412910e-01 -8.472563e-01 -7.803041e-01  ...   \n",
       "50%    -0.019322 -5.352873e-02  6.883255e-02 -1.832542e-03 -3.022115e-02  ...   \n",
       "75%     0.512757  6.194484e-01  5.451041e-01  6.909453e-01  7.042364e-01  ...   \n",
       "max     3.317043  2.502375e+00  2.226625e+00  2.323083e+00  2.310550e+00  ...   \n",
       "\n",
       "               6820          6821          6822          6823          6824  \\\n",
       "count  6.400000e+01  6.400000e+01  6.400000e+01  6.400000e+01  6.400000e+01   \n",
       "mean  -2.428613e-17  2.775558e-17 -1.387779e-17  5.204170e-17  6.938894e-18   \n",
       "std    1.007905e+00  1.007905e+00  1.007905e+00  1.007905e+00  1.007905e+00   \n",
       "min   -2.004194e+00 -1.048700e+00 -1.298802e+00 -2.569869e+00 -2.344267e+00   \n",
       "25%   -6.570984e-01 -5.165919e-01 -5.595580e-01 -5.668481e-01 -5.245635e-01   \n",
       "50%    9.005226e-02 -3.585180e-01 -2.652086e-01 -1.940283e-01 -1.590203e-01   \n",
       "75%    4.352942e-01  1.401940e-01  1.145247e-01  2.907792e-01  3.165084e-01   \n",
       "max    3.406828e+00  4.272379e+00  4.687052e+00  4.336512e+00  4.400030e+00   \n",
       "\n",
       "               6825       6826          6827          6828          6829  \n",
       "count  6.400000e+01  64.000000  6.400000e+01  6.400000e+01  6.400000e+01  \n",
       "mean   5.551115e-17   0.000000  2.775558e-17 -6.938894e-18  6.938894e-18  \n",
       "std    1.007905e+00   1.007905  1.007905e+00  1.007905e+00  1.007905e+00  \n",
       "min   -1.617887e+00  -1.767830 -2.014441e+00 -1.850851e+00 -1.985687e+00  \n",
       "25%   -5.274250e-01  -0.577904 -7.115609e-01 -7.206783e-01 -8.304080e-01  \n",
       "50%   -1.675724e-01  -0.075668  1.623610e-01 -2.312333e-01 -9.583766e-02  \n",
       "75%    1.868279e-01   0.036861  5.497099e-01  5.719101e-01  7.389014e-01  \n",
       "max    4.848555e+00   4.375607  3.440368e+00  3.381761e+00  2.535260e+00  \n",
       "\n",
       "[8 rows x 6830 columns]"
      ]
     },
     "execution_count": 25,
     "metadata": {},
     "output_type": "execute_result"
    }
   ],
   "source": [
    "numericDf = get_numeric_df(df)\n",
    "scaledDf = get_scaled_df(numericDf)\n",
    "scaledDf.describe()"
   ]
  },
  {
   "cell_type": "markdown",
   "metadata": {},
   "source": [
    "## 2 - Analyse en composantes principales (ACP)"
   ]
  },
  {
   "cell_type": "markdown",
   "metadata": {},
   "source": [
    "**Exercice 2-1 - À l'aide de la libraire Scikit-learn, effectuer une analyse en composantes principales. Vérifier la proportion de variance (PVE) et afficher sur un graphique les deux premières composantes et le type de cancer. Que constatez-vous ?**"
   ]
  },
  {
   "cell_type": "code",
   "execution_count": 26,
   "metadata": {},
   "outputs": [],
   "source": [
    "import numpy as np\n",
    "from sklearn.decomposition import PCA"
   ]
  },
  {
   "cell_type": "code",
   "execution_count": 46,
   "metadata": {},
   "outputs": [
    {
     "data": {
      "text/html": [
       "<style>#sk-container-id-5 {color: black;background-color: white;}#sk-container-id-5 pre{padding: 0;}#sk-container-id-5 div.sk-toggleable {background-color: white;}#sk-container-id-5 label.sk-toggleable__label {cursor: pointer;display: block;width: 100%;margin-bottom: 0;padding: 0.3em;box-sizing: border-box;text-align: center;}#sk-container-id-5 label.sk-toggleable__label-arrow:before {content: \"▸\";float: left;margin-right: 0.25em;color: #696969;}#sk-container-id-5 label.sk-toggleable__label-arrow:hover:before {color: black;}#sk-container-id-5 div.sk-estimator:hover label.sk-toggleable__label-arrow:before {color: black;}#sk-container-id-5 div.sk-toggleable__content {max-height: 0;max-width: 0;overflow: hidden;text-align: left;background-color: #f0f8ff;}#sk-container-id-5 div.sk-toggleable__content pre {margin: 0.2em;color: black;border-radius: 0.25em;background-color: #f0f8ff;}#sk-container-id-5 input.sk-toggleable__control:checked~div.sk-toggleable__content {max-height: 200px;max-width: 100%;overflow: auto;}#sk-container-id-5 input.sk-toggleable__control:checked~label.sk-toggleable__label-arrow:before {content: \"▾\";}#sk-container-id-5 div.sk-estimator input.sk-toggleable__control:checked~label.sk-toggleable__label {background-color: #d4ebff;}#sk-container-id-5 div.sk-label input.sk-toggleable__control:checked~label.sk-toggleable__label {background-color: #d4ebff;}#sk-container-id-5 input.sk-hidden--visually {border: 0;clip: rect(1px 1px 1px 1px);clip: rect(1px, 1px, 1px, 1px);height: 1px;margin: -1px;overflow: hidden;padding: 0;position: absolute;width: 1px;}#sk-container-id-5 div.sk-estimator {font-family: monospace;background-color: #f0f8ff;border: 1px dotted black;border-radius: 0.25em;box-sizing: border-box;margin-bottom: 0.5em;}#sk-container-id-5 div.sk-estimator:hover {background-color: #d4ebff;}#sk-container-id-5 div.sk-parallel-item::after {content: \"\";width: 100%;border-bottom: 1px solid gray;flex-grow: 1;}#sk-container-id-5 div.sk-label:hover label.sk-toggleable__label {background-color: #d4ebff;}#sk-container-id-5 div.sk-serial::before {content: \"\";position: absolute;border-left: 1px solid gray;box-sizing: border-box;top: 0;bottom: 0;left: 50%;z-index: 0;}#sk-container-id-5 div.sk-serial {display: flex;flex-direction: column;align-items: center;background-color: white;padding-right: 0.2em;padding-left: 0.2em;position: relative;}#sk-container-id-5 div.sk-item {position: relative;z-index: 1;}#sk-container-id-5 div.sk-parallel {display: flex;align-items: stretch;justify-content: center;background-color: white;position: relative;}#sk-container-id-5 div.sk-item::before, #sk-container-id-5 div.sk-parallel-item::before {content: \"\";position: absolute;border-left: 1px solid gray;box-sizing: border-box;top: 0;bottom: 0;left: 50%;z-index: -1;}#sk-container-id-5 div.sk-parallel-item {display: flex;flex-direction: column;z-index: 1;position: relative;background-color: white;}#sk-container-id-5 div.sk-parallel-item:first-child::after {align-self: flex-end;width: 50%;}#sk-container-id-5 div.sk-parallel-item:last-child::after {align-self: flex-start;width: 50%;}#sk-container-id-5 div.sk-parallel-item:only-child::after {width: 0;}#sk-container-id-5 div.sk-dashed-wrapped {border: 1px dashed gray;margin: 0 0.4em 0.5em 0.4em;box-sizing: border-box;padding-bottom: 0.4em;background-color: white;}#sk-container-id-5 div.sk-label label {font-family: monospace;font-weight: bold;display: inline-block;line-height: 1.2em;}#sk-container-id-5 div.sk-label-container {text-align: center;}#sk-container-id-5 div.sk-container {/* jupyter's `normalize.less` sets `[hidden] { display: none; }` but bootstrap.min.css set `[hidden] { display: none !important; }` so we also need the `!important` here to be able to override the default hidden behavior on the sphinx rendered scikit-learn.org. See: https://github.com/scikit-learn/scikit-learn/issues/21755 */display: inline-block !important;position: relative;}#sk-container-id-5 div.sk-text-repr-fallback {display: none;}</style><div id=\"sk-container-id-5\" class=\"sk-top-container\"><div class=\"sk-text-repr-fallback\"><pre>PCA()</pre><b>In a Jupyter environment, please rerun this cell to show the HTML representation or trust the notebook. <br />On GitHub, the HTML representation is unable to render, please try loading this page with nbviewer.org.</b></div><div class=\"sk-container\" hidden><div class=\"sk-item\"><div class=\"sk-estimator sk-toggleable\"><input class=\"sk-toggleable__control sk-hidden--visually\" id=\"sk-estimator-id-5\" type=\"checkbox\" checked><label for=\"sk-estimator-id-5\" class=\"sk-toggleable__label sk-toggleable__label-arrow\">PCA</label><div class=\"sk-toggleable__content\"><pre>PCA()</pre></div></div></div></div></div>"
      ],
      "text/plain": [
       "PCA()"
      ]
     },
     "execution_count": 46,
     "metadata": {},
     "output_type": "execute_result"
    }
   ],
   "source": [
    "# Compléter cette cellule (ACP) ~ 3 lignes de code\n",
    "#pca = PCA(n_components=2)\n",
    "pca = PCA()\n",
    "pca.fit(numericDf)"
   ]
  },
  {
   "cell_type": "code",
   "execution_count": 47,
   "metadata": {},
   "outputs": [
    {
     "data": {
      "text/plain": [
       "array([1.48929380e-01, 8.30069900e-02, 6.58356299e-02, 4.30602805e-02,\n",
       "       3.84679156e-02, 3.50668738e-02, 2.87616238e-02, 2.81743382e-02,\n",
       "       2.63836759e-02, 2.15699493e-02, 2.10004796e-02, 2.00221747e-02,\n",
       "       1.83045185e-02, 1.76738057e-02, 1.67214706e-02, 1.61035083e-02,\n",
       "       1.57771736e-02, 1.45403380e-02, 1.44771299e-02, 1.41174149e-02,\n",
       "       1.37342449e-02, 1.29302547e-02, 1.26046525e-02, 1.18399066e-02,\n",
       "       1.17950730e-02, 1.10937289e-02, 1.06165363e-02, 1.03040835e-02,\n",
       "       1.01613180e-02, 9.94134819e-03, 9.58581713e-03, 9.38499008e-03,\n",
       "       8.75949244e-03, 8.66585060e-03, 8.36666882e-03, 8.27960985e-03,\n",
       "       8.11199187e-03, 7.99036568e-03, 7.58591497e-03, 7.46207325e-03,\n",
       "       7.29879522e-03, 7.14742150e-03, 7.00002418e-03, 6.80611231e-03,\n",
       "       6.66015321e-03, 6.29690764e-03, 6.22513355e-03, 5.92205774e-03,\n",
       "       5.47403461e-03, 5.37111591e-03, 5.17708667e-03, 4.89858397e-03,\n",
       "       4.74239353e-03, 4.57705635e-03, 4.29647247e-03, 4.17565640e-03,\n",
       "       3.92693318e-03, 3.61329550e-03, 3.37498014e-03, 2.92088079e-03,\n",
       "       2.45197433e-03, 2.33785084e-03, 2.09648785e-03, 2.93711413e-32])"
      ]
     },
     "execution_count": 47,
     "metadata": {},
     "output_type": "execute_result"
    }
   ],
   "source": [
    "# Compléter cette cellule (variance) ~ 1 ligne de code\n",
    "pca.explained_variance_ratio_"
   ]
  },
  {
   "cell_type": "code",
   "execution_count": 48,
   "metadata": {},
   "outputs": [
    {
     "data": {
      "text/plain": [
       "<BarContainer object of 64 artists>"
      ]
     },
     "execution_count": 48,
     "metadata": {},
     "output_type": "execute_result"
    },
    {
     "data": {
      "image/png": "[encoded data removed]",
      "text/plain": [
       "<Figure size 1200x800 with 1 Axes>"
      ]
     },
     "metadata": {},
     "output_type": "display_data"
    }
   ],
   "source": [
    "# Compléter cette cellule (affichage) ~ 1 ligne de code\n",
    "plt.bar(range(0, pca.n_components_), pca.explained_variance_ratio_)"
   ]
  },
  {
   "cell_type": "code",
   "execution_count": null,
   "metadata": {},
   "outputs": [],
   "source": [
    "## barchar (variance/composante)\n",
    "## scatterplot: pc1 et pc2\n",
    "## afficher le diagramme en nuage de points avec coloration des differentes overvations\n",
    "## mettre capture d'écran dans le forum"
   ]
  },
  {
   "cell_type": "code",
   "execution_count": 54,
   "metadata": {},
   "outputs": [
    {
     "ename": "NameError",
     "evalue": "name 'color' is not defined",
     "output_type": "error",
     "traceback": [
      "\u001b[0;31m---------------------------------------------------------------------------\u001b[0m",
      "\u001b[0;31mNameError\u001b[0m                                 Traceback (most recent call last)",
      "Cell \u001b[0;32mIn [54], line 1\u001b[0m\n\u001b[0;32m----> 1\u001b[0m plt\u001b[39m.\u001b[39mscatter(pca\u001b[39m.\u001b[39mcomponents_[\u001b[39m0\u001b[39m], pca\u001b[39m.\u001b[39mcomponents_[\u001b[39m1\u001b[39m], cmap\u001b[39m=\u001b[39m\u001b[39m'\u001b[39m\u001b[39mviridis\u001b[39m\u001b[39m'\u001b[39m, color\u001b[39m=\u001b[39mcolor)\n\u001b[1;32m      2\u001b[0m \u001b[39m#plt.bar(range(0, pca.n_components_), pca.explained_variance_ratio_)\u001b[39;00m\n",
      "\u001b[0;31mNameError\u001b[0m: name 'color' is not defined"
     ]
    }
   ],
   "source": [
    "plt.scatter(pca.components_[0], pca.components_[1], cmap='viridis', color=color)\n",
    "#plt.bar(range(0, pca.n_components_), pca.explained_variance_ratio_)"
   ]
  },
  {
   "cell_type": "code",
   "execution_count": 56,
   "metadata": {},
   "outputs": [
    {
     "data": {
      "text/plain": [
       "array([[-5.09624654e-03, -1.64235371e-03, -2.50924283e-03, ...,\n",
       "        -4.70487229e-05,  6.60722489e-03,  1.77413124e-02],\n",
       "       [-9.83992950e-04, -3.43556642e-03,  1.58382709e-03, ...,\n",
       "        -8.74138617e-03, -3.05903135e-03,  9.51295771e-04],\n",
       "       [-2.11605768e-03, -8.04935018e-03, -4.74634975e-03, ...,\n",
       "        -4.97406546e-03, -1.08742462e-02, -2.73324120e-02],\n",
       "       ...,\n",
       "       [-3.52492711e-03, -2.82178380e-02, -7.55169236e-03, ...,\n",
       "        -4.77401204e-03,  3.98977478e-03, -4.52006966e-03],\n",
       "       [ 4.84010054e-04,  1.43855543e-03,  1.45370199e-02, ...,\n",
       "         1.81322732e-03, -8.89994343e-03, -1.25189261e-02],\n",
       "       [-2.01157852e-01, -3.43970376e-02, -1.69111707e-01, ...,\n",
       "         1.79076170e-03,  5.58726741e-03,  1.17932642e-03]])"
      ]
     },
     "execution_count": 56,
     "metadata": {},
     "output_type": "execute_result"
    }
   ],
   "source": [
    "pca.components_"
   ]
  },
  {
   "cell_type": "code",
   "execution_count": 52,
   "metadata": {},
   "outputs": [
    {
     "ename": "IndexError",
     "evalue": "arrays used as indices must be of integer (or boolean) type",
     "output_type": "error",
     "traceback": [
      "\u001b[0;31m---------------------------------------------------------------------------\u001b[0m",
      "\u001b[0;31mIndexError\u001b[0m                                Traceback (most recent call last)",
      "Cell \u001b[0;32mIn [52], line 1\u001b[0m\n\u001b[0;32m----> 1\u001b[0m sns\u001b[39m.\u001b[39;49mscatterplot(data \u001b[39m=\u001b[39;49m pca\u001b[39m.\u001b[39;49mcomponents_, x\u001b[39m=\u001b[39;49mpca\u001b[39m.\u001b[39;49mcomponents_[\u001b[39m0\u001b[39;49m], y\u001b[39m=\u001b[39;49mpca\u001b[39m.\u001b[39;49mcomponents_[\u001b[39m1\u001b[39;49m])\n",
      "File \u001b[0;32m~/.local/lib/python3.11/site-packages/seaborn/relational.py:742\u001b[0m, in \u001b[0;36mscatterplot\u001b[0;34m(data, x, y, hue, size, style, palette, hue_order, hue_norm, sizes, size_order, size_norm, markers, style_order, legend, ax, **kwargs)\u001b[0m\n\u001b[1;32m    732\u001b[0m \u001b[39mdef\u001b[39;00m \u001b[39mscatterplot\u001b[39m(\n\u001b[1;32m    733\u001b[0m     data\u001b[39m=\u001b[39m\u001b[39mNone\u001b[39;00m, \u001b[39m*\u001b[39m,\n\u001b[1;32m    734\u001b[0m     x\u001b[39m=\u001b[39m\u001b[39mNone\u001b[39;00m, y\u001b[39m=\u001b[39m\u001b[39mNone\u001b[39;00m, hue\u001b[39m=\u001b[39m\u001b[39mNone\u001b[39;00m, size\u001b[39m=\u001b[39m\u001b[39mNone\u001b[39;00m, style\u001b[39m=\u001b[39m\u001b[39mNone\u001b[39;00m,\n\u001b[0;32m   (...)\u001b[0m\n\u001b[1;32m    738\u001b[0m     \u001b[39m*\u001b[39m\u001b[39m*\u001b[39mkwargs\n\u001b[1;32m    739\u001b[0m ):\n\u001b[1;32m    741\u001b[0m     variables \u001b[39m=\u001b[39m _ScatterPlotter\u001b[39m.\u001b[39mget_semantics(\u001b[39mlocals\u001b[39m())\n\u001b[0;32m--> 742\u001b[0m     p \u001b[39m=\u001b[39m _ScatterPlotter(data\u001b[39m=\u001b[39;49mdata, variables\u001b[39m=\u001b[39;49mvariables, legend\u001b[39m=\u001b[39;49mlegend)\n\u001b[1;32m    744\u001b[0m     p\u001b[39m.\u001b[39mmap_hue(palette\u001b[39m=\u001b[39mpalette, order\u001b[39m=\u001b[39mhue_order, norm\u001b[39m=\u001b[39mhue_norm)\n\u001b[1;32m    745\u001b[0m     p\u001b[39m.\u001b[39mmap_size(sizes\u001b[39m=\u001b[39msizes, order\u001b[39m=\u001b[39msize_order, norm\u001b[39m=\u001b[39msize_norm)\n",
      "File \u001b[0;32m~/.local/lib/python3.11/site-packages/seaborn/relational.py:538\u001b[0m, in \u001b[0;36m_ScatterPlotter.__init__\u001b[0;34m(self, data, variables, legend)\u001b[0m\n\u001b[1;32m    529\u001b[0m \u001b[39mdef\u001b[39;00m \u001b[39m__init__\u001b[39m(\u001b[39mself\u001b[39m, \u001b[39m*\u001b[39m, data\u001b[39m=\u001b[39m\u001b[39mNone\u001b[39;00m, variables\u001b[39m=\u001b[39m{}, legend\u001b[39m=\u001b[39m\u001b[39mNone\u001b[39;00m):\n\u001b[1;32m    530\u001b[0m \n\u001b[1;32m    531\u001b[0m     \u001b[39m# TODO this is messy, we want the mapping to be agnostic about\u001b[39;00m\n\u001b[1;32m    532\u001b[0m     \u001b[39m# the kind of plot to draw, but for the time being we need to set\u001b[39;00m\n\u001b[1;32m    533\u001b[0m     \u001b[39m# this information so the SizeMapping can use it\u001b[39;00m\n\u001b[1;32m    534\u001b[0m     \u001b[39mself\u001b[39m\u001b[39m.\u001b[39m_default_size_range \u001b[39m=\u001b[39m (\n\u001b[1;32m    535\u001b[0m         np\u001b[39m.\u001b[39mr_[\u001b[39m.5\u001b[39m, \u001b[39m2\u001b[39m] \u001b[39m*\u001b[39m np\u001b[39m.\u001b[39msquare(mpl\u001b[39m.\u001b[39mrcParams[\u001b[39m\"\u001b[39m\u001b[39mlines.markersize\u001b[39m\u001b[39m\"\u001b[39m])\n\u001b[1;32m    536\u001b[0m     )\n\u001b[0;32m--> 538\u001b[0m     \u001b[39msuper\u001b[39;49m()\u001b[39m.\u001b[39;49m\u001b[39m__init__\u001b[39;49m(data\u001b[39m=\u001b[39;49mdata, variables\u001b[39m=\u001b[39;49mvariables)\n\u001b[1;32m    540\u001b[0m     \u001b[39mself\u001b[39m\u001b[39m.\u001b[39mlegend \u001b[39m=\u001b[39m legend\n",
      "File \u001b[0;32m~/.local/lib/python3.11/site-packages/seaborn/_oldcore.py:640\u001b[0m, in \u001b[0;36mVectorPlotter.__init__\u001b[0;34m(self, data, variables)\u001b[0m\n\u001b[1;32m    635\u001b[0m \u001b[39m# var_ordered is relevant only for categorical axis variables, and may\u001b[39;00m\n\u001b[1;32m    636\u001b[0m \u001b[39m# be better handled by an internal axis information object that tracks\u001b[39;00m\n\u001b[1;32m    637\u001b[0m \u001b[39m# such information and is set up by the scale_* methods. The analogous\u001b[39;00m\n\u001b[1;32m    638\u001b[0m \u001b[39m# information for numeric axes would be information about log scales.\u001b[39;00m\n\u001b[1;32m    639\u001b[0m \u001b[39mself\u001b[39m\u001b[39m.\u001b[39m_var_ordered \u001b[39m=\u001b[39m {\u001b[39m\"\u001b[39m\u001b[39mx\u001b[39m\u001b[39m\"\u001b[39m: \u001b[39mFalse\u001b[39;00m, \u001b[39m\"\u001b[39m\u001b[39my\u001b[39m\u001b[39m\"\u001b[39m: \u001b[39mFalse\u001b[39;00m}  \u001b[39m# alt., used DefaultDict\u001b[39;00m\n\u001b[0;32m--> 640\u001b[0m \u001b[39mself\u001b[39;49m\u001b[39m.\u001b[39;49massign_variables(data, variables)\n\u001b[1;32m    642\u001b[0m \u001b[39mfor\u001b[39;00m var, \u001b[39mcls\u001b[39m \u001b[39min\u001b[39;00m \u001b[39mself\u001b[39m\u001b[39m.\u001b[39m_semantic_mappings\u001b[39m.\u001b[39mitems():\n\u001b[1;32m    643\u001b[0m \n\u001b[1;32m    644\u001b[0m     \u001b[39m# Create the mapping function\u001b[39;00m\n\u001b[1;32m    645\u001b[0m     map_func \u001b[39m=\u001b[39m partial(\u001b[39mcls\u001b[39m\u001b[39m.\u001b[39mmap, plotter\u001b[39m=\u001b[39m\u001b[39mself\u001b[39m)\n",
      "File \u001b[0;32m~/.local/lib/python3.11/site-packages/seaborn/_oldcore.py:701\u001b[0m, in \u001b[0;36mVectorPlotter.assign_variables\u001b[0;34m(self, data, variables)\u001b[0m\n\u001b[1;32m    699\u001b[0m \u001b[39melse\u001b[39;00m:\n\u001b[1;32m    700\u001b[0m     \u001b[39mself\u001b[39m\u001b[39m.\u001b[39minput_format \u001b[39m=\u001b[39m \u001b[39m\"\u001b[39m\u001b[39mlong\u001b[39m\u001b[39m\"\u001b[39m\n\u001b[0;32m--> 701\u001b[0m     plot_data, variables \u001b[39m=\u001b[39m \u001b[39mself\u001b[39;49m\u001b[39m.\u001b[39;49m_assign_variables_longform(\n\u001b[1;32m    702\u001b[0m         data, \u001b[39m*\u001b[39;49m\u001b[39m*\u001b[39;49mvariables,\n\u001b[1;32m    703\u001b[0m     )\n\u001b[1;32m    705\u001b[0m \u001b[39mself\u001b[39m\u001b[39m.\u001b[39mplot_data \u001b[39m=\u001b[39m plot_data\n\u001b[1;32m    706\u001b[0m \u001b[39mself\u001b[39m\u001b[39m.\u001b[39mvariables \u001b[39m=\u001b[39m variables\n",
      "File \u001b[0;32m~/.local/lib/python3.11/site-packages/seaborn/_oldcore.py:928\u001b[0m, in \u001b[0;36mVectorPlotter._assign_variables_longform\u001b[0;34m(self, data, **kwargs)\u001b[0m\n\u001b[1;32m    923\u001b[0m \u001b[39mif\u001b[39;00m val_as_data_key:\n\u001b[1;32m    924\u001b[0m \n\u001b[1;32m    925\u001b[0m     \u001b[39m# We know that __getitem__ will work\u001b[39;00m\n\u001b[1;32m    927\u001b[0m     \u001b[39mif\u001b[39;00m val \u001b[39min\u001b[39;00m data:\n\u001b[0;32m--> 928\u001b[0m         plot_data[key] \u001b[39m=\u001b[39m data[val]\n\u001b[1;32m    929\u001b[0m     \u001b[39melif\u001b[39;00m val \u001b[39min\u001b[39;00m index:\n\u001b[1;32m    930\u001b[0m         plot_data[key] \u001b[39m=\u001b[39m index[val]\n",
      "\u001b[0;31mIndexError\u001b[0m: arrays used as indices must be of integer (or boolean) type"
     ]
    }
   ],
   "source": [
    "sns.scatterplot(data = pca.components_, x=pca.components_[0], y=pca.components_[1])"
   ]
  },
  {
   "cell_type": "markdown",
   "metadata": {},
   "source": [
    "## 3 - Regroupement hiérarchique"
   ]
  },
  {
   "cell_type": "markdown",
   "metadata": {},
   "source": [
    "Nous effectuons maintenant le regroupement hiérarchique à l'aide des 4 méthodes de lien vus en cours: Ward, Complete, Average et Single. La distance euclidienne est utilisée comme mesure de dissimilarité. Pour chaque lien, afficher le dendrogramme correspondant (voir `helpers.py`)"
   ]
  },
  {
   "cell_type": "markdown",
   "metadata": {},
   "source": [
    "**Exercice 3-1 - Linkage par défaut (Ward)**"
   ]
  },
  {
   "cell_type": "code",
   "execution_count": 37,
   "metadata": {},
   "outputs": [],
   "source": [
    "from sklearn.cluster import AgglomerativeClustering"
   ]
  },
  {
   "cell_type": "code",
   "execution_count": 43,
   "metadata": {},
   "outputs": [
    {
     "name": "stdout",
     "output_type": "stream",
     "text": [
      "Compute unstructured hierarchical clustering...\n",
      "[1 1 1 1 1 1 1 1 1 1 1 1 1 1 1 1 1 1 1 1 1 1 1 0 0 0 0 0 0 0 0 0 0 3 5 5 5\n",
      " 3 3 3 3 0 0 0 0 0 0 0 4 4 4 4 0 0 0 2 2 2 2 2 2 2 2 2]\n",
      "Number of points: 64\n"
     ]
    }
   ],
   "source": [
    "# Compléter cette cellule ~ 2 lignes de code\n",
    "print(\"Compute unstructured hierarchical clustering...\")\n",
    "\n",
    "ward = AgglomerativeClustering(n_clusters=6, linkage=\"ward\").fit(numericDf)\n",
    "\n",
    "label = ward.labels_\n",
    "\n",
    "print(label)\n",
    "print(f\"Number of points: {label.size}\")"
   ]
  },
  {
   "cell_type": "code",
   "execution_count": 42,
   "metadata": {},
   "outputs": [
    {
     "ename": "InvalidIndexError",
     "evalue": "(array([False, False, False, False, False, False, False, False, False,\n       False, False, False, False, False, False, False, False, False,\n       False, False, False, False, False,  True,  True,  True,  True,\n        True,  True,  True,  True,  True,  True, False, False, False,\n       False, False, False, False, False,  True,  True,  True,  True,\n        True,  True,  True, False, False, False, False,  True,  True,\n        True, False, False, False, False, False, False, False, False,\n       False]), 0)",
     "output_type": "error",
     "traceback": [
      "\u001b[0;31m---------------------------------------------------------------------------\u001b[0m",
      "\u001b[0;31mTypeError\u001b[0m                                 Traceback (most recent call last)",
      "File \u001b[0;32m~/.local/lib/python3.11/site-packages/pandas/core/indexes/base.py:3803\u001b[0m, in \u001b[0;36mIndex.get_loc\u001b[0;34m(self, key, method, tolerance)\u001b[0m\n\u001b[1;32m   3802\u001b[0m \u001b[39mtry\u001b[39;00m:\n\u001b[0;32m-> 3803\u001b[0m     \u001b[39mreturn\u001b[39;00m \u001b[39mself\u001b[39;49m\u001b[39m.\u001b[39;49m_engine\u001b[39m.\u001b[39;49mget_loc(casted_key)\n\u001b[1;32m   3804\u001b[0m \u001b[39mexcept\u001b[39;00m \u001b[39mKeyError\u001b[39;00m \u001b[39mas\u001b[39;00m err:\n",
      "File \u001b[0;32m~/.local/lib/python3.11/site-packages/pandas/_libs/index.pyx:138\u001b[0m, in \u001b[0;36mpandas._libs.index.IndexEngine.get_loc\u001b[0;34m()\u001b[0m\n",
      "File \u001b[0;32m~/.local/lib/python3.11/site-packages/pandas/_libs/index.pyx:144\u001b[0m, in \u001b[0;36mpandas._libs.index.IndexEngine.get_loc\u001b[0;34m()\u001b[0m\n",
      "\u001b[0;31mTypeError\u001b[0m: '(array([False, False, False, False, False, False, False, False, False,\n       False, False, False, False, False, False, False, False, False,\n       False, False, False, False, False,  True,  True,  True,  True,\n        True,  True,  True,  True,  True,  True, False, False, False,\n       False, False, False, False, False,  True,  True,  True,  True,\n        True,  True,  True, False, False, False, False,  True,  True,\n        True, False, False, False, False, False, False, False, False,\n       False]), 0)' is an invalid key",
      "\nDuring handling of the above exception, another exception occurred:\n",
      "\u001b[0;31mInvalidIndexError\u001b[0m                         Traceback (most recent call last)",
      "Cell \u001b[0;32mIn [42], line 8\u001b[0m\n\u001b[1;32m      5\u001b[0m ax1\u001b[39m.\u001b[39mset_position([\u001b[39m0\u001b[39m, \u001b[39m0\u001b[39m, \u001b[39m0.95\u001b[39m, \u001b[39m1\u001b[39m])\n\u001b[1;32m      6\u001b[0m \u001b[39mfor\u001b[39;00m l \u001b[39min\u001b[39;00m np\u001b[39m.\u001b[39munique(label):\n\u001b[1;32m      7\u001b[0m     ax1\u001b[39m.\u001b[39mscatter(\n\u001b[0;32m----> 8\u001b[0m         X[label \u001b[39m==\u001b[39;49m l, \u001b[39m0\u001b[39;49m],\n\u001b[1;32m      9\u001b[0m         X[label \u001b[39m==\u001b[39m l, \u001b[39m1\u001b[39m],\n\u001b[1;32m     10\u001b[0m         X[label \u001b[39m==\u001b[39m l, \u001b[39m2\u001b[39m],\n\u001b[1;32m     11\u001b[0m         color\u001b[39m=\u001b[39mplt\u001b[39m.\u001b[39mcm\u001b[39m.\u001b[39mjet(\u001b[39mfloat\u001b[39m(l) \u001b[39m/\u001b[39m np\u001b[39m.\u001b[39mmax(label \u001b[39m+\u001b[39m \u001b[39m1\u001b[39m)),\n\u001b[1;32m     12\u001b[0m         s\u001b[39m=\u001b[39m\u001b[39m20\u001b[39m,\n\u001b[1;32m     13\u001b[0m         edgecolor\u001b[39m=\u001b[39m\u001b[39m\"\u001b[39m\u001b[39mk\u001b[39m\u001b[39m\"\u001b[39m,\n\u001b[1;32m     14\u001b[0m     )\n\u001b[1;32m     15\u001b[0m \u001b[39m#_ = fig1.suptitle(f\"Without connectivity constraints (time {elapsed_time:.2f}s)\")\u001b[39;00m\n",
      "File \u001b[0;32m~/.local/lib/python3.11/site-packages/pandas/core/frame.py:3804\u001b[0m, in \u001b[0;36mDataFrame.__getitem__\u001b[0;34m(self, key)\u001b[0m\n\u001b[1;32m   3802\u001b[0m \u001b[39mif\u001b[39;00m \u001b[39mself\u001b[39m\u001b[39m.\u001b[39mcolumns\u001b[39m.\u001b[39mnlevels \u001b[39m>\u001b[39m \u001b[39m1\u001b[39m:\n\u001b[1;32m   3803\u001b[0m     \u001b[39mreturn\u001b[39;00m \u001b[39mself\u001b[39m\u001b[39m.\u001b[39m_getitem_multilevel(key)\n\u001b[0;32m-> 3804\u001b[0m indexer \u001b[39m=\u001b[39m \u001b[39mself\u001b[39;49m\u001b[39m.\u001b[39;49mcolumns\u001b[39m.\u001b[39;49mget_loc(key)\n\u001b[1;32m   3805\u001b[0m \u001b[39mif\u001b[39;00m is_integer(indexer):\n\u001b[1;32m   3806\u001b[0m     indexer \u001b[39m=\u001b[39m [indexer]\n",
      "File \u001b[0;32m~/.local/lib/python3.11/site-packages/pandas/core/indexes/base.py:3810\u001b[0m, in \u001b[0;36mIndex.get_loc\u001b[0;34m(self, key, method, tolerance)\u001b[0m\n\u001b[1;32m   3805\u001b[0m         \u001b[39mraise\u001b[39;00m \u001b[39mKeyError\u001b[39;00m(key) \u001b[39mfrom\u001b[39;00m \u001b[39merr\u001b[39;00m\n\u001b[1;32m   3806\u001b[0m     \u001b[39mexcept\u001b[39;00m \u001b[39mTypeError\u001b[39;00m:\n\u001b[1;32m   3807\u001b[0m         \u001b[39m# If we have a listlike key, _check_indexing_error will raise\u001b[39;00m\n\u001b[1;32m   3808\u001b[0m         \u001b[39m#  InvalidIndexError. Otherwise we fall through and re-raise\u001b[39;00m\n\u001b[1;32m   3809\u001b[0m         \u001b[39m#  the TypeError.\u001b[39;00m\n\u001b[0;32m-> 3810\u001b[0m         \u001b[39mself\u001b[39;49m\u001b[39m.\u001b[39;49m_check_indexing_error(key)\n\u001b[1;32m   3811\u001b[0m         \u001b[39mraise\u001b[39;00m\n\u001b[1;32m   3813\u001b[0m \u001b[39m# GH#42269\u001b[39;00m\n",
      "File \u001b[0;32m~/.local/lib/python3.11/site-packages/pandas/core/indexes/base.py:5966\u001b[0m, in \u001b[0;36mIndex._check_indexing_error\u001b[0;34m(self, key)\u001b[0m\n\u001b[1;32m   5962\u001b[0m \u001b[39mdef\u001b[39;00m \u001b[39m_check_indexing_error\u001b[39m(\u001b[39mself\u001b[39m, key):\n\u001b[1;32m   5963\u001b[0m     \u001b[39mif\u001b[39;00m \u001b[39mnot\u001b[39;00m is_scalar(key):\n\u001b[1;32m   5964\u001b[0m         \u001b[39m# if key is not a scalar, directly raise an error (the code below\u001b[39;00m\n\u001b[1;32m   5965\u001b[0m         \u001b[39m# would convert to numpy arrays and raise later any way) - GH29926\u001b[39;00m\n\u001b[0;32m-> 5966\u001b[0m         \u001b[39mraise\u001b[39;00m InvalidIndexError(key)\n",
      "\u001b[0;31mInvalidIndexError\u001b[0m: (array([False, False, False, False, False, False, False, False, False,\n       False, False, False, False, False, False, False, False, False,\n       False, False, False, False, False,  True,  True,  True,  True,\n        True,  True,  True,  True,  True,  True, False, False, False,\n       False, False, False, False, False,  True,  True,  True,  True,\n        True,  True,  True, False, False, False, False,  True,  True,\n        True, False, False, False, False, False, False, False, False,\n       False]), 0)"
     ]
    },
    {
     "data": {
      "image/png": "[encoded data removed]",
      "text/plain": [
       "<Figure size 1200x800 with 1 Axes>"
      ]
     },
     "metadata": {},
     "output_type": "display_data"
    }
   ],
   "source": [
    "import matplotlib.pyplot as plt\n",
    "X = numericDf\n",
    "fig1 = plt.figure()\n",
    "ax1 = fig1.add_subplot(111, projection=\"3d\", elev=7, azim=-80)\n",
    "ax1.set_position([0, 0, 0.95, 1])\n",
    "for l in np.unique(label):\n",
    "    ax1.scatter(\n",
    "        X[label == l, 0],\n",
    "        X[label == l, 1],\n",
    "        X[label == l, 2],\n",
    "        color=plt.cm.jet(float(l) / np.max(label + 1)),\n",
    "        s=20,\n",
    "        edgecolor=\"k\",\n",
    "    )\n",
    "#_ = fig1.suptitle(f\"Without connectivity constraints (time {elapsed_time:.2f}s)\")"
   ]
  },
  {
   "cell_type": "markdown",
   "metadata": {},
   "source": [
    "**Exercice 3-2 - Linkage Complete**"
   ]
  },
  {
   "cell_type": "code",
   "execution_count": null,
   "metadata": {},
   "outputs": [],
   "source": [
    "# Compléter cette cellule ~ 2 lignes de code"
   ]
  },
  {
   "cell_type": "markdown",
   "metadata": {},
   "source": [
    "**Exercice 3-3 - Linkage average**"
   ]
  },
  {
   "cell_type": "code",
   "execution_count": null,
   "metadata": {},
   "outputs": [],
   "source": [
    "# Compléter cette cellule ~ 2 lignes de code"
   ]
  },
  {
   "cell_type": "markdown",
   "metadata": {},
   "source": [
    "**Exercice 3-4 - Linkage Single**"
   ]
  },
  {
   "cell_type": "code",
   "execution_count": null,
   "metadata": {},
   "outputs": [],
   "source": [
    "# Compléter cette cellule ~ 2 lignes de code"
   ]
  },
  {
   "cell_type": "markdown",
   "metadata": {},
   "source": [
    "**Exercice 3-5 - Compte tenu des résultats précédents, choisir une méthode de lien et seuiller le dendrogramme à la hauteur \"optimale\"**"
   ]
  },
  {
   "cell_type": "code",
   "execution_count": null,
   "metadata": {},
   "outputs": [],
   "source": [
    "# Compléter la cellule ~ 2 lignes de code"
   ]
  },
  {
   "cell_type": "markdown",
   "metadata": {},
   "source": [
    "## 4 - Partitionnement K-moyennes"
   ]
  },
  {
   "cell_type": "markdown",
   "metadata": {},
   "source": [
    "**Exercice 4 - Comparer les résultats précédents avec le partitionnement K-moyennes**"
   ]
  },
  {
   "cell_type": "code",
   "execution_count": null,
   "metadata": {},
   "outputs": [],
   "source": [
    "# Compléter la cellule ~ 5-10 lignes de code"
   ]
  },
  {
   "cell_type": "markdown",
   "metadata": {},
   "source": [
    "## 5 - Débruitage des données par ACP (optionnel)"
   ]
  },
  {
   "cell_type": "markdown",
   "metadata": {},
   "source": [
    "**Exercice 5 - Effectuer le regroupement hiérarchique directement sur les premières composantes principales. Comparer les résultats obtenus avec ceux du jeu de données \"complet\"**"
   ]
  },
  {
   "cell_type": "code",
   "execution_count": null,
   "metadata": {},
   "outputs": [],
   "source": [
    "# Compléter la cellule ~ X lignes de code"
   ]
  },
  {
   "cell_type": "markdown",
   "metadata": {},
   "source": [
    "## 6 - Références"
   ]
  },
  {
   "cell_type": "markdown",
   "metadata": {},
   "source": [
    "Cet atelier est grandement inspiré du Lab 3: NCI60 Data Example (Introduction to statistical learning)"
   ]
  },
  {
   "cell_type": "markdown",
   "metadata": {},
   "source": [
    "**Fin de l'atelier 01-03**"
   ]
  }
 ],
 "metadata": {
  "kernelspec": {
   "display_name": "Python 3.11.0 64-bit",
   "language": "python",
   "name": "python3"
  },
  "language_info": {
   "codemirror_mode": {
    "name": "ipython",
    "version": 3
   },
   "file_extension": ".py",
   "mimetype": "text/x-python",
   "name": "python",
   "nbconvert_exporter": "python",
   "pygments_lexer": "ipython3",
   "version": "3.11.0"
  },
  "vscode": {
   "interpreter": {
    "hash": "31f2aee4e71d21fbe5cf8b01ff0e069b9275f58929596ceb00d14d90e3e16cd6"
   }
  }
 },
 "nbformat": 4,
 "nbformat_minor": 2
}
