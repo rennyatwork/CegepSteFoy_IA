{
 "cells": [
  {
   "cell_type": "markdown",
   "metadata": {},
   "source": [
    "**420-A58-SF - Algorithmes d'apprentissage non supervisé - Hiver 2023 - Spécialisation technique en Intelligence Artificielle**<br/>\n",
    "MIT License - Copyright (c) 2023 Mikaël Swawola\n",
    "<br/>\n",
    "![Travaux Pratiques - DBSCAN (implémentation / scikit-learn)](static/01-04-banner.png)\n",
    "<br/>\n",
    "**Objectif:** cet atelier a pour objectif l'implémentation en Python de l'algorithme DBSCAN, ainsi que sa mise en oeuvre avec la libraire scikit-learn"
   ]
  },
  {
   "cell_type": "code",
   "execution_count": null,
   "metadata": {},
   "outputs": [],
   "source": [
    "%reload_ext autoreload\n",
    "%autoreload 2\n",
    "%matplotlib inline"
   ]
  },
  {
   "cell_type": "code",
   "execution_count": null,
   "metadata": {},
   "outputs": [],
   "source": [
    "import queue\n",
    "import numpy as np\n",
    "import seaborn as sns; sns.set()\n",
    "import matplotlib.pyplot as plt\n",
    "\n",
    "from helpers import generate_toy_dataset"
   ]
  },
  {
   "cell_type": "markdown",
   "metadata": {},
   "source": [
    "## 1 - Génération et visualisation des données"
   ]
  },
  {
   "cell_type": "markdown",
   "metadata": {},
   "source": [
    "Nous allons tout d'abord générer un jeu de données d'école permettant une bonne illustration des forces de l'algorithme DBSCAN"
   ]
  },
  {
   "cell_type": "markdown",
   "metadata": {},
   "source": [
    "**Exercice 1-1 - Consultez la fonction `generate_toy_dataset` et exécutez le code ci-dessous**"
   ]
  },
  {
   "cell_type": "code",
   "execution_count": null,
   "metadata": {},
   "outputs": [],
   "source": [
    "X = generate_toy_dataset(seed=2021)\n",
    "\n",
    "# Configuration de la visualisation\n",
    "sns.set(style=\"darkgrid\")\n",
    "sns.set_context(\"notebook\", font_scale=1.5, rc={\"lines.linewidth\": 2.5})\n",
    "plt.rcParams['figure.figsize']=(8,8)\n",
    "_ = sns.scatterplot(x=X[:,0], y=X[:,1])\n",
    "plt.xlabel('x0')\n",
    "plt.ylabel('x1')"
   ]
  },
  {
   "cell_type": "markdown",
   "metadata": {},
   "source": [
    "## 2 - Implémentation de l'algorithme DBSCAN"
   ]
  },
  {
   "cell_type": "markdown",
   "metadata": {},
   "source": [
    "Nous allons maintenant implémenter l'algorithme DBSCAN. Cette implémention sera réalisée en différentes étapes."
   ]
  },
  {
   "cell_type": "markdown",
   "metadata": {},
   "source": [
    "**Exercice 2-1 - Compléter la fonction `eps_voisinage` permettant de trouver tous les points de l'epsilon-voisinage. Afin de vérifier la bonne implémentation, exécutez le test**"
   ]
  },
  {
   "cell_type": "markdown",
   "metadata": {},
   "source": [
    "<details>\n",
    "<summary>\n",
    "    <font size=\"3\" color=\"darkgreen\"><b>Cliquer ici pour obtenir un indice</b></font>\n",
    "</summary>\n",
    "<p>\n",
    "Ne pas oublier que le point requête est inclus dans le voisinage !\n",
    "</p>"
   ]
  },
  {
   "cell_type": "code",
   "execution_count": null,
   "metadata": {},
   "outputs": [],
   "source": [
    "def eps_voisinage(data, pt, eps):\n",
    "    \"\"\"\n",
    "    Arguments:\n",
    "    data - les données\n",
    "    pt   - le point requête pour lequel on recherche le voisinage\n",
    "    eps  - le rayon maximum du voisinage\n",
    "    \"\"\"\n",
    "    # Compléter ~ 5 lignes de code"
   ]
  },
  {
   "cell_type": "code",
   "execution_count": null,
   "metadata": {},
   "outputs": [],
   "source": [
    "# Test de la fonction eps_voisinage\n",
    "assert eps_voisinage(X, 1587, 0.1) == [1587, 1624]"
   ]
  },
  {
   "cell_type": "markdown",
   "metadata": {},
   "source": [
    "**Exercice 2-2 - Compléter la fonction `dbscan`**"
   ]
  },
  {
   "cell_type": "code",
   "execution_count": null,
   "metadata": {},
   "outputs": [],
   "source": [
    "def dbscan(data, eps, MinPts):\n",
    "    \"\"\"\n",
    "    Arguments:\n",
    "    data   - les données\n",
    "    eps    - le rayon maximum du voisinage\n",
    "    MinPts - le nombre minimum de points dans un eps-voisinage d'un point donné\n",
    "    \"\"\"\n",
    "    \n",
    "    # Initialiser un tableau c destiné à contenir le type chaque points. Les indices utilisés seront les suivants:\n",
    "    # 0: point non assigné\n",
    "    # -1: point central\n",
    "    # -2: point frontière\n",
    "    ############## Compléter ici ~ 1 ligne de code ##############\n",
    "    \n",
    "    voisinages = []      # Liste des voisinages (liste) de tous les points\n",
    "    pt_centraux = []     # Liste des points centraux\n",
    "    pt_non_centraux = [] # Liste des points non centraux (frontières et aberrants)\n",
    "    \n",
    "    # Calculer les voisinages de tous les points\n",
    "    ############## Compléter ici ~ 2 lignes de code ##############\n",
    "    \n",
    "    # Trouver tous les points centraux, frontières et aberrants\n",
    "    ############## Compléter ici ~ 11 lignes de code ##############\n",
    "            \n",
    "    #Assignation des points aux clusters\n",
    "    cluster = 1\n",
    "    for i in range(len(c)):\n",
    "        q = queue.Queue()\n",
    "        if (c[i] == -1): # point central\n",
    "            c[i] = cluster\n",
    "            for x in voisinages[i]:\n",
    "                if(c[x] == -1): # point central\n",
    "                    q.put(x)\n",
    "                    c[x] = cluster\n",
    "                elif(c[x] == -2): # point frontière\n",
    "                    c[x] = cluster\n",
    "    \n",
    "            while not q.empty():\n",
    "                neighbors = voisinages[q.get()]\n",
    "                for y in neighbors:\n",
    "                    if (c[y] == -1): # point central\n",
    "                        c[y] = cluster\n",
    "                        q.put(y)\n",
    "                    if (c[y] == -2): # point frontière\n",
    "                        c[y] = cluster\n",
    "            cluster = cluster + 1 \n",
    "           \n",
    "    return c, cluster"
   ]
  },
  {
   "cell_type": "markdown",
   "metadata": {},
   "source": [
    "Exécuter le code ci-dessous pour vérifier la bonne implémentation de l'algorithme"
   ]
  },
  {
   "cell_type": "code",
   "execution_count": null,
   "metadata": {},
   "outputs": [],
   "source": [
    "eps = 0.05\n",
    "minpts = 4\n",
    "\n",
    "c, cluster = dbscan(X, eps = 0.05, MinPts = 4)\n",
    "\n",
    "_ = sns.scatterplot(x=X[:,0], y=X[:,1], hue=(c.ravel()-1).astype(int), palette=\"Paired\")\n",
    "plt.xlabel('x0')\n",
    "plt.ylabel('x1')\n",
    "plt.legend(loc='upper right')\n",
    "\n",
    "print('Nombre de clusters: ' + str(cluster - 1))"
   ]
  },
  {
   "cell_type": "markdown",
   "metadata": {},
   "source": [
    "**Exercice 2-3 - À l'aide d'une recherche sur grille, estimer les meilleures valeurs de `eps` et `min_pts`**"
   ]
  },
  {
   "cell_type": "code",
   "execution_count": null,
   "metadata": {},
   "outputs": [],
   "source": [
    "# Compléter cette cellule ~ 10-12 lignes de code"
   ]
  },
  {
   "cell_type": "markdown",
   "metadata": {},
   "source": [
    "## 3 - Mise en oeuvre de DBSCAN avec scikit-learn"
   ]
  },
  {
   "cell_type": "markdown",
   "metadata": {},
   "source": [
    "**Exercice 3-1 - À l'aide de scikit-learn, effectuer le partitionnement DBSCAN. Choisissez adéquatement les valeurs des paramètres eps et min_samples. L'algorithme est-il en mesure de trouver l'ensemble des clusters et d'identifier les observations aberrantes ?**"
   ]
  },
  {
   "cell_type": "markdown",
   "metadata": {},
   "source": [
    "[class sklearn.cluster.DBSCAN(eps=0.5, *, min_samples=5, metric='euclidean', metric_params=None, algorithm='auto', leaf_size=30, p=None, n_jobs=None)](https://scikit-learn.org/stable/modules/generated/sklearn.cluster.DBSCAN.html)"
   ]
  },
  {
   "cell_type": "code",
   "execution_count": null,
   "metadata": {},
   "outputs": [],
   "source": [
    "# Compléter cette cellule ~ 4-5 lignes de code"
   ]
  },
  {
   "cell_type": "markdown",
   "metadata": {},
   "source": [
    "**Fin de l'atelier 01-04**"
   ]
  }
 ],
 "metadata": {
  "kernelspec": {
   "display_name": "Python 3 (ipykernel)",
   "language": "python",
   "name": "python3"
  },
  "language_info": {
   "codemirror_mode": {
    "name": "ipython",
    "version": 3
   },
   "file_extension": ".py",
   "mimetype": "text/x-python",
   "name": "python",
   "nbconvert_exporter": "python",
   "pygments_lexer": "ipython3",
   "version": "3.11.2"
  }
 },
 "nbformat": 4,
 "nbformat_minor": 2
}
