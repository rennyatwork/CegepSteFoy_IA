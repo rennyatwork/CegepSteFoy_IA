{
 "cells": [
  {
   "cell_type": "markdown",
   "metadata": {},
   "source": [
    "**420-A58-SF - Algorithmes d'apprentissage non supervisé - Hiver 2023 - Spécialisation technique en Intelligence Artificielle**<br/>\n",
    "MIT License - Copyright (c) 2023 Mikaël Swawola"
   ]
  },
  {
   "cell_type": "markdown",
   "metadata": {},
   "source": [
    "# Evaluation formative #2"
   ]
  },
  {
   "cell_type": "markdown",
   "metadata": {},
   "source": [
    "* Durée: 1 heure\n",
    "* Travail individuel\n",
    "* Documents autorisés\n",
    "* Remettre ce notebook complété de vos réponses sur Lea"
   ]
  },
  {
   "cell_type": "code",
   "execution_count": 1,
   "metadata": {},
   "outputs": [],
   "source": [
    "%reload_ext autoreload\n",
    "%autoreload 2\n",
    "%matplotlib inline"
   ]
  },
  {
   "cell_type": "markdown",
   "metadata": {},
   "source": [
    "<h3><font color=\"red\">Dans la cellule ci-dessous se trouvent toutes les bibliothèques nécéssaires à cette évaluation. Aucune bibliothèque supplémentaire n'est requise !</font><h3>"
   ]
  },
  {
   "cell_type": "code",
   "execution_count": 2,
   "metadata": {},
   "outputs": [],
   "source": [
    "import json\n",
    "import numpy as np\n",
    "import pandas as pd\n",
    "from sklearn.neighbors import NearestNeighbors\n",
    "from sklearn.metrics.pairwise import cosine_distances\n",
    "from helpers import load_sparse_csr\n",
    "from scipy.sparse import csr_matrix"
   ]
  },
  {
   "cell_type": "markdown",
   "metadata": {},
   "source": [
    "Pour rappel, l'archive `people.zip` contient 4 fichiers:\n",
    "\n",
    "* **people_wiki.csv**: jeu de données consituté des pages Wikipedia de personnalités\n",
    "* **people_wiki_map_index_to_word.json**: mapping entre les mots et les indices\n",
    "* **people_wiki_word_count.npz**: vecteurs d'occurence des mots (word count) pour chaque document\n",
    "* **people_wiki_tf_idf.npz**: vecteurs TF-IDF pour chaque document"
   ]
  },
  {
   "cell_type": "markdown",
   "metadata": {},
   "source": [
    "## Chargement des données"
   ]
  },
  {
   "cell_type": "markdown",
   "metadata": {},
   "source": [
    "Ici, la **représentation TF-IDF** sera utilisée."
   ]
  },
  {
   "cell_type": "code",
   "execution_count": 3,
   "metadata": {},
   "outputs": [],
   "source": [
    "# Chargement du jeu de données\n",
    "wiki = pd.read_csv('../../data/people/people_wiki.csv')\n",
    "wiki.index.name = 'id'\n",
    "\n",
    "# Chargement des représentations TF-IDF\n",
    "corpus = load_sparse_csr('../../data/people/people_wiki_tf_idf.npz')\n",
    "\n",
    "# Chargement du mapping entre les mots et les indices\n",
    "with open('../../data/people/people_wiki_map_index_to_word.json') as f:\n",
    "     map_index_to_word = json.load(f)"
   ]
  },
  {
   "cell_type": "markdown",
   "metadata": {},
   "source": [
    "## Inconvénient de la distance cosinus: tweets et artcles longs"
   ]
  },
  {
   "cell_type": "markdown",
   "metadata": {},
   "source": [
    "Comme vu en cours (chapitre 02-02), la **distance cosinus** peut s'avérer désavantageuse dans le cas de documents très courts et très longs. Considérons le document suivant (tweet):"
   ]
  },
  {
   "cell_type": "code",
   "execution_count": 4,
   "metadata": {},
   "outputs": [],
   "source": [
    "#+--------------------------------------------------------+\n",
    "#|                                             +--------+ |\n",
    "#|  One that shall not be named                | Follow | |\n",
    "#|  @username                                  +--------+ |\n",
    "#|                                                        |\n",
    "#|  Democratic governments control law in response to     |\n",
    "#|  popular act.                                          |\n",
    "#|                                                        |\n",
    "#|  8:05 AM - 16 May 2016                                 |\n",
    "#|                                                        |\n",
    "#|  Reply   Retweet (1,332)   Like (300)                  |\n",
    "#|                                                        |\n",
    "#+--------------------------------------------------------+"
   ]
  },
  {
   "cell_type": "markdown",
   "metadata": {},
   "source": [
    "À quel point ce tweet et la page l'article Wikipedia de Barack Obama sont similaires ? La **représentation TF-IDF** de ce tweet est définie ci-dessous:"
   ]
  },
  {
   "cell_type": "code",
   "execution_count": 5,
   "metadata": {},
   "outputs": [],
   "source": [
    "tweet = {'act': 3.4597778278724887,\n",
    " 'control': 3.721765211295327,\n",
    " 'democratic': 3.1026721743330414,\n",
    " 'governments': 4.167571323949673,\n",
    " 'in': 0.0009654063501214492,\n",
    " 'law': 2.4538226269605703,\n",
    " 'popular': 2.764478952022998,\n",
    " 'response': 4.261461747058352,\n",
    " 'to': 0.04694493768179923}"
   ]
  },
  {
   "cell_type": "markdown",
   "metadata": {},
   "source": [
    "**Question 1 - En vous basant sur la variable `map_index_to_word`, quels sont les indices des mots du tweet ci-dessus ?**"
   ]
  },
  {
   "cell_type": "code",
   "execution_count": 6,
   "metadata": {},
   "outputs": [],
   "source": [
    "# Compléter cette cellule ~ 1-2 lignes de code"
   ]
  },
  {
   "cell_type": "code",
   "execution_count": 7,
   "metadata": {},
   "outputs": [
    {
     "data": {
      "text/plain": [
       "[547084, 546835, 547347, 546279, 547976, 547685, 547556, 546136, 547972]"
      ]
     },
     "execution_count": 7,
     "metadata": {},
     "output_type": "execute_result"
    }
   ],
   "source": [
    "word_indices = [map_index_to_word[word] for word in tweet.keys()]\n",
    "word_indices"
   ]
  },
  {
   "cell_type": "markdown",
   "metadata": {},
   "source": [
    "**Question 2 - Obtenir la représentation TF-IF des mots du tweet présents dans la page de Barack Obama (35817). N'oubliez pas que la matrice `corpus` est une matrice creuse (sparse)!**"
   ]
  },
  {
   "cell_type": "code",
   "execution_count": 8,
   "metadata": {},
   "outputs": [],
   "source": [
    "# Compléter cette cellule ~ 1-2 lignes de code"
   ]
  },
  {
   "cell_type": "code",
   "execution_count": 9,
   "metadata": {},
   "outputs": [
    {
     "data": {
      "text/plain": [
       "array([[27.67822262, 14.88706085, 12.4106887 ,  0.        ,  0.02896219,\n",
       "        14.72293576,  0.        , 12.78438524,  0.65722913]])"
      ]
     },
     "execution_count": 9,
     "metadata": {},
     "output_type": "execute_result"
    }
   ],
   "source": [
    "obama_tweet_words = corpus[35817, word_indices].toarray()\n",
    "obama_tweet_words"
   ]
  },
  {
   "cell_type": "markdown",
   "metadata": {},
   "source": [
    "**Question 3 - Créer une variable `tweet_tf_idf`, vecteur TF-IDF complet sur tout le corpus. Utilisez l'aide suivante [https://docs.scipy.org/doc/scipy/reference/generated/scipy.sparse.csr_matrix.html](scipy.sparse.csr_matrix)**"
   ]
  },
  {
   "cell_type": "markdown",
   "metadata": {},
   "source": [
    "**Le tableau obtenu doit contenir des zéros partout, sauf aux positions d'indices trouvés à la question 1, et pour lesquelles les valeurs sont celles des valeurs contenues dans la variable `tweet`**"
   ]
  },
  {
   "cell_type": "code",
   "execution_count": 10,
   "metadata": {},
   "outputs": [],
   "source": [
    "# Compléter cette cellule ~ 1-2 lignes de code"
   ]
  },
  {
   "cell_type": "code",
   "execution_count": 11,
   "metadata": {},
   "outputs": [
    {
     "data": {
      "text/plain": [
       "array([[0.        , 0.        , 0.        , ..., 0.00096541, 0.        ,\n",
       "        0.        ]])"
      ]
     },
     "execution_count": 11,
     "metadata": {},
     "output_type": "execute_result"
    }
   ],
   "source": [
    "tweet_tf_idf = csr_matrix( (list(tweet.values()), ([0]*len(word_indices), word_indices)), shape=(1, corpus.shape[1]) )\n",
    "tweet_tf_idf.toarray()"
   ]
  },
  {
   "cell_type": "markdown",
   "metadata": {},
   "source": [
    "**Question 4: Obtenir la représentation TF_IDF de la page de Barack Obama**"
   ]
  },
  {
   "cell_type": "code",
   "execution_count": 12,
   "metadata": {},
   "outputs": [],
   "source": [
    "# Compléter cette cellule ~ 1 ligne de code\n",
    "obama_tf_idf = corpus[35817]"
   ]
  },
  {
   "cell_type": "markdown",
   "metadata": {},
   "source": [
    "**Question 5: Calculer la distance cosinus entre le tweet et la page de Barack Obama**"
   ]
  },
  {
   "cell_type": "code",
   "execution_count": 13,
   "metadata": {},
   "outputs": [],
   "source": [
    "# Compléter cette cellule ~ 1 ligne de code"
   ]
  },
  {
   "cell_type": "code",
   "execution_count": 14,
   "metadata": {},
   "outputs": [
    {
     "data": {
      "text/plain": [
       "array([[0.70591838]])"
      ]
     },
     "execution_count": 14,
     "metadata": {},
     "output_type": "execute_result"
    }
   ],
   "source": [
    "cosine_distances(obama_tf_idf, tweet_tf_idf)"
   ]
  },
  {
   "cell_type": "markdown",
   "metadata": {},
   "source": [
    "**Exercice 6: Comparer cette distance avec les 10 plus proches voisins trouvés à la question 2-2 de l'atelier 02-02-A2**"
   ]
  },
  {
   "cell_type": "code",
   "execution_count": 15,
   "metadata": {},
   "outputs": [],
   "source": [
    "# Compléter cette cellule ~ 1-3 lignes de code"
   ]
  },
  {
   "cell_type": "code",
   "execution_count": 16,
   "metadata": {},
   "outputs": [
    {
     "data": {
      "text/plain": [
       "array([[0.        , 0.70313868, 0.7429819 , 0.7583584 , 0.77056123,\n",
       "        0.7846775 , 0.78803907, 0.79092642, 0.7983226 , 0.79946636]])"
      ]
     },
     "execution_count": 16,
     "metadata": {},
     "output_type": "execute_result"
    }
   ],
   "source": [
    "model_cosine = NearestNeighbors(algorithm='brute', metric='cosine').fit(corpus)\n",
    "distances, indices = model_cosine.kneighbors(obama_tf_idf, n_neighbors=10)\n",
    "distances"
   ]
  },
  {
   "cell_type": "markdown",
   "metadata": {},
   "source": [
    "## Fin de l'évaluation formative #2"
   ]
  }
 ],
 "metadata": {
  "kernelspec": {
   "display_name": "Python 3 (ipykernel)",
   "language": "python",
   "name": "python3"
  },
  "language_info": {
   "codemirror_mode": {
    "name": "ipython",
    "version": 3
   },
   "file_extension": ".py",
   "mimetype": "text/x-python",
   "name": "python",
   "nbconvert_exporter": "python",
   "pygments_lexer": "ipython3",
   "version": "3.11.2"
  }
 },
 "nbformat": 4,
 "nbformat_minor": 4
}
