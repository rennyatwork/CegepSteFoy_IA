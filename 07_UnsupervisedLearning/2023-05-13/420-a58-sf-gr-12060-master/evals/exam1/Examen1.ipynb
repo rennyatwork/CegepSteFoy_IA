{
 "cells": [
  {
   "cell_type": "markdown",
   "metadata": {},
   "source": [
    "**420-A58-SF - Algorithmes d'apprentissage non supervisé - Hiver 2023 - Spécialisation technique en Intelligence Artificielle**<br/>\n",
    "MIT License - Copyright (c) 2023 Mikaël Swawola\n",
    "<br/>\n",
    "![Examen #1 - Segmentation du marché](static/exam1-banner.png)\n",
    "<br/>"
   ]
  },
  {
   "cell_type": "markdown",
   "metadata": {},
   "source": [
    "# À propos de l'examen"
   ]
  },
  {
   "cell_type": "markdown",
   "metadata": {},
   "source": [
    "* **Date et heure**: Mercredi 19 avril 2023 de 18h30 à 22h00\n",
    "* **Pondération**: 30%\n",
    "* **Tous les documents sont autorisés**\n",
    "* **Il s'agit d'un travail individuel. Toute collaboration (avec quiconque!) et plagiat sont strictement interdits. Le non respect de cette consigne entraînera une note de 0 à l'examen**.\n",
    "* L'examen est noté sur 100 points\n",
    "* Remettre ce fichier complété de vos réponses sur la plateforme Lea au plus tard à 22h00. <span style=\"color:red;\">**Une pénalité de 5 points par minute excédentaire entamée sera appliquée.**</span>"
   ]
  },
  {
   "cell_type": "markdown",
   "metadata": {},
   "source": [
    "---\n",
    "# Avant de commencer"
   ]
  },
  {
   "cell_type": "markdown",
   "metadata": {},
   "source": [
    "* Cet examen couvre les chapitres 01-01 à 01-05 du cours *420-A58-SF - Apprentisage non supervisé*. Des éléments du *cours 420-A55-SF - Analyse exploratoire des données* relatifs à l'apprentissage non supervisé sont requis (ACP).\n",
    "* Le jeu de données est considéré comme préparé. Il ne contient par exemple ni valeurs abérrantes, ni données manquantes. **Ne mélangez (shuffle) pas les données!**\n",
    "* Vous devrez rendre ce fichier complété de **vos réponses et de votre code** sur la plateforme Lea à la fin de l'examen.\n",
    "* Renommez le présent fichier en incluant vos noms et prénoms. Exemple: **Examen1_&lt;nom_prenom&gt;.ipynb**\n",
    "* Lisez bien les questions et **<span style=\"color:green;\">bon succès à tous !</span>**"
   ]
  },
  {
   "cell_type": "markdown",
   "metadata": {},
   "source": [
    "---\n",
    "# Description de la problématique"
   ]
  },
  {
   "cell_type": "markdown",
   "metadata": {},
   "source": [
    "La **segmentation de marché** consiste au découpage d'un marché de clients en sous-groupes similaires. Ceci permet alors la mise en oeuvre de stratégies marketing spécifiques (ciblées) à chaque sous-groupe de client."
   ]
  },
  {
   "cell_type": "markdown",
   "metadata": {},
   "source": [
    "Les méthodes de **partitionnement de données** que nous avons vu en cours sont extrèmement populaire en segmentation de marché. Pour ce problème, nous verrons comment celles-ci sont utilisées pour découvrir des sous-groupes de clients similaires dans la catégorie appartennant au programme de fidélisation de la compagnie aérienne fictive **AirAlgo**.\n",
    "L'objectif de la compagnie est d'en apprendre plus sur ses clients afin de pouvoir cibler différents segments de clientèle avec différents types d'offres de miles."
   ]
  },
  {
   "cell_type": "markdown",
   "metadata": {},
   "source": [
    "Le jeu de données est contenu dans le fichier `AirAlgo.csv`. Les informations sur les membres du programme \"Frequent Flyer\" y sont représentées sous forme tabulaire (lignes, colonnes). Ce jeu de données est issu de l'ouvrage [\"Data Mining for Business Intelligence,\" par Galit Shmueli, Nitin R. Patel, et Peter C. Bruce](https://www.safaribooksonline.com/library/view/data-mining-for/9780470526828/). Cette référence est donnée à titre de citation des sources et n'est pas requise pour la réalisation de l'examen."
   ]
  },
  {
   "cell_type": "markdown",
   "metadata": {},
   "source": [
    "Les variables associées aux observations sont les suivantes:\n",
    "\n",
    "| Nom de la variable  | Description de la variable  |\n",
    "|---|---|\n",
    "|Balance   | Nombre de miles éligibles pour des récompenses de voyages  |\n",
    "|QualMiles  | Nombre de miles qualifiant pour le status \"TopFlight\"  |\n",
    "|BonusMiles | Nombre de miles obtenus à partir de bonus sur transactions hors vols (12 derniers mois)  |\n",
    "|BonusTrans | Nombre de bonus sur transactions hors vols (12 derniers mois)  |\n",
    "|FlightMiles | Nombre de miles (vols) (12 derniers mois)  |\n",
    "|FlightTrans | Nombre de transactions de vols (12 derniers mois)  |\n",
    "|DaysSinceEnroll | Nombre de jours depuis l'inscription au programme \"Frequent flyer\"  |"
   ]
  },
  {
   "cell_type": "markdown",
   "metadata": {},
   "source": [
    "---\n",
    "# 1 - Exploration sommaire des données (10 points)"
   ]
  },
  {
   "cell_type": "markdown",
   "metadata": {},
   "source": [
    "### Question 1-1 - Combien d'observations (membres du programme \"Frequent Flyer\") contient le jeu de données ? (2.5 points)"
   ]
  },
  {
   "cell_type": "markdown",
   "metadata": {},
   "source": [
    "### ----- Votre réponse ci-dessous -----"
   ]
  },
  {
   "cell_type": "code",
   "execution_count": 1,
   "metadata": {},
   "outputs": [
    {
     "name": "stdout",
     "output_type": "stream",
     "text": [
      "<class 'pandas.core.frame.DataFrame'>\n",
      "RangeIndex: 3999 entries, 0 to 3998\n",
      "Data columns (total 7 columns):\n",
      " #   Column           Non-Null Count  Dtype\n",
      "---  ------           --------------  -----\n",
      " 0   Balance          3999 non-null   int64\n",
      " 1   QualMiles        3999 non-null   int64\n",
      " 2   BonusMiles       3999 non-null   int64\n",
      " 3   BonusTrans       3999 non-null   int64\n",
      " 4   FlightMiles      3999 non-null   int64\n",
      " 5   FlightTrans      3999 non-null   int64\n",
      " 6   DaysSinceEnroll  3999 non-null   int64\n",
      "dtypes: int64(7)\n",
      "memory usage: 218.8 KB\n"
     ]
    }
   ],
   "source": [
    "import pandas as pd\n",
    "df = pd.read_csv('../../data/AirAlgo.csv')\n",
    "df.info()"
   ]
  },
  {
   "cell_type": "markdown",
   "metadata": {},
   "source": [
    "### Question 1-2 - Combien de variables y a-t-il ? Quelle est la nature (quantitative ou qualitative) de chacune des variables ? (2.5 points)"
   ]
  },
  {
   "cell_type": "markdown",
   "metadata": {},
   "source": [
    "### ----- Votre réponse ci-dessous -----"
   ]
  },
  {
   "cell_type": "markdown",
   "metadata": {},
   "source": [
    "7 - quantitatives"
   ]
  },
  {
   "cell_type": "markdown",
   "metadata": {},
   "source": [
    "### Question 1-3 - Quelles sont les deux variables ayant en moyenne les valeurs les plus faibles ? (2.5 points)"
   ]
  },
  {
   "cell_type": "markdown",
   "metadata": {},
   "source": [
    "### ----- Votre réponse ci-dessous -----"
   ]
  },
  {
   "cell_type": "code",
   "execution_count": 2,
   "metadata": {},
   "outputs": [
    {
     "data": {
      "text/html": [
       "<div>\n",
       "<style scoped>\n",
       "    .dataframe tbody tr th:only-of-type {\n",
       "        vertical-align: middle;\n",
       "    }\n",
       "\n",
       "    .dataframe tbody tr th {\n",
       "        vertical-align: top;\n",
       "    }\n",
       "\n",
       "    .dataframe thead th {\n",
       "        text-align: right;\n",
       "    }\n",
       "</style>\n",
       "<table border=\"1\" class=\"dataframe\">\n",
       "  <thead>\n",
       "    <tr style=\"text-align: right;\">\n",
       "      <th></th>\n",
       "      <th>Balance</th>\n",
       "      <th>QualMiles</th>\n",
       "      <th>BonusMiles</th>\n",
       "      <th>BonusTrans</th>\n",
       "      <th>FlightMiles</th>\n",
       "      <th>FlightTrans</th>\n",
       "      <th>DaysSinceEnroll</th>\n",
       "    </tr>\n",
       "  </thead>\n",
       "  <tbody>\n",
       "    <tr>\n",
       "      <th>count</th>\n",
       "      <td>3.999000e+03</td>\n",
       "      <td>3999.000000</td>\n",
       "      <td>3999.000000</td>\n",
       "      <td>3999.00000</td>\n",
       "      <td>3999.000000</td>\n",
       "      <td>3999.000000</td>\n",
       "      <td>3999.00000</td>\n",
       "    </tr>\n",
       "    <tr>\n",
       "      <th>mean</th>\n",
       "      <td>7.360133e+04</td>\n",
       "      <td>144.114529</td>\n",
       "      <td>17144.846212</td>\n",
       "      <td>11.60190</td>\n",
       "      <td>460.055764</td>\n",
       "      <td>1.373593</td>\n",
       "      <td>4118.55939</td>\n",
       "    </tr>\n",
       "    <tr>\n",
       "      <th>std</th>\n",
       "      <td>1.007757e+05</td>\n",
       "      <td>773.663804</td>\n",
       "      <td>24150.967826</td>\n",
       "      <td>9.60381</td>\n",
       "      <td>1400.209171</td>\n",
       "      <td>3.793172</td>\n",
       "      <td>2065.13454</td>\n",
       "    </tr>\n",
       "    <tr>\n",
       "      <th>min</th>\n",
       "      <td>0.000000e+00</td>\n",
       "      <td>0.000000</td>\n",
       "      <td>0.000000</td>\n",
       "      <td>0.00000</td>\n",
       "      <td>0.000000</td>\n",
       "      <td>0.000000</td>\n",
       "      <td>2.00000</td>\n",
       "    </tr>\n",
       "    <tr>\n",
       "      <th>25%</th>\n",
       "      <td>1.852750e+04</td>\n",
       "      <td>0.000000</td>\n",
       "      <td>1250.000000</td>\n",
       "      <td>3.00000</td>\n",
       "      <td>0.000000</td>\n",
       "      <td>0.000000</td>\n",
       "      <td>2330.00000</td>\n",
       "    </tr>\n",
       "    <tr>\n",
       "      <th>50%</th>\n",
       "      <td>4.309700e+04</td>\n",
       "      <td>0.000000</td>\n",
       "      <td>7171.000000</td>\n",
       "      <td>12.00000</td>\n",
       "      <td>0.000000</td>\n",
       "      <td>0.000000</td>\n",
       "      <td>4096.00000</td>\n",
       "    </tr>\n",
       "    <tr>\n",
       "      <th>75%</th>\n",
       "      <td>9.240400e+04</td>\n",
       "      <td>0.000000</td>\n",
       "      <td>23800.500000</td>\n",
       "      <td>17.00000</td>\n",
       "      <td>311.000000</td>\n",
       "      <td>1.000000</td>\n",
       "      <td>5790.50000</td>\n",
       "    </tr>\n",
       "    <tr>\n",
       "      <th>max</th>\n",
       "      <td>1.704838e+06</td>\n",
       "      <td>11148.000000</td>\n",
       "      <td>263685.000000</td>\n",
       "      <td>86.00000</td>\n",
       "      <td>30817.000000</td>\n",
       "      <td>53.000000</td>\n",
       "      <td>8296.00000</td>\n",
       "    </tr>\n",
       "  </tbody>\n",
       "</table>\n",
       "</div>"
      ],
      "text/plain": [
       "            Balance     QualMiles     BonusMiles  BonusTrans   FlightMiles  \\\n",
       "count  3.999000e+03   3999.000000    3999.000000  3999.00000   3999.000000   \n",
       "mean   7.360133e+04    144.114529   17144.846212    11.60190    460.055764   \n",
       "std    1.007757e+05    773.663804   24150.967826     9.60381   1400.209171   \n",
       "min    0.000000e+00      0.000000       0.000000     0.00000      0.000000   \n",
       "25%    1.852750e+04      0.000000    1250.000000     3.00000      0.000000   \n",
       "50%    4.309700e+04      0.000000    7171.000000    12.00000      0.000000   \n",
       "75%    9.240400e+04      0.000000   23800.500000    17.00000    311.000000   \n",
       "max    1.704838e+06  11148.000000  263685.000000    86.00000  30817.000000   \n",
       "\n",
       "       FlightTrans  DaysSinceEnroll  \n",
       "count  3999.000000       3999.00000  \n",
       "mean      1.373593       4118.55939  \n",
       "std       3.793172       2065.13454  \n",
       "min       0.000000          2.00000  \n",
       "25%       0.000000       2330.00000  \n",
       "50%       0.000000       4096.00000  \n",
       "75%       1.000000       5790.50000  \n",
       "max      53.000000       8296.00000  "
      ]
     },
     "execution_count": 2,
     "metadata": {},
     "output_type": "execute_result"
    }
   ],
   "source": [
    "df.describe()"
   ]
  },
  {
   "cell_type": "code",
   "execution_count": null,
   "metadata": {},
   "outputs": [],
   "source": [
    "FlightTrans et BonusTrans"
   ]
  },
  {
   "cell_type": "markdown",
   "metadata": {},
   "source": [
    "### Question 1-4 - Quelles sont les deux variables ayant en moyenne les valeurs les plus élevées ? (2.5 points)"
   ]
  },
  {
   "cell_type": "markdown",
   "metadata": {},
   "source": [
    "### ----- Votre réponse ci-dessous -----"
   ]
  },
  {
   "cell_type": "code",
   "execution_count": null,
   "metadata": {},
   "outputs": [],
   "source": [
    "Balance et BonusMiles"
   ]
  },
  {
   "cell_type": "markdown",
   "metadata": {},
   "source": [
    "---\n",
    "# 2 - Mise à l'échelle des données (10 points)"
   ]
  },
  {
   "cell_type": "markdown",
   "metadata": {},
   "source": [
    "### Question 2-1 - Sachant que nous allons appliquer des techniques de partitionnement, pourquoi est-il nécéssaire de mettre les données à l'échelle (standardiser, normaliser, ...)? Justifier votre réponse. (5 points)"
   ]
  },
  {
   "cell_type": "markdown",
   "metadata": {},
   "source": [
    "### ----- Votre réponse ci-dessous -----"
   ]
  },
  {
   "cell_type": "code",
   "execution_count": null,
   "metadata": {},
   "outputs": [],
   "source": []
  },
  {
   "cell_type": "markdown",
   "metadata": {},
   "source": [
    "### Question 2-2 - Quelle variable à la valeur la plus basse sur les données mises à l'échelle ? (2.5 points)"
   ]
  },
  {
   "cell_type": "markdown",
   "metadata": {},
   "source": [
    "### ----- Votre réponse ci-dessous -----"
   ]
  },
  {
   "cell_type": "code",
   "execution_count": 3,
   "metadata": {},
   "outputs": [
    {
     "data": {
      "text/html": [
       "<div>\n",
       "<style scoped>\n",
       "    .dataframe tbody tr th:only-of-type {\n",
       "        vertical-align: middle;\n",
       "    }\n",
       "\n",
       "    .dataframe tbody tr th {\n",
       "        vertical-align: top;\n",
       "    }\n",
       "\n",
       "    .dataframe thead th {\n",
       "        text-align: right;\n",
       "    }\n",
       "</style>\n",
       "<table border=\"1\" class=\"dataframe\">\n",
       "  <thead>\n",
       "    <tr style=\"text-align: right;\">\n",
       "      <th></th>\n",
       "      <th>Balance</th>\n",
       "      <th>QualMiles</th>\n",
       "      <th>BonusMiles</th>\n",
       "      <th>BonusTrans</th>\n",
       "      <th>FlightMiles</th>\n",
       "      <th>FlightTrans</th>\n",
       "      <th>DaysSinceEnroll</th>\n",
       "    </tr>\n",
       "  </thead>\n",
       "  <tbody>\n",
       "    <tr>\n",
       "      <th>count</th>\n",
       "      <td>3.999000e+03</td>\n",
       "      <td>3.999000e+03</td>\n",
       "      <td>3.999000e+03</td>\n",
       "      <td>3.999000e+03</td>\n",
       "      <td>3.999000e+03</td>\n",
       "      <td>3.999000e+03</td>\n",
       "      <td>3.999000e+03</td>\n",
       "    </tr>\n",
       "    <tr>\n",
       "      <th>mean</th>\n",
       "      <td>2.842882e-17</td>\n",
       "      <td>3.731282e-17</td>\n",
       "      <td>-2.842882e-17</td>\n",
       "      <td>-5.685763e-17</td>\n",
       "      <td>-1.776801e-18</td>\n",
       "      <td>2.132161e-17</td>\n",
       "      <td>5.685763e-17</td>\n",
       "    </tr>\n",
       "    <tr>\n",
       "      <th>std</th>\n",
       "      <td>1.000000e+00</td>\n",
       "      <td>1.000000e+00</td>\n",
       "      <td>1.000000e+00</td>\n",
       "      <td>1.000000e+00</td>\n",
       "      <td>1.000000e+00</td>\n",
       "      <td>1.000000e+00</td>\n",
       "      <td>1.000000e+00</td>\n",
       "    </tr>\n",
       "    <tr>\n",
       "      <th>min</th>\n",
       "      <td>-7.303482e-01</td>\n",
       "      <td>-1.862754e-01</td>\n",
       "      <td>-7.099031e-01</td>\n",
       "      <td>-1.208052e+00</td>\n",
       "      <td>-3.285622e-01</td>\n",
       "      <td>-3.621226e-01</td>\n",
       "      <td>-1.993361e+00</td>\n",
       "    </tr>\n",
       "    <tr>\n",
       "      <th>25%</th>\n",
       "      <td>-5.464993e-01</td>\n",
       "      <td>-1.862754e-01</td>\n",
       "      <td>-6.581453e-01</td>\n",
       "      <td>-8.956758e-01</td>\n",
       "      <td>-3.285622e-01</td>\n",
       "      <td>-3.621226e-01</td>\n",
       "      <td>-8.660740e-01</td>\n",
       "    </tr>\n",
       "    <tr>\n",
       "      <th>50%</th>\n",
       "      <td>-3.026954e-01</td>\n",
       "      <td>-1.862754e-01</td>\n",
       "      <td>-4.129792e-01</td>\n",
       "      <td>4.145225e-02</td>\n",
       "      <td>-3.285622e-01</td>\n",
       "      <td>-3.621226e-01</td>\n",
       "      <td>-1.092393e-02</td>\n",
       "    </tr>\n",
       "    <tr>\n",
       "      <th>75%</th>\n",
       "      <td>1.865795e-01</td>\n",
       "      <td>-1.862754e-01</td>\n",
       "      <td>2.755854e-01</td>\n",
       "      <td>5.620789e-01</td>\n",
       "      <td>-1.064525e-01</td>\n",
       "      <td>-9.849101e-02</td>\n",
       "      <td>8.096037e-01</td>\n",
       "    </tr>\n",
       "    <tr>\n",
       "      <th>max</th>\n",
       "      <td>1.618681e+01</td>\n",
       "      <td>1.422308e+01</td>\n",
       "      <td>1.020829e+01</td>\n",
       "      <td>7.746727e+00</td>\n",
       "      <td>2.168029e+01</td>\n",
       "      <td>1.361035e+01</td>\n",
       "      <td>2.022842e+00</td>\n",
       "    </tr>\n",
       "  </tbody>\n",
       "</table>\n",
       "</div>"
      ],
      "text/plain": [
       "            Balance     QualMiles    BonusMiles    BonusTrans   FlightMiles  \\\n",
       "count  3.999000e+03  3.999000e+03  3.999000e+03  3.999000e+03  3.999000e+03   \n",
       "mean   2.842882e-17  3.731282e-17 -2.842882e-17 -5.685763e-17 -1.776801e-18   \n",
       "std    1.000000e+00  1.000000e+00  1.000000e+00  1.000000e+00  1.000000e+00   \n",
       "min   -7.303482e-01 -1.862754e-01 -7.099031e-01 -1.208052e+00 -3.285622e-01   \n",
       "25%   -5.464993e-01 -1.862754e-01 -6.581453e-01 -8.956758e-01 -3.285622e-01   \n",
       "50%   -3.026954e-01 -1.862754e-01 -4.129792e-01  4.145225e-02 -3.285622e-01   \n",
       "75%    1.865795e-01 -1.862754e-01  2.755854e-01  5.620789e-01 -1.064525e-01   \n",
       "max    1.618681e+01  1.422308e+01  1.020829e+01  7.746727e+00  2.168029e+01   \n",
       "\n",
       "        FlightTrans  DaysSinceEnroll  \n",
       "count  3.999000e+03     3.999000e+03  \n",
       "mean   2.132161e-17     5.685763e-17  \n",
       "std    1.000000e+00     1.000000e+00  \n",
       "min   -3.621226e-01    -1.993361e+00  \n",
       "25%   -3.621226e-01    -8.660740e-01  \n",
       "50%   -3.621226e-01    -1.092393e-02  \n",
       "75%   -9.849101e-02     8.096037e-01  \n",
       "max    1.361035e+01     2.022842e+00  "
      ]
     },
     "execution_count": 3,
     "metadata": {},
     "output_type": "execute_result"
    }
   ],
   "source": [
    "df_std = (df - df.mean(axis=0))/df.std(axis=0)\n",
    "df_std.describe()"
   ]
  },
  {
   "cell_type": "markdown",
   "metadata": {},
   "source": [
    "DaysSinceEnroll (-1.99)"
   ]
  },
  {
   "cell_type": "markdown",
   "metadata": {},
   "source": [
    "### Question 2-3 - Quelle variable à la valeur la plus élevée sur les données mises à l'échelle ? (2.5 points)"
   ]
  },
  {
   "cell_type": "markdown",
   "metadata": {},
   "source": [
    "### ----- Votre réponse ci-dessous -----"
   ]
  },
  {
   "cell_type": "markdown",
   "metadata": {},
   "source": [
    "FlightMiles (21.69)"
   ]
  },
  {
   "cell_type": "markdown",
   "metadata": {},
   "source": [
    "---\n",
    "# 3 - Partitionnement hiérarchique (40 points)"
   ]
  },
  {
   "cell_type": "markdown",
   "metadata": {},
   "source": [
    "### Question 3-1 - Effectuer un partitionnement hiérarchique et afficher le dendrogramme correspondant. Vous devrez sélectionner la méthode de lien la mieux adaptée. L'affichage peut se faire en utilisant la fonction plot_dendrogram (fichier helpers.py). Le paramètre no_labels peut être mis à `True` afin de réduire le temps d'affichage (ce jeu de données n'a de toute façon pas d'étiquettes !). (5 points)"
   ]
  },
  {
   "cell_type": "markdown",
   "metadata": {},
   "source": [
    "### ----- Votre réponse ci-dessous -----"
   ]
  },
  {
   "cell_type": "code",
   "execution_count": 12,
   "metadata": {
    "scrolled": true
   },
   "outputs": [],
   "source": [
    "import seaborn as sns; sns.set()\n",
    "import matplotlib.pyplot as plt\n",
    "# Configuration de la visualisation\n",
    "sns.set(style=\"darkgrid\")\n",
    "sns.set_context(\"notebook\", font_scale=1.5, rc={\"lines.linewidth\": 2.5})\n",
    "plt.rcParams['figure.figsize']=(10,6)"
   ]
  },
  {
   "cell_type": "code",
   "execution_count": 30,
   "metadata": {},
   "outputs": [],
   "source": [
    "from sklearn.cluster import AgglomerativeClustering\n",
    "clust_ward = AgglomerativeClustering(distance_threshold=0, n_clusters=None, linkage=\"ward\").fit(df_std)"
   ]
  },
  {
   "cell_type": "code",
   "execution_count": 31,
   "metadata": {},
   "outputs": [
    {
     "data": {
      "image/png": "[encoded data removed]",
      "text/plain": [
       "<Figure size 1000x600 with 1 Axes>"
      ]
     },
     "metadata": {},
     "output_type": "display_data"
    }
   ],
   "source": [
    "from helpers import plot_dendrogram\n",
    "plot_dendrogram(clust_ward, truncate_mode='level', no_labels=True)"
   ]
  },
  {
   "cell_type": "markdown",
   "metadata": {},
   "source": [
    "### Question 3-2 - Un spécialiste en marketing de la compagnie AirAlgo vous suggère la présence de 3 sous groupes de clients. En considérant le dendrogramme obtenu précédemment, vous estimez que ce chiffre n'est pas adéquat. Que pourraient être les valeurs alternatives et pourquoi ? (5 points)"
   ]
  },
  {
   "cell_type": "markdown",
   "metadata": {},
   "source": [
    "### ----- Votre réponse ci-dessous -----"
   ]
  },
  {
   "cell_type": "markdown",
   "metadata": {},
   "source": [
    "4,5 ou 8"
   ]
  },
  {
   "cell_type": "markdown",
   "metadata": {},
   "source": [
    "### Question 3-3 - Satisfaits de vos résultats précédents, vous réuississez à convaincre le spécialiste Marketing qu'il existe cinq sous-groupes de clients. Ré-effectuez le partitionnement hiérarchique avec le nombre adéquat de partitions. Combien de clients composent la première partition (celle d'indice 0)?  (5 points)"
   ]
  },
  {
   "cell_type": "markdown",
   "metadata": {},
   "source": [
    "### ----- Votre réponse ci-dessous -----"
   ]
  },
  {
   "cell_type": "code",
   "execution_count": 32,
   "metadata": {},
   "outputs": [],
   "source": [
    "clust_5 = AgglomerativeClustering(distance_threshold=None, n_clusters=5).fit(df_std)"
   ]
  },
  {
   "cell_type": "code",
   "execution_count": 37,
   "metadata": {},
   "outputs": [
    {
     "data": {
      "text/plain": [
       "360"
      ]
     },
     "execution_count": 37,
     "metadata": {},
     "output_type": "execute_result"
    }
   ],
   "source": [
    "(clust_5.labels_ == 0).sum()"
   ]
  },
  {
   "cell_type": "code",
   "execution_count": 40,
   "metadata": {},
   "outputs": [
    {
     "data": {
      "text/plain": [
       "360.0"
      ]
     },
     "execution_count": 40,
     "metadata": {},
     "output_type": "execute_result"
    },
    {
     "data": {
      "image/png": "[encoded data removed]",
      "text/plain": [
       "<Figure size 1000x600 with 1 Axes>"
      ]
     },
     "metadata": {},
     "output_type": "display_data"
    }
   ],
   "source": [
    "plt.hist(clust_5.labels_)[0][0]"
   ]
  },
  {
   "cell_type": "markdown",
   "metadata": {},
   "source": [
    "### Question 3-4 - Calculez le centroïde de la première partition. Remarque: afin de faciliter l'interprétation à venir, vous devez le calculer sur les données non mises à l'échelle. (5 points)"
   ]
  },
  {
   "cell_type": "markdown",
   "metadata": {},
   "source": [
    "### ----- Votre réponse ci-dessous -----"
   ]
  },
  {
   "cell_type": "code",
   "execution_count": 43,
   "metadata": {},
   "outputs": [
    {
     "data": {
      "text/plain": [
       "Balance            204316.227778\n",
       "QualMiles             144.711111\n",
       "BonusMiles          36265.022222\n",
       "BonusTrans             19.802778\n",
       "FlightMiles          2286.719444\n",
       "FlightTrans             6.744444\n",
       "DaysSinceEnroll      4744.158333\n",
       "dtype: float64"
      ]
     },
     "execution_count": 43,
     "metadata": {},
     "output_type": "execute_result"
    }
   ],
   "source": [
    "df[(clust_5.labels_ == 0)].mean()"
   ]
  },
  {
   "cell_type": "markdown",
   "metadata": {},
   "source": [
    "### Question 3-5 - En vous basant sur la question précédente, comparez les centroïdes des partitions retenues. Pour aider, vous pouvez créer une trame de données dont les lignes correspondent aux partitions et les colonnes aux variables. La première partition (d'indice 0) montre les valeurs moyennes les plus élevées pour 3 des variables. Lesquelles ? (5 points)"
   ]
  },
  {
   "cell_type": "markdown",
   "metadata": {},
   "source": [
    "### ----- Votre réponse ci-dessous -----"
   ]
  },
  {
   "cell_type": "code",
   "execution_count": 44,
   "metadata": {},
   "outputs": [],
   "source": [
    "centroides = [df[(clust_5.labels_ == 0)].mean(),\n",
    "              df[(clust_5.labels_ == 1)].mean(),\n",
    "              df[(clust_5.labels_ == 2)].mean(),\n",
    "              df[(clust_5.labels_ == 3)].mean(),\n",
    "              df[(clust_5.labels_ == 4)].mean()]"
   ]
  },
  {
   "cell_type": "code",
   "execution_count": 46,
   "metadata": {},
   "outputs": [
    {
     "data": {
      "text/html": [
       "<div>\n",
       "<style scoped>\n",
       "    .dataframe tbody tr th:only-of-type {\n",
       "        vertical-align: middle;\n",
       "    }\n",
       "\n",
       "    .dataframe tbody tr th {\n",
       "        vertical-align: top;\n",
       "    }\n",
       "\n",
       "    .dataframe thead th {\n",
       "        text-align: right;\n",
       "    }\n",
       "</style>\n",
       "<table border=\"1\" class=\"dataframe\">\n",
       "  <thead>\n",
       "    <tr style=\"text-align: right;\">\n",
       "      <th></th>\n",
       "      <th>Balance</th>\n",
       "      <th>QualMiles</th>\n",
       "      <th>BonusMiles</th>\n",
       "      <th>BonusTrans</th>\n",
       "      <th>FlightMiles</th>\n",
       "      <th>FlightTrans</th>\n",
       "      <th>DaysSinceEnroll</th>\n",
       "    </tr>\n",
       "    <tr>\n",
       "      <th>Centroïdes</th>\n",
       "      <th></th>\n",
       "      <th></th>\n",
       "      <th></th>\n",
       "      <th></th>\n",
       "      <th></th>\n",
       "      <th></th>\n",
       "      <th></th>\n",
       "    </tr>\n",
       "  </thead>\n",
       "  <tbody>\n",
       "    <tr>\n",
       "      <th>0</th>\n",
       "      <td>204316.227778</td>\n",
       "      <td>144.711111</td>\n",
       "      <td>36265.022222</td>\n",
       "      <td>19.802778</td>\n",
       "      <td>2286.719444</td>\n",
       "      <td>6.744444</td>\n",
       "      <td>4744.158333</td>\n",
       "    </tr>\n",
       "    <tr>\n",
       "      <th>1</th>\n",
       "      <td>37353.074403</td>\n",
       "      <td>0.882288</td>\n",
       "      <td>3651.923931</td>\n",
       "      <td>4.246530</td>\n",
       "      <td>137.491394</td>\n",
       "      <td>0.451416</td>\n",
       "      <td>3402.970572</td>\n",
       "    </tr>\n",
       "    <tr>\n",
       "      <th>2</th>\n",
       "      <td>79910.013241</td>\n",
       "      <td>123.694876</td>\n",
       "      <td>26735.156592</td>\n",
       "      <td>16.832470</td>\n",
       "      <td>148.672424</td>\n",
       "      <td>0.483592</td>\n",
       "      <td>4727.468048</td>\n",
       "    </tr>\n",
       "    <tr>\n",
       "      <th>3</th>\n",
       "      <td>135318.020833</td>\n",
       "      <td>5870.062500</td>\n",
       "      <td>16406.000000</td>\n",
       "      <td>12.645833</td>\n",
       "      <td>974.770833</td>\n",
       "      <td>3.270833</td>\n",
       "      <td>4320.375000</td>\n",
       "    </tr>\n",
       "    <tr>\n",
       "      <th>4</th>\n",
       "      <td>154830.603774</td>\n",
       "      <td>490.716981</td>\n",
       "      <td>32137.018868</td>\n",
       "      <td>33.471698</td>\n",
       "      <td>8752.622642</td>\n",
       "      <td>23.679245</td>\n",
       "      <td>4046.830189</td>\n",
       "    </tr>\n",
       "  </tbody>\n",
       "</table>\n",
       "</div>"
      ],
      "text/plain": [
       "                  Balance    QualMiles    BonusMiles  BonusTrans  FlightMiles  \\\n",
       "Centroïdes                                                                      \n",
       "0           204316.227778   144.711111  36265.022222   19.802778  2286.719444   \n",
       "1            37353.074403     0.882288   3651.923931    4.246530   137.491394   \n",
       "2            79910.013241   123.694876  26735.156592   16.832470   148.672424   \n",
       "3           135318.020833  5870.062500  16406.000000   12.645833   974.770833   \n",
       "4           154830.603774   490.716981  32137.018868   33.471698  8752.622642   \n",
       "\n",
       "            FlightTrans  DaysSinceEnroll  \n",
       "Centroïdes                                \n",
       "0              6.744444      4744.158333  \n",
       "1              0.451416      3402.970572  \n",
       "2              0.483592      4727.468048  \n",
       "3              3.270833      4320.375000  \n",
       "4             23.679245      4046.830189  "
      ]
     },
     "execution_count": 46,
     "metadata": {},
     "output_type": "execute_result"
    }
   ],
   "source": [
    "results = pd.DataFrame(centroides)\n",
    "results.index.name = \"Centroïdes\" \n",
    "results"
   ]
  },
  {
   "cell_type": "markdown",
   "metadata": {},
   "source": [
    "### Question 3-6 - Quelle description représente le mieux la première partition (indice 0) ? Justifiez votre réponse. (5 points)\n",
    "\n",
    "#### A - Nouveaux clients n'utilisant pas les vols très souvent.\n",
    "#### B - Clients ayant accumulé un grand nombre de miles, la plupart par des transactions hors vols.\n",
    "#### C - Clients fidèles n'utilisant pas les lignes fréquemment.\n",
    "#### D - Clients ayant accumulé un grand nombre de miles et ayant le plus voyagé avec la compagnie.\n",
    "#### E - Clients récents accumulant des miles, la plupart par des transactions hors vols."
   ]
  },
  {
   "cell_type": "markdown",
   "metadata": {},
   "source": [
    "### ----- Votre réponse ci-dessous -----"
   ]
  },
  {
   "cell_type": "code",
   "execution_count": null,
   "metadata": {},
   "outputs": [],
   "source": [
    "B"
   ]
  },
  {
   "cell_type": "code",
   "execution_count": 47,
   "metadata": {},
   "outputs": [
    {
     "data": {
      "text/html": [
       "<div>\n",
       "<style scoped>\n",
       "    .dataframe tbody tr th:only-of-type {\n",
       "        vertical-align: middle;\n",
       "    }\n",
       "\n",
       "    .dataframe tbody tr th {\n",
       "        vertical-align: top;\n",
       "    }\n",
       "\n",
       "    .dataframe thead th {\n",
       "        text-align: right;\n",
       "    }\n",
       "</style>\n",
       "<table border=\"1\" class=\"dataframe\">\n",
       "  <thead>\n",
       "    <tr style=\"text-align: right;\">\n",
       "      <th></th>\n",
       "      <th>Balance</th>\n",
       "      <th>QualMiles</th>\n",
       "      <th>BonusMiles</th>\n",
       "      <th>BonusTrans</th>\n",
       "      <th>FlightMiles</th>\n",
       "      <th>FlightTrans</th>\n",
       "      <th>DaysSinceEnroll</th>\n",
       "    </tr>\n",
       "    <tr>\n",
       "      <th>Centroïdes</th>\n",
       "      <th></th>\n",
       "      <th></th>\n",
       "      <th></th>\n",
       "      <th></th>\n",
       "      <th></th>\n",
       "      <th></th>\n",
       "      <th></th>\n",
       "    </tr>\n",
       "  </thead>\n",
       "  <tbody>\n",
       "    <tr>\n",
       "      <th>0</th>\n",
       "      <td>204316.227778</td>\n",
       "      <td>144.711111</td>\n",
       "      <td>36265.022222</td>\n",
       "      <td>19.802778</td>\n",
       "      <td>2286.719444</td>\n",
       "      <td>6.744444</td>\n",
       "      <td>4744.158333</td>\n",
       "    </tr>\n",
       "    <tr>\n",
       "      <th>1</th>\n",
       "      <td>37353.074403</td>\n",
       "      <td>0.882288</td>\n",
       "      <td>3651.923931</td>\n",
       "      <td>4.246530</td>\n",
       "      <td>137.491394</td>\n",
       "      <td>0.451416</td>\n",
       "      <td>3402.970572</td>\n",
       "    </tr>\n",
       "    <tr>\n",
       "      <th>2</th>\n",
       "      <td>79910.013241</td>\n",
       "      <td>123.694876</td>\n",
       "      <td>26735.156592</td>\n",
       "      <td>16.832470</td>\n",
       "      <td>148.672424</td>\n",
       "      <td>0.483592</td>\n",
       "      <td>4727.468048</td>\n",
       "    </tr>\n",
       "    <tr>\n",
       "      <th>3</th>\n",
       "      <td>135318.020833</td>\n",
       "      <td>5870.062500</td>\n",
       "      <td>16406.000000</td>\n",
       "      <td>12.645833</td>\n",
       "      <td>974.770833</td>\n",
       "      <td>3.270833</td>\n",
       "      <td>4320.375000</td>\n",
       "    </tr>\n",
       "    <tr>\n",
       "      <th>4</th>\n",
       "      <td>154830.603774</td>\n",
       "      <td>490.716981</td>\n",
       "      <td>32137.018868</td>\n",
       "      <td>33.471698</td>\n",
       "      <td>8752.622642</td>\n",
       "      <td>23.679245</td>\n",
       "      <td>4046.830189</td>\n",
       "    </tr>\n",
       "  </tbody>\n",
       "</table>\n",
       "</div>"
      ],
      "text/plain": [
       "                  Balance    QualMiles    BonusMiles  BonusTrans  FlightMiles  \\\n",
       "Centroïdes                                                                      \n",
       "0           204316.227778   144.711111  36265.022222   19.802778  2286.719444   \n",
       "1            37353.074403     0.882288   3651.923931    4.246530   137.491394   \n",
       "2            79910.013241   123.694876  26735.156592   16.832470   148.672424   \n",
       "3           135318.020833  5870.062500  16406.000000   12.645833   974.770833   \n",
       "4           154830.603774   490.716981  32137.018868   33.471698  8752.622642   \n",
       "\n",
       "            FlightTrans  DaysSinceEnroll  \n",
       "Centroïdes                                \n",
       "0              6.744444      4744.158333  \n",
       "1              0.451416      3402.970572  \n",
       "2              0.483592      4727.468048  \n",
       "3              3.270833      4320.375000  \n",
       "4             23.679245      4046.830189  "
      ]
     },
     "execution_count": 47,
     "metadata": {},
     "output_type": "execute_result"
    }
   ],
   "source": [
    "results"
   ]
  },
  {
   "cell_type": "markdown",
   "metadata": {},
   "source": [
    "### Question 3-7 - Quelle description représente le mieux le deuxième cluster (indice 1) ?  Justifiez votre réponse. (5 points)\n",
    "\n",
    "\n",
    "#### A - Clients récents accumulant des miles, la plupart par des transactions hors vols.\n",
    "#### B - Clients ayant accumulé un grand nombre de miles, la plupart par des transactions hors vols.\n",
    "#### C - Clients fidèles n'utilisant pas les lignes fréquemment.\n",
    "#### D - Nouveaux clients n'utilisant pas les vols très souvent.\n",
    "#### E - Clients ayant accumulé un grand nombre de miles et ayant le plus voyagé avec la compagnie.\n"
   ]
  },
  {
   "cell_type": "markdown",
   "metadata": {},
   "source": [
    "### ----- Votre réponse ci-dessous -----"
   ]
  },
  {
   "cell_type": "markdown",
   "metadata": {},
   "source": [
    "C ou A"
   ]
  },
  {
   "cell_type": "code",
   "execution_count": 48,
   "metadata": {},
   "outputs": [
    {
     "data": {
      "text/html": [
       "<div>\n",
       "<style scoped>\n",
       "    .dataframe tbody tr th:only-of-type {\n",
       "        vertical-align: middle;\n",
       "    }\n",
       "\n",
       "    .dataframe tbody tr th {\n",
       "        vertical-align: top;\n",
       "    }\n",
       "\n",
       "    .dataframe thead th {\n",
       "        text-align: right;\n",
       "    }\n",
       "</style>\n",
       "<table border=\"1\" class=\"dataframe\">\n",
       "  <thead>\n",
       "    <tr style=\"text-align: right;\">\n",
       "      <th></th>\n",
       "      <th>Balance</th>\n",
       "      <th>QualMiles</th>\n",
       "      <th>BonusMiles</th>\n",
       "      <th>BonusTrans</th>\n",
       "      <th>FlightMiles</th>\n",
       "      <th>FlightTrans</th>\n",
       "      <th>DaysSinceEnroll</th>\n",
       "    </tr>\n",
       "    <tr>\n",
       "      <th>Centroïdes</th>\n",
       "      <th></th>\n",
       "      <th></th>\n",
       "      <th></th>\n",
       "      <th></th>\n",
       "      <th></th>\n",
       "      <th></th>\n",
       "      <th></th>\n",
       "    </tr>\n",
       "  </thead>\n",
       "  <tbody>\n",
       "    <tr>\n",
       "      <th>0</th>\n",
       "      <td>204316.227778</td>\n",
       "      <td>144.711111</td>\n",
       "      <td>36265.022222</td>\n",
       "      <td>19.802778</td>\n",
       "      <td>2286.719444</td>\n",
       "      <td>6.744444</td>\n",
       "      <td>4744.158333</td>\n",
       "    </tr>\n",
       "    <tr>\n",
       "      <th>1</th>\n",
       "      <td>37353.074403</td>\n",
       "      <td>0.882288</td>\n",
       "      <td>3651.923931</td>\n",
       "      <td>4.246530</td>\n",
       "      <td>137.491394</td>\n",
       "      <td>0.451416</td>\n",
       "      <td>3402.970572</td>\n",
       "    </tr>\n",
       "    <tr>\n",
       "      <th>2</th>\n",
       "      <td>79910.013241</td>\n",
       "      <td>123.694876</td>\n",
       "      <td>26735.156592</td>\n",
       "      <td>16.832470</td>\n",
       "      <td>148.672424</td>\n",
       "      <td>0.483592</td>\n",
       "      <td>4727.468048</td>\n",
       "    </tr>\n",
       "    <tr>\n",
       "      <th>3</th>\n",
       "      <td>135318.020833</td>\n",
       "      <td>5870.062500</td>\n",
       "      <td>16406.000000</td>\n",
       "      <td>12.645833</td>\n",
       "      <td>974.770833</td>\n",
       "      <td>3.270833</td>\n",
       "      <td>4320.375000</td>\n",
       "    </tr>\n",
       "    <tr>\n",
       "      <th>4</th>\n",
       "      <td>154830.603774</td>\n",
       "      <td>490.716981</td>\n",
       "      <td>32137.018868</td>\n",
       "      <td>33.471698</td>\n",
       "      <td>8752.622642</td>\n",
       "      <td>23.679245</td>\n",
       "      <td>4046.830189</td>\n",
       "    </tr>\n",
       "  </tbody>\n",
       "</table>\n",
       "</div>"
      ],
      "text/plain": [
       "                  Balance    QualMiles    BonusMiles  BonusTrans  FlightMiles  \\\n",
       "Centroïdes                                                                      \n",
       "0           204316.227778   144.711111  36265.022222   19.802778  2286.719444   \n",
       "1            37353.074403     0.882288   3651.923931    4.246530   137.491394   \n",
       "2            79910.013241   123.694876  26735.156592   16.832470   148.672424   \n",
       "3           135318.020833  5870.062500  16406.000000   12.645833   974.770833   \n",
       "4           154830.603774   490.716981  32137.018868   33.471698  8752.622642   \n",
       "\n",
       "            FlightTrans  DaysSinceEnroll  \n",
       "Centroïdes                                \n",
       "0              6.744444      4744.158333  \n",
       "1              0.451416      3402.970572  \n",
       "2              0.483592      4727.468048  \n",
       "3              3.270833      4320.375000  \n",
       "4             23.679245      4046.830189  "
      ]
     },
     "execution_count": 48,
     "metadata": {},
     "output_type": "execute_result"
    }
   ],
   "source": [
    "results"
   ]
  },
  {
   "cell_type": "markdown",
   "metadata": {},
   "source": [
    "### Question 3-8 - Quelle description représente le mieux la cinquième partition (indice 4) ?  Justifiez votre réponse. (5 points)\n",
    "\n",
    "\n",
    "#### A - Clients récents accumulant des miles, la plupart par des transactions hors vols.\n",
    "#### B - Clients ayant accumulé un grand nombre de miles, la plupart par des transactions hors vols.\n",
    "#### C - Clients fidèles n'utilisant pas les lignes fréquemment.\n",
    "#### D - Clients ayant accumulé un grand nombre de miles et ayant le plus voyagé avec la compagnie.\n",
    "#### E - Nouveaux clients n'utilisant pas les vols très souvent."
   ]
  },
  {
   "cell_type": "markdown",
   "metadata": {},
   "source": [
    "### ----- Votre réponse ci-dessous -----"
   ]
  },
  {
   "cell_type": "markdown",
   "metadata": {},
   "source": [
    "D"
   ]
  },
  {
   "cell_type": "markdown",
   "metadata": {},
   "source": [
    "---\n",
    "# 4 - Partitionnement en K-moyennes (20 points)"
   ]
  },
  {
   "cell_type": "markdown",
   "metadata": {},
   "source": [
    "### Question 4-1 - En gardant le même nombre de partitions, appliquez l'algorithme des K-moyennes avec un seed de 2023. (15 points)"
   ]
  },
  {
   "cell_type": "markdown",
   "metadata": {},
   "source": [
    "### ----- Votre réponse ci-dessous -----"
   ]
  },
  {
   "cell_type": "code",
   "execution_count": 49,
   "metadata": {},
   "outputs": [],
   "source": [
    "from sklearn.cluster import KMeans\n",
    "\n",
    "kmeans = KMeans(n_clusters=5, n_init=100, random_state=2023).fit(df_std)"
   ]
  },
  {
   "cell_type": "code",
   "execution_count": 50,
   "metadata": {},
   "outputs": [
    {
     "data": {
      "text/html": [
       "<div>\n",
       "<style scoped>\n",
       "    .dataframe tbody tr th:only-of-type {\n",
       "        vertical-align: middle;\n",
       "    }\n",
       "\n",
       "    .dataframe tbody tr th {\n",
       "        vertical-align: top;\n",
       "    }\n",
       "\n",
       "    .dataframe thead th {\n",
       "        text-align: right;\n",
       "    }\n",
       "</style>\n",
       "<table border=\"1\" class=\"dataframe\">\n",
       "  <thead>\n",
       "    <tr style=\"text-align: right;\">\n",
       "      <th></th>\n",
       "      <th>Balance</th>\n",
       "      <th>QualMiles</th>\n",
       "      <th>BonusMiles</th>\n",
       "      <th>BonusTrans</th>\n",
       "      <th>FlightMiles</th>\n",
       "      <th>FlightTrans</th>\n",
       "      <th>DaysSinceEnroll</th>\n",
       "    </tr>\n",
       "  </thead>\n",
       "  <tbody>\n",
       "    <tr>\n",
       "      <th>0</th>\n",
       "      <td>191736.335664</td>\n",
       "      <td>471.566434</td>\n",
       "      <td>33093.335664</td>\n",
       "      <td>28.356643</td>\n",
       "      <td>5763.132867</td>\n",
       "      <td>16.769231</td>\n",
       "      <td>4666.412587</td>\n",
       "    </tr>\n",
       "    <tr>\n",
       "      <th>1</th>\n",
       "      <td>38166.024257</td>\n",
       "      <td>34.405094</td>\n",
       "      <td>6747.983020</td>\n",
       "      <td>7.639782</td>\n",
       "      <td>179.753790</td>\n",
       "      <td>0.555488</td>\n",
       "      <td>2282.297756</td>\n",
       "    </tr>\n",
       "    <tr>\n",
       "      <th>2</th>\n",
       "      <td>152879.304124</td>\n",
       "      <td>77.987113</td>\n",
       "      <td>51008.088918</td>\n",
       "      <td>21.315722</td>\n",
       "      <td>479.907216</td>\n",
       "      <td>1.457474</td>\n",
       "      <td>4915.533505</td>\n",
       "    </tr>\n",
       "    <tr>\n",
       "      <th>3</th>\n",
       "      <td>114012.175439</td>\n",
       "      <td>5543.333333</td>\n",
       "      <td>19196.684211</td>\n",
       "      <td>12.298246</td>\n",
       "      <td>939.771930</td>\n",
       "      <td>2.824561</td>\n",
       "      <td>3872.175439</td>\n",
       "    </tr>\n",
       "    <tr>\n",
       "      <th>4</th>\n",
       "      <td>57383.264192</td>\n",
       "      <td>55.064047</td>\n",
       "      <td>8752.533479</td>\n",
       "      <td>9.098253</td>\n",
       "      <td>213.425036</td>\n",
       "      <td>0.645560</td>\n",
       "      <td>5825.433042</td>\n",
       "    </tr>\n",
       "  </tbody>\n",
       "</table>\n",
       "</div>"
      ],
      "text/plain": [
       "         Balance    QualMiles    BonusMiles  BonusTrans  FlightMiles  \\\n",
       "0  191736.335664   471.566434  33093.335664   28.356643  5763.132867   \n",
       "1   38166.024257    34.405094   6747.983020    7.639782   179.753790   \n",
       "2  152879.304124    77.987113  51008.088918   21.315722   479.907216   \n",
       "3  114012.175439  5543.333333  19196.684211   12.298246   939.771930   \n",
       "4   57383.264192    55.064047   8752.533479    9.098253   213.425036   \n",
       "\n",
       "   FlightTrans  DaysSinceEnroll  \n",
       "0    16.769231      4666.412587  \n",
       "1     0.555488      2282.297756  \n",
       "2     1.457474      4915.533505  \n",
       "3     2.824561      3872.175439  \n",
       "4     0.645560      5825.433042  "
      ]
     },
     "execution_count": 50,
     "metadata": {},
     "output_type": "execute_result"
    }
   ],
   "source": [
    "centroidesk = [df[(kmeans.labels_ == 0)].mean(),\n",
    "              df[(kmeans.labels_ == 1)].mean(),\n",
    "              df[(kmeans.labels_ == 2)].mean(),\n",
    "              df[(kmeans.labels_ == 3)].mean(),\n",
    "              df[(kmeans.labels_ == 4)].mean()]\n",
    "results = pd.DataFrame(centroidesk)\n",
    "results"
   ]
  },
  {
   "cell_type": "markdown",
   "metadata": {},
   "source": [
    "### Question 4-2 - Quelle partition représente le mieux les clients ayant accumulé un grand nombre de miles par des transactions hors vols ? (5 points)"
   ]
  },
  {
   "cell_type": "markdown",
   "metadata": {},
   "source": [
    "### ----- Votre réponse ci-dessous -----"
   ]
  },
  {
   "cell_type": "markdown",
   "metadata": {},
   "source": [
    "Indice 2"
   ]
  },
  {
   "cell_type": "markdown",
   "metadata": {},
   "source": [
    "---\n",
    "# 5 - Visualisation des partitions (20 points)"
   ]
  },
  {
   "cell_type": "markdown",
   "metadata": {},
   "source": [
    "### Question 5 - À l'aide d'une ACP, visualisez les partitions obtenues par l'algorithme des K-moyennes. Utilisez un élément distinctif (couleur, symbole, etc...) pour chaque partition. (20 points)"
   ]
  },
  {
   "cell_type": "markdown",
   "metadata": {},
   "source": [
    "### ----- Votre réponse ci-dessous -----"
   ]
  },
  {
   "cell_type": "code",
   "execution_count": 61,
   "metadata": {},
   "outputs": [
    {
     "data": {
      "text/plain": [
       "array([0.37900807, 0.19482266])"
      ]
     },
     "execution_count": 61,
     "metadata": {},
     "output_type": "execute_result"
    }
   ],
   "source": [
    "from sklearn.decomposition import PCA\n",
    "\n",
    "pca = PCA(n_components=2)\n",
    "pca.fit(df_std)\n",
    "df_pca = pca.transform(df_std)\n",
    "pca.explained_variance_ratio_"
   ]
  },
  {
   "cell_type": "code",
   "execution_count": 62,
   "metadata": {},
   "outputs": [
    {
     "data": {
      "image/png": "[encoded data removed]",
      "text/plain": [
       "<Figure size 1000x600 with 1 Axes>"
      ]
     },
     "metadata": {},
     "output_type": "display_data"
    }
   ],
   "source": [
    "ax = sns.scatterplot(x=df_pca[:,0], y=df_pca[:,1], hue=clust_5.labels_, palette=\"Set1\")"
   ]
  },
  {
   "cell_type": "markdown",
   "metadata": {},
   "source": [
    "# Fin de l'examen #1"
   ]
  }
 ],
 "metadata": {
  "kernelspec": {
   "display_name": "Python 3 (ipykernel)",
   "language": "python",
   "name": "python3"
  },
  "language_info": {
   "codemirror_mode": {
    "name": "ipython",
    "version": 3
   },
   "file_extension": ".py",
   "mimetype": "text/x-python",
   "name": "python",
   "nbconvert_exporter": "python",
   "pygments_lexer": "ipython3",
   "version": "3.11.2"
  }
 },
 "nbformat": 4,
 "nbformat_minor": 2
}
