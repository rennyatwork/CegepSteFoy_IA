{
 "cells": [
  {
   "cell_type": "markdown",
   "metadata": {},
   "source": [
    "**420-A58-SF - Algorithmes d'apprentissage non supervisé - Hiver 2023 - Spécialisation technique en Intelligence Artificielle**<br/>\n",
    "MIT License - Copyright (c) 2023 Mikaël Swawola\n",
    "<br/>\n",
    "![Travaux Pratiques - Règles d'association](static/02-04-banner.png)\n",
    "<br/>\n",
    "**Objectif: Séance d'exercices sur les itemsets fréquents et règles d'association**"
   ]
  },
  {
   "cell_type": "code",
   "execution_count": 1,
   "metadata": {},
   "outputs": [],
   "source": [
    "%reload_ext autoreload\n",
    "%autoreload 2\n",
    "%matplotlib inline"
   ]
  },
  {
   "cell_type": "markdown",
   "metadata": {},
   "source": [
    "## Exercice 1"
   ]
  },
  {
   "cell_type": "markdown",
   "metadata": {},
   "source": [
    "Pour cet exercice, nous considérons 100 articles (items), numérotés de 1 à 100, ainsi que 100 paniers (baskets), également numérotés de 1 à 100. L'article *i* est placé dans le panier *b* si et seulement si *i* divise *b* sans reste.\n",
    "Ainsi, l'article 1 est dans tous les paniers, l'article 2 est dans les 50 paniers ayant un numéro pair, etc .... Le panier 12 contient les articles { 1, 2, 3, 4, 6, 12 }, puisque'il s'agit de tous les entiers divisant 12."
   ]
  },
  {
   "cell_type": "markdown",
   "metadata": {},
   "source": [
    "### Q1.1: Si s = 5, quels articles sont fréquents ?"
   ]
  },
  {
   "cell_type": "code",
   "execution_count": 2,
   "metadata": {},
   "outputs": [],
   "source": [
    "# --- Votre réponse ---\n",
    "def get_divisors(number):\n",
    "    divisors = []\n",
    "    for i in range(1, number + 1):\n",
    "        if number % i == 0:\n",
    "            divisors.append(i)\n",
    "    return divisors\n"
   ]
  },
  {
   "cell_type": "code",
   "execution_count": 3,
   "metadata": {},
   "outputs": [
    {
     "name": "stdout",
     "output_type": "stream",
     "text": [
      "Divisors of 100 are: [1, 2, 4, 5, 10, 20, 25, 50, 100]\n"
     ]
    }
   ],
   "source": [
    "number = 100\n",
    "divisors = get_divisors(number)\n",
    "print(\"Divisors of\", number, \"are:\", divisors)"
   ]
  },
  {
   "cell_type": "code",
   "execution_count": 5,
   "metadata": {},
   "outputs": [
    {
     "name": "stdout",
     "output_type": "stream",
     "text": [
      "The 5 most frequent numbers among the divisors of 100 are: [1, 2, 4, 5, 10]\n"
     ]
    }
   ],
   "source": [
    "from collections import Counter\n",
    "\n",
    "def get_most_frequent_numbers(divisors, n):\n",
    "    counter = Counter(divisors)\n",
    "    most_common = counter.most_common(n)\n",
    "    return [num for num, freq in most_common]\n",
    "\n",
    "number = 100\n",
    "divisors = get_divisors(number)\n",
    "most_frequent_numbers = get_most_frequent_numbers(divisors, 5)\n",
    "print(\"The 5 most frequent numbers among the divisors of\", number, \"are:\", most_frequent_numbers)\n"
   ]
  },
  {
   "cell_type": "code",
   "execution_count": 6,
   "metadata": {},
   "outputs": [
    {
     "name": "stdout",
     "output_type": "stream",
     "text": [
      "List of divisors for numbers 1 to 10:\n",
      "Divisors of 1: [1]\n",
      "Divisors of 2: [1, 2]\n",
      "Divisors of 3: [1, 3]\n",
      "Divisors of 4: [1, 2, 4]\n",
      "Divisors of 5: [1, 5]\n",
      "Divisors of 6: [1, 2, 3, 6]\n",
      "Divisors of 7: [1, 7]\n",
      "Divisors of 8: [1, 2, 4, 8]\n",
      "Divisors of 9: [1, 3, 9]\n",
      "Divisors of 10: [1, 2, 5, 10]\n"
     ]
    }
   ],
   "source": [
    "def get_divisors(number):\n",
    "    divisors = []\n",
    "    for i in range(1, number + 1):\n",
    "        if number % i == 0:\n",
    "            divisors.append(i)\n",
    "    return divisors\n",
    "\n",
    "divisors_list = []\n",
    "for number in range(1, 11):\n",
    "    divisors = get_divisors(number)\n",
    "    divisors_list.append(divisors)\n",
    "\n",
    "print(\"List of divisors for numbers 1 to 10:\")\n",
    "for number, divisors in enumerate(divisors_list, start=1):\n",
    "    print(f\"Divisors of {number}: {divisors}\")"
   ]
  },
  {
   "cell_type": "markdown",
   "metadata": {},
   "source": [
    "### Q1.2: Si s = 5, quelles paires d'articles sont fréquentes ?"
   ]
  },
  {
   "cell_type": "code",
   "execution_count": 15,
   "metadata": {},
   "outputs": [],
   "source": [
    "from collections import Counter\n",
    "\n",
    "def get_divisors(number):\n",
    "    divisors = []\n",
    "    for i in range(1, number + 1):\n",
    "        if number % i == 0:\n",
    "            divisors.append(i)\n",
    "    return divisors"
   ]
  },
  {
   "cell_type": "code",
   "execution_count": 21,
   "metadata": {},
   "outputs": [],
   "source": [
    "\n",
    "\n",
    "def get_pairs(pNum, pNbPairs=5):\n",
    "    divisors_pairs = []\n",
    "    for number in range(1, pNum + 1):\n",
    "        divisors = get_divisors(number)\n",
    "        pairs = [(divisors[i], divisors[j]) for i in range(len(divisors)) for j in range(i+1, len(divisors))]\n",
    "        divisors_pairs.extend(pairs)\n",
    "    counter = Counter(divisors_pairs)\n",
    "    unique_pairs = list(set(divisors_pairs))\n",
    "    most_common_pairs = counter.most_common(pNbPairs)\n",
    "    print(\"The \", pNbPairs, \" most frequent pairs among the divisors for numbers 1 to \" ,pNum , \": \")\n",
    "    for pair, frequency in most_common_pairs:\n",
    "        print(f\"Pair: {pair}, Frequency: {frequency}\")"
   ]
  },
  {
   "cell_type": "code",
   "execution_count": 50,
   "metadata": {},
   "outputs": [
    {
     "name": "stdout",
     "output_type": "stream",
     "text": [
      "The  5  most frequent pairs among the divisors for numbers 1 to  20 : \n",
      "Pair: (1, 2), Frequency: 10\n",
      "Pair: (1, 3), Frequency: 6\n",
      "Pair: (1, 4), Frequency: 5\n",
      "Pair: (2, 4), Frequency: 5\n",
      "Pair: (1, 5), Frequency: 4\n"
     ]
    }
   ],
   "source": [
    "get_pairs(20)"
   ]
  },
  {
   "cell_type": "markdown",
   "metadata": {},
   "source": [
    "### Q1.3: Quelle est la somme des tailles de tous les paniers ?"
   ]
  },
  {
   "cell_type": "code",
   "execution_count": 25,
   "metadata": {},
   "outputs": [
    {
     "name": "stdout",
     "output_type": "stream",
     "text": [
      "[1, 3, 9]\n"
     ]
    }
   ],
   "source": [
    "# --- Votre réponse ---\n",
    "lst_divisors = get_divisors(9)\n",
    "print(lst_divisors)"
   ]
  },
  {
   "cell_type": "code",
   "execution_count": 41,
   "metadata": {},
   "outputs": [],
   "source": [
    "def get_dict_divisors(pLimit):\n",
    "    dict_divisors = {}\n",
    "    for i in range (pLimit):\n",
    "        dict_divisors[str(i+1)] = get_divisors(i+1)\n",
    "    return dict_divisors"
   ]
  },
  {
   "cell_type": "code",
   "execution_count": 47,
   "metadata": {},
   "outputs": [
    {
     "name": "stdout",
     "output_type": "stream",
     "text": [
      "{'1': [1], '2': [1, 2]}\n",
      "3\n"
     ]
    }
   ],
   "source": [
    "dict_div = get_dict_divisors(2)\n",
    "print(dict_div)\n",
    "print(sum(map(len, dict_div.values())))"
   ]
  },
  {
   "cell_type": "code",
   "execution_count": 48,
   "metadata": {},
   "outputs": [],
   "source": [
    "def get_length_dict_pairs(pNum):\n",
    "    dict_div = get_dict_divisors(pNum)\n",
    "    summLength = sum(map(len, dict_div.values()))\n",
    "    print(\"Sum of all lengths: \", summLength)\n",
    "    return summLength"
   ]
  },
  {
   "cell_type": "code",
   "execution_count": 49,
   "metadata": {},
   "outputs": [
    {
     "name": "stdout",
     "output_type": "stream",
     "text": [
      "Sum of all lengths:  8\n"
     ]
    },
    {
     "data": {
      "text/plain": [
       "8"
      ]
     },
     "execution_count": 49,
     "metadata": {},
     "output_type": "execute_result"
    }
   ],
   "source": [
    "get_length_dict_pairs(4)"
   ]
  },
  {
   "cell_type": "markdown",
   "metadata": {},
   "source": [
    "### Q1.4:  Quel(s) panier(s) est/sont le plus grand ?"
   ]
  },
  {
   "cell_type": "code",
   "execution_count": 51,
   "metadata": {},
   "outputs": [],
   "source": [
    "# --- Votre réponse ---\n",
    "def print_longest_list(pNum):\n",
    "    dict_div = get_dict_divisors(pNum)\n",
    "    longest_list_key = max(dict_div, key=lambda key: len(dict_div[key]))\n",
    "    longest_list = dict_div[longest_list_key]\n",
    "    print(\"Longest list[\",longest_list_key,  \"]:\", longest_list)\n",
    "    "
   ]
  },
  {
   "cell_type": "code",
   "execution_count": 54,
   "metadata": {},
   "outputs": [
    {
     "name": "stdout",
     "output_type": "stream",
     "text": [
      "Longest list[ 12 ]: [1, 2, 3, 4, 6, 12]\n"
     ]
    }
   ],
   "source": [
    "print_longest_list(20)"
   ]
  },
  {
   "cell_type": "markdown",
   "metadata": {},
   "source": [
    "### Q1.5: Quelle sont les confiances des règles d'association {5,7}-> 2 et  {2,3,4} -> 5 ?"
   ]
  },
  {
   "cell_type": "code",
   "execution_count": null,
   "metadata": {},
   "outputs": [],
   "source": [
    "# --- Votre réponse ---"
   ]
  },
  {
   "cell_type": "markdown",
   "metadata": {},
   "source": [
    "## Exercice 2 (optionnel)"
   ]
  },
  {
   "cell_type": "markdown",
   "metadata": {},
   "source": [
    "Nous considérons 100 éléments (items), numérotés de 1 à 100, ainsi que 100 paniers (baskets), également numérotés de 1 à 100. L'item *i* est placé dans le basket *b* **si et seulement si *b* divise *i* sans reste.**\n",
    "par exemple, le basket 12 contient les items {12,24,36,48,60,72,84,96}."
   ]
  },
  {
   "cell_type": "markdown",
   "metadata": {},
   "source": [
    "### Q2.1: Si s = 5, quels items sont fréquents ?"
   ]
  },
  {
   "cell_type": "code",
   "execution_count": null,
   "metadata": {},
   "outputs": [],
   "source": [
    "# --- Votre réponse ---"
   ]
  },
  {
   "cell_type": "markdown",
   "metadata": {},
   "source": [
    "### Q2.2: Si s = 5, quelles paires d'items sont fréquentes ? "
   ]
  },
  {
   "cell_type": "code",
   "execution_count": null,
   "metadata": {},
   "outputs": [],
   "source": [
    "# --- Votre réponse ---"
   ]
  },
  {
   "cell_type": "markdown",
   "metadata": {},
   "source": [
    "### Q2.3: Quelle est la somme des tailles de tous les baskets ?"
   ]
  },
  {
   "cell_type": "code",
   "execution_count": null,
   "metadata": {},
   "outputs": [],
   "source": [
    "# --- Votre réponse ---"
   ]
  },
  {
   "cell_type": "markdown",
   "metadata": {},
   "source": [
    "### Q2.4: Quelles sont les confiances des règles d'association {24,60}-> 8 et {2,3,4} -> 5 ?"
   ]
  },
  {
   "cell_type": "code",
   "execution_count": null,
   "metadata": {},
   "outputs": [],
   "source": [
    "# --- Votre réponse ---"
   ]
  },
  {
   "cell_type": "markdown",
   "metadata": {},
   "source": [
    "## Exercice 3 (optionnel)"
   ]
  },
  {
   "cell_type": "markdown",
   "metadata": {},
   "source": [
    "Considérons un jeu de données pour lequel rien d'intéressant ne peut être appris à propos des itemsets fréquents, car il n'existe aucun ensemble d'items corrélés. Supposons que les items soient numérotés de 1 à 10 et que chaque basket soit **indépendamment** construit en incluant l'item *i* avec une probabilité *1/i*.\n",
    "Ainsi, tous les baskets contiennent l'item 1, la moitié des baskets contiennent l'item 2, etc...\n",
    "Soit s = 1% du nombre de baskets. Quels sont les itemsets fréquents ?"
   ]
  },
  {
   "cell_type": "code",
   "execution_count": null,
   "metadata": {},
   "outputs": [],
   "source": [
    "# --- Votre réponse ---"
   ]
  },
  {
   "cell_type": "markdown",
   "metadata": {},
   "source": [
    "## Fin du TP"
   ]
  }
 ],
 "metadata": {
  "kernelspec": {
   "display_name": "Python 3.11.0 64-bit",
   "language": "python",
   "name": "python3"
  },
  "language_info": {
   "codemirror_mode": {
    "name": "ipython",
    "version": 3
   },
   "file_extension": ".py",
   "mimetype": "text/x-python",
   "name": "python",
   "nbconvert_exporter": "python",
   "pygments_lexer": "ipython3",
   "version": "3.11.0"
  },
  "vscode": {
   "interpreter": {
    "hash": "31f2aee4e71d21fbe5cf8b01ff0e069b9275f58929596ceb00d14d90e3e16cd6"
   }
  }
 },
 "nbformat": 4,
 "nbformat_minor": 4
}
