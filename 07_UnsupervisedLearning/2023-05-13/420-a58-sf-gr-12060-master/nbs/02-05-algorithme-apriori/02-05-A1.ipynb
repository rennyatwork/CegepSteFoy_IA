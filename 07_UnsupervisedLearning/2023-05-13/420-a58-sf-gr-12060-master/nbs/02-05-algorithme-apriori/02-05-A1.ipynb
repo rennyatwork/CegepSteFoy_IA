{
 "cells": [
  {
   "cell_type": "markdown",
   "metadata": {},
   "source": [
    "**420-A58-SF - Algorithmes d'apprentissage non supervisé - Hiver 2023 - Spécialisation technique en Intelligence Artificielle**<br/>\n",
    "MIT License - Copyright (c) 2023 Mikaël Swawola\n",
    "<br/>\n",
    "![Travaux Pratiques - Algorithme Apriori](static/02-05-A1-banner.png)\n",
    "<br/>\n",
    "**Objectif: Cette séance de travaux pratiques consiste en l'implémentation de l'algorithme Apriori pour l'apprentissage des règles d'association sur le mini jeu de données PanierEpicerie**"
   ]
  },
  {
   "cell_type": "code",
   "execution_count": null,
   "metadata": {},
   "outputs": [],
   "source": [
    "%reload_ext autoreload\n",
    "%autoreload 2\n",
    "%matplotlib inline"
   ]
  },
  {
   "cell_type": "markdown",
   "metadata": {},
   "source": [
    "## 1 - Lecture du jeu de données"
   ]
  },
  {
   "cell_type": "code",
   "execution_count": null,
   "metadata": {},
   "outputs": [],
   "source": [
    "import numpy as np \n",
    "import pandas as pd\n",
    "from helpers import print_itemsets, print_rules"
   ]
  },
  {
   "cell_type": "markdown",
   "metadata": {},
   "source": [
    "**Exercice 1-1 - À l'aide de la librairie Pandas, lire le fichier de données `PanierEpicerie.csv`**"
   ]
  },
  {
   "cell_type": "code",
   "execution_count": null,
   "metadata": {},
   "outputs": [],
   "source": [
    "# Compléter cette cellule ~ 1-2 lignes de code"
   ]
  },
  {
   "cell_type": "markdown",
   "metadata": {},
   "source": [
    "**Exercice 1-2 - Combien d'items et de baskets sont contenus dans ce jeu de données ?**"
   ]
  },
  {
   "cell_type": "code",
   "execution_count": null,
   "metadata": {},
   "outputs": [],
   "source": [
    "# Votre réponse ici"
   ]
  },
  {
   "cell_type": "markdown",
   "metadata": {},
   "source": [
    "**Exercice 1-3 - Convertissez le jeu de données en liste de transactions (ou baskets). Chaque basket est une liste d'items (ou article)**"
   ]
  },
  {
   "cell_type": "code",
   "execution_count": null,
   "metadata": {},
   "outputs": [],
   "source": [
    "# Compléter cette cellule ~ 1-2 lignes de code"
   ]
  },
  {
   "cell_type": "markdown",
   "metadata": {},
   "source": [
    "## 2 - Librarie Mlxtend"
   ]
  },
  {
   "cell_type": "markdown",
   "metadata": {},
   "source": [
    "La librairie [Mlxtend](http://rasbt.github.io/mlxtend/) (machine learning extensions) propose une implémentation de l'algorithme Apriori. Nous allons donc mettre en oeuvre différentes fonctionnalités de cette librairie"
   ]
  },
  {
   "cell_type": "markdown",
   "metadata": {},
   "source": [
    "**Exercice 2-1 - À l'aide de la classe [TransactionEncoder](http://rasbt.github.io/mlxtend/user_guide/preprocessing/TransactionEncoder/), encodez la liste des transactions au format requis par Mlxtend**"
   ]
  },
  {
   "cell_type": "code",
   "execution_count": null,
   "metadata": {},
   "outputs": [],
   "source": [
    "# Compléter cette cellule ~ 3-4 lignes de code"
   ]
  },
  {
   "cell_type": "markdown",
   "metadata": {},
   "source": [
    "**Exercice 2-2 - Identifier les itemsets fréquents pour un support de 20%. Référez vous à la documentation de Mlxtend pour trouver la classe requise**"
   ]
  },
  {
   "cell_type": "code",
   "execution_count": null,
   "metadata": {},
   "outputs": [],
   "source": [
    "# Compléter cette cellule ~ 2-3 lignes de code"
   ]
  },
  {
   "cell_type": "markdown",
   "metadata": {},
   "source": [
    "**Exercice 2-3 - De la même manière, identifier maintenant les règles d'association ayant un indice de confiance de 0.3**"
   ]
  },
  {
   "cell_type": "code",
   "execution_count": null,
   "metadata": {},
   "outputs": [],
   "source": [
    "# Compléter cette cellule ~ 2-3 lignes de code"
   ]
  },
  {
   "cell_type": "markdown",
   "metadata": {},
   "source": [
    "## 3 - Implémentation de l'algorithme Apriori (optionnel)"
   ]
  },
  {
   "cell_type": "markdown",
   "metadata": {},
   "source": [
    "Le code ci-dessous représente une implémentation simple et de base (persque naïve) de l'algorihtme Apriori. "
   ]
  },
  {
   "cell_type": "markdown",
   "metadata": {},
   "source": [
    "**Exercice 3-1 - À l'aide des éléments vus en cours, compléter les différentes méthodes de la classe `Apriori` et retrouvez les résultats de l'exercice 2. Seule la méthode `generate_L` vous est donnée. Des fonctions helpers aidant à l'affichage `print_itemsets`, `print_rules` sont importées**"
   ]
  },
  {
   "cell_type": "code",
   "execution_count": null,
   "metadata": {},
   "outputs": [],
   "source": [
    "class Apriori:\n",
    "    \n",
    "    def __init__(self, transactions, min_support, min_confidence):\n",
    "        self.transactions = transactions # Baskets\n",
    "        self.min_support = min_support # Le seuil de support\n",
    "        self.min_confidence = min_confidence # La confiance minimale\n",
    "        self.support_data = {}   \n",
    "        \n",
    "    def create_C1(self):\n",
    "                \n",
    "        # Completer le code ci-dessous ~ 2-5 lignes de code\n",
    "        \n",
    "        return C1\n",
    "    \n",
    "    \n",
    "    def create_Ck(self, k, Lkprev):\n",
    "              \n",
    "        # Completer le code ci-dessous ~ 15-20 lignes de code\n",
    "       \n",
    "        return Ck\n",
    "    \n",
    "    \n",
    "    def generate_Lk_from_Ck(self, Ck):\n",
    "        \n",
    "        # Completer le code ci-dessous ~ 15-20 lignes de code\n",
    "        \n",
    "        return Lk\n",
    "        \n",
    "        \n",
    "    def generate_L(self):\n",
    "        \"\"\"\n",
    "        Génère tous les ensembles d'items fréquents\n",
    "        Input:\n",
    "            None\n",
    "        Output:\n",
    "            L: Liste des Lk.\n",
    "        \"\"\"\n",
    "        \n",
    "        self.support_data = {}\n",
    "        \n",
    "        C1 = self.create_C1()\n",
    "        L1 = self.generate_Lk_from_Ck(C1)\n",
    "        Lksub1 = L1.copy()\n",
    "        L = []\n",
    "        L.append(Lksub1)\n",
    "        i = 2\n",
    "        while True:\n",
    "            Ci = self.create_Ck(i, Lksub1)\n",
    "            Li = self.generate_Lk_from_Ck(Ci)\n",
    "            if Li:\n",
    "                Lksub1 = Li.copy()\n",
    "                L.append(Lksub1)\n",
    "                i += 1\n",
    "            else:\n",
    "                break\n",
    "        return L\n",
    "        \n",
    "        \n",
    "    def generate_rules(self):\n",
    "               \n",
    "        L = self.generate_L()\n",
    "        \n",
    "        # Completer le code ci-dessous ~ 15-20 lignes de code\n",
    "        \n",
    "        return big_rule_list"
   ]
  },
  {
   "cell_type": "code",
   "execution_count": null,
   "metadata": {},
   "outputs": [],
   "source": [
    "model = Apriori(transactions, min_support=0.2, min_confidence=0.3)"
   ]
  },
  {
   "cell_type": "code",
   "execution_count": null,
   "metadata": {},
   "outputs": [],
   "source": [
    "L = model.generate_L()\n",
    "print_itemsets(L, model)"
   ]
  },
  {
   "cell_type": "code",
   "execution_count": null,
   "metadata": {},
   "outputs": [],
   "source": [
    "rule_list = model.generate_rules()\n",
    "print_rules(rule_list)"
   ]
  },
  {
   "cell_type": "markdown",
   "metadata": {},
   "source": [
    "## Fin du TP"
   ]
  }
 ],
 "metadata": {
  "kernelspec": {
   "display_name": "Python 3 (ipykernel)",
   "language": "python",
   "name": "python3"
  },
  "language_info": {
   "codemirror_mode": {
    "name": "ipython",
    "version": 3
   },
   "file_extension": ".py",
   "mimetype": "text/x-python",
   "name": "python",
   "nbconvert_exporter": "python",
   "pygments_lexer": "ipython3",
   "version": "3.11.2"
  }
 },
 "nbformat": 4,
 "nbformat_minor": 4
}
