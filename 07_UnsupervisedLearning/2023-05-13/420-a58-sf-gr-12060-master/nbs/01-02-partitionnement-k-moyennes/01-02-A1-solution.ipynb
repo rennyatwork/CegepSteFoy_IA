{
 "cells": [
  {
   "cell_type": "markdown",
   "metadata": {},
   "source": [
    "**420-A58-SF - Algorithmes d'apprentissage non supervisé - Hiver 2023 - Spécialisation technique en Intelligence Artificielle**<br/>\n",
    "MIT License - Copyright (c) 2023 Mikaël Swawola\n",
    "<br/>\n",
    "![Travaux Pratiques - partitionnement-k-moyennes (implementation)](static/01-02-A1-banner.png)\n",
    "<br/>\n",
    "**Objectif:** cette séance de travaux pratiques a pour objectif l'implémentation sous forme de code Python de l'**algorithme des K-moyennes** et de sa mise en œuvre"
   ]
  },
  {
   "cell_type": "code",
   "execution_count": null,
   "metadata": {},
   "outputs": [],
   "source": [
    "%reload_ext autoreload\n",
    "%autoreload 2\n",
    "%matplotlib inline"
   ]
  },
  {
   "cell_type": "markdown",
   "metadata": {},
   "source": [
    "## 1 - Lecture des données"
   ]
  },
  {
   "cell_type": "markdown",
   "metadata": {},
   "source": [
    "**Exercice 1 - À l'aide de la librairie Pandas, lire le fichier de données `blobs.csv`**"
   ]
  },
  {
   "cell_type": "code",
   "execution_count": null,
   "metadata": {},
   "outputs": [],
   "source": [
    "# Compléter cette cellule ~ 2 lignes de code"
   ]
  },
  {
   "cell_type": "code",
   "execution_count": null,
   "metadata": {},
   "outputs": [],
   "source": [
    "import pandas as pd\n",
    "blobs = pd.read_csv('../../data/blobs.csv')"
   ]
  },
  {
   "cell_type": "markdown",
   "metadata": {},
   "source": [
    "## 2 - Visualisation des données"
   ]
  },
  {
   "cell_type": "markdown",
   "metadata": {},
   "source": [
    "**Exercice 2 - En utilisant un type de graphique approprié, visualiser les données. Combien de clusters semblent présents ?**"
   ]
  },
  {
   "cell_type": "code",
   "execution_count": null,
   "metadata": {},
   "outputs": [],
   "source": [
    "# Compléter cette cellule ~ de 2 à 7 lignes de code"
   ]
  },
  {
   "cell_type": "code",
   "execution_count": null,
   "metadata": {},
   "outputs": [],
   "source": [
    "blobs.info()"
   ]
  },
  {
   "cell_type": "code",
   "execution_count": null,
   "metadata": {},
   "outputs": [],
   "source": [
    "import seaborn as sns; sns.set()\n",
    "import matplotlib.pyplot as plt\n",
    "# Configuration de la visualisation\n",
    "sns.set(style=\"darkgrid\")\n",
    "sns.set_context(\"notebook\", font_scale=1.5, rc={\"lines.linewidth\": 2.5})\n",
    "plt.rcParams['figure.figsize']=(12,8)"
   ]
  },
  {
   "cell_type": "code",
   "execution_count": null,
   "metadata": {},
   "outputs": [],
   "source": [
    "_ = sns.scatterplot(x=\"x0\", y=\"x1\", data=blobs)\n",
    "plt.xlabel('x0')\n",
    "plt.ylabel('x1')"
   ]
  },
  {
   "cell_type": "markdown",
   "metadata": {},
   "source": [
    "## 3 - Implémentation de l'algorithme des K-moyennes"
   ]
  },
  {
   "cell_type": "markdown",
   "metadata": {},
   "source": [
    "**Exercice 3-1 - Initialiser la variable K, représentant le nombre de clusters estimé à partir de la visualisation précédente**"
   ]
  },
  {
   "cell_type": "code",
   "execution_count": null,
   "metadata": {},
   "outputs": [],
   "source": [
    "# Compléter cette cellule ~ 1 ligne de code"
   ]
  },
  {
   "cell_type": "code",
   "execution_count": null,
   "metadata": {},
   "outputs": [],
   "source": [
    "K = 3"
   ]
  },
  {
   "cell_type": "markdown",
   "metadata": {},
   "source": [
    "**Exercice 3-2 - Mettre les données à l'échelle. Visualiser de nouveau les données**"
   ]
  },
  {
   "cell_type": "code",
   "execution_count": null,
   "metadata": {},
   "outputs": [],
   "source": [
    "# Compléter cette cellule ~ 3 lignes de code"
   ]
  },
  {
   "cell_type": "code",
   "execution_count": null,
   "metadata": {},
   "outputs": [],
   "source": [
    "from sklearn.preprocessing import StandardScaler\n",
    "scaler = StandardScaler()\n",
    "X = scaler.fit_transform(blobs)"
   ]
  },
  {
   "cell_type": "code",
   "execution_count": null,
   "metadata": {},
   "outputs": [],
   "source": [
    "ax = sns.scatterplot(x=X[:,0], y=X[:,1])\n",
    "plt.xlabel('x0')\n",
    "plt.ylabel('x1')"
   ]
  },
  {
   "cell_type": "markdown",
   "metadata": {},
   "source": [
    "**Exercice 3-3 - Initialiser les K centroïdes. Pour ce, vous pouvez choisir aléatoirement K observations.** "
   ]
  },
  {
   "cell_type": "code",
   "execution_count": null,
   "metadata": {},
   "outputs": [],
   "source": [
    "# Compléter cette cellule ~ de 2 à 4 lignes de code"
   ]
  },
  {
   "cell_type": "code",
   "execution_count": null,
   "metadata": {},
   "outputs": [],
   "source": [
    "import numpy as np\n",
    "np.random.seed(2023)\n",
    "random_observations = np.random.choice(X.shape[0], size=K, replace=False)\n",
    "centroids = X[random_observations]\n",
    "centroids"
   ]
  },
  {
   "cell_type": "markdown",
   "metadata": {},
   "source": [
    "**Exercice 3-4 - Sur la visualisation, afficher la position des K centroïdes initiaux**"
   ]
  },
  {
   "cell_type": "code",
   "execution_count": null,
   "metadata": {},
   "outputs": [],
   "source": [
    "# Compléter cette cellule ~ de 2 à 4 lignes de code"
   ]
  },
  {
   "cell_type": "code",
   "execution_count": null,
   "metadata": {},
   "outputs": [],
   "source": [
    "ax = sns.scatterplot(x=X[:,0], y=X[:,1])\n",
    "plt.scatter(centroids[:,0], centroids[:,1], c='r', marker='x', s=120)\n",
    "plt.xlabel('x0')\n",
    "plt.ylabel('x1')"
   ]
  },
  {
   "cell_type": "markdown",
   "metadata": {},
   "source": [
    "**Exercice 3-5 - Afin de faciliter l'implémentation ultérieure de l'algorithme des K-moyennes, calculer la distance euclidienne (L2) entre le point A (-1,-1) et chacun des K centroïdes. Trouver ensuite l'index du centroïde le plus proche**"
   ]
  },
  {
   "cell_type": "code",
   "execution_count": null,
   "metadata": {},
   "outputs": [],
   "source": [
    "# Compléter cette cellule ~ 4 lignes de code"
   ]
  },
  {
   "cell_type": "code",
   "execution_count": null,
   "metadata": {},
   "outputs": [],
   "source": [
    "A = np.array([-1,-1])\n",
    "# Remarque concernant le calcul des distances\n",
    "print(f'A = \\n{A}')\n",
    "print(f'centroids = \\n{centroids}')\n",
    "print(f'A-centroids = \\n{centroids-A}')"
   ]
  },
  {
   "cell_type": "code",
   "execution_count": null,
   "metadata": {},
   "outputs": [],
   "source": [
    "L2 = np.sqrt(np.sum((centroids-A)**2, axis=1))\n",
    "plus_proche = np.argmin(L2)\n",
    "\n",
    "print(f'Centroïde le plus proche: {plus_proche} - {centroids[plus_proche,:]} ({np.min(L2)})')"
   ]
  },
  {
   "cell_type": "markdown",
   "metadata": {},
   "source": [
    "**Exercice 3-6 - Implémenter l'algorithme des K-moyennes tel que vu en cours. Pour appel, le *pseudo code* de l'algorithme est le suivant:**\n",
    "* Choix de K (fait plus haut, exercice 3-1)\n",
    "* Standardisation des données (fait plus haut, exercice 3-2)\n",
    "* Initialisation des K centroïdes (fait plus haut, exercice 3-3)\n",
    "* Pour n_iterations: **(partie à coder !)**\n",
    "    * Assignation des observations à un cluster (centroïde le plus \"proche\"). La distance euclidienne sera utilisée ici (exercice 3-5)\n",
    "    * Déplacement des centroïdes (moyenne des observations associées à un cluster)"
   ]
  },
  {
   "cell_type": "markdown",
   "metadata": {},
   "source": [
    "<details>\n",
    "<summary>\n",
    "    <font size=\"3\" color=\"darkgreen\"><b>Cliquer ici pour obtenir un indice</b></font>\n",
    "</summary>\n",
    "<p>\n",
    "Vous devrez créer un tableau représentant le cluster associé à chaque observation\n",
    "</p>"
   ]
  },
  {
   "cell_type": "code",
   "execution_count": null,
   "metadata": {},
   "outputs": [],
   "source": [
    "# Compléter cette cellule ~ de 10 à 20 lignes de code"
   ]
  },
  {
   "cell_type": "code",
   "execution_count": null,
   "metadata": {},
   "outputs": [],
   "source": [
    "max_iter = 10\n",
    "c = np.zeros(shape=(X.shape[0], 1))\n",
    "\n",
    "for i in range(1, max_iter):\n",
    "    \n",
    "    # Assignation à un cluster\n",
    "    for j, x in enumerate(X):\n",
    "        L2 = np.sqrt(np.sum((centroids-x)**2, axis=1))\n",
    "        c[j] = np.argmin(L2)\n",
    "    \n",
    "    # Calcul des K moyennes\n",
    "    for k in range(0, K):\n",
    "        mask = (c == k).flatten()\n",
    "        kmean = X[mask, :].mean(axis=0)\n",
    "        centroids[k,:] = kmean   "
   ]
  },
  {
   "cell_type": "markdown",
   "metadata": {},
   "source": [
    "**Exercice 3-7 - Afficher la position des clusters. Visualiser également les observations et leur association à un des K clusters**"
   ]
  },
  {
   "cell_type": "markdown",
   "metadata": {},
   "source": [
    "<details>\n",
    "<summary>\n",
    "    <font size=\"3\" color=\"darkgreen\"><b>Cliquer ici pour obtenir un indice</b></font>\n",
    "</summary>\n",
    "<p>\n",
    "Utiliser `hue`\n",
    "</p>"
   ]
  },
  {
   "cell_type": "code",
   "execution_count": null,
   "metadata": {},
   "outputs": [],
   "source": [
    "# Compléter cette cellule ~ de 2 à 4 lignes de code"
   ]
  },
  {
   "cell_type": "code",
   "execution_count": null,
   "metadata": {},
   "outputs": [],
   "source": [
    "ax = sns.scatterplot(x=X[:,0], y=X[:,1], hue=c[:,0], palette=\"Paired\")\n",
    "plt.scatter(centroids[:,0], centroids[:,1], c='r', marker='x', s=120)\n",
    "plt.xlabel('x0')\n",
    "plt.ylabel('x1')"
   ]
  },
  {
   "cell_type": "markdown",
   "metadata": {},
   "source": [
    "**Exercice 3-8 - Calculer la distorsion**"
   ]
  },
  {
   "cell_type": "code",
   "execution_count": null,
   "metadata": {},
   "outputs": [],
   "source": [
    "# Compléter cette cellule ~ 2 lignes de code"
   ]
  },
  {
   "cell_type": "code",
   "execution_count": null,
   "metadata": {},
   "outputs": [],
   "source": [
    "mu_c = centroids[c.ravel().astype(int),:]"
   ]
  },
  {
   "cell_type": "code",
   "execution_count": null,
   "metadata": {},
   "outputs": [],
   "source": [
    "distances = np.sum(np.sqrt(np.sum((X - mu_c)**2, axis=1)))\n",
    "distorsion = np.sum(distances) / X.shape[0]\n",
    "distorsion"
   ]
  },
  {
   "cell_type": "markdown",
   "metadata": {},
   "source": [
    "## 4 - Intégration de l'algorithme dans une fonction"
   ]
  },
  {
   "cell_type": "markdown",
   "metadata": {},
   "source": [
    "**Exercice 4 - Intégrer l'ensemble de l'algorithme des K-moyennes, incluant l'initalisation aléatoire des K centroïdes `n_init` fois, dans une fonction**\n",
    "<br/>\n",
    "* Cette fonction prend en argument les données, le nombre de clusters, le nombre d'itérations de l'algorithme et le nombre d'initialisations aléatoires des K centroïdes\n",
    "* Les valeurs retournées sont la distorsion et les centroïdes"
   ]
  },
  {
   "cell_type": "code",
   "execution_count": null,
   "metadata": {},
   "outputs": [],
   "source": [
    "# Compléter cette cellule"
   ]
  },
  {
   "cell_type": "code",
   "execution_count": null,
   "metadata": {},
   "outputs": [],
   "source": [
    "def kmeans(data, K, max_iter=10, n_init=10):\n",
    "    \n",
    "    best = None\n",
    "    distorsion = 1e15\n",
    "    for n in range(1, n_init):\n",
    "        # Intialisation des centroides\n",
    "        sel = np.random.choice(data.shape[0], size=K, replace=False)\n",
    "        centroids = data[sel]\n",
    "\n",
    "        c = np.zeros(shape=(data.shape[0], 1))\n",
    "\n",
    "        for i in range(1, max_iter):\n",
    "            # Cluster assignement\n",
    "            for j, x in enumerate(data):                \n",
    "                L2 = np.sqrt(np.sum((centroids-x)**2, axis=1))\n",
    "                c[j] = np.argmin(L2)\n",
    "\n",
    "            # Move centroid\n",
    "            for k in range(0, K):\n",
    "                mask = (c == k).ravel()\n",
    "                kmean = X[mask, :].mean(axis=0)\n",
    "                centroids[k,:] = kmean \n",
    "            \n",
    "            # Distorsion\n",
    "            mu_c = centroids[c.ravel().astype(int),:]\n",
    "            d = np.sum(np.sqrt(np.sum((data - mu_c)**2, axis=1))) / data.shape[0]\n",
    "            if d < distorsion:\n",
    "                best = centroids\n",
    "                distorsion = d\n",
    "    \n",
    "    return distorsion, best        "
   ]
  },
  {
   "cell_type": "code",
   "execution_count": null,
   "metadata": {},
   "outputs": [],
   "source": [
    "best_disto, best_centroids = kmeans(X, K=3)"
   ]
  },
  {
   "cell_type": "code",
   "execution_count": null,
   "metadata": {},
   "outputs": [],
   "source": [
    "print(f'Distorsion:\\n{best_disto}\\nCentroïdes:\\n{best_centroids}')"
   ]
  },
  {
   "cell_type": "code",
   "execution_count": null,
   "metadata": {},
   "outputs": [],
   "source": [
    "ax = sns.scatterplot(x=X[:,0], y=X[:,1], hue=c[:,0], palette=\"Paired\")\n",
    "plt.scatter(best_centroids[:,0], best_centroids[:,1], c='r', marker='x', s=120)\n",
    "plt.xlabel('x0')\n",
    "plt.ylabel('x1')"
   ]
  },
  {
   "cell_type": "markdown",
   "metadata": {},
   "source": [
    "## 5 - Nombre optimal de centroïdes"
   ]
  },
  {
   "cell_type": "markdown",
   "metadata": {},
   "source": [
    "**Exercice 5 - Faire varier le nombre de centroïdes K de 2 à 10 et vérifier sa valeur optimale à l'aide de la technique du \"coude\"**"
   ]
  },
  {
   "cell_type": "code",
   "execution_count": null,
   "metadata": {},
   "outputs": [],
   "source": [
    "# Compléter la cellule ~ 4-5 lignes de code"
   ]
  },
  {
   "cell_type": "code",
   "execution_count": null,
   "metadata": {},
   "outputs": [],
   "source": [
    "J = []\n",
    "for k in range(2,10+1):\n",
    "    j, _ = kmeans(X, K=k)\n",
    "    J.append(j)"
   ]
  },
  {
   "cell_type": "code",
   "execution_count": null,
   "metadata": {},
   "outputs": [],
   "source": [
    "plt.plot(range(2,10+1), J)\n",
    "plt.xlabel('K')\n",
    "plt.ylabel('Distorsion')"
   ]
  },
  {
   "cell_type": "markdown",
   "metadata": {},
   "source": [
    "## 6 - Exercices optionnels"
   ]
  },
  {
   "cell_type": "markdown",
   "metadata": {},
   "source": [
    "**Exercice 6-1 - Ajouter un critère de convergence**"
   ]
  },
  {
   "cell_type": "code",
   "execution_count": null,
   "metadata": {},
   "outputs": [],
   "source": [
    "# Compléter la cellule"
   ]
  },
  {
   "cell_type": "markdown",
   "metadata": {},
   "source": [
    "**Exercice 6-2 - Suppression des clusters vides**"
   ]
  },
  {
   "cell_type": "code",
   "execution_count": null,
   "metadata": {},
   "outputs": [],
   "source": [
    "# Compléter la cellule"
   ]
  },
  {
   "cell_type": "markdown",
   "metadata": {},
   "source": [
    "**Fin de l'atelier 01-02-A1**"
   ]
  }
 ],
 "metadata": {
  "kernelspec": {
   "display_name": "Python 3 (ipykernel)",
   "language": "python",
   "name": "python3"
  },
  "language_info": {
   "codemirror_mode": {
    "name": "ipython",
    "version": 3
   },
   "file_extension": ".py",
   "mimetype": "text/x-python",
   "name": "python",
   "nbconvert_exporter": "python",
   "pygments_lexer": "ipython3",
   "version": "3.11.2"
  }
 },
 "nbformat": 4,
 "nbformat_minor": 2
}
