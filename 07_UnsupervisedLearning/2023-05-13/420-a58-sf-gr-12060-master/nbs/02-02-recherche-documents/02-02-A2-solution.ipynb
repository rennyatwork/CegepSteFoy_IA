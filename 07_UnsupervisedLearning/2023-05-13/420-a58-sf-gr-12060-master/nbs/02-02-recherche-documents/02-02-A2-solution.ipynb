{
 "cells": [
  {
   "cell_type": "markdown",
   "metadata": {},
   "source": [
    "**420-A58-SF - Algorithmes d'apprentissage non supervisé - Hiver 2023 - Spécialisation technique en Intelligence Artificielle**<br/>\n",
    "MIT License - Copyright (c) 2023 Mikaël Swawola\n",
    "<br/>\n",
    "![Travaux Pratiques - Métriques de distance](static/02-02-A2-banner.png)\n",
    "<br/>\n",
    "**Objectif: cette séance de travaux pratiques continue le travail précédent sur la recherche de document similaires en mettant l'accent sur les métriques de distance**"
   ]
  },
  {
   "cell_type": "code",
   "execution_count": 3,
   "metadata": {},
   "outputs": [],
   "source": [
    "%reload_ext autoreload\n",
    "%autoreload 2\n",
    "%matplotlib inline"
   ]
  },
  {
   "cell_type": "code",
   "execution_count": 4,
   "metadata": {},
   "outputs": [],
   "source": [
    "import numpy as np\n",
    "import pandas as pd\n",
    "\n",
    "# Le reste des modules sera importé au fur et à mesure des exercices ..."
   ]
  },
  {
   "cell_type": "markdown",
   "metadata": {},
   "source": [
    "Pour rappel, l'archive `people.zip` contient 4 fichiers:\n",
    "\n",
    "* **people_wiki.csv**: jeu de données consituté des pages Wikipedia de personnalités\n",
    "* **people_wiki_map_index_to_word.json**: mapping entre les mots et les indices\n",
    "* **people_wiki_word_count.npz**: vecteurs d'occurence des mots (word count) pour chaque document\n",
    "* **people_wiki_tf_idf.npz**: vecteurs TF-IDF pour chaque document\n",
    "\n",
    "Dans l'énoncé de ce TP, les mots \"article\" et \"document\" sont interchangeables."
   ]
  },
  {
   "cell_type": "markdown",
   "metadata": {},
   "source": [
    "## 1 - Chargement des données"
   ]
  },
  {
   "cell_type": "markdown",
   "metadata": {},
   "source": [
    "Ici, la **représentation TF-IDF** sera utilisée."
   ]
  },
  {
   "cell_type": "code",
   "execution_count": 5,
   "metadata": {},
   "outputs": [],
   "source": [
    "import json\n",
    "from helpers import load_sparse_csr\n",
    "\n",
    "# Chargement du jeu de données\n",
    "wiki = pd.read_csv('../../data/people/people_wiki.csv')\n",
    "wiki.index.name = 'id'\n",
    "\n",
    "# Chargement des représentations TF-IDF\n",
    "corpus = load_sparse_csr('../../data/people/people_wiki_tf_idf.npz')\n",
    "\n",
    "# Chargement du mapping entre les mots et les indices\n",
    "with open('../../data/people/people_wiki_map_index_to_word.json') as f:\n",
    "     map_index_to_word = json.load(f)"
   ]
  },
  {
   "cell_type": "markdown",
   "metadata": {},
   "source": [
    "## 2 - Choix des métriques"
   ]
  },
  {
   "cell_type": "markdown",
   "metadata": {},
   "source": [
    "En regardant les résultats de l'atelier précédent, vous vous demandez peut-être pourquoi Joe Biden, colistier d'Obama lors de deux élections présidentielles, est absent des résultats de la requête de `model_tf_idf`. Nous allons tenter de comprendre pourquoi."
   ]
  },
  {
   "cell_type": "markdown",
   "metadata": {},
   "source": [
    "**Exercice 2-1 - Calculer la distance euclidienne entre les représentation TF-IDF de Obama et Biden**"
   ]
  },
  {
   "cell_type": "code",
   "execution_count": 6,
   "metadata": {},
   "outputs": [],
   "source": [
    "# Compléter cette cellule ~ 4 lignes de code"
   ]
  },
  {
   "cell_type": "code",
   "execution_count": 7,
   "metadata": {},
   "outputs": [
    {
     "data": {
      "text/plain": [
       "array([[123.29745601]])"
      ]
     },
     "execution_count": 7,
     "metadata": {},
     "output_type": "execute_result"
    }
   ],
   "source": [
    "obama_tf_idf = corpus[wiki[wiki['name'] == \"Barack Obama\"].index[0]]\n",
    "biden_tf_idf = corpus[wiki[wiki['name'] == \"Joe Biden\"].index[0]]\n",
    "\n",
    "distance = np.sqrt(np.dot((obama_tf_idf - biden_tf_idf), (obama_tf_idf - biden_tf_idf).T))\n",
    "distance.toarray()"
   ]
  },
  {
   "cell_type": "markdown",
   "metadata": {},
   "source": [
    "La distance est plus grande que les distances que nous avons trouvées pour les 10 voisins les plus proches. Mais on peut se demander si l'article de Biden est plus différent de celui d'Obama que de celui de Schiliro? Lorsque nous calculons les plus proches voisins avec la distance euclidienne, nous privilégions involontairement les articles courts plutôt que les articles longs."
   ]
  },
  {
   "cell_type": "markdown",
   "metadata": {},
   "source": [
    "**Exercice 2-2 - Calculer la longueur de chaque document Wikipédia et examiner la longueur des 100 voisins les plus proches de la page d'Obama. Il vous faudra recalculer les plus proches voisins (voir TP précédent). Pour vous aider, la fonction `compute_length` est disponible dans le fichiers `helpers.py`**"
   ]
  },
  {
   "cell_type": "code",
   "execution_count": 8,
   "metadata": {},
   "outputs": [],
   "source": [
    "# Compléter cette cellule ~ 10 lignes de code"
   ]
  },
  {
   "cell_type": "code",
   "execution_count": 9,
   "metadata": {},
   "outputs": [
    {
     "data": {
      "text/html": [
       "<div>\n",
       "<style scoped>\n",
       "    .dataframe tbody tr th:only-of-type {\n",
       "        vertical-align: middle;\n",
       "    }\n",
       "\n",
       "    .dataframe tbody tr th {\n",
       "        vertical-align: top;\n",
       "    }\n",
       "\n",
       "    .dataframe thead th {\n",
       "        text-align: right;\n",
       "    }\n",
       "</style>\n",
       "<table border=\"1\" class=\"dataframe\">\n",
       "  <thead>\n",
       "    <tr style=\"text-align: right;\">\n",
       "      <th></th>\n",
       "      <th>name</th>\n",
       "      <th>length</th>\n",
       "      <th>distance</th>\n",
       "    </tr>\n",
       "    <tr>\n",
       "      <th>id</th>\n",
       "      <th></th>\n",
       "      <th></th>\n",
       "      <th></th>\n",
       "    </tr>\n",
       "  </thead>\n",
       "  <tbody>\n",
       "    <tr>\n",
       "      <th>35817</th>\n",
       "      <td>Barack Obama</td>\n",
       "      <td>540</td>\n",
       "      <td>0.000000</td>\n",
       "    </tr>\n",
       "    <tr>\n",
       "      <th>7914</th>\n",
       "      <td>Phil Schiliro</td>\n",
       "      <td>208</td>\n",
       "      <td>106.861014</td>\n",
       "    </tr>\n",
       "    <tr>\n",
       "      <th>46811</th>\n",
       "      <td>Jeff Sessions</td>\n",
       "      <td>230</td>\n",
       "      <td>108.871674</td>\n",
       "    </tr>\n",
       "    <tr>\n",
       "      <th>44681</th>\n",
       "      <td>Jesse Lee (politician)</td>\n",
       "      <td>216</td>\n",
       "      <td>109.045698</td>\n",
       "    </tr>\n",
       "    <tr>\n",
       "      <th>38376</th>\n",
       "      <td>Samantha Power</td>\n",
       "      <td>310</td>\n",
       "      <td>109.108106</td>\n",
       "    </tr>\n",
       "    <tr>\n",
       "      <th>...</th>\n",
       "      <td>...</td>\n",
       "      <td>...</td>\n",
       "      <td>...</td>\n",
       "    </tr>\n",
       "    <tr>\n",
       "      <th>9884</th>\n",
       "      <td>Kenneth M. Pollack</td>\n",
       "      <td>229</td>\n",
       "      <td>113.784257</td>\n",
       "    </tr>\n",
       "    <tr>\n",
       "      <th>55613</th>\n",
       "      <td>Gary D. Solis</td>\n",
       "      <td>208</td>\n",
       "      <td>113.785437</td>\n",
       "    </tr>\n",
       "    <tr>\n",
       "      <th>6828</th>\n",
       "      <td>George J. Mitchell</td>\n",
       "      <td>214</td>\n",
       "      <td>113.793053</td>\n",
       "    </tr>\n",
       "    <tr>\n",
       "      <th>22695</th>\n",
       "      <td>Nicholas Liverpool</td>\n",
       "      <td>251</td>\n",
       "      <td>113.795142</td>\n",
       "    </tr>\n",
       "    <tr>\n",
       "      <th>4893</th>\n",
       "      <td>A. Thomas McLellan</td>\n",
       "      <td>206</td>\n",
       "      <td>113.816086</td>\n",
       "    </tr>\n",
       "  </tbody>\n",
       "</table>\n",
       "<p>100 rows × 3 columns</p>\n",
       "</div>"
      ],
      "text/plain": [
       "                         name  length    distance\n",
       "id                                               \n",
       "35817            Barack Obama     540    0.000000\n",
       "7914            Phil Schiliro     208  106.861014\n",
       "46811           Jeff Sessions     230  108.871674\n",
       "44681  Jesse Lee (politician)     216  109.045698\n",
       "38376          Samantha Power     310  109.108106\n",
       "...                       ...     ...         ...\n",
       "9884       Kenneth M. Pollack     229  113.784257\n",
       "55613           Gary D. Solis     208  113.785437\n",
       "6828       George J. Mitchell     214  113.793053\n",
       "22695      Nicholas Liverpool     251  113.795142\n",
       "4893       A. Thomas McLellan     206  113.816086\n",
       "\n",
       "[100 rows x 3 columns]"
      ]
     },
     "execution_count": 9,
     "metadata": {},
     "output_type": "execute_result"
    }
   ],
   "source": [
    "from sklearn.neighbors import NearestNeighbors\n",
    "from helpers import compute_length\n",
    "\n",
    "wiki['length'] = wiki.apply(compute_length, axis=1)\n",
    "\n",
    "model_tf_idf = NearestNeighbors(metric='euclidean', algorithm='brute').fit(corpus)\n",
    "distances, indices = model_tf_idf.kneighbors(corpus[35817], n_neighbors=100)\n",
    "\n",
    "neighbors = pd.DataFrame({'distance':distances.flatten(), 'id':indices.flatten()}).set_index('id')\n",
    "nearest_neighbors_euclidean = wiki.join(neighbors, on='id', how=\"right\")[['name', 'length', 'distance']].sort_values(by='distance', ascending=True)\n",
    "\n",
    "nearest_neighbors_euclidean"
   ]
  },
  {
   "cell_type": "markdown",
   "metadata": {},
   "source": [
    "Pour voir comment ces longueurs de document se comparent aux longueurs des autres documents du corpus, faisons un histogramme des longueurs de document des 100 voisins les plus proches d'Obama et comparons à un histogramme de longueurs de document pour tous les documents."
   ]
  },
  {
   "cell_type": "code",
   "execution_count": 10,
   "metadata": {},
   "outputs": [
    {
     "data": {
      "image/png": "[encoded data removed]",
      "text/plain": [
       "<Figure size 756x324 with 1 Axes>"
      ]
     },
     "metadata": {
      "needs_background": "light"
     },
     "output_type": "display_data"
    }
   ],
   "source": [
    "import matplotlib.pyplot as plt\n",
    "\n",
    "plt.figure(figsize=(10.5,4.5))\n",
    "plt.hist(wiki['length'], 50, color='k', edgecolor='None', histtype='stepfilled', density=True,\n",
    "         label='Wikipedia', zorder=3, alpha=0.8)\n",
    "plt.hist(nearest_neighbors_euclidean['length'], 50, color='r', edgecolor='None', histtype='stepfilled', density=True,\n",
    "         label=\"100 NNs d'Obama (Euclidean)\", zorder=10, alpha=0.8)\n",
    "plt.axvline(x=wiki['length'][wiki['name'] == 'Barack Obama'].iloc[0], color='k', linestyle='--', linewidth=4,\n",
    "           label='Longueur du doc de Barack Obama', zorder=2)\n",
    "plt.axvline(x=wiki['length'][wiki['name'] == 'Joe Biden'].iloc[0], color='g', linestyle='--', linewidth=4,\n",
    "           label='Longueur du doc de Joe Biden', zorder=1)\n",
    "plt.axis([0, 1000, 0, 0.04])\n",
    "\n",
    "plt.legend(loc='best', prop={'size':15})\n",
    "plt.title('Distribution de la longueur du document')\n",
    "plt.xlabel('Nombre de mots')\n",
    "plt.ylabel('Pourcentage')\n",
    "plt.rcParams.update({'font.size':16})\n",
    "plt.tight_layout()"
   ]
  },
  {
   "cell_type": "markdown",
   "metadata": {},
   "source": [
    "Par rapport au reste de Wikipédia, les documents voisins les plus proches d'Obama sont extrêmement courts, la plupart d'entre eux comptant moins de 300 mots. Le parti pris pour les articles courts n'est pas approprié dans cette application car il n'y a vraiment aucune raison de privilégier les articles courts aux articles longs (ce sont tous des articles Wikipedia, après tout). De nombreux articles de Wikipédia contiennent 300 mots ou plus, et Obama et Biden comptent plus de 300 mots.\n",
    "\n",
    "Remarque: Pour des raisons de temps de calcul, l'ensemble de données disponible ici contient des extraits des articles plutôt que du texte intégral. Par exemple, l'article Wikipédia sur Obama fait environ 25 000 mots. Ne soyez pas surpris par les faibles chiffres indiqués dans l'histogramme.\n",
    "\n",
    "Remarque: Les fonctions de comptage de mots et TF-IDF sont proportionnelles aux fréquences des mots. Alors que TF-IDF pénalise les mots très courants, les articles plus longs ont tendance à avoir des vecteurs TF-IDF plus longs simplement parce qu'ils contiennent plus de mots."
   ]
  },
  {
   "cell_type": "markdown",
   "metadata": {},
   "source": [
    "**Exercice 2-3 - Entraîner un nouveau modèle, en prenant cette fois-ci la distance cosinus**"
   ]
  },
  {
   "cell_type": "code",
   "execution_count": 11,
   "metadata": {},
   "outputs": [],
   "source": [
    "# Compléter cette cellule ~ 4-5 lignes de code"
   ]
  },
  {
   "cell_type": "code",
   "execution_count": 12,
   "metadata": {},
   "outputs": [
    {
     "data": {
      "text/html": [
       "<div>\n",
       "<style scoped>\n",
       "    .dataframe tbody tr th:only-of-type {\n",
       "        vertical-align: middle;\n",
       "    }\n",
       "\n",
       "    .dataframe tbody tr th {\n",
       "        vertical-align: top;\n",
       "    }\n",
       "\n",
       "    .dataframe thead th {\n",
       "        text-align: right;\n",
       "    }\n",
       "</style>\n",
       "<table border=\"1\" class=\"dataframe\">\n",
       "  <thead>\n",
       "    <tr style=\"text-align: right;\">\n",
       "      <th></th>\n",
       "      <th>name</th>\n",
       "      <th>length</th>\n",
       "      <th>distance</th>\n",
       "    </tr>\n",
       "    <tr>\n",
       "      <th>id</th>\n",
       "      <th></th>\n",
       "      <th></th>\n",
       "      <th></th>\n",
       "    </tr>\n",
       "  </thead>\n",
       "  <tbody>\n",
       "    <tr>\n",
       "      <th>35817</th>\n",
       "      <td>Barack Obama</td>\n",
       "      <td>540</td>\n",
       "      <td>0.000000</td>\n",
       "    </tr>\n",
       "    <tr>\n",
       "      <th>24478</th>\n",
       "      <td>Joe Biden</td>\n",
       "      <td>414</td>\n",
       "      <td>0.703139</td>\n",
       "    </tr>\n",
       "    <tr>\n",
       "      <th>38376</th>\n",
       "      <td>Samantha Power</td>\n",
       "      <td>310</td>\n",
       "      <td>0.742982</td>\n",
       "    </tr>\n",
       "    <tr>\n",
       "      <th>57108</th>\n",
       "      <td>Hillary Rodham Clinton</td>\n",
       "      <td>580</td>\n",
       "      <td>0.758358</td>\n",
       "    </tr>\n",
       "    <tr>\n",
       "      <th>38714</th>\n",
       "      <td>Eric Stern (politician)</td>\n",
       "      <td>255</td>\n",
       "      <td>0.770561</td>\n",
       "    </tr>\n",
       "    <tr>\n",
       "      <th>...</th>\n",
       "      <td>...</td>\n",
       "      <td>...</td>\n",
       "      <td>...</td>\n",
       "    </tr>\n",
       "    <tr>\n",
       "      <th>43760</th>\n",
       "      <td>Jody Freeman</td>\n",
       "      <td>534</td>\n",
       "      <td>0.875848</td>\n",
       "    </tr>\n",
       "    <tr>\n",
       "      <th>28267</th>\n",
       "      <td>Michael C. Dorf</td>\n",
       "      <td>279</td>\n",
       "      <td>0.876000</td>\n",
       "    </tr>\n",
       "    <tr>\n",
       "      <th>48848</th>\n",
       "      <td>Greg Harris (Illinois politician)</td>\n",
       "      <td>235</td>\n",
       "      <td>0.876418</td>\n",
       "    </tr>\n",
       "    <tr>\n",
       "      <th>686</th>\n",
       "      <td>Jesse Jackson, Jr.</td>\n",
       "      <td>206</td>\n",
       "      <td>0.876957</td>\n",
       "    </tr>\n",
       "    <tr>\n",
       "      <th>5020</th>\n",
       "      <td>Gary Peters (politician)</td>\n",
       "      <td>260</td>\n",
       "      <td>0.876975</td>\n",
       "    </tr>\n",
       "  </tbody>\n",
       "</table>\n",
       "<p>100 rows × 3 columns</p>\n",
       "</div>"
      ],
      "text/plain": [
       "                                    name  length  distance\n",
       "id                                                        \n",
       "35817                       Barack Obama     540  0.000000\n",
       "24478                          Joe Biden     414  0.703139\n",
       "38376                     Samantha Power     310  0.742982\n",
       "57108             Hillary Rodham Clinton     580  0.758358\n",
       "38714            Eric Stern (politician)     255  0.770561\n",
       "...                                  ...     ...       ...\n",
       "43760                       Jody Freeman     534  0.875848\n",
       "28267                    Michael C. Dorf     279  0.876000\n",
       "48848  Greg Harris (Illinois politician)     235  0.876418\n",
       "686                   Jesse Jackson, Jr.     206  0.876957\n",
       "5020            Gary Peters (politician)     260  0.876975\n",
       "\n",
       "[100 rows x 3 columns]"
      ]
     },
     "execution_count": 12,
     "metadata": {},
     "output_type": "execute_result"
    }
   ],
   "source": [
    "model_cosine = NearestNeighbors(algorithm='brute', metric='cosine').fit(corpus)\n",
    "distances, indices = model_cosine.kneighbors(corpus[35817], n_neighbors=100)\n",
    "\n",
    "neighbors = pd.DataFrame({'distance':distances.flatten(), 'id':indices.flatten()}).set_index('id')\n",
    "nearest_neighbors_cosine = wiki.join(neighbors, on='id', how=\"inner\")[['name', 'length', 'distance']].sort_values(by='distance', ascending=True)\n",
    "\n",
    "nearest_neighbors_cosine"
   ]
  },
  {
   "cell_type": "markdown",
   "metadata": {},
   "source": [
    "Nous pouvons constater que les résultats font plus de sens. Par exemple, nous voyons maintenant Joe Biden comme le plus proche voisin de Barack Obama! Nous voyons également Hillary Clinton sur la liste. Cette liste semble encore plus plausible en tant que voisins les plus proches de Barack Obama.\n",
    "\n",
    "Affichons maintenant la distirbution de la longueur des documents ainsi que les plus proches voisins trouvés avec la distance cosinus au lieu d'euclidienne sur nos vecteurs TF-IDF."
   ]
  },
  {
   "cell_type": "code",
   "execution_count": 13,
   "metadata": {},
   "outputs": [
    {
     "data": {
      "image/png": "[encoded data removed]",
      "text/plain": [
       "<Figure size 756x324 with 1 Axes>"
      ]
     },
     "metadata": {
      "needs_background": "light"
     },
     "output_type": "display_data"
    }
   ],
   "source": [
    "plt.figure(figsize=(10.5,4.5))\n",
    "plt.hist(wiki['length'], 50, color='k', edgecolor='None', histtype='stepfilled', density=True,\n",
    "         label='Wikipedia', zorder=3, alpha=0.8)\n",
    "plt.hist(nearest_neighbors_euclidean['length'], 50, color='r', edgecolor='None', histtype='stepfilled', density=True,\n",
    "         label=\"100 NNs d'Obama (Euclidean)\", zorder=10, alpha=0.8)\n",
    "plt.hist(nearest_neighbors_cosine['length'], 50, color='b', edgecolor='None', histtype='stepfilled', density=True,\n",
    "         label=\"100 NNs d'Obama (cosine)\", zorder=11, alpha=0.8)\n",
    "plt.axvline(x=wiki['length'][wiki['name'] == 'Barack Obama'].iloc[0], color='k', linestyle='--', linewidth=4,\n",
    "           label='Longueur du doc Barack Obama', zorder=2)\n",
    "plt.axvline(x=wiki['length'][wiki['name'] == 'Joe Biden'].iloc[0], color='g', linestyle='--', linewidth=4,\n",
    "           label='Longeur du doc Joe Biden', zorder=1)\n",
    "plt.axis([0, 1000, 0, 0.04])\n",
    "plt.legend(loc='best', prop={'size':15})\n",
    "plt.title('Distribution de la longueur du document')\n",
    "plt.xlabel('Nombre de mots')\n",
    "plt.ylabel('Pourcentage')\n",
    "plt.rcParams.update({'font.size': 16})\n",
    "plt.tight_layout()"
   ]
  },
  {
   "cell_type": "markdown",
   "metadata": {},
   "source": [
    "En effet, les 100 voisins les plus proches utilisant la distance cosinus fournissent un échantillonnage sur la plage de longueurs de document, plutôt que de courts articles comme la distance euclidienne fournie.\n",
    "\n",
    "**Morale de l'histoire**: lorsque vous choisissez une représentation et une mesure de distance, vérifiez si elles produisent des résultats qui ont du sens pour votre application particulière."
   ]
  },
  {
   "cell_type": "markdown",
   "metadata": {},
   "source": [
    "## 3 - Inconvénient de la distance cosinus: tweets et artcles longs"
   ]
  },
  {
   "cell_type": "markdown",
   "metadata": {},
   "source": [
    "Comme vu en cours (chapitre 02-02), la **distance cosinus** peut s'avérer désavantageuse dans le cas de documents très courts et très longs. Considérons le document suivant (tweet):"
   ]
  },
  {
   "cell_type": "code",
   "execution_count": null,
   "metadata": {},
   "outputs": [],
   "source": [
    "#+--------------------------------------------------------+\n",
    "#|                                             +--------+ |\n",
    "#|  One that shall not be named                | Follow | |\n",
    "#|  @username                                  +--------+ |\n",
    "#|                                                        |\n",
    "#|  Democratic governments control law in response to     |\n",
    "#|  popular act.                                          |\n",
    "#|                                                        |\n",
    "#|  8:05 AM - 16 May 2016                                 |\n",
    "#|                                                        |\n",
    "#|  Reply   Retweet (1,332)   Like (300)                  |\n",
    "#|                                                        |\n",
    "#+--------------------------------------------------------+"
   ]
  },
  {
   "cell_type": "markdown",
   "metadata": {},
   "source": [
    "À quel point ce tweet et la page l'article Wikipedia de Barack Obama sont similaires ? La **représentation TF-IDF** de ce tweet est définie ci-dessous:"
   ]
  },
  {
   "cell_type": "code",
   "execution_count": 6,
   "metadata": {},
   "outputs": [],
   "source": [
    "tweet = {'act': 3.4597778278724887,\n",
    " 'control': 3.721765211295327,\n",
    " 'democratic': 3.1026721743330414,\n",
    " 'governments': 4.167571323949673,\n",
    " 'in': 0.0009654063501214492,\n",
    " 'law': 2.4538226269605703,\n",
    " 'popular': 2.764478952022998,\n",
    " 'response': 4.261461747058352,\n",
    " 'to': 0.04694493768179923}"
   ]
  },
  {
   "cell_type": "markdown",
   "metadata": {},
   "source": [
    "**Exercice 3-1 - Visualiser les représentations TF-IDF des mots du tweets présents dans la page de Barack Obama**"
   ]
  },
  {
   "cell_type": "code",
   "execution_count": 7,
   "metadata": {},
   "outputs": [],
   "source": [
    "# Compléter cette cellule ~ 2-5 lignes de code\n",
    "# 1. Obtenir les indices des mots du tweet\n",
    "# 2. Slice sur Corpus\n",
    "# 3. Creer une variable tweet_tf_idf, vecteur TF-IDF complet (sparse)\n",
    "     # csr_matrix((data, (row_ind, col_ind)), [shape=(M, N)])\n",
    "     # where data, row_ind and col_ind satisfy the relationship a[row_ind[k], col_ind[k]] = data[k].\n",
    "     # https://docs.scipy.org/doc/scipy/reference/generated/scipy.sparse.csr_matrix.html"
   ]
  },
  {
   "cell_type": "code",
   "execution_count": 8,
   "metadata": {},
   "outputs": [
    {
     "data": {
      "text/plain": [
       "array([[27.67822262, 14.88706085, 12.4106887 ,  0.        ,  0.02896219,\n",
       "        14.72293576,  0.        , 12.78438524,  0.65722913]])"
      ]
     },
     "execution_count": 8,
     "metadata": {},
     "output_type": "execute_result"
    }
   ],
   "source": [
    "word_indices = [map_index_to_word[word] for word in tweet.keys()]\n",
    "corpus[35817,word_indices].toarray()"
   ]
  },
  {
   "cell_type": "code",
   "execution_count": 9,
   "metadata": {},
   "outputs": [
    {
     "data": {
      "text/plain": [
       "array([[0.        , 0.        , 0.        , ..., 0.00096541, 0.        ,\n",
       "        0.        ]])"
      ]
     },
     "execution_count": 9,
     "metadata": {},
     "output_type": "execute_result"
    }
   ],
   "source": [
    "from scipy.sparse import csr_matrix\n",
    "tweet_tf_idf = csr_matrix( (list(tweet.values()), ([0]*len(word_indices), word_indices)), shape=(1, corpus.shape[1]) )\n",
    "tweet_tf_idf.toarray()"
   ]
  },
  {
   "cell_type": "markdown",
   "metadata": {},
   "source": [
    "**Exercice 3-2: Calculer la distance cosinus entre ces deux documents**"
   ]
  },
  {
   "cell_type": "code",
   "execution_count": null,
   "metadata": {},
   "outputs": [],
   "source": [
    "# Compléter cette cellule ~ 2-3 lignes de code"
   ]
  },
  {
   "cell_type": "raw",
   "metadata": {},
   "source": [
    "# 1. Obtenir obama_tf_idf\n",
    "# 2. Utiliser fn sklearn cosine_distance"
   ]
  },
  {
   "cell_type": "code",
   "execution_count": 10,
   "metadata": {},
   "outputs": [
    {
     "data": {
      "text/plain": [
       "array([[0.70591838]])"
      ]
     },
     "execution_count": 10,
     "metadata": {},
     "output_type": "execute_result"
    }
   ],
   "source": [
    "from sklearn.metrics.pairwise import cosine_distances\n",
    "\n",
    "obama_tf_idf = corpus[35817]\n",
    "cosine_distances(obama_tf_idf, tweet_tf_idf)"
   ]
  },
  {
   "cell_type": "markdown",
   "metadata": {},
   "source": [
    "**Exercice 3-3: Comparer cette distance avec les 10 plus proches voisins trouvés à la question 2-2**"
   ]
  },
  {
   "cell_type": "code",
   "execution_count": null,
   "metadata": {},
   "outputs": [],
   "source": [
    "# Compléter cette cellule ~ 1-2 lignes de code"
   ]
  },
  {
   "cell_type": "code",
   "execution_count": null,
   "metadata": {},
   "outputs": [],
   "source": [
    "distances, indices = model_cosine.kneighbors(obama_tf_idf, n_neighbors=10)\n",
    "distances"
   ]
  },
  {
   "cell_type": "markdown",
   "metadata": {},
   "source": [
    "Avec le **distance cosinus**, le tweet est \"plus proche\" de Barack Obama que de tout le monde, à l'exception de Joe Biden! Ce n'est probablement pas quelque chose que nous souhaitons. Si quelqu'un lit la page Wikipedia de Barack Obama, voudriez-vous lui recommander de lire ce tweet? Ignorer complètement les longueurs d'article a entraîné des résultats absurdes. En pratique, il est courant d'appliquer des longueurs de document maximales ou minimales. Après tout, quand quelqu'un lit un long article de The Atlantic, vous ne lui recommanderiez pas un tweet."
   ]
  },
  {
   "cell_type": "markdown",
   "metadata": {},
   "source": [
    "## Fin de l'atelier 02-02-A2"
   ]
  }
 ],
 "metadata": {
  "kernelspec": {
   "display_name": "Python 3 (ipykernel)",
   "language": "python",
   "name": "python3"
  },
  "language_info": {
   "codemirror_mode": {
    "name": "ipython",
    "version": 3
   },
   "file_extension": ".py",
   "mimetype": "text/x-python",
   "name": "python",
   "nbconvert_exporter": "python",
   "pygments_lexer": "ipython3",
   "version": "3.11.2"
  }
 },
 "nbformat": 4,
 "nbformat_minor": 4
}
