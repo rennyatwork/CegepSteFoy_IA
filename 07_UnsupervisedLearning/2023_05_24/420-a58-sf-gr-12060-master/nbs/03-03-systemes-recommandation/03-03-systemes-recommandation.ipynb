{
 "cells": [
  {
   "cell_type": "markdown",
   "metadata": {},
   "source": [
    "**420-A58-SF - Algorithmes d'apprentissage non supervisé - Hiver 2023 - Spécialisation technique en Intelligence Artificielle**<br/>\n",
    "MIT License - Copyright (c) 2023 Mikaël Swawola\n",
    "<br/>\n",
    "![Travaux Pratiques - Systèmes de recommandation](static/03-03-banner.png)\n",
    "<br/>\n",
    "**Objectif: Implémenter et évaluer l'algorithme de filtrage collaboratif sur un jeu de données constitué de notations de films et effectuer des prédictions sur de nouveaux utilisateurs**"
   ]
  },
  {
   "cell_type": "code",
   "execution_count": 3,
   "metadata": {},
   "outputs": [],
   "source": [
    "%reload_ext autoreload\n",
    "%autoreload 2\n",
    "%matplotlib inline\n",
    "import pandas as pd\n",
    "import numpy as np"
   ]
  },
  {
   "cell_type": "markdown",
   "metadata": {},
   "source": [
    "## 1 - Chargement et exploration sommaire des données"
   ]
  },
  {
   "cell_type": "markdown",
   "metadata": {},
   "source": [
    "Nous commencons par charger le jeu de données des notations de films et essayons de comprendre la structure des données"
   ]
  },
  {
   "cell_type": "markdown",
   "metadata": {},
   "source": [
    "**Exercice 1-1 - À l'aide de NumPy, chargez le jeu de données contenu dans le fichier `movies.npz`. Quels tableaux sont disponibles dans ce fichier ?**"
   ]
  },
  {
   "cell_type": "code",
   "execution_count": 7,
   "metadata": {},
   "outputs": [
    {
     "data": {
      "text/plain": [
       "['Y', 'R']"
      ]
     },
     "execution_count": 7,
     "metadata": {},
     "output_type": "execute_result"
    }
   ],
   "source": [
    "# Compléter cette cellule ~ 2 lignes de code\n",
    "data = np.load('../../data/movies.npz')\n",
    "data.files"
   ]
  },
  {
   "cell_type": "markdown",
   "metadata": {},
   "source": [
    "**Exercice 1-2 - Quelles sont les dimensions respectives des tableaux contenus dans l'objet `movies` ?**"
   ]
  },
  {
   "cell_type": "code",
   "execution_count": 32,
   "metadata": {},
   "outputs": [
    {
     "data": {
      "text/plain": [
       "array([[1, 1, 0, ..., 1, 0, 0],\n",
       "       [1, 0, 0, ..., 0, 0, 1],\n",
       "       [1, 0, 0, ..., 0, 0, 0],\n",
       "       ...,\n",
       "       [0, 0, 0, ..., 0, 0, 0],\n",
       "       [0, 0, 0, ..., 0, 0, 0],\n",
       "       [0, 0, 0, ..., 0, 0, 0]], dtype=uint8)"
      ]
     },
     "execution_count": 32,
     "metadata": {},
     "output_type": "execute_result"
    }
   ],
   "source": [
    "# Compléter cette cellule ~ 2 lignes de code\n",
    "\n",
    "len(data['Y'])\n",
    "## Y:  1682 * 943\n",
    "\n",
    "#len(data['R'][0])\n",
    "data['R']\n",
    "## R: 1682 * 943\n",
    "\n",
    "### 1682 movies, 943 ratings"
   ]
  },
  {
   "cell_type": "code",
   "execution_count": 33,
   "metadata": {},
   "outputs": [
    {
     "data": {
      "text/plain": [
       "array([[5, 4, 0, ..., 5, 0, 0],\n",
       "       [3, 0, 0, ..., 0, 0, 5],\n",
       "       [4, 0, 0, ..., 0, 0, 0],\n",
       "       ...,\n",
       "       [0, 0, 0, ..., 0, 0, 0],\n",
       "       [0, 0, 0, ..., 0, 0, 0],\n",
       "       [0, 0, 0, ..., 0, 0, 0]], dtype=uint8)"
      ]
     },
     "execution_count": 33,
     "metadata": {},
     "output_type": "execute_result"
    }
   ],
   "source": [
    "data['Y']"
   ]
  },
  {
   "cell_type": "markdown",
   "metadata": {},
   "source": [
    "**Exercice 1-3 - Quel est le type de notation utilisée ?**"
   ]
  },
  {
   "cell_type": "code",
   "execution_count": 39,
   "metadata": {},
   "outputs": [
    {
     "name": "stdout",
     "output_type": "stream",
     "text": [
      "[0 1 2 3 4 5]\n",
      "[0 1]\n"
     ]
    }
   ],
   "source": [
    "# Compléter cette cellule ~ 1 ligne de code\n",
    "print(np.unique(data['Y']))\n",
    "print(np.unique(data['R']))"
   ]
  },
  {
   "cell_type": "markdown",
   "metadata": {},
   "source": [
    "**Exercice 1-4 - Calculer la moyenne des notes du premier film. Identifiez ce film à l'aide du fichier movie_ids.txt**"
   ]
  },
  {
   "cell_type": "code",
   "execution_count": 43,
   "metadata": {},
   "outputs": [
    {
     "data": {
      "text/plain": [
       "3.8783185840707963"
      ]
     },
     "execution_count": 43,
     "metadata": {},
     "output_type": "execute_result"
    }
   ],
   "source": [
    "# Compléter cette cellule ~ 1-4 lignes de code\n",
    "Y_ = data['Y']\n",
    "R_ = data['R']\n",
    "\n",
    "## wrong\n",
    "Y_[0,].mean()\n",
    "\n",
    "## correct (considers only rated movies)\n",
    "mask = R_[0,] ==1\n",
    "Y_[0, mask].mean()\n",
    "#dfMovies = pd.read_csv('../../data/movie_ids.txt', encoding=\"ISO-8859-1\")\n",
    "#dfMovies = pd.read_csv('../../data/movie_ids.txt', encoding=\"utf-8\")\n",
    "#dfMovies"
   ]
  },
  {
   "cell_type": "code",
   "execution_count": 44,
   "metadata": {},
   "outputs": [
    {
     "name": "stdout",
     "output_type": "stream",
     "text": [
      "1 Toy Story (1995)\n",
      "2 GoldenEye (1995)\n",
      "3 Four Rooms (1995)\n",
      "4 Get Shorty (1995)\n",
      "5 Copycat (1995)\n",
      "6 Shanghai Triad (Yao a yao yao dao waipo qiao) (1995)\n",
      "7 Twelve Monkeys (1995)\n",
      "8 Babe (1995)\n",
      "9 Dead Man Walking (1995)\n",
      "10 Richard III (1995)\n"
     ]
    }
   ],
   "source": [
    "!cat ../../data/movie_ids.txt | head"
   ]
  },
  {
   "cell_type": "markdown",
   "metadata": {},
   "source": [
    "**Exercice 1-5 - À l'aide d'une méthode de votre choix, afficher la matrice d'utilité. Que constatez-vous ?**"
   ]
  },
  {
   "cell_type": "code",
   "execution_count": 45,
   "metadata": {},
   "outputs": [
    {
     "data": {
      "text/plain": [
       "<matplotlib.image.AxesImage at 0x7fa275242320>"
      ]
     },
     "execution_count": 45,
     "metadata": {},
     "output_type": "execute_result"
    },
    {
     "data": {
      "image/png": "[encoded data removed]",
      "text/plain": [
       "<Figure size 640x480 with 1 Axes>"
      ]
     },
     "metadata": {},
     "output_type": "display_data"
    }
   ],
   "source": [
    "# Compléter cette cellule ~ 1-2 lignes de code\n",
    "import matplotlib.pyplot as plt\n",
    "plt.imshow(Y_, cmap='hot')\n",
    "\n",
    "## l'image est stratifiée\n",
    "## Un échantillonage doit être aléatoire sinon on peut prendre un échantillon pas répresentatif"
   ]
  },
  {
   "cell_type": "markdown",
   "metadata": {},
   "source": [
    "## 2 - Filtrage collaboratif"
   ]
  },
  {
   "cell_type": "markdown",
   "metadata": {},
   "source": [
    "Nous allons maintenant implémenter l'algorithme de filtrage collaboratif. Afin de faciliter la tâche, nous allons y aller en plusieurs étapes ;-)"
   ]
  },
  {
   "cell_type": "markdown",
   "metadata": {},
   "source": [
    "**Exercice 2-1 - \"Retirer\" des données du jeu d'entraînement pour constituer un jeu de test. Prenez 10% des notes pour le test**"
   ]
  },
  {
   "cell_type": "code",
   "execution_count": 46,
   "metadata": {},
   "outputs": [],
   "source": [
    "from sklearn.model_selection import train_test_split"
   ]
  },
  {
   "cell_type": "code",
   "execution_count": 48,
   "metadata": {},
   "outputs": [],
   "source": [
    "# Compléter cette cellule ~ 1-2 lignes de code\n",
    "def get_train_test(pDfX, pDfY, pTestSize, pRandomState= np.random.seed(2023)):\n",
    "    X = pDfX\n",
    "    y = pDfY\n",
    "\n",
    "    X_train, X_test, y_train, y_test = train_test_split(X, y, test_size=pTestSize, random_state =pRandomState)\n",
    "    return X_train, X_test, y_train, y_test"
   ]
  },
  {
   "cell_type": "code",
   "execution_count": 70,
   "metadata": {},
   "outputs": [
    {
     "name": "stdout",
     "output_type": "stream",
     "text": [
      "(array([   0,    0,    0, ..., 1679, 1680, 1681]), array([  0,   1,   4, ..., 862, 895, 915]))\n"
     ]
    }
   ],
   "source": [
    "# 1. Trouver les coordonnés de notes\n",
    "# 2. Choisir 10% de ces notes au hasard\n",
    "# 3. Enlever les notes choisies au 2. du jeu de données\n",
    "\n",
    "#1\n",
    "coord_notes = np.where(R_==1)\n",
    "indexes = coord_notes\n",
    "print(coord_notes)\n",
    "\n",
    "#2\n",
    "test_indices = np.random.choice(len(coord_notes), int(len(coord_notes)*0.1), replace=False)\n",
    "test0 = indexes[0][test_indices]\n",
    "test1 = indexes[1][test_indices]\n",
    "#test10 = indexes[10][test_indices]\n",
    "\n",
    "#3\n",
    "R = R_.copy()\n",
    "## retirer les notes de test\n",
    "R[test0, test1]=0\n",
    "R.sum()\n",
    "\n",
    "\n",
    "Y = Y_.copy()\n",
    "\n",
    "#mask2 = R_[:,] ==1\n",
    "#len(Y_[mask2])"
   ]
  },
  {
   "cell_type": "markdown",
   "metadata": {},
   "source": [
    "**Exercice 2-2 - Initialiser les variables `n_movies`, `n_users`. Initialiez aussi n (nombre de features du vecteur profile) à 10**"
   ]
  },
  {
   "cell_type": "code",
   "execution_count": 75,
   "metadata": {},
   "outputs": [],
   "source": [
    "# Compléter cette cellule ~ 3 lignes de code\n",
    "Y.shape[0]\n",
    "n_movies = Y.shape[0] \n",
    "n_users = Y.shape[1]\n",
    "n = 10"
   ]
  },
  {
   "cell_type": "markdown",
   "metadata": {},
   "source": [
    "**Exercice 2-3 - Initialiser aléatoirement les vecteurs $\\theta$ et $X$**"
   ]
  },
  {
   "cell_type": "code",
   "execution_count": 78,
   "metadata": {},
   "outputs": [
    {
     "name": "stdout",
     "output_type": "stream",
     "text": [
      "theta:  (943, 10)\n",
      "X:  (1682, 10)\n"
     ]
    }
   ],
   "source": [
    "# Compléter cette cellule ~ 2-3 lignes de code\n",
    "theta = np.random.rand(n_users,n)\n",
    "theta.shape\n",
    "theta[0]\n",
    "## theta ne sont pas les notes, c'est la matrice qui représente le profil de l'utilisateur\n",
    "\n",
    "X = np.random.rand(n_movies, n)\n",
    "\n",
    "print(f'theta:  {theta.shape}')\n",
    "print(f'X:  {X.shape}')"
   ]
  },
  {
   "cell_type": "markdown",
   "metadata": {},
   "source": [
    "**Exercice 2-4 - Calculer la fonction de coût non régularisée telle que vue en cours**"
   ]
  },
  {
   "cell_type": "code",
   "execution_count": 81,
   "metadata": {},
   "outputs": [
    {
     "name": "stdout",
     "output_type": "stream",
     "text": [
      "(1682, 943)\n"
     ]
    },
    {
     "data": {
      "text/plain": [
       "137852.8550778349"
      ]
     },
     "execution_count": 81,
     "metadata": {},
     "output_type": "execute_result"
    }
   ],
   "source": [
    "# Compléter cette cellule ~ 3 lignes de code\n",
    "print(np.dot(X, theta.T).shape)\n",
    "J = (np.dot(X, theta.T) - Y)\n",
    "J = J**2\n",
    "J = R*J\n",
    "J = J.sum()/2\n",
    "J"
   ]
  },
  {
   "cell_type": "markdown",
   "metadata": {},
   "source": [
    "**Exercice 2-5 - Ajouter les termes de régularisation au coût calculé précédemment. Prenez $\\lambda=10$**"
   ]
  },
  {
   "cell_type": "code",
   "execution_count": 84,
   "metadata": {},
   "outputs": [
    {
     "data": {
      "text/plain": [
       "181747.6833464732"
      ]
     },
     "execution_count": 84,
     "metadata": {},
     "output_type": "execute_result"
    }
   ],
   "source": [
    "# Compléter cette cellule ~ 1-2 lignes de code\n",
    "L = 10\n",
    "J_reg = J + (L/2)*(X**2).sum() + (L/2)*(theta**2).sum()\n",
    "J_reg\n"
   ]
  },
  {
   "cell_type": "markdown",
   "metadata": {},
   "source": [
    "**Exercice 2-6 - À l'aide des question précédentes, complétez la fonction `cost_reg_func()` permettant de calculer le coût régularisé. Notez que pour faciliter l'étape d'apprentissage plus bas dans le notebook, cette fonction n'accepte les paramètres que sous la forme d'un seul vecteur.**"
   ]
  },
  {
   "cell_type": "code",
   "execution_count": 85,
   "metadata": {},
   "outputs": [],
   "source": [
    "def cost_reg_func(parameters, *args):\n",
    "    # Compléter le code ci-dessous ~ 1-4 lignes de code\n",
    "    # Obtient les arguments de la fonction\n",
    "    Y, R, L, n_movies, n_users, n = args\n",
    "\n",
    "    # \"Déroule\" le vecteur de paramètres\n",
    "    parameters = parameters.reshape(n_movies + n_users, n)\n",
    "\n",
    "    # \"Sépare\" X et theta\n",
    "    X = parameters[:n_movies,:]\n",
    "    theta = parameters[n_movies:,]\n",
    "\n",
    "    J = (np.dot(X, theta.T) - Y)\n",
    "    J = J**2\n",
    "    J = R*J\n",
    "    J = J.sum()/2\n",
    "\n",
    "    J_reg = J + (L/2)*(X**2).sum() + (L/2)*(theta**2).sum()\n",
    "\n",
    "    return J_reg\n",
    "    "
   ]
  },
  {
   "cell_type": "markdown",
   "metadata": {},
   "source": [
    "La cellule ci-dessous permet de tester la fonction `cost_reg_func`. Vous devriez obtenir une valuer identique à celle de la **question 2-3**"
   ]
  },
  {
   "cell_type": "code",
   "execution_count": 86,
   "metadata": {},
   "outputs": [
    {
     "data": {
      "text/plain": [
       "181747.6833464732"
      ]
     },
     "execution_count": 86,
     "metadata": {},
     "output_type": "execute_result"
    }
   ],
   "source": [
    "parameters = np.vstack([X, theta]).flatten()\n",
    "cost_reg_func(parameters, *(Y, R, 10, n_movies, n_users, n))"
   ]
  },
  {
   "cell_type": "markdown",
   "metadata": {},
   "source": [
    "**Exercice 2-7 - Calculez les gradient non régularisés de $X$ et $\\theta$**"
   ]
  },
  {
   "cell_type": "code",
   "execution_count": null,
   "metadata": {},
   "outputs": [],
   "source": [
    "# Compléter cette cellule ~ 2-4 lignes de code"
   ]
  },
  {
   "cell_type": "markdown",
   "metadata": {},
   "source": [
    "**Exercice 2-8 - Ajoutez la régularisation aux gradients calculés précédemment**"
   ]
  },
  {
   "cell_type": "code",
   "execution_count": null,
   "metadata": {},
   "outputs": [],
   "source": [
    "# Compléter cette cellule ~ 2-3 lignes de code"
   ]
  },
  {
   "cell_type": "markdown",
   "metadata": {},
   "source": [
    "**Exercice 2-9 - À l'aide des question précédentes, complétez la fonction `grad_reg_func()` permettant de calculer les gradients régularisés. Comme pour l'exercice 2-4, notez que pour faciliter l'étape d'apprentissage plus bas dans le notebook, cette fonction n'accepte les paramètres que sous la forme d'un seul vecteur.**"
   ]
  },
  {
   "cell_type": "code",
   "execution_count": null,
   "metadata": {},
   "outputs": [],
   "source": [
    "def grad_reg_func(parameters, *args):\n",
    "    # Compléter le code ci-dessous ~ 6 lignes de code\n",
    "     # Obtient les arguments de la fonction\n",
    "    Y, R, L, n_movies, n_users, n = args\n",
    "\n",
    "    # \"Déroule\" le vecteur de paramètres\n",
    "    parameters = parameters.reshape(n_movies + n_users, n)\n",
    "\n",
    "    # \"Sépare\" X et theta\n",
    "    X = parameters[:n_movies,:]\n",
    "    theta = parameters[n_movies:,]\n",
    "\n",
    "    \n",
    "    None"
   ]
  },
  {
   "cell_type": "markdown",
   "metadata": {},
   "source": [
    "La cellule ci-dessous permet de tester la fonction `grad_reg_func`. "
   ]
  },
  {
   "cell_type": "code",
   "execution_count": null,
   "metadata": {},
   "outputs": [],
   "source": [
    "parameters = np.vstack([X, theta]).flatten()\n",
    "grad_reg_func(parameters, *(Y, R, 10, n_movies, n_users, n))"
   ]
  },
  {
   "cell_type": "markdown",
   "metadata": {},
   "source": [
    "## 3 - Entraînement du filtrage collaboratif (optionnel)"
   ]
  },
  {
   "cell_type": "markdown",
   "metadata": {},
   "source": [
    "Maintenant que nous avons les fonctions `cost_reg_func` et `grad_reg_func`, nous pouvons procéder à la phase d'entraînement de note système de recommandation basé sur le filtrage collaboratif. Pour rappel, nous devons trouver la valeur des paramètres qui minimisent la fonction de coût."
   ]
  },
  {
   "cell_type": "markdown",
   "metadata": {},
   "source": [
    "**Exercice 3-1: Avant d'entraîner votre modèle, normalisez par la moyenne les notes du jeu de données. N'oubliez pas que certaines données ont été réservées au test**"
   ]
  },
  {
   "cell_type": "code",
   "execution_count": null,
   "metadata": {},
   "outputs": [],
   "source": [
    "# Compléter cette cellule ~ 4-5 lignes de code"
   ]
  },
  {
   "cell_type": "markdown",
   "metadata": {},
   "source": [
    "**Exercice 3-2: Entraînez votre modèle à l'aide de la fonction `fmin_cg` de la librairie SciPy. Référez-vous à la documentation ci-dessous pour les détails de mise en oeuvre. Prenez $\\lambda=10$**<br/>\n",
    "[scipy.optimize.fmin_cg](https://docs.scipy.org/doc/scipy/reference/generated/scipy.optimize.fmin_cg.html)<br/>\n",
    "**Remarque: selon votre machine, l'optimisation peut durer plusieurs minutes**"
   ]
  },
  {
   "cell_type": "code",
   "execution_count": null,
   "metadata": {},
   "outputs": [],
   "source": [
    "# Compléter la cellule ci-dessous"
   ]
  },
  {
   "cell_type": "markdown",
   "metadata": {},
   "source": [
    "## 4 - Effectuer les prédiction"
   ]
  },
  {
   "cell_type": "markdown",
   "metadata": {},
   "source": [
    "**Exercice 4-1 - À l'aide des éléments vus en cours, effectuez les prédictions (vous devrez d'abord \"extraire\" les vecteur $X$ et $\\theta$ du modèle. Calculez la moyenne des prédictions pour le premier film de la liste. Comparez avec la valeur obtenue à l'exercice 1-4**"
   ]
  },
  {
   "cell_type": "code",
   "execution_count": null,
   "metadata": {},
   "outputs": [],
   "source": [
    "# Compléter cette cellule ~ 1-2 lignes de code"
   ]
  },
  {
   "cell_type": "markdown",
   "metadata": {},
   "source": [
    "**Exercice 4-2 - Calculez l'erreur de prédiction sur le jeu de test.Choisissez une métrique appropriée**"
   ]
  },
  {
   "cell_type": "code",
   "execution_count": null,
   "metadata": {},
   "outputs": [],
   "source": [
    "# Compléter cette cellule ~ 2-4 lignes de code"
   ]
  },
  {
   "cell_type": "markdown",
   "metadata": {},
   "source": [
    "## 5 - Recommandation basée sur le contenu"
   ]
  },
  {
   "cell_type": "markdown",
   "metadata": {},
   "source": [
    "Nous allons maintenant ajouter un nouvel utilisateur (vous-même !) au jeu de données et apprendre le vecteurs de paramètres correspondant. Puisque nous n'ajoutons pas de nouveaux films, nous pouvons garder les vecteurs $X$ et appliquer une recommandation basée sur le contenu"
   ]
  },
  {
   "cell_type": "markdown",
   "metadata": {},
   "source": [
    "**Exercice 5-1 - En vous réferant à la liste des films, choisissez environ 10 films que vous connaissez et notez les**"
   ]
  },
  {
   "cell_type": "code",
   "execution_count": null,
   "metadata": {},
   "outputs": [],
   "source": [
    "# Compléter cette cellule ~ 2-4 lignes de code"
   ]
  },
  {
   "cell_type": "markdown",
   "metadata": {},
   "source": [
    "**Exercice 5-2 - Adaptez les fonctions `cost_reg_func` et `grad_reg_func` pour correspondre à la recommandation basée sur le contenu**"
   ]
  },
  {
   "cell_type": "code",
   "execution_count": null,
   "metadata": {},
   "outputs": [],
   "source": [
    "# Compléter cette cellule"
   ]
  },
  {
   "cell_type": "markdown",
   "metadata": {},
   "source": [
    "**Exercice 5-3 - Entraînez le modèle pour apprendre les paramètres $\\theta$ et réalisez les prédictions pour le nouvel utilisateur**"
   ]
  },
  {
   "cell_type": "code",
   "execution_count": null,
   "metadata": {},
   "outputs": [],
   "source": [
    "# Compléter cette cellule ~ 6-8 lignes de code"
   ]
  },
  {
   "cell_type": "markdown",
   "metadata": {},
   "source": [
    "## 6 - Films similaires"
   ]
  },
  {
   "cell_type": "markdown",
   "metadata": {},
   "source": [
    "**Exercice 6-1 - Trouvez le film le plus similaire à Star Wars (celui de 1977)**"
   ]
  },
  {
   "cell_type": "code",
   "execution_count": null,
   "metadata": {},
   "outputs": [],
   "source": [
    "# Compléter cette cellule ~ 10-15 lignes de code"
   ]
  },
  {
   "cell_type": "markdown",
   "metadata": {},
   "source": [
    "## Fin du TP"
   ]
  }
 ],
 "metadata": {
  "kernelspec": {
   "display_name": "Python 3.10.8 64-bit",
   "language": "python",
   "name": "python3"
  },
  "language_info": {
   "codemirror_mode": {
    "name": "ipython",
    "version": 3
   },
   "file_extension": ".py",
   "mimetype": "text/x-python",
   "name": "python",
   "nbconvert_exporter": "python",
   "pygments_lexer": "ipython3",
   "version": "3.10.8"
  },
  "vscode": {
   "interpreter": {
    "hash": "8a94588eda9d64d9e9a351ab8144e55b1fabf5113b54e67dd26a8c27df0381b3"
   }
  }
 },
 "nbformat": 4,
 "nbformat_minor": 4
}
