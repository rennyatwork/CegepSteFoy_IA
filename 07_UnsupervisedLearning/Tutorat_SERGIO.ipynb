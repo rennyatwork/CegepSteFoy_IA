{
 "cells": [
  {
   "cell_type": "markdown",
   "metadata": {},
   "source": [
    "**420-A58-SF - Algorithmes d'apprentissage non supervisé - Hiver 2023 - Spécialisation technique en Intelligence Artificielle**<br/>\n",
    "MIT License - Copyright (c) 2023 Mikaël Swawola\n",
    "<br/>"
   ]
  },
  {
   "cell_type": "markdown",
   "metadata": {},
   "source": [
    "---\n",
    "# Tutorat - Systèmes de recommandation"
   ]
  },
  {
   "cell_type": "markdown",
   "metadata": {},
   "source": [
    "On considère la matrice d'utilité Y ci-dessous. Les notes sont données par les utilisateurs Alice, Bob et Eve sur une échelle de 1 à 5. Les produits notés sont nommés a,b,c,d,e,f,g et h."
   ]
  },
  {
   "cell_type": "markdown",
   "metadata": {},
   "source": [
    "|   | Alice  | Bob  | Eve  |\n",
    "|---|---|---|---|\n",
    "| a  | 4   |   | 2  |\n",
    "| b  | 5  | 3  |   |\n",
    "| c  |   | 4  | 1  |\n",
    "| d  | 5  | 3  | 3  |\n",
    "| e  | 1  | 1  |   |\n",
    "| f  |   | 2  | 4  |\n",
    "| g  | 3  | 1  | 5  |\n",
    "| h  | 2  |   | 3  |"
   ]
  },
  {
   "cell_type": "markdown",
   "metadata": {},
   "source": [
    "### Question 1 - À l'aide de Numpy, définir les tableaux `Y` et `R` correspondant à la matrice d'utilité ci-dessus. Afficher ces deux tableaux à l'aide la commande `print`."
   ]
  },
  {
   "cell_type": "markdown",
   "metadata": {},
   "source": [
    "### ----- Votre réponse ci-dessous -----"
   ]
  },
  {
   "cell_type": "code",
   "execution_count": 19,
   "metadata": {},
   "outputs": [],
   "source": [
    "import numpy as np"
   ]
  },
  {
   "cell_type": "code",
   "execution_count": 42,
   "metadata": {},
   "outputs": [
    {
     "data": {
      "text/plain": [
       "array([[4, 0, 2],\n",
       "       [5, 3, 0],\n",
       "       [0, 4, 1],\n",
       "       [5, 3, 3],\n",
       "       [1, 1, 0],\n",
       "       [0, 2, 4],\n",
       "       [3, 1, 5],\n",
       "       [2, 0, 3]])"
      ]
     },
     "execution_count": 42,
     "metadata": {},
     "output_type": "execute_result"
    }
   ],
   "source": [
    "Y = np.array([[4, 0, 2], \n",
    "              [5, 3, 0], \n",
    "              [0, 4, 1], \n",
    "              [5, 3, 3], \n",
    "              [1, 1, 0], \n",
    "              [0, 2, 4], \n",
    "              [3, 1, 5], \n",
    "              [2, 0, 3]])\n",
    "Y"
   ]
  },
  {
   "cell_type": "code",
   "execution_count": 27,
   "metadata": {},
   "outputs": [
    {
     "name": "stdout",
     "output_type": "stream",
     "text": [
      "Y=[[4 0 2]\n",
      " [5 3 0]\n",
      " [0 4 1]\n",
      " [5 3 3]\n",
      " [1 1 0]\n",
      " [0 2 4]\n",
      " [3 1 5]\n",
      " [2 0 3]]\n"
     ]
    }
   ],
   "source": [
    "print(f'Y={Y}')"
   ]
  },
  {
   "cell_type": "code",
   "execution_count": 40,
   "metadata": {},
   "outputs": [
    {
     "data": {
      "text/plain": [
       "array([[1, 0, 1],\n",
       "       [1, 1, 0],\n",
       "       [0, 1, 1],\n",
       "       [1, 1, 1],\n",
       "       [1, 1, 0],\n",
       "       [0, 1, 1],\n",
       "       [1, 1, 1],\n",
       "       [1, 0, 1]])"
      ]
     },
     "execution_count": 40,
     "metadata": {},
     "output_type": "execute_result"
    }
   ],
   "source": [
    "R = np.array([[1, 0, 1], \n",
    "              [1, 1, 0], \n",
    "              [0, 1, 1], \n",
    "              [1, 1, 1], \n",
    "              [1, 1, 0], \n",
    "              [0, 1, 1], \n",
    "              [1, 1, 1], \n",
    "              [1, 0, 1]])\n",
    "R"
   ]
  },
  {
   "cell_type": "code",
   "execution_count": 41,
   "metadata": {},
   "outputs": [
    {
     "name": "stdout",
     "output_type": "stream",
     "text": [
      "R=[[1 0 1]\n",
      " [1 1 0]\n",
      " [0 1 1]\n",
      " [1 1 1]\n",
      " [1 1 0]\n",
      " [0 1 1]\n",
      " [1 1 1]\n",
      " [1 0 1]]\n"
     ]
    }
   ],
   "source": [
    "print(f'R={R}')"
   ]
  },
  {
   "cell_type": "code",
   "execution_count": 31,
   "metadata": {},
   "outputs": [
    {
     "data": {
      "text/plain": [
       "array([[1, 0, 1],\n",
       "       [1, 1, 0],\n",
       "       [0, 1, 1],\n",
       "       [1, 1, 1],\n",
       "       [1, 1, 0],\n",
       "       [0, 1, 1],\n",
       "       [1, 1, 1],\n",
       "       [1, 0, 1]])"
      ]
     },
     "execution_count": 31,
     "metadata": {},
     "output_type": "execute_result"
    }
   ],
   "source": [
    "np.digitize(Y, [0], right=True)"
   ]
  },
  {
   "cell_type": "markdown",
   "metadata": {},
   "source": [
    "### Question 2 - Initialiser les variables `n_produits` et `n_utilisateurs` correspondant respectivement au nombre de produits et au nombre d'utilisateurs."
   ]
  },
  {
   "cell_type": "markdown",
   "metadata": {},
   "source": [
    "### ----- Votre réponse ci-dessous -----"
   ]
  },
  {
   "cell_type": "code",
   "execution_count": 24,
   "metadata": {},
   "outputs": [
    {
     "data": {
      "text/plain": [
       "8"
      ]
     },
     "execution_count": 24,
     "metadata": {},
     "output_type": "execute_result"
    }
   ],
   "source": [
    "n_produits = Y.shape[0]\n",
    "n_produits"
   ]
  },
  {
   "cell_type": "code",
   "execution_count": 25,
   "metadata": {},
   "outputs": [
    {
     "data": {
      "text/plain": [
       "3"
      ]
     },
     "execution_count": 25,
     "metadata": {},
     "output_type": "execute_result"
    }
   ],
   "source": [
    "n_utilisateurs = Y.shape[1]\n",
    "n_utilisateurs"
   ]
  },
  {
   "cell_type": "markdown",
   "metadata": {},
   "source": [
    "### Question 3 - Normaliser la matrice `Y` en soustrayant chaque note de la matrice d'utilité par le moyenne des notes pour chaque produit. Nommez la matrice normalisée `Y_norm`. Afficher `Y_norm` à l'aide de la commande `print`."
   ]
  },
  {
   "cell_type": "markdown",
   "metadata": {},
   "source": [
    "### ----- Votre réponse ci-dessous -----"
   ]
  },
  {
   "cell_type": "code",
   "execution_count": 66,
   "metadata": {},
   "outputs": [
    {
     "data": {
      "text/plain": [
       "3.0"
      ]
     },
     "execution_count": 66,
     "metadata": {},
     "output_type": "execute_result"
    }
   ],
   "source": [
    "# La moyenne de la première ligne\n",
    "Y[0,:].sum() / R[0,:].sum()"
   ]
  },
  {
   "cell_type": "markdown",
   "metadata": {},
   "source": [
    "***Forma 1 de calcular Y_norm***"
   ]
  },
  {
   "cell_type": "code",
   "execution_count": 67,
   "metadata": {},
   "outputs": [
    {
     "data": {
      "text/plain": [
       "array([[3.        ],\n",
       "       [4.        ],\n",
       "       [2.5       ],\n",
       "       [3.66666667],\n",
       "       [1.        ],\n",
       "       [3.        ],\n",
       "       [3.        ],\n",
       "       [2.5       ]])"
      ]
     },
     "execution_count": 67,
     "metadata": {},
     "output_type": "execute_result"
    }
   ],
   "source": [
    "nombre = R.sum(axis=1)\n",
    "somme = Y.sum(axis=1)\n",
    "moyenne = (somme / nombre).reshape(-1,1)\n",
    "moyenne"
   ]
  },
  {
   "cell_type": "code",
   "execution_count": 68,
   "metadata": {},
   "outputs": [
    {
     "data": {
      "text/plain": [
       "array([[ 1.        , -3.        , -1.        ],\n",
       "       [ 1.        , -1.        , -4.        ],\n",
       "       [-2.5       ,  1.5       , -1.5       ],\n",
       "       [ 1.33333333, -0.66666667, -0.66666667],\n",
       "       [ 0.        ,  0.        , -1.        ],\n",
       "       [-3.        , -1.        ,  1.        ],\n",
       "       [ 0.        , -2.        ,  2.        ],\n",
       "       [-0.5       , -2.5       ,  0.5       ]])"
      ]
     },
     "execution_count": 68,
     "metadata": {},
     "output_type": "execute_result"
    }
   ],
   "source": [
    "Y_norm = Y - moyenne\n",
    "Y_norm"
   ]
  },
  {
   "cell_type": "markdown",
   "metadata": {},
   "source": [
    "***Forma 2 de calcular Y_norm***"
   ]
  },
  {
   "cell_type": "code",
   "execution_count": 70,
   "metadata": {},
   "outputs": [
    {
     "data": {
      "text/plain": [
       "array([[ 1.        , -3.        , -1.        ],\n",
       "       [ 1.        , -1.        , -4.        ],\n",
       "       [-2.5       ,  1.5       , -1.5       ],\n",
       "       [ 1.33333333, -0.66666667, -0.66666667],\n",
       "       [ 0.        ,  0.        , -1.        ],\n",
       "       [-3.        , -1.        ,  1.        ],\n",
       "       [ 0.        , -2.        ,  2.        ],\n",
       "       [-0.5       , -2.5       ,  0.5       ]])"
      ]
     },
     "execution_count": 70,
     "metadata": {},
     "output_type": "execute_result"
    }
   ],
   "source": [
    "R_sum = R.sum(axis=1)\n",
    "Y_sum = Y.sum(axis=1)\n",
    "\n",
    "Y_mean = Y_sum / R_sum\n",
    "Y_norm = Y - Y_mean.reshape(-1, 1)\n",
    "Y_norm"
   ]
  },
  {
   "cell_type": "markdown",
   "metadata": {},
   "source": [
    "### Question 4 - Afin d'appliquer l'algorithme de filtrage collaboratif, initialiser aléatoirement les deux matrices `X` et `theta` correspondant respectivement aux vecteurs profile des produits et aux vecteurs profile des utilisateurs. Les dimensions de ces deux matrices doivent être choisies adéquatement pour deux paramètres (n=2). Afficher les dimensions de `X` et `theta` à l'aide de la commande `print`."
   ]
  },
  {
   "cell_type": "markdown",
   "metadata": {},
   "source": [
    "### ----- Votre réponse ci-dessous -----"
   ]
  },
  {
   "cell_type": "code",
   "execution_count": 54,
   "metadata": {},
   "outputs": [],
   "source": [
    "n = 2"
   ]
  },
  {
   "cell_type": "code",
   "execution_count": 61,
   "metadata": {},
   "outputs": [],
   "source": [
    "np.random.seed(2023)\n",
    "theta = np.random.rand(n_utilisateurs, n)"
   ]
  },
  {
   "cell_type": "code",
   "execution_count": 62,
   "metadata": {},
   "outputs": [],
   "source": [
    "X = np.random.rand(n_produits, n)"
   ]
  },
  {
   "cell_type": "code",
   "execution_count": 63,
   "metadata": {},
   "outputs": [
    {
     "name": "stdout",
     "output_type": "stream",
     "text": [
      "theta: (3, 2)\n",
      "X: (8, 2)\n"
     ]
    }
   ],
   "source": [
    "print(f'theta: {theta.shape}')\n",
    "print(f'X: {X.shape}')"
   ]
  },
  {
   "cell_type": "code",
   "execution_count": 64,
   "metadata": {},
   "outputs": [
    {
     "data": {
      "text/plain": [
       "array([[0.3219883 , 0.89042245],\n",
       "       [0.58805226, 0.12659609],\n",
       "       [0.14134122, 0.46789559]])"
      ]
     },
     "execution_count": 64,
     "metadata": {},
     "output_type": "execute_result"
    }
   ],
   "source": [
    "theta"
   ]
  },
  {
   "cell_type": "code",
   "execution_count": 65,
   "metadata": {},
   "outputs": [
    {
     "data": {
      "text/plain": [
       "array([[0.02208966, 0.72727471],\n",
       "       [0.52438734, 0.54493524],\n",
       "       [0.45637326, 0.50138226],\n",
       "       [0.39446855, 0.1511723 ],\n",
       "       [0.36087518, 0.16207701],\n",
       "       [0.33795869, 0.18032328],\n",
       "       [0.3909914 , 0.03564821],\n",
       "       [0.56486165, 0.20346149]])"
      ]
     },
     "execution_count": 65,
     "metadata": {},
     "output_type": "execute_result"
    }
   ],
   "source": [
    "X"
   ]
  },
  {
   "cell_type": "markdown",
   "metadata": {},
   "source": [
    "### Question 5 - À l'aide des fonctions disponibles dans le fichier `helpers.py`, entraînez l'algorithme de filtrage collaboratif. Choisissez une régularisation `L` égale à 1. Quelle est la valeur minimale du coût obtenue ?"
   ]
  },
  {
   "cell_type": "markdown",
   "metadata": {},
   "source": [
    "### ----- Votre réponse ci-dessous -----"
   ]
  },
  {
   "cell_type": "code",
   "execution_count": 73,
   "metadata": {},
   "outputs": [
    {
     "data": {
      "text/plain": [
       "79.41864322439137"
      ]
     },
     "execution_count": 73,
     "metadata": {},
     "output_type": "execute_result"
    }
   ],
   "source": [
    "from helpers import cost_reg_func, grad_reg_func\n",
    "\n",
    "L = 1\n",
    "\n",
    "parameters = np.vstack([X, theta]).flatten()\n",
    "cost_reg_func(parameters, *(Y, R, L, n_produits, n_utilisateurs, n))"
   ]
  },
  {
   "cell_type": "code",
   "execution_count": 74,
   "metadata": {},
   "outputs": [
    {
     "data": {
      "text/plain": [
       "array([-1.28920397, -3.02657133, -2.41720455, -3.65679591, -1.79976015,\n",
       "       -0.29094044, -3.15387303, -5.76048939, -0.32842428, -0.59351056,\n",
       "       -1.25454174, -1.85457423, -1.67094545, -4.89798955, -0.36150227,\n",
       "       -2.57590727, -6.20285518, -5.18133216, -4.72288485, -4.02962169,\n",
       "       -6.17835327, -2.97062753])"
      ]
     },
     "execution_count": 74,
     "metadata": {},
     "output_type": "execute_result"
    }
   ],
   "source": [
    "parameters = np.vstack([X, theta]).flatten()\n",
    "grad_reg_func(parameters, *(Y, R, L, n_produits, n_utilisateurs, n))"
   ]
  },
  {
   "cell_type": "code",
   "execution_count": 75,
   "metadata": {},
   "outputs": [
    {
     "name": "stdout",
     "output_type": "stream",
     "text": [
      "Optimization terminated successfully.\n",
      "         Current function value: 5.392632\n",
      "         Iterations: 20\n",
      "         Function evaluations: 41\n",
      "         Gradient evaluations: 41\n"
     ]
    }
   ],
   "source": [
    "from scipy import optimize\n",
    "\n",
    "initial_parameters = np.vstack([X, theta]).flatten()\n",
    "\n",
    "model = optimize.fmin_cg(cost_reg_func, initial_parameters, fprime=grad_reg_func, args=(Y_norm, R, L, n_produits, n_utilisateurs, n))"
   ]
  },
  {
   "cell_type": "code",
   "execution_count": 77,
   "metadata": {},
   "outputs": [
    {
     "data": {
      "text/plain": [
       "array([ 5.48656621e-01,  3.89651108e-01, -1.32670916e-01,  6.64335094e-01,\n",
       "        8.55118872e-01, -3.32202886e-01,  2.92590978e-01,  7.50283890e-01,\n",
       "        1.20214598e-06, -2.27051732e-06, -5.70078950e-01,  2.21466754e-01,\n",
       "       -1.13607870e+00,  4.53336359e-01, -2.74326613e-01, -1.94828339e-01,\n",
       "        3.78962368e-01,  9.15121937e-01,  9.82154042e-01, -8.48885583e-01,\n",
       "       -1.31078075e+00,  3.03575269e-02])"
      ]
     },
     "execution_count": 77,
     "metadata": {},
     "output_type": "execute_result"
    }
   ],
   "source": [
    "model"
   ]
  },
  {
   "cell_type": "markdown",
   "metadata": {},
   "source": [
    "### Question 6 - À l'aide de la matrice de bas rang, calculez l'ensemble des prédictions."
   ]
  },
  {
   "cell_type": "markdown",
   "metadata": {},
   "source": [
    "### ----- Votre réponse ci-dessous -----"
   ]
  },
  {
   "cell_type": "code",
   "execution_count": 83,
   "metadata": {},
   "outputs": [
    {
     "data": {
      "text/plain": [
       "array([[ 5.48656621e-01,  3.89651108e-01],\n",
       "       [-1.32670916e-01,  6.64335094e-01],\n",
       "       [ 8.55118872e-01, -3.32202886e-01],\n",
       "       [ 2.92590978e-01,  7.50283890e-01],\n",
       "       [ 1.20214598e-06, -2.27051732e-06],\n",
       "       [-5.70078950e-01,  2.21466754e-01],\n",
       "       [-1.13607870e+00,  4.53336359e-01],\n",
       "       [-2.74326613e-01, -1.94828339e-01],\n",
       "       [ 3.78962368e-01,  9.15121937e-01],\n",
       "       [ 9.82154042e-01, -8.48885583e-01],\n",
       "       [-1.31078075e+00,  3.03575269e-02]])"
      ]
     },
     "execution_count": 83,
     "metadata": {},
     "output_type": "execute_result"
    }
   ],
   "source": [
    "model_ = model.reshape(n_produits+n_utilisateurs, n)\n",
    "model_"
   ]
  },
  {
   "cell_type": "code",
   "execution_count": 84,
   "metadata": {},
   "outputs": [
    {
     "data": {
      "text/plain": [
       "array([[ 5.48656621e-01,  3.89651108e-01],\n",
       "       [-1.32670916e-01,  6.64335094e-01],\n",
       "       [ 8.55118872e-01, -3.32202886e-01],\n",
       "       [ 2.92590978e-01,  7.50283890e-01],\n",
       "       [ 1.20214598e-06, -2.27051732e-06],\n",
       "       [-5.70078950e-01,  2.21466754e-01],\n",
       "       [-1.13607870e+00,  4.53336359e-01],\n",
       "       [-2.74326613e-01, -1.94828339e-01]])"
      ]
     },
     "execution_count": 84,
     "metadata": {},
     "output_type": "execute_result"
    }
   ],
   "source": [
    "X_trained = model_[:n_produits,:]\n",
    "X_trained"
   ]
  },
  {
   "cell_type": "code",
   "execution_count": 85,
   "metadata": {},
   "outputs": [
    {
     "data": {
      "text/plain": [
       "array([[ 0.37896237,  0.91512194],\n",
       "       [ 0.98215404, -0.84888558],\n",
       "       [-1.31078075,  0.03035753]])"
      ]
     },
     "execution_count": 85,
     "metadata": {},
     "output_type": "execute_result"
    }
   ],
   "source": [
    "theta_trained = model_[n_produits:,:]\n",
    "theta_trained"
   ]
  },
  {
   "cell_type": "code",
   "execution_count": 86,
   "metadata": {},
   "outputs": [
    {
     "data": {
      "text/plain": [
       "array([[ 5.64498489e-01,  2.08096110e-01, -7.07339693e-01],\n",
       "       [ 5.57670334e-01, -6.94247760e-01,  1.94070053e-01],\n",
       "       [ 2.00517241e-02,  1.12186070e+00, -1.13095821e+00],\n",
       "       [ 7.97482217e-01, -3.49535766e-01, -3.60745858e-01],\n",
       "       [-1.62223212e-06,  3.10810196e-06, -1.64467710e-06],\n",
       "       [-1.33693837e-02, -7.47905279e-01,  7.53971696e-01],\n",
       "       [-1.56730289e-02, -1.50063499e+00,  1.50291227e+00],\n",
       "       [-2.82251149e-01, -1.04044024e-01,  3.53667537e-01]])"
      ]
     },
     "execution_count": 86,
     "metadata": {},
     "output_type": "execute_result"
    }
   ],
   "source": [
    "predictions = np.dot(X_trained, theta_trained.T)\n",
    "predictions"
   ]
  },
  {
   "cell_type": "markdown",
   "metadata": {},
   "source": [
    "**La recomendacion:**"
   ]
  },
  {
   "cell_type": "code",
   "execution_count": 90,
   "metadata": {},
   "outputs": [
    {
     "name": "stdout",
     "output_type": "stream",
     "text": [
      "[[3.56449849 3.20809611 2.29266031]\n",
      " [4.55767033 3.30575224 4.19407005]\n",
      " [2.52005172 3.6218607  1.36904179]\n",
      " [4.46414888 3.3171309  3.30592081]\n",
      " [0.99999838 1.00000311 0.99999836]\n",
      " [2.98663062 2.25209472 3.7539717 ]\n",
      " [2.98432697 1.49936501 4.50291227]\n",
      " [2.21774885 2.39595598 2.85366754]]\n"
     ]
    }
   ],
   "source": [
    "print(predictions + Y_mean.reshape(-1,1))"
   ]
  },
  {
   "cell_type": "code",
   "execution_count": 91,
   "metadata": {},
   "outputs": [
    {
     "data": {
      "text/plain": [
       "array([[4, 0, 2],\n",
       "       [5, 3, 0],\n",
       "       [0, 4, 1],\n",
       "       [5, 3, 3],\n",
       "       [1, 1, 0],\n",
       "       [0, 2, 4],\n",
       "       [3, 1, 5],\n",
       "       [2, 0, 3]])"
      ]
     },
     "execution_count": 91,
     "metadata": {},
     "output_type": "execute_result"
    }
   ],
   "source": [
    "Y"
   ]
  },
  {
   "cell_type": "code",
   "execution_count": 87,
   "metadata": {},
   "outputs": [
    {
     "data": {
      "text/plain": [
       "3.0217516353477243"
      ]
     },
     "execution_count": 87,
     "metadata": {},
     "output_type": "execute_result"
    }
   ],
   "source": [
    "predictions[0,:].mean() + Y_mean[0]"
   ]
  },
  {
   "cell_type": "code",
   "execution_count": 89,
   "metadata": {},
   "outputs": [
    {
     "data": {
      "text/plain": [
       "3.0"
      ]
     },
     "execution_count": 89,
     "metadata": {},
     "output_type": "execute_result"
    }
   ],
   "source": [
    "Y[0,:].sum() / R[0,:].sum()"
   ]
  },
  {
   "cell_type": "markdown",
   "metadata": {},
   "source": [
    "### Question 7 - Calculez et affichez le RMSE."
   ]
  },
  {
   "cell_type": "markdown",
   "metadata": {},
   "source": [
    "### ----- Votre réponse ci-dessous -----"
   ]
  },
  {
   "cell_type": "code",
   "execution_count": 93,
   "metadata": {},
   "outputs": [
    {
     "data": {
      "text/plain": [
       "1.4694850682587397"
      ]
     },
     "execution_count": 93,
     "metadata": {},
     "output_type": "execute_result"
    }
   ],
   "source": [
    "from sklearn.metrics import mean_squared_error\n",
    "\n",
    "\n",
    "mean_squared_error(Y_norm, predictions, squared=False)"
   ]
  },
  {
   "cell_type": "code",
   "execution_count": null,
   "metadata": {},
   "outputs": [],
   "source": [
    "nombre = R.sum(axis=1)\n",
    "somme = Y.sum(axis=1)\n",
    "moyenne = (somme / nombre).reshape(-1,1)\n",
    "moyenne\n"
   ]
  },
  {
   "cell_type": "code",
   "execution_count": 88,
   "metadata": {},
   "outputs": [
    {
     "ename": "NameError",
     "evalue": "name 'test_0' is not defined",
     "output_type": "error",
     "traceback": [
      "\u001b[0;31m---------------------------------------------------------------------------\u001b[0m",
      "\u001b[0;31mNameError\u001b[0m                                 Traceback (most recent call last)",
      "Cell \u001b[0;32mIn [88], line 2\u001b[0m\n\u001b[1;32m      1\u001b[0m \u001b[38;5;66;03m#res = (predictions[test_0, test_1] - Y_norm[test_0, test_1])\u001b[39;00m\n\u001b[0;32m----> 2\u001b[0m res \u001b[38;5;241m=\u001b[39m (predictions[\u001b[43mtest_0\u001b[49m, test_1] \u001b[38;5;241m-\u001b[39m Y_norm[test_0, test_1])\n\u001b[1;32m      3\u001b[0m rss \u001b[38;5;241m=\u001b[39m (res\u001b[38;5;241m*\u001b[39m\u001b[38;5;241m*\u001b[39m\u001b[38;5;241m2\u001b[39m)\u001b[38;5;241m.\u001b[39msum()\n\u001b[1;32m      4\u001b[0m mse \u001b[38;5;241m=\u001b[39m rss \u001b[38;5;241m/\u001b[39m test_0\u001b[38;5;241m.\u001b[39mshape[\u001b[38;5;241m0\u001b[39m]\n",
      "\u001b[0;31mNameError\u001b[0m: name 'test_0' is not defined"
     ]
    }
   ],
   "source": [
    "#res = (predictions[test_0, test_1] - Y_norm[test_0, test_1])\n",
    "res = (predictions[test_0, test_1] - Y_norm[test_0, test_1])\n",
    "rss = (res**2).sum()\n",
    "mse = rss / test_0.shape[0]\n",
    "rmse = np.sqrt(mse)\n",
    "rmse"
   ]
  },
  {
   "cell_type": "markdown",
   "metadata": {},
   "source": [
    "### Question 8 - Ajoutez un nouvel utilisateur nommé David. Quelle recommandation lui sera faite pour le produit \"e\" ? Entrainez à nouveau le modèle."
   ]
  },
  {
   "cell_type": "markdown",
   "metadata": {},
   "source": [
    "### ----- Votre réponse ci-dessous -----"
   ]
  },
  {
   "cell_type": "code",
   "execution_count": null,
   "metadata": {},
   "outputs": [],
   "source": []
  },
  {
   "cell_type": "markdown",
   "metadata": {},
   "source": [
    "### Question 9 - Trouver le plus proche voisin du produit \"h\" à l'aide d'un diagramme en nuage de points. Confirmer la lectture du graphique par une méthode analytique."
   ]
  },
  {
   "cell_type": "markdown",
   "metadata": {},
   "source": [
    "### ----- Votre réponse ci-dessous -----"
   ]
  },
  {
   "cell_type": "code",
   "execution_count": null,
   "metadata": {},
   "outputs": [],
   "source": []
  }
 ],
 "metadata": {
  "kernelspec": {
   "display_name": "Python 3 (ipykernel)",
   "language": "python",
   "name": "python3"
  },
  "language_info": {
   "codemirror_mode": {
    "name": "ipython",
    "version": 3
   },
   "file_extension": ".py",
   "mimetype": "text/x-python",
   "name": "python",
   "nbconvert_exporter": "python",
   "pygments_lexer": "ipython3",
   "version": "3.11.3"
  }
 },
 "nbformat": 4,
 "nbformat_minor": 4
}
