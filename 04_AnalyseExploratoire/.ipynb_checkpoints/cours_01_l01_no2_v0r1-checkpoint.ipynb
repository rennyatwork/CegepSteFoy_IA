{
 "cells": [
  {
   "cell_type": "code",
   "execution_count": 1,
   "id": "c383014d-470c-4261-951c-9f47f5c71597",
   "metadata": {},
   "outputs": [],
   "source": [
    "# -*- coding: utf-8 -*-\n",
    "\"\"\"\n",
    "Created on Sun Mar  7 16:28:50 2021\n",
    "\n",
    "@author: pmarc\n",
    "\"\"\"\n",
    "\n",
    "import numpy as np\n",
    "import pandas as pd"
   ]
  },
  {
   "cell_type": "code",
   "execution_count": 2,
   "id": "8b825fb4-0a3f-4b46-bd27-36de10bdb3f4",
   "metadata": {},
   "outputs": [],
   "source": [
    "# r'epertoire fichiers\n",
    "dataPath = '/home/hduser/Documents/CegepSteFoy/Module04/01/Fichiers/'"
   ]
  },
  {
   "cell_type": "code",
   "execution_count": null,
   "id": "da8c98ea-eb94-4304-9e91-d76314e314db",
   "metadata": {},
   "outputs": [],
   "source": []
  },
  {
   "cell_type": "code",
   "execution_count": 3,
   "id": "32ebf7d3-8faa-468d-80b8-7510cfe16c94",
   "metadata": {},
   "outputs": [],
   "source": [
    "#Calcul des ventes totales \n",
    "\n",
    "donnee_ste_foy = pd.read_csv(dataPath+'VentesBoulangerieSte_Foy.csv', index_col=0)\n",
    "donnee_lac_beauport = pd.read_csv(dataPath+'VentesBoulangerieLacBeauport.csv', index_col=0)\n",
    "\n",
    "ventes_totales=donnee_ste_foy+donnee_lac_beauport"
   ]
  },
  {
   "cell_type": "code",
   "execution_count": 4,
   "id": "582c3c0b-9e3c-4ddd-b286-8c98b91fe470",
   "metadata": {},
   "outputs": [],
   "source": [
    "#Calcul des profits par item\n",
    "donnee_prix_vente = pd.read_csv(dataPath+'Prix_de_vente_items.csv')\n",
    "donnee_prix_coutant = pd.read_csv(dataPath+'Prix_courant_items.csv')\n",
    "\n",
    "profit_par_item = donnee_prix_vente- donnee_prix_coutant"
   ]
  },
  {
   "cell_type": "code",
   "execution_count": 5,
   "id": "f7143990-3c46-42f5-9275-b69f267dd503",
   "metadata": {},
   "outputs": [
    {
     "name": "stdout",
     "output_type": "stream",
     "text": [
      "[2542.95]\n",
      "2269.704032258064\n",
      "(1, 8)\n"
     ]
    }
   ],
   "source": [
    "#Calcul des profits par jour\n",
    "\n",
    "Profit_par_jour =  np.dot(ventes_totales,profit_par_item.T)\n",
    "\n",
    "\n",
    "print(max(Profit_par_jour))\n",
    "\n",
    "import statistics as st\n",
    "\n",
    "print(np.mean(Profit_par_jour))\n",
    "\n",
    "print(donnee_prix_vente.shape)"
   ]
  },
  {
   "cell_type": "code",
   "execution_count": null,
   "id": "108d75e9-20c4-4747-9148-aa4d192269a7",
   "metadata": {},
   "outputs": [],
   "source": []
  }
 ],
 "metadata": {
  "kernelspec": {
   "display_name": "Python 3 (ipykernel)",
   "language": "python",
   "name": "python3"
  },
  "language_info": {
   "codemirror_mode": {
    "name": "ipython",
    "version": 3
   },
   "file_extension": ".py",
   "mimetype": "text/x-python",
   "name": "python",
   "nbconvert_exporter": "python",
   "pygments_lexer": "ipython3",
   "version": "3.10.6"
  }
 },
 "nbformat": 4,
 "nbformat_minor": 5
}
