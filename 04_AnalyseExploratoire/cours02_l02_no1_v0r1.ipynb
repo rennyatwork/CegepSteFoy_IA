{
 "cells": [
  {
   "cell_type": "code",
   "execution_count": null,
   "id": "ac003011-b8ed-44ef-8ef9-7091449f43d6",
   "metadata": {},
   "outputs": [],
   "source": [
    "import sys\n",
    "#!{sys.executable} -m pip install numpy\n",
    "#!{sys.executable} -m pip install pandas"
   ]
  },
  {
   "cell_type": "code",
   "execution_count": 1,
   "id": "35e56dde-3e0a-4779-9f38-6a537ae78052",
   "metadata": {},
   "outputs": [],
   "source": [
    "# -*- coding: utf-8 -*-\n",
    "\"\"\"\n",
    "Created on Sun Mar 14 01:38:25 2021\n",
    "\n",
    "@author: pmarc\n",
    "\n",
    "Résolution Problème L02 - #1 par Pierre-Marc Juneau, 14 mars 2021\n",
    "\"\"\"\n",
    "\n",
    "import numpy as np\n",
    "import pandas as pd\n",
    "from numpy import nan"
   ]
  },
  {
   "cell_type": "code",
   "execution_count": 2,
   "id": "e27d6c60-f06a-4559-87cb-610f986f33db",
   "metadata": {},
   "outputs": [],
   "source": [
    "# r'epertoire fichiers\n",
    "dataPath = '/home/hduser/Documents/CegepSteFoy/Module04/02/Fichiers/'"
   ]
  },
  {
   "cell_type": "code",
   "execution_count": 4,
   "id": "45941ab9-b94a-4f0a-a137-7810584cd8d4",
   "metadata": {},
   "outputs": [],
   "source": [
    "donnee = pd.read_csv(dataPath+'DonneesVachesLait.csv')"
   ]
  },
  {
   "cell_type": "code",
   "execution_count": 6,
   "id": "c6637863-eb95-4c90-bb32-183111b0cbc3",
   "metadata": {},
   "outputs": [
    {
     "data": {
      "text/html": [
       "<div>\n",
       "<style scoped>\n",
       "    .dataframe tbody tr th:only-of-type {\n",
       "        vertical-align: middle;\n",
       "    }\n",
       "\n",
       "    .dataframe tbody tr th {\n",
       "        vertical-align: top;\n",
       "    }\n",
       "\n",
       "    .dataframe thead th {\n",
       "        text-align: right;\n",
       "    }\n",
       "</style>\n",
       "<table border=\"1\" class=\"dataframe\">\n",
       "  <thead>\n",
       "    <tr style=\"text-align: right;\">\n",
       "      <th></th>\n",
       "      <th>Fourrages (%)</th>\n",
       "      <th>Aliments composés (%)</th>\n",
       "      <th>Coproduits (%)</th>\n",
       "      <th>Céréales (%)</th>\n",
       "      <th>Graines oléagineuses(%)</th>\n",
       "      <th>Alimentation par vache (kg MS/j)</th>\n",
       "      <th>Production lait par vache (L/j)</th>\n",
       "      <th>Température étable (0C)</th>\n",
       "      <th>Eau</th>\n",
       "    </tr>\n",
       "  </thead>\n",
       "  <tbody>\n",
       "    <tr>\n",
       "      <th>count</th>\n",
       "      <td>62.000000</td>\n",
       "      <td>62.000000</td>\n",
       "      <td>61.000000</td>\n",
       "      <td>62.000000</td>\n",
       "      <td>58.000000</td>\n",
       "      <td>62.000000</td>\n",
       "      <td>62.000000</td>\n",
       "      <td>60.000000</td>\n",
       "      <td>18.000000</td>\n",
       "    </tr>\n",
       "    <tr>\n",
       "      <th>mean</th>\n",
       "      <td>76.342581</td>\n",
       "      <td>9.219194</td>\n",
       "      <td>8.326393</td>\n",
       "      <td>6.010484</td>\n",
       "      <td>0.202414</td>\n",
       "      <td>16.838710</td>\n",
       "      <td>40.732258</td>\n",
       "      <td>25.078333</td>\n",
       "      <td>60.277778</td>\n",
       "    </tr>\n",
       "    <tr>\n",
       "      <th>std</th>\n",
       "      <td>4.632249</td>\n",
       "      <td>1.937029</td>\n",
       "      <td>2.783863</td>\n",
       "      <td>2.011271</td>\n",
       "      <td>0.011893</td>\n",
       "      <td>1.909369</td>\n",
       "      <td>123.852540</td>\n",
       "      <td>22.853514</td>\n",
       "      <td>33.066431</td>\n",
       "    </tr>\n",
       "    <tr>\n",
       "      <th>min</th>\n",
       "      <td>65.260000</td>\n",
       "      <td>4.290000</td>\n",
       "      <td>2.650000</td>\n",
       "      <td>1.370000</td>\n",
       "      <td>0.170000</td>\n",
       "      <td>13.000000</td>\n",
       "      <td>19.700000</td>\n",
       "      <td>12.200000</td>\n",
       "      <td>10.000000</td>\n",
       "    </tr>\n",
       "    <tr>\n",
       "      <th>25%</th>\n",
       "      <td>73.430000</td>\n",
       "      <td>7.900000</td>\n",
       "      <td>6.310000</td>\n",
       "      <td>4.320000</td>\n",
       "      <td>0.192500</td>\n",
       "      <td>15.000000</td>\n",
       "      <td>22.625000</td>\n",
       "      <td>17.200000</td>\n",
       "      <td>32.250000</td>\n",
       "    </tr>\n",
       "    <tr>\n",
       "      <th>50%</th>\n",
       "      <td>76.705000</td>\n",
       "      <td>9.100000</td>\n",
       "      <td>8.140000</td>\n",
       "      <td>6.025000</td>\n",
       "      <td>0.200000</td>\n",
       "      <td>17.000000</td>\n",
       "      <td>25.100000</td>\n",
       "      <td>18.350000</td>\n",
       "      <td>65.000000</td>\n",
       "    </tr>\n",
       "    <tr>\n",
       "      <th>75%</th>\n",
       "      <td>78.372500</td>\n",
       "      <td>10.170000</td>\n",
       "      <td>10.530000</td>\n",
       "      <td>7.592500</td>\n",
       "      <td>0.210000</td>\n",
       "      <td>18.000000</td>\n",
       "      <td>26.675000</td>\n",
       "      <td>19.800000</td>\n",
       "      <td>79.500000</td>\n",
       "    </tr>\n",
       "    <tr>\n",
       "      <th>max</th>\n",
       "      <td>93.400000</td>\n",
       "      <td>14.210000</td>\n",
       "      <td>14.040000</td>\n",
       "      <td>10.040000</td>\n",
       "      <td>0.230000</td>\n",
       "      <td>22.000000</td>\n",
       "      <td>1000.000000</td>\n",
       "      <td>100.000000</td>\n",
       "      <td>121.000000</td>\n",
       "    </tr>\n",
       "  </tbody>\n",
       "</table>\n",
       "</div>"
      ],
      "text/plain": [
       "       Fourrages (%)  Aliments composés (%)  Coproduits (%)  Céréales (%)  \\\n",
       "count      62.000000              62.000000       61.000000     62.000000   \n",
       "mean       76.342581               9.219194        8.326393      6.010484   \n",
       "std         4.632249               1.937029        2.783863      2.011271   \n",
       "min        65.260000               4.290000        2.650000      1.370000   \n",
       "25%        73.430000               7.900000        6.310000      4.320000   \n",
       "50%        76.705000               9.100000        8.140000      6.025000   \n",
       "75%        78.372500              10.170000       10.530000      7.592500   \n",
       "max        93.400000              14.210000       14.040000     10.040000   \n",
       "\n",
       "       Graines oléagineuses(%)  Alimentation par vache (kg MS/j)  \\\n",
       "count                58.000000                         62.000000   \n",
       "mean                  0.202414                         16.838710   \n",
       "std                   0.011893                          1.909369   \n",
       "min                   0.170000                         13.000000   \n",
       "25%                   0.192500                         15.000000   \n",
       "50%                   0.200000                         17.000000   \n",
       "75%                   0.210000                         18.000000   \n",
       "max                   0.230000                         22.000000   \n",
       "\n",
       "       Production lait par vache (L/j)  Température étable (0C)         Eau  \n",
       "count                        62.000000                60.000000   18.000000  \n",
       "mean                         40.732258                25.078333   60.277778  \n",
       "std                         123.852540                22.853514   33.066431  \n",
       "min                          19.700000                12.200000   10.000000  \n",
       "25%                          22.625000                17.200000   32.250000  \n",
       "50%                          25.100000                18.350000   65.000000  \n",
       "75%                          26.675000                19.800000   79.500000  \n",
       "max                        1000.000000               100.000000  121.000000  "
      ]
     },
     "execution_count": 6,
     "metadata": {},
     "output_type": "execute_result"
    }
   ],
   "source": [
    "stats=donnee.describe()\n",
    "stats"
   ]
  },
  {
   "cell_type": "code",
   "execution_count": 5,
   "id": "a2ee4201-2b68-4ef0-9b5b-ae681839f528",
   "metadata": {},
   "outputs": [],
   "source": [
    "dimensions=donnee.shape"
   ]
  },
  {
   "cell_type": "code",
   "execution_count": 7,
   "id": "c012566b-b0d5-4e59-999a-10b0ad41213d",
   "metadata": {},
   "outputs": [
    {
     "data": {
      "text/plain": [
       "Dates                               1.000000\n",
       "Fourrages (%)                       1.000000\n",
       "Aliments composés (%)               1.000000\n",
       "Coproduits (%)                      0.983871\n",
       "Céréales (%)                        1.000000\n",
       "Graines oléagineuses(%)             0.935484\n",
       "Alimentation par vache (kg MS/j)    1.000000\n",
       "Production lait par vache (L/j)     1.000000\n",
       "Température étable (0C)             0.967742\n",
       "Eau                                 0.290323\n",
       "dtype: float64"
      ]
     },
     "execution_count": 7,
     "metadata": {},
     "output_type": "execute_result"
    }
   ],
   "source": [
    "\"Calcul du degré de complétude pour chaque variable\"\n",
    "NR=dimensions[0]\n",
    "Nnan=donnee.isnull().sum()\n",
    "DegCompletude=(NR-Nnan)/NR\n",
    "DegCompletude"
   ]
  },
  {
   "cell_type": "code",
   "execution_count": 8,
   "id": "47748e9e-123c-42fe-b46a-d5a841460a74",
   "metadata": {},
   "outputs": [],
   "source": [
    "\"Calcul du degré de validité en fonction des règles\"\n",
    "NNV=sum(i > 40 for i in donnee[\"Production lait par vache (L/j)\"])\n",
    "Q1=(NR-NNV)/NR\n",
    "\n",
    "NNV2=sum(i > 50 for i in donnee[\"Température étable (0C)\"])\n",
    "Q2=(NR-NNV2)/NR\n",
    "\n",
    "DegValidite=(Q1+Q2)/2"
   ]
  },
  {
   "cell_type": "code",
   "execution_count": null,
   "id": "1cd5cff6-1ad9-41f1-9978-ae83c3ee4235",
   "metadata": {},
   "outputs": [],
   "source": [
    "\"Calcul du degré de cohérence pour les %\"\n",
    "\n",
    "donnee_val=donnee.values\n",
    "donnee_val"
   ]
  },
  {
   "cell_type": "code",
   "execution_count": 10,
   "id": "888f2d97-9319-4ea2-9e73-6f343a0514fa",
   "metadata": {},
   "outputs": [],
   "source": [
    "Somme_théo=donnee_val[:,1]+donnee_val[:,2]+donnee_val[:,3]+donnee_val[:,4]+donnee_val[:,5]\n",
    "\n",
    "Somme_théo2=donnee_val[:,1:6]\n",
    "\n",
    "NNC=sum(i > 100.01 for i in Somme_théo)+sum(i < 99.99 for i in Somme_théo)\n",
    "\n",
    "DegCoherence=(NR-NNC)/NR"
   ]
  },
  {
   "cell_type": "code",
   "execution_count": null,
   "id": "029202aa-8978-4ea9-8a06-fc899d824f22",
   "metadata": {},
   "outputs": [],
   "source": []
  }
 ],
 "metadata": {
  "kernelspec": {
   "display_name": "Python 3 (ipykernel)",
   "language": "python",
   "name": "python3"
  },
  "language_info": {
   "codemirror_mode": {
    "name": "ipython",
    "version": 3
   },
   "file_extension": ".py",
   "mimetype": "text/x-python",
   "name": "python",
   "nbconvert_exporter": "python",
   "pygments_lexer": "ipython3",
   "version": "3.10.6"
  }
 },
 "nbformat": 4,
 "nbformat_minor": 5
}
