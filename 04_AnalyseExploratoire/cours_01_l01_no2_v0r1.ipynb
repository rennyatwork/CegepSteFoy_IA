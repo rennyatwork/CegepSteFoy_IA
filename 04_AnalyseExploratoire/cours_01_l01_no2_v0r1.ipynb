{
 "cells": [
  {
   "cell_type": "code",
   "execution_count": 7,
   "id": "8e462c6a-d713-4751-9224-9a882e78e998",
   "metadata": {},
   "outputs": [
    {
     "name": "stdout",
     "output_type": "stream",
     "text": [
      "Defaulting to user installation because normal site-packages is not writeable\n",
      "Collecting scipy\n",
      "  Downloading scipy-1.9.1-cp310-cp310-manylinux_2_17_x86_64.manylinux2014_x86_64.whl (43.9 MB)\n",
      "\u001b[2K     \u001b[38;2;114;156;31m━━━━━━━━━━━━━━━━━━━━━━━━━━━━━━━━━━━━━━━━\u001b[0m \u001b[32m43.9/43.9 MB\u001b[0m \u001b[31m1.1 MB/s\u001b[0m eta \u001b[36m0:00:00\u001b[0mm eta \u001b[36m0:00:01\u001b[0m[36m0:00:01\u001b[0m\n",
      "\u001b[?25hRequirement already satisfied: numpy<1.25.0,>=1.18.5 in /home/hduser/.local/lib/python3.10/site-packages (from scipy) (1.23.3)\n",
      "Installing collected packages: scipy\n",
      "Successfully installed scipy-1.9.1\n"
     ]
    }
   ],
   "source": [
    "import sys\n",
    "!{sys.executable} -m pip install scipy\n"
   ]
  },
  {
   "cell_type": "code",
   "execution_count": 8,
   "id": "c383014d-470c-4261-951c-9f47f5c71597",
   "metadata": {},
   "outputs": [],
   "source": [
    "# -*- coding: utf-8 -*-\n",
    "\"\"\"\n",
    "Created on Sun Mar  7 18:20:18 2021\n",
    "\n",
    "@author: Pierre-Marc Juneau pour L01-Exercice No. 2 (Septembre 2022)\n",
    "\"\"\"\n",
    "\n",
    "import numpy as np\n",
    "import pandas as pd\n",
    "from scipy import linalg\n"
   ]
  },
  {
   "cell_type": "code",
   "execution_count": 9,
   "id": "8b825fb4-0a3f-4b46-bd27-36de10bdb3f4",
   "metadata": {},
   "outputs": [],
   "source": [
    "# r'epertoire fichiers\n",
    "dataPath = '/home/hduser/Documents/CegepSteFoy/Module04/01/Fichiers/'"
   ]
  },
  {
   "cell_type": "code",
   "execution_count": 10,
   "id": "32ebf7d3-8faa-468d-80b8-7510cfe16c94",
   "metadata": {},
   "outputs": [],
   "source": [
    "#Calcul des ventes totales \n",
    "\n",
    "donnee_ste_foy = pd.read_csv(dataPath+'VentesBoulangerieSte_Foy.csv', index_col=0)\n",
    "donnee_lac_beauport = pd.read_csv(dataPath+'VentesBoulangerieLacBeauport.csv', index_col=0)\n",
    "\n",
    "ventes_totales=donnee_ste_foy+donnee_lac_beauport"
   ]
  },
  {
   "cell_type": "code",
   "execution_count": 12,
   "id": "108d75e9-20c4-4747-9148-aa4d192269a7",
   "metadata": {},
   "outputs": [
    {
     "name": "stdout",
     "output_type": "stream",
     "text": [
      "0.0\n"
     ]
    }
   ],
   "source": [
    "\n",
    "X = pd.read_csv(dataPath+'Donnees_cremerie.csv')\n",
    "dimensions=X.shape\n",
    "nomsproduits = X.columns\n",
    "\n",
    "U,E,Pmat =linalg.svd(X)\n",
    "\n",
    "\n",
    "P1=Pmat[0,:]\n",
    "P2=Pmat[1,:]\n",
    "\n",
    "\n",
    "Produit_scalaire=np.dot(P1.T,P2)\n",
    "\n",
    "T1=np.dot(X,Pmat[0,:])\n",
    "T2=np.dot(X,Pmat[1,:])\n",
    "\n",
    "T=np.dot(X,Pmat.T)\n",
    "\n",
    "Point_0 = T1[0]*P1+T2[0]*P2\n",
    "\n",
    "Point_1 = T1[1]*P1+T2[1]*P2\n",
    "\n",
    "Point_4 = T1[4]*P1+T2[4]*P2\n",
    "\n",
    "X2=np.dot(T,Pmat)\n",
    "\n",
    "print(np.dot(P1.T,P2))\n"
   ]
  },
  {
   "cell_type": "code",
   "execution_count": null,
   "id": "575f2942-b739-4427-89f2-9cb40f004fc5",
   "metadata": {},
   "outputs": [],
   "source": []
  }
 ],
 "metadata": {
  "kernelspec": {
   "display_name": "Python 3 (ipykernel)",
   "language": "python",
   "name": "python3"
  },
  "language_info": {
   "codemirror_mode": {
    "name": "ipython",
    "version": 3
   },
   "file_extension": ".py",
   "mimetype": "text/x-python",
   "name": "python",
   "nbconvert_exporter": "python",
   "pygments_lexer": "ipython3",
   "version": "3.10.6"
  }
 },
 "nbformat": 4,
 "nbformat_minor": 5
}
