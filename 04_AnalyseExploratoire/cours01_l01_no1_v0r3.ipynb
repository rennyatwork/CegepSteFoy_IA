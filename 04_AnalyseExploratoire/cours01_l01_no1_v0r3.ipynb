{
 "cells": [
  {
   "cell_type": "code",
   "execution_count": 4,
   "id": "71d16485-5673-41e9-9869-091d4877211a",
   "metadata": {},
   "outputs": [
    {
     "name": "stdout",
     "output_type": "stream",
     "text": [
      "Defaulting to user installation because normal site-packages is not writeable\n",
      "Requirement already satisfied: numpy in /home/hduser/.local/lib/python3.10/site-packages (1.23.3)\n",
      "Defaulting to user installation because normal site-packages is not writeable\n",
      "Collecting pandas\n",
      "  Downloading pandas-1.5.0-cp310-cp310-manylinux_2_17_x86_64.manylinux2014_x86_64.whl (12.1 MB)\n",
      "\u001b[2K     \u001b[38;2;114;156;31m━━━━━━━━━━━━━━━━━━━━━━━━━━━━━━━━━━━━━━━━\u001b[0m \u001b[32m12.1/12.1 MB\u001b[0m \u001b[31m1.8 MB/s\u001b[0m eta \u001b[36m0:00:00\u001b[0mm eta \u001b[36m0:00:01\u001b[0m[36m0:00:01\u001b[0mm\n",
      "\u001b[?25hRequirement already satisfied: python-dateutil>=2.8.1 in /home/hduser/.local/lib/python3.10/site-packages (from pandas) (2.8.2)\n",
      "Requirement already satisfied: pytz>=2020.1 in /usr/lib/python3/dist-packages (from pandas) (2022.1)\n",
      "Requirement already satisfied: numpy>=1.21.0 in /home/hduser/.local/lib/python3.10/site-packages (from pandas) (1.23.3)\n",
      "Requirement already satisfied: six>=1.5 in /usr/lib/python3/dist-packages (from python-dateutil>=2.8.1->pandas) (1.16.0)\n",
      "Installing collected packages: pandas\n",
      "Successfully installed pandas-1.5.0\n"
     ]
    }
   ],
   "source": [
    "import sys\n",
    "!{sys.executable} -m pip install numpy\n",
    "!{sys.executable} -m pip install pandas"
   ]
  },
  {
   "cell_type": "code",
   "execution_count": 5,
   "id": "6ddd2a1b-261a-4f3d-8eb3-58b0874f1f75",
   "metadata": {},
   "outputs": [],
   "source": [
    "import numpy as np\n",
    "import pandas as pd"
   ]
  },
  {
   "cell_type": "code",
   "execution_count": 6,
   "id": "87b9be59-f806-4d78-aa6d-c4fd63af722f",
   "metadata": {},
   "outputs": [],
   "source": [
    "# r'epertoire fichiers\n",
    "dataPath = '/home/hduser/Documents/CegepSteFoy/Module04/01/Fichiers/'"
   ]
  },
  {
   "cell_type": "code",
   "execution_count": 7,
   "id": "66a5dcb0-0798-42ca-822f-a7b4266e9855",
   "metadata": {},
   "outputs": [],
   "source": [
    "donnee_ste_foy = pd.read_csv(dataPath + 'VentesBoulangerieSte_Foy.csv')\n",
    "dimensions=donnee_ste_foy.shape\n",
    "nomsproduits = donnee_ste_foy.columns\n",
    "dates=donnee_ste_foy.Date\n",
    "ventes_ste_foy=donnee_ste_foy.values"
   ]
  },
  {
   "cell_type": "code",
   "execution_count": 8,
   "id": "85d4c656-b8a1-4e08-897d-441ab9f2c0a2",
   "metadata": {},
   "outputs": [],
   "source": [
    "donnee_lac_beauport = pd.read_csv(dataPath+'VentesBoulangerieLacBeauport.csv')\n",
    "ventes_lac_beauport=donnee_lac_beauport.values\n",
    "\n",
    "ventes_totales=ventes_ste_foy[:,1:]+ventes_lac_beauport[:,1:]"
   ]
  },
  {
   "cell_type": "code",
   "execution_count": 9,
   "id": "5106d668-e1c5-43cc-bab7-6fcd22672f4b",
   "metadata": {},
   "outputs": [],
   "source": [
    "donnee_prix_vente = pd.read_csv(dataPath+'Prix_de_vente_items.csv')\n",
    "prix_vente=donnee_prix_vente.values"
   ]
  },
  {
   "cell_type": "code",
   "execution_count": 10,
   "id": "f5e56791-c80d-4aff-8929-2b62dea78662",
   "metadata": {},
   "outputs": [
    {
     "name": "stdout",
     "output_type": "stream",
     "text": [
      "[2542.95]\n",
      "2269.704032258064\n",
      "(1, 8)\n"
     ]
    }
   ],
   "source": [
    "#donnee_prix_coutant = pd.read_csv('Prix_coûtant_items.csv')\n",
    "donnee_prix_coutant = pd.read_csv(dataPath+'Prix_courant_items.csv')\n",
    "\n",
    "prix_coutant=donnee_prix_coutant.values\n",
    "\n",
    "profit_par_item = prix_vente - prix_coutant\n",
    "\n",
    "Profit_par_jour =  np.dot(ventes_totales,profit_par_item.T)\n",
    "\n",
    "print(max(Profit_par_jour))\n",
    "\n",
    "import statistics as st\n",
    "\n",
    "print(np.mean(Profit_par_jour))\n",
    "\n",
    "print(donnee_prix_vente.shape)"
   ]
  },
  {
   "cell_type": "code",
   "execution_count": 11,
   "id": "bd820c2d-3d97-47be-b6ad-f57eef3006a3",
   "metadata": {},
   "outputs": [
    {
     "data": {
      "text/html": [
       "<div>\n",
       "<style scoped>\n",
       "    .dataframe tbody tr th:only-of-type {\n",
       "        vertical-align: middle;\n",
       "    }\n",
       "\n",
       "    .dataframe tbody tr th {\n",
       "        vertical-align: top;\n",
       "    }\n",
       "\n",
       "    .dataframe thead th {\n",
       "        text-align: right;\n",
       "    }\n",
       "</style>\n",
       "<table border=\"1\" class=\"dataframe\">\n",
       "  <thead>\n",
       "    <tr style=\"text-align: right;\">\n",
       "      <th></th>\n",
       "      <th>Croissants au beurre ($/ unité)</th>\n",
       "      <th>Croissants blé entier ($/ unité)</th>\n",
       "      <th>Chocolatines ($/ unité)</th>\n",
       "      <th>Pains blancs tranchés ($/ unité)</th>\n",
       "      <th>Pains bruns tranchés ($/ unité)</th>\n",
       "      <th>Mille-feuilles ($/ unité)</th>\n",
       "      <th>Tartes au citron ($/ unité)</th>\n",
       "      <th>Tartes au chocolat ($/ unité)</th>\n",
       "    </tr>\n",
       "  </thead>\n",
       "  <tbody>\n",
       "    <tr>\n",
       "      <th>count</th>\n",
       "      <td>1.0</td>\n",
       "      <td>1.00</td>\n",
       "      <td>1.00</td>\n",
       "      <td>1.0</td>\n",
       "      <td>1.00</td>\n",
       "      <td>1.00</td>\n",
       "      <td>1.00</td>\n",
       "      <td>1.0</td>\n",
       "    </tr>\n",
       "    <tr>\n",
       "      <th>mean</th>\n",
       "      <td>0.6</td>\n",
       "      <td>0.55</td>\n",
       "      <td>1.15</td>\n",
       "      <td>2.5</td>\n",
       "      <td>2.25</td>\n",
       "      <td>1.75</td>\n",
       "      <td>5.15</td>\n",
       "      <td>7.0</td>\n",
       "    </tr>\n",
       "    <tr>\n",
       "      <th>std</th>\n",
       "      <td>NaN</td>\n",
       "      <td>NaN</td>\n",
       "      <td>NaN</td>\n",
       "      <td>NaN</td>\n",
       "      <td>NaN</td>\n",
       "      <td>NaN</td>\n",
       "      <td>NaN</td>\n",
       "      <td>NaN</td>\n",
       "    </tr>\n",
       "    <tr>\n",
       "      <th>min</th>\n",
       "      <td>0.6</td>\n",
       "      <td>0.55</td>\n",
       "      <td>1.15</td>\n",
       "      <td>2.5</td>\n",
       "      <td>2.25</td>\n",
       "      <td>1.75</td>\n",
       "      <td>5.15</td>\n",
       "      <td>7.0</td>\n",
       "    </tr>\n",
       "    <tr>\n",
       "      <th>25%</th>\n",
       "      <td>0.6</td>\n",
       "      <td>0.55</td>\n",
       "      <td>1.15</td>\n",
       "      <td>2.5</td>\n",
       "      <td>2.25</td>\n",
       "      <td>1.75</td>\n",
       "      <td>5.15</td>\n",
       "      <td>7.0</td>\n",
       "    </tr>\n",
       "    <tr>\n",
       "      <th>50%</th>\n",
       "      <td>0.6</td>\n",
       "      <td>0.55</td>\n",
       "      <td>1.15</td>\n",
       "      <td>2.5</td>\n",
       "      <td>2.25</td>\n",
       "      <td>1.75</td>\n",
       "      <td>5.15</td>\n",
       "      <td>7.0</td>\n",
       "    </tr>\n",
       "    <tr>\n",
       "      <th>75%</th>\n",
       "      <td>0.6</td>\n",
       "      <td>0.55</td>\n",
       "      <td>1.15</td>\n",
       "      <td>2.5</td>\n",
       "      <td>2.25</td>\n",
       "      <td>1.75</td>\n",
       "      <td>5.15</td>\n",
       "      <td>7.0</td>\n",
       "    </tr>\n",
       "    <tr>\n",
       "      <th>max</th>\n",
       "      <td>0.6</td>\n",
       "      <td>0.55</td>\n",
       "      <td>1.15</td>\n",
       "      <td>2.5</td>\n",
       "      <td>2.25</td>\n",
       "      <td>1.75</td>\n",
       "      <td>5.15</td>\n",
       "      <td>7.0</td>\n",
       "    </tr>\n",
       "  </tbody>\n",
       "</table>\n",
       "</div>"
      ],
      "text/plain": [
       "       Croissants au beurre ($/ unité)  Croissants blé entier ($/ unité)  \\\n",
       "count                              1.0                              1.00   \n",
       "mean                               0.6                              0.55   \n",
       "std                                NaN                               NaN   \n",
       "min                                0.6                              0.55   \n",
       "25%                                0.6                              0.55   \n",
       "50%                                0.6                              0.55   \n",
       "75%                                0.6                              0.55   \n",
       "max                                0.6                              0.55   \n",
       "\n",
       "       Chocolatines ($/ unité)  Pains blancs tranchés ($/ unité)  \\\n",
       "count                     1.00                               1.0   \n",
       "mean                      1.15                               2.5   \n",
       "std                        NaN                               NaN   \n",
       "min                       1.15                               2.5   \n",
       "25%                       1.15                               2.5   \n",
       "50%                       1.15                               2.5   \n",
       "75%                       1.15                               2.5   \n",
       "max                       1.15                               2.5   \n",
       "\n",
       "       Pains bruns tranchés ($/ unité)  Mille-feuilles ($/ unité)  \\\n",
       "count                             1.00                       1.00   \n",
       "mean                              2.25                       1.75   \n",
       "std                                NaN                        NaN   \n",
       "min                               2.25                       1.75   \n",
       "25%                               2.25                       1.75   \n",
       "50%                               2.25                       1.75   \n",
       "75%                               2.25                       1.75   \n",
       "max                               2.25                       1.75   \n",
       "\n",
       "       Tartes au citron ($/ unité)  Tartes au chocolat ($/ unité)  \n",
       "count                         1.00                            1.0  \n",
       "mean                          5.15                            7.0  \n",
       "std                            NaN                            NaN  \n",
       "min                           5.15                            7.0  \n",
       "25%                           5.15                            7.0  \n",
       "50%                           5.15                            7.0  \n",
       "75%                           5.15                            7.0  \n",
       "max                           5.15                            7.0  "
      ]
     },
     "execution_count": 11,
     "metadata": {},
     "output_type": "execute_result"
    }
   ],
   "source": [
    "donnee_prix_coutant.describe()"
   ]
  },
  {
   "cell_type": "code",
   "execution_count": 15,
   "id": "8ea6055f-6631-457d-a633-b589768b5b00",
   "metadata": {},
   "outputs": [
    {
     "data": {
      "text/plain": [
       "(1, 8)"
      ]
     },
     "execution_count": 15,
     "metadata": {},
     "output_type": "execute_result"
    }
   ],
   "source": [
    "donnee_prix_coutant.shape"
   ]
  }
 ],
 "metadata": {
  "kernelspec": {
   "display_name": "Python 3 (ipykernel)",
   "language": "python",
   "name": "python3"
  },
  "language_info": {
   "codemirror_mode": {
    "name": "ipython",
    "version": 3
   },
   "file_extension": ".py",
   "mimetype": "text/x-python",
   "name": "python",
   "nbconvert_exporter": "python",
   "pygments_lexer": "ipython3",
   "version": "3.10.6"
  }
 },
 "nbformat": 4,
 "nbformat_minor": 5
}
