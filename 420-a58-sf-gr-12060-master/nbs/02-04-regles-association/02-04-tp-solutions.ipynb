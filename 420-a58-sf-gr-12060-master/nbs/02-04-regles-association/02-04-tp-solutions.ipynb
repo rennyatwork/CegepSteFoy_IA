{
 "cells": [
  {
   "cell_type": "markdown",
   "metadata": {},
   "source": [
    "**420-A58-SF - Algorithmes d'apprentissage non supervisé - Été 2021 - Spécialisation technique en Intelligence Artificielle**<br/>\n",
    "MIT License - Copyright (c) 2021 Mikaël Swawola\n",
    "<br/>\n",
    "![Travaux Pratiques - Règles d'association](static/02-04-banner.png)\n",
    "<br/>\n",
    "**Objectif: Séance d'exercices sur les itemsets fréquents et règles d'association**"
   ]
  },
  {
   "cell_type": "code",
   "execution_count": 1,
   "metadata": {},
   "outputs": [],
   "source": [
    "%reload_ext autoreload\n",
    "%autoreload 2\n",
    "%matplotlib inline"
   ]
  },
  {
   "cell_type": "markdown",
   "metadata": {},
   "source": [
    "## Exercice 1"
   ]
  },
  {
   "cell_type": "markdown",
   "metadata": {},
   "source": [
    "Pour cet exercice, nous considérons 100 articles (items), numérotés de 1 à 100, ainsi que 100 paniers (baskets), également numérotés de 1 à 100. L'article *i* est placé dans le panier *b* si et seulement si *i* divise *b* sans reste.\n",
    "Ainsi, l'article 1 est dans tous les paniers, l'article 2 est dans les 50 paniers ayant un numéro pair, etc .... Le panier 12 contient les articles { 1, 2, 3, 4, 6, 12 }, puisque'il s'agit de tous les entiers divisant 12."
   ]
  },
  {
   "cell_type": "markdown",
   "metadata": {},
   "source": [
    "### Q1.1: Si s = 5, quels articles sont fréquents ?"
   ]
  },
  {
   "cell_type": "code",
   "execution_count": null,
   "metadata": {},
   "outputs": [],
   "source": [
    "# --- Votre réponse ---"
   ]
  },
  {
   "cell_type": "markdown",
   "metadata": {},
   "source": [
    "(a) Tous les singletons de 1 à 20: {1}, {2}, {3}, ..., {20}\n",
    "\n",
    "Item i is in basket b if i is a factor of b. In other words, i is in basket b if and only if there exists a constant integer k>=1 such that b=k\\*i. As a result, item i is found in 5 or more baskets if 100/i >=5. Therefore items {1},{2},...,{20} represent the frequent singletons."
   ]
  },
  {
   "cell_type": "code",
   "execution_count": 2,
   "metadata": {},
   "outputs": [
    {
     "data": {
      "text/plain": [
       "defaultdict(list,\n",
       "            {1: [1],\n",
       "             2: [1, 2],\n",
       "             3: [1, 3],\n",
       "             4: [1, 2, 4],\n",
       "             5: [1, 5],\n",
       "             6: [1, 2, 3, 6],\n",
       "             7: [1, 7],\n",
       "             8: [1, 2, 4, 8],\n",
       "             9: [1, 3, 9],\n",
       "             10: [1, 2, 5, 10],\n",
       "             11: [1, 11],\n",
       "             12: [1, 2, 3, 4, 6, 12],\n",
       "             13: [1, 13],\n",
       "             14: [1, 2, 7, 14],\n",
       "             15: [1, 3, 5, 15],\n",
       "             16: [1, 2, 4, 8, 16],\n",
       "             17: [1, 17],\n",
       "             18: [1, 2, 3, 6, 9, 18],\n",
       "             19: [1, 19],\n",
       "             20: [1, 2, 4, 5, 10, 20],\n",
       "             21: [1, 3, 7, 21],\n",
       "             22: [1, 2, 11, 22],\n",
       "             23: [1, 23],\n",
       "             24: [1, 2, 3, 4, 6, 8, 12, 24],\n",
       "             25: [1, 5, 25],\n",
       "             26: [1, 2, 13, 26],\n",
       "             27: [1, 3, 9, 27],\n",
       "             28: [1, 2, 4, 7, 14, 28],\n",
       "             29: [1, 29],\n",
       "             30: [1, 2, 3, 5, 6, 10, 15, 30],\n",
       "             31: [1, 31],\n",
       "             32: [1, 2, 4, 8, 16, 32],\n",
       "             33: [1, 3, 11, 33],\n",
       "             34: [1, 2, 17, 34],\n",
       "             35: [1, 5, 7, 35],\n",
       "             36: [1, 2, 3, 4, 6, 9, 12, 18, 36],\n",
       "             37: [1, 37],\n",
       "             38: [1, 2, 19, 38],\n",
       "             39: [1, 3, 13, 39],\n",
       "             40: [1, 2, 4, 5, 8, 10, 20, 40],\n",
       "             41: [1, 41],\n",
       "             42: [1, 2, 3, 6, 7, 14, 21, 42],\n",
       "             43: [1, 43],\n",
       "             44: [1, 2, 4, 11, 22, 44],\n",
       "             45: [1, 3, 5, 9, 15, 45],\n",
       "             46: [1, 2, 23, 46],\n",
       "             47: [1, 47],\n",
       "             48: [1, 2, 3, 4, 6, 8, 12, 16, 24, 48],\n",
       "             49: [1, 7, 49],\n",
       "             50: [1, 2, 5, 10, 25, 50],\n",
       "             51: [1, 3, 17, 51],\n",
       "             52: [1, 2, 4, 13, 26, 52],\n",
       "             53: [1, 53],\n",
       "             54: [1, 2, 3, 6, 9, 18, 27, 54],\n",
       "             55: [1, 5, 11, 55],\n",
       "             56: [1, 2, 4, 7, 8, 14, 28, 56],\n",
       "             57: [1, 3, 19, 57],\n",
       "             58: [1, 2, 29, 58],\n",
       "             59: [1, 59],\n",
       "             60: [1, 2, 3, 4, 5, 6, 10, 12, 15, 20, 30, 60],\n",
       "             61: [1, 61],\n",
       "             62: [1, 2, 31, 62],\n",
       "             63: [1, 3, 7, 9, 21, 63],\n",
       "             64: [1, 2, 4, 8, 16, 32, 64],\n",
       "             65: [1, 5, 13, 65],\n",
       "             66: [1, 2, 3, 6, 11, 22, 33, 66],\n",
       "             67: [1, 67],\n",
       "             68: [1, 2, 4, 17, 34, 68],\n",
       "             69: [1, 3, 23, 69],\n",
       "             70: [1, 2, 5, 7, 10, 14, 35, 70],\n",
       "             71: [1, 71],\n",
       "             72: [1, 2, 3, 4, 6, 8, 9, 12, 18, 24, 36, 72],\n",
       "             73: [1, 73],\n",
       "             74: [1, 2, 37, 74],\n",
       "             75: [1, 3, 5, 15, 25, 75],\n",
       "             76: [1, 2, 4, 19, 38, 76],\n",
       "             77: [1, 7, 11, 77],\n",
       "             78: [1, 2, 3, 6, 13, 26, 39, 78],\n",
       "             79: [1, 79],\n",
       "             80: [1, 2, 4, 5, 8, 10, 16, 20, 40, 80],\n",
       "             81: [1, 3, 9, 27, 81],\n",
       "             82: [1, 2, 41, 82],\n",
       "             83: [1, 83],\n",
       "             84: [1, 2, 3, 4, 6, 7, 12, 14, 21, 28, 42, 84],\n",
       "             85: [1, 5, 17, 85],\n",
       "             86: [1, 2, 43, 86],\n",
       "             87: [1, 3, 29, 87],\n",
       "             88: [1, 2, 4, 8, 11, 22, 44, 88],\n",
       "             89: [1, 89],\n",
       "             90: [1, 2, 3, 5, 6, 9, 10, 15, 18, 30, 45, 90],\n",
       "             91: [1, 7, 13, 91],\n",
       "             92: [1, 2, 4, 23, 46, 92],\n",
       "             93: [1, 3, 31, 93],\n",
       "             94: [1, 2, 47, 94],\n",
       "             95: [1, 5, 19, 95],\n",
       "             96: [1, 2, 3, 4, 6, 8, 12, 16, 24, 32, 48, 96],\n",
       "             97: [1, 97],\n",
       "             98: [1, 2, 7, 14, 49, 98],\n",
       "             99: [1, 3, 9, 11, 33, 99],\n",
       "             100: [1, 2, 4, 5, 10, 20, 25, 50, 100]})"
      ]
     },
     "execution_count": 2,
     "metadata": {},
     "output_type": "execute_result"
    }
   ],
   "source": [
    "from collections import defaultdict\n",
    "\n",
    "baskets = defaultdict(list)\n",
    "\n",
    "for b in range(1,100+1):\n",
    "    for i in range(1,b+1):\n",
    "        if b % i == 0:\n",
    "            baskets[b].append(i)\n",
    "baskets"
   ]
  },
  {
   "cell_type": "code",
   "execution_count": 3,
   "metadata": {},
   "outputs": [
    {
     "data": {
      "text/plain": [
       "defaultdict(int,\n",
       "            {1: 100,\n",
       "             2: 50,\n",
       "             3: 33,\n",
       "             4: 25,\n",
       "             5: 20,\n",
       "             6: 16,\n",
       "             7: 14,\n",
       "             8: 12,\n",
       "             9: 11,\n",
       "             10: 10,\n",
       "             11: 9,\n",
       "             12: 8,\n",
       "             13: 7,\n",
       "             14: 7,\n",
       "             15: 6,\n",
       "             16: 6,\n",
       "             17: 5,\n",
       "             18: 5,\n",
       "             19: 5,\n",
       "             20: 5,\n",
       "             21: 4,\n",
       "             22: 4,\n",
       "             23: 4,\n",
       "             24: 4,\n",
       "             25: 4,\n",
       "             26: 3,\n",
       "             27: 3,\n",
       "             28: 3,\n",
       "             29: 3,\n",
       "             30: 3,\n",
       "             31: 3,\n",
       "             32: 3,\n",
       "             33: 3,\n",
       "             34: 2,\n",
       "             35: 2,\n",
       "             36: 2,\n",
       "             37: 2,\n",
       "             38: 2,\n",
       "             39: 2,\n",
       "             40: 2,\n",
       "             41: 2,\n",
       "             42: 2,\n",
       "             43: 2,\n",
       "             44: 2,\n",
       "             45: 2,\n",
       "             46: 2,\n",
       "             47: 2,\n",
       "             48: 2,\n",
       "             49: 2,\n",
       "             50: 2,\n",
       "             51: 1,\n",
       "             52: 1,\n",
       "             53: 1,\n",
       "             54: 1,\n",
       "             55: 1,\n",
       "             56: 1,\n",
       "             57: 1,\n",
       "             58: 1,\n",
       "             59: 1,\n",
       "             60: 1,\n",
       "             61: 1,\n",
       "             62: 1,\n",
       "             63: 1,\n",
       "             64: 1,\n",
       "             65: 1,\n",
       "             66: 1,\n",
       "             67: 1,\n",
       "             68: 1,\n",
       "             69: 1,\n",
       "             70: 1,\n",
       "             71: 1,\n",
       "             72: 1,\n",
       "             73: 1,\n",
       "             74: 1,\n",
       "             75: 1,\n",
       "             76: 1,\n",
       "             77: 1,\n",
       "             78: 1,\n",
       "             79: 1,\n",
       "             80: 1,\n",
       "             81: 1,\n",
       "             82: 1,\n",
       "             83: 1,\n",
       "             84: 1,\n",
       "             85: 1,\n",
       "             86: 1,\n",
       "             87: 1,\n",
       "             88: 1,\n",
       "             89: 1,\n",
       "             90: 1,\n",
       "             91: 1,\n",
       "             92: 1,\n",
       "             93: 1,\n",
       "             94: 1,\n",
       "             95: 1,\n",
       "             96: 1,\n",
       "             97: 1,\n",
       "             98: 1,\n",
       "             99: 1,\n",
       "             100: 1})"
      ]
     },
     "execution_count": 3,
     "metadata": {},
     "output_type": "execute_result"
    }
   ],
   "source": [
    "count = defaultdict(int)\n",
    "for _,v in baskets.items():\n",
    "    for i in v:\n",
    "        count[i] = count[i] + 1\n",
    "        \n",
    "count"
   ]
  },
  {
   "cell_type": "markdown",
   "metadata": {},
   "source": [
    "### Q1.2: Si s = 5, quelles paires d'items sont fréquentes ?"
   ]
  },
  {
   "cell_type": "code",
   "execution_count": null,
   "metadata": {},
   "outputs": [],
   "source": [
    "# --- Votre réponse ---"
   ]
  },
  {
   "cell_type": "markdown",
   "metadata": {},
   "source": [
    "Seuls les éléments des singletons fréquents peuvent consistuer les doubletons fréquents"
   ]
  },
  {
   "cell_type": "code",
   "execution_count": 4,
   "metadata": {},
   "outputs": [
    {
     "name": "stdout",
     "output_type": "stream",
     "text": [
      "(1,2)(1,3)(1,4)(1,5)(1,6)(1,7)(1,8)(1,9)(1,10)(1,11)(1,12)(1,13)(1,14)(1,15)(1,16)(1,17)(1,18)(1,19)(1,20)(2,3)(2,4)(2,5)(2,6)(2,7)(2,8)(2,9)(2,10)(2,12)(2,14)(2,16)(2,18)(2,20)(3,4)(3,5)(3,6)(3,9)(3,12)(3,15)(3,18)(4,5)(4,6)(4,8)(4,10)(4,12)(4,16)(4,20)(5,10)(5,15)(5,20)(6,9)(6,12)(6,18)(7,14)(8,16)(9,18)(10,20)"
     ]
    }
   ],
   "source": [
    "for i in range(1,21):\n",
    "    for j in range(i+1,21):\n",
    "        s = 0\n",
    "        for _, b in baskets.items():\n",
    "            if i in b and j in b:\n",
    "                s += 1\n",
    "        if s >= 5:\n",
    "            print(f'({i},{j})', end='')"
   ]
  },
  {
   "cell_type": "code",
   "execution_count": 5,
   "metadata": {},
   "outputs": [
    {
     "name": "stdout",
     "output_type": "stream",
     "text": [
      "1-2\n",
      "1-3\n",
      "1-4\n",
      "1-5\n",
      "1-6\n",
      "1-7\n",
      "1-8\n",
      "1-9\n",
      "1-10\n",
      "1-11\n",
      "1-12\n",
      "1-13\n",
      "1-14\n",
      "1-15\n",
      "1-16\n",
      "1-17\n",
      "1-18\n",
      "1-19\n",
      "1-20\n",
      "2-3\n",
      "2-4\n",
      "2-5\n",
      "2-6\n",
      "2-7\n",
      "2-8\n",
      "2-9\n",
      "2-10\n",
      "2-11\n",
      "2-12\n",
      "2-13\n",
      "2-14\n",
      "2-15\n",
      "2-16\n",
      "2-17\n",
      "2-18\n",
      "2-19\n",
      "2-20\n",
      "3-4\n",
      "3-5\n",
      "3-6\n",
      "3-7\n",
      "3-8\n",
      "3-9\n",
      "3-10\n",
      "3-11\n",
      "3-12\n",
      "3-13\n",
      "3-14\n",
      "3-15\n",
      "3-16\n",
      "3-17\n",
      "3-18\n",
      "3-19\n",
      "3-20\n",
      "4-5\n",
      "4-6\n",
      "4-7\n",
      "4-8\n",
      "4-9\n",
      "4-10\n",
      "4-11\n",
      "4-12\n",
      "4-13\n",
      "4-14\n",
      "4-15\n",
      "4-16\n",
      "4-17\n",
      "4-18\n",
      "4-19\n",
      "4-20\n",
      "5-6\n",
      "5-7\n",
      "5-8\n",
      "5-9\n",
      "5-10\n",
      "5-11\n",
      "5-12\n",
      "5-13\n",
      "5-14\n",
      "5-15\n",
      "5-16\n",
      "5-17\n",
      "5-18\n",
      "5-19\n",
      "5-20\n",
      "6-7\n",
      "6-8\n",
      "6-9\n",
      "6-10\n",
      "6-11\n",
      "6-12\n",
      "6-13\n",
      "6-14\n",
      "6-15\n",
      "6-16\n",
      "6-17\n",
      "6-18\n",
      "6-19\n",
      "6-20\n",
      "7-8\n",
      "7-9\n",
      "7-10\n",
      "7-11\n",
      "7-12\n",
      "7-13\n",
      "7-14\n",
      "7-15\n",
      "7-16\n",
      "7-17\n",
      "7-18\n",
      "7-19\n",
      "7-20\n",
      "8-9\n",
      "8-10\n",
      "8-11\n",
      "8-12\n",
      "8-13\n",
      "8-14\n",
      "8-15\n",
      "8-16\n",
      "8-17\n",
      "8-18\n",
      "8-19\n",
      "8-20\n",
      "9-10\n",
      "9-11\n",
      "9-12\n",
      "9-13\n",
      "9-14\n",
      "9-15\n",
      "9-16\n",
      "9-17\n",
      "9-18\n",
      "9-19\n",
      "9-20\n",
      "10-11\n",
      "10-12\n",
      "10-13\n",
      "10-14\n",
      "10-15\n",
      "10-16\n",
      "10-17\n",
      "10-18\n",
      "10-19\n",
      "10-20\n",
      "11-12\n",
      "11-13\n",
      "11-14\n",
      "11-15\n",
      "11-16\n",
      "11-17\n",
      "11-18\n",
      "11-19\n",
      "11-20\n",
      "12-13\n",
      "12-14\n",
      "12-15\n",
      "12-16\n",
      "12-17\n",
      "12-18\n",
      "12-19\n",
      "12-20\n",
      "13-14\n",
      "13-15\n",
      "13-16\n",
      "13-17\n",
      "13-18\n",
      "13-19\n",
      "13-20\n",
      "14-15\n",
      "14-16\n",
      "14-17\n",
      "14-18\n",
      "14-19\n",
      "14-20\n",
      "15-16\n",
      "15-17\n",
      "15-18\n",
      "15-19\n",
      "15-20\n",
      "16-17\n",
      "16-18\n",
      "16-19\n",
      "16-20\n",
      "17-18\n",
      "17-19\n",
      "17-20\n",
      "18-19\n",
      "18-20\n",
      "19-20\n"
     ]
    }
   ],
   "source": [
    "for i in range(1,21):\n",
    "    for j in range(i+1,21):\n",
    "        print(f'{i}-{j}')"
   ]
  },
  {
   "cell_type": "markdown",
   "metadata": {},
   "source": [
    "### Q1.3: Quelle est la somme des tailles de tous les baskets ?"
   ]
  },
  {
   "cell_type": "code",
   "execution_count": null,
   "metadata": {},
   "outputs": [],
   "source": [
    "# --- Votre réponse ---"
   ]
  },
  {
   "cell_type": "code",
   "execution_count": 6,
   "metadata": {},
   "outputs": [
    {
     "name": "stdout",
     "output_type": "stream",
     "text": [
      "8.06 µs ± 716 ns per loop (mean ± std. dev. of 7 runs, 100,000 loops each)\n"
     ]
    }
   ],
   "source": [
    "%%timeit\n",
    "s = 0\n",
    "for b in baskets.values():\n",
    "    s += len(b)\n",
    "s\n",
    "\n"
   ]
  },
  {
   "cell_type": "code",
   "execution_count": null,
   "metadata": {},
   "outputs": [],
   "source": [
    "%%timeit\n",
    "[len(b) for b in baskets.values()]"
   ]
  },
  {
   "cell_type": "markdown",
   "metadata": {},
   "source": [
    "### Q1.4:  Quel(s) basket(s) est/sont le plus grand ?"
   ]
  },
  {
   "cell_type": "code",
   "execution_count": null,
   "metadata": {},
   "outputs": [],
   "source": [
    "# --- Votre réponse ---"
   ]
  },
  {
   "cell_type": "code",
   "execution_count": 7,
   "metadata": {},
   "outputs": [
    {
     "data": {
      "text/plain": [
       "[(60, [1, 2, 3, 4, 5, 6, 10, 12, 15, 20, 30, 60]),\n",
       " (72, [1, 2, 3, 4, 6, 8, 9, 12, 18, 24, 36, 72]),\n",
       " (84, [1, 2, 3, 4, 6, 7, 12, 14, 21, 28, 42, 84]),\n",
       " (90, [1, 2, 3, 5, 6, 9, 10, 15, 18, 30, 45, 90]),\n",
       " (96, [1, 2, 3, 4, 6, 8, 12, 16, 24, 32, 48, 96])]"
      ]
     },
     "execution_count": 7,
     "metadata": {},
     "output_type": "execute_result"
    }
   ],
   "source": [
    "max_l = [len(v) for k, v in baskets.items()]\n",
    "#max_b = [k for k, v in baskets.items() if len(v) == max_l]\n",
    "sorted(baskets.items(), key=lambda item: len(item[1]), reverse=True)[0:5]"
   ]
  },
  {
   "cell_type": "code",
   "execution_count": null,
   "metadata": {},
   "outputs": [],
   "source": [
    "baskets"
   ]
  },
  {
   "cell_type": "markdown",
   "metadata": {},
   "source": [
    "### Q1.5: Quelle sont les confiances des règles d'association {5,7}-> 2 et  {2,3,4} -> 5 ?"
   ]
  },
  {
   "cell_type": "code",
   "execution_count": null,
   "metadata": {},
   "outputs": [],
   "source": [
    "# --- Votre réponse ---"
   ]
  },
  {
   "cell_type": "markdown",
   "metadata": {},
   "source": [
    "(a) {5, 7} -- 2\n",
    "The baskets containing both item 5 and item 7 are basket 35 and basket 70, in which only basket\n",
    "70 also contains item 2. Hence, the confidence of the association rule {5,7}-->2 is 1/2.\n",
    "</br>\n",
    "(b) {2, 3, 4} -> 5\n",
    "The baskets whose numbers are the multiples of 12 contain item set {2,3,4} as a subset, there are\n",
    "8 such baskets, while only those whose numbers are the multiples of 60 contain item set {2,3,4,5}\n",
    "as a subset, there are 1 such basket. Hence, the confidence of the association rule {2,3,4}->5 is\n",
    "1/8."
   ]
  },
  {
   "cell_type": "markdown",
   "metadata": {},
   "source": [
    "## Exercice 2 (optionnel)"
   ]
  },
  {
   "cell_type": "markdown",
   "metadata": {},
   "source": [
    "Nous considérons 100 éléments (items), numérotés de 1 à 100, ainsi que 100 paniers (baskets), également numérotés de 1 à 100. L'item *i* est placé dans le basket *b* **si et seulement si *b* divise *i* sans reste.**\n",
    "par exemple, le basket 12 contient les items {12,24,36,48,60,72,84,96}."
   ]
  },
  {
   "cell_type": "markdown",
   "metadata": {},
   "source": [
    "### Q2.1: Si s = 5, quels items sont fréquents ?"
   ]
  },
  {
   "cell_type": "code",
   "execution_count": null,
   "metadata": {},
   "outputs": [],
   "source": [
    "# --- Votre réponse ---"
   ]
  },
  {
   "cell_type": "markdown",
   "metadata": {},
   "source": [
    "### Q2.2: Si s = 5, quelles paires d'items sont fréquentes ? "
   ]
  },
  {
   "cell_type": "code",
   "execution_count": null,
   "metadata": {},
   "outputs": [],
   "source": [
    "# --- Votre réponse ---"
   ]
  },
  {
   "cell_type": "markdown",
   "metadata": {},
   "source": [
    "### Q2.3: Quelle est la somme des tailles de tous les baskets ?"
   ]
  },
  {
   "cell_type": "code",
   "execution_count": null,
   "metadata": {},
   "outputs": [],
   "source": [
    "# --- Votre réponse ---"
   ]
  },
  {
   "cell_type": "markdown",
   "metadata": {},
   "source": [
    "### Q2.4: Quelles sont les confiances des règles d'association {24,60}-> 8 et {2,3,4} -> 5 ?"
   ]
  },
  {
   "cell_type": "code",
   "execution_count": null,
   "metadata": {},
   "outputs": [],
   "source": [
    "# --- Votre réponse ---"
   ]
  },
  {
   "cell_type": "markdown",
   "metadata": {},
   "source": [
    "## Exercice 3 (optionnel)"
   ]
  },
  {
   "cell_type": "markdown",
   "metadata": {},
   "source": [
    "Considérons un jeu de données pour lequel rien d'intéressant ne peut être appris à propos des itemsets fréquents, car il n'existe aucun ensemble d'items corrélés. Supposons que les items soient numérotés de 1 à 10 et que chaque basket soit **indépendamment** construit en incluant l'item *i* avec une probabilité *1/i*.\n",
    "Ainsi, tous les baskets contiennent l'item 1, la moitié des baskets contiennent l'item 2, etc...\n",
    "Soit s = 1% du nombre de baskets. Quels sont les itemsets fréquents ?"
   ]
  },
  {
   "cell_type": "code",
   "execution_count": null,
   "metadata": {},
   "outputs": [],
   "source": [
    "# --- Votre réponse ---"
   ]
  },
  {
   "cell_type": "markdown",
   "metadata": {},
   "source": [
    "## Fin du TP"
   ]
  },
  {
   "cell_type": "markdown",
   "metadata": {},
   "source": [
    "[Quelques resources ...](https://github.com/vafajardo/MMDS_Exercises/blob/master/Exercises%206.1.1%20and%206.1.3%20and%20their%20related%20problems%20(from%20Ch.6%20Frequent%20Itemsets).ipynb)"
   ]
  },
  {
   "cell_type": "code",
   "execution_count": null,
   "metadata": {},
   "outputs": [],
   "source": [
    "import sys\n",
    "!{sys.executable} -m pip install mlxtend"
   ]
  },
  {
   "cell_type": "code",
   "execution_count": null,
   "metadata": {},
   "outputs": [],
   "source": []
  }
 ],
 "metadata": {
  "kernelspec": {
   "display_name": "Python 3.10.8 64-bit",
   "language": "python",
   "name": "python3"
  },
  "language_info": {
   "codemirror_mode": {
    "name": "ipython",
    "version": 3
   },
   "file_extension": ".py",
   "mimetype": "text/x-python",
   "name": "python",
   "nbconvert_exporter": "python",
   "pygments_lexer": "ipython3",
   "version": "3.10.8"
  },
  "vscode": {
   "interpreter": {
    "hash": "8a94588eda9d64d9e9a351ab8144e55b1fabf5113b54e67dd26a8c27df0381b3"
   }
  }
 },
 "nbformat": 4,
 "nbformat_minor": 4
}
