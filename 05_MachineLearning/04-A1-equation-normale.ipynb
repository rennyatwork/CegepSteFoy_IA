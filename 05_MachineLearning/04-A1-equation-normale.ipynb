{
 "cells": [
  {
   "cell_type": "markdown",
   "metadata": {},
   "source": [
    "**420-A52-SF - Algorithmes d'apprentissage supervisé - Automne 2022 - Spécialisation technique en Intelligence Artificielle**<br/>\n",
    "MIT License - Copyright (c) 2022 Mikaël Swawola\n",
    "<br/>\n",
    "![Travaux Pratiques - Équation normale et régression polynomiale](static/04-A1-banner.png)\n",
    "<br/>\n",
    "**Objectif:** cette séance de travaux pratique a pour objectif la résolution des paramètres optimaux d'une régression linéaire à l'aide de l'**équation normale**. La régression sera de type polynomiale et le jeu de données utilisé sera la version simplifiée (une seule variable) du jeu de données *Advertising*"
   ]
  },
  {
   "cell_type": "code",
   "execution_count": 1,
   "metadata": {},
   "outputs": [],
   "source": [
    "%reload_ext autoreload\n",
    "%autoreload 2\n",
    "%matplotlib inline"
   ]
  },
  {
   "cell_type": "markdown",
   "metadata": {},
   "source": [
    "### 0 - Chargement des bibliothèques"
   ]
  },
  {
   "cell_type": "code",
   "execution_count": 2,
   "metadata": {},
   "outputs": [],
   "source": [
    "# Manipulation de données\n",
    "import numpy as np\n",
    "import pandas as pd\n",
    "\n",
    "# Visualisation de données\n",
    "import matplotlib.pyplot as plt\n",
    "import seaborn as sns"
   ]
  },
  {
   "cell_type": "code",
   "execution_count": 3,
   "metadata": {},
   "outputs": [],
   "source": [
    "# Configuration de la visualisation\n",
    "sns.set(style=\"darkgrid\", rc={'figure.figsize':(11.7,8.27)})"
   ]
  },
  {
   "cell_type": "markdown",
   "metadata": {},
   "source": [
    "### 1 - Lecture du jeu de données advertising (avec une seule variable)"
   ]
  },
  {
   "cell_type": "markdown",
   "metadata": {},
   "source": [
    "**Exercice 1-1**: à l'aide de la bibiothèques *pandas*, lire le fichier `advertising-univariate.csv`"
   ]
  },
  {
   "cell_type": "code",
   "execution_count": 5,
   "metadata": {},
   "outputs": [],
   "source": [
    "# Compléter le code ci-dessous ~ 1 ligne\n",
    "df = pd.read_csv(\"../../data/advertising-univariate.csv\")"
   ]
  },
  {
   "cell_type": "markdown",
   "metadata": {},
   "source": [
    "**Exercice 1-2**: à l'aide de la fonction `head()`, visualiser les premières lignes de la trame de données."
   ]
  },
  {
   "cell_type": "code",
   "execution_count": 10,
   "metadata": {},
   "outputs": [
    {
     "data": {
      "text/html": [
       "<div>\n",
       "<style scoped>\n",
       "    .dataframe tbody tr th:only-of-type {\n",
       "        vertical-align: middle;\n",
       "    }\n",
       "\n",
       "    .dataframe tbody tr th {\n",
       "        vertical-align: top;\n",
       "    }\n",
       "\n",
       "    .dataframe thead th {\n",
       "        text-align: right;\n",
       "    }\n",
       "</style>\n",
       "<table border=\"1\" class=\"dataframe\">\n",
       "  <thead>\n",
       "    <tr style=\"text-align: right;\">\n",
       "      <th></th>\n",
       "      <th>TV</th>\n",
       "      <th>sales</th>\n",
       "    </tr>\n",
       "  </thead>\n",
       "  <tbody>\n",
       "    <tr>\n",
       "      <th>0</th>\n",
       "      <td>230.1</td>\n",
       "      <td>22.1</td>\n",
       "    </tr>\n",
       "    <tr>\n",
       "      <th>1</th>\n",
       "      <td>44.5</td>\n",
       "      <td>10.4</td>\n",
       "    </tr>\n",
       "    <tr>\n",
       "      <th>2</th>\n",
       "      <td>17.2</td>\n",
       "      <td>9.3</td>\n",
       "    </tr>\n",
       "    <tr>\n",
       "      <th>3</th>\n",
       "      <td>151.5</td>\n",
       "      <td>18.5</td>\n",
       "    </tr>\n",
       "    <tr>\n",
       "      <th>4</th>\n",
       "      <td>180.8</td>\n",
       "      <td>12.9</td>\n",
       "    </tr>\n",
       "  </tbody>\n",
       "</table>\n",
       "</div>"
      ],
      "text/plain": [
       "      TV  sales\n",
       "0  230.1   22.1\n",
       "1   44.5   10.4\n",
       "2   17.2    9.3\n",
       "3  151.5   18.5\n",
       "4  180.8   12.9"
      ]
     },
     "execution_count": 10,
     "metadata": {},
     "output_type": "execute_result"
    }
   ],
   "source": [
    "# Compléter le code ci-dessous ~ 1 ligne\n",
    "df.head()"
   ]
  },
  {
   "cell_type": "markdown",
   "metadata": {},
   "source": [
    "### 2 - Préparation de la structure de données (matrice des prédicteurs)"
   ]
  },
  {
   "cell_type": "markdown",
   "metadata": {},
   "source": [
    "**Exercice 2**: Construire la matrice des prédicteurs X (Design matrix). Ajouter des variables explicatives polynomiales telles que l'hypothèse soit de la forme<br/><br/>\n",
    "$h_{\\theta}(x)=\\theta_{0} + \\theta_{1}x + \\theta_{1}x^2 + \\theta_{3}x^3$"
   ]
  },
  {
   "cell_type": "code",
   "execution_count": 9,
   "metadata": {},
   "outputs": [
    {
     "ename": "AttributeError",
     "evalue": "'function' object has no attribute 'shapes'",
     "output_type": "error",
     "traceback": [
      "\u001b[0;31m---------------------------------------------------------------------------\u001b[0m",
      "\u001b[0;31mAttributeError\u001b[0m                            Traceback (most recent call last)",
      "Cell \u001b[0;32mIn [9], line 2\u001b[0m\n\u001b[1;32m      1\u001b[0m \u001b[38;5;66;03m# Compléter le code ci-dessous ~ 5 lignes\u001b[39;00m\n\u001b[0;32m----> 2\u001b[0m x0 \u001b[38;5;241m=\u001b[39m \u001b[43mnp\u001b[49m\u001b[38;5;241;43m.\u001b[39;49m\u001b[43mones\u001b[49m\u001b[38;5;241;43m.\u001b[39;49m\u001b[43mshapes\u001b[49m[\u001b[38;5;241m200\u001b[39m]\n\u001b[1;32m      3\u001b[0m x1 \u001b[38;5;241m=\u001b[39m df[\u001b[38;5;124m'\u001b[39m\u001b[38;5;124mTV\u001b[39m\u001b[38;5;124m'\u001b[39m]\u001b[38;5;241m.\u001b[39mvalues\n\u001b[1;32m      4\u001b[0m x2 \u001b[38;5;241m=\u001b[39m x1\u001b[38;5;241m*\u001b[39m\u001b[38;5;241m*\u001b[39m\u001b[38;5;241m2\u001b[39m\n",
      "\u001b[0;31mAttributeError\u001b[0m: 'function' object has no attribute 'shapes'"
     ]
    }
   ],
   "source": [
    "# Compléter le code ci-dessous ~ 5 lignes\n",
    "x0 = np.ones.shapes[200]\n",
    "x1 = df['TV'].values\n",
    "x2 = x1**2\n",
    "x3 = x1**3\n",
    "X = np.array([x0, x1, x2, x3])\n",
    "\n",
    "y = df['sales'].values"
   ]
  },
  {
   "cell_type": "markdown",
   "metadata": {},
   "source": [
    "<strong style='color: green'>TEST - Le code ci-dessous vous permet de tester la forme de `X`. Le `assert` ne doit pas renvoyer d'exception</strong>"
   ]
  },
  {
   "cell_type": "code",
   "execution_count": null,
   "metadata": {},
   "outputs": [],
   "source": [
    "assert X.shape == (4,200)"
   ]
  },
  {
   "cell_type": "markdown",
   "metadata": {},
   "source": [
    "### 3 - Définition du modèle"
   ]
  },
  {
   "cell_type": "markdown",
   "metadata": {},
   "source": [
    "**Exercice 3**: compléter la fonction ci-dessous représentant le modèle de régression polynomiale\n",
    "\n",
    "Pour rappel, l'hypothèse utilisée ici est:\n",
    "\n",
    "$h_{\\theta}(x)=\\theta_{0} + \\theta_{1}x + \\theta_{1}x^2 + \\theta_{3}x^3$"
   ]
  },
  {
   "cell_type": "code",
   "execution_count": 12,
   "metadata": {},
   "outputs": [],
   "source": [
    "def hypothesis(X, theta):\n",
    "    assert X.shape[0] == theta.shape[0] # Vérifie que la multiplication va être possible (n x m) x (m x o) => (x x o) \n",
    "    # Compléter le code ci-dessous ~ 1 ligne\n",
    "    h = np.dot(theta.T, X)\n",
    "    return h"
   ]
  },
  {
   "cell_type": "code",
   "execution_count": 13,
   "metadata": {},
   "outputs": [
    {
     "ename": "NameError",
     "evalue": "name 'X' is not defined",
     "output_type": "error",
     "traceback": [
      "\u001b[0;31m---------------------------------------------------------------------------\u001b[0m",
      "\u001b[0;31mNameError\u001b[0m                                 Traceback (most recent call last)",
      "Cell \u001b[0;32mIn [13], line 1\u001b[0m\n\u001b[0;32m----> 1\u001b[0m \u001b[43mX\u001b[49m\u001b[38;5;241m.\u001b[39mshape\n\u001b[1;32m      2\u001b[0m theta_test\u001b[38;5;241m.\u001b[39mshape\n",
      "\u001b[0;31mNameError\u001b[0m: name 'X' is not defined"
     ]
    }
   ],
   "source": [
    "X.shape\n",
    "theta_test.shape"
   ]
  },
  {
   "cell_type": "markdown",
   "metadata": {},
   "source": [
    "<strong style='color: green'>TEST - Le code ci-dessous vous permet de tester votre fonction `hypothesis`. Le `assert` ne doit pas renvoyer d'exception</strong>"
   ]
  },
  {
   "cell_type": "code",
   "execution_count": 11,
   "metadata": {},
   "outputs": [
    {
     "ename": "NameError",
     "evalue": "name 'hypothesis' is not defined",
     "output_type": "error",
     "traceback": [
      "\u001b[0;31m---------------------------------------------------------------------------\u001b[0m",
      "\u001b[0;31mNameError\u001b[0m                                 Traceback (most recent call last)",
      "Cell \u001b[0;32mIn [11], line 3\u001b[0m\n\u001b[1;32m      1\u001b[0m X_test \u001b[38;5;241m=\u001b[39m np\u001b[38;5;241m.\u001b[39marray([[\u001b[38;5;241m1\u001b[39m,\u001b[38;5;241m1\u001b[39m],[\u001b[38;5;241m3\u001b[39m,\u001b[38;5;241m4\u001b[39m],[\u001b[38;5;241m2\u001b[39m,\u001b[38;5;241m2\u001b[39m],[\u001b[38;5;241m1\u001b[39m,\u001b[38;5;241m-\u001b[39m\u001b[38;5;241m1\u001b[39m]])\n\u001b[1;32m      2\u001b[0m theta_test \u001b[38;5;241m=\u001b[39m np\u001b[38;5;241m.\u001b[39marray([\u001b[38;5;241m1\u001b[39m,\u001b[38;5;241m2\u001b[39m,\u001b[38;5;241m2\u001b[39m,\u001b[38;5;241m4\u001b[39m])\u001b[38;5;241m.\u001b[39mreshape(\u001b[38;5;241m-\u001b[39m\u001b[38;5;241m1\u001b[39m,\u001b[38;5;241m1\u001b[39m)\n\u001b[0;32m----> 3\u001b[0m \u001b[43mhypothesis\u001b[49m(X_test, theta_test)\n\u001b[1;32m      4\u001b[0m \u001b[38;5;28;01massert\u001b[39;00m np\u001b[38;5;241m.\u001b[39marray_equal(hypothesis(X_test,theta_test), np\u001b[38;5;241m.\u001b[39marray([[\u001b[38;5;241m15\u001b[39m,\u001b[38;5;241m9\u001b[39m]]))\n",
      "\u001b[0;31mNameError\u001b[0m: name 'hypothesis' is not defined"
     ]
    }
   ],
   "source": [
    "X_test = np.array([[1,1],[3,4],[2,2],[1,-1]])\n",
    "theta_test = np.array([1,2,2,4]).reshape(-1,1)\n",
    "hypothesis(X_test, theta_test)\n",
    "assert np.array_equal(hypothesis(X_test,theta_test), np.array([[15,9]]))"
   ]
  },
  {
   "cell_type": "markdown",
   "metadata": {},
   "source": [
    "### 4 - Équation normale"
   ]
  },
  {
   "cell_type": "markdown",
   "metadata": {},
   "source": [
    "**Exercice 4**: Compléter l'équation normale ci-dessous. Pour rappel, celle-ci s'exprime sous la forme:\n",
    "\n",
    "$\n",
    "\\theta=(X^TX)^{-1}X^Ty\n",
    "$\n"
   ]
  },
  {
   "cell_type": "code",
   "execution_count": null,
   "metadata": {},
   "outputs": [],
   "source": [
    "# Compléter le code ci-dessous ~ 1 ligne\n",
    "theta = np.dot(np.dot(X.T, np.linalg.inv(np.pinv(np.dot(X,X.t))).T,y)\n",
    "        \n",
    "print(f'Theta = {theta}')"
   ]
  },
  {
   "cell_type": "markdown",
   "metadata": {},
   "source": [
    "La valeur de $\\theta_j$ devrait être\n",
    "\n",
    "```Theta = [ 5.42010655e+00  9.64341770e-02 -3.15222433e-04  5.57199796e-07]```"
   ]
  },
  {
   "cell_type": "markdown",
   "metadata": {},
   "source": [
    "### 5 - Affichage du modèle"
   ]
  },
  {
   "cell_type": "code",
   "execution_count": null,
   "metadata": {},
   "outputs": [],
   "source": [
    "reg_x = np.linspace(1,300,50)\n",
    "reg_X = np.array((np.ones((50)), reg_x, reg_x**2, reg_x**3))\n",
    "reg_y = hypothesis(reg_X, theta)\n",
    "fig, ax = plt.subplots()\n",
    "ax.scatter(x1,y, label=\"Données\")\n",
    "ax.plot(reg_x, reg_y, color=\"g\", lw=3, label=\"Modèle polynomial\")\n",
    "ax.set_xlabel(\"Budget de publicité TV (en millier d'USD)\", fontsize=14)\n",
    "ax.set_ylabel(\"Ventes (en millier d'unités)\", fontsize=14)\n",
    "ax.legend(loc='upper left')"
   ]
  },
  {
   "cell_type": "markdown",
   "metadata": {},
   "source": [
    "### Fin du TP"
   ]
  }
 ],
 "metadata": {
  "kernelspec": {
   "display_name": "Python 3 (ipykernel)",
   "language": "python",
   "name": "python3"
  },
  "language_info": {
   "codemirror_mode": {
    "name": "ipython",
    "version": 3
   },
   "file_extension": ".py",
   "mimetype": "text/x-python",
   "name": "python",
   "nbconvert_exporter": "python",
   "pygments_lexer": "ipython3",
   "version": "3.10.8"
  }
 },
 "nbformat": 4,
 "nbformat_minor": 4
}
