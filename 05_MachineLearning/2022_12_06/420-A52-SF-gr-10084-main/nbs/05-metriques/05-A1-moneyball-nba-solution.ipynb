{
 "cells": [
  {
   "cell_type": "markdown",
   "metadata": {},
   "source": [
    "**420-A52-SF - Algorithmes d'apprentissage supervisé - Automne 2022 - Spécialisation technique en Intelligence Artificielle**<br/>\n",
    "MIT License - Copyright (c) 2022 Mikaël Swawola\n",
    "<br/>\n",
    "![Travaux Pratiques - Moneyball NBA](static/05-A1-banner.png)\n",
    "<br/>\n",
    "**Objectif:** cette séance de travaux pratique est consacrée à la mise en oeuvre de l'ensemble des connaissances acquises jusqu'alors sur un nouveau jeu de données, *NBA*"
   ]
  },
  {
   "cell_type": "code",
   "execution_count": 1,
   "metadata": {},
   "outputs": [],
   "source": [
    "%reload_ext autoreload\n",
    "%autoreload 2\n",
    "%matplotlib inline"
   ]
  },
  {
   "cell_type": "markdown",
   "metadata": {},
   "source": [
    "### 0 - Chargement des bibliothèques"
   ]
  },
  {
   "cell_type": "code",
   "execution_count": 2,
   "metadata": {},
   "outputs": [],
   "source": [
    "# Manipulation de données\n",
    "import numpy as np\n",
    "import pandas as pd\n",
    "\n",
    "# Visualisation de données\n",
    "import matplotlib.pyplot as plt\n",
    "import seaborn as sns"
   ]
  },
  {
   "cell_type": "code",
   "execution_count": 3,
   "metadata": {},
   "outputs": [],
   "source": [
    "# Configuration de la visualisation\n",
    "sns.set(style=\"darkgrid\", rc={'figure.figsize':(11.7,8.27)})"
   ]
  },
  {
   "cell_type": "markdown",
   "metadata": {},
   "source": [
    "### 1 - Lecture du jeu de données *NBA*"
   ]
  },
  {
   "cell_type": "markdown",
   "metadata": {},
   "source": [
    "**Lire le fichier `NBA_train.csv`**"
   ]
  },
  {
   "cell_type": "code",
   "execution_count": 4,
   "metadata": {},
   "outputs": [
    {
     "data": {
      "text/html": [
       "<div>\n",
       "<style scoped>\n",
       "    .dataframe tbody tr th:only-of-type {\n",
       "        vertical-align: middle;\n",
       "    }\n",
       "\n",
       "    .dataframe tbody tr th {\n",
       "        vertical-align: top;\n",
       "    }\n",
       "\n",
       "    .dataframe thead th {\n",
       "        text-align: right;\n",
       "    }\n",
       "</style>\n",
       "<table border=\"1\" class=\"dataframe\">\n",
       "  <thead>\n",
       "    <tr style=\"text-align: right;\">\n",
       "      <th></th>\n",
       "      <th>SeasonEnd</th>\n",
       "      <th>Team</th>\n",
       "      <th>Playoffs</th>\n",
       "      <th>W</th>\n",
       "      <th>PTS</th>\n",
       "      <th>oppPTS</th>\n",
       "      <th>FG</th>\n",
       "      <th>FGA</th>\n",
       "      <th>2P</th>\n",
       "      <th>2PA</th>\n",
       "      <th>3P</th>\n",
       "      <th>3PA</th>\n",
       "      <th>FT</th>\n",
       "      <th>FTA</th>\n",
       "      <th>ORB</th>\n",
       "      <th>DRB</th>\n",
       "      <th>AST</th>\n",
       "      <th>STL</th>\n",
       "      <th>BLK</th>\n",
       "      <th>TOV</th>\n",
       "    </tr>\n",
       "  </thead>\n",
       "  <tbody>\n",
       "    <tr>\n",
       "      <th>0</th>\n",
       "      <td>1980</td>\n",
       "      <td>Atlanta Hawks</td>\n",
       "      <td>1</td>\n",
       "      <td>50</td>\n",
       "      <td>8573</td>\n",
       "      <td>8334</td>\n",
       "      <td>3261</td>\n",
       "      <td>7027</td>\n",
       "      <td>3248</td>\n",
       "      <td>6952</td>\n",
       "      <td>13</td>\n",
       "      <td>75</td>\n",
       "      <td>2038</td>\n",
       "      <td>2645</td>\n",
       "      <td>1369</td>\n",
       "      <td>2406</td>\n",
       "      <td>1913</td>\n",
       "      <td>782</td>\n",
       "      <td>539</td>\n",
       "      <td>1495</td>\n",
       "    </tr>\n",
       "    <tr>\n",
       "      <th>1</th>\n",
       "      <td>1980</td>\n",
       "      <td>Boston Celtics</td>\n",
       "      <td>1</td>\n",
       "      <td>61</td>\n",
       "      <td>9303</td>\n",
       "      <td>8664</td>\n",
       "      <td>3617</td>\n",
       "      <td>7387</td>\n",
       "      <td>3455</td>\n",
       "      <td>6965</td>\n",
       "      <td>162</td>\n",
       "      <td>422</td>\n",
       "      <td>1907</td>\n",
       "      <td>2449</td>\n",
       "      <td>1227</td>\n",
       "      <td>2457</td>\n",
       "      <td>2198</td>\n",
       "      <td>809</td>\n",
       "      <td>308</td>\n",
       "      <td>1539</td>\n",
       "    </tr>\n",
       "    <tr>\n",
       "      <th>2</th>\n",
       "      <td>1980</td>\n",
       "      <td>Chicago Bulls</td>\n",
       "      <td>0</td>\n",
       "      <td>30</td>\n",
       "      <td>8813</td>\n",
       "      <td>9035</td>\n",
       "      <td>3362</td>\n",
       "      <td>6943</td>\n",
       "      <td>3292</td>\n",
       "      <td>6668</td>\n",
       "      <td>70</td>\n",
       "      <td>275</td>\n",
       "      <td>2019</td>\n",
       "      <td>2592</td>\n",
       "      <td>1115</td>\n",
       "      <td>2465</td>\n",
       "      <td>2152</td>\n",
       "      <td>704</td>\n",
       "      <td>392</td>\n",
       "      <td>1684</td>\n",
       "    </tr>\n",
       "    <tr>\n",
       "      <th>3</th>\n",
       "      <td>1980</td>\n",
       "      <td>Cleveland Cavaliers</td>\n",
       "      <td>0</td>\n",
       "      <td>37</td>\n",
       "      <td>9360</td>\n",
       "      <td>9332</td>\n",
       "      <td>3811</td>\n",
       "      <td>8041</td>\n",
       "      <td>3775</td>\n",
       "      <td>7854</td>\n",
       "      <td>36</td>\n",
       "      <td>187</td>\n",
       "      <td>1702</td>\n",
       "      <td>2205</td>\n",
       "      <td>1307</td>\n",
       "      <td>2381</td>\n",
       "      <td>2108</td>\n",
       "      <td>764</td>\n",
       "      <td>342</td>\n",
       "      <td>1370</td>\n",
       "    </tr>\n",
       "    <tr>\n",
       "      <th>4</th>\n",
       "      <td>1980</td>\n",
       "      <td>Denver Nuggets</td>\n",
       "      <td>0</td>\n",
       "      <td>30</td>\n",
       "      <td>8878</td>\n",
       "      <td>9240</td>\n",
       "      <td>3462</td>\n",
       "      <td>7470</td>\n",
       "      <td>3379</td>\n",
       "      <td>7215</td>\n",
       "      <td>83</td>\n",
       "      <td>255</td>\n",
       "      <td>1871</td>\n",
       "      <td>2539</td>\n",
       "      <td>1311</td>\n",
       "      <td>2524</td>\n",
       "      <td>2079</td>\n",
       "      <td>746</td>\n",
       "      <td>404</td>\n",
       "      <td>1533</td>\n",
       "    </tr>\n",
       "  </tbody>\n",
       "</table>\n",
       "</div>"
      ],
      "text/plain": [
       "   SeasonEnd                 Team  Playoffs   W   PTS  oppPTS    FG   FGA  \\\n",
       "0       1980        Atlanta Hawks         1  50  8573    8334  3261  7027   \n",
       "1       1980       Boston Celtics         1  61  9303    8664  3617  7387   \n",
       "2       1980        Chicago Bulls         0  30  8813    9035  3362  6943   \n",
       "3       1980  Cleveland Cavaliers         0  37  9360    9332  3811  8041   \n",
       "4       1980       Denver Nuggets         0  30  8878    9240  3462  7470   \n",
       "\n",
       "     2P   2PA   3P  3PA    FT   FTA   ORB   DRB   AST  STL  BLK   TOV  \n",
       "0  3248  6952   13   75  2038  2645  1369  2406  1913  782  539  1495  \n",
       "1  3455  6965  162  422  1907  2449  1227  2457  2198  809  308  1539  \n",
       "2  3292  6668   70  275  2019  2592  1115  2465  2152  704  392  1684  \n",
       "3  3775  7854   36  187  1702  2205  1307  2381  2108  764  342  1370  \n",
       "4  3379  7215   83  255  1871  2539  1311  2524  2079  746  404  1533  "
      ]
     },
     "execution_count": 4,
     "metadata": {},
     "output_type": "execute_result"
    }
   ],
   "source": [
    "# Compléter le code ci-dessous ~ 1 lign\n",
    "df = pd.read_csv(\"../../data/NBA_train.csv\")\n",
    "df.head()"
   ]
  },
  {
   "cell_type": "markdown",
   "metadata": {},
   "source": [
    "**Afficher les dix premières lignes de la trame de données**"
   ]
  },
  {
   "cell_type": "code",
   "execution_count": 5,
   "metadata": {},
   "outputs": [
    {
     "data": {
      "text/html": [
       "<div>\n",
       "<style scoped>\n",
       "    .dataframe tbody tr th:only-of-type {\n",
       "        vertical-align: middle;\n",
       "    }\n",
       "\n",
       "    .dataframe tbody tr th {\n",
       "        vertical-align: top;\n",
       "    }\n",
       "\n",
       "    .dataframe thead th {\n",
       "        text-align: right;\n",
       "    }\n",
       "</style>\n",
       "<table border=\"1\" class=\"dataframe\">\n",
       "  <thead>\n",
       "    <tr style=\"text-align: right;\">\n",
       "      <th></th>\n",
       "      <th>SeasonEnd</th>\n",
       "      <th>Team</th>\n",
       "      <th>Playoffs</th>\n",
       "      <th>W</th>\n",
       "      <th>PTS</th>\n",
       "      <th>oppPTS</th>\n",
       "      <th>FG</th>\n",
       "      <th>FGA</th>\n",
       "      <th>2P</th>\n",
       "      <th>2PA</th>\n",
       "      <th>3P</th>\n",
       "      <th>3PA</th>\n",
       "      <th>FT</th>\n",
       "      <th>FTA</th>\n",
       "      <th>ORB</th>\n",
       "      <th>DRB</th>\n",
       "      <th>AST</th>\n",
       "      <th>STL</th>\n",
       "      <th>BLK</th>\n",
       "      <th>TOV</th>\n",
       "    </tr>\n",
       "  </thead>\n",
       "  <tbody>\n",
       "    <tr>\n",
       "      <th>0</th>\n",
       "      <td>1980</td>\n",
       "      <td>Atlanta Hawks</td>\n",
       "      <td>1</td>\n",
       "      <td>50</td>\n",
       "      <td>8573</td>\n",
       "      <td>8334</td>\n",
       "      <td>3261</td>\n",
       "      <td>7027</td>\n",
       "      <td>3248</td>\n",
       "      <td>6952</td>\n",
       "      <td>13</td>\n",
       "      <td>75</td>\n",
       "      <td>2038</td>\n",
       "      <td>2645</td>\n",
       "      <td>1369</td>\n",
       "      <td>2406</td>\n",
       "      <td>1913</td>\n",
       "      <td>782</td>\n",
       "      <td>539</td>\n",
       "      <td>1495</td>\n",
       "    </tr>\n",
       "    <tr>\n",
       "      <th>1</th>\n",
       "      <td>1980</td>\n",
       "      <td>Boston Celtics</td>\n",
       "      <td>1</td>\n",
       "      <td>61</td>\n",
       "      <td>9303</td>\n",
       "      <td>8664</td>\n",
       "      <td>3617</td>\n",
       "      <td>7387</td>\n",
       "      <td>3455</td>\n",
       "      <td>6965</td>\n",
       "      <td>162</td>\n",
       "      <td>422</td>\n",
       "      <td>1907</td>\n",
       "      <td>2449</td>\n",
       "      <td>1227</td>\n",
       "      <td>2457</td>\n",
       "      <td>2198</td>\n",
       "      <td>809</td>\n",
       "      <td>308</td>\n",
       "      <td>1539</td>\n",
       "    </tr>\n",
       "    <tr>\n",
       "      <th>2</th>\n",
       "      <td>1980</td>\n",
       "      <td>Chicago Bulls</td>\n",
       "      <td>0</td>\n",
       "      <td>30</td>\n",
       "      <td>8813</td>\n",
       "      <td>9035</td>\n",
       "      <td>3362</td>\n",
       "      <td>6943</td>\n",
       "      <td>3292</td>\n",
       "      <td>6668</td>\n",
       "      <td>70</td>\n",
       "      <td>275</td>\n",
       "      <td>2019</td>\n",
       "      <td>2592</td>\n",
       "      <td>1115</td>\n",
       "      <td>2465</td>\n",
       "      <td>2152</td>\n",
       "      <td>704</td>\n",
       "      <td>392</td>\n",
       "      <td>1684</td>\n",
       "    </tr>\n",
       "    <tr>\n",
       "      <th>3</th>\n",
       "      <td>1980</td>\n",
       "      <td>Cleveland Cavaliers</td>\n",
       "      <td>0</td>\n",
       "      <td>37</td>\n",
       "      <td>9360</td>\n",
       "      <td>9332</td>\n",
       "      <td>3811</td>\n",
       "      <td>8041</td>\n",
       "      <td>3775</td>\n",
       "      <td>7854</td>\n",
       "      <td>36</td>\n",
       "      <td>187</td>\n",
       "      <td>1702</td>\n",
       "      <td>2205</td>\n",
       "      <td>1307</td>\n",
       "      <td>2381</td>\n",
       "      <td>2108</td>\n",
       "      <td>764</td>\n",
       "      <td>342</td>\n",
       "      <td>1370</td>\n",
       "    </tr>\n",
       "    <tr>\n",
       "      <th>4</th>\n",
       "      <td>1980</td>\n",
       "      <td>Denver Nuggets</td>\n",
       "      <td>0</td>\n",
       "      <td>30</td>\n",
       "      <td>8878</td>\n",
       "      <td>9240</td>\n",
       "      <td>3462</td>\n",
       "      <td>7470</td>\n",
       "      <td>3379</td>\n",
       "      <td>7215</td>\n",
       "      <td>83</td>\n",
       "      <td>255</td>\n",
       "      <td>1871</td>\n",
       "      <td>2539</td>\n",
       "      <td>1311</td>\n",
       "      <td>2524</td>\n",
       "      <td>2079</td>\n",
       "      <td>746</td>\n",
       "      <td>404</td>\n",
       "      <td>1533</td>\n",
       "    </tr>\n",
       "    <tr>\n",
       "      <th>5</th>\n",
       "      <td>1980</td>\n",
       "      <td>Detroit Pistons</td>\n",
       "      <td>0</td>\n",
       "      <td>16</td>\n",
       "      <td>8933</td>\n",
       "      <td>9609</td>\n",
       "      <td>3643</td>\n",
       "      <td>7596</td>\n",
       "      <td>3586</td>\n",
       "      <td>7377</td>\n",
       "      <td>57</td>\n",
       "      <td>219</td>\n",
       "      <td>1590</td>\n",
       "      <td>2149</td>\n",
       "      <td>1226</td>\n",
       "      <td>2415</td>\n",
       "      <td>1950</td>\n",
       "      <td>783</td>\n",
       "      <td>562</td>\n",
       "      <td>1742</td>\n",
       "    </tr>\n",
       "    <tr>\n",
       "      <th>6</th>\n",
       "      <td>1980</td>\n",
       "      <td>Golden State Warriors</td>\n",
       "      <td>0</td>\n",
       "      <td>24</td>\n",
       "      <td>8493</td>\n",
       "      <td>8853</td>\n",
       "      <td>3527</td>\n",
       "      <td>7318</td>\n",
       "      <td>3500</td>\n",
       "      <td>7197</td>\n",
       "      <td>27</td>\n",
       "      <td>121</td>\n",
       "      <td>1412</td>\n",
       "      <td>1914</td>\n",
       "      <td>1155</td>\n",
       "      <td>2437</td>\n",
       "      <td>2028</td>\n",
       "      <td>779</td>\n",
       "      <td>339</td>\n",
       "      <td>1492</td>\n",
       "    </tr>\n",
       "    <tr>\n",
       "      <th>7</th>\n",
       "      <td>1980</td>\n",
       "      <td>Houston Rockets</td>\n",
       "      <td>1</td>\n",
       "      <td>41</td>\n",
       "      <td>9084</td>\n",
       "      <td>9070</td>\n",
       "      <td>3599</td>\n",
       "      <td>7496</td>\n",
       "      <td>3495</td>\n",
       "      <td>7117</td>\n",
       "      <td>104</td>\n",
       "      <td>379</td>\n",
       "      <td>1782</td>\n",
       "      <td>2326</td>\n",
       "      <td>1394</td>\n",
       "      <td>2217</td>\n",
       "      <td>2149</td>\n",
       "      <td>782</td>\n",
       "      <td>373</td>\n",
       "      <td>1565</td>\n",
       "    </tr>\n",
       "    <tr>\n",
       "      <th>8</th>\n",
       "      <td>1980</td>\n",
       "      <td>Indiana Pacers</td>\n",
       "      <td>0</td>\n",
       "      <td>37</td>\n",
       "      <td>9119</td>\n",
       "      <td>9176</td>\n",
       "      <td>3639</td>\n",
       "      <td>7689</td>\n",
       "      <td>3551</td>\n",
       "      <td>7375</td>\n",
       "      <td>88</td>\n",
       "      <td>314</td>\n",
       "      <td>1753</td>\n",
       "      <td>2333</td>\n",
       "      <td>1398</td>\n",
       "      <td>2326</td>\n",
       "      <td>2148</td>\n",
       "      <td>900</td>\n",
       "      <td>530</td>\n",
       "      <td>1517</td>\n",
       "    </tr>\n",
       "    <tr>\n",
       "      <th>9</th>\n",
       "      <td>1980</td>\n",
       "      <td>Kansas City Kings</td>\n",
       "      <td>1</td>\n",
       "      <td>47</td>\n",
       "      <td>8860</td>\n",
       "      <td>8603</td>\n",
       "      <td>3582</td>\n",
       "      <td>7489</td>\n",
       "      <td>3557</td>\n",
       "      <td>7375</td>\n",
       "      <td>25</td>\n",
       "      <td>114</td>\n",
       "      <td>1671</td>\n",
       "      <td>2250</td>\n",
       "      <td>1187</td>\n",
       "      <td>2429</td>\n",
       "      <td>2123</td>\n",
       "      <td>863</td>\n",
       "      <td>356</td>\n",
       "      <td>1439</td>\n",
       "    </tr>\n",
       "  </tbody>\n",
       "</table>\n",
       "</div>"
      ],
      "text/plain": [
       "   SeasonEnd                   Team  Playoffs   W   PTS  oppPTS    FG   FGA  \\\n",
       "0       1980          Atlanta Hawks         1  50  8573    8334  3261  7027   \n",
       "1       1980         Boston Celtics         1  61  9303    8664  3617  7387   \n",
       "2       1980          Chicago Bulls         0  30  8813    9035  3362  6943   \n",
       "3       1980    Cleveland Cavaliers         0  37  9360    9332  3811  8041   \n",
       "4       1980         Denver Nuggets         0  30  8878    9240  3462  7470   \n",
       "5       1980        Detroit Pistons         0  16  8933    9609  3643  7596   \n",
       "6       1980  Golden State Warriors         0  24  8493    8853  3527  7318   \n",
       "7       1980        Houston Rockets         1  41  9084    9070  3599  7496   \n",
       "8       1980         Indiana Pacers         0  37  9119    9176  3639  7689   \n",
       "9       1980      Kansas City Kings         1  47  8860    8603  3582  7489   \n",
       "\n",
       "     2P   2PA   3P  3PA    FT   FTA   ORB   DRB   AST  STL  BLK   TOV  \n",
       "0  3248  6952   13   75  2038  2645  1369  2406  1913  782  539  1495  \n",
       "1  3455  6965  162  422  1907  2449  1227  2457  2198  809  308  1539  \n",
       "2  3292  6668   70  275  2019  2592  1115  2465  2152  704  392  1684  \n",
       "3  3775  7854   36  187  1702  2205  1307  2381  2108  764  342  1370  \n",
       "4  3379  7215   83  255  1871  2539  1311  2524  2079  746  404  1533  \n",
       "5  3586  7377   57  219  1590  2149  1226  2415  1950  783  562  1742  \n",
       "6  3500  7197   27  121  1412  1914  1155  2437  2028  779  339  1492  \n",
       "7  3495  7117  104  379  1782  2326  1394  2217  2149  782  373  1565  \n",
       "8  3551  7375   88  314  1753  2333  1398  2326  2148  900  530  1517  \n",
       "9  3557  7375   25  114  1671  2250  1187  2429  2123  863  356  1439  "
      ]
     },
     "execution_count": 5,
     "metadata": {},
     "output_type": "execute_result"
    }
   ],
   "source": [
    "# Compléter le code ci-dessous ~ 1 ligne\n",
    "NBA.head(10)"
   ]
  },
  {
   "cell_type": "markdown",
   "metadata": {},
   "source": [
    "Ci-dessous, la description des différentes variables explicatives du jeu de données\n",
    "</br>\n",
    "\n",
    "| Variable      | Description                                                   |\n",
    "| ------------- |:-------------------------------------------------------------:|\n",
    "| SeasonEnd     | Année de fin de la saison                                     |\n",
    "| Team          | Nom de l'équipe                                               |\n",
    "| Playoffs      | Indique si l'équipe est allée en playoffs                     |\n",
    "| W             | Nombre de victoires au cours de la saison régulière           |\n",
    "| PTS           | Nombre de points obtenus (saison régulière)                   |\n",
    "| oppPTS        | Nombre de points obtenus pas les opposants (saison régulière) |\n",
    "| FG            | Nombre de Field Goals réussis                                 |\n",
    "| FGA           | Nombre de tentatives de Field Goals                           |\n",
    "| 2P            | Nombre de 2-pointers réussis                                  |\n",
    "| 2PA           | Nombre de tentatives de 2-pointers                            |\n",
    "| 3P            | Nombre de 3-pointers réussis                                  |\n",
    "| 3PA           | Nombre de tentatives de 3-pointers                            |\n",
    "| FT            | Nombre de Free throws réussis                                 |\n",
    "| FTA           | Nombre de tentatives de Free throws                           |\n",
    "| ORB           | Nombre de rebonds offensifs                                   |\n",
    "| DRB           | Nombre de rebonds défensifs                                   |\n",
    "| AST           | Nombre de passes décisives (assists)                          |\n",
    "| STL           | Nombre d'interceptions (steals)                               |\n",
    "| BLK           | Nombre de contres (blocks)                                    |\n",
    "| TOV           | Nombre de turnovers                                           |\n"
   ]
  },
  {
   "cell_type": "markdown",
   "metadata": {},
   "source": [
    "### 1 - Régression linéaire simple"
   ]
  },
  {
   "cell_type": "markdown",
   "metadata": {},
   "source": [
    "Nous allons dans un premier temps effectuer la prédiction du nombre de victoires au cours de la saison régulière en fonction de la différence de points obtenus pas l'équipe et par ses opposants\n",
    "<br/><br/>\n",
    "Nous commencons donc par un peu d'**ingénierie de données**. Une nouvelle variable explicative correspondant à la différence de points obtenus pas l'équipe et par ses opposants est crée"
   ]
  },
  {
   "cell_type": "markdown",
   "metadata": {},
   "source": [
    "**Créer un nouvelle variable PTSdiff, représentant la différence entre PTS et oppPTS**"
   ]
  },
  {
   "cell_type": "code",
   "execution_count": 7,
   "metadata": {},
   "outputs": [],
   "source": [
    "# Compléter le code ci-dessous ~ 1 ligne\n",
    "NBA = df\n",
    "NBA['PTSdiff'] = NBA['PTS'] - NBA['oppPTS']"
   ]
  },
  {
   "cell_type": "markdown",
   "metadata": {},
   "source": [
    "**Stocker le nombre de lignes du jeu de donnée (nombre d'exemples d'entraînement) dans la variable `m`**"
   ]
  },
  {
   "cell_type": "code",
   "execution_count": 8,
   "metadata": {},
   "outputs": [],
   "source": [
    "# Compléter le code ci-dessous ~ 1 ligne\n",
    "m = len(NBA)"
   ]
  },
  {
   "cell_type": "markdown",
   "metadata": {},
   "source": [
    "**Stocker le nombre de victoires au cours de la saison dans la variable `y`. Il s'agira de la variable que l'on cherche à prédire**"
   ]
  },
  {
   "cell_type": "code",
   "execution_count": 9,
   "metadata": {},
   "outputs": [],
   "source": [
    "# Compléter le code ci-dessous ~ 1 ligne\n",
    "y  = NBA['W']"
   ]
  },
  {
   "cell_type": "markdown",
   "metadata": {},
   "source": [
    "**Créer la matrice des prédicteurs `X`.** Indice: `X` doit avoir 2 colonnes..."
   ]
  },
  {
   "cell_type": "markdown",
   "metadata": {},
   "source": []
  },
  {
   "cell_type": "code",
   "execution_count": 12,
   "metadata": {},
   "outputs": [],
   "source": [
    "# Compléter le code ci-dessous ~ 3 lignes\n",
    "x0 = np.ones((m))\n",
    "x1 = NBA['PTSdiff']\n",
    "X = np.array((x0,x1))"
   ]
  },
  {
   "cell_type": "markdown",
   "metadata": {},
   "source": [
    "**Vérifier la dimension de la matrice des prédicteurs `X`. Quelle est la dimension de `X` ?**"
   ]
  },
  {
   "cell_type": "code",
   "execution_count": 10,
   "metadata": {},
   "outputs": [
    {
     "data": {
      "text/plain": [
       "(2, 835)"
      ]
     },
     "execution_count": 10,
     "metadata": {},
     "output_type": "execute_result"
    }
   ],
   "source": [
    "# Compléter le code ci-dessous ~ 1 ligne\n",
    "X.shape"
   ]
  },
  {
   "cell_type": "markdown",
   "metadata": {},
   "source": [
    "**Créer le modèle de référence (baseline)**"
   ]
  },
  {
   "cell_type": "code",
   "execution_count": 10,
   "metadata": {},
   "outputs": [
    {
     "data": {
      "text/plain": [
       "41.0"
      ]
     },
     "execution_count": 10,
     "metadata": {},
     "output_type": "execute_result"
    }
   ],
   "source": [
    "# Compléter le code ci-dessous ~ 1 ligne\n",
    "y_baseline = y.mean()\n",
    "y_baseline"
   ]
  },
  {
   "cell_type": "markdown",
   "metadata": {},
   "source": [
    "**À l'aide de l'équation normale, trouver les paramètres optimaux du modèle de régression linéaire simple**"
   ]
  },
  {
   "cell_type": "code",
   "execution_count": 13,
   "metadata": {},
   "outputs": [
    {
     "data": {
      "text/plain": [
       "array([4.10000000e+01, 3.25863328e-02])"
      ]
     },
     "execution_count": 13,
     "metadata": {},
     "output_type": "execute_result"
    }
   ],
   "source": [
    "# Compléter le code ci-dessous ~ 1 ligne\n",
    "theta = np.dot(np.dot(np.linalg.inv(np.dot(X,X.T)),X),y)\n",
    "theta"
   ]
  },
  {
   "cell_type": "markdown",
   "metadata": {},
   "source": [
    "**Calculer la somme des carrées des erreurs (SSE)**"
   ]
  },
  {
   "cell_type": "code",
   "execution_count": 14,
   "metadata": {},
   "outputs": [
    {
     "data": {
      "text/plain": [
       "7805.790105942693"
      ]
     },
     "execution_count": 14,
     "metadata": {},
     "output_type": "execute_result"
    }
   ],
   "source": [
    "# Compléter le code ci-dessous ~ 1 ligne\n",
    "SSE = np.dot((np.dot(theta.T, X) - y).T,(np.dot(theta.T, X) - y))\n",
    "SSE"
   ]
  },
  {
   "cell_type": "markdown",
   "metadata": {},
   "source": [
    "**Calculer la racine carrée de l'erreur quadratique moyenne (RMSE)**"
   ]
  },
  {
   "cell_type": "code",
   "execution_count": 15,
   "metadata": {},
   "outputs": [
    {
     "data": {
      "text/plain": [
       "3.0574910668526023"
      ]
     },
     "execution_count": 15,
     "metadata": {},
     "output_type": "execute_result"
    }
   ],
   "source": [
    "# Compléter le code ci-dessous ~ 1 ligne\n",
    "RMSE = np.sqrt(SSE/m)\n",
    "RMSE"
   ]
  },
  {
   "cell_type": "markdown",
   "metadata": {},
   "source": [
    "**Calculer le coefficient de détermination $R^2$**"
   ]
  },
  {
   "cell_type": "code",
   "execution_count": 16,
   "metadata": {},
   "outputs": [
    {
     "data": {
      "text/plain": [
       "0.9423424819699613"
      ]
     },
     "execution_count": 16,
     "metadata": {},
     "output_type": "execute_result"
    }
   ],
   "source": [
    "# Compléter le code ci-dessous ~ 1-2 lignes\n",
    "R2 = 1 - (SSE/np.sum((y_baseline-y)**2))\n",
    "R2"
   ]
  },
  {
   "cell_type": "code",
   "execution_count": 17,
   "metadata": {},
   "outputs": [
    {
     "data": {
      "text/plain": [
       "array([4.10000000e+01, 3.25863328e-02])"
      ]
     },
     "execution_count": 17,
     "metadata": {},
     "output_type": "execute_result"
    }
   ],
   "source": [
    "theta"
   ]
  },
  {
   "cell_type": "markdown",
   "metadata": {},
   "source": [
    "**Affichage des résultats**"
   ]
  },
  {
   "cell_type": "code",
   "execution_count": 63,
   "metadata": {},
   "outputs": [
    {
     "data": {
      "text/plain": [
       "array([4.10000000e+01, 3.25863328e-02])"
      ]
     },
     "execution_count": 63,
     "metadata": {},
     "output_type": "execute_result"
    }
   ],
   "source": [
    "theta"
   ]
  },
  {
   "cell_type": "code",
   "execution_count": 77,
   "metadata": {},
   "outputs": [],
   "source": [
    "from sklearn.dummy import DummyRegressor"
   ]
  },
  {
   "cell_type": "code",
   "execution_count": 96,
   "metadata": {},
   "outputs": [
    {
     "name": "stdout",
     "output_type": "stream",
     "text": [
      "<class 'numpy.ndarray'>\n"
     ]
    }
   ],
   "source": [
    "dummy_reg = DummyRegressor(strategy='median')\n",
    "dummy_reg.fit(x1, y)\n",
    "print(type(dummy_reg.constant_))"
   ]
  },
  {
   "cell_type": "code",
   "execution_count": 97,
   "metadata": {},
   "outputs": [
    {
     "name": "stdout",
     "output_type": "stream",
     "text": [
      "<class 'numpy.ndarray'>\n"
     ]
    },
    {
     "data": {
      "text/plain": [
       "<matplotlib.legend.Legend at 0x7efbc18647d0>"
      ]
     },
     "execution_count": 97,
     "metadata": {},
     "output_type": "execute_result"
    },
    {
     "data": {
      "image/png": "[encoded data removed]",
      "text/plain": [
       "<Figure size 1170x827 with 1 Axes>"
      ]
     },
     "metadata": {},
     "output_type": "display_data"
    }
   ],
   "source": [
    "fig, ax = plt.subplots()\n",
    "## x1 = NBA[2pts]. Dados reais\n",
    "ax.scatter(x1, y,label=\"Data points\") \n",
    "## nbSamples\n",
    "nbSamples=2\n",
    "\n",
    "minX = -1000\n",
    "minY = -1000\n",
    "maxX = 1000\n",
    "maxY = 1000\n",
    "\n",
    "## linspace: Return evenly spaced numbers over a specified interval\n",
    "reg_x = np.linspace(minX,maxX,nbSamples)\n",
    "print(type(reg_x))\n",
    "## reg_y = const(theta0) + param(theta1)* vetor. theta = params optimais da eq normal \n",
    "## dados estimados\n",
    "reg_y = theta[0] + np.linspace(minX,maxX,nbSamples)* theta[1]\n",
    "\n",
    "## baseline\n",
    "ax.plot(reg_x, np.repeat(y_baseline,nbSamples), color='#777777', label=\"Baseline\", lw=2)\n",
    "\n",
    "## modèle\n",
    "ax.plot(reg_x, reg_y, color=\"g\", lw=2, label=\"Modèle\")\n",
    "\n",
    "## dummy\n",
    "reg_y_dummy = np.repeat(dummy_reg.constant_, nbSamples)\n",
    "ax.plot(reg_x, reg_y_dummy, color=\"blue\", lw=2, label=\"dummy\")\n",
    "\n",
    "ax.set_xlabel(\"Différence de points\", fontsize=16)\n",
    "ax.set_ylabel(\"Nombre de victoires\", fontsize=16)\n",
    "ax.legend(loc='upper left', fontsize=16)\n"
   ]
  },
  {
   "cell_type": "markdown",
   "metadata": {},
   "source": [
    "### 3 - Régression linéaire multiple"
   ]
  },
  {
   "cell_type": "markdown",
   "metadata": {},
   "source": [
    "Nous allons maintenant tenter de prédire le nombre de points obtenus par une équipe donnée au cours de la saison régulière en fonction des autres variables explicatives disponibles. Nous allons mettre en oeuvre plusieurs modèles de régression linéaire multiple"
   ]
  },
  {
   "cell_type": "markdown",
   "metadata": {},
   "source": [
    "**Stocker le nombre de points marqués au cours de la saison dans la variable `y`. Il s'agira de la varible que l'on cherche à prédire**"
   ]
  },
  {
   "cell_type": "code",
   "execution_count": 17,
   "metadata": {},
   "outputs": [],
   "source": [
    "# Compléter le code ci-dessous ~ 1 ligne\n",
    "y  = NBA['PTS']"
   ]
  },
  {
   "cell_type": "markdown",
   "metadata": {},
   "source": [
    "**Créer la matrice des prédicteurs `X` à partir des variables `2PA` et `3PA`**"
   ]
  },
  {
   "cell_type": "code",
   "execution_count": 18,
   "metadata": {},
   "outputs": [],
   "source": [
    "# Compléter le code ci-dessous ~ 3 lignes\n",
    "x0 = np.ones((m))\n",
    "x1 = NBA['2PA']\n",
    "x2 = NBA['3PA']\n",
    "X = np.array((x0,x1,x2))"
   ]
  },
  {
   "cell_type": "markdown",
   "metadata": {},
   "source": [
    "**Vérifier la dimension de la matrice des prédicteurs `X`. Quelle est la dimension de `X` ?**"
   ]
  },
  {
   "cell_type": "code",
   "execution_count": 19,
   "metadata": {},
   "outputs": [
    {
     "data": {
      "text/plain": [
       "(3, 835)"
      ]
     },
     "execution_count": 19,
     "metadata": {},
     "output_type": "execute_result"
    }
   ],
   "source": [
    "# Compléter le code ci-dessous ~ 1 ligne\n",
    "X.shape"
   ]
  },
  {
   "cell_type": "markdown",
   "metadata": {},
   "source": [
    "**Créer le modèle de référence (baseline)**"
   ]
  },
  {
   "cell_type": "code",
   "execution_count": 20,
   "metadata": {},
   "outputs": [
    {
     "data": {
      "text/plain": [
       "8370.239520958085"
      ]
     },
     "execution_count": 20,
     "metadata": {},
     "output_type": "execute_result"
    }
   ],
   "source": [
    "# Compléter le code ci-dessous ~ 1 ligne\n",
    "y_baseline = y.mean()\n",
    "y_baseline"
   ]
  },
  {
   "cell_type": "markdown",
   "metadata": {},
   "source": [
    "**À l'aide de l'équation normale, trouver les paramètres optimaux du modèle de régression linéaire**"
   ]
  },
  {
   "cell_type": "code",
   "execution_count": 21,
   "metadata": {},
   "outputs": [
    {
     "data": {
      "text/plain": [
       "array([845.79026343,   1.10276102,   1.04257987])"
      ]
     },
     "execution_count": 21,
     "metadata": {},
     "output_type": "execute_result"
    }
   ],
   "source": [
    "# Compléter le code ci-dessous ~ 1 ligne\n",
    "theta = np.dot(np.dot(np.linalg.inv(np.dot(X,X.T)),X),y)\n",
    "theta"
   ]
  },
  {
   "cell_type": "markdown",
   "metadata": {},
   "source": [
    "**Calculer la somme des carrées des erreurs (SSE)**"
   ]
  },
  {
   "cell_type": "code",
   "execution_count": 22,
   "metadata": {},
   "outputs": [
    {
     "data": {
      "text/plain": [
       "103540207.23869774"
      ]
     },
     "execution_count": 22,
     "metadata": {},
     "output_type": "execute_result"
    }
   ],
   "source": [
    "# Compléter le code ci-dessous ~ 1 ligne\n",
    "SSE = np.dot((np.dot(theta.T, X) - y).T,(np.dot(theta.T, X) - y))\n",
    "SSE"
   ]
  },
  {
   "cell_type": "markdown",
   "metadata": {},
   "source": [
    "**Calculer la racine carrée de l'erreur quadratique moyenne (RMSE)**"
   ]
  },
  {
   "cell_type": "code",
   "execution_count": 23,
   "metadata": {},
   "outputs": [
    {
     "data": {
      "text/plain": [
       "352.1366896392041"
      ]
     },
     "execution_count": 23,
     "metadata": {},
     "output_type": "execute_result"
    }
   ],
   "source": [
    "# Compléter le code ci-dessous ~ 1 ligne\n",
    "RMSE = np.sqrt(SSE/m)\n",
    "RMSE"
   ]
  },
  {
   "cell_type": "markdown",
   "metadata": {},
   "source": [
    "**Calculer le coefficient de détermination $R^2$**"
   ]
  },
  {
   "cell_type": "code",
   "execution_count": 24,
   "metadata": {},
   "outputs": [
    {
     "data": {
      "text/plain": [
       "0.6322685733797786"
      ]
     },
     "execution_count": 24,
     "metadata": {},
     "output_type": "execute_result"
    }
   ],
   "source": [
    "# Compléter le code ci-dessous ~ 1-2 lignes\n",
    "R2 = 1 - (SSE/np.sum((y_baseline-y)**2))\n",
    "R2"
   ]
  },
  {
   "cell_type": "markdown",
   "metadata": {},
   "source": [
    "### 3 - Ajouter les variables explicatives FTA et AST"
   ]
  },
  {
   "cell_type": "markdown",
   "metadata": {},
   "source": [
    "**Recommencer les étapes ci-dessus en incluant les variables FTA et AST**"
   ]
  },
  {
   "cell_type": "markdown",
   "metadata": {},
   "source": [
    "<strong style=\"color: red\">Attention nous obtenons ici une matrice singulière, certainement à cause d'une colinéarité entre les colonnes</strong>"
   ]
  },
  {
   "cell_type": "code",
   "execution_count": 30,
   "metadata": {},
   "outputs": [
    {
     "data": {
      "text/plain": [
       "(7, 835)"
      ]
     },
     "execution_count": 30,
     "metadata": {},
     "output_type": "execute_result"
    }
   ],
   "source": [
    "x3 = NBA['FTA']\n",
    "x4 = NBA['AST']\n",
    "X = np.concatenate((X, np.array((x3,x4))))\n",
    "X.shape"
   ]
  },
  {
   "cell_type": "code",
   "execution_count": 31,
   "metadata": {},
   "outputs": [
    {
     "data": {
      "text/plain": [
       "array([-1.64640056e+03,  8.01335733e-01,  1.11785944e+00,  5.06979894e-01,\n",
       "        5.22477909e-01,  5.06977222e-01,  5.22477903e-01])"
      ]
     },
     "execution_count": 31,
     "metadata": {},
     "output_type": "execute_result"
    }
   ],
   "source": [
    "theta = np.dot(np.dot(np.linalg.pinv(np.dot(X,X.T)),X),y)\n",
    "theta"
   ]
  },
  {
   "cell_type": "code",
   "execution_count": 32,
   "metadata": {},
   "outputs": [
    {
     "data": {
      "text/plain": [
       "35362518.170297176"
      ]
     },
     "execution_count": 32,
     "metadata": {},
     "output_type": "execute_result"
    }
   ],
   "source": [
    "SSE = np.dot((np.dot(theta.T, X) - y).T,(np.dot(theta.T, X) - y))\n",
    "SSE"
   ]
  },
  {
   "cell_type": "code",
   "execution_count": 33,
   "metadata": {},
   "outputs": [
    {
     "data": {
      "text/plain": [
       "205.79193658166625"
      ]
     },
     "execution_count": 33,
     "metadata": {},
     "output_type": "execute_result"
    }
   ],
   "source": [
    "RMSE = np.sqrt(SSE/m)\n",
    "RMSE"
   ]
  },
  {
   "cell_type": "code",
   "execution_count": 34,
   "metadata": {},
   "outputs": [
    {
     "data": {
      "text/plain": [
       "0.8744071544528769"
      ]
     },
     "execution_count": 34,
     "metadata": {},
     "output_type": "execute_result"
    }
   ],
   "source": [
    "R2 = 1 - (SSE/np.sum((y_baseline-y)**2))\n",
    "R2"
   ]
  },
  {
   "cell_type": "markdown",
   "metadata": {},
   "source": [
    "### 4 - Ajouter les variables explicatives ORB et STL"
   ]
  },
  {
   "cell_type": "markdown",
   "metadata": {},
   "source": [
    "**Recommencer les étapes ci-dessus en incluant les variables ORB et STL**"
   ]
  },
  {
   "cell_type": "code",
   "execution_count": 35,
   "metadata": {},
   "outputs": [
    {
     "data": {
      "text/plain": [
       "(9, 835)"
      ]
     },
     "execution_count": 35,
     "metadata": {},
     "output_type": "execute_result"
    }
   ],
   "source": [
    "x5 = NBA['ORB']\n",
    "x6 = NBA['STL']\n",
    "X = np.concatenate((X, np.array((x5,x6))))\n",
    "X.shape"
   ]
  },
  {
   "cell_type": "code",
   "execution_count": 42,
   "metadata": {},
   "outputs": [
    {
     "ename": "LinAlgError",
     "evalue": "Singular matrix",
     "output_type": "error",
     "traceback": [
      "\u001b[0;31m---------------------------------------------------------------------------\u001b[0m",
      "\u001b[0;31mLinAlgError\u001b[0m                               Traceback (most recent call last)",
      "Cell \u001b[0;32mIn [42], line 1\u001b[0m\n\u001b[0;32m----> 1\u001b[0m theta \u001b[38;5;241m=\u001b[39m np\u001b[38;5;241m.\u001b[39mdot(np\u001b[38;5;241m.\u001b[39mdot(\u001b[43mnp\u001b[49m\u001b[38;5;241;43m.\u001b[39;49m\u001b[43mlinalg\u001b[49m\u001b[38;5;241;43m.\u001b[39;49m\u001b[43minv\u001b[49m\u001b[43m(\u001b[49m\u001b[43mnp\u001b[49m\u001b[38;5;241;43m.\u001b[39;49m\u001b[43mdot\u001b[49m\u001b[43m(\u001b[49m\u001b[43mX\u001b[49m\u001b[43m,\u001b[49m\u001b[43mX\u001b[49m\u001b[38;5;241;43m.\u001b[39;49m\u001b[43mT\u001b[49m\u001b[43m)\u001b[49m\u001b[43m)\u001b[49m,X),y)\n\u001b[1;32m      2\u001b[0m theta\n",
      "File \u001b[0;32m<__array_function__ internals>:180\u001b[0m, in \u001b[0;36minv\u001b[0;34m(*args, **kwargs)\u001b[0m\n",
      "File \u001b[0;32m/usr/local/lib/python3.10/site-packages/numpy/linalg/linalg.py:552\u001b[0m, in \u001b[0;36minv\u001b[0;34m(a)\u001b[0m\n\u001b[1;32m    550\u001b[0m signature \u001b[38;5;241m=\u001b[39m \u001b[38;5;124m'\u001b[39m\u001b[38;5;124mD->D\u001b[39m\u001b[38;5;124m'\u001b[39m \u001b[38;5;28;01mif\u001b[39;00m isComplexType(t) \u001b[38;5;28;01melse\u001b[39;00m \u001b[38;5;124m'\u001b[39m\u001b[38;5;124md->d\u001b[39m\u001b[38;5;124m'\u001b[39m\n\u001b[1;32m    551\u001b[0m extobj \u001b[38;5;241m=\u001b[39m get_linalg_error_extobj(_raise_linalgerror_singular)\n\u001b[0;32m--> 552\u001b[0m ainv \u001b[38;5;241m=\u001b[39m \u001b[43m_umath_linalg\u001b[49m\u001b[38;5;241;43m.\u001b[39;49m\u001b[43minv\u001b[49m\u001b[43m(\u001b[49m\u001b[43ma\u001b[49m\u001b[43m,\u001b[49m\u001b[43m \u001b[49m\u001b[43msignature\u001b[49m\u001b[38;5;241;43m=\u001b[39;49m\u001b[43msignature\u001b[49m\u001b[43m,\u001b[49m\u001b[43m \u001b[49m\u001b[43mextobj\u001b[49m\u001b[38;5;241;43m=\u001b[39;49m\u001b[43mextobj\u001b[49m\u001b[43m)\u001b[49m\n\u001b[1;32m    553\u001b[0m \u001b[38;5;28;01mreturn\u001b[39;00m wrap(ainv\u001b[38;5;241m.\u001b[39mastype(result_t, copy\u001b[38;5;241m=\u001b[39m\u001b[38;5;28;01mFalse\u001b[39;00m))\n",
      "File \u001b[0;32m/usr/local/lib/python3.10/site-packages/numpy/linalg/linalg.py:89\u001b[0m, in \u001b[0;36m_raise_linalgerror_singular\u001b[0;34m(err, flag)\u001b[0m\n\u001b[1;32m     88\u001b[0m \u001b[38;5;28;01mdef\u001b[39;00m \u001b[38;5;21m_raise_linalgerror_singular\u001b[39m(err, flag):\n\u001b[0;32m---> 89\u001b[0m     \u001b[38;5;28;01mraise\u001b[39;00m LinAlgError(\u001b[38;5;124m\"\u001b[39m\u001b[38;5;124mSingular matrix\u001b[39m\u001b[38;5;124m\"\u001b[39m)\n",
      "\u001b[0;31mLinAlgError\u001b[0m: Singular matrix"
     ]
    }
   ],
   "source": [
    "theta = np.dot(np.dot(np.linalg.inv(np.dot(X,X.T)),X),y)\n",
    "theta"
   ]
  },
  {
   "cell_type": "code",
   "execution_count": 43,
   "metadata": {},
   "outputs": [
    {
     "data": {
      "text/plain": [
       "28421464.86262351"
      ]
     },
     "execution_count": 43,
     "metadata": {},
     "output_type": "execute_result"
    }
   ],
   "source": [
    "SSE = np.dot((np.dot(theta.T, X) - y).T,(np.dot(theta.T, X) - y))\n",
    "SSE"
   ]
  },
  {
   "cell_type": "code",
   "execution_count": 44,
   "metadata": {},
   "outputs": [
    {
     "data": {
      "text/plain": [
       "184.49304179347197"
      ]
     },
     "execution_count": 44,
     "metadata": {},
     "output_type": "execute_result"
    }
   ],
   "source": [
    "RMSE = np.sqrt(SSE/m)\n",
    "RMSE"
   ]
  },
  {
   "cell_type": "code",
   "execution_count": 45,
   "metadata": {},
   "outputs": [
    {
     "data": {
      "text/plain": [
       "0.8990588670884672"
      ]
     },
     "execution_count": 45,
     "metadata": {},
     "output_type": "execute_result"
    }
   ],
   "source": [
    "R2 = 1 - (SSE/np.sum((y_baseline-y)**2))\n",
    "R2"
   ]
  },
  {
   "cell_type": "markdown",
   "metadata": {},
   "source": [
    "### 5 - Ajouter les variables explicatives DRB et BLK"
   ]
  },
  {
   "cell_type": "markdown",
   "metadata": {},
   "source": [
    "**Recommencer les étapes ci-dessus en incluant les variables DRB et BLK**"
   ]
  },
  {
   "cell_type": "code",
   "execution_count": 46,
   "metadata": {},
   "outputs": [
    {
     "data": {
      "text/plain": [
       "(11, 835)"
      ]
     },
     "execution_count": 46,
     "metadata": {},
     "output_type": "execute_result"
    }
   ],
   "source": [
    "x7 = NBA['DRB']\n",
    "x8 = NBA['BLK']\n",
    "X = np.concatenate((X, np.array((x8,x8))))\n",
    "X.shape"
   ]
  },
  {
   "cell_type": "code",
   "execution_count": 47,
   "metadata": {},
   "outputs": [
    {
     "data": {
      "text/plain": [
       "array([-2.01546303e+03,  1.04828380e+00,  1.27079486e+00,  5.64226903e-01,\n",
       "        4.45465550e-01,  5.64232157e-01,  4.45461732e-01, -9.70177698e-01,\n",
       "       -2.27577422e-01, -1.94094482e-02, -1.94094482e-02])"
      ]
     },
     "execution_count": 47,
     "metadata": {},
     "output_type": "execute_result"
    }
   ],
   "source": [
    "theta = np.dot(np.dot(np.linalg.pinv(np.dot(X,X.T)),X),y)\n",
    "theta"
   ]
  },
  {
   "cell_type": "code",
   "execution_count": 48,
   "metadata": {},
   "outputs": [
    {
     "data": {
      "text/plain": [
       "28413699.449087918"
      ]
     },
     "execution_count": 48,
     "metadata": {},
     "output_type": "execute_result"
    }
   ],
   "source": [
    "SSE = np.dot((np.dot(theta.T, X) - y).T,(np.dot(theta.T, X) - y))\n",
    "SSE"
   ]
  },
  {
   "cell_type": "code",
   "execution_count": 49,
   "metadata": {},
   "outputs": [
    {
     "data": {
      "text/plain": [
       "184.46783614971469"
      ]
     },
     "execution_count": 49,
     "metadata": {},
     "output_type": "execute_result"
    }
   ],
   "source": [
    "RMSE = np.sqrt(SSE/m)\n",
    "RMSE"
   ]
  },
  {
   "cell_type": "code",
   "execution_count": 50,
   "metadata": {},
   "outputs": [
    {
     "data": {
      "text/plain": [
       "0.8990864465831765"
      ]
     },
     "execution_count": 50,
     "metadata": {},
     "output_type": "execute_result"
    }
   ],
   "source": [
    "R2 = 1 - (SSE/np.sum((y_baseline-y)**2))\n",
    "R2"
   ]
  },
  {
   "cell_type": "markdown",
   "metadata": {},
   "source": [
    "### 6 - Optionnel - Regression polynomiale"
   ]
  },
  {
   "cell_type": "markdown",
   "metadata": {},
   "source": [
    "Ajouter des variables explicatives de type polynomiales"
   ]
  },
  {
   "cell_type": "markdown",
   "metadata": {},
   "source": [
    "### Fin du TP"
   ]
  },
  {
   "cell_type": "code",
   "execution_count": 26,
   "metadata": {},
   "outputs": [],
   "source": [
    "### video aula 08 - 4/8\n",
    "import numpy as np\n",
    "from sklearn.linear_model import LinearRegression\n",
    "\n",
    "def model(x):\n",
    "    \"\"\"\n",
    "    y = x*x0 + 2*x1 +3\n",
    "    return np.dot(x, np.array([1,2]))+3\n",
    "\n",
    "    y = x+1\n",
    "    \"\"\"\n",
    "    return np.dot(x, np.array([1, 0]))+1"
   ]
  },
  {
   "cell_type": "code",
   "execution_count": 36,
   "metadata": {},
   "outputs": [],
   "source": [
    "### dados treino\n",
    "X_train = np.array([[0, 1], [1, 2], [2, 5], [3,4]])\n",
    "y_train = model(X_train)"
   ]
  },
  {
   "cell_type": "code",
   "execution_count": 37,
   "metadata": {},
   "outputs": [
    {
     "data": {
      "text/html": [
       "<style>#sk-container-id-3 {color: black;background-color: white;}#sk-container-id-3 pre{padding: 0;}#sk-container-id-3 div.sk-toggleable {background-color: white;}#sk-container-id-3 label.sk-toggleable__label {cursor: pointer;display: block;width: 100%;margin-bottom: 0;padding: 0.3em;box-sizing: border-box;text-align: center;}#sk-container-id-3 label.sk-toggleable__label-arrow:before {content: \"▸\";float: left;margin-right: 0.25em;color: #696969;}#sk-container-id-3 label.sk-toggleable__label-arrow:hover:before {color: black;}#sk-container-id-3 div.sk-estimator:hover label.sk-toggleable__label-arrow:before {color: black;}#sk-container-id-3 div.sk-toggleable__content {max-height: 0;max-width: 0;overflow: hidden;text-align: left;background-color: #f0f8ff;}#sk-container-id-3 div.sk-toggleable__content pre {margin: 0.2em;color: black;border-radius: 0.25em;background-color: #f0f8ff;}#sk-container-id-3 input.sk-toggleable__control:checked~div.sk-toggleable__content {max-height: 200px;max-width: 100%;overflow: auto;}#sk-container-id-3 input.sk-toggleable__control:checked~label.sk-toggleable__label-arrow:before {content: \"▾\";}#sk-container-id-3 div.sk-estimator input.sk-toggleable__control:checked~label.sk-toggleable__label {background-color: #d4ebff;}#sk-container-id-3 div.sk-label input.sk-toggleable__control:checked~label.sk-toggleable__label {background-color: #d4ebff;}#sk-container-id-3 input.sk-hidden--visually {border: 0;clip: rect(1px 1px 1px 1px);clip: rect(1px, 1px, 1px, 1px);height: 1px;margin: -1px;overflow: hidden;padding: 0;position: absolute;width: 1px;}#sk-container-id-3 div.sk-estimator {font-family: monospace;background-color: #f0f8ff;border: 1px dotted black;border-radius: 0.25em;box-sizing: border-box;margin-bottom: 0.5em;}#sk-container-id-3 div.sk-estimator:hover {background-color: #d4ebff;}#sk-container-id-3 div.sk-parallel-item::after {content: \"\";width: 100%;border-bottom: 1px solid gray;flex-grow: 1;}#sk-container-id-3 div.sk-label:hover label.sk-toggleable__label {background-color: #d4ebff;}#sk-container-id-3 div.sk-serial::before {content: \"\";position: absolute;border-left: 1px solid gray;box-sizing: border-box;top: 0;bottom: 0;left: 50%;z-index: 0;}#sk-container-id-3 div.sk-serial {display: flex;flex-direction: column;align-items: center;background-color: white;padding-right: 0.2em;padding-left: 0.2em;position: relative;}#sk-container-id-3 div.sk-item {position: relative;z-index: 1;}#sk-container-id-3 div.sk-parallel {display: flex;align-items: stretch;justify-content: center;background-color: white;position: relative;}#sk-container-id-3 div.sk-item::before, #sk-container-id-3 div.sk-parallel-item::before {content: \"\";position: absolute;border-left: 1px solid gray;box-sizing: border-box;top: 0;bottom: 0;left: 50%;z-index: -1;}#sk-container-id-3 div.sk-parallel-item {display: flex;flex-direction: column;z-index: 1;position: relative;background-color: white;}#sk-container-id-3 div.sk-parallel-item:first-child::after {align-self: flex-end;width: 50%;}#sk-container-id-3 div.sk-parallel-item:last-child::after {align-self: flex-start;width: 50%;}#sk-container-id-3 div.sk-parallel-item:only-child::after {width: 0;}#sk-container-id-3 div.sk-dashed-wrapped {border: 1px dashed gray;margin: 0 0.4em 0.5em 0.4em;box-sizing: border-box;padding-bottom: 0.4em;background-color: white;}#sk-container-id-3 div.sk-label label {font-family: monospace;font-weight: bold;display: inline-block;line-height: 1.2em;}#sk-container-id-3 div.sk-label-container {text-align: center;}#sk-container-id-3 div.sk-container {/* jupyter's `normalize.less` sets `[hidden] { display: none; }` but bootstrap.min.css set `[hidden] { display: none !important; }` so we also need the `!important` here to be able to override the default hidden behavior on the sphinx rendered scikit-learn.org. See: https://github.com/scikit-learn/scikit-learn/issues/21755 */display: inline-block !important;position: relative;}#sk-container-id-3 div.sk-text-repr-fallback {display: none;}</style><div id=\"sk-container-id-3\" class=\"sk-top-container\"><div class=\"sk-text-repr-fallback\"><pre>LinearRegression()</pre><b>In a Jupyter environment, please rerun this cell to show the HTML representation or trust the notebook. <br />On GitHub, the HTML representation is unable to render, please try loading this page with nbviewer.org.</b></div><div class=\"sk-container\" hidden><div class=\"sk-item\"><div class=\"sk-estimator sk-toggleable\"><input class=\"sk-toggleable__control sk-hidden--visually\" id=\"sk-estimator-id-3\" type=\"checkbox\" checked><label for=\"sk-estimator-id-3\" class=\"sk-toggleable__label sk-toggleable__label-arrow\">LinearRegression</label><div class=\"sk-toggleable__content\"><pre>LinearRegression()</pre></div></div></div></div></div>"
      ],
      "text/plain": [
       "LinearRegression()"
      ]
     },
     "execution_count": 37,
     "metadata": {},
     "output_type": "execute_result"
    }
   ],
   "source": [
    "### modelo e treinamento\n",
    "reg = LinearRegression()\n",
    "reg.fit(X_train, y_train)"
   ]
  },
  {
   "cell_type": "code",
   "execution_count": 48,
   "metadata": {},
   "outputs": [
    {
     "name": "stdout",
     "output_type": "stream",
     "text": [
      "Coefficients: [1. 0.]\n",
      "Intercept: 0.9999999999999996\n"
     ]
    }
   ],
   "source": [
    "## verify that the results corresponds to the model defined above\n",
    "print(f'Coefficients: {reg.coef_}')\n",
    "print(f'Intercept: {reg.intercept_}')"
   ]
  },
  {
   "cell_type": "code",
   "execution_count": 67,
   "metadata": {},
   "outputs": [
    {
     "name": "stdout",
     "output_type": "stream",
     "text": [
      "1.0\n"
     ]
    }
   ],
   "source": [
    "### avaliacao treino (score)\n",
    "score_train = reg.score(X_train, y_train)\n",
    "print(score_train)"
   ]
  },
  {
   "cell_type": "code",
   "execution_count": 75,
   "metadata": {},
   "outputs": [
    {
     "name": "stdout",
     "output_type": "stream",
     "text": [
      "[4. 5. 1. 8. 7. 9.]\n"
     ]
    }
   ],
   "source": [
    "### dados teste\n",
    "X_test = np.array([[3,6], [4,6], [0,0], [7,15], [6,4], [8,5]])\n",
    "y_test = reg.predict(X_test)\n",
    "print(y_test)"
   ]
  },
  {
   "cell_type": "code",
   "execution_count": 76,
   "metadata": {},
   "outputs": [
    {
     "ename": "ValueError",
     "evalue": "x and y must be the same size",
     "output_type": "error",
     "traceback": [
      "\u001b[0;31m---------------------------------------------------------------------------\u001b[0m",
      "\u001b[0;31mValueError\u001b[0m                                Traceback (most recent call last)",
      "Cell \u001b[0;32mIn [76], line 5\u001b[0m\n\u001b[1;32m      2\u001b[0m predicted_value \u001b[39m=\u001b[39m y_test\n\u001b[1;32m      4\u001b[0m plt\u001b[39m.\u001b[39mfigure(figsize\u001b[39m=\u001b[39m(\u001b[39m6\u001b[39m,\u001b[39m6\u001b[39m))\n\u001b[0;32m----> 5\u001b[0m plt\u001b[39m.\u001b[39;49mscatter(true_value, predicted_value, c\u001b[39m=\u001b[39;49m\u001b[39m'\u001b[39;49m\u001b[39mcrimson\u001b[39;49m\u001b[39m'\u001b[39;49m)\n\u001b[1;32m      6\u001b[0m plt\u001b[39m.\u001b[39myscale(\u001b[39m'\u001b[39m\u001b[39mlinear\u001b[39m\u001b[39m'\u001b[39m)\n\u001b[1;32m      7\u001b[0m plt\u001b[39m.\u001b[39mxscale(\u001b[39m'\u001b[39m\u001b[39mlinear\u001b[39m\u001b[39m'\u001b[39m)\n",
      "File \u001b[0;32m~/.local/lib/python3.11/site-packages/matplotlib/pyplot.py:2790\u001b[0m, in \u001b[0;36mscatter\u001b[0;34m(x, y, s, c, marker, cmap, norm, vmin, vmax, alpha, linewidths, edgecolors, plotnonfinite, data, **kwargs)\u001b[0m\n\u001b[1;32m   2785\u001b[0m \u001b[39m@_copy_docstring_and_deprecators\u001b[39m(Axes\u001b[39m.\u001b[39mscatter)\n\u001b[1;32m   2786\u001b[0m \u001b[39mdef\u001b[39;00m \u001b[39mscatter\u001b[39m(\n\u001b[1;32m   2787\u001b[0m         x, y, s\u001b[39m=\u001b[39m\u001b[39mNone\u001b[39;00m, c\u001b[39m=\u001b[39m\u001b[39mNone\u001b[39;00m, marker\u001b[39m=\u001b[39m\u001b[39mNone\u001b[39;00m, cmap\u001b[39m=\u001b[39m\u001b[39mNone\u001b[39;00m, norm\u001b[39m=\u001b[39m\u001b[39mNone\u001b[39;00m,\n\u001b[1;32m   2788\u001b[0m         vmin\u001b[39m=\u001b[39m\u001b[39mNone\u001b[39;00m, vmax\u001b[39m=\u001b[39m\u001b[39mNone\u001b[39;00m, alpha\u001b[39m=\u001b[39m\u001b[39mNone\u001b[39;00m, linewidths\u001b[39m=\u001b[39m\u001b[39mNone\u001b[39;00m, \u001b[39m*\u001b[39m,\n\u001b[1;32m   2789\u001b[0m         edgecolors\u001b[39m=\u001b[39m\u001b[39mNone\u001b[39;00m, plotnonfinite\u001b[39m=\u001b[39m\u001b[39mFalse\u001b[39;00m, data\u001b[39m=\u001b[39m\u001b[39mNone\u001b[39;00m, \u001b[39m*\u001b[39m\u001b[39m*\u001b[39mkwargs):\n\u001b[0;32m-> 2790\u001b[0m     __ret \u001b[39m=\u001b[39m gca()\u001b[39m.\u001b[39;49mscatter(\n\u001b[1;32m   2791\u001b[0m         x, y, s\u001b[39m=\u001b[39;49ms, c\u001b[39m=\u001b[39;49mc, marker\u001b[39m=\u001b[39;49mmarker, cmap\u001b[39m=\u001b[39;49mcmap, norm\u001b[39m=\u001b[39;49mnorm,\n\u001b[1;32m   2792\u001b[0m         vmin\u001b[39m=\u001b[39;49mvmin, vmax\u001b[39m=\u001b[39;49mvmax, alpha\u001b[39m=\u001b[39;49malpha, linewidths\u001b[39m=\u001b[39;49mlinewidths,\n\u001b[1;32m   2793\u001b[0m         edgecolors\u001b[39m=\u001b[39;49medgecolors, plotnonfinite\u001b[39m=\u001b[39;49mplotnonfinite,\n\u001b[1;32m   2794\u001b[0m         \u001b[39m*\u001b[39;49m\u001b[39m*\u001b[39;49m({\u001b[39m\"\u001b[39;49m\u001b[39mdata\u001b[39;49m\u001b[39m\"\u001b[39;49m: data} \u001b[39mif\u001b[39;49;00m data \u001b[39mis\u001b[39;49;00m \u001b[39mnot\u001b[39;49;00m \u001b[39mNone\u001b[39;49;00m \u001b[39melse\u001b[39;49;00m {}), \u001b[39m*\u001b[39;49m\u001b[39m*\u001b[39;49mkwargs)\n\u001b[1;32m   2795\u001b[0m     sci(__ret)\n\u001b[1;32m   2796\u001b[0m     \u001b[39mreturn\u001b[39;00m __ret\n",
      "File \u001b[0;32m~/.local/lib/python3.11/site-packages/matplotlib/__init__.py:1423\u001b[0m, in \u001b[0;36m_preprocess_data.<locals>.inner\u001b[0;34m(ax, data, *args, **kwargs)\u001b[0m\n\u001b[1;32m   1420\u001b[0m \u001b[39m@functools\u001b[39m\u001b[39m.\u001b[39mwraps(func)\n\u001b[1;32m   1421\u001b[0m \u001b[39mdef\u001b[39;00m \u001b[39minner\u001b[39m(ax, \u001b[39m*\u001b[39margs, data\u001b[39m=\u001b[39m\u001b[39mNone\u001b[39;00m, \u001b[39m*\u001b[39m\u001b[39m*\u001b[39mkwargs):\n\u001b[1;32m   1422\u001b[0m     \u001b[39mif\u001b[39;00m data \u001b[39mis\u001b[39;00m \u001b[39mNone\u001b[39;00m:\n\u001b[0;32m-> 1423\u001b[0m         \u001b[39mreturn\u001b[39;00m func(ax, \u001b[39m*\u001b[39;49m\u001b[39mmap\u001b[39;49m(sanitize_sequence, args), \u001b[39m*\u001b[39;49m\u001b[39m*\u001b[39;49mkwargs)\n\u001b[1;32m   1425\u001b[0m     bound \u001b[39m=\u001b[39m new_sig\u001b[39m.\u001b[39mbind(ax, \u001b[39m*\u001b[39margs, \u001b[39m*\u001b[39m\u001b[39m*\u001b[39mkwargs)\n\u001b[1;32m   1426\u001b[0m     auto_label \u001b[39m=\u001b[39m (bound\u001b[39m.\u001b[39marguments\u001b[39m.\u001b[39mget(label_namer)\n\u001b[1;32m   1427\u001b[0m                   \u001b[39mor\u001b[39;00m bound\u001b[39m.\u001b[39mkwargs\u001b[39m.\u001b[39mget(label_namer))\n",
      "File \u001b[0;32m~/.local/lib/python3.11/site-packages/matplotlib/axes/_axes.py:4520\u001b[0m, in \u001b[0;36mAxes.scatter\u001b[0;34m(self, x, y, s, c, marker, cmap, norm, vmin, vmax, alpha, linewidths, edgecolors, plotnonfinite, **kwargs)\u001b[0m\n\u001b[1;32m   4518\u001b[0m y \u001b[39m=\u001b[39m np\u001b[39m.\u001b[39mma\u001b[39m.\u001b[39mravel(y)\n\u001b[1;32m   4519\u001b[0m \u001b[39mif\u001b[39;00m x\u001b[39m.\u001b[39msize \u001b[39m!=\u001b[39m y\u001b[39m.\u001b[39msize:\n\u001b[0;32m-> 4520\u001b[0m     \u001b[39mraise\u001b[39;00m \u001b[39mValueError\u001b[39;00m(\u001b[39m\"\u001b[39m\u001b[39mx and y must be the same size\u001b[39m\u001b[39m\"\u001b[39m)\n\u001b[1;32m   4522\u001b[0m \u001b[39mif\u001b[39;00m s \u001b[39mis\u001b[39;00m \u001b[39mNone\u001b[39;00m:\n\u001b[1;32m   4523\u001b[0m     s \u001b[39m=\u001b[39m (\u001b[39m20\u001b[39m \u001b[39mif\u001b[39;00m mpl\u001b[39m.\u001b[39mrcParams[\u001b[39m'\u001b[39m\u001b[39m_internal.classic_mode\u001b[39m\u001b[39m'\u001b[39m] \u001b[39melse\u001b[39;00m\n\u001b[1;32m   4524\u001b[0m          mpl\u001b[39m.\u001b[39mrcParams[\u001b[39m'\u001b[39m\u001b[39mlines.markersize\u001b[39m\u001b[39m'\u001b[39m] \u001b[39m*\u001b[39m\u001b[39m*\u001b[39m \u001b[39m2.0\u001b[39m)\n",
      "\u001b[0;31mValueError\u001b[0m: x and y must be the same size"
     ]
    },
    {
     "data": {
      "image/png": "[encoded data removed]",
      "text/plain": [
       "<Figure size 600x600 with 1 Axes>"
      ]
     },
     "metadata": {},
     "output_type": "display_data"
    }
   ],
   "source": [
    "true_value = y_train\n",
    "predicted_value = y_test\n",
    "\n",
    "plt.figure(figsize=(6,6))\n",
    "plt.scatter(true_value, predicted_value, c='crimson')\n",
    "plt.yscale('linear')\n",
    "plt.xscale('linear')\n",
    "\n",
    "p1 = max(max(predicted_value), max(true_value))\n",
    "p2 = min(min(predicted_value), min(true_value))\n",
    "plt.plot([p1, p2], [p1, p2], 'b-')\n",
    "plt.xlabel('True Values', fontsize=15)\n",
    "plt.ylabel('Predictions', fontsize=15)\n",
    "plt.axis('equal')\n",
    "plt.show()"
   ]
  },
  {
   "cell_type": "code",
   "execution_count": null,
   "metadata": {},
   "outputs": [],
   "source": [
    "fig, ax = plt.subplots()\n",
    "## x1 = dados reais\n",
    "ax.scatter(X_test, y,label=\"Data points\") \n",
    "## nbSamples\n",
    "nbSamples=2\n",
    "\n",
    "## linspace: Return evenly spaced numbers over a specified interval\n",
    "reg_x = np.linspace(0,12,nbSamples)\n",
    "## reg_y = const(theta0) + param(theta1)* vetor. theta = params optimais da eq normal \n",
    "reg_y = theta[0] + np.linspace(-1000,1000,nbSamples)* theta[1]\n",
    "reg_y = reg.coef[0]\n",
    "\n",
    "## baseline\n",
    "ax.plot(reg_x, np.repeat(y_baseline,nbSamples), color='#777777', label=\"Baseline\", lw=2)\n",
    "\n",
    "## modèle\n",
    "ax.plot(reg_x, reg_y, color=\"g\", lw=2, label=\"Modèle\")\n",
    "ax.set_xlabel(\"Différence de points\", fontsize=16)\n",
    "ax.set_ylabel(\"Nombre de victoires\", fontsize=16)\n",
    "ax.legend(loc='upper left', fontsize=16)"
   ]
  },
  {
   "cell_type": "code",
   "execution_count": null,
   "metadata": {},
   "outputs": [],
   "source": []
  },
  {
   "cell_type": "code",
   "execution_count": 47,
   "metadata": {},
   "outputs": [
    {
     "data": {
      "text/plain": [
       "1.0"
      ]
     },
     "execution_count": 47,
     "metadata": {},
     "output_type": "execute_result"
    }
   ],
   "source": [
    "score_test = reg.score(X_test, y_test)"
   ]
  },
  {
   "cell_type": "code",
   "execution_count": null,
   "metadata": {},
   "outputs": [],
   "source": [
    "## https://towardsdatascience.com/machine-learning-with-python-regression-complete-tutorial-47268e546cea\n",
    "\n",
    "scores = []\n",
    "\n",
    "fig = plt.figure()\n",
    "i = 1\n",
    "for train, test in cv.split(X_train, y_train):\n",
    "    prediction = model.fit(X_train[train],\n",
    "                 y_train[train]).predict(X_train[test])\n",
    "    true = y_train[test]\n",
    "    score = metrics.r2_score(true, prediction)\n",
    "    scores.append(score)\n",
    "    plt.scatter(prediction, true, lw=2, alpha=0.3, \n",
    "                label='Fold %d (R2 = %0.2f)' % (i,score))\n",
    "    i = i+1\n",
    "plt.plot([min(y_train),max(y_train)], [min(y_train),max(y_train)], \n",
    "         linestyle='--', lw=2, color='black')\n",
    "plt.xlabel('Predicted')\n",
    "plt.ylabel('True')\n",
    "plt.title('K-Fold Validation')\n",
    "plt.legend()\n",
    "plt.show()"
   ]
  }
 ],
 "metadata": {
  "kernelspec": {
   "display_name": "Python 3.11.0 64-bit",
   "language": "python",
   "name": "python3"
  },
  "language_info": {
   "codemirror_mode": {
    "name": "ipython",
    "version": 3
   },
   "file_extension": ".py",
   "mimetype": "text/x-python",
   "name": "python",
   "nbconvert_exporter": "python",
   "pygments_lexer": "ipython3",
   "version": "3.11.0"
  },
  "vscode": {
   "interpreter": {
    "hash": "31f2aee4e71d21fbe5cf8b01ff0e069b9275f58929596ceb00d14d90e3e16cd6"
   }
  }
 },
 "nbformat": 4,
 "nbformat_minor": 4
}
