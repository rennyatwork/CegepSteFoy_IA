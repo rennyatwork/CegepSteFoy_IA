{
 "cells": [
  {
   "cell_type": "code",
   "execution_count": 1,
   "id": "3fbc3188",
   "metadata": {},
   "outputs": [],
   "source": [
    "import pandas as pd\n",
    "import seaborn as sns\n",
    "import numpy as np\n",
    "from sklearn import linear_model\n",
    "from sklearn.model_selection import cross_val_score\n",
    "from sklearn.metrics import confusion_matrix\n",
    "from sklearn.metrics import classification_report\n",
    "#from sklearn.datasets import load_iris\n",
    "from sklearn.model_selection import train_test_split\n",
    "from sklearn.preprocessing import StandardScaler"
   ]
  },
  {
   "cell_type": "markdown",
   "id": "0ce95d59",
   "metadata": {},
   "source": [
    "####\n",
    "\n",
    "Lecture du csv\n",
    "\n",
    "\n",
    "####"
   ]
  },
  {
   "cell_type": "code",
   "execution_count": 2,
   "id": "ad44188a",
   "metadata": {},
   "outputs": [
    {
     "data": {
      "text/plain": [
       "(7574, 39)"
      ]
     },
     "execution_count": 2,
     "metadata": {},
     "output_type": "execute_result"
    }
   ],
   "source": [
    "df = pd.read_csv(\"./data/chansons.csv\")\n",
    "df.shape"
   ]
  },
  {
   "cell_type": "markdown",
   "id": "22b50fa2",
   "metadata": {},
   "source": [
    "###\n",
    "\n",
    "39 colonnes... possible/probablement on aura de la colinéarité\n",
    "\n",
    "Analysons un peu plus\n",
    "\n",
    "###"
   ]
  },
  {
   "cell_type": "code",
   "execution_count": 3,
   "id": "9d0774f3",
   "metadata": {},
   "outputs": [
    {
     "data": {
      "text/plain": [
       "annee                       0\n",
       "titre                       0\n",
       "artiste                     0\n",
       "chansonID                   0\n",
       "artisteID                   0\n",
       "signature_temp              0\n",
       "signature_temp_confiance    0\n",
       "intensite                   0\n",
       "tempo                       0\n",
       "tempo_confiance             0\n",
       "gamme                       0\n",
       "gamme_confiance             0\n",
       "energie                     0\n",
       "hauteur                     0\n",
       "timbre_0_min                0\n",
       "timbre_0_max                0\n",
       "timbre_1_min                0\n",
       "timbre_1_max                0\n",
       "timbre_2_min                0\n",
       "timbre_2_max                0\n",
       "timbre_3_min                0\n",
       "timbre_3_max                0\n",
       "timbre_4_min                0\n",
       "timbre_4_max                0\n",
       "timbre_5_min                0\n",
       "timbre_5_max                0\n",
       "timbre_6_min                0\n",
       "timbre_6_max                0\n",
       "timbre_7_min                0\n",
       "timbre_7_max                0\n",
       "timbre_8_min                0\n",
       "timbre_8_max                0\n",
       "timbre_9_min                0\n",
       "timbre_9_max                0\n",
       "timbre_10_min               0\n",
       "timbre_10_max               0\n",
       "timbre_11_min               0\n",
       "timbre_11_max               0\n",
       "Top10                       0\n",
       "dtype: int64"
      ]
     },
     "execution_count": 3,
     "metadata": {},
     "output_type": "execute_result"
    }
   ],
   "source": [
    "df.isnull().sum()"
   ]
  },
  {
   "cell_type": "markdown",
   "id": "4dc7eccf",
   "metadata": {},
   "source": [
    "###\n",
    "\n",
    "Pas de nulls à régler\n",
    "\n",
    "###"
   ]
  },
  {
   "cell_type": "markdown",
   "id": "067202c0",
   "metadata": {},
   "source": [
    "###\n",
    "\n",
    "Obtention des dfX (var indépend) et dfY (target, var dépend)\n",
    "\n",
    "\n",
    "###"
   ]
  },
  {
   "cell_type": "code",
   "execution_count": 4,
   "id": "a74e5422",
   "metadata": {},
   "outputs": [],
   "source": [
    "## retourne les dataframes X et Y. Par défaut, supprimer les colonnes ID\n",
    "def getDfXDfY(pDf, pColY, pColsXDrop=['chansonID', 'artisteID']):\n",
    "    dfY = pd.DataFrame(pDf[pColY], columns = [pColY])\n",
    "    dfX = pDf.drop(pColY, axis=1)\n",
    "    return dfX, dfY"
   ]
  },
  {
   "cell_type": "code",
   "execution_count": 5,
   "id": "2ba25d14",
   "metadata": {},
   "outputs": [],
   "source": [
    "dfX, dfY = getDfXDfY(df, 'Top10')"
   ]
  },
  {
   "cell_type": "code",
   "execution_count": 6,
   "id": "6dfff58d",
   "metadata": {},
   "outputs": [
    {
     "data": {
      "text/plain": [
       "annee                         int64\n",
       "titre                        object\n",
       "artiste                      object\n",
       "chansonID                    object\n",
       "artisteID                    object\n",
       "signature_temp                int64\n",
       "signature_temp_confiance    float64\n",
       "intensite                   float64\n",
       "tempo                       float64\n",
       "tempo_confiance             float64\n",
       "gamme                         int64\n",
       "gamme_confiance             float64\n",
       "energie                     float64\n",
       "hauteur                     float64\n",
       "timbre_0_min                float64\n",
       "timbre_0_max                float64\n",
       "timbre_1_min                float64\n",
       "timbre_1_max                float64\n",
       "timbre_2_min                float64\n",
       "timbre_2_max                float64\n",
       "timbre_3_min                float64\n",
       "timbre_3_max                float64\n",
       "timbre_4_min                float64\n",
       "timbre_4_max                float64\n",
       "timbre_5_min                float64\n",
       "timbre_5_max                float64\n",
       "timbre_6_min                float64\n",
       "timbre_6_max                float64\n",
       "timbre_7_min                float64\n",
       "timbre_7_max                float64\n",
       "timbre_8_min                float64\n",
       "timbre_8_max                float64\n",
       "timbre_9_min                float64\n",
       "timbre_9_max                float64\n",
       "timbre_10_min               float64\n",
       "timbre_10_max               float64\n",
       "timbre_11_min               float64\n",
       "timbre_11_max               float64\n",
       "dtype: object"
      ]
     },
     "execution_count": 6,
     "metadata": {},
     "output_type": "execute_result"
    }
   ],
   "source": [
    "dfX.dtypes"
   ]
  },
  {
   "cell_type": "markdown",
   "id": "a6ad0d1b",
   "metadata": {},
   "source": [
    "####\n",
    "\n",
    "On prevoir les top 10.\n",
    "Voyons qui sont les top 10 \n",
    "\n",
    "\n",
    "#####"
   ]
  },
  {
   "cell_type": "code",
   "execution_count": 7,
   "id": "8db7e973",
   "metadata": {},
   "outputs": [],
   "source": [
    "dfTop10 = df[(df['Top10']==1)]"
   ]
  },
  {
   "cell_type": "markdown",
   "id": "7331eef9",
   "metadata": {},
   "source": [
    "####\n",
    "\n",
    "On voit que 1119/7574 sont top 10 artists.\n",
    "Examinons un petit plus\n",
    "\n",
    "####"
   ]
  },
  {
   "cell_type": "code",
   "execution_count": 8,
   "id": "c1685c22",
   "metadata": {},
   "outputs": [
    {
     "name": "stdout",
     "output_type": "stream",
     "text": [
      "nb top 10 artistes:  576\n",
      "nb artistes:  1032\n",
      "% artistes dans le top 10:  0.56\n"
     ]
    }
   ],
   "source": [
    "nbTop10Artistes = len(dfTop10['artiste'].unique())\n",
    "nbArtistes = len(df['artiste'].unique())\n",
    "print ('nb top 10 artistes: ', nbTop10Artistes)\n",
    "print ('nb artistes: ', nbArtistes)\n",
    "print ('% artistes dans le top 10: ' , round((nbTop10Artistes/nbArtistes), 2))\n",
    "       \n"
   ]
  },
  {
   "cell_type": "markdown",
   "id": "38dbf1c4",
   "metadata": {},
   "source": [
    "###\n",
    "\n",
    "Ok... un peu plus que la moitié sont dans le Top 10 (top 10 de ...?)\n",
    "J'imaginais que le top 10 seraient 10\n",
    "\n",
    "Premier constat:\n",
    "- si l'artiste figure dans le dataframe, il a des fortes chances (56%) d'être dans le top 10\n",
    "\n",
    "\n",
    "Faisons une analyse visuelle du dataframe\n",
    "\n",
    "###"
   ]
  },
  {
   "cell_type": "code",
   "execution_count": 9,
   "id": "9423a9c2",
   "metadata": {},
   "outputs": [],
   "source": [
    "## cela tue le kernel\n",
    "#sns.pairplot(df)"
   ]
  },
  {
   "cell_type": "markdown",
   "id": "df3b611f",
   "metadata": {},
   "source": [
    "###\n",
    "\n",
    "Baseline - dummy classifier\n",
    "\n",
    "###"
   ]
  },
  {
   "cell_type": "code",
   "execution_count": 10,
   "id": "45319118",
   "metadata": {},
   "outputs": [],
   "source": [
    "### Dummy Classifier\n",
    "from sklearn.dummy import DummyClassifier"
   ]
  },
  {
   "cell_type": "code",
   "execution_count": 16,
   "id": "85f36a2b",
   "metadata": {},
   "outputs": [],
   "source": [
    "## imprime les metrics\n",
    "ATENÇÃO !!!! ---> classification metrics!!!\n",
    "def print_metrics(pModel, pDfX, pDfY):\n",
    "    print(\"[score]: \", pModel.score(pDfX, pDfY))"
   ]
  },
  {
   "cell_type": "code",
   "execution_count": 17,
   "id": "548848c3",
   "metadata": {},
   "outputs": [],
   "source": [
    "### dummy\n",
    "def analyze_dummy(pDfX, pDfY, pTestSize=0.2):\n",
    "    model = DummyClassifier(strategy=\"most_frequent\")\n",
    "    X_train, X_test, y_train, y_test = train_test_split(pDfX, pDfY, test_size=pTestSize)\n",
    "    model.fit(X_train, y_train)\n",
    "    print_metrics(model, X_train, y_train)"
   ]
  },
  {
   "cell_type": "code",
   "execution_count": null,
   "id": "a501952c",
   "metadata": {},
   "outputs": [],
   "source": []
  },
  {
   "cell_type": "code",
   "execution_count": 18,
   "id": "29c41854",
   "metadata": {},
   "outputs": [
    {
     "name": "stdout",
     "output_type": "stream",
     "text": [
      "[score]:  0.854596468064037\n"
     ]
    }
   ],
   "source": [
    "analyze_dummy(dfX, dfY)"
   ]
  },
  {
   "cell_type": "code",
   "execution_count": null,
   "id": "a19fa46e",
   "metadata": {},
   "outputs": [],
   "source": []
  }
 ],
 "metadata": {
  "kernelspec": {
   "display_name": "Python 3 (ipykernel)",
   "language": "python",
   "name": "python3"
  },
  "language_info": {
   "codemirror_mode": {
    "name": "ipython",
    "version": 3
   },
   "file_extension": ".py",
   "mimetype": "text/x-python",
   "name": "python",
   "nbconvert_exporter": "python",
   "pygments_lexer": "ipython3",
   "version": "3.10.8"
  }
 },
 "nbformat": 4,
 "nbformat_minor": 5
}
