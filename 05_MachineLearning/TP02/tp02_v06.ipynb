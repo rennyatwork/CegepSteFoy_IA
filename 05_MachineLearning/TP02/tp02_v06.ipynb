{
 "cells": [
  {
   "cell_type": "code",
   "execution_count": 1,
   "id": "d82a4c84",
   "metadata": {},
   "outputs": [],
   "source": [
    "import pandas as pd\n",
    "import seaborn as sns\n",
    "import numpy as np\n",
    "from sklearn import linear_model\n",
    "from sklearn.model_selection import cross_val_score\n",
    "from sklearn.metrics import confusion_matrix\n",
    "from sklearn.metrics import classification_report\n",
    "#from sklearn.datasets import load_iris\n",
    "from sklearn.model_selection import train_test_split\n",
    "from sklearn.preprocessing import StandardScaler\n",
    "from sklearn.metrics import ConfusionMatrixDisplay\n",
    "from sklearn.metrics import classification_report, confusion_matrix, accuracy_score\n",
    "from sklearn import tree"
   ]
  },
  {
   "cell_type": "markdown",
   "id": "4c1f2c22",
   "metadata": {},
   "source": [
    "####\n",
    "\n",
    "Lecture du csv\n",
    "\n",
    "\n",
    "####"
   ]
  },
  {
   "cell_type": "code",
   "execution_count": 2,
   "id": "f837507b",
   "metadata": {},
   "outputs": [
    {
     "data": {
      "text/plain": [
       "(7574, 39)"
      ]
     },
     "execution_count": 2,
     "metadata": {},
     "output_type": "execute_result"
    }
   ],
   "source": [
    "df = pd.read_csv(\"./data/chansons.csv\")\n",
    "df.shape"
   ]
  },
  {
   "cell_type": "markdown",
   "id": "cec5715c",
   "metadata": {},
   "source": [
    "###\n",
    "\n",
    "39 colonnes... possible/probablement on aura de la colinéarité\n",
    "\n",
    "Analysons un peu plus\n",
    "\n",
    "###"
   ]
  },
  {
   "cell_type": "code",
   "execution_count": 3,
   "id": "bde1556d",
   "metadata": {},
   "outputs": [
    {
     "data": {
      "text/plain": [
       "annee                       0\n",
       "titre                       0\n",
       "artiste                     0\n",
       "chansonID                   0\n",
       "artisteID                   0\n",
       "signature_temp              0\n",
       "signature_temp_confiance    0\n",
       "intensite                   0\n",
       "tempo                       0\n",
       "tempo_confiance             0\n",
       "gamme                       0\n",
       "gamme_confiance             0\n",
       "energie                     0\n",
       "hauteur                     0\n",
       "timbre_0_min                0\n",
       "timbre_0_max                0\n",
       "timbre_1_min                0\n",
       "timbre_1_max                0\n",
       "timbre_2_min                0\n",
       "timbre_2_max                0\n",
       "timbre_3_min                0\n",
       "timbre_3_max                0\n",
       "timbre_4_min                0\n",
       "timbre_4_max                0\n",
       "timbre_5_min                0\n",
       "timbre_5_max                0\n",
       "timbre_6_min                0\n",
       "timbre_6_max                0\n",
       "timbre_7_min                0\n",
       "timbre_7_max                0\n",
       "timbre_8_min                0\n",
       "timbre_8_max                0\n",
       "timbre_9_min                0\n",
       "timbre_9_max                0\n",
       "timbre_10_min               0\n",
       "timbre_10_max               0\n",
       "timbre_11_min               0\n",
       "timbre_11_max               0\n",
       "Top10                       0\n",
       "dtype: int64"
      ]
     },
     "execution_count": 3,
     "metadata": {},
     "output_type": "execute_result"
    }
   ],
   "source": [
    "df.isnull().sum()"
   ]
  },
  {
   "cell_type": "markdown",
   "id": "9694ca7f",
   "metadata": {},
   "source": [
    "###\n",
    "\n",
    "Pas de nulls à régler\n",
    "\n",
    "###"
   ]
  },
  {
   "cell_type": "code",
   "execution_count": 4,
   "id": "1c841e24",
   "metadata": {},
   "outputs": [
    {
     "data": {
      "text/html": [
       "<div>\n",
       "<style scoped>\n",
       "    .dataframe tbody tr th:only-of-type {\n",
       "        vertical-align: middle;\n",
       "    }\n",
       "\n",
       "    .dataframe tbody tr th {\n",
       "        vertical-align: top;\n",
       "    }\n",
       "\n",
       "    .dataframe thead th {\n",
       "        text-align: right;\n",
       "    }\n",
       "</style>\n",
       "<table border=\"1\" class=\"dataframe\">\n",
       "  <thead>\n",
       "    <tr style=\"text-align: right;\">\n",
       "      <th></th>\n",
       "      <th>annee</th>\n",
       "      <th>titre</th>\n",
       "      <th>artiste</th>\n",
       "      <th>chansonID</th>\n",
       "      <th>artisteID</th>\n",
       "      <th>signature_temp</th>\n",
       "      <th>signature_temp_confiance</th>\n",
       "      <th>intensite</th>\n",
       "      <th>tempo</th>\n",
       "      <th>tempo_confiance</th>\n",
       "      <th>...</th>\n",
       "      <th>timbre_7_max</th>\n",
       "      <th>timbre_8_min</th>\n",
       "      <th>timbre_8_max</th>\n",
       "      <th>timbre_9_min</th>\n",
       "      <th>timbre_9_max</th>\n",
       "      <th>timbre_10_min</th>\n",
       "      <th>timbre_10_max</th>\n",
       "      <th>timbre_11_min</th>\n",
       "      <th>timbre_11_max</th>\n",
       "      <th>Top10</th>\n",
       "    </tr>\n",
       "  </thead>\n",
       "  <tbody>\n",
       "    <tr>\n",
       "      <th>0</th>\n",
       "      <td>2010</td>\n",
       "      <td>This Is the House That Doubt Built</td>\n",
       "      <td>A Day to Remember</td>\n",
       "      <td>SOBGGAB12C5664F054</td>\n",
       "      <td>AROBSHL1187B9AFB01</td>\n",
       "      <td>3</td>\n",
       "      <td>0.853</td>\n",
       "      <td>-4.262</td>\n",
       "      <td>91.525</td>\n",
       "      <td>0.953</td>\n",
       "      <td>...</td>\n",
       "      <td>82.475</td>\n",
       "      <td>-52.025</td>\n",
       "      <td>39.116</td>\n",
       "      <td>-35.368</td>\n",
       "      <td>71.642</td>\n",
       "      <td>-126.440</td>\n",
       "      <td>18.658</td>\n",
       "      <td>-44.770</td>\n",
       "      <td>25.989</td>\n",
       "      <td>0</td>\n",
       "    </tr>\n",
       "    <tr>\n",
       "      <th>1</th>\n",
       "      <td>2010</td>\n",
       "      <td>Sticks &amp; Bricks</td>\n",
       "      <td>A Day to Remember</td>\n",
       "      <td>SOPAQHU1315CD47F31</td>\n",
       "      <td>AROBSHL1187B9AFB01</td>\n",
       "      <td>4</td>\n",
       "      <td>1.000</td>\n",
       "      <td>-4.051</td>\n",
       "      <td>140.048</td>\n",
       "      <td>0.921</td>\n",
       "      <td>...</td>\n",
       "      <td>106.918</td>\n",
       "      <td>-61.320</td>\n",
       "      <td>35.378</td>\n",
       "      <td>-81.928</td>\n",
       "      <td>74.574</td>\n",
       "      <td>-103.808</td>\n",
       "      <td>121.935</td>\n",
       "      <td>-38.892</td>\n",
       "      <td>22.513</td>\n",
       "      <td>0</td>\n",
       "    </tr>\n",
       "    <tr>\n",
       "      <th>2</th>\n",
       "      <td>2010</td>\n",
       "      <td>All I Want</td>\n",
       "      <td>A Day to Remember</td>\n",
       "      <td>SOOIZOU1376E7C6386</td>\n",
       "      <td>AROBSHL1187B9AFB01</td>\n",
       "      <td>4</td>\n",
       "      <td>1.000</td>\n",
       "      <td>-3.571</td>\n",
       "      <td>160.512</td>\n",
       "      <td>0.489</td>\n",
       "      <td>...</td>\n",
       "      <td>80.621</td>\n",
       "      <td>-59.773</td>\n",
       "      <td>45.979</td>\n",
       "      <td>-46.293</td>\n",
       "      <td>59.904</td>\n",
       "      <td>-108.313</td>\n",
       "      <td>33.300</td>\n",
       "      <td>-43.733</td>\n",
       "      <td>25.744</td>\n",
       "      <td>0</td>\n",
       "    </tr>\n",
       "    <tr>\n",
       "      <th>3</th>\n",
       "      <td>2010</td>\n",
       "      <td>It's Complicated</td>\n",
       "      <td>A Day to Remember</td>\n",
       "      <td>SODRYWD1315CD49DBE</td>\n",
       "      <td>AROBSHL1187B9AFB01</td>\n",
       "      <td>4</td>\n",
       "      <td>1.000</td>\n",
       "      <td>-3.815</td>\n",
       "      <td>97.525</td>\n",
       "      <td>0.794</td>\n",
       "      <td>...</td>\n",
       "      <td>96.675</td>\n",
       "      <td>-78.660</td>\n",
       "      <td>41.088</td>\n",
       "      <td>-49.194</td>\n",
       "      <td>95.440</td>\n",
       "      <td>-102.676</td>\n",
       "      <td>46.422</td>\n",
       "      <td>-59.439</td>\n",
       "      <td>37.082</td>\n",
       "      <td>0</td>\n",
       "    </tr>\n",
       "    <tr>\n",
       "      <th>4</th>\n",
       "      <td>2010</td>\n",
       "      <td>2nd Sucks</td>\n",
       "      <td>A Day to Remember</td>\n",
       "      <td>SOICMQB1315CD46EE3</td>\n",
       "      <td>AROBSHL1187B9AFB01</td>\n",
       "      <td>4</td>\n",
       "      <td>0.788</td>\n",
       "      <td>-4.707</td>\n",
       "      <td>140.053</td>\n",
       "      <td>0.286</td>\n",
       "      <td>...</td>\n",
       "      <td>110.332</td>\n",
       "      <td>-56.450</td>\n",
       "      <td>37.555</td>\n",
       "      <td>-48.588</td>\n",
       "      <td>67.570</td>\n",
       "      <td>-52.796</td>\n",
       "      <td>22.888</td>\n",
       "      <td>-50.414</td>\n",
       "      <td>32.758</td>\n",
       "      <td>0</td>\n",
       "    </tr>\n",
       "  </tbody>\n",
       "</table>\n",
       "<p>5 rows × 39 columns</p>\n",
       "</div>"
      ],
      "text/plain": [
       "   annee                               titre            artiste  \\\n",
       "0   2010  This Is the House That Doubt Built  A Day to Remember   \n",
       "1   2010                     Sticks & Bricks  A Day to Remember   \n",
       "2   2010                          All I Want  A Day to Remember   \n",
       "3   2010                    It's Complicated  A Day to Remember   \n",
       "4   2010                           2nd Sucks  A Day to Remember   \n",
       "\n",
       "            chansonID           artisteID  signature_temp  \\\n",
       "0  SOBGGAB12C5664F054  AROBSHL1187B9AFB01               3   \n",
       "1  SOPAQHU1315CD47F31  AROBSHL1187B9AFB01               4   \n",
       "2  SOOIZOU1376E7C6386  AROBSHL1187B9AFB01               4   \n",
       "3  SODRYWD1315CD49DBE  AROBSHL1187B9AFB01               4   \n",
       "4  SOICMQB1315CD46EE3  AROBSHL1187B9AFB01               4   \n",
       "\n",
       "   signature_temp_confiance  intensite    tempo  tempo_confiance  ...  \\\n",
       "0                     0.853     -4.262   91.525            0.953  ...   \n",
       "1                     1.000     -4.051  140.048            0.921  ...   \n",
       "2                     1.000     -3.571  160.512            0.489  ...   \n",
       "3                     1.000     -3.815   97.525            0.794  ...   \n",
       "4                     0.788     -4.707  140.053            0.286  ...   \n",
       "\n",
       "   timbre_7_max  timbre_8_min  timbre_8_max  timbre_9_min  timbre_9_max  \\\n",
       "0        82.475       -52.025        39.116       -35.368        71.642   \n",
       "1       106.918       -61.320        35.378       -81.928        74.574   \n",
       "2        80.621       -59.773        45.979       -46.293        59.904   \n",
       "3        96.675       -78.660        41.088       -49.194        95.440   \n",
       "4       110.332       -56.450        37.555       -48.588        67.570   \n",
       "\n",
       "   timbre_10_min  timbre_10_max  timbre_11_min  timbre_11_max  Top10  \n",
       "0       -126.440         18.658        -44.770         25.989      0  \n",
       "1       -103.808        121.935        -38.892         22.513      0  \n",
       "2       -108.313         33.300        -43.733         25.744      0  \n",
       "3       -102.676         46.422        -59.439         37.082      0  \n",
       "4        -52.796         22.888        -50.414         32.758      0  \n",
       "\n",
       "[5 rows x 39 columns]"
      ]
     },
     "execution_count": 4,
     "metadata": {},
     "output_type": "execute_result"
    }
   ],
   "source": [
    "## un apperçu des variables\n",
    "df.head()"
   ]
  },
  {
   "cell_type": "code",
   "execution_count": 5,
   "id": "5b34b22f",
   "metadata": {},
   "outputs": [],
   "source": [
    "## Standard scaler. On a des variables dans le 10^0, 10^2. \n",
    "## Mieux vaut les mettre à la même échelle\n",
    "def getScaledDf(pDfX, pScaler = StandardScaler()):\n",
    "    return pScaler.fit_transform(pDfX)"
   ]
  },
  {
   "cell_type": "code",
   "execution_count": null,
   "id": "1965bd23",
   "metadata": {},
   "outputs": [],
   "source": []
  },
  {
   "cell_type": "markdown",
   "id": "6257fcd7",
   "metadata": {},
   "source": [
    "###\n",
    "\n",
    "Obtention des dfX (var indépend) et dfY (target, var dépend)\n",
    "\n",
    "\n",
    "###"
   ]
  },
  {
   "cell_type": "code",
   "execution_count": 6,
   "id": "23027ca2",
   "metadata": {},
   "outputs": [],
   "source": [
    "## retourne les dataframes X et Y. Par défaut, supprimer les colonnes ID\n",
    "def getDfXDfY(pDf, pColY, pColsXDrop=['chansonID', 'artisteID']):\n",
    "    dfY = pd.DataFrame(pDf[pColY], columns = [pColY])\n",
    "    #print(type(pColsXDrop))\n",
    "    #print(type(pColY))\n",
    "    lstColsExcl=[]\n",
    "    lstColsExcl.extend(pColsXDrop)\n",
    "    lstColsExcl.append(pColY)\n",
    "    print(lstColsExcl)\n",
    "    dfX = pDf.drop(lstColsExcl, axis=1)\n",
    "    return dfX, dfY"
   ]
  },
  {
   "cell_type": "code",
   "execution_count": 7,
   "id": "b63f6254",
   "metadata": {},
   "outputs": [
    {
     "name": "stdout",
     "output_type": "stream",
     "text": [
      "['chansonID', 'artisteID', 'Top10']\n"
     ]
    }
   ],
   "source": [
    "dfX, dfY = getDfXDfY(df, 'Top10')"
   ]
  },
  {
   "cell_type": "code",
   "execution_count": 8,
   "id": "f9d6313e",
   "metadata": {},
   "outputs": [
    {
     "data": {
      "text/plain": [
       "annee                         int64\n",
       "titre                        object\n",
       "artiste                      object\n",
       "signature_temp                int64\n",
       "signature_temp_confiance    float64\n",
       "intensite                   float64\n",
       "tempo                       float64\n",
       "tempo_confiance             float64\n",
       "gamme                         int64\n",
       "gamme_confiance             float64\n",
       "energie                     float64\n",
       "hauteur                     float64\n",
       "timbre_0_min                float64\n",
       "timbre_0_max                float64\n",
       "timbre_1_min                float64\n",
       "timbre_1_max                float64\n",
       "timbre_2_min                float64\n",
       "timbre_2_max                float64\n",
       "timbre_3_min                float64\n",
       "timbre_3_max                float64\n",
       "timbre_4_min                float64\n",
       "timbre_4_max                float64\n",
       "timbre_5_min                float64\n",
       "timbre_5_max                float64\n",
       "timbre_6_min                float64\n",
       "timbre_6_max                float64\n",
       "timbre_7_min                float64\n",
       "timbre_7_max                float64\n",
       "timbre_8_min                float64\n",
       "timbre_8_max                float64\n",
       "timbre_9_min                float64\n",
       "timbre_9_max                float64\n",
       "timbre_10_min               float64\n",
       "timbre_10_max               float64\n",
       "timbre_11_min               float64\n",
       "timbre_11_max               float64\n",
       "dtype: object"
      ]
     },
     "execution_count": 8,
     "metadata": {},
     "output_type": "execute_result"
    }
   ],
   "source": [
    "dfX.dtypes"
   ]
  },
  {
   "cell_type": "code",
   "execution_count": 9,
   "id": "5f0c533b",
   "metadata": {},
   "outputs": [
    {
     "name": "stdout",
     "output_type": "stream",
     "text": [
      "1032\n",
      "7141\n"
     ]
    }
   ],
   "source": [
    "print(len(dfX['artiste'].unique()))\n",
    "print(len(dfX['titre'].unique()))\n"
   ]
  },
  {
   "cell_type": "markdown",
   "id": "a67df33a",
   "metadata": {},
   "source": [
    "####\n",
    "\n",
    "Qu'est-ce qu'on fait avec les variables texte? On crée environ 8k colonnes avec get_dummies?\n",
    "On les drop?\n",
    "\n",
    "Pour l'instant, on va les ignorer (drop)\n",
    "\n",
    "####"
   ]
  },
  {
   "cell_type": "code",
   "execution_count": 10,
   "id": "448b29ee",
   "metadata": {},
   "outputs": [],
   "source": [
    "## obtention d'un df numérique\n",
    "\n",
    "dfXNum = dfX.select_dtypes(exclude=['object'])"
   ]
  },
  {
   "cell_type": "code",
   "execution_count": 11,
   "id": "7894cf85",
   "metadata": {},
   "outputs": [
    {
     "data": {
      "text/plain": [
       "0"
      ]
     },
     "execution_count": 11,
     "metadata": {},
     "output_type": "execute_result"
    }
   ],
   "source": [
    "dfXNum.isnull().values.sum()"
   ]
  },
  {
   "cell_type": "markdown",
   "id": "1b54dba8",
   "metadata": {},
   "source": [
    "####\n",
    "\n",
    "On prevoit les top 10.\n",
    "Voyons qui sont les top 10 \n",
    "\n",
    "\n",
    "#####"
   ]
  },
  {
   "cell_type": "code",
   "execution_count": 12,
   "id": "a3cb17c8",
   "metadata": {},
   "outputs": [
    {
     "data": {
      "text/plain": [
       "1119"
      ]
     },
     "execution_count": 12,
     "metadata": {},
     "output_type": "execute_result"
    }
   ],
   "source": [
    "dfTop10 = df[(df['Top10']==1)]\n",
    "len(dfTop10)\n"
   ]
  },
  {
   "cell_type": "markdown",
   "id": "b5b1852e",
   "metadata": {},
   "source": [
    "####\n",
    "\n",
    "On voit que 1119/7574 sont top 10 artists.\n",
    "Examinons un petit plus\n",
    "\n",
    "####"
   ]
  },
  {
   "cell_type": "code",
   "execution_count": 13,
   "id": "bbf13214",
   "metadata": {},
   "outputs": [
    {
     "name": "stdout",
     "output_type": "stream",
     "text": [
      "nb top 10 artistes:  576\n",
      "nb artistes:  1032\n",
      "% artistes dans le top 10:  0.56\n",
      "% de rows du dataframe qui sont dans le top 10:  0.15\n"
     ]
    }
   ],
   "source": [
    "nbTop10Artistes = len(dfTop10['artiste'].unique())\n",
    "nbArtistes = len(df['artiste'].unique())\n",
    "\n",
    "nbRowsTop10 = len(dfTop10)\n",
    "nbRowsTotal = len(df)\n",
    "\n",
    "print ('nb top 10 artistes: ', nbTop10Artistes)\n",
    "print ('nb artistes: ', nbArtistes)\n",
    "print ('% artistes dans le top 10: ' , round((nbTop10Artistes/nbArtistes), 2))\n",
    "print ('% de rows du dataframe qui sont dans le top 10: ', round((nbRowsTop10/nbRowsTotal), 2))\n",
    "       \n"
   ]
  },
  {
   "cell_type": "markdown",
   "id": "66c7f693",
   "metadata": {},
   "source": [
    "###\n",
    "\n",
    "Un peu plus que la moitié d'artistes sont dans le Top 10 \n",
    "Environ 15% des enregistrements correspondent au Top 10\n",
    "\n",
    "\n",
    "\n",
    "###"
   ]
  },
  {
   "cell_type": "code",
   "execution_count": 14,
   "id": "67db4f3f",
   "metadata": {},
   "outputs": [],
   "source": [
    "## cela tue le kernel\n",
    "#sns.pairplot(df)"
   ]
  },
  {
   "cell_type": "code",
   "execution_count": 15,
   "id": "851bb7e8",
   "metadata": {},
   "outputs": [],
   "source": [
    "### retourne les dataframes X et Y: train, validation et test (donc, 6 dataframes de retour). \n",
    "def get_train_val_test(pDfX, pDfY,  pTestSize=0.2):\n",
    "    ### test\n",
    "    X_train_0, X_test, y_train_0, y_test = train_test_split(pDfX\n",
    "                                                            , pDfY\n",
    "                                                            , test_size=pTestSize\n",
    "                                                            , shuffle=True\n",
    "                                                            , random_state=0\n",
    "                                                            , stratify=pDfY\n",
    "                                                           )\n",
    "    ## train, val\n",
    "    X_train, X_val, y_train, y_val = train_test_split(X_train_0\n",
    "                                                      , y_train_0\n",
    "                                                      , train_size=0.5\n",
    "                                                      , shuffle=True\n",
    "                                                      , random_state=0\n",
    "                                                      , stratify=y_train_0\n",
    "                                                     )\n",
    "    return X_train, X_val, X_test, y_train, y_val, y_test"
   ]
  },
  {
   "cell_type": "markdown",
   "id": "6baf0bcf",
   "metadata": {},
   "source": [
    "####\n",
    "\n",
    "Au long du cours on a vu plusieurs algorithmes de classification (knn, arbres de décision, forêts aléatoires) et aussi le choix de meilleurs paramètres avec une méthode exaustive (GridSearchCV) ou aléatoire (RandomizedSearchCV) \n",
    "\n",
    "Dans les lignes qui suivent, on va appliquer la recherche aléatoire pour obtention des hyperparamètres en combinaison avec les algorithmes de classification\n",
    "\n",
    "\n",
    "Comme dans le TP01, on va créer une série des focntions que l'on appelera par la suite pour faciliter la réutilisation du code par les différentes algorithmes de classification\n",
    "\n",
    "####"
   ]
  },
  {
   "cell_type": "code",
   "execution_count": null,
   "id": "11f38b76",
   "metadata": {},
   "outputs": [],
   "source": []
  },
  {
   "cell_type": "code",
   "execution_count": 30,
   "id": "f959c431",
   "metadata": {},
   "outputs": [],
   "source": [
    "\n",
    "from sklearn.dummy import DummyClassifier, DummyRegressor\n",
    "from sklearn.model_selection import RandomizedSearchCV\n",
    "from sklearn.neighbors import KNeighborsClassifier\n",
    "from sklearn.tree import DecisionTreeClassifier\n",
    "from sklearn.linear_model import LogisticRegression\n",
    "from sklearn.ensemble import BaggingClassifier, ExtraTreesClassifier, RandomForestClassifier, HistGradientBoostingClassifier, GradientBoostingClassifier\n",
    "from sklearn.utils.fixes import loguniform\n",
    "from scipy.stats import randint\n",
    "import matplotlib.pyplot as plt\n",
    "from sklearn.metrics import  roc_curve, roc_auc_score\n",
    "from sklearn.metrics import PrecisionRecallDisplay\n",
    "from sklearn.metrics import precision_recall_curve\n",
    "from sklearn.metrics import average_precision_score\n",
    "from sklearn.metrics import auc"
   ]
  },
  {
   "cell_type": "code",
   "execution_count": 31,
   "id": "4df59990",
   "metadata": {},
   "outputs": [],
   "source": [
    "def plot_roc_curve(pYVal, pYValProba, pLabel):\n",
    "    \n",
    "    #fpr, tpr, thresholds = roc_curve(y_val, y_val_pred_label)\n",
    "    fpr, tpr, thresholds = roc_curve(pYVal, pYValProba)\n",
    "    fig = plt.figure(4, figsize=(6,6))\n",
    "    plt.plot([0,1], [0, 1], 'k--')\n",
    "    plt.plot(fpr, tpr, label=pLabel)\n",
    "    plt.xlabel('False positive rate')\n",
    "    plt.ylabel('True positive rate')\n",
    "    #plot_roc_curve(fpr, tpr)\n",
    "    plt.show()"
   ]
  },
  {
   "cell_type": "code",
   "execution_count": 32,
   "id": "84125068",
   "metadata": {},
   "outputs": [],
   "source": [
    "def plot_multi_roc_curve(pDictResults):\n",
    "    print (\"--[plot_multi_roc_curve]--\")\n",
    "    \n",
    "    fig = plt.figure(4, figsize=(7,7))\n",
    "       \n",
    "    \n",
    "    for key in pDictResults.keys():\n",
    "        print(\"[key]: \", key)\n",
    "        innerDict = pDictResults.get(key)\n",
    "        y_actual = innerDict.get('y_actual')\n",
    "        y_pred = innerDict.get('y_pred')\n",
    "        roc_auc = innerDict.get('roc_auc_score')\n",
    "\n",
    "        fpr, tpr, thresholds = roc_curve(y_actual, y_pred)\n",
    "        \n",
    "\n",
    "        plt.plot(fpr, tpr,label = key + \" - [roc_auc]: \"+str(round(roc_auc, 3)))\n",
    "        #plot_roc_curve(fpr, tpr, label=key)\n",
    "\n",
    "\n",
    "    plt.plot([0,1], [0, 1], 'k--')\n",
    "    plt.xlabel('False positive rate')\n",
    "    plt.ylabel('True positive rate')\n",
    "    plt.legend(loc='lower right')\n",
    "    \n",
    "    plt.show()   "
   ]
  },
  {
   "cell_type": "code",
   "execution_count": 33,
   "id": "2dec19d2",
   "metadata": {},
   "outputs": [],
   "source": [
    "## precision recall curve\n",
    "def plot_multi_precision_recall(pDictResults):\n",
    "    print (\"--[plot_multi_precision_recall--\")\n",
    "    \n",
    "    fig = plt.figure(4, figsize=(7,7))\n",
    "       \n",
    "    \n",
    "    for key in pDictResults.keys():\n",
    "        print(\"[key]: \", key)\n",
    "        innerDict = pDictResults.get(key)\n",
    "        y_actual = innerDict.get('y_actual')\n",
    "        y_pred = innerDict.get('y_pred')\n",
    "        #roc_auc = innerDict.get('roc_auc_score')\n",
    "\n",
    "        precision, recall, thresholds = precision_recall_curve(y_actual, y_pred)\n",
    "        #auc_precision_recall = auc(recall, precision)\n",
    "        avg_precision = average_precision_score(y_actual, y_pred)\n",
    "        \n",
    "\n",
    "        #plt.plot(recall, precision,label = key + \" - [auc]: \"+str(round(auc_precision_recall, 3)))\n",
    "        plt.plot(recall, precision,label = key + \" - [avg_precision]: \"+str(round(avg_precision, 3)))\n",
    "        #plot_roc_curve(fpr, tpr, label=key)\n",
    "\n",
    "\n",
    "    #plt.plot([1,1], [1, 0], 'k--')\n",
    "    #no_skill = len(testy[testy==1]) / len(testy)\n",
    "    #pyplot.plot([0, 1], [no_skill, no_skill], linestyle='--', label='No Skill')\n",
    "    #pyplot.plot(lr_recall, lr_precision, marker='.', label='Logistic')\n",
    "    # axis labels\n",
    "    plt.xlabel('Precision')\n",
    "    plt.ylabel('Recall')\n",
    "    plt.legend(loc='lower left')\n",
    "    \n",
    "    plt.show() \n",
    "\n",
    "\n",
    "    "
   ]
  },
  {
   "cell_type": "code",
   "execution_count": null,
   "id": "175f7233",
   "metadata": {},
   "outputs": [
    {
     "name": "stdout",
     "output_type": "stream",
     "text": [
      "-------------\n",
      "[model]:  DummyClassifier()\n",
      "[params]:  {'strategy': ['most_frequent', 'prior']}\n",
      "RandomizedSearchCV(cv=5, estimator=DummyClassifier(), n_iter=8,\n",
      "                   param_distributions={'strategy': ['most_frequent', 'prior']},\n",
      "                   random_state=2023, scoring='recall')\n",
      "Best params:  {'strategy': 'most_frequent'}\n",
      "Best score: [recall]: 0.0\n",
      "AUC = 0.5\n",
      "len(dictResults):  1\n"
     ]
    },
    {
     "name": "stderr",
     "output_type": "stream",
     "text": [
      "/usr/local/lib/python3.10/site-packages/sklearn/model_selection/_search.py:306: UserWarning: The total space of parameters 2 is smaller than n_iter=8. Running 2 iterations. For exhaustive searches, use GridSearchCV.\n",
      "  warnings.warn(\n"
     ]
    },
    {
     "data": {
      "image/png": "[encoded data removed]",
      "text/plain": [
       "<Figure size 600x600 with 1 Axes>"
      ]
     },
     "metadata": {},
     "output_type": "display_data"
    },
    {
     "name": "stdout",
     "output_type": "stream",
     "text": [
      "-------------\n",
      "[model]:  LogisticRegression(max_iter=194, random_state=2023, solver='saga')\n",
      "[params]:  {'C': <scipy.stats._distn_infrastructure.rv_continuous_frozen object at 0x7f658c1739a0>, 'l1_ratio': [0, 0.05, 0.1, 0.5, 1], 'penalty': ['elasticnet']}\n",
      "RandomizedSearchCV(cv=5,\n",
      "                   estimator=LogisticRegression(max_iter=194, random_state=2023,\n",
      "                                                solver='saga'),\n",
      "                   n_iter=8,\n",
      "                   param_distributions={'C': <scipy.stats._distn_infrastructure.rv_continuous_frozen object at 0x7f658c1739a0>,\n",
      "                                        'l1_ratio': [0, 0.05, 0.1, 0.5, 1],\n",
      "                                        'penalty': ['elasticnet']},\n",
      "                   random_state=2023, scoring='recall')\n",
      "Best params:  {'C': 2.3697671765772466, 'l1_ratio': 1, 'penalty': 'elasticnet'}\n",
      "Best score: [recall]: 0.22139825218476905\n",
      "AUC = 0.8272596204665928\n",
      "len(dictResults):  2\n"
     ]
    },
    {
     "data": {
      "image/png": "[encoded data removed]",
      "text/plain": [
       "<Figure size 600x600 with 1 Axes>"
      ]
     },
     "metadata": {},
     "output_type": "display_data"
    },
    {
     "name": "stdout",
     "output_type": "stream",
     "text": [
      "-------------\n",
      "[model]:  KNeighborsClassifier()\n",
      "[params]:  {'n_neighbors': [2, 3, 5, 10, 20], 'leaf_size': [10, 20, 30], 'p': [1, 2, 3], 'metric': ['minkowski', 'euclidean', 'manhattan'], 'weights': ['uniform', 'distance']}\n",
      "RandomizedSearchCV(cv=5, estimator=KNeighborsClassifier(), n_iter=8,\n",
      "                   param_distributions={'leaf_size': [10, 20, 30],\n",
      "                                        'metric': ['minkowski', 'euclidean',\n",
      "                                                   'manhattan'],\n",
      "                                        'n_neighbors': [2, 3, 5, 10, 20],\n",
      "                                        'p': [1, 2, 3],\n",
      "                                        'weights': ['uniform', 'distance']},\n",
      "                   random_state=2023, scoring='recall')\n",
      "Best params:  {'weights': 'uniform', 'p': 2, 'n_neighbors': 3, 'metric': 'manhattan', 'leaf_size': 20}\n",
      "Best score: [recall]: 0.26861423220973785\n",
      "AUC = 0.927203822020285\n",
      "len(dictResults):  3\n"
     ]
    },
    {
     "data": {
      "image/png": "[encoded data removed]",
      "text/plain": [
       "<Figure size 600x600 with 1 Axes>"
      ]
     },
     "metadata": {},
     "output_type": "display_data"
    },
    {
     "name": "stdout",
     "output_type": "stream",
     "text": [
      "-------------\n",
      "[model]:  DecisionTreeClassifier()\n",
      "[params]:  {'criterion': ['gini', 'entropy'], 'ccp_alpha': <scipy.stats._distn_infrastructure.rv_continuous_frozen object at 0x7f658c171ba0>, 'max_depth': <scipy.stats._distn_infrastructure.rv_discrete_frozen object at 0x7f658c1705e0>}\n",
      "RandomizedSearchCV(cv=5, estimator=DecisionTreeClassifier(), n_iter=8,\n",
      "                   param_distributions={'ccp_alpha': <scipy.stats._distn_infrastructure.rv_continuous_frozen object at 0x7f658c171ba0>,\n",
      "                                        'criterion': ['gini', 'entropy'],\n",
      "                                        'max_depth': <scipy.stats._distn_infrastructure.rv_discrete_frozen object at 0x7f658c1705e0>},\n",
      "                   random_state=2023, scoring='recall')\n",
      "Best params:  {'ccp_alpha': 0.001356869154129798, 'criterion': 'entropy', 'max_depth': 55}\n",
      "Best score: [recall]: 0.3019475655430711\n",
      "AUC = 0.9996811517353836\n",
      "len(dictResults):  4\n"
     ]
    },
    {
     "data": {
      "image/png": "[encoded data removed]",
      "text/plain": [
       "<Figure size 600x600 with 1 Axes>"
      ]
     },
     "metadata": {},
     "output_type": "display_data"
    },
    {
     "name": "stdout",
     "output_type": "stream",
     "text": [
      "-------------\n",
      "[model]:  ExtraTreesClassifier()\n",
      "[params]:  {'criterion': ['gini', 'entropy', 'log_loss'], 'n_estimators': <scipy.stats._distn_infrastructure.rv_discrete_frozen object at 0x7f658c1734c0>, 'min_samples_split': <scipy.stats._distn_infrastructure.rv_discrete_frozen object at 0x7f65825d14b0>, 'min_samples_leaf': <scipy.stats._distn_infrastructure.rv_discrete_frozen object at 0x7f65825d2a70>, 'max_features': ['sqrt', 'log2']}\n",
      "RandomizedSearchCV(cv=5, estimator=ExtraTreesClassifier(), n_iter=8,\n",
      "                   param_distributions={'criterion': ['gini', 'entropy',\n",
      "                                                      'log_loss'],\n",
      "                                        'max_features': ['sqrt', 'log2'],\n",
      "                                        'min_samples_leaf': <scipy.stats._distn_infrastructure.rv_discrete_frozen object at 0x7f65825d2a70>,\n",
      "                                        'min_samples_split': <scipy.stats._distn_infrastructure.rv_discrete_frozen object at 0x7f65825d14b0>,\n",
      "                                        'n_estimators': <scipy.stats._distn_infrastructure.rv_discrete_frozen object at 0x7f658c1734c0>},\n",
      "                   random_state=2023, scoring='recall')\n",
      "Best params:  {'criterion': 'entropy', 'max_features': 'sqrt', 'min_samples_leaf': 2, 'min_samples_split': 7, 'n_estimators': 7}\n",
      "Best score: [recall]: 0.0850187265917603\n",
      "AUC = 0.9999315515953676\n",
      "len(dictResults):  5\n"
     ]
    },
    {
     "data": {
      "image/png": "[encoded data removed]",
      "text/plain": [
       "<Figure size 600x600 with 1 Axes>"
      ]
     },
     "metadata": {},
     "output_type": "display_data"
    },
    {
     "name": "stdout",
     "output_type": "stream",
     "text": [
      "-------------\n",
      "[model]:  RandomForestClassifier()\n",
      "[params]:  {'criterion': ['gini', 'entropy', 'log_loss'], 'n_estimators': <scipy.stats._distn_infrastructure.rv_discrete_frozen object at 0x7f658c171a50>, 'min_samples_split': <scipy.stats._distn_infrastructure.rv_discrete_frozen object at 0x7f65825d1c00>, 'min_samples_leaf': <scipy.stats._distn_infrastructure.rv_discrete_frozen object at 0x7f65825d2800>, 'max_features': ['sqrt', 'log2']}\n"
     ]
    }
   ],
   "source": [
    "\n",
    "## Obtention des df train, val, test\n",
    "scaler = StandardScaler()\n",
    "X_train, X_val, X_test, y_train, y_val, y_test = get_train_val_test(\n",
    "    scaler.fit_transform(dfXNum)\n",
    "    , dfY)\n",
    "    \n",
    "## baseline - dummy\n",
    "dummy_c = DummyClassifier()\n",
    "\n",
    "## logistc regression\n",
    "log_r = LogisticRegression(solver='saga'\n",
    ", max_iter= 10^200\n",
    "#, penalty='elasticnet'\n",
    ", random_state=2023)\n",
    "\n",
    "## knn\n",
    "model_knn = KNeighborsClassifier()\n",
    "\n",
    "## decision tree\n",
    "model_decision_tree = DecisionTreeClassifier()\n",
    "\n",
    "## extra tree\n",
    "model_extra_tree = ExtraTreesClassifier()\n",
    "\n",
    "## random forest\n",
    "model_random_forest = RandomForestClassifier()\n",
    "\n",
    "### obs: fazer aggingClassifer(estimator = <decision_tree>.best_estimator_)\n",
    "##bagging\n",
    "model_bagging = BaggingClassifier()\n",
    "\n",
    "##\n",
    "params_dummy = {'strategy' : ['most_frequent', 'prior']}\n",
    "\n",
    "##\n",
    "params_log = {\n",
    "  #'C' :[0, 0.01, 0.07, 0.1, 0.2 ,0.5, 0.7 , 1, 10, 100]\n",
    "  'C' :loguniform(1e-5, 1e3)\n",
    ", 'l1_ratio': [0, 0.05, 0.1, 0.5, 1]\n",
    "#, 'penalty': ['l1', 'l2', 'elasticnet', 'none']\n",
    "#, 'penalty': ['l1', 'l2', 'elasticnet']\n",
    ", 'penalty': ['elasticnet']\n",
    "}\n",
    "\n",
    "## knn\n",
    "params_knn = {'n_neighbors': [2,3,5,10,20], 'leaf_size':[10, 20, 30], 'p':[1,2,3]\n",
    ", 'metric': ['minkowski', 'euclidean', 'manhattan']\n",
    ", 'weights' : ['uniform', 'distance']\n",
    "  }\n",
    "\n",
    "## decision tree\n",
    "params_decision_tree = { \n",
    "  'criterion': ['gini', 'entropy']\n",
    "  , 'ccp_alpha': loguniform(1e-3, 1e3)\n",
    "  , 'max_depth': randint(2, 128)\n",
    "\n",
    "}\n",
    "\n",
    "## extra_tree\n",
    "params_extra_tree = { \n",
    "  'criterion' : ['gini', 'entropy', 'log_loss']  \n",
    "  , 'n_estimators': randint(1, 10^3)\n",
    "  , 'min_samples_split' : randint(2, 10^5)\n",
    "  , 'min_samples_leaf' : randint(1, 10^5)\n",
    "  , 'max_features': ['sqrt', 'log2']\n",
    "\n",
    "}\n",
    "\n",
    "\n",
    "\n",
    "## random forest\n",
    "params_random_forest = {\n",
    "  'criterion' : ['gini', 'entropy', 'log_loss']  \n",
    "  , 'n_estimators': randint(1, 10^3)\n",
    "  , 'min_samples_split' : randint(2, 10^5)\n",
    "  , 'min_samples_leaf' : randint(1, 10^5)\n",
    "  , 'max_features': ['sqrt', 'log2']\n",
    "\n",
    "}\n",
    "\n",
    "## bagging\n",
    "params_bagging = {\n",
    "  'n_estimators': randint(1, 10^3)\n",
    "}\n",
    "\n",
    "## dictionary containing models\n",
    "dictModels = {}\n",
    "\n",
    "\n",
    "dictModels.update({'dummy':{'model': dummy_c, 'params': params_dummy}})\n",
    "dictModels.update({'log':{'model':log_r, 'params':params_log}})\n",
    "dictModels.update({'knn': {'model':model_knn, 'params': params_knn}})\n",
    "dictModels.update({'decisionTree': {'model': model_decision_tree, 'params': params_decision_tree}})\n",
    "dictModels.update({'extraTree': {'model': model_extra_tree, 'params': params_extra_tree}})\n",
    "dictModels.update({'randomForest': {'model': model_random_forest, 'params': params_random_forest}})\n",
    "dictModels.update({'baggingClassifier': {'model': model_bagging, 'params': params_bagging}})\n",
    "\n",
    "lstKeysInnerDict=['model', 'params']\n",
    "\n",
    "dictResults = {}\n",
    "\n",
    "results = {}\n",
    "lstCols = ['train', 'pred']\n",
    "dfResultTrainPred = pd.DataFrame(columns = lstCols )\n",
    "\n",
    "### scoring\n",
    "#scoringMethod='roc_auc'\n",
    "scoringMethod='recall'\n",
    "\n",
    "for key in dictModels.keys():\n",
    "    #print(\"key: \", key)\n",
    "    #print(\"value: \", dictModels.get(key))\n",
    "    innerDict = dictModels.get(key)\n",
    "    print ('-------------')\n",
    "    model = innerDict.get('model')\n",
    "    params = innerDict.get('params')\n",
    "    print('[model]: ', model)\n",
    "    print('[params]: ', params)\n",
    "\n",
    "    #### randomized search\n",
    "    #hyper_p_search = RandomizedSearchCV(model, params, cv=5, scoring=scoringMethod, n_iter = 5*10^2, random_state=2023)\n",
    "    hyper_p_search = RandomizedSearchCV(model, params\n",
    "                                        , cv=5\n",
    "                                        , scoring=scoringMethod\n",
    "                                        , n_iter = 1*10^2\n",
    "                                        , random_state=2023)\n",
    "    print(hyper_p_search.fit(X_train, y_train.values.ravel()))\n",
    "    print(\"Best params: \", hyper_p_search.best_params_)\n",
    "    print(\"Best score: [\"+scoringMethod+\"]:\",  hyper_p_search.best_score_)\n",
    "    \n",
    "    y_train_pred = hyper_p_search.best_estimator_.predict_proba(X_train)[:, 1]\n",
    "    curr_roc_auc_score = roc_auc_score(y_train, y_train_pred)\n",
    "    \n",
    "\n",
    "    print(f'AUC = {curr_roc_auc_score}')\n",
    "    \n",
    "\n",
    "    #print('type(train): ', type(y_train))\n",
    "    #print('type(train_pred): ', type(y_train_pred))\n",
    "\n",
    "    #print(\"train.head(): \", y_train.head())\n",
    "    #print(\"train.to_numpy(): \", y_train.to_numpy())\n",
    "\n",
    "    dictResults.update({key: {'y_actual': y_train, 'y_pred':y_train_pred, 'roc_auc_score':curr_roc_auc_score }})\n",
    "    print(\"len(dictResults): \", len(dictResults))\n",
    "    #results[type(model)] = y_train_pred\n",
    "\n",
    "    plot_roc_curve(y_train, y_train_pred, pLabel = type(model))\n",
    "    \n",
    "\n",
    "    \n",
    "\n",
    "plot_multi_roc_curve(dictResults)\n",
    "plot_multi_precision_recall(dictResults)\n"
   ]
  },
  {
   "cell_type": "markdown",
   "id": "4e1a01b8",
   "metadata": {},
   "source": [
    "###\n",
    "\n",
    "Baseline - dummy classifier\n",
    "\n",
    "###"
   ]
  },
  {
   "cell_type": "code",
   "execution_count": null,
   "id": "3c62e0a5",
   "metadata": {},
   "outputs": [],
   "source": []
  },
  {
   "cell_type": "code",
   "execution_count": null,
   "id": "0117eb78",
   "metadata": {},
   "outputs": [],
   "source": []
  },
  {
   "cell_type": "code",
   "execution_count": null,
   "id": "b452418d",
   "metadata": {},
   "outputs": [],
   "source": []
  },
  {
   "cell_type": "code",
   "execution_count": null,
   "id": "84ab546a",
   "metadata": {},
   "outputs": [],
   "source": [
    "## baseline - dummy\n",
    "dummy_c = DummyClassifier()\n",
    "##\n",
    "params_dummy = {'strategy' : ['most_frequent', 'prior']}\n",
    "dictModels.update({'dummy':{'model': dummy_c, 'params': params_dummy}})"
   ]
  },
  {
   "cell_type": "code",
   "execution_count": null,
   "id": "ecd5a9b8",
   "metadata": {},
   "outputs": [],
   "source": [
    "scoringMethod = 'sensitivity'\n",
    "hyper_p_search = RandomizedSearchCV(model, params, cv=5, scoring=scoringMethod, n_iter = 5*10^2, random_state=2023)\n",
    "print(hyper_p_search.fit(X_train, y_train))\n",
    "print(\"Best params: \", hyper_p_search.best_params_)\n",
    "print(\"Best score: [\"+scoringMethod+\"]:\",  hyper_p_search.best_score_)\n",
    "    "
   ]
  },
  {
   "cell_type": "code",
   "execution_count": null,
   "id": "6e71b663",
   "metadata": {},
   "outputs": [],
   "source": []
  },
  {
   "cell_type": "code",
   "execution_count": null,
   "id": "4188b864",
   "metadata": {},
   "outputs": [],
   "source": [
    "### Dummy Classifier\n",
    "from sklearn.dummy import DummyClassifier\n",
    "from sklearn import metrics\n",
    "from sklearn.metrics import PrecisionRecallDisplay\n",
    "from sklearn.metrics import precision_recall_curve\n",
    "import matplotlib.pyplot as plt"
   ]
  },
  {
   "cell_type": "code",
   "execution_count": null,
   "id": "cf844e05",
   "metadata": {},
   "outputs": [],
   "source": []
  },
  {
   "cell_type": "code",
   "execution_count": null,
   "id": "a7d58051",
   "metadata": {},
   "outputs": [],
   "source": []
  },
  {
   "cell_type": "code",
   "execution_count": null,
   "id": "0b593b51",
   "metadata": {},
   "outputs": [],
   "source": [
    "## plot la matrice confusion\n",
    "def print_confusion_matrix(pDfYTest, pDfYPredictTest):\n",
    "    matrix = confusion_matrix(y_true=pDfYTest, y_pred=pDfYPredictTest)\n",
    "    sns.heatmap(matrix, annot=True, fmt='d', cmap='Blues')"
   ]
  },
  {
   "cell_type": "code",
   "execution_count": null,
   "id": "49430c28",
   "metadata": {},
   "outputs": [],
   "source": [
    "\n",
    "\n",
    "## precision recall curve\n",
    "def print_precision_recall(pYTest, pYTestPred):\n",
    "    precision, recall, thresholds = precision_recall_curve(pYTest, pYTestPred)\n",
    "    fig = plt.figure(7, figsize=(6,6))\n",
    "    plt.plot(recall, precision, color='b')\n",
    "    plt.xlabel('Recall')\n",
    "    plt.xlabel('Precision')\n",
    "    plt.title('Precision-Recall curve')"
   ]
  },
  {
   "cell_type": "code",
   "execution_count": null,
   "id": "29f4766c",
   "metadata": {},
   "outputs": [],
   "source": [
    "## imprime les metrics\n",
    "def print_metrics(pDfYVal, pDfYValPredLabel):\n",
    "    print(\"[score]: \", accuracy_score(pDfYVal, pDfYValPredLabel))\n",
    "    fpr, tpr, thresholds = metrics.roc_curve(pDfYVal, pDfYValPredLabel)\n",
    "    \n",
    "    ## sensitivity: the % of all 1s that are correctly classified as 1\n",
    "    ## recall = sensitivty \n",
    "    print(\"[sensitiviy (recall)]: \", metrics.recall_score(pDfYVal, pDfYValPredLabel))\n",
    "    \n",
    "    #y_true = pDfYVal\n",
    "    #y_pred = pDfYValPredLabel\n",
    "    \n",
    "    ## sensitivity: the % of all 1s that are correctly classified as 1\n",
    "    #print (\"tpr: \", tpr)\n",
    "    #print (\"fpr: \", fpr)\n",
    "    #sensitivity = tpr/(tpr+fpr)\n",
    "    #print(\"[sensitivity]: \", sensitivity)\n",
    "    #print(\"---report---\")\n",
    "    #print(classification_report(y_true, y_pred))\n",
    "    "
   ]
  },
  {
   "cell_type": "code",
   "execution_count": null,
   "id": "d01f24d2",
   "metadata": {},
   "outputs": [],
   "source": [
    "# affiche l'arbre\n",
    "def print_tree(pModel, pCols):\n",
    "    tree.plot_tree(pModel , filled=True, rounded=True, feature_names = pCols)"
   ]
  },
  {
   "cell_type": "code",
   "execution_count": null,
   "id": "7fb637fc",
   "metadata": {},
   "outputs": [],
   "source": [
    "## roc courbe\n",
    "def print_roc_auc(pDfYTest, pDfYPredictTest):\n",
    "    fpr, tpr, thresholds = metrics.roc_curve(pDfYTest, pDfYPredictTest)\n",
    "    roc_auc = metrics.auc(fpr, tpr)\n",
    "    roc_display = metrics.RocCurveDisplay(fpr=fpr, tpr=tpr,roc_auc=roc_auc,)\n",
    "    roc_display.plot()"
   ]
  },
  {
   "cell_type": "code",
   "execution_count": null,
   "id": "be0ccf20",
   "metadata": {},
   "outputs": [],
   "source": [
    "### dummy\n",
    "def analyze_dummy(pDfX, pDfY, pTestSize=0.2, pThreshold=0.5):\n",
    "    model = DummyClassifier(strategy=\"most_frequent\")\n",
    "    analyze_model(pDfX, pDfY, model, pTestSize=0.2, pThreshold=0.5)\n",
    "    \n",
    "   "
   ]
  },
  {
   "cell_type": "code",
   "execution_count": null,
   "id": "a9d0651d",
   "metadata": {},
   "outputs": [],
   "source": [
    "### analyse d'un modèle pModel\n",
    "def analyze_model(pDfX, pDfY, pModel, pTestSize=0.2, pThreshold=0.5, pScaler = StandardScaler() ):\n",
    "    \n",
    "    \n",
    "    ### test\n",
    "    #X_train_0, X_test, y_train_0, y_test = train_test_split(pDfX\n",
    "    #                                                        , pDfY\n",
    "    #                                                        , test_size=pTestSize\n",
    "    #                                                        , shuffle=True\n",
    "    #                                                        , random_state=0\n",
    "    #                                                        , stratify=pDfY\n",
    "    #                                                       )\n",
    "    ## train, val\n",
    "    #X_train, X_val, y_train, y_val = train_test_split(X_train_0\n",
    "    #                                                  , y_train_0\n",
    "    #                                                  , train_size=0.5\n",
    "    #                                                  , shuffle=True\n",
    "    #                                                  , random_state=0\n",
    "    #                                                  , stratify=y_train_0\n",
    "    #                                                 )\n",
    "    \n",
    "    ## Obtention des df train, val, test\n",
    "    X_train, X_val, X_test, y_train, y_val, y_test = get_train_val_test(pScaler.fit_transform(pDfX), pDfY)\n",
    "    \n",
    "    pModel.fit(X_train, y_train)\n",
    "    y_val_pred_proba = pModel.predict_proba(X_val)[:, 1]\n",
    "    \n",
    "    \n",
    "    print(\"[y_val_pred_proba]: \", y_val_pred_proba)\n",
    "    \n",
    "    ## 0 ou 1\n",
    "    y_val_pred_label = y_val_pred_proba > pThreshold ## rigidification\n",
    "    \n",
    "    \n",
    "    ## on on print score seulement si c'est dummy\n",
    "    ## sinon: ValueError: Classification metrics can't handle a mix of binary and continuous targets\n",
    "    isinstanceDummy = isinstance(pModel, DummyClassifier)\n",
    "    \n",
    "          \n",
    "            \n",
    "    #if(isinstanceDummy):\n",
    "    #print_metrics(y_val, y_val_pred_proba)\n",
    "    #print_metrics(y_val, y_val_pred_label)\n",
    "    \n",
    "    #print(\"model.score: \", pModel.score(X_val, y_val))\n",
    "    \n",
    "    #print_confusion_matrix(y_val, y_val_pred_proba)\n",
    "    #print_confusion_matrix(y_val, y_val_pred_label)\n",
    "    \n",
    "    print_roc_auc(y_val, y_val_pred_proba)\n",
    "    #print_roc_auc(y_val, y_val_pred_label)\n",
    "    \n",
    "    \n",
    "    ## dummy n'a pas decision function\n",
    "    #if(hasattr(pModel, 'decision_function')):\n",
    "    print_precision_recall(y_val, y_val_pred_proba)\n",
    "    #print_precision_recall(y_val, y_val_pred_label)"
   ]
  },
  {
   "cell_type": "code",
   "execution_count": null,
   "id": "50784867",
   "metadata": {},
   "outputs": [],
   "source": [
    "analyze_dummy(dfXNum, dfY)"
   ]
  },
  {
   "cell_type": "markdown",
   "id": "992270e3",
   "metadata": {},
   "source": [
    "####\n",
    "\n",
    "Le résultat est cohérent. Le dummy sort toujours la valeur la plus fréquente (0 dans environ 100-15=85% de cas)\n",
    "\n",
    "Pourtant, ce 85% de précision ne veut pas dire grandes choses. On est dans un 'Rare Class Problem' où le 1\n",
    "(top 10) est beaucoup moins représenté que le 0. (Pour ma propre référence: livre Practical Statistics for Data Scientist, pg 223).\n",
    "\n",
    "Dans le cas du top 10, je prends la sensibilité, 'la capacité du modèle de predire un positif', comme une métrique plus importante que la précision. Et dans ce cas, notre sensibilité =0 (aucune prediction positive), ce qui est normal pour le dummy classifier vu que le 0 est la classe la plus fréquente.\n",
    "\n",
    "Concernant la courbe roc, le dummy coïncide avec la diagonale, c'est qui est vraiment le baseline.\n",
    "\n",
    "Pour les autres modèles, on attend une courbe au dessus de la ligne bleue\n",
    "\n",
    "####"
   ]
  },
  {
   "cell_type": "code",
   "execution_count": null,
   "id": "75e888a2",
   "metadata": {},
   "outputs": [],
   "source": []
  },
  {
   "cell_type": "code",
   "execution_count": null,
   "id": "76eae8ad",
   "metadata": {},
   "outputs": [],
   "source": []
  },
  {
   "cell_type": "markdown",
   "id": "460d5598",
   "metadata": {},
   "source": [
    "####\n",
    "\n",
    "Au long du cours on a vu plusieurs algorithmes de classification (knn, arbres de décision, forêts aléatoires) et aussi le choix de meilleurs paramètres avec une méthode exaustive (GridSearchCV) ou aléatoire (RandomizedSearchCV) \n",
    "\n",
    "Dans les lignes qui suivent, on va appliquer la recherche aléatoire pour obtention des hyperparamètres en combinaison avec les algorithmes de classification\n",
    "\n",
    "####"
   ]
  },
  {
   "cell_type": "code",
   "execution_count": null,
   "id": "d98ebb02",
   "metadata": {},
   "outputs": [],
   "source": []
  },
  {
   "cell_type": "code",
   "execution_count": null,
   "id": "4d34435d",
   "metadata": {},
   "outputs": [],
   "source": []
  },
  {
   "cell_type": "code",
   "execution_count": null,
   "id": "c8e1b36e",
   "metadata": {},
   "outputs": [],
   "source": []
  },
  {
   "cell_type": "code",
   "execution_count": null,
   "id": "391a6621",
   "metadata": {},
   "outputs": [],
   "source": []
  },
  {
   "cell_type": "code",
   "execution_count": null,
   "id": "f30b1d7d",
   "metadata": {},
   "outputs": [],
   "source": [
    "## https://scikit-learn.org/stable/auto_examples/classification/plot_classifier_comparison.html\n",
    "\n",
    "from sklearn.pipeline import Pipeline\n",
    "from sklearn.pipeline import make_pipeline\n",
    "from sklearn.neighbors import KNeighborsClassifier\n",
    "from sklearn.tree import DecisionTreeClassifier\n",
    "from sklearn.ensemble import RandomForestClassifier, AdaBoostClassifier, GradientBoostingClassifier\n",
    "from sklearn.inspection import DecisionBoundaryDisplay\n",
    "from sklearn.metrics import accuracy_score, log_loss\n",
    "from sklearn.svm import SVC, LinearSVC, NuSVC\n",
    "from sklearn.discriminant_analysis import LinearDiscriminantAnalysis\n",
    "from sklearn.discriminant_analysis import QuadraticDiscriminantAnalysis\n",
    "from sklearn.compose import ColumnTransformer\n",
    "from sklearn.linear_model import LogisticRegressionCV, LogisticRegression"
   ]
  },
  {
   "cell_type": "code",
   "execution_count": null,
   "id": "fd2b9380",
   "metadata": {},
   "outputs": [],
   "source": [
    "## logistic regression\n",
    "model = LogisticRegression(max_iter=10^20)\n",
    "analyze_model(dfXNum, dfY.values.ravel(), pModel=model)"
   ]
  },
  {
   "cell_type": "code",
   "execution_count": null,
   "id": "72affea6",
   "metadata": {},
   "outputs": [],
   "source": [
    "## GradientBoosting\n",
    "model = GradientBoostingClassifier(n_estimators = 100, learning_rate=1.0)\n",
    "analyze_model(dfXNum, dfY.values.ravel(), pModel=model)"
   ]
  },
  {
   "cell_type": "code",
   "execution_count": null,
   "id": "1f18cf27",
   "metadata": {},
   "outputs": [],
   "source": [
    "## DecisionTree\n",
    "model = DecisionTreeClassifier(ccp_alpha=0.005)\n",
    "analyze_model(dfXNum, dfY.values.ravel(), pModel=model)\n",
    "print_tree(model, pCols = dfXNum.columns)"
   ]
  },
  {
   "cell_type": "code",
   "execution_count": null,
   "id": "4221b620",
   "metadata": {},
   "outputs": [],
   "source": [
    "\n",
    "\n",
    "## obtentions train, val, text\n",
    "X_train, X_val, X_test, y_train, y_val, y_test = get_train_val_test(dfXNum, dfY)\n",
    "\n",
    "numeric_transformer = Pipeline(steps=[    \n",
    "    ('scaler', StandardScaler())])\n",
    "\n",
    "preprocessor = ColumnTransformer(\n",
    "    transformers=[\n",
    "        ('num', numeric_transformer, dfXNum)])\n",
    "\n",
    "classifiers = [\n",
    "    KNeighborsClassifier(3),\n",
    "    SVC(kernel=\"rbf\", C=0.025, probability=True),\n",
    "    NuSVC(probability=True),\n",
    "    DecisionTreeClassifier(),\n",
    "    RandomForestClassifier(),\n",
    "    AdaBoostClassifier(),\n",
    "    GradientBoostingClassifier()\n",
    "    ]\n",
    "for classifier in classifiers:\n",
    "    pipe = Pipeline(steps=[('preprocessor', preprocessor),\n",
    "                      ('classifier', classifier)])\n",
    "    pipe.fit(X_train, y_train)   \n",
    "    print(classifier)\n",
    "    print(\"model score: %.3f\" % pipe.score(X_test, y_test))"
   ]
  },
  {
   "cell_type": "code",
   "execution_count": null,
   "id": "1c341550",
   "metadata": {},
   "outputs": [],
   "source": [
    "## implémentation comme celle-ci:\n",
    "## https://scikit-learn.org/stable/auto_examples/classification/plot_classifier_comparison.html\n",
    "names = [\n",
    "    \"Nearest Neighbors\"\n",
    "    , \"Decision Tree\"\n",
    "    , \"Random Forest\"\n",
    "    , \"AdaBoost\"\n",
    "]\n",
    "\n",
    "classifiers = [\n",
    "    KNeighborsClassifier(3)\n",
    "    , DecisionTreeClassifier(max_depth=5)\n",
    "    , RandomForestClassifier(max_depth=5, n_estimators=100)\n",
    "    , AdaBoostClassifier()\n",
    "]"
   ]
  },
  {
   "cell_type": "code",
   "execution_count": null,
   "id": "099aafe8",
   "metadata": {},
   "outputs": [],
   "source": [
    "## obtentions train, val, text\n",
    "X_train, X_val, X_test, y_train, y_val, y_test = get_train_val_test(dfXNum, dfY)\n",
    "#print(type(y_test))\n",
    "i=1\n",
    "for name, clf in zip(names, classifiers):\n",
    "    ax = plt.subplot(1, len(classifiers)+1, i)\n",
    "    clf = make_pipeline(StandardScaler(), clf)\n",
    "    clf.fit(X_train, y_train.values.ravel())\n",
    "    score = clf.score(X_val, y_val)\n",
    "    #DecisionBoundaryDisplay.from_estimator(\n",
    "    #    clf, dfXNum, alpha=0.8, eps=0.5\n",
    "    #)\n",
    "    i+=1"
   ]
  },
  {
   "cell_type": "code",
   "execution_count": null,
   "id": "89ca7e49",
   "metadata": {},
   "outputs": [],
   "source": []
  }
 ],
 "metadata": {
  "kernelspec": {
   "display_name": "Python 3 (ipykernel)",
   "language": "python",
   "name": "python3"
  },
  "language_info": {
   "codemirror_mode": {
    "name": "ipython",
    "version": 3
   },
   "file_extension": ".py",
   "mimetype": "text/x-python",
   "name": "python",
   "nbconvert_exporter": "python",
   "pygments_lexer": "ipython3",
   "version": "3.10.8"
  }
 },
 "nbformat": 4,
 "nbformat_minor": 5
}
