{
 "cells": [
  {
   "cell_type": "code",
   "execution_count": 1,
   "id": "d82a4c84",
   "metadata": {},
   "outputs": [],
   "source": [
    "import pandas as pd\n",
    "import seaborn as sns\n",
    "import numpy as np\n",
    "from sklearn import linear_model\n",
    "from sklearn.model_selection import cross_val_score\n",
    "from sklearn.metrics import confusion_matrix\n",
    "from sklearn.metrics import classification_report\n",
    "#from sklearn.datasets import load_iris\n",
    "from sklearn.model_selection import train_test_split\n",
    "from sklearn.preprocessing import StandardScaler\n",
    "from sklearn.metrics import ConfusionMatrixDisplay\n",
    "from sklearn.metrics import classification_report, confusion_matrix, accuracy_score\n",
    "from sklearn import tree"
   ]
  },
  {
   "cell_type": "markdown",
   "id": "4c1f2c22",
   "metadata": {},
   "source": [
    "####\n",
    "\n",
    "Lecture du csv\n",
    "\n",
    "\n",
    "####"
   ]
  },
  {
   "cell_type": "code",
   "execution_count": 2,
   "id": "f837507b",
   "metadata": {},
   "outputs": [
    {
     "data": {
      "text/plain": [
       "(7574, 39)"
      ]
     },
     "execution_count": 2,
     "metadata": {},
     "output_type": "execute_result"
    }
   ],
   "source": [
    "## lecture du csv\n",
    "df = pd.read_csv(\"./data/chansons.csv\")\n",
    "df.shape"
   ]
  },
  {
   "cell_type": "markdown",
   "id": "cec5715c",
   "metadata": {},
   "source": [
    "###\n",
    "\n",
    "39 colonnes... possible/probablement on aura de la colinéarité\n",
    "\n",
    "Analysons un peu plus\n",
    "\n",
    "###"
   ]
  },
  {
   "cell_type": "code",
   "execution_count": 3,
   "id": "bde1556d",
   "metadata": {},
   "outputs": [
    {
     "data": {
      "text/plain": [
       "annee                       0\n",
       "titre                       0\n",
       "artiste                     0\n",
       "chansonID                   0\n",
       "artisteID                   0\n",
       "signature_temp              0\n",
       "signature_temp_confiance    0\n",
       "intensite                   0\n",
       "tempo                       0\n",
       "tempo_confiance             0\n",
       "gamme                       0\n",
       "gamme_confiance             0\n",
       "energie                     0\n",
       "hauteur                     0\n",
       "timbre_0_min                0\n",
       "timbre_0_max                0\n",
       "timbre_1_min                0\n",
       "timbre_1_max                0\n",
       "timbre_2_min                0\n",
       "timbre_2_max                0\n",
       "timbre_3_min                0\n",
       "timbre_3_max                0\n",
       "timbre_4_min                0\n",
       "timbre_4_max                0\n",
       "timbre_5_min                0\n",
       "timbre_5_max                0\n",
       "timbre_6_min                0\n",
       "timbre_6_max                0\n",
       "timbre_7_min                0\n",
       "timbre_7_max                0\n",
       "timbre_8_min                0\n",
       "timbre_8_max                0\n",
       "timbre_9_min                0\n",
       "timbre_9_max                0\n",
       "timbre_10_min               0\n",
       "timbre_10_max               0\n",
       "timbre_11_min               0\n",
       "timbre_11_max               0\n",
       "Top10                       0\n",
       "dtype: int64"
      ]
     },
     "execution_count": 3,
     "metadata": {},
     "output_type": "execute_result"
    }
   ],
   "source": [
    "df.isnull().sum()"
   ]
  },
  {
   "cell_type": "markdown",
   "id": "9694ca7f",
   "metadata": {},
   "source": [
    "###\n",
    "\n",
    "Pas de nulls à régler\n",
    "\n",
    "###"
   ]
  },
  {
   "cell_type": "code",
   "execution_count": 4,
   "id": "fc200e1c",
   "metadata": {},
   "outputs": [
    {
     "data": {
      "text/html": [
       "<div>\n",
       "<style scoped>\n",
       "    .dataframe tbody tr th:only-of-type {\n",
       "        vertical-align: middle;\n",
       "    }\n",
       "\n",
       "    .dataframe tbody tr th {\n",
       "        vertical-align: top;\n",
       "    }\n",
       "\n",
       "    .dataframe thead th {\n",
       "        text-align: right;\n",
       "    }\n",
       "</style>\n",
       "<table border=\"1\" class=\"dataframe\">\n",
       "  <thead>\n",
       "    <tr style=\"text-align: right;\">\n",
       "      <th></th>\n",
       "      <th>annee</th>\n",
       "      <th>titre</th>\n",
       "      <th>artiste</th>\n",
       "      <th>chansonID</th>\n",
       "      <th>artisteID</th>\n",
       "      <th>signature_temp</th>\n",
       "      <th>signature_temp_confiance</th>\n",
       "      <th>intensite</th>\n",
       "      <th>tempo</th>\n",
       "      <th>tempo_confiance</th>\n",
       "      <th>...</th>\n",
       "      <th>timbre_7_max</th>\n",
       "      <th>timbre_8_min</th>\n",
       "      <th>timbre_8_max</th>\n",
       "      <th>timbre_9_min</th>\n",
       "      <th>timbre_9_max</th>\n",
       "      <th>timbre_10_min</th>\n",
       "      <th>timbre_10_max</th>\n",
       "      <th>timbre_11_min</th>\n",
       "      <th>timbre_11_max</th>\n",
       "      <th>Top10</th>\n",
       "    </tr>\n",
       "  </thead>\n",
       "  <tbody>\n",
       "    <tr>\n",
       "      <th>0</th>\n",
       "      <td>2010</td>\n",
       "      <td>This Is the House That Doubt Built</td>\n",
       "      <td>A Day to Remember</td>\n",
       "      <td>SOBGGAB12C5664F054</td>\n",
       "      <td>AROBSHL1187B9AFB01</td>\n",
       "      <td>3</td>\n",
       "      <td>0.853</td>\n",
       "      <td>-4.262</td>\n",
       "      <td>91.525</td>\n",
       "      <td>0.953</td>\n",
       "      <td>...</td>\n",
       "      <td>82.475</td>\n",
       "      <td>-52.025</td>\n",
       "      <td>39.116</td>\n",
       "      <td>-35.368</td>\n",
       "      <td>71.642</td>\n",
       "      <td>-126.440</td>\n",
       "      <td>18.658</td>\n",
       "      <td>-44.770</td>\n",
       "      <td>25.989</td>\n",
       "      <td>0</td>\n",
       "    </tr>\n",
       "    <tr>\n",
       "      <th>1</th>\n",
       "      <td>2010</td>\n",
       "      <td>Sticks &amp; Bricks</td>\n",
       "      <td>A Day to Remember</td>\n",
       "      <td>SOPAQHU1315CD47F31</td>\n",
       "      <td>AROBSHL1187B9AFB01</td>\n",
       "      <td>4</td>\n",
       "      <td>1.000</td>\n",
       "      <td>-4.051</td>\n",
       "      <td>140.048</td>\n",
       "      <td>0.921</td>\n",
       "      <td>...</td>\n",
       "      <td>106.918</td>\n",
       "      <td>-61.320</td>\n",
       "      <td>35.378</td>\n",
       "      <td>-81.928</td>\n",
       "      <td>74.574</td>\n",
       "      <td>-103.808</td>\n",
       "      <td>121.935</td>\n",
       "      <td>-38.892</td>\n",
       "      <td>22.513</td>\n",
       "      <td>0</td>\n",
       "    </tr>\n",
       "    <tr>\n",
       "      <th>2</th>\n",
       "      <td>2010</td>\n",
       "      <td>All I Want</td>\n",
       "      <td>A Day to Remember</td>\n",
       "      <td>SOOIZOU1376E7C6386</td>\n",
       "      <td>AROBSHL1187B9AFB01</td>\n",
       "      <td>4</td>\n",
       "      <td>1.000</td>\n",
       "      <td>-3.571</td>\n",
       "      <td>160.512</td>\n",
       "      <td>0.489</td>\n",
       "      <td>...</td>\n",
       "      <td>80.621</td>\n",
       "      <td>-59.773</td>\n",
       "      <td>45.979</td>\n",
       "      <td>-46.293</td>\n",
       "      <td>59.904</td>\n",
       "      <td>-108.313</td>\n",
       "      <td>33.300</td>\n",
       "      <td>-43.733</td>\n",
       "      <td>25.744</td>\n",
       "      <td>0</td>\n",
       "    </tr>\n",
       "    <tr>\n",
       "      <th>3</th>\n",
       "      <td>2010</td>\n",
       "      <td>It's Complicated</td>\n",
       "      <td>A Day to Remember</td>\n",
       "      <td>SODRYWD1315CD49DBE</td>\n",
       "      <td>AROBSHL1187B9AFB01</td>\n",
       "      <td>4</td>\n",
       "      <td>1.000</td>\n",
       "      <td>-3.815</td>\n",
       "      <td>97.525</td>\n",
       "      <td>0.794</td>\n",
       "      <td>...</td>\n",
       "      <td>96.675</td>\n",
       "      <td>-78.660</td>\n",
       "      <td>41.088</td>\n",
       "      <td>-49.194</td>\n",
       "      <td>95.440</td>\n",
       "      <td>-102.676</td>\n",
       "      <td>46.422</td>\n",
       "      <td>-59.439</td>\n",
       "      <td>37.082</td>\n",
       "      <td>0</td>\n",
       "    </tr>\n",
       "    <tr>\n",
       "      <th>4</th>\n",
       "      <td>2010</td>\n",
       "      <td>2nd Sucks</td>\n",
       "      <td>A Day to Remember</td>\n",
       "      <td>SOICMQB1315CD46EE3</td>\n",
       "      <td>AROBSHL1187B9AFB01</td>\n",
       "      <td>4</td>\n",
       "      <td>0.788</td>\n",
       "      <td>-4.707</td>\n",
       "      <td>140.053</td>\n",
       "      <td>0.286</td>\n",
       "      <td>...</td>\n",
       "      <td>110.332</td>\n",
       "      <td>-56.450</td>\n",
       "      <td>37.555</td>\n",
       "      <td>-48.588</td>\n",
       "      <td>67.570</td>\n",
       "      <td>-52.796</td>\n",
       "      <td>22.888</td>\n",
       "      <td>-50.414</td>\n",
       "      <td>32.758</td>\n",
       "      <td>0</td>\n",
       "    </tr>\n",
       "  </tbody>\n",
       "</table>\n",
       "<p>5 rows × 39 columns</p>\n",
       "</div>"
      ],
      "text/plain": [
       "   annee                               titre            artiste  \\\n",
       "0   2010  This Is the House That Doubt Built  A Day to Remember   \n",
       "1   2010                     Sticks & Bricks  A Day to Remember   \n",
       "2   2010                          All I Want  A Day to Remember   \n",
       "3   2010                    It's Complicated  A Day to Remember   \n",
       "4   2010                           2nd Sucks  A Day to Remember   \n",
       "\n",
       "            chansonID           artisteID  signature_temp  \\\n",
       "0  SOBGGAB12C5664F054  AROBSHL1187B9AFB01               3   \n",
       "1  SOPAQHU1315CD47F31  AROBSHL1187B9AFB01               4   \n",
       "2  SOOIZOU1376E7C6386  AROBSHL1187B9AFB01               4   \n",
       "3  SODRYWD1315CD49DBE  AROBSHL1187B9AFB01               4   \n",
       "4  SOICMQB1315CD46EE3  AROBSHL1187B9AFB01               4   \n",
       "\n",
       "   signature_temp_confiance  intensite    tempo  tempo_confiance  ...  \\\n",
       "0                     0.853     -4.262   91.525            0.953  ...   \n",
       "1                     1.000     -4.051  140.048            0.921  ...   \n",
       "2                     1.000     -3.571  160.512            0.489  ...   \n",
       "3                     1.000     -3.815   97.525            0.794  ...   \n",
       "4                     0.788     -4.707  140.053            0.286  ...   \n",
       "\n",
       "   timbre_7_max  timbre_8_min  timbre_8_max  timbre_9_min  timbre_9_max  \\\n",
       "0        82.475       -52.025        39.116       -35.368        71.642   \n",
       "1       106.918       -61.320        35.378       -81.928        74.574   \n",
       "2        80.621       -59.773        45.979       -46.293        59.904   \n",
       "3        96.675       -78.660        41.088       -49.194        95.440   \n",
       "4       110.332       -56.450        37.555       -48.588        67.570   \n",
       "\n",
       "   timbre_10_min  timbre_10_max  timbre_11_min  timbre_11_max  Top10  \n",
       "0       -126.440         18.658        -44.770         25.989      0  \n",
       "1       -103.808        121.935        -38.892         22.513      0  \n",
       "2       -108.313         33.300        -43.733         25.744      0  \n",
       "3       -102.676         46.422        -59.439         37.082      0  \n",
       "4        -52.796         22.888        -50.414         32.758      0  \n",
       "\n",
       "[5 rows x 39 columns]"
      ]
     },
     "execution_count": 4,
     "metadata": {},
     "output_type": "execute_result"
    }
   ],
   "source": [
    "## un apperçu des variables\n",
    "df.head()"
   ]
  },
  {
   "cell_type": "code",
   "execution_count": 5,
   "id": "a35ad0ae",
   "metadata": {},
   "outputs": [],
   "source": [
    "## Standard scaler. On a des variables dans le 10^0, 10^2. \n",
    "## Mieux vaut les mettre à la même échelle\n",
    "def getScaledDf(pDfX, pScaler = StandardScaler()):\n",
    "    return pScaler.fit_transform(pDfX)"
   ]
  },
  {
   "cell_type": "code",
   "execution_count": null,
   "id": "f9a90f2b",
   "metadata": {},
   "outputs": [],
   "source": []
  },
  {
   "cell_type": "markdown",
   "id": "6257fcd7",
   "metadata": {},
   "source": [
    "###\n",
    "\n",
    "Obtention des dfX (var indépend) et dfY (target, var dépend)\n",
    "\n",
    "\n",
    "###"
   ]
  },
  {
   "cell_type": "code",
   "execution_count": 6,
   "id": "23027ca2",
   "metadata": {},
   "outputs": [],
   "source": [
    "## retourne les dataframes X et Y. Par défaut, supprimer les colonnes ID\n",
    "def getDfXDfY(pDf, pColY, pColsXDrop=['chansonID', 'artisteID']):\n",
    "    dfY = pd.DataFrame(pDf[pColY], columns = [pColY])\n",
    "    #print(type(pColsXDrop))\n",
    "    #print(type(pColY))\n",
    "    lstColsExcl=[]\n",
    "    lstColsExcl.extend(pColsXDrop)\n",
    "    lstColsExcl.append(pColY)\n",
    "    print(lstColsExcl)\n",
    "    dfX = pDf.drop(lstColsExcl, axis=1)\n",
    "    return dfX, dfY"
   ]
  },
  {
   "cell_type": "code",
   "execution_count": 7,
   "id": "b63f6254",
   "metadata": {},
   "outputs": [
    {
     "name": "stdout",
     "output_type": "stream",
     "text": [
      "['chansonID', 'artisteID', 'Top10']\n"
     ]
    }
   ],
   "source": [
    "dfX, dfY = getDfXDfY(df, 'Top10')"
   ]
  },
  {
   "cell_type": "code",
   "execution_count": 8,
   "id": "f9d6313e",
   "metadata": {},
   "outputs": [
    {
     "data": {
      "text/plain": [
       "annee                         int64\n",
       "titre                        object\n",
       "artiste                      object\n",
       "signature_temp                int64\n",
       "signature_temp_confiance    float64\n",
       "intensite                   float64\n",
       "tempo                       float64\n",
       "tempo_confiance             float64\n",
       "gamme                         int64\n",
       "gamme_confiance             float64\n",
       "energie                     float64\n",
       "hauteur                     float64\n",
       "timbre_0_min                float64\n",
       "timbre_0_max                float64\n",
       "timbre_1_min                float64\n",
       "timbre_1_max                float64\n",
       "timbre_2_min                float64\n",
       "timbre_2_max                float64\n",
       "timbre_3_min                float64\n",
       "timbre_3_max                float64\n",
       "timbre_4_min                float64\n",
       "timbre_4_max                float64\n",
       "timbre_5_min                float64\n",
       "timbre_5_max                float64\n",
       "timbre_6_min                float64\n",
       "timbre_6_max                float64\n",
       "timbre_7_min                float64\n",
       "timbre_7_max                float64\n",
       "timbre_8_min                float64\n",
       "timbre_8_max                float64\n",
       "timbre_9_min                float64\n",
       "timbre_9_max                float64\n",
       "timbre_10_min               float64\n",
       "timbre_10_max               float64\n",
       "timbre_11_min               float64\n",
       "timbre_11_max               float64\n",
       "dtype: object"
      ]
     },
     "execution_count": 8,
     "metadata": {},
     "output_type": "execute_result"
    }
   ],
   "source": [
    "dfX.dtypes"
   ]
  },
  {
   "cell_type": "code",
   "execution_count": 9,
   "id": "5f0c533b",
   "metadata": {},
   "outputs": [
    {
     "name": "stdout",
     "output_type": "stream",
     "text": [
      "1032\n",
      "7141\n"
     ]
    }
   ],
   "source": [
    "print(len(dfX['artiste'].unique()))\n",
    "print(len(dfX['titre'].unique()))\n"
   ]
  },
  {
   "cell_type": "markdown",
   "id": "a67df33a",
   "metadata": {},
   "source": [
    "####\n",
    "\n",
    "Qu'est-ce qu'on fait avec les variables texte? On crée environ 8k colonnes avec get_dummies?\n",
    "On les drop?\n",
    "\n",
    "Pour l'instant, on va les ignorer (drop)\n",
    "\n",
    "####"
   ]
  },
  {
   "cell_type": "code",
   "execution_count": 10,
   "id": "448b29ee",
   "metadata": {},
   "outputs": [],
   "source": [
    "## obtention d'un df numérique\n",
    "\n",
    "dfXNum = dfX.select_dtypes(exclude=['object'])"
   ]
  },
  {
   "cell_type": "code",
   "execution_count": 11,
   "id": "7894cf85",
   "metadata": {},
   "outputs": [
    {
     "data": {
      "text/plain": [
       "0"
      ]
     },
     "execution_count": 11,
     "metadata": {},
     "output_type": "execute_result"
    }
   ],
   "source": [
    "dfXNum.isnull().values.sum()"
   ]
  },
  {
   "cell_type": "markdown",
   "id": "1b54dba8",
   "metadata": {},
   "source": [
    "####\n",
    "\n",
    "On prevoit les top 10.\n",
    "Voyons qui sont les top 10 \n",
    "\n",
    "\n",
    "#####"
   ]
  },
  {
   "cell_type": "code",
   "execution_count": 12,
   "id": "a3cb17c8",
   "metadata": {},
   "outputs": [
    {
     "data": {
      "text/plain": [
       "1119"
      ]
     },
     "execution_count": 12,
     "metadata": {},
     "output_type": "execute_result"
    }
   ],
   "source": [
    "dfTop10 = df[(df['Top10']==1)]\n",
    "len(dfTop10)\n"
   ]
  },
  {
   "cell_type": "markdown",
   "id": "b5b1852e",
   "metadata": {},
   "source": [
    "####\n",
    "\n",
    "On voit que 1119/7574 sont top 10 artists.\n",
    "Examinons un petit plus\n",
    "\n",
    "####"
   ]
  },
  {
   "cell_type": "code",
   "execution_count": 13,
   "id": "bbf13214",
   "metadata": {},
   "outputs": [
    {
     "name": "stdout",
     "output_type": "stream",
     "text": [
      "nb top 10 artistes:  576\n",
      "nb artistes:  1032\n",
      "% artistes dans le top 10:  0.56\n",
      "% de rows du dataframe qui sont dans le top 10:  0.15\n"
     ]
    }
   ],
   "source": [
    "nbTop10Artistes = len(dfTop10['artiste'].unique())\n",
    "nbArtistes = len(df['artiste'].unique())\n",
    "\n",
    "nbRowsTop10 = len(dfTop10)\n",
    "nbRowsTotal = len(df)\n",
    "\n",
    "print ('nb top 10 artistes: ', nbTop10Artistes)\n",
    "print ('nb artistes: ', nbArtistes)\n",
    "print ('% artistes dans le top 10: ' , round((nbTop10Artistes/nbArtistes), 2))\n",
    "print ('% de rows du dataframe qui sont dans le top 10: ', round((nbRowsTop10/nbRowsTotal), 2))\n",
    "       \n"
   ]
  },
  {
   "cell_type": "markdown",
   "id": "66c7f693",
   "metadata": {},
   "source": [
    "###\n",
    "\n",
    "Un peu plus que la moitié d'artistes sont dans le Top 10 \n",
    "Environ 15% des enregistrements correspondent au Top 10\n",
    "\n",
    "\n",
    "\n",
    "###"
   ]
  },
  {
   "cell_type": "code",
   "execution_count": 196,
   "id": "827a96df",
   "metadata": {},
   "outputs": [],
   "source": [
    "### retourne les dataframes X et Y: train, validation et test \n",
    "### (donc, 6 dataframes de retour). \n",
    "def get_train_val_test(pDfX, pDfY,  pTestSize=0.2, pPrintDebug=False):\n",
    "    \n",
    "    \n",
    "    ### test\n",
    "    X_train_0, X_test, y_train_0, y_test = train_test_split(pDfX\n",
    "                                                            , pDfY\n",
    "                                                            , test_size=pTestSize\n",
    "                                                            , shuffle=True\n",
    "                                                            , random_state=0\n",
    "                                                            , stratify=pDfY\n",
    "                                                           )\n",
    "    #print(\"len y_train_0: \", len(y_train_0))\n",
    "    #print(\"sum y_train_0: \", y_train_0.sum())\n",
    "    \n",
    "    \n",
    "    \n",
    "    ## train, val\n",
    "    X_train, X_val, y_train, y_val = train_test_split(X_train_0\n",
    "                                                      , y_train_0\n",
    "                                                      , train_size=0.5\n",
    "                                                      , shuffle=True\n",
    "                                                      , random_state=0\n",
    "                                                      , stratify=y_train_0\n",
    "                                                     )\n",
    "    \n",
    "    if(pPrintDebug):\n",
    "        print(\"------get_train_val_test------\")\n",
    "        print(\"len(pDfY): \", len(pDfY))\n",
    "        print(\"sum pDfY: \", pDfY.sum())\n",
    "        print(\"len y_test: \", len(y_test))\n",
    "        print(\"sum y_test: \", y_test.sum())\n",
    "        print(\"len y_train: \", len(y_train))\n",
    "        print(\"len y_val: \", len(y_val))    \n",
    "        print(\"sum y_train: \", y_train.sum())\n",
    "        print(\"sum y_val: \", y_val.sum())\n",
    "    \n",
    "    return X_train, X_val, X_test, y_train, y_val, y_test"
   ]
  },
  {
   "cell_type": "markdown",
   "id": "224648e8",
   "metadata": {},
   "source": [
    "####\n",
    "\n",
    "Au long du cours on a vu plusieurs algorithmes de classification (knn, arbres de décision, forêts aléatoires) et aussi le choix de meilleurs paramètres avec une méthode exaustive (GridSearchCV) ou aléatoire (RandomizedSearchCV) \n",
    "\n",
    "Dans les lignes qui suivent, on va appliquer la recherche aléatoire pour obtention des hyperparamètres en combinaison avec les algorithmes de classification\n",
    "\n",
    "\n",
    "Comme dans le TP01, on va créer une série des focntions que l'on appelera par la suite pour faciliter la réutilisation du code par les différentes algorithmes de classification.\n",
    "\n",
    "On va faire les étapes suivantes:\n",
    "1) Définir une métrique\n",
    "2) Appliquer la métrique à un ou deux modèles\n",
    "3) Généraliser à plusieurs modèles et appliquer optimisation d'hyperparamètres (RandomizedSearch)\n",
    "\n",
    "####"
   ]
  },
  {
   "cell_type": "markdown",
   "id": "5fbf389e",
   "metadata": {},
   "source": [
    "## 1) Définition de la métrique\n",
    "\n",
    "\n",
    "1) Métrique: vu que l'on est dans un cas d'un dataset débalancé (comme on a vu, 15% sont des top 10), l'accuracy ne serait pas un bon candidat.\n",
    "\n",
    "En consultant les sources citées plus bas, je suis convaincu que le f1 serait une bonne métrique dans un cas comme celui-ci d'un dataset débalancé.\n",
    "\n",
    "https://machinelearningmastery.com/roc-curves-and-precision-recall-curves-for-classification-in-python/\n",
    "\n",
    "https://stephenallwright.com/good-f1-score/\n",
    "\n",
    "\n",
    "####"
   ]
  },
  {
   "cell_type": "code",
   "execution_count": 211,
   "id": "1ffe22a1",
   "metadata": {},
   "outputs": [],
   "source": [
    "\n",
    "from sklearn.dummy import DummyClassifier\n",
    "from sklearn.model_selection import RandomizedSearchCV\n",
    "from sklearn.neighbors import KNeighborsClassifier\n",
    "from sklearn.tree import DecisionTreeClassifier, DecisionTreeRegressor\n",
    "from sklearn.linear_model import LogisticRegression\n",
    "from sklearn.ensemble import BaggingClassifier, ExtraTreesClassifier, RandomForestClassifier, HistGradientBoostingClassifier, GradientBoostingClassifier\n",
    "from sklearn.utils.fixes import loguniform\n",
    "from scipy.stats import randint\n",
    "import matplotlib.pyplot as plt\n",
    "from sklearn.metrics import  roc_curve, roc_auc_score\n",
    "from sklearn.metrics import PrecisionRecallDisplay\n",
    "from sklearn.metrics import precision_recall_curve\n",
    "from sklearn.metrics import average_precision_score\n",
    "from sklearn.metrics import auc\n",
    "from sklearn.metrics import f1_score\n",
    "from sklearn.metrics import recall_score\n",
    "from sklearn.metrics import classification_report"
   ]
  },
  {
   "cell_type": "markdown",
   "id": "85c6edaf",
   "metadata": {},
   "source": [
    "### 2) Application de la métrique\n",
    "Commençons par appliquer la métrique aux modèles dummy et logistic regression.\n",
    "\n",
    "Ensuite, on va élaborer un petit plus (optimisation du dataset, utilisation d'autres modèles, etc)\n",
    "\n"
   ]
  },
  {
   "cell_type": "code",
   "execution_count": 272,
   "id": "c8cd9f07",
   "metadata": {},
   "outputs": [
    {
     "name": "stdout",
     "output_type": "stream",
     "text": [
      "Dummy: f1=0.784 auc=0.574\n"
     ]
    },
    {
     "data": {
      "image/png": "[encoded data removed]",
      "text/plain": [
       "<Figure size 640x480 with 1 Axes>"
      ]
     },
     "metadata": {},
     "output_type": "display_data"
    }
   ],
   "source": [
    "### dummy\n",
    "\n",
    "## https://machinelearningmastery.com/roc-curves-and-precision-recall-curves-for-classification-in-python/\n",
    "# precision-recall curve and f1\n",
    "\n",
    "##################\n",
    "## Obtention des df train, val, test\n",
    "scaler = StandardScaler()\n",
    "X_train, X_val, X_test, y_train, y_val, y_test = get_train_val_test(\n",
    "    scaler.fit_transform(dfXNum)\n",
    "    , dfY)\n",
    "\n",
    "trainX = X_train\n",
    "testX = X_val\n",
    "trainy = y_train\n",
    "testy = y_val\n",
    "##############\n",
    "\n",
    "# fit a model\n",
    "model = DummyClassifier(strategy= 'most_frequent')\n",
    "model.fit(trainX, trainy)\n",
    "# predict probabilities\n",
    "lr_probs = model.predict_proba(testX)\n",
    "# keep probabilities for the positive outcome only\n",
    "lr_probs = lr_probs[:, 1]\n",
    "# predict class values\n",
    "yhat = model.predict(testX)\n",
    "lr_precision, lr_recall, _ = precision_recall_curve(testy, lr_probs)\n",
    "#lr_f1 = f1_score(testy, yhat)\n",
    "lr_f1 = f1_score(testy, yhat, average = 'weighted')\n",
    "lr_auc = auc(lr_recall, lr_precision)\n",
    "\n",
    "# summarize scores\n",
    "print('Dummy: f1=%.3f auc=%.3f' % (lr_f1, lr_auc))\n",
    "# plot the precision-recall curves\n",
    "#no_skill = len(testy[testy==1]) / len(testy)\n",
    "no_skill = testy.sum()/ len(testy)\n",
    "pyplot.plot([0, 1], [no_skill, no_skill], linestyle='--', label='No Skill')\n",
    "pyplot.plot(lr_recall, lr_precision, marker='.', label='Dummy')\n",
    "# axis labels\n",
    "pyplot.xlabel('Recall')\n",
    "pyplot.ylabel('Precision')\n",
    "# show the legend\n",
    "pyplot.legend()\n",
    "# show the plot\n",
    "pyplot.show()"
   ]
  },
  {
   "cell_type": "markdown",
   "id": "bdb7b2c3",
   "metadata": {},
   "source": [
    "####\n",
    "\n",
    "Le résultat du f1 (0.784) est surprennement haut pour un dummy classifier. Le résultat obtenu avec f1_score sans \"average='weighted'\" est 0, ce qui est plus compréhensible. Pourtant, vu la ntaure du problème (des classes débalancées), ça me semble correcte d'utiliser l'option \"average='weighted'\"\n",
    "\n",
    "L'auc = 0.574, je ne comprends pas trop, je m'attendais à 0.5, comme dans le cas de la courbe ROC_AUC\n",
    "\n",
    "\"\n",
    "The F1 score can be interpreted as a harmonic mean of the precision and recall, where an F1 score reaches its best value at 1 and worst score at 0.\n",
    "\"\n",
    "\n",
    "https://scikit-learn.org/stable/modules/generated/sklearn.metrics.f1_score.html\n",
    "\n",
    "\n",
    "####\n",
    "\n",
    "\n"
   ]
  },
  {
   "cell_type": "markdown",
   "id": "70387222",
   "metadata": {},
   "source": [
    "####\n",
    "Répétons l'exercice avec un autre classifier pour voir si on obtient un résultat meilleur qu'avec le dummy.\n",
    "\n",
    "####"
   ]
  },
  {
   "cell_type": "code",
   "execution_count": 274,
   "id": "6047a254",
   "metadata": {},
   "outputs": [
    {
     "name": "stdout",
     "output_type": "stream",
     "text": [
      "Logistic: f1=0.831 auc=0.446\n"
     ]
    },
    {
     "data": {
      "image/png": "[encoded data removed]",
      "text/plain": [
       "<Figure size 640x480 with 1 Axes>"
      ]
     },
     "metadata": {},
     "output_type": "display_data"
    }
   ],
   "source": [
    "### logistic\n",
    "\n",
    "\n",
    "##################\n",
    "## Obtention des df train, val, test\n",
    "scaler = StandardScaler()\n",
    "X_train, X_val, X_test, y_train, y_val, y_test = get_train_val_test(\n",
    "    scaler.fit_transform(dfXNum)\n",
    "    , dfY)\n",
    "\n",
    "trainX = X_train\n",
    "testX = X_val\n",
    "trainy = y_train.values.ravel()\n",
    "testy = y_val.values.ravel()\n",
    "##############\n",
    "\n",
    "# fit a model\n",
    "model = LogisticRegression(solver='lbfgs')\n",
    "model.fit(trainX, trainy)\n",
    "# predict probabilities\n",
    "lr_probs = model.predict_proba(testX)\n",
    "# keep probabilities for the positive outcome only\n",
    "lr_probs = lr_probs[:, 1]\n",
    "# predict class values\n",
    "yhat = model.predict(testX)\n",
    "lr_precision, lr_recall, _ = precision_recall_curve(testy, lr_probs)\n",
    "#lr_f1 = f1_score(testy, yhat)\n",
    "lr_f1 = f1_score(testy, yhat, average = 'weighted')\n",
    "lr_auc =  auc(lr_recall, lr_precision)\n",
    "\n",
    "# summarize scores\n",
    "print('Logistic: f1=%.3f auc=%.3f' % (lr_f1, lr_auc))\n",
    "# plot the precision-recall curves\n",
    "#no_skill = len(testy[testy==1]) / len(testy)\n",
    "no_skill = testy.sum()/ len(testy)\n",
    "pyplot.plot([0, 1], [no_skill, no_skill], linestyle='--', label='No Skill')\n",
    "pyplot.plot(lr_recall, lr_precision, marker='.', label='Logistic')\n",
    "# axis labels\n",
    "pyplot.xlabel('Recall')\n",
    "pyplot.ylabel('Precision')\n",
    "# show the legend\n",
    "pyplot.legend()\n",
    "# show the plot\n",
    "pyplot.show()"
   ]
  },
  {
   "cell_type": "markdown",
   "id": "8c5d6bf5",
   "metadata": {},
   "source": [
    "####\n",
    "\n",
    "Le f1 score (0.831) est meilleur que celui du dummy (0.784). C'est encourageant.\n",
    "\n",
    "D'un autre côté, la courbe AUC est pire (0.446 vs 0.574).\n",
    "\n",
    "Un peu d'investigation m'a amené à ceci: \n",
    "\n",
    "\"\n",
    "- high AUC ROC vs low f1 or other \"point\" metric, means that your classifier currently does a bad job, however you can find the threshold for which its score is actually pretty decent\n",
    "- low AUC ROC and low f1 or other \"point\" metric, means that your classifier currently does a bad job, and even fitting a threshold will not change it\n",
    "- high AUC ROC and high f1 or other \"point\" metric, means that your classifier currently does a decent job, and for many other values of threshold it would do the same\n",
    "- low AUC ROC vs high f1 or other \"point\" metric, means that your classifier currently does a decent job, however for many other values of threshold - it is pretty bad\n",
    "\n",
    "\"\n",
    "\n",
    "\n",
    "https://stackoverflow.com/questions/34698161/how-to-interpret-almost-perfect-accuracy-and-auc-roc-but-zero-f1-score-precisio\n",
    "\n",
    "\n",
    "On est dans le 'low AUC vs high f1', ce que veut dire que le classificateur fait un travail décent (bon 0.308 est 'décent' en comparaison à 0.000), mais pour d'autre valeurs du threshold, c'est très mauvais.\n",
    "\n",
    "Avant on avait un 'high AUC vs low f1', un mauvais classificateur (ce qui est normal pour un dummy 'most_frequent')\n",
    "\n",
    "En considérant la métrique f1, on progresse.\n",
    "\n",
    "####"
   ]
  },
  {
   "cell_type": "markdown",
   "id": "386db4c8",
   "metadata": {},
   "source": [
    "## 3) Optimisation d'hyper-paramètres et utilisation de plusieurs modèles\n",
    "\n",
    "\n",
    "Dans les céllules qui suivent, on crée des fonctions pour:\n",
    "- afficher la courbe precision recall\n",
    "- calculer le f1 score. On utilise le paramètre \"average='weighted'\" à cause du débalnecement entre 0 (85%) et 1 (15%)\n",
    "- cumuler les différentes classificateurs\n",
    "- appliquer chacun de classificateur avec RandomizedSearch. Le choix de RandomizedSearch au lieu de GridSearch est dû au fait que le randomized est plus léger puisqu'il n'est pas exhaustive et il permet un certain 'hazard' qui n'est pas possible avec le GridSearch\n",
    "\n",
    "\n",
    "\n",
    "###"
   ]
  },
  {
   "cell_type": "code",
   "execution_count": 311,
   "id": "edaa99a4",
   "metadata": {},
   "outputs": [],
   "source": [
    "## retourne score, auc et label pour le graphique\n",
    "def getPlotScoreAucLabel(pYActual, pYPred, pF1Average='f1_weighted'):\n",
    "    precision, recall, thresholds = precision_recall_curve(pYActual, pYPred)\n",
    "    #score = average_precision_score(pYActual, pYPred, average='weighted')\n",
    "    area_under_curve = auc(recall, precision)\n",
    "    score = f1_score(pYActual, pYPred, average=pF1Average)\n",
    "    label = \"[auc]: \"+str(round(area_under_curve, 3)) + \" - [\"+pF1Average+\"] : \"+str(round(score,3))\n",
    "    return area_under_curve, score, label"
   ]
  },
  {
   "cell_type": "code",
   "execution_count": 312,
   "id": "8537fddd",
   "metadata": {},
   "outputs": [],
   "source": [
    "## plot one precision recall\n",
    "def plot_precision_recall(pYActual, pYPred, pF1Average='f1_weighted'):\n",
    "    precision, recall, thresholds = precision_recall_curve(pYActual, pYPred)\n",
    "    #score = average_precision_score(pYActual, pYPred, average='weighted')\n",
    "    area_under_curve = auc(recall, precision)\n",
    "    score = f1_score(pYActual, pYPred, average=pF1Average)\n",
    "    fig = plt.figure(4, figsize=(6,6))\n",
    "    #plt.plot([0,1], [0, 1], 'k--')\n",
    "    #plt.plot(precision, recall, label='pLabel')\n",
    "    \n",
    "    area_under_curve, score, plot_label = getPlotScoreAucLabel(pYActual, pYPred, pF1Average)\n",
    "    \n",
    "    #plt.plot(precision, recall, label=\"[auc]: \"+str(round(area_under_curve, 3)) + \" - [f1] : \"+str(round(score,3)))\n",
    "    plt.plot(precision, recall, label=plot_label)\n",
    "    plt.xlabel('Precision')\n",
    "    plt.ylabel('Recall')\n",
    "    plt.legend(loc='lower left')\n",
    "    #plot_roc_curve(fpr, tpr)\n",
    "    plt.show()\n",
    "    "
   ]
  },
  {
   "cell_type": "code",
   "execution_count": 313,
   "id": "67ba8ab9",
   "metadata": {},
   "outputs": [],
   "source": [
    "## precision recall curve\n",
    "## https://machinelearningmastery.com/roc-curves-and-precision-recall-curves-for-classification-in-python/\n",
    "def plot_multi_precision_recall(pDictResults, pPrintDebug=False, pF1Average=None):\n",
    "    print (\"--[plot_multi_precision_recall--\")\n",
    "    \n",
    "    fig = plt.figure(4, figsize=(7,7))\n",
    "       \n",
    "    \n",
    "    for key in pDictResults.keys():\n",
    "        print(\"----------------------------\")\n",
    "        print(\"[key]: \", key)\n",
    "        \n",
    "        innerDict = pDictResults.get(key)\n",
    "        y_actual = innerDict.get('y_actual')\n",
    "        y_pred = innerDict.get('y_pred')\n",
    "        \n",
    "        \n",
    "        #print(classification_report(y_actual, y_pred))\n",
    "        \n",
    "        precision, recall, thresholds = precision_recall_curve(y_actual, y_pred)\n",
    "        \n",
    "        ## average = 'weighted' à cause du débalencement de classes\n",
    "        score = f1_score(y_actual, y_pred, average=pF1Average)        \n",
    "        area_under_curve = auc(recall, precision)\n",
    "        \n",
    "        area_under_curve, score, plot_label = getPlotScoreAucLabel(y_actual, y_pred, pF1Average)\n",
    "        plt.plot(recall, precision,label = key + plot_label)\n",
    "        \n",
    "        #plt.plot(recall, precision,label = key + \" - [auc]: \"+str(round(area_under_curve, 3)) + \"- [f1] :\"+str(round(score, 3)))\n",
    "        \n",
    "    \n",
    "    # axis labels\n",
    "    plt.xlabel('Precision')\n",
    "    plt.ylabel('Recall')\n",
    "    plt.legend(loc='lower left')\n",
    "    \n",
    "    plt.show() \n",
    "\n",
    "\n",
    "    "
   ]
  },
  {
   "cell_type": "code",
   "execution_count": 314,
   "id": "72c73719",
   "metadata": {},
   "outputs": [],
   "source": [
    "### dictionnaire avec les modèles à analyser\n",
    "## 1) créer modèles\n",
    "## 2) créer paramètres\n",
    "## 3) ajouter au dicitonnaire\n",
    "\n",
    "def getDictModels():\n",
    "    ## baseline - dummy\n",
    "    dummy_c = DummyClassifier()\n",
    "\n",
    "    ## logistc regression\n",
    "    log_r = LogisticRegression(solver='saga'\n",
    "    , max_iter= 10^200\n",
    "    #, penalty='elasticnet'\n",
    "    , random_state=2023)\n",
    "\n",
    "    ## knn\n",
    "    model_knn = KNeighborsClassifier()\n",
    "\n",
    "    ## decision tree\n",
    "    model_decision_tree = DecisionTreeClassifier()\n",
    "\n",
    "    ## extra tree\n",
    "    model_extra_tree = ExtraTreesClassifier()\n",
    "\n",
    "    ## random forest\n",
    "    model_random_forest = RandomForestClassifier()\n",
    "\n",
    "\n",
    "    ##bagging\n",
    "    model_bagging = BaggingClassifier()\n",
    "\n",
    "    ## gradient boosting\n",
    "    model_gradient_boosting  = GradientBoostingClassifier()\n",
    "\n",
    "    ##\n",
    "    params_dummy = {'strategy' : ['most_frequent']}\n",
    "\n",
    "    ## regression logistique avec regularization elasticnet\n",
    "    params_log = {\n",
    "      #'C' :[0, 0.01, 0.07, 0.1, 0.2 ,0.5, 0.7 , 1, 10, 100]\n",
    "      'C' :loguniform(1e-5, 1e3)\n",
    "    , 'l1_ratio': [0, 0.05, 0.1, 0.5, 1]\n",
    "    #, 'penalty': ['l1', 'l2', 'elasticnet', 'none']\n",
    "    #, 'penalty': ['l1', 'l2', 'elasticnet']\n",
    "    , 'penalty': ['elasticnet']\n",
    "    }\n",
    "\n",
    "    ## knn\n",
    "    params_knn = {'n_neighbors': [2,3,5,10,20], 'leaf_size':[10, 20, 30], 'p':[1,2,3]\n",
    "    , 'metric': ['minkowski', 'euclidean', 'manhattan']\n",
    "    , 'weights' : ['uniform', 'distance']\n",
    "      }\n",
    "\n",
    "    ## decision tree\n",
    "    params_decision_tree = { \n",
    "      'criterion': ['gini', 'entropy']\n",
    "      , 'ccp_alpha': loguniform(1e-3, 1e3)\n",
    "      , 'max_depth': randint(2, 128)\n",
    "    }\n",
    "\n",
    "    ## extra_tree\n",
    "    params_extra_tree = { \n",
    "      'criterion' : ['gini', 'entropy', 'log_loss']  \n",
    "      , 'n_estimators': randint(1, 10^3)\n",
    "      , 'min_samples_split' : randint(2, 10^5)\n",
    "      , 'min_samples_leaf' : randint(1, 10^5)\n",
    "      , 'max_features': ['sqrt', 'log2']\n",
    "    }\n",
    "\n",
    "\n",
    "\n",
    "    ## random forest\n",
    "    params_random_forest = {\n",
    "      'criterion' : ['gini', 'entropy', 'log_loss']  \n",
    "      , 'n_estimators': randint(1, 10^3)\n",
    "      , 'min_samples_split' : randint(2, 10^5)\n",
    "      , 'min_samples_leaf' : randint(1, 10^5)\n",
    "      , 'max_features': ['sqrt', 'log2']\n",
    "    }\n",
    "\n",
    "    ## bagging\n",
    "    params_bagging = {\n",
    "      'n_estimators': randint(1, 10^3)\n",
    "    }\n",
    "\n",
    "    ## params gradient boosting\n",
    "    params_gradient_boosting = {\n",
    "        'n_estimators' : randint(1, 10^3)\n",
    "        , 'learning_rate' : loguniform(-8, 1)\n",
    "        #, 'max_depth':  randint(1, 10^2)\n",
    "        #, 'loss' : ['log_loss', 'deviance']\n",
    "        #, 'max_features':  ['sqrt', 'log2']\n",
    "        #, 'ccp_alpha' : loguniform(-6, 2)\n",
    "    }\n",
    "\n",
    "\n",
    "    ## dictionary containing models\n",
    "    dictModels = {}\n",
    "\n",
    "\n",
    "    dictModels.update({'dummy':{'model': dummy_c, 'params': params_dummy}})\n",
    "    dictModels.update({'log':{'model':log_r, 'params':params_log}})\n",
    "    dictModels.update({'knn': {'model':model_knn, 'params': params_knn}})\n",
    "    dictModels.update({'decisionTree': {'model': model_decision_tree, 'params': params_decision_tree}})\n",
    "    dictModels.update({'extraTree': {'model': model_extra_tree, 'params': params_extra_tree}})\n",
    "    dictModels.update({'randomForest': {'model': model_random_forest, 'params': params_random_forest}})\n",
    "    dictModels.update({'baggingClassifier': {'model': model_bagging, 'params': params_bagging}})\n",
    "    #dictModels.update({'gradientBoosting': {'model': model_gradient_boosting, 'params': params_gradient_boosting}})\n",
    "    \n",
    "    return dictModels"
   ]
  },
  {
   "cell_type": "code",
   "execution_count": 315,
   "id": "3c859bf7",
   "metadata": {},
   "outputs": [],
   "source": [
    "def doClassificationAnalysis(pDfX, pScoring='f1_weighted'):\n",
    "    ## Obtention des df train, val, test\n",
    "    scaler = StandardScaler()\n",
    "    X_train, X_val, X_test, y_train, y_val, y_test = get_train_val_test(\n",
    "        scaler.fit_transform(pDfX)\n",
    "        , dfY)\n",
    "\n",
    "    ## récupérer dictionnaire de modèles à analyser\n",
    "    dictModels = getDictModels()\n",
    "    \n",
    "    ## colonnes du dictionnaire interne\n",
    "    lstKeysInnerDict=['model', 'params']\n",
    "\n",
    "    ## dicionnaire de résultats\n",
    "    dictResults = {}\n",
    "\n",
    "\n",
    "    lstCols = ['train', 'pred']\n",
    "    dfResultTrainPred = pd.DataFrame(columns = lstCols )\n",
    "\n",
    "    ### scoring\n",
    "    #scoringMethod='roc_auc'\n",
    "    scoringMethod=pScoring\n",
    "    #scoringMethod=[ 'roc_auc', 'recall'] \n",
    "\n",
    "    ## parcourir le dictionnaire de modèles et appliquer randomizedSearch\n",
    "    ## pour trouver les meilleurs paramètres\n",
    "\n",
    "    for key in dictModels.keys():\n",
    "        #print(\"key: \", key)\n",
    "        #print(\"value: \", dictModels.get(key))\n",
    "        innerDict = dictModels.get(key)\n",
    "        print ('-------------')\n",
    "        model = innerDict.get('model')\n",
    "        params = innerDict.get('params')\n",
    "        print('[model]: ', model)\n",
    "        print('[params]: ', params)\n",
    "\n",
    "        #### randomized search\n",
    "        #hyper_p_search = RandomizedSearchCV(model, params, cv=5, scoring=scoringMethod, n_iter = 5*10^2, random_state=2023)\n",
    "        hyper_p_search = RandomizedSearchCV(model, params\n",
    "                                        , cv=5\n",
    "                                        , scoring=scoringMethod\n",
    "                                        , n_iter = 1*10^2\n",
    "                                        , random_state=2023)\n",
    "        print(hyper_p_search.fit(X_train, y_train.values.ravel()))\n",
    "        print(\"Best params: \", hyper_p_search.best_params_)\n",
    "        print(\"Best score: [\"+scoringMethod+\"]:\",  hyper_p_search.best_score_)\n",
    "    \n",
    "        if(type(model) == 'sklearn.linear_model.LogisticRegression'):\n",
    "            y_train_pred = hyper_p_search.best_estimator_.predict_proba(X_train)[:, 1]\n",
    "            y_val_pred = hyper_p_search.best_estimator_.predict_proba(X_val)[:, 1]\n",
    "        else:\n",
    "            y_train_pred = hyper_p_search.best_estimator_.predict(X_train)\n",
    "            y_val_pred = hyper_p_search.best_estimator_.predict(X_val)\n",
    "    \n",
    "        #y_train_pred = hyper_p_search.best_estimator_.predict_proba(X_train)[:, 1]\n",
    "        #y_val_pred = hyper_p_search.best_estimator_.predict_proba(X_val)[:, 1]\n",
    "    \n",
    "       \n",
    "    \n",
    "        ## precision recall\n",
    "        #curr_precision_score = average_precision_score(y_val, y_val_pred)\n",
    "\n",
    "        #print(f'AUC train = {curr_roc_auc_score}')\n",
    "        #print(f'AUC val = {curr_roc_auc_score_val}')\n",
    "    \n",
    "\n",
    "        #print('type(train): ', type(y_train))\n",
    "        #print('type(train_pred): ', type(y_train_pred))\n",
    "\n",
    "        \n",
    "\n",
    "        #dictResults.update({key: {'y_actual': y_train, 'y_pred':y_train_pred, 'roc_auc_score':curr_roc_auc_score }})\n",
    "        dictResults.update({key: {'y_actual': y_val, 'y_pred':y_val_pred, 'roc_auc_score':curr_roc_auc_score_val }})\n",
    "        print(\"len(dictResults): \", len(dictResults))\n",
    "        #results[type(model)] = y_train_pred\n",
    "\n",
    "        #plot_roc_curve(y_train, y_train_pred, pLabel = type(model))\n",
    "        #plot_precision_recall(y_train, y_train_pred, pLabel = type(model))\n",
    "    \n",
    "       \n",
    "        #plot_precision_recall(y_val, y_val_pred, pLabel = curr_roc_auc_score_val)\n",
    "        plot_precision_recall(y_val, y_val_pred, pF1Average=pScoring)\n",
    "\n",
    "    \n",
    "\n",
    "  \n",
    "    plot_multi_precision_recall(dictResults, pF1Average=pScoring)\n"
   ]
  },
  {
   "cell_type": "code",
   "execution_count": 316,
   "id": "69954895",
   "metadata": {},
   "outputs": [
    {
     "name": "stdout",
     "output_type": "stream",
     "text": [
      "-------------\n",
      "[model]:  DummyClassifier()\n",
      "[params]:  {'strategy': ['most_frequent']}\n",
      "RandomizedSearchCV(cv=5, estimator=DummyClassifier(), n_iter=8,\n",
      "                   param_distributions={'strategy': ['most_frequent']},\n",
      "                   random_state=2023, scoring='f1_weighted')\n",
      "Best params:  {'strategy': 'most_frequent'}\n",
      "Best score: [f1_weighted]: 0.7845184371026566\n",
      "len(dictResults):  1\n"
     ]
    },
    {
     "name": "stderr",
     "output_type": "stream",
     "text": [
      "/usr/local/lib/python3.10/site-packages/sklearn/model_selection/_search.py:306: UserWarning: The total space of parameters 1 is smaller than n_iter=8. Running 1 iterations. For exhaustive searches, use GridSearchCV.\n",
      "  warnings.warn(\n"
     ]
    },
    {
     "ename": "ValueError",
     "evalue": "average has to be one of (None, 'micro', 'macro', 'weighted', 'samples')",
     "output_type": "error",
     "traceback": [
      "\u001b[0;31m---------------------------------------------------------------------------\u001b[0m",
      "\u001b[0;31mValueError\u001b[0m                                Traceback (most recent call last)",
      "Cell \u001b[0;32mIn [316], line 1\u001b[0m\n\u001b[0;32m----> 1\u001b[0m \u001b[43mdoClassificationAnalysis\u001b[49m\u001b[43m(\u001b[49m\u001b[43mdfXNum\u001b[49m\u001b[43m,\u001b[49m\u001b[43m \u001b[49m\u001b[43mpScoring\u001b[49m\u001b[38;5;241;43m=\u001b[39;49m\u001b[38;5;124;43m'\u001b[39;49m\u001b[38;5;124;43mf1_weighted\u001b[39;49m\u001b[38;5;124;43m'\u001b[39;49m\u001b[43m)\u001b[49m\n",
      "Cell \u001b[0;32mIn [315], line 84\u001b[0m, in \u001b[0;36mdoClassificationAnalysis\u001b[0;34m(pDfX, pScoring)\u001b[0m\n\u001b[1;32m     76\u001b[0m     \u001b[38;5;28mprint\u001b[39m(\u001b[38;5;124m\"\u001b[39m\u001b[38;5;124mlen(dictResults): \u001b[39m\u001b[38;5;124m\"\u001b[39m, \u001b[38;5;28mlen\u001b[39m(dictResults))\n\u001b[1;32m     77\u001b[0m     \u001b[38;5;66;03m#results[type(model)] = y_train_pred\u001b[39;00m\n\u001b[1;32m     78\u001b[0m \n\u001b[1;32m     79\u001b[0m     \u001b[38;5;66;03m#plot_roc_curve(y_train, y_train_pred, pLabel = type(model))\u001b[39;00m\n\u001b[0;32m   (...)\u001b[0m\n\u001b[1;32m     82\u001b[0m    \n\u001b[1;32m     83\u001b[0m     \u001b[38;5;66;03m#plot_precision_recall(y_val, y_val_pred, pLabel = curr_roc_auc_score_val)\u001b[39;00m\n\u001b[0;32m---> 84\u001b[0m     \u001b[43mplot_precision_recall\u001b[49m\u001b[43m(\u001b[49m\u001b[43my_val\u001b[49m\u001b[43m,\u001b[49m\u001b[43m \u001b[49m\u001b[43my_val_pred\u001b[49m\u001b[43m,\u001b[49m\u001b[43m \u001b[49m\u001b[43mpF1Average\u001b[49m\u001b[38;5;241;43m=\u001b[39;49m\u001b[43mpScoring\u001b[49m\u001b[43m)\u001b[49m\n\u001b[1;32m     89\u001b[0m plot_multi_precision_recall(dictResults, pF1Average\u001b[38;5;241m=\u001b[39mpScoring)\n",
      "Cell \u001b[0;32mIn [312], line 6\u001b[0m, in \u001b[0;36mplot_precision_recall\u001b[0;34m(pYActual, pYPred, pF1Average)\u001b[0m\n\u001b[1;32m      4\u001b[0m \u001b[38;5;66;03m#score = average_precision_score(pYActual, pYPred, average='weighted')\u001b[39;00m\n\u001b[1;32m      5\u001b[0m area_under_curve \u001b[38;5;241m=\u001b[39m auc(recall, precision)\n\u001b[0;32m----> 6\u001b[0m score \u001b[38;5;241m=\u001b[39m \u001b[43mf1_score\u001b[49m\u001b[43m(\u001b[49m\u001b[43mpYActual\u001b[49m\u001b[43m,\u001b[49m\u001b[43m \u001b[49m\u001b[43mpYPred\u001b[49m\u001b[43m,\u001b[49m\u001b[43m \u001b[49m\u001b[43maverage\u001b[49m\u001b[38;5;241;43m=\u001b[39;49m\u001b[43mpF1Average\u001b[49m\u001b[43m)\u001b[49m\n\u001b[1;32m      7\u001b[0m fig \u001b[38;5;241m=\u001b[39m plt\u001b[38;5;241m.\u001b[39mfigure(\u001b[38;5;241m4\u001b[39m, figsize\u001b[38;5;241m=\u001b[39m(\u001b[38;5;241m6\u001b[39m,\u001b[38;5;241m6\u001b[39m))\n\u001b[1;32m      8\u001b[0m \u001b[38;5;66;03m#plt.plot([0,1], [0, 1], 'k--')\u001b[39;00m\n\u001b[1;32m      9\u001b[0m \u001b[38;5;66;03m#plt.plot(precision, recall, label='pLabel')\u001b[39;00m\n",
      "File \u001b[0;32m/usr/local/lib/python3.10/site-packages/sklearn/metrics/_classification.py:1146\u001b[0m, in \u001b[0;36mf1_score\u001b[0;34m(y_true, y_pred, labels, pos_label, average, sample_weight, zero_division)\u001b[0m\n\u001b[1;32m   1011\u001b[0m \u001b[38;5;28;01mdef\u001b[39;00m \u001b[38;5;21mf1_score\u001b[39m(\n\u001b[1;32m   1012\u001b[0m     y_true,\n\u001b[1;32m   1013\u001b[0m     y_pred,\n\u001b[0;32m   (...)\u001b[0m\n\u001b[1;32m   1019\u001b[0m     zero_division\u001b[38;5;241m=\u001b[39m\u001b[38;5;124m\"\u001b[39m\u001b[38;5;124mwarn\u001b[39m\u001b[38;5;124m\"\u001b[39m,\n\u001b[1;32m   1020\u001b[0m ):\n\u001b[1;32m   1021\u001b[0m     \u001b[38;5;124;03m\"\"\"Compute the F1 score, also known as balanced F-score or F-measure.\u001b[39;00m\n\u001b[1;32m   1022\u001b[0m \n\u001b[1;32m   1023\u001b[0m \u001b[38;5;124;03m    The F1 score can be interpreted as a harmonic mean of the precision and\u001b[39;00m\n\u001b[0;32m   (...)\u001b[0m\n\u001b[1;32m   1144\u001b[0m \u001b[38;5;124;03m    array([0.66666667, 1.        , 0.66666667])\u001b[39;00m\n\u001b[1;32m   1145\u001b[0m \u001b[38;5;124;03m    \"\"\"\u001b[39;00m\n\u001b[0;32m-> 1146\u001b[0m     \u001b[38;5;28;01mreturn\u001b[39;00m \u001b[43mfbeta_score\u001b[49m\u001b[43m(\u001b[49m\n\u001b[1;32m   1147\u001b[0m \u001b[43m        \u001b[49m\u001b[43my_true\u001b[49m\u001b[43m,\u001b[49m\n\u001b[1;32m   1148\u001b[0m \u001b[43m        \u001b[49m\u001b[43my_pred\u001b[49m\u001b[43m,\u001b[49m\n\u001b[1;32m   1149\u001b[0m \u001b[43m        \u001b[49m\u001b[43mbeta\u001b[49m\u001b[38;5;241;43m=\u001b[39;49m\u001b[38;5;241;43m1\u001b[39;49m\u001b[43m,\u001b[49m\n\u001b[1;32m   1150\u001b[0m \u001b[43m        \u001b[49m\u001b[43mlabels\u001b[49m\u001b[38;5;241;43m=\u001b[39;49m\u001b[43mlabels\u001b[49m\u001b[43m,\u001b[49m\n\u001b[1;32m   1151\u001b[0m \u001b[43m        \u001b[49m\u001b[43mpos_label\u001b[49m\u001b[38;5;241;43m=\u001b[39;49m\u001b[43mpos_label\u001b[49m\u001b[43m,\u001b[49m\n\u001b[1;32m   1152\u001b[0m \u001b[43m        \u001b[49m\u001b[43maverage\u001b[49m\u001b[38;5;241;43m=\u001b[39;49m\u001b[43maverage\u001b[49m\u001b[43m,\u001b[49m\n\u001b[1;32m   1153\u001b[0m \u001b[43m        \u001b[49m\u001b[43msample_weight\u001b[49m\u001b[38;5;241;43m=\u001b[39;49m\u001b[43msample_weight\u001b[49m\u001b[43m,\u001b[49m\n\u001b[1;32m   1154\u001b[0m \u001b[43m        \u001b[49m\u001b[43mzero_division\u001b[49m\u001b[38;5;241;43m=\u001b[39;49m\u001b[43mzero_division\u001b[49m\u001b[43m,\u001b[49m\n\u001b[1;32m   1155\u001b[0m \u001b[43m    \u001b[49m\u001b[43m)\u001b[49m\n",
      "File \u001b[0;32m/usr/local/lib/python3.10/site-packages/sklearn/metrics/_classification.py:1287\u001b[0m, in \u001b[0;36mfbeta_score\u001b[0;34m(y_true, y_pred, beta, labels, pos_label, average, sample_weight, zero_division)\u001b[0m\n\u001b[1;32m   1158\u001b[0m \u001b[38;5;28;01mdef\u001b[39;00m \u001b[38;5;21mfbeta_score\u001b[39m(\n\u001b[1;32m   1159\u001b[0m     y_true,\n\u001b[1;32m   1160\u001b[0m     y_pred,\n\u001b[0;32m   (...)\u001b[0m\n\u001b[1;32m   1167\u001b[0m     zero_division\u001b[38;5;241m=\u001b[39m\u001b[38;5;124m\"\u001b[39m\u001b[38;5;124mwarn\u001b[39m\u001b[38;5;124m\"\u001b[39m,\n\u001b[1;32m   1168\u001b[0m ):\n\u001b[1;32m   1169\u001b[0m     \u001b[38;5;124;03m\"\"\"Compute the F-beta score.\u001b[39;00m\n\u001b[1;32m   1170\u001b[0m \n\u001b[1;32m   1171\u001b[0m \u001b[38;5;124;03m    The F-beta score is the weighted harmonic mean of precision and recall,\u001b[39;00m\n\u001b[0;32m   (...)\u001b[0m\n\u001b[1;32m   1284\u001b[0m \u001b[38;5;124;03m    array([0.71..., 0.        , 0.        ])\u001b[39;00m\n\u001b[1;32m   1285\u001b[0m \u001b[38;5;124;03m    \"\"\"\u001b[39;00m\n\u001b[0;32m-> 1287\u001b[0m     _, _, f, _ \u001b[38;5;241m=\u001b[39m \u001b[43mprecision_recall_fscore_support\u001b[49m\u001b[43m(\u001b[49m\n\u001b[1;32m   1288\u001b[0m \u001b[43m        \u001b[49m\u001b[43my_true\u001b[49m\u001b[43m,\u001b[49m\n\u001b[1;32m   1289\u001b[0m \u001b[43m        \u001b[49m\u001b[43my_pred\u001b[49m\u001b[43m,\u001b[49m\n\u001b[1;32m   1290\u001b[0m \u001b[43m        \u001b[49m\u001b[43mbeta\u001b[49m\u001b[38;5;241;43m=\u001b[39;49m\u001b[43mbeta\u001b[49m\u001b[43m,\u001b[49m\n\u001b[1;32m   1291\u001b[0m \u001b[43m        \u001b[49m\u001b[43mlabels\u001b[49m\u001b[38;5;241;43m=\u001b[39;49m\u001b[43mlabels\u001b[49m\u001b[43m,\u001b[49m\n\u001b[1;32m   1292\u001b[0m \u001b[43m        \u001b[49m\u001b[43mpos_label\u001b[49m\u001b[38;5;241;43m=\u001b[39;49m\u001b[43mpos_label\u001b[49m\u001b[43m,\u001b[49m\n\u001b[1;32m   1293\u001b[0m \u001b[43m        \u001b[49m\u001b[43maverage\u001b[49m\u001b[38;5;241;43m=\u001b[39;49m\u001b[43maverage\u001b[49m\u001b[43m,\u001b[49m\n\u001b[1;32m   1294\u001b[0m \u001b[43m        \u001b[49m\u001b[43mwarn_for\u001b[49m\u001b[38;5;241;43m=\u001b[39;49m\u001b[43m(\u001b[49m\u001b[38;5;124;43m\"\u001b[39;49m\u001b[38;5;124;43mf-score\u001b[39;49m\u001b[38;5;124;43m\"\u001b[39;49m\u001b[43m,\u001b[49m\u001b[43m)\u001b[49m\u001b[43m,\u001b[49m\n\u001b[1;32m   1295\u001b[0m \u001b[43m        \u001b[49m\u001b[43msample_weight\u001b[49m\u001b[38;5;241;43m=\u001b[39;49m\u001b[43msample_weight\u001b[49m\u001b[43m,\u001b[49m\n\u001b[1;32m   1296\u001b[0m \u001b[43m        \u001b[49m\u001b[43mzero_division\u001b[49m\u001b[38;5;241;43m=\u001b[39;49m\u001b[43mzero_division\u001b[49m\u001b[43m,\u001b[49m\n\u001b[1;32m   1297\u001b[0m \u001b[43m    \u001b[49m\u001b[43m)\u001b[49m\n\u001b[1;32m   1298\u001b[0m     \u001b[38;5;28;01mreturn\u001b[39;00m f\n",
      "File \u001b[0;32m/usr/local/lib/python3.10/site-packages/sklearn/metrics/_classification.py:1573\u001b[0m, in \u001b[0;36mprecision_recall_fscore_support\u001b[0;34m(y_true, y_pred, beta, labels, pos_label, average, warn_for, sample_weight, zero_division)\u001b[0m\n\u001b[1;32m   1571\u001b[0m \u001b[38;5;28;01mif\u001b[39;00m beta \u001b[38;5;241m<\u001b[39m \u001b[38;5;241m0\u001b[39m:\n\u001b[1;32m   1572\u001b[0m     \u001b[38;5;28;01mraise\u001b[39;00m \u001b[38;5;167;01mValueError\u001b[39;00m(\u001b[38;5;124m\"\u001b[39m\u001b[38;5;124mbeta should be >=0 in the F-beta score\u001b[39m\u001b[38;5;124m\"\u001b[39m)\n\u001b[0;32m-> 1573\u001b[0m labels \u001b[38;5;241m=\u001b[39m \u001b[43m_check_set_wise_labels\u001b[49m\u001b[43m(\u001b[49m\u001b[43my_true\u001b[49m\u001b[43m,\u001b[49m\u001b[43m \u001b[49m\u001b[43my_pred\u001b[49m\u001b[43m,\u001b[49m\u001b[43m \u001b[49m\u001b[43maverage\u001b[49m\u001b[43m,\u001b[49m\u001b[43m \u001b[49m\u001b[43mlabels\u001b[49m\u001b[43m,\u001b[49m\u001b[43m \u001b[49m\u001b[43mpos_label\u001b[49m\u001b[43m)\u001b[49m\n\u001b[1;32m   1575\u001b[0m \u001b[38;5;66;03m# Calculate tp_sum, pred_sum, true_sum ###\u001b[39;00m\n\u001b[1;32m   1576\u001b[0m samplewise \u001b[38;5;241m=\u001b[39m average \u001b[38;5;241m==\u001b[39m \u001b[38;5;124m\"\u001b[39m\u001b[38;5;124msamples\u001b[39m\u001b[38;5;124m\"\u001b[39m\n",
      "File \u001b[0;32m/usr/local/lib/python3.10/site-packages/sklearn/metrics/_classification.py:1372\u001b[0m, in \u001b[0;36m_check_set_wise_labels\u001b[0;34m(y_true, y_pred, average, labels, pos_label)\u001b[0m\n\u001b[1;32m   1370\u001b[0m average_options \u001b[38;5;241m=\u001b[39m (\u001b[38;5;28;01mNone\u001b[39;00m, \u001b[38;5;124m\"\u001b[39m\u001b[38;5;124mmicro\u001b[39m\u001b[38;5;124m\"\u001b[39m, \u001b[38;5;124m\"\u001b[39m\u001b[38;5;124mmacro\u001b[39m\u001b[38;5;124m\"\u001b[39m, \u001b[38;5;124m\"\u001b[39m\u001b[38;5;124mweighted\u001b[39m\u001b[38;5;124m\"\u001b[39m, \u001b[38;5;124m\"\u001b[39m\u001b[38;5;124msamples\u001b[39m\u001b[38;5;124m\"\u001b[39m)\n\u001b[1;32m   1371\u001b[0m \u001b[38;5;28;01mif\u001b[39;00m average \u001b[38;5;129;01mnot\u001b[39;00m \u001b[38;5;129;01min\u001b[39;00m average_options \u001b[38;5;129;01mand\u001b[39;00m average \u001b[38;5;241m!=\u001b[39m \u001b[38;5;124m\"\u001b[39m\u001b[38;5;124mbinary\u001b[39m\u001b[38;5;124m\"\u001b[39m:\n\u001b[0;32m-> 1372\u001b[0m     \u001b[38;5;28;01mraise\u001b[39;00m \u001b[38;5;167;01mValueError\u001b[39;00m(\u001b[38;5;124m\"\u001b[39m\u001b[38;5;124maverage has to be one of \u001b[39m\u001b[38;5;124m\"\u001b[39m \u001b[38;5;241m+\u001b[39m \u001b[38;5;28mstr\u001b[39m(average_options))\n\u001b[1;32m   1374\u001b[0m y_type, y_true, y_pred \u001b[38;5;241m=\u001b[39m _check_targets(y_true, y_pred)\n\u001b[1;32m   1375\u001b[0m \u001b[38;5;66;03m# Convert to Python primitive type to avoid NumPy type / Python str\u001b[39;00m\n\u001b[1;32m   1376\u001b[0m \u001b[38;5;66;03m# comparison. See https://github.com/numpy/numpy/issues/6784\u001b[39;00m\n",
      "\u001b[0;31mValueError\u001b[0m: average has to be one of (None, 'micro', 'macro', 'weighted', 'samples')"
     ]
    }
   ],
   "source": [
    "doClassificationAnalysis(dfXNum, pScoring='f1_weighted')"
   ]
  },
  {
   "cell_type": "code",
   "execution_count": 292,
   "id": "1c36cab5",
   "metadata": {},
   "outputs": [
    {
     "name": "stdout",
     "output_type": "stream",
     "text": [
      "-------------\n",
      "[model]:  DummyClassifier()\n",
      "[params]:  {'strategy': ['most_frequent']}\n",
      "RandomizedSearchCV(cv=5, estimator=DummyClassifier(), n_iter=8,\n",
      "                   param_distributions={'strategy': ['most_frequent']},\n",
      "                   random_state=2023, scoring='f1_weighted')\n",
      "Best params:  {'strategy': 'most_frequent'}\n",
      "Best score: [f1_weighted]: 0.7845184371026566\n",
      "len(dictResults):  1\n"
     ]
    },
    {
     "name": "stderr",
     "output_type": "stream",
     "text": [
      "/usr/local/lib/python3.10/site-packages/sklearn/model_selection/_search.py:306: UserWarning: The total space of parameters 1 is smaller than n_iter=8. Running 1 iterations. For exhaustive searches, use GridSearchCV.\n",
      "  warnings.warn(\n"
     ]
    },
    {
     "data": {
      "image/png": "[encoded data removed]",
      "text/plain": [
       "<Figure size 600x600 with 1 Axes>"
      ]
     },
     "metadata": {},
     "output_type": "display_data"
    },
    {
     "name": "stdout",
     "output_type": "stream",
     "text": [
      "-------------\n",
      "[model]:  LogisticRegression(max_iter=194, random_state=2023, solver='saga')\n",
      "[params]:  {'C': <scipy.stats._distn_infrastructure.rv_continuous_frozen object at 0x7f866b66d660>, 'l1_ratio': [0, 0.05, 0.1, 0.5, 1], 'penalty': ['elasticnet']}\n",
      "RandomizedSearchCV(cv=5,\n",
      "                   estimator=LogisticRegression(max_iter=194, random_state=2023,\n",
      "                                                solver='saga'),\n",
      "                   n_iter=8,\n",
      "                   param_distributions={'C': <scipy.stats._distn_infrastructure.rv_continuous_frozen object at 0x7f866b66d660>,\n",
      "                                        'l1_ratio': [0, 0.05, 0.1, 0.5, 1],\n",
      "                                        'penalty': ['elasticnet']},\n",
      "                   random_state=2023, scoring='f1_weighted')\n",
      "Best params:  {'C': 0.9599784834239673, 'l1_ratio': 0.5, 'penalty': 'elasticnet'}\n",
      "Best score: [f1_weighted]: 0.8337028664163197\n",
      "len(dictResults):  2\n"
     ]
    },
    {
     "data": {
      "image/png": "[encoded data removed]",
      "text/plain": [
       "<Figure size 600x600 with 1 Axes>"
      ]
     },
     "metadata": {},
     "output_type": "display_data"
    },
    {
     "name": "stdout",
     "output_type": "stream",
     "text": [
      "-------------\n",
      "[model]:  KNeighborsClassifier()\n",
      "[params]:  {'n_neighbors': [2, 3, 5, 10, 20], 'leaf_size': [10, 20, 30], 'p': [1, 2, 3], 'metric': ['minkowski', 'euclidean', 'manhattan'], 'weights': ['uniform', 'distance']}\n",
      "RandomizedSearchCV(cv=5, estimator=KNeighborsClassifier(), n_iter=8,\n",
      "                   param_distributions={'leaf_size': [10, 20, 30],\n",
      "                                        'metric': ['minkowski', 'euclidean',\n",
      "                                                   'manhattan'],\n",
      "                                        'n_neighbors': [2, 3, 5, 10, 20],\n",
      "                                        'p': [1, 2, 3],\n",
      "                                        'weights': ['uniform', 'distance']},\n",
      "                   random_state=2023, scoring='f1_weighted')\n",
      "Best params:  {'weights': 'uniform', 'p': 1, 'n_neighbors': 5, 'metric': 'manhattan', 'leaf_size': 30}\n",
      "Best score: [f1_weighted]: 0.8222717546067194\n",
      "len(dictResults):  3\n"
     ]
    },
    {
     "data": {
      "image/png": "[encoded data removed]",
      "text/plain": [
       "<Figure size 600x600 with 1 Axes>"
      ]
     },
     "metadata": {},
     "output_type": "display_data"
    },
    {
     "name": "stdout",
     "output_type": "stream",
     "text": [
      "-------------\n",
      "[model]:  DecisionTreeClassifier()\n",
      "[params]:  {'criterion': ['gini', 'entropy'], 'ccp_alpha': <scipy.stats._distn_infrastructure.rv_continuous_frozen object at 0x7f866bebd0c0>, 'max_depth': <scipy.stats._distn_infrastructure.rv_discrete_frozen object at 0x7f866baf2350>}\n",
      "RandomizedSearchCV(cv=5, estimator=DecisionTreeClassifier(), n_iter=8,\n",
      "                   param_distributions={'ccp_alpha': <scipy.stats._distn_infrastructure.rv_continuous_frozen object at 0x7f866bebd0c0>,\n",
      "                                        'criterion': ['gini', 'entropy'],\n",
      "                                        'max_depth': <scipy.stats._distn_infrastructure.rv_discrete_frozen object at 0x7f866baf2350>},\n",
      "                   random_state=2023, scoring='f1_weighted')\n",
      "Best params:  {'ccp_alpha': 0.007047698803985975, 'criterion': 'entropy', 'max_depth': 98}\n",
      "Best score: [f1_weighted]: 0.805945423680312\n",
      "len(dictResults):  4\n"
     ]
    },
    {
     "data": {
      "image/png": "[encoded data removed]",
      "text/plain": [
       "<Figure size 600x600 with 1 Axes>"
      ]
     },
     "metadata": {},
     "output_type": "display_data"
    },
    {
     "name": "stdout",
     "output_type": "stream",
     "text": [
      "-------------\n",
      "[model]:  ExtraTreesClassifier()\n",
      "[params]:  {'criterion': ['gini', 'entropy', 'log_loss'], 'n_estimators': <scipy.stats._distn_infrastructure.rv_discrete_frozen object at 0x7f866baf1840>, 'min_samples_split': <scipy.stats._distn_infrastructure.rv_discrete_frozen object at 0x7f866baf0400>, 'min_samples_leaf': <scipy.stats._distn_infrastructure.rv_discrete_frozen object at 0x7f866baf2620>, 'max_features': ['sqrt', 'log2']}\n",
      "RandomizedSearchCV(cv=5, estimator=ExtraTreesClassifier(), n_iter=8,\n",
      "                   param_distributions={'criterion': ['gini', 'entropy',\n",
      "                                                      'log_loss'],\n",
      "                                        'max_features': ['sqrt', 'log2'],\n",
      "                                        'min_samples_leaf': <scipy.stats._distn_infrastructure.rv_discrete_frozen object at 0x7f866baf2620>,\n",
      "                                        'min_samples_split': <scipy.stats._distn_infrastructure.rv_discrete_frozen object at 0x7f866baf0400>,\n",
      "                                        'n_estimators': <scipy.stats._distn_infrastructure.rv_discrete_frozen object at 0x7f866baf1840>},\n",
      "                   random_state=2023, scoring='f1_weighted')\n",
      "Best params:  {'criterion': 'entropy', 'max_features': 'sqrt', 'min_samples_leaf': 1, 'min_samples_split': 9, 'n_estimators': 8}\n",
      "Best score: [f1_weighted]: 0.8066487067850003\n",
      "len(dictResults):  5\n"
     ]
    },
    {
     "data": {
      "image/png": "[encoded data removed]",
      "text/plain": [
       "<Figure size 600x600 with 1 Axes>"
      ]
     },
     "metadata": {},
     "output_type": "display_data"
    },
    {
     "name": "stdout",
     "output_type": "stream",
     "text": [
      "-------------\n",
      "[model]:  RandomForestClassifier()\n",
      "[params]:  {'criterion': ['gini', 'entropy', 'log_loss'], 'n_estimators': <scipy.stats._distn_infrastructure.rv_discrete_frozen object at 0x7f866baf0730>, 'min_samples_split': <scipy.stats._distn_infrastructure.rv_discrete_frozen object at 0x7f866baf06d0>, 'min_samples_leaf': <scipy.stats._distn_infrastructure.rv_discrete_frozen object at 0x7f866baf2680>, 'max_features': ['sqrt', 'log2']}\n",
      "RandomizedSearchCV(cv=5, estimator=RandomForestClassifier(), n_iter=8,\n",
      "                   param_distributions={'criterion': ['gini', 'entropy',\n",
      "                                                      'log_loss'],\n",
      "                                        'max_features': ['sqrt', 'log2'],\n",
      "                                        'min_samples_leaf': <scipy.stats._distn_infrastructure.rv_discrete_frozen object at 0x7f866baf2680>,\n",
      "                                        'min_samples_split': <scipy.stats._distn_infrastructure.rv_discrete_frozen object at 0x7f866baf06d0>,\n",
      "                                        'n_estimators': <scipy.stats._distn_infrastructure.rv_discrete_frozen object at 0x7f866baf0730>},\n",
      "                   random_state=2023, scoring='f1_weighted')\n",
      "Best params:  {'criterion': 'entropy', 'max_features': 'sqrt', 'min_samples_leaf': 2, 'min_samples_split': 7, 'n_estimators': 7}\n",
      "Best score: [f1_weighted]: 0.8161276169721596\n",
      "len(dictResults):  6\n"
     ]
    },
    {
     "data": {
      "image/png": "[encoded data removed]",
      "text/plain": [
       "<Figure size 600x600 with 1 Axes>"
      ]
     },
     "metadata": {},
     "output_type": "display_data"
    },
    {
     "name": "stdout",
     "output_type": "stream",
     "text": [
      "-------------\n",
      "[model]:  BaggingClassifier()\n",
      "[params]:  {'n_estimators': <scipy.stats._distn_infrastructure.rv_discrete_frozen object at 0x7f866baf1e40>}\n",
      "RandomizedSearchCV(cv=5, estimator=BaggingClassifier(), n_iter=8,\n",
      "                   param_distributions={'n_estimators': <scipy.stats._distn_infrastructure.rv_discrete_frozen object at 0x7f866baf1e40>},\n",
      "                   random_state=2023, scoring='f1_weighted')\n",
      "Best params:  {'n_estimators': 5}\n",
      "Best score: [f1_weighted]: 0.8244564998232778\n",
      "len(dictResults):  7\n"
     ]
    },
    {
     "data": {
      "image/png": "[encoded data removed]",
      "text/plain": [
       "<Figure size 600x600 with 1 Axes>"
      ]
     },
     "metadata": {},
     "output_type": "display_data"
    },
    {
     "name": "stdout",
     "output_type": "stream",
     "text": [
      "--[plot_multi_precision_recall--\n",
      "----------------------------\n",
      "[key]:  dummy\n"
     ]
    },
    {
     "ename": "NameError",
     "evalue": "name 'pYActual' is not defined",
     "output_type": "error",
     "traceback": [
      "\u001b[0;31m---------------------------------------------------------------------------\u001b[0m",
      "\u001b[0;31mNameError\u001b[0m                                 Traceback (most recent call last)",
      "Cell \u001b[0;32mIn [292], line 1\u001b[0m\n\u001b[0;32m----> 1\u001b[0m \u001b[43mdoClassificationAnalysis\u001b[49m\u001b[43m(\u001b[49m\u001b[43mdfXNum\u001b[49m\u001b[43m)\u001b[49m\n",
      "Cell \u001b[0;32mIn [290], line 89\u001b[0m, in \u001b[0;36mdoClassificationAnalysis\u001b[0;34m(pDfX, pScoring)\u001b[0m\n\u001b[1;32m     77\u001b[0m     \u001b[38;5;66;03m#results[type(model)] = y_train_pred\u001b[39;00m\n\u001b[1;32m     78\u001b[0m \n\u001b[1;32m     79\u001b[0m     \u001b[38;5;66;03m#plot_roc_curve(y_train, y_train_pred, pLabel = type(model))\u001b[39;00m\n\u001b[0;32m   (...)\u001b[0m\n\u001b[1;32m     82\u001b[0m    \n\u001b[1;32m     83\u001b[0m     \u001b[38;5;66;03m#plot_precision_recall(y_val, y_val_pred, pLabel = curr_roc_auc_score_val)\u001b[39;00m\n\u001b[1;32m     84\u001b[0m     plot_precision_recall(y_val, y_val_pred)\n\u001b[0;32m---> 89\u001b[0m \u001b[43mplot_multi_precision_recall\u001b[49m\u001b[43m(\u001b[49m\u001b[43mdictResults\u001b[49m\u001b[43m)\u001b[49m\n",
      "Cell \u001b[0;32mIn [288], line 26\u001b[0m, in \u001b[0;36mplot_multi_precision_recall\u001b[0;34m(pDictResults, pPrintDebug, pF1Average)\u001b[0m\n\u001b[1;32m     23\u001b[0m     score \u001b[38;5;241m=\u001b[39m f1_score(y_actual, y_pred, average\u001b[38;5;241m=\u001b[39mpF1Average)        \n\u001b[1;32m     24\u001b[0m     area_under_curve \u001b[38;5;241m=\u001b[39m auc(recall, precision)\n\u001b[0;32m---> 26\u001b[0m     area_under_curve, score, plot_label \u001b[38;5;241m=\u001b[39m getPlotScoreAucLabel(\u001b[43mpYActual\u001b[49m, pYPred, pF1Average)\n\u001b[1;32m     27\u001b[0m     plt\u001b[38;5;241m.\u001b[39mplot(recall, precision,label \u001b[38;5;241m=\u001b[39m key \u001b[38;5;241m+\u001b[39m plot_label)\n\u001b[1;32m     29\u001b[0m     \u001b[38;5;66;03m#plt.plot(recall, precision,label = key + \" - [auc]: \"+str(round(area_under_curve, 3)) + \"- [f1] :\"+str(round(score, 3)))\u001b[39;00m\n\u001b[1;32m     30\u001b[0m     \n\u001b[1;32m     31\u001b[0m \n\u001b[1;32m     32\u001b[0m \u001b[38;5;66;03m# axis labels\u001b[39;00m\n",
      "\u001b[0;31mNameError\u001b[0m: name 'pYActual' is not defined"
     ]
    },
    {
     "data": {
      "text/plain": [
       "<Figure size 700x700 with 0 Axes>"
      ]
     },
     "metadata": {},
     "output_type": "display_data"
    }
   ],
   "source": [
    "doClassificationAnalysis(dfXNum)"
   ]
  },
  {
   "cell_type": "code",
   "execution_count": 249,
   "id": "048c6919",
   "metadata": {},
   "outputs": [
    {
     "ename": "ModuleNotFoundError",
     "evalue": "No module named 'hpsklearn'",
     "output_type": "error",
     "traceback": [
      "\u001b[0;31m---------------------------------------------------------------------------\u001b[0m",
      "\u001b[0;31mModuleNotFoundError\u001b[0m                       Traceback (most recent call last)",
      "Cell \u001b[0;32mIn [249], line 1\u001b[0m\n\u001b[0;32m----> 1\u001b[0m \u001b[38;5;28;01mfrom\u001b[39;00m \u001b[38;5;21;01mhpsklearn\u001b[39;00m \u001b[38;5;28;01mimport\u001b[39;00m HyperoptEstimator\n",
      "\u001b[0;31mModuleNotFoundError\u001b[0m: No module named 'hpsklearn'"
     ]
    }
   ],
   "source": [
    "from hpsklearn import HyperoptEstimator"
   ]
  },
  {
   "cell_type": "code",
   "execution_count": null,
   "id": "12ea21f5",
   "metadata": {},
   "outputs": [],
   "source": []
  },
  {
   "cell_type": "code",
   "execution_count": null,
   "id": "c3df183d",
   "metadata": {},
   "outputs": [],
   "source": []
  },
  {
   "cell_type": "code",
   "execution_count": null,
   "id": "8aa94ab2",
   "metadata": {},
   "outputs": [],
   "source": []
  },
  {
   "cell_type": "code",
   "execution_count": null,
   "id": "63399d33",
   "metadata": {},
   "outputs": [],
   "source": []
  },
  {
   "cell_type": "markdown",
   "id": "cf954230",
   "metadata": {},
   "source": [
    "####\n",
    "\n",
    "https://scikit-learn.org/stable/modules/generated/sklearn.metrics.f1_score.html\n",
    "\n",
    "F1-score: the higher, the better. Max=1\n",
    "\n",
    "The F1 score can be interpreted as a harmonic mean of the precision and recall, where an F1 score reaches its best value at 1 and worst score at 0\n",
    "\n",
    "####"
   ]
  },
  {
   "cell_type": "markdown",
   "id": "992270e3",
   "metadata": {},
   "source": [
    "####\n",
    "\n",
    "Le résultat est cohérent. Le dummy sort toujours la valeur la plus fréquente (0 dans environ 100-15=85% de cas)\n",
    "\n",
    "Pourtant, ce 85% de précision ne veut pas dire grandes choses. On est dans un 'Rare Class Problem' où le 1\n",
    "(top 10) est beaucoup moins représenté que le 0. (Pour ma propre référence: livre Practical Statistics for Data Scientist, pg 223).\n",
    "\n",
    "Dans le cas du top 10, je prends la sensibilité, 'la capacité du modèle de predire un positif', comme une métrique plus importante que la précision. Et dans ce cas, notre sensibilité =0 (aucune prediction positive), ce qui est normal pour le dummy classifier vu que le 0 est la classe la plus fréquente.\n",
    "\n",
    "Concernant la courbe roc, le dummy coïncide avec la diagonale, c'est qui est vraiment le baseline.\n",
    "\n",
    "Pour les autres modèles, on attend une courbe au dessus de la ligne bleue\n",
    "\n",
    "####"
   ]
  },
  {
   "cell_type": "code",
   "execution_count": null,
   "id": "d41e3f08",
   "metadata": {},
   "outputs": [],
   "source": []
  }
 ],
 "metadata": {
  "kernelspec": {
   "display_name": "Python 3 (ipykernel)",
   "language": "python",
   "name": "python3"
  },
  "language_info": {
   "codemirror_mode": {
    "name": "ipython",
    "version": 3
   },
   "file_extension": ".py",
   "mimetype": "text/x-python",
   "name": "python",
   "nbconvert_exporter": "python",
   "pygments_lexer": "ipython3",
   "version": "3.10.8"
  }
 },
 "nbformat": 4,
 "nbformat_minor": 5
}
