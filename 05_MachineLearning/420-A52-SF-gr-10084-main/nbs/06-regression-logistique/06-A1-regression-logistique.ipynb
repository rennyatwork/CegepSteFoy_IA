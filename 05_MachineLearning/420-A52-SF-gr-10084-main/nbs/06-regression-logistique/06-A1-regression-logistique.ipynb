{
 "cells": [
  {
   "cell_type": "markdown",
   "metadata": {},
   "source": [
    "**420-A52-SF - Algorithmes d'apprentissage supervisé - Automne 2022 - Spécialisation technique en Intelligence Artificielle**<br/>\n",
    "MIT License - Copyright (c) 2022 Mikaël Swawola\n",
    "<br/>\n",
    "![Travaux Pratiques - Régression logistique](static/06-A1-banner.png)\n",
    "<br/>\n",
    "**Objectif:** cette séance de travaux pratique a pour objectif la mise en oeuvre d'un classificateur de type régression logistique. L'algorithme d'apprentissage des paramètres utilisé sera l'**algorithme du gradient**. Cette fois-ci, le travail sera basé sur des **jeux de données simulés**"
   ]
  },
  {
   "cell_type": "code",
   "execution_count": null,
   "metadata": {},
   "outputs": [],
   "source": [
    "%reload_ext autoreload\n",
    "%autoreload 2\n",
    "%matplotlib inline"
   ]
  },
  {
   "cell_type": "markdown",
   "metadata": {},
   "source": [
    "### 0 - Chargement des bibliothèques"
   ]
  },
  {
   "cell_type": "code",
   "execution_count": null,
   "metadata": {},
   "outputs": [],
   "source": [
    "# Manipulation de données\n",
    "import numpy as np\n",
    "import pandas as pd\n",
    "from collections import defaultdict\n",
    "\n",
    "# Visualisation de données\n",
    "import matplotlib.pyplot as plt\n",
    "import seaborn as sns\n",
    "\n",
    "# Outils divers\n",
    "from tqdm.notebook import tqdm_notebook\n",
    "from tqdm import tqdm\n",
    "\n",
    "# Helpers pour l'affichage\n",
    "from helpers import plot_results"
   ]
  },
  {
   "cell_type": "code",
   "execution_count": null,
   "metadata": {},
   "outputs": [],
   "source": [
    "# Configuration de la visualisation\n",
    "sns.set(style=\"darkgrid\", rc={'figure.figsize':(21,6.5)})\n",
    "sns.set_context(\"notebook\", font_scale=1.5, rc={\"lines.linewidth\": 2.5})"
   ]
  },
  {
   "cell_type": "markdown",
   "metadata": {},
   "source": [
    "### 1 - Lecture des jeux de données"
   ]
  },
  {
   "cell_type": "markdown",
   "metadata": {},
   "source": [
    "**Exercice 1**: à l'aide de la bibiothèques *pandas*, lire les fichiers `linear.csv`, `circles.csv` et `moons.csv`"
   ]
  },
  {
   "cell_type": "code",
   "execution_count": null,
   "metadata": {},
   "outputs": [],
   "source": [
    "# Compléter le code ci-dessous ~ 1 ligne\n",
    "df_linear = None"
   ]
  },
  {
   "cell_type": "code",
   "execution_count": null,
   "metadata": {},
   "outputs": [],
   "source": [
    "# Compléter le code ci-dessous ~ 1 ligne\n",
    "df_circles = None"
   ]
  },
  {
   "cell_type": "code",
   "execution_count": null,
   "metadata": {},
   "outputs": [],
   "source": [
    "# Compléter le code ci-dessous ~ 1 ligne\n",
    "df_moons = None"
   ]
  },
  {
   "cell_type": "markdown",
   "metadata": {},
   "source": [
    "### 2 - Affichage des jeux de données"
   ]
  },
  {
   "cell_type": "markdown",
   "metadata": {},
   "source": [
    "La première étape avant toute étude d'apprentissage supervisé est de visualiser les données (cf. cours de Visualisation des données). Cette étape est faite ici pour vous."
   ]
  },
  {
   "cell_type": "code",
   "execution_count": null,
   "metadata": {},
   "outputs": [],
   "source": [
    "f, axes = plt.subplots(1, 3)\n",
    "sns.scatterplot(x='x1', y='x2', hue=\"y\", data=df_linear, ax=axes[0], s=70)\n",
    "axes[0].set_title(\"Linéairement séparable\")\n",
    "sns.scatterplot(x='x1', y='x2', hue=\"y\", data=df_circles, ax=axes[1], s=70)\n",
    "axes[1].set_title(\"Cercles\")\n",
    "sns.scatterplot(x='x1', y='x2', hue=\"y\", data=df_moons, ax=axes[2], s=70)\n",
    "axes[2].set_title(\"Lunes\")"
   ]
  },
  {
   "cell_type": "markdown",
   "metadata": {},
   "source": [
    "### 3 - Jeu de données #1 - Données linéairement séparables"
   ]
  },
  {
   "cell_type": "markdown",
   "metadata": {},
   "source": [
    "**Exercice 2**: Construire la matrice des prédicteurs X (design matrix) et le vecteur y (réponse) pour le jeu de données linéairement séparable.<br/>\n",
    "<strong style=\"color:red\">Pour la dimension de X, nous suivrons ici la convention n x m</strong>"
   ]
  },
  {
   "cell_type": "code",
   "execution_count": null,
   "metadata": {},
   "outputs": [],
   "source": [
    "# Compléter le code ci-dessous ~ 5 lignes\n",
    "x0 = None\n",
    "x1 = None\n",
    "x2 = None\n",
    "X = None\n",
    "y = None"
   ]
  },
  {
   "cell_type": "markdown",
   "metadata": {},
   "source": [
    "<strong style='color: green'>TEST - Le code ci-dessous vous permet de tester les formes de `X` et de `y`. Les `assert` ne doivent pas renvoyer d'exception</strong>"
   ]
  },
  {
   "cell_type": "code",
   "execution_count": null,
   "metadata": {},
   "outputs": [],
   "source": [
    "assert X.shape == (3,100)\n",
    "assert y.shape == (100,1)"
   ]
  },
  {
   "cell_type": "markdown",
   "metadata": {},
   "source": [
    "**Exercice 3**: compléter la fonction logistique (ou sigmoïde) ci-dessous. Pour rappel, la fonction logistique (ou sigmoïde) est de la forme\n",
    "\n",
    "$g(z)=\\frac{1}{1+e^{-z}}$"
   ]
  },
  {
   "cell_type": "code",
   "execution_count": null,
   "metadata": {},
   "outputs": [],
   "source": [
    "def sigmoid(z):\n",
    "    # Compléter le code ci-dessous ~ 1 ligne\n",
    "    s = None\n",
    "    return s"
   ]
  },
  {
   "cell_type": "markdown",
   "metadata": {},
   "source": [
    "<strong style='color: green'>TEST - Le code ci-dessous vous permet de tester votre fonction `sigmoid`. Les `assert` ne doivent pas renvoyer d'exception</strong>"
   ]
  },
  {
   "cell_type": "code",
   "execution_count": null,
   "metadata": {},
   "outputs": [],
   "source": [
    "assert(sigmoid(0) == 0.5)\n",
    "assert(sigmoid(np.log(3)) == 0.75)"
   ]
  },
  {
   "cell_type": "markdown",
   "metadata": {},
   "source": [
    "**Exercice 4**: compléter la fonction ci-dessous représentant le modèle de régression logistique\n",
    "\n",
    "Pour rappel, l'hypothèse utilisée ici est:\n",
    "\n",
    "$h_{\\theta}(x)=g(\\theta^Tx)$\n",
    "\n",
    "où $g$ est la fonction (ou sigmoïde)"
   ]
  },
  {
   "cell_type": "code",
   "execution_count": null,
   "metadata": {},
   "outputs": [],
   "source": [
    "def hypothesis(X, theta):\n",
    "    assert X.shape[0] == theta.shape[0] # Vérifie que la multiplication va être possible (n x 1)T x (n x m) => (1 x m) \n",
    "    # Compléter le code ci-dessous ~ 1 ligne\n",
    "    h = None\n",
    "    return h"
   ]
  },
  {
   "cell_type": "markdown",
   "metadata": {},
   "source": [
    "<strong style='color: green'>TEST - Le code ci-dessous vous permet de tester votre fonction `hypothesis`. Le `assert` ne doit pas renvoyer d'exception</strong>"
   ]
  },
  {
   "cell_type": "code",
   "execution_count": null,
   "metadata": {},
   "outputs": [],
   "source": [
    "X_test = np.array([[1,1,0,-1],[2,2,1,-1]]) # 2 x 4\n",
    "theta_test = np.array([1,2]).reshape(-1,1) # 4 x 1\n",
    "h = hypothesis(X_test, theta_test)\n",
    "assert h.shape == (1,4)\n",
    "h"
   ]
  },
  {
   "cell_type": "markdown",
   "metadata": {},
   "source": [
    "Vous devriez obtenir le array suivant:<br/>\n",
    "```array([[0.99330715, 0.99330715, 0.88079708, 0.04742587]])```"
   ]
  },
  {
   "cell_type": "markdown",
   "metadata": {},
   "source": [
    "**Exercice 5**: compléter la fonction de coût ci-dessous\n",
    "\n",
    "Pour rappel, la fonction de coût en régression logistique est:\n",
    "\n",
    "$J(\\theta) = -\\frac{1}{m}\\times \\sum\\limits_{i=1}^{m}y^{(i)}\\times\\text{log}(h_\\theta(x))+(1-y^{(i)})\\times\\text{log}(1-h_\\theta(x))$"
   ]
  },
  {
   "cell_type": "code",
   "execution_count": null,
   "metadata": {},
   "outputs": [],
   "source": [
    "def cost_function(X,y, theta):\n",
    "    # Compléter le code ci-dessous ~ 1-4 lignes\n",
    "    cost = None\n",
    "    return cost"
   ]
  },
  {
   "cell_type": "code",
   "execution_count": null,
   "metadata": {},
   "outputs": [],
   "source": [
    "X_test = np.array([[1,1,0,-1],[2,2,1,-1]])\n",
    "theta_test = np.array([1,2]).reshape(-1,1)\n",
    "y_test = np.array([0,1,0,1]).reshape(-1,1)\n",
    "cost = cost_function(X_test, y_test, theta_test)\n",
    "cost"
   ]
  },
  {
   "cell_type": "markdown",
   "metadata": {},
   "source": [
    "Vous devriez obtenir ~ 2.54"
   ]
  },
  {
   "cell_type": "markdown",
   "metadata": {},
   "source": [
    "**Exercice 6**: Compléter l'algorithme du gradient ci-dessous:\n",
    "\n",
    "Pour rappel, l'algorithme du gradient est de la forme:\n",
    "\n",
    "$\n",
    "\\text{Répéter pendant n_iterations}\n",
    "\\{\\\\\n",
    "\\theta_{j}:= \\theta_{j} - \\alpha\\sum\\limits_{i=1}^{m}(h_{\\theta}(x^{(i)})-y^{(i)})\\times x_{j}^{(i)}\\quad\\forall j\n",
    "\\\\\n",
    "\\}\n",
    "$\n"
   ]
  },
  {
   "cell_type": "code",
   "execution_count": null,
   "metadata": {},
   "outputs": [],
   "source": [
    "def gradient_descent(X, y, theta, alpha = 0.01, n_iterations = 100):\n",
    "\n",
    "    history = defaultdict(list)\n",
    "\n",
    "    for i in tqdm(range(0, n_iterations)):\n",
    "    \n",
    "        # Compléter le code ci-dessous ~ 2 lignes\n",
    "        None\n",
    "\n",
    "        # Sauvegarde des valeurs intermédiaires de theta et du coût\n",
    "        if i%50 == 0:\n",
    "            cost = cost_function(X, y, theta)\n",
    "            history['theta'].append(theta)\n",
    "            history['cost'].append(cost)\n",
    "        \n",
    "    return theta, history"
   ]
  },
  {
   "cell_type": "code",
   "execution_count": null,
   "metadata": {},
   "outputs": [],
   "source": [
    "# Compléter le code ci-dessous\n",
    "theta = None\n",
    "alpha = None\n",
    "n_iterations = None\n",
    "\n",
    "theta, history = gradient_descent(X,y, theta, alpha, n_iterations)\n",
    "theta"
   ]
  },
  {
   "cell_type": "markdown",
   "metadata": {},
   "source": [
    "Vous devriez obtenir le vecteur $\\theta$ suivant:<br/>\n",
    "```\n",
    "array([[-0.20182053],\n",
    "       [ 3.20516816],\n",
    "       [ 1.03975638]])```"
   ]
  },
  {
   "cell_type": "markdown",
   "metadata": {},
   "source": [
    "#### Affichage des résultats"
   ]
  },
  {
   "cell_type": "code",
   "execution_count": null,
   "metadata": {},
   "outputs": [],
   "source": [
    "sns.set(rc={'figure.figsize':(16,6)})\n",
    "f, axes = plt.subplots(1,2)\n",
    "xx = np.linspace(-5, 5, 100)\n",
    "yy = np.linspace(-5, 5, 100)\n",
    "XX, YY = np.meshgrid(xx,yy)\n",
    "F = theta[0] + theta[1]*XX + theta[2]*YY\n",
    "plot_results(X,y,XX,YY,F, sigmoid(F), axes)"
   ]
  },
  {
   "cell_type": "markdown",
   "metadata": {},
   "source": [
    "### 4 - Jeu de données #2 - Cercles"
   ]
  },
  {
   "cell_type": "markdown",
   "metadata": {},
   "source": [
    "**Exercice 7**: Effectuer une régression logistique sur le jeu de données **circles**"
   ]
  },
  {
   "cell_type": "code",
   "execution_count": null,
   "metadata": {},
   "outputs": [],
   "source": [
    "# Compléter le code ci-dessous ~ quelques lignes\n",
    "None"
   ]
  },
  {
   "cell_type": "markdown",
   "metadata": {},
   "source": [
    "#### Affichage des résultats"
   ]
  },
  {
   "cell_type": "code",
   "execution_count": null,
   "metadata": {},
   "outputs": [],
   "source": [
    "sns.set(rc={'figure.figsize':(16,6)})\n",
    "f, axes = plt.subplots(1,2)\n",
    "xx = np.linspace(-1.5, 1.5, 100)\n",
    "yy = np.linspace(-1.5, 1.5, 100)\n",
    "XX, YY = np.meshgrid(xx,yy)\n",
    "F = theta[0] + theta[1]*XX + theta[2]*YY + theta[3]*XX**2 + theta[4]*YY**2\n",
    "plot_results(X,y,XX,YY,F, sigmoid(F), axes)"
   ]
  },
  {
   "cell_type": "markdown",
   "metadata": {},
   "source": [
    "### 5 - Jeu de données #3 - Lunes"
   ]
  },
  {
   "cell_type": "markdown",
   "metadata": {},
   "source": [
    "**Exercice 7**: Effectuer une régression logistique sur le jeu de données **moons**"
   ]
  },
  {
   "cell_type": "code",
   "execution_count": null,
   "metadata": {},
   "outputs": [],
   "source": [
    "# Compléter le code ci-dessous ~ quelques lignes\n",
    "None"
   ]
  },
  {
   "cell_type": "markdown",
   "metadata": {},
   "source": [
    "#### Affichage des résultats"
   ]
  },
  {
   "cell_type": "code",
   "execution_count": null,
   "metadata": {},
   "outputs": [],
   "source": [
    "sns.set(rc={'figure.figsize':(16,6)})\n",
    "f, axes = plt.subplots(1,2)\n",
    "xx = np.linspace(-1.5, 2.5, 100)\n",
    "yy = np.linspace(-1, 1.5, 100)\n",
    "XX, YY = np.meshgrid(xx,yy)\n",
    "F = theta[0] + theta[1]*XX + theta[2]*YY + theta[3]*XX**2 + theta[4]*YY**2 + theta[5]*XX**3 + theta[6]*YY**3\n",
    "plot_results(X,y,XX,YY,F, sigmoid(F), axes)"
   ]
  },
  {
   "cell_type": "markdown",
   "metadata": {},
   "source": [
    "### Fin du TP"
   ]
  }
 ],
 "metadata": {
  "kernelspec": {
   "display_name": "Python 3 (ipykernel)",
   "language": "python",
   "name": "python3"
  },
  "language_info": {
   "codemirror_mode": {
    "name": "ipython",
    "version": 3
   },
   "file_extension": ".py",
   "mimetype": "text/x-python",
   "name": "python",
   "nbconvert_exporter": "python",
   "pygments_lexer": "ipython3",
   "version": "3.10.8"
  }
 },
 "nbformat": 4,
 "nbformat_minor": 4
}
