{
 "cells": [
  {
   "cell_type": "markdown",
   "metadata": {},
   "source": [
    "**420-A52-SF - Algorithmes d'apprentissage supervisé - Automne 2022 - Spécialisation technique en Intelligence Artificielle**<br/>\n",
    "MIT License - Copyright (c) 2022 Mikaël Swawola\n",
    "<br/>\n",
    "![Travaux Pratiques - Régression linéaire multiple](static/02-A1-banner.png)\n",
    "<br/>\n",
    "**Objectif:** cette séance de travaux pratique consiste en la mise en oeuvre sous forme de code vectorisé de l'**algorithme du gradient en régression linéaire multiple**. Le jeu de données utilisé sera la version complète du jeu de données *Advertising* et devra être **mis à l'échelle**"
   ]
  },
  {
   "cell_type": "code",
   "execution_count": null,
   "metadata": {},
   "outputs": [],
   "source": [
    "%reload_ext autoreload\n",
    "%autoreload 2\n",
    "%matplotlib inline"
   ]
  },
  {
   "cell_type": "markdown",
   "metadata": {},
   "source": [
    "### 0 - Chargement des bibliothèques"
   ]
  },
  {
   "cell_type": "code",
   "execution_count": null,
   "metadata": {},
   "outputs": [],
   "source": [
    "# Manipulation de données\n",
    "import numpy as np\n",
    "import pandas as pd\n",
    "from collections import defaultdict\n",
    "\n",
    "# Visualisation de données\n",
    "import matplotlib.pyplot as plt\n",
    "import seaborn as sns\n",
    "\n",
    "# Outils divers\n",
    "from tqdm.notebook import tqdm_notebook\n",
    "from tqdm import tqdm"
   ]
  },
  {
   "cell_type": "code",
   "execution_count": null,
   "metadata": {},
   "outputs": [],
   "source": [
    "# Configuration de la visualisation\n",
    "sns.set(style=\"darkgrid\", rc={'figure.figsize':(11.7,8.27)})"
   ]
  },
  {
   "cell_type": "markdown",
   "metadata": {},
   "source": [
    "### 1 - Lecture du jeu de données advertising"
   ]
  },
  {
   "cell_type": "markdown",
   "metadata": {},
   "source": [
    "**Exercice 1-1**: à l'aide de la bibiothèques *pandas*, lire le fichier `advertising-multivariate.csv`"
   ]
  },
  {
   "cell_type": "code",
   "execution_count": null,
   "metadata": {},
   "outputs": [],
   "source": [
    "# Compléter le code ci-dessous ~ 1 ligne\n",
    "df = None"
   ]
  },
  {
   "cell_type": "markdown",
   "metadata": {},
   "source": [
    "**Exercice 1-2**: à l'aide de la fonction `head()`, visualiser les premières lignes de la trame de données. Quelle sera la taille du vecteur de paramètres $\\theta$ ?"
   ]
  },
  {
   "cell_type": "code",
   "execution_count": null,
   "metadata": {},
   "outputs": [],
   "source": [
    "# Compléter le code ci-dessous ~ 1 ligne\n",
    "None"
   ]
  },
  {
   "cell_type": "markdown",
   "metadata": {},
   "source": [
    "### 2 - Mise à l'échelle des données"
   ]
  },
  {
   "cell_type": "markdown",
   "metadata": {},
   "source": [
    "**Exercice 2**: Standardiser les données.<br/>\n",
    "Note: Il n'est pas nécéssaire de standardiser la variable de sortie, mais vous pouvez le faire à des fins de simplification"
   ]
  },
  {
   "cell_type": "code",
   "execution_count": null,
   "metadata": {},
   "outputs": [],
   "source": [
    "# Compléter le code ci-dessous ~ 1 ligne\n",
    "df_norm = None"
   ]
  },
  {
   "cell_type": "markdown",
   "metadata": {},
   "source": [
    "### 3 - Préparation de la structure de données"
   ]
  },
  {
   "cell_type": "markdown",
   "metadata": {},
   "source": [
    "**Exercice 3**: Construire la matrice des prédicteurs X sans oublier d'ajouter une colonne représentant $x_0$"
   ]
  },
  {
   "cell_type": "code",
   "execution_count": null,
   "metadata": {},
   "outputs": [],
   "source": [
    "# Compléter le code ci-dessous ~ 5 lignes\n",
    "x0 = None\n",
    "x1 = None\n",
    "x2 = None\n",
    "x3 = None\n",
    "X = None\n",
    "\n",
    "y = df['sales'].values # Nous gardons ici les valeurs non standardisée"
   ]
  },
  {
   "cell_type": "markdown",
   "metadata": {},
   "source": [
    "<strong style='color: green'>TEST - Le code ci-dessous vous permet de tester la forme de `X`. Le `assert` ne doit pas renvoyer d'exception</strong>"
   ]
  },
  {
   "cell_type": "code",
   "execution_count": null,
   "metadata": {},
   "outputs": [],
   "source": [
    "assert X.shape == (4,200)"
   ]
  },
  {
   "cell_type": "markdown",
   "metadata": {},
   "source": [
    "### 4 - Définition du modèle"
   ]
  },
  {
   "cell_type": "markdown",
   "metadata": {},
   "source": [
    "**Exercice 4**: compléter la fonction ci-dessous représentant le modèle de régression linéaire multiple (hypothèse)\n",
    "\n",
    "Pour rappel, le modèle de régression multiple est\n",
    "\n",
    "$h_{\\theta}(x)=\\theta_{0}x_0 + \\theta_{1}x_1 + \\cdots + \\theta_{n}x_n = \\theta^TX$"
   ]
  },
  {
   "cell_type": "code",
   "execution_count": null,
   "metadata": {},
   "outputs": [],
   "source": [
    "def hypothesis(x, theta):\n",
    "    assert x.shape[0] == theta.shape[0]\n",
    "    # Compléter le code ~ 1 ligne\n",
    "    h = None\n",
    "    return h"
   ]
  },
  {
   "cell_type": "markdown",
   "metadata": {},
   "source": [
    "<strong style='color: green'>TEST - Le code ci-dessous vous permet de tester votre fonction `hypothesis`. Le `assert` ne doit pas renvoyer d'exception</strong>"
   ]
  },
  {
   "cell_type": "code",
   "execution_count": null,
   "metadata": {},
   "outputs": [],
   "source": [
    "x_test = np.array([[1,1],[3,4],[2,2],[1,-1]])\n",
    "theta_test = np.array([1,2,2,4]).reshape(-1,1)\n",
    "hypothesis(x_test, theta_test)\n",
    "assert np.array_equal(hypothesis(x_test,theta_test), np.array([[15,9]]))"
   ]
  },
  {
   "cell_type": "markdown",
   "metadata": {},
   "source": [
    "### 5 - Fonction de coût"
   ]
  },
  {
   "cell_type": "markdown",
   "metadata": {},
   "source": [
    "**Exercice 5**: compléter la fonction ci-dessous permettant le calcul du coût (fonction de coût)\n",
    "\n",
    "Pour rappel, la fonction de coût en régression linéaire multiple s'exprime sous la forme\n",
    "\n",
    "$J(\\theta)= \\frac{1}{2m}\\sum\\limits_{i=1}^{m}(h_{\\theta}(x^{(i)})-y^{(i)})^{2}=\\frac{1}{2m}(y-X^t\\theta)^T\\times(y-X^t\\theta)$\n",
    "\n",
    "Remarque: comme le montre l'équation ci-dessus, il exite deux méthodes pour calculer la fonction de coût. Choisissez celle qui vous convient.<br/><em>Optionnel: faites l'autre méthode</em>"
   ]
  },
  {
   "cell_type": "code",
   "execution_count": null,
   "metadata": {},
   "outputs": [],
   "source": [
    "def cost_function(x,y, theta):\n",
    "    # Compléter le code ~ 1-4 lignes\n",
    "    cost = None\n",
    "    return cost"
   ]
  },
  {
   "cell_type": "markdown",
   "metadata": {},
   "source": [
    "<strong style='color: green'>TEST - Le code ci-dessous permet de tester la fonction `cost_function`. Celle-ci doit retourner un `numpy.float64`, c'est-à-dire un nombre et non tableau (array). Le `assert` ne doit pas renvoyer d'exception et le résultat attendu est ~ 94.92</strong>"
   ]
  },
  {
   "cell_type": "code",
   "execution_count": null,
   "metadata": {},
   "outputs": [],
   "source": [
    "theta_test = np.array([1,2,2,4]).reshape(-1,1)\n",
    "cost = cost_function(X,y,theta_test)\n",
    "assert type(cost) == np.float64\n",
    "cost"
   ]
  },
  {
   "cell_type": "markdown",
   "metadata": {},
   "source": [
    "### 6 - Algorithme du gradient"
   ]
  },
  {
   "cell_type": "markdown",
   "metadata": {},
   "source": [
    "**Exercice 6**: Compléter l'algorithme du gradient ci-dessous. Choisir le vecteur $\\theta$ initial, la valeurs du **pas** ($\\alpha$) et le **nombre d'itérations**. Un test de convergence ne sera pas utilisé ici.\n",
    "\n",
    "$\n",
    "\\text{Répéter pendant n_iterations}\n",
    "\\{\\\\\n",
    "\\theta_{j}:= \\theta_{j} - \\alpha\\frac{1}{m}\\sum\\limits_{i=1}^{m}(h_{\\theta}(x^{(i)})-y^{(i)})\\times x_{j}^{(i)}\\quad\\forall j\n",
    "\\\\\n",
    "\\}\n",
    "$\n",
    "\n",
    "Ou sous forme vectorisée:\n",
    "\n",
    "$\n",
    "\\text{Répéter pendant n_iterations}\n",
    "\\{\\\\\n",
    "\\theta:= \\theta - \\alpha\\frac{1}{m}(\\theta^TX-y)\\times X\n",
    "\\\\\n",
    "\\}\n",
    "$\n",
    "\n",
    "<strong>Vous êtes vivement encouragés à utiliser la forme vectorisée. Celle-ci est de toute façon plus simple à coder que la version non vectorisée !</strong>"
   ]
  },
  {
   "cell_type": "code",
   "execution_count": null,
   "metadata": {},
   "outputs": [],
   "source": [
    "theta = None\n",
    "alpha = None\n",
    "n_iterations = None\n",
    "\n",
    "m = y.shape[0]\n",
    "\n",
    "history = defaultdict(list)\n",
    "\n",
    "for i in tqdm(range(0, n_iterations)):\n",
    "    \n",
    "    # Compléter le code ~ 2 lignes\n",
    "    None\n",
    "      \n",
    "    # Sauvegarde des valeurs intermédiaires de theta et du coût\n",
    "    if i%50 == 0:\n",
    "        cost = cost_function(X, y, theta)\n",
    "        history['theta_0'].append(theta[0])\n",
    "        history['theta_1'].append(theta[1])\n",
    "        history['theta_2'].append(theta[2])\n",
    "        history['theta_3'].append(theta[3])\n",
    "        history['cost'].append(cost)\n",
    "        \n",
    "print(f'Theta = {theta}')"
   ]
  },
  {
   "cell_type": "markdown",
   "metadata": {},
   "source": [
    "Les valeurs des paramètres $\\theta_j$ devraient approcher\n",
    "\n",
    "```[[14.0225    ]\n",
    " [ 3.92908869]\n",
    " [ 2.79906919]\n",
    " [-0.02259517]]```"
   ]
  },
  {
   "cell_type": "markdown",
   "metadata": {},
   "source": [
    "### 7 - Interprétation des paramètres"
   ]
  },
  {
   "cell_type": "markdown",
   "metadata": {},
   "source": [
    "**Exercice 7**: Interpréter les paramètres obtenus"
   ]
  },
  {
   "cell_type": "markdown",
   "metadata": {},
   "source": [
    "### Fin du TP"
   ]
  }
 ],
 "metadata": {
  "kernelspec": {
   "display_name": "Python 3 (ipykernel)",
   "language": "python",
   "name": "python3"
  },
  "language_info": {
   "codemirror_mode": {
    "name": "ipython",
    "version": 3
   },
   "file_extension": ".py",
   "mimetype": "text/x-python",
   "name": "python",
   "nbconvert_exporter": "python",
   "pygments_lexer": "ipython3",
   "version": "3.10.8"
  }
 },
 "nbformat": 4,
 "nbformat_minor": 4
}
