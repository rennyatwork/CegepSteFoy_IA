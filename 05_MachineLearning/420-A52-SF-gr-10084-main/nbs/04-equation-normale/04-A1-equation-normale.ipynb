{
 "cells": [
  {
   "cell_type": "markdown",
   "metadata": {},
   "source": [
    "**420-A52-SF - Algorithmes d'apprentissage supervisé - Automne 2022 - Spécialisation technique en Intelligence Artificielle**<br/>\n",
    "MIT License - Copyright (c) 2022 Mikaël Swawola\n",
    "<br/>\n",
    "![Travaux Pratiques - Équation normale et régression polynomiale](static/04-A1-banner.png)\n",
    "<br/>\n",
    "**Objectif:** cette séance de travaux pratique a pour objectif la résolution des paramètres optimaux d'une régression linéaire à l'aide de l'**équation normale**. La régression sera de type polynomiale et le jeu de données utilisé sera la version simplifiée (une seule variable) du jeu de données *Advertising*"
   ]
  },
  {
   "cell_type": "code",
   "execution_count": null,
   "metadata": {},
   "outputs": [],
   "source": [
    "%reload_ext autoreload\n",
    "%autoreload 2\n",
    "%matplotlib inline"
   ]
  },
  {
   "cell_type": "markdown",
   "metadata": {},
   "source": [
    "### 0 - Chargement des bibliothèques"
   ]
  },
  {
   "cell_type": "code",
   "execution_count": null,
   "metadata": {},
   "outputs": [],
   "source": [
    "# Manipulation de données\n",
    "import numpy as np\n",
    "import pandas as pd\n",
    "\n",
    "# Visualisation de données\n",
    "import matplotlib.pyplot as plt\n",
    "import seaborn as sns"
   ]
  },
  {
   "cell_type": "code",
   "execution_count": null,
   "metadata": {},
   "outputs": [],
   "source": [
    "# Configuration de la visualisation\n",
    "sns.set(style=\"darkgrid\", rc={'figure.figsize':(11.7,8.27)})"
   ]
  },
  {
   "cell_type": "markdown",
   "metadata": {},
   "source": [
    "### 1 - Lecture du jeu de données advertising (avec une seule variable)"
   ]
  },
  {
   "cell_type": "markdown",
   "metadata": {},
   "source": [
    "**Exercice 1-1**: à l'aide de la bibiothèques *pandas*, lire le fichier `advertising-univariate.csv`"
   ]
  },
  {
   "cell_type": "code",
   "execution_count": null,
   "metadata": {},
   "outputs": [],
   "source": [
    "# Compléter le code ci-dessous ~ 1 ligne\n",
    "df = None"
   ]
  },
  {
   "cell_type": "markdown",
   "metadata": {},
   "source": [
    "**Exercice 1-2**: à l'aide de la fonction `head()`, visualiser les premières lignes de la trame de données."
   ]
  },
  {
   "cell_type": "code",
   "execution_count": null,
   "metadata": {},
   "outputs": [],
   "source": [
    "# Compléter le code ci-dessous ~ 1 ligne\n",
    "None"
   ]
  },
  {
   "cell_type": "markdown",
   "metadata": {},
   "source": [
    "### 2 - Préparation de la structure de données (matrice des prédicteurs)"
   ]
  },
  {
   "cell_type": "markdown",
   "metadata": {},
   "source": [
    "**Exercice 2**: Construire la matrice des prédicteurs X (Design matrix). Ajouter des variables explicatives polynomiales telles que l'hypothèse soit de la forme<br/><br/>\n",
    "$h_{\\theta}(x)=\\theta_{0} + \\theta_{1}x + \\theta_{1}x^2 + \\theta_{3}x^3$"
   ]
  },
  {
   "cell_type": "code",
   "execution_count": null,
   "metadata": {},
   "outputs": [],
   "source": [
    "# Compléter le code ci-dessous ~ 5 lignes\n",
    "x0 = None\n",
    "x1 = None\n",
    "x2 = None\n",
    "x3 = None \n",
    "X = None\n",
    "\n",
    "y = df['sales'].values"
   ]
  },
  {
   "cell_type": "markdown",
   "metadata": {},
   "source": [
    "<strong style='color: green'>TEST - Le code ci-dessous vous permet de tester la forme de `X`. Le `assert` ne doit pas renvoyer d'exception</strong>"
   ]
  },
  {
   "cell_type": "code",
   "execution_count": null,
   "metadata": {},
   "outputs": [],
   "source": [
    "assert X.shape == (4,200)"
   ]
  },
  {
   "cell_type": "markdown",
   "metadata": {},
   "source": [
    "### 3 - Définition du modèle"
   ]
  },
  {
   "cell_type": "markdown",
   "metadata": {},
   "source": [
    "**Exercice 3**: compléter la fonction ci-dessous représentant le modèle de régression polynomiale\n",
    "\n",
    "Pour rappel, l'hypothèse utilisée ici est:\n",
    "\n",
    "$h_{\\theta}(x)=\\theta_{0} + \\theta_{1}x + \\theta_{1}x^2 + \\theta_{3}x^3$"
   ]
  },
  {
   "cell_type": "code",
   "execution_count": null,
   "metadata": {},
   "outputs": [],
   "source": [
    "def hypothesis(X, theta):\n",
    "    assert X.shape[0] == theta.shape[0] # Vérifie que la multiplication va être possible (n x m) x (m x o) => (x x o) \n",
    "    # Compléter le code ci-dessous ~ 1 ligne\n",
    "    h = None\n",
    "    return h"
   ]
  },
  {
   "cell_type": "markdown",
   "metadata": {},
   "source": [
    "<strong style='color: green'>TEST - Le code ci-dessous vous permet de tester votre fonction `hypothesis`. Le `assert` ne doit pas renvoyer d'exception</strong>"
   ]
  },
  {
   "cell_type": "code",
   "execution_count": null,
   "metadata": {},
   "outputs": [],
   "source": [
    "X_test = np.array([[1,1],[3,4],[2,2],[1,-1]])\n",
    "theta_test = np.array([1,2,2,4]).reshape(-1,1)\n",
    "hypothesis(X_test, theta_test)\n",
    "assert np.array_equal(hypothesis(X_test,theta_test), np.array([[15,9]]))"
   ]
  },
  {
   "cell_type": "markdown",
   "metadata": {},
   "source": [
    "### 4 - Équation normale"
   ]
  },
  {
   "cell_type": "markdown",
   "metadata": {},
   "source": [
    "**Exercice 4**: Compléter l'équation normale ci-dessous. Pour rappel, celle-ci s'exprime sous la forme:\n",
    "\n",
    "$\n",
    "\\theta=(X^TX)^{-1}X^Ty\n",
    "$\n"
   ]
  },
  {
   "cell_type": "code",
   "execution_count": null,
   "metadata": {},
   "outputs": [],
   "source": [
    "# Compléter le code ci-dessous ~ 1 ligne\n",
    "theta = None\n",
    "        \n",
    "print(f'Theta = {theta}')"
   ]
  },
  {
   "cell_type": "markdown",
   "metadata": {},
   "source": [
    "La valeur de $\\theta_j$ devrait être\n",
    "\n",
    "```Theta = [ 5.42010655e+00  9.64341770e-02 -3.15222433e-04  5.57199796e-07]```"
   ]
  },
  {
   "cell_type": "markdown",
   "metadata": {},
   "source": [
    "### 5 - Affichage du modèle"
   ]
  },
  {
   "cell_type": "code",
   "execution_count": null,
   "metadata": {},
   "outputs": [],
   "source": [
    "reg_x = np.linspace(1,300,50)\n",
    "reg_X = np.array((np.ones((50)), reg_x, reg_x**2, reg_x**3))\n",
    "reg_y = hypothesis(reg_X, theta)\n",
    "fig, ax = plt.subplots()\n",
    "ax.scatter(x1,y, label=\"Données\")\n",
    "ax.plot(reg_x, reg_y, color=\"g\", lw=3, label=\"Modèle polynomial\")\n",
    "ax.set_xlabel(\"Budget de publicité TV (en millier d'USD)\", fontsize=14)\n",
    "ax.set_ylabel(\"Ventes (en millier d'unités)\", fontsize=14)\n",
    "ax.legend(loc='upper left')"
   ]
  },
  {
   "cell_type": "markdown",
   "metadata": {},
   "source": [
    "### Fin du TP"
   ]
  }
 ],
 "metadata": {
  "kernelspec": {
   "display_name": "Python 3 (ipykernel)",
   "language": "python",
   "name": "python3"
  },
  "language_info": {
   "codemirror_mode": {
    "name": "ipython",
    "version": 3
   },
   "file_extension": ".py",
   "mimetype": "text/x-python",
   "name": "python",
   "nbconvert_exporter": "python",
   "pygments_lexer": "ipython3",
   "version": "3.10.8"
  }
 },
 "nbformat": 4,
 "nbformat_minor": 4
}
