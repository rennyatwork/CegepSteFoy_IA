{
 "cells": [
  {
   "cell_type": "markdown",
   "metadata": {},
   "source": [
    "**420-A52-SF - Algorithmes d'apprentissage supervisé - Automne 2022 - Spécialisation technique en Intelligence Artificielle**<br/>\n",
    "MIT License - Copyright (c) 2022 Mikaël Swawola\n",
    "<br/>\n",
    "![Travaux Pratiques #2- Algorithme du gradient](static/01-A2-banner.png)\n",
    "<br/>\n",
    "**Objectif:** cette séance de travaux pratique propose la mise en oeuvre sous forme de code Python de l'**algorithme du gradient en régression linéaire simple**. Le jeu de données utilisé sera une version simplifiée du jeu de données *Advertising*"
   ]
  },
  {
   "cell_type": "code",
   "execution_count": null,
   "metadata": {},
   "outputs": [],
   "source": [
    "%reload_ext autoreload\n",
    "%autoreload 2\n",
    "%matplotlib inline"
   ]
  },
  {
   "cell_type": "markdown",
   "metadata": {},
   "source": [
    "### 0 - Chargement des bibliothèques"
   ]
  },
  {
   "cell_type": "code",
   "execution_count": null,
   "metadata": {},
   "outputs": [],
   "source": [
    "# Manipulation de données\n",
    "import numpy as np\n",
    "import pandas as pd\n",
    "from collections import defaultdict\n",
    "\n",
    "# Visualisation de données\n",
    "import matplotlib.pyplot as plt\n",
    "import seaborn as sns\n",
    "\n",
    "# Outils divers\n",
    "from tqdm.notebook import tqdm_notebook\n",
    "from tqdm import tqdm"
   ]
  },
  {
   "cell_type": "code",
   "execution_count": null,
   "metadata": {},
   "outputs": [],
   "source": [
    "# Configuration de la visualisation\n",
    "sns.set(style=\"darkgrid\", rc={'figure.figsize':(11.7,8.27)})"
   ]
  },
  {
   "cell_type": "markdown",
   "metadata": {},
   "source": [
    "### 1 - Lecture du jeu de données advertising"
   ]
  },
  {
   "cell_type": "markdown",
   "metadata": {},
   "source": [
    "**Exercice 1**: à l'aide de la bibiothèques *pandas*, lire le fichier `advertising-univariate.csv`"
   ]
  },
  {
   "cell_type": "code",
   "execution_count": null,
   "metadata": {},
   "outputs": [],
   "source": [
    "# Compléter le code ci-dessous ~ 1 ligne\n",
    "df = None"
   ]
  },
  {
   "cell_type": "markdown",
   "metadata": {},
   "source": [
    "### 2 - Définition du modèle et de la fonction de coût"
   ]
  },
  {
   "cell_type": "markdown",
   "metadata": {},
   "source": [
    "**Exercice 2**: compléter la fonction ci-dessous représentant le modèle de régression linéaire simple (hypothèse)"
   ]
  },
  {
   "cell_type": "code",
   "execution_count": null,
   "metadata": {},
   "outputs": [],
   "source": [
    "def hypothesis(x, theta_0, theta_1):\n",
    "    # Compléter le code ~ 1 ligne\n",
    "    h = None\n",
    "    return h"
   ]
  },
  {
   "cell_type": "markdown",
   "metadata": {},
   "source": [
    "**Exercice 3**: compléter la fonction ci-dessous permettant le calcul du coût (fonction de coût)"
   ]
  },
  {
   "cell_type": "code",
   "execution_count": null,
   "metadata": {},
   "outputs": [],
   "source": [
    "def cost_function(x,y, theta_0, theta_1):\n",
    "    assert len(x) == len(y)\n",
    "    # Compléter le code ~ 1-4 lignes\n",
    "    cost = None\n",
    "    return cost"
   ]
  },
  {
   "cell_type": "markdown",
   "metadata": {},
   "source": [
    "### 3 - Préparation de la structure de données"
   ]
  },
  {
   "cell_type": "code",
   "execution_count": null,
   "metadata": {},
   "outputs": [],
   "source": [
    "x = df['TV'].values\n",
    "y = df['sales'].values\n",
    "x = x/100 # Cette mise à l'échelle permet un meilleur affichage des résultats"
   ]
  },
  {
   "cell_type": "markdown",
   "metadata": {},
   "source": [
    "### 4 - Algorithme du gradient"
   ]
  },
  {
   "cell_type": "markdown",
   "metadata": {},
   "source": [
    "**Exercice 4**: Compléter l'algorithme du gradient. Choisir les valeurs initiales des paramètres $\\theta_0$ et $\\theta_1$, la valeurs du **pas** ($\\alpha$) et le **nombre d'itérations**. Un test de convergence ne sera pas utilisé ici.\n",
    "\n",
    "$\n",
    "\\text{Répéter pendant n_iterations}\n",
    "\\{\\\\\n",
    "\\theta_{0}:= \\theta_{0} - \\alpha\\frac{1}{m}\\sum\\limits_{i=1}^{m}(h_{\\theta}(x^{(i)})-y^{(i)})\\\\\n",
    "\\theta_{1}:= \\theta_{1} - \\alpha\\frac{1}{m}\\sum\\limits_{i=1}^{m}(h_{\\theta}(x^{(i)})-y^{(i)})\\times x^{(i)}\n",
    "\\\\\n",
    "\\}\n",
    "$"
   ]
  },
  {
   "cell_type": "code",
   "execution_count": null,
   "metadata": {},
   "outputs": [],
   "source": [
    "theta_0 = None\n",
    "theta_1 = None\n",
    "alpha = None\n",
    "n_iterations = None\n",
    "\n",
    "m = len(x)\n",
    "\n",
    "history = defaultdict(list)\n",
    "\n",
    "for i in tqdm(range(0, n_iterations)):\n",
    "    \n",
    "    # ~ 4-6 lignes de code\n",
    "    None\n",
    "       \n",
    "    # Sauvegarde des valeurs intermédiaires de theta_0, theta_1 et du coût\n",
    "    if i%5000 == 0:\n",
    "        cost = cost_function(x, y, theta_0, theta_1)\n",
    "        history['theta_0'].append(theta_0)\n",
    "        history['theta_1'].append(theta_1)\n",
    "        history['cost'].append(cost)\n",
    "\n",
    "print(f'Theta_0 = {theta_0}')\n",
    "print(f'Theta_1 = {theta_1}')"
   ]
  },
  {
   "cell_type": "markdown",
   "metadata": {},
   "source": [
    "### 5 - Affichage du modèle"
   ]
  },
  {
   "cell_type": "code",
   "execution_count": null,
   "metadata": {},
   "outputs": [],
   "source": [
    "ax = sns.scatterplot(x=x, y=y, s=60)\n",
    "ax.set_xlabel(\"Budget de publicité TV (en 100 000 USD)\", fontsize=14)\n",
    "ax.set_ylabel(\"Ventes (en millier d'unités)\", fontsize=14)\n",
    "\n",
    "X = np.linspace(0,3,100)\n",
    "Y = hypothesis(X,theta_0,theta_1)\n",
    "plt.plot(X,Y, color=\"g\")"
   ]
  },
  {
   "cell_type": "markdown",
   "metadata": {},
   "source": [
    "### 6 - Affichage de l'évolution de $\\theta_{0}$, $\\theta_{1}$ et la fonction de coût lors de l'optimisation"
   ]
  },
  {
   "cell_type": "code",
   "execution_count": null,
   "metadata": {},
   "outputs": [],
   "source": [
    "sns.set(rc={'figure.figsize':(18.27,4.27)})\n",
    "f, (ax1, ax2, ax3) = plt.subplots(1, 3)\n",
    "ax1.plot(history['theta_0'])\n",
    "ax1.set_title(r'$\\theta_{0}$')\n",
    "ax1.set_xlabel('Itérations')\n",
    "ax2.plot(history['theta_1'])\n",
    "ax2.set_title(r'$\\theta_{1}$')\n",
    "ax2.set_xlabel('Itérations')\n",
    "ax3.plot(history['cost'])\n",
    "ax3.set_title(r'Fonction de coût $J(\\theta_{0},\\theta_{1})$')\n",
    "ax3.set_xlabel('Itérations')"
   ]
  },
  {
   "cell_type": "markdown",
   "metadata": {},
   "source": [
    "### 7 - Affichage de l'évolution de $\\theta_{0}$ et $\\theta_{1}$ sur les courbes de niveau (fonction de coût)"
   ]
  },
  {
   "cell_type": "markdown",
   "metadata": {},
   "source": [
    "Remarque: afin de visualiser les évolutions des paramètres, vous devrez éventuellement diminuer la valuer du pas."
   ]
  },
  {
   "cell_type": "code",
   "execution_count": null,
   "metadata": {},
   "outputs": [],
   "source": [
    "sns.set(style=\"darkgrid\", rc={'figure.figsize':(11.7,8.27)})\n",
    "theta_0s = np.linspace(0,10,50)\n",
    "theta_1s = np.linspace(0,10,50)\n",
    "mesh = np.zeros((50,50))\n",
    "for i, theta0 in enumerate(theta_0s):\n",
    "    for j, theta1 in enumerate(theta_1s):\n",
    "        mesh[i,j] = cost_function(x, y, theta0, theta1)\n",
    "        \n",
    "fig, ax = plt.subplots()\n",
    "XX, YY = np.meshgrid(theta_0s,theta_1s)\n",
    "CS = ax.contour(XX, YY, mesh, levels=20)\n",
    "\n",
    "for h in history:\n",
    "    ax.plot(history['theta_1'], history['theta_0'], 'bo')\n",
    "\n",
    "ax.clabel(CS, inline=1, fontsize=10)\n",
    "ax.set_xlabel(r'$\\theta_{1}$')\n",
    "ax.set_ylabel(r'$\\theta_{0}$')"
   ]
  },
  {
   "cell_type": "markdown",
   "metadata": {},
   "source": [
    "### Fin du TP"
   ]
  }
 ],
 "metadata": {
  "kernelspec": {
   "display_name": "Python 3 (ipykernel)",
   "language": "python",
   "name": "python3"
  },
  "language_info": {
   "codemirror_mode": {
    "name": "ipython",
    "version": 3
   },
   "file_extension": ".py",
   "mimetype": "text/x-python",
   "name": "python",
   "nbconvert_exporter": "python",
   "pygments_lexer": "ipython3",
   "version": "3.10.8"
  }
 },
 "nbformat": 4,
 "nbformat_minor": 4
}
