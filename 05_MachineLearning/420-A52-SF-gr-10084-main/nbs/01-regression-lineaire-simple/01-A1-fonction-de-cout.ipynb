{
 "cells": [
  {
   "cell_type": "markdown",
   "metadata": {},
   "source": [
    "**420-A52-SF - Algorithmes d'apprentissage supervisé - Automne 2022 - Spécialisation technique en Intelligence Artificielle**<br/>\n",
    "MIT License - Copyright (c) 2022 Mikaël Swawola\n",
    "<br/>\n",
    "![Travaux Pratiques #1 - Fonction de cout](static/01-A1-banner.png)\n",
    "<br/>\n",
    "**Objectif:** cette séance de travaux pratique a pour objectif la compréhension des différents aspects de la **fonction de coût** en régression linéaire simple"
   ]
  },
  {
   "cell_type": "code",
   "execution_count": null,
   "metadata": {},
   "outputs": [],
   "source": [
    "%reload_ext autoreload\n",
    "%autoreload 2\n",
    "%matplotlib inline"
   ]
  },
  {
   "cell_type": "markdown",
   "metadata": {},
   "source": [
    "### 0 - Chargement des bibliothèques"
   ]
  },
  {
   "cell_type": "code",
   "execution_count": null,
   "metadata": {},
   "outputs": [],
   "source": [
    "# Manipulation de données\n",
    "import numpy as np\n",
    "import pandas as pd\n",
    "from collections import defaultdict\n",
    "\n",
    "# Visualisation de données\n",
    "import matplotlib.pyplot as plt\n",
    "from mpl_toolkits.mplot3d import axes3d\n",
    "import seaborn as sns\n",
    "\n",
    "# Outils divers\n",
    "from tqdm.notebook import tqdm_notebook\n",
    "from tqdm import tqdm"
   ]
  },
  {
   "cell_type": "code",
   "execution_count": null,
   "metadata": {},
   "outputs": [],
   "source": [
    "# Configuration de la visualisation\n",
    "sns.set(style=\"darkgrid\", rc={'figure.figsize':(11.7,8.27)})"
   ]
  },
  {
   "cell_type": "markdown",
   "metadata": {},
   "source": [
    "### 1 - Simulation d'un jeu de données"
   ]
  },
  {
   "cell_type": "code",
   "execution_count": null,
   "metadata": {},
   "outputs": [],
   "source": [
    "m = 200"
   ]
  },
  {
   "cell_type": "code",
   "execution_count": null,
   "metadata": {},
   "outputs": [],
   "source": [
    "np.random.seed(2020) # Pour la reproductibilité des résultats\n",
    "theta_0_th = -0.5\n",
    "theta_1_th = 0.75\n",
    "x = np.random.uniform(1,10,m)\n",
    "y = theta_0_th + (theta_1_th * x) + np.random.randn(m)"
   ]
  },
  {
   "cell_type": "code",
   "execution_count": null,
   "metadata": {},
   "outputs": [],
   "source": [
    "fig, ax = plt.subplots()\n",
    "ax.scatter(x,y)\n",
    "ax.set_xlabel(\"x\")\n",
    "ax.set_ylabel(\"y\")"
   ]
  },
  {
   "cell_type": "markdown",
   "metadata": {},
   "source": [
    "### 2 - Définition d'un modèle de régression linéaire simple"
   ]
  },
  {
   "cell_type": "markdown",
   "metadata": {},
   "source": [
    "**Exercice 1**: compléter la fonction ci-dessous représentant le modèle de régression linéaire simple (hypothèse)"
   ]
  },
  {
   "cell_type": "markdown",
   "metadata": {},
   "source": [
    "<details>\n",
    "<summary>\n",
    "    <font size=\"3\" color=\"darkgreen\"><b>Cliquer ici pour obtenir un indice</b></font>\n",
    "</summary>\n",
    "<p>\n",
    "Pour rappel, le modèle de régression linéaire simple est\n",
    "$h_{\\theta}(x)=\\theta_{0} + \\theta_{1}x$\n",
    "</p>"
   ]
  },
  {
   "cell_type": "code",
   "execution_count": null,
   "metadata": {},
   "outputs": [],
   "source": [
    "def hypothesis(x, theta_0, theta_1):\n",
    "    # Compléter le code ci-dessous ~ 1 ligne\n",
    "    h = None\n",
    "    return h"
   ]
  },
  {
   "cell_type": "markdown",
   "metadata": {},
   "source": [
    "### 3 - Règlage des paramètres de manière manuelle"
   ]
  },
  {
   "cell_type": "markdown",
   "metadata": {},
   "source": [
    "**Exercice 2**: Faites varier les paramètres $\\theta_0$ et $\\theta_1$ de manière à obtenir un bon \"fit\" sur les données simulées"
   ]
  },
  {
   "cell_type": "code",
   "execution_count": null,
   "metadata": {},
   "outputs": [],
   "source": [
    "theta_0 = None\n",
    "theta_1 = None\n",
    "\n",
    "reg_x = np.linspace(1,10,10)\n",
    "reg_y = hypothesis(np.linspace(1,10,10), theta_0, theta_1)\n",
    "fig, ax = plt.subplots()\n",
    "ax.scatter(x,y)\n",
    "ax.plot(reg_x, reg_y, color=\"g\")\n",
    "ax.set_xlabel(\"x\")\n",
    "ax.set_ylabel(\"y\")"
   ]
  },
  {
   "cell_type": "markdown",
   "metadata": {},
   "source": [
    "### 4 - Définition de la fonction de coût"
   ]
  },
  {
   "cell_type": "markdown",
   "metadata": {},
   "source": [
    "**Exercice 3**: Compléter la fonction de coût ci-dessous"
   ]
  },
  {
   "cell_type": "markdown",
   "metadata": {},
   "source": [
    "<details>\n",
    "<summary>\n",
    "    <font size=\"3\" color=\"darkgreen\"><b>Cliquer ici pour obtenir un indice</b></font>\n",
    "</summary>\n",
    "<p>\n",
    "Pour rappel, la fonction de coût en régression linéaire simple s'exprime sous la forme\n",
    "$J(\\theta_{0},\\theta_{1})= \\frac{1}{2m}\\sum\\limits_{i=1}^{m}(h_{\\theta}(x^{(i)})-y^{(i)})^{2}$\n",
    "</p>"
   ]
  },
  {
   "cell_type": "code",
   "execution_count": null,
   "metadata": {},
   "outputs": [],
   "source": [
    "def cost_function(x,y, theta_0, theta_1):\n",
    "    assert len(x) == len(y)\n",
    "    # Compléter le code ci dessous ~ 1-4 lignes\n",
    "    cost = None\n",
    "    return cost"
   ]
  },
  {
   "cell_type": "markdown",
   "metadata": {},
   "source": [
    "Pour l'illustration suivante, nous fixerons $\\theta_0$ à 0 et ferons varier $\\theta_1$ sur un interval donné\n",
    "\n",
    "Le modèle (ou l'hypothèse) sera donc $h_{\\theta}(x) = \\theta_{1}x$"
   ]
  },
  {
   "cell_type": "code",
   "execution_count": null,
   "metadata": {},
   "outputs": [],
   "source": [
    "thetas = np.linspace(-1,2,20)\n",
    "J = []\n",
    "theta_0 = 0\n",
    "for theta_1 in thetas:\n",
    "    J.append(cost_function(x, y, theta_0, theta_1))"
   ]
  },
  {
   "cell_type": "markdown",
   "metadata": {},
   "source": [
    "**Exercice 4**: selon la courbe ci-dessus, quelle est approximativement la valeur de $\\theta_1$ qui minimise la fonction de coût ?"
   ]
  },
  {
   "cell_type": "code",
   "execution_count": null,
   "metadata": {},
   "outputs": [],
   "source": [
    "fig, ax = plt.subplots()\n",
    "ax.scatter(thetas, J)\n",
    "ax.set_xlabel(r'$\\theta_1$')\n",
    "ax.set_ylabel(\"Coût\")"
   ]
  },
  {
   "cell_type": "markdown",
   "metadata": {},
   "source": [
    "### 5 - Modèle complet"
   ]
  },
  {
   "cell_type": "markdown",
   "metadata": {},
   "source": [
    "$h_{\\theta}(x) = \\theta_{0} + \\theta_{1}x$"
   ]
  },
  {
   "cell_type": "code",
   "execution_count": null,
   "metadata": {},
   "outputs": [],
   "source": [
    "theta_0s = np.linspace(-4,2,50)\n",
    "theta_1s = np.linspace(-1,2,50)\n",
    "mesh = np.zeros((50,50))\n",
    "for i, theta0 in enumerate(theta_0s):\n",
    "    for j, theta1 in enumerate(theta_1s):\n",
    "        mesh[i,j] = cost_function(x, y, theta0, theta1)"
   ]
  },
  {
   "cell_type": "markdown",
   "metadata": {},
   "source": [
    "**Exercice 5**: selon la courbe ci-dessus, quelle sont approximativement les valeurs de $\\theta_{0}$ et $\\theta_{1}$ qui minimisent la fonction de coût ?"
   ]
  },
  {
   "cell_type": "code",
   "execution_count": null,
   "metadata": {},
   "outputs": [],
   "source": [
    "fig, ax = plt.subplots()\n",
    "XX, YY = np.meshgrid(theta_0s,theta_1s)\n",
    "CS = ax.contour(XX, YY, mesh, levels = [1,2,5,10,20,50,100])\n",
    "ax.clabel(CS, inline=1, fontsize=10)\n",
    "ax.set_xlabel(r'$\\theta_0$')\n",
    "ax.set_ylabel(r'$\\theta_1$')"
   ]
  },
  {
   "cell_type": "code",
   "execution_count": null,
   "metadata": {},
   "outputs": [],
   "source": [
    "fig = plt.figure()\n",
    "ax = fig.add_subplot(111, projection='3d')\n",
    "ax.view_init(20, 70)\n",
    "ax.plot_wireframe(XX, YY, mesh, rstride=1, cstride=1)\n",
    "ax.set_xlabel(r'$\\theta_0$')\n",
    "ax.set_ylabel(r'$\\theta_1$')\n",
    "ax.set_zlabel('J')"
   ]
  },
  {
   "cell_type": "markdown",
   "metadata": {},
   "source": [
    "### 6 - Jeu de données advertising "
   ]
  },
  {
   "cell_type": "code",
   "execution_count": null,
   "metadata": {},
   "outputs": [],
   "source": [
    "import pandas as pd"
   ]
  },
  {
   "cell_type": "markdown",
   "metadata": {},
   "source": [
    "**Exercice 6**: à l'aide de la bibiothèques *pandas*, lire le fichier `advertising-univariate.csv`"
   ]
  },
  {
   "cell_type": "code",
   "execution_count": null,
   "metadata": {},
   "outputs": [],
   "source": [
    "# Compléter le code ci-dessous ~ 1 ligne\n",
    "df = None"
   ]
  },
  {
   "cell_type": "markdown",
   "metadata": {},
   "source": [
    "#### 6-1 - Préparation de la structure de données"
   ]
  },
  {
   "cell_type": "code",
   "execution_count": null,
   "metadata": {},
   "outputs": [],
   "source": [
    "x = df['TV'].values\n",
    "y = df['sales'].values\n",
    "x = x/100 # Cette mise à l'échelle permet un meilleur affichage des résultats"
   ]
  },
  {
   "cell_type": "markdown",
   "metadata": {},
   "source": [
    "#### 6-2 - Affichage des données"
   ]
  },
  {
   "cell_type": "code",
   "execution_count": null,
   "metadata": {},
   "outputs": [],
   "source": [
    "ax = sns.scatterplot(x=x, y=y, s=60)\n",
    "ax.set_xlabel(\"Budget de publicité TV (en 100 000 USD)\", fontsize=14)\n",
    "ax.set_ylabel(\"Ventes (en millier d'unités)\", fontsize=14)"
   ]
  },
  {
   "cell_type": "markdown",
   "metadata": {},
   "source": [
    "**Exercice 7**: Faites varier les paramètres $\\theta_{0}$ et $\\theta_{1}$ de manière à obtenir un bon \"fit\" sur le jeu de données"
   ]
  },
  {
   "cell_type": "code",
   "execution_count": null,
   "metadata": {},
   "outputs": [],
   "source": [
    "theta_0 = None\n",
    "theta_1 = None\n",
    "\n",
    "reg_x = np.linspace(0,3,10)\n",
    "reg_y = hypothesis(np.linspace(0,3,10), theta_0, theta_1)\n",
    "fig, ax = plt.subplots()\n",
    "ax.scatter(x,y)\n",
    "ax.plot(reg_x, reg_y, color=\"g\")\n",
    "ax.set_xlabel(\"x\")\n",
    "ax.set_ylabel(\"y\")\n",
    "\n",
    "# Calcul de la perte\n",
    "J = cost_function(x,y, theta_0, theta_1)\n",
    "\n",
    "ax.text(0,25,f'J={J}', color='g', fontsize=24)"
   ]
  },
  {
   "cell_type": "markdown",
   "metadata": {},
   "source": [
    "#### 6-3 Modèle simplifié"
   ]
  },
  {
   "cell_type": "markdown",
   "metadata": {},
   "source": [
    "**Exercice 8**: En utlisant le modèle simplifié ($\\theta_0$ = 0), quelle est approximativement la valeur de $\\theta_1$ qui minimise la fonction de coût ? Pourquoi la valeur semble différente de celle trouvée précédemment ?\n",
    "\n",
    "Note: le modèle (ou l'hypothèse) sera donc $h_{\\theta}(x) = \\theta_{1}x$"
   ]
  },
  {
   "cell_type": "code",
   "execution_count": null,
   "metadata": {},
   "outputs": [],
   "source": [
    "thetas = np.linspace(7,12,20)\n",
    "J = []\n",
    "theta_0 = 0\n",
    "for theta_1 in thetas:\n",
    "    J.append(cost_function(x, y, theta_0, theta_1))"
   ]
  },
  {
   "cell_type": "code",
   "execution_count": null,
   "metadata": {},
   "outputs": [],
   "source": [
    "fig, ax = plt.subplots()\n",
    "ax.scatter(thetas, J)\n",
    "ax.set_xlabel(r\"$\\theta_1$\")\n",
    "ax.set_ylabel(r\"$J(\\theta_1)$\")"
   ]
  },
  {
   "cell_type": "markdown",
   "metadata": {},
   "source": [
    "#### 6-3 Modèle complet"
   ]
  },
  {
   "cell_type": "markdown",
   "metadata": {},
   "source": [
    "$h_{\\theta}(x) = \\theta_{0} + \\theta_{1}x$"
   ]
  },
  {
   "cell_type": "markdown",
   "metadata": {},
   "source": [
    "**Exercice 9**: selon la courbe ci-dessus, quelle sont approximativement les valeurs de $\\theta_{0}$ et $\\theta_{1}$ qui minimisent la fonction de coût ?"
   ]
  },
  {
   "cell_type": "code",
   "execution_count": null,
   "metadata": {},
   "outputs": [],
   "source": [
    "theta_0s = np.linspace(4,9,50)\n",
    "theta_1s = np.linspace(4.5,5.5,50)\n",
    "mesh = np.zeros((50,50))\n",
    "for i, theta_0 in enumerate(theta_0s):\n",
    "    for j, theta_1 in enumerate(theta_1s):\n",
    "        mesh[j,i] = cost_function(x, y, theta_0, theta_1)"
   ]
  },
  {
   "cell_type": "code",
   "execution_count": null,
   "metadata": {},
   "outputs": [],
   "source": [
    "fig, ax = plt.subplots()\n",
    "XX, YY = np.meshgrid(theta_0s,theta_1s)\n",
    "CS = ax.contour(XX, YY, mesh, levels=40)\n",
    "ax.clabel(CS, inline=1, fontsize=10)\n",
    "ax.set_xlabel(r\"$\\theta_0$\")\n",
    "ax.set_ylabel(r\"$\\theta_1$\")"
   ]
  },
  {
   "cell_type": "markdown",
   "metadata": {},
   "source": [
    "### Fin du TP"
   ]
  }
 ],
 "metadata": {
  "kernelspec": {
   "display_name": "Python 3 (ipykernel)",
   "language": "python",
   "name": "python3"
  },
  "language_info": {
   "codemirror_mode": {
    "name": "ipython",
    "version": 3
   },
   "file_extension": ".py",
   "mimetype": "text/x-python",
   "name": "python",
   "nbconvert_exporter": "python",
   "pygments_lexer": "ipython3",
   "version": "3.10.8"
  }
 },
 "nbformat": 4,
 "nbformat_minor": 4
}
