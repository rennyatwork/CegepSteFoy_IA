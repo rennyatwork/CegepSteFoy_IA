{
 "cells": [
  {
   "cell_type": "code",
   "execution_count": null,
   "id": "c7682e7a",
   "metadata": {},
   "outputs": [],
   "source": [
    "%reload_ext autoreload\n",
    "%autoreload 2\n",
    "%matplotlib inline"
   ]
  },
  {
   "cell_type": "markdown",
   "id": "6725b97d",
   "metadata": {},
   "source": [
    "## Bibliothèques"
   ]
  },
  {
   "cell_type": "code",
   "execution_count": null,
   "id": "0d9b4b50",
   "metadata": {},
   "outputs": [],
   "source": [
    "import numpy as np\n",
    "import pandas as pd\n",
    "import seaborn as sns\n",
    "from sklearn.model_selection import train_test_split\n",
    "\n",
    "np.set_printoptions(suppress=True)\n",
    "\n",
    "from sklearn.preprocessing import PolynomialFeatures\n",
    "from sklearn.linear_model import LinearRegression, Ridge, RidgeCV, LassoCV, ElasticNetCV\n",
    "from sklearn.neighbors import KNeighborsRegressor\n",
    "from sklearn.preprocessing import StandardScaler\n",
    "from sklearn.model_selection import cross_val_score\n",
    "from sklearn.metrics import mean_squared_error"
   ]
  },
  {
   "cell_type": "markdown",
   "id": "3a36a542",
   "metadata": {},
   "source": [
    "## Lecture des données"
   ]
  },
  {
   "cell_type": "code",
   "execution_count": null,
   "id": "2c18b9fc",
   "metadata": {},
   "outputs": [],
   "source": [
    "df = pd.read_csv('../data/ozone.csv')\n",
    "df.head()"
   ]
  },
  {
   "cell_type": "code",
   "execution_count": null,
   "id": "9df717df",
   "metadata": {},
   "outputs": [],
   "source": [
    "len(df)"
   ]
  },
  {
   "cell_type": "code",
   "execution_count": null,
   "id": "2a2dd73e",
   "metadata": {},
   "outputs": [],
   "source": [
    "sns.pairplot(df)"
   ]
  },
  {
   "cell_type": "markdown",
   "id": "43617989",
   "metadata": {},
   "source": [
    "## Préparation des données"
   ]
  },
  {
   "cell_type": "code",
   "execution_count": null,
   "id": "717e21d0",
   "metadata": {},
   "outputs": [],
   "source": [
    "y = df['ozone'].values # Variable dépendante\n",
    "y"
   ]
  },
  {
   "cell_type": "code",
   "execution_count": null,
   "id": "3a87c124",
   "metadata": {},
   "outputs": [],
   "source": [
    "X = df.drop(columns = ['ozone']).values # Variables indépendantes\n",
    "X"
   ]
  },
  {
   "cell_type": "markdown",
   "id": "0233e9d4",
   "metadata": {},
   "source": [
    "## Séparation Train-Test"
   ]
  },
  {
   "cell_type": "code",
   "execution_count": null,
   "id": "f67bbf45",
   "metadata": {},
   "outputs": [],
   "source": [
    "X_train, X_test, y_train, y_test = train_test_split(X, y, test_size=0.20, random_state=2023)"
   ]
  },
  {
   "cell_type": "markdown",
   "id": "c5ecefc0",
   "metadata": {},
   "source": [
    "## Modélisation"
   ]
  },
  {
   "cell_type": "markdown",
   "id": "60b148b6",
   "metadata": {},
   "source": [
    "#### Modèle de référence"
   ]
  },
  {
   "cell_type": "code",
   "execution_count": null,
   "id": "e68c5847",
   "metadata": {},
   "outputs": [],
   "source": [
    "baseline = y_train.mean()\n",
    "baseline"
   ]
  },
  {
   "cell_type": "code",
   "execution_count": null,
   "id": "48c1c6e5",
   "metadata": {},
   "outputs": [],
   "source": [
    "mean_squared_error(y_train, baseline * np.ones(len(y_train)), squared=False)"
   ]
  },
  {
   "cell_type": "markdown",
   "id": "8a954036",
   "metadata": {},
   "source": [
    "#### Regression linéaire"
   ]
  },
  {
   "cell_type": "code",
   "execution_count": null,
   "id": "268313bd",
   "metadata": {},
   "outputs": [],
   "source": [
    "lr = LinearRegression()\n",
    "lr.fit(X_train, y_train)\n",
    "\n",
    "scores = cross_val_score(lr, X_train, y_train, cv=5, scoring=\"neg_root_mean_squared_error\", n_jobs=-1)\n",
    "\n",
    "print(f'LR - RMSE = {scores.max()}')"
   ]
  },
  {
   "cell_type": "markdown",
   "id": "4cb50d69",
   "metadata": {},
   "source": [
    "#### Régression Ridge"
   ]
  },
  {
   "cell_type": "markdown",
   "id": "25da4bf7",
   "metadata": {},
   "source": [
    "[RidgeCV](https://scikit-learn.org/stable/modules/generated/sklearn.linear_model.RidgeCV.html)"
   ]
  },
  {
   "cell_type": "code",
   "execution_count": null,
   "id": "5cee3a4b",
   "metadata": {},
   "outputs": [],
   "source": [
    "ordres = [1,2,3,4,5]\n",
    "for ordre in ordres:\n",
    "    poly = PolynomialFeatures(ordre)\n",
    "    X_poly = poly.fit_transform(X_train)\n",
    "    print(X_poly.shape)"
   ]
  },
  {
   "cell_type": "code",
   "execution_count": null,
   "id": "9665424f",
   "metadata": {},
   "outputs": [],
   "source": [
    "ordres = [1,2,3,4,5]\n",
    "for ordre in ordres:\n",
    "    poly = PolynomialFeatures(ordre, include_bias=False)\n",
    "    X_poly = poly.fit_transform(X_train)\n",
    "    ridge = RidgeCV(alphas=[1e-3, 1e-2, 1e-1, 1, 10], cv=5).fit(X_poly, y_train)\n",
    "    score = ridge.score(X_poly, y_train)\n",
    "    print(score)"
   ]
  },
  {
   "cell_type": "markdown",
   "id": "e80420fc",
   "metadata": {},
   "source": [
    "[Metrics and scoring](https://scikit-learn.org/stable/modules/model_evaluation.html)"
   ]
  },
  {
   "cell_type": "code",
   "execution_count": null,
   "id": "e3010e2c",
   "metadata": {},
   "outputs": [],
   "source": [
    "scaler = StandardScaler()\n",
    "\n",
    "ordres = [1,2,3,4,5]\n",
    "for ordre in ordres:\n",
    "    poly = PolynomialFeatures(ordre, include_bias=False)\n",
    "    X_poly = poly.fit_transform(X_train)\n",
    "    X_scale = scaler.fit_transform(X_poly)  \n",
    "    ridge = RidgeCV(alphas=[1e-9, 1e-1, 1, 10, 50], cv=5, scoring=\"neg_root_mean_squared_error\").fit(X_scale, y_train)\n",
    "    print(f'Ordre {ordre} - alpha = {ridge.alpha_} - RMSE = {ridge.best_score_}')"
   ]
  },
  {
   "cell_type": "markdown",
   "id": "12e792b7",
   "metadata": {},
   "source": [
    "#### Régression Lasso"
   ]
  },
  {
   "cell_type": "markdown",
   "id": "bff075d1",
   "metadata": {},
   "source": [
    "* [LassoCV](https://scikit-learn.org/stable/modules/generated/sklearn.linear_model.LassoCV.html)\n",
    "* [cross_val_score](https://scikit-learn.org/stable/modules/generated/sklearn.model_selection.cross_val_score.html#sklearn.model_selection.cross_val_score)"
   ]
  },
  {
   "cell_type": "code",
   "execution_count": null,
   "id": "fb32c929",
   "metadata": {},
   "outputs": [],
   "source": [
    "scaler = StandardScaler()\n",
    "\n",
    "ordres = [1,2,3,4,5]\n",
    "for ordre in ordres:\n",
    "    poly = PolynomialFeatures(ordre, include_bias=False)\n",
    "    X_poly = poly.fit_transform(X_train)\n",
    "    X_scale = scaler.fit_transform(X_poly)  \n",
    "    lasso = LassoCV(alphas=[1e-2, 1e-1, 1, 5, 7.5], cv=5, max_iter=1000, n_jobs=-1).fit(X_scale, y_train)\n",
    "    \n",
    "    scores = cross_val_score(lasso, X_scale, y_train, cv=5, scoring=\"neg_root_mean_squared_error\", n_jobs=-1)\n",
    "    best_score = scores.mean()\n",
    "    \n",
    "    print(f'Ordre {ordre} - alpha = {lasso.alpha_}, mse = {best_score}')"
   ]
  },
  {
   "cell_type": "code",
   "execution_count": null,
   "id": "af2d7788",
   "metadata": {},
   "outputs": [],
   "source": [
    "results = []\n",
    "\n",
    "scaler = StandardScaler()\n",
    "\n",
    "ordres = [1,2,3,4,5]\n",
    "for ordre in ordres:\n",
    "    poly = PolynomialFeatures(ordre, include_bias=False)\n",
    "    X_poly = poly.fit_transform(X_train)\n",
    "    X_scale = scaler.fit_transform(X_poly)  \n",
    "    lasso = LassoCV(alphas=[1e-3, 1e-2, 1e-1, 1], cv=5, max_iter=1000, n_jobs=-1).fit(X_scale, y_train)\n",
    "    \n",
    "    scores = cross_val_score(lasso, X_scale, y_train, cv=5, scoring=\"neg_root_mean_squared_error\", n_jobs=-1)\n",
    "    best_score = scores.mean()\n",
    "    \n",
    "    results.append(f'Ordre {ordre} - alpha = {lasso.alpha_}, mse = {best_score}')"
   ]
  },
  {
   "cell_type": "code",
   "execution_count": null,
   "id": "0b4e43c9",
   "metadata": {},
   "outputs": [],
   "source": [
    "for r in results: print(r)"
   ]
  },
  {
   "cell_type": "markdown",
   "id": "bd8c1d35",
   "metadata": {},
   "source": [
    "#### Elastic Net"
   ]
  },
  {
   "cell_type": "markdown",
   "id": "323a9f0b",
   "metadata": {},
   "source": [
    "[Elastic Net](https://scikit-learn.org/stable/modules/generated/sklearn.linear_model.ElasticNetCV.html)"
   ]
  },
  {
   "cell_type": "code",
   "execution_count": null,
   "id": "ea3900da",
   "metadata": {},
   "outputs": [],
   "source": [
    "results = []\n",
    "\n",
    "scaler = StandardScaler()\n",
    "\n",
    "ordres = [1,2,3,4,5]\n",
    "for ordre in ordres:\n",
    "    poly = PolynomialFeatures(ordre, include_bias=False)\n",
    "    X_poly = poly.fit_transform(X_train)\n",
    "    X_scale = scaler.fit_transform(X_poly)  \n",
    "    en = ElasticNetCV(l1_ratio=[0.1, 0.25, 0.5, 0.75, 0.9], alphas=[1e-3, 1e-2, 1e-1, 1], cv=5, max_iter=1000, n_jobs=-1).fit(X_scale, y_train)\n",
    "    \n",
    "    scores = cross_val_score(en, X_scale, y_train, cv=5, scoring=\"neg_root_mean_squared_error\", n_jobs=-1)\n",
    "    best_score = scores.mean()\n",
    "    \n",
    "    results.append(f'Ordre {ordre} - alpha = {en.alpha_}, l1_ratio = {en.l1_ratio_}, mse = {best_score}')"
   ]
  },
  {
   "cell_type": "code",
   "execution_count": null,
   "id": "20806abf",
   "metadata": {},
   "outputs": [],
   "source": [
    "for r in results: print(r)"
   ]
  },
  {
   "cell_type": "markdown",
   "id": "3ddc2f3d",
   "metadata": {},
   "source": [
    "#### Plus proches voisins"
   ]
  },
  {
   "cell_type": "code",
   "execution_count": null,
   "id": "912bc4ec",
   "metadata": {},
   "outputs": [],
   "source": [
    "K = np.linspace(1, 100, 100).astype(int)"
   ]
  },
  {
   "cell_type": "code",
   "execution_count": null,
   "id": "30823d6e",
   "metadata": {},
   "outputs": [],
   "source": [
    "results = []\n",
    "\n",
    "for k in K:\n",
    "    neigh = KNeighborsRegressor(n_neighbors=k)\n",
    "    neigh.fit(X_train, y_train)\n",
    "    scores = cross_val_score(neigh, X_train, y_train, cv=5, scoring=\"neg_root_mean_squared_error\", n_jobs=-1)\n",
    "    best_score = scores.mean()\n",
    "    \n",
    "    results.append(f'K {k} - mse = {best_score}')"
   ]
  },
  {
   "cell_type": "code",
   "execution_count": null,
   "id": "b92c42af",
   "metadata": {},
   "outputs": [],
   "source": [
    "for r in results: print(r)"
   ]
  },
  {
   "cell_type": "markdown",
   "id": "4dc26e81",
   "metadata": {},
   "source": [
    "And the winner is **Ridge Ordre 3 - alpha = 10, mse = 3.9801757450439816**"
   ]
  },
  {
   "cell_type": "markdown",
   "id": "0125eb04",
   "metadata": {},
   "source": [
    "## Entraînement du modèle sélectionné"
   ]
  },
  {
   "cell_type": "code",
   "execution_count": null,
   "id": "b8a717d3",
   "metadata": {},
   "outputs": [],
   "source": [
    "scaler = StandardScaler()\n",
    "poly = PolynomialFeatures(3, include_bias=False)\n",
    "X_poly = poly.fit_transform(X_train)\n",
    "X_scale = scaler.fit_transform(X_poly)"
   ]
  },
  {
   "cell_type": "code",
   "execution_count": null,
   "id": "cde8c140",
   "metadata": {},
   "outputs": [],
   "source": [
    "model_final = Ridge(alpha=10, random_state=2023, max_iter=10000)\n",
    "model_final.fit(X_scale, y_train)"
   ]
  },
  {
   "cell_type": "code",
   "execution_count": null,
   "id": "5a0c4d06",
   "metadata": {},
   "outputs": [],
   "source": [
    "model_final.coef_"
   ]
  },
  {
   "cell_type": "markdown",
   "id": "4f5bec30",
   "metadata": {},
   "source": [
    "## Performances sur le jeu de test"
   ]
  },
  {
   "cell_type": "code",
   "execution_count": null,
   "id": "3f3fc958",
   "metadata": {},
   "outputs": [],
   "source": [
    "X_test_poly = poly.fit_transform(X_test)\n",
    "X_test_scale = scaler.fit_transform(X_test_poly)"
   ]
  },
  {
   "cell_type": "code",
   "execution_count": null,
   "id": "5f4b4aff",
   "metadata": {},
   "outputs": [],
   "source": [
    "model_final.score(X_test_scale, y_test)"
   ]
  },
  {
   "cell_type": "code",
   "execution_count": null,
   "id": "08662628",
   "metadata": {},
   "outputs": [],
   "source": [
    "mean_squared_error(y_test, model_final.predict(X_test_scale), squared=False)"
   ]
  }
 ],
 "metadata": {
  "kernelspec": {
   "display_name": "Python 3 (ipykernel)",
   "language": "python",
   "name": "python3"
  },
  "language_info": {
   "codemirror_mode": {
    "name": "ipython",
    "version": 3
   },
   "file_extension": ".py",
   "mimetype": "text/x-python",
   "name": "python",
   "nbconvert_exporter": "python",
   "pygments_lexer": "ipython3",
   "version": "3.10.9"
  }
 },
 "nbformat": 4,
 "nbformat_minor": 5
}
