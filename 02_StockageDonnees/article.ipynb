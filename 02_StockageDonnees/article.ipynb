{
 "cells": [
  {
   "cell_type": "code",
   "execution_count": 1,
   "id": "1970da3d-95b9-45a1-8c04-6f11108d5b02",
   "metadata": {},
   "outputs": [],
   "source": [
    "class Article(object):\n",
    "  \n",
    "\n",
    "    def __init__(self, title, content):\n",
    "        self.title = title\n",
    "        self.content = content"
   ]
  },
  {
   "cell_type": "code",
   "execution_count": null,
   "id": "30adfdbb-d8b6-4f4d-b522-67330c849339",
   "metadata": {},
   "outputs": [],
   "source": []
  }
 ],
 "metadata": {
  "kernelspec": {
   "display_name": "Python 3",
   "language": "python",
   "name": "python3"
  },
  "language_info": {
   "codemirror_mode": {
    "name": "ipython",
    "version": 3
   },
   "file_extension": ".py",
   "mimetype": "text/x-python",
   "name": "python",
   "nbconvert_exporter": "python",
   "pygments_lexer": "ipython3",
   "version": "3.6.8"
  }
 },
 "nbformat": 4,
 "nbformat_minor": 5
}
