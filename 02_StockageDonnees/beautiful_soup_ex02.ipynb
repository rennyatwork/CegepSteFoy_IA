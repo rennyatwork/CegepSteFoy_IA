{
 "cells": [
  {
   "cell_type": "code",
   "execution_count": 51,
   "metadata": {},
   "outputs": [],
   "source": [
    "import sys\n",
    "#!{sys.executable} -m pip install selenium\n",
    "#!{sys.executable} -m pip install beautifulsoup4"
   ]
  },
  {
   "cell_type": "code",
   "execution_count": 1,
   "metadata": {},
   "outputs": [],
   "source": [
    "from bs4 import BeautifulSoup\n",
    "import requests\n",
    "\n",
    "\n",
    "#regular expressions\n",
    "import re \n",
    "\n",
    "import pandas as pd\n",
    "\n",
    "#Target web page\n",
    "url = \"https://www.moviesinconcert.nl/index.php?page=concertlist\""
   ]
  },
  {
   "cell_type": "code",
   "execution_count": 2,
   "metadata": {},
   "outputs": [
    {
     "name": "stdout",
     "output_type": "stream",
     "text": [
      "200\n"
     ]
    }
   ],
   "source": [
    "#Connection to web page\n",
    "response = requests.get(url)\n",
    "print(response.status_code)"
   ]
  },
  {
   "cell_type": "code",
   "execution_count": 3,
   "metadata": {},
   "outputs": [],
   "source": [
    "## https://medium.com/@belen.sanchez27/5-steps-to-get-started-with-web-scraping-using-beautiful-soup-8d954a406627\n",
    "# Convert the response HTLM string into a python string\n",
    "html = response.text\n",
    "\n"
   ]
  },
  {
   "cell_type": "code",
   "execution_count": null,
   "metadata": {},
   "outputs": [],
   "source": [
    "html"
   ]
  },
  {
   "cell_type": "code",
   "execution_count": 4,
   "metadata": {},
   "outputs": [],
   "source": [
    "## #3. Create a beautiful soup object to parse the HTML document.\n",
    "##This step helps you to access the elements of the web site by using XPath expressions.\n",
    "\n",
    "soup = BeautifulSoup(response.content, 'lxml')"
   ]
  },
  {
   "cell_type": "code",
   "execution_count": null,
   "metadata": {},
   "outputs": [],
   "source": [
    "soup"
   ]
  },
  {
   "cell_type": "code",
   "execution_count": 5,
   "metadata": {},
   "outputs": [],
   "source": [
    "##To return only the tags from the above soup −\n",
    "for tag in soup.find_all(True):\n",
    "    (tag.name)"
   ]
  },
  {
   "cell_type": "code",
   "execution_count": null,
   "metadata": {},
   "outputs": [],
   "source": [
    "##fin the concerts table\n",
    "concerts = soup.find_all(\"table\", cellpadding=5)\n",
    "concerts"
   ]
  },
  {
   "cell_type": "code",
   "execution_count": 7,
   "metadata": {},
   "outputs": [
    {
     "data": {
      "text/plain": [
       "bs4.element.ResultSet"
      ]
     },
     "execution_count": 7,
     "metadata": {},
     "output_type": "execute_result"
    }
   ],
   "source": [
    "type(concerts)\n"
   ]
  },
  {
   "cell_type": "code",
   "execution_count": 8,
   "metadata": {},
   "outputs": [],
   "source": [
    "## all rows\n",
    "list_tr = concerts[0].find_all(\"tr\")"
   ]
  },
  {
   "cell_type": "code",
   "execution_count": null,
   "metadata": {},
   "outputs": [],
   "source": [
    "list_tr"
   ]
  },
  {
   "cell_type": "code",
   "execution_count": 9,
   "metadata": {},
   "outputs": [
    {
     "data": {
      "text/plain": [
       "2670"
      ]
     },
     "execution_count": 9,
     "metadata": {},
     "output_type": "execute_result"
    }
   ],
   "source": [
    "len(list_tr)"
   ]
  },
  {
   "cell_type": "code",
   "execution_count": 10,
   "metadata": {},
   "outputs": [],
   "source": [
    "list_td = list_tr[0].find_all(\"td\")"
   ]
  },
  {
   "cell_type": "code",
   "execution_count": 11,
   "metadata": {},
   "outputs": [
    {
     "data": {
      "text/plain": [
       "5"
      ]
     },
     "execution_count": 11,
     "metadata": {},
     "output_type": "execute_result"
    }
   ],
   "source": [
    "len(list_td)"
   ]
  },
  {
   "cell_type": "code",
   "execution_count": 12,
   "metadata": {},
   "outputs": [
    {
     "data": {
      "text/plain": [
       "[<td align=\"center\" valign=\"top\" width=\"90\"><b>Date</b></td>,\n",
       " <td align=\"center\" valign=\"top\" width=\"120\"><b>Country</b></td>,\n",
       " <td align=\"center\" valign=\"top\" width=\"50\"><b>State<br/>(USA only)</b></td>,\n",
       " <td align=\"center\" valign=\"top\"><b>City</b></td>,\n",
       " <td align=\"center\" valign=\"top\"><b>Title</b></td>]"
      ]
     },
     "execution_count": 12,
     "metadata": {},
     "output_type": "execute_result"
    }
   ],
   "source": [
    "list_td"
   ]
  },
  {
   "cell_type": "code",
   "execution_count": 64,
   "metadata": {},
   "outputs": [
    {
     "name": "stdout",
     "output_type": "stream",
     "text": [
      "Date\n",
      "Country\n",
      "State(USA only)\n",
      "City\n",
      "Title\n"
     ]
    }
   ],
   "source": [
    "list_td = list_tr[0].find_all(\"td\")\n",
    "for td in list_td:\n",
    "    print(td.text)\n",
    "    if len(td.find_all(\"a\"))>0:\n",
    "        print(td.find(\"a\").get('onmouseover'))"
   ]
  },
  {
   "cell_type": "code",
   "execution_count": null,
   "metadata": {},
   "outputs": [],
   "source": [
    "## print cell contents\n",
    "for tr in list_tr:\n",
    "    print(\"---new line---\")\n",
    "    list_td = tr.find_all(\"td\")\n",
    "    for td in list_td:        \n",
    "        print(td.text)\n",
    "        if len(td.find_all(\"a\"))>0:\n",
    "            print(td.find(\"a\").get('onmouseover'))"
   ]
  },
  {
   "cell_type": "code",
   "execution_count": 65,
   "metadata": {},
   "outputs": [],
   "source": [
    "import os\n",
    "import csv"
   ]
  },
  {
   "cell_type": "code",
   "execution_count": 66,
   "metadata": {},
   "outputs": [
    {
     "name": "stdout",
     "output_type": "stream",
     "text": [
      "/home/hadoop/Projects/GitIa/CegepSteFoy_IA/02_StockageDonnees/output.csv\n"
     ]
    }
   ],
   "source": [
    "### write csv\n",
    "output_dir = os.getcwd()\n",
    "output_file=output_dir + \"/\"+ \"output.csv\"\n",
    "print(output_file)"
   ]
  },
  {
   "cell_type": "code",
   "execution_count": 67,
   "metadata": {},
   "outputs": [],
   "source": [
    "output_rows = []\n",
    "\n",
    "\n",
    "for idx, tr in enumerate(list_tr):\n",
    "    list_td = tr.find_all(\"td\")\n",
    "    output_row = []\n",
    "    for td in list_td:\n",
    "        output_row.append(td.text)        \n",
    "        if len(td.find_all(\"a\"))>0:            \n",
    "            output_row.append(td.find(\"a\").get('onmouseover'))            \n",
    "    if idx == 0:\n",
    "            output_row.append(\"Description\")\n",
    "    output_rows.append(output_row)"
   ]
  },
  {
   "cell_type": "code",
   "execution_count": 68,
   "metadata": {},
   "outputs": [],
   "source": [
    "with open(output_file, 'w') as csvfile:\n",
    "    writer = csv.writer(csvfile)\n",
    "    writer.writerows(output_rows)"
   ]
  },
  {
   "cell_type": "code",
   "execution_count": null,
   "metadata": {},
   "outputs": [],
   "source": [
    "for tr in list_tr:\n",
    "    print(\"---new line---\")\n",
    "    list_td = tr.find_all(\"td\")\n",
    "    for td in list_td:\n",
    "        print(td.text)"
   ]
  },
  {
   "cell_type": "code",
   "execution_count": null,
   "metadata": {},
   "outputs": [],
   "source": [
    "## 4. Finding all the items of your interest with .find_all()\n",
    "## is one way in which you can navigate the scraped data. \n",
    "## This command allows you to specify and find all the elements \n",
    "## you are searching for. In this example, \n",
    "## I collected all the heading titles of the latest section on \n",
    "## FiveThirtyEight home web page. \n",
    "## You can find other ways to navigate your data such as soup.title\n",
    "## , soup.p or soup.a in this link!\n",
    "\n",
    "soup.find_all() "
   ]
  },
  {
   "cell_type": "code",
   "execution_count": 9,
   "metadata": {},
   "outputs": [],
   "source": [
    "#List to store results\n",
    "textContent = []\n",
    "\n",
    "#Get all headers from the latest section of the web site\n",
    "for i in range(0, 1):\n",
    "    the_latest = soup.find_all(\"h3\")[i].text\n",
    "    textContent.append(the_latest)"
   ]
  },
  {
   "cell_type": "code",
   "execution_count": 10,
   "metadata": {},
   "outputs": [
    {
     "data": {
      "text/html": [
       "<div>\n",
       "<style scoped>\n",
       "    .dataframe tbody tr th:only-of-type {\n",
       "        vertical-align: middle;\n",
       "    }\n",
       "\n",
       "    .dataframe tbody tr th {\n",
       "        vertical-align: top;\n",
       "    }\n",
       "\n",
       "    .dataframe thead th {\n",
       "        text-align: right;\n",
       "    }\n",
       "</style>\n",
       "<table border=\"1\" class=\"dataframe\">\n",
       "  <thead>\n",
       "    <tr style=\"text-align: right;\">\n",
       "      <th></th>\n",
       "      <th>0</th>\n",
       "    </tr>\n",
       "  </thead>\n",
       "  <tbody>\n",
       "    <tr>\n",
       "      <th>0</th>\n",
       "      <td>Our latest coverage</td>\n",
       "    </tr>\n",
       "  </tbody>\n",
       "</table>\n",
       "</div>"
      ],
      "text/plain": [
       "                     0\n",
       "0  Our latest coverage"
      ]
     },
     "execution_count": 10,
     "metadata": {},
     "output_type": "execute_result"
    }
   ],
   "source": [
    "##5. 1. Creating a data framefrom your scrape.\n",
    "##Finally, import pandas and get the results of your scrape into a pandas DataFrame so you can work on it and do further analysis.\n",
    "\n",
    "import pandas as pd\n",
    "pd.DataFrame(textContent)"
   ]
  },
  {
   "cell_type": "code",
   "execution_count": null,
   "metadata": {},
   "outputs": [],
   "source": [
    "url_to_scrape = \"https://www.moviesinconcert.nl/index.php?page=concertlist\""
   ]
  }
 ],
 "metadata": {
  "kernelspec": {
   "display_name": "Python 3",
   "language": "python",
   "name": "python3"
  },
  "language_info": {
   "codemirror_mode": {
    "name": "ipython",
    "version": 3
   },
   "file_extension": ".py",
   "mimetype": "text/x-python",
   "name": "python",
   "nbconvert_exporter": "python",
   "pygments_lexer": "ipython3",
   "version": "3.8.10"
  }
 },
 "nbformat": 4,
 "nbformat_minor": 4
}
