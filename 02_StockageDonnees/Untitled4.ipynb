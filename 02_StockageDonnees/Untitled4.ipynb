{
 "cells": [
  {
   "cell_type": "code",
   "execution_count": 1,
   "metadata": {},
   "outputs": [
    {
     "name": "stdout",
     "output_type": "stream",
     "text": [
      "Collecting tabula-py\n",
      "  Downloading tabula_py-2.4.0-py3-none-any.whl (12.0 MB)\n",
      "\u001b[K     |████████████████████████████████| 12.0 MB 2.8 MB/s eta 0:00:01    |█████████████████▉              | 6.7 MB 2.8 MB/s eta 0:00:02     |█████████████████████▋          | 8.1 MB 2.8 MB/s eta 0:00:02\n",
      "\u001b[?25hRequirement already satisfied: distro in /usr/lib/python3/dist-packages (from tabula-py) (1.4.0)\n",
      "Requirement already satisfied: numpy in /home/hadoop/.local/lib/python3.8/site-packages (from tabula-py) (1.19.5)\n",
      "Requirement already satisfied: pandas>=0.25.3 in /home/hadoop/.local/lib/python3.8/site-packages (from tabula-py) (1.2.4)\n",
      "Requirement already satisfied: python-dateutil>=2.7.3 in /usr/lib/python3/dist-packages (from pandas>=0.25.3->tabula-py) (2.7.3)\n",
      "Requirement already satisfied: pytz>=2017.3 in /usr/lib/python3/dist-packages (from pandas>=0.25.3->tabula-py) (2019.3)\n",
      "Installing collected packages: tabula-py\n",
      "Successfully installed tabula-py-2.4.0\n"
     ]
    }
   ],
   "source": [
    "import sys\n",
    "!{sys.executable} -m pip install tabula-py\n"
   ]
  },
  {
   "cell_type": "code",
   "execution_count": 4,
   "metadata": {},
   "outputs": [],
   "source": [
    "import tabula"
   ]
  },
  {
   "cell_type": "code",
   "execution_count": 6,
   "metadata": {},
   "outputs": [
    {
     "data": {
      "text/plain": [
       "['DistributionNotFound',\n",
       " '__builtins__',\n",
       " '__cached__',\n",
       " '__doc__',\n",
       " '__file__',\n",
       " '__loader__',\n",
       " '__name__',\n",
       " '__package__',\n",
       " '__path__',\n",
       " '__spec__',\n",
       " '__version__',\n",
       " 'convert_into',\n",
       " 'convert_into_by_batch',\n",
       " 'environment_info',\n",
       " 'errors',\n",
       " 'file_util',\n",
       " 'get_distribution',\n",
       " 'io',\n",
       " 'read_pdf',\n",
       " 'read_pdf_with_template',\n",
       " 'template',\n",
       " 'util']"
      ]
     },
     "execution_count": 6,
     "metadata": {},
     "output_type": "execute_result"
    }
   ],
   "source": [
    "dir(tabula)"
   ]
  },
  {
   "cell_type": "code",
   "execution_count": 7,
   "metadata": {},
   "outputs": [
    {
     "name": "stdout",
     "output_type": "stream",
     "text": [
      "Python version:\n",
      "    3.8.10 (default, Mar 15 2022, 12:22:08) \n",
      "[GCC 9.4.0]\n",
      "Java version:\n",
      "    java version \"11.0.7\" 2020-04-14 LTS\n",
      "Java(TM) SE Runtime Environment 18.9 (build 11.0.7+8-LTS)\n",
      "Java HotSpot(TM) 64-Bit Server VM 18.9 (build 11.0.7+8-LTS, mixed mode)\n",
      "tabula-py version: 2.4.0\n",
      "platform: Linux-5.4.0-120-generic-x86_64-with-glibc2.29\n",
      "uname:\n",
      "    uname_result(system='Linux', node='quickstart.cloudera', release='5.4.0-120-generic', version='#136-Ubuntu SMP Fri Jun 10 13:40:48 UTC 2022', machine='x86_64', processor='x86_64')\n",
      "linux_distribution: ('Ubuntu', '20.04', 'focal')\n",
      "mac_ver: ('', ('', '', ''), '')\n"
     ]
    }
   ],
   "source": [
    "tabula.environment_info()\n"
   ]
  },
  {
   "cell_type": "code",
   "execution_count": null,
   "metadata": {},
   "outputs": [],
   "source": []
  }
 ],
 "metadata": {
  "kernelspec": {
   "display_name": "Python 3",
   "language": "python",
   "name": "python3"
  },
  "language_info": {
   "codemirror_mode": {
    "name": "ipython",
    "version": 3
   },
   "file_extension": ".py",
   "mimetype": "text/x-python",
   "name": "python",
   "nbconvert_exporter": "python",
   "pygments_lexer": "ipython3",
   "version": "3.8.10"
  }
 },
 "nbformat": 4,
 "nbformat_minor": 4
}
