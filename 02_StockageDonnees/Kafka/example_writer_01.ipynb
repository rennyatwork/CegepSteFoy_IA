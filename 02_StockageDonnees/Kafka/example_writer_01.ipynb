{
 "cells": [
  {
   "cell_type": "code",
   "execution_count": 1,
   "id": "6628dfbb-c2e7-4f07-82cb-f8faf8d40523",
   "metadata": {},
   "outputs": [
    {
     "name": "stdout",
     "output_type": "stream",
     "text": [
      "Collecting numpy\n",
      "  Downloading https://files.pythonhosted.org/packages/45/b2/6c7545bb7a38754d63048c7696804a0d947328125d81bf12beaa692c3ae3/numpy-1.19.5-cp36-cp36m-manylinux1_x86_64.whl (13.4MB)\n",
      "\u001b[K    100% |████████████████████████████████| 13.4MB 92kB/s eta 0:00:011  12% |████                            | 1.7MB 6.7MB/s eta 0:00:02    27% |████████▉                       | 3.7MB 8.0MB/s eta 0:00:02    34% |███████████                     | 4.6MB 7.0MB/s eta 0:00:02    39% |████████████▋                   | 5.3MB 5.7MB/s eta 0:00:02    42% |█████████████▋                  | 5.7MB 5.8MB/s eta 0:00:02    75% |████████████████████████▎       | 10.1MB 6.2MB/s eta 0:00:01    92% |█████████████████████████████▊  | 12.4MB 4.5MB/s eta 0:00:01\n",
      "\u001b[?25hCollecting kafka-python\n",
      "  Downloading https://files.pythonhosted.org/packages/75/68/dcb0db055309f680ab2931a3eeb22d865604b638acf8c914bedf4c1a0c8c/kafka_python-2.0.2-py2.py3-none-any.whl (246kB)\n",
      "\u001b[K    100% |████████████████████████████████| 256kB 138kB/s ta 0:00:011\n",
      "\u001b[?25hInstalling collected packages: numpy, kafka-python\n",
      "Successfully installed kafka-python-2.0.2 numpy-1.19.5\n"
     ]
    }
   ],
   "source": [
    "import sys\n",
    "!{sys.executable} -m pip install numpy kafka-python\n"
   ]
  },
  {
   "cell_type": "code",
   "execution_count": null,
   "id": "824d2cba-3365-4391-acea-7643582b8c3b",
   "metadata": {},
   "outputs": [],
   "source": [
    "## https://towardsdatascience.com/kafka-docker-python-408baf0e1088\n",
    "\n",
    "from time import sleep\n",
    "from json import dumps\n",
    "from kafka import KafkaProducer\n",
    "producer = KafkaProducer(\n",
    "    bootstrap_servers=['localhost:9092'],\n",
    "    value_serializer=lambda x: dumps(x).encode('utf-8')\n",
    ")\n",
    "for j in range(9999):\n",
    "    print(\"Iteration\", j)\n",
    "    data = {'counter': j}\n",
    "    producer.send('topic_test', value=data)\n",
    "    sleep(0.5)"
   ]
  },
  {
   "cell_type": "code",
   "execution_count": null,
   "id": "fe4ce2b7-9b93-4b18-9e1c-b3219e828813",
   "metadata": {},
   "outputs": [],
   "source": []
  }
 ],
 "metadata": {
  "kernelspec": {
   "display_name": "Python 3",
   "language": "python",
   "name": "python3"
  },
  "language_info": {
   "codemirror_mode": {
    "name": "ipython",
    "version": 3
   },
   "file_extension": ".py",
   "mimetype": "text/x-python",
   "name": "python",
   "nbconvert_exporter": "python",
   "pygments_lexer": "ipython3",
   "version": "3.6.9"
  }
 },
 "nbformat": 4,
 "nbformat_minor": 5
}
