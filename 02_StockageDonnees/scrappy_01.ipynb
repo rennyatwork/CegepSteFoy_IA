{
 "cells": [
  {
   "cell_type": "code",
   "execution_count": null,
   "id": "b9f28e17-3c5b-4428-a30b-fdbccb57f2e7",
   "metadata": {},
   "outputs": [],
   "source": [
    "### imports, install\n",
    "import sys\n",
    "#!{sys.executable} -m pip install  matplotlib pandas numpy pandasql openpyxl nx pydot graphviz openpyxl\n",
    "#!{sys.executable} -m pip install ipyleaflet pandasql\n",
    "#!{sys.executable} -m pip install xlrd pyexcel\n",
    "#!{sys.executable} -m pip install \n",
    "!{sys.executable} -m pip install Scrapy\n",
    "!{sys.executable} -m pip install beautifulsoup4"
   ]
  },
  {
   "cell_type": "code",
   "execution_count": null,
   "id": "4aaed07c-d9c6-4832-8edf-fdf927618f6c",
   "metadata": {},
   "outputs": [],
   "source": []
  }
 ],
 "metadata": {
  "kernelspec": {
   "display_name": "Python 3",
   "language": "python",
   "name": "python3"
  },
  "language_info": {
   "codemirror_mode": {
    "name": "ipython",
    "version": 3
   },
   "file_extension": ".py",
   "mimetype": "text/x-python",
   "name": "python",
   "nbconvert_exporter": "python",
   "pygments_lexer": "ipython3",
   "version": "3.6.8"
  }
 },
 "nbformat": 4,
 "nbformat_minor": 5
}
