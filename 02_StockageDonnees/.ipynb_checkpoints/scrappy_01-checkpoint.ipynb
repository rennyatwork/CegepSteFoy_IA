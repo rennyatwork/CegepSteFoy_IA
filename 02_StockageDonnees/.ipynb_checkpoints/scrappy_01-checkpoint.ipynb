{
 "cells": [
  {
   "cell_type": "code",
   "execution_count": 6,
   "id": "b9f28e17-3c5b-4428-a30b-fdbccb57f2e7",
   "metadata": {},
   "outputs": [
    {
     "name": "stdout",
     "output_type": "stream",
     "text": [
      "Collecting Scrapy\n",
      "  Downloading Scrapy-2.6.1-py2.py3-none-any.whl (264 kB)\n",
      "     |████████████████████████████████| 264 kB 1.9 MB/s            \n",
      "\u001b[?25hCollecting w3lib>=1.17.0\n",
      "  Downloading w3lib-1.22.0-py2.py3-none-any.whl (20 kB)\n",
      "Collecting itemadapter>=0.1.0\n",
      "  Downloading itemadapter-0.6.0-py3-none-any.whl (10 kB)\n",
      "Collecting itemloaders>=1.0.1\n",
      "  Downloading itemloaders-1.0.4-py3-none-any.whl (11 kB)\n",
      "Collecting parsel>=1.5.0\n",
      "  Downloading parsel-1.6.0-py2.py3-none-any.whl (13 kB)\n",
      "Requirement already satisfied: lxml>=3.5.0 in /usr/lib64/python3.6/site-packages (from Scrapy) (4.2.3)\n",
      "Collecting zope.interface>=4.1.3\n",
      "  Downloading zope.interface-5.4.0-cp36-cp36m-manylinux2010_x86_64.whl (251 kB)\n",
      "     |████████████████████████████████| 251 kB 2.6 MB/s            \n",
      "\u001b[?25hCollecting service-identity>=16.0.0\n",
      "  Downloading service_identity-21.1.0-py2.py3-none-any.whl (12 kB)\n",
      "Collecting tldextract\n",
      "  Downloading tldextract-3.1.2-py2.py3-none-any.whl (87 kB)\n",
      "     |████████████████████████████████| 87 kB 1.6 MB/s             \n",
      "\u001b[?25hCollecting cssselect>=0.9.1\n",
      "  Downloading cssselect-1.1.0-py2.py3-none-any.whl (16 kB)\n",
      "Collecting Twisted>=17.9.0\n",
      "  Downloading Twisted-22.4.0-py3-none-any.whl (3.1 MB)\n",
      "     |████████████████████████████████| 3.1 MB 7.2 MB/s            \n",
      "\u001b[?25hRequirement already satisfied: cryptography>=2.0 in /usr/lib64/python3.6/site-packages (from Scrapy) (3.2.1)\n",
      "Collecting queuelib>=1.4.2\n",
      "  Downloading queuelib-1.6.2-py2.py3-none-any.whl (13 kB)\n",
      "Collecting PyDispatcher>=2.0.5\n",
      "  Downloading PyDispatcher-2.0.5.zip (47 kB)\n",
      "     |████████████████████████████████| 47 kB 1.6 MB/s            \n",
      "\u001b[?25h  Preparing metadata (setup.py) ... \u001b[?25ldone\n",
      "\u001b[?25hRequirement already satisfied: pyOpenSSL>=16.2.0 in /usr/lib/python3.6/site-packages (from Scrapy) (19.0.0)\n",
      "Requirement already satisfied: setuptools in /usr/local/lib/python3.6/site-packages (from Scrapy) (59.6.0)\n",
      "Collecting protego>=0.1.15\n",
      "  Downloading Protego-0.2.1-py2.py3-none-any.whl (8.2 kB)\n",
      "Requirement already satisfied: six>=1.4.1 in /usr/local/lib/python3.6/site-packages (from cryptography>=2.0->Scrapy) (1.16.0)\n",
      "Requirement already satisfied: cffi!=1.11.3,>=1.8 in /usr/lib64/python3.6/site-packages (from cryptography>=2.0->Scrapy) (1.11.5)\n",
      "Collecting jmespath>=0.9.5\n",
      "  Downloading jmespath-0.10.0-py2.py3-none-any.whl (24 kB)\n",
      "Requirement already satisfied: attrs>=19.1.0 in /home/oracle/.local/lib/python3.6/site-packages (from service-identity>=16.0.0->Scrapy) (21.2.0)\n",
      "Collecting pyasn1-modules\n",
      "  Downloading pyasn1_modules-0.2.8-py2.py3-none-any.whl (155 kB)\n",
      "     |████████████████████████████████| 155 kB 9.2 MB/s            \n",
      "\u001b[?25hCollecting pyasn1\n",
      "  Downloading pyasn1-0.4.8-py2.py3-none-any.whl (77 kB)\n",
      "     |████████████████████████████████| 77 kB 473 kB/s             \n",
      "\u001b[?25hCollecting Automat>=0.8.0\n",
      "  Downloading Automat-20.2.0-py2.py3-none-any.whl (31 kB)\n",
      "Requirement already satisfied: typing-extensions>=3.6.5 in /home/oracle/.local/lib/python3.6/site-packages (from Twisted>=17.9.0->Scrapy) (4.0.0)\n",
      "Collecting constantly>=15.1\n",
      "  Downloading constantly-15.1.0-py2.py3-none-any.whl (7.9 kB)\n",
      "Collecting hyperlink>=17.1.1\n",
      "  Downloading hyperlink-21.0.0-py2.py3-none-any.whl (74 kB)\n",
      "     |████████████████████████████████| 74 kB 429 kB/s            \n",
      "\u001b[?25hCollecting incremental>=21.3.0\n",
      "  Downloading incremental-21.3.0-py2.py3-none-any.whl (15 kB)\n",
      "Requirement already satisfied: requests>=2.1.0 in /usr/local/lib/python3.6/site-packages (from tldextract->Scrapy) (2.27.1)\n",
      "Requirement already satisfied: requests-file>=1.4 in /usr/lib/python3.6/site-packages (from tldextract->Scrapy) (1.4.3)\n",
      "Collecting filelock>=3.0.8\n",
      "  Downloading filelock-3.4.1-py3-none-any.whl (9.9 kB)\n",
      "Requirement already satisfied: idna in /usr/lib/python3.6/site-packages (from tldextract->Scrapy) (2.5)\n",
      "Requirement already satisfied: pycparser in /usr/lib/python3.6/site-packages (from cffi!=1.11.3,>=1.8->cryptography>=2.0->Scrapy) (2.14)\n",
      "Requirement already satisfied: urllib3<1.27,>=1.21.1 in /usr/lib/python3.6/site-packages (from requests>=2.1.0->tldextract->Scrapy) (1.24.2)\n",
      "Requirement already satisfied: certifi>=2017.4.17 in /usr/local/lib/python3.6/site-packages (from requests>=2.1.0->tldextract->Scrapy) (2021.10.8)\n",
      "Requirement already satisfied: charset-normalizer~=2.0.0 in /usr/local/lib/python3.6/site-packages (from requests>=2.1.0->tldextract->Scrapy) (2.0.12)\n",
      "Using legacy 'setup.py install' for PyDispatcher, since package 'wheel' is not installed.\n",
      "Installing collected packages: w3lib, pyasn1, cssselect, zope.interface, pyasn1-modules, parsel, jmespath, itemadapter, incremental, hyperlink, filelock, constantly, Automat, Twisted, tldextract, service-identity, queuelib, PyDispatcher, protego, itemloaders, Scrapy\n",
      "    Running setup.py install for PyDispatcher ... \u001b[?25ldone\n",
      "\u001b[?25hSuccessfully installed Automat-20.2.0 PyDispatcher-2.0.5 Scrapy-2.6.1 Twisted-22.4.0 constantly-15.1.0 cssselect-1.1.0 filelock-3.4.1 hyperlink-21.0.0 incremental-21.3.0 itemadapter-0.6.0 itemloaders-1.0.4 jmespath-0.10.0 parsel-1.6.0 protego-0.2.1 pyasn1-0.4.8 pyasn1-modules-0.2.8 queuelib-1.6.2 service-identity-21.1.0 tldextract-3.1.2 w3lib-1.22.0 zope.interface-5.4.0\n"
     ]
    }
   ],
   "source": [
    "### imports, install\n",
    "import sys\n",
    "#!{sys.executable} -m pip install  matplotlib pandas numpy pandasql openpyxl nx pydot graphviz openpyxl\n",
    "#!{sys.executable} -m pip install ipyleaflet pandasql\n",
    "#!{sys.executable} -m pip install xlrd pyexcel\n",
    "#!{sys.executable} -m pip install \n",
    "!{sys.executable} -m pip install Scrapy"
   ]
  },
  {
   "cell_type": "code",
   "execution_count": null,
   "id": "4aaed07c-d9c6-4832-8edf-fdf927618f6c",
   "metadata": {},
   "outputs": [],
   "source": [
    "pip install Scrapy"
   ]
  }
 ],
 "metadata": {
  "kernelspec": {
   "display_name": "Python 3",
   "language": "python",
   "name": "python3"
  },
  "language_info": {
   "codemirror_mode": {
    "name": "ipython",
    "version": 3
   },
   "file_extension": ".py",
   "mimetype": "text/x-python",
   "name": "python",
   "nbconvert_exporter": "python",
   "pygments_lexer": "ipython3",
   "version": "3.6.8"
  }
 },
 "nbformat": 4,
 "nbformat_minor": 5
}
