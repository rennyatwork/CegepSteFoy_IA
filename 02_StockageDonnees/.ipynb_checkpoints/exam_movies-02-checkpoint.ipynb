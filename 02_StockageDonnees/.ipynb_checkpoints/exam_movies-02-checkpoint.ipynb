{
 "cells": [
  {
   "cell_type": "code",
   "execution_count": 1,
   "metadata": {},
   "outputs": [],
   "source": [
    "from bs4 import BeautifulSoup\n",
    " \n",
    "import requests\n",
    "import sys\n",
    "\n",
    "import pandas as pd"
   ]
  },
  {
   "cell_type": "code",
   "execution_count": 2,
   "metadata": {},
   "outputs": [],
   "source": [
    "url = 'http://www.imdb.com/search/title/?release_date=2017&sort=num_votes,desc&page=1'\n",
    "response = requests.get(url)"
   ]
  },
  {
   "cell_type": "code",
   "execution_count": 3,
   "metadata": {},
   "outputs": [
    {
     "data": {
      "text/plain": [
       "<Response [200]>"
      ]
     },
     "execution_count": 3,
     "metadata": {},
     "output_type": "execute_result"
    }
   ],
   "source": [
    "response"
   ]
  },
  {
   "cell_type": "code",
   "execution_count": 4,
   "metadata": {},
   "outputs": [],
   "source": [
    "soup = BeautifulSoup(response.content, 'lxml')\n",
    "### on trouve les films\n",
    "movies = soup.find_all(\"div\", {\"class\":\"lister-item mode-advanced\"})"
   ]
  },
  {
   "cell_type": "code",
   "execution_count": 5,
   "metadata": {},
   "outputs": [
    {
     "data": {
      "text/plain": [
       "bs4.element.ResultSet"
      ]
     },
     "execution_count": 5,
     "metadata": {},
     "output_type": "execute_result"
    }
   ],
   "source": [
    "type(movies)"
   ]
  },
  {
   "cell_type": "code",
   "execution_count": 6,
   "metadata": {},
   "outputs": [],
   "source": [
    "movie_title_year = movies[0].find_all(\"h3\", {\"class\":\"lister-item-header\"})"
   ]
  },
  {
   "cell_type": "code",
   "execution_count": 7,
   "metadata": {},
   "outputs": [
    {
     "data": {
      "text/plain": [
       "[<h3 class=\"lister-item-header\">\n",
       " <span class=\"lister-item-index unbold text-primary\">1.</span>\n",
       " <a href=\"/title/tt3315342/\">Logan</a>\n",
       " <span class=\"lister-item-year text-muted unbold\">(2017)</span>\n",
       " </h3>]"
      ]
     },
     "execution_count": 7,
     "metadata": {},
     "output_type": "execute_result"
    }
   ],
   "source": []
  },
  {
   "cell_type": "code",
   "execution_count": 19,
   "metadata": {},
   "outputs": [
    {
     "name": "stdout",
     "output_type": "stream",
     "text": [
      "[movie]: Logan  [year]: (2017)[rating]: 8.1 [metascore]: 77        [votes] : 737,594\n",
      "[movie]: Thor: Ragnarok  [year]: (2017)[rating]: 7.9 [metascore]: 74        [votes] : 710,823\n",
      "[movie]: Guardians of the Galaxy Vol. 2  [year]: (2017)[rating]: 7.6 [metascore]: 67        [votes] : 658,356\n",
      "[movie]: Wonder Woman  [year]: (2017)[rating]: 7.4 [metascore]: 76        [votes] : 642,943\n",
      "[movie]: Dunkirk  [year]: (2017)[rating]: 7.8 [metascore]: 94        [votes] : 638,196\n",
      "[movie]: Spider-Man: Homecoming  [year]: (2017)[rating]: 7.4 [metascore]: 73        [votes] : 635,386\n",
      "[movie]: Star Wars: Episode VIII - The Last Jedi  [year]: (2017)[rating]: 6.9 [metascore]: 84        [votes] : 617,956\n",
      "[movie]: Get Out  [year]: (I) (2017)[rating]: 7.7 [metascore]: 85        [votes] : 567,691\n",
      "[movie]: Blade Runner 2049  [year]: (2017)[rating]: 8.0 [metascore]: 81        [votes] : 547,193\n",
      "[movie]: It  [year]: (I) (2017)[rating]: 7.3 [metascore]: 69        [votes] : 523,688\n",
      "[movie]: Baby Driver  [year]: (2017)[rating]: 7.6 [metascore]: 86        [votes] : 518,306\n",
      "[movie]: Three Billboards Outside Ebbing, Missouri  [year]: (2017)[rating]: 8.1 [metascore]: 88        [votes] : 493,910\n",
      "[movie]: Coco  [year]: (I) (2017)[rating]: 8.4 [metascore]: 81        [votes] : 484,375\n"
     ]
    },
    {
     "ename": "AttributeError",
     "evalue": "'NoneType' object has no attribute 'text'",
     "output_type": "error",
     "traceback": [
      "\u001b[0;31m---------------------------------------------------------------------------\u001b[0m",
      "\u001b[0;31mAttributeError\u001b[0m                            Traceback (most recent call last)",
      "\u001b[0;32m<ipython-input-19-72b390dea66c>\u001b[0m in \u001b[0;36m<module>\u001b[0;34m\u001b[0m\n\u001b[1;32m      7\u001b[0m     \u001b[0mvotes\u001b[0m \u001b[0;34m=\u001b[0m \u001b[0mmovie\u001b[0m\u001b[0;34m.\u001b[0m\u001b[0mfind\u001b[0m\u001b[0;34m(\u001b[0m\u001b[0;34m\"span\"\u001b[0m\u001b[0;34m,\u001b[0m \u001b[0;34m{\u001b[0m\u001b[0;34m\"name\"\u001b[0m\u001b[0;34m:\u001b[0m\u001b[0;34m\"nv\"\u001b[0m\u001b[0;34m}\u001b[0m\u001b[0;34m)\u001b[0m\u001b[0;34m.\u001b[0m\u001b[0mtext\u001b[0m\u001b[0;34m\u001b[0m\u001b[0;34m\u001b[0m\u001b[0m\n\u001b[1;32m      8\u001b[0m     print(\"[movie]: \" + movie_title+ \"  [year]: \" + year +\"[rating]: \" +rating \n\u001b[0;32m----> 9\u001b[0;31m           + \" [metascore]: \"+ metascore.text + \"[votes] : \"+ votes)\n\u001b[0m",
      "\u001b[0;31mAttributeError\u001b[0m: 'NoneType' object has no attribute 'text'"
     ]
    }
   ],
   "source": [
    "for movie in movies:\n",
    "    year = movie.find(\"span\", {\"class\":\"lister-item-year\"}).text\n",
    "    movie_title_year = movie.find(\"h3\", {\"class\":\"lister-item-header\"})\n",
    "    movie_title = movie_title_year.find(\"a\").text\n",
    "    rating = movie.find(\"strong\").text\n",
    "    metascore = movie.find(\"span\", {\"class\":\"metascore\"})\n",
    "    votes = movie.find(\"span\", {\"name\":\"nv\"}).text\n",
    "    print(\"[movie]: \" + movie_title+ \"  [year]: \" + year +\"[rating]: \" +rating \n",
    "          + \" [metascore]: \"+ metascore.text + \"[votes] : \"+ votes)"
   ]
  },
  {
   "cell_type": "code",
   "execution_count": 41,
   "metadata": {},
   "outputs": [],
   "source": [
    "### on trouve l'année\n",
    "year = movies[0].find(\"span\", {\"class\":\"lister-item-year\"}).text"
   ]
  },
  {
   "cell_type": "code",
   "execution_count": 42,
   "metadata": {},
   "outputs": [
    {
     "data": {
      "text/plain": [
       "'(2017)'"
      ]
     },
     "execution_count": 42,
     "metadata": {},
     "output_type": "execute_result"
    }
   ],
   "source": [
    "year"
   ]
  },
  {
   "cell_type": "code",
   "execution_count": 43,
   "metadata": {},
   "outputs": [],
   "source": [
    "### ## on trouve le title\n",
    "movie_title = movie_title_year[0].find(\"a\").text"
   ]
  },
  {
   "cell_type": "code",
   "execution_count": 44,
   "metadata": {},
   "outputs": [
    {
     "name": "stdout",
     "output_type": "stream",
     "text": [
      "[movie]: Logan  [year]: (2017)\n"
     ]
    }
   ],
   "source": [
    "print(\"[movie]: \" + movie_title+ \"  [year]: \" + year )"
   ]
  },
  {
   "cell_type": "code",
   "execution_count": 26,
   "metadata": {},
   "outputs": [
    {
     "data": {
      "text/plain": [
       "'8.1'"
      ]
     },
     "execution_count": 26,
     "metadata": {},
     "output_type": "execute_result"
    }
   ],
   "source": [
    "### on trouve le rating\n",
    "rating = movies[0].find(\"strong\").text"
   ]
  },
  {
   "cell_type": "code",
   "execution_count": 29,
   "metadata": {},
   "outputs": [
    {
     "data": {
      "text/plain": [
       "'77        '"
      ]
     },
     "execution_count": 29,
     "metadata": {},
     "output_type": "execute_result"
    }
   ],
   "source": [
    "### on trouve le metascore\n",
    "metascore = movies[0].find(\"span\", {\"class\":\"metascore\"}).text"
   ]
  },
  {
   "cell_type": "code",
   "execution_count": null,
   "metadata": {},
   "outputs": [],
   "source": [
    "### on trouve le num de votes\n",
    "votes = movies[0].find(\"span\", {\"name\":\"nv\"}).text"
   ]
  },
  {
   "cell_type": "code",
   "execution_count": 32,
   "metadata": {},
   "outputs": [
    {
     "data": {
      "text/plain": [
       "'737,594'"
      ]
     },
     "execution_count": 32,
     "metadata": {},
     "output_type": "execute_result"
    }
   ],
   "source": [
    "votes"
   ]
  },
  {
   "cell_type": "code",
   "execution_count": null,
   "metadata": {},
   "outputs": [],
   "source": [
    "rating_metascore = movies[0].find_all(\"h3\", {\"class\":\"lister-item-header\"})"
   ]
  },
  {
   "cell_type": "code",
   "execution_count": 6,
   "metadata": {},
   "outputs": [
    {
     "data": {
      "text/plain": [
       "<tr>\n",
       "<th></th>\n",
       "<th>Rank &amp; Title</th>\n",
       "<th>IMDb Rating</th>\n",
       "<th>Your Rating</th>\n",
       "<th></th>\n",
       "</tr>"
      ]
     },
     "execution_count": 6,
     "metadata": {},
     "output_type": "execute_result"
    }
   ],
   "source": [
    "tr = soup.findChildren(\"span class\")\n",
    "tr = iter(tr)\n",
    "next(tr)"
   ]
  },
  {
   "cell_type": "code",
   "execution_count": null,
   "metadata": {},
   "outputs": [],
   "source": [
    "for movie in tr:\n",
    "    title = movie.find('td', {'class': 'titleColumn'} ).find('a').contents[0]\n",
    "    year = movie.find('td', {'class': 'titleColumn'} ).find('span', {'class': 'secondaryInfo'}).contents[0]\n",
    "    rating = movie.find('td', {'class': 'ratingColumn imdbRating'} ).find('strong').contents[0]\n",
    "    row = title + ' - ' + year + ' ' + ' ' + rating \n",
    "    print(row)"
   ]
  },
  {
   "cell_type": "code",
   "execution_count": null,
   "metadata": {},
   "outputs": [],
   "source": []
  }
 ],
 "metadata": {
  "kernelspec": {
   "display_name": "Python 3",
   "language": "python",
   "name": "python3"
  },
  "language_info": {
   "codemirror_mode": {
    "name": "ipython",
    "version": 3
   },
   "file_extension": ".py",
   "mimetype": "text/x-python",
   "name": "python",
   "nbconvert_exporter": "python",
   "pygments_lexer": "ipython3",
   "version": "3.8.10"
  }
 },
 "nbformat": 4,
 "nbformat_minor": 4
}
