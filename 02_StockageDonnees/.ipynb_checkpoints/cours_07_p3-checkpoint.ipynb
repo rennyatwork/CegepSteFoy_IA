{
 "cells": [
  {
   "cell_type": "code",
   "execution_count": 4,
   "metadata": {},
   "outputs": [
    {
     "name": "stdout",
     "output_type": "stream",
     "text": [
      "Requirement already satisfied: pymongo in /home/hadoop/.local/lib/python3.8/site-packages (4.1.1)\n",
      "Requirement already satisfied: tweepy in /home/hadoop/.local/lib/python3.8/site-packages (4.10.0)\n",
      "Requirement already satisfied: requests-oauthlib<2,>=1.2.0 in /home/hadoop/.local/lib/python3.8/site-packages (from tweepy) (1.3.1)\n",
      "Requirement already satisfied: oauthlib<4,>=3.2.0 in /home/hadoop/.local/lib/python3.8/site-packages (from tweepy) (3.2.0)\n",
      "Requirement already satisfied: requests<3,>=2.27.0 in /home/hadoop/.local/lib/python3.8/site-packages (from tweepy) (2.28.0)\n",
      "Requirement already satisfied: charset-normalizer~=2.0.0 in /home/hadoop/.local/lib/python3.8/site-packages (from requests<3,>=2.27.0->tweepy) (2.0.12)\n",
      "Requirement already satisfied: urllib3<1.27,>=1.21.1 in /home/hadoop/.local/lib/python3.8/site-packages (from requests<3,>=2.27.0->tweepy) (1.26.9)\n",
      "Requirement already satisfied: certifi>=2017.4.17 in /usr/lib/python3/dist-packages (from requests<3,>=2.27.0->tweepy) (2019.11.28)\n",
      "Requirement already satisfied: idna<4,>=2.5 in /usr/lib/python3/dist-packages (from requests<3,>=2.27.0->tweepy) (2.8)\n",
      "\u001b[31mERROR: Could not find a version that satisfies the requirement StreamListener (from versions: none)\u001b[0m\n",
      "\u001b[31mERROR: No matching distribution found for StreamListener\u001b[0m\n"
     ]
    }
   ],
   "source": [
    "import sys\n",
    "!{sys.executable} -m pip install pymongo\n",
    "!{sys.executable} -m pip install tweepy\n",
    "#!{sys.executable} -m pip install StreamListener"
   ]
  },
  {
   "cell_type": "code",
   "execution_count": null,
   "metadata": {},
   "outputs": [],
   "source": []
  },
  {
   "cell_type": "code",
   "execution_count": 6,
   "metadata": {},
   "outputs": [],
   "source": [
    "\n",
    "from pymongo import MongoClient\n",
    "import json\n",
    "## https://stackoverflow.com/questions/69959078/cannot-import-name-streamlistener-from-tweepy\n",
    "#from tweepy.streaming import StreamListener\n",
    "from tweepy import OAuthHandler\n",
    "from tweepy import Stream\n",
    "import datetime"
   ]
  },
  {
   "cell_type": "code",
   "execution_count": 9,
   "metadata": {},
   "outputs": [],
   "source": [
    "# Les informations de connexion MongoDB. Cela suppose\n",
    "# que le nom de votre base de données est \n",
    "#TwitterStream et que le nom de votre collection est tweets..\n",
    "connection =MongoClient('localhost', 27017)\n",
    "db = connection.TwitterStream\n",
    "db.tweets.create_index(\"id\", unique=True, dropDups=True)\n",
    "collection = db.tweets"
   ]
  },
  {
   "cell_type": "code",
   "execution_count": 10,
   "metadata": {},
   "outputs": [],
   "source": [
    "# Ajoutez les mots-clés que vous souhaitez\n",
    "# suivre. Il peut s'agir de cashtags, de hashtags ou de mots.\n",
    "keywords = ['$data science', '#machine learning', 'python', 'java','Ronaldo']"
   ]
  },
  {
   "cell_type": "code",
   "execution_count": 11,
   "metadata": {},
   "outputs": [],
   "source": [
    "## Facultatif - Ne gratter que les tweets d'une langue spécifique\n",
    "#language = ['en']"
   ]
  },
  {
   "cell_type": "code",
   "execution_count": 17,
   "metadata": {},
   "outputs": [],
   "source": [
    "# Vous devez les remplacer par vos propres valeurs \n",
    "#que vous obtenez après la création d'une application \n",
    "#sur le portail des développeurs de Twitter.\n",
    "consumer_key = \"X7AFKQD0kbx53yZLOne4z8OfH\"\n",
    "consumer_secret = \"nTUUvHN9sd2nShljQYvlgp6uPmO81UIdA09ChHYTSRJu9LU9Vm\"\n",
    "access_token = \"1190417888290758658-2CzY0UfwUBiqEfI0BPTIHAp8acflrY\"\n",
    "access_token_secret = \"dVEUqMosVSdRXoMXjCebHMOGZoByC2rhBNKiXxDVCjPsZ\""
   ]
  },
  {
   "cell_type": "code",
   "execution_count": null,
   "metadata": {},
   "outputs": [
    {
     "name": "stdout",
     "output_type": "stream",
     "text": [
      "CarolCRamalho: RT @adem_onar: Shaping the future of financial services with latest technology and innovation\n",
      "\n",
      "RT &amp; TYVM 👉@ascentt \n",
      "\n",
      "#datascience #machinel…\n",
      "texidozlatar: RT @Data_Urbana: Hoy compartimos un nuevo mapa realizado a partir de datos abiertos. #MartesDeMapping\n",
      "Esta semana es el turno de mapear el…\n",
      "Stenciled_By_Em: RT @Rap_Thesaurus:  Public Safety Notice\n",
      "#100DaysOfCode #CodeNewbie #WomenWhoCode #Programming #DataScience #AcademicTwitter #Serverless #…\n",
      "Stenciled_By_Em: RT @ShadyWordPress:  Troll Patrol 🛡\n",
      "#100DaysOfCode #CodeNewbie #WomenWhoCode #Programming #DataScience #AcademicTwitter #Serverless #ML #I…\n"
     ]
    }
   ],
   "source": [
    "# Le code ci-dessous obtiendra les flux Tweets \n",
    "#et ne stockera que les champs importants dans votre base de données MongoDB\n",
    "class StdOutListener(Stream):\n",
    "\n",
    "    def on_data(self, data):\n",
    "\n",
    "        # Chargez le Tweet dans la variable \"t\"\n",
    "        t = json.loads(data)\n",
    "\n",
    "        # Extrayez les données importantes du tweet \n",
    "        #pour les stocker dans la base de données.\n",
    "        tweet_id = t['id_str']  # L'ID de Tweet de Twitter au format chaîne\n",
    "        username = t['user']['screen_name']  # Le nom d'utilisateur de l'auteur du Tweet\n",
    "        followers = t['user']['followers_count']  # Le nombre d'abonnés de l'auteur du Tweet\n",
    "        text = t['text']  # Le texte -Tweet\n",
    "        hashtags = t['entities']['hashtags']  # Tous les hashtags utilisés dans le Tweet\n",
    "        dt = t['created_at']  # L'horodatage de la création du Tweet\n",
    "        language = t['lang']  # La langue du Tweet\n",
    "\n",
    "        # Convertissez la chaîne d'horodatage(timestamp ) donnée \n",
    "        #par Twitter en un objet de date appelé «created». \n",
    "        #Ceci est plus facilement manipulé dans MongoDB.\n",
    "        created = datetime.datetime.strptime(dt, '%a %b %d %H:%M:%S +0000 %Y')\n",
    "\n",
    "        # Chargez toutes les données extraites du Tweet dans \n",
    "        #la variable \"tweet\" qui sera stockée dans la base de données\n",
    "        tweet = {'id':tweet_id, 'username':username, 'followers':followers, 'text':text, 'hashtags':hashtags, 'language':language, 'created':created}\n",
    "\n",
    "        ## Enregistrez les données raffinées du Tweet dans MongoDB\n",
    "        #collection.save(tweet)\n",
    "\n",
    "        # Facultatif - Imprimez le nom d'utilisateur et le texte\n",
    "        #de chaque Tweet sur votre console en temps réel \n",
    "        #lorsqu'ils sont extraits du flux\n",
    "        print(username + ':' + ' ' + text)\n",
    "        return True\n",
    "\n",
    "    # Aficher la raison d'une erreur sur votre console\n",
    "    def on_error(self, status):\n",
    "        print(status)\n",
    "\n",
    "# Appel\n",
    "if __name__ == '__main__':\n",
    "    \n",
    "    # Vous devez les remplacer par vos propres valeurs \n",
    "    #que vous obtenez après la création d'une application \n",
    "    #sur le portail des développeurs de Twitter.\n",
    "    consumer_key = \"X7AFKQD0kbx53yZLOne4z8OfH\"\n",
    "    consumer_secret = \"nTUUvHN9sd2nShljQYvlgp6uPmO81UIdA09ChHYTSRJu9LU9Vm\"\n",
    "    access_token = \"1190417888290758658-2CzY0UfwUBiqEfI0BPTIHAp8acflrY\"\n",
    "    access_token_secret = \"dVEUqMosVSdRXoMXjCebHMOGZoByC2rhBNKiXxDVCjPsZ\"\n",
    "\n",
    "    ##l = StdOutListener(consumer_key, consumer_secret, access_token, access_token_secret)\n",
    "    stream = StdOutListener(consumer_key, consumer_secret, access_token, access_token_secret)\n",
    "    auth = OAuthHandler(consumer_key, consumer_secret)\n",
    "    auth.set_access_token(access_token, access_token_secret)\n",
    "\n",
    "    #stream = Stream(auth, l)\n",
    "    \n",
    "    ##stream.filter(track=keywords, languages=language)\n",
    "    stream.filter(track=['#python'])"
   ]
  },
  {
   "cell_type": "code",
   "execution_count": null,
   "metadata": {},
   "outputs": [],
   "source": []
  }
 ],
 "metadata": {
  "kernelspec": {
   "display_name": "Python 3",
   "language": "python",
   "name": "python3"
  },
  "language_info": {
   "codemirror_mode": {
    "name": "ipython",
    "version": 3
   },
   "file_extension": ".py",
   "mimetype": "text/x-python",
   "name": "python",
   "nbconvert_exporter": "python",
   "pygments_lexer": "ipython3",
   "version": "3.8.10"
  }
 },
 "nbformat": 4,
 "nbformat_minor": 4
}
