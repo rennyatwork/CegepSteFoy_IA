{
  "nbformat": 4,
  "nbformat_minor": 0,
  "metadata": {
    "colab": {
      "provenance": [],
      "gpuType": "T4",
      "authorship_tag": "ABX9TyMGy9czE+3nLfiF1zUaNpcN",
      "include_colab_link": true
    },
    "kernelspec": {
      "name": "python3",
      "display_name": "Python 3"
    },
    "language_info": {
      "name": "python"
    },
    "accelerator": "GPU"
  },
  "cells": [
    {
      "cell_type": "markdown",
      "metadata": {
        "id": "view-in-github",
        "colab_type": "text"
      },
      "source": [
        "<a href=\"https://colab.research.google.com/github/rennyatwork/CegepSteFoy_IA/blob/main/08_deep_learning/tp_01_v06.ipynb\" target=\"_parent\"><img src=\"https://colab.research.google.com/assets/colab-badge.svg\" alt=\"Open In Colab\"/></a>"
      ]
    },
    {
      "cell_type": "code",
      "execution_count": 2,
      "metadata": {
        "id": "-nNNWGeBjaTU"
      },
      "outputs": [],
      "source": [
        "import pandas as pd\n",
        "from tensorflow.keras.layers import Dense, Dropout, Activation\n",
        "from tensorflow.keras.models import Model, Sequential\n",
        "from tensorflow.keras.optimizers import Adam\n",
        "#import tensorflow.keras.optimizers\n",
        "from sklearn.model_selection import train_test_split\n",
        "import matplotlib.pyplot as plt\n",
        "from keras.wrappers.scikit_learn import KerasRegressor\n",
        "from scipy.stats import reciprocal\n",
        "from sklearn.model_selection import RandomizedSearchCV\n",
        "import keras as keras\n",
        "from sklearn.metrics import mean_squared_error, r2_score\n",
        "from sklearn.preprocessing import StandardScaler\n",
        "import numpy as np\n",
        "from keras.callbacks import ModelCheckpoint\n",
        "import seaborn as sns\n",
        "from sklearn import linear_model\n",
        "from sklearn.dummy import DummyRegressor\n",
        "from sklearn import metrics\n",
        "import math\n",
        "from tensorflow.keras.regularizers import l2"
      ]
    },
    {
      "cell_type": "code",
      "source": [
        "#!pip install tensorflow"
      ],
      "metadata": {
        "id": "cHIhn2w5j_tP"
      },
      "execution_count": null,
      "outputs": []
    },
    {
      "cell_type": "code",
      "source": [
        "## column to predict\n",
        "y_col = 'TotalScore'"
      ],
      "metadata": {
        "id": "p786NNFLx_sZ"
      },
      "execution_count": 3,
      "outputs": []
    },
    {
      "cell_type": "code",
      "source": [
        "def get_df_from_csv(p_path, p_sep=',', p_print=True):\n",
        "  df= pd.read_csv(p_path, sep= p_sep)\n",
        "  if (p_print):\n",
        "    print('---Head---')\n",
        "    print(df.head())\n",
        "    print('-- How many nulls? --')\n",
        "    print(df.isna().sum())\n",
        "  return df\n"
      ],
      "metadata": {
        "id": "SbY3CQeq2GHy"
      },
      "execution_count": 4,
      "outputs": []
    },
    {
      "cell_type": "code",
      "source": [
        "## Augmented df\n",
        "def get_augmented_df():\n",
        "  ## head 400001\n",
        "  path_csv = \"https://raw.githubusercontent.com/rennyatwork/CegepSteFoy_IA/main/08_deep_learning/data/AugmentedData_reduced.csv\"\n",
        "  augmented_df_1 = get_df_from_csv(path_csv, p_sep =\",\")\n",
        "  ## tail 284000\n",
        "  path_csv = \"https://raw.githubusercontent.com/rennyatwork/CegepSteFoy_IA/main/08_deep_learning/data/AugemntedData_reduced_tail.csv\"\n",
        "  augmented_df_2 = get_df_from_csv(path_csv, p_sep =\",\")\n",
        "\n",
        "  return pd.concat([augmented_df_1, augmented_df_2])"
      ],
      "metadata": {
        "id": "YwmzYC1wkP_2"
      },
      "execution_count": 5,
      "outputs": []
    },
    {
      "cell_type": "code",
      "source": [
        "## augmented_df (full augmented_df)\n",
        "augmented_df = get_augmented_df()"
      ],
      "metadata": {
        "colab": {
          "base_uri": "https://localhost:8080/"
        },
        "id": "7C7HxmObut6s",
        "outputId": "0920eaa9-c33d-4f9e-f524-d292fa02f217"
      },
      "execution_count": 6,
      "outputs": [
        {
          "output_type": "stream",
          "name": "stdout",
          "text": [
            "---Head---\n",
            "   GameID  ScenarioID  HolesCompletedCount  Hole1  Hole2  Hole3  Hole4  Hole5  \\\n",
            "0       1           1                    0      0      0      0      0      0   \n",
            "1       2           1                    0      0      0      0      0      0   \n",
            "2       3           1                    0      0      0      0      0      0   \n",
            "3       4           1                    0      0      0      0      0      0   \n",
            "4       5           1                    0      0      0      0      0      0   \n",
            "\n",
            "   Hole6  Hole7  ...  Hole10  Hole11  Hole12  Hole13  Hole14  Hole15  Hole16  \\\n",
            "0      0      0  ...       0       0       0       0       0       0       0   \n",
            "1      0      0  ...       0       0       0       0       0       0       0   \n",
            "2      0      0  ...       0       0       0       0       0       0       0   \n",
            "3      0      0  ...       0       0       0       0       0       0       0   \n",
            "4      0      0  ...       0       0       0       0       0       0       0   \n",
            "\n",
            "   Hole17  Hole18  TotalScore  \n",
            "0       0       0          85  \n",
            "1       0       0          77  \n",
            "2       0       0          83  \n",
            "3       0       0          86  \n",
            "4       0       0          87  \n",
            "\n",
            "[5 rows x 22 columns]\n",
            "-- How many nulls? --\n",
            "GameID                 0\n",
            "ScenarioID             0\n",
            "HolesCompletedCount    0\n",
            "Hole1                  0\n",
            "Hole2                  0\n",
            "Hole3                  0\n",
            "Hole4                  0\n",
            "Hole5                  0\n",
            "Hole6                  0\n",
            "Hole7                  0\n",
            "Hole8                  0\n",
            "Hole9                  0\n",
            "Hole10                 0\n",
            "Hole11                 0\n",
            "Hole12                 0\n",
            "Hole13                 0\n",
            "Hole14                 0\n",
            "Hole15                 0\n",
            "Hole16                 0\n",
            "Hole17                 0\n",
            "Hole18                 0\n",
            "TotalScore             0\n",
            "dtype: int64\n",
            "---Head---\n",
            "   1  201  10  4  6  0  0.1  0.2  0.3  0.4  ...  0.7  5  4.1  4.2  6.1  4.3  \\\n",
            "0  2  201  10  3  5  0    0    0    0    0  ...    0  5    5    4    5    3   \n",
            "1  3  201  10  5  4  0    0    0    0    0  ...    0  6    5    4    5    3   \n",
            "2  4  201  10  4  4  0    0    0    0    0  ...    0  5    7    4    6    3   \n",
            "3  5  201  10  4  7  0    0    0    0    0  ...    0  9    6    3    5    4   \n",
            "4  6  201  10  4  5  0    0    0    0    0  ...    0  5    4    3    5    4   \n",
            "\n",
            "   5.1  4.4  6.2  85  \n",
            "0    4    3    4  77  \n",
            "1    5    3    3  83  \n",
            "2    6    3    4  86  \n",
            "3    5    3    4  87  \n",
            "4    4    6    5  83  \n",
            "\n",
            "[5 rows x 22 columns]\n",
            "-- How many nulls? --\n",
            "1      0\n",
            "201    0\n",
            "10     0\n",
            "4      0\n",
            "6      0\n",
            "0      0\n",
            "0.1    0\n",
            "0.2    0\n",
            "0.3    0\n",
            "0.4    0\n",
            "0.5    0\n",
            "0.6    0\n",
            "0.7    0\n",
            "5      0\n",
            "4.1    0\n",
            "4.2    0\n",
            "6.1    0\n",
            "4.3    0\n",
            "5.1    0\n",
            "4.4    0\n",
            "6.2    0\n",
            "85     0\n",
            "dtype: int64\n"
          ]
        }
      ]
    },
    {
      "cell_type": "code",
      "source": [
        "## nulls?\n",
        "print(augmented_df.isnull().sum())\n",
        "print(augmented_df[y_col].mode())\n"
      ],
      "metadata": {
        "colab": {
          "base_uri": "https://localhost:8080/"
        },
        "id": "aIgBf_Mevsul",
        "outputId": "68cb390a-1e47-4edc-b1cd-5098837d5ee0"
      },
      "execution_count": 7,
      "outputs": [
        {
          "output_type": "stream",
          "name": "stdout",
          "text": [
            "GameID                 283999\n",
            "ScenarioID             283999\n",
            "HolesCompletedCount    283999\n",
            "Hole1                  283999\n",
            "Hole2                  283999\n",
            "Hole3                  283999\n",
            "Hole4                  283999\n",
            "Hole5                  283999\n",
            "Hole6                  283999\n",
            "Hole7                  283999\n",
            "Hole8                  283999\n",
            "Hole9                  283999\n",
            "Hole10                 283999\n",
            "Hole11                 283999\n",
            "Hole12                 283999\n",
            "Hole13                 283999\n",
            "Hole14                 283999\n",
            "Hole15                 283999\n",
            "Hole16                 283999\n",
            "Hole17                 283999\n",
            "Hole18                 283999\n",
            "TotalScore             283999\n",
            "1                      400000\n",
            "201                    400000\n",
            "10                     400000\n",
            "4                      400000\n",
            "6                      400000\n",
            "0                      400000\n",
            "0.1                    400000\n",
            "0.2                    400000\n",
            "0.3                    400000\n",
            "0.4                    400000\n",
            "0.5                    400000\n",
            "0.6                    400000\n",
            "0.7                    400000\n",
            "5                      400000\n",
            "4.1                    400000\n",
            "4.2                    400000\n",
            "6.1                    400000\n",
            "4.3                    400000\n",
            "5.1                    400000\n",
            "4.4                    400000\n",
            "6.2                    400000\n",
            "85                     400000\n",
            "dtype: int64\n",
            "0    83.0\n",
            "Name: TotalScore, dtype: float64\n"
          ]
        }
      ]
    },
    {
      "cell_type": "code",
      "source": [
        "### several nulls...\n",
        "### Let's create a function to replace nulls with most frequent values\n",
        "\n",
        "def get_df_without_nulls(p_df):\n",
        "  for col in p_df.columns:\n",
        "    most_frequent_value = p_df[col].mode()[0]\n",
        "    p_df[col].fillna(most_frequent_value, inplace=True)\n",
        "  return p_df\n"
      ],
      "metadata": {
        "id": "rKV2_gdu03bt"
      },
      "execution_count": 7,
      "outputs": []
    },
    {
      "cell_type": "code",
      "source": [
        "#### still any nulls?\n",
        "augmented_df2 = get_df_without_nulls(augmented_df)\n",
        "\n",
        "print(augmented_df2.isnull().sum())\n",
        "print(augmented_df2[y_col].mode())"
      ],
      "metadata": {
        "colab": {
          "base_uri": "https://localhost:8080/"
        },
        "id": "fGK8uzcw1p9S",
        "outputId": "70ddc6f8-e504-4663-88fb-f06d1aa0ddf4"
      },
      "execution_count": 8,
      "outputs": [
        {
          "output_type": "stream",
          "name": "stdout",
          "text": [
            "GameID                 0\n",
            "ScenarioID             0\n",
            "HolesCompletedCount    0\n",
            "Hole1                  0\n",
            "Hole2                  0\n",
            "Hole3                  0\n",
            "Hole4                  0\n",
            "Hole5                  0\n",
            "Hole6                  0\n",
            "Hole7                  0\n",
            "Hole8                  0\n",
            "Hole9                  0\n",
            "Hole10                 0\n",
            "Hole11                 0\n",
            "Hole12                 0\n",
            "Hole13                 0\n",
            "Hole14                 0\n",
            "Hole15                 0\n",
            "Hole16                 0\n",
            "Hole17                 0\n",
            "Hole18                 0\n",
            "TotalScore             0\n",
            "1                      0\n",
            "201                    0\n",
            "10                     0\n",
            "4                      0\n",
            "6                      0\n",
            "0                      0\n",
            "0.1                    0\n",
            "0.2                    0\n",
            "0.3                    0\n",
            "0.4                    0\n",
            "0.5                    0\n",
            "0.6                    0\n",
            "0.7                    0\n",
            "5                      0\n",
            "4.1                    0\n",
            "4.2                    0\n",
            "6.1                    0\n",
            "4.3                    0\n",
            "5.1                    0\n",
            "4.4                    0\n",
            "6.2                    0\n",
            "85                     0\n",
            "dtype: int64\n",
            "0    83.0\n",
            "Name: TotalScore, dtype: float64\n"
          ]
        }
      ]
    },
    {
      "cell_type": "code",
      "source": [
        "## Original df\n",
        "path_csv = \"https://raw.githubusercontent.com/rennyatwork/CegepSteFoy_IA/main/08_deep_learning/data/OriginalData.csv\"\n",
        "original_df = get_df_from_csv(path_csv, p_sep =\",\")"
      ],
      "metadata": {
        "colab": {
          "base_uri": "https://localhost:8080/"
        },
        "id": "QumhWLveknb8",
        "outputId": "68094d90-529b-4792-d531-eff78ea797b3"
      },
      "execution_count": 9,
      "outputs": [
        {
          "output_type": "stream",
          "name": "stdout",
          "text": [
            "---Head---\n",
            "   GameID  Hole1  Hole2  Hole3  Hole4  Hole5  Hole6  Hole7  Hole8  Hole9  \\\n",
            "0       1      4      6      5      4      6      5      5      3      5   \n",
            "1       2      3      5      4      4      5      5      6      3      4   \n",
            "2       3      5      4      6      4      7      4      5      3      5   \n",
            "3       4      4      4      7      3      6      4      4      4      5   \n",
            "4       5      4      7      6      4      5      4      5      3      4   \n",
            "\n",
            "   Hole10  Hole11  Hole12  Hole13  Hole14  Hole15  Hole16  Hole17  Hole18  \\\n",
            "0       4       5       4       4       6       4       5       4       6   \n",
            "1       5       5       5       4       5       3       4       3       4   \n",
            "2       6       6       5       4       5       3       5       3       3   \n",
            "3       7       5       7       4       6       3       6       3       4   \n",
            "4       6       9       6       3       5       4       5       3       4   \n",
            "\n",
            "   TotalScore  \n",
            "0          85  \n",
            "1          77  \n",
            "2          83  \n",
            "3          86  \n",
            "4          87  \n",
            "-- How many nulls? --\n",
            "GameID        0\n",
            "Hole1         0\n",
            "Hole2         0\n",
            "Hole3         0\n",
            "Hole4         0\n",
            "Hole5         0\n",
            "Hole6         0\n",
            "Hole7         0\n",
            "Hole8         0\n",
            "Hole9         0\n",
            "Hole10        0\n",
            "Hole11        0\n",
            "Hole12        0\n",
            "Hole13        0\n",
            "Hole14        0\n",
            "Hole15        0\n",
            "Hole16        0\n",
            "Hole17        0\n",
            "Hole18        0\n",
            "TotalScore    0\n",
            "dtype: int64\n"
          ]
        }
      ]
    },
    {
      "cell_type": "code",
      "source": [
        "## nulls?\n",
        "original_df.isna().sum()"
      ],
      "metadata": {
        "colab": {
          "base_uri": "https://localhost:8080/"
        },
        "id": "u6RjTivzwTMb",
        "outputId": "e8b15392-fe64-4e1f-842a-6a1ac50b62cd"
      },
      "execution_count": 11,
      "outputs": [
        {
          "output_type": "execute_result",
          "data": {
            "text/plain": [
              "GameID        0\n",
              "Hole1         0\n",
              "Hole2         0\n",
              "Hole3         0\n",
              "Hole4         0\n",
              "Hole5         0\n",
              "Hole6         0\n",
              "Hole7         0\n",
              "Hole8         0\n",
              "Hole9         0\n",
              "Hole10        0\n",
              "Hole11        0\n",
              "Hole12        0\n",
              "Hole13        0\n",
              "Hole14        0\n",
              "Hole15        0\n",
              "Hole16        0\n",
              "Hole17        0\n",
              "Hole18        0\n",
              "TotalScore    0\n",
              "dtype: int64"
            ]
          },
          "metadata": {},
          "execution_count": 11
        }
      ]
    },
    {
      "cell_type": "code",
      "source": [
        "## most frequent value?\n",
        "print(original_df[y_col].mode())\n",
        "print(original_df[y_col].mean())"
      ],
      "metadata": {
        "colab": {
          "base_uri": "https://localhost:8080/"
        },
        "id": "vljJ2IE1xzRW",
        "outputId": "fb65fccd-eef7-4840-d0cd-f1573e3a91f3"
      },
      "execution_count": 10,
      "outputs": [
        {
          "output_type": "stream",
          "name": "stdout",
          "text": [
            "0    83\n",
            "Name: TotalScore, dtype: int64\n",
            "83.0655\n"
          ]
        }
      ]
    },
    {
      "cell_type": "code",
      "source": [
        "## naïve prediction (baseline) can be original_df[y_col].mode(), original_df[y_col].mean()"
      ],
      "metadata": {
        "id": "4opXeclzzkqD"
      },
      "execution_count": null,
      "outputs": []
    },
    {
      "cell_type": "code",
      "source": [
        "## train test split\n",
        "## we apply the scaler\n",
        "def get_train_test(pDf=original_df, p_var_y=y_col, p_test_size=0.2, p_random_state=25):\n",
        "  dfX = pDf.drop(p_var_y, axis=1).values\n",
        "  dfY = pDf[p_var_y]\n",
        "\n",
        "  # Apply standardization to feature values\n",
        "  scaler = StandardScaler()\n",
        "  dfX_standardized = scaler.fit_transform(dfX)\n",
        "\n",
        "  X_train, X_test, y_train, y_test = train_test_split(dfX, dfY, test_size=p_test_size, random_state=p_random_state)\n",
        "  X_train, X_valid, y_train, y_valid = train_test_split(X_train, y_train, test_size=p_test_size, random_state=p_random_state)\n",
        "\n",
        "  return X_train, X_valid, X_test, y_train, y_valid, y_test\n"
      ],
      "metadata": {
        "id": "8DPZWAKFkqeb"
      },
      "execution_count": 11,
      "outputs": []
    },
    {
      "cell_type": "code",
      "source": [],
      "metadata": {
        "id": "3x_z5OH2vHdw"
      },
      "execution_count": null,
      "outputs": []
    },
    {
      "cell_type": "markdown",
      "source": [
        "########## Establishing a baseline #########"
      ],
      "metadata": {
        "id": "4Pk6Qjfq3Xim"
      }
    },
    {
      "cell_type": "code",
      "source": [
        "def analyze_dummy(p_df, p_X_train, p_X_valid, p_y_train ,p_y_valid):\n",
        "  baseline_reg = DummyRegressor()\n",
        "  baseline_reg.fit(p_X_train, p_y_train)\n",
        "  print(\"[score train]\", baseline_reg.score(p_X_train, p_y_train))\n",
        "  print(\"[score valid]\", baseline_reg.score(p_X_valid, p_y_valid))\n",
        "\n",
        "  y_pred = baseline_reg.predict(p_y_valid)\n",
        "\n",
        "  print('Root Mean Squared Error - [RMSE]:', round(np.sqrt(metrics.mean_squared_error(p_y_valid, y_pred)),3) )\n",
        "  print('Mean Squared Error - [MSE]:', round(metrics.mean_squared_error(p_y_valid, y_pred),3) )\n",
        "\n"
      ],
      "metadata": {
        "id": "-SuoLH0c3Dv4"
      },
      "execution_count": 12,
      "outputs": []
    },
    {
      "cell_type": "code",
      "source": [
        "## augmented_df\n",
        "X_train, X_valid, X_test, y_train, y_valid, y_test = get_train_test(augmented_df2)\n",
        "analyze_dummy(augmented_df2, X_train, X_valid, y_train, y_valid)"
      ],
      "metadata": {
        "colab": {
          "base_uri": "https://localhost:8080/"
        },
        "id": "0n3zcNFQ3DlL",
        "outputId": "6783d51b-da96-4d10-dab5-8ebcc604fdd7"
      },
      "execution_count": 15,
      "outputs": [
        {
          "output_type": "stream",
          "name": "stdout",
          "text": [
            "[score train] 0.0\n",
            "[score valid] -2.5220723929519906e-05\n",
            "Root Mean Squared Error - [RMSE]: 5.351\n",
            "Mean Squared Error - [MSE]: 28.635\n"
          ]
        }
      ]
    },
    {
      "cell_type": "code",
      "source": [
        "## original df\n",
        "X_train, X_valid, X_test, y_train, y_valid, y_test = get_train_test(original_df)\n",
        "analyze_dummy(original_df, X_train, X_valid, y_train, y_valid)"
      ],
      "metadata": {
        "colab": {
          "base_uri": "https://localhost:8080/"
        },
        "id": "dRPa4S_IONrD",
        "outputId": "731dcea3-7d85-4935-f6e3-288ae63a96c6"
      },
      "execution_count": 14,
      "outputs": [
        {
          "output_type": "stream",
          "name": "stdout",
          "text": [
            "[score train] 0.0\n",
            "[score valid] -0.000796875625000304\n",
            "Root Mean Squared Error - [RMSE]: 7.06\n",
            "Mean Squared Error - [MSE]: 49.844\n"
          ]
        }
      ]
    },
    {
      "cell_type": "markdown",
      "source": [
        "#############################\n",
        "\n",
        "Our model must perform better than\n",
        "\n",
        "Mean Squared Error - [MSE]: 28.635\n",
        "\n",
        "#############################\n"
      ],
      "metadata": {
        "id": "L2FaYWxU3er_"
      }
    },
    {
      "cell_type": "markdown",
      "source": [
        "####### Simple regression ######\n"
      ],
      "metadata": {
        "id": "CWpEL0BqVbtP"
      }
    },
    {
      "cell_type": "code",
      "source": [
        "from sklearn.linear_model import Ridge, RidgeCV\n",
        "from sklearn.linear_model import Lasso, LassoCV\n",
        "from sklearn.linear_model import ElasticNet, ElasticNetCV\n",
        "from sklearn.model_selection import cross_val_score"
      ],
      "metadata": {
        "id": "WfVhyDznWX0U"
      },
      "execution_count": null,
      "outputs": []
    },
    {
      "cell_type": "code",
      "source": [
        "### affiche les metriques\n",
        "def print_metrics(pY, pYpred, nbDecimal=3 ):\n",
        "    #print('Mean Absolute Error - [MAE]:', round(metrics.mean_absolute_error(pY, pYpred), nbDecimal) )\n",
        "    print('Mean Squared Error - [MSE]:', round(metrics.mean_squared_error(pY, pYpred),nbDecimal ) )\n",
        "    #print('Score - [accuracy]: ', round(pRegressor.score(pY, pYpred), nbDecimal))\n",
        "    print('Root Mean Squared Error - [RMSE]:', round(np.sqrt(metrics.mean_squared_error(pY, pYpred)),nbDecimal) )\n",
        "    #print('[Classification report]')\n",
        "    #print(classification_report(pYtest, pYpred, labels = donnee['ozone'].unique()))\n"
      ],
      "metadata": {
        "id": "htEGWYCbXicZ"
      },
      "execution_count": null,
      "outputs": []
    },
    {
      "cell_type": "code",
      "source": [
        "from sklearn.model_selection import LeaveOneOut\n",
        "def analyze_regression(p_X_train,\n",
        "                       p_X_test,\n",
        "                       p_y_train,\n",
        "                       p_y_test,\n",
        "                       pCv=4,\n",
        "                       pMaxIter=1000\n",
        "                       ):\n",
        "\n",
        "\n",
        "\n",
        "    print(\"-----[Linear Regression]-----\")\n",
        "    regr = linear_model.LinearRegression(fit_intercept=True)\n",
        "    regr.fit(p_X_train, p_y_train)\n",
        "\n",
        "\n",
        "\n",
        "    loo = LeaveOneOut()\n",
        "    #print(loo.get_n_splits(X))\n",
        "    #crossvalidation = KFold(n_splits=392, random_state=None, shuffle=False)\n",
        "\n",
        "    ##http://www.science.smith.edu/~jcrouser/SDS293/labs/lab7-py.html\n",
        "    scores_train = cross_val_score(regr, p_X_train, p_y_train, cv=loo, scoring=\"neg_mean_squared_error\")\n",
        "    mse_train = np.mean(np.abs(scores_train))\n",
        "    print(\"---[train]---\")\n",
        "    #print(\"[train] -   MSE: \" + str(mse_train) + \", STD: \" + str(np.std(scores_train)))\n",
        "    print(\"RMSE \", round(np.sqrt(mse_train),3) )\n",
        "    print(\"MSE \", round(mse_train,3))\n",
        "    #print(\"score \", round(np.std(scores_train),3) )\n",
        "\n",
        "\n",
        "    scores_test = cross_val_score(regr, p_X_test, p_y_test, cv=loo, scoring=\"neg_mean_squared_error\")\n",
        "    mse_test = np.mean(np.abs(scores_test))\n",
        "    print(\"---[test]---\")\n",
        "    #print(\"[test] -   MSE: \" + str(mse_test) + \", STD: \" + str(np.std(scores_test)))\n",
        "    print(\"RMSE \", round(np.sqrt(mse_test),5 ))\n",
        "    print(\"MSE \", round(mse_test,5))\n",
        "    #print(\"score \", round(np.std(scores_test),3) )\n",
        "\n",
        "\n",
        "    y_pred_train = regr.predict(p_X_train)\n",
        "    y_pred_test = regr.predict(p_X_test)\n",
        "\n",
        "    print(\"---[train]---\")\n",
        "    print_metrics(p_y_train, y_pred_train)\n",
        "\n",
        "    print(\"---[test]---\")\n",
        "    #print(\"[score]: \",  regr.score(X_test, y_test))\n",
        "    print_metrics(p_y_test, y_pred_test)\n",
        "\n"
      ],
      "metadata": {
        "id": "rwtEnEM_Y8JE"
      },
      "execution_count": null,
      "outputs": []
    },
    {
      "cell_type": "code",
      "source": [
        "## regression\n",
        "analyze_regression(p_X_train = X_train,\n",
        "                       p_X_test = X_valid,\n",
        "                       p_y_train = y_train,\n",
        "                       p_y_test = y_valid,\n",
        "                   pMaxIter=5)"
      ],
      "metadata": {
        "colab": {
          "base_uri": "https://localhost:8080/",
          "height": 425
        },
        "id": "V7mR-t9qaUPn",
        "outputId": "fe388c8b-d206-45ae-9d79-0be7c0c557f4"
      },
      "execution_count": null,
      "outputs": [
        {
          "output_type": "stream",
          "name": "stdout",
          "text": [
            "-----[Linear Regression]-----\n"
          ]
        },
        {
          "output_type": "error",
          "ename": "KeyboardInterrupt",
          "evalue": "ignored",
          "traceback": [
            "\u001b[0;31m---------------------------------------------------------------------------\u001b[0m",
            "\u001b[0;31mKeyboardInterrupt\u001b[0m                         Traceback (most recent call last)",
            "\u001b[0;32m<ipython-input-19-f5981fd6de30>\u001b[0m in \u001b[0;36m<cell line: 2>\u001b[0;34m()\u001b[0m\n\u001b[1;32m      1\u001b[0m \u001b[0;31m## regression\u001b[0m\u001b[0;34m\u001b[0m\u001b[0;34m\u001b[0m\u001b[0m\n\u001b[0;32m----> 2\u001b[0;31m analyze_regression(p_X_train = X_train,\n\u001b[0m\u001b[1;32m      3\u001b[0m                        \u001b[0mp_X_test\u001b[0m \u001b[0;34m=\u001b[0m \u001b[0mX_valid\u001b[0m\u001b[0;34m,\u001b[0m\u001b[0;34m\u001b[0m\u001b[0;34m\u001b[0m\u001b[0m\n\u001b[1;32m      4\u001b[0m                        \u001b[0mp_y_train\u001b[0m \u001b[0;34m=\u001b[0m \u001b[0my_train\u001b[0m\u001b[0;34m,\u001b[0m\u001b[0;34m\u001b[0m\u001b[0;34m\u001b[0m\u001b[0m\n\u001b[1;32m      5\u001b[0m                        \u001b[0mp_y_test\u001b[0m \u001b[0;34m=\u001b[0m \u001b[0my_valid\u001b[0m\u001b[0;34m,\u001b[0m\u001b[0;34m\u001b[0m\u001b[0;34m\u001b[0m\u001b[0m\n",
            "\u001b[0;32m<ipython-input-16-4ed86743a4f8>\u001b[0m in \u001b[0;36manalyze_regression\u001b[0;34m(p_X_train, p_X_test, p_y_train, p_y_test, pCv, pMaxIter)\u001b[0m\n\u001b[1;32m     21\u001b[0m \u001b[0;34m\u001b[0m\u001b[0m\n\u001b[1;32m     22\u001b[0m     \u001b[0;31m##http://www.science.smith.edu/~jcrouser/SDS293/labs/lab7-py.html\u001b[0m\u001b[0;34m\u001b[0m\u001b[0;34m\u001b[0m\u001b[0m\n\u001b[0;32m---> 23\u001b[0;31m     \u001b[0mscores_train\u001b[0m \u001b[0;34m=\u001b[0m \u001b[0mcross_val_score\u001b[0m\u001b[0;34m(\u001b[0m\u001b[0mregr\u001b[0m\u001b[0;34m,\u001b[0m \u001b[0mp_X_train\u001b[0m\u001b[0;34m,\u001b[0m \u001b[0mp_y_train\u001b[0m\u001b[0;34m,\u001b[0m \u001b[0mcv\u001b[0m\u001b[0;34m=\u001b[0m\u001b[0mloo\u001b[0m\u001b[0;34m,\u001b[0m \u001b[0mscoring\u001b[0m\u001b[0;34m=\u001b[0m\u001b[0;34m\"neg_mean_squared_error\"\u001b[0m\u001b[0;34m)\u001b[0m\u001b[0;34m\u001b[0m\u001b[0;34m\u001b[0m\u001b[0m\n\u001b[0m\u001b[1;32m     24\u001b[0m     \u001b[0mmse_train\u001b[0m \u001b[0;34m=\u001b[0m \u001b[0mnp\u001b[0m\u001b[0;34m.\u001b[0m\u001b[0mmean\u001b[0m\u001b[0;34m(\u001b[0m\u001b[0mnp\u001b[0m\u001b[0;34m.\u001b[0m\u001b[0mabs\u001b[0m\u001b[0;34m(\u001b[0m\u001b[0mscores_train\u001b[0m\u001b[0;34m)\u001b[0m\u001b[0;34m)\u001b[0m\u001b[0;34m\u001b[0m\u001b[0;34m\u001b[0m\u001b[0m\n\u001b[1;32m     25\u001b[0m     \u001b[0mprint\u001b[0m\u001b[0;34m(\u001b[0m\u001b[0;34m\"---[train]---\"\u001b[0m\u001b[0;34m)\u001b[0m\u001b[0;34m\u001b[0m\u001b[0;34m\u001b[0m\u001b[0m\n",
            "\u001b[0;32m/usr/local/lib/python3.10/dist-packages/sklearn/model_selection/_validation.py\u001b[0m in \u001b[0;36mcross_val_score\u001b[0;34m(estimator, X, y, groups, scoring, cv, n_jobs, verbose, fit_params, pre_dispatch, error_score)\u001b[0m\n\u001b[1;32m    513\u001b[0m     \u001b[0mscorer\u001b[0m \u001b[0;34m=\u001b[0m \u001b[0mcheck_scoring\u001b[0m\u001b[0;34m(\u001b[0m\u001b[0mestimator\u001b[0m\u001b[0;34m,\u001b[0m \u001b[0mscoring\u001b[0m\u001b[0;34m=\u001b[0m\u001b[0mscoring\u001b[0m\u001b[0;34m)\u001b[0m\u001b[0;34m\u001b[0m\u001b[0;34m\u001b[0m\u001b[0m\n\u001b[1;32m    514\u001b[0m \u001b[0;34m\u001b[0m\u001b[0m\n\u001b[0;32m--> 515\u001b[0;31m     cv_results = cross_validate(\n\u001b[0m\u001b[1;32m    516\u001b[0m         \u001b[0mestimator\u001b[0m\u001b[0;34m=\u001b[0m\u001b[0mestimator\u001b[0m\u001b[0;34m,\u001b[0m\u001b[0;34m\u001b[0m\u001b[0;34m\u001b[0m\u001b[0m\n\u001b[1;32m    517\u001b[0m         \u001b[0mX\u001b[0m\u001b[0;34m=\u001b[0m\u001b[0mX\u001b[0m\u001b[0;34m,\u001b[0m\u001b[0;34m\u001b[0m\u001b[0;34m\u001b[0m\u001b[0m\n",
            "\u001b[0;32m/usr/local/lib/python3.10/dist-packages/sklearn/model_selection/_validation.py\u001b[0m in \u001b[0;36mcross_validate\u001b[0;34m(estimator, X, y, groups, scoring, cv, n_jobs, verbose, fit_params, pre_dispatch, return_train_score, return_estimator, error_score)\u001b[0m\n\u001b[1;32m    264\u001b[0m     \u001b[0;31m# independent, and that it is pickle-able.\u001b[0m\u001b[0;34m\u001b[0m\u001b[0;34m\u001b[0m\u001b[0m\n\u001b[1;32m    265\u001b[0m     \u001b[0mparallel\u001b[0m \u001b[0;34m=\u001b[0m \u001b[0mParallel\u001b[0m\u001b[0;34m(\u001b[0m\u001b[0mn_jobs\u001b[0m\u001b[0;34m=\u001b[0m\u001b[0mn_jobs\u001b[0m\u001b[0;34m,\u001b[0m \u001b[0mverbose\u001b[0m\u001b[0;34m=\u001b[0m\u001b[0mverbose\u001b[0m\u001b[0;34m,\u001b[0m \u001b[0mpre_dispatch\u001b[0m\u001b[0;34m=\u001b[0m\u001b[0mpre_dispatch\u001b[0m\u001b[0;34m)\u001b[0m\u001b[0;34m\u001b[0m\u001b[0;34m\u001b[0m\u001b[0m\n\u001b[0;32m--> 266\u001b[0;31m     results = parallel(\n\u001b[0m\u001b[1;32m    267\u001b[0m         delayed(_fit_and_score)(\n\u001b[1;32m    268\u001b[0m             \u001b[0mclone\u001b[0m\u001b[0;34m(\u001b[0m\u001b[0mestimator\u001b[0m\u001b[0;34m)\u001b[0m\u001b[0;34m,\u001b[0m\u001b[0;34m\u001b[0m\u001b[0;34m\u001b[0m\u001b[0m\n",
            "\u001b[0;32m/usr/local/lib/python3.10/dist-packages/sklearn/utils/parallel.py\u001b[0m in \u001b[0;36m__call__\u001b[0;34m(self, iterable)\u001b[0m\n\u001b[1;32m     61\u001b[0m             \u001b[0;32mfor\u001b[0m \u001b[0mdelayed_func\u001b[0m\u001b[0;34m,\u001b[0m \u001b[0margs\u001b[0m\u001b[0;34m,\u001b[0m \u001b[0mkwargs\u001b[0m \u001b[0;32min\u001b[0m \u001b[0miterable\u001b[0m\u001b[0;34m\u001b[0m\u001b[0;34m\u001b[0m\u001b[0m\n\u001b[1;32m     62\u001b[0m         )\n\u001b[0;32m---> 63\u001b[0;31m         \u001b[0;32mreturn\u001b[0m \u001b[0msuper\u001b[0m\u001b[0;34m(\u001b[0m\u001b[0;34m)\u001b[0m\u001b[0;34m.\u001b[0m\u001b[0m__call__\u001b[0m\u001b[0;34m(\u001b[0m\u001b[0miterable_with_config\u001b[0m\u001b[0;34m)\u001b[0m\u001b[0;34m\u001b[0m\u001b[0;34m\u001b[0m\u001b[0m\n\u001b[0m\u001b[1;32m     64\u001b[0m \u001b[0;34m\u001b[0m\u001b[0m\n\u001b[1;32m     65\u001b[0m \u001b[0;34m\u001b[0m\u001b[0m\n",
            "\u001b[0;32m/usr/local/lib/python3.10/dist-packages/joblib/parallel.py\u001b[0m in \u001b[0;36m__call__\u001b[0;34m(self, iterable)\u001b[0m\n\u001b[1;32m   1861\u001b[0m             \u001b[0moutput\u001b[0m \u001b[0;34m=\u001b[0m \u001b[0mself\u001b[0m\u001b[0;34m.\u001b[0m\u001b[0m_get_sequential_output\u001b[0m\u001b[0;34m(\u001b[0m\u001b[0miterable\u001b[0m\u001b[0;34m)\u001b[0m\u001b[0;34m\u001b[0m\u001b[0;34m\u001b[0m\u001b[0m\n\u001b[1;32m   1862\u001b[0m             \u001b[0mnext\u001b[0m\u001b[0;34m(\u001b[0m\u001b[0moutput\u001b[0m\u001b[0;34m)\u001b[0m\u001b[0;34m\u001b[0m\u001b[0;34m\u001b[0m\u001b[0m\n\u001b[0;32m-> 1863\u001b[0;31m             \u001b[0;32mreturn\u001b[0m \u001b[0moutput\u001b[0m \u001b[0;32mif\u001b[0m \u001b[0mself\u001b[0m\u001b[0;34m.\u001b[0m\u001b[0mreturn_generator\u001b[0m \u001b[0;32melse\u001b[0m \u001b[0mlist\u001b[0m\u001b[0;34m(\u001b[0m\u001b[0moutput\u001b[0m\u001b[0;34m)\u001b[0m\u001b[0;34m\u001b[0m\u001b[0;34m\u001b[0m\u001b[0m\n\u001b[0m\u001b[1;32m   1864\u001b[0m \u001b[0;34m\u001b[0m\u001b[0m\n\u001b[1;32m   1865\u001b[0m         \u001b[0;31m# Let's create an ID that uniquely identifies the current call. If the\u001b[0m\u001b[0;34m\u001b[0m\u001b[0;34m\u001b[0m\u001b[0m\n",
            "\u001b[0;32m/usr/local/lib/python3.10/dist-packages/joblib/parallel.py\u001b[0m in \u001b[0;36m_get_sequential_output\u001b[0;34m(self, iterable)\u001b[0m\n\u001b[1;32m   1790\u001b[0m                 \u001b[0mself\u001b[0m\u001b[0;34m.\u001b[0m\u001b[0mn_dispatched_batches\u001b[0m \u001b[0;34m+=\u001b[0m \u001b[0;36m1\u001b[0m\u001b[0;34m\u001b[0m\u001b[0;34m\u001b[0m\u001b[0m\n\u001b[1;32m   1791\u001b[0m                 \u001b[0mself\u001b[0m\u001b[0;34m.\u001b[0m\u001b[0mn_dispatched_tasks\u001b[0m \u001b[0;34m+=\u001b[0m \u001b[0;36m1\u001b[0m\u001b[0;34m\u001b[0m\u001b[0;34m\u001b[0m\u001b[0m\n\u001b[0;32m-> 1792\u001b[0;31m                 \u001b[0mres\u001b[0m \u001b[0;34m=\u001b[0m \u001b[0mfunc\u001b[0m\u001b[0;34m(\u001b[0m\u001b[0;34m*\u001b[0m\u001b[0margs\u001b[0m\u001b[0;34m,\u001b[0m \u001b[0;34m**\u001b[0m\u001b[0mkwargs\u001b[0m\u001b[0;34m)\u001b[0m\u001b[0;34m\u001b[0m\u001b[0;34m\u001b[0m\u001b[0m\n\u001b[0m\u001b[1;32m   1793\u001b[0m                 \u001b[0mself\u001b[0m\u001b[0;34m.\u001b[0m\u001b[0mn_completed_tasks\u001b[0m \u001b[0;34m+=\u001b[0m \u001b[0;36m1\u001b[0m\u001b[0;34m\u001b[0m\u001b[0;34m\u001b[0m\u001b[0m\n\u001b[1;32m   1794\u001b[0m                 \u001b[0mself\u001b[0m\u001b[0;34m.\u001b[0m\u001b[0mprint_progress\u001b[0m\u001b[0;34m(\u001b[0m\u001b[0;34m)\u001b[0m\u001b[0;34m\u001b[0m\u001b[0;34m\u001b[0m\u001b[0m\n",
            "\u001b[0;32m/usr/local/lib/python3.10/dist-packages/sklearn/utils/parallel.py\u001b[0m in \u001b[0;36m__call__\u001b[0;34m(self, *args, **kwargs)\u001b[0m\n\u001b[1;32m    121\u001b[0m             \u001b[0mconfig\u001b[0m \u001b[0;34m=\u001b[0m \u001b[0;34m{\u001b[0m\u001b[0;34m}\u001b[0m\u001b[0;34m\u001b[0m\u001b[0;34m\u001b[0m\u001b[0m\n\u001b[1;32m    122\u001b[0m         \u001b[0;32mwith\u001b[0m \u001b[0mconfig_context\u001b[0m\u001b[0;34m(\u001b[0m\u001b[0;34m**\u001b[0m\u001b[0mconfig\u001b[0m\u001b[0;34m)\u001b[0m\u001b[0;34m:\u001b[0m\u001b[0;34m\u001b[0m\u001b[0;34m\u001b[0m\u001b[0m\n\u001b[0;32m--> 123\u001b[0;31m             \u001b[0;32mreturn\u001b[0m \u001b[0mself\u001b[0m\u001b[0;34m.\u001b[0m\u001b[0mfunction\u001b[0m\u001b[0;34m(\u001b[0m\u001b[0;34m*\u001b[0m\u001b[0margs\u001b[0m\u001b[0;34m,\u001b[0m \u001b[0;34m**\u001b[0m\u001b[0mkwargs\u001b[0m\u001b[0;34m)\u001b[0m\u001b[0;34m\u001b[0m\u001b[0;34m\u001b[0m\u001b[0m\n\u001b[0m",
            "\u001b[0;32m/usr/local/lib/python3.10/dist-packages/sklearn/model_selection/_validation.py\u001b[0m in \u001b[0;36m_fit_and_score\u001b[0;34m(estimator, X, y, scorer, train, test, verbose, parameters, fit_params, return_train_score, return_parameters, return_n_test_samples, return_times, return_estimator, split_progress, candidate_progress, error_score)\u001b[0m\n\u001b[1;32m    684\u001b[0m             \u001b[0mestimator\u001b[0m\u001b[0;34m.\u001b[0m\u001b[0mfit\u001b[0m\u001b[0;34m(\u001b[0m\u001b[0mX_train\u001b[0m\u001b[0;34m,\u001b[0m \u001b[0;34m**\u001b[0m\u001b[0mfit_params\u001b[0m\u001b[0;34m)\u001b[0m\u001b[0;34m\u001b[0m\u001b[0;34m\u001b[0m\u001b[0m\n\u001b[1;32m    685\u001b[0m         \u001b[0;32melse\u001b[0m\u001b[0;34m:\u001b[0m\u001b[0;34m\u001b[0m\u001b[0;34m\u001b[0m\u001b[0m\n\u001b[0;32m--> 686\u001b[0;31m             \u001b[0mestimator\u001b[0m\u001b[0;34m.\u001b[0m\u001b[0mfit\u001b[0m\u001b[0;34m(\u001b[0m\u001b[0mX_train\u001b[0m\u001b[0;34m,\u001b[0m \u001b[0my_train\u001b[0m\u001b[0;34m,\u001b[0m \u001b[0;34m**\u001b[0m\u001b[0mfit_params\u001b[0m\u001b[0;34m)\u001b[0m\u001b[0;34m\u001b[0m\u001b[0;34m\u001b[0m\u001b[0m\n\u001b[0m\u001b[1;32m    687\u001b[0m \u001b[0;34m\u001b[0m\u001b[0m\n\u001b[1;32m    688\u001b[0m     \u001b[0;32mexcept\u001b[0m \u001b[0mException\u001b[0m\u001b[0;34m:\u001b[0m\u001b[0;34m\u001b[0m\u001b[0;34m\u001b[0m\u001b[0m\n",
            "\u001b[0;32m/usr/local/lib/python3.10/dist-packages/sklearn/linear_model/_base.py\u001b[0m in \u001b[0;36mfit\u001b[0;34m(self, X, y, sample_weight)\u001b[0m\n\u001b[1;32m    697\u001b[0m                 \u001b[0mself\u001b[0m\u001b[0;34m.\u001b[0m\u001b[0mcoef_\u001b[0m \u001b[0;34m=\u001b[0m \u001b[0mnp\u001b[0m\u001b[0;34m.\u001b[0m\u001b[0mvstack\u001b[0m\u001b[0;34m(\u001b[0m\u001b[0;34m[\u001b[0m\u001b[0mout\u001b[0m\u001b[0;34m[\u001b[0m\u001b[0;36m0\u001b[0m\u001b[0;34m]\u001b[0m \u001b[0;32mfor\u001b[0m \u001b[0mout\u001b[0m \u001b[0;32min\u001b[0m \u001b[0mouts\u001b[0m\u001b[0;34m]\u001b[0m\u001b[0;34m)\u001b[0m\u001b[0;34m\u001b[0m\u001b[0;34m\u001b[0m\u001b[0m\n\u001b[1;32m    698\u001b[0m         \u001b[0;32melse\u001b[0m\u001b[0;34m:\u001b[0m\u001b[0;34m\u001b[0m\u001b[0;34m\u001b[0m\u001b[0m\n\u001b[0;32m--> 699\u001b[0;31m             \u001b[0mself\u001b[0m\u001b[0;34m.\u001b[0m\u001b[0mcoef_\u001b[0m\u001b[0;34m,\u001b[0m \u001b[0m_\u001b[0m\u001b[0;34m,\u001b[0m \u001b[0mself\u001b[0m\u001b[0;34m.\u001b[0m\u001b[0mrank_\u001b[0m\u001b[0;34m,\u001b[0m \u001b[0mself\u001b[0m\u001b[0;34m.\u001b[0m\u001b[0msingular_\u001b[0m \u001b[0;34m=\u001b[0m \u001b[0mlinalg\u001b[0m\u001b[0;34m.\u001b[0m\u001b[0mlstsq\u001b[0m\u001b[0;34m(\u001b[0m\u001b[0mX\u001b[0m\u001b[0;34m,\u001b[0m \u001b[0my\u001b[0m\u001b[0;34m)\u001b[0m\u001b[0;34m\u001b[0m\u001b[0;34m\u001b[0m\u001b[0m\n\u001b[0m\u001b[1;32m    700\u001b[0m             \u001b[0mself\u001b[0m\u001b[0;34m.\u001b[0m\u001b[0mcoef_\u001b[0m \u001b[0;34m=\u001b[0m \u001b[0mself\u001b[0m\u001b[0;34m.\u001b[0m\u001b[0mcoef_\u001b[0m\u001b[0;34m.\u001b[0m\u001b[0mT\u001b[0m\u001b[0;34m\u001b[0m\u001b[0;34m\u001b[0m\u001b[0m\n\u001b[1;32m    701\u001b[0m \u001b[0;34m\u001b[0m\u001b[0m\n",
            "\u001b[0;32m/usr/local/lib/python3.10/dist-packages/scipy/linalg/_basic.py\u001b[0m in \u001b[0;36mlstsq\u001b[0;34m(a, b, cond, overwrite_a, overwrite_b, check_finite, lapack_driver)\u001b[0m\n\u001b[1;32m   1211\u001b[0m             \u001b[0;32mif\u001b[0m \u001b[0mreal_data\u001b[0m\u001b[0;34m:\u001b[0m\u001b[0;34m\u001b[0m\u001b[0;34m\u001b[0m\u001b[0m\n\u001b[1;32m   1212\u001b[0m                 \u001b[0mlwork\u001b[0m\u001b[0;34m,\u001b[0m \u001b[0miwork\u001b[0m \u001b[0;34m=\u001b[0m \u001b[0m_compute_lwork\u001b[0m\u001b[0;34m(\u001b[0m\u001b[0mlapack_lwork\u001b[0m\u001b[0;34m,\u001b[0m \u001b[0mm\u001b[0m\u001b[0;34m,\u001b[0m \u001b[0mn\u001b[0m\u001b[0;34m,\u001b[0m \u001b[0mnrhs\u001b[0m\u001b[0;34m,\u001b[0m \u001b[0mcond\u001b[0m\u001b[0;34m)\u001b[0m\u001b[0;34m\u001b[0m\u001b[0;34m\u001b[0m\u001b[0m\n\u001b[0;32m-> 1213\u001b[0;31m                 x, s, rank, info = lapack_func(a1, b1, lwork,\n\u001b[0m\u001b[1;32m   1214\u001b[0m                                                iwork, cond, False, False)\n\u001b[1;32m   1215\u001b[0m             \u001b[0;32melse\u001b[0m\u001b[0;34m:\u001b[0m  \u001b[0;31m# complex data\u001b[0m\u001b[0;34m\u001b[0m\u001b[0;34m\u001b[0m\u001b[0m\n",
            "\u001b[0;31mKeyboardInterrupt\u001b[0m: "
          ]
        }
      ]
    },
    {
      "cell_type": "code",
      "source": [
        "### elasticnet, ridge, lasso\n",
        "def analyze_regularization(\n",
        "                    pAlphas\n",
        "                    , pRegressorName\n",
        "                    , pRegressorCVName\n",
        "                    , p_X_train\n",
        "                    , p_X_test\n",
        "                    , p_y_train\n",
        "                    , p_y_test\n",
        "                    , pCv=5\n",
        "                    , pMaxIter=5\n",
        "                    ):\n",
        "\n",
        "\n",
        "\n",
        "    print(\"----[\"+pRegressorName+\"]----\")\n",
        "    regr = globals()[pRegressorCVName](alphas=pAlphas, cv=pCv).fit(p_X_train, p_y_train)\n",
        "    #regr = linear_model.ElasticNetCV(alphas=pAlphas, cv=pCv).fit(X_train, y_train)\n",
        "\n",
        "    print(\"[alpha]: \", regr.alpha_)\n",
        "\n",
        "    modele_final = globals()[pRegressorName](regr.alpha_, max_iter=pMaxIter).fit(p_X_train, p_y_train)\n",
        "\n",
        "    y_pred_train = regr.predict(p_X_train)\n",
        "    y_pred_test = regr.predict(p_X_test)\n",
        "\n",
        "\n",
        "    print(\"---[train]---\")\n",
        "    print_metrics(p_y_train, y_pred_train)\n",
        "\n",
        "    print(\"---[test]---\")\n",
        "    #print(\"[score]: \",  regr.score(X_test, y_test))\n",
        "    print_metrics(p_y_test, y_pred_test)"
      ],
      "metadata": {
        "id": "_EV1Wx_fVay0"
      },
      "execution_count": null,
      "outputs": []
    },
    {
      "cell_type": "code",
      "source": [
        "type(original_df)"
      ],
      "metadata": {
        "colab": {
          "base_uri": "https://localhost:8080/"
        },
        "id": "AiouGc-BYbFL",
        "outputId": "1170c66a-d056-49eb-b1d6-9ff2c26ee7f5"
      },
      "execution_count": null,
      "outputs": [
        {
          "output_type": "execute_result",
          "data": {
            "text/plain": [
              "pandas.core.frame.DataFrame"
            ]
          },
          "metadata": {},
          "execution_count": 155
        }
      ]
    },
    {
      "cell_type": "code",
      "source": [
        "### Ridge avec var exponnentielles\n",
        "lstAlpha = [0.5, 0.8, 1, 1.2, 1.3]\n",
        "#analyze_ridge(powerDfX, dfY, lstAlpha)\n",
        "#lstAlpha = [  7, 8, 8.4, 8.5, 8.6,  10, 10.5]\n",
        "analyze_regularization( lstAlpha\n",
        "                       , pRegressorName = \"Ridge\"\n",
        "                       , pRegressorCVName = \"RidgeCV\"\n",
        "                       , p_X_train = X_train\n",
        "                       , p_X_test = X_valid\n",
        "                       , p_y_train = y_train\n",
        "                       , p_y_test = y_valid\n",
        "                      )"
      ],
      "metadata": {
        "colab": {
          "base_uri": "https://localhost:8080/"
        },
        "id": "mXkKqSTaWvAZ",
        "outputId": "65a9bcee-0038-4d08-fed1-237c0a1e5896"
      },
      "execution_count": null,
      "outputs": [
        {
          "output_type": "stream",
          "name": "stdout",
          "text": [
            "----[Ridge]----\n",
            "[alpha]:  0.5\n",
            "---[train]---\n",
            "Mean Squared Error - [MSE]: 0.0\n",
            "Root Mean Squared Error - [RMSE]: 0.001\n",
            "---[test]---\n",
            "Mean Squared Error - [MSE]: 0.0\n",
            "Root Mean Squared Error - [RMSE]: 0.001\n"
          ]
        }
      ]
    },
    {
      "cell_type": "markdown",
      "source": [
        "###################\n"
      ],
      "metadata": {
        "id": "iHm4CzgPVdAX"
      }
    },
    {
      "cell_type": "code",
      "source": [
        "## create model\n",
        "def create_model (p_learning_rate, p_dropout_rate, pDfX, p_nb_neuron_input=128, p_activation='relu', p_batch_norm=False):\n",
        "  model = None\n",
        "  model = Sequential()\n",
        "  model.add(Dense(p_nb_neuron_input, input_dim=pDfX.shape[1], activation=p_activation))\n",
        "  model.add(Dropout(p_dropout_rate))\n",
        "  if (p_batch_norm):\n",
        "    model.add(keras.layers.BatchNormalization(momentum=0.9, epsilon=1e-5))\n",
        "\n",
        "  model.add(Dense(int(p_nb_neuron_input/2), activation=p_activation))\n",
        "  model.add(Dropout(p_dropout_rate))\n",
        "  if (p_batch_norm):\n",
        "    model.add(keras.layers.BatchNormalization(momentum=0.9, epsilon=1e-5))\n",
        "\n",
        "  model.add(Dense(int(p_nb_neuron_input/4), activation=p_activation))\n",
        "  model.add(Dropout(p_dropout_rate))\n",
        "  if (p_batch_norm):\n",
        "    model.add(keras.layers.BatchNormalization(momentum=0.9, epsilon=1e-5))\n",
        "\n",
        "  model.add(Dense(1))\n",
        "\n",
        "  adam = Adam(lr = p_learning_rate)\n",
        "\n",
        "  #model.compile( loss='mean_squared_error', optimizer=adam, metrics=['mae'])\n",
        "  model.compile( loss='mean_squared_error', optimizer=adam, metrics=['mse'])\n",
        "  return model\n"
      ],
      "metadata": {
        "id": "b3lH-Pj-mRjw"
      },
      "execution_count": 16,
      "outputs": []
    },
    {
      "cell_type": "code",
      "source": [
        "## build model (book HandsOn -on ML, Aurélien Géron)\n",
        "def build_model (p_input_shape,\n",
        "                 p_n_hidden=1,\n",
        "                 p_n_neurons=30,\n",
        "                 p_learning_rate=3e-3,\n",
        "                 p_activation='relu',\n",
        "                 p_debug=True,\n",
        "                 p_dropout_rate=0.4,\n",
        "                 p_batch_norm=False):\n",
        "\n",
        "  if p_debug:\n",
        "    print(\"\\r\\n------[build_model]------\")\n",
        "    print(\"[p_input_shape]: \", p_input_shape )\n",
        "    print(\"[p_n_hidden]: \", p_n_hidden )\n",
        "    print(\"[p_n_neurons]: \", p_n_neurons )\n",
        "    print(\"[p_learning_rate]: \", p_learning_rate )\n",
        "\n",
        "\n",
        "  model = Sequential()\n",
        "  model.add(keras.layers.InputLayer(input_shape=p_input_shape))\n",
        "  for layer in range(p_n_hidden):\n",
        "    model.add(keras.layers.Dense(p_n_neurons, activation=p_activation, kernel_regularizer=l2(0.01)))\n",
        "    model.add(Dropout(p_dropout_rate))\n",
        "\n",
        "    if (p_batch_norm):\n",
        "      model.add(keras.layers.BatchNormalization(momentum=0.9, epsilon=1e-5))\n",
        "\n",
        "    if p_n_hidden >1:\n",
        "      print('---build_model, for layer in range(p_n_hidden)---')\n",
        "      print('[p_n_neurons]: ', p_n_neurons)\n",
        "      p_n_neurons =  int(math.sqrt(p_n_neurons))\n",
        "\n",
        "    #keras.layers.BatchNormalization()\n",
        "  model.add(Dropout(p_dropout_rate))\n",
        "  model.add(keras.layers.Dense(1))\n",
        "  optimizer = keras.optimizers.SGD(lr=p_learning_rate)\n",
        "\n",
        "  #arr_metrics = ['mae', 'accuracy']\n",
        "  #arr_metrics = ['mae']\n",
        "  arr_metrics = ['mse']\n",
        "\n",
        "  model.compile(loss='mse', optimizer = optimizer, metrics=arr_metrics)\n",
        "  return model"
      ],
      "metadata": {
        "id": "a6LHGZSf2Ln4"
      },
      "execution_count": 17,
      "outputs": []
    },
    {
      "cell_type": "code",
      "source": [
        "## augmented_df\n",
        "## getting train, test sets\n",
        "X_train, X_valid, X_test, y_train, y_valid,  y_test = get_train_test(augmented_df2)"
      ],
      "metadata": {
        "id": "GbpVj-dmmdZI"
      },
      "execution_count": 18,
      "outputs": []
    },
    {
      "cell_type": "code",
      "source": [
        "## original_df\n",
        "## getting train, test sets\n",
        "X_train, X_valid, X_test, y_train, y_valid,  y_test = get_train_test(original_df)"
      ],
      "metadata": {
        "id": "pw5LMH4nOm8E"
      },
      "execution_count": null,
      "outputs": []
    },
    {
      "cell_type": "code",
      "source": [
        "print(np.sum(np.isnan(X_train)))\n",
        "print(np.sum(np.isnan(X_valid)))\n",
        "print(np.sum(np.isnan(X_test)))\n",
        "print(np.sum(np.isnan(y_train)))\n",
        "print(np.sum(np.isnan(y_valid)))\n",
        "print(np.sum(np.isnan(y_test)))"
      ],
      "metadata": {
        "colab": {
          "base_uri": "https://localhost:8080/"
        },
        "id": "4Dy8krRvO7SG",
        "outputId": "91cdca74-608b-4b4f-e811-8ed6c432c7d4"
      },
      "execution_count": null,
      "outputs": [
        {
          "output_type": "stream",
          "name": "stdout",
          "text": [
            "0\n",
            "0\n",
            "0\n",
            "0\n",
            "0\n",
            "0\n"
          ]
        }
      ]
    },
    {
      "cell_type": "code",
      "source": [
        "X_train.shape"
      ],
      "metadata": {
        "colab": {
          "base_uri": "https://localhost:8080/"
        },
        "id": "pQo5YyNR-92E",
        "outputId": "855ce724-e7ae-4dd6-a3c0-53aab1f8f6c2"
      },
      "execution_count": 19,
      "outputs": [
        {
          "output_type": "execute_result",
          "data": {
            "text/plain": [
              "(437759, 43)"
            ]
          },
          "metadata": {},
          "execution_count": 19
        }
      ]
    },
    {
      "cell_type": "code",
      "source": [
        "def plot_graph_2(p_model_history, p_var_valid, p_var_test, p_arr_legend):\n",
        "    # Plot MAE\n",
        "    plt.plot(p_model_history[p_var_valid])\n",
        "    plt.plot(p_model_history[p_var_test])\n",
        "\n",
        "    ## Plot loss\n",
        "    #plt.plot(p_model_history['loss'])\n",
        "    #plt.plot(p_model_history['val_loss'])\n",
        "\n",
        "    ## Add labels and legends for MAE and loss\n",
        "    #plt.legend(['train MAE', 'test MAE', 'train loss', 'test loss'], loc='upper right')\n",
        "    plt.legend(p_arr_legend, loc='upper right')\n",
        "    plt.title('Model Metrics')\n",
        "    plt.ylabel('Metrics')\n",
        "    plt.xlabel('Epoch')\n",
        "    plt.show()\n",
        "\n",
        "\n",
        "\n",
        "\n"
      ],
      "metadata": {
        "id": "9ohTjvb85boS"
      },
      "execution_count": 20,
      "outputs": []
    },
    {
      "cell_type": "code",
      "source": [
        "def do_analysis(pModel, pXTrain, pYTrain, pXTest, pYTest,\n",
        "                p_dropout_rate =0.3, p_learning_rate=0.01, p_epochs =30, p_batch_size=10,\n",
        "                p_validation_split=0.2, p_verbose=True, p_plot_graph=1):\n",
        "\n",
        "  ## we fit with train\n",
        "  model_history = pModel.fit(pXTrain, pYTrain, batch_size=p_batch_size, epochs=p_epochs, validation_split = p_validation_split, verbose=1)\n",
        "\n",
        "  ## we evaluate model's accuracy (use TEST vars, NOT TRAIN)\n",
        "  score = pModel.evaluate(pXTest, pYTest, verbose=p_verbose)\n",
        "\n",
        "  print(\"[Loss]: \", score[0])\n",
        "  print(\"[MSE]: \", score[1])\n",
        "\n",
        "\n",
        "\n",
        "  if(p_plot_graph):\n",
        "    #plot_graph(model_history.history)\n",
        "    #plot_graph_2(model_history.history, 'mae', 'val_mae', ['train MAE', 'test MAE'])\n",
        "    plot_graph_2(model_history.history, 'mse', 'val_mse', ['train MSE', 'test MSE'])\n",
        "    plot_graph_2(model_history.history, 'loss', 'val_loss', ['train LOSS', 'test LOSS'])\n"
      ],
      "metadata": {
        "id": "5w0Nddg9p0Tf"
      },
      "execution_count": 22,
      "outputs": []
    },
    {
      "cell_type": "code",
      "source": [
        "## Modele valuation\n",
        "model = create_model (0.001, 0.3, X_train, p_batch_norm=False)\n",
        "do_analysis(model, X_train, y_train, X_test\n",
        "            , y_test, p_learning_rate =0.0001\n",
        "            , p_epochs=20, p_verbose=0)"
      ],
      "metadata": {
        "colab": {
          "base_uri": "https://localhost:8080/",
          "height": 1000
        },
        "id": "fajV9jbsrp0A",
        "outputId": "d655a4a0-57f8-4fe8-88c9-4d88a1f07f06"
      },
      "execution_count": 23,
      "outputs": [
        {
          "output_type": "stream",
          "name": "stderr",
          "text": [
            "WARNING:absl:`lr` is deprecated in Keras optimizer, please use `learning_rate` or use the legacy optimizer, e.g.,tf.keras.optimizers.legacy.Adam.\n"
          ]
        },
        {
          "output_type": "stream",
          "name": "stdout",
          "text": [
            "Epoch 1/2\n",
            "35021/35021 [==============================] - 151s 4ms/step - loss: 368.2033 - mse: 368.2033 - val_loss: 431.3835 - val_mse: 431.3835\n",
            "Epoch 2/2\n",
            "35021/35021 [==============================] - 147s 4ms/step - loss: 129.3812 - mse: 129.3812 - val_loss: 24.5806 - val_mse: 24.5806\n",
            "[Loss]:  24.651432037353516\n",
            "[MSE]:  24.651432037353516\n"
          ]
        },
        {
          "output_type": "display_data",
          "data": {
            "text/plain": [
              "<Figure size 640x480 with 1 Axes>"
            ],
            "image/png": "[encoded data removed]"
          },
          "metadata": {}
        },
        {
          "output_type": "display_data",
          "data": {
            "text/plain": [
              "<Figure size 640x480 with 1 Axes>"
            ],
            "image/png": "[encoded data removed]"
          },
          "metadata": {}
        }
      ]
    },
    {
      "cell_type": "code",
      "source": [
        "## Modele valuation\n",
        "model = create_model (0.001, 0.3, X_train, p_batch_norm=True)\n",
        "do_analysis(model, X_train, y_train, X_test\n",
        "            , y_test, p_learning_rate =0.0001\n",
        "            , p_epochs=15, p_verbose=0)"
      ],
      "metadata": {
        "colab": {
          "base_uri": "https://localhost:8080/",
          "height": 1000
        },
        "id": "Xh_Ppbbi5eOc",
        "outputId": "a4c7a855-a38a-4bbe-b7da-fffbb71bf72f"
      },
      "execution_count": 36,
      "outputs": [
        {
          "output_type": "stream",
          "name": "stderr",
          "text": [
            "WARNING:absl:`lr` is deprecated in Keras optimizer, please use `learning_rate` or use the legacy optimizer, e.g.,tf.keras.optimizers.legacy.Adam.\n"
          ]
        },
        {
          "output_type": "stream",
          "name": "stdout",
          "text": [
            "Epoch 1/15\n",
            "35021/35021 [==============================] - 119s 3ms/step - loss: 143.3099 - mse: 143.3099 - val_loss: 1740.1941 - val_mse: 1740.1941\n",
            "Epoch 2/15\n",
            "35021/35021 [==============================] - 119s 3ms/step - loss: 28.5303 - mse: 28.5303 - val_loss: 1770.2959 - val_mse: 1770.2959\n",
            "Epoch 3/15\n",
            "35021/35021 [==============================] - 110s 3ms/step - loss: 28.5167 - mse: 28.5167 - val_loss: 37654752.0000 - val_mse: 37654752.0000\n",
            "Epoch 4/15\n",
            "35021/35021 [==============================] - 122s 3ms/step - loss: 28.5488 - mse: 28.5488 - val_loss: 121648640425984.0000 - val_mse: 121648640425984.0000\n",
            "Epoch 5/15\n",
            "35021/35021 [==============================] - 114s 3ms/step - loss: 28.6671 - mse: 28.6671 - val_loss: 2325089404059648.0000 - val_mse: 2325089404059648.0000\n",
            "Epoch 6/15\n",
            "35021/35021 [==============================] - 111s 3ms/step - loss: 28.3101 - mse: 28.3101 - val_loss: 28.2739 - val_mse: 28.2739\n",
            "Epoch 7/15\n",
            "35021/35021 [==============================] - 119s 3ms/step - loss: 28.4082 - mse: 28.4082 - val_loss: 25333209088.0000 - val_mse: 25333209088.0000\n",
            "Epoch 8/15\n",
            "35021/35021 [==============================] - 110s 3ms/step - loss: 28.5165 - mse: 28.5165 - val_loss: 15998281728.0000 - val_mse: 15998281728.0000\n",
            "Epoch 9/15\n",
            "35021/35021 [==============================] - 110s 3ms/step - loss: 28.4760 - mse: 28.4760 - val_loss: 520157659136.0000 - val_mse: 520157659136.0000\n",
            "Epoch 10/15\n",
            "35021/35021 [==============================] - 122s 3ms/step - loss: 28.2823 - mse: 28.2823 - val_loss: 1239696801792.0000 - val_mse: 1239696801792.0000\n",
            "Epoch 11/15\n",
            "35021/35021 [==============================] - 134s 4ms/step - loss: 28.7436 - mse: 28.7436 - val_loss: 16184134074368.0000 - val_mse: 16184134074368.0000\n",
            "Epoch 12/15\n",
            "35021/35021 [==============================] - 172s 5ms/step - loss: 28.1592 - mse: 28.1592 - val_loss: 3278619541504.0000 - val_mse: 3278619541504.0000\n",
            "Epoch 13/15\n",
            "35021/35021 [==============================] - 174s 5ms/step - loss: 28.4124 - mse: 28.4124 - val_loss: 3820496640.0000 - val_mse: 3820496128.0000\n",
            "Epoch 14/15\n",
            "35021/35021 [==============================] - 175s 5ms/step - loss: 28.2393 - mse: 28.2393 - val_loss: 13434879966445568.0000 - val_mse: 13434879966445568.0000\n",
            "Epoch 15/15\n",
            "35021/35021 [==============================] - 159s 5ms/step - loss: 28.6901 - mse: 28.6901 - val_loss: 1561992632467456.0000 - val_mse: 1561992766685184.0000\n",
            "[Loss]:  1120133711921152.0\n",
            "[MSE]:  1120133711921152.0\n"
          ]
        },
        {
          "output_type": "display_data",
          "data": {
            "text/plain": [
              "<Figure size 640x480 with 1 Axes>"
            ],
            "image/png": "[encoded data removed]"
          },
          "metadata": {}
        },
        {
          "output_type": "display_data",
          "data": {
            "text/plain": [
              "<Figure size 640x480 with 1 Axes>"
            ],
            "image/png": "[encoded data removed]"
          },
          "metadata": {}
        }
      ]
    },
    {
      "cell_type": "code",
      "source": [
        ""
      ],
      "metadata": {
        "id": "890a6AtCEv4h"
      },
      "execution_count": null,
      "outputs": []
    },
    {
      "cell_type": "code",
      "source": [
        "# Split your data and define input_shape\n",
        "input_shape = X_train.shape[1]  # Number of features\n",
        "\n",
        "# Create the KerasRegressor with your build_model function\n",
        "keras_reg = KerasRegressor(build_fn=build_model\n",
        "                           , p_input_shape=input_shape\n",
        "                           , p_n_hidden=3\n",
        "                           , p_n_neurons=input_shape*2\n",
        "                           , p_learning_rate=3e-3\n",
        "                           , p_activation='relu'\n",
        "                           , p_dropout_rate=0.5\n",
        "                           , p_batch_norm=True)\n",
        "\n",
        "keras_reg.fit( X_train, y_train, epochs = 3,\n",
        "              validation_data=(X_valid, y_valid),\n",
        "              callbacks=[keras.callbacks.EarlyStopping(patience=3)])\n",
        "\n",
        "msa_test = keras_reg.score(X_test, y_test)\n",
        "y_pred = keras_reg.predict(X_test)\n",
        "\n",
        "# Calculate Mean Squared Error (MSE)\n",
        "print('y_test: ', y_test.isna().sum())\n",
        "dfYPred = pd.DataFrame(y_pred)\n",
        "print('y_pred: ', dfYPred.isna().sum())\n",
        "mse = mean_squared_error(y_test, y_pred)\n",
        "mse_test = -msa_test\n",
        "\n",
        "# Calculate R-squared (Coefficient of Determination)\n",
        "r2 = r2_score(y_test, y_pred)\n",
        "\n",
        "print(\"[MSE] Mean Squared Error:\", mse)\n",
        "print(\"[MSE test] Mean Squared Error:\", mse_test)\n",
        "print(\"R-squared:\", r2)"
      ],
      "metadata": {
        "id": "jyItKGvWsnHo",
        "colab": {
          "base_uri": "https://localhost:8080/"
        },
        "outputId": "e130bf4f-e3e4-4506-a161-c25e015fdbb8"
      },
      "execution_count": 24,
      "outputs": [
        {
          "output_type": "stream",
          "name": "stderr",
          "text": [
            "<ipython-input-24-829a9e6e3871>:5: DeprecationWarning: KerasRegressor is deprecated, use Sci-Keras (https://github.com/adriangb/scikeras) instead. See https://www.adriangb.com/scikeras/stable/migration.html for help migrating.\n",
            "  keras_reg = KerasRegressor(build_fn=build_model\n",
            "/usr/local/lib/python3.10/dist-packages/keras/optimizers/legacy/gradient_descent.py:114: UserWarning: The `lr` argument is deprecated, use `learning_rate` instead.\n",
            "  super().__init__(name, **kwargs)\n"
          ]
        },
        {
          "output_type": "stream",
          "name": "stdout",
          "text": [
            "\r\n",
            "------[build_model]------\n",
            "[p_input_shape]:  43\n",
            "[p_n_hidden]:  3\n",
            "[p_n_neurons]:  86\n",
            "[p_learning_rate]:  0.003\n",
            "---build_model, for layer in range(p_n_hidden)---\n",
            "[p_n_neurons]:  86\n",
            "---build_model, for layer in range(p_n_hidden)---\n",
            "[p_n_neurons]:  9\n",
            "---build_model, for layer in range(p_n_hidden)---\n",
            "[p_n_neurons]:  3\n",
            "Epoch 1/3\n",
            "13680/13680 [==============================] - 76s 5ms/step - loss: 71.7945 - mse: 71.1726 - val_loss: 28.8952 - val_mse: 28.6489\n",
            "Epoch 2/3\n",
            "13680/13680 [==============================] - 77s 6ms/step - loss: 28.9008 - mse: 28.7798 - val_loss: 28.6909 - val_mse: 28.6432\n",
            "Epoch 3/3\n",
            "13680/13680 [==============================] - 69s 5ms/step - loss: 28.7849 - mse: 28.7613 - val_loss: 28.6468 - val_mse: 28.6372\n",
            "4275/4275 [==============================] - 10s 2ms/step - loss: 28.9181 - mse: 28.9086\n",
            "4275/4275 [==============================] - 8s 2ms/step\n",
            "y_test:  0\n",
            "y_pred:  0    0\n",
            "dtype: int64\n",
            "[MSE] Mean Squared Error: 28.90862598479579\n",
            "[MSE test] Mean Squared Error: 28.91814422607422\n",
            "R-squared: -1.4913238097102877e-05\n"
          ]
        }
      ]
    },
    {
      "cell_type": "code",
      "source": [
        "input_shape"
      ],
      "metadata": {
        "colab": {
          "base_uri": "https://localhost:8080/"
        },
        "id": "OMX2k9gpLT30",
        "outputId": "6025c13e-707a-4be4-c2a8-d8150f0871bd"
      },
      "execution_count": 40,
      "outputs": [
        {
          "output_type": "execute_result",
          "data": {
            "text/plain": [
              "43"
            ]
          },
          "metadata": {},
          "execution_count": 40
        }
      ]
    },
    {
      "cell_type": "code",
      "source": [
        "# Create the KerasRegressor with your build_model function\n",
        "keras_reg = KerasRegressor(build_fn=build_model\n",
        "                           , p_input_shape=input_shape\n",
        "                           , p_n_hidden=3\n",
        "                           , p_n_neurons=input_shape\n",
        "                           , p_learning_rate=3e-3\n",
        "                           , p_activation='relu'\n",
        "                           , p_dropout_rate=0.35\n",
        "                           , p_batch_norm=False)\n",
        "\n",
        "keras_reg.fit( X_train, y_train, epochs = 3,\n",
        "              validation_data=(X_valid, y_valid),\n",
        "              callbacks=[keras.callbacks.EarlyStopping(patience=3)])\n",
        "\n",
        "msa_test = keras_reg.score(X_test, y_test)\n",
        "y_pred = keras_reg.predict(X_test)\n",
        "\n",
        "# Calculate Mean Squared Error (MSE)\n",
        "print('y_test: ', y_test.isna().sum())\n",
        "dfYPred = pd.DataFrame(y_pred)\n",
        "print('y_pred: ', dfYPred.isna().sum())\n",
        "mse = mean_squared_error(y_test, y_pred)\n",
        "mse_test = -msa_test\n",
        "\n",
        "# Calculate R-squared (Coefficient of Determination)\n",
        "r2 = r2_score(y_test, y_pred)\n",
        "\n",
        "print(\"[MSE] Mean Squared Error:\", mse)\n",
        "print(\"[MSE test] Mean Squared Error:\", mse_test)\n",
        "print(\"R-squared:\", r2)"
      ],
      "metadata": {
        "colab": {
          "base_uri": "https://localhost:8080/"
        },
        "id": "h8XV_dtIFDOf",
        "outputId": "d7e4f8b4-c740-4426-b4c7-3787cfb50cef"
      },
      "execution_count": 52,
      "outputs": [
        {
          "output_type": "stream",
          "name": "stderr",
          "text": [
            "<ipython-input-52-5d469d88fad6>:2: DeprecationWarning: KerasRegressor is deprecated, use Sci-Keras (https://github.com/adriangb/scikeras) instead. See https://www.adriangb.com/scikeras/stable/migration.html for help migrating.\n",
            "  keras_reg = KerasRegressor(build_fn=build_model\n",
            "/usr/local/lib/python3.10/dist-packages/keras/optimizers/legacy/gradient_descent.py:114: UserWarning: The `lr` argument is deprecated, use `learning_rate` instead.\n",
            "  super().__init__(name, **kwargs)\n"
          ]
        },
        {
          "output_type": "stream",
          "name": "stdout",
          "text": [
            "\r\n",
            "------[build_model]------\n",
            "[p_input_shape]:  43\n",
            "[p_n_hidden]:  3\n",
            "[p_n_neurons]:  43\n",
            "[p_learning_rate]:  0.003\n",
            "---build_model, for layer in range(p_n_hidden)---\n",
            "[p_n_neurons]:  43\n",
            "---build_model, for layer in range(p_n_hidden)---\n",
            "[p_n_neurons]:  6\n",
            "---build_model, for layer in range(p_n_hidden)---\n",
            "[p_n_neurons]:  2\n",
            "Epoch 1/3\n",
            "13680/13680 [==============================] - 122s 9ms/step - loss: 109325.6094 - mse: 79.0159 - val_loss: 43105.9805 - val_mse: 28.6341\n",
            "Epoch 2/3\n",
            "13680/13680 [==============================] - 31s 2ms/step - loss: 21188.6914 - mse: 28.7513 - val_loss: 8370.9932 - val_mse: 28.6343\n",
            "Epoch 3/3\n",
            "13680/13680 [==============================] - 33s 2ms/step - loss: 4126.5815 - mse: 28.7513 - val_loss: 1644.2316 - val_mse: 28.6442\n",
            "4275/4275 [==============================] - 6s 2ms/step - loss: 1644.4965 - mse: 28.9117\n",
            "4275/4275 [==============================] - 6s 1ms/step\n",
            "y_test:  0\n",
            "y_pred:  0    0\n",
            "dtype: int64\n",
            "[MSE] Mean Squared Error: 28.911703699752906\n",
            "[MSE] Mean Squared Error: 1644.4964599609375\n",
            "R-squared: -0.00012137837613002134\n"
          ]
        }
      ]
    },
    {
      "cell_type": "code",
      "source": [
        "X_train.shape"
      ],
      "metadata": {
        "colab": {
          "base_uri": "https://localhost:8080/"
        },
        "id": "1w0nU5qka6ya",
        "outputId": "938563a4-8e3f-47b5-c93e-9b3217be8c02"
      },
      "execution_count": null,
      "outputs": [
        {
          "output_type": "execute_result",
          "data": {
            "text/plain": [
              "(437759, 43)"
            ]
          },
          "metadata": {},
          "execution_count": 42
        }
      ]
    },
    {
      "cell_type": "code",
      "source": [
        "# Define the checkpoint callback\n",
        "checkpoint_cb = ModelCheckpoint(filepath=\"best_model.h5\", save_best_only=True)\n",
        "\n",
        "# Other callbacks you might have (e.g., EarlyStopping)\n",
        "early_stopping_cb = keras.callbacks.EarlyStopping(patience=3)\n",
        "\n",
        "param_distribs = {\n",
        "    \"p_n_hidden\": [2,3,4,5],\n",
        "    \"p_n_neurons\": np.arange(X_train.shape[1], X_train.shape[1]*2),\n",
        "    \"p_learning_rate\" : reciprocal(1e-4, 1e-2)\n",
        "}\n",
        "\n",
        "rnd_search_cv = RandomizedSearchCV(keras_reg, param_distribs, n_iter=5\n",
        "                                   , cv=2\n",
        "                                   , scoring='neg_mean_squared_error')\n",
        "\n",
        "rnd_search_cv.fit(X_train, y_train, epochs=2,\n",
        "                  validation_data=(X_valid, y_valid),\n",
        "                  callbacks=[checkpoint_cb, early_stopping_cb])\n",
        "\n",
        "# Access the best model and print its summary\n",
        "best_model = rnd_search_cv.best_estimator_.model\n",
        "print('================================')\n",
        "print('-- Best Model Summary --')\n",
        "best_model.summary()\n",
        "print('-- Best params --')\n",
        "print(rnd_search_cv.best_params_)\n",
        "print('-- Best score --')\n",
        "print(rnd_search_cv.best_score_)\n",
        "\n"
      ],
      "metadata": {
        "colab": {
          "base_uri": "https://localhost:8080/"
        },
        "id": "Aq-WlHeNBZle",
        "outputId": "b3178aa1-e6a8-4d1c-c1df-4ff12d058d07"
      },
      "execution_count": null,
      "outputs": [
        {
          "output_type": "stream",
          "name": "stdout",
          "text": [
            "\r\n",
            "------[build_model]------\n",
            "[p_input_shape]:  43\n",
            "[p_n_hidden]:  3\n",
            "[p_n_neurons]:  60\n",
            "[p_learning_rate]:  0.00034360234259922664\n",
            "---build_model, for layer in range(p_n_hidden)---\n",
            "[p_n_neurons]:  60\n",
            "---build_model, for layer in range(p_n_hidden)---\n",
            "[p_n_neurons]:  7\n",
            "---build_model, for layer in range(p_n_hidden)---\n",
            "[p_n_neurons]:  2\n",
            "Epoch 1/2\n",
            "6840/6840 [==============================] - 48s 7ms/step - loss: 730.1943 - mse: 729.5594 - val_loss: 60.0844 - val_mse: 59.4807\n",
            "Epoch 2/2\n",
            "6840/6840 [==============================] - 42s 6ms/step - loss: 60.4989 - mse: 59.9227 - val_loss: 30.4542 - val_mse: 29.9046\n",
            "6840/6840 [==============================] - 13s 2ms/step\n",
            "\n",
            "------[build_model]------\n",
            "[p_input_shape]:  43\n",
            "[p_n_hidden]:  3\n",
            "[p_n_neurons]:  60\n",
            "[p_learning_rate]:  0.00034360234259922664\n",
            "---build_model, for layer in range(p_n_hidden)---\n",
            "[p_n_neurons]:  60\n",
            "---build_model, for layer in range(p_n_hidden)---\n",
            "[p_n_neurons]:  7\n",
            "---build_model, for layer in range(p_n_hidden)---\n",
            "[p_n_neurons]:  2\n",
            "Epoch 1/2\n"
          ]
        },
        {
          "output_type": "stream",
          "name": "stderr",
          "text": [
            "/usr/local/lib/python3.10/dist-packages/keras/optimizers/legacy/gradient_descent.py:114: UserWarning: The `lr` argument is deprecated, use `learning_rate` instead.\n",
            "  super().__init__(name, **kwargs)\n"
          ]
        },
        {
          "output_type": "stream",
          "name": "stdout",
          "text": [
            "6840/6840 [==============================] - 33s 5ms/step - loss: 731.1143 - mse: 730.4194 - val_loss: 59.4721 - val_mse: 58.7878\n",
            "Epoch 2/2\n",
            "6840/6840 [==============================] - 35s 5ms/step - loss: 60.1459 - mse: 59.4921 - val_loss: 30.5357 - val_mse: 29.9122\n",
            "6840/6840 [==============================] - 13s 2ms/step\n",
            "\n",
            "------[build_model]------\n",
            "[p_input_shape]:  43\n",
            "[p_n_hidden]:  2\n",
            "[p_n_neurons]:  82\n",
            "[p_learning_rate]:  0.0004812642526328887\n",
            "---build_model, for layer in range(p_n_hidden)---\n",
            "[p_n_neurons]:  82\n",
            "---build_model, for layer in range(p_n_hidden)---\n",
            "[p_n_neurons]:  9\n",
            "Epoch 1/2\n"
          ]
        },
        {
          "output_type": "stream",
          "name": "stderr",
          "text": [
            "/usr/local/lib/python3.10/dist-packages/keras/optimizers/legacy/gradient_descent.py:114: UserWarning: The `lr` argument is deprecated, use `learning_rate` instead.\n",
            "  super().__init__(name, **kwargs)\n"
          ]
        },
        {
          "output_type": "stream",
          "name": "stdout",
          "text": [
            "6840/6840 [==============================] - 35s 5ms/step - loss: 417.1553 - mse: 416.3944 - val_loss: 46.0305 - val_mse: 45.3145\n",
            "Epoch 2/2\n",
            "6840/6840 [==============================] - 35s 5ms/step - loss: 128.3473 - mse: 127.6754 - val_loss: 33.8597 - val_mse: 33.2305\n",
            "6840/6840 [==============================] - 12s 2ms/step\n",
            "\n",
            "------[build_model]------\n",
            "[p_input_shape]:  43\n",
            "[p_n_hidden]:  2\n",
            "[p_n_neurons]:  82\n",
            "[p_learning_rate]:  0.0004812642526328887\n",
            "---build_model, for layer in range(p_n_hidden)---\n",
            "[p_n_neurons]:  82\n",
            "---build_model, for layer in range(p_n_hidden)---\n",
            "[p_n_neurons]:  9\n",
            "Epoch 1/2\n"
          ]
        },
        {
          "output_type": "stream",
          "name": "stderr",
          "text": [
            "/usr/local/lib/python3.10/dist-packages/keras/optimizers/legacy/gradient_descent.py:114: UserWarning: The `lr` argument is deprecated, use `learning_rate` instead.\n",
            "  super().__init__(name, **kwargs)\n"
          ]
        },
        {
          "output_type": "stream",
          "name": "stdout",
          "text": [
            "6840/6840 [==============================] - 32s 5ms/step - loss: 418.6208 - mse: 417.8466 - val_loss: 47.6637 - val_mse: 46.9366\n",
            "Epoch 2/2\n",
            "6840/6840 [==============================] - 31s 5ms/step - loss: 127.6047 - mse: 126.9230 - val_loss: 34.0602 - val_mse: 33.4221\n",
            "6840/6840 [==============================] - 11s 2ms/step\n",
            "\n",
            "------[build_model]------\n",
            "[p_input_shape]:  43\n",
            "[p_n_hidden]:  2\n",
            "[p_n_neurons]:  58\n",
            "[p_learning_rate]:  0.0001612497495306956\n",
            "---build_model, for layer in range(p_n_hidden)---\n",
            "[p_n_neurons]:  58\n",
            "---build_model, for layer in range(p_n_hidden)---\n",
            "[p_n_neurons]:  7\n",
            "Epoch 1/2\n"
          ]
        },
        {
          "output_type": "stream",
          "name": "stderr",
          "text": [
            "/usr/local/lib/python3.10/dist-packages/keras/optimizers/legacy/gradient_descent.py:114: UserWarning: The `lr` argument is deprecated, use `learning_rate` instead.\n",
            "  super().__init__(name, **kwargs)\n"
          ]
        },
        {
          "output_type": "stream",
          "name": "stdout",
          "text": [
            "6840/6840 [==============================] - 34s 5ms/step - loss: 741.3124 - mse: 737.7368 - val_loss: 85.7545 - val_mse: 82.1229\n",
            "Epoch 2/2\n",
            "6840/6840 [==============================] - 33s 5ms/step - loss: 390.8378 - mse: 387.2844 - val_loss: 67.9669 - val_mse: 64.4917\n",
            "6840/6840 [==============================] - 12s 2ms/step\n",
            "\n",
            "------[build_model]------\n",
            "[p_input_shape]:  43\n",
            "[p_n_hidden]:  2\n",
            "[p_n_neurons]:  58\n",
            "[p_learning_rate]:  0.0001612497495306956\n",
            "---build_model, for layer in range(p_n_hidden)---\n",
            "[p_n_neurons]:  58\n",
            "---build_model, for layer in range(p_n_hidden)---\n",
            "[p_n_neurons]:  7\n",
            "Epoch 1/2\n"
          ]
        },
        {
          "output_type": "stream",
          "name": "stderr",
          "text": [
            "/usr/local/lib/python3.10/dist-packages/keras/optimizers/legacy/gradient_descent.py:114: UserWarning: The `lr` argument is deprecated, use `learning_rate` instead.\n",
            "  super().__init__(name, **kwargs)\n"
          ]
        },
        {
          "output_type": "stream",
          "name": "stdout",
          "text": [
            "6840/6840 [==============================] - 26s 4ms/step - loss: 739.7549 - mse: 739.1176 - val_loss: 82.6299 - val_mse: 82.0041\n",
            "Epoch 2/2\n",
            "6840/6840 [==============================] - 26s 4ms/step - loss: 386.7306 - mse: 386.1169 - val_loss: 63.2908 - val_mse: 62.6915\n",
            "6840/6840 [==============================] - 12s 2ms/step\n",
            "\n",
            "------[build_model]------\n",
            "[p_input_shape]:  43\n",
            "[p_n_hidden]:  3\n",
            "[p_n_neurons]:  83\n",
            "[p_learning_rate]:  0.0005937164271798012\n",
            "---build_model, for layer in range(p_n_hidden)---\n",
            "[p_n_neurons]:  83\n",
            "---build_model, for layer in range(p_n_hidden)---\n",
            "[p_n_neurons]:  9\n",
            "---build_model, for layer in range(p_n_hidden)---\n",
            "[p_n_neurons]:  3\n",
            "Epoch 1/2\n"
          ]
        },
        {
          "output_type": "stream",
          "name": "stderr",
          "text": [
            "/usr/local/lib/python3.10/dist-packages/keras/optimizers/legacy/gradient_descent.py:114: UserWarning: The `lr` argument is deprecated, use `learning_rate` instead.\n",
            "  super().__init__(name, **kwargs)\n"
          ]
        },
        {
          "output_type": "stream",
          "name": "stdout",
          "text": [
            "6840/6840 [==============================] - 44s 6ms/step - loss: 449.8955 - mse: 445.8303 - val_loss: 38.7304 - val_mse: 34.9373\n",
            "Epoch 2/2\n",
            "4359/6840 [==================>...........] - ETA: 11s - loss: 43.1063 - mse: 39.5022"
          ]
        }
      ]
    },
    {
      "cell_type": "code",
      "source": [
        "def plot_graph_3(histories):\n",
        "    # Iterate over each history and plot metrics\n",
        "    for history in histories:\n",
        "        plt.figure(figsize=(10, 6))\n",
        "\n",
        "        # Plot loss\n",
        "        plt.subplot(1, 2, 1)\n",
        "        plt.plot(history['loss'])\n",
        "        plt.plot(history['val_loss'])\n",
        "        plt.legend(['train loss', 'test loss'], loc='upper right')\n",
        "        plt.title('Loss')\n",
        "        plt.ylabel('Loss')\n",
        "        plt.xlabel('Epoch')\n",
        "\n",
        "        # Plot accuracy (if available)\n",
        "        if 'mae' in history:\n",
        "            plt.subplot(1, 2, 2)\n",
        "            plt.plot(history['mae'])\n",
        "            plt.plot(history['val_mae'])\n",
        "            plt.legend(['train mae', 'test mae'], loc='upper right')\n",
        "            plt.title('MAE')\n",
        "            plt.ylabel('MAE')\n",
        "            plt.xlabel('Epoch')\n",
        "\n",
        "\n",
        "        if 'accuracy' in history:\n",
        "            plt.subplot(1, 2, 2)\n",
        "            plt.plot(history['accuracy'])\n",
        "            plt.plot(history['val_accuracy'])\n",
        "            plt.legend(['train accuracy', 'test accuracy'], loc='upper right')\n",
        "            plt.title('Accuracy')\n",
        "            plt.ylabel('Accuracy')\n",
        "            plt.xlabel('Epoch')\n",
        "\n",
        "        plt.tight_layout()\n",
        "        plt.show()\n",
        "\n",
        "\n"
      ],
      "metadata": {
        "id": "4qOqBpT3ICbb"
      },
      "execution_count": null,
      "outputs": []
    },
    {
      "cell_type": "code",
      "source": [
        "# Train the best model with all available data\n",
        "best_model.fit(X_train, y_train, epochs=30, validation_data=(X_valid, y_valid), callbacks=[checkpoint_cb, early_stopping_cb])\n",
        "\n",
        "# Get the history of the best model\n",
        "best_model_history = best_model.history.history\n",
        "\n",
        "# Plot the metrics of the best model\n",
        "plot_graph_3([best_model_history])"
      ],
      "metadata": {
        "colab": {
          "base_uri": "https://localhost:8080/",
          "height": 889
        },
        "id": "8VIuuJ7bOFgr",
        "outputId": "5e29d88c-3b06-45ca-9a4b-1255b84d7047"
      },
      "execution_count": null,
      "outputs": [
        {
          "output_type": "stream",
          "name": "stdout",
          "text": [
            "Epoch 1/30\n",
            "40/40 [==============================] - 0s 4ms/step - loss: nan - mae: nan - accuracy: 0.0000e+00 - val_loss: nan - val_mae: nan - val_accuracy: 0.0000e+00\n",
            "Epoch 2/30\n",
            "40/40 [==============================] - 0s 3ms/step - loss: nan - mae: nan - accuracy: 0.0000e+00 - val_loss: nan - val_mae: nan - val_accuracy: 0.0000e+00\n",
            "Epoch 3/30\n",
            "40/40 [==============================] - 0s 3ms/step - loss: nan - mae: nan - accuracy: 0.0000e+00 - val_loss: nan - val_mae: nan - val_accuracy: 0.0000e+00\n",
            "Epoch 4/30\n",
            "40/40 [==============================] - 0s 3ms/step - loss: nan - mae: nan - accuracy: 0.0000e+00 - val_loss: nan - val_mae: nan - val_accuracy: 0.0000e+00\n",
            "Epoch 5/30\n",
            "40/40 [==============================] - 0s 3ms/step - loss: nan - mae: nan - accuracy: 0.0000e+00 - val_loss: nan - val_mae: nan - val_accuracy: 0.0000e+00\n",
            "Epoch 6/30\n",
            "40/40 [==============================] - 0s 3ms/step - loss: nan - mae: nan - accuracy: 0.0000e+00 - val_loss: nan - val_mae: nan - val_accuracy: 0.0000e+00\n",
            "Epoch 7/30\n",
            "40/40 [==============================] - 0s 3ms/step - loss: nan - mae: nan - accuracy: 0.0000e+00 - val_loss: nan - val_mae: nan - val_accuracy: 0.0000e+00\n",
            "Epoch 8/30\n",
            "40/40 [==============================] - 0s 4ms/step - loss: nan - mae: nan - accuracy: 0.0000e+00 - val_loss: nan - val_mae: nan - val_accuracy: 0.0000e+00\n",
            "Epoch 9/30\n",
            "40/40 [==============================] - 0s 4ms/step - loss: nan - mae: nan - accuracy: 0.0000e+00 - val_loss: nan - val_mae: nan - val_accuracy: 0.0000e+00\n",
            "Epoch 10/30\n",
            "40/40 [==============================] - 0s 6ms/step - loss: nan - mae: nan - accuracy: 0.0000e+00 - val_loss: nan - val_mae: nan - val_accuracy: 0.0000e+00\n"
          ]
        },
        {
          "output_type": "display_data",
          "data": {
            "text/plain": [
              "<Figure size 1000x600 with 2 Axes>"
            ],
            "image/png": "[encoded data removed]"
          },
          "metadata": {}
        }
      ]
    },
    {
      "cell_type": "code",
      "source": [
        "type(best_model_history)\n",
        "for key in (best_model_history):\n",
        "  print('[key]: ', key)\n",
        "\n"
      ],
      "metadata": {
        "colab": {
          "base_uri": "https://localhost:8080/"
        },
        "id": "titrxPmHEZlV",
        "outputId": "94864260-f306-4cd2-80d0-bea1492d9e50"
      },
      "execution_count": null,
      "outputs": [
        {
          "output_type": "stream",
          "name": "stdout",
          "text": [
            "[key]:  loss\n",
            "[key]:  val_loss\n"
          ]
        }
      ]
    }
  ]
}