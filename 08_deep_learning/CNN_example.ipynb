{
  "nbformat": 4,
  "nbformat_minor": 0,
  "metadata": {
    "colab": {
      "provenance": [],
      "authorship_tag": "ABX9TyN4saphZA8hEdOVWOwUym8K",
      "include_colab_link": true
    },
    "kernelspec": {
      "name": "python3",
      "display_name": "Python 3"
    },
    "language_info": {
      "name": "python"
    }
  },
  "cells": [
    {
      "cell_type": "markdown",
      "metadata": {
        "id": "view-in-github",
        "colab_type": "text"
      },
      "source": [
        "<a href=\"https://colab.research.google.com/github/rennyatwork/CegepSteFoy_IA/blob/main/08_deep_learning/CNN_example.ipynb\" target=\"_parent\"><img src=\"https://colab.research.google.com/assets/colab-badge.svg\" alt=\"Open In Colab\"/></a>"
      ]
    },
    {
      "cell_type": "code",
      "execution_count": null,
      "metadata": {
        "id": "9tvZYirdi4hm"
      },
      "outputs": [],
      "source": [
        "### from the book AI and Deep Learning (Steven d'Ascoli)"
      ]
    },
    {
      "cell_type": "code",
      "source": [
        "import tensorflow as tf\n",
        "from tensorflow.keras import layers, models\n",
        "import matplotlib.pyplot as plt\n",
        "from keras.datasets import cifar10"
      ],
      "metadata": {
        "id": "0lk_tcPmjfzD"
      },
      "execution_count": 1,
      "outputs": []
    },
    {
      "cell_type": "code",
      "source": [
        "(X_train, Y_train), (X_test, Y_test) = cifar10.load_data()\n",
        "\n",
        "# Transform pixel values to be between 0 and 1\n",
        "X_train, X_test = X_train/255.0, X_test/255.0"
      ],
      "metadata": {
        "colab": {
          "base_uri": "https://localhost:8080/"
        },
        "id": "Eudp1YrdjfwZ",
        "outputId": "8885da03-a926-4e44-801f-3d84f9fe3bdb"
      },
      "execution_count": 2,
      "outputs": [
        {
          "output_type": "stream",
          "name": "stdout",
          "text": [
            "Downloading data from https://www.cs.toronto.edu/~kriz/cifar-10-python.tar.gz\n",
            "170498071/170498071 [==============================] - 4s 0us/step\n"
          ]
        }
      ]
    },
    {
      "cell_type": "code",
      "source": [
        "### creating the model\n",
        "\n",
        "# The first layer will have 50 filters. The filter size is 2 X 2\n",
        "# Max pooling is then used to reduce the spatial dimensions of\n",
        "#  the output volume on the next line.\n",
        "CNN_model = models.Sequential()\n",
        "\n",
        "## input_shape=(32, 32, 3) --> 32x 32 = fig dimension, 3 = RGB\n",
        "CNN_model.add(layers.Conv2D(50, (2, 2), activation='relu',\\\n",
        "input_shape=(32, 32, 3)))\n",
        "\n",
        "### MaxPooling (3,3) reduces dimmensionality from 32x32 to 3x3\n",
        "CNN_model.add(layers.MaxPooling2D((3, 3)))\n",
        "\n",
        "### Transform into 1-dim to input into CNN\n",
        "CNN_model.add(layers.Flatten())\n",
        "\n",
        "CNN_model.add(layers.Dense(50, activation='relu'))\n",
        "CNN_model.add(layers.Dropout(.1))\n",
        "\n",
        "### 10 = 10 categories of output (airplane, automobile, ..., truck)\n",
        "CNN_model.add(layers.Dense(10, activation='softmax'))\n",
        "\n",
        "\n",
        "optimizer = tf.optimizers.Adam(learning_rate = .005)\n",
        "CNN_model.compile(optimizer=optimizer,\n",
        "\n",
        "          loss=tf.keras.losses.SparseCategoricalCrossentropy\n",
        "         (from_logits=False),metrics=['accuracy'])"
      ],
      "metadata": {
        "id": "kNo_q_gojftN"
      },
      "execution_count": 5,
      "outputs": []
    },
    {
      "cell_type": "code",
      "source": [
        "history = CNN_model.fit(X_train, Y_train, epochs=5,\n",
        "          validation_data=( X_test, Y_test))"
      ],
      "metadata": {
        "colab": {
          "base_uri": "https://localhost:8080/"
        },
        "id": "7qbmO4GKjfph",
        "outputId": "f7eee793-203b-4f10-df14-39adf5a91fdb"
      },
      "execution_count": 6,
      "outputs": [
        {
          "output_type": "stream",
          "name": "stdout",
          "text": [
            "Epoch 1/5\n",
            "1563/1563 [==============================] - 40s 25ms/step - loss: 1.5832 - accuracy: 0.4242 - val_loss: 1.3537 - val_accuracy: 0.5194\n",
            "Epoch 2/5\n",
            "1563/1563 [==============================] - 44s 28ms/step - loss: 1.3710 - accuracy: 0.5114 - val_loss: 1.3029 - val_accuracy: 0.5379\n",
            "Epoch 3/5\n",
            "1563/1563 [==============================] - 40s 26ms/step - loss: 1.3223 - accuracy: 0.5287 - val_loss: 1.2566 - val_accuracy: 0.5565\n",
            "Epoch 4/5\n",
            "1563/1563 [==============================] - 39s 25ms/step - loss: 1.2856 - accuracy: 0.5428 - val_loss: 1.2310 - val_accuracy: 0.5648\n",
            "Epoch 5/5\n",
            "1563/1563 [==============================] - 40s 26ms/step - loss: 1.2578 - accuracy: 0.5525 - val_loss: 1.2392 - val_accuracy: 0.5610\n"
          ]
        }
      ]
    },
    {
      "cell_type": "code",
      "source": [
        "#Evaluate the model\n",
        "plt.plot(history.history['accuracy'], label='accuracy')\n",
        "plt.plot(history.history['val_accuracy'], label = 'val_accuracy')\n",
        "plt.xlabel('Epoch')\n",
        "plt.ylabel('Accuracy')\n",
        "plt.ylim([0.5, 1])\n",
        "plt.legend(loc='upper left')\n",
        "test_loss, test_acc = CNN_model.evaluate(X_test,  Y_test,\\\n",
        "verbose=2)\n",
        "print(test_acc)\n",
        "\n",
        "\n",
        "#show model’s structure\n",
        "CNN_model.summary()"
      ],
      "metadata": {
        "colab": {
          "base_uri": "https://localhost:8080/",
          "height": 872
        },
        "id": "RKAaidE9jfjb",
        "outputId": "11c6237a-d2a8-4af8-a3cc-c3b6e894c7ba"
      },
      "execution_count": 7,
      "outputs": [
        {
          "output_type": "stream",
          "name": "stdout",
          "text": [
            "313/313 - 2s - loss: 1.2392 - accuracy: 0.5610 - 2s/epoch - 7ms/step\n",
            "0.5609999895095825\n",
            "Model: \"sequential_1\"\n",
            "_________________________________________________________________\n",
            " Layer (type)                Output Shape              Param #   \n",
            "=================================================================\n",
            " conv2d_1 (Conv2D)           (None, 31, 31, 50)        650       \n",
            "                                                                 \n",
            " max_pooling2d_1 (MaxPoolin  (None, 10, 10, 50)        0         \n",
            " g2D)                                                            \n",
            "                                                                 \n",
            " flatten_1 (Flatten)         (None, 5000)              0         \n",
            "                                                                 \n",
            " dense_2 (Dense)             (None, 50)                250050    \n",
            "                                                                 \n",
            " dropout_1 (Dropout)         (None, 50)                0         \n",
            "                                                                 \n",
            " dense_3 (Dense)             (None, 10)                510       \n",
            "                                                                 \n",
            "=================================================================\n",
            "Total params: 251210 (981.29 KB)\n",
            "Trainable params: 251210 (981.29 KB)\n",
            "Non-trainable params: 0 (0.00 Byte)\n",
            "_________________________________________________________________\n"
          ]
        },
        {
          "output_type": "display_data",
          "data": {
            "text/plain": [
              "<Figure size 640x480 with 1 Axes>"
            ],
            "image/png": "[encoded data removed]"
          },
          "metadata": {}
        }
      ]
    },
    {
      "cell_type": "code",
      "source": [
        "#create an array that predicts what the category of each image #from the test_image array and then print out the prediction for #the 10th image. (predictions[9]) refers to the #10th image since #the #index of an array in python starts with 0.\n",
        "predictions = CNN_model.predict(X_test)\n",
        "tenth_prediction = (predictions[9])\n",
        "print(tenth_prediction)\n",
        "\n",
        "#The output from the code above consists of probability #distributions between zero and\n",
        "#one."
      ],
      "metadata": {
        "colab": {
          "base_uri": "https://localhost:8080/"
        },
        "id": "fKe5BGPsjfdA",
        "outputId": "d11b456b-bff3-4a96-bbdf-d292dedbd7a2"
      },
      "execution_count": 8,
      "outputs": [
        {
          "output_type": "stream",
          "name": "stdout",
          "text": [
            "313/313 [==============================] - 4s 12ms/step\n",
            "[7.7085127e-03 7.9906583e-01 1.0750904e-03 9.0334179e-05 2.1145954e-05\n",
            " 2.9493342e-05 1.8353107e-04 1.2514024e-04 7.7281035e-03 1.8397276e-01]\n"
          ]
        }
      ]
    },
    {
      "cell_type": "code",
      "source": [
        "sorted_arr = np.sort(tenth_prediction)\n",
        "sorted_arr"
      ],
      "metadata": {
        "colab": {
          "base_uri": "https://localhost:8080/"
        },
        "id": "9bdTJh_immmB",
        "outputId": "1967f06c-7983-4e64-e76b-ec82170703d3"
      },
      "execution_count": 13,
      "outputs": [
        {
          "output_type": "execute_result",
          "data": {
            "text/plain": [
              "array([2.1145954e-05, 2.9493342e-05, 9.0334179e-05, 1.2514024e-04,\n",
              "       1.8353107e-04, 1.0750904e-03, 7.7085127e-03, 7.7281035e-03,\n",
              "       1.8397276e-01, 7.9906583e-01], dtype=float32)"
            ]
          },
          "metadata": {},
          "execution_count": 13
        }
      ]
    },
    {
      "cell_type": "code",
      "source": [
        "import numpy as np\n",
        "#print out the index of the array which contains the highest #probability distribution\n",
        "prediction = (np.argmax(predictions[9]))\n",
        "print(prediction)\n",
        "\n",
        "\n",
        "#The index with the highest number will be the\n",
        "#predicted output.\n",
        "#The indexes of our input data are as follows:\n",
        "\n",
        "#  0\tairplane\n",
        "#  1\tautomobile\n",
        "#  2\tbird\n",
        "#  3\tcat\n",
        "#  4\tdeer\n",
        "#  5\tdog\n",
        "#  6\tfrog\n",
        "#  7\thorse\n",
        "#  8\tship\n",
        "#  9\ttruck"
      ],
      "metadata": {
        "colab": {
          "base_uri": "https://localhost:8080/"
        },
        "id": "Y_BfGgKjmOV2",
        "outputId": "5d25d14a-5b39-4bde-fdc8-a4695e72caae"
      },
      "execution_count": 9,
      "outputs": [
        {
          "output_type": "stream",
          "name": "stdout",
          "text": [
            "1\n"
          ]
        }
      ]
    },
    {
      "cell_type": "code",
      "source": [
        "plt.figure()\n",
        "plt.imshow(X_test[9])\n",
        "plt.colorbar()\n",
        "plt.grid(False)\n",
        "plt.show()"
      ],
      "metadata": {
        "colab": {
          "base_uri": "https://localhost:8080/",
          "height": 430
        },
        "id": "-Fv17dC6mYwk",
        "outputId": "33443b20-30e8-42fc-c7d6-0480908a5b99"
      },
      "execution_count": 10,
      "outputs": [
        {
          "output_type": "display_data",
          "data": {
            "text/plain": [
              "<Figure size 640x480 with 2 Axes>"
            ],
            "image/png": "[encoded data removed]"
          },
          "metadata": {}
        }
      ]
    }
  ]
}