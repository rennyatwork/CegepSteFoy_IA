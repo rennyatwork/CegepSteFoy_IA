{
  "nbformat": 4,
  "nbformat_minor": 0,
  "metadata": {
    "colab": {
      "provenance": [],
      "include_colab_link": true
    },
    "kernelspec": {
      "name": "python3",
      "display_name": "Python 3"
    },
    "language_info": {
      "name": "python"
    },
    "widgets": {
      "application/vnd.jupyter.widget-state+json": {
        "7f2aca6eb8a84d1bb2b073d80c93877d": {
          "model_module": "@jupyter-widgets/controls",
          "model_name": "HBoxModel",
          "model_module_version": "1.5.0",
          "state": {
            "_dom_classes": [],
            "_model_module": "@jupyter-widgets/controls",
            "_model_module_version": "1.5.0",
            "_model_name": "HBoxModel",
            "_view_count": null,
            "_view_module": "@jupyter-widgets/controls",
            "_view_module_version": "1.5.0",
            "_view_name": "HBoxView",
            "box_style": "",
            "children": [
              "IPY_MODEL_5837917e38984fabaf93a30cd56b57cf",
              "IPY_MODEL_c2799d0135af48339b92b4ada38e104c",
              "IPY_MODEL_66df440c46d748b5bb620aaa04ad5140"
            ],
            "layout": "IPY_MODEL_51b3082a0f5049caab30dd872b16677b"
          }
        },
        "5837917e38984fabaf93a30cd56b57cf": {
          "model_module": "@jupyter-widgets/controls",
          "model_name": "HTMLModel",
          "model_module_version": "1.5.0",
          "state": {
            "_dom_classes": [],
            "_model_module": "@jupyter-widgets/controls",
            "_model_module_version": "1.5.0",
            "_model_name": "HTMLModel",
            "_view_count": null,
            "_view_module": "@jupyter-widgets/controls",
            "_view_module_version": "1.5.0",
            "_view_name": "HTMLView",
            "description": "",
            "description_tooltip": null,
            "layout": "IPY_MODEL_42f279a5bb104346b3f0614df542eafd",
            "placeholder": "​",
            "style": "IPY_MODEL_8e323f19121d4540aacbc5ef6a169af7",
            "value": "Dl Completed...: 100%"
          }
        },
        "c2799d0135af48339b92b4ada38e104c": {
          "model_module": "@jupyter-widgets/controls",
          "model_name": "FloatProgressModel",
          "model_module_version": "1.5.0",
          "state": {
            "_dom_classes": [],
            "_model_module": "@jupyter-widgets/controls",
            "_model_module_version": "1.5.0",
            "_model_name": "FloatProgressModel",
            "_view_count": null,
            "_view_module": "@jupyter-widgets/controls",
            "_view_module_version": "1.5.0",
            "_view_name": "ProgressView",
            "bar_style": "success",
            "description": "",
            "description_tooltip": null,
            "layout": "IPY_MODEL_22bf9914f1544be2a866c0dd64530516",
            "max": 5,
            "min": 0,
            "orientation": "horizontal",
            "style": "IPY_MODEL_314672bc5a9144529cdc2f3e7c806fc7",
            "value": 5
          }
        },
        "66df440c46d748b5bb620aaa04ad5140": {
          "model_module": "@jupyter-widgets/controls",
          "model_name": "HTMLModel",
          "model_module_version": "1.5.0",
          "state": {
            "_dom_classes": [],
            "_model_module": "@jupyter-widgets/controls",
            "_model_module_version": "1.5.0",
            "_model_name": "HTMLModel",
            "_view_count": null,
            "_view_module": "@jupyter-widgets/controls",
            "_view_module_version": "1.5.0",
            "_view_name": "HTMLView",
            "description": "",
            "description_tooltip": null,
            "layout": "IPY_MODEL_e08cb230bcc3451796eb210f7f110758",
            "placeholder": "​",
            "style": "IPY_MODEL_9c84f5751d674803bc1ddf66ca46957d",
            "value": " 5/5 [00:03&lt;00:00,  1.54 file/s]"
          }
        },
        "51b3082a0f5049caab30dd872b16677b": {
          "model_module": "@jupyter-widgets/base",
          "model_name": "LayoutModel",
          "model_module_version": "1.2.0",
          "state": {
            "_model_module": "@jupyter-widgets/base",
            "_model_module_version": "1.2.0",
            "_model_name": "LayoutModel",
            "_view_count": null,
            "_view_module": "@jupyter-widgets/base",
            "_view_module_version": "1.2.0",
            "_view_name": "LayoutView",
            "align_content": null,
            "align_items": null,
            "align_self": null,
            "border": null,
            "bottom": null,
            "display": null,
            "flex": null,
            "flex_flow": null,
            "grid_area": null,
            "grid_auto_columns": null,
            "grid_auto_flow": null,
            "grid_auto_rows": null,
            "grid_column": null,
            "grid_gap": null,
            "grid_row": null,
            "grid_template_areas": null,
            "grid_template_columns": null,
            "grid_template_rows": null,
            "height": null,
            "justify_content": null,
            "justify_items": null,
            "left": null,
            "margin": null,
            "max_height": null,
            "max_width": null,
            "min_height": null,
            "min_width": null,
            "object_fit": null,
            "object_position": null,
            "order": null,
            "overflow": null,
            "overflow_x": null,
            "overflow_y": null,
            "padding": null,
            "right": null,
            "top": null,
            "visibility": null,
            "width": null
          }
        },
        "42f279a5bb104346b3f0614df542eafd": {
          "model_module": "@jupyter-widgets/base",
          "model_name": "LayoutModel",
          "model_module_version": "1.2.0",
          "state": {
            "_model_module": "@jupyter-widgets/base",
            "_model_module_version": "1.2.0",
            "_model_name": "LayoutModel",
            "_view_count": null,
            "_view_module": "@jupyter-widgets/base",
            "_view_module_version": "1.2.0",
            "_view_name": "LayoutView",
            "align_content": null,
            "align_items": null,
            "align_self": null,
            "border": null,
            "bottom": null,
            "display": null,
            "flex": null,
            "flex_flow": null,
            "grid_area": null,
            "grid_auto_columns": null,
            "grid_auto_flow": null,
            "grid_auto_rows": null,
            "grid_column": null,
            "grid_gap": null,
            "grid_row": null,
            "grid_template_areas": null,
            "grid_template_columns": null,
            "grid_template_rows": null,
            "height": null,
            "justify_content": null,
            "justify_items": null,
            "left": null,
            "margin": null,
            "max_height": null,
            "max_width": null,
            "min_height": null,
            "min_width": null,
            "object_fit": null,
            "object_position": null,
            "order": null,
            "overflow": null,
            "overflow_x": null,
            "overflow_y": null,
            "padding": null,
            "right": null,
            "top": null,
            "visibility": null,
            "width": null
          }
        },
        "8e323f19121d4540aacbc5ef6a169af7": {
          "model_module": "@jupyter-widgets/controls",
          "model_name": "DescriptionStyleModel",
          "model_module_version": "1.5.0",
          "state": {
            "_model_module": "@jupyter-widgets/controls",
            "_model_module_version": "1.5.0",
            "_model_name": "DescriptionStyleModel",
            "_view_count": null,
            "_view_module": "@jupyter-widgets/base",
            "_view_module_version": "1.2.0",
            "_view_name": "StyleView",
            "description_width": ""
          }
        },
        "22bf9914f1544be2a866c0dd64530516": {
          "model_module": "@jupyter-widgets/base",
          "model_name": "LayoutModel",
          "model_module_version": "1.2.0",
          "state": {
            "_model_module": "@jupyter-widgets/base",
            "_model_module_version": "1.2.0",
            "_model_name": "LayoutModel",
            "_view_count": null,
            "_view_module": "@jupyter-widgets/base",
            "_view_module_version": "1.2.0",
            "_view_name": "LayoutView",
            "align_content": null,
            "align_items": null,
            "align_self": null,
            "border": null,
            "bottom": null,
            "display": null,
            "flex": null,
            "flex_flow": null,
            "grid_area": null,
            "grid_auto_columns": null,
            "grid_auto_flow": null,
            "grid_auto_rows": null,
            "grid_column": null,
            "grid_gap": null,
            "grid_row": null,
            "grid_template_areas": null,
            "grid_template_columns": null,
            "grid_template_rows": null,
            "height": null,
            "justify_content": null,
            "justify_items": null,
            "left": null,
            "margin": null,
            "max_height": null,
            "max_width": null,
            "min_height": null,
            "min_width": null,
            "object_fit": null,
            "object_position": null,
            "order": null,
            "overflow": null,
            "overflow_x": null,
            "overflow_y": null,
            "padding": null,
            "right": null,
            "top": null,
            "visibility": null,
            "width": null
          }
        },
        "314672bc5a9144529cdc2f3e7c806fc7": {
          "model_module": "@jupyter-widgets/controls",
          "model_name": "ProgressStyleModel",
          "model_module_version": "1.5.0",
          "state": {
            "_model_module": "@jupyter-widgets/controls",
            "_model_module_version": "1.5.0",
            "_model_name": "ProgressStyleModel",
            "_view_count": null,
            "_view_module": "@jupyter-widgets/base",
            "_view_module_version": "1.2.0",
            "_view_name": "StyleView",
            "bar_color": null,
            "description_width": ""
          }
        },
        "e08cb230bcc3451796eb210f7f110758": {
          "model_module": "@jupyter-widgets/base",
          "model_name": "LayoutModel",
          "model_module_version": "1.2.0",
          "state": {
            "_model_module": "@jupyter-widgets/base",
            "_model_module_version": "1.2.0",
            "_model_name": "LayoutModel",
            "_view_count": null,
            "_view_module": "@jupyter-widgets/base",
            "_view_module_version": "1.2.0",
            "_view_name": "LayoutView",
            "align_content": null,
            "align_items": null,
            "align_self": null,
            "border": null,
            "bottom": null,
            "display": null,
            "flex": null,
            "flex_flow": null,
            "grid_area": null,
            "grid_auto_columns": null,
            "grid_auto_flow": null,
            "grid_auto_rows": null,
            "grid_column": null,
            "grid_gap": null,
            "grid_row": null,
            "grid_template_areas": null,
            "grid_template_columns": null,
            "grid_template_rows": null,
            "height": null,
            "justify_content": null,
            "justify_items": null,
            "left": null,
            "margin": null,
            "max_height": null,
            "max_width": null,
            "min_height": null,
            "min_width": null,
            "object_fit": null,
            "object_position": null,
            "order": null,
            "overflow": null,
            "overflow_x": null,
            "overflow_y": null,
            "padding": null,
            "right": null,
            "top": null,
            "visibility": null,
            "width": null
          }
        },
        "9c84f5751d674803bc1ddf66ca46957d": {
          "model_module": "@jupyter-widgets/controls",
          "model_name": "DescriptionStyleModel",
          "model_module_version": "1.5.0",
          "state": {
            "_model_module": "@jupyter-widgets/controls",
            "_model_module_version": "1.5.0",
            "_model_name": "DescriptionStyleModel",
            "_view_count": null,
            "_view_module": "@jupyter-widgets/base",
            "_view_module_version": "1.2.0",
            "_view_name": "StyleView",
            "description_width": ""
          }
        }
      }
    }
  },
  "cells": [
    {
      "cell_type": "markdown",
      "metadata": {
        "id": "view-in-github",
        "colab_type": "text"
      },
      "source": [
        "<a href=\"https://colab.research.google.com/github/rennyatwork/CegepSteFoy_IA/blob/main/08_deep_learning/TransferLearning.ipynb\" target=\"_parent\"><img src=\"https://colab.research.google.com/assets/colab-badge.svg\" alt=\"Open In Colab\"/></a>"
      ]
    },
    {
      "cell_type": "markdown",
      "source": [
        "Nous allons utiliser le transfer learning pour entrainer un classificateur de fleurs (à partir du jeu de données tf_flowers de TensorFlow) en ré-utilisant le modèle pré-entrainé Xception"
      ],
      "metadata": {
        "id": "UuG21Cyk9vFl"
      }
    },
    {
      "cell_type": "markdown",
      "source": [
        "1. Importation des packages utiles"
      ],
      "metadata": {
        "id": "oIuBhqRu-O4a"
      }
    },
    {
      "cell_type": "code",
      "execution_count": 1,
      "metadata": {
        "id": "srpInbMP9r_7"
      },
      "outputs": [],
      "source": [
        "import tensorflow as tf\n",
        "import tensorflow_datasets as tfds"
      ]
    },
    {
      "cell_type": "markdown",
      "source": [
        "2. Importation des données, ainis que des informations pertinentes sur ces données fournies de base par TensorFlow"
      ],
      "metadata": {
        "id": "Qupy5dEQ-XDf"
      }
    },
    {
      "cell_type": "code",
      "source": [
        "dataset, info = tfds.load(\"tf_flowers\",as_supervised=True, with_info=True)"
      ],
      "metadata": {
        "id": "v3YpW7AD-Z-5",
        "colab": {
          "base_uri": "https://localhost:8080/",
          "height": 104,
          "referenced_widgets": [
            "7f2aca6eb8a84d1bb2b073d80c93877d",
            "5837917e38984fabaf93a30cd56b57cf",
            "c2799d0135af48339b92b4ada38e104c",
            "66df440c46d748b5bb620aaa04ad5140",
            "51b3082a0f5049caab30dd872b16677b",
            "42f279a5bb104346b3f0614df542eafd",
            "8e323f19121d4540aacbc5ef6a169af7",
            "22bf9914f1544be2a866c0dd64530516",
            "314672bc5a9144529cdc2f3e7c806fc7",
            "e08cb230bcc3451796eb210f7f110758",
            "9c84f5751d674803bc1ddf66ca46957d"
          ]
        },
        "outputId": "37d844db-1ea7-4d25-8c26-5ee635185d67"
      },
      "execution_count": 2,
      "outputs": [
        {
          "output_type": "stream",
          "name": "stdout",
          "text": [
            "Downloading and preparing dataset 218.21 MiB (download: 218.21 MiB, generated: 221.83 MiB, total: 440.05 MiB) to /root/tensorflow_datasets/tf_flowers/3.0.1...\n"
          ]
        },
        {
          "output_type": "display_data",
          "data": {
            "text/plain": [
              "Dl Completed...:   0%|          | 0/5 [00:00<?, ? file/s]"
            ],
            "application/vnd.jupyter.widget-view+json": {
              "version_major": 2,
              "version_minor": 0,
              "model_id": "7f2aca6eb8a84d1bb2b073d80c93877d"
            }
          },
          "metadata": {}
        },
        {
          "output_type": "stream",
          "name": "stdout",
          "text": [
            "Dataset tf_flowers downloaded and prepared to /root/tensorflow_datasets/tf_flowers/3.0.1. Subsequent calls will reuse this data.\n"
          ]
        }
      ]
    },
    {
      "cell_type": "markdown",
      "source": [
        "3. Quelques calculs intermédiaires"
      ],
      "metadata": {
        "id": "JjeLF6-r--24"
      }
    },
    {
      "cell_type": "code",
      "source": [
        "dataset_size = info.splits[\"train\"].num_examples\n",
        "print(dataset_size)\n",
        "\n",
        "class_names = info.features[\"label\"].names\n",
        "print(class_names)\n",
        "\n",
        "n_classes = info.features[\"label\"].num_classes\n",
        "print(n_classes)"
      ],
      "metadata": {
        "colab": {
          "base_uri": "https://localhost:8080/"
        },
        "id": "bPkXNlcu_BZL",
        "outputId": "09952e10-7370-4ce8-d7bc-ec72bbdf24b9"
      },
      "execution_count": 3,
      "outputs": [
        {
          "output_type": "stream",
          "name": "stdout",
          "text": [
            "3670\n",
            "['dandelion', 'daisy', 'tulips', 'sunflowers', 'roses']\n",
            "5\n"
          ]
        }
      ]
    },
    {
      "cell_type": "code",
      "source": [
        "dir(info)"
      ],
      "metadata": {
        "colab": {
          "base_uri": "https://localhost:8080/"
        },
        "id": "p6OdByLwqMZn",
        "outputId": "7b57d617-9e7b-416b-8507-d4db3f64e152"
      },
      "execution_count": 4,
      "outputs": [
        {
          "output_type": "execute_result",
          "data": {
            "text/plain": [
              "['__class__',\n",
              " '__delattr__',\n",
              " '__dict__',\n",
              " '__dir__',\n",
              " '__doc__',\n",
              " '__eq__',\n",
              " '__format__',\n",
              " '__ge__',\n",
              " '__getattribute__',\n",
              " '__gt__',\n",
              " '__hash__',\n",
              " '__init__',\n",
              " '__init_subclass__',\n",
              " '__le__',\n",
              " '__lt__',\n",
              " '__module__',\n",
              " '__ne__',\n",
              " '__new__',\n",
              " '__reduce__',\n",
              " '__reduce_ex__',\n",
              " '__repr__',\n",
              " '__setattr__',\n",
              " '__sizeof__',\n",
              " '__str__',\n",
              " '__subclasshook__',\n",
              " '__weakref__',\n",
              " '_builder',\n",
              " '_builder_or_identity',\n",
              " '_features',\n",
              " '_fully_initialized',\n",
              " '_identity',\n",
              " '_info_proto',\n",
              " '_metadata',\n",
              " '_splits',\n",
              " 'add_file_data_source_access',\n",
              " 'add_sql_data_source_access',\n",
              " 'add_tfds_data_source_access',\n",
              " 'as_json',\n",
              " 'as_proto',\n",
              " 'citation',\n",
              " 'config_description',\n",
              " 'config_name',\n",
              " 'config_tags',\n",
              " 'data_dir',\n",
              " 'dataset_size',\n",
              " 'description',\n",
              " 'disable_shuffling',\n",
              " 'download_size',\n",
              " 'features',\n",
              " 'file_format',\n",
              " 'from_proto',\n",
              " 'full_name',\n",
              " 'homepage',\n",
              " 'initialize_from_bucket',\n",
              " 'initialized',\n",
              " 'metadata',\n",
              " 'module_name',\n",
              " 'name',\n",
              " 'read_from_directory',\n",
              " 'redistribution_info',\n",
              " 'release_notes',\n",
              " 'set_file_format',\n",
              " 'set_splits',\n",
              " 'splits',\n",
              " 'supervised_keys',\n",
              " 'update_data_dir',\n",
              " 'version',\n",
              " 'write_to_directory']"
            ]
          },
          "metadata": {},
          "execution_count": 4
        }
      ]
    },
    {
      "cell_type": "markdown",
      "source": [
        "4. Comme le jeu de données tf_flowers ne vient qu'avec un \"training data\", nous allons ré-importer les données et faire simultanément un split train (70%), test (20%) et validation (10%)\n",
        "\n",
        "NOTE #1: ici le paramètre \"as_supervised=True\" sert à indiquer à Keras que l'on souhaite importer les labels (les y) aussi et non-seulement les X\n",
        "\n",
        "NOTE #2: le paramètre \"batch_size=-1\" sert à importer les X et les y séparément avec tensorflow dataset"
      ],
      "metadata": {
        "id": "3PTiSlaa_oPu"
      }
    },
    {
      "cell_type": "code",
      "source": [
        "#train_set_raw, test_set_raw, valid_set_raw = tfds.load(\"tf_flowers\",split=[\"train[:70%]\",\"train[70%:90%]\",\"train[90%:]\"], as_supervised=True)\n",
        "\n",
        "(X_train_raw, y_train_raw), (X_test_raw, y_test_raw), (X_valid_raw, y_valid_raw) = tfds.load(\"tf_flowers\",split=[\"train[:70%]\",\"train[70%:90%]\",\"train[90%:]\"],batch_size=-1, as_supervised=True)\n",
        "\n",
        "print(X_train_raw.shape, y_train_raw.shape, X_test_raw.shape, y_test_raw.shape, X_valid_raw.shape, y_valid_raw.shape)"
      ],
      "metadata": {
        "colab": {
          "base_uri": "https://localhost:8080/"
        },
        "id": "imQm2eUaAFk0",
        "outputId": "b32318b7-b2f6-48b8-8219-5d405f6d9878"
      },
      "execution_count": 5,
      "outputs": [
        {
          "output_type": "stream",
          "name": "stdout",
          "text": [
            "(2569, 442, 1024, 3) (2569,) (734, 439, 640, 3) (734,) (367, 441, 640, 3) (367,)\n"
          ]
        }
      ]
    },
    {
      "cell_type": "markdown",
      "source": [
        "5. Pré-processing #1: adaptater les images de tf_flowers au format requis par le modèle Xception: dans le cas de Xception, les images doivent être de taille 224 x 224"
      ],
      "metadata": {
        "id": "GaOTTo10A_rR"
      }
    },
    {
      "cell_type": "code",
      "source": [
        "X_train = tf.image.resize(X_train_raw, (224,224))\n",
        "X_test = tf.image.resize(X_test_raw, (224,224))\n",
        "X_valid = tf.image.resize(X_valid_raw, (224,224))\n",
        "\n",
        "print(X_train.shape, X_test.shape, X_valid.shape)"
      ],
      "metadata": {
        "colab": {
          "base_uri": "https://localhost:8080/"
        },
        "id": "csFMP3N1okXa",
        "outputId": "908dbddd-58ac-4f7b-d48f-5de4c4b2ec7a"
      },
      "execution_count": 6,
      "outputs": [
        {
          "output_type": "stream",
          "name": "stdout",
          "text": [
            "(2569, 224, 224, 3) (734, 224, 224, 3) (367, 224, 224, 3)\n"
          ]
        }
      ]
    },
    {
      "cell_type": "markdown",
      "source": [
        "6. Pré-processing #2: on transforme les labels en variables catégoriques"
      ],
      "metadata": {
        "id": "zAkuM140pK0r"
      }
    },
    {
      "cell_type": "code",
      "source": [
        "from tensorflow.keras.utils import to_categorical\n",
        "\n",
        "y_train = to_categorical(y_train_raw,num_classes=5)\n",
        "y_test = to_categorical(y_test_raw,num_classes=5)\n",
        "y_valid = to_categorical(y_valid_raw,num_classes=5)\n",
        "print(y_train.shape, y_test.shape, y_valid.shape)"
      ],
      "metadata": {
        "colab": {
          "base_uri": "https://localhost:8080/"
        },
        "id": "6BkXZRrFpRMK",
        "outputId": "de6159c3-ba5c-4b83-84de-0b73df7aef09"
      },
      "execution_count": 7,
      "outputs": [
        {
          "output_type": "stream",
          "name": "stdout",
          "text": [
            "(2569, 5) (734, 5) (367, 5)\n"
          ]
        }
      ]
    },
    {
      "cell_type": "code",
      "source": [
        "y_train"
      ],
      "metadata": {
        "colab": {
          "base_uri": "https://localhost:8080/"
        },
        "id": "OZ8ogJflq26n",
        "outputId": "4834777b-2d8c-482a-d9a2-d8d710c66fbf"
      },
      "execution_count": 8,
      "outputs": [
        {
          "output_type": "execute_result",
          "data": {
            "text/plain": [
              "array([[0., 0., 1., 0., 0.],\n",
              "       [0., 0., 0., 1., 0.],\n",
              "       [0., 0., 0., 1., 0.],\n",
              "       ...,\n",
              "       [1., 0., 0., 0., 0.],\n",
              "       [0., 0., 1., 0., 0.],\n",
              "       [1., 0., 0., 0., 0.]], dtype=float32)"
            ]
          },
          "metadata": {},
          "execution_count": 8
        }
      ]
    },
    {
      "cell_type": "markdown",
      "source": [
        "7. Pré-processing #3: importer Xception ainsi que son application de pré-processing des inputs (notamment, avec Xception, les valeurs de chaque pixels doivvent être entre -1 et +1, mais tout sera traité par la fonction de pré-processing)"
      ],
      "metadata": {
        "id": "3egPPjucqRnK"
      }
    },
    {
      "cell_type": "code",
      "source": [
        "from tensorflow.keras.applications.xception import Xception\n",
        "from tensorflow.keras.applications.xception import preprocess_input\n",
        "\n",
        "X_train = preprocess_input(X_train)\n",
        "X_test = preprocess_input(X_test)\n",
        "X_valid = preprocess_input(X_valid)\n",
        "\n",
        "print(X_train.shape, X_test.shape, X_valid.shape)"
      ],
      "metadata": {
        "colab": {
          "base_uri": "https://localhost:8080/"
        },
        "id": "MsNjoSr-qjud",
        "outputId": "5f9f14ce-964c-4b9c-ae98-516131a44ecc"
      },
      "execution_count": 9,
      "outputs": [
        {
          "output_type": "stream",
          "name": "stdout",
          "text": [
            "(2569, 224, 224, 3) (734, 224, 224, 3) (367, 224, 224, 3)\n"
          ]
        }
      ]
    },
    {
      "cell_type": "markdown",
      "source": [
        "8. En transfer learning, il est souvent d'usage de faire du \"data augmentation\", surtout lorsque le nombre d'exemple est petit"
      ],
      "metadata": {
        "id": "craYVWlTEMPz"
      }
    },
    {
      "cell_type": "code",
      "source": [
        "data_augmentation = tf.keras.Sequential([\n",
        "    tf.keras.layers.RandomFlip(mode=\"horizontal\",seed=42),\n",
        "    tf.keras.layers.RandomRotation(factor=0.05,seed=42),\n",
        "    tf.keras.layers.RandomContrast(factor=0.2,seed=42)\n",
        "])"
      ],
      "metadata": {
        "id": "Yb-VQyTjEZS8"
      },
      "execution_count": 10,
      "outputs": []
    },
    {
      "cell_type": "markdown",
      "source": [
        "9. Définition du modèle via l'API Functionnal de Keras, le tout en utilisant le modèle Xception (sans le top, c'est-à-dire sans la dernière couche, car nous allons remplacer cette dernière couche par nos propres couches (avgPooling et SoftMax en output))"
      ],
      "metadata": {
        "id": "iGQNSoaLFIPx"
      }
    },
    {
      "cell_type": "code",
      "source": [
        "base_model = Xception(weights=\"imagenet\", include_top=False)\n",
        "\n",
        "avg = tf.keras.layers.GlobalAveragePooling2D()(base_model.output)\n",
        "\n",
        "output = tf.keras.layers.Dense(n_classes,activation=\"softmax\")(avg)\n",
        "\n",
        "model = tf.keras.Model(inputs = base_model.input, outputs=output)"
      ],
      "metadata": {
        "colab": {
          "base_uri": "https://localhost:8080/"
        },
        "id": "wAiH1v0RFbve",
        "outputId": "60bb5cbe-ee37-4c31-ea6a-143e5fa87cdd"
      },
      "execution_count": 11,
      "outputs": [
        {
          "output_type": "stream",
          "name": "stdout",
          "text": [
            "Downloading data from https://storage.googleapis.com/tensorflow/keras-applications/xception/xception_weights_tf_dim_ordering_tf_kernels_notop.h5\n",
            "83683744/83683744 [==============================] - 1s 0us/step\n"
          ]
        }
      ]
    },
    {
      "cell_type": "markdown",
      "source": [
        "10. Pour commencer, nous n'allons pas ré-entrainer les poids et biais de Xception (nous allons commencer par uniquement entrainer les poids de notre Softmax final)"
      ],
      "metadata": {
        "id": "ODZzEClqG3EF"
      }
    },
    {
      "cell_type": "code",
      "source": [
        "for layer in base_model.layers:\n",
        "  layer.trainable=False"
      ],
      "metadata": {
        "id": "LGY_cgWKHIuv"
      },
      "execution_count": 12,
      "outputs": []
    },
    {
      "cell_type": "markdown",
      "source": [
        "11. Compiler le modèle"
      ],
      "metadata": {
        "id": "qAcWbdKgHQxW"
      }
    },
    {
      "cell_type": "code",
      "source": [
        "optimizer = tf.keras.optimizers.SGD(learning_rate=0.1, momentum=0.9)\n",
        "\n",
        "model.compile(loss=\"categorical_crossentropy\",optimizer=optimizer,metrics=[\"accuracy\"])"
      ],
      "metadata": {
        "id": "tnsvBpNiHV_1"
      },
      "execution_count": 13,
      "outputs": []
    },
    {
      "cell_type": "markdown",
      "source": [
        "12. Entrainer le modèle pour quelques epochs (NOTE: vous pouvez rouler le modèle sur un GPU, ex (Colab): Runtime/Change runtime type/T4 GPU pour avoir plus de rapidité, mais attention, car le modèle est gourmand sur les unités de calcul de Google)"
      ],
      "metadata": {
        "id": "WURt7jJdHttB"
      }
    },
    {
      "cell_type": "code",
      "source": [
        "history = model.fit(X_train, y_train, batch_size=32 , validation_data=(X_valid,y_valid),epochs=3)"
      ],
      "metadata": {
        "colab": {
          "base_uri": "https://localhost:8080/"
        },
        "id": "hZA6oaCrHziP",
        "outputId": "d91c496a-8ed9-471a-f47f-6e11e1a2a77d"
      },
      "execution_count": null,
      "outputs": [
        {
          "output_type": "stream",
          "name": "stdout",
          "text": [
            "Epoch 1/3\n",
            "81/81 [==============================] - 612s 8s/step - loss: 1.3655 - accuracy: 0.6022 - val_loss: 1.0271 - val_accuracy: 0.7466\n",
            "Epoch 2/3\n",
            "27/81 [=========>....................] - ETA: 6:10 - loss: 1.0336 - accuracy: 0.7025"
          ]
        }
      ]
    },
    {
      "cell_type": "markdown",
      "source": [
        "13. Évaluation de l'ajustement du modèle (avec les métriques classiques: loss, accuracy)"
      ],
      "metadata": {
        "id": "YDX2Ta1XJFux"
      }
    },
    {
      "cell_type": "code",
      "source": [
        "loss, acc = model.evaluate(X_test, y_test, verbose=0)\n",
        "print('Accuracy: %.3f' % acc)"
      ],
      "metadata": {
        "id": "iWPBCq79JHnC",
        "colab": {
          "base_uri": "https://localhost:8080/",
          "height": 193
        },
        "outputId": "dcec9a74-2d9d-40a5-8d56-8436eaac8ca2"
      },
      "execution_count": 1,
      "outputs": [
        {
          "output_type": "error",
          "ename": "NameError",
          "evalue": "ignored",
          "traceback": [
            "\u001b[0;31m---------------------------------------------------------------------------\u001b[0m",
            "\u001b[0;31mNameError\u001b[0m                                 Traceback (most recent call last)",
            "\u001b[0;32m<ipython-input-1-7dd9063ac92a>\u001b[0m in \u001b[0;36m<cell line: 1>\u001b[0;34m()\u001b[0m\n\u001b[0;32m----> 1\u001b[0;31m \u001b[0mloss\u001b[0m\u001b[0;34m,\u001b[0m \u001b[0macc\u001b[0m \u001b[0;34m=\u001b[0m \u001b[0mmodel\u001b[0m\u001b[0;34m.\u001b[0m\u001b[0mevaluate\u001b[0m\u001b[0;34m(\u001b[0m\u001b[0mX_test\u001b[0m\u001b[0;34m,\u001b[0m \u001b[0my_test\u001b[0m\u001b[0;34m,\u001b[0m \u001b[0mverbose\u001b[0m\u001b[0;34m=\u001b[0m\u001b[0;36m0\u001b[0m\u001b[0;34m)\u001b[0m\u001b[0;34m\u001b[0m\u001b[0;34m\u001b[0m\u001b[0m\n\u001b[0m\u001b[1;32m      2\u001b[0m \u001b[0mprint\u001b[0m\u001b[0;34m(\u001b[0m\u001b[0;34m'Accuracy: %.3f'\u001b[0m \u001b[0;34m%\u001b[0m \u001b[0macc\u001b[0m\u001b[0;34m)\u001b[0m\u001b[0;34m\u001b[0m\u001b[0;34m\u001b[0m\u001b[0m\n",
            "\u001b[0;31mNameError\u001b[0m: name 'model' is not defined"
          ]
        }
      ]
    },
    {
      "cell_type": "markdown",
      "source": [
        "14. Si on atteint un plateau d'accuracy en entrainant seulement la dernière couche, c'est souvent signe qu'on peut commencer à entrainer aussi quelques couches du réseau pré-entrainer en les débloquant, par exemple, ici on débloque toutes les couches à partir de la 56e"
      ],
      "metadata": {
        "id": "VyHCkOjfJdfp"
      }
    },
    {
      "cell_type": "code",
      "source": [
        "for layer in base_model.layers[56:]:\n",
        "  layer.trainable=True\n",
        "\n",
        "optimizer = tf.keras.optimizers.SGD(learning_rate=0.01, momentum=0.9)\n",
        "\n",
        "model.compile(loss=\"categorical_crossentropy\",optimizer=optimizer,metrics=[\"accuracy\"])\n",
        "\n",
        "history = model.fit(X_train,y_train,batch_size=32 , validation_data=(X_valid,y_valid),epochs=5)"
      ],
      "metadata": {
        "colab": {
          "base_uri": "https://localhost:8080/"
        },
        "id": "U0D54MNIJ2lQ",
        "outputId": "8d5041a1-63e7-4e22-e539-4bce1bdf434d"
      },
      "execution_count": null,
      "outputs": [
        {
          "output_type": "stream",
          "name": "stdout",
          "text": [
            "Epoch 1/3\n",
            "81/81 [==============================] - 1447s 18s/step - loss: 0.6197 - accuracy: 0.7789 - val_loss: 0.3144 - val_accuracy: 0.9074\n",
            "Epoch 2/3\n",
            "81/81 [==============================] - 1431s 18s/step - loss: 0.1976 - accuracy: 0.9280 - val_loss: 0.3496 - val_accuracy: 0.8937\n",
            "Epoch 3/3\n",
            "81/81 [==============================] - 1438s 18s/step - loss: 0.0867 - accuracy: 0.9673 - val_loss: 0.3773 - val_accuracy: 0.8910\n"
          ]
        }
      ]
    },
    {
      "cell_type": "markdown",
      "source": [
        "13. Ré-évaluation de la performance du modèle"
      ],
      "metadata": {
        "id": "vF6ossrYRvhI"
      }
    },
    {
      "cell_type": "code",
      "source": [
        "loss, acc = model.evaluate(X_test, y_test, verbose=0)\n",
        "print('Accuracy: %.3f' % acc)"
      ],
      "metadata": {
        "colab": {
          "base_uri": "https://localhost:8080/",
          "height": 193
        },
        "id": "A-_ZcLwHR1Vw",
        "outputId": "26d5c265-4e74-44be-8aab-186ed597ad9b"
      },
      "execution_count": null,
      "outputs": [
        {
          "output_type": "error",
          "ename": "NameError",
          "evalue": "ignored",
          "traceback": [
            "\u001b[0;31m---------------------------------------------------------------------------\u001b[0m",
            "\u001b[0;31mNameError\u001b[0m                                 Traceback (most recent call last)",
            "\u001b[0;32m<ipython-input-1-7dd9063ac92a>\u001b[0m in \u001b[0;36m<cell line: 1>\u001b[0;34m()\u001b[0m\n\u001b[0;32m----> 1\u001b[0;31m \u001b[0mloss\u001b[0m\u001b[0;34m,\u001b[0m \u001b[0macc\u001b[0m \u001b[0;34m=\u001b[0m \u001b[0mmodel\u001b[0m\u001b[0;34m.\u001b[0m\u001b[0mevaluate\u001b[0m\u001b[0;34m(\u001b[0m\u001b[0mX_test\u001b[0m\u001b[0;34m,\u001b[0m \u001b[0my_test\u001b[0m\u001b[0;34m,\u001b[0m \u001b[0mverbose\u001b[0m\u001b[0;34m=\u001b[0m\u001b[0;36m0\u001b[0m\u001b[0;34m)\u001b[0m\u001b[0;34m\u001b[0m\u001b[0;34m\u001b[0m\u001b[0m\n\u001b[0m\u001b[1;32m      2\u001b[0m \u001b[0mprint\u001b[0m\u001b[0;34m(\u001b[0m\u001b[0;34m'Accuracy: %.3f'\u001b[0m \u001b[0;34m%\u001b[0m \u001b[0macc\u001b[0m\u001b[0;34m)\u001b[0m\u001b[0;34m\u001b[0m\u001b[0;34m\u001b[0m\u001b[0m\n",
            "\u001b[0;31mNameError\u001b[0m: name 'model' is not defined"
          ]
        }
      ]
    }
  ]
}