{
  "nbformat": 4,
  "nbformat_minor": 0,
  "metadata": {
    "colab": {
      "provenance": [],
      "authorship_tag": "ABX9TyPcVM8Ec68cqUI8b1XGc8OJ",
      "include_colab_link": true
    },
    "kernelspec": {
      "name": "python3",
      "display_name": "Python 3"
    },
    "language_info": {
      "name": "python"
    }
  },
  "cells": [
    {
      "cell_type": "markdown",
      "metadata": {
        "id": "view-in-github",
        "colab_type": "text"
      },
      "source": [
        "<a href=\"https://colab.research.google.com/github/rennyatwork/CegepSteFoy_IA/blob/main/08_deep_learning/tp_01_v04.ipynb\" target=\"_parent\"><img src=\"https://colab.research.google.com/assets/colab-badge.svg\" alt=\"Open In Colab\"/></a>"
      ]
    },
    {
      "cell_type": "code",
      "execution_count": 83,
      "metadata": {
        "id": "-nNNWGeBjaTU"
      },
      "outputs": [],
      "source": [
        "import pandas as pd\n",
        "from tensorflow.keras.layers import Dense, Dropout, Activation\n",
        "from tensorflow.keras.models import Model, Sequential\n",
        "from tensorflow.keras.optimizers import Adam\n",
        "#import tensorflow.keras.optimizers\n",
        "from sklearn.model_selection import train_test_split\n",
        "import matplotlib.pyplot as plt\n",
        "from keras.wrappers.scikit_learn import KerasRegressor\n",
        "from scipy.stats import reciprocal\n",
        "from sklearn.model_selection import RandomizedSearchCV\n",
        "import keras as keras\n",
        "from sklearn.metrics import mean_squared_error, r2_score\n",
        "from sklearn.preprocessing import StandardScaler\n",
        "import numpy as np\n",
        "from keras.callbacks import ModelCheckpoint\n",
        "import seaborn as sns\n",
        "from sklearn import linear_model\n",
        "from sklearn.dummy import DummyRegressor\n",
        "from sklearn import metrics"
      ]
    },
    {
      "cell_type": "code",
      "source": [
        "#!pip install tensorflow"
      ],
      "metadata": {
        "id": "cHIhn2w5j_tP"
      },
      "execution_count": null,
      "outputs": []
    },
    {
      "cell_type": "code",
      "source": [
        "## column to predict\n",
        "y_col = 'TotalScore'"
      ],
      "metadata": {
        "id": "p786NNFLx_sZ"
      },
      "execution_count": 84,
      "outputs": []
    },
    {
      "cell_type": "code",
      "source": [
        "def get_df_from_csv(p_path, p_sep=',', p_print=True):\n",
        "  df= pd.read_csv(p_path, sep= p_sep)\n",
        "  if (p_print):\n",
        "    print('---Head---')\n",
        "    print(df.head())\n",
        "    print('-- How many nulls? --')\n",
        "    print(df.isna().sum())\n",
        "  return df\n"
      ],
      "metadata": {
        "id": "SbY3CQeq2GHy"
      },
      "execution_count": 85,
      "outputs": []
    },
    {
      "cell_type": "code",
      "source": [
        "## Augmented df\n",
        "def get_augmented_df():\n",
        "  ## head 400001\n",
        "  path_csv = \"https://raw.githubusercontent.com/rennyatwork/CegepSteFoy_IA/main/08_deep_learning/data/AugmentedData_reduced.csv\"\n",
        "  augmented_df_1 = get_df_from_csv(path_csv, p_sep =\",\")\n",
        "  ## tail 284000\n",
        "  path_csv = \"https://raw.githubusercontent.com/rennyatwork/CegepSteFoy_IA/main/08_deep_learning/data/AugemntedData_reduced_tail.csv\"\n",
        "  augmented_df_2 = get_df_from_csv(path_csv, p_sep =\",\")\n",
        "\n",
        "  return pd.concat([augmented_df_1, augmented_df_2])"
      ],
      "metadata": {
        "id": "YwmzYC1wkP_2"
      },
      "execution_count": 86,
      "outputs": []
    },
    {
      "cell_type": "code",
      "source": [
        "## augmented_df (full augmented_df)\n",
        "augmented_df = get_augmented_df()"
      ],
      "metadata": {
        "colab": {
          "base_uri": "https://localhost:8080/"
        },
        "id": "7C7HxmObut6s",
        "outputId": "9d549471-965e-4727-982f-a73b9fe203d8"
      },
      "execution_count": 87,
      "outputs": [
        {
          "output_type": "stream",
          "name": "stdout",
          "text": [
            "---Head---\n",
            "   GameID  ScenarioID  HolesCompletedCount  Hole1  Hole2  Hole3  Hole4  Hole5  \\\n",
            "0       1           1                    0      0      0      0      0      0   \n",
            "1       2           1                    0      0      0      0      0      0   \n",
            "2       3           1                    0      0      0      0      0      0   \n",
            "3       4           1                    0      0      0      0      0      0   \n",
            "4       5           1                    0      0      0      0      0      0   \n",
            "\n",
            "   Hole6  Hole7  ...  Hole10  Hole11  Hole12  Hole13  Hole14  Hole15  Hole16  \\\n",
            "0      0      0  ...       0       0       0       0       0       0       0   \n",
            "1      0      0  ...       0       0       0       0       0       0       0   \n",
            "2      0      0  ...       0       0       0       0       0       0       0   \n",
            "3      0      0  ...       0       0       0       0       0       0       0   \n",
            "4      0      0  ...       0       0       0       0       0       0       0   \n",
            "\n",
            "   Hole17  Hole18  TotalScore  \n",
            "0       0       0          85  \n",
            "1       0       0          77  \n",
            "2       0       0          83  \n",
            "3       0       0          86  \n",
            "4       0       0          87  \n",
            "\n",
            "[5 rows x 22 columns]\n",
            "-- How many nulls? --\n",
            "GameID                 0\n",
            "ScenarioID             0\n",
            "HolesCompletedCount    0\n",
            "Hole1                  0\n",
            "Hole2                  0\n",
            "Hole3                  0\n",
            "Hole4                  0\n",
            "Hole5                  0\n",
            "Hole6                  0\n",
            "Hole7                  0\n",
            "Hole8                  0\n",
            "Hole9                  0\n",
            "Hole10                 0\n",
            "Hole11                 0\n",
            "Hole12                 0\n",
            "Hole13                 0\n",
            "Hole14                 0\n",
            "Hole15                 0\n",
            "Hole16                 0\n",
            "Hole17                 0\n",
            "Hole18                 0\n",
            "TotalScore             0\n",
            "dtype: int64\n",
            "---Head---\n",
            "   1  201  10  4  6  0  0.1  0.2  0.3  0.4  ...  0.7  5  4.1  4.2  6.1  4.3  \\\n",
            "0  2  201  10  3  5  0    0    0    0    0  ...    0  5    5    4    5    3   \n",
            "1  3  201  10  5  4  0    0    0    0    0  ...    0  6    5    4    5    3   \n",
            "2  4  201  10  4  4  0    0    0    0    0  ...    0  5    7    4    6    3   \n",
            "3  5  201  10  4  7  0    0    0    0    0  ...    0  9    6    3    5    4   \n",
            "4  6  201  10  4  5  0    0    0    0    0  ...    0  5    4    3    5    4   \n",
            "\n",
            "   5.1  4.4  6.2  85  \n",
            "0    4    3    4  77  \n",
            "1    5    3    3  83  \n",
            "2    6    3    4  86  \n",
            "3    5    3    4  87  \n",
            "4    4    6    5  83  \n",
            "\n",
            "[5 rows x 22 columns]\n",
            "-- How many nulls? --\n",
            "1      0\n",
            "201    0\n",
            "10     0\n",
            "4      0\n",
            "6      0\n",
            "0      0\n",
            "0.1    0\n",
            "0.2    0\n",
            "0.3    0\n",
            "0.4    0\n",
            "0.5    0\n",
            "0.6    0\n",
            "0.7    0\n",
            "5      0\n",
            "4.1    0\n",
            "4.2    0\n",
            "6.1    0\n",
            "4.3    0\n",
            "5.1    0\n",
            "4.4    0\n",
            "6.2    0\n",
            "85     0\n",
            "dtype: int64\n"
          ]
        }
      ]
    },
    {
      "cell_type": "code",
      "source": [
        "## nulls?\n",
        "print(augmented_df.isnull().sum())\n",
        "print(augmented_df[y_col].mode())\n"
      ],
      "metadata": {
        "colab": {
          "base_uri": "https://localhost:8080/"
        },
        "id": "aIgBf_Mevsul",
        "outputId": "3e83ce3d-d274-43ca-e040-f6f1ac8f93f9"
      },
      "execution_count": 88,
      "outputs": [
        {
          "output_type": "stream",
          "name": "stdout",
          "text": [
            "GameID                 283999\n",
            "ScenarioID             283999\n",
            "HolesCompletedCount    283999\n",
            "Hole1                  283999\n",
            "Hole2                  283999\n",
            "Hole3                  283999\n",
            "Hole4                  283999\n",
            "Hole5                  283999\n",
            "Hole6                  283999\n",
            "Hole7                  283999\n",
            "Hole8                  283999\n",
            "Hole9                  283999\n",
            "Hole10                 283999\n",
            "Hole11                 283999\n",
            "Hole12                 283999\n",
            "Hole13                 283999\n",
            "Hole14                 283999\n",
            "Hole15                 283999\n",
            "Hole16                 283999\n",
            "Hole17                 283999\n",
            "Hole18                 283999\n",
            "TotalScore             283999\n",
            "1                      400000\n",
            "201                    400000\n",
            "10                     400000\n",
            "4                      400000\n",
            "6                      400000\n",
            "0                      400000\n",
            "0.1                    400000\n",
            "0.2                    400000\n",
            "0.3                    400000\n",
            "0.4                    400000\n",
            "0.5                    400000\n",
            "0.6                    400000\n",
            "0.7                    400000\n",
            "5                      400000\n",
            "4.1                    400000\n",
            "4.2                    400000\n",
            "6.1                    400000\n",
            "4.3                    400000\n",
            "5.1                    400000\n",
            "4.4                    400000\n",
            "6.2                    400000\n",
            "85                     400000\n",
            "dtype: int64\n",
            "0    83.0\n",
            "Name: TotalScore, dtype: float64\n"
          ]
        }
      ]
    },
    {
      "cell_type": "code",
      "source": [
        "### several nulls...\n",
        "### Let's create a function to replace nulls with most frequent values\n",
        "\n",
        "def get_df_without_nulls(p_df):\n",
        "  for col in p_df.columns:\n",
        "    most_frequent_value = p_df[col].mode()[0]\n",
        "    p_df[col].fillna(most_frequent_value, inplace=True)\n",
        "  return p_df\n"
      ],
      "metadata": {
        "id": "rKV2_gdu03bt"
      },
      "execution_count": 89,
      "outputs": []
    },
    {
      "cell_type": "code",
      "source": [
        "#### still any nulls?\n",
        "augmented_df2 = get_df_without_nulls(augmented_df)\n",
        "\n",
        "print(augmented_df2.isnull().sum())\n",
        "print(augmented_df2[y_col].mode())"
      ],
      "metadata": {
        "colab": {
          "base_uri": "https://localhost:8080/"
        },
        "id": "fGK8uzcw1p9S",
        "outputId": "3b7ebc1e-a02d-4913-a360-fa01952fca8c"
      },
      "execution_count": 90,
      "outputs": [
        {
          "output_type": "stream",
          "name": "stdout",
          "text": [
            "GameID                 0\n",
            "ScenarioID             0\n",
            "HolesCompletedCount    0\n",
            "Hole1                  0\n",
            "Hole2                  0\n",
            "Hole3                  0\n",
            "Hole4                  0\n",
            "Hole5                  0\n",
            "Hole6                  0\n",
            "Hole7                  0\n",
            "Hole8                  0\n",
            "Hole9                  0\n",
            "Hole10                 0\n",
            "Hole11                 0\n",
            "Hole12                 0\n",
            "Hole13                 0\n",
            "Hole14                 0\n",
            "Hole15                 0\n",
            "Hole16                 0\n",
            "Hole17                 0\n",
            "Hole18                 0\n",
            "TotalScore             0\n",
            "1                      0\n",
            "201                    0\n",
            "10                     0\n",
            "4                      0\n",
            "6                      0\n",
            "0                      0\n",
            "0.1                    0\n",
            "0.2                    0\n",
            "0.3                    0\n",
            "0.4                    0\n",
            "0.5                    0\n",
            "0.6                    0\n",
            "0.7                    0\n",
            "5                      0\n",
            "4.1                    0\n",
            "4.2                    0\n",
            "6.1                    0\n",
            "4.3                    0\n",
            "5.1                    0\n",
            "4.4                    0\n",
            "6.2                    0\n",
            "85                     0\n",
            "dtype: int64\n",
            "0    83.0\n",
            "Name: TotalScore, dtype: float64\n"
          ]
        }
      ]
    },
    {
      "cell_type": "code",
      "source": [
        "## Original df\n",
        "path_csv = \"https://raw.githubusercontent.com/rennyatwork/CegepSteFoy_IA/main/08_deep_learning/data/OriginalData.csv\"\n",
        "original_df = get_df_from_csv(path_csv, p_sep =\",\")"
      ],
      "metadata": {
        "colab": {
          "base_uri": "https://localhost:8080/"
        },
        "id": "QumhWLveknb8",
        "outputId": "61de9ed5-63a4-4efe-8cd2-663194dc43ec"
      },
      "execution_count": 91,
      "outputs": [
        {
          "output_type": "stream",
          "name": "stdout",
          "text": [
            "---Head---\n",
            "   GameID  Hole1  Hole2  Hole3  Hole4  Hole5  Hole6  Hole7  Hole8  Hole9  \\\n",
            "0       1      4      6      5      4      6      5      5      3      5   \n",
            "1       2      3      5      4      4      5      5      6      3      4   \n",
            "2       3      5      4      6      4      7      4      5      3      5   \n",
            "3       4      4      4      7      3      6      4      4      4      5   \n",
            "4       5      4      7      6      4      5      4      5      3      4   \n",
            "\n",
            "   Hole10  Hole11  Hole12  Hole13  Hole14  Hole15  Hole16  Hole17  Hole18  \\\n",
            "0       4       5       4       4       6       4       5       4       6   \n",
            "1       5       5       5       4       5       3       4       3       4   \n",
            "2       6       6       5       4       5       3       5       3       3   \n",
            "3       7       5       7       4       6       3       6       3       4   \n",
            "4       6       9       6       3       5       4       5       3       4   \n",
            "\n",
            "   TotalScore  \n",
            "0          85  \n",
            "1          77  \n",
            "2          83  \n",
            "3          86  \n",
            "4          87  \n",
            "-- How many nulls? --\n",
            "GameID        0\n",
            "Hole1         0\n",
            "Hole2         0\n",
            "Hole3         0\n",
            "Hole4         0\n",
            "Hole5         0\n",
            "Hole6         0\n",
            "Hole7         0\n",
            "Hole8         0\n",
            "Hole9         0\n",
            "Hole10        0\n",
            "Hole11        0\n",
            "Hole12        0\n",
            "Hole13        0\n",
            "Hole14        0\n",
            "Hole15        0\n",
            "Hole16        0\n",
            "Hole17        0\n",
            "Hole18        0\n",
            "TotalScore    0\n",
            "dtype: int64\n"
          ]
        }
      ]
    },
    {
      "cell_type": "code",
      "source": [
        "## nulls?\n",
        "original_df.isna().sum()"
      ],
      "metadata": {
        "colab": {
          "base_uri": "https://localhost:8080/"
        },
        "id": "u6RjTivzwTMb",
        "outputId": "35a16f01-7ab7-4e06-90c0-d483fa3bf713"
      },
      "execution_count": 92,
      "outputs": [
        {
          "output_type": "execute_result",
          "data": {
            "text/plain": [
              "GameID        0\n",
              "Hole1         0\n",
              "Hole2         0\n",
              "Hole3         0\n",
              "Hole4         0\n",
              "Hole5         0\n",
              "Hole6         0\n",
              "Hole7         0\n",
              "Hole8         0\n",
              "Hole9         0\n",
              "Hole10        0\n",
              "Hole11        0\n",
              "Hole12        0\n",
              "Hole13        0\n",
              "Hole14        0\n",
              "Hole15        0\n",
              "Hole16        0\n",
              "Hole17        0\n",
              "Hole18        0\n",
              "TotalScore    0\n",
              "dtype: int64"
            ]
          },
          "metadata": {},
          "execution_count": 92
        }
      ]
    },
    {
      "cell_type": "code",
      "source": [
        "## most frequent value?\n",
        "print(original_df[y_col].mode())\n",
        "print(original_df[y_col].mean())"
      ],
      "metadata": {
        "colab": {
          "base_uri": "https://localhost:8080/"
        },
        "id": "vljJ2IE1xzRW",
        "outputId": "b91d92b0-c86d-47c2-fb07-ac7dfe97d457"
      },
      "execution_count": 37,
      "outputs": [
        {
          "output_type": "stream",
          "name": "stdout",
          "text": [
            "0    83\n",
            "Name: TotalScore, dtype: int64\n",
            "83.0655\n"
          ]
        }
      ]
    },
    {
      "cell_type": "code",
      "source": [
        "## naïve prediction (baseline) can be original_df[y_col].mode(), original_df[y_col].mean()"
      ],
      "metadata": {
        "id": "4opXeclzzkqD"
      },
      "execution_count": null,
      "outputs": []
    },
    {
      "cell_type": "code",
      "source": [
        "## train test split\n",
        "## we apply the scaler\n",
        "def get_train_test(pDf=original_df, p_var_y=y_col, p_test_size=0.2, p_random_state=25):\n",
        "  dfX = pDf.drop(p_var_y, axis=1).values\n",
        "  dfY = pDf[p_var_y]\n",
        "\n",
        "  # Apply standardization to feature values\n",
        "  scaler = StandardScaler()\n",
        "  dfX_standardized = scaler.fit_transform(dfX)\n",
        "\n",
        "  X_train, X_test, y_train, y_test = train_test_split(dfX, dfY, test_size=p_test_size, random_state=p_random_state)\n",
        "  X_train, X_valid, y_train, y_valid = train_test_split(X_train, y_train, test_size=p_test_size, random_state=p_random_state)\n",
        "\n",
        "  return X_train, X_valid, X_test, y_train, y_valid, y_test\n"
      ],
      "metadata": {
        "id": "8DPZWAKFkqeb"
      },
      "execution_count": 93,
      "outputs": []
    },
    {
      "cell_type": "code",
      "source": [],
      "metadata": {
        "id": "3x_z5OH2vHdw"
      },
      "execution_count": null,
      "outputs": []
    },
    {
      "cell_type": "markdown",
      "source": [
        "########## Establishing a baseline #########"
      ],
      "metadata": {
        "id": "4Pk6Qjfq3Xim"
      }
    },
    {
      "cell_type": "code",
      "source": [
        "def analyze_dummy(p_df, p_X_train, p_X_valid, p_y_train ,p_y_valid):\n",
        "  baseline_reg = DummyRegressor()\n",
        "  baseline_reg.fit(p_X_train, p_y_train)\n",
        "  print(\"[score train]\", baseline_reg.score(p_X_train, p_y_train))\n",
        "  print(\"[score valid]\", baseline_reg.score(p_X_valid, p_y_valid))\n",
        "\n",
        "  y_pred = baseline_reg.predict(p_y_valid)\n",
        "\n",
        "  print('Root Mean Squared Error - [RMSE]:', round(np.sqrt(metrics.mean_squared_error(p_y_valid, y_pred)),3) )\n",
        "  print('Mean Squared Error - [MSE]:', round(metrics.mean_squared_error(p_y_valid, y_pred),3) )\n",
        "\n"
      ],
      "metadata": {
        "id": "-SuoLH0c3Dv4"
      },
      "execution_count": 127,
      "outputs": []
    },
    {
      "cell_type": "code",
      "source": [
        "## augmented_df\n",
        "X_train, X_valid, X_test, y_train, y_valid, y_test = get_train_test(augmented_df2)\n",
        "analyze_dummy(augmented_df2, X_train, X_valid, y_train, y_valid)"
      ],
      "metadata": {
        "colab": {
          "base_uri": "https://localhost:8080/"
        },
        "id": "0n3zcNFQ3DlL",
        "outputId": "697a629d-e940-493b-8e4d-5fa562f7d3be"
      },
      "execution_count": 128,
      "outputs": [
        {
          "output_type": "stream",
          "name": "stdout",
          "text": [
            "[score train] 0.0\n",
            "[score valid] -2.5220723929519906e-05\n",
            "Root Mean Squared Error - [RMSE]: 5.351\n",
            "Mean Squared Error - [MSE]: 28.635\n"
          ]
        }
      ]
    },
    {
      "cell_type": "code",
      "source": [
        "## original df\n",
        "X_train, X_valid, X_test, y_train, y_valid, y_test = get_train_test(original_df)\n",
        "analyze_dummy(original_df, X_train, X_valid, y_train, y_valid)"
      ],
      "metadata": {
        "colab": {
          "base_uri": "https://localhost:8080/"
        },
        "id": "dRPa4S_IONrD",
        "outputId": "f69d6f83-763a-433a-e1f4-c39248bbe8fb"
      },
      "execution_count": 96,
      "outputs": [
        {
          "output_type": "stream",
          "name": "stdout",
          "text": [
            "[score train] 0.0\n",
            "[score valid] -0.000796875625000304\n",
            "Root Mean Squared Error - [RMSE]: 7.06\n",
            "Mean Squared Error - [MSE]: 49.844\n"
          ]
        }
      ]
    },
    {
      "cell_type": "markdown",
      "source": [
        "#############################\n",
        "\n",
        "Our model must perform better than\n",
        "\n",
        "Root Mean Squared Error - [RMSE]: 5.351\n",
        "\n",
        "#############################\n"
      ],
      "metadata": {
        "id": "L2FaYWxU3er_"
      }
    },
    {
      "cell_type": "markdown",
      "source": [
        "####### Simple regression ######\n"
      ],
      "metadata": {
        "id": "CWpEL0BqVbtP"
      }
    },
    {
      "cell_type": "code",
      "source": [
        "from sklearn.linear_model import Ridge, RidgeCV\n",
        "from sklearn.linear_model import Lasso, LassoCV\n",
        "from sklearn.linear_model import ElasticNet, ElasticNetCV\n",
        "from sklearn.model_selection import cross_val_score"
      ],
      "metadata": {
        "id": "WfVhyDznWX0U"
      },
      "execution_count": 157,
      "outputs": []
    },
    {
      "cell_type": "code",
      "source": [
        "### affiche les metriques\n",
        "def print_metrics(pY, pYpred, nbDecimal=3 ):\n",
        "    #print('Mean Absolute Error - [MAE]:', round(metrics.mean_absolute_error(pY, pYpred), nbDecimal) )\n",
        "    print('Mean Squared Error - [MSE]:', round(metrics.mean_squared_error(pY, pYpred),nbDecimal ) )\n",
        "    #print('Score - [accuracy]: ', round(pRegressor.score(pY, pYpred), nbDecimal))\n",
        "    print('Root Mean Squared Error - [RMSE]:', round(np.sqrt(metrics.mean_squared_error(pY, pYpred)),nbDecimal) )\n",
        "    #print('[Classification report]')\n",
        "    #print(classification_report(pYtest, pYpred, labels = donnee['ozone'].unique()))\n",
        ""
      ],
      "metadata": {
        "id": "htEGWYCbXicZ"
      },
      "execution_count": 151,
      "outputs": []
    },
    {
      "cell_type": "code",
      "source": [
        "from sklearn.model_selection import LeaveOneOut\n",
        "def analyze_regression(p_X_train,\n",
        "                       p_X_test,\n",
        "                       p_y_train,\n",
        "                       p_y_test,\n",
        "                       pCv=4,\n",
        "                       pMaxIter=1000\n",
        "                       ):\n",
        "\n",
        "\n",
        "\n",
        "    print(\"-----[Linear Regression]-----\")\n",
        "    regr = linear_model.LinearRegression(fit_intercept=True)\n",
        "    regr.fit(p_X_train, p_y_train)\n",
        "\n",
        "    loo = LeaveOneOut()\n",
        "    #print(loo.get_n_splits(X))\n",
        "    #crossvalidation = KFold(n_splits=392, random_state=None, shuffle=False)\n",
        "\n",
        "    ##http://www.science.smith.edu/~jcrouser/SDS293/labs/lab7-py.html\n",
        "    scores_train = cross_val_score(regr, p_X_train, p_y_train, cv=loo, scoring=\"neg_mean_squared_error\")\n",
        "    mse_train = np.mean(np.abs(scores_train))\n",
        "    print(\"---[train]---\")\n",
        "    #print(\"[train] -   MSE: \" + str(mse_train) + \", STD: \" + str(np.std(scores_train)))\n",
        "    print(\"RMSE \", round(np.sqrt(mse_train),3) )\n",
        "    print(\"MSE \", round(mse_train,3))\n",
        "    #print(\"score \", round(np.std(scores_train),3) )\n",
        "\n",
        "\n",
        "    scores_test = cross_val_score(regr, p_X_test, p_y_test, cv=loo, scoring=\"neg_mean_squared_error\")\n",
        "    mse_test = np.mean(np.abs(scores_test))\n",
        "    print(\"---[test]---\")\n",
        "    #print(\"[test] -   MSE: \" + str(mse_test) + \", STD: \" + str(np.std(scores_test)))\n",
        "    print(\"RMSE \", round(np.sqrt(mse_test),5 ))\n",
        "    print(\"MSE \", round(mse_test,5))\n",
        "    #print(\"score \", round(np.std(scores_test),3) )\n",
        "\n",
        ""
      ],
      "metadata": {
        "id": "rwtEnEM_Y8JE"
      },
      "execution_count": 177,
      "outputs": []
    },
    {
      "cell_type": "code",
      "source": [
        "## regression\n",
        "analyze_regression(p_X_train = X_train,\n",
        "                       p_X_test = X_valid,\n",
        "                       p_y_train = y_train,\n",
        "                       p_y_test = y_valid)"
      ],
      "metadata": {
        "id": "V7mR-t9qaUPn",
        "outputId": "48cccb31-9816-433e-de1c-367498845af1",
        "colab": {
          "base_uri": "https://localhost:8080/"
        }
      },
      "execution_count": 178,
      "outputs": [
        {
          "output_type": "stream",
          "name": "stdout",
          "text": [
            "-----[Linear Regression]-----\n",
            "---[train]---\n",
            "RMSE  0.0\n",
            "MSE  0.0\n",
            "---[test]---\n",
            "RMSE  0.0\n",
            "MSE  0.0\n"
          ]
        }
      ]
    },
    {
      "cell_type": "code",
      "source": [
        "### elasticnet, ridge, lasso\n",
        "def analyze_regularization(\n",
        "                    pAlphas\n",
        "                    , pRegressorName\n",
        "                    , pRegressorCVName\n",
        "                    , p_X_train\n",
        "                    , p_X_test\n",
        "                    , p_y_train\n",
        "                    , p_y_test\n",
        "                    , pCv=5\n",
        "                    , pMaxIter=1000\n",
        "                    ):\n",
        "\n",
        "\n",
        "\n",
        "    print(\"----[\"+pRegressorName+\"]----\")\n",
        "    regr = globals()[pRegressorCVName](alphas=pAlphas, cv=pCv).fit(p_X_train, p_y_train)\n",
        "    #regr = linear_model.ElasticNetCV(alphas=pAlphas, cv=pCv).fit(X_train, y_train)\n",
        "\n",
        "    print(\"[alpha]: \", regr.alpha_)\n",
        "\n",
        "    modele_final = globals()[pRegressorName](regr.alpha_, max_iter=pMaxIter).fit(p_X_train, p_y_train)\n",
        "\n",
        "    y_pred_train = regr.predict(p_X_train)\n",
        "    y_pred_test = regr.predict(p_X_test)\n",
        "\n",
        "\n",
        "    print(\"---[train]---\")\n",
        "    print_metrics(p_y_train, y_pred_train)\n",
        "\n",
        "    print(\"---[test]---\")\n",
        "    #print(\"[score]: \",  regr.score(X_test, y_test))\n",
        "    print_metrics(p_y_test, y_pred_test)"
      ],
      "metadata": {
        "id": "_EV1Wx_fVay0"
      },
      "execution_count": 179,
      "outputs": []
    },
    {
      "cell_type": "code",
      "source": [
        "type(original_df)"
      ],
      "metadata": {
        "id": "AiouGc-BYbFL",
        "outputId": "1170c66a-d056-49eb-b1d6-9ff2c26ee7f5",
        "colab": {
          "base_uri": "https://localhost:8080/"
        }
      },
      "execution_count": 155,
      "outputs": [
        {
          "output_type": "execute_result",
          "data": {
            "text/plain": [
              "pandas.core.frame.DataFrame"
            ]
          },
          "metadata": {},
          "execution_count": 155
        }
      ]
    },
    {
      "cell_type": "code",
      "source": [
        "### Ridge avec var exponnentielles\n",
        "lstAlpha = [0.5, 0.8, 1, 1.2, 1.3]\n",
        "#analyze_ridge(powerDfX, dfY, lstAlpha)\n",
        "#lstAlpha = [  7, 8, 8.4, 8.5, 8.6,  10, 10.5]\n",
        "analyze_regularization( lstAlpha\n",
        "                       , pRegressorName = \"Ridge\"\n",
        "                       , pRegressorCVName = \"RidgeCV\"\n",
        "                       , p_X_train = X_train\n",
        "                       , p_X_test = X_valid\n",
        "                       , p_y_train = y_train\n",
        "                       , p_y_test = y_valid\n",
        "                      )"
      ],
      "metadata": {
        "id": "mXkKqSTaWvAZ",
        "outputId": "65a9bcee-0038-4d08-fed1-237c0a1e5896",
        "colab": {
          "base_uri": "https://localhost:8080/"
        }
      },
      "execution_count": 181,
      "outputs": [
        {
          "output_type": "stream",
          "name": "stdout",
          "text": [
            "----[Ridge]----\n",
            "[alpha]:  0.5\n",
            "---[train]---\n",
            "Mean Squared Error - [MSE]: 0.0\n",
            "Root Mean Squared Error - [RMSE]: 0.001\n",
            "---[test]---\n",
            "Mean Squared Error - [MSE]: 0.0\n",
            "Root Mean Squared Error - [RMSE]: 0.001\n"
          ]
        }
      ]
    },
    {
      "cell_type": "markdown",
      "source": [
        "###################\n"
      ],
      "metadata": {
        "id": "iHm4CzgPVdAX"
      }
    },
    {
      "cell_type": "code",
      "source": [
        "## create model\n",
        "def create_model (p_learning_rate, p_dropout_rate, pDfX, p_nb_neuron_input=128, p_activation='relu'):\n",
        "  model = Sequential()\n",
        "  model.add(Dense(p_nb_neuron_input, input_dim=pDfX.shape[1], activation=p_activation))\n",
        "  model.add(Dropout(p_dropout_rate))\n",
        "  model.add(Dense(int(p_nb_neuron_input/2), activation=p_activation))\n",
        "  model.add(Dropout(p_dropout_rate))\n",
        "  model.add(Dense(int(p_nb_neuron_input/4), activation=p_activation))\n",
        "  model.add(Dropout(p_dropout_rate))\n",
        "  model.add(Dense(1))\n",
        "\n",
        "  adam = Adam(lr = p_learning_rate)\n",
        "\n",
        "  #model.compile( loss='mean_squared_error', optimizer=adam, metrics=['mae'])\n",
        "  model.compile( loss='mean_squared_error', optimizer=adam, metrics=['mse'])\n",
        "  return model\n"
      ],
      "metadata": {
        "id": "b3lH-Pj-mRjw"
      },
      "execution_count": 115,
      "outputs": []
    },
    {
      "cell_type": "code",
      "source": [
        "## build model (book HandsOn -on ML, Aurélien Géron)\n",
        "def build_model (p_input_shape,\n",
        "                 p_n_hidden=1,\n",
        "                 p_n_neurons=30,\n",
        "                 p_learning_rate=3e-3,\n",
        "                 p_activation='relu'):\n",
        "  model = Sequential()\n",
        "  model.add(keras.layers.InputLayer(input_shape=p_input_shape))\n",
        "  for layer in range(p_n_hidden):\n",
        "    model.add(keras.layers.Dense(p_n_neurons, activation=p_activation))\n",
        "    model.add(keras.layers.BatchNormalization(momentum=0.9, epsilon=1e-5))\n",
        "    #keras.layers.BatchNormalization()\n",
        "  model.add(keras.layers.Dense(1))\n",
        "  optimizer = keras.optimizers.SGD(lr=p_learning_rate)\n",
        "\n",
        "  #arr_metrics = ['mae', 'accuracy']\n",
        "  #arr_metrics = ['mae']\n",
        "  arr_metrics = ['mse']\n",
        "\n",
        "  model.compile(loss='mse', optimizer = optimizer, metrics=arr_metrics)\n",
        "  return model"
      ],
      "metadata": {
        "id": "a6LHGZSf2Ln4"
      },
      "execution_count": 129,
      "outputs": []
    },
    {
      "cell_type": "code",
      "source": [
        "## augmented_df\n",
        "## getting train, test sets\n",
        "X_train, X_valid, X_test, y_train, y_valid,  y_test = get_train_test(augmented_df2)"
      ],
      "metadata": {
        "id": "GbpVj-dmmdZI"
      },
      "execution_count": 98,
      "outputs": []
    },
    {
      "cell_type": "code",
      "source": [
        "## original_df\n",
        "## getting train, test sets\n",
        "X_train, X_valid, X_test, y_train, y_valid,  y_test = get_train_test(original_df)"
      ],
      "metadata": {
        "id": "pw5LMH4nOm8E"
      },
      "execution_count": 130,
      "outputs": []
    },
    {
      "cell_type": "code",
      "source": [
        "print(np.sum(np.isnan(X_train)))\n",
        "print(np.sum(np.isnan(X_valid)))\n",
        "print(np.sum(np.isnan(X_test)))\n",
        "print(np.sum(np.isnan(y_train)))\n",
        "print(np.sum(np.isnan(y_valid)))\n",
        "print(np.sum(np.isnan(y_test)))"
      ],
      "metadata": {
        "colab": {
          "base_uri": "https://localhost:8080/"
        },
        "id": "4Dy8krRvO7SG",
        "outputId": "91cdca74-608b-4b4f-e811-8ed6c432c7d4"
      },
      "execution_count": 131,
      "outputs": [
        {
          "output_type": "stream",
          "name": "stdout",
          "text": [
            "0\n",
            "0\n",
            "0\n",
            "0\n",
            "0\n",
            "0\n"
          ]
        }
      ]
    },
    {
      "cell_type": "code",
      "source": [
        "model = create_model (0.001, 0.3, X_train)"
      ],
      "metadata": {
        "colab": {
          "base_uri": "https://localhost:8080/"
        },
        "id": "AguEu36LooFH",
        "outputId": "29ac5068-1216-4c03-d26c-72b6b5da1f9b"
      },
      "execution_count": 132,
      "outputs": [
        {
          "output_type": "stream",
          "name": "stderr",
          "text": [
            "WARNING:absl:`lr` is deprecated in Keras optimizer, please use `learning_rate` or use the legacy optimizer, e.g.,tf.keras.optimizers.legacy.Adam.\n"
          ]
        }
      ]
    },
    {
      "cell_type": "code",
      "source": [
        "def plot_graph(p_model_history):\n",
        "    # Plot MAE\n",
        "    plt.plot(p_model_history['mae'])\n",
        "    plt.plot(p_model_history['val_mae'])\n",
        "\n",
        "    # Plot loss\n",
        "    plt.plot(p_model_history['loss'])\n",
        "    plt.plot(p_model_history['val_loss'])\n",
        "\n",
        "    # Add labels and legends for MAE and loss\n",
        "    plt.legend(['train MAE', 'test MAE', 'train loss', 'test loss'], loc='upper right')\n",
        "    plt.title('Model Metrics')\n",
        "    plt.ylabel('Metrics')\n",
        "    plt.xlabel('Epoch')\n",
        "    plt.show()\n",
        "\n",
        "    # Plot accuracy (if applicable)\n",
        "    if 'accuracy' in p_model_history:\n",
        "        plt.plot(p_model_history['accuracy'])\n",
        "        plt.plot(p_model_history['val_accuracy'])\n",
        "\n",
        "        # Add labels and legends for accuracy\n",
        "        plt.legend(['train accuracy', 'test accuracy'], loc='upper right')\n",
        "        plt.title('Model Accuracy')\n",
        "        plt.ylabel('Accuracy')\n",
        "        plt.xlabel('Epoch')\n",
        "        plt.show()\n"
      ],
      "metadata": {
        "id": "WoX2qGjdxoTC"
      },
      "execution_count": 73,
      "outputs": []
    },
    {
      "cell_type": "code",
      "source": [
        "def plot_graph_2(p_model_history, p_var_valid, p_var_test, p_arr_legend):\n",
        "    # Plot MAE\n",
        "    plt.plot(p_model_history[p_var_valid])\n",
        "    plt.plot(p_model_history[p_var_test])\n",
        "\n",
        "    ## Plot loss\n",
        "    #plt.plot(p_model_history['loss'])\n",
        "    #plt.plot(p_model_history['val_loss'])\n",
        "\n",
        "    ## Add labels and legends for MAE and loss\n",
        "    #plt.legend(['train MAE', 'test MAE', 'train loss', 'test loss'], loc='upper right')\n",
        "    plt.legend(p_arr_legend, loc='upper right')\n",
        "    plt.title('Model Metrics')\n",
        "    plt.ylabel('Metrics')\n",
        "    plt.xlabel('Epoch')\n",
        "    plt.show()\n",
        "\n",
        "\n",
        "\n",
        "\n"
      ],
      "metadata": {
        "id": "9ohTjvb85boS"
      },
      "execution_count": 107,
      "outputs": []
    },
    {
      "cell_type": "code",
      "source": [
        "def do_analysis(pModel, pXTrain, pYTrain, pXTest, pYTest,\n",
        "                p_dropout_rate =0.3, p_learning_rate=0.01, p_epochs =30, p_batch_size=10,\n",
        "                p_validation_split=0.2, p_verbose=True, p_plot_graph=1):\n",
        "\n",
        "  ## we fit with train\n",
        "  model_history = pModel.fit(pXTrain, pYTrain, batch_size=p_batch_size, epochs=p_epochs, validation_split = p_validation_split, verbose=1)\n",
        "\n",
        "  ## we evaluate model's accuracy (use TEST vars, NOT TRAIN)\n",
        "  score = pModel.evaluate(pXTest, pYTest, verbose=p_verbose)\n",
        "\n",
        "  print(\"[Loss]: \", score[0])\n",
        "  print(\"[MSE]: \", score[1])\n",
        "\n",
        "  if(p_plot_graph):\n",
        "    #plot_graph(model_history.history)\n",
        "    #plot_graph_2(model_history.history, 'mae', 'val_mae', ['train MAE', 'test MAE'])\n",
        "    plot_graph_2(model_history.history, 'mse', 'val_mse', ['train MSE', 'test MSE'])\n",
        "    plot_graph_2(model_history.history, 'loss', 'val_loss', ['train LOSS', 'test LOSS'])\n"
      ],
      "metadata": {
        "id": "5w0Nddg9p0Tf"
      },
      "execution_count": 134,
      "outputs": []
    },
    {
      "cell_type": "code",
      "source": [
        "## Modele valuation\n",
        "model = create_model (0.001, 0.3, X_train)\n",
        "do_analysis(model, X_train, y_train, X_test, y_test, p_learning_rate =0.0001, p_epochs=50, p_verbose=0)"
      ],
      "metadata": {
        "colab": {
          "base_uri": "https://localhost:8080/",
          "height": 1000
        },
        "id": "fajV9jbsrp0A",
        "outputId": "54078343-a3c1-442b-bf18-caa997b47ded"
      },
      "execution_count": 138,
      "outputs": [
        {
          "output_type": "stream",
          "name": "stderr",
          "text": [
            "WARNING:absl:`lr` is deprecated in Keras optimizer, please use `learning_rate` or use the legacy optimizer, e.g.,tf.keras.optimizers.legacy.Adam.\n"
          ]
        },
        {
          "output_type": "stream",
          "name": "stdout",
          "text": [
            "Epoch 1/50\n",
            "103/103 [==============================] - 1s 4ms/step - loss: 6058.3442 - mse: 6058.3442 - val_loss: 2823.2405 - val_mse: 2823.2405\n",
            "Epoch 2/50\n",
            "103/103 [==============================] - 0s 3ms/step - loss: 2838.4521 - mse: 2838.4521 - val_loss: 3082.2031 - val_mse: 3082.2031\n",
            "Epoch 3/50\n",
            "103/103 [==============================] - 0s 3ms/step - loss: 1674.1210 - mse: 1674.1210 - val_loss: 988.5646 - val_mse: 988.5646\n",
            "Epoch 4/50\n",
            "103/103 [==============================] - 0s 3ms/step - loss: 1164.3824 - mse: 1164.3824 - val_loss: 951.8929 - val_mse: 951.8929\n",
            "Epoch 5/50\n",
            "103/103 [==============================] - 0s 3ms/step - loss: 1081.2546 - mse: 1081.2546 - val_loss: 739.3779 - val_mse: 739.3779\n",
            "Epoch 6/50\n",
            "103/103 [==============================] - 0s 2ms/step - loss: 975.9260 - mse: 975.9260 - val_loss: 503.5330 - val_mse: 503.5330\n",
            "Epoch 7/50\n",
            "103/103 [==============================] - 0s 3ms/step - loss: 928.3513 - mse: 928.3513 - val_loss: 789.5933 - val_mse: 789.5933\n",
            "Epoch 8/50\n",
            "103/103 [==============================] - 0s 3ms/step - loss: 827.6080 - mse: 827.6081 - val_loss: 656.0024 - val_mse: 656.0024\n",
            "Epoch 9/50\n",
            "103/103 [==============================] - 0s 3ms/step - loss: 885.7787 - mse: 885.7787 - val_loss: 512.8293 - val_mse: 512.8293\n",
            "Epoch 10/50\n",
            "103/103 [==============================] - 0s 3ms/step - loss: 752.3591 - mse: 752.3591 - val_loss: 179.9425 - val_mse: 179.9425\n",
            "Epoch 11/50\n",
            "103/103 [==============================] - 0s 3ms/step - loss: 674.5068 - mse: 674.5068 - val_loss: 430.8210 - val_mse: 430.8210\n",
            "Epoch 12/50\n",
            "103/103 [==============================] - 0s 4ms/step - loss: 745.6705 - mse: 745.6706 - val_loss: 374.9118 - val_mse: 374.9118\n",
            "Epoch 13/50\n",
            "103/103 [==============================] - 0s 4ms/step - loss: 644.3408 - mse: 644.3408 - val_loss: 431.2728 - val_mse: 431.2728\n",
            "Epoch 14/50\n",
            "103/103 [==============================] - 0s 4ms/step - loss: 612.5511 - mse: 612.5511 - val_loss: 306.5273 - val_mse: 306.5273\n",
            "Epoch 15/50\n",
            "103/103 [==============================] - 0s 4ms/step - loss: 604.4426 - mse: 604.4426 - val_loss: 302.9573 - val_mse: 302.9573\n",
            "Epoch 16/50\n",
            "103/103 [==============================] - 0s 4ms/step - loss: 581.8030 - mse: 581.8030 - val_loss: 129.4473 - val_mse: 129.4473\n",
            "Epoch 17/50\n",
            "103/103 [==============================] - 0s 4ms/step - loss: 590.3868 - mse: 590.3868 - val_loss: 327.3911 - val_mse: 327.3911\n",
            "Epoch 18/50\n",
            "103/103 [==============================] - 0s 4ms/step - loss: 547.2776 - mse: 547.2776 - val_loss: 231.9620 - val_mse: 231.9620\n",
            "Epoch 19/50\n",
            "103/103 [==============================] - 0s 3ms/step - loss: 513.7600 - mse: 513.7600 - val_loss: 79.4604 - val_mse: 79.4604\n",
            "Epoch 20/50\n",
            "103/103 [==============================] - 0s 3ms/step - loss: 560.9392 - mse: 560.9392 - val_loss: 218.4312 - val_mse: 218.4312\n",
            "Epoch 21/50\n",
            "103/103 [==============================] - 0s 3ms/step - loss: 549.5837 - mse: 549.5837 - val_loss: 177.9230 - val_mse: 177.9230\n",
            "Epoch 22/50\n",
            "103/103 [==============================] - 0s 3ms/step - loss: 540.5920 - mse: 540.5920 - val_loss: 186.5021 - val_mse: 186.5021\n",
            "Epoch 23/50\n",
            "103/103 [==============================] - 0s 3ms/step - loss: 490.7772 - mse: 490.7772 - val_loss: 112.7234 - val_mse: 112.7234\n",
            "Epoch 24/50\n",
            "103/103 [==============================] - 0s 3ms/step - loss: 494.5390 - mse: 494.5390 - val_loss: 182.4308 - val_mse: 182.4308\n",
            "Epoch 25/50\n",
            "103/103 [==============================] - 0s 3ms/step - loss: 477.2547 - mse: 477.2547 - val_loss: 77.3863 - val_mse: 77.3863\n",
            "Epoch 26/50\n",
            "103/103 [==============================] - 0s 3ms/step - loss: 491.0890 - mse: 491.0890 - val_loss: 199.9568 - val_mse: 199.9568\n",
            "Epoch 27/50\n",
            "103/103 [==============================] - 0s 3ms/step - loss: 500.5045 - mse: 500.5045 - val_loss: 175.3414 - val_mse: 175.3414\n",
            "Epoch 28/50\n",
            "103/103 [==============================] - 0s 2ms/step - loss: 481.9916 - mse: 481.9916 - val_loss: 269.1090 - val_mse: 269.1090\n",
            "Epoch 29/50\n",
            "103/103 [==============================] - 0s 3ms/step - loss: 457.7791 - mse: 457.7791 - val_loss: 86.6936 - val_mse: 86.6936\n",
            "Epoch 30/50\n",
            "103/103 [==============================] - 0s 2ms/step - loss: 504.5977 - mse: 504.5977 - val_loss: 359.6573 - val_mse: 359.6573\n",
            "Epoch 31/50\n",
            "103/103 [==============================] - 0s 2ms/step - loss: 499.9494 - mse: 499.9494 - val_loss: 190.1703 - val_mse: 190.1703\n",
            "Epoch 32/50\n",
            "103/103 [==============================] - 0s 3ms/step - loss: 443.2800 - mse: 443.2800 - val_loss: 156.4618 - val_mse: 156.4618\n",
            "Epoch 33/50\n",
            "103/103 [==============================] - 0s 3ms/step - loss: 439.2672 - mse: 439.2672 - val_loss: 25.7926 - val_mse: 25.7926\n",
            "Epoch 34/50\n",
            "103/103 [==============================] - 0s 3ms/step - loss: 449.2981 - mse: 449.2981 - val_loss: 249.3477 - val_mse: 249.3477\n",
            "Epoch 35/50\n",
            "103/103 [==============================] - 0s 3ms/step - loss: 414.9092 - mse: 414.9093 - val_loss: 18.0976 - val_mse: 18.0976\n",
            "Epoch 36/50\n",
            "103/103 [==============================] - 0s 3ms/step - loss: 415.8090 - mse: 415.8090 - val_loss: 68.4359 - val_mse: 68.4359\n",
            "Epoch 37/50\n",
            "103/103 [==============================] - 0s 3ms/step - loss: 432.6888 - mse: 432.6888 - val_loss: 65.3019 - val_mse: 65.3019\n",
            "Epoch 38/50\n",
            "103/103 [==============================] - 0s 3ms/step - loss: 435.2182 - mse: 435.2182 - val_loss: 157.0153 - val_mse: 157.0153\n",
            "Epoch 39/50\n",
            "103/103 [==============================] - 0s 3ms/step - loss: 469.6877 - mse: 469.6877 - val_loss: 271.0243 - val_mse: 271.0243\n",
            "Epoch 40/50\n",
            "103/103 [==============================] - 0s 3ms/step - loss: 412.7636 - mse: 412.7636 - val_loss: 28.0802 - val_mse: 28.0802\n",
            "Epoch 41/50\n",
            "103/103 [==============================] - 0s 3ms/step - loss: 437.0855 - mse: 437.0855 - val_loss: 144.8983 - val_mse: 144.8983\n",
            "Epoch 42/50\n",
            "103/103 [==============================] - 0s 3ms/step - loss: 447.6275 - mse: 447.6275 - val_loss: 84.6068 - val_mse: 84.6068\n",
            "Epoch 43/50\n",
            "103/103 [==============================] - 0s 3ms/step - loss: 409.8120 - mse: 409.8120 - val_loss: 86.6647 - val_mse: 86.6647\n",
            "Epoch 44/50\n",
            "103/103 [==============================] - 0s 3ms/step - loss: 400.3873 - mse: 400.3873 - val_loss: 87.9395 - val_mse: 87.9395\n",
            "Epoch 45/50\n",
            "103/103 [==============================] - 0s 3ms/step - loss: 428.6820 - mse: 428.6820 - val_loss: 37.3567 - val_mse: 37.3567\n",
            "Epoch 46/50\n",
            "103/103 [==============================] - 0s 3ms/step - loss: 392.8004 - mse: 392.8004 - val_loss: 92.6588 - val_mse: 92.6588\n",
            "Epoch 47/50\n",
            "103/103 [==============================] - 0s 3ms/step - loss: 405.7159 - mse: 405.7159 - val_loss: 83.5324 - val_mse: 83.5324\n",
            "Epoch 48/50\n",
            "103/103 [==============================] - 0s 3ms/step - loss: 404.7917 - mse: 404.7917 - val_loss: 12.8045 - val_mse: 12.8045\n",
            "Epoch 49/50\n",
            "103/103 [==============================] - 0s 3ms/step - loss: 390.5866 - mse: 390.5866 - val_loss: 96.7375 - val_mse: 96.7375\n",
            "Epoch 50/50\n",
            "103/103 [==============================] - 0s 3ms/step - loss: 399.2192 - mse: 399.2192 - val_loss: 17.9083 - val_mse: 17.9083\n",
            "[Loss]:  18.486255645751953\n",
            "[MSE]:  18.486255645751953\n"
          ]
        },
        {
          "output_type": "display_data",
          "data": {
            "text/plain": [
              "<Figure size 640x480 with 1 Axes>"
            ],
            "image/png": "[encoded data removed]"
          },
          "metadata": {}
        },
        {
          "output_type": "display_data",
          "data": {
            "text/plain": [
              "<Figure size 640x480 with 1 Axes>"
            ],
            "image/png": "[encoded data removed]"
          },
          "metadata": {}
        }
      ]
    },
    {
      "cell_type": "code",
      "source": [
        "# Split your data and define input_shape\n",
        "input_shape = X_train.shape[1]  # Number of features\n",
        "\n",
        "# Create the KerasRegressor with your build_model function\n",
        "keras_reg = KerasRegressor(build_fn=build_model, p_input_shape=input_shape, p_n_hidden=3, p_n_neurons=30, p_learning_rate=3e-4, p_activation='relu')\n"
      ],
      "metadata": {
        "id": "jyItKGvWsnHo",
        "colab": {
          "base_uri": "https://localhost:8080/"
        },
        "outputId": "ce4e15a9-50ca-43d9-ea2f-834b8a468be8"
      },
      "execution_count": 146,
      "outputs": [
        {
          "output_type": "stream",
          "name": "stderr",
          "text": [
            "<ipython-input-146-bba7af904efa>:5: DeprecationWarning: KerasRegressor is deprecated, use Sci-Keras (https://github.com/adriangb/scikeras) instead. See https://www.adriangb.com/scikeras/stable/migration.html for help migrating.\n",
            "  keras_reg = KerasRegressor(build_fn=build_model, p_input_shape=input_shape, p_n_hidden=3, p_n_neurons=30, p_learning_rate=3e-4, p_activation='relu')\n"
          ]
        }
      ]
    },
    {
      "cell_type": "code",
      "source": [
        "keras_reg.fit( X_train, y_train, epochs = 40,\n",
        "              validation_data=(X_valid, y_valid),\n",
        "              callbacks=[keras.callbacks.EarlyStopping(patience=10)])\n",
        "\n",
        "msa_test = keras_reg.score(X_test, y_test)\n",
        "y_pred = keras_reg.predict(X_test)\n",
        "\n",
        "# Calculate Mean Squared Error (MSE)\n",
        "print('y_test: ', y_test.isna().sum())\n",
        "dfYPred = pd.DataFrame(y_pred)\n",
        "print('y_pred: ', dfYPred.isna().sum())\n",
        "mse = mean_squared_error(y_test, y_pred)\n",
        "mse_test = -msa_test\n",
        "\n",
        "# Calculate R-squared (Coefficient of Determination)\n",
        "r2 = r2_score(y_test, y_pred)\n",
        "\n",
        "print(\"[MSE] Mean Squared Error:\", mse)\n",
        "print(\"[MSE] Mean Squared Error:\", mse_test)\n",
        "print(\"R-squared:\", r2)"
      ],
      "metadata": {
        "colab": {
          "base_uri": "https://localhost:8080/"
        },
        "id": "6nwzjFVfzGFi",
        "outputId": "3d0095bd-bc42-46da-fa38-3380b821bcef"
      },
      "execution_count": 147,
      "outputs": [
        {
          "output_type": "stream",
          "name": "stdout",
          "text": [
            "Epoch 1/40\n"
          ]
        },
        {
          "output_type": "stream",
          "name": "stderr",
          "text": [
            "/usr/local/lib/python3.10/dist-packages/keras/optimizers/legacy/gradient_descent.py:114: UserWarning: The `lr` argument is deprecated, use `learning_rate` instead.\n",
            "  super().__init__(name, **kwargs)\n"
          ]
        },
        {
          "output_type": "stream",
          "name": "stdout",
          "text": [
            "40/40 [==============================] - 1s 9ms/step - loss: 6041.4800 - mse: 6041.4800 - val_loss: 4097.6475 - val_mse: 4097.6475\n",
            "Epoch 2/40\n",
            "40/40 [==============================] - 0s 4ms/step - loss: 1307.4932 - mse: 1307.4932 - val_loss: 91.2509 - val_mse: 91.2509\n",
            "Epoch 3/40\n",
            "40/40 [==============================] - 0s 3ms/step - loss: 54.8493 - mse: 54.8493 - val_loss: 125.1270 - val_mse: 125.1270\n",
            "Epoch 4/40\n",
            "40/40 [==============================] - 0s 4ms/step - loss: 50.2228 - mse: 50.2228 - val_loss: 54.0249 - val_mse: 54.0249\n",
            "Epoch 5/40\n",
            "40/40 [==============================] - 0s 4ms/step - loss: 49.4882 - mse: 49.4882 - val_loss: 60.7082 - val_mse: 60.7082\n",
            "Epoch 6/40\n",
            "40/40 [==============================] - 0s 3ms/step - loss: 49.2522 - mse: 49.2522 - val_loss: 78.8422 - val_mse: 78.8422\n",
            "Epoch 7/40\n",
            "40/40 [==============================] - 0s 3ms/step - loss: 48.4606 - mse: 48.4606 - val_loss: 137.2689 - val_mse: 137.2689\n",
            "Epoch 8/40\n",
            "40/40 [==============================] - 0s 3ms/step - loss: 50.6083 - mse: 50.6083 - val_loss: 391.6211 - val_mse: 391.6211\n",
            "Epoch 9/40\n",
            "40/40 [==============================] - 0s 3ms/step - loss: 50.8432 - mse: 50.8432 - val_loss: 441.4124 - val_mse: 441.4124\n",
            "Epoch 10/40\n",
            "40/40 [==============================] - 0s 3ms/step - loss: 48.5793 - mse: 48.5793 - val_loss: 82.6609 - val_mse: 82.6609\n",
            "Epoch 11/40\n",
            "40/40 [==============================] - 0s 3ms/step - loss: 49.5794 - mse: 49.5794 - val_loss: 409.0453 - val_mse: 409.0453\n",
            "Epoch 12/40\n",
            "40/40 [==============================] - 0s 3ms/step - loss: 50.2363 - mse: 50.2363 - val_loss: 142.1419 - val_mse: 142.1419\n",
            "Epoch 13/40\n",
            "40/40 [==============================] - 0s 3ms/step - loss: 49.3875 - mse: 49.3875 - val_loss: 94.5237 - val_mse: 94.5237\n",
            "Epoch 14/40\n",
            "40/40 [==============================] - 0s 4ms/step - loss: 49.9217 - mse: 49.9217 - val_loss: 98.3003 - val_mse: 98.3003\n",
            "13/13 [==============================] - 0s 3ms/step - loss: 204.0043 - mse: 204.0043\n",
            "13/13 [==============================] - 0s 3ms/step\n",
            "y_test:  0\n",
            "y_pred:  0    0\n",
            "dtype: int64\n",
            "[MSE] Mean Squared Error: 204.00437250451694\n",
            "[MSE] Mean Squared Error: 204.00430297851562\n",
            "R-squared: -3.305908677740078\n"
          ]
        }
      ]
    },
    {
      "cell_type": "code",
      "source": [
        "# Define the checkpoint callback\n",
        "checkpoint_cb = ModelCheckpoint(filepath=\"best_model.h5\", save_best_only=True)\n",
        "\n",
        "# Other callbacks you might have (e.g., EarlyStopping)\n",
        "early_stopping_cb = keras.callbacks.EarlyStopping(patience=10)\n",
        "\n",
        "param_distribs = {\n",
        "    \"p_n_hidden\": [0,1,2,3],\n",
        "    \"p_n_neurons\": np.arange(1,500),\n",
        "    \"p_learning_rate\" : reciprocal(1e-5, 1e-2)\n",
        "}\n",
        "\n",
        "rnd_search_cv = RandomizedSearchCV(keras_reg, param_distribs, n_iter=5, cv=3, scoring='neg_mean_squared_error')\n",
        "\n",
        "rnd_search_cv.fit(X_train, y_train, epochs=50,\n",
        "                  validation_data=(X_valid, y_valid),\n",
        "                  callbacks=[checkpoint_cb, early_stopping_cb])\n",
        "\n",
        "# Access the best model and print its summary\n",
        "best_model = rnd_search_cv.best_estimator_.model\n",
        "print('================================')\n",
        "print('-- Best Model Summary --')\n",
        "best_model.summary()\n",
        "print('-- Best params --')\n",
        "print(rnd_search_cv.best_params_)\n",
        "print('-- Best score --')\n",
        "print(rnd_search_cv.best_score_)\n",
        "\n"
      ],
      "metadata": {
        "colab": {
          "base_uri": "https://localhost:8080/"
        },
        "id": "Aq-WlHeNBZle",
        "outputId": "f8489064-3620-4646-85b4-b3e6310ead01"
      },
      "execution_count": 148,
      "outputs": [
        {
          "output_type": "stream",
          "name": "stderr",
          "text": [
            "/usr/local/lib/python3.10/dist-packages/keras/optimizers/legacy/gradient_descent.py:114: UserWarning: The `lr` argument is deprecated, use `learning_rate` instead.\n",
            "  super().__init__(name, **kwargs)\n"
          ]
        },
        {
          "output_type": "stream",
          "name": "stdout",
          "text": [
            "Epoch 1/50\n",
            "27/27 [==============================] - 1s 15ms/step - loss: nan - mse: nan - val_loss: nan - val_mse: nan\n",
            "Epoch 2/50\n",
            "27/27 [==============================] - 0s 4ms/step - loss: nan - mse: nan - val_loss: nan - val_mse: nan\n",
            "Epoch 3/50\n",
            "27/27 [==============================] - 0s 7ms/step - loss: nan - mse: nan - val_loss: nan - val_mse: nan\n",
            "Epoch 4/50\n",
            "27/27 [==============================] - 0s 6ms/step - loss: nan - mse: nan - val_loss: nan - val_mse: nan\n",
            "Epoch 5/50\n",
            "27/27 [==============================] - 0s 8ms/step - loss: nan - mse: nan - val_loss: nan - val_mse: nan\n",
            "Epoch 6/50\n",
            "27/27 [==============================] - 0s 12ms/step - loss: nan - mse: nan - val_loss: nan - val_mse: nan\n",
            "Epoch 7/50\n",
            "27/27 [==============================] - 0s 9ms/step - loss: nan - mse: nan - val_loss: nan - val_mse: nan\n",
            "Epoch 8/50\n",
            "27/27 [==============================] - 0s 14ms/step - loss: nan - mse: nan - val_loss: nan - val_mse: nan\n",
            "Epoch 9/50\n",
            "27/27 [==============================] - 0s 5ms/step - loss: nan - mse: nan - val_loss: nan - val_mse: nan\n",
            "Epoch 10/50\n",
            "27/27 [==============================] - 0s 5ms/step - loss: nan - mse: nan - val_loss: nan - val_mse: nan\n",
            "14/14 [==============================] - 0s 2ms/step\n",
            "Epoch 1/50\n"
          ]
        },
        {
          "output_type": "stream",
          "name": "stderr",
          "text": [
            "/usr/local/lib/python3.10/dist-packages/sklearn/model_selection/_validation.py:778: UserWarning: Scoring failed. The score on this train-test partition for these parameters will be set to nan. Details: \n",
            "Traceback (most recent call last):\n",
            "  File \"/usr/local/lib/python3.10/dist-packages/sklearn/model_selection/_validation.py\", line 767, in _score\n",
            "    scores = scorer(estimator, X_test, y_test)\n",
            "  File \"/usr/local/lib/python3.10/dist-packages/sklearn/metrics/_scorer.py\", line 234, in __call__\n",
            "    return self._score(\n",
            "  File \"/usr/local/lib/python3.10/dist-packages/sklearn/metrics/_scorer.py\", line 282, in _score\n",
            "    return self._sign * self._score_func(y_true, y_pred, **self._kwargs)\n",
            "  File \"/usr/local/lib/python3.10/dist-packages/sklearn/metrics/_regression.py\", line 442, in mean_squared_error\n",
            "    y_type, y_true, y_pred, multioutput = _check_reg_targets(\n",
            "  File \"/usr/local/lib/python3.10/dist-packages/sklearn/metrics/_regression.py\", line 102, in _check_reg_targets\n",
            "    y_pred = check_array(y_pred, ensure_2d=False, dtype=dtype)\n",
            "  File \"/usr/local/lib/python3.10/dist-packages/sklearn/utils/validation.py\", line 921, in check_array\n",
            "    _assert_all_finite(\n",
            "  File \"/usr/local/lib/python3.10/dist-packages/sklearn/utils/validation.py\", line 161, in _assert_all_finite\n",
            "    raise ValueError(msg_err)\n",
            "ValueError: Input contains NaN.\n",
            "\n",
            "  warnings.warn(\n",
            "/usr/local/lib/python3.10/dist-packages/keras/optimizers/legacy/gradient_descent.py:114: UserWarning: The `lr` argument is deprecated, use `learning_rate` instead.\n",
            "  super().__init__(name, **kwargs)\n"
          ]
        },
        {
          "output_type": "stream",
          "name": "stdout",
          "text": [
            "27/27 [==============================] - 1s 8ms/step - loss: nan - mse: nan - val_loss: nan - val_mse: nan\n",
            "Epoch 2/50\n",
            "27/27 [==============================] - 0s 3ms/step - loss: nan - mse: nan - val_loss: nan - val_mse: nan\n",
            "Epoch 3/50\n",
            "27/27 [==============================] - 0s 4ms/step - loss: nan - mse: nan - val_loss: nan - val_mse: nan\n",
            "Epoch 4/50\n",
            "27/27 [==============================] - 0s 3ms/step - loss: nan - mse: nan - val_loss: nan - val_mse: nan\n",
            "Epoch 5/50\n",
            "27/27 [==============================] - 0s 3ms/step - loss: nan - mse: nan - val_loss: nan - val_mse: nan\n",
            "Epoch 6/50\n",
            "27/27 [==============================] - 0s 4ms/step - loss: nan - mse: nan - val_loss: nan - val_mse: nan\n",
            "Epoch 7/50\n",
            "27/27 [==============================] - 0s 4ms/step - loss: nan - mse: nan - val_loss: nan - val_mse: nan\n",
            "Epoch 8/50\n",
            "27/27 [==============================] - 0s 4ms/step - loss: nan - mse: nan - val_loss: nan - val_mse: nan\n",
            "Epoch 9/50\n",
            "27/27 [==============================] - 0s 4ms/step - loss: nan - mse: nan - val_loss: nan - val_mse: nan\n",
            "Epoch 10/50\n",
            "27/27 [==============================] - 0s 5ms/step - loss: nan - mse: nan - val_loss: nan - val_mse: nan\n",
            "14/14 [==============================] - 0s 2ms/step\n",
            "Epoch 1/50\n"
          ]
        },
        {
          "output_type": "stream",
          "name": "stderr",
          "text": [
            "/usr/local/lib/python3.10/dist-packages/sklearn/model_selection/_validation.py:778: UserWarning: Scoring failed. The score on this train-test partition for these parameters will be set to nan. Details: \n",
            "Traceback (most recent call last):\n",
            "  File \"/usr/local/lib/python3.10/dist-packages/sklearn/model_selection/_validation.py\", line 767, in _score\n",
            "    scores = scorer(estimator, X_test, y_test)\n",
            "  File \"/usr/local/lib/python3.10/dist-packages/sklearn/metrics/_scorer.py\", line 234, in __call__\n",
            "    return self._score(\n",
            "  File \"/usr/local/lib/python3.10/dist-packages/sklearn/metrics/_scorer.py\", line 282, in _score\n",
            "    return self._sign * self._score_func(y_true, y_pred, **self._kwargs)\n",
            "  File \"/usr/local/lib/python3.10/dist-packages/sklearn/metrics/_regression.py\", line 442, in mean_squared_error\n",
            "    y_type, y_true, y_pred, multioutput = _check_reg_targets(\n",
            "  File \"/usr/local/lib/python3.10/dist-packages/sklearn/metrics/_regression.py\", line 102, in _check_reg_targets\n",
            "    y_pred = check_array(y_pred, ensure_2d=False, dtype=dtype)\n",
            "  File \"/usr/local/lib/python3.10/dist-packages/sklearn/utils/validation.py\", line 921, in check_array\n",
            "    _assert_all_finite(\n",
            "  File \"/usr/local/lib/python3.10/dist-packages/sklearn/utils/validation.py\", line 161, in _assert_all_finite\n",
            "    raise ValueError(msg_err)\n",
            "ValueError: Input contains NaN.\n",
            "\n",
            "  warnings.warn(\n",
            "/usr/local/lib/python3.10/dist-packages/keras/optimizers/legacy/gradient_descent.py:114: UserWarning: The `lr` argument is deprecated, use `learning_rate` instead.\n",
            "  super().__init__(name, **kwargs)\n"
          ]
        },
        {
          "output_type": "stream",
          "name": "stdout",
          "text": [
            "27/27 [==============================] - 1s 13ms/step - loss: nan - mse: nan - val_loss: nan - val_mse: nan\n",
            "Epoch 2/50\n",
            "27/27 [==============================] - 0s 5ms/step - loss: nan - mse: nan - val_loss: nan - val_mse: nan\n",
            "Epoch 3/50\n",
            "27/27 [==============================] - 0s 5ms/step - loss: nan - mse: nan - val_loss: nan - val_mse: nan\n",
            "Epoch 4/50\n",
            "27/27 [==============================] - 0s 4ms/step - loss: nan - mse: nan - val_loss: nan - val_mse: nan\n",
            "Epoch 5/50\n",
            "27/27 [==============================] - 0s 4ms/step - loss: nan - mse: nan - val_loss: nan - val_mse: nan\n",
            "Epoch 6/50\n",
            "27/27 [==============================] - 0s 5ms/step - loss: nan - mse: nan - val_loss: nan - val_mse: nan\n",
            "Epoch 7/50\n",
            "27/27 [==============================] - 0s 4ms/step - loss: nan - mse: nan - val_loss: nan - val_mse: nan\n",
            "Epoch 8/50\n",
            "27/27 [==============================] - 0s 5ms/step - loss: nan - mse: nan - val_loss: nan - val_mse: nan\n",
            "Epoch 9/50\n",
            "27/27 [==============================] - 0s 4ms/step - loss: nan - mse: nan - val_loss: nan - val_mse: nan\n",
            "Epoch 10/50\n",
            "27/27 [==============================] - 0s 3ms/step - loss: nan - mse: nan - val_loss: nan - val_mse: nan\n",
            "14/14 [==============================] - 0s 1ms/step\n",
            "Epoch 1/50\n"
          ]
        },
        {
          "output_type": "stream",
          "name": "stderr",
          "text": [
            "/usr/local/lib/python3.10/dist-packages/sklearn/model_selection/_validation.py:778: UserWarning: Scoring failed. The score on this train-test partition for these parameters will be set to nan. Details: \n",
            "Traceback (most recent call last):\n",
            "  File \"/usr/local/lib/python3.10/dist-packages/sklearn/model_selection/_validation.py\", line 767, in _score\n",
            "    scores = scorer(estimator, X_test, y_test)\n",
            "  File \"/usr/local/lib/python3.10/dist-packages/sklearn/metrics/_scorer.py\", line 234, in __call__\n",
            "    return self._score(\n",
            "  File \"/usr/local/lib/python3.10/dist-packages/sklearn/metrics/_scorer.py\", line 282, in _score\n",
            "    return self._sign * self._score_func(y_true, y_pred, **self._kwargs)\n",
            "  File \"/usr/local/lib/python3.10/dist-packages/sklearn/metrics/_regression.py\", line 442, in mean_squared_error\n",
            "    y_type, y_true, y_pred, multioutput = _check_reg_targets(\n",
            "  File \"/usr/local/lib/python3.10/dist-packages/sklearn/metrics/_regression.py\", line 102, in _check_reg_targets\n",
            "    y_pred = check_array(y_pred, ensure_2d=False, dtype=dtype)\n",
            "  File \"/usr/local/lib/python3.10/dist-packages/sklearn/utils/validation.py\", line 921, in check_array\n",
            "    _assert_all_finite(\n",
            "  File \"/usr/local/lib/python3.10/dist-packages/sklearn/utils/validation.py\", line 161, in _assert_all_finite\n",
            "    raise ValueError(msg_err)\n",
            "ValueError: Input contains NaN.\n",
            "\n",
            "  warnings.warn(\n",
            "/usr/local/lib/python3.10/dist-packages/keras/optimizers/legacy/gradient_descent.py:114: UserWarning: The `lr` argument is deprecated, use `learning_rate` instead.\n",
            "  super().__init__(name, **kwargs)\n"
          ]
        },
        {
          "output_type": "stream",
          "name": "stdout",
          "text": [
            "27/27 [==============================] - 1s 10ms/step - loss: 6847.3135 - mse: 6847.3135 - val_loss: 6773.8555 - val_mse: 6773.8555\n",
            "Epoch 2/50\n",
            "27/27 [==============================] - 0s 4ms/step - loss: 6728.0166 - mse: 6728.0166 - val_loss: 6700.8306 - val_mse: 6700.8306\n",
            "Epoch 3/50\n",
            "27/27 [==============================] - 0s 4ms/step - loss: 6588.8364 - mse: 6588.8364 - val_loss: 6585.1162 - val_mse: 6585.1162\n",
            "Epoch 4/50\n",
            "27/27 [==============================] - 0s 5ms/step - loss: 6412.5957 - mse: 6412.5957 - val_loss: 6334.8608 - val_mse: 6334.8608\n",
            "Epoch 5/50\n",
            "27/27 [==============================] - 0s 4ms/step - loss: 6178.9287 - mse: 6178.9287 - val_loss: 5983.9492 - val_mse: 5983.9492\n",
            "Epoch 6/50\n",
            "27/27 [==============================] - 0s 4ms/step - loss: 5862.3545 - mse: 5862.3545 - val_loss: 5591.6821 - val_mse: 5591.6821\n",
            "Epoch 7/50\n",
            "27/27 [==============================] - 0s 4ms/step - loss: 5436.6025 - mse: 5436.6025 - val_loss: 1450.1942 - val_mse: 1450.1942\n",
            "Epoch 8/50\n",
            "27/27 [==============================] - 0s 4ms/step - loss: 4879.4683 - mse: 4879.4683 - val_loss: 4587.6670 - val_mse: 4587.6670\n",
            "Epoch 9/50\n",
            "27/27 [==============================] - 0s 4ms/step - loss: 4186.6919 - mse: 4186.6919 - val_loss: 3836.3774 - val_mse: 3836.3774\n",
            "Epoch 10/50\n",
            "27/27 [==============================] - 0s 4ms/step - loss: 3387.7153 - mse: 3387.7153 - val_loss: 3025.8606 - val_mse: 3025.8606\n",
            "Epoch 11/50\n",
            "27/27 [==============================] - 0s 3ms/step - loss: 2549.9717 - mse: 2549.9717 - val_loss: 2198.8110 - val_mse: 2198.8110\n",
            "Epoch 12/50\n",
            "27/27 [==============================] - 0s 4ms/step - loss: 1768.7054 - mse: 1768.7054 - val_loss: 1440.5940 - val_mse: 1440.5940\n",
            "Epoch 13/50\n",
            "27/27 [==============================] - 0s 5ms/step - loss: 1128.6906 - mse: 1128.6906 - val_loss: 938.1244 - val_mse: 938.1244\n",
            "Epoch 14/50\n",
            "27/27 [==============================] - 0s 4ms/step - loss: 670.6133 - mse: 670.6133 - val_loss: 478.6750 - val_mse: 478.6750\n",
            "Epoch 15/50\n",
            "27/27 [==============================] - 0s 4ms/step - loss: 380.2444 - mse: 380.2444 - val_loss: 272.8040 - val_mse: 272.8040\n",
            "Epoch 16/50\n",
            "27/27 [==============================] - 0s 4ms/step - loss: 214.2562 - mse: 214.2562 - val_loss: 172.5919 - val_mse: 172.5919\n",
            "Epoch 17/50\n",
            "27/27 [==============================] - 0s 4ms/step - loss: 127.8336 - mse: 127.8336 - val_loss: 110.6488 - val_mse: 110.6488\n",
            "Epoch 18/50\n",
            "27/27 [==============================] - 0s 4ms/step - loss: 86.3227 - mse: 86.3227 - val_loss: 83.8522 - val_mse: 83.8522\n",
            "Epoch 19/50\n",
            "27/27 [==============================] - 0s 4ms/step - loss: 66.5470 - mse: 66.5470 - val_loss: 79.3212 - val_mse: 79.3212\n",
            "Epoch 20/50\n",
            "27/27 [==============================] - 0s 4ms/step - loss: 56.4911 - mse: 56.4911 - val_loss: 59.9131 - val_mse: 59.9131\n",
            "Epoch 21/50\n",
            "27/27 [==============================] - 0s 4ms/step - loss: 52.4717 - mse: 52.4717 - val_loss: 54.2219 - val_mse: 54.2219\n",
            "Epoch 22/50\n",
            "27/27 [==============================] - 0s 4ms/step - loss: 50.6315 - mse: 50.6315 - val_loss: 58.4500 - val_mse: 58.4500\n",
            "Epoch 23/50\n",
            "27/27 [==============================] - 0s 3ms/step - loss: 51.0956 - mse: 51.0956 - val_loss: 54.6167 - val_mse: 54.6167\n",
            "Epoch 24/50\n",
            "27/27 [==============================] - 0s 4ms/step - loss: 50.7749 - mse: 50.7749 - val_loss: 54.8498 - val_mse: 54.8498\n",
            "Epoch 25/50\n",
            "27/27 [==============================] - 0s 4ms/step - loss: 50.0291 - mse: 50.0291 - val_loss: 55.8689 - val_mse: 55.8689\n",
            "Epoch 26/50\n",
            "27/27 [==============================] - 0s 4ms/step - loss: 49.9056 - mse: 49.9056 - val_loss: 53.4334 - val_mse: 53.4334\n",
            "Epoch 27/50\n",
            "27/27 [==============================] - 0s 4ms/step - loss: 49.6850 - mse: 49.6850 - val_loss: 59.1020 - val_mse: 59.1020\n",
            "Epoch 28/50\n",
            "27/27 [==============================] - 0s 4ms/step - loss: 49.8297 - mse: 49.8297 - val_loss: 59.0378 - val_mse: 59.0378\n",
            "Epoch 29/50\n",
            "27/27 [==============================] - 0s 4ms/step - loss: 49.8523 - mse: 49.8523 - val_loss: 53.0782 - val_mse: 53.0782\n",
            "Epoch 30/50\n",
            "27/27 [==============================] - 0s 4ms/step - loss: 50.0754 - mse: 50.0754 - val_loss: 57.9608 - val_mse: 57.9608\n",
            "Epoch 31/50\n",
            "27/27 [==============================] - 0s 4ms/step - loss: 49.5817 - mse: 49.5817 - val_loss: 54.2288 - val_mse: 54.2288\n",
            "Epoch 32/50\n",
            "27/27 [==============================] - 0s 3ms/step - loss: 49.5820 - mse: 49.5820 - val_loss: 65.4811 - val_mse: 65.4811\n",
            "Epoch 33/50\n",
            "27/27 [==============================] - 0s 4ms/step - loss: 49.3386 - mse: 49.3386 - val_loss: 51.2848 - val_mse: 51.2848\n",
            "Epoch 34/50\n",
            "27/27 [==============================] - 0s 4ms/step - loss: 50.7044 - mse: 50.7044 - val_loss: 51.1142 - val_mse: 51.1142\n",
            "Epoch 35/50\n",
            "27/27 [==============================] - 0s 4ms/step - loss: 49.9395 - mse: 49.9395 - val_loss: 51.6789 - val_mse: 51.6789\n",
            "Epoch 36/50\n",
            "27/27 [==============================] - 0s 4ms/step - loss: 49.4313 - mse: 49.4313 - val_loss: 54.9795 - val_mse: 54.9795\n",
            "Epoch 37/50\n",
            "27/27 [==============================] - 0s 4ms/step - loss: 49.6639 - mse: 49.6639 - val_loss: 52.3145 - val_mse: 52.3145\n",
            "Epoch 38/50\n",
            "27/27 [==============================] - 0s 4ms/step - loss: 49.7234 - mse: 49.7234 - val_loss: 54.5298 - val_mse: 54.5298\n",
            "Epoch 39/50\n",
            "27/27 [==============================] - 0s 5ms/step - loss: 49.4136 - mse: 49.4136 - val_loss: 51.5409 - val_mse: 51.5409\n",
            "Epoch 40/50\n",
            "27/27 [==============================] - 0s 4ms/step - loss: 50.3899 - mse: 50.3899 - val_loss: 68.4492 - val_mse: 68.4492\n",
            "Epoch 41/50\n",
            "27/27 [==============================] - 0s 4ms/step - loss: 53.2981 - mse: 53.2981 - val_loss: 51.6364 - val_mse: 51.6364\n",
            "Epoch 42/50\n",
            "27/27 [==============================] - 0s 5ms/step - loss: 51.0034 - mse: 51.0034 - val_loss: 49.7504 - val_mse: 49.7504\n",
            "Epoch 43/50\n",
            "27/27 [==============================] - 0s 3ms/step - loss: 51.8629 - mse: 51.8629 - val_loss: 53.3021 - val_mse: 53.3021\n",
            "Epoch 44/50\n",
            "27/27 [==============================] - 0s 4ms/step - loss: 50.5460 - mse: 50.5460 - val_loss: 51.5327 - val_mse: 51.5327\n",
            "Epoch 45/50\n",
            "27/27 [==============================] - 0s 4ms/step - loss: 49.4134 - mse: 49.4134 - val_loss: 55.1346 - val_mse: 55.1346\n",
            "Epoch 46/50\n",
            "27/27 [==============================] - 0s 4ms/step - loss: 49.2271 - mse: 49.2271 - val_loss: 57.1368 - val_mse: 57.1368\n",
            "Epoch 47/50\n",
            "27/27 [==============================] - 0s 4ms/step - loss: 49.5061 - mse: 49.5061 - val_loss: 54.9375 - val_mse: 54.9375\n",
            "Epoch 48/50\n",
            "27/27 [==============================] - 0s 3ms/step - loss: 48.9554 - mse: 48.9554 - val_loss: 52.3619 - val_mse: 52.3619\n",
            "Epoch 49/50\n",
            "27/27 [==============================] - 0s 3ms/step - loss: 49.2771 - mse: 49.2771 - val_loss: 53.1310 - val_mse: 53.1310\n",
            "Epoch 50/50\n",
            "27/27 [==============================] - 0s 4ms/step - loss: 48.9860 - mse: 48.9860 - val_loss: 51.7402 - val_mse: 51.7402\n",
            "14/14 [==============================] - 0s 2ms/step\n",
            "Epoch 1/50\n"
          ]
        },
        {
          "output_type": "stream",
          "name": "stderr",
          "text": [
            "/usr/local/lib/python3.10/dist-packages/keras/optimizers/legacy/gradient_descent.py:114: UserWarning: The `lr` argument is deprecated, use `learning_rate` instead.\n",
            "  super().__init__(name, **kwargs)\n"
          ]
        },
        {
          "output_type": "stream",
          "name": "stdout",
          "text": [
            "27/27 [==============================] - 1s 10ms/step - loss: 6895.7935 - mse: 6895.7935 - val_loss: 6809.3257 - val_mse: 6809.3257\n",
            "Epoch 2/50\n",
            "27/27 [==============================] - 0s 4ms/step - loss: 6780.5229 - mse: 6780.5229 - val_loss: 6693.2295 - val_mse: 6693.2295\n",
            "Epoch 3/50\n",
            "27/27 [==============================] - 0s 5ms/step - loss: 6646.4961 - mse: 6646.4961 - val_loss: 6535.8472 - val_mse: 6535.8472\n",
            "Epoch 4/50\n",
            "27/27 [==============================] - 0s 5ms/step - loss: 6476.9365 - mse: 6476.9365 - val_loss: 6360.5088 - val_mse: 6360.5088\n",
            "Epoch 5/50\n",
            "27/27 [==============================] - 0s 4ms/step - loss: 6251.8516 - mse: 6251.8516 - val_loss: 6055.1748 - val_mse: 6055.1748\n",
            "Epoch 6/50\n",
            "27/27 [==============================] - 0s 4ms/step - loss: 5946.4087 - mse: 5946.4087 - val_loss: 5706.9800 - val_mse: 5706.9800\n",
            "Epoch 7/50\n",
            "27/27 [==============================] - 0s 3ms/step - loss: 5534.0752 - mse: 5534.0752 - val_loss: 5292.6753 - val_mse: 5292.6753\n",
            "Epoch 8/50\n",
            "27/27 [==============================] - 0s 4ms/step - loss: 4991.0493 - mse: 4991.0493 - val_loss: 4685.8472 - val_mse: 4685.8472\n",
            "Epoch 9/50\n",
            "27/27 [==============================] - 0s 3ms/step - loss: 4308.4932 - mse: 4308.4932 - val_loss: 3936.0540 - val_mse: 3936.0540\n",
            "Epoch 10/50\n",
            "27/27 [==============================] - 0s 4ms/step - loss: 3512.2544 - mse: 3512.2544 - val_loss: 2948.8074 - val_mse: 2948.8074\n",
            "Epoch 11/50\n",
            "27/27 [==============================] - 0s 3ms/step - loss: 2666.6436 - mse: 2666.6436 - val_loss: 2267.6184 - val_mse: 2267.6184\n",
            "Epoch 12/50\n",
            "27/27 [==============================] - 0s 5ms/step - loss: 1866.3689 - mse: 1866.3689 - val_loss: 1551.4912 - val_mse: 1551.4912\n",
            "Epoch 13/50\n",
            "27/27 [==============================] - 0s 7ms/step - loss: 1200.2432 - mse: 1200.2432 - val_loss: 997.3685 - val_mse: 997.3685\n",
            "Epoch 14/50\n",
            "27/27 [==============================] - 0s 7ms/step - loss: 716.8674 - mse: 716.8674 - val_loss: 638.3892 - val_mse: 638.3892\n",
            "Epoch 15/50\n",
            "27/27 [==============================] - 0s 5ms/step - loss: 408.5690 - mse: 408.5690 - val_loss: 325.4119 - val_mse: 325.4119\n",
            "Epoch 16/50\n",
            "27/27 [==============================] - 0s 6ms/step - loss: 227.9387 - mse: 227.9387 - val_loss: 239.5091 - val_mse: 239.5091\n",
            "Epoch 17/50\n",
            "27/27 [==============================] - 0s 5ms/step - loss: 135.3511 - mse: 135.3511 - val_loss: 138.3916 - val_mse: 138.3916\n",
            "Epoch 18/50\n",
            "27/27 [==============================] - 0s 5ms/step - loss: 89.0598 - mse: 89.0598 - val_loss: 90.1605 - val_mse: 90.1605\n",
            "Epoch 19/50\n",
            "27/27 [==============================] - 0s 5ms/step - loss: 66.0831 - mse: 66.0831 - val_loss: 68.4387 - val_mse: 68.4387\n",
            "Epoch 20/50\n",
            "27/27 [==============================] - 0s 6ms/step - loss: 57.5659 - mse: 57.5659 - val_loss: 63.4203 - val_mse: 63.4203\n",
            "Epoch 21/50\n",
            "27/27 [==============================] - 0s 6ms/step - loss: 54.5764 - mse: 54.5764 - val_loss: 59.6283 - val_mse: 59.6283\n",
            "Epoch 22/50\n",
            "27/27 [==============================] - 0s 7ms/step - loss: 50.9954 - mse: 50.9954 - val_loss: 60.3861 - val_mse: 60.3861\n",
            "Epoch 23/50\n",
            "27/27 [==============================] - 0s 5ms/step - loss: 49.3400 - mse: 49.3400 - val_loss: 62.2624 - val_mse: 62.2624\n",
            "Epoch 24/50\n",
            "27/27 [==============================] - 0s 5ms/step - loss: 48.6641 - mse: 48.6641 - val_loss: 61.6295 - val_mse: 61.6295\n",
            "Epoch 25/50\n",
            "27/27 [==============================] - 0s 7ms/step - loss: 48.6376 - mse: 48.6376 - val_loss: 54.0859 - val_mse: 54.0859\n",
            "Epoch 26/50\n",
            "27/27 [==============================] - 0s 6ms/step - loss: 48.4703 - mse: 48.4703 - val_loss: 57.4841 - val_mse: 57.4841\n",
            "Epoch 27/50\n",
            "27/27 [==============================] - 0s 5ms/step - loss: 48.1483 - mse: 48.1483 - val_loss: 65.8469 - val_mse: 65.8469\n",
            "Epoch 28/50\n",
            "27/27 [==============================] - 0s 5ms/step - loss: 48.1769 - mse: 48.1769 - val_loss: 79.5390 - val_mse: 79.5390\n",
            "Epoch 29/50\n",
            "27/27 [==============================] - 0s 5ms/step - loss: 47.8336 - mse: 47.8336 - val_loss: 64.3765 - val_mse: 64.3765\n",
            "Epoch 30/50\n",
            "27/27 [==============================] - 0s 4ms/step - loss: 47.3563 - mse: 47.3563 - val_loss: 58.2179 - val_mse: 58.2179\n",
            "Epoch 31/50\n",
            "27/27 [==============================] - 0s 3ms/step - loss: 47.0974 - mse: 47.0974 - val_loss: 69.5598 - val_mse: 69.5598\n",
            "Epoch 32/50\n",
            "27/27 [==============================] - 0s 4ms/step - loss: 47.1999 - mse: 47.1999 - val_loss: 73.6219 - val_mse: 73.6219\n",
            "Epoch 33/50\n",
            "27/27 [==============================] - 0s 4ms/step - loss: 46.9159 - mse: 46.9159 - val_loss: 57.7965 - val_mse: 57.7965\n",
            "Epoch 34/50\n",
            "27/27 [==============================] - 0s 4ms/step - loss: 47.4344 - mse: 47.4344 - val_loss: 63.3190 - val_mse: 63.3190\n",
            "Epoch 35/50\n",
            "27/27 [==============================] - 0s 4ms/step - loss: 47.2828 - mse: 47.2828 - val_loss: 72.8443 - val_mse: 72.8443\n",
            "14/14 [==============================] - 0s 2ms/step\n",
            "Epoch 1/50\n"
          ]
        },
        {
          "output_type": "stream",
          "name": "stderr",
          "text": [
            "/usr/local/lib/python3.10/dist-packages/keras/optimizers/legacy/gradient_descent.py:114: UserWarning: The `lr` argument is deprecated, use `learning_rate` instead.\n",
            "  super().__init__(name, **kwargs)\n"
          ]
        },
        {
          "output_type": "stream",
          "name": "stdout",
          "text": [
            "27/27 [==============================] - 1s 9ms/step - loss: 6924.5063 - mse: 6924.5063 - val_loss: 6800.7002 - val_mse: 6800.7002\n",
            "Epoch 2/50\n",
            "27/27 [==============================] - 0s 4ms/step - loss: 6807.8188 - mse: 6807.8188 - val_loss: 6689.0142 - val_mse: 6689.0142\n",
            "Epoch 3/50\n",
            "27/27 [==============================] - 0s 4ms/step - loss: 6671.6729 - mse: 6671.6729 - val_loss: 6536.3071 - val_mse: 6536.3071\n",
            "Epoch 4/50\n",
            "27/27 [==============================] - 0s 4ms/step - loss: 6499.1157 - mse: 6499.1157 - val_loss: 6364.9561 - val_mse: 6364.9561\n",
            "Epoch 5/50\n",
            "27/27 [==============================] - 0s 3ms/step - loss: 6269.5962 - mse: 6269.5962 - val_loss: 6022.6455 - val_mse: 6022.6455\n",
            "Epoch 6/50\n",
            "27/27 [==============================] - 0s 4ms/step - loss: 5958.3745 - mse: 5958.3745 - val_loss: 5731.0962 - val_mse: 5731.0962\n",
            "Epoch 7/50\n",
            "27/27 [==============================] - 0s 4ms/step - loss: 5537.4443 - mse: 5537.4443 - val_loss: 5257.9326 - val_mse: 5257.9326\n",
            "Epoch 8/50\n",
            "27/27 [==============================] - 0s 4ms/step - loss: 4984.5537 - mse: 4984.5537 - val_loss: 4706.4873 - val_mse: 4706.4873\n",
            "Epoch 9/50\n",
            "27/27 [==============================] - 0s 4ms/step - loss: 4292.1289 - mse: 4292.1289 - val_loss: 3869.5156 - val_mse: 3869.5156\n",
            "Epoch 10/50\n",
            "27/27 [==============================] - 0s 4ms/step - loss: 3486.2642 - mse: 3486.2642 - val_loss: 3022.3638 - val_mse: 3022.3638\n",
            "Epoch 11/50\n",
            "27/27 [==============================] - 0s 3ms/step - loss: 2633.7144 - mse: 2633.7144 - val_loss: 2168.8386 - val_mse: 2168.8386\n",
            "Epoch 12/50\n",
            "27/27 [==============================] - 0s 4ms/step - loss: 1833.5583 - mse: 1833.5583 - val_loss: 1478.7078 - val_mse: 1478.7078\n",
            "Epoch 13/50\n",
            "27/27 [==============================] - 0s 4ms/step - loss: 1174.3611 - mse: 1174.3611 - val_loss: 899.1935 - val_mse: 899.1935\n",
            "Epoch 14/50\n",
            "27/27 [==============================] - 0s 4ms/step - loss: 697.6603 - mse: 697.6603 - val_loss: 496.3861 - val_mse: 496.3861\n",
            "Epoch 15/50\n",
            "27/27 [==============================] - 0s 3ms/step - loss: 393.8987 - mse: 393.8987 - val_loss: 272.0568 - val_mse: 272.0568\n",
            "Epoch 16/50\n",
            "27/27 [==============================] - 0s 4ms/step - loss: 221.0236 - mse: 221.0236 - val_loss: 148.6296 - val_mse: 148.6296\n",
            "Epoch 17/50\n",
            "27/27 [==============================] - 0s 4ms/step - loss: 130.6360 - mse: 130.6360 - val_loss: 92.7817 - val_mse: 92.7817\n",
            "Epoch 18/50\n",
            "27/27 [==============================] - 0s 4ms/step - loss: 87.1026 - mse: 87.1026 - val_loss: 104.5821 - val_mse: 104.5821\n",
            "Epoch 19/50\n",
            "27/27 [==============================] - 0s 4ms/step - loss: 66.6609 - mse: 66.6609 - val_loss: 63.9255 - val_mse: 63.9255\n",
            "Epoch 20/50\n",
            "27/27 [==============================] - 0s 4ms/step - loss: 57.1541 - mse: 57.1541 - val_loss: 57.5038 - val_mse: 57.5038\n",
            "Epoch 21/50\n",
            "27/27 [==============================] - 0s 3ms/step - loss: 53.5922 - mse: 53.5922 - val_loss: 58.4763 - val_mse: 58.4763\n",
            "Epoch 22/50\n",
            "27/27 [==============================] - 0s 4ms/step - loss: 51.9272 - mse: 51.9272 - val_loss: 132.4056 - val_mse: 132.4056\n",
            "Epoch 23/50\n",
            "27/27 [==============================] - 0s 4ms/step - loss: 51.0921 - mse: 51.0921 - val_loss: 59.5864 - val_mse: 59.5864\n",
            "Epoch 24/50\n",
            "27/27 [==============================] - 0s 3ms/step - loss: 50.3671 - mse: 50.3671 - val_loss: 57.8004 - val_mse: 57.8004\n",
            "Epoch 25/50\n",
            "27/27 [==============================] - 0s 4ms/step - loss: 51.7758 - mse: 51.7758 - val_loss: 56.8040 - val_mse: 56.8040\n",
            "Epoch 26/50\n",
            "27/27 [==============================] - 0s 4ms/step - loss: 50.5851 - mse: 50.5851 - val_loss: 56.0222 - val_mse: 56.0222\n",
            "Epoch 27/50\n",
            "27/27 [==============================] - 0s 4ms/step - loss: 49.9407 - mse: 49.9407 - val_loss: 60.0160 - val_mse: 60.0160\n",
            "Epoch 28/50\n",
            "27/27 [==============================] - 0s 3ms/step - loss: 49.7403 - mse: 49.7403 - val_loss: 53.8196 - val_mse: 53.8196\n",
            "Epoch 29/50\n",
            "27/27 [==============================] - 0s 4ms/step - loss: 50.3971 - mse: 50.3971 - val_loss: 56.9698 - val_mse: 56.9698\n",
            "Epoch 30/50\n",
            "27/27 [==============================] - 0s 4ms/step - loss: 49.6544 - mse: 49.6544 - val_loss: 55.5166 - val_mse: 55.5166\n",
            "Epoch 31/50\n",
            "27/27 [==============================] - 0s 3ms/step - loss: 50.8419 - mse: 50.8419 - val_loss: 110.4683 - val_mse: 110.4683\n",
            "Epoch 32/50\n",
            "27/27 [==============================] - 0s 4ms/step - loss: 50.9030 - mse: 50.9030 - val_loss: 59.3129 - val_mse: 59.3129\n",
            "Epoch 33/50\n",
            "27/27 [==============================] - 0s 4ms/step - loss: 51.9009 - mse: 51.9009 - val_loss: 62.9370 - val_mse: 62.9370\n",
            "Epoch 34/50\n",
            "27/27 [==============================] - 0s 4ms/step - loss: 50.9116 - mse: 50.9116 - val_loss: 57.4707 - val_mse: 57.4707\n",
            "Epoch 35/50\n",
            "27/27 [==============================] - 0s 4ms/step - loss: 51.1835 - mse: 51.1835 - val_loss: 61.6870 - val_mse: 61.6870\n",
            "Epoch 36/50\n",
            "27/27 [==============================] - 0s 4ms/step - loss: 50.6124 - mse: 50.6124 - val_loss: 55.0311 - val_mse: 55.0311\n",
            "Epoch 37/50\n",
            "27/27 [==============================] - 0s 4ms/step - loss: 50.2001 - mse: 50.2001 - val_loss: 54.2875 - val_mse: 54.2875\n",
            "Epoch 38/50\n",
            "27/27 [==============================] - 0s 4ms/step - loss: 49.9780 - mse: 49.9780 - val_loss: 59.7047 - val_mse: 59.7047\n",
            "14/14 [==============================] - 0s 2ms/step\n",
            "Epoch 1/50\n"
          ]
        },
        {
          "output_type": "stream",
          "name": "stderr",
          "text": [
            "/usr/local/lib/python3.10/dist-packages/keras/optimizers/legacy/gradient_descent.py:114: UserWarning: The `lr` argument is deprecated, use `learning_rate` instead.\n",
            "  super().__init__(name, **kwargs)\n"
          ]
        },
        {
          "output_type": "stream",
          "name": "stdout",
          "text": [
            "27/27 [==============================] - 0s 7ms/step - loss: nan - mse: nan - val_loss: nan - val_mse: nan\n",
            "Epoch 2/50\n",
            "27/27 [==============================] - 0s 3ms/step - loss: nan - mse: nan - val_loss: nan - val_mse: nan\n",
            "Epoch 3/50\n",
            "27/27 [==============================] - 0s 3ms/step - loss: nan - mse: nan - val_loss: nan - val_mse: nan\n",
            "Epoch 4/50\n",
            "27/27 [==============================] - 0s 3ms/step - loss: nan - mse: nan - val_loss: nan - val_mse: nan\n",
            "Epoch 5/50\n",
            "27/27 [==============================] - 0s 3ms/step - loss: nan - mse: nan - val_loss: nan - val_mse: nan\n",
            "Epoch 6/50\n",
            "27/27 [==============================] - 0s 3ms/step - loss: nan - mse: nan - val_loss: nan - val_mse: nan\n",
            "Epoch 7/50\n",
            "27/27 [==============================] - 0s 3ms/step - loss: nan - mse: nan - val_loss: nan - val_mse: nan\n",
            "Epoch 8/50\n",
            "27/27 [==============================] - 0s 3ms/step - loss: nan - mse: nan - val_loss: nan - val_mse: nan\n",
            "Epoch 9/50\n",
            "27/27 [==============================] - 0s 3ms/step - loss: nan - mse: nan - val_loss: nan - val_mse: nan\n",
            "Epoch 10/50\n",
            "27/27 [==============================] - 0s 3ms/step - loss: nan - mse: nan - val_loss: nan - val_mse: nan\n",
            "14/14 [==============================] - 0s 2ms/step\n",
            "Epoch 1/50\n"
          ]
        },
        {
          "output_type": "stream",
          "name": "stderr",
          "text": [
            "/usr/local/lib/python3.10/dist-packages/sklearn/model_selection/_validation.py:778: UserWarning: Scoring failed. The score on this train-test partition for these parameters will be set to nan. Details: \n",
            "Traceback (most recent call last):\n",
            "  File \"/usr/local/lib/python3.10/dist-packages/sklearn/model_selection/_validation.py\", line 767, in _score\n",
            "    scores = scorer(estimator, X_test, y_test)\n",
            "  File \"/usr/local/lib/python3.10/dist-packages/sklearn/metrics/_scorer.py\", line 234, in __call__\n",
            "    return self._score(\n",
            "  File \"/usr/local/lib/python3.10/dist-packages/sklearn/metrics/_scorer.py\", line 282, in _score\n",
            "    return self._sign * self._score_func(y_true, y_pred, **self._kwargs)\n",
            "  File \"/usr/local/lib/python3.10/dist-packages/sklearn/metrics/_regression.py\", line 442, in mean_squared_error\n",
            "    y_type, y_true, y_pred, multioutput = _check_reg_targets(\n",
            "  File \"/usr/local/lib/python3.10/dist-packages/sklearn/metrics/_regression.py\", line 102, in _check_reg_targets\n",
            "    y_pred = check_array(y_pred, ensure_2d=False, dtype=dtype)\n",
            "  File \"/usr/local/lib/python3.10/dist-packages/sklearn/utils/validation.py\", line 921, in check_array\n",
            "    _assert_all_finite(\n",
            "  File \"/usr/local/lib/python3.10/dist-packages/sklearn/utils/validation.py\", line 161, in _assert_all_finite\n",
            "    raise ValueError(msg_err)\n",
            "ValueError: Input contains NaN.\n",
            "\n",
            "  warnings.warn(\n",
            "/usr/local/lib/python3.10/dist-packages/keras/optimizers/legacy/gradient_descent.py:114: UserWarning: The `lr` argument is deprecated, use `learning_rate` instead.\n",
            "  super().__init__(name, **kwargs)\n"
          ]
        },
        {
          "output_type": "stream",
          "name": "stdout",
          "text": [
            "27/27 [==============================] - 1s 8ms/step - loss: nan - mse: nan - val_loss: nan - val_mse: nan\n",
            "Epoch 2/50\n",
            "27/27 [==============================] - 0s 3ms/step - loss: nan - mse: nan - val_loss: nan - val_mse: nan\n",
            "Epoch 3/50\n",
            "27/27 [==============================] - 0s 3ms/step - loss: nan - mse: nan - val_loss: nan - val_mse: nan\n",
            "Epoch 4/50\n",
            "27/27 [==============================] - 0s 3ms/step - loss: nan - mse: nan - val_loss: nan - val_mse: nan\n",
            "Epoch 5/50\n",
            "27/27 [==============================] - 0s 3ms/step - loss: nan - mse: nan - val_loss: nan - val_mse: nan\n",
            "Epoch 6/50\n",
            "27/27 [==============================] - 0s 3ms/step - loss: nan - mse: nan - val_loss: nan - val_mse: nan\n",
            "Epoch 7/50\n",
            "27/27 [==============================] - 0s 3ms/step - loss: nan - mse: nan - val_loss: nan - val_mse: nan\n",
            "Epoch 8/50\n",
            "27/27 [==============================] - 0s 3ms/step - loss: nan - mse: nan - val_loss: nan - val_mse: nan\n",
            "Epoch 9/50\n",
            "27/27 [==============================] - 0s 3ms/step - loss: nan - mse: nan - val_loss: nan - val_mse: nan\n",
            "Epoch 10/50\n",
            "27/27 [==============================] - 0s 3ms/step - loss: nan - mse: nan - val_loss: nan - val_mse: nan\n",
            "14/14 [==============================] - 0s 1ms/step\n",
            "Epoch 1/50\n"
          ]
        },
        {
          "output_type": "stream",
          "name": "stderr",
          "text": [
            "/usr/local/lib/python3.10/dist-packages/sklearn/model_selection/_validation.py:778: UserWarning: Scoring failed. The score on this train-test partition for these parameters will be set to nan. Details: \n",
            "Traceback (most recent call last):\n",
            "  File \"/usr/local/lib/python3.10/dist-packages/sklearn/model_selection/_validation.py\", line 767, in _score\n",
            "    scores = scorer(estimator, X_test, y_test)\n",
            "  File \"/usr/local/lib/python3.10/dist-packages/sklearn/metrics/_scorer.py\", line 234, in __call__\n",
            "    return self._score(\n",
            "  File \"/usr/local/lib/python3.10/dist-packages/sklearn/metrics/_scorer.py\", line 282, in _score\n",
            "    return self._sign * self._score_func(y_true, y_pred, **self._kwargs)\n",
            "  File \"/usr/local/lib/python3.10/dist-packages/sklearn/metrics/_regression.py\", line 442, in mean_squared_error\n",
            "    y_type, y_true, y_pred, multioutput = _check_reg_targets(\n",
            "  File \"/usr/local/lib/python3.10/dist-packages/sklearn/metrics/_regression.py\", line 102, in _check_reg_targets\n",
            "    y_pred = check_array(y_pred, ensure_2d=False, dtype=dtype)\n",
            "  File \"/usr/local/lib/python3.10/dist-packages/sklearn/utils/validation.py\", line 921, in check_array\n",
            "    _assert_all_finite(\n",
            "  File \"/usr/local/lib/python3.10/dist-packages/sklearn/utils/validation.py\", line 161, in _assert_all_finite\n",
            "    raise ValueError(msg_err)\n",
            "ValueError: Input contains NaN.\n",
            "\n",
            "  warnings.warn(\n",
            "/usr/local/lib/python3.10/dist-packages/keras/optimizers/legacy/gradient_descent.py:114: UserWarning: The `lr` argument is deprecated, use `learning_rate` instead.\n",
            "  super().__init__(name, **kwargs)\n"
          ]
        },
        {
          "output_type": "stream",
          "name": "stdout",
          "text": [
            "27/27 [==============================] - 1s 8ms/step - loss: nan - mse: nan - val_loss: nan - val_mse: nan\n",
            "Epoch 2/50\n",
            "27/27 [==============================] - 0s 5ms/step - loss: nan - mse: nan - val_loss: nan - val_mse: nan\n",
            "Epoch 3/50\n",
            "27/27 [==============================] - 0s 4ms/step - loss: nan - mse: nan - val_loss: nan - val_mse: nan\n",
            "Epoch 4/50\n",
            "27/27 [==============================] - 0s 4ms/step - loss: nan - mse: nan - val_loss: nan - val_mse: nan\n",
            "Epoch 5/50\n",
            "27/27 [==============================] - 0s 4ms/step - loss: nan - mse: nan - val_loss: nan - val_mse: nan\n",
            "Epoch 6/50\n",
            "27/27 [==============================] - 0s 4ms/step - loss: nan - mse: nan - val_loss: nan - val_mse: nan\n",
            "Epoch 7/50\n",
            "27/27 [==============================] - 0s 4ms/step - loss: nan - mse: nan - val_loss: nan - val_mse: nan\n",
            "Epoch 8/50\n",
            "27/27 [==============================] - 0s 5ms/step - loss: nan - mse: nan - val_loss: nan - val_mse: nan\n",
            "Epoch 9/50\n",
            "27/27 [==============================] - 0s 5ms/step - loss: nan - mse: nan - val_loss: nan - val_mse: nan\n",
            "Epoch 10/50\n",
            "27/27 [==============================] - 0s 4ms/step - loss: nan - mse: nan - val_loss: nan - val_mse: nan\n",
            "14/14 [==============================] - 0s 1ms/step\n",
            "Epoch 1/50\n"
          ]
        },
        {
          "output_type": "stream",
          "name": "stderr",
          "text": [
            "/usr/local/lib/python3.10/dist-packages/sklearn/model_selection/_validation.py:778: UserWarning: Scoring failed. The score on this train-test partition for these parameters will be set to nan. Details: \n",
            "Traceback (most recent call last):\n",
            "  File \"/usr/local/lib/python3.10/dist-packages/sklearn/model_selection/_validation.py\", line 767, in _score\n",
            "    scores = scorer(estimator, X_test, y_test)\n",
            "  File \"/usr/local/lib/python3.10/dist-packages/sklearn/metrics/_scorer.py\", line 234, in __call__\n",
            "    return self._score(\n",
            "  File \"/usr/local/lib/python3.10/dist-packages/sklearn/metrics/_scorer.py\", line 282, in _score\n",
            "    return self._sign * self._score_func(y_true, y_pred, **self._kwargs)\n",
            "  File \"/usr/local/lib/python3.10/dist-packages/sklearn/metrics/_regression.py\", line 442, in mean_squared_error\n",
            "    y_type, y_true, y_pred, multioutput = _check_reg_targets(\n",
            "  File \"/usr/local/lib/python3.10/dist-packages/sklearn/metrics/_regression.py\", line 102, in _check_reg_targets\n",
            "    y_pred = check_array(y_pred, ensure_2d=False, dtype=dtype)\n",
            "  File \"/usr/local/lib/python3.10/dist-packages/sklearn/utils/validation.py\", line 921, in check_array\n",
            "    _assert_all_finite(\n",
            "  File \"/usr/local/lib/python3.10/dist-packages/sklearn/utils/validation.py\", line 161, in _assert_all_finite\n",
            "    raise ValueError(msg_err)\n",
            "ValueError: Input contains NaN.\n",
            "\n",
            "  warnings.warn(\n",
            "/usr/local/lib/python3.10/dist-packages/keras/optimizers/legacy/gradient_descent.py:114: UserWarning: The `lr` argument is deprecated, use `learning_rate` instead.\n",
            "  super().__init__(name, **kwargs)\n"
          ]
        },
        {
          "output_type": "stream",
          "name": "stdout",
          "text": [
            "27/27 [==============================] - 1s 11ms/step - loss: 6889.2964 - mse: 6889.2964 - val_loss: 6885.4287 - val_mse: 6885.4287\n",
            "Epoch 2/50\n",
            "27/27 [==============================] - 0s 5ms/step - loss: 6865.7222 - mse: 6865.7222 - val_loss: 6766.6572 - val_mse: 6766.6572\n",
            "Epoch 3/50\n",
            "27/27 [==============================] - 0s 4ms/step - loss: 6841.2856 - mse: 6841.2856 - val_loss: 6830.1016 - val_mse: 6830.1016\n",
            "Epoch 4/50\n",
            "27/27 [==============================] - 0s 5ms/step - loss: 6817.5693 - mse: 6817.5693 - val_loss: 6762.3584 - val_mse: 6762.3584\n",
            "Epoch 5/50\n",
            "27/27 [==============================] - 0s 5ms/step - loss: 6793.4585 - mse: 6793.4585 - val_loss: 6822.1226 - val_mse: 6822.1226\n",
            "Epoch 6/50\n",
            "27/27 [==============================] - 0s 5ms/step - loss: 6768.0444 - mse: 6768.0444 - val_loss: 7010.8516 - val_mse: 7010.8516\n",
            "Epoch 7/50\n",
            "27/27 [==============================] - 0s 5ms/step - loss: 6741.7783 - mse: 6741.7783 - val_loss: 6971.6240 - val_mse: 6971.6240\n",
            "Epoch 8/50\n",
            "27/27 [==============================] - 0s 4ms/step - loss: 6716.5293 - mse: 6716.5293 - val_loss: 6599.4229 - val_mse: 6599.4229\n",
            "Epoch 9/50\n",
            "27/27 [==============================] - 0s 4ms/step - loss: 6688.4526 - mse: 6688.4526 - val_loss: 6801.5562 - val_mse: 6801.5562\n",
            "Epoch 10/50\n",
            "27/27 [==============================] - 0s 5ms/step - loss: 6660.3315 - mse: 6660.3315 - val_loss: 6504.1777 - val_mse: 6504.1777\n",
            "Epoch 11/50\n",
            "27/27 [==============================] - 0s 5ms/step - loss: 6629.8354 - mse: 6629.8354 - val_loss: 6557.1069 - val_mse: 6557.1069\n",
            "Epoch 12/50\n",
            "27/27 [==============================] - 0s 4ms/step - loss: 6598.6553 - mse: 6598.6553 - val_loss: 6624.1094 - val_mse: 6624.1094\n",
            "Epoch 13/50\n",
            "27/27 [==============================] - 0s 4ms/step - loss: 6564.3828 - mse: 6564.3828 - val_loss: 6456.5913 - val_mse: 6456.5913\n",
            "Epoch 14/50\n",
            "27/27 [==============================] - 0s 5ms/step - loss: 6529.8984 - mse: 6529.8984 - val_loss: 6563.3682 - val_mse: 6563.3682\n",
            "Epoch 15/50\n",
            "27/27 [==============================] - 0s 5ms/step - loss: 6491.4648 - mse: 6491.4648 - val_loss: 6459.4258 - val_mse: 6459.4258\n",
            "Epoch 16/50\n",
            "27/27 [==============================] - 0s 5ms/step - loss: 6452.7544 - mse: 6452.7544 - val_loss: 6504.0210 - val_mse: 6504.0210\n",
            "Epoch 17/50\n",
            "27/27 [==============================] - 0s 5ms/step - loss: 6409.9600 - mse: 6409.9600 - val_loss: 6387.3643 - val_mse: 6387.3643\n",
            "Epoch 18/50\n",
            "27/27 [==============================] - 0s 5ms/step - loss: 6363.4009 - mse: 6363.4009 - val_loss: 6275.6943 - val_mse: 6275.6943\n",
            "Epoch 19/50\n",
            "27/27 [==============================] - 0s 5ms/step - loss: 6315.9492 - mse: 6315.9492 - val_loss: 6397.3140 - val_mse: 6397.3140\n",
            "Epoch 20/50\n",
            "27/27 [==============================] - 0s 5ms/step - loss: 6264.6021 - mse: 6264.6021 - val_loss: 6244.1831 - val_mse: 6244.1831\n",
            "Epoch 21/50\n",
            "27/27 [==============================] - 0s 5ms/step - loss: 6208.8022 - mse: 6208.8022 - val_loss: 6125.3320 - val_mse: 6125.3320\n",
            "Epoch 22/50\n",
            "27/27 [==============================] - 0s 5ms/step - loss: 6150.4565 - mse: 6150.4565 - val_loss: 6028.7373 - val_mse: 6028.7373\n",
            "Epoch 23/50\n",
            "27/27 [==============================] - 0s 4ms/step - loss: 6086.8594 - mse: 6086.8594 - val_loss: 5969.8740 - val_mse: 5969.8740\n",
            "Epoch 24/50\n",
            "27/27 [==============================] - 0s 5ms/step - loss: 6018.5532 - mse: 6018.5532 - val_loss: 5968.6694 - val_mse: 5968.6694\n",
            "Epoch 25/50\n",
            "27/27 [==============================] - 0s 4ms/step - loss: 5945.2373 - mse: 5945.2373 - val_loss: 5937.7417 - val_mse: 5937.7417\n",
            "Epoch 26/50\n",
            "27/27 [==============================] - 0s 5ms/step - loss: 5867.2075 - mse: 5867.2075 - val_loss: 5934.9038 - val_mse: 5934.9038\n",
            "Epoch 27/50\n",
            "27/27 [==============================] - 0s 4ms/step - loss: 5782.7432 - mse: 5782.7432 - val_loss: 5911.2485 - val_mse: 5911.2485\n",
            "Epoch 28/50\n",
            "27/27 [==============================] - 0s 6ms/step - loss: 5694.0312 - mse: 5694.0312 - val_loss: 5777.4775 - val_mse: 5777.4775\n",
            "Epoch 29/50\n",
            "27/27 [==============================] - 0s 4ms/step - loss: 5598.0400 - mse: 5598.0400 - val_loss: 5655.6592 - val_mse: 5655.6592\n",
            "Epoch 30/50\n",
            "27/27 [==============================] - 0s 5ms/step - loss: 5496.5620 - mse: 5496.5620 - val_loss: 5413.5054 - val_mse: 5413.5054\n",
            "Epoch 31/50\n",
            "27/27 [==============================] - 0s 4ms/step - loss: 5389.3159 - mse: 5389.3159 - val_loss: 5450.3330 - val_mse: 5450.3330\n",
            "Epoch 32/50\n",
            "27/27 [==============================] - 0s 4ms/step - loss: 5274.7812 - mse: 5274.7812 - val_loss: 5352.5420 - val_mse: 5352.5420\n",
            "Epoch 33/50\n",
            "27/27 [==============================] - 0s 5ms/step - loss: 5151.4932 - mse: 5151.4932 - val_loss: 5157.8042 - val_mse: 5157.8042\n",
            "Epoch 34/50\n",
            "27/27 [==============================] - 0s 5ms/step - loss: 5023.9761 - mse: 5023.9761 - val_loss: 5094.0146 - val_mse: 5094.0146\n",
            "Epoch 35/50\n",
            "27/27 [==============================] - 0s 5ms/step - loss: 4888.6812 - mse: 4888.6812 - val_loss: 4934.8252 - val_mse: 4934.8252\n",
            "Epoch 36/50\n",
            "27/27 [==============================] - 0s 5ms/step - loss: 4744.9131 - mse: 4744.9131 - val_loss: 4554.1699 - val_mse: 4554.1699\n",
            "Epoch 37/50\n",
            "27/27 [==============================] - 0s 4ms/step - loss: 4594.9155 - mse: 4594.9155 - val_loss: 5021.9585 - val_mse: 5021.9585\n",
            "Epoch 38/50\n",
            "27/27 [==============================] - 0s 5ms/step - loss: 4441.8013 - mse: 4441.8013 - val_loss: 4485.4756 - val_mse: 4485.4756\n",
            "Epoch 39/50\n",
            "27/27 [==============================] - 0s 5ms/step - loss: 4278.3018 - mse: 4278.3018 - val_loss: 4236.0400 - val_mse: 4236.0400\n",
            "Epoch 40/50\n",
            "27/27 [==============================] - 0s 5ms/step - loss: 4110.2314 - mse: 4110.2314 - val_loss: 4119.3647 - val_mse: 4119.3647\n",
            "Epoch 41/50\n",
            "27/27 [==============================] - 0s 5ms/step - loss: 3937.2224 - mse: 3937.2224 - val_loss: 3920.9102 - val_mse: 3920.9102\n",
            "Epoch 42/50\n",
            "27/27 [==============================] - 0s 5ms/step - loss: 3758.2893 - mse: 3758.2893 - val_loss: 3764.0591 - val_mse: 3764.0591\n",
            "Epoch 43/50\n",
            "27/27 [==============================] - 0s 4ms/step - loss: 3574.0244 - mse: 3574.0244 - val_loss: 3369.6414 - val_mse: 3369.6414\n",
            "Epoch 44/50\n",
            "27/27 [==============================] - 0s 5ms/step - loss: 3390.8435 - mse: 3390.8435 - val_loss: 3319.3042 - val_mse: 3319.3042\n",
            "Epoch 45/50\n",
            "27/27 [==============================] - 0s 5ms/step - loss: 3200.2861 - mse: 3200.2861 - val_loss: 2951.8169 - val_mse: 2951.8169\n",
            "Epoch 46/50\n",
            "27/27 [==============================] - 0s 4ms/step - loss: 3012.0322 - mse: 3012.0322 - val_loss: 3115.4553 - val_mse: 3115.4553\n",
            "Epoch 47/50\n",
            "27/27 [==============================] - 0s 4ms/step - loss: 2823.7412 - mse: 2823.7412 - val_loss: 2661.1909 - val_mse: 2661.1909\n",
            "Epoch 48/50\n",
            "27/27 [==============================] - 0s 4ms/step - loss: 2639.1838 - mse: 2639.1838 - val_loss: 2475.7615 - val_mse: 2475.7615\n",
            "Epoch 49/50\n",
            "27/27 [==============================] - 0s 5ms/step - loss: 2454.3789 - mse: 2454.3789 - val_loss: 2431.8872 - val_mse: 2431.8872\n",
            "Epoch 50/50\n",
            "27/27 [==============================] - 0s 4ms/step - loss: 2274.6919 - mse: 2274.6919 - val_loss: 2371.9470 - val_mse: 2371.9470\n",
            "14/14 [==============================] - 0s 2ms/step\n",
            "Epoch 1/50\n"
          ]
        },
        {
          "output_type": "stream",
          "name": "stderr",
          "text": [
            "/usr/local/lib/python3.10/dist-packages/keras/optimizers/legacy/gradient_descent.py:114: UserWarning: The `lr` argument is deprecated, use `learning_rate` instead.\n",
            "  super().__init__(name, **kwargs)\n"
          ]
        },
        {
          "output_type": "stream",
          "name": "stdout",
          "text": [
            "27/27 [==============================] - 1s 11ms/step - loss: 6936.6426 - mse: 6936.6426 - val_loss: 6895.0352 - val_mse: 6895.0352\n",
            "Epoch 2/50\n",
            "27/27 [==============================] - 0s 4ms/step - loss: 6910.0713 - mse: 6910.0713 - val_loss: 6880.5518 - val_mse: 6880.5518\n",
            "Epoch 3/50\n",
            "27/27 [==============================] - 0s 5ms/step - loss: 6883.6665 - mse: 6883.6665 - val_loss: 6892.7329 - val_mse: 6892.7329\n",
            "Epoch 4/50\n",
            "27/27 [==============================] - 0s 5ms/step - loss: 6857.7524 - mse: 6857.7524 - val_loss: 6824.7383 - val_mse: 6824.7383\n",
            "Epoch 5/50\n",
            "27/27 [==============================] - 0s 5ms/step - loss: 6831.3271 - mse: 6831.3271 - val_loss: 6833.9385 - val_mse: 6833.9385\n",
            "Epoch 6/50\n",
            "27/27 [==============================] - 0s 4ms/step - loss: 6804.3452 - mse: 6804.3452 - val_loss: 6809.1821 - val_mse: 6809.1821\n",
            "Epoch 7/50\n",
            "27/27 [==============================] - 0s 5ms/step - loss: 6775.9536 - mse: 6775.9536 - val_loss: 6706.5210 - val_mse: 6706.5210\n",
            "Epoch 8/50\n",
            "27/27 [==============================] - 0s 5ms/step - loss: 6747.7026 - mse: 6747.7026 - val_loss: 6866.0850 - val_mse: 6866.0850\n",
            "Epoch 9/50\n",
            "27/27 [==============================] - 0s 5ms/step - loss: 6717.7188 - mse: 6717.7188 - val_loss: 6852.0884 - val_mse: 6852.0884\n",
            "Epoch 10/50\n",
            "27/27 [==============================] - 0s 6ms/step - loss: 6686.0713 - mse: 6686.0713 - val_loss: 6666.0869 - val_mse: 6666.0869\n",
            "Epoch 11/50\n",
            "27/27 [==============================] - 0s 5ms/step - loss: 6653.3096 - mse: 6653.3096 - val_loss: 6557.2437 - val_mse: 6557.2437\n",
            "Epoch 12/50\n",
            "27/27 [==============================] - 0s 5ms/step - loss: 6619.1655 - mse: 6619.1655 - val_loss: 6600.0142 - val_mse: 6600.0142\n",
            "Epoch 13/50\n",
            "27/27 [==============================] - 0s 5ms/step - loss: 6583.3818 - mse: 6583.3818 - val_loss: 6454.0264 - val_mse: 6454.0264\n",
            "Epoch 14/50\n",
            "27/27 [==============================] - 0s 4ms/step - loss: 6543.9204 - mse: 6543.9204 - val_loss: 6533.3750 - val_mse: 6533.3750\n",
            "Epoch 15/50\n",
            "27/27 [==============================] - 0s 4ms/step - loss: 6503.9238 - mse: 6503.9238 - val_loss: 6699.0391 - val_mse: 6699.0391\n",
            "Epoch 16/50\n",
            "27/27 [==============================] - 0s 5ms/step - loss: 6460.3984 - mse: 6460.3984 - val_loss: 6666.1514 - val_mse: 6666.1514\n",
            "Epoch 17/50\n",
            "27/27 [==============================] - 0s 5ms/step - loss: 6413.5059 - mse: 6413.5059 - val_loss: 6434.7871 - val_mse: 6434.7871\n",
            "Epoch 18/50\n",
            "27/27 [==============================] - 0s 4ms/step - loss: 6363.8267 - mse: 6363.8267 - val_loss: 6316.4062 - val_mse: 6316.4062\n",
            "Epoch 19/50\n",
            "27/27 [==============================] - 0s 4ms/step - loss: 6310.3750 - mse: 6310.3750 - val_loss: 6482.4038 - val_mse: 6482.4038\n",
            "Epoch 20/50\n",
            "27/27 [==============================] - 0s 5ms/step - loss: 6254.6719 - mse: 6254.6719 - val_loss: 6100.4175 - val_mse: 6100.4175\n",
            "Epoch 21/50\n",
            "27/27 [==============================] - 0s 4ms/step - loss: 6193.2188 - mse: 6193.2188 - val_loss: 6303.1929 - val_mse: 6303.1929\n",
            "Epoch 22/50\n",
            "27/27 [==============================] - 0s 4ms/step - loss: 6126.2271 - mse: 6126.2271 - val_loss: 6707.3936 - val_mse: 6707.3936\n",
            "Epoch 23/50\n",
            "27/27 [==============================] - 0s 5ms/step - loss: 6058.9014 - mse: 6058.9014 - val_loss: 6235.1567 - val_mse: 6235.1567\n",
            "Epoch 24/50\n",
            "27/27 [==============================] - 0s 4ms/step - loss: 5983.9746 - mse: 5983.9746 - val_loss: 5993.8374 - val_mse: 5993.8374\n",
            "Epoch 25/50\n",
            "27/27 [==============================] - 0s 5ms/step - loss: 5903.9087 - mse: 5903.9087 - val_loss: 5919.3115 - val_mse: 5919.3115\n",
            "Epoch 26/50\n",
            "27/27 [==============================] - 0s 4ms/step - loss: 5817.4053 - mse: 5817.4053 - val_loss: 5994.3379 - val_mse: 5994.3379\n",
            "Epoch 27/50\n",
            "27/27 [==============================] - 0s 4ms/step - loss: 5726.3516 - mse: 5726.3516 - val_loss: 5754.6235 - val_mse: 5754.6235\n",
            "Epoch 28/50\n",
            "27/27 [==============================] - 0s 5ms/step - loss: 5628.9092 - mse: 5628.9092 - val_loss: 5602.3076 - val_mse: 5602.3076\n",
            "Epoch 29/50\n",
            "27/27 [==============================] - 0s 5ms/step - loss: 5525.3394 - mse: 5525.3394 - val_loss: 5523.1602 - val_mse: 5523.1602\n",
            "Epoch 30/50\n",
            "27/27 [==============================] - 0s 4ms/step - loss: 5413.9556 - mse: 5413.9556 - val_loss: 5440.7393 - val_mse: 5440.7393\n",
            "Epoch 31/50\n",
            "27/27 [==============================] - 0s 5ms/step - loss: 5295.5703 - mse: 5295.5703 - val_loss: 5487.8208 - val_mse: 5487.8208\n",
            "Epoch 32/50\n",
            "27/27 [==============================] - 0s 4ms/step - loss: 5171.7485 - mse: 5171.7485 - val_loss: 5292.2568 - val_mse: 5292.2568\n",
            "Epoch 33/50\n",
            "27/27 [==============================] - 0s 4ms/step - loss: 5040.3965 - mse: 5040.3965 - val_loss: 5034.1084 - val_mse: 5034.1084\n",
            "Epoch 34/50\n",
            "27/27 [==============================] - 0s 5ms/step - loss: 4902.2373 - mse: 4902.2373 - val_loss: 4845.4009 - val_mse: 4845.4009\n",
            "Epoch 35/50\n",
            "27/27 [==============================] - 0s 4ms/step - loss: 4755.4175 - mse: 4755.4175 - val_loss: 4361.2031 - val_mse: 4361.2031\n",
            "Epoch 36/50\n",
            "27/27 [==============================] - 0s 4ms/step - loss: 4603.2026 - mse: 4603.2026 - val_loss: 4278.9497 - val_mse: 4278.9497\n",
            "Epoch 37/50\n",
            "27/27 [==============================] - 0s 5ms/step - loss: 4443.5801 - mse: 4443.5801 - val_loss: 4547.9526 - val_mse: 4547.9526\n",
            "Epoch 38/50\n",
            "27/27 [==============================] - 0s 4ms/step - loss: 4277.6265 - mse: 4277.6265 - val_loss: 4258.5957 - val_mse: 4258.5957\n",
            "Epoch 39/50\n",
            "27/27 [==============================] - 0s 4ms/step - loss: 4103.9585 - mse: 4103.9585 - val_loss: 3967.2371 - val_mse: 3967.2371\n",
            "Epoch 40/50\n",
            "27/27 [==============================] - 0s 4ms/step - loss: 3929.9067 - mse: 3929.9067 - val_loss: 3859.7278 - val_mse: 3859.7278\n",
            "Epoch 41/50\n",
            "27/27 [==============================] - 0s 5ms/step - loss: 3748.0071 - mse: 3748.0071 - val_loss: 3868.0383 - val_mse: 3868.0383\n",
            "Epoch 42/50\n",
            "27/27 [==============================] - 0s 5ms/step - loss: 3563.3767 - mse: 3563.3767 - val_loss: 3425.4688 - val_mse: 3425.4688\n",
            "Epoch 43/50\n",
            "27/27 [==============================] - 0s 5ms/step - loss: 3375.7031 - mse: 3375.7031 - val_loss: 3283.3137 - val_mse: 3283.3137\n",
            "Epoch 44/50\n",
            "27/27 [==============================] - 0s 4ms/step - loss: 3183.7166 - mse: 3183.7166 - val_loss: 2852.0464 - val_mse: 2852.0464\n",
            "Epoch 45/50\n",
            "27/27 [==============================] - 0s 5ms/step - loss: 2993.8804 - mse: 2993.8804 - val_loss: 2847.0684 - val_mse: 2847.0684\n",
            "Epoch 46/50\n",
            "27/27 [==============================] - 0s 5ms/step - loss: 2803.0405 - mse: 2803.0405 - val_loss: 2919.1821 - val_mse: 2919.1821\n",
            "Epoch 47/50\n",
            "27/27 [==============================] - 0s 5ms/step - loss: 2610.4507 - mse: 2610.4507 - val_loss: 3395.4570 - val_mse: 3395.4570\n",
            "Epoch 48/50\n",
            "27/27 [==============================] - 0s 4ms/step - loss: 2425.9023 - mse: 2425.9023 - val_loss: 2717.4619 - val_mse: 2717.4619\n",
            "Epoch 49/50\n",
            "27/27 [==============================] - 0s 5ms/step - loss: 2245.5994 - mse: 2245.5994 - val_loss: 2743.9792 - val_mse: 2743.9792\n",
            "Epoch 50/50\n",
            "27/27 [==============================] - 0s 4ms/step - loss: 2068.6897 - mse: 2068.6897 - val_loss: 2705.8481 - val_mse: 2705.8481\n",
            "14/14 [==============================] - 0s 3ms/step\n",
            "Epoch 1/50\n"
          ]
        },
        {
          "output_type": "stream",
          "name": "stderr",
          "text": [
            "/usr/local/lib/python3.10/dist-packages/keras/optimizers/legacy/gradient_descent.py:114: UserWarning: The `lr` argument is deprecated, use `learning_rate` instead.\n",
            "  super().__init__(name, **kwargs)\n"
          ]
        },
        {
          "output_type": "stream",
          "name": "stdout",
          "text": [
            "27/27 [==============================] - 1s 11ms/step - loss: 6966.2378 - mse: 6966.2378 - val_loss: 6889.1953 - val_mse: 6889.1953\n",
            "Epoch 2/50\n",
            "27/27 [==============================] - 0s 4ms/step - loss: 6938.9053 - mse: 6938.9053 - val_loss: 6868.4111 - val_mse: 6868.4111\n",
            "Epoch 3/50\n",
            "27/27 [==============================] - 0s 4ms/step - loss: 6911.6919 - mse: 6911.6919 - val_loss: 6800.1694 - val_mse: 6800.1694\n",
            "Epoch 4/50\n",
            "27/27 [==============================] - 0s 6ms/step - loss: 6884.7461 - mse: 6884.7461 - val_loss: 6813.8657 - val_mse: 6813.8657\n",
            "Epoch 5/50\n",
            "27/27 [==============================] - 0s 4ms/step - loss: 6856.8687 - mse: 6856.8687 - val_loss: 6896.5156 - val_mse: 6896.5156\n",
            "Epoch 6/50\n",
            "27/27 [==============================] - 0s 5ms/step - loss: 6828.9731 - mse: 6828.9731 - val_loss: 6768.5610 - val_mse: 6768.5610\n",
            "Epoch 7/50\n",
            "27/27 [==============================] - 0s 4ms/step - loss: 6799.9556 - mse: 6799.9556 - val_loss: 6704.2695 - val_mse: 6704.2695\n",
            "Epoch 8/50\n",
            "27/27 [==============================] - 0s 4ms/step - loss: 6770.5146 - mse: 6770.5146 - val_loss: 6230.3584 - val_mse: 6230.3584\n",
            "Epoch 9/50\n",
            "27/27 [==============================] - 0s 5ms/step - loss: 6739.0713 - mse: 6739.0713 - val_loss: 4086.7722 - val_mse: 4086.7722\n",
            "Epoch 10/50\n",
            "27/27 [==============================] - 0s 4ms/step - loss: 6705.6953 - mse: 6705.6953 - val_loss: 6656.1055 - val_mse: 6656.1055\n",
            "Epoch 11/50\n",
            "27/27 [==============================] - 0s 4ms/step - loss: 6672.1416 - mse: 6672.1416 - val_loss: 6632.3452 - val_mse: 6632.3452\n",
            "Epoch 12/50\n",
            "27/27 [==============================] - 0s 5ms/step - loss: 6636.0327 - mse: 6636.0327 - val_loss: 6588.0952 - val_mse: 6588.0952\n",
            "Epoch 13/50\n",
            "27/27 [==============================] - 0s 4ms/step - loss: 6598.2129 - mse: 6598.2129 - val_loss: 6281.3613 - val_mse: 6281.3613\n",
            "Epoch 14/50\n",
            "27/27 [==============================] - 0s 4ms/step - loss: 6557.5400 - mse: 6557.5400 - val_loss: 6482.5366 - val_mse: 6482.5366\n",
            "Epoch 15/50\n",
            "27/27 [==============================] - 0s 5ms/step - loss: 6514.2422 - mse: 6514.2422 - val_loss: 6460.5459 - val_mse: 6460.5459\n",
            "Epoch 16/50\n",
            "27/27 [==============================] - 0s 4ms/step - loss: 6468.3940 - mse: 6468.3940 - val_loss: 6437.3154 - val_mse: 6437.3154\n",
            "Epoch 17/50\n",
            "27/27 [==============================] - 0s 6ms/step - loss: 6420.3125 - mse: 6420.3125 - val_loss: 6334.0273 - val_mse: 6334.0273\n",
            "Epoch 18/50\n",
            "27/27 [==============================] - 0s 4ms/step - loss: 6367.2646 - mse: 6367.2646 - val_loss: 6355.7861 - val_mse: 6355.7861\n",
            "Epoch 19/50\n",
            "27/27 [==============================] - 0s 4ms/step - loss: 6310.8306 - mse: 6310.8306 - val_loss: 6232.7310 - val_mse: 6232.7310\n",
            "14/14 [==============================] - 0s 2ms/step\n",
            "Epoch 1/50\n"
          ]
        },
        {
          "output_type": "stream",
          "name": "stderr",
          "text": [
            "/usr/local/lib/python3.10/dist-packages/keras/optimizers/legacy/gradient_descent.py:114: UserWarning: The `lr` argument is deprecated, use `learning_rate` instead.\n",
            "  super().__init__(name, **kwargs)\n"
          ]
        },
        {
          "output_type": "stream",
          "name": "stdout",
          "text": [
            "27/27 [==============================] - 1s 8ms/step - loss: 1847.3517 - mse: 1847.3517 - val_loss: 62.4004 - val_mse: 62.4004\n",
            "Epoch 2/50\n",
            "27/27 [==============================] - 0s 3ms/step - loss: 684.5429 - mse: 684.5429 - val_loss: 1831.7662 - val_mse: 1831.7662\n",
            "Epoch 3/50\n",
            "27/27 [==============================] - 0s 4ms/step - loss: 855.2094 - mse: 855.2094 - val_loss: 352.9189 - val_mse: 352.9189\n",
            "Epoch 4/50\n",
            "27/27 [==============================] - 0s 4ms/step - loss: 597.9127 - mse: 597.9127 - val_loss: 251.9468 - val_mse: 251.9468\n",
            "Epoch 5/50\n",
            "27/27 [==============================] - 0s 4ms/step - loss: 540.6342 - mse: 540.6342 - val_loss: 211.0354 - val_mse: 211.0354\n",
            "Epoch 6/50\n",
            "27/27 [==============================] - 0s 3ms/step - loss: 429.8633 - mse: 429.8633 - val_loss: 617.3519 - val_mse: 617.3519\n",
            "Epoch 7/50\n",
            "27/27 [==============================] - 0s 4ms/step - loss: 315.1261 - mse: 315.1261 - val_loss: 172.6673 - val_mse: 172.6673\n",
            "Epoch 8/50\n",
            "27/27 [==============================] - 0s 4ms/step - loss: 248.7194 - mse: 248.7194 - val_loss: 66.0133 - val_mse: 66.0133\n",
            "Epoch 9/50\n",
            "27/27 [==============================] - 0s 4ms/step - loss: 185.2227 - mse: 185.2227 - val_loss: 189.7511 - val_mse: 189.7511\n",
            "Epoch 10/50\n",
            "27/27 [==============================] - 0s 3ms/step - loss: 269.9770 - mse: 269.9770 - val_loss: 225.2889 - val_mse: 225.2889\n",
            "Epoch 11/50\n",
            "27/27 [==============================] - 0s 4ms/step - loss: 251.8289 - mse: 251.8289 - val_loss: 221.3563 - val_mse: 221.3563\n",
            "14/14 [==============================] - 0s 2ms/step\n",
            "Epoch 1/50\n"
          ]
        },
        {
          "output_type": "stream",
          "name": "stderr",
          "text": [
            "/usr/local/lib/python3.10/dist-packages/keras/optimizers/legacy/gradient_descent.py:114: UserWarning: The `lr` argument is deprecated, use `learning_rate` instead.\n",
            "  super().__init__(name, **kwargs)\n"
          ]
        },
        {
          "output_type": "stream",
          "name": "stdout",
          "text": [
            "27/27 [==============================] - 1s 9ms/step - loss: 1407.1383 - mse: 1407.1383 - val_loss: 3012.5623 - val_mse: 3012.5623\n",
            "Epoch 2/50\n",
            "27/27 [==============================] - 0s 3ms/step - loss: 872.0983 - mse: 872.0983 - val_loss: 485.2542 - val_mse: 485.2542\n",
            "Epoch 3/50\n",
            "27/27 [==============================] - 0s 4ms/step - loss: 896.3737 - mse: 896.3737 - val_loss: 1024.6711 - val_mse: 1024.6711\n",
            "Epoch 4/50\n",
            "27/27 [==============================] - 0s 4ms/step - loss: 763.4998 - mse: 763.4998 - val_loss: 465.8582 - val_mse: 465.8582\n",
            "Epoch 5/50\n",
            "27/27 [==============================] - 0s 4ms/step - loss: 652.4811 - mse: 652.4811 - val_loss: 341.0002 - val_mse: 341.0002\n",
            "Epoch 6/50\n",
            "27/27 [==============================] - 0s 4ms/step - loss: 529.9655 - mse: 529.9655 - val_loss: 259.2921 - val_mse: 259.2921\n",
            "Epoch 7/50\n",
            "27/27 [==============================] - 0s 4ms/step - loss: 342.4723 - mse: 342.4723 - val_loss: 337.0532 - val_mse: 337.0532\n",
            "Epoch 8/50\n",
            "27/27 [==============================] - 0s 4ms/step - loss: 236.8867 - mse: 236.8867 - val_loss: 166.1123 - val_mse: 166.1123\n",
            "Epoch 9/50\n",
            "27/27 [==============================] - 0s 3ms/step - loss: 244.4234 - mse: 244.4234 - val_loss: 143.1201 - val_mse: 143.1201\n",
            "Epoch 10/50\n",
            "27/27 [==============================] - 0s 4ms/step - loss: 225.5809 - mse: 225.5809 - val_loss: 303.5211 - val_mse: 303.5211\n",
            "Epoch 11/50\n",
            "27/27 [==============================] - 0s 3ms/step - loss: 238.0388 - mse: 238.0388 - val_loss: 2435.8716 - val_mse: 2435.8716\n",
            "Epoch 12/50\n",
            "27/27 [==============================] - 0s 4ms/step - loss: 121.4790 - mse: 121.4790 - val_loss: 176.8728 - val_mse: 176.8728\n",
            "Epoch 13/50\n",
            "27/27 [==============================] - 0s 4ms/step - loss: 120.4994 - mse: 120.4994 - val_loss: 294.0710 - val_mse: 294.0710\n",
            "Epoch 14/50\n",
            "27/27 [==============================] - 0s 5ms/step - loss: 144.3035 - mse: 144.3035 - val_loss: 161.8197 - val_mse: 161.8197\n",
            "Epoch 15/50\n",
            "27/27 [==============================] - 0s 4ms/step - loss: 145.6797 - mse: 145.6797 - val_loss: 113.4572 - val_mse: 113.4572\n",
            "Epoch 16/50\n",
            "27/27 [==============================] - 0s 3ms/step - loss: 186.2414 - mse: 186.2414 - val_loss: 214.6956 - val_mse: 214.6956\n",
            "Epoch 17/50\n",
            "27/27 [==============================] - 0s 4ms/step - loss: 131.6928 - mse: 131.6928 - val_loss: 60.6139 - val_mse: 60.6139\n",
            "Epoch 18/50\n",
            "27/27 [==============================] - 0s 4ms/step - loss: 100.9871 - mse: 100.9871 - val_loss: 87.5646 - val_mse: 87.5646\n",
            "Epoch 19/50\n",
            "27/27 [==============================] - 0s 3ms/step - loss: 97.0203 - mse: 97.0203 - val_loss: 49.9162 - val_mse: 49.9162\n",
            "Epoch 20/50\n",
            "27/27 [==============================] - 0s 5ms/step - loss: 82.3289 - mse: 82.3289 - val_loss: 46.7094 - val_mse: 46.7094\n",
            "Epoch 21/50\n",
            "27/27 [==============================] - 0s 4ms/step - loss: 143.6832 - mse: 143.6832 - val_loss: 217.8429 - val_mse: 217.8429\n",
            "Epoch 22/50\n",
            "27/27 [==============================] - 0s 4ms/step - loss: 88.4960 - mse: 88.4960 - val_loss: 44.4869 - val_mse: 44.4869\n",
            "Epoch 23/50\n",
            "27/27 [==============================] - 0s 4ms/step - loss: 46.8028 - mse: 46.8028 - val_loss: 49.0101 - val_mse: 49.0101\n",
            "Epoch 24/50\n",
            "27/27 [==============================] - 0s 5ms/step - loss: 40.6719 - mse: 40.6719 - val_loss: 134.0343 - val_mse: 134.0343\n",
            "Epoch 25/50\n",
            "27/27 [==============================] - 0s 5ms/step - loss: 41.4634 - mse: 41.4634 - val_loss: 86.0457 - val_mse: 86.0457\n",
            "Epoch 26/50\n",
            "27/27 [==============================] - 0s 5ms/step - loss: 147.4394 - mse: 147.4394 - val_loss: 262.1285 - val_mse: 262.1285\n",
            "Epoch 27/50\n",
            "27/27 [==============================] - 0s 6ms/step - loss: 85.7949 - mse: 85.7949 - val_loss: 42.4588 - val_mse: 42.4588\n",
            "Epoch 28/50\n",
            "27/27 [==============================] - 0s 6ms/step - loss: 77.0430 - mse: 77.0430 - val_loss: 106.7255 - val_mse: 106.7255\n",
            "Epoch 29/50\n",
            "27/27 [==============================] - 0s 5ms/step - loss: 99.6285 - mse: 99.6285 - val_loss: 37.0050 - val_mse: 37.0050\n",
            "Epoch 30/50\n",
            "27/27 [==============================] - 0s 6ms/step - loss: 88.3472 - mse: 88.3472 - val_loss: 540.6941 - val_mse: 540.6941\n",
            "Epoch 31/50\n",
            "27/27 [==============================] - 0s 5ms/step - loss: 51.8705 - mse: 51.8705 - val_loss: 219.3380 - val_mse: 219.3380\n",
            "Epoch 32/50\n",
            "27/27 [==============================] - 0s 5ms/step - loss: 50.0969 - mse: 50.0969 - val_loss: 6.5140 - val_mse: 6.5140\n",
            "Epoch 33/50\n",
            "27/27 [==============================] - 0s 6ms/step - loss: 26.6457 - mse: 26.6457 - val_loss: 4.8027 - val_mse: 4.8027\n",
            "Epoch 34/50\n",
            "27/27 [==============================] - 0s 6ms/step - loss: 24.8353 - mse: 24.8353 - val_loss: 3.2442 - val_mse: 3.2442\n",
            "Epoch 35/50\n",
            "27/27 [==============================] - 0s 5ms/step - loss: 32.6776 - mse: 32.6776 - val_loss: 19.2649 - val_mse: 19.2649\n",
            "Epoch 36/50\n",
            "27/27 [==============================] - 0s 4ms/step - loss: 65.6662 - mse: 65.6662 - val_loss: 44.1687 - val_mse: 44.1687\n",
            "Epoch 37/50\n",
            "27/27 [==============================] - 0s 5ms/step - loss: 55.7529 - mse: 55.7529 - val_loss: 120.4401 - val_mse: 120.4401\n",
            "Epoch 38/50\n",
            "27/27 [==============================] - 0s 5ms/step - loss: 28.2952 - mse: 28.2952 - val_loss: 401.9294 - val_mse: 401.9294\n",
            "Epoch 39/50\n",
            "27/27 [==============================] - 0s 5ms/step - loss: 31.1654 - mse: 31.1654 - val_loss: 51.4189 - val_mse: 51.4189\n",
            "Epoch 40/50\n",
            "27/27 [==============================] - 0s 5ms/step - loss: 11.1773 - mse: 11.1773 - val_loss: 22.2917 - val_mse: 22.2917\n",
            "Epoch 41/50\n",
            "27/27 [==============================] - 0s 6ms/step - loss: 39.6328 - mse: 39.6328 - val_loss: 130.4505 - val_mse: 130.4505\n",
            "Epoch 42/50\n",
            "27/27 [==============================] - 0s 5ms/step - loss: 22.2200 - mse: 22.2200 - val_loss: 14.1984 - val_mse: 14.1984\n",
            "Epoch 43/50\n",
            "27/27 [==============================] - 0s 4ms/step - loss: 47.7695 - mse: 47.7695 - val_loss: 458.5815 - val_mse: 458.5815\n",
            "Epoch 44/50\n",
            "27/27 [==============================] - 0s 6ms/step - loss: 60.8667 - mse: 60.8667 - val_loss: 40.0730 - val_mse: 40.0730\n",
            "14/14 [==============================] - 0s 2ms/step\n",
            "Epoch 1/50\n"
          ]
        },
        {
          "output_type": "stream",
          "name": "stderr",
          "text": [
            "/usr/local/lib/python3.10/dist-packages/keras/optimizers/legacy/gradient_descent.py:114: UserWarning: The `lr` argument is deprecated, use `learning_rate` instead.\n",
            "  super().__init__(name, **kwargs)\n"
          ]
        },
        {
          "output_type": "stream",
          "name": "stdout",
          "text": [
            "27/27 [==============================] - 1s 9ms/step - loss: 1920.1907 - mse: 1920.1907 - val_loss: 992.6155 - val_mse: 992.6155\n",
            "Epoch 2/50\n",
            "27/27 [==============================] - 0s 4ms/step - loss: 941.7903 - mse: 941.7903 - val_loss: 23830.7070 - val_mse: 23830.7070\n",
            "Epoch 3/50\n",
            "27/27 [==============================] - 0s 6ms/step - loss: 762.7815 - mse: 762.7815 - val_loss: 361.2757 - val_mse: 361.2757\n",
            "Epoch 4/50\n",
            "27/27 [==============================] - 0s 4ms/step - loss: 648.0084 - mse: 648.0084 - val_loss: 328.2380 - val_mse: 328.2380\n",
            "Epoch 5/50\n",
            "27/27 [==============================] - 0s 4ms/step - loss: 479.3761 - mse: 479.3761 - val_loss: 541.0002 - val_mse: 541.0002\n",
            "Epoch 6/50\n",
            "27/27 [==============================] - 0s 4ms/step - loss: 426.3110 - mse: 426.3110 - val_loss: 403.2915 - val_mse: 403.2915\n",
            "Epoch 7/50\n",
            "27/27 [==============================] - 0s 4ms/step - loss: 164.9832 - mse: 164.9832 - val_loss: 484.7141 - val_mse: 484.7141\n",
            "Epoch 8/50\n",
            "27/27 [==============================] - 0s 4ms/step - loss: 267.0254 - mse: 267.0254 - val_loss: 168.5740 - val_mse: 168.5740\n",
            "Epoch 9/50\n",
            "27/27 [==============================] - 0s 4ms/step - loss: 277.3093 - mse: 277.3093 - val_loss: 181.5774 - val_mse: 181.5774\n",
            "Epoch 10/50\n",
            "27/27 [==============================] - 0s 4ms/step - loss: 266.6615 - mse: 266.6615 - val_loss: 53.3610 - val_mse: 53.3610\n",
            "Epoch 11/50\n",
            "27/27 [==============================] - 0s 4ms/step - loss: 144.5236 - mse: 144.5236 - val_loss: 95.9961 - val_mse: 95.9961\n",
            "Epoch 12/50\n",
            "27/27 [==============================] - 0s 4ms/step - loss: 176.3976 - mse: 176.3976 - val_loss: 89.3062 - val_mse: 89.3062\n",
            "Epoch 13/50\n",
            "27/27 [==============================] - 0s 4ms/step - loss: 128.4524 - mse: 128.4524 - val_loss: 174.8275 - val_mse: 174.8275\n",
            "Epoch 14/50\n",
            "27/27 [==============================] - 0s 4ms/step - loss: 193.7267 - mse: 193.7267 - val_loss: 156.7634 - val_mse: 156.7634\n",
            "Epoch 15/50\n",
            "27/27 [==============================] - 0s 4ms/step - loss: 111.7145 - mse: 111.7145 - val_loss: 84.5161 - val_mse: 84.5161\n",
            "Epoch 16/50\n",
            "27/27 [==============================] - 0s 4ms/step - loss: 81.2909 - mse: 81.2909 - val_loss: 159.5730 - val_mse: 159.5730\n",
            "Epoch 17/50\n",
            "27/27 [==============================] - 0s 4ms/step - loss: 116.2060 - mse: 116.2060 - val_loss: 60.8187 - val_mse: 60.8187\n",
            "Epoch 18/50\n",
            "27/27 [==============================] - 0s 4ms/step - loss: 91.1083 - mse: 91.1083 - val_loss: 60.7917 - val_mse: 60.7917\n",
            "Epoch 19/50\n",
            "27/27 [==============================] - 0s 4ms/step - loss: 77.1772 - mse: 77.1772 - val_loss: 62.0210 - val_mse: 62.0210\n",
            "Epoch 20/50\n",
            "27/27 [==============================] - 0s 3ms/step - loss: 66.5539 - mse: 66.5539 - val_loss: 134.2244 - val_mse: 134.2244\n",
            "14/14 [==============================] - 0s 2ms/step\n",
            "Epoch 1/50\n"
          ]
        },
        {
          "output_type": "stream",
          "name": "stderr",
          "text": [
            "/usr/local/lib/python3.10/dist-packages/sklearn/model_selection/_search.py:952: UserWarning: One or more of the test scores are non-finite: [           nan  -102.27504817            nan -3792.48761451\n",
            "  -374.33578088]\n",
            "  warnings.warn(\n",
            "/usr/local/lib/python3.10/dist-packages/keras/optimizers/legacy/gradient_descent.py:114: UserWarning: The `lr` argument is deprecated, use `learning_rate` instead.\n",
            "  super().__init__(name, **kwargs)\n"
          ]
        },
        {
          "output_type": "stream",
          "name": "stdout",
          "text": [
            "40/40 [==============================] - 1s 7ms/step - loss: 6864.0732 - mse: 6864.0732 - val_loss: 6763.3647 - val_mse: 6763.3647\n",
            "Epoch 2/50\n",
            "40/40 [==============================] - 0s 3ms/step - loss: 6685.3662 - mse: 6685.3662 - val_loss: 6525.1279 - val_mse: 6525.1279\n",
            "Epoch 3/50\n",
            "40/40 [==============================] - 0s 3ms/step - loss: 6440.2329 - mse: 6440.2329 - val_loss: 6273.2148 - val_mse: 6273.2148\n",
            "Epoch 4/50\n",
            "40/40 [==============================] - 0s 3ms/step - loss: 6066.2642 - mse: 6066.2642 - val_loss: 5813.6772 - val_mse: 5813.6772\n",
            "Epoch 5/50\n",
            "40/40 [==============================] - 0s 4ms/step - loss: 5479.2422 - mse: 5479.2422 - val_loss: 5300.0024 - val_mse: 5300.0024\n",
            "Epoch 6/50\n",
            "40/40 [==============================] - 0s 4ms/step - loss: 4609.7505 - mse: 4609.7505 - val_loss: 4053.5332 - val_mse: 4053.5332\n",
            "Epoch 7/50\n",
            "40/40 [==============================] - 0s 3ms/step - loss: 3467.9153 - mse: 3467.9153 - val_loss: 2893.6240 - val_mse: 2893.6240\n",
            "Epoch 8/50\n",
            "40/40 [==============================] - 0s 3ms/step - loss: 2237.3987 - mse: 2237.3987 - val_loss: 18319.5039 - val_mse: 18319.5039\n",
            "Epoch 9/50\n",
            "40/40 [==============================] - 0s 3ms/step - loss: 1206.0641 - mse: 1206.0641 - val_loss: 797.5638 - val_mse: 797.5638\n",
            "Epoch 10/50\n",
            "40/40 [==============================] - 0s 5ms/step - loss: 554.0469 - mse: 554.0469 - val_loss: 356.3234 - val_mse: 356.3234\n",
            "Epoch 11/50\n",
            "40/40 [==============================] - 0s 5ms/step - loss: 236.1486 - mse: 236.1486 - val_loss: 188.1619 - val_mse: 188.1619\n",
            "Epoch 12/50\n",
            "40/40 [==============================] - 0s 6ms/step - loss: 110.8705 - mse: 110.8705 - val_loss: 93.1888 - val_mse: 93.1888\n",
            "Epoch 13/50\n",
            "40/40 [==============================] - 0s 4ms/step - loss: 68.8108 - mse: 68.8108 - val_loss: 64.1388 - val_mse: 64.1388\n",
            "Epoch 14/50\n",
            "40/40 [==============================] - 0s 6ms/step - loss: 55.7534 - mse: 55.7534 - val_loss: 59.4249 - val_mse: 59.4249\n",
            "Epoch 15/50\n",
            "40/40 [==============================] - 0s 4ms/step - loss: 52.7510 - mse: 52.7510 - val_loss: 56.3890 - val_mse: 56.3890\n",
            "Epoch 16/50\n",
            "40/40 [==============================] - 0s 4ms/step - loss: 50.2838 - mse: 50.2838 - val_loss: 66.1935 - val_mse: 66.1935\n",
            "Epoch 17/50\n",
            "40/40 [==============================] - 0s 5ms/step - loss: 52.0418 - mse: 52.0418 - val_loss: 60.0227 - val_mse: 60.0227\n",
            "Epoch 18/50\n",
            "40/40 [==============================] - 0s 5ms/step - loss: 50.1606 - mse: 50.1606 - val_loss: 58.5026 - val_mse: 58.5026\n",
            "Epoch 19/50\n",
            "40/40 [==============================] - 0s 4ms/step - loss: 49.5089 - mse: 49.5089 - val_loss: 56.0033 - val_mse: 56.0033\n",
            "Epoch 20/50\n",
            "40/40 [==============================] - 0s 4ms/step - loss: 50.3618 - mse: 50.3618 - val_loss: 54.2910 - val_mse: 54.2910\n",
            "Epoch 21/50\n",
            "40/40 [==============================] - 0s 5ms/step - loss: 49.4265 - mse: 49.4265 - val_loss: 56.2127 - val_mse: 56.2127\n",
            "Epoch 22/50\n",
            "40/40 [==============================] - 0s 4ms/step - loss: 49.4907 - mse: 49.4907 - val_loss: 52.5978 - val_mse: 52.5978\n",
            "Epoch 23/50\n",
            "40/40 [==============================] - 0s 6ms/step - loss: 48.9735 - mse: 48.9735 - val_loss: 55.4560 - val_mse: 55.4560\n",
            "Epoch 24/50\n",
            "40/40 [==============================] - 0s 3ms/step - loss: 49.8059 - mse: 49.8059 - val_loss: 59.0363 - val_mse: 59.0363\n",
            "Epoch 25/50\n",
            "40/40 [==============================] - 0s 3ms/step - loss: 49.9515 - mse: 49.9515 - val_loss: 58.2465 - val_mse: 58.2465\n",
            "Epoch 26/50\n",
            "40/40 [==============================] - 0s 3ms/step - loss: 49.3544 - mse: 49.3544 - val_loss: 62.3726 - val_mse: 62.3726\n",
            "Epoch 27/50\n",
            "40/40 [==============================] - 0s 3ms/step - loss: 49.3712 - mse: 49.3712 - val_loss: 57.9054 - val_mse: 57.9054\n",
            "Epoch 28/50\n",
            "40/40 [==============================] - 0s 3ms/step - loss: 49.6996 - mse: 49.6996 - val_loss: 64.9554 - val_mse: 64.9554\n",
            "Epoch 29/50\n",
            "40/40 [==============================] - 0s 3ms/step - loss: 49.8342 - mse: 49.8342 - val_loss: 54.8493 - val_mse: 54.8493\n",
            "Epoch 30/50\n",
            "40/40 [==============================] - 0s 3ms/step - loss: 49.3921 - mse: 49.3921 - val_loss: 57.8494 - val_mse: 57.8494\n",
            "Epoch 31/50\n",
            "40/40 [==============================] - 0s 3ms/step - loss: 49.2692 - mse: 49.2692 - val_loss: 55.9701 - val_mse: 55.9701\n",
            "Epoch 32/50\n",
            "40/40 [==============================] - 0s 3ms/step - loss: 48.8136 - mse: 48.8136 - val_loss: 61.1124 - val_mse: 61.1124\n",
            "================================\n",
            "-- Best Model Summary --\n",
            "Model: \"sequential_74\"\n",
            "_________________________________________________________________\n",
            " Layer (type)                Output Shape              Param #   \n",
            "=================================================================\n",
            " dense_165 (Dense)           (None, 363)               7260      \n",
            "                                                                 \n",
            " batch_normalization_70 (Bat  (None, 363)              1452      \n",
            " chNormalization)                                                \n",
            "                                                                 \n",
            " dense_166 (Dense)           (None, 1)                 364       \n",
            "                                                                 \n",
            "=================================================================\n",
            "Total params: 9,076\n",
            "Trainable params: 8,350\n",
            "Non-trainable params: 726\n",
            "_________________________________________________________________\n",
            "-- Best params --\n",
            "{'p_learning_rate': 4.921603361463973e-05, 'p_n_hidden': 1, 'p_n_neurons': 363}\n",
            "-- Best score --\n",
            "-102.2750481703024\n"
          ]
        }
      ]
    },
    {
      "cell_type": "code",
      "source": [
        "def plot_graph_3(histories):\n",
        "    # Iterate over each history and plot metrics\n",
        "    for history in histories:\n",
        "        plt.figure(figsize=(10, 6))\n",
        "\n",
        "        # Plot loss\n",
        "        plt.subplot(1, 2, 1)\n",
        "        plt.plot(history['loss'])\n",
        "        plt.plot(history['val_loss'])\n",
        "        plt.legend(['train loss', 'test loss'], loc='upper right')\n",
        "        plt.title('Loss')\n",
        "        plt.ylabel('Loss')\n",
        "        plt.xlabel('Epoch')\n",
        "\n",
        "        # Plot accuracy (if available)\n",
        "        if 'mae' in history:\n",
        "            plt.subplot(1, 2, 2)\n",
        "            plt.plot(history['mae'])\n",
        "            plt.plot(history['val_mae'])\n",
        "            plt.legend(['train mae', 'test mae'], loc='upper right')\n",
        "            plt.title('MAE')\n",
        "            plt.ylabel('MAE')\n",
        "            plt.xlabel('Epoch')\n",
        "\n",
        "\n",
        "        if 'accuracy' in history:\n",
        "            plt.subplot(1, 2, 2)\n",
        "            plt.plot(history['accuracy'])\n",
        "            plt.plot(history['val_accuracy'])\n",
        "            plt.legend(['train accuracy', 'test accuracy'], loc='upper right')\n",
        "            plt.title('Accuracy')\n",
        "            plt.ylabel('Accuracy')\n",
        "            plt.xlabel('Epoch')\n",
        "\n",
        "        plt.tight_layout()\n",
        "        plt.show()\n",
        "\n",
        "\n"
      ],
      "metadata": {
        "id": "4qOqBpT3ICbb"
      },
      "execution_count": null,
      "outputs": []
    },
    {
      "cell_type": "code",
      "source": [
        "# Train the best model with all available data\n",
        "best_model.fit(X_train, y_train, epochs=30, validation_data=(X_valid, y_valid), callbacks=[checkpoint_cb, early_stopping_cb])\n",
        "\n",
        "# Get the history of the best model\n",
        "best_model_history = best_model.history.history\n",
        "\n",
        "# Plot the metrics of the best model\n",
        "plot_graph_3([best_model_history])"
      ],
      "metadata": {
        "colab": {
          "base_uri": "https://localhost:8080/",
          "height": 889
        },
        "id": "8VIuuJ7bOFgr",
        "outputId": "5e29d88c-3b06-45ca-9a4b-1255b84d7047"
      },
      "execution_count": null,
      "outputs": [
        {
          "output_type": "stream",
          "name": "stdout",
          "text": [
            "Epoch 1/30\n",
            "40/40 [==============================] - 0s 4ms/step - loss: nan - mae: nan - accuracy: 0.0000e+00 - val_loss: nan - val_mae: nan - val_accuracy: 0.0000e+00\n",
            "Epoch 2/30\n",
            "40/40 [==============================] - 0s 3ms/step - loss: nan - mae: nan - accuracy: 0.0000e+00 - val_loss: nan - val_mae: nan - val_accuracy: 0.0000e+00\n",
            "Epoch 3/30\n",
            "40/40 [==============================] - 0s 3ms/step - loss: nan - mae: nan - accuracy: 0.0000e+00 - val_loss: nan - val_mae: nan - val_accuracy: 0.0000e+00\n",
            "Epoch 4/30\n",
            "40/40 [==============================] - 0s 3ms/step - loss: nan - mae: nan - accuracy: 0.0000e+00 - val_loss: nan - val_mae: nan - val_accuracy: 0.0000e+00\n",
            "Epoch 5/30\n",
            "40/40 [==============================] - 0s 3ms/step - loss: nan - mae: nan - accuracy: 0.0000e+00 - val_loss: nan - val_mae: nan - val_accuracy: 0.0000e+00\n",
            "Epoch 6/30\n",
            "40/40 [==============================] - 0s 3ms/step - loss: nan - mae: nan - accuracy: 0.0000e+00 - val_loss: nan - val_mae: nan - val_accuracy: 0.0000e+00\n",
            "Epoch 7/30\n",
            "40/40 [==============================] - 0s 3ms/step - loss: nan - mae: nan - accuracy: 0.0000e+00 - val_loss: nan - val_mae: nan - val_accuracy: 0.0000e+00\n",
            "Epoch 8/30\n",
            "40/40 [==============================] - 0s 4ms/step - loss: nan - mae: nan - accuracy: 0.0000e+00 - val_loss: nan - val_mae: nan - val_accuracy: 0.0000e+00\n",
            "Epoch 9/30\n",
            "40/40 [==============================] - 0s 4ms/step - loss: nan - mae: nan - accuracy: 0.0000e+00 - val_loss: nan - val_mae: nan - val_accuracy: 0.0000e+00\n",
            "Epoch 10/30\n",
            "40/40 [==============================] - 0s 6ms/step - loss: nan - mae: nan - accuracy: 0.0000e+00 - val_loss: nan - val_mae: nan - val_accuracy: 0.0000e+00\n"
          ]
        },
        {
          "output_type": "display_data",
          "data": {
            "text/plain": [
              "<Figure size 1000x600 with 2 Axes>"
            ],
            "image/png": "[encoded data removed]"
          },
          "metadata": {}
        }
      ]
    },
    {
      "cell_type": "code",
      "source": [
        "type(best_model_history)\n",
        "for key in (best_model_history):\n",
        "  print('[key]: ', key)\n",
        "\n"
      ],
      "metadata": {
        "colab": {
          "base_uri": "https://localhost:8080/"
        },
        "id": "titrxPmHEZlV",
        "outputId": "94864260-f306-4cd2-80d0-bea1492d9e50"
      },
      "execution_count": null,
      "outputs": [
        {
          "output_type": "stream",
          "name": "stdout",
          "text": [
            "[key]:  loss\n",
            "[key]:  val_loss\n"
          ]
        }
      ]
    }
  ]
}