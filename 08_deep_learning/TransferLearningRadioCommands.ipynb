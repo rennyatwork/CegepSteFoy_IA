{
  "nbformat": 4,
  "nbformat_minor": 0,
  "metadata": {
    "colab": {
      "provenance": [],
      "gpuType": "T4",
      "include_colab_link": true
    },
    "kernelspec": {
      "name": "python3",
      "display_name": "Python 3"
    },
    "language_info": {
      "name": "python"
    },
    "accelerator": "GPU"
  },
  "cells": [
    {
      "cell_type": "markdown",
      "metadata": {
        "id": "view-in-github",
        "colab_type": "text"
      },
      "source": [
        "<a href=\"https://colab.research.google.com/github/rennyatwork/CegepSteFoy_IA/blob/main/08_deep_learning/TransferLearningRadioCommands.ipynb\" target=\"_parent\"><img src=\"https://colab.research.google.com/assets/colab-badge.svg\" alt=\"Open In Colab\"/></a>"
      ]
    },
    {
      "cell_type": "markdown",
      "source": [
        "Nous allons utiliser le transfer learning pour entrainer le classificateur de bouttons de radio (à partir du jeu de données RadioCommandsData.csv) en ré-utilisant le modèle pré-entrainé VGG-16, et ainsi démontrer que le transfer learning peut parfois avoir des capacité limité avec des formes, dessins, oeuvres d'art, etc. (qui ne sont pas des images standards)."
      ],
      "metadata": {
        "id": "idod8LhQHIr4"
      }
    },
    {
      "cell_type": "markdown",
      "source": [
        "1. Importation des packages utiles"
      ],
      "metadata": {
        "id": "sJE--cFMHiYr"
      }
    },
    {
      "cell_type": "code",
      "source": [
        "import numpy as np\n",
        "from numpy import asarray\n",
        "from numpy import unique\n",
        "from numpy import argmax\n",
        "from numpy import sqrt\n",
        "from pandas import read_csv\n",
        "from sklearn.model_selection import train_test_split\n",
        "from sklearn.preprocessing import LabelEncoder\n",
        "from sklearn.metrics import confusion_matrix\n",
        "import tensorflow as tf\n",
        "import tensorflow_datasets as tfds"
      ],
      "metadata": {
        "id": "82jGhaYsHnI_"
      },
      "execution_count": 1,
      "outputs": []
    },
    {
      "cell_type": "markdown",
      "source": [
        "2. Importation des données"
      ],
      "metadata": {
        "id": "ejCFkTqaHviD"
      }
    },
    {
      "cell_type": "code",
      "execution_count": 2,
      "metadata": {
        "colab": {
          "base_uri": "https://localhost:8080/",
          "height": 410
        },
        "id": "N-JOH3WLHHEt",
        "outputId": "c9f421ee-21c5-4646-ca66-6bd358f861bb"
      },
      "outputs": [
        {
          "output_type": "stream",
          "name": "stdout",
          "text": [
            "330\n"
          ]
        },
        {
          "output_type": "execute_result",
          "data": {
            "text/plain": [
              "   ID  Label   CenterX   CenterY    Height     Width  X1  X2  X3  X4  ...  \\\n",
              "0   1      0  0.142857  0.214286  0.428571  0.285714   1   0   1   0  ...   \n",
              "1   2      0  0.285714  0.214286  0.428571  0.285714   0   1   0   1  ...   \n",
              "2   3      0  0.428571  0.214286  0.428571  0.285714   0   0   1   0  ...   \n",
              "3   4      0  0.571429  0.214286  0.428571  0.285714   0   0   0   1  ...   \n",
              "4   5      0  0.714286  0.214286  0.428571  0.285714   0   0   0   0  ...   \n",
              "5   6      0  0.857143  0.214286  0.428571  0.285714   0   0   0   0  ...   \n",
              "6   7      0  0.142857  0.357143  0.428571  0.285714   0   0   0   0  ...   \n",
              "7   8      0  0.285714  0.357143  0.428571  0.285714   0   0   0   0  ...   \n",
              "8   9      0  0.428571  0.357143  0.428571  0.285714   0   0   0   0  ...   \n",
              "9  10      0  0.571429  0.357143  0.428571  0.285714   0   0   0   0  ...   \n",
              "\n",
              "   X55  X56  X57  X58  X59  X60  X61  X62  X63  X64  \n",
              "0    0    0    0    0    0    0    0    0    0    0  \n",
              "1    0    0    0    0    0    0    0    0    0    0  \n",
              "2    0    0    0    0    0    0    0    0    0    0  \n",
              "3    0    0    0    0    0    0    0    0    0    0  \n",
              "4    0    0    0    0    0    0    0    0    0    0  \n",
              "5    0    0    0    0    0    0    0    0    0    0  \n",
              "6    0    0    0    0    0    0    0    0    0    0  \n",
              "7    0    0    0    0    0    0    0    0    0    0  \n",
              "8    0    0    0    0    0    0    0    0    0    0  \n",
              "9    0    0    0    0    0    0    0    0    0    0  \n",
              "\n",
              "[10 rows x 70 columns]"
            ],
            "text/html": [
              "\n",
              "  <div id=\"df-62930933-adcb-49d8-b5d1-5cc5bfa0d07e\" class=\"colab-df-container\">\n",
              "    <div>\n",
              "<style scoped>\n",
              "    .dataframe tbody tr th:only-of-type {\n",
              "        vertical-align: middle;\n",
              "    }\n",
              "\n",
              "    .dataframe tbody tr th {\n",
              "        vertical-align: top;\n",
              "    }\n",
              "\n",
              "    .dataframe thead th {\n",
              "        text-align: right;\n",
              "    }\n",
              "</style>\n",
              "<table border=\"1\" class=\"dataframe\">\n",
              "  <thead>\n",
              "    <tr style=\"text-align: right;\">\n",
              "      <th></th>\n",
              "      <th>ID</th>\n",
              "      <th>Label</th>\n",
              "      <th>CenterX</th>\n",
              "      <th>CenterY</th>\n",
              "      <th>Height</th>\n",
              "      <th>Width</th>\n",
              "      <th>X1</th>\n",
              "      <th>X2</th>\n",
              "      <th>X3</th>\n",
              "      <th>X4</th>\n",
              "      <th>...</th>\n",
              "      <th>X55</th>\n",
              "      <th>X56</th>\n",
              "      <th>X57</th>\n",
              "      <th>X58</th>\n",
              "      <th>X59</th>\n",
              "      <th>X60</th>\n",
              "      <th>X61</th>\n",
              "      <th>X62</th>\n",
              "      <th>X63</th>\n",
              "      <th>X64</th>\n",
              "    </tr>\n",
              "  </thead>\n",
              "  <tbody>\n",
              "    <tr>\n",
              "      <th>0</th>\n",
              "      <td>1</td>\n",
              "      <td>0</td>\n",
              "      <td>0.142857</td>\n",
              "      <td>0.214286</td>\n",
              "      <td>0.428571</td>\n",
              "      <td>0.285714</td>\n",
              "      <td>1</td>\n",
              "      <td>0</td>\n",
              "      <td>1</td>\n",
              "      <td>0</td>\n",
              "      <td>...</td>\n",
              "      <td>0</td>\n",
              "      <td>0</td>\n",
              "      <td>0</td>\n",
              "      <td>0</td>\n",
              "      <td>0</td>\n",
              "      <td>0</td>\n",
              "      <td>0</td>\n",
              "      <td>0</td>\n",
              "      <td>0</td>\n",
              "      <td>0</td>\n",
              "    </tr>\n",
              "    <tr>\n",
              "      <th>1</th>\n",
              "      <td>2</td>\n",
              "      <td>0</td>\n",
              "      <td>0.285714</td>\n",
              "      <td>0.214286</td>\n",
              "      <td>0.428571</td>\n",
              "      <td>0.285714</td>\n",
              "      <td>0</td>\n",
              "      <td>1</td>\n",
              "      <td>0</td>\n",
              "      <td>1</td>\n",
              "      <td>...</td>\n",
              "      <td>0</td>\n",
              "      <td>0</td>\n",
              "      <td>0</td>\n",
              "      <td>0</td>\n",
              "      <td>0</td>\n",
              "      <td>0</td>\n",
              "      <td>0</td>\n",
              "      <td>0</td>\n",
              "      <td>0</td>\n",
              "      <td>0</td>\n",
              "    </tr>\n",
              "    <tr>\n",
              "      <th>2</th>\n",
              "      <td>3</td>\n",
              "      <td>0</td>\n",
              "      <td>0.428571</td>\n",
              "      <td>0.214286</td>\n",
              "      <td>0.428571</td>\n",
              "      <td>0.285714</td>\n",
              "      <td>0</td>\n",
              "      <td>0</td>\n",
              "      <td>1</td>\n",
              "      <td>0</td>\n",
              "      <td>...</td>\n",
              "      <td>0</td>\n",
              "      <td>0</td>\n",
              "      <td>0</td>\n",
              "      <td>0</td>\n",
              "      <td>0</td>\n",
              "      <td>0</td>\n",
              "      <td>0</td>\n",
              "      <td>0</td>\n",
              "      <td>0</td>\n",
              "      <td>0</td>\n",
              "    </tr>\n",
              "    <tr>\n",
              "      <th>3</th>\n",
              "      <td>4</td>\n",
              "      <td>0</td>\n",
              "      <td>0.571429</td>\n",
              "      <td>0.214286</td>\n",
              "      <td>0.428571</td>\n",
              "      <td>0.285714</td>\n",
              "      <td>0</td>\n",
              "      <td>0</td>\n",
              "      <td>0</td>\n",
              "      <td>1</td>\n",
              "      <td>...</td>\n",
              "      <td>0</td>\n",
              "      <td>0</td>\n",
              "      <td>0</td>\n",
              "      <td>0</td>\n",
              "      <td>0</td>\n",
              "      <td>0</td>\n",
              "      <td>0</td>\n",
              "      <td>0</td>\n",
              "      <td>0</td>\n",
              "      <td>0</td>\n",
              "    </tr>\n",
              "    <tr>\n",
              "      <th>4</th>\n",
              "      <td>5</td>\n",
              "      <td>0</td>\n",
              "      <td>0.714286</td>\n",
              "      <td>0.214286</td>\n",
              "      <td>0.428571</td>\n",
              "      <td>0.285714</td>\n",
              "      <td>0</td>\n",
              "      <td>0</td>\n",
              "      <td>0</td>\n",
              "      <td>0</td>\n",
              "      <td>...</td>\n",
              "      <td>0</td>\n",
              "      <td>0</td>\n",
              "      <td>0</td>\n",
              "      <td>0</td>\n",
              "      <td>0</td>\n",
              "      <td>0</td>\n",
              "      <td>0</td>\n",
              "      <td>0</td>\n",
              "      <td>0</td>\n",
              "      <td>0</td>\n",
              "    </tr>\n",
              "    <tr>\n",
              "      <th>5</th>\n",
              "      <td>6</td>\n",
              "      <td>0</td>\n",
              "      <td>0.857143</td>\n",
              "      <td>0.214286</td>\n",
              "      <td>0.428571</td>\n",
              "      <td>0.285714</td>\n",
              "      <td>0</td>\n",
              "      <td>0</td>\n",
              "      <td>0</td>\n",
              "      <td>0</td>\n",
              "      <td>...</td>\n",
              "      <td>0</td>\n",
              "      <td>0</td>\n",
              "      <td>0</td>\n",
              "      <td>0</td>\n",
              "      <td>0</td>\n",
              "      <td>0</td>\n",
              "      <td>0</td>\n",
              "      <td>0</td>\n",
              "      <td>0</td>\n",
              "      <td>0</td>\n",
              "    </tr>\n",
              "    <tr>\n",
              "      <th>6</th>\n",
              "      <td>7</td>\n",
              "      <td>0</td>\n",
              "      <td>0.142857</td>\n",
              "      <td>0.357143</td>\n",
              "      <td>0.428571</td>\n",
              "      <td>0.285714</td>\n",
              "      <td>0</td>\n",
              "      <td>0</td>\n",
              "      <td>0</td>\n",
              "      <td>0</td>\n",
              "      <td>...</td>\n",
              "      <td>0</td>\n",
              "      <td>0</td>\n",
              "      <td>0</td>\n",
              "      <td>0</td>\n",
              "      <td>0</td>\n",
              "      <td>0</td>\n",
              "      <td>0</td>\n",
              "      <td>0</td>\n",
              "      <td>0</td>\n",
              "      <td>0</td>\n",
              "    </tr>\n",
              "    <tr>\n",
              "      <th>7</th>\n",
              "      <td>8</td>\n",
              "      <td>0</td>\n",
              "      <td>0.285714</td>\n",
              "      <td>0.357143</td>\n",
              "      <td>0.428571</td>\n",
              "      <td>0.285714</td>\n",
              "      <td>0</td>\n",
              "      <td>0</td>\n",
              "      <td>0</td>\n",
              "      <td>0</td>\n",
              "      <td>...</td>\n",
              "      <td>0</td>\n",
              "      <td>0</td>\n",
              "      <td>0</td>\n",
              "      <td>0</td>\n",
              "      <td>0</td>\n",
              "      <td>0</td>\n",
              "      <td>0</td>\n",
              "      <td>0</td>\n",
              "      <td>0</td>\n",
              "      <td>0</td>\n",
              "    </tr>\n",
              "    <tr>\n",
              "      <th>8</th>\n",
              "      <td>9</td>\n",
              "      <td>0</td>\n",
              "      <td>0.428571</td>\n",
              "      <td>0.357143</td>\n",
              "      <td>0.428571</td>\n",
              "      <td>0.285714</td>\n",
              "      <td>0</td>\n",
              "      <td>0</td>\n",
              "      <td>0</td>\n",
              "      <td>0</td>\n",
              "      <td>...</td>\n",
              "      <td>0</td>\n",
              "      <td>0</td>\n",
              "      <td>0</td>\n",
              "      <td>0</td>\n",
              "      <td>0</td>\n",
              "      <td>0</td>\n",
              "      <td>0</td>\n",
              "      <td>0</td>\n",
              "      <td>0</td>\n",
              "      <td>0</td>\n",
              "    </tr>\n",
              "    <tr>\n",
              "      <th>9</th>\n",
              "      <td>10</td>\n",
              "      <td>0</td>\n",
              "      <td>0.571429</td>\n",
              "      <td>0.357143</td>\n",
              "      <td>0.428571</td>\n",
              "      <td>0.285714</td>\n",
              "      <td>0</td>\n",
              "      <td>0</td>\n",
              "      <td>0</td>\n",
              "      <td>0</td>\n",
              "      <td>...</td>\n",
              "      <td>0</td>\n",
              "      <td>0</td>\n",
              "      <td>0</td>\n",
              "      <td>0</td>\n",
              "      <td>0</td>\n",
              "      <td>0</td>\n",
              "      <td>0</td>\n",
              "      <td>0</td>\n",
              "      <td>0</td>\n",
              "      <td>0</td>\n",
              "    </tr>\n",
              "  </tbody>\n",
              "</table>\n",
              "<p>10 rows × 70 columns</p>\n",
              "</div>\n",
              "    <div class=\"colab-df-buttons\">\n",
              "\n",
              "  <div class=\"colab-df-container\">\n",
              "    <button class=\"colab-df-convert\" onclick=\"convertToInteractive('df-62930933-adcb-49d8-b5d1-5cc5bfa0d07e')\"\n",
              "            title=\"Convert this dataframe to an interactive table.\"\n",
              "            style=\"display:none;\">\n",
              "\n",
              "  <svg xmlns=\"http://www.w3.org/2000/svg\" height=\"24px\" viewBox=\"0 -960 960 960\">\n",
              "    <path d=\"M120-120v-720h720v720H120Zm60-500h600v-160H180v160Zm220 220h160v-160H400v160Zm0 220h160v-160H400v160ZM180-400h160v-160H180v160Zm440 0h160v-160H620v160ZM180-180h160v-160H180v160Zm440 0h160v-160H620v160Z\"/>\n",
              "  </svg>\n",
              "    </button>\n",
              "\n",
              "  <style>\n",
              "    .colab-df-container {\n",
              "      display:flex;\n",
              "      gap: 12px;\n",
              "    }\n",
              "\n",
              "    .colab-df-convert {\n",
              "      background-color: #E8F0FE;\n",
              "      border: none;\n",
              "      border-radius: 50%;\n",
              "      cursor: pointer;\n",
              "      display: none;\n",
              "      fill: #1967D2;\n",
              "      height: 32px;\n",
              "      padding: 0 0 0 0;\n",
              "      width: 32px;\n",
              "    }\n",
              "\n",
              "    .colab-df-convert:hover {\n",
              "      background-color: #E2EBFA;\n",
              "      box-shadow: 0px 1px 2px rgba(60, 64, 67, 0.3), 0px 1px 3px 1px rgba(60, 64, 67, 0.15);\n",
              "      fill: #174EA6;\n",
              "    }\n",
              "\n",
              "    .colab-df-buttons div {\n",
              "      margin-bottom: 4px;\n",
              "    }\n",
              "\n",
              "    [theme=dark] .colab-df-convert {\n",
              "      background-color: #3B4455;\n",
              "      fill: #D2E3FC;\n",
              "    }\n",
              "\n",
              "    [theme=dark] .colab-df-convert:hover {\n",
              "      background-color: #434B5C;\n",
              "      box-shadow: 0px 1px 3px 1px rgba(0, 0, 0, 0.15);\n",
              "      filter: drop-shadow(0px 1px 2px rgba(0, 0, 0, 0.3));\n",
              "      fill: #FFFFFF;\n",
              "    }\n",
              "  </style>\n",
              "\n",
              "    <script>\n",
              "      const buttonEl =\n",
              "        document.querySelector('#df-62930933-adcb-49d8-b5d1-5cc5bfa0d07e button.colab-df-convert');\n",
              "      buttonEl.style.display =\n",
              "        google.colab.kernel.accessAllowed ? 'block' : 'none';\n",
              "\n",
              "      async function convertToInteractive(key) {\n",
              "        const element = document.querySelector('#df-62930933-adcb-49d8-b5d1-5cc5bfa0d07e');\n",
              "        const dataTable =\n",
              "          await google.colab.kernel.invokeFunction('convertToInteractive',\n",
              "                                                    [key], {});\n",
              "        if (!dataTable) return;\n",
              "\n",
              "        const docLinkHtml = 'Like what you see? Visit the ' +\n",
              "          '<a target=\"_blank\" href=https://colab.research.google.com/notebooks/data_table.ipynb>data table notebook</a>'\n",
              "          + ' to learn more about interactive tables.';\n",
              "        element.innerHTML = '';\n",
              "        dataTable['output_type'] = 'display_data';\n",
              "        await google.colab.output.renderOutput(dataTable, element);\n",
              "        const docLink = document.createElement('div');\n",
              "        docLink.innerHTML = docLinkHtml;\n",
              "        element.appendChild(docLink);\n",
              "      }\n",
              "    </script>\n",
              "  </div>\n",
              "\n",
              "\n",
              "<div id=\"df-f0920ee8-5886-4d00-90bb-94606b71ef4a\">\n",
              "  <button class=\"colab-df-quickchart\" onclick=\"quickchart('df-f0920ee8-5886-4d00-90bb-94606b71ef4a')\"\n",
              "            title=\"Suggest charts.\"\n",
              "            style=\"display:none;\">\n",
              "\n",
              "<svg xmlns=\"http://www.w3.org/2000/svg\" height=\"24px\"viewBox=\"0 0 24 24\"\n",
              "     width=\"24px\">\n",
              "    <g>\n",
              "        <path d=\"M19 3H5c-1.1 0-2 .9-2 2v14c0 1.1.9 2 2 2h14c1.1 0 2-.9 2-2V5c0-1.1-.9-2-2-2zM9 17H7v-7h2v7zm4 0h-2V7h2v10zm4 0h-2v-4h2v4z\"/>\n",
              "    </g>\n",
              "</svg>\n",
              "  </button>\n",
              "\n",
              "<style>\n",
              "  .colab-df-quickchart {\n",
              "      --bg-color: #E8F0FE;\n",
              "      --fill-color: #1967D2;\n",
              "      --hover-bg-color: #E2EBFA;\n",
              "      --hover-fill-color: #174EA6;\n",
              "      --disabled-fill-color: #AAA;\n",
              "      --disabled-bg-color: #DDD;\n",
              "  }\n",
              "\n",
              "  [theme=dark] .colab-df-quickchart {\n",
              "      --bg-color: #3B4455;\n",
              "      --fill-color: #D2E3FC;\n",
              "      --hover-bg-color: #434B5C;\n",
              "      --hover-fill-color: #FFFFFF;\n",
              "      --disabled-bg-color: #3B4455;\n",
              "      --disabled-fill-color: #666;\n",
              "  }\n",
              "\n",
              "  .colab-df-quickchart {\n",
              "    background-color: var(--bg-color);\n",
              "    border: none;\n",
              "    border-radius: 50%;\n",
              "    cursor: pointer;\n",
              "    display: none;\n",
              "    fill: var(--fill-color);\n",
              "    height: 32px;\n",
              "    padding: 0;\n",
              "    width: 32px;\n",
              "  }\n",
              "\n",
              "  .colab-df-quickchart:hover {\n",
              "    background-color: var(--hover-bg-color);\n",
              "    box-shadow: 0 1px 2px rgba(60, 64, 67, 0.3), 0 1px 3px 1px rgba(60, 64, 67, 0.15);\n",
              "    fill: var(--button-hover-fill-color);\n",
              "  }\n",
              "\n",
              "  .colab-df-quickchart-complete:disabled,\n",
              "  .colab-df-quickchart-complete:disabled:hover {\n",
              "    background-color: var(--disabled-bg-color);\n",
              "    fill: var(--disabled-fill-color);\n",
              "    box-shadow: none;\n",
              "  }\n",
              "\n",
              "  .colab-df-spinner {\n",
              "    border: 2px solid var(--fill-color);\n",
              "    border-color: transparent;\n",
              "    border-bottom-color: var(--fill-color);\n",
              "    animation:\n",
              "      spin 1s steps(1) infinite;\n",
              "  }\n",
              "\n",
              "  @keyframes spin {\n",
              "    0% {\n",
              "      border-color: transparent;\n",
              "      border-bottom-color: var(--fill-color);\n",
              "      border-left-color: var(--fill-color);\n",
              "    }\n",
              "    20% {\n",
              "      border-color: transparent;\n",
              "      border-left-color: var(--fill-color);\n",
              "      border-top-color: var(--fill-color);\n",
              "    }\n",
              "    30% {\n",
              "      border-color: transparent;\n",
              "      border-left-color: var(--fill-color);\n",
              "      border-top-color: var(--fill-color);\n",
              "      border-right-color: var(--fill-color);\n",
              "    }\n",
              "    40% {\n",
              "      border-color: transparent;\n",
              "      border-right-color: var(--fill-color);\n",
              "      border-top-color: var(--fill-color);\n",
              "    }\n",
              "    60% {\n",
              "      border-color: transparent;\n",
              "      border-right-color: var(--fill-color);\n",
              "    }\n",
              "    80% {\n",
              "      border-color: transparent;\n",
              "      border-right-color: var(--fill-color);\n",
              "      border-bottom-color: var(--fill-color);\n",
              "    }\n",
              "    90% {\n",
              "      border-color: transparent;\n",
              "      border-bottom-color: var(--fill-color);\n",
              "    }\n",
              "  }\n",
              "</style>\n",
              "\n",
              "  <script>\n",
              "    async function quickchart(key) {\n",
              "      const quickchartButtonEl =\n",
              "        document.querySelector('#' + key + ' button');\n",
              "      quickchartButtonEl.disabled = true;  // To prevent multiple clicks.\n",
              "      quickchartButtonEl.classList.add('colab-df-spinner');\n",
              "      try {\n",
              "        const charts = await google.colab.kernel.invokeFunction(\n",
              "            'suggestCharts', [key], {});\n",
              "      } catch (error) {\n",
              "        console.error('Error during call to suggestCharts:', error);\n",
              "      }\n",
              "      quickchartButtonEl.classList.remove('colab-df-spinner');\n",
              "      quickchartButtonEl.classList.add('colab-df-quickchart-complete');\n",
              "    }\n",
              "    (() => {\n",
              "      let quickchartButtonEl =\n",
              "        document.querySelector('#df-f0920ee8-5886-4d00-90bb-94606b71ef4a button');\n",
              "      quickchartButtonEl.style.display =\n",
              "        google.colab.kernel.accessAllowed ? 'block' : 'none';\n",
              "    })();\n",
              "  </script>\n",
              "</div>\n",
              "    </div>\n",
              "  </div>\n"
            ]
          },
          "metadata": {},
          "execution_count": 2
        }
      ],
      "source": [
        "df = read_csv('https://raw.githubusercontent.com/rennyatwork/CegepSteFoy_IA/main/08_deep_learning/data/RadioCommandsData.csv')\n",
        "print(len(df))\n",
        "df.head(10)"
      ]
    },
    {
      "cell_type": "markdown",
      "source": [
        "3. Reformatter les X en images"
      ],
      "metadata": {
        "id": "zlWEOU5fIYRN"
      }
    },
    {
      "cell_type": "code",
      "source": [
        "X_flat = np.array(df)\n",
        "X_flat = X_flat[:,6:]\n",
        "X_flat = X_flat.astype(np.float32)\n",
        "\n",
        "X_complete = np.reshape(X_flat,(330,8,8,1))\n",
        "X_complete[0]"
      ],
      "metadata": {
        "colab": {
          "base_uri": "https://localhost:8080/"
        },
        "id": "aZf-HENyIZW1",
        "outputId": "dfb68533-54de-4611-ffe9-b9071332080d"
      },
      "execution_count": 3,
      "outputs": [
        {
          "output_type": "execute_result",
          "data": {
            "text/plain": [
              "array([[[1.],\n",
              "        [0.],\n",
              "        [1.],\n",
              "        [0.],\n",
              "        [0.],\n",
              "        [0.],\n",
              "        [0.],\n",
              "        [0.]],\n",
              "\n",
              "       [[1.],\n",
              "        [0.],\n",
              "        [1.],\n",
              "        [0.],\n",
              "        [0.],\n",
              "        [0.],\n",
              "        [0.],\n",
              "        [0.]],\n",
              "\n",
              "       [[1.],\n",
              "        [0.],\n",
              "        [1.],\n",
              "        [0.],\n",
              "        [0.],\n",
              "        [0.],\n",
              "        [0.],\n",
              "        [0.]],\n",
              "\n",
              "       [[1.],\n",
              "        [0.],\n",
              "        [1.],\n",
              "        [0.],\n",
              "        [0.],\n",
              "        [0.],\n",
              "        [0.],\n",
              "        [0.]],\n",
              "\n",
              "       [[0.],\n",
              "        [0.],\n",
              "        [0.],\n",
              "        [0.],\n",
              "        [0.],\n",
              "        [0.],\n",
              "        [0.],\n",
              "        [0.]],\n",
              "\n",
              "       [[0.],\n",
              "        [0.],\n",
              "        [0.],\n",
              "        [0.],\n",
              "        [0.],\n",
              "        [0.],\n",
              "        [0.],\n",
              "        [0.]],\n",
              "\n",
              "       [[0.],\n",
              "        [0.],\n",
              "        [0.],\n",
              "        [0.],\n",
              "        [0.],\n",
              "        [0.],\n",
              "        [0.],\n",
              "        [0.]],\n",
              "\n",
              "       [[0.],\n",
              "        [0.],\n",
              "        [0.],\n",
              "        [0.],\n",
              "        [0.],\n",
              "        [0.],\n",
              "        [0.],\n",
              "        [0.]]], dtype=float32)"
            ]
          },
          "metadata": {},
          "execution_count": 3
        }
      ]
    },
    {
      "cell_type": "markdown",
      "source": [
        "4. Dupliquer les entrées 3 fois pour émuler un R (red) / G (green) / Blue (blue)"
      ],
      "metadata": {
        "id": "EdODNheDOtAu"
      }
    },
    {
      "cell_type": "code",
      "source": [
        "X_complete_3d = np.repeat(np.expand_dims(X_complete, axis=3), 3, axis=3)\n",
        "X_complete_3d[0]\n",
        "print(X_complete_3d.shape)"
      ],
      "metadata": {
        "colab": {
          "base_uri": "https://localhost:8080/"
        },
        "id": "XNrTAEWNO2PE",
        "outputId": "2b4dc1a0-6178-44b1-a3ae-c98ebcf31a26"
      },
      "execution_count": 4,
      "outputs": [
        {
          "output_type": "stream",
          "name": "stdout",
          "text": [
            "(330, 8, 8, 3, 1)\n"
          ]
        }
      ]
    },
    {
      "cell_type": "markdown",
      "source": [
        "5. Extraire les variables y (partie catégorique uniquement)"
      ],
      "metadata": {
        "id": "A-hhgp7oIqVw"
      }
    },
    {
      "cell_type": "code",
      "source": [
        "y_complete = np.array(df)[:,1]\n",
        "y_complete[0:3]"
      ],
      "metadata": {
        "colab": {
          "base_uri": "https://localhost:8080/"
        },
        "id": "l8CgI2WAIqDg",
        "outputId": "487cdd81-6315-4e2d-efa3-7f6f2cc0b749"
      },
      "execution_count": 5,
      "outputs": [
        {
          "output_type": "execute_result",
          "data": {
            "text/plain": [
              "array([0., 0., 0.])"
            ]
          },
          "metadata": {},
          "execution_count": 5
        }
      ]
    },
    {
      "cell_type": "markdown",
      "source": [
        "6. Diviser les données en train et test data"
      ],
      "metadata": {
        "id": "ZpC1TjrgIz52"
      }
    },
    {
      "cell_type": "code",
      "source": [
        "X_train_full, X_test, y_train_full, y_test = train_test_split(X_complete_3d, y_complete, test_size=0.33)\n",
        "print(X_train_full.shape, X_test.shape, y_train_full.shape, y_test.shape) #Validation sur les données dans chaque jeu de données résultants"
      ],
      "metadata": {
        "colab": {
          "base_uri": "https://localhost:8080/"
        },
        "id": "mDEVRaAXI095",
        "outputId": "c76cb2a9-654e-4746-d334-593a1a52c8f1"
      },
      "execution_count": 7,
      "outputs": [
        {
          "output_type": "stream",
          "name": "stdout",
          "text": [
            "(221, 8, 8, 3, 1) (109, 8, 8, 3, 1) (221,) (109,)\n"
          ]
        }
      ]
    },
    {
      "cell_type": "markdown",
      "source": [
        "7. Conserver une partie des données en validation"
      ],
      "metadata": {
        "id": "S9_3wR5xJbRd"
      }
    },
    {
      "cell_type": "code",
      "source": [
        "X_train, y_train = X_train_full[:-50], y_train_full[:-50]\n",
        "X_valid, y_valid = X_train_full[-50:], y_train_full[-50:]\n",
        "print(X_train_full.shape, X_test.shape,X_train.shape,X_valid.shape, y_train_full.shape, y_test.shape,y_train.shape,y_valid.shape)"
      ],
      "metadata": {
        "colab": {
          "base_uri": "https://localhost:8080/"
        },
        "id": "OinKmVrDJcYS",
        "outputId": "9c4c5b0a-6d80-492e-f407-16db55802d87"
      },
      "execution_count": 8,
      "outputs": [
        {
          "output_type": "stream",
          "name": "stdout",
          "text": [
            "(221, 8, 8, 3, 1) (109, 8, 8, 3, 1) (171, 8, 8, 3, 1) (50, 8, 8, 3, 1) (221,) (109,) (171,) (50,)\n"
          ]
        }
      ]
    },
    {
      "cell_type": "markdown",
      "source": [
        "8. Modifier la \"shape\" des données pour se conformer aux entrées attendus de Keras et storer la shape des images d'input dans une variable nommée in_shape (pour le première couche d'entrée)"
      ],
      "metadata": {
        "id": "tGOap6ooJ5DF"
      }
    },
    {
      "cell_type": "code",
      "source": [
        "X_train = X_train.reshape((X_train.shape[0], X_train.shape[1], X_train.shape[2], 3))\n",
        "X_test = X_test.reshape((X_test.shape[0], X_test.shape[1], X_test.shape[2], 3))\n",
        "X_valid = X_valid.reshape((X_valid.shape[0], X_valid.shape[1], X_valid.shape[2], 3))\n",
        "\n",
        "in_shape = X_train.shape[1:]\n",
        "print(in_shape)"
      ],
      "metadata": {
        "colab": {
          "base_uri": "https://localhost:8080/"
        },
        "id": "2lzr80w4J71k",
        "outputId": "99ece565-cc3a-4b14-fc56-bb38b6bad4fb"
      },
      "execution_count": 9,
      "outputs": [
        {
          "output_type": "stream",
          "name": "stdout",
          "text": [
            "(8, 8, 3)\n"
          ]
        }
      ]
    },
    {
      "cell_type": "markdown",
      "source": [
        "9. Visualiser quelques images"
      ],
      "metadata": {
        "id": "qZvwQ0N3KI9K"
      }
    },
    {
      "cell_type": "code",
      "source": [
        "from matplotlib import pyplot\n",
        "for i in range(9):\n",
        "  pyplot.subplot(330 + 1 + i)\n",
        "  pyplot.imshow(X_train[i], cmap=pyplot.get_cmap('gray'))\n",
        "pyplot.show()"
      ],
      "metadata": {
        "colab": {
          "base_uri": "https://localhost:8080/",
          "height": 430
        },
        "id": "0NYLu4zXKJ5H",
        "outputId": "21fb13e8-3ae7-47f7-eb07-8cdca5900bce"
      },
      "execution_count": 10,
      "outputs": [
        {
          "output_type": "display_data",
          "data": {
            "text/plain": [
              "<Figure size 640x480 with 9 Axes>"
            ],
            "image/png": "[encoded data removed]"
          },
          "metadata": {}
        }
      ]
    },
    {
      "cell_type": "markdown",
      "source": [
        "10. Storer le nombre de clasees possibles (5 dans ce cas-ci, car 0, 1, 2, 3, 4) dans la variable n_classes"
      ],
      "metadata": {
        "id": "u89usNVLKR2s"
      }
    },
    {
      "cell_type": "code",
      "source": [
        "n_classes = len(unique(y_train))\n",
        "print(n_classes)"
      ],
      "metadata": {
        "colab": {
          "base_uri": "https://localhost:8080/"
        },
        "id": "H8_eEzH8KSy7",
        "outputId": "b1efc5a6-15ff-4713-e663-838a7d48e232"
      },
      "execution_count": 11,
      "outputs": [
        {
          "output_type": "stream",
          "name": "stdout",
          "text": [
            "5\n"
          ]
        }
      ]
    },
    {
      "cell_type": "markdown",
      "source": [
        "11. Pré-processing #1: adaptater les images au format requis par le modèle VGG-16: dans le cas de VGG-16, les images doivent être de taille 150 x 150"
      ],
      "metadata": {
        "id": "jTTWGWFNKihO"
      }
    },
    {
      "cell_type": "code",
      "source": [
        "X_train = tf.image.resize(X_train, (150,150))\n",
        "X_test = tf.image.resize(X_test, (150,150))\n",
        "X_valid = tf.image.resize(X_valid, (150,150))\n",
        "\n",
        "print(X_train.shape, X_test.shape, X_valid.shape)"
      ],
      "metadata": {
        "colab": {
          "base_uri": "https://localhost:8080/"
        },
        "id": "I5AQ48oBK0bs",
        "outputId": "d67cefe9-6074-44ac-daf9-032f3b74a406"
      },
      "execution_count": 12,
      "outputs": [
        {
          "output_type": "stream",
          "name": "stdout",
          "text": [
            "(171, 150, 150, 3) (109, 150, 150, 3) (50, 150, 150, 3)\n"
          ]
        }
      ]
    },
    {
      "cell_type": "markdown",
      "source": [
        "12. Re-visualiser quelques images après le pré-processing #1"
      ],
      "metadata": {
        "id": "1rycngi1LDBe"
      }
    },
    {
      "cell_type": "code",
      "source": [
        "from matplotlib import pyplot\n",
        "for i in range(9):\n",
        "  pyplot.subplot(330 + 1 + i)\n",
        "  pyplot.imshow(X_train[i], cmap=pyplot.get_cmap('gray'))\n",
        "pyplot.show()"
      ],
      "metadata": {
        "colab": {
          "base_uri": "https://localhost:8080/",
          "height": 435
        },
        "id": "td-5ZZGELJUf",
        "outputId": "25666446-5ccd-4732-ea90-3559a6cf6762"
      },
      "execution_count": 13,
      "outputs": [
        {
          "output_type": "display_data",
          "data": {
            "text/plain": [
              "<Figure size 640x480 with 9 Axes>"
            ],
            "image/png": "[encoded data removed]"
          },
          "metadata": {}
        }
      ]
    },
    {
      "cell_type": "markdown",
      "source": [
        "13. Pré-processing #2: importer VGG-16 ainsi que son application de pré-processing des inputs"
      ],
      "metadata": {
        "id": "6igs2207LWq9"
      }
    },
    {
      "cell_type": "code",
      "source": [
        "from tensorflow.keras.applications.vgg16 import VGG16\n",
        "from tensorflow.keras.applications.vgg16 import preprocess_input\n",
        "\n",
        "X_train = preprocess_input(X_train)\n",
        "X_test = preprocess_input(X_test)\n",
        "X_valid = preprocess_input(X_valid)\n",
        "\n",
        "print(X_train.shape, X_test.shape, X_valid.shape)"
      ],
      "metadata": {
        "colab": {
          "base_uri": "https://localhost:8080/"
        },
        "id": "J87FoRGFLcQe",
        "outputId": "2bb799bb-86bf-43d3-b69a-1bcf8d905936"
      },
      "execution_count": 14,
      "outputs": [
        {
          "output_type": "stream",
          "name": "stdout",
          "text": [
            "(171, 150, 150, 3) (109, 150, 150, 3) (50, 150, 150, 3)\n"
          ]
        }
      ]
    },
    {
      "cell_type": "markdown",
      "source": [
        "14. Définition du modèle via l'API Functionnal de Keras, le tout en utilisant le modèle VGG-16 (sans le top, c'est-à-dire sans la dernière couche, car nous allons remplacer cette dernière couche par nos propres couches (GlobalAveragePooling2D, dense et SoftMax en output))"
      ],
      "metadata": {
        "id": "5v3P5QMyQhUl"
      }
    },
    {
      "cell_type": "code",
      "source": [
        "base_model = VGG16(weights=\"imagenet\", include_top=False)\n",
        "\n",
        "avg = tf.keras.layers.GlobalAveragePooling2D()(base_model.output)\n",
        "\n",
        "dense = tf.keras.layers.Dense(10, activation='relu', kernel_initializer='he_uniform')(avg)\n",
        "\n",
        "output = tf.keras.layers.Dense(n_classes,activation=\"softmax\")(dense)\n",
        "\n",
        "model = tf.keras.Model(inputs = base_model.input, outputs=output)"
      ],
      "metadata": {
        "colab": {
          "base_uri": "https://localhost:8080/"
        },
        "id": "cJmxEceKQ9oz",
        "outputId": "7bb9dc11-4c2a-451a-eb7c-95ae7f936b12"
      },
      "execution_count": 15,
      "outputs": [
        {
          "output_type": "stream",
          "name": "stdout",
          "text": [
            "Downloading data from https://storage.googleapis.com/tensorflow/keras-applications/vgg16/vgg16_weights_tf_dim_ordering_tf_kernels_notop.h5\n",
            "58889256/58889256 [==============================] - 0s 0us/step\n"
          ]
        }
      ]
    },
    {
      "cell_type": "markdown",
      "source": [
        "15. Pour commencer, nous n'allons pas ré-entrainer les poids et biais de VGG-16 (nous allons commencer par uniquement entrainer les poids de notre Softmax final)"
      ],
      "metadata": {
        "id": "NH-oQGZaSaos"
      }
    },
    {
      "cell_type": "code",
      "source": [
        "for layer in base_model.layers:\n",
        "  layer.trainable=False"
      ],
      "metadata": {
        "id": "os-VEh--SdrS"
      },
      "execution_count": 16,
      "outputs": []
    },
    {
      "cell_type": "markdown",
      "source": [
        "16. Compiler le modèle"
      ],
      "metadata": {
        "id": "4scinVveShzp"
      }
    },
    {
      "cell_type": "code",
      "source": [
        "optimizer = tf.keras.optimizers.SGD(learning_rate=0.1, momentum=0.9)\n",
        "\n",
        "model.compile(loss=\"sparse_categorical_crossentropy\",optimizer=optimizer,metrics=[\"accuracy\"])"
      ],
      "metadata": {
        "id": "ZLmJghWMSjGR"
      },
      "execution_count": 17,
      "outputs": []
    },
    {
      "cell_type": "markdown",
      "source": [
        "17. Entrainer le modèle"
      ],
      "metadata": {
        "id": "ch0p90NbS3Jm"
      }
    },
    {
      "cell_type": "code",
      "source": [
        "history = model.fit(X_train, y_train, batch_size=32 , validation_data=(X_valid,y_valid),epochs=5)"
      ],
      "metadata": {
        "colab": {
          "base_uri": "https://localhost:8080/"
        },
        "id": "lE4sCrIyS5cr",
        "outputId": "15de14c9-1c9d-4d6e-d667-52cc4d5800d5"
      },
      "execution_count": 18,
      "outputs": [
        {
          "output_type": "stream",
          "name": "stdout",
          "text": [
            "Epoch 1/5\n",
            "6/6 [==============================] - 15s 852ms/step - loss: 26.2510 - accuracy: 0.2222 - val_loss: 1.5762 - val_accuracy: 0.3600\n",
            "Epoch 2/5\n",
            "6/6 [==============================] - 0s 84ms/step - loss: 1.5597 - accuracy: 0.3743 - val_loss: 1.5172 - val_accuracy: 0.3600\n",
            "Epoch 3/5\n",
            "6/6 [==============================] - 0s 88ms/step - loss: 1.5025 - accuracy: 0.3743 - val_loss: 1.5006 - val_accuracy: 0.3600\n",
            "Epoch 4/5\n",
            "6/6 [==============================] - 0s 82ms/step - loss: 1.4980 - accuracy: 0.3743 - val_loss: 1.5089 - val_accuracy: 0.3600\n",
            "Epoch 5/5\n",
            "6/6 [==============================] - 1s 89ms/step - loss: 1.5024 - accuracy: 0.3743 - val_loss: 1.5078 - val_accuracy: 0.3600\n"
          ]
        }
      ]
    },
    {
      "cell_type": "markdown",
      "source": [
        "18. Évaluation de l'ajustement du modèle (avec les métriques classiques: loss, accuracy)"
      ],
      "metadata": {
        "id": "JifVmLDaUWd8"
      }
    },
    {
      "cell_type": "code",
      "source": [
        "loss, acc = model.evaluate(X_test, y_test, verbose=0)\n",
        "print('Accuracy: %.3f' % acc)"
      ],
      "metadata": {
        "colab": {
          "base_uri": "https://localhost:8080/"
        },
        "id": "ah4KZoSTUaUV",
        "outputId": "402d5ced-b878-4cdd-f907-4ddef2e263b6"
      },
      "execution_count": 19,
      "outputs": [
        {
          "output_type": "stream",
          "name": "stdout",
          "text": [
            "Accuracy: 0.349\n"
          ]
        }
      ]
    },
    {
      "cell_type": "markdown",
      "source": [
        "19. Si on atteint un plateau d'accuracy en entrainant seulement la dernière couche, c'est souvent signe qu'on peut commencer à entrainer aussi quelques couches du réseau pré-entrainer en les débloquant, par exemple, ici on débloque toutes les couches à partir de la 1ère"
      ],
      "metadata": {
        "id": "xviMea2QUpP7"
      }
    },
    {
      "cell_type": "code",
      "source": [
        "for layer in base_model.layers[10:]:\n",
        "  layer.trainable=True\n",
        "\n",
        "optimizer = tf.keras.optimizers.SGD(learning_rate=0.01, momentum=0.9)\n",
        "\n",
        "model.compile(loss=\"sparse_categorical_crossentropy\",optimizer=optimizer,metrics=[\"accuracy\"])\n",
        "\n",
        "history = model.fit(X_train,y_train,batch_size=32 , validation_data=(X_valid,y_valid),epochs=5)"
      ],
      "metadata": {
        "colab": {
          "base_uri": "https://localhost:8080/"
        },
        "id": "OFAmuRjdUs6y",
        "outputId": "89f892c8-9821-4011-c5fa-5fba15f3e616"
      },
      "execution_count": 20,
      "outputs": [
        {
          "output_type": "stream",
          "name": "stdout",
          "text": [
            "Epoch 1/5\n",
            "6/6 [==============================] - 5s 225ms/step - loss: 1.4998 - accuracy: 0.3743 - val_loss: 1.5074 - val_accuracy: 0.3600\n",
            "Epoch 2/5\n",
            "6/6 [==============================] - 1s 122ms/step - loss: 1.4992 - accuracy: 0.3743 - val_loss: 1.5067 - val_accuracy: 0.3600\n",
            "Epoch 3/5\n",
            "6/6 [==============================] - 1s 114ms/step - loss: 1.4989 - accuracy: 0.3743 - val_loss: 1.5058 - val_accuracy: 0.3600\n",
            "Epoch 4/5\n",
            "6/6 [==============================] - 1s 121ms/step - loss: 1.4977 - accuracy: 0.3743 - val_loss: 1.5055 - val_accuracy: 0.3600\n",
            "Epoch 5/5\n",
            "6/6 [==============================] - 1s 117ms/step - loss: 1.4970 - accuracy: 0.3743 - val_loss: 1.5047 - val_accuracy: 0.3600\n"
          ]
        }
      ]
    },
    {
      "cell_type": "markdown",
      "source": [
        "20. Ré-évaluation de la performance du modèle"
      ],
      "metadata": {
        "id": "wF0kgiXJcZrS"
      }
    },
    {
      "cell_type": "code",
      "source": [
        "loss, acc = model.evaluate(X_test, y_test, verbose=0)\n",
        "print('Accuracy: %.3f' % acc)"
      ],
      "metadata": {
        "colab": {
          "base_uri": "https://localhost:8080/"
        },
        "id": "gc0m0tckca9T",
        "outputId": "35053b0b-5933-44ba-8503-ba48d64f00f6"
      },
      "execution_count": 21,
      "outputs": [
        {
          "output_type": "stream",
          "name": "stdout",
          "text": [
            "Accuracy: 0.349\n"
          ]
        }
      ]
    },
    {
      "cell_type": "markdown",
      "source": [
        "21. Évaluation de l'ajustement du modèle (avec une matrice de confusion)"
      ],
      "metadata": {
        "id": "z5i7Z3m-tRIt"
      }
    },
    {
      "cell_type": "code",
      "source": [
        "y_pred = argmax(model.predict(X_test),axis=1)\n",
        "cm = confusion_matrix(y_test,y_pred)\n",
        "cm"
      ],
      "metadata": {
        "colab": {
          "base_uri": "https://localhost:8080/"
        },
        "id": "2CnbLxKutSX3",
        "outputId": "4c4181df-707e-496a-8820-6a4065e72d01"
      },
      "execution_count": 22,
      "outputs": [
        {
          "output_type": "stream",
          "name": "stdout",
          "text": [
            "4/4 [==============================] - 0s 75ms/step\n"
          ]
        },
        {
          "output_type": "execute_result",
          "data": {
            "text/plain": [
              "array([[38,  0,  0,  0,  0],\n",
              "       [31,  0,  0,  0,  0],\n",
              "       [ 8,  0,  0,  0,  0],\n",
              "       [18,  0,  0,  0,  0],\n",
              "       [14,  0,  0,  0,  0]])"
            ]
          },
          "metadata": {},
          "execution_count": 22
        }
      ]
    },
    {
      "cell_type": "code",
      "source": [
        "def do_analysis_MaxPooling():\n",
        "  base_model = VGG16(weights=\"imagenet\", include_top=False)\n",
        "\n",
        "  avg = tf.keras.layers.GlobalMaxPool2D()(base_model.output)\n",
        "\n",
        "  dense = tf.keras.layers.Dense(10, activation='relu', kernel_initializer='he_uniform')(avg)\n",
        "\n",
        "  output = tf.keras.layers.Dense(n_classes,activation=\"softmax\")(dense)\n",
        "\n",
        "  model = tf.keras.Model(inputs = base_model.input, outputs=output)\n",
        "\n",
        "  for layer in base_model.layers:\n",
        "    layer.trainable=False\n",
        "\n",
        "  optimizer = tf.keras.optimizers.SGD(learning_rate=0.01, momentum=0.9)\n",
        "\n",
        "  model.compile(loss=\"sparse_categorical_crossentropy\",optimizer=optimizer,metrics=[\"accuracy\"])\n",
        "\n",
        "  history = model.fit(X_train, y_train, batch_size=10 , validation_data=(X_valid,y_valid),epochs=20)\n",
        "\n",
        "  loss, acc = model.evaluate(X_test, y_test, verbose=0)\n",
        "  print('Accuracy: %.3f' % acc)"
      ],
      "metadata": {
        "id": "N_YrBYmvxcQD"
      },
      "execution_count": 32,
      "outputs": []
    },
    {
      "cell_type": "code",
      "source": [
        "do_analysis_MaxPooling()"
      ],
      "metadata": {
        "colab": {
          "base_uri": "https://localhost:8080/"
        },
        "id": "Kz_ZCqIMxcDR",
        "outputId": "ed905fb3-0b1e-4840-cf79-9075fcd62180"
      },
      "execution_count": 33,
      "outputs": [
        {
          "output_type": "stream",
          "name": "stdout",
          "text": [
            "Epoch 1/20\n",
            "18/18 [==============================] - 2s 77ms/step - loss: 2.1232 - accuracy: 0.2573 - val_loss: 1.5749 - val_accuracy: 0.3600\n",
            "Epoch 2/20\n",
            "18/18 [==============================] - 1s 36ms/step - loss: 1.5538 - accuracy: 0.3743 - val_loss: 1.5241 - val_accuracy: 0.3600\n",
            "Epoch 3/20\n",
            "18/18 [==============================] - 1s 37ms/step - loss: 1.5159 - accuracy: 0.3743 - val_loss: 1.5086 - val_accuracy: 0.3600\n",
            "Epoch 4/20\n",
            "18/18 [==============================] - 1s 36ms/step - loss: 1.5029 - accuracy: 0.3743 - val_loss: 1.5025 - val_accuracy: 0.3600\n",
            "Epoch 5/20\n",
            "18/18 [==============================] - 1s 36ms/step - loss: 1.5009 - accuracy: 0.3743 - val_loss: 1.5021 - val_accuracy: 0.3600\n",
            "Epoch 6/20\n",
            "18/18 [==============================] - 1s 37ms/step - loss: 1.4965 - accuracy: 0.3743 - val_loss: 1.4974 - val_accuracy: 0.3600\n",
            "Epoch 7/20\n",
            "18/18 [==============================] - 1s 36ms/step - loss: 1.4972 - accuracy: 0.3743 - val_loss: 1.4955 - val_accuracy: 0.3600\n",
            "Epoch 8/20\n",
            "18/18 [==============================] - 1s 36ms/step - loss: 1.4971 - accuracy: 0.3743 - val_loss: 1.4955 - val_accuracy: 0.3600\n",
            "Epoch 9/20\n",
            "18/18 [==============================] - 1s 37ms/step - loss: 1.4955 - accuracy: 0.3743 - val_loss: 1.4980 - val_accuracy: 0.3600\n",
            "Epoch 10/20\n",
            "18/18 [==============================] - 1s 37ms/step - loss: 1.4951 - accuracy: 0.3743 - val_loss: 1.4984 - val_accuracy: 0.3600\n",
            "Epoch 11/20\n",
            "18/18 [==============================] - 1s 37ms/step - loss: 1.4949 - accuracy: 0.3743 - val_loss: 1.4993 - val_accuracy: 0.3600\n",
            "Epoch 12/20\n",
            "18/18 [==============================] - 1s 37ms/step - loss: 1.4956 - accuracy: 0.3743 - val_loss: 1.5009 - val_accuracy: 0.3600\n",
            "Epoch 13/20\n",
            "18/18 [==============================] - 1s 36ms/step - loss: 1.4953 - accuracy: 0.3743 - val_loss: 1.4998 - val_accuracy: 0.3600\n",
            "Epoch 14/20\n",
            "18/18 [==============================] - 1s 37ms/step - loss: 1.4969 - accuracy: 0.3743 - val_loss: 1.5002 - val_accuracy: 0.3600\n",
            "Epoch 15/20\n",
            "18/18 [==============================] - 1s 36ms/step - loss: 1.4956 - accuracy: 0.3743 - val_loss: 1.4968 - val_accuracy: 0.3600\n",
            "Epoch 16/20\n",
            "18/18 [==============================] - 1s 53ms/step - loss: 1.4942 - accuracy: 0.3743 - val_loss: 1.4959 - val_accuracy: 0.3600\n",
            "Epoch 17/20\n",
            "18/18 [==============================] - 1s 51ms/step - loss: 1.4968 - accuracy: 0.3743 - val_loss: 1.4961 - val_accuracy: 0.3600\n",
            "Epoch 18/20\n",
            "18/18 [==============================] - 1s 42ms/step - loss: 1.4950 - accuracy: 0.3743 - val_loss: 1.4971 - val_accuracy: 0.3600\n",
            "Epoch 19/20\n",
            "18/18 [==============================] - 1s 37ms/step - loss: 1.4958 - accuracy: 0.3743 - val_loss: 1.4954 - val_accuracy: 0.3600\n",
            "Epoch 20/20\n",
            "18/18 [==============================] - 1s 36ms/step - loss: 1.4957 - accuracy: 0.3743 - val_loss: 1.4961 - val_accuracy: 0.3600\n",
            "Accuracy: 0.349\n"
          ]
        }
      ]
    },
    {
      "cell_type": "code",
      "source": [
        "base_model = VGG16(weights=\"imagenet\", include_top=False)\n",
        "base_model.summary()"
      ],
      "metadata": {
        "colab": {
          "base_uri": "https://localhost:8080/"
        },
        "id": "zo6RuqC-zECI",
        "outputId": "1d4de61b-9080-4c42-f27f-07266ac02165"
      },
      "execution_count": 28,
      "outputs": [
        {
          "output_type": "stream",
          "name": "stdout",
          "text": [
            "Model: \"vgg16\"\n",
            "_________________________________________________________________\n",
            " Layer (type)                Output Shape              Param #   \n",
            "=================================================================\n",
            " input_4 (InputLayer)        [(None, None, None, 3)]   0         \n",
            "                                                                 \n",
            " block1_conv1 (Conv2D)       (None, None, None, 64)    1792      \n",
            "                                                                 \n",
            " block1_conv2 (Conv2D)       (None, None, None, 64)    36928     \n",
            "                                                                 \n",
            " block1_pool (MaxPooling2D)  (None, None, None, 64)    0         \n",
            "                                                                 \n",
            " block2_conv1 (Conv2D)       (None, None, None, 128)   73856     \n",
            "                                                                 \n",
            " block2_conv2 (Conv2D)       (None, None, None, 128)   147584    \n",
            "                                                                 \n",
            " block2_pool (MaxPooling2D)  (None, None, None, 128)   0         \n",
            "                                                                 \n",
            " block3_conv1 (Conv2D)       (None, None, None, 256)   295168    \n",
            "                                                                 \n",
            " block3_conv2 (Conv2D)       (None, None, None, 256)   590080    \n",
            "                                                                 \n",
            " block3_conv3 (Conv2D)       (None, None, None, 256)   590080    \n",
            "                                                                 \n",
            " block3_pool (MaxPooling2D)  (None, None, None, 256)   0         \n",
            "                                                                 \n",
            " block4_conv1 (Conv2D)       (None, None, None, 512)   1180160   \n",
            "                                                                 \n",
            " block4_conv2 (Conv2D)       (None, None, None, 512)   2359808   \n",
            "                                                                 \n",
            " block4_conv3 (Conv2D)       (None, None, None, 512)   2359808   \n",
            "                                                                 \n",
            " block4_pool (MaxPooling2D)  (None, None, None, 512)   0         \n",
            "                                                                 \n",
            " block5_conv1 (Conv2D)       (None, None, None, 512)   2359808   \n",
            "                                                                 \n",
            " block5_conv2 (Conv2D)       (None, None, None, 512)   2359808   \n",
            "                                                                 \n",
            " block5_conv3 (Conv2D)       (None, None, None, 512)   2359808   \n",
            "                                                                 \n",
            " block5_pool (MaxPooling2D)  (None, None, None, 512)   0         \n",
            "                                                                 \n",
            "=================================================================\n",
            "Total params: 14714688 (56.13 MB)\n",
            "Trainable params: 14714688 (56.13 MB)\n",
            "Non-trainable params: 0 (0.00 Byte)\n",
            "_________________________________________________________________\n"
          ]
        }
      ]
    }
  ]
}