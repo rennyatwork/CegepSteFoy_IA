{
  "nbformat": 4,
  "nbformat_minor": 0,
  "metadata": {
    "colab": {
      "provenance": [],
      "authorship_tag": "ABX9TyOWJcMLnsi6dtcgNxFGBUO8",
      "include_colab_link": true
    },
    "kernelspec": {
      "name": "python3",
      "display_name": "Python 3"
    },
    "language_info": {
      "name": "python"
    }
  },
  "cells": [
    {
      "cell_type": "markdown",
      "metadata": {
        "id": "view-in-github",
        "colab_type": "text"
      },
      "source": [
        "<a href=\"https://colab.research.google.com/github/rennyatwork/CegepSteFoy_IA/blob/main/08_deep_learning/examen_final_q_09.ipynb\" target=\"_parent\"><img src=\"https://colab.research.google.com/assets/colab-badge.svg\" alt=\"Open In Colab\"/></a>"
      ]
    },
    {
      "cell_type": "code",
      "execution_count": 1,
      "metadata": {
        "id": "XxnsizR20XLU"
      },
      "outputs": [],
      "source": [
        "import numpy as np\n",
        "import tensorflow as tf\n",
        "from tensorflow.keras.models import Sequential\n",
        "from tensorflow.keras.layers import SimpleRNN, Dense\n",
        "from tensorflow.keras.layers import GRU, Dense\n",
        "\n"
      ]
    },
    {
      "cell_type": "code",
      "source": [
        "# Créer la séquence initiale\n",
        "sequence = [10, 20, 30, 40, 50, 60, 70, 80, 90, 100, 110, 120, 130]\n",
        "\n"
      ],
      "metadata": {
        "id": "NkJaz5kJ0der"
      },
      "execution_count": 5,
      "outputs": []
    },
    {
      "cell_type": "code",
      "source": [
        "\n",
        "# Create a function to create and train the GRU model\n",
        "def create_and_train_gru_model(sequence, sequence_length, num_epochs=40, num_predictions=3):\n",
        "    # Prepare training data and target values\n",
        "    X = []\n",
        "    y = []\n",
        "\n",
        "    for i in range(len(sequence) - sequence_length):\n",
        "        X.append(sequence[i:i+sequence_length])\n",
        "        y.append(sequence[i+sequence_length])\n",
        "\n",
        "    X = np.array(X).reshape(-1, sequence_length, 1)\n",
        "    y = np.array(y)\n",
        "\n",
        "    # Create the GRU model\n",
        "    model = Sequential([\n",
        "        GRU(128, input_shape=(sequence_length, 1), return_sequences=True, activation='relu'),  # First GRU layer with return_sequences=True\n",
        "        GRU(128, return_sequences=True, activation='relu'),  # Second GRU layer with return_sequences=True\n",
        "        GRU(128, activation='relu'),  # Third GRU layer\n",
        "        Dense(1)\n",
        "    ])\n",
        "\n",
        "    # Compile the model\n",
        "    model.compile(optimizer='adam', loss='mean_squared_error')\n",
        "\n",
        "    # Train the model\n",
        "    model.fit(X, y, epochs=num_epochs)\n",
        "\n",
        "    # Initialize a list to store predicted values\n",
        "    predicted_values = []\n",
        "\n",
        "    # Starting input sequence (last sequence_length values)\n",
        "    input_sequence = np.array(sequence[-sequence_length:]).reshape(1, sequence_length, 1)\n",
        "\n",
        "    for _ in range(num_predictions):\n",
        "        # Predict the next value based on the input sequence\n",
        "        predicted_value = model.predict(input_sequence)\n",
        "\n",
        "        # Append the predicted value to the list\n",
        "        predicted_values.append(predicted_value[0, 0])\n",
        "\n",
        "        # Slide the window by one step (remove the first value and add the predicted value to the end)\n",
        "        input_sequence = np.roll(input_sequence, shift=-1, axis=1)\n",
        "        input_sequence[0, -1, 0] = predicted_value[0, 0]\n",
        "\n",
        "    return predicted_values\n",
        "\n",
        "\n"
      ],
      "metadata": {
        "id": "s5OI0VFP0dWq"
      },
      "execution_count": 6,
      "outputs": []
    },
    {
      "cell_type": "code",
      "source": [
        "predicted_values = create_and_train_gru_model(sequence, sequence_length=6, num_epochs=40, num_predictions=3)\n",
        "print(\"Predicted values with a window size of 6:\", predicted_values)"
      ],
      "metadata": {
        "colab": {
          "base_uri": "https://localhost:8080/"
        },
        "id": "oT_WU83F0dRZ",
        "outputId": "45f5d829-50aa-4fce-930a-26267e9cb62d"
      },
      "execution_count": 7,
      "outputs": [
        {
          "output_type": "stream",
          "name": "stdout",
          "text": [
            "Epoch 1/40\n",
            "1/1 [==============================] - 5s 5s/step - loss: 10436.4238\n",
            "Epoch 2/40\n",
            "1/1 [==============================] - 0s 24ms/step - loss: 10063.1426\n",
            "Epoch 3/40\n",
            "1/1 [==============================] - 0s 23ms/step - loss: 9730.9131\n",
            "Epoch 4/40\n",
            "1/1 [==============================] - 0s 25ms/step - loss: 9382.8281\n",
            "Epoch 5/40\n",
            "1/1 [==============================] - 0s 24ms/step - loss: 8979.0781\n",
            "Epoch 6/40\n",
            "1/1 [==============================] - 0s 29ms/step - loss: 8485.5820\n",
            "Epoch 7/40\n",
            "1/1 [==============================] - 0s 21ms/step - loss: 7858.9414\n",
            "Epoch 8/40\n",
            "1/1 [==============================] - 0s 24ms/step - loss: 7077.4346\n",
            "Epoch 9/40\n",
            "1/1 [==============================] - 0s 22ms/step - loss: 6126.2021\n",
            "Epoch 10/40\n",
            "1/1 [==============================] - 0s 24ms/step - loss: 4996.9165\n",
            "Epoch 11/40\n",
            "1/1 [==============================] - 0s 29ms/step - loss: 3687.3594\n",
            "Epoch 12/40\n",
            "1/1 [==============================] - 0s 33ms/step - loss: 2264.1030\n",
            "Epoch 13/40\n",
            "1/1 [==============================] - 0s 31ms/step - loss: 925.3537\n",
            "Epoch 14/40\n",
            "1/1 [==============================] - 0s 45ms/step - loss: 103.3810\n",
            "Epoch 15/40\n",
            "1/1 [==============================] - 0s 38ms/step - loss: 630.1771\n",
            "Epoch 16/40\n",
            "1/1 [==============================] - 0s 29ms/step - loss: 1553.1252\n",
            "Epoch 17/40\n",
            "1/1 [==============================] - 0s 30ms/step - loss: 1442.2441\n",
            "Epoch 18/40\n",
            "1/1 [==============================] - 0s 33ms/step - loss: 819.6425\n",
            "Epoch 19/40\n",
            "1/1 [==============================] - 0s 31ms/step - loss: 292.9877\n",
            "Epoch 20/40\n",
            "1/1 [==============================] - 0s 41ms/step - loss: 59.1206\n",
            "Epoch 21/40\n",
            "1/1 [==============================] - 0s 34ms/step - loss: 58.0046\n",
            "Epoch 22/40\n",
            "1/1 [==============================] - 0s 32ms/step - loss: 176.4333\n",
            "Epoch 23/40\n",
            "1/1 [==============================] - 0s 30ms/step - loss: 311.9189\n",
            "Epoch 24/40\n",
            "1/1 [==============================] - 0s 30ms/step - loss: 406.8514\n",
            "Epoch 25/40\n",
            "1/1 [==============================] - 0s 32ms/step - loss: 439.0930\n",
            "Epoch 26/40\n",
            "1/1 [==============================] - 0s 32ms/step - loss: 411.6717\n",
            "Epoch 27/40\n",
            "1/1 [==============================] - 0s 38ms/step - loss: 335.6420\n",
            "Epoch 28/40\n",
            "1/1 [==============================] - 0s 38ms/step - loss: 233.4571\n",
            "Epoch 29/40\n",
            "1/1 [==============================] - 0s 36ms/step - loss: 130.6321\n",
            "Epoch 30/40\n",
            "1/1 [==============================] - 0s 45ms/step - loss: 55.4943\n",
            "Epoch 31/40\n",
            "1/1 [==============================] - 0s 51ms/step - loss: 27.2220\n",
            "Epoch 32/40\n",
            "1/1 [==============================] - 0s 32ms/step - loss: 48.6948\n",
            "Epoch 33/40\n",
            "1/1 [==============================] - 0s 37ms/step - loss: 99.1487\n",
            "Epoch 34/40\n",
            "1/1 [==============================] - 0s 41ms/step - loss: 142.1857\n",
            "Epoch 35/40\n",
            "1/1 [==============================] - 0s 49ms/step - loss: 151.4940\n",
            "Epoch 36/40\n",
            "1/1 [==============================] - 0s 47ms/step - loss: 125.0592\n",
            "Epoch 37/40\n",
            "1/1 [==============================] - 0s 32ms/step - loss: 80.4709\n",
            "Epoch 38/40\n",
            "1/1 [==============================] - 0s 36ms/step - loss: 40.4668\n",
            "Epoch 39/40\n",
            "1/1 [==============================] - 0s 45ms/step - loss: 19.8834\n",
            "Epoch 40/40\n",
            "1/1 [==============================] - 0s 58ms/step - loss: 20.8115\n",
            "1/1 [==============================] - 1s 815ms/step\n",
            "1/1 [==============================] - 0s 56ms/step\n",
            "1/1 [==============================] - 0s 35ms/step\n",
            "Predicted values with a window size of 6: [140.87624, 152.65962, 165.1026]\n"
          ]
        }
      ]
    },
    {
      "cell_type": "code",
      "source": [],
      "metadata": {
        "id": "L2VEdG030dGk"
      },
      "execution_count": 4,
      "outputs": []
    }
  ]
}