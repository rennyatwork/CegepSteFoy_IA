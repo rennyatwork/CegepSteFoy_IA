{
  "nbformat": 4,
  "nbformat_minor": 0,
  "metadata": {
    "colab": {
      "provenance": [],
      "authorship_tag": "ABX9TyOu+/EHmOKSby9yPdYXAQ8y",
      "include_colab_link": true
    },
    "kernelspec": {
      "name": "python3",
      "display_name": "Python 3"
    },
    "language_info": {
      "name": "python"
    }
  },
  "cells": [
    {
      "cell_type": "markdown",
      "metadata": {
        "id": "view-in-github",
        "colab_type": "text"
      },
      "source": [
        "<a href=\"https://colab.research.google.com/github/rennyatwork/CegepSteFoy_IA/blob/main/08_deep_learning/examen_final_q_09.ipynb\" target=\"_parent\"><img src=\"https://colab.research.google.com/assets/colab-badge.svg\" alt=\"Open In Colab\"/></a>"
      ]
    },
    {
      "cell_type": "code",
      "execution_count": 13,
      "metadata": {
        "id": "XxnsizR20XLU"
      },
      "outputs": [],
      "source": [
        "import numpy as np\n",
        "import tensorflow as tf\n",
        "from tensorflow.keras.models import Sequential\n",
        "from tensorflow.keras.layers import SimpleRNN, Dense\n",
        "from tensorflow.keras.layers import GRU, Dense\n",
        "\n"
      ]
    },
    {
      "cell_type": "code",
      "source": [
        "# Créer la séquence initiale\n",
        "sequence = [10, 20, 30, 40, 50, 60, 70, 80, 90, 100, 110, 120, 130]\n",
        "\n",
        "# Préparer les données d'entraînement et de cible\n",
        "X = []\n",
        "y = []\n",
        "sequence_length = 3  # Longueur de la séquence d'entrée\n",
        "\n",
        "for i in range(len(sequence) - sequence_length):\n",
        "    X.append(sequence[i:i+sequence_length])\n",
        "    y.append(sequence[i+sequence_length])\n",
        "\n",
        "X = np.array(X).reshape(-1, sequence_length, 1)\n",
        "y = np.array(y)\n",
        "\n",
        "\n"
      ],
      "metadata": {
        "id": "NkJaz5kJ0der"
      },
      "execution_count": 14,
      "outputs": []
    },
    {
      "cell_type": "code",
      "source": [
        "# Create the GRU model\n",
        "model = Sequential([\n",
        "    GRU(512, input_shape=(sequence_length, 1), return_sequences=True, activation='relu'),  # First GRU layer with return_sequences=True\n",
        "    GRU(64, return_sequences=True, activation='relu'),  # Second GRU layer with return_sequences=True\n",
        "    GRU(8, activation='relu'),  # Third GRU layer\n",
        "    Dense(1)\n",
        "])\n",
        "\n",
        "# Compiler le modèle\n",
        "model.compile(optimizer='adam', loss='mean_squared_error')\n",
        "\n",
        "# Entraîner le modèle\n",
        "model.fit(X, y, epochs=40)\n",
        "\n",
        "# Prévoir les prochaines valeurs de la séquence\n",
        "next_values = [130, 140, 150, 160, 170]  # Les trois prochaines valeurs après 130\n",
        "pred_values=[]\n",
        "\n",
        "for _ in range(3):\n",
        "    input_sequence = np.array(next_values[-sequence_length:]).reshape(1, sequence_length, 1)\n",
        "    predicted_value = model.predict(input_sequence)\n",
        "    #next_values.append(predicted_value[0, 0])\n",
        "    pred_values.append(predicted_value[0, 0])\n",
        "\n",
        "#print(\"Séquence prédite:\", next_values)\n",
        "print(\"Séquence prédite:\", pred_values)"
      ],
      "metadata": {
        "colab": {
          "base_uri": "https://localhost:8080/"
        },
        "id": "OZngeUmZ0da2",
        "outputId": "7b13adb9-e427-471c-ca6d-33bcec0fdf2d"
      },
      "execution_count": 24,
      "outputs": [
        {
          "output_type": "stream",
          "name": "stdout",
          "text": [
            "Epoch 1/40\n",
            "1/1 [==============================] - 6s 6s/step - loss: 7700.5576\n",
            "Epoch 2/40\n",
            "1/1 [==============================] - 0s 42ms/step - loss: 7243.5532\n",
            "Epoch 3/40\n",
            "1/1 [==============================] - 0s 39ms/step - loss: 6786.9170\n",
            "Epoch 4/40\n",
            "1/1 [==============================] - 0s 36ms/step - loss: 6285.0493\n",
            "Epoch 5/40\n",
            "1/1 [==============================] - 0s 43ms/step - loss: 5724.7959\n",
            "Epoch 6/40\n",
            "1/1 [==============================] - 0s 38ms/step - loss: 5091.7974\n",
            "Epoch 7/40\n",
            "1/1 [==============================] - 0s 36ms/step - loss: 4351.3110\n",
            "Epoch 8/40\n",
            "1/1 [==============================] - 0s 43ms/step - loss: 3498.1431\n",
            "Epoch 9/40\n",
            "1/1 [==============================] - 0s 41ms/step - loss: 2547.9556\n",
            "Epoch 10/40\n",
            "1/1 [==============================] - 0s 38ms/step - loss: 1527.2805\n",
            "Epoch 11/40\n",
            "1/1 [==============================] - 0s 35ms/step - loss: 564.1578\n",
            "Epoch 12/40\n",
            "1/1 [==============================] - 0s 42ms/step - loss: 146.9018\n",
            "Epoch 13/40\n",
            "1/1 [==============================] - 0s 36ms/step - loss: 638.9878\n",
            "Epoch 14/40\n",
            "1/1 [==============================] - 0s 34ms/step - loss: 1042.1943\n",
            "Epoch 15/40\n",
            "1/1 [==============================] - 0s 60ms/step - loss: 981.2114\n",
            "Epoch 16/40\n",
            "1/1 [==============================] - 0s 38ms/step - loss: 675.2196\n",
            "Epoch 17/40\n",
            "1/1 [==============================] - 0s 35ms/step - loss: 363.3346\n",
            "Epoch 18/40\n",
            "1/1 [==============================] - 0s 38ms/step - loss: 166.7374\n",
            "Epoch 19/40\n",
            "1/1 [==============================] - 0s 44ms/step - loss: 95.6071\n",
            "Epoch 20/40\n",
            "1/1 [==============================] - 0s 41ms/step - loss: 114.6035\n",
            "Epoch 21/40\n",
            "1/1 [==============================] - 0s 40ms/step - loss: 175.7905\n",
            "Epoch 22/40\n",
            "1/1 [==============================] - 0s 44ms/step - loss: 240.2589\n",
            "Epoch 23/40\n",
            "1/1 [==============================] - 0s 47ms/step - loss: 284.5148\n",
            "Epoch 24/40\n",
            "1/1 [==============================] - 0s 39ms/step - loss: 298.5551\n",
            "Epoch 25/40\n",
            "1/1 [==============================] - 0s 42ms/step - loss: 281.8855\n",
            "Epoch 26/40\n",
            "1/1 [==============================] - 0s 37ms/step - loss: 240.2122\n",
            "Epoch 27/40\n",
            "1/1 [==============================] - 0s 54ms/step - loss: 182.3422\n",
            "Epoch 28/40\n",
            "1/1 [==============================] - 0s 50ms/step - loss: 119.3485\n",
            "Epoch 29/40\n",
            "1/1 [==============================] - 0s 36ms/step - loss: 76.3616\n",
            "Epoch 30/40\n",
            "1/1 [==============================] - 0s 42ms/step - loss: 91.9952\n",
            "Epoch 31/40\n",
            "1/1 [==============================] - 0s 36ms/step - loss: 115.1735\n",
            "Epoch 32/40\n",
            "1/1 [==============================] - 0s 34ms/step - loss: 100.6600\n",
            "Epoch 33/40\n",
            "1/1 [==============================] - 0s 41ms/step - loss: 83.4407\n",
            "Epoch 34/40\n",
            "1/1 [==============================] - 0s 40ms/step - loss: 80.5519\n",
            "Epoch 35/40\n",
            "1/1 [==============================] - 0s 37ms/step - loss: 76.0264\n",
            "Epoch 36/40\n",
            "1/1 [==============================] - 0s 35ms/step - loss: 68.5275\n",
            "Epoch 37/40\n",
            "1/1 [==============================] - 0s 44ms/step - loss: 60.2812\n",
            "Epoch 38/40\n",
            "1/1 [==============================] - 0s 40ms/step - loss: 53.1453\n",
            "Epoch 39/40\n",
            "1/1 [==============================] - 0s 38ms/step - loss: 48.1989\n",
            "Epoch 40/40\n",
            "1/1 [==============================] - 0s 37ms/step - loss: 45.2674\n",
            "1/1 [==============================] - 2s 2s/step\n",
            "1/1 [==============================] - 0s 27ms/step\n",
            "1/1 [==============================] - 0s 29ms/step\n",
            "Séquence prédite: [192.38115, 192.38115, 192.38115]\n"
          ]
        }
      ]
    },
    {
      "cell_type": "code",
      "source": [],
      "metadata": {
        "id": "s5OI0VFP0dWq"
      },
      "execution_count": null,
      "outputs": []
    },
    {
      "cell_type": "code",
      "source": [],
      "metadata": {
        "id": "oT_WU83F0dRZ"
      },
      "execution_count": null,
      "outputs": []
    },
    {
      "cell_type": "code",
      "source": [],
      "metadata": {
        "id": "L2VEdG030dGk"
      },
      "execution_count": null,
      "outputs": []
    }
  ]
}