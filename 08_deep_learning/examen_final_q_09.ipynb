{
  "nbformat": 4,
  "nbformat_minor": 0,
  "metadata": {
    "colab": {
      "provenance": [],
      "authorship_tag": "ABX9TyOn109+pMTnlDw/VbyVjS/u",
      "include_colab_link": true
    },
    "kernelspec": {
      "name": "python3",
      "display_name": "Python 3"
    },
    "language_info": {
      "name": "python"
    }
  },
  "cells": [
    {
      "cell_type": "markdown",
      "metadata": {
        "id": "view-in-github",
        "colab_type": "text"
      },
      "source": [
        "<a href=\"https://colab.research.google.com/github/rennyatwork/CegepSteFoy_IA/blob/main/08_deep_learning/examen_final_q_09.ipynb\" target=\"_parent\"><img src=\"https://colab.research.google.com/assets/colab-badge.svg\" alt=\"Open In Colab\"/></a>"
      ]
    },
    {
      "cell_type": "code",
      "execution_count": 33,
      "metadata": {
        "id": "XxnsizR20XLU"
      },
      "outputs": [],
      "source": [
        "import numpy as np\n",
        "import tensorflow as tf\n",
        "from tensorflow.keras.models import Sequential\n",
        "from tensorflow.keras.layers import SimpleRNN, Dense\n",
        "from tensorflow.keras.layers import GRU, Dense\n",
        "\n"
      ]
    },
    {
      "cell_type": "code",
      "source": [
        "# Créer la séquence initiale\n",
        "sequence = [10, 20, 30, 40, 50, 60, 70, 80, 90, 100, 110, 120, 130]\n",
        "\n",
        "# Préparer les données d'entraînement et de cible\n",
        "X = []\n",
        "y = []\n",
        "sequence_length = 3  # Longueur de la séquence d'entrée\n",
        "\n",
        "for i in range(len(sequence) - sequence_length):\n",
        "    X.append(sequence[i:i+sequence_length])\n",
        "    y.append(sequence[i+sequence_length])\n",
        "\n",
        "X = np.array(X).reshape(-1, sequence_length, 1)\n",
        "y = np.array(y)\n",
        "\n",
        "\n"
      ],
      "metadata": {
        "id": "NkJaz5kJ0der"
      },
      "execution_count": 34,
      "outputs": []
    },
    {
      "cell_type": "code",
      "source": [
        "\n",
        "# Create a function to create and train the GRU model\n",
        "def create_and_train_gru_model(sequence, sequence_length, num_epochs=40, num_predictions=3):\n",
        "    # Prepare training data and target values\n",
        "    X = []\n",
        "    y = []\n",
        "\n",
        "    for i in range(len(sequence) - sequence_length):\n",
        "        X.append(sequence[i:i+sequence_length])\n",
        "        y.append(sequence[i+sequence_length])\n",
        "\n",
        "    X = np.array(X).reshape(-1, sequence_length, 1)\n",
        "    y = np.array(y)\n",
        "\n",
        "    # Create the GRU model\n",
        "    model = Sequential([\n",
        "        GRU(128, input_shape=(sequence_length, 1), return_sequences=True, activation='relu'),  # First GRU layer with return_sequences=True\n",
        "        GRU(128, return_sequences=True, activation='relu'),  # Second GRU layer with return_sequences=True\n",
        "        GRU(128, activation='relu'),  # Third GRU layer\n",
        "        Dense(1)\n",
        "    ])\n",
        "\n",
        "    # Compile the model\n",
        "    model.compile(optimizer='adam', loss='mean_squared_error')\n",
        "\n",
        "    # Train the model\n",
        "    model.fit(X, y, epochs=num_epochs)\n",
        "\n",
        "    # Initialize a list to store predicted values\n",
        "    predicted_values = []\n",
        "\n",
        "    # Starting input sequence (last sequence_length values)\n",
        "    input_sequence = np.array(sequence[-sequence_length:]).reshape(1, sequence_length, 1)\n",
        "\n",
        "    for _ in range(num_predictions):\n",
        "        # Predict the next value based on the input sequence\n",
        "        predicted_value = model.predict(input_sequence)\n",
        "\n",
        "        # Append the predicted value to the list\n",
        "        predicted_values.append(predicted_value[0, 0])\n",
        "\n",
        "        # Slide the window by one step (remove the first value and add the predicted value to the end)\n",
        "        input_sequence = np.roll(input_sequence, shift=-1, axis=1)\n",
        "        input_sequence[0, -1, 0] = predicted_value[0, 0]\n",
        "\n",
        "    return predicted_values\n",
        "\n",
        "\n"
      ],
      "metadata": {
        "id": "s5OI0VFP0dWq"
      },
      "execution_count": 35,
      "outputs": []
    },
    {
      "cell_type": "code",
      "source": [
        "predicted_values = create_and_train_gru_model(sequence, sequence_length=6, num_epochs=40, num_predictions=3)\n",
        "print(\"Predicted values with a window size of 6:\", predicted_values)"
      ],
      "metadata": {
        "colab": {
          "base_uri": "https://localhost:8080/"
        },
        "id": "oT_WU83F0dRZ",
        "outputId": "1b1b370d-95a6-4507-900e-45eb2141806f"
      },
      "execution_count": 37,
      "outputs": [
        {
          "output_type": "stream",
          "name": "stdout",
          "text": [
            "Epoch 1/40\n",
            "1/1 [==============================] - 7s 7s/step - loss: 14293.3125\n",
            "Epoch 2/40\n",
            "1/1 [==============================] - 0s 40ms/step - loss: 13778.0508\n",
            "Epoch 3/40\n",
            "1/1 [==============================] - 0s 36ms/step - loss: 13262.7695\n",
            "Epoch 4/40\n",
            "1/1 [==============================] - 0s 38ms/step - loss: 12717.1797\n",
            "Epoch 5/40\n",
            "1/1 [==============================] - 0s 39ms/step - loss: 12116.0342\n",
            "Epoch 6/40\n",
            "1/1 [==============================] - 0s 36ms/step - loss: 11384.6709\n",
            "Epoch 7/40\n",
            "1/1 [==============================] - 0s 38ms/step - loss: 10483.4697\n",
            "Epoch 8/40\n",
            "1/1 [==============================] - 0s 39ms/step - loss: 9374.8564\n",
            "Epoch 9/40\n",
            "1/1 [==============================] - 0s 42ms/step - loss: 8016.0015\n",
            "Epoch 10/40\n",
            "1/1 [==============================] - 0s 36ms/step - loss: 6396.0327\n",
            "Epoch 11/40\n",
            "1/1 [==============================] - 0s 36ms/step - loss: 4535.8706\n",
            "Epoch 12/40\n",
            "1/1 [==============================] - 0s 52ms/step - loss: 2605.6345\n",
            "Epoch 13/40\n",
            "1/1 [==============================] - 0s 43ms/step - loss: 890.7482\n",
            "Epoch 14/40\n",
            "1/1 [==============================] - 0s 39ms/step - loss: 2.7889\n",
            "Epoch 15/40\n",
            "1/1 [==============================] - 0s 37ms/step - loss: 1115.0365\n",
            "Epoch 16/40\n",
            "1/1 [==============================] - 0s 44ms/step - loss: 1904.3666\n",
            "Epoch 17/40\n",
            "1/1 [==============================] - 0s 38ms/step - loss: 1508.6357\n",
            "Epoch 18/40\n",
            "1/1 [==============================] - 0s 39ms/step - loss: 765.1516\n",
            "Epoch 19/40\n",
            "1/1 [==============================] - 0s 44ms/step - loss: 217.2745\n",
            "Epoch 20/40\n",
            "1/1 [==============================] - 0s 37ms/step - loss: 8.3049\n",
            "Epoch 21/40\n",
            "1/1 [==============================] - 0s 39ms/step - loss: 52.9132\n",
            "Epoch 22/40\n",
            "1/1 [==============================] - 0s 36ms/step - loss: 209.3796\n",
            "Epoch 23/40\n",
            "1/1 [==============================] - 0s 39ms/step - loss: 360.8073\n",
            "Epoch 24/40\n",
            "1/1 [==============================] - 0s 37ms/step - loss: 442.6345\n",
            "Epoch 25/40\n",
            "1/1 [==============================] - 0s 37ms/step - loss: 438.6253\n",
            "Epoch 26/40\n",
            "1/1 [==============================] - 0s 54ms/step - loss: 367.7016\n",
            "Epoch 27/40\n",
            "1/1 [==============================] - 0s 44ms/step - loss: 263.8285\n",
            "Epoch 28/40\n",
            "1/1 [==============================] - 0s 43ms/step - loss: 152.3141\n",
            "Epoch 29/40\n",
            "1/1 [==============================] - 0s 50ms/step - loss: 57.0581\n",
            "Epoch 30/40\n",
            "1/1 [==============================] - 0s 36ms/step - loss: 4.1547\n",
            "Epoch 31/40\n",
            "1/1 [==============================] - 0s 35ms/step - loss: 27.6746\n",
            "Epoch 32/40\n",
            "1/1 [==============================] - 0s 36ms/step - loss: 90.0211\n",
            "Epoch 33/40\n",
            "1/1 [==============================] - 0s 44ms/step - loss: 132.3826\n",
            "Epoch 34/40\n",
            "1/1 [==============================] - 0s 40ms/step - loss: 117.6120\n",
            "Epoch 35/40\n",
            "1/1 [==============================] - 0s 50ms/step - loss: 88.4058\n",
            "Epoch 36/40\n",
            "1/1 [==============================] - 0s 38ms/step - loss: 54.8228\n",
            "Epoch 37/40\n",
            "1/1 [==============================] - 0s 33ms/step - loss: 23.2023\n",
            "Epoch 38/40\n",
            "1/1 [==============================] - 0s 30ms/step - loss: 4.6992\n",
            "Epoch 39/40\n",
            "1/1 [==============================] - 0s 33ms/step - loss: 2.8536\n",
            "Epoch 40/40\n",
            "1/1 [==============================] - 0s 37ms/step - loss: 13.3385\n",
            "1/1 [==============================] - 1s 538ms/step\n",
            "1/1 [==============================] - 0s 29ms/step\n",
            "1/1 [==============================] - 0s 30ms/step\n",
            "Predicted values with a window size of 6: [136.82545, 146.57935, 156.35835]\n"
          ]
        }
      ]
    },
    {
      "cell_type": "code",
      "source": [],
      "metadata": {
        "id": "L2VEdG030dGk"
      },
      "execution_count": null,
      "outputs": []
    }
  ]
}