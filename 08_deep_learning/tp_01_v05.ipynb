{
  "nbformat": 4,
  "nbformat_minor": 0,
  "metadata": {
    "colab": {
      "provenance": [],
      "authorship_tag": "ABX9TyMIthqkhwpZDzfvr+1YkKVe",
      "include_colab_link": true
    },
    "kernelspec": {
      "name": "python3",
      "display_name": "Python 3"
    },
    "language_info": {
      "name": "python"
    }
  },
  "cells": [
    {
      "cell_type": "markdown",
      "metadata": {
        "id": "view-in-github",
        "colab_type": "text"
      },
      "source": [
        "<a href=\"https://colab.research.google.com/github/rennyatwork/CegepSteFoy_IA/blob/main/08_deep_learning/tp_01_v05.ipynb\" target=\"_parent\"><img src=\"https://colab.research.google.com/assets/colab-badge.svg\" alt=\"Open In Colab\"/></a>"
      ]
    },
    {
      "cell_type": "code",
      "execution_count": 48,
      "metadata": {
        "id": "-nNNWGeBjaTU"
      },
      "outputs": [],
      "source": [
        "import pandas as pd\n",
        "from tensorflow.keras.layers import Dense, Dropout, Activation\n",
        "from tensorflow.keras.models import Model, Sequential\n",
        "from tensorflow.keras.optimizers import Adam\n",
        "#import tensorflow.keras.optimizers\n",
        "from sklearn.model_selection import train_test_split\n",
        "import matplotlib.pyplot as plt\n",
        "from keras.wrappers.scikit_learn import KerasRegressor\n",
        "from scipy.stats import reciprocal\n",
        "from sklearn.model_selection import RandomizedSearchCV\n",
        "import keras as keras\n",
        "from sklearn.metrics import mean_squared_error, r2_score\n",
        "from sklearn.preprocessing import StandardScaler\n",
        "import numpy as np\n",
        "from keras.callbacks import ModelCheckpoint\n",
        "import seaborn as sns\n",
        "from sklearn import linear_model\n",
        "from sklearn.dummy import DummyRegressor\n",
        "from sklearn import metrics\n",
        "import math"
      ]
    },
    {
      "cell_type": "code",
      "source": [
        "#!pip install tensorflow"
      ],
      "metadata": {
        "id": "cHIhn2w5j_tP"
      },
      "execution_count": null,
      "outputs": []
    },
    {
      "cell_type": "code",
      "source": [
        "## column to predict\n",
        "y_col = 'TotalScore'"
      ],
      "metadata": {
        "id": "p786NNFLx_sZ"
      },
      "execution_count": 2,
      "outputs": []
    },
    {
      "cell_type": "code",
      "source": [
        "def get_df_from_csv(p_path, p_sep=',', p_print=True):\n",
        "  df= pd.read_csv(p_path, sep= p_sep)\n",
        "  if (p_print):\n",
        "    print('---Head---')\n",
        "    print(df.head())\n",
        "    print('-- How many nulls? --')\n",
        "    print(df.isna().sum())\n",
        "  return df\n"
      ],
      "metadata": {
        "id": "SbY3CQeq2GHy"
      },
      "execution_count": 3,
      "outputs": []
    },
    {
      "cell_type": "code",
      "source": [
        "## Augmented df\n",
        "def get_augmented_df():\n",
        "  ## head 400001\n",
        "  path_csv = \"https://raw.githubusercontent.com/rennyatwork/CegepSteFoy_IA/main/08_deep_learning/data/AugmentedData_reduced.csv\"\n",
        "  augmented_df_1 = get_df_from_csv(path_csv, p_sep =\",\")\n",
        "  ## tail 284000\n",
        "  path_csv = \"https://raw.githubusercontent.com/rennyatwork/CegepSteFoy_IA/main/08_deep_learning/data/AugemntedData_reduced_tail.csv\"\n",
        "  augmented_df_2 = get_df_from_csv(path_csv, p_sep =\",\")\n",
        "\n",
        "  return pd.concat([augmented_df_1, augmented_df_2])"
      ],
      "metadata": {
        "id": "YwmzYC1wkP_2"
      },
      "execution_count": 4,
      "outputs": []
    },
    {
      "cell_type": "code",
      "source": [
        "## augmented_df (full augmented_df)\n",
        "augmented_df = get_augmented_df()"
      ],
      "metadata": {
        "colab": {
          "base_uri": "https://localhost:8080/"
        },
        "id": "7C7HxmObut6s",
        "outputId": "215b307e-26cc-4be2-851c-38d7a05c0cfb"
      },
      "execution_count": 5,
      "outputs": [
        {
          "output_type": "stream",
          "name": "stdout",
          "text": [
            "---Head---\n",
            "   GameID  ScenarioID  HolesCompletedCount  Hole1  Hole2  Hole3  Hole4  Hole5  \\\n",
            "0       1           1                    0      0      0      0      0      0   \n",
            "1       2           1                    0      0      0      0      0      0   \n",
            "2       3           1                    0      0      0      0      0      0   \n",
            "3       4           1                    0      0      0      0      0      0   \n",
            "4       5           1                    0      0      0      0      0      0   \n",
            "\n",
            "   Hole6  Hole7  ...  Hole10  Hole11  Hole12  Hole13  Hole14  Hole15  Hole16  \\\n",
            "0      0      0  ...       0       0       0       0       0       0       0   \n",
            "1      0      0  ...       0       0       0       0       0       0       0   \n",
            "2      0      0  ...       0       0       0       0       0       0       0   \n",
            "3      0      0  ...       0       0       0       0       0       0       0   \n",
            "4      0      0  ...       0       0       0       0       0       0       0   \n",
            "\n",
            "   Hole17  Hole18  TotalScore  \n",
            "0       0       0          85  \n",
            "1       0       0          77  \n",
            "2       0       0          83  \n",
            "3       0       0          86  \n",
            "4       0       0          87  \n",
            "\n",
            "[5 rows x 22 columns]\n",
            "-- How many nulls? --\n",
            "GameID                 0\n",
            "ScenarioID             0\n",
            "HolesCompletedCount    0\n",
            "Hole1                  0\n",
            "Hole2                  0\n",
            "Hole3                  0\n",
            "Hole4                  0\n",
            "Hole5                  0\n",
            "Hole6                  0\n",
            "Hole7                  0\n",
            "Hole8                  0\n",
            "Hole9                  0\n",
            "Hole10                 0\n",
            "Hole11                 0\n",
            "Hole12                 0\n",
            "Hole13                 0\n",
            "Hole14                 0\n",
            "Hole15                 0\n",
            "Hole16                 0\n",
            "Hole17                 0\n",
            "Hole18                 0\n",
            "TotalScore             0\n",
            "dtype: int64\n",
            "---Head---\n",
            "   1  201  10  4  6  0  0.1  0.2  0.3  0.4  ...  0.7  5  4.1  4.2  6.1  4.3  \\\n",
            "0  2  201  10  3  5  0    0    0    0    0  ...    0  5    5    4    5    3   \n",
            "1  3  201  10  5  4  0    0    0    0    0  ...    0  6    5    4    5    3   \n",
            "2  4  201  10  4  4  0    0    0    0    0  ...    0  5    7    4    6    3   \n",
            "3  5  201  10  4  7  0    0    0    0    0  ...    0  9    6    3    5    4   \n",
            "4  6  201  10  4  5  0    0    0    0    0  ...    0  5    4    3    5    4   \n",
            "\n",
            "   5.1  4.4  6.2  85  \n",
            "0    4    3    4  77  \n",
            "1    5    3    3  83  \n",
            "2    6    3    4  86  \n",
            "3    5    3    4  87  \n",
            "4    4    6    5  83  \n",
            "\n",
            "[5 rows x 22 columns]\n",
            "-- How many nulls? --\n",
            "1      0\n",
            "201    0\n",
            "10     0\n",
            "4      0\n",
            "6      0\n",
            "0      0\n",
            "0.1    0\n",
            "0.2    0\n",
            "0.3    0\n",
            "0.4    0\n",
            "0.5    0\n",
            "0.6    0\n",
            "0.7    0\n",
            "5      0\n",
            "4.1    0\n",
            "4.2    0\n",
            "6.1    0\n",
            "4.3    0\n",
            "5.1    0\n",
            "4.4    0\n",
            "6.2    0\n",
            "85     0\n",
            "dtype: int64\n"
          ]
        }
      ]
    },
    {
      "cell_type": "code",
      "source": [
        "## nulls?\n",
        "print(augmented_df.isnull().sum())\n",
        "print(augmented_df[y_col].mode())\n"
      ],
      "metadata": {
        "colab": {
          "base_uri": "https://localhost:8080/"
        },
        "id": "aIgBf_Mevsul",
        "outputId": "75c908b2-ee19-48a2-d2a1-85193bea3aed"
      },
      "execution_count": 6,
      "outputs": [
        {
          "output_type": "stream",
          "name": "stdout",
          "text": [
            "GameID                 283999\n",
            "ScenarioID             283999\n",
            "HolesCompletedCount    283999\n",
            "Hole1                  283999\n",
            "Hole2                  283999\n",
            "Hole3                  283999\n",
            "Hole4                  283999\n",
            "Hole5                  283999\n",
            "Hole6                  283999\n",
            "Hole7                  283999\n",
            "Hole8                  283999\n",
            "Hole9                  283999\n",
            "Hole10                 283999\n",
            "Hole11                 283999\n",
            "Hole12                 283999\n",
            "Hole13                 283999\n",
            "Hole14                 283999\n",
            "Hole15                 283999\n",
            "Hole16                 283999\n",
            "Hole17                 283999\n",
            "Hole18                 283999\n",
            "TotalScore             283999\n",
            "1                      400000\n",
            "201                    400000\n",
            "10                     400000\n",
            "4                      400000\n",
            "6                      400000\n",
            "0                      400000\n",
            "0.1                    400000\n",
            "0.2                    400000\n",
            "0.3                    400000\n",
            "0.4                    400000\n",
            "0.5                    400000\n",
            "0.6                    400000\n",
            "0.7                    400000\n",
            "5                      400000\n",
            "4.1                    400000\n",
            "4.2                    400000\n",
            "6.1                    400000\n",
            "4.3                    400000\n",
            "5.1                    400000\n",
            "4.4                    400000\n",
            "6.2                    400000\n",
            "85                     400000\n",
            "dtype: int64\n",
            "0    83.0\n",
            "Name: TotalScore, dtype: float64\n"
          ]
        }
      ]
    },
    {
      "cell_type": "code",
      "source": [
        "### several nulls...\n",
        "### Let's create a function to replace nulls with most frequent values\n",
        "\n",
        "def get_df_without_nulls(p_df):\n",
        "  for col in p_df.columns:\n",
        "    most_frequent_value = p_df[col].mode()[0]\n",
        "    p_df[col].fillna(most_frequent_value, inplace=True)\n",
        "  return p_df\n"
      ],
      "metadata": {
        "id": "rKV2_gdu03bt"
      },
      "execution_count": 7,
      "outputs": []
    },
    {
      "cell_type": "code",
      "source": [
        "#### still any nulls?\n",
        "augmented_df2 = get_df_without_nulls(augmented_df)\n",
        "\n",
        "print(augmented_df2.isnull().sum())\n",
        "print(augmented_df2[y_col].mode())"
      ],
      "metadata": {
        "colab": {
          "base_uri": "https://localhost:8080/"
        },
        "id": "fGK8uzcw1p9S",
        "outputId": "d73065f9-d76c-4994-edfb-9792f2b7fc91"
      },
      "execution_count": 8,
      "outputs": [
        {
          "output_type": "stream",
          "name": "stdout",
          "text": [
            "GameID                 0\n",
            "ScenarioID             0\n",
            "HolesCompletedCount    0\n",
            "Hole1                  0\n",
            "Hole2                  0\n",
            "Hole3                  0\n",
            "Hole4                  0\n",
            "Hole5                  0\n",
            "Hole6                  0\n",
            "Hole7                  0\n",
            "Hole8                  0\n",
            "Hole9                  0\n",
            "Hole10                 0\n",
            "Hole11                 0\n",
            "Hole12                 0\n",
            "Hole13                 0\n",
            "Hole14                 0\n",
            "Hole15                 0\n",
            "Hole16                 0\n",
            "Hole17                 0\n",
            "Hole18                 0\n",
            "TotalScore             0\n",
            "1                      0\n",
            "201                    0\n",
            "10                     0\n",
            "4                      0\n",
            "6                      0\n",
            "0                      0\n",
            "0.1                    0\n",
            "0.2                    0\n",
            "0.3                    0\n",
            "0.4                    0\n",
            "0.5                    0\n",
            "0.6                    0\n",
            "0.7                    0\n",
            "5                      0\n",
            "4.1                    0\n",
            "4.2                    0\n",
            "6.1                    0\n",
            "4.3                    0\n",
            "5.1                    0\n",
            "4.4                    0\n",
            "6.2                    0\n",
            "85                     0\n",
            "dtype: int64\n",
            "0    83.0\n",
            "Name: TotalScore, dtype: float64\n"
          ]
        }
      ]
    },
    {
      "cell_type": "code",
      "source": [
        "## Original df\n",
        "path_csv = \"https://raw.githubusercontent.com/rennyatwork/CegepSteFoy_IA/main/08_deep_learning/data/OriginalData.csv\"\n",
        "original_df = get_df_from_csv(path_csv, p_sep =\",\")"
      ],
      "metadata": {
        "colab": {
          "base_uri": "https://localhost:8080/"
        },
        "id": "QumhWLveknb8",
        "outputId": "f1320ecf-9a8e-4c28-c054-2629d15d7a10"
      },
      "execution_count": 9,
      "outputs": [
        {
          "output_type": "stream",
          "name": "stdout",
          "text": [
            "---Head---\n",
            "   GameID  Hole1  Hole2  Hole3  Hole4  Hole5  Hole6  Hole7  Hole8  Hole9  \\\n",
            "0       1      4      6      5      4      6      5      5      3      5   \n",
            "1       2      3      5      4      4      5      5      6      3      4   \n",
            "2       3      5      4      6      4      7      4      5      3      5   \n",
            "3       4      4      4      7      3      6      4      4      4      5   \n",
            "4       5      4      7      6      4      5      4      5      3      4   \n",
            "\n",
            "   Hole10  Hole11  Hole12  Hole13  Hole14  Hole15  Hole16  Hole17  Hole18  \\\n",
            "0       4       5       4       4       6       4       5       4       6   \n",
            "1       5       5       5       4       5       3       4       3       4   \n",
            "2       6       6       5       4       5       3       5       3       3   \n",
            "3       7       5       7       4       6       3       6       3       4   \n",
            "4       6       9       6       3       5       4       5       3       4   \n",
            "\n",
            "   TotalScore  \n",
            "0          85  \n",
            "1          77  \n",
            "2          83  \n",
            "3          86  \n",
            "4          87  \n",
            "-- How many nulls? --\n",
            "GameID        0\n",
            "Hole1         0\n",
            "Hole2         0\n",
            "Hole3         0\n",
            "Hole4         0\n",
            "Hole5         0\n",
            "Hole6         0\n",
            "Hole7         0\n",
            "Hole8         0\n",
            "Hole9         0\n",
            "Hole10        0\n",
            "Hole11        0\n",
            "Hole12        0\n",
            "Hole13        0\n",
            "Hole14        0\n",
            "Hole15        0\n",
            "Hole16        0\n",
            "Hole17        0\n",
            "Hole18        0\n",
            "TotalScore    0\n",
            "dtype: int64\n"
          ]
        }
      ]
    },
    {
      "cell_type": "code",
      "source": [
        "## nulls?\n",
        "original_df.isna().sum()"
      ],
      "metadata": {
        "colab": {
          "base_uri": "https://localhost:8080/"
        },
        "id": "u6RjTivzwTMb",
        "outputId": "017f1307-6e7b-4a2f-9310-705709c02504"
      },
      "execution_count": 10,
      "outputs": [
        {
          "output_type": "execute_result",
          "data": {
            "text/plain": [
              "GameID        0\n",
              "Hole1         0\n",
              "Hole2         0\n",
              "Hole3         0\n",
              "Hole4         0\n",
              "Hole5         0\n",
              "Hole6         0\n",
              "Hole7         0\n",
              "Hole8         0\n",
              "Hole9         0\n",
              "Hole10        0\n",
              "Hole11        0\n",
              "Hole12        0\n",
              "Hole13        0\n",
              "Hole14        0\n",
              "Hole15        0\n",
              "Hole16        0\n",
              "Hole17        0\n",
              "Hole18        0\n",
              "TotalScore    0\n",
              "dtype: int64"
            ]
          },
          "metadata": {},
          "execution_count": 10
        }
      ]
    },
    {
      "cell_type": "code",
      "source": [
        "## most frequent value?\n",
        "print(original_df[y_col].mode())\n",
        "print(original_df[y_col].mean())"
      ],
      "metadata": {
        "colab": {
          "base_uri": "https://localhost:8080/"
        },
        "id": "vljJ2IE1xzRW",
        "outputId": "b91d92b0-c86d-47c2-fb07-ac7dfe97d457"
      },
      "execution_count": null,
      "outputs": [
        {
          "output_type": "stream",
          "name": "stdout",
          "text": [
            "0    83\n",
            "Name: TotalScore, dtype: int64\n",
            "83.0655\n"
          ]
        }
      ]
    },
    {
      "cell_type": "code",
      "source": [
        "## naïve prediction (baseline) can be original_df[y_col].mode(), original_df[y_col].mean()"
      ],
      "metadata": {
        "id": "4opXeclzzkqD"
      },
      "execution_count": null,
      "outputs": []
    },
    {
      "cell_type": "code",
      "source": [
        "## train test split\n",
        "## we apply the scaler\n",
        "def get_train_test(pDf=original_df, p_var_y=y_col, p_test_size=0.2, p_random_state=25):\n",
        "  dfX = pDf.drop(p_var_y, axis=1).values\n",
        "  dfY = pDf[p_var_y]\n",
        "\n",
        "  # Apply standardization to feature values\n",
        "  scaler = StandardScaler()\n",
        "  dfX_standardized = scaler.fit_transform(dfX)\n",
        "\n",
        "  X_train, X_test, y_train, y_test = train_test_split(dfX, dfY, test_size=p_test_size, random_state=p_random_state)\n",
        "  X_train, X_valid, y_train, y_valid = train_test_split(X_train, y_train, test_size=p_test_size, random_state=p_random_state)\n",
        "\n",
        "  return X_train, X_valid, X_test, y_train, y_valid, y_test\n"
      ],
      "metadata": {
        "id": "8DPZWAKFkqeb"
      },
      "execution_count": 11,
      "outputs": []
    },
    {
      "cell_type": "code",
      "source": [],
      "metadata": {
        "id": "3x_z5OH2vHdw"
      },
      "execution_count": null,
      "outputs": []
    },
    {
      "cell_type": "markdown",
      "source": [
        "########## Establishing a baseline #########"
      ],
      "metadata": {
        "id": "4Pk6Qjfq3Xim"
      }
    },
    {
      "cell_type": "code",
      "source": [
        "def analyze_dummy(p_df, p_X_train, p_X_valid, p_y_train ,p_y_valid):\n",
        "  baseline_reg = DummyRegressor()\n",
        "  baseline_reg.fit(p_X_train, p_y_train)\n",
        "  print(\"[score train]\", baseline_reg.score(p_X_train, p_y_train))\n",
        "  print(\"[score valid]\", baseline_reg.score(p_X_valid, p_y_valid))\n",
        "\n",
        "  y_pred = baseline_reg.predict(p_y_valid)\n",
        "\n",
        "  print('Root Mean Squared Error - [RMSE]:', round(np.sqrt(metrics.mean_squared_error(p_y_valid, y_pred)),3) )\n",
        "  print('Mean Squared Error - [MSE]:', round(metrics.mean_squared_error(p_y_valid, y_pred),3) )\n",
        "\n"
      ],
      "metadata": {
        "id": "-SuoLH0c3Dv4"
      },
      "execution_count": 12,
      "outputs": []
    },
    {
      "cell_type": "code",
      "source": [
        "## augmented_df\n",
        "X_train, X_valid, X_test, y_train, y_valid, y_test = get_train_test(augmented_df2)\n",
        "analyze_dummy(augmented_df2, X_train, X_valid, y_train, y_valid)"
      ],
      "metadata": {
        "colab": {
          "base_uri": "https://localhost:8080/"
        },
        "id": "0n3zcNFQ3DlL",
        "outputId": "5320f7e3-6263-469c-d1b1-b1a9fc87aa73"
      },
      "execution_count": 13,
      "outputs": [
        {
          "output_type": "stream",
          "name": "stdout",
          "text": [
            "[score train] 0.0\n",
            "[score valid] -2.5220723929519906e-05\n",
            "Root Mean Squared Error - [RMSE]: 5.351\n",
            "Mean Squared Error - [MSE]: 28.635\n"
          ]
        }
      ]
    },
    {
      "cell_type": "code",
      "source": [
        "## original df\n",
        "X_train, X_valid, X_test, y_train, y_valid, y_test = get_train_test(original_df)\n",
        "analyze_dummy(original_df, X_train, X_valid, y_train, y_valid)"
      ],
      "metadata": {
        "colab": {
          "base_uri": "https://localhost:8080/"
        },
        "id": "dRPa4S_IONrD",
        "outputId": "f69d6f83-763a-433a-e1f4-c39248bbe8fb"
      },
      "execution_count": null,
      "outputs": [
        {
          "output_type": "stream",
          "name": "stdout",
          "text": [
            "[score train] 0.0\n",
            "[score valid] -0.000796875625000304\n",
            "Root Mean Squared Error - [RMSE]: 7.06\n",
            "Mean Squared Error - [MSE]: 49.844\n"
          ]
        }
      ]
    },
    {
      "cell_type": "markdown",
      "source": [
        "#############################\n",
        "\n",
        "Our model must perform better than\n",
        "\n",
        "Root Mean Squared Error - [RMSE]: 5.351\n",
        "\n",
        "#############################\n"
      ],
      "metadata": {
        "id": "L2FaYWxU3er_"
      }
    },
    {
      "cell_type": "markdown",
      "source": [
        "####### Simple regression ######\n"
      ],
      "metadata": {
        "id": "CWpEL0BqVbtP"
      }
    },
    {
      "cell_type": "code",
      "source": [
        "from sklearn.linear_model import Ridge, RidgeCV\n",
        "from sklearn.linear_model import Lasso, LassoCV\n",
        "from sklearn.linear_model import ElasticNet, ElasticNetCV\n",
        "from sklearn.model_selection import cross_val_score"
      ],
      "metadata": {
        "id": "WfVhyDznWX0U"
      },
      "execution_count": 14,
      "outputs": []
    },
    {
      "cell_type": "code",
      "source": [
        "### affiche les metriques\n",
        "def print_metrics(pY, pYpred, nbDecimal=3 ):\n",
        "    #print('Mean Absolute Error - [MAE]:', round(metrics.mean_absolute_error(pY, pYpred), nbDecimal) )\n",
        "    print('Mean Squared Error - [MSE]:', round(metrics.mean_squared_error(pY, pYpred),nbDecimal ) )\n",
        "    #print('Score - [accuracy]: ', round(pRegressor.score(pY, pYpred), nbDecimal))\n",
        "    print('Root Mean Squared Error - [RMSE]:', round(np.sqrt(metrics.mean_squared_error(pY, pYpred)),nbDecimal) )\n",
        "    #print('[Classification report]')\n",
        "    #print(classification_report(pYtest, pYpred, labels = donnee['ozone'].unique()))\n"
      ],
      "metadata": {
        "id": "htEGWYCbXicZ"
      },
      "execution_count": 15,
      "outputs": []
    },
    {
      "cell_type": "code",
      "source": [
        "from sklearn.model_selection import LeaveOneOut\n",
        "def analyze_regression(p_X_train,\n",
        "                       p_X_test,\n",
        "                       p_y_train,\n",
        "                       p_y_test,\n",
        "                       pCv=4,\n",
        "                       pMaxIter=1000\n",
        "                       ):\n",
        "\n",
        "\n",
        "\n",
        "    print(\"-----[Linear Regression]-----\")\n",
        "    regr = linear_model.LinearRegression(fit_intercept=True)\n",
        "    regr.fit(p_X_train, p_y_train)\n",
        "\n",
        "\n",
        "\n",
        "    loo = LeaveOneOut()\n",
        "    #print(loo.get_n_splits(X))\n",
        "    #crossvalidation = KFold(n_splits=392, random_state=None, shuffle=False)\n",
        "\n",
        "    ##http://www.science.smith.edu/~jcrouser/SDS293/labs/lab7-py.html\n",
        "    scores_train = cross_val_score(regr, p_X_train, p_y_train, cv=loo, scoring=\"neg_mean_squared_error\")\n",
        "    mse_train = np.mean(np.abs(scores_train))\n",
        "    print(\"---[train]---\")\n",
        "    #print(\"[train] -   MSE: \" + str(mse_train) + \", STD: \" + str(np.std(scores_train)))\n",
        "    print(\"RMSE \", round(np.sqrt(mse_train),3) )\n",
        "    print(\"MSE \", round(mse_train,3))\n",
        "    #print(\"score \", round(np.std(scores_train),3) )\n",
        "\n",
        "\n",
        "    scores_test = cross_val_score(regr, p_X_test, p_y_test, cv=loo, scoring=\"neg_mean_squared_error\")\n",
        "    mse_test = np.mean(np.abs(scores_test))\n",
        "    print(\"---[test]---\")\n",
        "    #print(\"[test] -   MSE: \" + str(mse_test) + \", STD: \" + str(np.std(scores_test)))\n",
        "    print(\"RMSE \", round(np.sqrt(mse_test),5 ))\n",
        "    print(\"MSE \", round(mse_test,5))\n",
        "    #print(\"score \", round(np.std(scores_test),3) )\n",
        "\n",
        "\n",
        "    y_pred_train = regr.predict(p_X_train)\n",
        "    y_pred_test = regr.predict(p_X_test)\n",
        "\n",
        "    print(\"---[train]---\")\n",
        "    print_metrics(p_y_train, y_pred_train)\n",
        "\n",
        "    print(\"---[test]---\")\n",
        "    #print(\"[score]: \",  regr.score(X_test, y_test))\n",
        "    print_metrics(p_y_test, y_pred_test)\n",
        "\n"
      ],
      "metadata": {
        "id": "rwtEnEM_Y8JE"
      },
      "execution_count": 16,
      "outputs": []
    },
    {
      "cell_type": "code",
      "source": [
        "## regression\n",
        "analyze_regression(p_X_train = X_train,\n",
        "                       p_X_test = X_valid,\n",
        "                       p_y_train = y_train,\n",
        "                       p_y_test = y_valid,\n",
        "                   pMaxIter=5)"
      ],
      "metadata": {
        "colab": {
          "base_uri": "https://localhost:8080/",
          "height": 425
        },
        "id": "V7mR-t9qaUPn",
        "outputId": "fe388c8b-d206-45ae-9d79-0be7c0c557f4"
      },
      "execution_count": 19,
      "outputs": [
        {
          "output_type": "stream",
          "name": "stdout",
          "text": [
            "-----[Linear Regression]-----\n"
          ]
        },
        {
          "output_type": "error",
          "ename": "KeyboardInterrupt",
          "evalue": "ignored",
          "traceback": [
            "\u001b[0;31m---------------------------------------------------------------------------\u001b[0m",
            "\u001b[0;31mKeyboardInterrupt\u001b[0m                         Traceback (most recent call last)",
            "\u001b[0;32m<ipython-input-19-f5981fd6de30>\u001b[0m in \u001b[0;36m<cell line: 2>\u001b[0;34m()\u001b[0m\n\u001b[1;32m      1\u001b[0m \u001b[0;31m## regression\u001b[0m\u001b[0;34m\u001b[0m\u001b[0;34m\u001b[0m\u001b[0m\n\u001b[0;32m----> 2\u001b[0;31m analyze_regression(p_X_train = X_train,\n\u001b[0m\u001b[1;32m      3\u001b[0m                        \u001b[0mp_X_test\u001b[0m \u001b[0;34m=\u001b[0m \u001b[0mX_valid\u001b[0m\u001b[0;34m,\u001b[0m\u001b[0;34m\u001b[0m\u001b[0;34m\u001b[0m\u001b[0m\n\u001b[1;32m      4\u001b[0m                        \u001b[0mp_y_train\u001b[0m \u001b[0;34m=\u001b[0m \u001b[0my_train\u001b[0m\u001b[0;34m,\u001b[0m\u001b[0;34m\u001b[0m\u001b[0;34m\u001b[0m\u001b[0m\n\u001b[1;32m      5\u001b[0m                        \u001b[0mp_y_test\u001b[0m \u001b[0;34m=\u001b[0m \u001b[0my_valid\u001b[0m\u001b[0;34m,\u001b[0m\u001b[0;34m\u001b[0m\u001b[0;34m\u001b[0m\u001b[0m\n",
            "\u001b[0;32m<ipython-input-16-4ed86743a4f8>\u001b[0m in \u001b[0;36manalyze_regression\u001b[0;34m(p_X_train, p_X_test, p_y_train, p_y_test, pCv, pMaxIter)\u001b[0m\n\u001b[1;32m     21\u001b[0m \u001b[0;34m\u001b[0m\u001b[0m\n\u001b[1;32m     22\u001b[0m     \u001b[0;31m##http://www.science.smith.edu/~jcrouser/SDS293/labs/lab7-py.html\u001b[0m\u001b[0;34m\u001b[0m\u001b[0;34m\u001b[0m\u001b[0m\n\u001b[0;32m---> 23\u001b[0;31m     \u001b[0mscores_train\u001b[0m \u001b[0;34m=\u001b[0m \u001b[0mcross_val_score\u001b[0m\u001b[0;34m(\u001b[0m\u001b[0mregr\u001b[0m\u001b[0;34m,\u001b[0m \u001b[0mp_X_train\u001b[0m\u001b[0;34m,\u001b[0m \u001b[0mp_y_train\u001b[0m\u001b[0;34m,\u001b[0m \u001b[0mcv\u001b[0m\u001b[0;34m=\u001b[0m\u001b[0mloo\u001b[0m\u001b[0;34m,\u001b[0m \u001b[0mscoring\u001b[0m\u001b[0;34m=\u001b[0m\u001b[0;34m\"neg_mean_squared_error\"\u001b[0m\u001b[0;34m)\u001b[0m\u001b[0;34m\u001b[0m\u001b[0;34m\u001b[0m\u001b[0m\n\u001b[0m\u001b[1;32m     24\u001b[0m     \u001b[0mmse_train\u001b[0m \u001b[0;34m=\u001b[0m \u001b[0mnp\u001b[0m\u001b[0;34m.\u001b[0m\u001b[0mmean\u001b[0m\u001b[0;34m(\u001b[0m\u001b[0mnp\u001b[0m\u001b[0;34m.\u001b[0m\u001b[0mabs\u001b[0m\u001b[0;34m(\u001b[0m\u001b[0mscores_train\u001b[0m\u001b[0;34m)\u001b[0m\u001b[0;34m)\u001b[0m\u001b[0;34m\u001b[0m\u001b[0;34m\u001b[0m\u001b[0m\n\u001b[1;32m     25\u001b[0m     \u001b[0mprint\u001b[0m\u001b[0;34m(\u001b[0m\u001b[0;34m\"---[train]---\"\u001b[0m\u001b[0;34m)\u001b[0m\u001b[0;34m\u001b[0m\u001b[0;34m\u001b[0m\u001b[0m\n",
            "\u001b[0;32m/usr/local/lib/python3.10/dist-packages/sklearn/model_selection/_validation.py\u001b[0m in \u001b[0;36mcross_val_score\u001b[0;34m(estimator, X, y, groups, scoring, cv, n_jobs, verbose, fit_params, pre_dispatch, error_score)\u001b[0m\n\u001b[1;32m    513\u001b[0m     \u001b[0mscorer\u001b[0m \u001b[0;34m=\u001b[0m \u001b[0mcheck_scoring\u001b[0m\u001b[0;34m(\u001b[0m\u001b[0mestimator\u001b[0m\u001b[0;34m,\u001b[0m \u001b[0mscoring\u001b[0m\u001b[0;34m=\u001b[0m\u001b[0mscoring\u001b[0m\u001b[0;34m)\u001b[0m\u001b[0;34m\u001b[0m\u001b[0;34m\u001b[0m\u001b[0m\n\u001b[1;32m    514\u001b[0m \u001b[0;34m\u001b[0m\u001b[0m\n\u001b[0;32m--> 515\u001b[0;31m     cv_results = cross_validate(\n\u001b[0m\u001b[1;32m    516\u001b[0m         \u001b[0mestimator\u001b[0m\u001b[0;34m=\u001b[0m\u001b[0mestimator\u001b[0m\u001b[0;34m,\u001b[0m\u001b[0;34m\u001b[0m\u001b[0;34m\u001b[0m\u001b[0m\n\u001b[1;32m    517\u001b[0m         \u001b[0mX\u001b[0m\u001b[0;34m=\u001b[0m\u001b[0mX\u001b[0m\u001b[0;34m,\u001b[0m\u001b[0;34m\u001b[0m\u001b[0;34m\u001b[0m\u001b[0m\n",
            "\u001b[0;32m/usr/local/lib/python3.10/dist-packages/sklearn/model_selection/_validation.py\u001b[0m in \u001b[0;36mcross_validate\u001b[0;34m(estimator, X, y, groups, scoring, cv, n_jobs, verbose, fit_params, pre_dispatch, return_train_score, return_estimator, error_score)\u001b[0m\n\u001b[1;32m    264\u001b[0m     \u001b[0;31m# independent, and that it is pickle-able.\u001b[0m\u001b[0;34m\u001b[0m\u001b[0;34m\u001b[0m\u001b[0m\n\u001b[1;32m    265\u001b[0m     \u001b[0mparallel\u001b[0m \u001b[0;34m=\u001b[0m \u001b[0mParallel\u001b[0m\u001b[0;34m(\u001b[0m\u001b[0mn_jobs\u001b[0m\u001b[0;34m=\u001b[0m\u001b[0mn_jobs\u001b[0m\u001b[0;34m,\u001b[0m \u001b[0mverbose\u001b[0m\u001b[0;34m=\u001b[0m\u001b[0mverbose\u001b[0m\u001b[0;34m,\u001b[0m \u001b[0mpre_dispatch\u001b[0m\u001b[0;34m=\u001b[0m\u001b[0mpre_dispatch\u001b[0m\u001b[0;34m)\u001b[0m\u001b[0;34m\u001b[0m\u001b[0;34m\u001b[0m\u001b[0m\n\u001b[0;32m--> 266\u001b[0;31m     results = parallel(\n\u001b[0m\u001b[1;32m    267\u001b[0m         delayed(_fit_and_score)(\n\u001b[1;32m    268\u001b[0m             \u001b[0mclone\u001b[0m\u001b[0;34m(\u001b[0m\u001b[0mestimator\u001b[0m\u001b[0;34m)\u001b[0m\u001b[0;34m,\u001b[0m\u001b[0;34m\u001b[0m\u001b[0;34m\u001b[0m\u001b[0m\n",
            "\u001b[0;32m/usr/local/lib/python3.10/dist-packages/sklearn/utils/parallel.py\u001b[0m in \u001b[0;36m__call__\u001b[0;34m(self, iterable)\u001b[0m\n\u001b[1;32m     61\u001b[0m             \u001b[0;32mfor\u001b[0m \u001b[0mdelayed_func\u001b[0m\u001b[0;34m,\u001b[0m \u001b[0margs\u001b[0m\u001b[0;34m,\u001b[0m \u001b[0mkwargs\u001b[0m \u001b[0;32min\u001b[0m \u001b[0miterable\u001b[0m\u001b[0;34m\u001b[0m\u001b[0;34m\u001b[0m\u001b[0m\n\u001b[1;32m     62\u001b[0m         )\n\u001b[0;32m---> 63\u001b[0;31m         \u001b[0;32mreturn\u001b[0m \u001b[0msuper\u001b[0m\u001b[0;34m(\u001b[0m\u001b[0;34m)\u001b[0m\u001b[0;34m.\u001b[0m\u001b[0m__call__\u001b[0m\u001b[0;34m(\u001b[0m\u001b[0miterable_with_config\u001b[0m\u001b[0;34m)\u001b[0m\u001b[0;34m\u001b[0m\u001b[0;34m\u001b[0m\u001b[0m\n\u001b[0m\u001b[1;32m     64\u001b[0m \u001b[0;34m\u001b[0m\u001b[0m\n\u001b[1;32m     65\u001b[0m \u001b[0;34m\u001b[0m\u001b[0m\n",
            "\u001b[0;32m/usr/local/lib/python3.10/dist-packages/joblib/parallel.py\u001b[0m in \u001b[0;36m__call__\u001b[0;34m(self, iterable)\u001b[0m\n\u001b[1;32m   1861\u001b[0m             \u001b[0moutput\u001b[0m \u001b[0;34m=\u001b[0m \u001b[0mself\u001b[0m\u001b[0;34m.\u001b[0m\u001b[0m_get_sequential_output\u001b[0m\u001b[0;34m(\u001b[0m\u001b[0miterable\u001b[0m\u001b[0;34m)\u001b[0m\u001b[0;34m\u001b[0m\u001b[0;34m\u001b[0m\u001b[0m\n\u001b[1;32m   1862\u001b[0m             \u001b[0mnext\u001b[0m\u001b[0;34m(\u001b[0m\u001b[0moutput\u001b[0m\u001b[0;34m)\u001b[0m\u001b[0;34m\u001b[0m\u001b[0;34m\u001b[0m\u001b[0m\n\u001b[0;32m-> 1863\u001b[0;31m             \u001b[0;32mreturn\u001b[0m \u001b[0moutput\u001b[0m \u001b[0;32mif\u001b[0m \u001b[0mself\u001b[0m\u001b[0;34m.\u001b[0m\u001b[0mreturn_generator\u001b[0m \u001b[0;32melse\u001b[0m \u001b[0mlist\u001b[0m\u001b[0;34m(\u001b[0m\u001b[0moutput\u001b[0m\u001b[0;34m)\u001b[0m\u001b[0;34m\u001b[0m\u001b[0;34m\u001b[0m\u001b[0m\n\u001b[0m\u001b[1;32m   1864\u001b[0m \u001b[0;34m\u001b[0m\u001b[0m\n\u001b[1;32m   1865\u001b[0m         \u001b[0;31m# Let's create an ID that uniquely identifies the current call. If the\u001b[0m\u001b[0;34m\u001b[0m\u001b[0;34m\u001b[0m\u001b[0m\n",
            "\u001b[0;32m/usr/local/lib/python3.10/dist-packages/joblib/parallel.py\u001b[0m in \u001b[0;36m_get_sequential_output\u001b[0;34m(self, iterable)\u001b[0m\n\u001b[1;32m   1790\u001b[0m                 \u001b[0mself\u001b[0m\u001b[0;34m.\u001b[0m\u001b[0mn_dispatched_batches\u001b[0m \u001b[0;34m+=\u001b[0m \u001b[0;36m1\u001b[0m\u001b[0;34m\u001b[0m\u001b[0;34m\u001b[0m\u001b[0m\n\u001b[1;32m   1791\u001b[0m                 \u001b[0mself\u001b[0m\u001b[0;34m.\u001b[0m\u001b[0mn_dispatched_tasks\u001b[0m \u001b[0;34m+=\u001b[0m \u001b[0;36m1\u001b[0m\u001b[0;34m\u001b[0m\u001b[0;34m\u001b[0m\u001b[0m\n\u001b[0;32m-> 1792\u001b[0;31m                 \u001b[0mres\u001b[0m \u001b[0;34m=\u001b[0m \u001b[0mfunc\u001b[0m\u001b[0;34m(\u001b[0m\u001b[0;34m*\u001b[0m\u001b[0margs\u001b[0m\u001b[0;34m,\u001b[0m \u001b[0;34m**\u001b[0m\u001b[0mkwargs\u001b[0m\u001b[0;34m)\u001b[0m\u001b[0;34m\u001b[0m\u001b[0;34m\u001b[0m\u001b[0m\n\u001b[0m\u001b[1;32m   1793\u001b[0m                 \u001b[0mself\u001b[0m\u001b[0;34m.\u001b[0m\u001b[0mn_completed_tasks\u001b[0m \u001b[0;34m+=\u001b[0m \u001b[0;36m1\u001b[0m\u001b[0;34m\u001b[0m\u001b[0;34m\u001b[0m\u001b[0m\n\u001b[1;32m   1794\u001b[0m                 \u001b[0mself\u001b[0m\u001b[0;34m.\u001b[0m\u001b[0mprint_progress\u001b[0m\u001b[0;34m(\u001b[0m\u001b[0;34m)\u001b[0m\u001b[0;34m\u001b[0m\u001b[0;34m\u001b[0m\u001b[0m\n",
            "\u001b[0;32m/usr/local/lib/python3.10/dist-packages/sklearn/utils/parallel.py\u001b[0m in \u001b[0;36m__call__\u001b[0;34m(self, *args, **kwargs)\u001b[0m\n\u001b[1;32m    121\u001b[0m             \u001b[0mconfig\u001b[0m \u001b[0;34m=\u001b[0m \u001b[0;34m{\u001b[0m\u001b[0;34m}\u001b[0m\u001b[0;34m\u001b[0m\u001b[0;34m\u001b[0m\u001b[0m\n\u001b[1;32m    122\u001b[0m         \u001b[0;32mwith\u001b[0m \u001b[0mconfig_context\u001b[0m\u001b[0;34m(\u001b[0m\u001b[0;34m**\u001b[0m\u001b[0mconfig\u001b[0m\u001b[0;34m)\u001b[0m\u001b[0;34m:\u001b[0m\u001b[0;34m\u001b[0m\u001b[0;34m\u001b[0m\u001b[0m\n\u001b[0;32m--> 123\u001b[0;31m             \u001b[0;32mreturn\u001b[0m \u001b[0mself\u001b[0m\u001b[0;34m.\u001b[0m\u001b[0mfunction\u001b[0m\u001b[0;34m(\u001b[0m\u001b[0;34m*\u001b[0m\u001b[0margs\u001b[0m\u001b[0;34m,\u001b[0m \u001b[0;34m**\u001b[0m\u001b[0mkwargs\u001b[0m\u001b[0;34m)\u001b[0m\u001b[0;34m\u001b[0m\u001b[0;34m\u001b[0m\u001b[0m\n\u001b[0m",
            "\u001b[0;32m/usr/local/lib/python3.10/dist-packages/sklearn/model_selection/_validation.py\u001b[0m in \u001b[0;36m_fit_and_score\u001b[0;34m(estimator, X, y, scorer, train, test, verbose, parameters, fit_params, return_train_score, return_parameters, return_n_test_samples, return_times, return_estimator, split_progress, candidate_progress, error_score)\u001b[0m\n\u001b[1;32m    684\u001b[0m             \u001b[0mestimator\u001b[0m\u001b[0;34m.\u001b[0m\u001b[0mfit\u001b[0m\u001b[0;34m(\u001b[0m\u001b[0mX_train\u001b[0m\u001b[0;34m,\u001b[0m \u001b[0;34m**\u001b[0m\u001b[0mfit_params\u001b[0m\u001b[0;34m)\u001b[0m\u001b[0;34m\u001b[0m\u001b[0;34m\u001b[0m\u001b[0m\n\u001b[1;32m    685\u001b[0m         \u001b[0;32melse\u001b[0m\u001b[0;34m:\u001b[0m\u001b[0;34m\u001b[0m\u001b[0;34m\u001b[0m\u001b[0m\n\u001b[0;32m--> 686\u001b[0;31m             \u001b[0mestimator\u001b[0m\u001b[0;34m.\u001b[0m\u001b[0mfit\u001b[0m\u001b[0;34m(\u001b[0m\u001b[0mX_train\u001b[0m\u001b[0;34m,\u001b[0m \u001b[0my_train\u001b[0m\u001b[0;34m,\u001b[0m \u001b[0;34m**\u001b[0m\u001b[0mfit_params\u001b[0m\u001b[0;34m)\u001b[0m\u001b[0;34m\u001b[0m\u001b[0;34m\u001b[0m\u001b[0m\n\u001b[0m\u001b[1;32m    687\u001b[0m \u001b[0;34m\u001b[0m\u001b[0m\n\u001b[1;32m    688\u001b[0m     \u001b[0;32mexcept\u001b[0m \u001b[0mException\u001b[0m\u001b[0;34m:\u001b[0m\u001b[0;34m\u001b[0m\u001b[0;34m\u001b[0m\u001b[0m\n",
            "\u001b[0;32m/usr/local/lib/python3.10/dist-packages/sklearn/linear_model/_base.py\u001b[0m in \u001b[0;36mfit\u001b[0;34m(self, X, y, sample_weight)\u001b[0m\n\u001b[1;32m    697\u001b[0m                 \u001b[0mself\u001b[0m\u001b[0;34m.\u001b[0m\u001b[0mcoef_\u001b[0m \u001b[0;34m=\u001b[0m \u001b[0mnp\u001b[0m\u001b[0;34m.\u001b[0m\u001b[0mvstack\u001b[0m\u001b[0;34m(\u001b[0m\u001b[0;34m[\u001b[0m\u001b[0mout\u001b[0m\u001b[0;34m[\u001b[0m\u001b[0;36m0\u001b[0m\u001b[0;34m]\u001b[0m \u001b[0;32mfor\u001b[0m \u001b[0mout\u001b[0m \u001b[0;32min\u001b[0m \u001b[0mouts\u001b[0m\u001b[0;34m]\u001b[0m\u001b[0;34m)\u001b[0m\u001b[0;34m\u001b[0m\u001b[0;34m\u001b[0m\u001b[0m\n\u001b[1;32m    698\u001b[0m         \u001b[0;32melse\u001b[0m\u001b[0;34m:\u001b[0m\u001b[0;34m\u001b[0m\u001b[0;34m\u001b[0m\u001b[0m\n\u001b[0;32m--> 699\u001b[0;31m             \u001b[0mself\u001b[0m\u001b[0;34m.\u001b[0m\u001b[0mcoef_\u001b[0m\u001b[0;34m,\u001b[0m \u001b[0m_\u001b[0m\u001b[0;34m,\u001b[0m \u001b[0mself\u001b[0m\u001b[0;34m.\u001b[0m\u001b[0mrank_\u001b[0m\u001b[0;34m,\u001b[0m \u001b[0mself\u001b[0m\u001b[0;34m.\u001b[0m\u001b[0msingular_\u001b[0m \u001b[0;34m=\u001b[0m \u001b[0mlinalg\u001b[0m\u001b[0;34m.\u001b[0m\u001b[0mlstsq\u001b[0m\u001b[0;34m(\u001b[0m\u001b[0mX\u001b[0m\u001b[0;34m,\u001b[0m \u001b[0my\u001b[0m\u001b[0;34m)\u001b[0m\u001b[0;34m\u001b[0m\u001b[0;34m\u001b[0m\u001b[0m\n\u001b[0m\u001b[1;32m    700\u001b[0m             \u001b[0mself\u001b[0m\u001b[0;34m.\u001b[0m\u001b[0mcoef_\u001b[0m \u001b[0;34m=\u001b[0m \u001b[0mself\u001b[0m\u001b[0;34m.\u001b[0m\u001b[0mcoef_\u001b[0m\u001b[0;34m.\u001b[0m\u001b[0mT\u001b[0m\u001b[0;34m\u001b[0m\u001b[0;34m\u001b[0m\u001b[0m\n\u001b[1;32m    701\u001b[0m \u001b[0;34m\u001b[0m\u001b[0m\n",
            "\u001b[0;32m/usr/local/lib/python3.10/dist-packages/scipy/linalg/_basic.py\u001b[0m in \u001b[0;36mlstsq\u001b[0;34m(a, b, cond, overwrite_a, overwrite_b, check_finite, lapack_driver)\u001b[0m\n\u001b[1;32m   1211\u001b[0m             \u001b[0;32mif\u001b[0m \u001b[0mreal_data\u001b[0m\u001b[0;34m:\u001b[0m\u001b[0;34m\u001b[0m\u001b[0;34m\u001b[0m\u001b[0m\n\u001b[1;32m   1212\u001b[0m                 \u001b[0mlwork\u001b[0m\u001b[0;34m,\u001b[0m \u001b[0miwork\u001b[0m \u001b[0;34m=\u001b[0m \u001b[0m_compute_lwork\u001b[0m\u001b[0;34m(\u001b[0m\u001b[0mlapack_lwork\u001b[0m\u001b[0;34m,\u001b[0m \u001b[0mm\u001b[0m\u001b[0;34m,\u001b[0m \u001b[0mn\u001b[0m\u001b[0;34m,\u001b[0m \u001b[0mnrhs\u001b[0m\u001b[0;34m,\u001b[0m \u001b[0mcond\u001b[0m\u001b[0;34m)\u001b[0m\u001b[0;34m\u001b[0m\u001b[0;34m\u001b[0m\u001b[0m\n\u001b[0;32m-> 1213\u001b[0;31m                 x, s, rank, info = lapack_func(a1, b1, lwork,\n\u001b[0m\u001b[1;32m   1214\u001b[0m                                                iwork, cond, False, False)\n\u001b[1;32m   1215\u001b[0m             \u001b[0;32melse\u001b[0m\u001b[0;34m:\u001b[0m  \u001b[0;31m# complex data\u001b[0m\u001b[0;34m\u001b[0m\u001b[0;34m\u001b[0m\u001b[0m\n",
            "\u001b[0;31mKeyboardInterrupt\u001b[0m: "
          ]
        }
      ]
    },
    {
      "cell_type": "code",
      "source": [
        "### elasticnet, ridge, lasso\n",
        "def analyze_regularization(\n",
        "                    pAlphas\n",
        "                    , pRegressorName\n",
        "                    , pRegressorCVName\n",
        "                    , p_X_train\n",
        "                    , p_X_test\n",
        "                    , p_y_train\n",
        "                    , p_y_test\n",
        "                    , pCv=5\n",
        "                    , pMaxIter=5\n",
        "                    ):\n",
        "\n",
        "\n",
        "\n",
        "    print(\"----[\"+pRegressorName+\"]----\")\n",
        "    regr = globals()[pRegressorCVName](alphas=pAlphas, cv=pCv).fit(p_X_train, p_y_train)\n",
        "    #regr = linear_model.ElasticNetCV(alphas=pAlphas, cv=pCv).fit(X_train, y_train)\n",
        "\n",
        "    print(\"[alpha]: \", regr.alpha_)\n",
        "\n",
        "    modele_final = globals()[pRegressorName](regr.alpha_, max_iter=pMaxIter).fit(p_X_train, p_y_train)\n",
        "\n",
        "    y_pred_train = regr.predict(p_X_train)\n",
        "    y_pred_test = regr.predict(p_X_test)\n",
        "\n",
        "\n",
        "    print(\"---[train]---\")\n",
        "    print_metrics(p_y_train, y_pred_train)\n",
        "\n",
        "    print(\"---[test]---\")\n",
        "    #print(\"[score]: \",  regr.score(X_test, y_test))\n",
        "    print_metrics(p_y_test, y_pred_test)"
      ],
      "metadata": {
        "id": "_EV1Wx_fVay0"
      },
      "execution_count": null,
      "outputs": []
    },
    {
      "cell_type": "code",
      "source": [
        "type(original_df)"
      ],
      "metadata": {
        "colab": {
          "base_uri": "https://localhost:8080/"
        },
        "id": "AiouGc-BYbFL",
        "outputId": "1170c66a-d056-49eb-b1d6-9ff2c26ee7f5"
      },
      "execution_count": null,
      "outputs": [
        {
          "output_type": "execute_result",
          "data": {
            "text/plain": [
              "pandas.core.frame.DataFrame"
            ]
          },
          "metadata": {},
          "execution_count": 155
        }
      ]
    },
    {
      "cell_type": "code",
      "source": [
        "### Ridge avec var exponnentielles\n",
        "lstAlpha = [0.5, 0.8, 1, 1.2, 1.3]\n",
        "#analyze_ridge(powerDfX, dfY, lstAlpha)\n",
        "#lstAlpha = [  7, 8, 8.4, 8.5, 8.6,  10, 10.5]\n",
        "analyze_regularization( lstAlpha\n",
        "                       , pRegressorName = \"Ridge\"\n",
        "                       , pRegressorCVName = \"RidgeCV\"\n",
        "                       , p_X_train = X_train\n",
        "                       , p_X_test = X_valid\n",
        "                       , p_y_train = y_train\n",
        "                       , p_y_test = y_valid\n",
        "                      )"
      ],
      "metadata": {
        "colab": {
          "base_uri": "https://localhost:8080/"
        },
        "id": "mXkKqSTaWvAZ",
        "outputId": "65a9bcee-0038-4d08-fed1-237c0a1e5896"
      },
      "execution_count": null,
      "outputs": [
        {
          "output_type": "stream",
          "name": "stdout",
          "text": [
            "----[Ridge]----\n",
            "[alpha]:  0.5\n",
            "---[train]---\n",
            "Mean Squared Error - [MSE]: 0.0\n",
            "Root Mean Squared Error - [RMSE]: 0.001\n",
            "---[test]---\n",
            "Mean Squared Error - [MSE]: 0.0\n",
            "Root Mean Squared Error - [RMSE]: 0.001\n"
          ]
        }
      ]
    },
    {
      "cell_type": "markdown",
      "source": [
        "###################\n"
      ],
      "metadata": {
        "id": "iHm4CzgPVdAX"
      }
    },
    {
      "cell_type": "code",
      "source": [
        "## create model\n",
        "def create_model (p_learning_rate, p_dropout_rate, pDfX, p_nb_neuron_input=128, p_activation='relu'):\n",
        "  model = Sequential()\n",
        "  model.add(Dense(p_nb_neuron_input, input_dim=pDfX.shape[1], activation=p_activation))\n",
        "  model.add(Dropout(p_dropout_rate))\n",
        "  model.add(Dense(int(p_nb_neuron_input/2), activation=p_activation))\n",
        "  model.add(Dropout(p_dropout_rate))\n",
        "  model.add(Dense(int(p_nb_neuron_input/4), activation=p_activation))\n",
        "  model.add(Dropout(p_dropout_rate))\n",
        "  model.add(Dense(1))\n",
        "\n",
        "  adam = Adam(lr = p_learning_rate)\n",
        "\n",
        "  #model.compile( loss='mean_squared_error', optimizer=adam, metrics=['mae'])\n",
        "  model.compile( loss='mean_squared_error', optimizer=adam, metrics=['mse'])\n",
        "  return model\n"
      ],
      "metadata": {
        "id": "b3lH-Pj-mRjw"
      },
      "execution_count": 49,
      "outputs": []
    },
    {
      "cell_type": "code",
      "source": [
        "## build model (book HandsOn -on ML, Aurélien Géron)\n",
        "def build_model (p_input_shape,\n",
        "                 p_n_hidden=1,\n",
        "                 p_n_neurons=30,\n",
        "                 p_learning_rate=3e-3,\n",
        "                 p_activation='relu',\n",
        "                 p_debug=True,\n",
        "                 p_dropout_rate=0.4):\n",
        "\n",
        "  if p_debug:\n",
        "    print(\"\\r\\n------[build_model]------\")\n",
        "    print(\"[p_input_shape]: \", p_input_shape )\n",
        "    print(\"[p_n_hidden]: \", p_n_hidden )\n",
        "    print(\"[p_n_neurons]: \", p_n_neurons )\n",
        "    print(\"[p_learning_rate]: \", p_learning_rate )\n",
        "\n",
        "\n",
        "  model = Sequential()\n",
        "  model.add(keras.layers.InputLayer(input_shape=p_input_shape))\n",
        "  for layer in range(p_n_hidden):\n",
        "    model.add(keras.layers.Dense(p_n_neurons, activation=p_activation))\n",
        "    model.add(keras.layers.BatchNormalization(momentum=0.9, epsilon=1e-5))\n",
        "    model.add(Dropout(p_dropout_rate))\n",
        "    if p_n_hidden >1:\n",
        "      print('---build_model, for layer in range(p_n_hidden)---')\n",
        "      print('[p_n_neurons]: ', p_n_neurons)\n",
        "      p_n_neurons =  int(math.sqrt(p_n_neurons))\n",
        "\n",
        "    #keras.layers.BatchNormalization()\n",
        "  model.add(Dropout(p_dropout_rate))\n",
        "  model.add(keras.layers.Dense(1))\n",
        "  optimizer = keras.optimizers.SGD(lr=p_learning_rate)\n",
        "\n",
        "  #arr_metrics = ['mae', 'accuracy']\n",
        "  #arr_metrics = ['mae']\n",
        "  arr_metrics = ['mse']\n",
        "\n",
        "  model.compile(loss='mse', optimizer = optimizer, metrics=arr_metrics)\n",
        "  return model"
      ],
      "metadata": {
        "id": "a6LHGZSf2Ln4"
      },
      "execution_count": 67,
      "outputs": []
    },
    {
      "cell_type": "code",
      "source": [
        "## augmented_df\n",
        "## getting train, test sets\n",
        "X_train, X_valid, X_test, y_train, y_valid,  y_test = get_train_test(augmented_df2)"
      ],
      "metadata": {
        "id": "GbpVj-dmmdZI"
      },
      "execution_count": null,
      "outputs": []
    },
    {
      "cell_type": "code",
      "source": [
        "## original_df\n",
        "## getting train, test sets\n",
        "X_train, X_valid, X_test, y_train, y_valid,  y_test = get_train_test(original_df)"
      ],
      "metadata": {
        "id": "pw5LMH4nOm8E"
      },
      "execution_count": null,
      "outputs": []
    },
    {
      "cell_type": "code",
      "source": [
        "print(np.sum(np.isnan(X_train)))\n",
        "print(np.sum(np.isnan(X_valid)))\n",
        "print(np.sum(np.isnan(X_test)))\n",
        "print(np.sum(np.isnan(y_train)))\n",
        "print(np.sum(np.isnan(y_valid)))\n",
        "print(np.sum(np.isnan(y_test)))"
      ],
      "metadata": {
        "colab": {
          "base_uri": "https://localhost:8080/"
        },
        "id": "4Dy8krRvO7SG",
        "outputId": "91cdca74-608b-4b4f-e811-8ed6c432c7d4"
      },
      "execution_count": null,
      "outputs": [
        {
          "output_type": "stream",
          "name": "stdout",
          "text": [
            "0\n",
            "0\n",
            "0\n",
            "0\n",
            "0\n",
            "0\n"
          ]
        }
      ]
    },
    {
      "cell_type": "code",
      "source": [
        "X_train.shape"
      ],
      "metadata": {
        "colab": {
          "base_uri": "https://localhost:8080/"
        },
        "id": "pQo5YyNR-92E",
        "outputId": "34ff3b74-9533-4178-bc32-ad0c5c8fa362"
      },
      "execution_count": 23,
      "outputs": [
        {
          "output_type": "execute_result",
          "data": {
            "text/plain": [
              "(437759, 43)"
            ]
          },
          "metadata": {},
          "execution_count": 23
        }
      ]
    },
    {
      "cell_type": "code",
      "source": [
        "def plot_graph(p_model_history):\n",
        "    # Plot MAE\n",
        "    plt.plot(p_model_history['mse'])\n",
        "    plt.plot(p_model_history['val_mse'])\n",
        "\n",
        "    # Plot loss\n",
        "    plt.plot(p_model_history['loss'])\n",
        "    plt.plot(p_model_history['val_loss'])\n",
        "\n",
        "    # Add labels and legends for MAE and loss\n",
        "    plt.legend(['train MSE', 'test MSE', 'train loss', 'test loss'], loc='upper right')\n",
        "    plt.title('Model Metrics')\n",
        "    plt.ylabel('Metrics')\n",
        "    plt.xlabel('Epoch')\n",
        "    plt.show()\n",
        "\n",
        "    # Plot accuracy (if applicable)\n",
        "    if 'accuracy' in p_model_history:\n",
        "        plt.plot(p_model_history['accuracy'])\n",
        "        plt.plot(p_model_history['val_accuracy'])\n",
        "\n",
        "        # Add labels and legends for accuracy\n",
        "        plt.legend(['train accuracy', 'test accuracy'], loc='upper right')\n",
        "        plt.title('Model Accuracy')\n",
        "        plt.ylabel('Accuracy')\n",
        "        plt.xlabel('Epoch')\n",
        "        plt.show()\n"
      ],
      "metadata": {
        "id": "WoX2qGjdxoTC"
      },
      "execution_count": 25,
      "outputs": []
    },
    {
      "cell_type": "code",
      "source": [
        "def plot_graph_2(p_model_history, p_var_valid, p_var_test, p_arr_legend):\n",
        "    # Plot MAE\n",
        "    plt.plot(p_model_history[p_var_valid])\n",
        "    plt.plot(p_model_history[p_var_test])\n",
        "\n",
        "    ## Plot loss\n",
        "    #plt.plot(p_model_history['loss'])\n",
        "    #plt.plot(p_model_history['val_loss'])\n",
        "\n",
        "    ## Add labels and legends for MAE and loss\n",
        "    #plt.legend(['train MAE', 'test MAE', 'train loss', 'test loss'], loc='upper right')\n",
        "    plt.legend(p_arr_legend, loc='upper right')\n",
        "    plt.title('Model Metrics')\n",
        "    plt.ylabel('Metrics')\n",
        "    plt.xlabel('Epoch')\n",
        "    plt.show()\n",
        "\n",
        "\n",
        "\n",
        "\n"
      ],
      "metadata": {
        "id": "9ohTjvb85boS"
      },
      "execution_count": 26,
      "outputs": []
    },
    {
      "cell_type": "code",
      "source": [
        "def do_analysis(pModel, pXTrain, pYTrain, pXTest, pYTest,\n",
        "                p_dropout_rate =0.3, p_learning_rate=0.01, p_epochs =30, p_batch_size=10,\n",
        "                p_validation_split=0.2, p_verbose=True, p_plot_graph=1):\n",
        "\n",
        "  ## we fit with train\n",
        "  model_history = pModel.fit(pXTrain, pYTrain, batch_size=p_batch_size, epochs=p_epochs, validation_split = p_validation_split, verbose=1)\n",
        "\n",
        "  ## we evaluate model's accuracy (use TEST vars, NOT TRAIN)\n",
        "  score = pModel.evaluate(pXTest, pYTest, verbose=p_verbose)\n",
        "\n",
        "  print(\"[Loss]: \", score[0])\n",
        "  print(\"[MSE]: \", score[1])\n",
        "\n",
        "  if(p_plot_graph):\n",
        "    #plot_graph(model_history.history)\n",
        "    #plot_graph_2(model_history.history, 'mae', 'val_mae', ['train MAE', 'test MAE'])\n",
        "    plot_graph_2(model_history.history, 'mse', 'val_mse', ['train MSE', 'test MSE'])\n",
        "    plot_graph_2(model_history.history, 'loss', 'val_loss', ['train LOSS', 'test LOSS'])\n"
      ],
      "metadata": {
        "id": "5w0Nddg9p0Tf"
      },
      "execution_count": 27,
      "outputs": []
    },
    {
      "cell_type": "code",
      "source": [
        "## Modele valuation\n",
        "model = create_model (0.001, 0.3, X_train)\n",
        "do_analysis(model, X_train, y_train, X_test\n",
        "            , y_test, p_learning_rate =0.0001\n",
        "            , p_epochs=30, p_verbose=0)"
      ],
      "metadata": {
        "colab": {
          "base_uri": "https://localhost:8080/",
          "height": 1000
        },
        "id": "fajV9jbsrp0A",
        "outputId": "88e63364-b102-483a-a964-b13dc411917c"
      },
      "execution_count": 29,
      "outputs": [
        {
          "output_type": "stream",
          "name": "stderr",
          "text": [
            "WARNING:absl:`lr` is deprecated in Keras optimizer, please use `learning_rate` or use the legacy optimizer, e.g.,tf.keras.optimizers.legacy.Adam.\n"
          ]
        },
        {
          "output_type": "stream",
          "name": "stdout",
          "text": [
            "Epoch 1/30\n",
            "35021/35021 [==============================] - 80s 2ms/step - loss: 304.7926 - mse: 304.7926 - val_loss: 188.7879 - val_mse: 188.7879\n",
            "Epoch 2/30\n",
            "35021/35021 [==============================] - 88s 3ms/step - loss: 134.9032 - mse: 134.9032 - val_loss: 22.0706 - val_mse: 22.0706\n",
            "Epoch 3/30\n",
            "35021/35021 [==============================] - 76s 2ms/step - loss: 70.7539 - mse: 70.7539 - val_loss: 21.3448 - val_mse: 21.3448\n",
            "Epoch 4/30\n",
            "35021/35021 [==============================] - 78s 2ms/step - loss: 48.7363 - mse: 48.7363 - val_loss: 16.3459 - val_mse: 16.3459\n",
            "Epoch 5/30\n",
            "35021/35021 [==============================] - 77s 2ms/step - loss: 34.3530 - mse: 34.3530 - val_loss: 17.5741 - val_mse: 17.5741\n",
            "Epoch 6/30\n",
            "35021/35021 [==============================] - 77s 2ms/step - loss: 26.3056 - mse: 26.3056 - val_loss: 18.8815 - val_mse: 18.8815\n",
            "Epoch 7/30\n",
            "35021/35021 [==============================] - 76s 2ms/step - loss: 22.2883 - mse: 22.2883 - val_loss: 14.9650 - val_mse: 14.9650\n",
            "Epoch 8/30\n",
            "35021/35021 [==============================] - 76s 2ms/step - loss: 20.0462 - mse: 20.0462 - val_loss: 19.7405 - val_mse: 19.7405\n",
            "Epoch 9/30\n",
            "35021/35021 [==============================] - 77s 2ms/step - loss: 18.9125 - mse: 18.9125 - val_loss: 14.9480 - val_mse: 14.9480\n",
            "Epoch 10/30\n",
            "35021/35021 [==============================] - 87s 2ms/step - loss: 18.4701 - mse: 18.4701 - val_loss: 16.6190 - val_mse: 16.6190\n",
            "Epoch 11/30\n",
            "35021/35021 [==============================] - 83s 2ms/step - loss: 18.4041 - mse: 18.4041 - val_loss: 16.0565 - val_mse: 16.0565\n",
            "Epoch 12/30\n",
            "35021/35021 [==============================] - 82s 2ms/step - loss: 18.5620 - mse: 18.5620 - val_loss: 15.4714 - val_mse: 15.4714\n",
            "Epoch 13/30\n",
            "35021/35021 [==============================] - 83s 2ms/step - loss: 18.5852 - mse: 18.5852 - val_loss: 17.8064 - val_mse: 17.8064\n",
            "Epoch 14/30\n",
            "35021/35021 [==============================] - 80s 2ms/step - loss: 18.4462 - mse: 18.4462 - val_loss: 17.0015 - val_mse: 17.0015\n",
            "Epoch 15/30\n",
            "35021/35021 [==============================] - 86s 2ms/step - loss: 18.2256 - mse: 18.2256 - val_loss: 16.2958 - val_mse: 16.2958\n",
            "Epoch 16/30\n",
            "35021/35021 [==============================] - 86s 2ms/step - loss: 17.9869 - mse: 17.9869 - val_loss: 17.5503 - val_mse: 17.5503\n",
            "Epoch 17/30\n",
            "35021/35021 [==============================] - 83s 2ms/step - loss: 18.0109 - mse: 18.0109 - val_loss: 15.6725 - val_mse: 15.6725\n",
            "Epoch 18/30\n",
            "35021/35021 [==============================] - 78s 2ms/step - loss: 18.0279 - mse: 18.0279 - val_loss: 15.6625 - val_mse: 15.6625\n",
            "Epoch 19/30\n",
            "35021/35021 [==============================] - 76s 2ms/step - loss: 18.2600 - mse: 18.2600 - val_loss: 16.3526 - val_mse: 16.3526\n",
            "Epoch 20/30\n",
            "35021/35021 [==============================] - 77s 2ms/step - loss: 18.1265 - mse: 18.1265 - val_loss: 18.7440 - val_mse: 18.7440\n",
            "Epoch 21/30\n",
            "35021/35021 [==============================] - 81s 2ms/step - loss: 18.2682 - mse: 18.2682 - val_loss: 16.4960 - val_mse: 16.4960\n",
            "Epoch 22/30\n",
            "35021/35021 [==============================] - 76s 2ms/step - loss: 17.7322 - mse: 17.7322 - val_loss: 15.3339 - val_mse: 15.3339\n",
            "Epoch 23/30\n",
            "35021/35021 [==============================] - 76s 2ms/step - loss: 17.7131 - mse: 17.7131 - val_loss: 15.4612 - val_mse: 15.4612\n",
            "Epoch 24/30\n",
            "35021/35021 [==============================] - 77s 2ms/step - loss: 17.5331 - mse: 17.5331 - val_loss: 16.2151 - val_mse: 16.2151\n",
            "Epoch 25/30\n",
            "35021/35021 [==============================] - 76s 2ms/step - loss: 17.6599 - mse: 17.6599 - val_loss: 17.1292 - val_mse: 17.1292\n",
            "Epoch 26/30\n",
            "35021/35021 [==============================] - 76s 2ms/step - loss: 17.6682 - mse: 17.6682 - val_loss: 16.8410 - val_mse: 16.8410\n",
            "Epoch 27/30\n",
            "35021/35021 [==============================] - 77s 2ms/step - loss: 17.6339 - mse: 17.6339 - val_loss: 14.9600 - val_mse: 14.9600\n",
            "Epoch 28/30\n",
            "35021/35021 [==============================] - 76s 2ms/step - loss: 17.6199 - mse: 17.6199 - val_loss: 14.8418 - val_mse: 14.8418\n",
            "Epoch 29/30\n",
            "35021/35021 [==============================] - 77s 2ms/step - loss: 17.7347 - mse: 17.7347 - val_loss: 14.9637 - val_mse: 14.9637\n",
            "Epoch 30/30\n",
            "35021/35021 [==============================] - 77s 2ms/step - loss: 17.9726 - mse: 17.9726 - val_loss: 16.2687 - val_mse: 16.2687\n",
            "[Loss]:  16.404211044311523\n",
            "[MSE]:  16.404211044311523\n"
          ]
        },
        {
          "output_type": "display_data",
          "data": {
            "text/plain": [
              "<Figure size 640x480 with 1 Axes>"
            ],
            "image/png": "[encoded data removed]"
          },
          "metadata": {}
        },
        {
          "output_type": "display_data",
          "data": {
            "text/plain": [
              "<Figure size 640x480 with 1 Axes>"
            ],
            "image/png": "[encoded data removed]"
          },
          "metadata": {}
        }
      ]
    },
    {
      "cell_type": "code",
      "source": [
        "# Split your data and define input_shape\n",
        "input_shape = X_train.shape[1]  # Number of features\n",
        "\n",
        "# Create the KerasRegressor with your build_model function\n",
        "keras_reg = KerasRegressor(build_fn=build_model\n",
        "                           , p_input_shape=input_shape\n",
        "                           , p_n_hidden=3\n",
        "                           , p_n_neurons=input_shape\n",
        "                           , p_learning_rate=3e-3\n",
        "                           , p_activation='relu'\n",
        "                           , p_dropout_rate=0.35)\n"
      ],
      "metadata": {
        "id": "jyItKGvWsnHo",
        "colab": {
          "base_uri": "https://localhost:8080/"
        },
        "outputId": "215ff8fc-a99f-4e68-ae5f-ca8984f8750d"
      },
      "execution_count": 81,
      "outputs": [
        {
          "output_type": "stream",
          "name": "stderr",
          "text": [
            "<ipython-input-81-94898a310203>:5: DeprecationWarning: KerasRegressor is deprecated, use Sci-Keras (https://github.com/adriangb/scikeras) instead. See https://www.adriangb.com/scikeras/stable/migration.html for help migrating.\n",
            "  keras_reg = KerasRegressor(build_fn=build_model\n"
          ]
        }
      ]
    },
    {
      "cell_type": "code",
      "source": [
        "input_shape"
      ],
      "metadata": {
        "colab": {
          "base_uri": "https://localhost:8080/"
        },
        "id": "OMX2k9gpLT30",
        "outputId": "d90698ff-2336-4d30-f457-296171e93034"
      },
      "execution_count": 55,
      "outputs": [
        {
          "output_type": "execute_result",
          "data": {
            "text/plain": [
              "43"
            ]
          },
          "metadata": {},
          "execution_count": 55
        }
      ]
    },
    {
      "cell_type": "code",
      "source": [
        "keras_reg.fit( X_train, y_train, epochs = 3,\n",
        "              validation_data=(X_valid, y_valid),\n",
        "              callbacks=[keras.callbacks.EarlyStopping(patience=3)])\n",
        "\n",
        "msa_test = keras_reg.score(X_test, y_test)\n",
        "y_pred = keras_reg.predict(X_test)\n",
        "\n",
        "# Calculate Mean Squared Error (MSE)\n",
        "print('y_test: ', y_test.isna().sum())\n",
        "dfYPred = pd.DataFrame(y_pred)\n",
        "print('y_pred: ', dfYPred.isna().sum())\n",
        "mse = mean_squared_error(y_test, y_pred)\n",
        "mse_test = -msa_test\n",
        "\n",
        "# Calculate R-squared (Coefficient of Determination)\n",
        "r2 = r2_score(y_test, y_pred)\n",
        "\n",
        "print(\"[MSE] Mean Squared Error:\", mse)\n",
        "print(\"[MSE] Mean Squared Error:\", mse_test)\n",
        "print(\"R-squared:\", r2)"
      ],
      "metadata": {
        "colab": {
          "base_uri": "https://localhost:8080/"
        },
        "id": "6nwzjFVfzGFi",
        "outputId": "437364cb-e12b-4d11-b8da-f1e600c6a97a"
      },
      "execution_count": 80,
      "outputs": [
        {
          "output_type": "stream",
          "name": "stdout",
          "text": [
            "\r\n",
            "------[build_model]------\n",
            "[p_input_shape]:  43\n",
            "[p_n_hidden]:  4\n",
            "[p_n_neurons]:  43\n",
            "[p_learning_rate]:  0.003\n",
            "---build_model, for layer in range(p_n_hidden)---\n",
            "[p_n_neurons]:  43\n",
            "---build_model, for layer in range(p_n_hidden)---\n",
            "[p_n_neurons]:  6\n",
            "---build_model, for layer in range(p_n_hidden)---\n",
            "[p_n_neurons]:  2\n",
            "---build_model, for layer in range(p_n_hidden)---\n",
            "[p_n_neurons]:  1\n",
            "Epoch 1/3\n",
            "13680/13680 [==============================] - 43s 3ms/step - loss: 70.7581 - mse: 70.7581 - val_loss: 28.6485 - val_mse: 28.6485\n",
            "Epoch 2/3\n",
            "13680/13680 [==============================] - 40s 3ms/step - loss: 28.7542 - mse: 28.7542 - val_loss: 28.6368 - val_mse: 28.6368\n",
            "Epoch 3/3\n",
            "13680/13680 [==============================] - 39s 3ms/step - loss: 28.7527 - mse: 28.7527 - val_loss: 28.6361 - val_mse: 28.6361\n",
            "4275/4275 [==============================] - 6s 1ms/step - loss: 28.9157 - mse: 28.9157\n",
            "4275/4275 [==============================] - 6s 1ms/step\n",
            "y_test:  0\n",
            "y_pred:  0    0\n",
            "dtype: int64\n",
            "[MSE] Mean Squared Error: 28.91575581970289\n",
            "[MSE] Mean Squared Error: 28.91574478149414\n",
            "R-squared: -0.00026155039199626806\n"
          ]
        }
      ]
    },
    {
      "cell_type": "code",
      "source": [
        "X_train.shape"
      ],
      "metadata": {
        "colab": {
          "base_uri": "https://localhost:8080/"
        },
        "id": "1w0nU5qka6ya",
        "outputId": "938563a4-8e3f-47b5-c93e-9b3217be8c02"
      },
      "execution_count": 42,
      "outputs": [
        {
          "output_type": "execute_result",
          "data": {
            "text/plain": [
              "(437759, 43)"
            ]
          },
          "metadata": {},
          "execution_count": 42
        }
      ]
    },
    {
      "cell_type": "code",
      "source": [
        "# Define the checkpoint callback\n",
        "checkpoint_cb = ModelCheckpoint(filepath=\"best_model.h5\", save_best_only=True)\n",
        "\n",
        "# Other callbacks you might have (e.g., EarlyStopping)\n",
        "early_stopping_cb = keras.callbacks.EarlyStopping(patience=3)\n",
        "\n",
        "param_distribs = {\n",
        "    \"p_n_hidden\": [2,3,4,5],\n",
        "    \"p_n_neurons\": np.arange(X_train.shape[1], X_train.shape[1]*2),\n",
        "    \"p_learning_rate\" : reciprocal(1e-4, 1e-2)\n",
        "}\n",
        "\n",
        "rnd_search_cv = RandomizedSearchCV(keras_reg, param_distribs, n_iter=5\n",
        "                                   , cv=3\n",
        "                                   , scoring='neg_mean_squared_error')\n",
        "\n",
        "rnd_search_cv.fit(X_train, y_train, epochs=6,\n",
        "                  validation_data=(X_valid, y_valid),\n",
        "                  callbacks=[checkpoint_cb, early_stopping_cb])\n",
        "\n",
        "# Access the best model and print its summary\n",
        "best_model = rnd_search_cv.best_estimator_.model\n",
        "print('================================')\n",
        "print('-- Best Model Summary --')\n",
        "best_model.summary()\n",
        "print('-- Best params --')\n",
        "print(rnd_search_cv.best_params_)\n",
        "print('-- Best score --')\n",
        "print(rnd_search_cv.best_score_)\n",
        "\n"
      ],
      "metadata": {
        "colab": {
          "base_uri": "https://localhost:8080/"
        },
        "id": "Aq-WlHeNBZle",
        "outputId": "0ada8394-12a1-46b9-a578-f62a93601599"
      },
      "execution_count": 82,
      "outputs": [
        {
          "output_type": "stream",
          "name": "stdout",
          "text": [
            "\r\n",
            "------[build_model]------\n",
            "[p_input_shape]:  43\n",
            "[p_n_hidden]:  2\n",
            "[p_n_neurons]:  63\n",
            "[p_learning_rate]:  0.0017264735226600796\n",
            "---build_model, for layer in range(p_n_hidden)---\n",
            "[p_n_neurons]:  63\n",
            "---build_model, for layer in range(p_n_hidden)---\n",
            "[p_n_neurons]:  7\n",
            "Epoch 1/6\n"
          ]
        },
        {
          "output_type": "stream",
          "name": "stderr",
          "text": [
            "/usr/local/lib/python3.10/dist-packages/keras/optimizers/legacy/gradient_descent.py:114: UserWarning: The `lr` argument is deprecated, use `learning_rate` instead.\n",
            "  super().__init__(name, **kwargs)\n"
          ]
        },
        {
          "output_type": "stream",
          "name": "stdout",
          "text": [
            "9120/9120 [==============================] - 27s 3ms/step - loss: 138.9498 - mse: 138.9498 - val_loss: 28.6653 - val_mse: 28.6653\n",
            "Epoch 2/6\n",
            "9120/9120 [==============================] - 23s 3ms/step - loss: 28.7777 - mse: 28.7777 - val_loss: 28.6434 - val_mse: 28.6434\n",
            "Epoch 3/6\n",
            "9120/9120 [==============================] - 24s 3ms/step - loss: 28.7616 - mse: 28.7616 - val_loss: 28.6447 - val_mse: 28.6447\n",
            "Epoch 4/6\n",
            "9120/9120 [==============================] - 22s 2ms/step - loss: 28.7501 - mse: 28.7501 - val_loss: 28.6491 - val_mse: 28.6491\n",
            "Epoch 5/6\n",
            "9120/9120 [==============================] - 23s 3ms/step - loss: 28.7348 - mse: 28.7348 - val_loss: 28.6311 - val_mse: 28.6311\n",
            "Epoch 6/6\n",
            "9120/9120 [==============================] - 24s 3ms/step - loss: 28.7317 - mse: 28.7317 - val_loss: 28.6265 - val_mse: 28.6265\n",
            "4560/4560 [==============================] - 6s 1ms/step\n",
            "\n",
            "------[build_model]------\n",
            "[p_input_shape]:  43\n",
            "[p_n_hidden]:  2\n",
            "[p_n_neurons]:  63\n",
            "[p_learning_rate]:  0.0017264735226600796\n",
            "---build_model, for layer in range(p_n_hidden)---\n",
            "[p_n_neurons]:  63\n",
            "---build_model, for layer in range(p_n_hidden)---\n",
            "[p_n_neurons]:  7\n",
            "Epoch 1/6\n"
          ]
        },
        {
          "output_type": "stream",
          "name": "stderr",
          "text": [
            "/usr/local/lib/python3.10/dist-packages/keras/optimizers/legacy/gradient_descent.py:114: UserWarning: The `lr` argument is deprecated, use `learning_rate` instead.\n",
            "  super().__init__(name, **kwargs)\n"
          ]
        },
        {
          "output_type": "stream",
          "name": "stdout",
          "text": [
            "9120/9120 [==============================] - 23s 2ms/step - loss: 139.0079 - mse: 139.0079 - val_loss: 28.6701 - val_mse: 28.6701\n",
            "Epoch 2/6\n",
            "9120/9120 [==============================] - 23s 3ms/step - loss: 28.7893 - mse: 28.7893 - val_loss: 28.6851 - val_mse: 28.6851\n",
            "Epoch 3/6\n",
            "9120/9120 [==============================] - 23s 2ms/step - loss: 28.7748 - mse: 28.7748 - val_loss: 28.6429 - val_mse: 28.6429\n",
            "Epoch 4/6\n",
            "9120/9120 [==============================] - 24s 3ms/step - loss: 28.7650 - mse: 28.7650 - val_loss: 28.6319 - val_mse: 28.6319\n",
            "Epoch 5/6\n",
            "9120/9120 [==============================] - 22s 2ms/step - loss: 28.7574 - mse: 28.7574 - val_loss: 28.6316 - val_mse: 28.6316\n",
            "Epoch 6/6\n",
            "9120/9120 [==============================] - 23s 3ms/step - loss: 28.7524 - mse: 28.7524 - val_loss: 28.6367 - val_mse: 28.6367\n",
            "4560/4560 [==============================] - 6s 1ms/step\n",
            "\n",
            "------[build_model]------\n",
            "[p_input_shape]:  43\n",
            "[p_n_hidden]:  2\n",
            "[p_n_neurons]:  63\n",
            "[p_learning_rate]:  0.0017264735226600796\n",
            "---build_model, for layer in range(p_n_hidden)---\n",
            "[p_n_neurons]:  63\n",
            "---build_model, for layer in range(p_n_hidden)---\n",
            "[p_n_neurons]:  7\n",
            "Epoch 1/6\n"
          ]
        },
        {
          "output_type": "stream",
          "name": "stderr",
          "text": [
            "/usr/local/lib/python3.10/dist-packages/keras/optimizers/legacy/gradient_descent.py:114: UserWarning: The `lr` argument is deprecated, use `learning_rate` instead.\n",
            "  super().__init__(name, **kwargs)\n"
          ]
        },
        {
          "output_type": "stream",
          "name": "stdout",
          "text": [
            "9120/9120 [==============================] - 22s 2ms/step - loss: 139.2499 - mse: 139.2499 - val_loss: 28.6480 - val_mse: 28.6480\n",
            "Epoch 2/6\n",
            "9120/9120 [==============================] - 22s 2ms/step - loss: 28.8591 - mse: 28.8591 - val_loss: 28.6692 - val_mse: 28.6692\n",
            "Epoch 3/6\n",
            "9120/9120 [==============================] - 21s 2ms/step - loss: 28.8409 - mse: 28.8409 - val_loss: 28.6268 - val_mse: 28.6268\n",
            "Epoch 4/6\n",
            "9120/9120 [==============================] - 21s 2ms/step - loss: 28.8325 - mse: 28.8325 - val_loss: 28.6162 - val_mse: 28.6162\n",
            "Epoch 5/6\n",
            "9120/9120 [==============================] - 20s 2ms/step - loss: 28.8202 - mse: 28.8202 - val_loss: 28.6249 - val_mse: 28.6249\n",
            "Epoch 6/6\n",
            "9120/9120 [==============================] - 21s 2ms/step - loss: 28.8087 - mse: 28.8087 - val_loss: 28.6180 - val_mse: 28.6180\n",
            "4560/4560 [==============================] - 6s 1ms/step\n",
            "\n",
            "------[build_model]------\n",
            "[p_input_shape]:  43\n",
            "[p_n_hidden]:  4\n",
            "[p_n_neurons]:  72\n",
            "[p_learning_rate]:  0.006114846506540068\n",
            "---build_model, for layer in range(p_n_hidden)---\n",
            "[p_n_neurons]:  72\n",
            "---build_model, for layer in range(p_n_hidden)---\n",
            "[p_n_neurons]:  8\n",
            "---build_model, for layer in range(p_n_hidden)---\n",
            "[p_n_neurons]:  2\n",
            "---build_model, for layer in range(p_n_hidden)---\n",
            "[p_n_neurons]:  1\n",
            "Epoch 1/6\n"
          ]
        },
        {
          "output_type": "stream",
          "name": "stderr",
          "text": [
            "/usr/local/lib/python3.10/dist-packages/keras/optimizers/legacy/gradient_descent.py:114: UserWarning: The `lr` argument is deprecated, use `learning_rate` instead.\n",
            "  super().__init__(name, **kwargs)\n"
          ]
        },
        {
          "output_type": "stream",
          "name": "stdout",
          "text": [
            "9120/9120 [==============================] - 29s 3ms/step - loss: 59.7243 - mse: 59.7243 - val_loss: 28.6384 - val_mse: 28.6384\n",
            "Epoch 2/6\n",
            "9120/9120 [==============================] - 26s 3ms/step - loss: 28.7230 - mse: 28.7230 - val_loss: 28.6305 - val_mse: 28.6305\n",
            "Epoch 3/6\n",
            "9120/9120 [==============================] - 25s 3ms/step - loss: 28.7199 - mse: 28.7199 - val_loss: 28.6401 - val_mse: 28.6401\n",
            "Epoch 4/6\n",
            "9120/9120 [==============================] - 26s 3ms/step - loss: 28.7194 - mse: 28.7194 - val_loss: 28.6209 - val_mse: 28.6209\n",
            "Epoch 5/6\n",
            "9120/9120 [==============================] - 26s 3ms/step - loss: 28.7194 - mse: 28.7194 - val_loss: 28.6107 - val_mse: 28.6107\n",
            "Epoch 6/6\n",
            "9120/9120 [==============================] - 25s 3ms/step - loss: 28.7158 - mse: 28.7158 - val_loss: 28.6558 - val_mse: 28.6558\n",
            "4560/4560 [==============================] - 7s 2ms/step\n",
            "\n",
            "------[build_model]------\n",
            "[p_input_shape]:  43\n",
            "[p_n_hidden]:  4\n",
            "[p_n_neurons]:  72\n",
            "[p_learning_rate]:  0.006114846506540068\n",
            "---build_model, for layer in range(p_n_hidden)---\n",
            "[p_n_neurons]:  72\n",
            "---build_model, for layer in range(p_n_hidden)---\n",
            "[p_n_neurons]:  8\n",
            "---build_model, for layer in range(p_n_hidden)---\n",
            "[p_n_neurons]:  2\n",
            "---build_model, for layer in range(p_n_hidden)---\n",
            "[p_n_neurons]:  1\n",
            "Epoch 1/6\n"
          ]
        },
        {
          "output_type": "stream",
          "name": "stderr",
          "text": [
            "/usr/local/lib/python3.10/dist-packages/keras/optimizers/legacy/gradient_descent.py:114: UserWarning: The `lr` argument is deprecated, use `learning_rate` instead.\n",
            "  super().__init__(name, **kwargs)\n"
          ]
        },
        {
          "output_type": "stream",
          "name": "stdout",
          "text": [
            "9120/9120 [==============================] - 28s 3ms/step - loss: 59.8679 - mse: 59.8679 - val_loss: 28.6496 - val_mse: 28.6496\n",
            "Epoch 2/6\n",
            "9120/9120 [==============================] - 27s 3ms/step - loss: 28.7397 - mse: 28.7397 - val_loss: 28.6337 - val_mse: 28.6337\n",
            "Epoch 3/6\n",
            "9120/9120 [==============================] - 25s 3ms/step - loss: 28.7370 - mse: 28.7370 - val_loss: 28.6346 - val_mse: 28.6346\n",
            "Epoch 4/6\n",
            "9120/9120 [==============================] - 27s 3ms/step - loss: 28.7361 - mse: 28.7361 - val_loss: 28.6296 - val_mse: 28.6296\n",
            "Epoch 5/6\n",
            "9120/9120 [==============================] - 26s 3ms/step - loss: 28.7371 - mse: 28.7371 - val_loss: 28.6469 - val_mse: 28.6469\n",
            "Epoch 6/6\n",
            "9120/9120 [==============================] - 25s 3ms/step - loss: 28.7358 - mse: 28.7358 - val_loss: 28.6328 - val_mse: 28.6328\n",
            "4560/4560 [==============================] - 7s 1ms/step\n",
            "\n",
            "------[build_model]------\n",
            "[p_input_shape]:  43\n",
            "[p_n_hidden]:  4\n",
            "[p_n_neurons]:  72\n",
            "[p_learning_rate]:  0.006114846506540068\n",
            "---build_model, for layer in range(p_n_hidden)---\n",
            "[p_n_neurons]:  72\n",
            "---build_model, for layer in range(p_n_hidden)---\n",
            "[p_n_neurons]:  8\n",
            "---build_model, for layer in range(p_n_hidden)---\n",
            "[p_n_neurons]:  2\n",
            "---build_model, for layer in range(p_n_hidden)---\n",
            "[p_n_neurons]:  1\n",
            "Epoch 1/6\n"
          ]
        },
        {
          "output_type": "stream",
          "name": "stderr",
          "text": [
            "/usr/local/lib/python3.10/dist-packages/keras/optimizers/legacy/gradient_descent.py:114: UserWarning: The `lr` argument is deprecated, use `learning_rate` instead.\n",
            "  super().__init__(name, **kwargs)\n"
          ]
        },
        {
          "output_type": "stream",
          "name": "stdout",
          "text": [
            "9120/9120 [==============================] - 25s 3ms/step - loss: 59.9321 - mse: 59.9321 - val_loss: 28.6342 - val_mse: 28.6342\n",
            "Epoch 2/6\n",
            "9120/9120 [==============================] - 24s 3ms/step - loss: 28.8049 - mse: 28.8049 - val_loss: 28.6732 - val_mse: 28.6732\n",
            "Epoch 3/6\n",
            "9120/9120 [==============================] - 25s 3ms/step - loss: 28.8038 - mse: 28.8038 - val_loss: 28.6580 - val_mse: 28.6580\n",
            "Epoch 4/6\n",
            "9120/9120 [==============================] - 24s 3ms/step - loss: 28.8038 - mse: 28.8038 - val_loss: 28.6355 - val_mse: 28.6355\n",
            "4560/4560 [==============================] - 6s 1ms/step\n",
            "\n",
            "------[build_model]------\n",
            "[p_input_shape]:  43\n",
            "[p_n_hidden]:  3\n",
            "[p_n_neurons]:  64\n",
            "[p_learning_rate]:  0.0029990037831584206\n",
            "---build_model, for layer in range(p_n_hidden)---\n",
            "[p_n_neurons]:  64\n",
            "---build_model, for layer in range(p_n_hidden)---\n",
            "[p_n_neurons]:  8\n",
            "---build_model, for layer in range(p_n_hidden)---\n",
            "[p_n_neurons]:  2\n",
            "Epoch 1/6\n"
          ]
        },
        {
          "output_type": "stream",
          "name": "stderr",
          "text": [
            "/usr/local/lib/python3.10/dist-packages/keras/optimizers/legacy/gradient_descent.py:114: UserWarning: The `lr` argument is deprecated, use `learning_rate` instead.\n",
            "  super().__init__(name, **kwargs)\n"
          ]
        },
        {
          "output_type": "stream",
          "name": "stdout",
          "text": [
            "9120/9120 [==============================] - 27s 3ms/step - loss: 92.3210 - mse: 92.3210 - val_loss: 28.6397 - val_mse: 28.6397\n",
            "Epoch 2/6\n",
            "9120/9120 [==============================] - 24s 3ms/step - loss: 28.7473 - mse: 28.7473 - val_loss: 28.6403 - val_mse: 28.6403\n",
            "Epoch 3/6\n",
            "9120/9120 [==============================] - 23s 3ms/step - loss: 28.7347 - mse: 28.7347 - val_loss: 28.6372 - val_mse: 28.6372\n",
            "Epoch 4/6\n",
            "9120/9120 [==============================] - 24s 3ms/step - loss: 28.7260 - mse: 28.7260 - val_loss: 28.6757 - val_mse: 28.6757\n",
            "Epoch 5/6\n",
            "9120/9120 [==============================] - 24s 3ms/step - loss: 28.7230 - mse: 28.7230 - val_loss: 28.6400 - val_mse: 28.6400\n",
            "Epoch 6/6\n",
            "9120/9120 [==============================] - 25s 3ms/step - loss: 28.7227 - mse: 28.7227 - val_loss: 28.6377 - val_mse: 28.6377\n",
            "4560/4560 [==============================] - 7s 1ms/step\n",
            "\n",
            "------[build_model]------\n",
            "[p_input_shape]:  43\n",
            "[p_n_hidden]:  3\n",
            "[p_n_neurons]:  64\n",
            "[p_learning_rate]:  0.0029990037831584206\n",
            "---build_model, for layer in range(p_n_hidden)---\n",
            "[p_n_neurons]:  64\n",
            "---build_model, for layer in range(p_n_hidden)---\n",
            "[p_n_neurons]:  8\n",
            "---build_model, for layer in range(p_n_hidden)---\n",
            "[p_n_neurons]:  2\n",
            "Epoch 1/6\n"
          ]
        },
        {
          "output_type": "stream",
          "name": "stderr",
          "text": [
            "/usr/local/lib/python3.10/dist-packages/keras/optimizers/legacy/gradient_descent.py:114: UserWarning: The `lr` argument is deprecated, use `learning_rate` instead.\n",
            "  super().__init__(name, **kwargs)\n"
          ]
        },
        {
          "output_type": "stream",
          "name": "stdout",
          "text": [
            "9120/9120 [==============================] - 25s 3ms/step - loss: 92.2338 - mse: 92.2338 - val_loss: 28.6498 - val_mse: 28.6498\n",
            "Epoch 2/6\n",
            "9120/9120 [==============================] - 25s 3ms/step - loss: 28.7570 - mse: 28.7570 - val_loss: 28.6466 - val_mse: 28.6466\n",
            "Epoch 3/6\n",
            "9120/9120 [==============================] - 24s 3ms/step - loss: 28.7454 - mse: 28.7454 - val_loss: 28.6317 - val_mse: 28.6317\n",
            "Epoch 4/6\n",
            "9120/9120 [==============================] - 25s 3ms/step - loss: 28.7378 - mse: 28.7378 - val_loss: 28.6249 - val_mse: 28.6249\n",
            "Epoch 5/6\n",
            "9120/9120 [==============================] - 24s 3ms/step - loss: 28.7329 - mse: 28.7329 - val_loss: 28.6592 - val_mse: 28.6592\n",
            "Epoch 6/6\n",
            "9120/9120 [==============================] - 24s 3ms/step - loss: 28.7275 - mse: 28.7275 - val_loss: 28.6359 - val_mse: 28.6359\n",
            "4560/4560 [==============================] - 7s 2ms/step\n",
            "\n",
            "------[build_model]------\n",
            "[p_input_shape]:  43\n",
            "[p_n_hidden]:  3\n",
            "[p_n_neurons]:  64\n",
            "[p_learning_rate]:  0.0029990037831584206\n",
            "---build_model, for layer in range(p_n_hidden)---\n",
            "[p_n_neurons]:  64\n",
            "---build_model, for layer in range(p_n_hidden)---\n",
            "[p_n_neurons]:  8\n",
            "---build_model, for layer in range(p_n_hidden)---\n",
            "[p_n_neurons]:  2\n",
            "Epoch 1/6\n"
          ]
        },
        {
          "output_type": "stream",
          "name": "stderr",
          "text": [
            "/usr/local/lib/python3.10/dist-packages/keras/optimizers/legacy/gradient_descent.py:114: UserWarning: The `lr` argument is deprecated, use `learning_rate` instead.\n",
            "  super().__init__(name, **kwargs)\n"
          ]
        },
        {
          "output_type": "stream",
          "name": "stdout",
          "text": [
            "9120/9120 [==============================] - 24s 3ms/step - loss: 92.3960 - mse: 92.3960 - val_loss: 28.6556 - val_mse: 28.6556\n",
            "Epoch 2/6\n",
            "9120/9120 [==============================] - 23s 2ms/step - loss: 28.8293 - mse: 28.8293 - val_loss: 28.6489 - val_mse: 28.6489\n",
            "Epoch 3/6\n",
            "9120/9120 [==============================] - 23s 2ms/step - loss: 28.8177 - mse: 28.8177 - val_loss: 28.6364 - val_mse: 28.6364\n",
            "Epoch 4/6\n",
            "9120/9120 [==============================] - 23s 3ms/step - loss: 28.8080 - mse: 28.8080 - val_loss: 28.6351 - val_mse: 28.6351\n",
            "Epoch 5/6\n",
            "9120/9120 [==============================] - 22s 2ms/step - loss: 28.8042 - mse: 28.8042 - val_loss: 28.6341 - val_mse: 28.6341\n",
            "Epoch 6/6\n",
            "9120/9120 [==============================] - 23s 2ms/step - loss: 28.8026 - mse: 28.8026 - val_loss: 28.6347 - val_mse: 28.6347\n",
            "4560/4560 [==============================] - 6s 1ms/step\n",
            "\n",
            "------[build_model]------\n",
            "[p_input_shape]:  43\n",
            "[p_n_hidden]:  2\n",
            "[p_n_neurons]:  55\n",
            "[p_learning_rate]:  0.0023824269024272293\n",
            "---build_model, for layer in range(p_n_hidden)---\n",
            "[p_n_neurons]:  55\n",
            "---build_model, for layer in range(p_n_hidden)---\n",
            "[p_n_neurons]:  7\n",
            "Epoch 1/6\n"
          ]
        },
        {
          "output_type": "stream",
          "name": "stderr",
          "text": [
            "/usr/local/lib/python3.10/dist-packages/keras/optimizers/legacy/gradient_descent.py:114: UserWarning: The `lr` argument is deprecated, use `learning_rate` instead.\n",
            "  super().__init__(name, **kwargs)\n"
          ]
        },
        {
          "output_type": "stream",
          "name": "stdout",
          "text": [
            "9120/9120 [==============================] - 23s 2ms/step - loss: 108.9591 - mse: 108.9591 - val_loss: 28.6589 - val_mse: 28.6589\n",
            "Epoch 2/6\n",
            "9120/9120 [==============================] - 24s 3ms/step - loss: 28.7720 - mse: 28.7720 - val_loss: 28.6354 - val_mse: 28.6354\n",
            "Epoch 3/6\n",
            "9120/9120 [==============================] - 23s 3ms/step - loss: 28.7574 - mse: 28.7574 - val_loss: 28.6457 - val_mse: 28.6457\n",
            "Epoch 4/6\n",
            "9120/9120 [==============================] - 22s 2ms/step - loss: 28.7434 - mse: 28.7434 - val_loss: 28.6209 - val_mse: 28.6209\n",
            "Epoch 5/6\n",
            "9120/9120 [==============================] - 23s 2ms/step - loss: 28.7270 - mse: 28.7270 - val_loss: 28.6375 - val_mse: 28.6375\n",
            "Epoch 6/6\n",
            "9120/9120 [==============================] - 23s 3ms/step - loss: 28.7194 - mse: 28.7194 - val_loss: 28.6063 - val_mse: 28.6063\n",
            "4560/4560 [==============================] - 7s 1ms/step\n",
            "\n",
            "------[build_model]------\n",
            "[p_input_shape]:  43\n",
            "[p_n_hidden]:  2\n",
            "[p_n_neurons]:  55\n",
            "[p_learning_rate]:  0.0023824269024272293\n",
            "---build_model, for layer in range(p_n_hidden)---\n",
            "[p_n_neurons]:  55\n",
            "---build_model, for layer in range(p_n_hidden)---\n",
            "[p_n_neurons]:  7\n",
            "Epoch 1/6\n"
          ]
        },
        {
          "output_type": "stream",
          "name": "stderr",
          "text": [
            "/usr/local/lib/python3.10/dist-packages/keras/optimizers/legacy/gradient_descent.py:114: UserWarning: The `lr` argument is deprecated, use `learning_rate` instead.\n",
            "  super().__init__(name, **kwargs)\n"
          ]
        },
        {
          "output_type": "stream",
          "name": "stdout",
          "text": [
            "9120/9120 [==============================] - 24s 3ms/step - loss: 108.7960 - mse: 108.7960 - val_loss: 28.6562 - val_mse: 28.6562\n",
            "Epoch 2/6\n",
            "9120/9120 [==============================] - 23s 2ms/step - loss: 28.7924 - mse: 28.7924 - val_loss: 28.6360 - val_mse: 28.6360\n",
            "Epoch 3/6\n",
            "9120/9120 [==============================] - 22s 2ms/step - loss: 28.7739 - mse: 28.7739 - val_loss: 28.6355 - val_mse: 28.6355\n",
            "Epoch 4/6\n",
            "9120/9120 [==============================] - 22s 2ms/step - loss: 28.7577 - mse: 28.7577 - val_loss: 28.6339 - val_mse: 28.6339\n",
            "Epoch 5/6\n",
            "9120/9120 [==============================] - 23s 2ms/step - loss: 28.7467 - mse: 28.7467 - val_loss: 28.6358 - val_mse: 28.6358\n",
            "Epoch 6/6\n",
            "9120/9120 [==============================] - 22s 2ms/step - loss: 28.7390 - mse: 28.7390 - val_loss: 28.6702 - val_mse: 28.6702\n",
            "4560/4560 [==============================] - 6s 1ms/step\n",
            "\n",
            "------[build_model]------\n",
            "[p_input_shape]:  43\n",
            "[p_n_hidden]:  2\n",
            "[p_n_neurons]:  55\n",
            "[p_learning_rate]:  0.0023824269024272293\n",
            "---build_model, for layer in range(p_n_hidden)---\n",
            "[p_n_neurons]:  55\n",
            "---build_model, for layer in range(p_n_hidden)---\n",
            "[p_n_neurons]:  7\n",
            "Epoch 1/6\n"
          ]
        },
        {
          "output_type": "stream",
          "name": "stderr",
          "text": [
            "/usr/local/lib/python3.10/dist-packages/keras/optimizers/legacy/gradient_descent.py:114: UserWarning: The `lr` argument is deprecated, use `learning_rate` instead.\n",
            "  super().__init__(name, **kwargs)\n"
          ]
        },
        {
          "output_type": "stream",
          "name": "stdout",
          "text": [
            "9120/9120 [==============================] - 22s 2ms/step - loss: 109.1576 - mse: 109.1576 - val_loss: 28.6347 - val_mse: 28.6347\n",
            "Epoch 2/6\n",
            "9120/9120 [==============================] - 20s 2ms/step - loss: 28.8557 - mse: 28.8557 - val_loss: 28.6709 - val_mse: 28.6709\n",
            "Epoch 3/6\n",
            "9120/9120 [==============================] - 21s 2ms/step - loss: 28.8359 - mse: 28.8359 - val_loss: 28.6383 - val_mse: 28.6383\n",
            "Epoch 4/6\n",
            "9120/9120 [==============================] - 21s 2ms/step - loss: 28.8201 - mse: 28.8201 - val_loss: 28.6326 - val_mse: 28.6326\n",
            "Epoch 5/6\n",
            "9120/9120 [==============================] - 22s 2ms/step - loss: 28.8088 - mse: 28.8088 - val_loss: 28.6258 - val_mse: 28.6258\n",
            "Epoch 6/6\n",
            "9120/9120 [==============================] - 21s 2ms/step - loss: 28.7993 - mse: 28.7993 - val_loss: 28.6137 - val_mse: 28.6137\n",
            "4560/4560 [==============================] - 7s 1ms/step\n",
            "\n",
            "------[build_model]------\n",
            "[p_input_shape]:  43\n",
            "[p_n_hidden]:  2\n",
            "[p_n_neurons]:  52\n",
            "[p_learning_rate]:  0.0016167732147739742\n",
            "---build_model, for layer in range(p_n_hidden)---\n",
            "[p_n_neurons]:  52\n",
            "---build_model, for layer in range(p_n_hidden)---\n",
            "[p_n_neurons]:  7\n",
            "Epoch 1/6\n"
          ]
        },
        {
          "output_type": "stream",
          "name": "stderr",
          "text": [
            "/usr/local/lib/python3.10/dist-packages/keras/optimizers/legacy/gradient_descent.py:114: UserWarning: The `lr` argument is deprecated, use `learning_rate` instead.\n",
            "  super().__init__(name, **kwargs)\n"
          ]
        },
        {
          "output_type": "stream",
          "name": "stdout",
          "text": [
            "9120/9120 [==============================] - 25s 3ms/step - loss: 146.4976 - mse: 146.4976 - val_loss: 28.6396 - val_mse: 28.6396\n",
            "Epoch 2/6\n",
            "9120/9120 [==============================] - 22s 2ms/step - loss: 28.7775 - mse: 28.7775 - val_loss: 28.6363 - val_mse: 28.6363\n",
            "Epoch 3/6\n",
            "9120/9120 [==============================] - 22s 2ms/step - loss: 28.7596 - mse: 28.7596 - val_loss: 28.6545 - val_mse: 28.6545\n",
            "Epoch 4/6\n",
            "9120/9120 [==============================] - 22s 2ms/step - loss: 28.7502 - mse: 28.7502 - val_loss: 28.6286 - val_mse: 28.6286\n",
            "Epoch 5/6\n",
            "9120/9120 [==============================] - 24s 3ms/step - loss: 28.7438 - mse: 28.7438 - val_loss: 28.6210 - val_mse: 28.6210\n",
            "Epoch 6/6\n",
            "9120/9120 [==============================] - 24s 3ms/step - loss: 28.7386 - mse: 28.7386 - val_loss: 28.6157 - val_mse: 28.6157\n",
            "4560/4560 [==============================] - 6s 1ms/step\n",
            "\n",
            "------[build_model]------\n",
            "[p_input_shape]:  43\n",
            "[p_n_hidden]:  2\n",
            "[p_n_neurons]:  52\n",
            "[p_learning_rate]:  0.0016167732147739742\n",
            "---build_model, for layer in range(p_n_hidden)---\n",
            "[p_n_neurons]:  52\n",
            "---build_model, for layer in range(p_n_hidden)---\n",
            "[p_n_neurons]:  7\n",
            "Epoch 1/6\n"
          ]
        },
        {
          "output_type": "stream",
          "name": "stderr",
          "text": [
            "/usr/local/lib/python3.10/dist-packages/keras/optimizers/legacy/gradient_descent.py:114: UserWarning: The `lr` argument is deprecated, use `learning_rate` instead.\n",
            "  super().__init__(name, **kwargs)\n"
          ]
        },
        {
          "output_type": "stream",
          "name": "stdout",
          "text": [
            "9120/9120 [==============================] - 25s 3ms/step - loss: 146.5120 - mse: 146.5120 - val_loss: 28.6220 - val_mse: 28.6220\n",
            "Epoch 2/6\n",
            "9120/9120 [==============================] - 24s 3ms/step - loss: 28.7913 - mse: 28.7913 - val_loss: 28.6390 - val_mse: 28.6390\n",
            "Epoch 3/6\n",
            "9120/9120 [==============================] - 24s 3ms/step - loss: 28.7707 - mse: 28.7707 - val_loss: 28.6332 - val_mse: 28.6332\n",
            "Epoch 4/6\n",
            "9120/9120 [==============================] - 23s 2ms/step - loss: 28.7651 - mse: 28.7651 - val_loss: 28.6267 - val_mse: 28.6267\n",
            "4560/4560 [==============================] - 7s 2ms/step\n",
            "\n",
            "------[build_model]------\n",
            "[p_input_shape]:  43\n",
            "[p_n_hidden]:  2\n",
            "[p_n_neurons]:  52\n",
            "[p_learning_rate]:  0.0016167732147739742\n",
            "---build_model, for layer in range(p_n_hidden)---\n",
            "[p_n_neurons]:  52\n",
            "---build_model, for layer in range(p_n_hidden)---\n",
            "[p_n_neurons]:  7\n",
            "Epoch 1/6\n"
          ]
        },
        {
          "output_type": "stream",
          "name": "stderr",
          "text": [
            "/usr/local/lib/python3.10/dist-packages/keras/optimizers/legacy/gradient_descent.py:114: UserWarning: The `lr` argument is deprecated, use `learning_rate` instead.\n",
            "  super().__init__(name, **kwargs)\n"
          ]
        },
        {
          "output_type": "stream",
          "name": "stdout",
          "text": [
            "9120/9120 [==============================] - 25s 3ms/step - loss: 146.5806 - mse: 146.5806 - val_loss: 28.6356 - val_mse: 28.6356\n",
            "Epoch 2/6\n",
            "9120/9120 [==============================] - 23s 3ms/step - loss: 28.8645 - mse: 28.8645 - val_loss: 28.6362 - val_mse: 28.6362\n",
            "Epoch 3/6\n",
            "9120/9120 [==============================] - 24s 3ms/step - loss: 28.8422 - mse: 28.8422 - val_loss: 28.6643 - val_mse: 28.6643\n",
            "Epoch 4/6\n",
            "9120/9120 [==============================] - 23s 3ms/step - loss: 28.8296 - mse: 28.8296 - val_loss: 28.6625 - val_mse: 28.6625\n",
            "4560/4560 [==============================] - 6s 1ms/step\n",
            "\n",
            "------[build_model]------\n",
            "[p_input_shape]:  43\n",
            "[p_n_hidden]:  2\n",
            "[p_n_neurons]:  63\n",
            "[p_learning_rate]:  0.0017264735226600796\n",
            "---build_model, for layer in range(p_n_hidden)---\n",
            "[p_n_neurons]:  63\n",
            "---build_model, for layer in range(p_n_hidden)---\n",
            "[p_n_neurons]:  7\n"
          ]
        },
        {
          "output_type": "stream",
          "name": "stderr",
          "text": [
            "/usr/local/lib/python3.10/dist-packages/keras/optimizers/legacy/gradient_descent.py:114: UserWarning: The `lr` argument is deprecated, use `learning_rate` instead.\n",
            "  super().__init__(name, **kwargs)\n"
          ]
        },
        {
          "output_type": "stream",
          "name": "stdout",
          "text": [
            "Epoch 1/6\n",
            "13680/13680 [==============================] - 34s 2ms/step - loss: 102.3442 - mse: 102.3442 - val_loss: 28.6371 - val_mse: 28.6371\n",
            "Epoch 2/6\n",
            "13680/13680 [==============================] - 33s 2ms/step - loss: 28.7952 - mse: 28.7952 - val_loss: 28.6390 - val_mse: 28.6390\n",
            "Epoch 3/6\n",
            "13680/13680 [==============================] - 31s 2ms/step - loss: 28.7828 - mse: 28.7828 - val_loss: 28.6366 - val_mse: 28.6366\n",
            "Epoch 4/6\n",
            "13680/13680 [==============================] - 33s 2ms/step - loss: 28.7727 - mse: 28.7727 - val_loss: 28.6416 - val_mse: 28.6416\n",
            "Epoch 5/6\n",
            "13680/13680 [==============================] - 33s 2ms/step - loss: 28.7673 - mse: 28.7673 - val_loss: 28.6327 - val_mse: 28.6327\n",
            "Epoch 6/6\n",
            "13680/13680 [==============================] - 32s 2ms/step - loss: 28.7586 - mse: 28.7586 - val_loss: 28.6425 - val_mse: 28.6425\n",
            "================================\n",
            "-- Best Model Summary --\n",
            "Model: \"sequential_72\"\n",
            "_________________________________________________________________\n",
            " Layer (type)                Output Shape              Param #   \n",
            "=================================================================\n",
            " dense_238 (Dense)           (None, 63)                2772      \n",
            "                                                                 \n",
            " batch_normalization_159 (Ba  (None, 63)               252       \n",
            " tchNormalization)                                               \n",
            "                                                                 \n",
            " dropout_99 (Dropout)        (None, 63)                0         \n",
            "                                                                 \n",
            " dense_239 (Dense)           (None, 7)                 448       \n",
            "                                                                 \n",
            " batch_normalization_160 (Ba  (None, 7)                28        \n",
            " tchNormalization)                                               \n",
            "                                                                 \n",
            " dropout_100 (Dropout)       (None, 7)                 0         \n",
            "                                                                 \n",
            " dropout_101 (Dropout)       (None, 7)                 0         \n",
            "                                                                 \n",
            " dense_240 (Dense)           (None, 1)                 8         \n",
            "                                                                 \n",
            "=================================================================\n",
            "Total params: 3,508\n",
            "Trainable params: 3,368\n",
            "Non-trainable params: 140\n",
            "_________________________________________________________________\n",
            "-- Best params --\n",
            "{'p_learning_rate': 0.0017264735226600796, 'p_n_hidden': 2, 'p_n_neurons': 63}\n",
            "-- Best score --\n",
            "-28.742280137173946\n"
          ]
        }
      ]
    },
    {
      "cell_type": "code",
      "source": [
        "def plot_graph_3(histories):\n",
        "    # Iterate over each history and plot metrics\n",
        "    for history in histories:\n",
        "        plt.figure(figsize=(10, 6))\n",
        "\n",
        "        # Plot loss\n",
        "        plt.subplot(1, 2, 1)\n",
        "        plt.plot(history['loss'])\n",
        "        plt.plot(history['val_loss'])\n",
        "        plt.legend(['train loss', 'test loss'], loc='upper right')\n",
        "        plt.title('Loss')\n",
        "        plt.ylabel('Loss')\n",
        "        plt.xlabel('Epoch')\n",
        "\n",
        "        # Plot accuracy (if available)\n",
        "        if 'mae' in history:\n",
        "            plt.subplot(1, 2, 2)\n",
        "            plt.plot(history['mae'])\n",
        "            plt.plot(history['val_mae'])\n",
        "            plt.legend(['train mae', 'test mae'], loc='upper right')\n",
        "            plt.title('MAE')\n",
        "            plt.ylabel('MAE')\n",
        "            plt.xlabel('Epoch')\n",
        "\n",
        "\n",
        "        if 'accuracy' in history:\n",
        "            plt.subplot(1, 2, 2)\n",
        "            plt.plot(history['accuracy'])\n",
        "            plt.plot(history['val_accuracy'])\n",
        "            plt.legend(['train accuracy', 'test accuracy'], loc='upper right')\n",
        "            plt.title('Accuracy')\n",
        "            plt.ylabel('Accuracy')\n",
        "            plt.xlabel('Epoch')\n",
        "\n",
        "        plt.tight_layout()\n",
        "        plt.show()\n",
        "\n",
        "\n"
      ],
      "metadata": {
        "id": "4qOqBpT3ICbb"
      },
      "execution_count": null,
      "outputs": []
    },
    {
      "cell_type": "code",
      "source": [
        "# Train the best model with all available data\n",
        "best_model.fit(X_train, y_train, epochs=30, validation_data=(X_valid, y_valid), callbacks=[checkpoint_cb, early_stopping_cb])\n",
        "\n",
        "# Get the history of the best model\n",
        "best_model_history = best_model.history.history\n",
        "\n",
        "# Plot the metrics of the best model\n",
        "plot_graph_3([best_model_history])"
      ],
      "metadata": {
        "colab": {
          "base_uri": "https://localhost:8080/",
          "height": 889
        },
        "id": "8VIuuJ7bOFgr",
        "outputId": "5e29d88c-3b06-45ca-9a4b-1255b84d7047"
      },
      "execution_count": null,
      "outputs": [
        {
          "output_type": "stream",
          "name": "stdout",
          "text": [
            "Epoch 1/30\n",
            "40/40 [==============================] - 0s 4ms/step - loss: nan - mae: nan - accuracy: 0.0000e+00 - val_loss: nan - val_mae: nan - val_accuracy: 0.0000e+00\n",
            "Epoch 2/30\n",
            "40/40 [==============================] - 0s 3ms/step - loss: nan - mae: nan - accuracy: 0.0000e+00 - val_loss: nan - val_mae: nan - val_accuracy: 0.0000e+00\n",
            "Epoch 3/30\n",
            "40/40 [==============================] - 0s 3ms/step - loss: nan - mae: nan - accuracy: 0.0000e+00 - val_loss: nan - val_mae: nan - val_accuracy: 0.0000e+00\n",
            "Epoch 4/30\n",
            "40/40 [==============================] - 0s 3ms/step - loss: nan - mae: nan - accuracy: 0.0000e+00 - val_loss: nan - val_mae: nan - val_accuracy: 0.0000e+00\n",
            "Epoch 5/30\n",
            "40/40 [==============================] - 0s 3ms/step - loss: nan - mae: nan - accuracy: 0.0000e+00 - val_loss: nan - val_mae: nan - val_accuracy: 0.0000e+00\n",
            "Epoch 6/30\n",
            "40/40 [==============================] - 0s 3ms/step - loss: nan - mae: nan - accuracy: 0.0000e+00 - val_loss: nan - val_mae: nan - val_accuracy: 0.0000e+00\n",
            "Epoch 7/30\n",
            "40/40 [==============================] - 0s 3ms/step - loss: nan - mae: nan - accuracy: 0.0000e+00 - val_loss: nan - val_mae: nan - val_accuracy: 0.0000e+00\n",
            "Epoch 8/30\n",
            "40/40 [==============================] - 0s 4ms/step - loss: nan - mae: nan - accuracy: 0.0000e+00 - val_loss: nan - val_mae: nan - val_accuracy: 0.0000e+00\n",
            "Epoch 9/30\n",
            "40/40 [==============================] - 0s 4ms/step - loss: nan - mae: nan - accuracy: 0.0000e+00 - val_loss: nan - val_mae: nan - val_accuracy: 0.0000e+00\n",
            "Epoch 10/30\n",
            "40/40 [==============================] - 0s 6ms/step - loss: nan - mae: nan - accuracy: 0.0000e+00 - val_loss: nan - val_mae: nan - val_accuracy: 0.0000e+00\n"
          ]
        },
        {
          "output_type": "display_data",
          "data": {
            "text/plain": [
              "<Figure size 1000x600 with 2 Axes>"
            ],
            "image/png": "[encoded data removed]"
          },
          "metadata": {}
        }
      ]
    },
    {
      "cell_type": "code",
      "source": [
        "type(best_model_history)\n",
        "for key in (best_model_history):\n",
        "  print('[key]: ', key)\n",
        "\n"
      ],
      "metadata": {
        "colab": {
          "base_uri": "https://localhost:8080/"
        },
        "id": "titrxPmHEZlV",
        "outputId": "94864260-f306-4cd2-80d0-bea1492d9e50"
      },
      "execution_count": null,
      "outputs": [
        {
          "output_type": "stream",
          "name": "stdout",
          "text": [
            "[key]:  loss\n",
            "[key]:  val_loss\n"
          ]
        }
      ]
    }
  ]
}